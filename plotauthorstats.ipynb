{
 "cells": [
  {
   "cell_type": "code",
   "execution_count": 1,
   "metadata": {},
   "outputs": [],
   "source": [
    "import numpy as np\n",
    "import matplotlib.pyplot as plt\n",
    "import pickle\n",
    "from collections import defaultdict"
   ]
  },
  {
   "cell_type": "code",
   "execution_count": 2,
   "metadata": {},
   "outputs": [],
   "source": [
    "data_dir = \"./ICLR data/masterdata_unbalanced/\"\n",
    "data_files = [\"paper_decision_dict_{}.pkl\", \"papers_{}.pkl\"]\n",
    "years = [2017, 2018, 2019, 2020]"
   ]
  },
  {
   "cell_type": "code",
   "execution_count": 7,
   "metadata": {},
   "outputs": [
    {
     "name": "stdout",
     "output_type": "stream",
     "text": [
      "paper_decision_dict_2017.pkl\n"
     ]
    }
   ],
   "source": [
    "x = \"paper_decision_dict_{}.pkl\".format(2017)\n",
    "print(x)"
   ]
  },
  {
   "cell_type": "code",
   "execution_count": 3,
   "metadata": {},
   "outputs": [],
   "source": [
    "author_count_dict = {}\n",
    "authors = {}\n",
    "\n",
    "dec_dict = defaultdict(int)\n",
    "\n",
    "for y in years:\n",
    "    decision_file = data_files[0].format(y)\n",
    "    paper_file = data_files[1].format(y)\n",
    "    \n",
    "    with open(data_dir+decision_file, \"rb\") as f:\n",
    "        decisions_data = pickle.load(f)\n",
    "#     with open(data_dir+paper_file, \"rb\") as f:\n",
    "#         papers_data = pickle.load(f)\n",
    "    \n",
    "    for k,v in decisions_data.items():\n",
    "        if \"decision\" in decisions_data[k]:\n",
    "            if \"decision\" in decisions_data[k][\"decision\"][\"content\"]:\n",
    "                dec = decisions_data[k][\"decision\"][\"content\"][\"decision\"].lower()\n",
    "            else:\n",
    "                dec = decisions_data[k][\"decision\"][\"content\"][\"recommendation\"].lower()\n",
    "        else:\n",
    "            dec = decisions_data[k][\"content\"][\"decision\"].lower()\n",
    "        \n",
    "        dec_dict[dec]+=1"
   ]
  },
  {
   "cell_type": "code",
   "execution_count": 4,
   "metadata": {},
   "outputs": [
    {
     "name": "stdout",
     "output_type": "stream",
     "text": [
      "6\n"
     ]
    }
   ],
   "source": [
    "print(len(dec_dict))"
   ]
  },
  {
   "cell_type": "code",
   "execution_count": 5,
   "metadata": {},
   "outputs": [
    {
     "name": "stdout",
     "output_type": "stream",
     "text": [
      "defaultdict(<class 'int'>, {'invite to workshop track': 137, 'accept (talk)': 48, 'accept (poster)': 1507, 'accept (oral)': 62, 'accept (spotlight)': 107, 'reject': 3196})\n"
     ]
    }
   ],
   "source": [
    "print(dec_dict)"
   ]
  },
  {
   "cell_type": "code",
   "execution_count": 6,
   "metadata": {},
   "outputs": [
    {
     "data": {
      "text/plain": [
       "1724"
      ]
     },
     "execution_count": 6,
     "metadata": {},
     "output_type": "execute_result"
    }
   ],
   "source": []
  },
  {
   "cell_type": "code",
   "execution_count": 7,
   "metadata": {},
   "outputs": [
    {
     "data": {
      "text/plain": [
       "1723"
      ]
     },
     "execution_count": 7,
     "metadata": {},
     "output_type": "execute_result"
    }
   ],
   "source": []
  },
  {
   "cell_type": "code",
   "execution_count": null,
   "metadata": {},
   "outputs": [],
   "source": []
  }
 ],
 "metadata": {
  "kernelspec": {
   "display_name": "Python 3",
   "language": "python",
   "name": "python3"
  },
  "language_info": {
   "codemirror_mode": {
    "name": "ipython",
    "version": 3
   },
   "file_extension": ".py",
   "mimetype": "text/x-python",
   "name": "python",
   "nbconvert_exporter": "python",
   "pygments_lexer": "ipython3",
   "version": "3.5.2"
  }
 },
 "nbformat": 4,
 "nbformat_minor": 2
}
