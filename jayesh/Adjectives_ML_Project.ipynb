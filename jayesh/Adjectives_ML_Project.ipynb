{
  "nbformat": 4,
  "nbformat_minor": 0,
  "metadata": {
    "colab": {
      "name": "Adjectives_ML Project.ipynb",
      "provenance": [],
      "collapsed_sections": []
    },
    "kernelspec": {
      "name": "python3",
      "display_name": "Python 3"
    }
  },
  "cells": [
    {
      "cell_type": "code",
      "metadata": {
        "id": "etBy8OBDs0kX",
        "colab_type": "code",
        "colab": {}
      },
      "source": [
        "from google.colab import drive\n",
        "drive.mount('/content/drive')"
      ],
      "execution_count": 0,
      "outputs": []
    },
    {
      "cell_type": "code",
      "metadata": {
        "id": "sH6DQHmotAVD",
        "colab_type": "code",
        "outputId": "db697daf-1f24-4130-805d-d4673fb1a98b",
        "colab": {
          "base_uri": "https://localhost:8080/",
          "height": 34
        }
      },
      "source": [
        "cd /content/drive/My Drive"
      ],
      "execution_count": 0,
      "outputs": [
        {
          "output_type": "stream",
          "text": [
            "/content/drive/My Drive\n"
          ],
          "name": "stdout"
        }
      ]
    },
    {
      "cell_type": "code",
      "metadata": {
        "id": "sYX8ckCMtH1e",
        "colab_type": "code",
        "colab": {}
      },
      "source": [
        "ls"
      ],
      "execution_count": 0,
      "outputs": []
    },
    {
      "cell_type": "code",
      "metadata": {
        "id": "i3CED1UPtJaS",
        "colab_type": "code",
        "colab": {}
      },
      "source": [
        "import pandas as pd\n",
        "papers_2017 = pd.read_pickle(\"/content/drive/My Drive/ICLR_master_data_balanced/papers_2017_balanced.pickle\")\n",
        "papers_2018 = pd.read_pickle(\"/content/drive/My Drive/ICLR_master_data_balanced/papers_2018_balanced.pickle\")\n",
        "papers_2019 = pd.read_pickle(\"/content/drive/My Drive/ICLR_master_data_balanced/papers_2019_balanced.pickle\")\n",
        "papers_2020 = pd.read_pickle(\"/content/drive/My Drive/ICLR_master_data_balanced/papers_2020_balanced.pickle\")"
      ],
      "execution_count": 0,
      "outputs": []
    },
    {
      "cell_type": "code",
      "metadata": {
        "id": "KIaLe682vjEV",
        "colab_type": "code",
        "outputId": "797ad888-dc80-4c1f-b2a4-8e17e1c3a6f2",
        "colab": {
          "base_uri": "https://localhost:8080/",
          "height": 54
        }
      },
      "source": [
        "papers_2017.keys()"
      ],
      "execution_count": 0,
      "outputs": [
        {
          "output_type": "execute_result",
          "data": {
            "text/plain": [
              "dict_keys(['HJWHIKqgl', 'SyK00v5xx', 'Hkg4TI9xl', 'Hk1iOLcle', 'H178hw9ex', 'S1TER2oll', 'B1Igu2ogg', 'r1X3g2_xl', 'r1Ue8Hcxg', 'rkEFLFqee', 'H1acq85gx', 'Sy2fzU9gl', 'HJGwcKclx', 'HkljfjFee', 'B1oK8aoxe', 'B1kJ6H9ex', 'B1s6xvqlx', 'Hk8N3Sclg', 'S1jmAotxg', 'HkNRsU5ge', 'BJtNZAFgg', 'r1YNw6sxg', 'S1Bb3D5gg', 'HJ0NvFzxl', 'SJkXfE5xx', 'r1G4z8cge', 'Hkg8bDqee', 'HJjiFK5gx', 'Skn9Shcxe', 'r1rhWnZkg', 'B1-q5Pqxl', 'Sk2Im59ex', 'r1aPbsFle', 'BkbY4psgg', 'Byk-VI9eg', 'rk9eAFcxg', 'H1VyHY9gg', 'Hy6b4Pqee', 'S1di0sfgl', 'rJ8Je4clg', 'ryh9pmcee', 'rk5upnsxe', 'rkE8pVcle', 'B16dGcqlx', 'S1jE5L5gl', 'SJGCiw5gl', 'BkLhzHtlg', 'ryHlUtqge', 'B1YfAfcgl', 'HkYhZDqxg', 'Bkab5dqxe', 'Sy6iJDqlx', 'HkEI22jeg', 'HJ1kmv9xx', 'ry4Vrt5gl', 'BysvGP5ee', 'S1X7nhsxl', 'SJJKxrsgl', 'B1hdzd5lg', 'ByxpMd9lx', 'HJ0UKP9ge', 'B1MRcPclx', 'Hku9NK5lx', 'r10FA8Kxg', 'HJGODLqgx', 'Byiy-Pqlx', 'BJhZeLsxx', 'rJTKKKqeg', 'Hk3mPK5gg', 'Hk95PK9le', 'S11KBYclx', 'H1W1UN9gg', 'rJqFGTslg', 'Skq89Scxx', 'ry_sjFqgx', 'Hyq4yhile', 'B1M8JF9xx', 'HyAbMKwxe', 'Bk0FWVcgx', 'H1zJ-v5xl', 'Byj72udxe', 'BJAFbaolg', 'SyWvgP5el', 'rJQKYt5ll', 'r1nTpv9eg', 'SJ25-B5eg', 'Skvgqgqxe', 'HkwoSDPgg', 'Sk-oDY9ge', 'BybtVK9lg', 'HyTqHL5xg', 'SkpSlKIel', 'SJ6yPD5xg', 'ryT4pvqll', 'HJKkY35le', 'SJDaqqveg', 'By5e2L9gl', 'rJxdQ3jeg', 'BJYwwY9ll', 'rkFBJv9gg', 'ByldLrqlx', 'HJTzHtqee', 'SJvYgH9xe', 'BydARw9ex', 'B1GOWV5eg', 'rJxDkvqee', 'rJ0JwFcex', 'SJTQLdqlg', 'ryMxXPFex', 'SJGPL9Dex', 'rJ0-tY5xe', 'S1LVSrcge', 'H1fl8S9ee', 'r1VGvBcxl', 'Hk8TGSKlg', 'ry2YOrcge', 'S1oWlN9ll', 'ry18Ww5ee', 'BJK3Xasel', 'B184E5qee', 'r1LXit5ee', 'rJiNwv9gg', 'BJ6oOfqge', 'rJY0-Kcll', 'HJDBUF5le', 'rJPcZ3txx', 'HyY4Owjll', 'B1ewdt9xe', 'B1ckMDqlg', 'SJ3rcZcxl', 'r1VdcHcxx', 'BkVsEMYel', 'HyQJ-mclg', 'SJUdkecgx', 'HyoST_9xl', 'rJbbOLcex', 'BJ3filKll', 'H12GRgcxg', 'SkxKPDv5xl', 'S1VaB4cex', 'rJ8uNptgl', 'Sy8gdB9xx', 'ryelgY5eg', 'Bk8BvDqex', 'r1fYuytex', 'SyxeqhP9ll', 'S1c2cvqee', 'rkE3y85ee', 'BJKYvt5lg', 'B1gtu5ilg', 'HyM25Mqel', 'SkkTMpjex', 'SJMGPrcle', 'r1rz6U5lg', 'S1_pAu9xl', 'ByqiJIqxg', 'HyxQzBceg', 'BylSPv9gx', 'HkNKFiGex', 'SJU4ayYgl', 'ryrGawqex', 'S1dIzvclg', 'B1ElR4cgg', 'S1RP6GLle', 'BJC_jUqxe', 'HJpfMIFll', 'SJzCSf9xg', 'ByIAPUcee', 'BymIbLKgl', 'SkhU2fcll', 'BydrOIcle', 'HkE0Nvqlg', 'rkpACe1lx', 'rkGabzZgl', 'rJeKjwvclx', 'BJ5UeU9xx', 'HkpbnH9lx', 'HJgXCV9xx', 'rJLS7qKel', 'r1Aab85gg', 'Sks9_ajex', 'SJRpRfKxx', 'rJqBEPcxe', 'BJm4T4Kgx', 'BJO-BuT1g', 'rJfMusFll', 'HyGTuv9eg', 'SyVVJ85lg', 'H1oyRlYgg', 'rJEgeXFex', 'SkYbF1slg', 'ByOvsIqeg', 'HJDdiT9gl', 'Bks8cPcxe', 'Sys6GJqxl', 'SkB-_mcel', 'ryhqQFKgl', 'BJrFC6ceg', 'SyQq185lg', 'ryuxYmvel', 'BJh6Ztuxl', 'SkBsEQYll', 'SkJeEtclx', 'ByW2Avqgg', 'SJqaCVLxx', 'Sywh5KYex', 'Bkfwyw5xg', 'rJY3vK9eg', 'Sy4tzwqxe', 'r1IRctqxg', 'rJbPBt9lg', 'SJAr0QFxe', 'r1BJLw9ex', 'Hy-lMNqex', 'B1E7Pwqgl', 'HkCjNI5ex', 'BJC8LF9ex', 'r1Usiwcex', 'rJM69B5xx', 'HJPmdP9le', 'BkJsCIcgl', 'ByQPVFull', 'B186cP9gx', 'ryjp1c9xg', 'H1eLE8qlx', 'HkuVu3ige', 'r1osyr_xg', 'Bkp_y7qxe', 'rksfwnFxl', 'Bk3F5Y9lx', 'rJJRDvcex', 'SJttqw5ge', 'ry3iBFqgl', 'HkvS3Mqxe', 'HyET6tYex', 'HJ1JBJ5gl', 'BJAA4wKxg', 'ByG8A7cee', 'BkmM8Dceg', 'BJbD_Pqlg', 'HJhcg6Fxg', 'HyecJGP5ge', 'rkaRFYcgl', 'B1mAJI9gl', 'H1MjAnqxg', 'rye9LT8cee', 'S1AG8zYeg', 'r1Chut9xl', 'ryCcJaqgl', 'ryaFG5ige', 'By1snw5gl', 'SJk01vogl', 'HJeqWztlg', 'ryEGFD9gl', 'SJ_QCYqle', 'HyEeMu_xx', 'HyCRyS9gx', 'ryh_8f9lg', 'HyWWpw5ex', 'r1aGWUqgg', 'B1IzH7cxl', 'HysBZSqlx', 'SJiFvr9el', 'BkdpaH9ll', 'SJx7Jrtgl', 'Sks3zF9eg', 'HyQWFOVge', 'HycUbvcge', 'HkIQH7qel', 'SkgewU5ll', 'ryXZmzNeg', 'Hk4_qw5xe', 'HJtN5K9gx', 'Syoiqwcxx', 'rkKCdAdgx', 'Hk1l9Xqxe', 'SkgSXUKxx', 'rJzaDdYxx', 'r1Bjj8qge', 'BkSqjHqxg', 'BJa0ECFxe', 'S1vyujVye', 'BJ46w6Ule', 'r1te3Fqel', 'SyOvg6jxx', 'HJV1zP5xg', 'r1kQkVFgl', 'ByToKu9ll', 'HyenWc5gx', 'SkCILwqex', 'H1GEvHcee', 'ByEPMj5el', 'ByvJuTigl', 'H1Go7Koex', 'BJlxmAKlg', 'r1PRvK9el', 'SJ-uGHcee', 'ryPx38qge', 'BkXMikqxx', 'r1kGbydxg', 'HkzuKpLgg', 'SyCSsUDee', 'BJjn-Yixl', 'r1tHvHKge', 'H1Gq5Q9el', 'BJuysoFeg', 'BJwFrvOeg', 'BkSmc8qll', 'HkcdHtqlx', 'rJq_YBqxx', 'rkjZ2Pcxe', 'rJRhzzKxl', 'B1TTpYKgx', 'Sk8csP5ex', 'SJBr9Mcxl', 'S13wCE9xx', 'Byx5BTilg', 'rJsiFTYex', 'BkjLkSqxg', 'SJJN38cge', 'SkwSJ99ex', 'HJ7O61Yxe', 'ByZvfijeg', 'rJe-Pr9le', 'Bk0MRI5lg', 'r1y1aawlg', 'HyFkG45gl', 'S1JG13oee', 'S19eAF9ee', 'B1ZXuTolx', 'HyAddcLge', 'B1KBHtcel', 'BJmCKBqgl', 'Bk67W4Yxl', 'H1Heentlx', 'ryAe2WBee', 'ryWKREqxx', 'Sy7m72Ogg', 'Hk8rlUqge', 'HkNEuToge', 'Syfkm6cgx', 'HJcLcw9xg', 'SJQNqLFgl', 'S1HcOI5le', 'r1yjkAtxe', 'B1akgy9xx', 'rJo9n9Feg', 'Sk8J83oee', 'HJrDIpiee', 'HkLXCE9lx', 'SygGlIBcel', 'BJ9fZNqle', 'rky3QW9le', 'BkIqod5ll', 'BJVEEF9lx', 'SypU81Ole', 'r1w7Jdqxl', 'rkuDV6iex', 'Bkepl7cee', 'ryQbbFile', 'B1PA8fqeg', 'SJIMPr9eg', 'SJgWQPcxl', 'B1-Hhnslg', 'SyW2QSige', 'HJSCGD9ex', 'SkyQWDcex', 'HkyYqU9lx', 'BkCPyXm1l', 'Sy1rwtKxg', 'Bk_zTU5eg', 'SkC_7v5gx', 'rkpdnIqlx', 'rJg_1L5gg', 'ByC7ww9le', 'HkSOlP9lg', 'ry54RWtxx', 'BkV4VS9ll', 'B1G9tvcgx', 'ryTYxh5ll', 'BJFG8Yqxl', 'HyWDCXjgx', 'SJZAb5cel', 'Bygq-H9eg', 'r1WUqIceg', 'ryF7rTqgl', 'Hk6a8N5xe', 'HksioDcxl', 'Hy3_KuYxg', 'rJJ3YU5ge', 'Hy8X3aKee', 'S1Jhfftgx', 'r1S083cgx', 'r17RD2oxe', 'BJ0Ee8cxx', 'ryxB0Rtxx'])"
            ]
          },
          "metadata": {
            "tags": []
          },
          "execution_count": 5
        }
      ]
    },
    {
      "cell_type": "code",
      "metadata": {
        "id": "vKkMXRnWvtOS",
        "colab_type": "code",
        "outputId": "865d8f10-b8f1-4a19-bde3-889f49ff5cb5",
        "colab": {
          "base_uri": "https://localhost:8080/",
          "height": 34
        }
      },
      "source": [
        "#papers_2019['SJzSgnRcKX']['OFF_REVIEW'][0]['content']['review']#.keys()\n",
        "#len(iclr_2019_dict)\n",
        "#papers_2019['SJzSgnRcKX']['OFF_REVIEW'][0]['content']['review']\n",
        "#papers_2020['HklFUlBKPB']['OFF_REVIEW'][1]['content']['rating'].split(':')[0]\n",
        "papers_2017['HJWHIKqgl']['OFF_REVIEW'][1]['content']['rating'].split(':')[0]"
      ],
      "execution_count": 0,
      "outputs": [
        {
          "output_type": "execute_result",
          "data": {
            "text/plain": [
              "'8'"
            ]
          },
          "metadata": {
            "tags": []
          },
          "execution_count": 7
        }
      ]
    },
    {
      "cell_type": "code",
      "metadata": {
        "id": "PniAwgMpR63w",
        "colab_type": "code",
        "colab": {}
      },
      "source": [
        "#len(papers_2019['SJzSgnRcKX']#['OFF_REVIEW'])"
      ],
      "execution_count": 0,
      "outputs": []
    },
    {
      "cell_type": "code",
      "metadata": {
        "id": "nifZwehXuBGd",
        "colab_type": "code",
        "colab": {}
      },
      "source": [
        "\"\"\"\n",
        "accepted_dict = {}\n",
        "rejected_dict = {}\n",
        "\n",
        "for i in papers_2019.keys():\n",
        "    for j in range(len(papers_2019[i]['OFF_REVIEW'])):\n",
        "        if(int(papers_2019[i]['OFF_REVIEW'][j]['content']['rating'].split(':')[0]) > 5):\n",
        "            accepted_dict[i] = papers_2019[i]\n",
        "        else:\n",
        "            rejected_dict[i] = papers_2019[i]\n",
        "\"\"\""
      ],
      "execution_count": 0,
      "outputs": []
    },
    {
      "cell_type": "code",
      "metadata": {
        "id": "vmD-kbRNUNfH",
        "colab_type": "code",
        "outputId": "bed5553e-50db-4b16-9496-b31ae4cbfabc",
        "colab": {
          "base_uri": "https://localhost:8080/",
          "height": 34
        }
      },
      "source": [
        "papers_2020.keys()\n",
        "papers_2020['HklFUlBKPB']['DECISIONS']['decision']['content']['decision']\n",
        "#papers_2019['SJzSgnRcKX']['DECISIONS']['decision']['content']['recommendation']\n",
        "#papers_2017['HJWHIKqgl']['DECISIONS']['content']['decision']\n",
        "#len(papers_2018)"
      ],
      "execution_count": 0,
      "outputs": [
        {
          "output_type": "execute_result",
          "data": {
            "text/plain": [
              "'Reject'"
            ]
          },
          "metadata": {
            "tags": []
          },
          "execution_count": 91
        }
      ]
    },
    {
      "cell_type": "code",
      "metadata": {
        "id": "bxCq_obzXVKs",
        "colab_type": "code",
        "outputId": "ebed6ac7-917c-4967-fa05-883a7dcf1d5d",
        "colab": {
          "base_uri": "https://localhost:8080/",
          "height": 54
        }
      },
      "source": [
        "papers_2018.keys()\n",
        "#papers_2018['Sk0pHeZAW']['DECISIONS']['content']['decision']\n",
        "papers_2018['Sk0pHeZAW']['content']['abstract']"
      ],
      "execution_count": 0,
      "outputs": [
        {
          "output_type": "execute_result",
          "data": {
            "text/plain": [
              "'Deep learning is becoming more widespread in its application due to its power in solving complex classification problems. However, deep learning models often require large memory and energy consumption, which may prevent them from being deployed effectively on embedded platforms, limiting their applications. This work addresses the problem by proposing methods {\\\\em Weight Reduction Quantisation} for compressing the memory footprint of the models, including reducing the number of weights and the number of bits to store each weight. Beside, applying with sparsity-inducing regularization, our work focuses on speeding up stochastic variance reduced gradients (SVRG) optimization on non-convex problem. Our method that mini-batch SVRG with $\\\\ell$1 regularization on non-convex problem has faster and smoother convergence rates than SGD by using adaptive learning rates. Experimental evaluation of our approach uses MNIST and CIFAR-10 datasets on LeNet-300-100 and LeNet-5 models, showing our approach can reduce the memory requirements both in the convolutional and fully connected layers by up to 60$\\\\times$ without affecting their test accuracy.'"
            ]
          },
          "metadata": {
            "tags": []
          },
          "execution_count": 136
        }
      ]
    },
    {
      "cell_type": "code",
      "metadata": {
        "id": "cXhssknFT7xZ",
        "colab_type": "code",
        "outputId": "954e090b-eb1d-40e2-c766-933e09afa8df",
        "colab": {
          "base_uri": "https://localhost:8080/",
          "height": 51
        }
      },
      "source": [
        "accepted_dict = {}\n",
        "rejected_dict = {}\n",
        "\n",
        "count = 0\n",
        "for i in papers_2020.keys():\n",
        "        count += 1\n",
        "        if(count % 500 == 0):\n",
        "            print(count)\n",
        "        if ('Accept' in papers_2020[i]['DECISIONS']['decision']['content']['decision']):\n",
        "            accepted_dict[i] = papers_2020[i]\n",
        "        else:\n",
        "            rejected_dict[i] = papers_2020[i] "
      ],
      "execution_count": 0,
      "outputs": [
        {
          "output_type": "stream",
          "text": [
            "500\n",
            "1000\n"
          ],
          "name": "stdout"
        }
      ]
    },
    {
      "cell_type": "code",
      "metadata": {
        "id": "J95Pl2GhwOzO",
        "colab_type": "code",
        "outputId": "b6f8c6e5-7266-485d-ca58-12225c656fe5",
        "colab": {
          "base_uri": "https://localhost:8080/",
          "height": 51
        }
      },
      "source": [
        "print(len(accepted_dict))\n",
        "print(len(rejected_dict))"
      ],
      "execution_count": 0,
      "outputs": [
        {
          "output_type": "stream",
          "text": [
            "687\n",
            "687\n"
          ],
          "name": "stdout"
        }
      ]
    },
    {
      "cell_type": "code",
      "metadata": {
        "id": "kgdXr6WD6hUu",
        "colab_type": "code",
        "outputId": "2971f98f-0f0d-4c9d-a558-623524913340",
        "colab": {
          "base_uri": "https://localhost:8080/",
          "height": 34
        }
      },
      "source": [
        "len(papers_2020)"
      ],
      "execution_count": 0,
      "outputs": [
        {
          "output_type": "execute_result",
          "data": {
            "text/plain": [
              "1374"
            ]
          },
          "metadata": {
            "tags": []
          },
          "execution_count": 116
        }
      ]
    },
    {
      "cell_type": "code",
      "metadata": {
        "id": "gPLquB1vTV6G",
        "colab_type": "code",
        "outputId": "597315b2-d8e9-4169-9a6f-21dee8f4ff10",
        "colab": {
          "base_uri": "https://localhost:8080/",
          "height": 54
        }
      },
      "source": [
        "#accepted_dict.keys()\n",
        "accepted_dict['rkgU1gHtvr']['content']['abstract']#.keys()#['OFF_REVIEW'][0]['content']['rating']\n",
        "#rejected_dict.keys()\n",
        "#rejected_dict['ry5wc1bCW']\n",
        "#del rejected_dict['ry5wc1bCW']"
      ],
      "execution_count": 0,
      "outputs": [
        {
          "output_type": "execute_result",
          "data": {
            "text/plain": [
              "'We consider off-policy policy evaluation when the trajectory data are generated by multiple behavior policies. Recent work has shown the key role played by the state or state-action stationary distribution corrections in the infinite horizon context for off-policy policy evaluation. We propose estimated mixture policy (EMP), a novel class of partially policy-agnostic methods to accurately estimate those quantities. With careful analysis, we show that EMP gives rise to estimates with reduced variance for estimating the state stationary distribution correction while it also offers a useful induction bias for estimating the state-action stationary distribution correction. In extensive experiments with both continuous and discrete environments, we demonstrate that our algorithm offers significantly improved accuracy compared to the state-of-the-art methods.'"
            ]
          },
          "metadata": {
            "tags": []
          },
          "execution_count": 112
        }
      ]
    },
    {
      "cell_type": "code",
      "metadata": {
        "id": "tmDoXqDvW6d0",
        "colab_type": "code",
        "colab": {}
      },
      "source": [
        "import spacy\n",
        "nlp = spacy.load(\"en_core_web_sm\")"
      ],
      "execution_count": 0,
      "outputs": []
    },
    {
      "cell_type": "markdown",
      "metadata": {
        "id": "of_s9jH7UFEz",
        "colab_type": "text"
      },
      "source": [
        "#Abstract Adjectives#"
      ]
    },
    {
      "cell_type": "code",
      "metadata": {
        "id": "jgtUtujOSCNU",
        "colab_type": "code",
        "colab": {}
      },
      "source": [
        "#papers_2019['SJzSgnRcKX']['OFF_REVIEW'][0]['content']['review']\n",
        "#papers_2018['Sk0pHeZAW']['OFF_REVIEW'][1]['content']['rating'].split(':')[0]\n",
        "adjectives = {}\n",
        "count = 0\n",
        "for i in papers_2017.keys():\n",
        "    doc = nlp(papers_2017[i]['content']['abstract'])\n",
        "    count += 1\n",
        "    if(count % 500 == 0):\n",
        "        print(count)\n",
        "    for tok in doc:\n",
        "        if tok.pos_ == \"ADJ\":\n",
        "            if tok.lemma_.strip() in adjectives:\n",
        "                if('Accept' in papers_2017[i]['DECISIONS']['content']['decision']):\n",
        "                    adjectives[tok.lemma_.strip()][0] += 1\n",
        "                else:\n",
        "                    adjectives[tok.lemma_.strip()][1] += 1\n",
        "            else:\n",
        "                if('Accept' in papers_2017[i]['DECISIONS']['content']['decision']):\n",
        "                    adjectives[tok.lemma_.strip()] = [1, 0]\n",
        "                else:\n",
        "                    adjectives[tok.lemma_.strip()] = [0, 1]"
      ],
      "execution_count": 0,
      "outputs": []
    },
    {
      "cell_type": "code",
      "metadata": {
        "id": "SYOmRddyVtTW",
        "colab_type": "code",
        "colab": {}
      },
      "source": [
        "import pickle\n",
        "\n",
        "pickle_out = open(\"ICLR_Abstract_Adj_2017.pickle\",\"wb\")\n",
        "pickle.dump(adjectives, pickle_out)\n",
        "pickle_out.close()"
      ],
      "execution_count": 0,
      "outputs": []
    },
    {
      "cell_type": "code",
      "metadata": {
        "id": "HdRL3YiYV6FL",
        "colab_type": "code",
        "colab": {}
      },
      "source": [
        "abs_2019 = pd.read_pickle(\"/content/drive/My Drive/ICLR_Abstract_Adj_2017.pickle\")"
      ],
      "execution_count": 0,
      "outputs": []
    },
    {
      "cell_type": "code",
      "metadata": {
        "id": "Apju4OMDVbQr",
        "colab_type": "code",
        "outputId": "8afef4ac-037b-48b7-bc56-22b76cf812b5",
        "colab": {
          "base_uri": "https://localhost:8080/",
          "height": 34
        }
      },
      "source": [
        "len(abs_2019)\n",
        "#len(adjectives)"
      ],
      "execution_count": 0,
      "outputs": [
        {
          "output_type": "execute_result",
          "data": {
            "text/plain": [
              "1016"
            ]
          },
          "metadata": {
            "tags": []
          },
          "execution_count": 148
        }
      ]
    },
    {
      "cell_type": "code",
      "metadata": {
        "id": "8_yP8MWGuxEb",
        "colab_type": "code",
        "outputId": "064d27b9-23de-415a-f1e9-c23c68886fd9",
        "colab": {
          "base_uri": "https://localhost:8080/",
          "height": 34
        }
      },
      "source": [
        "#papers_2019['SJzSgnRcKX']['OFF_REVIEW'][0]['content']['review']\n",
        "#papers_2018['Sk0pHeZAW']['OFF_REVIEW'][1]['content']['rating'].split(':')[0]\n",
        "adjectives = {}\n",
        "count = 0\n",
        "for i in accepted_dict.keys():\n",
        "    for j in range(len(accepted_dict[i]['OFF_REVIEW'])):\n",
        "        doc = nlp(accepted_dict[i]['OFF_REVIEW'][j]['content']['review'])\n",
        "        count += 1\n",
        "        if(count % 500 == 0):\n",
        "            print(count)\n",
        "        for tok in doc:\n",
        "            if tok.pos_ == \"ADJ\":\n",
        "                if tok.lemma_.strip() in adjectives:\n",
        "                    if(int(accepted_dict[i]['OFF_REVIEW'][j]['content']['rating'].split(':')[0]) < 5):\n",
        "                        adjectives[tok.lemma_.strip()][1] += 1\n",
        "                    else:\n",
        "                        adjectives[tok.lemma_.strip()][0] += 1\n",
        "                else:\n",
        "                    if(int(accepted_dict[i]['OFF_REVIEW'][j]['content']['rating'].split(':')[0]) < 5):\n",
        "                        adjectives[tok.lemma_.strip()] = [0, 1]\n",
        "                    else:\n",
        "                        adjectives[tok.lemma_.strip()] = [1, 0]"
      ],
      "execution_count": 0,
      "outputs": [
        {
          "output_type": "stream",
          "text": [
            "500\n"
          ],
          "name": "stdout"
        }
      ]
    },
    {
      "cell_type": "code",
      "metadata": {
        "id": "MVi8MIxkXqgt",
        "colab_type": "code",
        "outputId": "a72cb300-dfa3-44cc-92ed-c6081a6358b0",
        "colab": {
          "base_uri": "https://localhost:8080/",
          "height": 34
        }
      },
      "source": [
        "#papers_2019['SJzSgnRcKX']['OFF_REVIEW'][0]['content']['review']\n",
        "#adjectives = {}\n",
        "count = 0\n",
        "for i in rejected_dict.keys():\n",
        "    for j in range(len(rejected_dict[i]['OFF_REVIEW'])):\n",
        "        doc = nlp(rejected_dict[i]['OFF_REVIEW'][j]['content']['review'])\n",
        "        count += 1\n",
        "        if(count % 500 == 0):\n",
        "            print(count)\n",
        "        for tok in doc:\n",
        "            if tok.pos_ == \"ADJ\":\n",
        "                if tok.lemma_.strip() in adjectives:\n",
        "                    if(int(rejected_dict[i]['OFF_REVIEW'][j]['content']['rating'].split(':')[0]) < 5):\n",
        "                        adjectives[tok.lemma_.strip()][1] += 1\n",
        "                    else:\n",
        "                        adjectives[tok.lemma_.strip()][0] += 1\n",
        "                else:\n",
        "                    if(int(rejected_dict[i]['OFF_REVIEW'][j]['content']['rating'].split(':')[0]) < 5):\n",
        "                        adjectives[tok.lemma_.strip()] = [0, 1]\n",
        "                    else:\n",
        "                        adjectives[tok.lemma_.strip()] = [1, 0]"
      ],
      "execution_count": 0,
      "outputs": [
        {
          "output_type": "stream",
          "text": [
            "500\n"
          ],
          "name": "stdout"
        }
      ]
    },
    {
      "cell_type": "code",
      "metadata": {
        "id": "8PueCjYHkQJ0",
        "colab_type": "code",
        "colab": {}
      },
      "source": [
        "for i in rejected_dict.keys():\n",
        "    if('OFF_REVIEW' not in rejected_dict[i].keys()):\n",
        "            print(i)\n",
        "    #for j in range(len(rejected_dict[i]['OFF_REVIEW'])):"
      ],
      "execution_count": 0,
      "outputs": []
    },
    {
      "cell_type": "code",
      "metadata": {
        "id": "eYIg_6_4XfDq",
        "colab_type": "code",
        "outputId": "448286d8-c1ba-4b36-b3e8-0aba9d7a1394",
        "colab": {
          "base_uri": "https://localhost:8080/",
          "height": 34
        }
      },
      "source": [
        "len(adjectives)"
      ],
      "execution_count": 0,
      "outputs": [
        {
          "output_type": "execute_result",
          "data": {
            "text/plain": [
              "2012"
            ]
          },
          "metadata": {
            "tags": []
          },
          "execution_count": 17
        }
      ]
    },
    {
      "cell_type": "code",
      "metadata": {
        "id": "UPMHY5KTXfB1",
        "colab_type": "code",
        "outputId": "a86e26fc-4fc7-45cd-b99a-f7aad736c5a2",
        "colab": {
          "base_uri": "https://localhost:8080/",
          "height": 1000
        }
      },
      "source": [
        "adjectives"
      ],
      "execution_count": 0,
      "outputs": [
        {
          "output_type": "execute_result",
          "data": {
            "text/plain": [
              "{'interesting': [754, 173],\n",
              " 'generative': [171, 15],\n",
              " 'efficient': [67, 15],\n",
              " 'empirical': [145, 41],\n",
              " 'clear': [473, 146],\n",
              " 'comprehensive': [14, 5],\n",
              " 'other': [566, 166],\n",
              " 'primary': [17, 2],\n",
              " 'first': [185, 52],\n",
              " 'theoretical': [130, 28],\n",
              " 'applicable': [40, 8],\n",
              " 'previous': [190, 71],\n",
              " 'big': [67, 14],\n",
              " 'quadratic': [8, 0],\n",
              " 'complex': [79, 24],\n",
              " 'high': [218, 65],\n",
              " 'dimensional': [58, 16],\n",
              " 'neural': [385, 141],\n",
              " 'more': [419, 119],\n",
              " 'advanced': [4, 2],\n",
              " 'computational': [97, 15],\n",
              " 'conceptual': [13, 4],\n",
              " 'modest': [11, 0],\n",
              " 'good': [511, 126],\n",
              " 'practical': [81, 21],\n",
              " 'possible': [120, 35],\n",
              " 'realistic': [28, 8],\n",
              " 'non': [172, 52],\n",
              " '-': [490, 141],\n",
              " 'binarized': [1, 0],\n",
              " 'sure': [96, 36],\n",
              " 'sound': [31, 5],\n",
              " 'probabilistic': [44, 5],\n",
              " 'weighted': [19, 2],\n",
              " 'strong': [167, 51],\n",
              " 'sad': [1, 0],\n",
              " 'large': [292, 82],\n",
              " 'second': [97, 35],\n",
              " 'last': [97, 25],\n",
              " 'minor': [141, 39],\n",
              " 'simple': [331, 108],\n",
              " 'new': [371, 90],\n",
              " 'technical': [56, 26],\n",
              " 'confusing': [51, 18],\n",
              " 'frequent': [5, 5],\n",
              " 'same': [284, 80],\n",
              " 'thie': [1, 0],\n",
              " 'common': [42, 17],\n",
              " 'sensitive': [27, 4],\n",
              " 'great': [99, 19],\n",
              " 'blank': [5, 0],\n",
              " 'confusable': [1, 0],\n",
              " 'similar': [234, 76],\n",
              " 'different': [527, 162],\n",
              " 'particular': [160, 66],\n",
              " 'acoustic': [14, 1],\n",
              " 'noisy': [26, 3],\n",
              " 'clean': [12, 2],\n",
              " 'auxiliary': [35, 6],\n",
              " 'recent': [99, 21],\n",
              " 'multi': [117, 33],\n",
              " 'unsupervised': [47, 15],\n",
              " 'stream': [2, 0],\n",
              " 'important': [281, 61],\n",
              " 'novel': [227, 50],\n",
              " 'likely': [44, 15],\n",
              " 'classified': [1, 0],\n",
              " 'threshold': [2, 0],\n",
              " 'independent': [39, 9],\n",
              " 'obvious': [49, 15],\n",
              " 'certain': [49, 10],\n",
              " 'true': [73, 40],\n",
              " 'positive': [36, 7],\n",
              " 'unseen': [12, 2],\n",
              " 'random': [114, 32],\n",
              " 'little': [90, 21],\n",
              " 'hard': [178, 74],\n",
              " 'well': [338, 107],\n",
              " 'useful': [225, 51],\n",
              " 'significant': [120, 42],\n",
              " 'most': [69, 27],\n",
              " 'entire': [25, 3],\n",
              " 'single': [136, 46],\n",
              " 'local': [86, 14],\n",
              " 'curious': [16, 2],\n",
              " 'pre': [78, 36],\n",
              " 'review': [54, 21],\n",
              " 'least': [81, 27],\n",
              " 'convolutional': [78, 25],\n",
              " 'basic': [50, 19],\n",
              " 'rare': [12, 2],\n",
              " 'adjacent': [5, 0],\n",
              " 'square': [10, 2],\n",
              " 'appropriate': [43, 9],\n",
              " 'such': [355, 108],\n",
              " 'dependent': [37, 6],\n",
              " 'gaussian': [38, 22],\n",
              " 'main': [295, 74],\n",
              " 'correlated': [2, 0],\n",
              " 'low': [182, 63],\n",
              " 'average': [37, 9],\n",
              " 'willing': [13, 1],\n",
              " 'convincing': [121, 40],\n",
              " 'maximum': [25, 6],\n",
              " 'multiple': [153, 32],\n",
              " 'following': [3, 2],\n",
              " 'residual': [39, 26],\n",
              " 'filter': [3, 0],\n",
              " 'next': [41, 15],\n",
              " 'feasible': [13, 3],\n",
              " '1a': [1, 0],\n",
              " 'much': [131, 44],\n",
              " 'validated': [2, 0],\n",
              " 'unclear': [90, 40],\n",
              " 'supplementary': [8, 6],\n",
              " 'fair': [39, 21],\n",
              " 'weak': [62, 26],\n",
              " 'happy': [14, 3],\n",
              " 'lasso': [1, 0],\n",
              " 'less': [50, 10],\n",
              " 'reasonable': [96, 18],\n",
              " 'due': [32, 14],\n",
              " 'reduced': [1, 0],\n",
              " 'supervised': [97, 14],\n",
              " 'able': [102, 22],\n",
              " 'receptive': [15, 0],\n",
              " 'small': [236, 70],\n",
              " 'relevant': [82, 26],\n",
              " 'standard': [178, 69],\n",
              " 'fine': [37, 14],\n",
              " 'vast': [4, 1],\n",
              " 'popular': [29, 5],\n",
              " 'close': [54, 14],\n",
              " 'optimal': [44, 5],\n",
              " 'nice': [214, 32],\n",
              " 'suspicious': [4, 1],\n",
              " 'convinced': [12, 4],\n",
              " 'untrue': [2, 0],\n",
              " 'okay': [6, 0],\n",
              " 'many': [267, 91],\n",
              " 'few': [167, 41],\n",
              " 'valid': [15, 5],\n",
              " 'exact': [34, 11],\n",
              " 'surprising': [46, 20],\n",
              " 'unintuitive': [6, 0],\n",
              " 'former': [15, 0],\n",
              " 'circular': [3, 2],\n",
              " 'welcome': [12, 4],\n",
              " 'various': [105, 21],\n",
              " 'worth': [68, 10],\n",
              " 'wrong': [24, 11],\n",
              " 'problematic': [7, 8],\n",
              " 'informative': [17, 7],\n",
              " 'Most': [16, 7],\n",
              " 'final': [73, 16],\n",
              " 'bidirectional': [16, 0],\n",
              " 'global': [31, 7],\n",
              " 'individual': [30, 9],\n",
              " 'detailed': [79, 16],\n",
              " 'relative': [43, 3],\n",
              " 'further': [51, 26],\n",
              " 'disappointed': [4, 1],\n",
              " 'soft': [29, 7],\n",
              " 'constituent': [2, 0],\n",
              " 'joint': [35, 6],\n",
              " 'traditional': [49, 9],\n",
              " 'encouraging': [8, 2],\n",
              " 'worthy': [8, 0],\n",
              " 'wide': [38, 5],\n",
              " 'virtual': [7, 2],\n",
              " 'adversarial': [140, 6],\n",
              " 'algorithmic': [20, 9],\n",
              " 'huge': [23, 1],\n",
              " 'available': [59, 27],\n",
              " 'semi': [52, 13],\n",
              " 'experimental': [297, 75],\n",
              " 'transductive': [4, 0],\n",
              " 'past': [20, 9],\n",
              " 'general': [171, 50],\n",
              " 'easy': [164, 27],\n",
              " 'trivial': [47, 16],\n",
              " 'discrete': [58, 15],\n",
              " 'normalized': [18, 3],\n",
              " 'extensive': [44, 5],\n",
              " 'alternative': [29, 3],\n",
              " 'effective': [75, 12],\n",
              " 'prior': [92, 48],\n",
              " 'bad': [98, 35],\n",
              " 'unreliable': [4, 0],\n",
              " 'equivalent': [28, 6],\n",
              " 'contrastive': [8, 1],\n",
              " 'invariant': [20, 5],\n",
              " 'intensive': [2, 0],\n",
              " 'near': [19, 3],\n",
              " 'sufficient': [47, 18],\n",
              " 'competitive': [50, 6],\n",
              " 'human': [126, 28],\n",
              " 'architectural': [21, 9],\n",
              " 'specific': [137, 56],\n",
              " 'net': [14, 4],\n",
              " 'variable': [38, 11],\n",
              " 'node': [11, 1],\n",
              " 'regressive': [7, 1],\n",
              " 'exciting': [11, 3],\n",
              " 'difficult': [136, 38],\n",
              " 'excellent': [17, 3],\n",
              " 'accessible': [9, 3],\n",
              " 'related': [103, 36],\n",
              " 'promising': [63, 14],\n",
              " 'solid': [53, 8],\n",
              " 'compatible': [3, 3],\n",
              " 'long': [128, 25],\n",
              " 'sequential': [31, 16],\n",
              " 'potential': [41, 8],\n",
              " 'future': [89, 13],\n",
              " 'scale': [7, 0],\n",
              " 'qualitative': [51, 21],\n",
              " 'quantitative': [55, 21],\n",
              " 'ucf-101': [1, 0],\n",
              " 'incremental': [40, 17],\n",
              " 'broad': [26, 7],\n",
              " 'outperform': [4, 2],\n",
              " 'impressive': [34, 2],\n",
              " 'constrained': [6, 1],\n",
              " 'limited': [78, 27],\n",
              " 'natural': [116, 27],\n",
              " 'separate': [28, 8],\n",
              " 'temporal': [37, 13],\n",
              " 'deconvolutional': [1, 0],\n",
              " 'objective': [36, 13],\n",
              " 'motivated': [38, 13],\n",
              " 'real': [131, 28],\n",
              " 'numerous': [8, 4],\n",
              " 'insightful': [25, 2],\n",
              " 'periodic': [2, 2],\n",
              " 'observed': [10, 6],\n",
              " 'static': [7, 9],\n",
              " 'necessary': [78, 25],\n",
              " 'overall': [62, 16],\n",
              " 'poor': [19, 20],\n",
              " 'additional': [139, 26],\n",
              " 'aforementioned': [12, 0],\n",
              " 'post': [7, 0],\n",
              " 'rebuttal': [9, 0],\n",
              " 'compelling': [29, 11],\n",
              " 'thorough': [61, 12],\n",
              " 'referenced': [4, 1],\n",
              " 'whole': [28, 12],\n",
              " 'seminal': [1, 0],\n",
              " 'known': [7, 1],\n",
              " 'enough': [47, 24],\n",
              " 'apparent': [10, 2],\n",
              " 'several': [156, 64],\n",
              " 'entropy': [34, 8],\n",
              " 'subject': [7, 1],\n",
              " 'linearly': [1, 0],\n",
              " 'tractable': [18, 3],\n",
              " 'invertible': [5, 2],\n",
              " 'normalizing': [4, 0],\n",
              " 'stochastic': [61, 10],\n",
              " 'lagrangian': [5, 2],\n",
              " 'financial': [12, 0],\n",
              " 'only': [62, 12],\n",
              " 'own': [33, 5],\n",
              " 'smooth': [10, 0],\n",
              " 'numerical': [16, 8],\n",
              " 'constant': [20, 13],\n",
              " 'complicated': [23, 14],\n",
              " 'linear': [128, 58],\n",
              " 'original': [119, 47],\n",
              " 'methodological': [11, 4],\n",
              " 'existing': [3, 4],\n",
              " 'challenging': [17, 3],\n",
              " 'More': [18, 7],\n",
              " 'bottom': [6, 0],\n",
              " 'unormalized': [1, 0],\n",
              " 'typical': [14, 6],\n",
              " 'variational': [94, 43],\n",
              " 'intuitive': [41, 11],\n",
              " 'short': [55, 14],\n",
              " 'deep': [346, 117],\n",
              " 'flexible': [9, 6],\n",
              " 'unbiased': [6, 2],\n",
              " 'explicit': [45, 10],\n",
              " 'powerful': [30, 5],\n",
              " 'aware': [16, 6],\n",
              " 'sensible': [20, 8],\n",
              " 'scaling': [2, 0],\n",
              " 'valuable': [42, 8],\n",
              " 'inferential': [1, 0],\n",
              " 'opaque': [5, 0],\n",
              " 'worrying': [2, 0],\n",
              " 'unbounded': [2, 0],\n",
              " 'required': [1, 0],\n",
              " 'pleased': [1, 0],\n",
              " 'disentangled': [1, 0],\n",
              " 'beta': [4, 0],\n",
              " 'interpretable': [25, 1],\n",
              " 'approximate': [42, 7],\n",
              " 'multipli': [1, 0],\n",
              " 'isotropic': [1, 0],\n",
              " 'learned': [31, 8],\n",
              " 'synthetic': [52, 14],\n",
              " '2d': [21, 8],\n",
              " 'metric': [39, 15],\n",
              " '3d': [28, 11],\n",
              " 'devoted': [2, 0],\n",
              " 'direct': [44, 12],\n",
              " 'cross': [17, 5],\n",
              " 'dense': [27, 3],\n",
              " 'core': [14, 4],\n",
              " 'current': [162, 64],\n",
              " 'straightforward': [35, 5],\n",
              " 'helpful': [82, 14],\n",
              " 'illustrative': [5, 2],\n",
              " 'critical': [16, 11],\n",
              " 'disentangling': [1, 0],\n",
              " 'facial': [2, 0],\n",
              " 'disentanglement': [3, 0],\n",
              " 'right': [53, 14],\n",
              " 'suboptimal': [5, 0],\n",
              " 'above': [20, 8],\n",
              " 'bayesian': [47, 9],\n",
              " 'predictive': [26, 3],\n",
              " 'comparable': [46, 6],\n",
              " 'early': [42, 15],\n",
              " 'principled': [5, 3],\n",
              " 'stage': [4, 0],\n",
              " 'iterative': [39, 7],\n",
              " 'opportunistic': [1, 0],\n",
              " 'slow': [26, 5],\n",
              " 'vgg-19': [6, 0],\n",
              " 'infered': [1, 0],\n",
              " 'serious': [11, 2],\n",
              " 'unusable': [2, 0],\n",
              " 'improved': [24, 3],\n",
              " 'late': [16, 5],\n",
              " 'theoretic': [8, 4],\n",
              " 'vertical': [3, 2],\n",
              " 'classic': [13, 4],\n",
              " 'modern': [16, 7],\n",
              " 'hot': [5, 1],\n",
              " 'old': [25, 5],\n",
              " 'expensive': [28, 6],\n",
              " 'proximal': [10, 0],\n",
              " 'abstract': [29, 18],\n",
              " 'handwritten': [4, 3],\n",
              " 'dataset': [23, 7],\n",
              " 'dictionary': [18, 1],\n",
              " 'extreme': [6, 1],\n",
              " 'mutual': [7, 1],\n",
              " 'consistent': [31, 6],\n",
              " 'sparse': [59, 19],\n",
              " 'unique': [20, 2],\n",
              " 'fast': [40, 13],\n",
              " 'complete': [34, 6],\n",
              " 'actual': [44, 19],\n",
              " 'underlying': [14, 3],\n",
              " 'manifold': [7, 0],\n",
              " 'active': [21, 3],\n",
              " 'present': [20, 13],\n",
              " 'generic': [17, 8],\n",
              " 'hierarchical': [50, 20],\n",
              " 'diverse': [24, 1],\n",
              " 'intrinsic': [11, 3],\n",
              " 'sub': [18, 0],\n",
              " 'policy': [1, 0],\n",
              " 'minimal': [13, 4],\n",
              " 'ideal': [7, 2],\n",
              " 'locomotion': [1, 0],\n",
              " 'unavoidable': [1, 0],\n",
              " 'inappropriate': [2, 1],\n",
              " 'geared': [1, 0],\n",
              " 'training': [7, 2],\n",
              " 'identical': [18, 4],\n",
              " 'elegant': [25, 0],\n",
              " 'downstream': [17, 2],\n",
              " 'unified': [9, 1],\n",
              " 'stationary': [5, 0],\n",
              " 'discounted': [3, 1],\n",
              " 'crucial': [24, 4],\n",
              " 'tabular': [5, 2],\n",
              " 'major': [52, 18],\n",
              " 'like': [11, 6],\n",
              " 'wrt': [2, 0],\n",
              " 'key': [52, 12],\n",
              " 'variant': [8, 2],\n",
              " 'asynchronous': [8, 1],\n",
              " 'n': [8, 6],\n",
              " 'w.r.t': [2, 2],\n",
              " 'weird': [5, 3],\n",
              " 'online': [30, 1],\n",
              " 'off': [11, 1],\n",
              " 'green': [4, 0],\n",
              " 'presented': [2, 0],\n",
              " 'conditional': [51, 16],\n",
              " 'recurrent': [87, 20],\n",
              " 'visual': [73, 24],\n",
              " 'jumpy': [4, 0],\n",
              " 'rich': [14, 7],\n",
              " 'atari': [13, 4],\n",
              " 'systematic': [8, 3],\n",
              " 'intermediate': [27, 9],\n",
              " 'marginal': [13, 8],\n",
              " 'accurate': [31, 6],\n",
              " 'interactive': [11, 2],\n",
              " 'referential': [2, 0],\n",
              " 'agent': [6, 2],\n",
              " 'fruitful': [6, 2],\n",
              " 'confident': [12, 2],\n",
              " 'familiar': [21, 7],\n",
              " 'learning': [3, 0],\n",
              " 'informed': [3, 0],\n",
              " 'agnostic': [6, 0],\n",
              " 'binary': [74, 14],\n",
              " 'pretrained': [1, 1],\n",
              " 'symbolic': [8, 0],\n",
              " 'meaningful': [39, 9],\n",
              " 'game': [1, 0],\n",
              " 'statistical': [18, 3],\n",
              " 'functional': [7, 3],\n",
              " 'obs': [1, 0],\n",
              " 'ass': [1, 0],\n",
              " 'usual': [9, 7],\n",
              " 'correct': [58, 20],\n",
              " 'attentional': [2, 1],\n",
              " 'incoming': [4, 1],\n",
              " 'infinite': [4, 4],\n",
              " 'automatic': [15, 2],\n",
              " 'black': [14, 7],\n",
              " 'parallel': [32, 10],\n",
              " 'structured': [31, 6],\n",
              " 'mixed': [12, 5],\n",
              " 'odd': [16, 3],\n",
              " 'beneficial': [18, 9],\n",
              " 'parametric': [17, 3],\n",
              " 'dncp': [1, 0],\n",
              " 'negative': [42, 11],\n",
              " 'scientific': [12, 0],\n",
              " 'mass': [4, 0],\n",
              " 'raw': [22, 10],\n",
              " 'clever': [14, 2],\n",
              " 'neat': [8, 1],\n",
              " 'unlikely': [8, 1],\n",
              " 'worthwhile': [15, 2],\n",
              " 'sigma': [2, 0],\n",
              " 'specialised': [2, 0],\n",
              " 'full': [62, 33],\n",
              " 'conceivable': [1, 0],\n",
              " 'initial': [37, 10],\n",
              " 'interested': [28, 5],\n",
              " 'essential': [7, 6],\n",
              " 'convex': [6, 6],\n",
              " 'suitable': [22, 8],\n",
              " 'extra': [34, 9],\n",
              " 'structural': [8, 2],\n",
              " 'aligned': [7, 1],\n",
              " 'converged': [2, 0],\n",
              " 'trained': [6, 2],\n",
              " 'channel': [3, 0],\n",
              " 'exhaustive': [6, 2],\n",
              " 'expressive': [10, 3],\n",
              " 'unweighted': [1, 0],\n",
              " 'spatial': [17, 13],\n",
              " 'robustness': [2, 0],\n",
              " 'overwhelming': [2, 0],\n",
              " 'open': [40, 14],\n",
              " 'subsequent': [12, 2],\n",
              " 'capable': [6, 2],\n",
              " 'skeptical': [7, 3],\n",
              " 'narrow': [5, 6],\n",
              " 'unsure': [5, 2],\n",
              " 'unlimited': [1, 0],\n",
              " 'unable': [10, 1],\n",
              " 'public': [11, 3],\n",
              " 'fledged': [1, 0],\n",
              " 'shallow': [39, 4],\n",
              " 'deterministic': [24, 3],\n",
              " 'ambiguous': [2, 5],\n",
              " 'baseline': [15, 9],\n",
              " 'logistic': [13, 8],\n",
              " 'goal': [1, 0],\n",
              " 'nips': [1, 0],\n",
              " 'insufficient': [6, 8],\n",
              " 'rigorous': [9, 3],\n",
              " 'brittle': [2, 0],\n",
              " 'arbitrary': [23, 7],\n",
              " 'absurd': [1, 1],\n",
              " 'pessimistic': [1, 0],\n",
              " 'successful': [10, 3],\n",
              " 'canned': [1, 0],\n",
              " 'differentiable': [31, 10],\n",
              " 'preliminary': [22, 14],\n",
              " 'constructive': [5, 0],\n",
              " 'later': [10, 0],\n",
              " 'provoking': [4, 0],\n",
              " 'proper': [33, 10],\n",
              " 'readable': [4, 3],\n",
              " 'impactful': [4, 0],\n",
              " 'differential': [3, 1],\n",
              " 'graph->graph': [1, 0],\n",
              " 'gradient': [24, 9],\n",
              " 'cellular': [1, 2],\n",
              " 'special': [20, 3],\n",
              " 'textual': [4, 2],\n",
              " 'internal': [13, 3],\n",
              " 'continuous': [72, 12],\n",
              " 'theoritical': [1, 0],\n",
              " 'mistaken': [1, 0],\n",
              " 'null': [4, 0],\n",
              " 'timely': [3, 1],\n",
              " 'contradictory': [5, 0],\n",
              " 'quadradic': [1, 0],\n",
              " 'unwieldy': [1, 0],\n",
              " 'asymptotic': [10, 1],\n",
              " 'causal': [15, 2],\n",
              " 'central': [21, 7],\n",
              " 'precise': [21, 9],\n",
              " 'normal': [19, 1],\n",
              " 'vague': [13, 8],\n",
              " 'reminiscent': [3, 0],\n",
              " 'statistic': [4, 0],\n",
              " 'undefined': [2, 1],\n",
              " 'sec.3.2': [1, 0],\n",
              " 'biased': [2, 3],\n",
              " 'mollified': [4, 0],\n",
              " 'generalized': [3, 2],\n",
              " 'sophisticated': [4, 3],\n",
              " 'counterintuitive': [4, 1],\n",
              " 'reverse': [2, 1],\n",
              " 'successive': [19, 0],\n",
              " 'mollifier': [1, 0],\n",
              " 'thin': [7, 1],\n",
              " 'fit': [6, 3],\n",
              " 'thematic': [1, 0],\n",
              " 'inconsistent': [4, 2],\n",
              " 'parameter': [11, 3],\n",
              " 'meta': [9, 3],\n",
              " 'batch': [26, 16],\n",
              " 'conclusive': [9, 1],\n",
              " 'predictable': [2, 0],\n",
              " 'concrete': [13, 5],\n",
              " 'heuristic': [22, 6],\n",
              " 'tensorflow': [1, 0],\n",
              " 'underfit': [1, 0],\n",
              " 'mini': [10, 10],\n",
              " 'npi': [1, 1],\n",
              " 'elementary': [4, 3],\n",
              " 'rectangular': [0, 1],\n",
              " 'total': [9, 9],\n",
              " 'surprised': [11, 5],\n",
              " 'arithmetic': [9, 1],\n",
              " 'stack': [3, 0],\n",
              " 'perfect': [12, 5],\n",
              " 'covered': [1, 0],\n",
              " 'concerned': [17, 4],\n",
              " 'flat': [9, 1],\n",
              " 'compositional': [7, 1],\n",
              " 'nontrivial': [4, 1],\n",
              " 'unrolled': [6, 1],\n",
              " 'probable': [2, 2],\n",
              " 'hadamard': [1, 0],\n",
              " 'wise': [24, 7],\n",
              " 'compact': [16, 2],\n",
              " 'outer': [9, 0],\n",
              " 'slight': [8, 4],\n",
              " 'supplemental': [1, 2],\n",
              " 'corresponding': [17, 3],\n",
              " 'unfortunate': [12, 2],\n",
              " 'unrelated': [6, 4],\n",
              " 'boundary': [8, 2],\n",
              " 'ensemble': [37, 4],\n",
              " 'concurrent': [16, 0],\n",
              " 'extractive': [3, 6],\n",
              " 'moderate': [4, 0],\n",
              " 'artificial': [20, 9],\n",
              " 'unidirectional': [2, 0],\n",
              " 'forward': [14, 8],\n",
              " 'opposite': [3, 0],\n",
              " 'backward': [6, 2],\n",
              " 'hop': [6, 1],\n",
              " 'perceptual': [5, 1],\n",
              " 'appealing': [10, 3],\n",
              " 'svhn->mnist': [1, 0],\n",
              " 'dissimilar': [2, 0],\n",
              " 'universal': [4, 8],\n",
              " 'false': [3, 5],\n",
              " 'unchanged': [2, 0],\n",
              " 'counter': [4, 1],\n",
              " 'restricted': [4, 0],\n",
              " 'external': [13, 8],\n",
              " 'emojis': [1, 0],\n",
              " 'svhn': [6, 1],\n",
              " 'emoji': [1, 0],\n",
              " 'careful': [16, 2],\n",
              " 'third': [14, 7],\n",
              " 'glad': [4, 0],\n",
              " 'word': [1, 0],\n",
              " 'simulated': [12, 1],\n",
              " 'recursive': [8, 1],\n",
              " 'nifty': [2, 0],\n",
              " 'expert': [5, 0],\n",
              " 'intractable': [8, 1],\n",
              " 'topological': [3, 0],\n",
              " 'harsh': [1, 0],\n",
              " 'unmodified': [2, 0],\n",
              " 'stable': [20, 1],\n",
              " 'extended': [2, 2],\n",
              " 'ready': [14, 15],\n",
              " 'strict': [4, 2],\n",
              " 'premature': [2, 5],\n",
              " 'untouched': [1, 1],\n",
              " 'regular': [23, 4],\n",
              " 'degenerate': [2, 0],\n",
              " 'drastic': [1, 1],\n",
              " 'dominant': [1, 0],\n",
              " 'hidden': [20, 6],\n",
              " 'vfae': [1, 0],\n",
              " 'noising': [5, 0],\n",
              " 'primitive': [1, 1],\n",
              " 'unigram': [3, 0],\n",
              " 'dropout': [1, 0],\n",
              " 'smoothed': [5, 0],\n",
              " 'noised': [2, 0],\n",
              " 'unregularized': [1, 0],\n",
              " 'conventional': [12, 7],\n",
              " 'rapid': [2, 0],\n",
              " 'pure': [9, 4],\n",
              " 'about': [1, 0],\n",
              " 'analytical': [3, 1],\n",
              " 'contemporary': [2, 1],\n",
              " 'usable': [3, 0],\n",
              " 'brief': [10, 1],\n",
              " 'ok': [11, 4],\n",
              " 'characterising': [1, 0],\n",
              " 'unfair': [9, 3],\n",
              " 'unsubstantiated': [2, 0],\n",
              " 'sensationalist': [1, 0],\n",
              " 'runnable': [1, 0],\n",
              " 'profound': [2, 0],\n",
              " 'multiscale': [5, 0],\n",
              " 'straight': [8, 1],\n",
              " 'through': [2, 0],\n",
              " 'flush': [2, 0],\n",
              " 'innovative': [5, 3],\n",
              " 'upper': [15, 4],\n",
              " 'remarkable': [3, 1],\n",
              " 'step': [4, 0],\n",
              " 'relaxed': [5, 2],\n",
              " 'theta-': [0, 1],\n",
              " 'ablative': [2, 1],\n",
              " 'complementary': [11, 0],\n",
              " 'proportional': [7, 3],\n",
              " 'optimum': [4, 3],\n",
              " 'uniform': [17, 4],\n",
              " 'introductory': [3, 0],\n",
              " 'hinge': [2, 0],\n",
              " 'disappointing': [9, 4],\n",
              " 'indistinguishable': [1, 0],\n",
              " 'bold': [4, 4],\n",
              " 'scalar': [12, 2],\n",
              " 'strange': [13, 7],\n",
              " 'enlightening': [2, 0],\n",
              " 'classical': [23, 3],\n",
              " 'arxiv': [11, 0],\n",
              " 'divisive': [4, 0],\n",
              " 'mid': [4, 1],\n",
              " 'standardized': [4, 1],\n",
              " 'dead': [2, 0],\n",
              " 'nervous': [1, 0],\n",
              " 'unit': [1, 0],\n",
              " 'definite': [2, 0],\n",
              " 'robust': [31, 10],\n",
              " 'explored': [2, 0],\n",
              " 'questionable': [7, 2],\n",
              " 'absolute': [8, 4],\n",
              " 'inferior': [5, 1],\n",
              " 'irrelevant': [7, 1],\n",
              " 'selected': [1, 0],\n",
              " 'double': [8, 1],\n",
              " 'super': [5, 3],\n",
              " 'international': [5, 0],\n",
              " 'topographic': [1, 0],\n",
              " 'factoid': [2, 6],\n",
              " 'linguistic': [11, 2],\n",
              " 'tiny': [9, 1],\n",
              " 'unstructured': [5, 1],\n",
              " 'alone': [3, 1],\n",
              " 'solvable': [3, 1],\n",
              " 'redundant': [12, 0],\n",
              " 'section': [1, 0],\n",
              " 'intelligent': [5, 0],\n",
              " 'offline': [5, 0],\n",
              " 'unexplored': [3, 0],\n",
              " 'misspelled': [1, 1],\n",
              " 'conversational': [4, 1],\n",
              " 'ungrammatical': [1, 0],\n",
              " 'behavioral': [3, 0],\n",
              " 'distract': [1, 0],\n",
              " 'obtained': [2, 0],\n",
              " 'detrimental': [2, 0],\n",
              " 'agonistic': [1, 0],\n",
              " 'blurred': [2, 0],\n",
              " '1st': [3, 0],\n",
              " '3rd': [4, 0],\n",
              " 'superior': [19, 7],\n",
              " 'sample': [2, 0],\n",
              " 'experienced': [1, 0],\n",
              " 'log_2(n)-dimensional': [1, 0],\n",
              " 'latter': [29, 4],\n",
              " 'additive': [7, 3],\n",
              " 'fantastic': [1, 0],\n",
              " 'eventual': [4, 0],\n",
              " 'diagonal': [10, 2],\n",
              " 'inefficient': [3, 2],\n",
              " 'n+m': [1, 0],\n",
              " 'incorrect': [14, 9],\n",
              " 'verbose': [3, 1],\n",
              " 'skip': [7, 6],\n",
              " 'sensory': [5, 2],\n",
              " 'experiential': [1, 0],\n",
              " 'spatiotemporal': [3, 1],\n",
              " 'respective': [5, 1],\n",
              " 'fetched': [2, 1],\n",
              " 'smoothness': [2, 1],\n",
              " 'incoherent': [1, 3],\n",
              " 'unknown': [17, 4],\n",
              " 'unlabeled': [10, 1],\n",
              " 'partial': [6, 2],\n",
              " 'half': [3, 0],\n",
              " 'reinforce+entropy': [1, 0],\n",
              " 'inverse': [3, 0],\n",
              " 'unlabelled': [3, 0],\n",
              " 'continous': [1, 0],\n",
              " 'sharp': [5, 1],\n",
              " 'free': [24, 5],\n",
              " 'persuasive': [4, 0],\n",
              " 'equal': [12, 7],\n",
              " 'inner': [15, 5],\n",
              " 'mathematical': [22, 8],\n",
              " 'accelerated': [1, 0],\n",
              " 'costly': [8, 2],\n",
              " 'hessian': [6, 1],\n",
              " 'generalizable': [5, 3],\n",
              " 'measurable': [1, 0],\n",
              " 'mysterious': [3, 0],\n",
              " 'plain': [8, 3],\n",
              " 'revised': [2, 0],\n",
              " 'theorem': [7, 0],\n",
              " 'benchmark': [8, 2],\n",
              " 'tolerant': [1, 1],\n",
              " 'greedy': [13, 7],\n",
              " 'orthogonal': [30, 6],\n",
              " 'syntactic': [7, 1],\n",
              " 'desirable': [6, 10],\n",
              " 'satisfying': [2, 0],\n",
              " 'decoder': [4, 1],\n",
              " 'focus': [5, 0],\n",
              " 'clarifying': [1, 0],\n",
              " 'blue': [5, 0],\n",
              " 'inertial': [1, 0],\n",
              " 'physical': [21, 1],\n",
              " 'differntiable': [1, 0],\n",
              " 'euclideian': [1, 0],\n",
              " 'gravitational': [1, 0],\n",
              " 'massive': [2, 0],\n",
              " 'comaprable': [1, 0],\n",
              " 'everyday': [1, 0],\n",
              " 'composable': [1, 0],\n",
              " '5th': [5, 0],\n",
              " 'tangible': [2, 0],\n",
              " 'indirect': [2, 1],\n",
              " 'flattering': [1, 0],\n",
              " 'illuminating': [2, 0],\n",
              " 'selective': [9, 2],\n",
              " 'task': [20, 2],\n",
              " 'simplistic': [5, 5],\n",
              " 'progressive': [1, 4],\n",
              " 'nonlinear': [18, 10],\n",
              " 'multilayer': [7, 0],\n",
              " 'stimulus': [1, 0],\n",
              " 'retinal': [3, 1],\n",
              " 'transient': [1, 0],\n",
              " 'confused': [17, 3],\n",
              " 'dynamic': [40, 3],\n",
              " 'stated': [3, 2],\n",
              " 'plausible': [13, 3],\n",
              " 'simplified': [5, 3],\n",
              " 'sizable': [1, 0],\n",
              " 'back': [7, 6],\n",
              " 'foregound': [1, 0],\n",
              " 'crisp': [2, 0],\n",
              " 'spurious': [4, 1],\n",
              " 'fascinating': [3, 0],\n",
              " 'recognizable': [1, 0],\n",
              " 'subtle': [3, 0],\n",
              " '6th': [1, 0],\n",
              " 'eval': [2, 0],\n",
              " 'minimized': [2, 0],\n",
              " 'comparative': [4, 2],\n",
              " 'softplus': [1, 0],\n",
              " 'spectacular': [1, 0],\n",
              " 'lossy': [5, 1],\n",
              " 'autoregressive': [32, 1],\n",
              " 'dynamical': [8, 4],\n",
              " 'pixelcnn': [2, 0],\n",
              " 'crippled': [2, 0],\n",
              " 'crippling': [1, 0],\n",
              " 'white': [4, 2],\n",
              " 'pixelrnn': [1, 0],\n",
              " 'factorized': [1, 0],\n",
              " 'spherical': [8, 0],\n",
              " 'implicit': [8, 8],\n",
              " 'excited': [7, 1],\n",
              " 'revolutionary': [3, 0],\n",
              " 'radical': [2, 0],\n",
              " 'uncomfortable': [2, 0],\n",
              " 'exploitable': [1, 0],\n",
              " 'succinct': [1, 0],\n",
              " 'foveal': [2, 0],\n",
              " 'primate': [3, 0],\n",
              " 'supportive': [1, 0],\n",
              " 'evolutionary': [2, 3],\n",
              " 'deformable': [1, 0],\n",
              " 'learnable': [5, 3],\n",
              " 'clustered': [1, 0],\n",
              " 'twitt': [1, 0],\n",
              " 'unsurprising': [4, 1],\n",
              " 'groundbreaking': [3, 0],\n",
              " 'focused': [7, 1],\n",
              " 'inductive': [8, 3],\n",
              " 'interchangeable': [1, 1],\n",
              " 'imbalanced': [1, 0],\n",
              " 'resourced': [1, 0],\n",
              " 'domain': [1, 0],\n",
              " 'tasking': [1, 0],\n",
              " 'debatable': [3, 1],\n",
              " 'restrictive': [8, 7],\n",
              " 'acceptable': [5, 4],\n",
              " 'lone': [1, 0],\n",
              " 'nondescript': [1, 0],\n",
              " 'terrible': [1, 0],\n",
              " 'contextual': [6, 2],\n",
              " 'countable': [1, 0],\n",
              " 'academic': [4, 0],\n",
              " 'bi': [7, 0],\n",
              " 'directional': [8, 0],\n",
              " 'uni': [1, 3],\n",
              " 'modular': [2, 0],\n",
              " 'loose': [9, 3],\n",
              " 'affordable': [1, 0],\n",
              " 'modal': [5, 4],\n",
              " 'quick': [4, 0],\n",
              " 'logit': [1, 0],\n",
              " 'affective': [1, 0],\n",
              " 'mean': [18, 7],\n",
              " 'markov': [4, 1],\n",
              " 'impractical': [3, 0],\n",
              " 'layer': [3, 5],\n",
              " 'looking': [3, 0],\n",
              " 'vgg-19-based': [1, 0],\n",
              " 'quantifiable': [1, 0],\n",
              " 'psychophysical': [8, 0],\n",
              " 'material': [1, 0],\n",
              " 'memory': [1, 0],\n",
              " 'scalable': [5, 2],\n",
              " 'adaptive': [21, 2],\n",
              " 'hyper': [2, 1],\n",
              " 'decent': [10, 2],\n",
              " 'unanswered': [1, 0],\n",
              " 'chinese': [1, 0],\n",
              " 'modifi': [1, 0],\n",
              " 'biaffine': [1, 0],\n",
              " 'proposed': [1, 1],\n",
              " 'unobserved': [2, 0],\n",
              " 'illegible': [1, 0],\n",
              " 'font': [1, 0],\n",
              " 'personal': [2, 1],\n",
              " 'underwhelming': [3, 0],\n",
              " 'neccessary': [1, 0],\n",
              " 'exploratory': [4, 1],\n",
              " 'ultimate': [3, 0],\n",
              " 'explanatory': [3, 0],\n",
              " 'immutable': [1, 0],\n",
              " 'trainable': [9, 2],\n",
              " 'dark': [4, 0],\n",
              " 'untrainable': [1, 0],\n",
              " 'suspect': [1, 0],\n",
              " 'inclined': [1, 1],\n",
              " 'sudden': [2, 0],\n",
              " 'linux': [1, 0],\n",
              " 'incomplete': [12, 5],\n",
              " 'outside': [1, 1],\n",
              " 'episodic': [3, 1],\n",
              " 'rushed': [2, 0],\n",
              " 'uninformative': [8, 0],\n",
              " 'distinct': [11, 3],\n",
              " 'shared': [4, 0],\n",
              " 'unshared': [2, 0],\n",
              " 'preferable': [5, 0],\n",
              " 'equipped': [1, 0],\n",
              " 'etal': [1, 0],\n",
              " 'reported': [3, 0],\n",
              " 'educational': [2, 1],\n",
              " 'posterior': [13, 20],\n",
              " 'underflow': [2, 0],\n",
              " 'nonexistent': [2, 0],\n",
              " 'VAE-50': [1, 0],\n",
              " 'therotical': [1, 0],\n",
              " 'underfitting': [1, 0],\n",
              " 'uncertain': [7, 0],\n",
              " 'randomized': [8, 1],\n",
              " 'refreshing': [2, 0],\n",
              " 'discriminative': [18, 2],\n",
              " 'lousy': [0, 1],\n",
              " 'regularized': [0, 1],\n",
              " 'connected': [9, 2],\n",
              " 'disconnectedness': [1, 0],\n",
              " 'tight': [2, 0],\n",
              " 'stepping': [2, 0],\n",
              " 'diminished': [1, 0],\n",
              " 'enjoyable': [3, 0],\n",
              " 'f(x_t': [2, 0],\n",
              " 'compute': [6, 0],\n",
              " 'serial': [13, 6],\n",
              " 'adequate': [9, 3],\n",
              " 'sigmoid': [5, 0],\n",
              " 'smart': [5, 0],\n",
              " 'sentinel': [2, 0],\n",
              " 'gradual': [1, 0],\n",
              " 'denoising': [1, 0],\n",
              " 'inpainting': [1, 0],\n",
              " 'crude': [1, 0],\n",
              " 'unusual': [4, 9],\n",
              " 'inflated': [1, 0],\n",
              " 'representative': [4, 5],\n",
              " 'visible': [6, 0],\n",
              " 'rant': [1, 0],\n",
              " 'stylistic': [1, 0],\n",
              " 'acronymy': [1, 0],\n",
              " 'cased': [1, 0],\n",
              " 'english': [6, 2],\n",
              " 'formal': [6, 7],\n",
              " 'geometric': [11, 3],\n",
              " 'steerable': [6, 0],\n",
              " 'relatable': [1, 0],\n",
              " 'equivariant': [2, 5],\n",
              " 'environmental': [1, 0],\n",
              " 'rigid': [4, 0],\n",
              " 'prerequisite': [1, 0],\n",
              " 'heavy': [7, 0],\n",
              " 'concise': [3, 2],\n",
              " 'factual': [1, 0],\n",
              " 'fundamental': [11, 6],\n",
              " 'sourced': [3, 0],\n",
              " 'uncalibrated': [1, 0],\n",
              " 'alignment': [1, 0],\n",
              " 'markovian': [3, 1],\n",
              " 'couple': [1, 0],\n",
              " 'induced': [3, 1],\n",
              " 'semantic': [29, 17],\n",
              " 'predominant': [1, 0],\n",
              " 'en': [1, 0],\n",
              " 'influential': [1, 0],\n",
              " 'inherent': [6, 1],\n",
              " 'grammatical': [7, 5],\n",
              " 'parse': [3, 0],\n",
              " 'private': [19, 1],\n",
              " 'medical': [19, 0],\n",
              " 'encouraged': [1, 0],\n",
              " 'secondary': [2, 0],\n",
              " 'genomic': [1, 0],\n",
              " 'firm': [1, 0],\n",
              " 'applied': [4, 0],\n",
              " 'fat': [1, 0],\n",
              " 'coherent': [5, 2],\n",
              " 'undesirable': [5, 0],\n",
              " 'exponential': [14, 4],\n",
              " 'principle': [2, 1],\n",
              " '3x3': [1, 0],\n",
              " 'representational': [8, 1],\n",
              " 'univariate': [2, 0],\n",
              " 'e': [1, 0],\n",
              " 'immediate': [5, 0],\n",
              " 'pseudo': [2, 1],\n",
              " 'expected': [4, 2],\n",
              " 'top': [36, 2],\n",
              " 'left': [10, 2],\n",
              " 'labyrinth': [1, 1],\n",
              " 'middle': [2, 2],\n",
              " 'skewed': [2, 1],\n",
              " 'passive': [1, 0],\n",
              " 'useless': [3, 2],\n",
              " 'impossible': [7, 10],\n",
              " 'convenient': [2, 1],\n",
              " 'understandable': [2, 1],\n",
              " 'ment': [1, 0],\n",
              " '\\\\epsilon': [1, 0],\n",
              " 'edged': [1, 0],\n",
              " 'ambivalent': [3, 0],\n",
              " ...}"
            ]
          },
          "metadata": {
            "tags": []
          },
          "execution_count": 18
        }
      ]
    },
    {
      "cell_type": "code",
      "metadata": {
        "id": "WccnDiQhu49i",
        "colab_type": "code",
        "colab": {}
      },
      "source": [
        "import pickle\n",
        "\n",
        "pickle_out = open(\"ICLR_Adjectives_2017.pickle\",\"wb\")\n",
        "pickle.dump(adjectives, pickle_out)\n",
        "pickle_out.close()"
      ],
      "execution_count": 0,
      "outputs": []
    },
    {
      "cell_type": "code",
      "metadata": {
        "id": "g1PAJZAFYz4j",
        "colab_type": "code",
        "colab": {}
      },
      "source": [
        "dict_2017 = pd.read_pickle(\"/content/drive/My Drive/ICLR_Adjectives_2017.pickle\")\n",
        "dict_2018 = pd.read_pickle(\"/content/drive/My Drive/ICLR_Adjectives_2018.pickle\")\n",
        "dict_2019 = pd.read_pickle(\"/content/drive/My Drive/ICLR_Adjectives_2019.pickle\")\n",
        "dict_2020 = pd.read_pickle(\"/content/drive/My Drive/ICLR_Adjectives_2020.pickle\")"
      ],
      "execution_count": 0,
      "outputs": []
    },
    {
      "cell_type": "code",
      "metadata": {
        "id": "z9nrL6-4ZYtc",
        "colab_type": "code",
        "outputId": "262b81ca-6819-40f0-c1ba-bc9d136209db",
        "colab": {
          "base_uri": "https://localhost:8080/",
          "height": 34
        }
      },
      "source": [
        "len(dict_2017)\n",
        "len(dict_2018)\n",
        "len(dict_2019)\n",
        "len(dict_2020)"
      ],
      "execution_count": 0,
      "outputs": [
        {
          "output_type": "execute_result",
          "data": {
            "text/plain": [
              "4271"
            ]
          },
          "metadata": {
            "tags": []
          },
          "execution_count": 163
        }
      ]
    },
    {
      "cell_type": "code",
      "metadata": {
        "id": "YQZ72bG8pitk",
        "colab_type": "code",
        "colab": {}
      },
      "source": [
        "accepted_freq = [dict_2017[ele][0]/198 for ele in dict_2017.keys()]"
      ],
      "execution_count": 0,
      "outputs": []
    },
    {
      "cell_type": "code",
      "metadata": {
        "id": "h2Hw8Wi-qR-S",
        "colab_type": "code",
        "outputId": "030cdeb6-ea70-4350-8cc4-91f8f56f331d",
        "colab": {
          "base_uri": "https://localhost:8080/",
          "height": 54
        }
      },
      "source": [
        "top_10 = accepted_freq[0:11]\n",
        "top_10.sort(reverse=True)\n",
        "\n",
        "print(top_10)"
      ],
      "execution_count": 0,
      "outputs": [
        {
          "output_type": "stream",
          "text": [
            "[3.808080808080808, 2.8585858585858586, 2.388888888888889, 0.9343434343434344, 0.8636363636363636, 0.7323232323232324, 0.6565656565656566, 0.3383838383838384, 0.20202020202020202, 0.08585858585858586, 0.0707070707070707]\n"
          ],
          "name": "stdout"
        }
      ]
    },
    {
      "cell_type": "code",
      "metadata": {
        "id": "zjcrQqsnYQWR",
        "colab_type": "code",
        "colab": {}
      },
      "source": [
        "abs_2017 = pd.read_pickle(\"/content/drive/My Drive/ICLR_Abstract_Adj_2017.pickle\")\n",
        "abs_2018 = pd.read_pickle(\"/content/drive/My Drive/ICLR_Abstract_Adj_2018.pickle\")\n",
        "abs_2019 = pd.read_pickle(\"/content/drive/My Drive/ICLR_Abstract_Adj_2019.pickle\")\n",
        "abs_2020 = pd.read_pickle(\"/content/drive/My Drive/ICLR_Abstract_Adj_2020.pickle\")"
      ],
      "execution_count": 0,
      "outputs": []
    },
    {
      "cell_type": "code",
      "metadata": {
        "id": "aDQBAqgjY-aG",
        "colab_type": "code",
        "colab": {}
      },
      "source": [
        "acc_rej = {}\n",
        "rej_acc = {}\n",
        "for key,value in sorted(abs_2020.items(),key=lambda i:sum(i[1]),reverse=True):\n",
        "        acc_rej[key] = value[0] - value[1]        \n",
        "        rej_acc[key] = value[1] - value[0]"
      ],
      "execution_count": 0,
      "outputs": []
    },
    {
      "cell_type": "code",
      "metadata": {
        "id": "BZB6d2rQ6tnj",
        "colab_type": "code",
        "colab": {}
      },
      "source": [
        "acc_rej = {}\n",
        "rej_acc = {}\n",
        "for key,value in sorted(dict_2020.items(),key=lambda i:sum(i[1]),reverse=True):\n",
        "        acc_rej[key] = value[0] - value[1]        \n",
        "        rej_acc[key] = value[1] - value[0]"
      ],
      "execution_count": 0,
      "outputs": []
    },
    {
      "cell_type": "code",
      "metadata": {
        "id": "Qcsy3JmrsgkK",
        "colab_type": "code",
        "outputId": "0f81f609-7924-4c88-8103-30b3d9c051d4",
        "colab": {
          "base_uri": "https://localhost:8080/",
          "height": 34
        }
      },
      "source": [
        "#len(acc_rej)\n",
        "len(rej_acc)\n",
        "#acc_rej\n",
        "len(papers_2020)/2"
      ],
      "execution_count": 0,
      "outputs": [
        {
          "output_type": "execute_result",
          "data": {
            "text/plain": [
              "687.0"
            ]
          },
          "metadata": {
            "tags": []
          },
          "execution_count": 30
        }
      ]
    },
    {
      "cell_type": "code",
      "metadata": {
        "id": "5TptDzs8ANsV",
        "colab_type": "code",
        "outputId": "83ecc5a4-8429-4c51-81e5-f43c3d475325",
        "colab": {
          "base_uri": "https://localhost:8080/",
          "height": 289
        }
      },
      "source": [
        "x_axis = []\n",
        "accepted_first = []\n",
        "rejected_first = []\n",
        "\n",
        "i = 0 \n",
        "for key,value in sorted(acc_rej.items(), key = lambda kv:(kv[1], kv[0]), reverse=True):\n",
        "    if(i < 16):\n",
        "        x_axis.append(key)\n",
        "        accepted_first.append(value/687)\n",
        "        #rejected_first.append(value/687)\n",
        "        print(key, value)\n",
        "        i = i+1\n",
        "    if(i == 16):\n",
        "        break"
      ],
      "execution_count": 0,
      "outputs": [
        {
          "output_type": "stream",
          "text": [
            "new 46\n",
            "linear 25\n",
            "visual 24\n",
            "strong 24\n",
            "empirical 24\n",
            "efficient 22\n",
            "continuous 22\n",
            "robust 21\n",
            "inductive 21\n",
            "stationary 20\n",
            "first 20\n",
            "3d 19\n",
            "practical 18\n",
            "natural 18\n",
            "agent 18\n",
            "shot 17\n"
          ],
          "name": "stdout"
        }
      ]
    },
    {
      "cell_type": "code",
      "metadata": {
        "id": "d1CmwHpSC-pO",
        "colab_type": "code",
        "outputId": "14dadf07-44b6-42bc-9e2a-8492102dde5b",
        "colab": {
          "base_uri": "https://localhost:8080/",
          "height": 34
        }
      },
      "source": [
        "x_axis[0]"
      ],
      "execution_count": 0,
      "outputs": [
        {
          "output_type": "execute_result",
          "data": {
            "text/plain": [
              "'-'"
            ]
          },
          "metadata": {
            "tags": []
          },
          "execution_count": 169
        }
      ]
    },
    {
      "cell_type": "code",
      "metadata": {
        "id": "4pwQ7Aq_C2GT",
        "colab_type": "code",
        "colab": {}
      },
      "source": [
        "#accepted_freq\n",
        "del x_axis[15]\n",
        "del accepted_first[15]\n",
        "#del rejected_first[15]"
      ],
      "execution_count": 0,
      "outputs": []
    },
    {
      "cell_type": "code",
      "metadata": {
        "id": "I7f_OK9C0xhg",
        "colab_type": "code",
        "outputId": "41030d1e-dc21-4fae-a718-e6534da3ed5f",
        "colab": {
          "base_uri": "https://localhost:8080/",
          "height": 289
        }
      },
      "source": [
        "x_axis = []\n",
        "accepted_freq = []\n",
        "rejected_freq = []\n",
        "\n",
        "i = 0 \n",
        "for key,value in sorted(dict_2017.items(),key=lambda i:sum(i[1]),reverse=True):\n",
        "    if(i < 16):\n",
        "        x_axis.append(key)\n",
        "        accepted_freq.append(value[0]/198)\n",
        "        rejected_freq.append(value[1]/198)\n",
        "        #accepted_to_rejected_diff.append((value[0]/198) - (value[1]/198))\n",
        "        #rejected_to_accepted_diff.append((value[1]/198) - (value[0]/198))\n",
        "        print(key, value)\n",
        "        i = i+1\n",
        "    if(i == 16):\n",
        "        break"
      ],
      "execution_count": 0,
      "outputs": [
        {
          "output_type": "stream",
          "text": [
            "interesting [754, 173]\n",
            "other [566, 166]\n",
            "different [527, 162]\n",
            "good [511, 126]\n",
            "- [490, 141]\n",
            "clear [473, 146]\n",
            "more [419, 119]\n",
            "neural [385, 141]\n",
            "such [355, 108]\n",
            "deep [346, 117]\n",
            "new [371, 90]\n",
            "well [338, 107]\n",
            "simple [331, 108]\n",
            "large [292, 82]\n",
            "experimental [297, 75]\n",
            "main [295, 74]\n"
          ],
          "name": "stdout"
        }
      ]
    },
    {
      "cell_type": "code",
      "metadata": {
        "id": "IcsI7rLk5uk7",
        "colab_type": "code",
        "outputId": "b16ac48e-b5cb-44c6-9b21-555e0d601141",
        "colab": {
          "base_uri": "https://localhost:8080/",
          "height": 34
        }
      },
      "source": [
        "x_axis[2]"
      ],
      "execution_count": 0,
      "outputs": [
        {
          "output_type": "execute_result",
          "data": {
            "text/plain": [
              "'-'"
            ]
          },
          "metadata": {
            "tags": []
          },
          "execution_count": 239
        }
      ]
    },
    {
      "cell_type": "code",
      "metadata": {
        "id": "XmPDXt6Y211x",
        "colab_type": "code",
        "colab": {}
      },
      "source": [
        "#accepted_freq\n",
        "del x_axis[2]\n",
        "del accepted_freq[2]\n",
        "del rejected_freq[2]"
      ],
      "execution_count": 0,
      "outputs": []
    },
    {
      "cell_type": "code",
      "metadata": {
        "id": "0lpbzpUYwjQ3",
        "colab_type": "code",
        "colab": {}
      },
      "source": [
        "accepted_freq_norm = [dict_2017[ele][0]/198 for ele in dict_2017.keys()]\n",
        "rejected_freq_norm = [dict_2017[ele][1]/198 for ele in dict_2017.keys()]\n",
        "\n",
        "accepted_freq_norm_10 = accepted_freq_norm[0:10]\n",
        "accepted_freq_norm_10.sort(reverse=True)\n",
        "rejected_freq_norm_10 = rejected_freq_norm[0:10]\n",
        "rejected_freq_norm_10.sort(reverse=True)"
      ],
      "execution_count": 0,
      "outputs": []
    },
    {
      "cell_type": "code",
      "metadata": {
        "id": "W-SfvNH5ZZ5t",
        "colab_type": "code",
        "outputId": "ae4cf4ce-040c-48bf-8cc4-d09104cb0467",
        "colab": {
          "base_uri": "https://localhost:8080/",
          "height": 287
        }
      },
      "source": [
        "import matplotlib.pyplot as plt\n",
        "import numpy as np\n",
        "%matplotlib inline\n",
        "\n",
        "#x_axis = list(dict_2017.keys())\n",
        "#x_axis.sort()\n",
        "#accepted_freq_norm = [dict_2017[ele][0]/198 for ele in dict_2017.keys()]\n",
        "#rejected_freq_norm = [dict_2017[ele][1]/198 for ele in dict_2017.keys()]\n",
        "\n",
        "#accepted_freq_norm_10 = accepted_freq_norm[0:10]\n",
        "#accepted_freq_norm_10.sort(reverse=True)\n",
        "#rejected_freq_norm_10 = rejected_freq_norm[0:10]\n",
        "#rejected_freq_norm_10.sort(reverse=True)\n",
        "\n",
        "def autolabel(rects):\n",
        "   \"\"\"Attach a text label above each bar in *rects*, displaying its height.\"\"\"\n",
        "   for rect in rects:\n",
        "       height = rect.get_height()\n",
        "       ax.annotate('{}'.format(height),\n",
        "                   xy=(rect.get_x() + rect.get_width() / 2, height),\n",
        "                   xytext=(0, 3),  # 3 points vertical offset\n",
        "                   textcoords=\"offset points\",\n",
        "                   ha='center', va='bottom')\n",
        "\n",
        "\n",
        "fig, ax = plt.subplots()\n",
        "\n",
        "x = np.arange(len(x_axis))  # the label locations\n",
        "width = 0.35  # the width of the bars\n",
        "\n",
        "#rects1 = ax.bar(x - width/2, rejected_first , width, label='Rejected - Accepted Ratio of papers')\n",
        "rects1 = ax.bar(x - width/2, accepted_first , width, label='Accepted - Rejected Ratio of papers')\n",
        "#rects2 = ax.bar(x + width/2, rejected_freq, width, label='Rejected papers')\n",
        "\n",
        "ax.set_ylabel('Normalized Frequency')\n",
        "ax.set_xticks(x)\n",
        "ax.set_xticklabels(x_axis)\n",
        "ax.set_xlabel('Adjectives')\n",
        "ax.legend()\n",
        "fig.autofmt_xdate()\n",
        "\n",
        "# autolabel(rects1)\n",
        "# autolabel(rects2)\n",
        "\n",
        "plt.savefig(\"adj.png\")\n",
        "plt.show()"
      ],
      "execution_count": 0,
      "outputs": [
        {
          "output_type": "display_data",
          "data": {
            "image/png": "[encoded data removed]",
            "text/plain": [
              "<Figure size 432x288 with 1 Axes>"
            ]
          },
          "metadata": {
            "tags": []
          }
        }
      ]
    },
    {
      "cell_type": "code",
      "metadata": {
        "id": "MTc4ZciCCIqu",
        "colab_type": "code",
        "colab": {}
      },
      "source": [
        ""
      ],
      "execution_count": 0,
      "outputs": []
    },
    {
      "cell_type": "code",
      "metadata": {
        "id": "dBrmgEJIwZni",
        "colab_type": "code",
        "colab": {}
      },
      "source": [
        ""
      ],
      "execution_count": 0,
      "outputs": []
    }
  ]
}