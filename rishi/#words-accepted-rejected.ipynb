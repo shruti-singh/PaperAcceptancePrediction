{
 "cells": [
  {
   "cell_type": "code",
   "execution_count": 3,
   "metadata": {},
   "outputs": [],
   "source": [
    "import pandas as pd\n",
    "import numpy as np\n",
    "import pickle\n",
    "import matplotlib.pyplot as plt\n",
    "from latexify import latexify\n",
    "from latexify import format_axes"
   ]
  },
  {
   "cell_type": "code",
   "execution_count": 38,
   "metadata": {},
   "outputs": [],
   "source": [
    "with open('data/papers_2017_balanced.pickle', 'rb') as f:\n",
    "    papers_2017 = pickle.load(f)\n",
    "with open('data/papers_2018_balanced.pickle', 'rb') as f:\n",
    "    papers_2018 = pickle.load(f)\n",
    "with open('data/papers_2019_balanced.pickle', 'rb') as f:\n",
    "    papers_2019 = pickle.load(f)\n",
    "with open('data/papers_2020_balanced.pickle', 'rb') as f:\n",
    "    papers_2020 = pickle.load(f)"
   ]
  },
  {
   "cell_type": "code",
   "execution_count": 4,
   "metadata": {},
   "outputs": [],
   "source": [
    "acceptW = []\n",
    "rejectW = []"
   ]
  },
  {
   "cell_type": "code",
   "execution_count": 65,
   "metadata": {},
   "outputs": [],
   "source": [
    "\n",
    "papers = papers_2020\n",
    "for key in papers.keys():\n",
    "    #check if the paper is an reject\n",
    "    #for 2020\n",
    "    if papers[key]['DECISIONS']['decision']['content']['decision'] == 'Reject':\n",
    "    #for 2019\n",
    "    #if papers[key]['DECISIONS']['decision']['content']['recommendation'] == 'Reject':\n",
    "    #for 2017 and 2018\n",
    "    #if papers[key]['DECISIONS']['content']['decision'] ==  'Reject':\n",
    "        acceptW.append(len(papers[key]['content']['title'].split()))\n",
    "    else:\n",
    "        rejectW.append(len(papers[key]['content']['title'].split()))\n",
    "acceptW.sort()\n",
    "rejectW.sort()"
   ]
  },
  {
   "cell_type": "code",
   "execution_count": 69,
   "metadata": {},
   "outputs": [
    {
     "data": {
      "image/png": "[encoded data removed]",
      "text/plain": [
       "<Figure size 432x288 with 1 Axes>"
      ]
     },
     "metadata": {},
     "output_type": "display_data"
    }
   ],
   "source": [
    "#latexify()\n",
    "ax = plt.hist([acceptW, rejectW], label=['Accepted Papers', 'Rejected Papers'])\n",
    "plt.xticks(np.arange(0, 21, step=2))\n",
    "plt.yticks(np.arange(0, 600, step=50))\n",
    "plt.legend()\n",
    "plt.xlabel('Number of words')\n",
    "plt.ylabel('Number of papers')\n",
    "plt.title('ICLR 2017-2020')\n",
    "#format_axes(ax)\n",
    "plt.show()"
   ]
  },
  {
   "cell_type": "code",
   "execution_count": null,
   "metadata": {},
   "outputs": [],
   "source": []
  }
 ],
 "metadata": {
  "kernelspec": {
   "display_name": "Python 3",
   "language": "python",
   "name": "python3"
  },
  "language_info": {
   "codemirror_mode": {
    "name": "ipython",
    "version": 3
   },
   "file_extension": ".py",
   "mimetype": "text/x-python",
   "name": "python",
   "nbconvert_exporter": "python",
   "pygments_lexer": "ipython3",
   "version": "3.6.5"
  }
 },
 "nbformat": 4,
 "nbformat_minor": 2
}
