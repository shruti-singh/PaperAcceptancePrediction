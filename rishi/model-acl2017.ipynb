{
 "cells": [
  {
   "cell_type": "code",
   "execution_count": 1,
   "metadata": {},
   "outputs": [],
   "source": [
    "import pandas as pd\n",
    "import numpy as np\n",
    "import pickle\n",
    "import json\n",
    "import os"
   ]
  },
  {
   "cell_type": "markdown",
   "metadata": {},
   "source": [
    "## Analysis: Test, Dev, Train Set. "
   ]
  },
  {
   "cell_type": "code",
   "execution_count": 87,
   "metadata": {},
   "outputs": [],
   "source": [
    "#read the title of the accepted papers and store it in a list so that we can compare the shits later\n",
    "#acceptedACL = []\n",
    "fp = open('data/acl2017/acl_accepted.txt', 'r', encoding='utf-8')\n",
    "acceptedACL = [line.rstrip('\\n') for line in fp]"
   ]
  },
  {
   "cell_type": "code",
   "execution_count": 97,
   "metadata": {},
   "outputs": [
    {
     "name": "stdout",
     "output_type": "stream",
     "text": [
      "TOtal Papers = 123, Train Set Accepted Papers = 62, Train Set Rejected Papers = 61\n"
     ]
    }
   ],
   "source": [
    "#lets read the train folder from \n",
    "loc = \"/data/acl2017/train/parsed_pdfs\"\n",
    "acceptCount = 0\n",
    "rejectCount = 0\n",
    "totalTrainPapers = 0\n",
    "for filename in os.listdir(os.getcwd()+loc):\n",
    "    totalTrainPapers+=1\n",
    "    #with open(os.path.join(os.getcwd()+loc, filename), 'r') as json_data:\n",
    "    data = json.load(open(os.path.join(os.getcwd()+loc, filename), 'r', encoding='utf-8'))\n",
    "    #s = str(data['metadata']['title']).replace(\" \", \"\")\n",
    "    #print(data['metadata']['title'])\n",
    "    if data['metadata']['title'] in acceptedACL:\n",
    "        acceptCount+=1\n",
    "    else:\n",
    "        rejectCount+=1\n",
    "print(\"TOtal Papers = {}, Train Set Accepted Papers = {}, Train Set Rejected Papers = {}\".format(totalTrainPapers,acceptCount, rejectCount))"
   ]
  },
  {
   "cell_type": "code",
   "execution_count": 99,
   "metadata": {},
   "outputs": [
    {
     "name": "stdout",
     "output_type": "stream",
     "text": [
      "TOtal Dev Papers = 7, Dev Set Accepted Papers = 2, Dev Set Rejected Papers = 5\n"
     ]
    }
   ],
   "source": [
    "#lets read the dev folder from \n",
    "loc = \"/data/acl2017/dev/parsed_pdfs\"\n",
    "acceptCount = 0\n",
    "rejectCount = 0\n",
    "totalDevPapers = 0\n",
    "for filename in os.listdir(os.getcwd()+loc):\n",
    "    totalDevPapers+=1\n",
    "    #with open(os.path.join(os.getcwd()+loc, filename), 'r') as json_data:\n",
    "    data = json.load(open(os.path.join(os.getcwd()+loc, filename), 'r', encoding='utf-8'))\n",
    "    #s = str(data['metadata']['title']).replace(\" \", \"\")\n",
    "    #print(data['metadata']['title'])\n",
    "    if data['metadata']['title'] in acceptedACL:\n",
    "        acceptCount+=1\n",
    "    else:\n",
    "        rejectCount+=1\n",
    "print(\"TOtal Dev Papers = {}, Dev Set Accepted Papers = {}, Dev Set Rejected Papers = {}\".format(totalDevPapers,acceptCount, rejectCount))"
   ]
  },
  {
   "cell_type": "code",
   "execution_count": 98,
   "metadata": {},
   "outputs": [
    {
     "name": "stdout",
     "output_type": "stream",
     "text": [
      "TOtal Test Papers = 7, Test Set Accepted Papers = 4, Test Set Rejected Papers = 3\n"
     ]
    }
   ],
   "source": [
    "#lets read the test folder from \n",
    "loc = \"/data/acl2017/test/parsed_pdfs\"\n",
    "acceptCount = 0\n",
    "rejectCount = 0\n",
    "totalTestPapers = 0\n",
    "for filename in os.listdir(os.getcwd()+loc):\n",
    "    totalTestPapers+=1\n",
    "    #with open(os.path.join(os.getcwd()+loc, filename), 'r') as json_data:\n",
    "    data = json.load(open(os.path.join(os.getcwd()+loc, filename), 'r', encoding='utf-8'))\n",
    "    #s = str(data['metadata']['title']).replace(\" \", \"\")\n",
    "    #print(data['metadata']['title'])\n",
    "    if data['metadata']['title'] in acceptedACL:\n",
    "        acceptCount+=1\n",
    "    else:\n",
    "        rejectCount+=1\n",
    "print(\"TOtal Test Papers = {}, Test Set Accepted Papers = {}, Test Set Rejected Papers = {}\".format(totalTestPapers,acceptCount, rejectCount))"
   ]
  },
  {
   "cell_type": "markdown",
   "metadata": {},
   "source": [
    "## Prepare The Train Set\n",
    "We define train set in our case as = Train Set + Dev Set\n",
    "**Note**: Author info will be dropped as no author info is available in the dataset. Privacy?? Maybe\n",
    "\n"
   ]
  },
  {
   "cell_type": "code",
   "execution_count": 183,
   "metadata": {},
   "outputs": [],
   "source": [
    "#lets read the train folder from \n",
    "loc = \"/data/acl2017/train/parsed_pdfs\"\n",
    "i=0\n",
    "d = []\n",
    "for filename in os.listdir(os.getcwd()+loc):\n",
    "    i+=1\n",
    "    item = json.load(open(os.path.join(os.getcwd()+loc, filename), 'r', encoding='utf-8'))\n",
    "\n",
    "    d.append(\n",
    "        {\n",
    "            'n_title_word': len(str(item['metadata']['title']).split()),\n",
    "            'n_title_char': len(str(item['metadata']['title']).replace(\" \", \"\")),\n",
    "            'n_abstract_word': len(str(item['metadata']['abstractText']).split()),\n",
    "            'n_abstract_char': len(str(item['metadata']['abstractText']).replace(\" \",\"\")),\n",
    "            'n_sections': len(item['metadata']['sections']),\n",
    "            'n_references': len(item['metadata']['references']),\n",
    "            'label': 'Accept' if item['metadata']['title'] in acceptedACL else 'Reject'\n",
    "        }\n",
    "    )\n",
    "\n",
    "#lets use the dev folder data as train data too\n",
    "loc = \"/data/acl2017/dev/parsed_pdfs\"\n",
    "\n",
    "for filename in os.listdir(os.getcwd()+loc):\n",
    "    i+=1\n",
    "    item = json.load(open(os.path.join(os.getcwd()+loc, filename), 'r', encoding='utf-8'))\n",
    "\n",
    "    d.append(\n",
    "        {\n",
    "            'n_title_word': len(str(item['metadata']['title']).split()),\n",
    "            'n_title_char': len(str(item['metadata']['title']).replace(\" \", \"\")),\n",
    "            'n_abstract_word': len(str(item['metadata']['abstractText']).split()),\n",
    "            'n_abstract_char': len(str(item['metadata']['abstractText']).replace(\" \",\"\")),\n",
    "            'n_sections': len(item['metadata']['sections']),\n",
    "            'n_references': len(item['metadata']['references']),\n",
    "            'label': 'Accept' if item['metadata']['title'] in acceptedACL else 'Reject'\n",
    "        }\n",
    "    )\n"
   ]
  },
  {
   "cell_type": "code",
   "execution_count": 184,
   "metadata": {},
   "outputs": [],
   "source": [
    "trainData = pd.DataFrame(d)"
   ]
  },
  {
   "cell_type": "code",
   "execution_count": 185,
   "metadata": {},
   "outputs": [
    {
     "data": {
      "text/plain": [
       "(130, 7)"
      ]
     },
     "execution_count": 185,
     "metadata": {},
     "output_type": "execute_result"
    }
   ],
   "source": [
    "trainData.shape"
   ]
  },
  {
   "cell_type": "code",
   "execution_count": 186,
   "metadata": {},
   "outputs": [
    {
     "data": {
      "text/html": [
       "<div>\n",
       "<style scoped>\n",
       "    .dataframe tbody tr th:only-of-type {\n",
       "        vertical-align: middle;\n",
       "    }\n",
       "\n",
       "    .dataframe tbody tr th {\n",
       "        vertical-align: top;\n",
       "    }\n",
       "\n",
       "    .dataframe thead th {\n",
       "        text-align: right;\n",
       "    }\n",
       "</style>\n",
       "<table border=\"1\" class=\"dataframe\">\n",
       "  <thead>\n",
       "    <tr style=\"text-align: right;\">\n",
       "      <th></th>\n",
       "      <th>n_title_word</th>\n",
       "      <th>n_title_char</th>\n",
       "      <th>n_abstract_word</th>\n",
       "      <th>n_abstract_char</th>\n",
       "      <th>n_sections</th>\n",
       "      <th>n_references</th>\n",
       "      <th>label</th>\n",
       "    </tr>\n",
       "  </thead>\n",
       "  <tbody>\n",
       "    <tr>\n",
       "      <td>0</td>\n",
       "      <td>1</td>\n",
       "      <td>4</td>\n",
       "      <td>142</td>\n",
       "      <td>834</td>\n",
       "      <td>1</td>\n",
       "      <td>46</td>\n",
       "      <td>Reject</td>\n",
       "    </tr>\n",
       "    <tr>\n",
       "      <td>1</td>\n",
       "      <td>7</td>\n",
       "      <td>59</td>\n",
       "      <td>100</td>\n",
       "      <td>566</td>\n",
       "      <td>11</td>\n",
       "      <td>36</td>\n",
       "      <td>Accept</td>\n",
       "    </tr>\n",
       "    <tr>\n",
       "      <td>2</td>\n",
       "      <td>12</td>\n",
       "      <td>100</td>\n",
       "      <td>192</td>\n",
       "      <td>1076</td>\n",
       "      <td>19</td>\n",
       "      <td>0</td>\n",
       "      <td>Accept</td>\n",
       "    </tr>\n",
       "    <tr>\n",
       "      <td>3</td>\n",
       "      <td>7</td>\n",
       "      <td>53</td>\n",
       "      <td>92</td>\n",
       "      <td>554</td>\n",
       "      <td>20</td>\n",
       "      <td>21</td>\n",
       "      <td>Reject</td>\n",
       "    </tr>\n",
       "    <tr>\n",
       "      <td>4</td>\n",
       "      <td>9</td>\n",
       "      <td>64</td>\n",
       "      <td>111</td>\n",
       "      <td>708</td>\n",
       "      <td>42</td>\n",
       "      <td>30</td>\n",
       "      <td>Accept</td>\n",
       "    </tr>\n",
       "    <tr>\n",
       "      <td>...</td>\n",
       "      <td>...</td>\n",
       "      <td>...</td>\n",
       "      <td>...</td>\n",
       "      <td>...</td>\n",
       "      <td>...</td>\n",
       "      <td>...</td>\n",
       "      <td>...</td>\n",
       "    </tr>\n",
       "    <tr>\n",
       "      <td>125</td>\n",
       "      <td>13</td>\n",
       "      <td>97</td>\n",
       "      <td>140</td>\n",
       "      <td>827</td>\n",
       "      <td>18</td>\n",
       "      <td>34</td>\n",
       "      <td>Reject</td>\n",
       "    </tr>\n",
       "    <tr>\n",
       "      <td>126</td>\n",
       "      <td>1</td>\n",
       "      <td>4</td>\n",
       "      <td>161</td>\n",
       "      <td>940</td>\n",
       "      <td>18</td>\n",
       "      <td>41</td>\n",
       "      <td>Reject</td>\n",
       "    </tr>\n",
       "    <tr>\n",
       "      <td>127</td>\n",
       "      <td>15</td>\n",
       "      <td>112</td>\n",
       "      <td>167</td>\n",
       "      <td>958</td>\n",
       "      <td>17</td>\n",
       "      <td>33</td>\n",
       "      <td>Reject</td>\n",
       "    </tr>\n",
       "    <tr>\n",
       "      <td>128</td>\n",
       "      <td>7</td>\n",
       "      <td>54</td>\n",
       "      <td>148</td>\n",
       "      <td>834</td>\n",
       "      <td>10</td>\n",
       "      <td>30</td>\n",
       "      <td>Accept</td>\n",
       "    </tr>\n",
       "    <tr>\n",
       "      <td>129</td>\n",
       "      <td>9</td>\n",
       "      <td>70</td>\n",
       "      <td>108</td>\n",
       "      <td>654</td>\n",
       "      <td>10</td>\n",
       "      <td>19</td>\n",
       "      <td>Accept</td>\n",
       "    </tr>\n",
       "  </tbody>\n",
       "</table>\n",
       "<p>130 rows × 7 columns</p>\n",
       "</div>"
      ],
      "text/plain": [
       "     n_title_word  n_title_char  n_abstract_word  n_abstract_char  n_sections  \\\n",
       "0               1             4              142              834           1   \n",
       "1               7            59              100              566          11   \n",
       "2              12           100              192             1076          19   \n",
       "3               7            53               92              554          20   \n",
       "4               9            64              111              708          42   \n",
       "..            ...           ...              ...              ...         ...   \n",
       "125            13            97              140              827          18   \n",
       "126             1             4              161              940          18   \n",
       "127            15           112              167              958          17   \n",
       "128             7            54              148              834          10   \n",
       "129             9            70              108              654          10   \n",
       "\n",
       "     n_references   label  \n",
       "0              46  Reject  \n",
       "1              36  Accept  \n",
       "2               0  Accept  \n",
       "3              21  Reject  \n",
       "4              30  Accept  \n",
       "..            ...     ...  \n",
       "125            34  Reject  \n",
       "126            41  Reject  \n",
       "127            33  Reject  \n",
       "128            30  Accept  \n",
       "129            19  Accept  \n",
       "\n",
       "[130 rows x 7 columns]"
      ]
     },
     "execution_count": 186,
     "metadata": {},
     "output_type": "execute_result"
    }
   ],
   "source": [
    "trainData"
   ]
  },
  {
   "cell_type": "code",
   "execution_count": 187,
   "metadata": {},
   "outputs": [],
   "source": [
    "# shuffle the data\n",
    "trainData = trainData.sample(n=len(trainData), random_state=42)"
   ]
  },
  {
   "cell_type": "code",
   "execution_count": 188,
   "metadata": {},
   "outputs": [],
   "source": [
    "# To plot the Decision Tree--------------------------------------------\n",
    "def plot(clf):\n",
    "  dot_data = StringIO()\n",
    "  tree.export_graphviz(clf[0], \n",
    "  out_file=dot_data, \n",
    "  class_names=['Accept','Reject'], # the target names.\n",
    "  feature_names=X.columns, # the feature names.\n",
    "  filled=True, # Whether to fill in the boxes with colours.\n",
    "  rounded=True, # Whether to round the corners of the boxes.\n",
    "  special_characters=True)\n",
    "  graph = pydotplus.graph_from_dot_data(dot_data.getvalue()) \n",
    "  return Image(graph.create_png())"
   ]
  },
  {
   "cell_type": "markdown",
   "metadata": {},
   "source": [
    "## Modeling"
   ]
  },
  {
   "cell_type": "code",
   "execution_count": 189,
   "metadata": {},
   "outputs": [],
   "source": [
    "from sklearn.model_selection import train_test_split, cross_validate\n",
    "from sklearn.metrics import classification_report\n",
    "from sklearn.preprocessing import LabelEncoder\n",
    "# Models-------------------------\n",
    "from sklearn.tree import DecisionTreeClassifier\n",
    "from sklearn.linear_model import LogisticRegression, RidgeClassifier\n",
    "from sklearn.neighbors import KNeighborsClassifier\n",
    "from sklearn.naive_bayes import GaussianNB\n",
    "from sklearn.gaussian_process import GaussianProcessClassifier\n",
    "import sklearn.gaussian_process.kernels as kls\n",
    "from sklearn.neural_network import MLPClassifier\n",
    "from sklearn.svm import SVC\n",
    "from sklearn.gaussian_process import GaussianProcessClassifier\n",
    "from sklearn.ensemble import AdaBoostClassifier, RandomForestClassifier\n",
    "# for visualizing ---------------\n",
    "import pydotplus\n",
    "from sklearn import tree\n",
    "from sklearn.externals.six import StringIO \n",
    "from IPython.display import Image, display\n",
    "import seaborn as sns\n",
    "# General purpose\n",
    "import re\n",
    "import warnings\n",
    "warnings.filterwarnings('ignore')"
   ]
  },
  {
   "cell_type": "code",
   "execution_count": 190,
   "metadata": {},
   "outputs": [],
   "source": [
    "clf_dict = {'DecisionTree':DecisionTreeClassifier(max_depth=2),\n",
    "            'RandomForest':RandomForestClassifier(max_depth=10),\n",
    "            'LogisticR':LogisticRegression(max_iter=5000),\n",
    "            'LogisticLassoR':LogisticRegression(max_iter=5000, penalty='l1',solver='liblinear'),\n",
    "            'RidgeClf':RidgeClassifier(max_iter=5000),\n",
    "            'SVC':SVC(kernel='rbf'),\n",
    "            'GaussNB':GaussianNB(),\n",
    "            'NeuralNet':MLPClassifier((50),activation='logistic'),\n",
    "            'KNN':KNeighborsClassifier(n_neighbors=10),\n",
    "            'GaussianProcessClf':GaussianProcessClassifier(kernel=kls.RBF())\n",
    "            }"
   ]
  },
  {
   "cell_type": "code",
   "execution_count": 179,
   "metadata": {},
   "outputs": [
    {
     "data": {
      "image/png": "[encoded data removed]",
      "text/plain": [
       "<IPython.core.display.Image object>"
      ]
     },
     "metadata": {},
     "output_type": "display_data"
    }
   ],
   "source": [
    "model_results = pd.DataFrame()\n",
    "model_results['Accuracy'] = None\n",
    "model_results['CVresults'] = None\n",
    "\n",
    "for clf_name,clf in clf_dict.items():\n",
    "    X = trainData.drop(columns=['label'])\n",
    "    y = trainData['label']\n",
    "    results = cross_validate(clf, X, y, return_estimator=True)\n",
    "    clf = results['estimator']\n",
    "    results.pop('estimator')\n",
    "    accuracy = np.mean(results['test_score'])\n",
    "    model_results.loc[clf_name, ['Accuracy', 'CVresults']] = [accuracy, results]\n",
    "    if clf_name == 'DecisionTree':\n",
    "        display(plot(clf))"
   ]
  },
  {
   "cell_type": "code",
   "execution_count": 191,
   "metadata": {},
   "outputs": [
    {
     "data": {
      "text/html": [
       "<div>\n",
       "<style scoped>\n",
       "    .dataframe tbody tr th:only-of-type {\n",
       "        vertical-align: middle;\n",
       "    }\n",
       "\n",
       "    .dataframe tbody tr th {\n",
       "        vertical-align: top;\n",
       "    }\n",
       "\n",
       "    .dataframe thead th {\n",
       "        text-align: right;\n",
       "    }\n",
       "</style>\n",
       "<table border=\"1\" class=\"dataframe\">\n",
       "  <thead>\n",
       "    <tr style=\"text-align: right;\">\n",
       "      <th></th>\n",
       "      <th>Accuracy</th>\n",
       "      <th>CVresults</th>\n",
       "    </tr>\n",
       "  </thead>\n",
       "  <tbody>\n",
       "    <tr>\n",
       "      <td>DecisionTree</td>\n",
       "      <td>0.700252</td>\n",
       "      <td>{'fit_time': [0.006338596343994141, 0.00199222...</td>\n",
       "    </tr>\n",
       "    <tr>\n",
       "      <td>RandomForest</td>\n",
       "      <td>0.699458</td>\n",
       "      <td>{'fit_time': [0.0069811344146728516, 0.0079793...</td>\n",
       "    </tr>\n",
       "    <tr>\n",
       "      <td>LogisticR</td>\n",
       "      <td>0.608208</td>\n",
       "      <td>{'fit_time': [0.02825140953063965, 0.002996206...</td>\n",
       "    </tr>\n",
       "    <tr>\n",
       "      <td>LogisticLassoR</td>\n",
       "      <td>0.616338</td>\n",
       "      <td>{'fit_time': [0.007976293563842773, 0.00897502...</td>\n",
       "    </tr>\n",
       "    <tr>\n",
       "      <td>RidgeClf</td>\n",
       "      <td>0.608798</td>\n",
       "      <td>{'fit_time': [0.06538987159729004, 0.002991199...</td>\n",
       "    </tr>\n",
       "    <tr>\n",
       "      <td>SVC</td>\n",
       "      <td>0.495935</td>\n",
       "      <td>{'fit_time': [0.0049896240234375, 0.0019958019...</td>\n",
       "    </tr>\n",
       "    <tr>\n",
       "      <td>GaussNB</td>\n",
       "      <td>0.576655</td>\n",
       "      <td>{'fit_time': [0.0029954910278320312, 0.0019938...</td>\n",
       "    </tr>\n",
       "    <tr>\n",
       "      <td>NeuralNet</td>\n",
       "      <td>0.666938</td>\n",
       "      <td>{'fit_time': [0.07937788963317871, 0.065823554...</td>\n",
       "    </tr>\n",
       "    <tr>\n",
       "      <td>KNN</td>\n",
       "      <td>0.577071</td>\n",
       "      <td>{'fit_time': [0.009839534759521484, 0.00099730...</td>\n",
       "    </tr>\n",
       "    <tr>\n",
       "      <td>GaussianProcessClf</td>\n",
       "      <td>0.601268</td>\n",
       "      <td>{'fit_time': [0.03818345069885254, 0.006981372...</td>\n",
       "    </tr>\n",
       "  </tbody>\n",
       "</table>\n",
       "</div>"
      ],
      "text/plain": [
       "                    Accuracy  \\\n",
       "DecisionTree        0.700252   \n",
       "RandomForest        0.699458   \n",
       "LogisticR           0.608208   \n",
       "LogisticLassoR      0.616338   \n",
       "RidgeClf            0.608798   \n",
       "SVC                 0.495935   \n",
       "GaussNB             0.576655   \n",
       "NeuralNet           0.666938   \n",
       "KNN                 0.577071   \n",
       "GaussianProcessClf  0.601268   \n",
       "\n",
       "                                                            CVresults  \n",
       "DecisionTree        {'fit_time': [0.006338596343994141, 0.00199222...  \n",
       "RandomForest        {'fit_time': [0.0069811344146728516, 0.0079793...  \n",
       "LogisticR           {'fit_time': [0.02825140953063965, 0.002996206...  \n",
       "LogisticLassoR      {'fit_time': [0.007976293563842773, 0.00897502...  \n",
       "RidgeClf            {'fit_time': [0.06538987159729004, 0.002991199...  \n",
       "SVC                 {'fit_time': [0.0049896240234375, 0.0019958019...  \n",
       "GaussNB             {'fit_time': [0.0029954910278320312, 0.0019938...  \n",
       "NeuralNet           {'fit_time': [0.07937788963317871, 0.065823554...  \n",
       "KNN                 {'fit_time': [0.009839534759521484, 0.00099730...  \n",
       "GaussianProcessClf  {'fit_time': [0.03818345069885254, 0.006981372...  "
      ]
     },
     "execution_count": 191,
     "metadata": {},
     "output_type": "execute_result"
    }
   ],
   "source": [
    "model_results"
   ]
  },
  {
   "cell_type": "code",
   "execution_count": 181,
   "metadata": {},
   "outputs": [
    {
     "data": {
      "text/plain": [
       "'<table border=\"1\" class=\"dataframe\">  <thead>    <tr style=\"text-align: right;\">      <th></th>      <th>Accuracy</th>    </tr>  </thead>  <tbody>    <tr>      <th>DecisionTree</th>      <td>0.700252</td>    </tr>    <tr>      <th>RandomForest</th>      <td>0.699458</td>    </tr>    <tr>      <th>LogisticR</th>      <td>0.608208</td>    </tr>    <tr>      <th>LogisticLassoR</th>      <td>0.616338</td>    </tr>    <tr>      <th>RidgeClf</th>      <td>0.608798</td>    </tr>    <tr>      <th>SVC</th>      <td>0.495935</td>    </tr>    <tr>      <th>GaussNB</th>      <td>0.576655</td>    </tr>    <tr>      <th>NeuralNet</th>      <td>0.666938</td>    </tr>    <tr>      <th>KNN</th>      <td>0.577071</td>    </tr>    <tr>      <th>GaussianProcessClf</th>      <td>0.601268</td>    </tr>  </tbody></table>'"
      ]
     },
     "execution_count": 181,
     "metadata": {},
     "output_type": "execute_result"
    }
   ],
   "source": [
    "# Copy the results into .md file to visualize the table in .md\n",
    "model_results.drop(columns=['CVresults']).to_html().replace('\\n','')"
   ]
  },
  {
   "cell_type": "code",
   "execution_count": null,
   "metadata": {},
   "outputs": [],
   "source": []
  }
 ],
 "metadata": {
  "kernelspec": {
   "display_name": "Python 3",
   "language": "python",
   "name": "python3"
  },
  "language_info": {
   "codemirror_mode": {
    "name": "ipython",
    "version": 3
   },
   "file_extension": ".py",
   "mimetype": "text/x-python",
   "name": "python",
   "nbconvert_exporter": "python",
   "pygments_lexer": "ipython3",
   "version": "3.6.5"
  }
 },
 "nbformat": 4,
 "nbformat_minor": 2
}
