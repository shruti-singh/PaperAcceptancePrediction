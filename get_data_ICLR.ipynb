{
  "nbformat": 4,
  "nbformat_minor": 0,
  "metadata": {
    "colab": {
      "name": "get_data_ICLR.ipynb",
      "provenance": [],
      "collapsed_sections": [],
      "toc_visible": true,
      "authorship_tag": "ABX9TyMsFx0GMVc+E5hGEy+X+0hy",
      "include_colab_link": true
    },
    "kernelspec": {
      "name": "python3",
      "display_name": "Python 3"
    }
  },
  "cells": [
    {
      "cell_type": "markdown",
      "metadata": {
        "id": "view-in-github",
        "colab_type": "text"
      },
      "source": [
        "<a href=\"https://colab.research.google.com/github/shruti-singh/PaperAcceptancePrediction/blob/master/get_data_ICLR.ipynb\" target=\"_parent\"><img src=\"https://colab.research.google.com/assets/colab-badge.svg\" alt=\"Open In Colab\"/></a>"
      ]
    },
    {
      "cell_type": "code",
      "metadata": {
        "id": "hZ0G-JeaAwaY",
        "colab_type": "code",
        "colab": {}
      },
      "source": [
        "!pip3 install --user openreview-py"
      ],
      "execution_count": 0,
      "outputs": []
    },
    {
      "cell_type": "code",
      "metadata": {
        "id": "VHlsbb2aA1Hk",
        "colab_type": "code",
        "colab": {}
      },
      "source": [
        "import pandas as pd\n",
        "import openreview\n",
        "from pprint import pprint\n",
        "import pickle"
      ],
      "execution_count": 0,
      "outputs": []
    },
    {
      "cell_type": "code",
      "metadata": {
        "id": "_U01-Coa7jrm",
        "colab_type": "code",
        "colab": {}
      },
      "source": [
        "uname = \"singh_shruti@iitgn.ac.in\"\n",
        "passwd = \"\""
      ],
      "execution_count": 0,
      "outputs": []
    },
    {
      "cell_type": "code",
      "metadata": {
        "id": "yzMyAYPkB-zw",
        "colab_type": "code",
        "colab": {}
      },
      "source": [
        "client = openreview.Client(baseurl='https://openreview.net', username=uname, password=passwd)"
      ],
      "execution_count": 0,
      "outputs": []
    },
    {
      "cell_type": "code",
      "metadata": {
        "id": "xfDT3q-N6oPy",
        "colab_type": "code",
        "outputId": "0e976252-a7b3-4a53-960c-dd3374826066",
        "colab": {
          "base_uri": "https://localhost:8080/",
          "height": 127
        }
      },
      "source": [
        "from google.colab import drive\n",
        "drive.mount('/content/drive')"
      ],
      "execution_count": 0,
      "outputs": [
        {
          "output_type": "stream",
          "text": [
            "Go to this URL in a browser: https://accounts.google.com/o/oauth2/auth?client_id=947318989803-6bn6qk8qdgf4n4g3pfee6491hc0brc4i.apps.googleusercontent.com&redirect_uri=urn%3aietf%3awg%3aoauth%3a2.0%3aoob&response_type=code&scope=email%20https%3a%2f%2fwww.googleapis.com%2fauth%2fdocs.test%20https%3a%2f%2fwww.googleapis.com%2fauth%2fdrive%20https%3a%2f%2fwww.googleapis.com%2fauth%2fdrive.photos.readonly%20https%3a%2f%2fwww.googleapis.com%2fauth%2fpeopleapi.readonly\n",
            "\n",
            "Enter your authorization code:\n",
            "··········\n",
            "Mounted at /content/drive\n"
          ],
          "name": "stdout"
        }
      ]
    },
    {
      "cell_type": "code",
      "metadata": {
        "id": "6XokSAr98MC_",
        "colab_type": "code",
        "colab": {}
      },
      "source": [
        "data_dir = \"/content/drive/My Drive/Coursework/Sem2/ML/PaperAcceptancePrediction/\""
      ],
      "execution_count": 0,
      "outputs": []
    },
    {
      "cell_type": "code",
      "metadata": {
        "id": "O-j8rS_0AlSl",
        "colab_type": "code",
        "colab": {}
      },
      "source": [
        "iclr2020_group = client.get_group(\"ICLR.cc/2020/Conference\")"
      ],
      "execution_count": 0,
      "outputs": []
    },
    {
      "cell_type": "code",
      "metadata": {
        "id": "BKOyObWa9iRV",
        "colab_type": "code",
        "colab": {}
      },
      "source": [
        "blind_sub_iter = openreview.tools.iterget_notes(client, invitation=\"ICLR.cc/2020/Conference/-/Blind_Submission\")\n",
        "papers_meta = []\n",
        "\n",
        "for blindsub in blind_sub_iter:\n",
        "\tpapers_meta.append(blindsub.__dict__)\n",
        "\n",
        "df = pd.DataFrame(papers_meta)"
      ],
      "execution_count": 0,
      "outputs": []
    },
    {
      "cell_type": "code",
      "metadata": {
        "id": "GGKNiJySA0HH",
        "colab_type": "code",
        "outputId": "e4c74b05-27da-4bbd-e835-71442c7b99a1",
        "colab": {
          "base_uri": "https://localhost:8080/",
          "height": 1000
        }
      },
      "source": [
        "pprint(papers_meta[0])\n",
        "print(df.columns)"
      ],
      "execution_count": 0,
      "outputs": [
        {
          "output_type": "stream",
          "text": [
            "{'cdate': 1569438892732,\n",
            " 'content': {'_bibtex': '@inproceedings{\\n'\n",
            "                        'Shu2020Understanding,\\n'\n",
            "                        'title={Understanding Architectures Learnt by '\n",
            "                        'Cell-based Neural Architecture Search},\\n'\n",
            "                        'author={Yao Shu and Wei Wang and Shaofeng Cai},\\n'\n",
            "                        'booktitle={International Conference on Learning '\n",
            "                        'Representations},\\n'\n",
            "                        'year={2020},\\n'\n",
            "                        'url={https://openreview.net/forum?id=BJxH22EKPS}\\n'\n",
            "                        '}',\n",
            "             'abstract': 'Neural architecture search (NAS) searches '\n",
            "                         'architectures automatically for given tasks, e.g., '\n",
            "                         'image classification and language modeling. '\n",
            "                         'Improving the search efficiency and effectiveness '\n",
            "                         'has attracted increasing attention in recent years. '\n",
            "                         'However, few efforts have been devoted to '\n",
            "                         'understanding the generated architectures. In this '\n",
            "                         'paper, we first reveal that existing NAS algorithms '\n",
            "                         '(e.g., DARTS, ENAS) tend to favor architectures with '\n",
            "                         'wide and shallow cell structures. These favorable '\n",
            "                         'architectures consistently achieve fast convergence '\n",
            "                         'and are consequently selected by NAS algorithms. Our '\n",
            "                         'empirical and theoretical study further confirms '\n",
            "                         'that their fast convergence derives from their '\n",
            "                         'smooth loss landscape and accurate gradient '\n",
            "                         'information. Nonetheless, these architectures may '\n",
            "                         'not necessarily lead to better generalization '\n",
            "                         'performance compared with other candidate '\n",
            "                         'architectures in the same search space, and '\n",
            "                         'therefore further improvement is possible by '\n",
            "                         'revising existing NAS algorithms.',\n",
            "             'authorids': ['shuyao@comp.nus.edu.sg',\n",
            "                           'wangwei@comp.nus.edu.sg',\n",
            "                           'shaofeng@comp.nus.edu.sg'],\n",
            "             'authors': ['Yao Shu', 'Wei Wang', 'Shaofeng Cai'],\n",
            "             'code': 'https://github.com/shuyao95/Understanding-NAS.git',\n",
            "             'keywords': ['Neural Architecture Search',\n",
            "                          'connection pattern',\n",
            "                          'optimization',\n",
            "                          'convergence',\n",
            "                          'Lipschitz smoothness',\n",
            "                          'gradient variance',\n",
            "                          'generalization'],\n",
            "             'original_pdf': '/attachment/11c1a85f8488c46bfac61e35c40fa41516775f59.pdf',\n",
            "             'paperhash': 'shu|understanding_architectures_learnt_by_cellbased_neural_architecture_search',\n",
            "             'pdf': '/pdf/ff1819c4bcafb8516d2a32ccfc2d1411f2fd9f59.pdf',\n",
            "             'title': 'Understanding Architectures Learnt by Cell-based Neural '\n",
            "                      'Architecture Search'},\n",
            " 'ddate': None,\n",
            " 'details': {'replyCount': 10},\n",
            " 'forum': 'BJxH22EKPS',\n",
            " 'id': 'BJxH22EKPS',\n",
            " 'invitation': 'ICLR.cc/2020/Conference/-/Blind_Submission',\n",
            " 'nonreaders': [],\n",
            " 'number': 187,\n",
            " 'original': 'B1xEu2-MDH',\n",
            " 'readers': ['everyone'],\n",
            " 'referent': None,\n",
            " 'replyto': None,\n",
            " 'signatures': ['ICLR.cc/2020/Conference'],\n",
            " 'tcdate': 1569438892732,\n",
            " 'tmdate': 1580524947080,\n",
            " 'writers': ['ICLR.cc/2020/Conference']}\n",
            "Index(['id', 'original', 'number', 'cdate', 'tcdate', 'tmdate', 'ddate',\n",
            "       'content', 'forum', 'referent', 'invitation', 'replyto', 'readers',\n",
            "       'nonreaders', 'signatures', 'writers', 'details'],\n",
            "      dtype='object')\n"
          ],
          "name": "stdout"
        }
      ]
    },
    {
      "cell_type": "code",
      "metadata": {
        "id": "ILq87qCwBfWO",
        "colab_type": "code",
        "colab": {}
      },
      "source": [
        "papers_dict = {}\n",
        "\n",
        "for paper in papers_meta:\n",
        "    forum_id = paper[\"forum\"]\n",
        "    papers_dict[forum_id] = paper"
      ],
      "execution_count": 0,
      "outputs": []
    },
    {
      "cell_type": "code",
      "metadata": {
        "id": "E9DDlXT7KNUl",
        "colab_type": "code",
        "colab": {}
      },
      "source": [
        "paper_decision_dict = {}\n",
        "\n",
        "decision_iterator = openreview.tools.iterget_notes(client, invitation=\"ICLR.cc/2020/Conference/Paper.*/-/Decision\")\n",
        "\n",
        "for review in decision_iterator:\n",
        "    if review.forum in paper_decision_dict:\n",
        "        paper_decision_dict[review.forum][\"decision_1\"] = review.__dict__\n",
        "    else:\n",
        "        paper_decision_dict[review.forum] = {}\n",
        "        paper_decision_dict[review.forum][\"decision\"] = review.__dict__"
      ],
      "execution_count": 0,
      "outputs": []
    },
    {
      "cell_type": "code",
      "metadata": {
        "id": "5mCPMnDNLe4R",
        "colab_type": "code",
        "outputId": "76148578-fe87-4493-ce0b-ce7bb8ea966b",
        "colab": {
          "base_uri": "https://localhost:8080/",
          "height": 397
        }
      },
      "source": [
        "print(list(paper_decision_dict.keys())[0:3])\n",
        "paper_decision_dict['BklSv34KvB']"
      ],
      "execution_count": 0,
      "outputs": [
        {
          "output_type": "stream",
          "text": [
            "['Syx4wnEtvH', 'BklSv34KvB', 'BklSwn4tDH']\n"
          ],
          "name": "stdout"
        },
        {
          "output_type": "execute_result",
          "data": {
            "text/plain": [
              "{'decision': {'cdate': 1576798684487,\n",
              "  'content': {'comment': 'The authors propose a new mini-batch selection method for training deep NNs. Rather than random sampling, selection is based on a sliding window of past model predictions for each sample and uncertainty about those samples. Results are presented on MNIST and CIFAR.\\n\\nThe reviewers agreed that this is an interesting idea which was clearly presented, but had concerns about the strength of the experimental results, which showed only a modest benefit on relatively simple datasets. In the rebuttal period, the authors added an ablation study and additional results on Tiny-ImageNet. However, the results on the new dataset seem very marginal, and R1 did not feel that all of their concerns were addressed. I’m inclined to agree that more work is required to prove the generalizability of this approach before it’s suitable for acceptance.\\n',\n",
              "   'decision': 'Reject',\n",
              "   'title': 'Paper Decision'},\n",
              "  'ddate': None,\n",
              "  'details': {'replyCount': 0},\n",
              "  'forum': 'BklSv34KvB',\n",
              "  'id': 'mlzOkObmMb',\n",
              "  'invitation': 'ICLR.cc/2020/Conference/Paper2/-/Decision',\n",
              "  'nonreaders': [],\n",
              "  'number': 1,\n",
              "  'original': None,\n",
              "  'readers': ['everyone'],\n",
              "  'referent': None,\n",
              "  'replyto': 'BklSv34KvB',\n",
              "  'signatures': ['ICLR.cc/2020/Conference/Program_Chairs'],\n",
              "  'tcdate': 1576798684487,\n",
              "  'tmdate': 1576800950250,\n",
              "  'writers': ['ICLR.cc/2020/Conference/Program_Chairs']}}"
            ]
          },
          "metadata": {
            "tags": []
          },
          "execution_count": 26
        }
      ]
    },
    {
      "cell_type": "code",
      "metadata": {
        "id": "8ry_iIazETsQ",
        "colab_type": "code",
        "colab": {}
      },
      "source": [
        "# # Ensure if paper decision is not more than one each paper.\n",
        "# for k, v in paper_decision_dict.items():\n",
        "#     if len(v) > 1:\n",
        "#         print(k)"
      ],
      "execution_count": 0,
      "outputs": []
    },
    {
      "cell_type": "code",
      "metadata": {
        "id": "JA169jwbE-xy",
        "colab_type": "code",
        "colab": {}
      },
      "source": [
        "off_rev_dict = {}\n",
        "\n",
        "official_review_iter = openreview.tools.iterget_notes(client, invitation='ICLR.cc/2020/Conference/Paper.*/-/Official_Review')\n",
        "\n",
        "# Note in review, forum is the paperid, and id is the id of the review. For paper, both these fields are same. For eg, link to a review is of form:\n",
        "# https://openreview.net/forum?id=r1x0lxrFPS&noteId=HJgd6tglcS ,  where id=r1x0lxrFPS is forum/paper_id and noteId=HJgd6tglcS is the review_id(everything is a note).\n",
        "for off_rev in official_review_iter:\n",
        "    if off_rev.forum in off_rev_dict:\n",
        "        off_rev_dict[off_rev.forum].append(off_rev.__dict__)\n",
        "    else:\n",
        "        off_rev_dict[off_rev.forum] = [off_rev.__dict__]"
      ],
      "execution_count": 0,
      "outputs": []
    },
    {
      "cell_type": "code",
      "metadata": {
        "id": "k_QQfOvPKhwE",
        "colab_type": "code",
        "outputId": "35e66834-4aed-43c4-e744-6aded227497b",
        "colab": {
          "base_uri": "https://localhost:8080/",
          "height": 217
        }
      },
      "source": [
        "print(len(papers_dict))\n",
        "print(len(paper_decision_dict))\n",
        "print(len(off_rev_dict))\n",
        "\n",
        "k1 = set(papers_dict.keys())\n",
        "k2 = set(paper_decision_dict.keys())\n",
        "k3 = set(off_rev_dict.keys())\n",
        "\n",
        "print(\"\\n\\nk1:%s, k2:%s, k3:%s \\n\"%(len(k1), len(k2), len(k3)))\n",
        "# Ensures that we have the corresponding paper decisions for all papers in the daaset\n",
        "print(k1-k2)\n",
        "# These are DeskRejected papers or withdrawn papers\n",
        "print(k3-k1)\n",
        "# All papers in the dataset have the official reviews\n",
        "print(k1-k3)"
      ],
      "execution_count": 0,
      "outputs": [
        {
          "output_type": "stream",
          "text": [
            "2213\n",
            "2213\n",
            "2561\n",
            "\n",
            "\n",
            "k1:2213, k2:2213, k3:2561 \n",
            "\n",
            "set()\n",
            "{'SkeJMCVFDS', 'HkebMlrFPS', 'S1ebsJrFwS', 'SklEs2EYvS', 'Skx1dhNYPS', 'HJgLlgBKvH', 'ryegXAVKDB', 'Bke5aJBKvH', 'H1lkCTVFwB', 'B1gL904FwH', 'S1xRbxHYDr', 'BJluPerYvB', 'r1g4onVYvS', 'BJxRrlBFwB', 'BJlo91BYPr', 'rkxsgkHKvH', 'HJg0_eBFwB', 'B1lf4yBYPr', 'H1xTEgBKvB', 'BJl_a2VYPH', 'BJxD11HFDS', 'BJg_FgBtPH', 'SkgBfaNKPr', 'B1lpxCVYDr', 'HygUBaEFDB', 'Skg7TerKPH', 'rJlaY3VYDr', 'rJlHea4Kvr', 'SylDPJrYvS', 'BJxoz1rKwr', 'SJenMR4twH', 'SyxytxBFDr', 'H1l0e6VKDS', 'rkgZaT4tDr', 'SJgubJrKPr', 'BJxg7eHYvB', 'B1gtK0NKwr', 'HklJ4gSFPS', 'HJgjuCVKwS', 'BJgMn0EYPB', 'SJxngREtDB', 'Sklia3EFPH', 'SkgC6yHtvB', 'r1xQH0EtvH', 'r1lI3ertwH', 'rJgKzlSKPH', 'H1xtU6VtwH', 'ryl260NYDr', 'HJgJNCEKPr', 'HklOjkHKDr', 'SyxoygBKwB', 'SJlzvTNtvS', 'Hklk6xrYPB', 'Hyljn1SFwr', 'H1lnZlHYDS', 'B1xgWpEKvH', 'H1l7AkrFPS', 'r1xBoxBYDH', 'BJgpDyHKwH', 'SJxivAEYvr', 'r1gmu1SYDS', 'SJxbu6VKDr', 'B1gi-TVKwB', 'S1gV36NKPS', 'BkxnKkrtvS', 'rJg4GgHKPB', 'Bkx5ceHFwH', 'SJgJ-AEYPB', 'S1lLvyBtPB', 'Sklw_kHtPH', 'HJxaC1rKDS', 'SkgrV6EFPB', 'B1gikpEtwH', 'HJgR5lSFwr', 'ryxgegBKwr', 'SJxyOhVtvB', 'SkgYJaEFwS', 'BkxmKgHtwH', 'rkg_wREYDS', 'S1eFpa4KvS', 'SJlPZlStwS', 'BkltK0NtPr', 'SJeNA6EtDB', 'Ske066VFwS', 'BJlLQlrFwS', 'ByxSdh4tPS', 'Sye2c3NYDB', 'BJxOZ04Kvr', 'r1g7xT4Kwr', 'HJezqlrKvr', 'H1edV6VKvS', 'ByeYOerFvr', 'BJl7WyHFDS', 'BJgRjTNtPH', 'SkxhS6EYvH', 'BkejpaVFDH', 'r1e1q3VFvH', 'HJeOHJHFPH', 'SyliaANtwH', 'Bkgz_krKPB', 'BJxpIJHKwB', 'B1lsFlrKDr', 'Hyx_6p4tDr', 'ryx_Y6EYwH', 'HyxjWANFwH', 'rkeMj3VtvB', 'rygGnertwH', 'SJlCK1rYwB', 'rkeJzpNtPS', 'Skx2iCNFwB', 'rkxxKhVYwr', 'B1lFkRNKDS', 'rkgNJCVKPS', 'rkgOuJBtPS', 'S1xD6xHKDr', 'rkxloaEYwB', 'Byx_GeSKPS', 'r1edp2VYwH', 'BJgedkStDS', 'S1eUd64tDr', 'rkx9_gHtvS', 'SJe7mC4twH', 'Bkll_kHFPB', 'BkxDKREtPS', 'BJgcxxSKvr', 'B1lOzpVtDB', 'SJg3T2EFvr', 'Hke2Rh4Kvr', 'BJeHFlBYvB', 'SkgHtkrYPH', 'SJe-3REFwr', 'HJe4ipEKDB', 'Bkx8JJBtDS', 'S1l2IyrYPr', 'B1x_K04YwS', 'rkx6MJSFPH', 'rkeH6AEYvr', 'ryezBaNKDB', 'BJej7kBYwS', 'BJxV6A4FDH', 'BygXY34FDr', 'H1lVIxHtPS', 'H1lpE0VFPS', 'SkxnuTNtDS', 'rJlS-ertwr', 'B1eksh4KvH', 'Hkla70NFPH', 'HylohJrKPS', 'Bkeqb1BFvB', 'rJx5_hNFwr', 'rJeUPlrYvr', 'H1egcgHtvB', 'rkgTKerYwr', 'H1lyRpEFPB', 'BklZ9A4YDr', 'rJlBQkrFvr', 'SJeRVRVYwS', 'HklbIerFDS', 'S1lvWeBFwB', 'BJepraEFPr', 'SkexAREFDH', 'BJe6BkHYDB', 'Sygt9yBtPS', 'HJgub1SKDH', 'SyxBxCNFwr', 'rklzaCNtvS', 'HJl6tC4KwB', 'HJel8aEKPB', 'SJx371HFvr', 'BJl4pA4Kwr', 'rkeZO1BFDB', 'H1gJ2RVFPH', 'HygaSxHYvH', 'SJe2YxBtPB', 'S1epu2EtPB', 'SkgNZeSKPB', 'Syg9YyBFvS', 'ByeOkyrtPS', 'Skx5ua4twS', 'rylK-kBYwr', 'SJe4SJrFDr', 'HylUPnVKvH', 'S1eof0VKwH', 'HJgY6R4YPH', 'SkeGURNtDH', 'H1lqSC4YvB', 'SyeOVTEFPH', 'rygpAnEKDH', 'rJxs5p4twr', 'S1gINCVYDH', 'S1x6ueSKPr', 'BkgL7kBtDH', 'SygT21SFvB', 'HJxYHT4tPS', 'BJewThEtDB', 'rJgsgCVYwS', 'Hkgty1BFDS', 'B1xgv0NtwH', 'S1ljpTEFPB', 'Byl1e1BFPH', 'HJxB3AEFDS', 'S1gAO0EYwB', 'S1gV5gHKvB', 'SJxjanVKDH', 'Hkg6TySFDr', 'rye4lT4tvB', 'BJlFzkSFwr', 'Bye30kSYDH', 'ryxO3gBtPB', 'BJeI4TVYvS', 'ryey1TNKvH', 'Skl-fAVYvH', 'SyekUyrFPS', 'Hyee-0VFPH', 'H1g7sxHKPr', 'H1lUp1BYDH', 'S1xSSTNKDB', 'HkljrTEKvr', 'HkxGaeHKvB', 'SkgPvlSYwS', 'Byxn9CNYPr', 'BygdR0VKDr', 'H1gW93NKvH', 'r1lUE04YPB', 'HJeN6grYDr', 'HkeFQgrFDr', 'Sye9lyHKwB', 'ByebT3EYvr', 'SyePUgBtPr', 'HJxw9lStPH', 'Hkl8Ia4YPH', 'HylwpaNKPB', 'B1grayHYDH', 'B1gd0nEFwS', 'BJema04FvS', 'HyxfGCVYDr', 'r1g_R6EKvr', 'HylYtaVtwS', 'r1ehEgHKwH', 'r1gzaCEtPS', 'BygG3hEYvB', 'S1ln1TNKvH', 'B1ln0hNFDS', 'BJxpbREKvB', 'ByxDJyHYPS', 'BJeVXgBKDH', 'HJe1gaVtwS', 'B1eWu0NtDS', 'HkxHXJrtPr', 'HkgeUeHFPB', 'r1xyayrtDS', 'HkxLiJSKwB', 'SkxEWgStDr', 'S1gLC3VtPB', 'S1gE6TEYDB', 'S1xFm6VKDH', 'rJlJF1SYPB', 'BkelnhNFwB', 'BJldrxBtwB', 'HylvlaVtwr', 'BygInyBFPr', 'r1lceRNYwS', 'Bkgv71rtwr', 'SJlo_TVKwS', 'Hkx9UaNKDH', 'r1x1kJHKDH', 'BJlG5a4FvB', 'ByxV2kBYwB', 'rJxoi1HtPr', 'SklqvxSFDB', 'SkgpGgrYPH', 'rJe6t1SFDB', 'B1g5qyHYPS', 'Bygw86VKwS', 'S1xTMyHYwB', 'HJgQpgBKDH', 'r1g8C04FwB', 'rylB0nNKDr', 'HyxakgrFvS', 'B1lmSeHKwB', 'ByevJerKwS', 'BkgE2yHYDr', 'H1gjM1SFDr', 'BylIA1HYwS', 'ByetnC4FwS', 'HyxcZT4KwB', 'SJx0F2VtwB', 'BJl750VYwH', 'r1xBk6NKwr', 'SJxSn0EYvS', 'r1lDIC4FDH', 'HkeO76EKDr', 'r1lxvxBtvr', 'HylYBlBYvB', 'rklKdJSYPS', 'S1lxBR4FDr', 'Syl5mRNtvr', 'rJgWiaNtwH', 'HkgM81SYDr', 'BJxZdnVFPB', 'BklS6ANFDH', 'SygaYANFPr', 'HJlys1BtwB', 'Hyl5V0EYvB', 'rJlCXlBtwH', 'SyxQh3EFDr', 'BygWBRNtvH', 'HygP3TVFvS', 'SyxhapVYvH', 'Hyg6neStDr', 'r1x3R6NtwB', 'B1eYGkBKDB', 'ryeot3EYPB', 'H1xk6AEFwr', 'SkxwY3NtPr', 'BklYhxBYwH', 'SJeo46VFDr', 'B1gKVeBtDH', 'rJlhYa4FPB', 'rygL4gStDS', 'rkxNQJrFPH', 'Skg7VAEKDS', 'BJegjn4FPB', 'SJgAURVtPH', 'Bklfcxrtvr', 'B1e5NySKwH', 'rkgi6JSYvB', 'ByxI62NFvB', 'rygHq6EFvB', 'SJgg_yHKvH', 'rJlvJCVFvS', 'BJxA924YvS', 'BylssnVFwH', 'HyxsR24tvS', 'HkevCyrFDS', 'SJllFpVYwS', 'SJxjVaNKwB', 'rJg2fTNtwr', 'ryg2wlSFwS', 'SkliR1SKDS', 'BkglepEFDS', 'rJxilTNtDB', 'ryeSKAVtPB', 'r1eoflSFvS', 'BkxaXeHYDB', 'SyekweSFPr', 'Bkgr2kHKDH', 'B1gNfkrYvS'}\n",
            "set()\n"
          ],
          "name": "stdout"
        }
      ]
    },
    {
      "cell_type": "code",
      "metadata": {
        "id": "HH8iZZP5NAkP",
        "colab_type": "code",
        "outputId": "955fdc5f-0732-471b-f470-ad5f3a5268cf",
        "colab": {
          "base_uri": "https://localhost:8080/",
          "height": 35
        }
      },
      "source": [
        "avg_reviews = 0\n",
        "for review in off_rev_dict:\n",
        "    avg_reviews += len(off_rev_dict[review])\n",
        "print(\"Average number of reviews for papers: \", avg_reviews/len(off_rev_dict))"
      ],
      "execution_count": 0,
      "outputs": [
        {
          "output_type": "stream",
          "text": [
            "Average number of reviews for papers:  3.0359234673955484\n"
          ],
          "name": "stdout"
        }
      ]
    },
    {
      "cell_type": "markdown",
      "metadata": {
        "id": "Veck2u8qNue2",
        "colab_type": "text"
      },
      "source": [
        "**Save pickle files**"
      ]
    },
    {
      "cell_type": "code",
      "metadata": {
        "id": "UIv3758UN0cz",
        "colab_type": "code",
        "colab": {}
      },
      "source": [
        "with open(data_dir + \"papers_2020.pkl\", \"wb\") as f:\n",
        "    pickle.dump(papers_dict, f)\n",
        "\n",
        "with open(data_dir + \"paper_decision_dict_2020.pkl\", \"wb\") as f:\n",
        "    pickle.dump(paper_decision_dict, f)\n",
        "\n",
        "with open(data_dir + \"off_rev_dict_2020.pkl\", \"wb\") as f:\n",
        "    pickle.dump(off_rev_dict, f)"
      ],
      "execution_count": 0,
      "outputs": []
    },
    {
      "cell_type": "code",
      "metadata": {
        "id": "TgHCt2MdTPeB",
        "colab_type": "code",
        "colab": {}
      },
      "source": [
        ""
      ],
      "execution_count": 0,
      "outputs": []
    },
    {
      "cell_type": "code",
      "metadata": {
        "id": "0kUtWQUPTPrR",
        "colab_type": "code",
        "colab": {}
      },
      "source": [
        ""
      ],
      "execution_count": 0,
      "outputs": []
    },
    {
      "cell_type": "code",
      "metadata": {
        "id": "h47yoaGlTP8B",
        "colab_type": "code",
        "colab": {}
      },
      "source": [
        ""
      ],
      "execution_count": 0,
      "outputs": []
    },
    {
      "cell_type": "markdown",
      "metadata": {
        "id": "Lb3-VtCiTRhd",
        "colab_type": "text"
      },
      "source": [
        "**GET 2019 DATA**"
      ]
    },
    {
      "cell_type": "code",
      "metadata": {
        "id": "6zt-Sj19TQpW",
        "colab_type": "code",
        "outputId": "89e6d0f1-1f54-402f-9093-d1f555e97113",
        "colab": {
          "base_uri": "https://localhost:8080/",
          "height": 1000
        }
      },
      "source": [
        "iclr2019_group = client.get_group(\"ICLR.cc/2019/Conference\")\n",
        "print(iclr2019_group)"
      ],
      "execution_count": 0,
      "outputs": [
        {
          "output_type": "stream",
          "text": [
            "{'cdate': None,\n",
            " 'ddate': None,\n",
            " 'details': {'writable': False},\n",
            " 'id': 'ICLR.cc/2019/Conference',\n",
            " 'members': ['iclr2019admin@openreview.net'],\n",
            " 'nonreaders': [],\n",
            " 'readers': ['everyone'],\n",
            " 'signatories': ['ICLR.cc/2019/Conference'],\n",
            " 'signatures': ['~Super_User1'],\n",
            " 'web': '// ------------------------------------\\n'\n",
            "        '// Advanced venue homepage template\\n'\n",
            "        '//\\n'\n",
            "        '// This webfield displays the conference header (#header), the submit '\n",
            "        'button (#invitation),\\n'\n",
            "        '// and a tabbed interface for viewing various types of notes.\\n'\n",
            "        '// ------------------------------------\\n'\n",
            "        '\\n'\n",
            "        '// Constants\\n'\n",
            "        \"var CONFERENCE = 'ICLR.cc/2019/Conference';\\n\"\n",
            "        \"var INVITATION = CONFERENCE + '/-/Submission';\\n\"\n",
            "        \"var BLIND_INVITATION = CONFERENCE + '/-/Blind_Submission';\\n\"\n",
            "        \"var WITHDRAWN_INVITATION = CONFERENCE + '/-/Withdrawn_Submission';\\n\"\n",
            "        '\\n'\n",
            "        'var initialPageLoad = true;\\n'\n",
            "        '\\n'\n",
            "        '// Main is the entry point to the webfield code and runs everything\\n'\n",
            "        'function main() {\\n'\n",
            "        \"  Webfield.ui.setup('#group-container', CONFERENCE);  // required\\n\"\n",
            "        '\\n'\n",
            "        '  renderConferenceHeader();\\n'\n",
            "        '\\n'\n",
            "        '  load().then(renderContent).then(Webfield.ui.done);\\n'\n",
            "        '}\\n'\n",
            "        '\\n'\n",
            "        '// Load makes all the API calls needed to get the data to render the '\n",
            "        'page\\n'\n",
            "        '// It returns a jQuery deferred object: '\n",
            "        'https://api.jquery.com/category/deferred-object/\\n'\n",
            "        'function load() {\\n'\n",
            "        \"  var notesP = Webfield.getAll('/notes', { invitation: \"\n",
            "        \"BLIND_INVITATION, details: 'replyCount' });\\n\"\n",
            "        '\\n'\n",
            "        \"  var withdrawnNotesP = Webfield.getAll('/notes', { invitation: \"\n",
            "        'WITHDRAWN_INVITATION, noDetails: true });\\n'\n",
            "        '\\n'\n",
            "        \"  var decisionNotesP = Webfield.getAll('/notes', { invitation: \"\n",
            "        \"'ICLR.cc/2019/Conference/-/Paper.*/Meta_Review', noDetails: true });\\n\"\n",
            "        '\\n'\n",
            "        '  return $.when(notesP, withdrawnNotesP, decisionNotesP);\\n'\n",
            "        '}\\n'\n",
            "        '\\n'\n",
            "        '\\n'\n",
            "        '// Render functions\\n'\n",
            "        'function renderConferenceHeader() {\\n'\n",
            "        '  Webfield.ui.venueHeader({\\n'\n",
            "        \"    title: 'ICLR 2019',\\n\"\n",
            "        \"    subtitle: 'International Conference on Learning \"\n",
            "        \"Representations',\\n\"\n",
            "        \"    location: 'New Orleans, Louisiana, United States',\\n\"\n",
            "        \"    date: 'May 6 - May 9, 2019',\\n\"\n",
            "        \"    website: 'https://iclr.cc/Conferences/2019',\\n\"\n",
            "        \"    instructions: '<p><strong>Questions or Concerns</strong></p>\\\\\\n\"\n",
            "        '      <p>Please contact the OpenReview support team at \\\\\\n'\n",
            "        '      <a href=\"mailto:info@openreview.net\">info@openreview.net</a> '\n",
            "        'with any questions or concerns about the OpenReview platform.<br/>\\\\\\n'\n",
            "        '      Please contact the ICLR 2019 Program Chairs at \\\\\\n'\n",
            "        '      <a '\n",
            "        'href=\"mailto:iclr2019programchairs@googlegroups.com\">iclr2019programchairs@googlegroups.com</a> '\n",
            "        'with any questions or concerns about conference administration or '\n",
            "        'policy.\\\\\\n'\n",
            "        \"      </p>'\\n\"\n",
            "        '  });\\n'\n",
            "        '\\n'\n",
            "        \"  Webfield.ui.spinner('#notes');\\n\"\n",
            "        '}\\n'\n",
            "        '\\n'\n",
            "        'function renderContent(notes, withdrawnNotes, decisionsNotes) {\\n'\n",
            "        '\\n'\n",
            "        '  var notesDict = {};\\n'\n",
            "        '  _.forEach(notes, function(n) {\\n'\n",
            "        '    notesDict[n.id] = n;\\n'\n",
            "        '  });\\n'\n",
            "        '\\n'\n",
            "        '  var oralDecisions = [];\\n'\n",
            "        '  var posterDecisions = [];\\n'\n",
            "        '  var submittedPapers = withdrawnNotes;\\n'\n",
            "        '\\n'\n",
            "        '  _.forEach(decisionsNotes, function(d) {\\n'\n",
            "        '\\n'\n",
            "        '    if (_.has(notesDict, d.forum)) {\\n'\n",
            "        \"      if (d.content.recommendation === 'Accept (Oral)') {\\n\"\n",
            "        '        oralDecisions.push(notesDict[d.forum]);\\n'\n",
            "        \"      } else if (d.content.recommendation === 'Accept (Poster)') {\\n\"\n",
            "        '        posterDecisions.push(notesDict[d.forum]);\\n'\n",
            "        \"      } else if (d.content.recommendation === 'Reject') {\\n\"\n",
            "        '        submittedPapers.push(notesDict[d.forum]);\\n'\n",
            "        '      }\\n'\n",
            "        '    }\\n'\n",
            "        '  });\\n'\n",
            "        '\\n'\n",
            "        '  oralDecisions = _.sortBy(oralDecisions, function(o) { return o.id; '\n",
            "        '});\\n'\n",
            "        '  posterDecisions = _.sortBy(posterDecisions, function(o) { return '\n",
            "        'o.id; });\\n'\n",
            "        '  submittedPapers = _.sortBy(submittedPapers, function(o) { return '\n",
            "        'o.id; });\\n'\n",
            "        '\\n'\n",
            "        '  var papers = {\\n'\n",
            "        \"    'accepted-oral-papers': oralDecisions,\\n\"\n",
            "        \"    'accepted-poster-papers': posterDecisions,\\n\"\n",
            "        \"    'rejected-papers': submittedPapers\\n\"\n",
            "        '  }\\n'\n",
            "        '  \\n'\n",
            "        '  var paperDisplayOptions = {\\n'\n",
            "        '    pdfLink: true,\\n'\n",
            "        '    replyCount: true,\\n'\n",
            "        '    showContents: true\\n'\n",
            "        '  };\\n'\n",
            "        '\\n'\n",
            "        '  var activeTab = 0;\\n'\n",
            "        '  var loadingContent = Handlebars.templates.spinner({ extraClasses: '\n",
            "        \"'spinner-inline' });\\n\"\n",
            "        '  var sections = [\\n'\n",
            "        '    {\\n'\n",
            "        \"      heading: 'Oral Presentations',\\n\"\n",
            "        \"      id: 'accepted-oral-papers',\\n\"\n",
            "        '      content: null\\n'\n",
            "        '    },\\n'\n",
            "        '    {\\n'\n",
            "        \"      heading: 'Poster Presentations',\\n\"\n",
            "        \"      id: 'accepted-poster-papers',\\n\"\n",
            "        '      content: loadingContent\\n'\n",
            "        '    },\\n'\n",
            "        '    {\\n'\n",
            "        \"      heading: 'Submitted Papers',\\n\"\n",
            "        \"      id: 'rejected-papers',\\n\"\n",
            "        '      content: loadingContent\\n'\n",
            "        '    }\\n'\n",
            "        '  ];\\n'\n",
            "        '\\n'\n",
            "        '  sections[activeTab].active = true;\\n'\n",
            "        '\\n'\n",
            "        \"  $('#notes .tabs-container').remove();\\n\"\n",
            "        '\\n'\n",
            "        '  Webfield.ui.tabPanel(sections, {\\n'\n",
            "        \"    container: '#notes',\\n\"\n",
            "        '    hidden: true\\n'\n",
            "        '  });\\n'\n",
            "        '\\n'\n",
            "        \"  $('#group-container').on('shown.bs.tab', 'ul.nav-tabs li a', \"\n",
            "        'function(e) {\\n'\n",
            "        \"    activeTab = $(e.target).data('tabIndex');\\n\"\n",
            "        '    var containerId = sections[activeTab].id;\\n'\n",
            "        '\\n'\n",
            "        '    setTimeout(function() {\\n'\n",
            "        '      Webfield.ui.searchResults(\\n'\n",
            "        '        papers[containerId],\\n'\n",
            "        '        _.assign({}, paperDisplayOptions, {showTags: false, '\n",
            "        \"container: '#' + containerId})\\n\"\n",
            "        '      );\\n'\n",
            "        '    }, 100);\\n'\n",
            "        '  });\\n'\n",
            "        '\\n'\n",
            "        \"  $('#group-container').on('hidden.bs.tab', 'ul.nav-tabs li a', \"\n",
            "        'function(e) {\\n'\n",
            "        \"    var containerId = $(e.target).attr('href');\\n\"\n",
            "        '    Webfield.ui.spinner(containerId, {inline: true});\\n'\n",
            "        '  });  \\n'\n",
            "        '\\n'\n",
            "        '  Webfield.ui.searchResults(\\n'\n",
            "        '    oralDecisions,\\n'\n",
            "        '    _.assign({}, paperDisplayOptions, {showTags: false, container: '\n",
            "        \"'#accepted-oral-papers'})\\n\"\n",
            "        '  );\\n'\n",
            "        '\\n'\n",
            "        \"  $('#notes > .spinner-container').remove();\\n\"\n",
            "        \"  $('.tabs-container').show();\\n\"\n",
            "        '\\n'\n",
            "        '}\\n'\n",
            "        '\\n'\n",
            "        '// Go!\\n'\n",
            "        'main();\\n',\n",
            " 'writers': ['ICLR.cc/2019/Conference']}\n"
          ],
          "name": "stdout"
        }
      ]
    },
    {
      "cell_type": "code",
      "metadata": {
        "id": "f05D6IuWT0uf",
        "colab_type": "code",
        "colab": {}
      },
      "source": [
        "blind_sub_iter_2019 = openreview.tools.iterget_notes(client, invitation=\"ICLR.cc/2019/Conference/-/Blind_Submission\")\n",
        "papers_meta_dict = {}\n",
        "\n",
        "for blindsub in blind_sub_iter_2019:\n",
        "    fid = blindsub.forum\n",
        "    if fid in papers_meta_dict:\n",
        "\t    print(\"Duplicate entry: \", fid)\n",
        "    else:\n",
        "        papers_meta_dict[fid] = blindsub.__dict__\n",
        "\n",
        "# df = pd.DataFrame(papers_meta)"
      ],
      "execution_count": 0,
      "outputs": []
    },
    {
      "cell_type": "code",
      "metadata": {
        "id": "1py7hlyrT1UV",
        "colab_type": "code",
        "colab": {}
      },
      "source": [
        "withdrawn_iter = openreview.tools.iterget_notes(client, invitation=\"ICLR.cc/2019/Conference/-/Withdrawn_Submission\")\n",
        "\n",
        "withdrawn_list = []\n",
        "\n",
        "for w in withdrawn_iter:\n",
        "    withdrawn_list.append(w)"
      ],
      "execution_count": 0,
      "outputs": []
    },
    {
      "cell_type": "code",
      "metadata": {
        "id": "M7FE6mVnT1cm",
        "colab_type": "code",
        "outputId": "5c6cff1c-996f-4c09-bcf1-40d229165711",
        "colab": {
          "base_uri": "https://localhost:8080/",
          "height": 53
        }
      },
      "source": [
        "print(\"Papers meta: \", len(papers_meta_dict))\n",
        "print(\"Withdrawn papers: \", len(withdrawn_list))\n",
        "\n",
        "# Check all the papers are retrieved\n",
        "assert (len(withdrawn_list)+len(papers_meta_dict)) == 1579"
      ],
      "execution_count": 0,
      "outputs": [
        {
          "output_type": "stream",
          "text": [
            "Papers meta:  1419\n",
            "Withdrawn papers:  160\n"
          ],
          "name": "stdout"
        }
      ]
    },
    {
      "cell_type": "code",
      "metadata": {
        "id": "rzJMGPA7T1fk",
        "colab_type": "code",
        "colab": {}
      },
      "source": [
        "paper_decision_dict = {}\n",
        "\n",
        "# Paper.*/Meta_Review\n",
        "decision_iterator = openreview.tools.iterget_notes(client, invitation=\"ICLR.cc/2019/Conference/-/Paper.*/Meta_Review\")\n",
        "\n",
        "for review in decision_iterator:\n",
        "    # print(review)\n",
        "    # break\n",
        "    if review.forum in paper_decision_dict:\n",
        "        print(\"Encountered multiple for forum: \", review.forum)\n",
        "        # paper_decision_dict[review.forum][\"decision_1\"] = review.__dict__\n",
        "    else:\n",
        "        paper_decision_dict[review.forum] = {}\n",
        "        paper_decision_dict[review.forum][\"decision\"] = review.__dict__"
      ],
      "execution_count": 0,
      "outputs": []
    },
    {
      "cell_type": "code",
      "metadata": {
        "id": "aQw6JchKT1j1",
        "colab_type": "code",
        "outputId": "15ff569d-4c3b-40b1-f6b2-cda6980f57a9",
        "colab": {
          "base_uri": "https://localhost:8080/",
          "height": 35
        }
      },
      "source": [
        "len(paper_decision_dict)"
      ],
      "execution_count": 0,
      "outputs": [
        {
          "output_type": "execute_result",
          "data": {
            "text/plain": [
              "1419"
            ]
          },
          "metadata": {
            "tags": []
          },
          "execution_count": 61
        }
      ]
    },
    {
      "cell_type": "code",
      "metadata": {
        "id": "XYNfRIYtgMIa",
        "colab_type": "code",
        "colab": {}
      },
      "source": [
        "# Official_Review\n",
        "off_rev_dict = {}\n",
        "\n",
        "official_review_iter = openreview.tools.iterget_notes(client, invitation='ICLR.cc/2019/Conference/-/Paper.*/Official_Review')\n",
        "\n",
        "# Note in review, forum is the paperid, and id is the id of the review. For paper, both these fields are same. For eg, link to a review is of form:\n",
        "# https://openreview.net/forum?id=r1x0lxrFPS&noteId=HJgd6tglcS ,  where id=r1x0lxrFPS is forum/paper_id and noteId=HJgd6tglcS is the review_id(everything is a note).\n",
        "for off_rev in official_review_iter:\n",
        "    if off_rev.forum in off_rev_dict:\n",
        "        off_rev_dict[off_rev.forum].append(off_rev.__dict__)\n",
        "    else:\n",
        "        off_rev_dict[off_rev.forum] = [off_rev.__dict__]"
      ],
      "execution_count": 0,
      "outputs": []
    },
    {
      "cell_type": "code",
      "metadata": {
        "id": "ZvwWx2uvgMaA",
        "colab_type": "code",
        "outputId": "937095c6-2c44-4832-e06f-52664163da58",
        "colab": {
          "base_uri": "https://localhost:8080/",
          "height": 35
        }
      },
      "source": [
        "len(off_rev_dict)"
      ],
      "execution_count": 0,
      "outputs": [
        {
          "output_type": "execute_result",
          "data": {
            "text/plain": [
              "1565"
            ]
          },
          "metadata": {
            "tags": []
          },
          "execution_count": 74
        }
      ]
    },
    {
      "cell_type": "code",
      "metadata": {
        "id": "MKpNhkQ5cIcr",
        "colab_type": "code",
        "outputId": "08c0a516-8242-493b-ea63-4dc34332fdd5",
        "colab": {
          "base_uri": "https://localhost:8080/",
          "height": 217
        }
      },
      "source": [
        "print(len(papers_meta_dict))\n",
        "print(len(paper_decision_dict))\n",
        "print(len(off_rev_dict))\n",
        "\n",
        "k1 = set(papers_meta_dict.keys())\n",
        "k2 = set(paper_decision_dict.keys())\n",
        "k3 = set(off_rev_dict.keys())\n",
        "\n",
        "print(\"\\n\\nk1:%s, k2:%s, k3:%s \\n\"%(len(k1), len(k2), len(k3)))\n",
        "# Ensures that we have the corresponding paper decisions for all papers in the daaset\n",
        "print(k1-k2)\n",
        "# These are DeskRejected papers or withdrawn papers\n",
        "print(k3-k1)\n",
        "# All papers in the dataset have the official reviews\n",
        "print(k1-k3)"
      ],
      "execution_count": 0,
      "outputs": [
        {
          "output_type": "stream",
          "text": [
            "1419\n",
            "1419\n",
            "1565\n",
            "\n",
            "\n",
            "k1:1419, k2:1419, k3:1565 \n",
            "\n",
            "set()\n",
            "{'HkNN7nR5Ym', 'B1GRtj05t7', 'HJz1vo0cYX', 'rylU8oRctX', 'B1gTE2AcKQ', 'ByWMz305FQ', 'rJxA-h05KQ', 'HkxzDiAcK7', 'rkzcvoA9YX', 'rJEGwo0cFX', 'rJe-LiA5YX', 'ryxfHnCctX', 'H1GWAoRcKX', 'S1fNJhRqFX', 'SyxdbnR9YQ', 'BJgFcj0qKX', 'rkl85oRqYX', 'rklvnjRqY7', 'ryxMjoRcYm', 'BJlhEs09YQ', 'H1eRIoA5Y7', 'r1lFYoRcFm', 'rkGqLoR5tX', 'BJf9k305Fm', 'H1xLsjAqtX', 'r1eWW2RqFX', 'HJN6DiAcKQ', 'BJxz5jRcFm', 'B1enCo0cK7', 'rygPUoR9YQ', 'Sye8S209KX', 'BJgAfh09tm', 'BJxfJnC9YX', 'rJlfzhA9Y7', 'rJlGdsC9Ym', 'r1lcM3AcKm', 'Syfe2iR5FQ', 'Sylw7nCqFQ', 'SkgYciAqF7', 'BkeSusCcYm', 'HyxH2o05FQ', 'ryEquiR9KX', 'BJlr0j0ctX', 'SygeznA9YX', 'H1eZ6sRcFm', 'rkMlSnAqYX', 'S1eKJ3R5KQ', 'BJgWl3A5YX', 'r1MVuoCctX', 'rylBZ305KQ', 'SkGMOi05FQ', 'r1e-nj05FQ', 'r1ejxnCctX', 'HkzL4hR9Ym', 'S1g6zn09tm', 'HJM4SjR5KQ', 'SkfQAiA9YX', 'ryxnDoRcK7', 'r1GaAjRcF7', 'B1x0E2C5tQ', 'SJzwb2RcK7', 'rJegl2C9K7', 'ryxtE3C5Fm', 'SygNooCqY7', 'r1g5Gh05KQ', 'rkelDoCqFX', 'B1GHb2RqYX', 'BJlif3C5FQ', 'BkVvwj0qFm', 'BkMqUiA5KX', 'HyldojC9t7', 'B1l8SsR9Fm', 'SyG1QnRqF7', 'SkgD4jAcYX', 'Bylj6oC5K7', 'ByzoVi0cFQ', 'SyfdsjA9FX', 'HJEhIjA9tQ', 'SygjB3AcYX', 'BJlSQnR5t7', 'B1eZCjA9KX', 'HJeq43AqF7', 'SyEGUi05Km', 'rylxrsR9Fm', 'B1xHUiC5tm', 'ryfDoiR5Ym', 'H1Gnx2CqKQ', 'SJxbps09K7', 'H1zW13R5tm', 'Skf5qiC5KQ', 'rkl5CjC9Fm', 'rkgs0oAqFQ', 'rJxY_oCqKQ', 'HJz6QhR9YQ', 'ryxsCiAqKm', 'HylIcj0qFQ', 'HyesB2RqFQ', 'HkGb-3C5t7', 'Sy4G8sC9KX', 'SJfcrn0qKX', 'r1MmH30cY7', 'Byl9bhA5F7', 'SJl11nCctX', 'rJeyV2AcKX', 'BylTHoR5Km', 'rkgWBi09Ym', 'SJfWKsC5K7', 'B1lf43A5Y7', 'B1gVRi0qFQ', 'rJGgFjA9FQ', 'rJgdHs05FQ', 'Byg54oC5tQ', 'SJlYcoCcKX', 'HJxUX2C9Ym', 'rkxdpiA5Ym', 'S1eL8i0cFm', 'SkMPNoCcKQ', 'BJg_fnRqF7', 'rkMk9j0qYm', 'H1fs4oRqKm', 'SkeiPsAqK7', 'HJMINj05tQ', 'BJepX2A9tX', 'SJgzJh0qtQ', 'Skxqni09KX', 'SJxiHnCqKQ', 'rylRgh0qK7', 'B1g6XnCcKQ', 'rygvZ2RcYm', 'SJlp8sA5Y7', 'S1lCbhAqKX', 'rklNwjCcYm', 'BJzVUj0qtQ', 'BkeAf2CqY7', 'r1xce3ActX', 'BJe8niAqKX', 'B1EiIsCctm', 'H1xL_iR9Km', 'HklmIsC9Y7', 'HJgHwi0ctm', 'BylahsR9tX', 'HyxyV209Y7', 'HJxKajC5t7', 'SkeZEhR5FQ', 'BJlaYi05tm', 'B1liWh09F7'}\n",
            "set()\n"
          ],
          "name": "stdout"
        }
      ]
    },
    {
      "cell_type": "code",
      "metadata": {
        "id": "djAeMZAqjrEv",
        "colab_type": "code",
        "colab": {}
      },
      "source": [
        ""
      ],
      "execution_count": 0,
      "outputs": []
    },
    {
      "cell_type": "markdown",
      "metadata": {
        "id": "jtzz_qHYlPVC",
        "colab_type": "text"
      },
      "source": [
        "**Save pickle files**"
      ]
    },
    {
      "cell_type": "code",
      "metadata": {
        "id": "A8C37GunjrHo",
        "colab_type": "code",
        "colab": {}
      },
      "source": [
        "with open(data_dir + \"papers_2019.pkl\", \"wb\") as f:\n",
        "    pickle.dump(papers_meta_dict, f)\n",
        "\n",
        "with open(data_dir + \"paper_decision_dict_2019.pkl\", \"wb\") as f:\n",
        "    pickle.dump(paper_decision_dict, f)\n",
        "\n",
        "with open(data_dir + \"off_rev_dict_2019.pkl\", \"wb\") as f:\n",
        "    pickle.dump(off_rev_dict, f)"
      ],
      "execution_count": 0,
      "outputs": []
    },
    {
      "cell_type": "code",
      "metadata": {
        "id": "o1e2w1eljrKH",
        "colab_type": "code",
        "colab": {}
      },
      "source": [
        ""
      ],
      "execution_count": 0,
      "outputs": []
    },
    {
      "cell_type": "code",
      "metadata": {
        "id": "k1_RYEorlba4",
        "colab_type": "code",
        "colab": {}
      },
      "source": [
        ""
      ],
      "execution_count": 0,
      "outputs": []
    },
    {
      "cell_type": "code",
      "metadata": {
        "id": "TSAKUg20lbdk",
        "colab_type": "code",
        "colab": {}
      },
      "source": [
        ""
      ],
      "execution_count": 0,
      "outputs": []
    },
    {
      "cell_type": "code",
      "metadata": {
        "id": "Lil0ar6MlbgU",
        "colab_type": "code",
        "colab": {}
      },
      "source": [
        ""
      ],
      "execution_count": 0,
      "outputs": []
    },
    {
      "cell_type": "code",
      "metadata": {
        "id": "Ef0YLLwilbi5",
        "colab_type": "code",
        "colab": {}
      },
      "source": [
        ""
      ],
      "execution_count": 0,
      "outputs": []
    },
    {
      "cell_type": "code",
      "metadata": {
        "id": "jYAxWHyGaSF3",
        "colab_type": "code",
        "colab": {}
      },
      "source": [
        ""
      ],
      "execution_count": 0,
      "outputs": []
    },
    {
      "cell_type": "code",
      "metadata": {
        "id": "79fboRB5g2D8",
        "colab_type": "code",
        "colab": {}
      },
      "source": [
        ""
      ],
      "execution_count": 0,
      "outputs": []
    }
  ]
}