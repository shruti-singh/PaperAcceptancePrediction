{
 "cells": [
  {
   "cell_type": "code",
   "execution_count": 1,
   "metadata": {},
   "outputs": [],
   "source": [
    "import pandas as pd\n",
    "from glob import glob\n",
    "import pickle"
   ]
  },
  {
   "cell_type": "code",
   "execution_count": null,
   "metadata": {},
   "outputs": [],
   "source": []
  },
  {
   "cell_type": "code",
   "execution_count": 14,
   "metadata": {},
   "outputs": [
    {
     "name": "stdout",
     "output_type": "stream",
     "text": [
      "For year 2017:, count of papers_data is: 490 and decisions_data is 490\n"
     ]
    }
   ],
   "source": [
    "data_path = \"../ICLR data/masterdata_unbalanced/\"\n",
    "\n",
    "years = [2017, 2018, 2019, 2020]\n",
    "\n",
    "final_dataset = {}\n",
    "\n",
    "for y in years:\n",
    "    papers_data = pd.read_pickle(data_path + \"papers_{}.pkl\".format(y))\n",
    "    decisions_data = pd.read_pickle(data_path + \"paper_decision_dict_{}.pkl\".format(y))\n",
    "    \n",
    "    print(\"For year {}:, count of papers_data is: {} and decisions_data is {}\".format(y, len(papers_data), len(decisions_data)))\n",
    "    \n",
    "    for k,v in decisions_data.items():\n",
    "        if \"decision\" in decisions_data[k]:\n",
    "            if \"decision\" in decisions_data[k][\"decision\"][\"content\"]:\n",
    "                dec = decisions_data[k][\"decision\"][\"content\"][\"decision\"].lower()\n",
    "            else:\n",
    "                dec = decisions_data[k][\"decision\"][\"content\"][\"recommendation\"].lower()\n",
    "        else:\n",
    "            dec = decisions_data[k][\"content\"][\"decision\"].lower()\n",
    "        \n",
    "        #if dec.lower().find(\"invit\") > 0:\n",
    "        #    print(dec)\n",
    "        \n",
    "        final_dataset[str(y) + \"_\" + k] = papers_data[k]\n",
    "        final_dataset[str(y) + \"_\" + k][\"label\"] = dec\n",
    "        \n",
    "    break\n",
    "\n",
    "#     print(type(paper_dict))\n",
    "#     print(list(paper_dict.items())[0:1])\n",
    "#     break"
   ]
  },
  {
   "cell_type": "code",
   "execution_count": 15,
   "metadata": {},
   "outputs": [
    {
     "data": {
      "text/html": [
       "<div>\n",
       "<style scoped>\n",
       "    .dataframe tbody tr th:only-of-type {\n",
       "        vertical-align: middle;\n",
       "    }\n",
       "\n",
       "    .dataframe tbody tr th {\n",
       "        vertical-align: top;\n",
       "    }\n",
       "\n",
       "    .dataframe thead th {\n",
       "        text-align: right;\n",
       "    }\n",
       "</style>\n",
       "<table border=\"1\" class=\"dataframe\">\n",
       "  <thead>\n",
       "    <tr style=\"text-align: right;\">\n",
       "      <th></th>\n",
       "      <th>cdate</th>\n",
       "      <th>content</th>\n",
       "      <th>ddate</th>\n",
       "      <th>details</th>\n",
       "      <th>forum</th>\n",
       "      <th>id</th>\n",
       "      <th>invitation</th>\n",
       "      <th>label</th>\n",
       "      <th>nonreaders</th>\n",
       "      <th>number</th>\n",
       "      <th>original</th>\n",
       "      <th>readers</th>\n",
       "      <th>referent</th>\n",
       "      <th>replyto</th>\n",
       "      <th>signatures</th>\n",
       "      <th>tcdate</th>\n",
       "      <th>tmdate</th>\n",
       "      <th>writers</th>\n",
       "    </tr>\n",
       "  </thead>\n",
       "  <tbody>\n",
       "    <tr>\n",
       "      <th>2017_B1-Hhnslg</th>\n",
       "      <td>None</td>\n",
       "      <td>{'paperhash': 'snell|prototypical_networks_for...</td>\n",
       "      <td>None</td>\n",
       "      <td>{'replyCount': 9}</td>\n",
       "      <td>B1-Hhnslg</td>\n",
       "      <td>B1-Hhnslg</td>\n",
       "      <td>ICLR.cc/2017/conference/-/submission</td>\n",
       "      <td>reject</td>\n",
       "      <td>[]</td>\n",
       "      <td>581</td>\n",
       "      <td>None</td>\n",
       "      <td>[everyone]</td>\n",
       "      <td>None</td>\n",
       "      <td>None</td>\n",
       "      <td>[~Richard_Zemel1]</td>\n",
       "      <td>1478376505434</td>\n",
       "      <td>1481060777491</td>\n",
       "      <td>[]</td>\n",
       "    </tr>\n",
       "    <tr>\n",
       "      <th>2017_B1-q5Pqxl</th>\n",
       "      <td>None</td>\n",
       "      <td>{'paperhash': 'wang|machine_comprehension_usin...</td>\n",
       "      <td>None</td>\n",
       "      <td>{'replyCount': 18}</td>\n",
       "      <td>B1-q5Pqxl</td>\n",
       "      <td>B1-q5Pqxl</td>\n",
       "      <td>ICLR.cc/2017/conference/-/submission</td>\n",
       "      <td>accept (poster)</td>\n",
       "      <td>[]</td>\n",
       "      <td>417</td>\n",
       "      <td>None</td>\n",
       "      <td>[everyone]</td>\n",
       "      <td>None</td>\n",
       "      <td>None</td>\n",
       "      <td>[~Shuohang_Wang1]</td>\n",
       "      <td>1478290057546</td>\n",
       "      <td>1489370977828</td>\n",
       "      <td>[]</td>\n",
       "    </tr>\n",
       "  </tbody>\n",
       "</table>\n",
       "</div>"
      ],
      "text/plain": [
       "               cdate                                            content ddate  \\\n",
       "2017_B1-Hhnslg  None  {'paperhash': 'snell|prototypical_networks_for...  None   \n",
       "2017_B1-q5Pqxl  None  {'paperhash': 'wang|machine_comprehension_usin...  None   \n",
       "\n",
       "                           details      forum         id  \\\n",
       "2017_B1-Hhnslg   {'replyCount': 9}  B1-Hhnslg  B1-Hhnslg   \n",
       "2017_B1-q5Pqxl  {'replyCount': 18}  B1-q5Pqxl  B1-q5Pqxl   \n",
       "\n",
       "                                          invitation            label  \\\n",
       "2017_B1-Hhnslg  ICLR.cc/2017/conference/-/submission           reject   \n",
       "2017_B1-q5Pqxl  ICLR.cc/2017/conference/-/submission  accept (poster)   \n",
       "\n",
       "               nonreaders number original     readers referent replyto  \\\n",
       "2017_B1-Hhnslg         []    581     None  [everyone]     None    None   \n",
       "2017_B1-q5Pqxl         []    417     None  [everyone]     None    None   \n",
       "\n",
       "                       signatures         tcdate         tmdate writers  \n",
       "2017_B1-Hhnslg  [~Richard_Zemel1]  1478376505434  1481060777491      []  \n",
       "2017_B1-q5Pqxl  [~Shuohang_Wang1]  1478290057546  1489370977828      []  "
      ]
     },
     "execution_count": 15,
     "metadata": {},
     "output_type": "execute_result"
    }
   ],
   "source": [
    "paper_csv = pd.DataFrame.from_dict(final_dataset).T\n",
    "paper_csv.head(2)"
   ]
  },
  {
   "cell_type": "code",
   "execution_count": 10,
   "metadata": {},
   "outputs": [],
   "source": [
    "# Extracting Title, Abstract, Authors, Keywords from data\n",
    "paper_csv['title'] = [content['title'] for content in paper_csv['content']]\n",
    "paper_csv['authors'] = [content['authors'] for content in paper_csv['content']]\n",
    "paper_csv['abstract'] = [content['abstract'] for content in paper_csv['content']]\n",
    "paper_csv['keywords'] = [content['keywords'] for content in paper_csv['content']]\n",
    "paper_csv['tldr'] = [content[\"TL;DR\"] for content in paper_csv['content']]"
   ]
  },
  {
   "cell_type": "code",
   "execution_count": 16,
   "metadata": {},
   "outputs": [
    {
     "data": {
      "text/plain": [
       "{'TL;DR': 'We learn a metric space in which few-shot classification can be performed by computing Euclidean distances to a single prototype representative of each class.',\n",
       " 'abstract': 'A recent approach to few-shot classification called matching networks has demonstrated the benefits of coupling metric learning with a training procedure that mimics test. This approach relies on a complicated fine-tuning procedure and an attention scheme that forms a distribution over all points in the support set, scaling poorly with its size. We propose a more streamlined approach, prototypical networks, that learns a metric space in which few-shot classification can be performed by computing Euclidean distances to prototype representations of each class, rather than individual points. Our method is competitive with state-of-the-art one-shot classification approaches while being much simpler and more scalable with the size of the support set. We empirically demonstrate the performance of our approach on the Omniglot and mini-ImageNet datasets. We further demonstrate that a similar idea can be used for zero-shot learning, where each class is described by a set of attributes, and achieve state-of-the-art results on the Caltech UCSD bird dataset.',\n",
       " 'authorids': ['jsnell@cs.toronto.edu',\n",
       "  'kswersky@twitter.com',\n",
       "  'zemel@cs.toronto.edu'],\n",
       " 'authors': ['Jake Snell', 'Kevin Swersky', 'Richard Zemel'],\n",
       " 'conflicts': ['toronto.edu', 'twitter.com'],\n",
       " 'keywords': ['Deep learning', 'Transfer Learning'],\n",
       " 'paperhash': 'snell|prototypical_networks_for_fewshot_learning',\n",
       " 'pdf': '/pdf/1e1d8a1884188e3ce0db825def307a25c844c868.pdf',\n",
       " 'title': 'Prototypical Networks for Few-shot Learning'}"
      ]
     },
     "execution_count": 16,
     "metadata": {},
     "output_type": "execute_result"
    }
   ],
   "source": [
    "paper_csv.iloc[0]['content']"
   ]
  },
  {
   "cell_type": "code",
   "execution_count": null,
   "metadata": {},
   "outputs": [],
   "source": []
  }
 ],
 "metadata": {
  "kernelspec": {
   "display_name": "Python 3",
   "language": "python",
   "name": "python3"
  },
  "language_info": {
   "codemirror_mode": {
    "name": "ipython",
    "version": 3
   },
   "file_extension": ".py",
   "mimetype": "text/x-python",
   "name": "python",
   "nbconvert_exporter": "python",
   "pygments_lexer": "ipython3",
   "version": "3.5.2"
  }
 },
 "nbformat": 4,
 "nbformat_minor": 2
}
