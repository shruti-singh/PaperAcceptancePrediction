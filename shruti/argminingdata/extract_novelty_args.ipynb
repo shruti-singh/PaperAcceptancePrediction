{
 "cells": [
  {
   "cell_type": "code",
   "execution_count": 14,
   "metadata": {},
   "outputs": [],
   "source": [
    "import numpy as np\n",
    "import glob\n",
    "import pickle\n",
    "import pandas as pd"
   ]
  },
  {
   "cell_type": "code",
   "execution_count": 2,
   "metadata": {},
   "outputs": [],
   "source": [
    "data_path = \"/home/shruti/Desktop/iitgn/courses/SEM2/ML/Project/data/naacl_dataset/iclr_anno_final/\""
   ]
  },
  {
   "cell_type": "code",
   "execution_count": 3,
   "metadata": {},
   "outputs": [],
   "source": [
    "annotated_files = glob.glob(data_path + \"*.txt\")"
   ]
  },
  {
   "cell_type": "code",
   "execution_count": 4,
   "metadata": {},
   "outputs": [
    {
     "data": {
      "text/plain": [
       "(400,\n",
       " ['/home/shruti/Desktop/iitgn/courses/SEM2/ML/Project/data/naacl_dataset/iclr_anno_final/S1ufxZqlG_rating_4.txt',\n",
       "  '/home/shruti/Desktop/iitgn/courses/SEM2/ML/Project/data/naacl_dataset/iclr_anno_final/SkKuc-Kef_rating_4.txt',\n",
       "  '/home/shruti/Desktop/iitgn/courses/SEM2/ML/Project/data/naacl_dataset/iclr_anno_final/ryBakJUlz_rating_8.txt',\n",
       "  '/home/shruti/Desktop/iitgn/courses/SEM2/ML/Project/data/naacl_dataset/iclr_anno_final/H1NffmKgz_rating_6.txt'])"
      ]
     },
     "execution_count": 4,
     "metadata": {},
     "output_type": "execute_result"
    }
   ],
   "source": [
    "len(annotated_files), annotated_files[0:4]"
   ]
  },
  {
   "cell_type": "code",
   "execution_count": 5,
   "metadata": {},
   "outputs": [],
   "source": [
    "arg_dict = {}\n",
    "\n",
    "for rev_arg_file in annotated_files:\n",
    "    with open(rev_arg_file, \"r\") as f:\n",
    "        paper_id = rev_arg_file.split(\"/\")[-1].split(\"_\")[0]\n",
    "        file_cont = []\n",
    "        for line in f:\n",
    "            file_cont.append(line)\n",
    "        arg_dict[paper_id] = file_cont"
   ]
  },
  {
   "cell_type": "code",
   "execution_count": 16,
   "metadata": {},
   "outputs": [
    {
     "data": {
      "text/plain": [
       "'evaluation\\tThus this is very similar to other regularizers that increase smoothness of the function , such as total variation or a graph Laplacian defined with graph edges connecting the examples in each group , as well as manifold regularization ( see e.g. Belkin , Niyogi et al . JMLR ) .\\n'"
      ]
     },
     "execution_count": 16,
     "metadata": {},
     "output_type": "execute_result"
    }
   ],
   "source": [
    "arg_dict[\"SkKuc-Kef\"][2].startswith(\"evaluation\")\n",
    "arg_dict[\"SkKuc-Kef\"][2]"
   ]
  },
  {
   "cell_type": "code",
   "execution_count": 81,
   "metadata": {},
   "outputs": [],
   "source": [
    "keywords = [\"original\", \"proposal\", \"originality\", \"unique\", \"novelty\", \"novel\", \"contribution\", \"significance\", \"significant\"]\n",
    "\n",
    "novel_mentions = []\n",
    "\n",
    "for k in arg_dict:\n",
    "    for l in arg_dict[k]:\n",
    "        if l.startswith(\"evaluation\"):\n",
    "            l = l.lower()\n",
    "            if l.find(\"new\") > -1 and l.find(\"proposal\") > -1:\n",
    "                novel_mentions.append((k, l))\n",
    "                continue\n",
    "            for wo in keywords:\n",
    "                if l.find(wo) > -1:\n",
    "                    novel_mentions.append((k, l))\n",
    "                    break\n",
    "            "
   ]
  },
  {
   "cell_type": "code",
   "execution_count": 82,
   "metadata": {},
   "outputs": [
    {
     "data": {
      "text/plain": [
       "(363,\n",
       " [('r1gHCrFlM',\n",
       "   'evaluation\\toriginality + good extension of the work by swaminathan & joachims ( 2015a ) : derivation of an alternative objective and use of a deep networks .\\n'),\n",
       "  ('rydWCNKxz',\n",
       "   'evaluation\\toverall : - as is , it seems to me the paper lacks a significant central message ( due to limited and unfocused experiments ) or significant new theoretical insight into the effect of at .\\n'),\n",
       "  ('rJ9BTHFez',\n",
       "   'evaluation\\ti dont get what is the novelty in this paper .\\n'),\n",
       "  ('rJ9BTHFez',\n",
       "   'evaluation\\tas there is no novelty either in the proof techniques .\\n'),\n",
       "  ('HygXOMDxf',\n",
       "   'evaluation\\tso it is unclear if the authors ’ contributions are useful .\\n')])"
      ]
     },
     "execution_count": 82,
     "metadata": {},
     "output_type": "execute_result"
    }
   ],
   "source": [
    "len(novel_mentions), novel_mentions[0:5]"
   ]
  },
  {
   "cell_type": "code",
   "execution_count": null,
   "metadata": {},
   "outputs": [],
   "source": []
  },
  {
   "cell_type": "code",
   "execution_count": null,
   "metadata": {},
   "outputs": [],
   "source": []
  },
  {
   "cell_type": "code",
   "execution_count": null,
   "metadata": {},
   "outputs": [],
   "source": []
  },
  {
   "cell_type": "code",
   "execution_count": null,
   "metadata": {},
   "outputs": [],
   "source": []
  },
  {
   "cell_type": "code",
   "execution_count": 35,
   "metadata": {},
   "outputs": [],
   "source": [
    "with open('/home/shruti/Desktop/iitgn/courses/SEM2/ML/Project/code/PaperAcceptancePrediction/shruti/features/all_data_features_csv_17_20_new.pkl', 'rb') as f:\n",
    "    scores = pickle.load(f)"
   ]
  },
  {
   "cell_type": "code",
   "execution_count": 36,
   "metadata": {},
   "outputs": [
    {
     "data": {
      "text/html": [
       "<div>\n",
       "<style scoped>\n",
       "    .dataframe tbody tr th:only-of-type {\n",
       "        vertical-align: middle;\n",
       "    }\n",
       "\n",
       "    .dataframe tbody tr th {\n",
       "        vertical-align: top;\n",
       "    }\n",
       "\n",
       "    .dataframe thead th {\n",
       "        text-align: right;\n",
       "    }\n",
       "</style>\n",
       "<table border=\"1\" class=\"dataframe\">\n",
       "  <thead>\n",
       "    <tr style=\"text-align: right;\">\n",
       "      <th></th>\n",
       "      <th>id</th>\n",
       "      <th>n_authors</th>\n",
       "      <th>len_char_title</th>\n",
       "      <th>len_word_title</th>\n",
       "      <th>len_char_abstract</th>\n",
       "      <th>len_word_abstract</th>\n",
       "      <th>n_keywords</th>\n",
       "      <th>ref_len</th>\n",
       "      <th>ref_latest</th>\n",
       "      <th>num_recent_refs</th>\n",
       "      <th>...</th>\n",
       "      <th>contains_sota</th>\n",
       "      <th>avg_ref_length</th>\n",
       "      <th>num_sections</th>\n",
       "      <th>contains_appendix</th>\n",
       "      <th>fig_tab_eqn_count</th>\n",
       "      <th>contains_table</th>\n",
       "      <th>contains_figure</th>\n",
       "      <th>contains_equation</th>\n",
       "      <th>iclr_references</th>\n",
       "      <th>label</th>\n",
       "    </tr>\n",
       "  </thead>\n",
       "  <tbody>\n",
       "    <tr>\n",
       "      <th>2017_B1-Hhnslg</th>\n",
       "      <td>2017_B1-Hhnslg</td>\n",
       "      <td>3</td>\n",
       "      <td>43</td>\n",
       "      <td>5</td>\n",
       "      <td>1062</td>\n",
       "      <td>156</td>\n",
       "      <td>2</td>\n",
       "      <td>26</td>\n",
       "      <td>2016</td>\n",
       "      <td>19</td>\n",
       "      <td>...</td>\n",
       "      <td>1</td>\n",
       "      <td>30</td>\n",
       "      <td>11</td>\n",
       "      <td>0</td>\n",
       "      <td>6</td>\n",
       "      <td>1</td>\n",
       "      <td>1</td>\n",
       "      <td>1</td>\n",
       "      <td>1</td>\n",
       "      <td>Reject</td>\n",
       "    </tr>\n",
       "    <tr>\n",
       "      <th>2017_B1-q5Pqxl</th>\n",
       "      <td>2017_B1-q5Pqxl</td>\n",
       "      <td>2</td>\n",
       "      <td>57</td>\n",
       "      <td>7</td>\n",
       "      <td>1145</td>\n",
       "      <td>173</td>\n",
       "      <td>2</td>\n",
       "      <td>24</td>\n",
       "      <td>2016</td>\n",
       "      <td>23</td>\n",
       "      <td>...</td>\n",
       "      <td>0</td>\n",
       "      <td>60</td>\n",
       "      <td>17</td>\n",
       "      <td>1</td>\n",
       "      <td>13</td>\n",
       "      <td>1</td>\n",
       "      <td>1</td>\n",
       "      <td>0</td>\n",
       "      <td>3</td>\n",
       "      <td>Accept</td>\n",
       "    </tr>\n",
       "    <tr>\n",
       "      <th>2017_B16dGcqlx</th>\n",
       "      <td>2017_B16dGcqlx</td>\n",
       "      <td>3</td>\n",
       "      <td>31</td>\n",
       "      <td>4</td>\n",
       "      <td>1673</td>\n",
       "      <td>248</td>\n",
       "      <td>0</td>\n",
       "      <td>50</td>\n",
       "      <td>2016</td>\n",
       "      <td>22</td>\n",
       "      <td>...</td>\n",
       "      <td>0</td>\n",
       "      <td>268</td>\n",
       "      <td>14</td>\n",
       "      <td>1</td>\n",
       "      <td>15</td>\n",
       "      <td>0</td>\n",
       "      <td>1</td>\n",
       "      <td>1</td>\n",
       "      <td>1</td>\n",
       "      <td>Accept</td>\n",
       "    </tr>\n",
       "    <tr>\n",
       "      <th>2017_B184E5qee</th>\n",
       "      <td>2017_B184E5qee</td>\n",
       "      <td>3</td>\n",
       "      <td>56</td>\n",
       "      <td>8</td>\n",
       "      <td>631</td>\n",
       "      <td>99</td>\n",
       "      <td>1</td>\n",
       "      <td>49</td>\n",
       "      <td>2016</td>\n",
       "      <td>22</td>\n",
       "      <td>...</td>\n",
       "      <td>0</td>\n",
       "      <td>42</td>\n",
       "      <td>9</td>\n",
       "      <td>0</td>\n",
       "      <td>9</td>\n",
       "      <td>1</td>\n",
       "      <td>1</td>\n",
       "      <td>1</td>\n",
       "      <td>0</td>\n",
       "      <td>Accept</td>\n",
       "    </tr>\n",
       "  </tbody>\n",
       "</table>\n",
       "<p>4 rows × 23 columns</p>\n",
       "</div>"
      ],
      "text/plain": [
       "                            id  n_authors  len_char_title  len_word_title  \\\n",
       "2017_B1-Hhnslg  2017_B1-Hhnslg          3              43               5   \n",
       "2017_B1-q5Pqxl  2017_B1-q5Pqxl          2              57               7   \n",
       "2017_B16dGcqlx  2017_B16dGcqlx          3              31               4   \n",
       "2017_B184E5qee  2017_B184E5qee          3              56               8   \n",
       "\n",
       "                len_char_abstract  len_word_abstract  n_keywords  ref_len  \\\n",
       "2017_B1-Hhnslg               1062                156           2       26   \n",
       "2017_B1-q5Pqxl               1145                173           2       24   \n",
       "2017_B16dGcqlx               1673                248           0       50   \n",
       "2017_B184E5qee                631                 99           1       49   \n",
       "\n",
       "                ref_latest  num_recent_refs  ...  contains_sota  \\\n",
       "2017_B1-Hhnslg        2016               19  ...              1   \n",
       "2017_B1-q5Pqxl        2016               23  ...              0   \n",
       "2017_B16dGcqlx        2016               22  ...              0   \n",
       "2017_B184E5qee        2016               22  ...              0   \n",
       "\n",
       "                avg_ref_length  num_sections  contains_appendix  \\\n",
       "2017_B1-Hhnslg              30            11                  0   \n",
       "2017_B1-q5Pqxl              60            17                  1   \n",
       "2017_B16dGcqlx             268            14                  1   \n",
       "2017_B184E5qee              42             9                  0   \n",
       "\n",
       "                fig_tab_eqn_count  contains_table  contains_figure  \\\n",
       "2017_B1-Hhnslg                  6               1                1   \n",
       "2017_B1-q5Pqxl                 13               1                1   \n",
       "2017_B16dGcqlx                 15               0                1   \n",
       "2017_B184E5qee                  9               1                1   \n",
       "\n",
       "                contains_equation  iclr_references   label  \n",
       "2017_B1-Hhnslg                  1                1  Reject  \n",
       "2017_B1-q5Pqxl                  0                3  Accept  \n",
       "2017_B16dGcqlx                  1                1  Accept  \n",
       "2017_B184E5qee                  1                0  Accept  \n",
       "\n",
       "[4 rows x 23 columns]"
      ]
     },
     "execution_count": 36,
     "metadata": {},
     "output_type": "execute_result"
    }
   ],
   "source": [
    "scores.head(4)"
   ]
  },
  {
   "cell_type": "code",
   "execution_count": 37,
   "metadata": {},
   "outputs": [],
   "source": [
    "scores = scores.to_dict('index')"
   ]
  },
  {
   "cell_type": "code",
   "execution_count": 39,
   "metadata": {},
   "outputs": [
    {
     "data": {
      "text/plain": [
       "{'abs_glove_avg': 0.06975370645523071,\n",
       " 'avg_ref_length': 50,\n",
       " 'avg_sent_len': 34.333333333333336,\n",
       " 'contains_appendix': 0,\n",
       " 'contains_equation': 0,\n",
       " 'contains_figure': 1,\n",
       " 'contains_ml_keyword': 1,\n",
       " 'contains_sota': 0,\n",
       " 'contains_table': 1,\n",
       " 'fig_tab_eqn_count': 10,\n",
       " 'iclr_references': 0,\n",
       " 'id': '2018_SkAK2jg0b',\n",
       " 'label': 'Reject',\n",
       " 'len_char_abstract': 1250,\n",
       " 'len_char_title': 74,\n",
       " 'len_word_abstract': 183,\n",
       " 'len_word_title': 8,\n",
       " 'n_authors': 8,\n",
       " 'n_keywords': 3,\n",
       " 'num_recent_refs': 26,\n",
       " 'num_sections': 10,\n",
       " 'ref_latest': 2017,\n",
       " 'ref_len': 32}"
      ]
     },
     "execution_count": 39,
     "metadata": {},
     "output_type": "execute_result"
    }
   ],
   "source": [
    "scores[\"2018_SkAK2jg0b\"]"
   ]
  },
  {
   "cell_type": "code",
   "execution_count": 48,
   "metadata": {},
   "outputs": [],
   "source": [
    "with open(\"/home/shruti/Desktop/iitgn/courses/SEM2/ML/Project/code/PaperAcceptancePrediction/ICLR data/masterdata_unbalanced/off_rev_dict_2018.pkl\", \"rb\") as f:\n",
    "    rev18 = pickle.load(f)"
   ]
  },
  {
   "cell_type": "code",
   "execution_count": 54,
   "metadata": {},
   "outputs": [
    {
     "data": {
      "text/plain": [
       "dict_keys(['ddate', 'signatures', 'tcdate', 'invitation', 'original', 'details', 'content', 'nonreaders', 'cdate', 'referent', 'id', 'tmdate', 'writers', 'number', 'readers', 'forum', 'replyto'])"
      ]
     },
     "execution_count": 54,
     "metadata": {},
     "output_type": "execute_result"
    }
   ],
   "source": [
    "rev18[\"HyxjwgbRZ\"][0].keys()"
   ]
  },
  {
   "cell_type": "code",
   "execution_count": 55,
   "metadata": {},
   "outputs": [],
   "source": [
    "review_ids = {}\n",
    "\n",
    "for k in rev18:\n",
    "    for rev in rev18[k]:\n",
    "        review_ids[rev[\"id\"]] = k"
   ]
  },
  {
   "cell_type": "code",
   "execution_count": 56,
   "metadata": {},
   "outputs": [
    {
     "data": {
      "text/plain": [
       "'SyPMT6gAb'"
      ]
     },
     "execution_count": 56,
     "metadata": {},
     "output_type": "execute_result"
    }
   ],
   "source": [
    "review_ids[\"r1gHCrFlM\"]"
   ]
  },
  {
   "cell_type": "code",
   "execution_count": 83,
   "metadata": {},
   "outputs": [
    {
     "name": "stdout",
     "output_type": "stream",
     "text": [
      "331\n"
     ]
    }
   ],
   "source": [
    "excel_data = []\n",
    "count = 0\n",
    "\n",
    "for tup in novel_mentions:\n",
    "    data_tuple = [tup[0], tup[1], ]\n",
    "    key = tup[0]\n",
    "    if key in review_ids:\n",
    "        count += 1\n",
    "        data_tuple.append(review_ids[key])\n",
    "    else:\n",
    "        data_tuple.append(\"Absent\")\n",
    "    excel_data.append(data_tuple)\n",
    "print(count)"
   ]
  },
  {
   "cell_type": "code",
   "execution_count": 84,
   "metadata": {},
   "outputs": [
    {
     "data": {
      "text/plain": [
       "(363,\n",
       " [['r1gHCrFlM',\n",
       "   'evaluation\\toriginality + good extension of the work by swaminathan & joachims ( 2015a ) : derivation of an alternative objective and use of a deep networks .\\n',\n",
       "   'SyPMT6gAb'],\n",
       "  ['rydWCNKxz',\n",
       "   'evaluation\\toverall : - as is , it seems to me the paper lacks a significant central message ( due to limited and unfocused experiments ) or significant new theoretical insight into the effect of at .\\n',\n",
       "   'SyjsLqxR-'],\n",
       "  ['rJ9BTHFez',\n",
       "   'evaluation\\ti dont get what is the novelty in this paper .\\n',\n",
       "   'HyY0Ff-AZ']])"
      ]
     },
     "execution_count": 84,
     "metadata": {},
     "output_type": "execute_result"
    }
   ],
   "source": [
    "len(novel_mentions), excel_data[0:3]"
   ]
  },
  {
   "cell_type": "code",
   "execution_count": 85,
   "metadata": {},
   "outputs": [
    {
     "name": "stdout",
     "output_type": "stream",
     "text": [
      "    ReviewId                                           Argument    PaperId\n",
      "0  r1gHCrFlM  evaluation\\toriginality + good extension of th...  SyPMT6gAb\n",
      "1  rydWCNKxz  evaluation\\toverall : - as is , it seems to me...  SyjsLqxR-\n"
     ]
    }
   ],
   "source": [
    "df = pd.DataFrame(excel_data, columns = ['ReviewId', 'Argument', 'PaperId'])\n",
    "print(df.head(2))\n",
    "df.to_excel('novelty_comments.xlsx', sheet_name='sheet1', index=False)"
   ]
  },
  {
   "cell_type": "code",
   "execution_count": null,
   "metadata": {},
   "outputs": [],
   "source": []
  }
 ],
 "metadata": {
  "kernelspec": {
   "display_name": "Python 3",
   "language": "python",
   "name": "python3"
  },
  "language_info": {
   "codemirror_mode": {
    "name": "ipython",
    "version": 3
   },
   "file_extension": ".py",
   "mimetype": "text/x-python",
   "name": "python",
   "nbconvert_exporter": "python",
   "pygments_lexer": "ipython3",
   "version": "3.5.2"
  }
 },
 "nbformat": 4,
 "nbformat_minor": 2
}
