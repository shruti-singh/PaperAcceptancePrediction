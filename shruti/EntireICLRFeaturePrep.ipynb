{
 "cells": [
  {
   "cell_type": "code",
   "execution_count": 1,
   "metadata": {},
   "outputs": [],
   "source": [
    "import pandas as pd\n",
    "from glob import glob\n",
    "import pickle\n",
    "from pprint import pprint"
   ]
  },
  {
   "cell_type": "code",
   "execution_count": null,
   "metadata": {},
   "outputs": [],
   "source": []
  },
  {
   "cell_type": "code",
   "execution_count": 2,
   "metadata": {},
   "outputs": [
    {
     "name": "stdout",
     "output_type": "stream",
     "text": [
      "For year 2017:, count of papers_data is: 490 and decisions_data is 490\n",
      "For year 2018:, count of papers_data is: 911 and decisions_data is 935\n",
      "For year 2019:, count of papers_data is: 1419 and decisions_data is 1419\n",
      "For year 2020:, count of papers_data is: 2213 and decisions_data is 2213\n",
      "\n",
      " Total papers in the dataset:  4897\n"
     ]
    }
   ],
   "source": [
    "data_path = \"../ICLR data/masterdata_unbalanced/\"\n",
    "\n",
    "years = [2017, 2018, 2019, 2020]\n",
    "\n",
    "final_dataset = {}\n",
    "\n",
    "for y in years:\n",
    "    papers_data = pd.read_pickle(data_path + \"papers_{}.pkl\".format(y))\n",
    "    decisions_data = pd.read_pickle(data_path + \"paper_decision_dict_{}.pkl\".format(y))\n",
    "    \n",
    "    print(\"For year {}:, count of papers_data is: {} and decisions_data is {}\".format(y, len(papers_data), len(decisions_data)))\n",
    "    \n",
    "    for k,v in decisions_data.items():\n",
    "        if \"decision\" in decisions_data[k]:\n",
    "            if \"decision\" in decisions_data[k][\"decision\"][\"content\"]:\n",
    "                dec = decisions_data[k][\"decision\"][\"content\"][\"decision\"].lower()\n",
    "            else:\n",
    "                dec = decisions_data[k][\"decision\"][\"content\"][\"recommendation\"].lower()\n",
    "        else:\n",
    "            dec = decisions_data[k][\"content\"][\"decision\"].lower()\n",
    "        \n",
    "        if dec.lower().find(\"invite\") > -1:\n",
    "            continue\n",
    "            print(dec)\n",
    "        \n",
    "        if dec.find(\"accept\") > -1:\n",
    "            dec = \"Accept\"\n",
    "        else:\n",
    "            dec = \"Reject\"\n",
    "        \n",
    "        if k in papers_data:\n",
    "            if \"TL;DR\" not in papers_data[k][\"content\"]:\n",
    "                papers_data[k][\"content\"][\"TL;DR\"] = None\n",
    "            final_dataset[str(y) + \"_\" + k] = papers_data[k]\n",
    "            final_dataset[str(y) + \"_\" + k][\"label\"] = dec\n",
    "#         else:\n",
    "#             print(decisions_data[k])\n",
    "#     break\n",
    "\n",
    "#     print(type(paper_dict))\n",
    "#     print(list(paper_dict.items())[0:1])\n",
    "#     break\n",
    "print(\"\\n Total papers in the dataset: \", len(final_dataset))"
   ]
  },
  {
   "cell_type": "code",
   "execution_count": 3,
   "metadata": {},
   "outputs": [
    {
     "data": {
      "text/html": [
       "<div>\n",
       "<style scoped>\n",
       "    .dataframe tbody tr th:only-of-type {\n",
       "        vertical-align: middle;\n",
       "    }\n",
       "\n",
       "    .dataframe tbody tr th {\n",
       "        vertical-align: top;\n",
       "    }\n",
       "\n",
       "    .dataframe thead th {\n",
       "        text-align: right;\n",
       "    }\n",
       "</style>\n",
       "<table border=\"1\" class=\"dataframe\">\n",
       "  <thead>\n",
       "    <tr style=\"text-align: right;\">\n",
       "      <th></th>\n",
       "      <th>cdate</th>\n",
       "      <th>content</th>\n",
       "      <th>ddate</th>\n",
       "      <th>details</th>\n",
       "      <th>forum</th>\n",
       "      <th>id</th>\n",
       "      <th>invitation</th>\n",
       "      <th>label</th>\n",
       "      <th>nonreaders</th>\n",
       "      <th>number</th>\n",
       "      <th>original</th>\n",
       "      <th>readers</th>\n",
       "      <th>referent</th>\n",
       "      <th>replyto</th>\n",
       "      <th>signatures</th>\n",
       "      <th>tcdate</th>\n",
       "      <th>tmdate</th>\n",
       "      <th>writers</th>\n",
       "    </tr>\n",
       "  </thead>\n",
       "  <tbody>\n",
       "    <tr>\n",
       "      <th>2017_B1-Hhnslg</th>\n",
       "      <td>None</td>\n",
       "      <td>{'title': 'Prototypical Networks for Few-shot ...</td>\n",
       "      <td>None</td>\n",
       "      <td>{'replyCount': 9}</td>\n",
       "      <td>B1-Hhnslg</td>\n",
       "      <td>B1-Hhnslg</td>\n",
       "      <td>ICLR.cc/2017/conference/-/submission</td>\n",
       "      <td>Reject</td>\n",
       "      <td>[]</td>\n",
       "      <td>581</td>\n",
       "      <td>None</td>\n",
       "      <td>[everyone]</td>\n",
       "      <td>None</td>\n",
       "      <td>None</td>\n",
       "      <td>[~Richard_Zemel1]</td>\n",
       "      <td>1478376505434</td>\n",
       "      <td>1481060777491</td>\n",
       "      <td>[]</td>\n",
       "    </tr>\n",
       "    <tr>\n",
       "      <th>2017_B1-q5Pqxl</th>\n",
       "      <td>None</td>\n",
       "      <td>{'title': 'Machine Comprehension Using Match-L...</td>\n",
       "      <td>None</td>\n",
       "      <td>{'replyCount': 18}</td>\n",
       "      <td>B1-q5Pqxl</td>\n",
       "      <td>B1-q5Pqxl</td>\n",
       "      <td>ICLR.cc/2017/conference/-/submission</td>\n",
       "      <td>Accept</td>\n",
       "      <td>[]</td>\n",
       "      <td>417</td>\n",
       "      <td>None</td>\n",
       "      <td>[everyone]</td>\n",
       "      <td>None</td>\n",
       "      <td>None</td>\n",
       "      <td>[~Shuohang_Wang1]</td>\n",
       "      <td>1478290057546</td>\n",
       "      <td>1489370977828</td>\n",
       "      <td>[]</td>\n",
       "    </tr>\n",
       "  </tbody>\n",
       "</table>\n",
       "</div>"
      ],
      "text/plain": [
       "               cdate                                            content ddate  \\\n",
       "2017_B1-Hhnslg  None  {'title': 'Prototypical Networks for Few-shot ...  None   \n",
       "2017_B1-q5Pqxl  None  {'title': 'Machine Comprehension Using Match-L...  None   \n",
       "\n",
       "                           details      forum         id  \\\n",
       "2017_B1-Hhnslg   {'replyCount': 9}  B1-Hhnslg  B1-Hhnslg   \n",
       "2017_B1-q5Pqxl  {'replyCount': 18}  B1-q5Pqxl  B1-q5Pqxl   \n",
       "\n",
       "                                          invitation   label nonreaders  \\\n",
       "2017_B1-Hhnslg  ICLR.cc/2017/conference/-/submission  Reject         []   \n",
       "2017_B1-q5Pqxl  ICLR.cc/2017/conference/-/submission  Accept         []   \n",
       "\n",
       "               number original     readers referent replyto  \\\n",
       "2017_B1-Hhnslg    581     None  [everyone]     None    None   \n",
       "2017_B1-q5Pqxl    417     None  [everyone]     None    None   \n",
       "\n",
       "                       signatures         tcdate         tmdate writers  \n",
       "2017_B1-Hhnslg  [~Richard_Zemel1]  1478376505434  1481060777491      []  \n",
       "2017_B1-q5Pqxl  [~Shuohang_Wang1]  1478290057546  1489370977828      []  "
      ]
     },
     "execution_count": 3,
     "metadata": {},
     "output_type": "execute_result"
    }
   ],
   "source": [
    "paper_csv = pd.DataFrame.from_dict(final_dataset).T\n",
    "paper_csv.head(2)"
   ]
  },
  {
   "cell_type": "code",
   "execution_count": 4,
   "metadata": {},
   "outputs": [
    {
     "name": "stdout",
     "output_type": "stream",
     "text": [
      "0\n",
      "4897\n"
     ]
    }
   ],
   "source": [
    "count_tldr = 0\n",
    "\n",
    "for k in papers_data:\n",
    "    if \"TL;DR\" not in papers_data[k][\"content\"]:\n",
    "        count_tldr += 1\n",
    "\n",
    "print(count_tldr)\n",
    "print(len(paper_csv))"
   ]
  },
  {
   "cell_type": "code",
   "execution_count": 5,
   "metadata": {},
   "outputs": [],
   "source": [
    "# Extracting Title, Abstract, Authors, Keywords from data\n",
    "paper_csv['title'] = [content['title'] for content in paper_csv['content']]\n",
    "paper_csv['authors'] = [content['authors'] for content in paper_csv['content']]\n",
    "paper_csv['abstract'] = [content['abstract'] for content in paper_csv['content']]\n",
    "paper_csv['keywords'] = [content['keywords'] for content in paper_csv['content']]\n",
    "paper_csv['tldr'] = [content[\"TL;DR\"] for content in paper_csv['content']]"
   ]
  },
  {
   "cell_type": "code",
   "execution_count": 6,
   "metadata": {},
   "outputs": [
    {
     "data": {
      "text/plain": [
       "{'TL;DR': 'Using Match-LSTM and Answer Pointer to select a variable length answer from a paragraph',\n",
       " 'abstract': 'Machine comprehension of text is an important problem in natural language processing. A recently released dataset, the Stanford Question Answering Dataset (SQuAD), offers a large number of real questions and their answers created by humans through crowdsourcing. SQuAD provides a challenging testbed for evaluating machine comprehension algorithms, partly because compared with previous datasets, in SQuAD the answers do not come from a small set of candidate answers and they have variable lengths. We propose an end-to-end neural architecture for the task. The architecture is based on match-LSTM, a model we proposed previously for textual entailment, and Pointer Net, a sequence-to-sequence model proposed by Vinyals et al. (2015) to constrain the output tokens to be from the input sequences. We propose two ways of using Pointer Net for our tasks. Our experiments show that both of our two models substantially outperform the best results obtained by Rajpurkar et al. (2016) using logistic regression and manually crafted features. Besides, our boundary model also achieves the best performance on the MSMARCO dataset (Nguyen et al. 2016).',\n",
       " 'authorids': ['shwang.2014@phdis.smu.edu.sg', 'jingjiang@smu.edu.sg'],\n",
       " 'authors': ['Shuohang Wang', 'Jing Jiang'],\n",
       " 'conflicts': ['smu.edu.sg'],\n",
       " 'keywords': ['Natural language processing', 'Deep learning'],\n",
       " 'paperhash': 'wang|machine_comprehension_using_matchlstm_and_answer_pointer',\n",
       " 'pdf': '/pdf/78402508a0a3ebc1c9078ef8ff48dccc6fef6cd8.pdf',\n",
       " 'title': 'Machine Comprehension Using Match-LSTM and Answer Pointer'}"
      ]
     },
     "execution_count": 6,
     "metadata": {},
     "output_type": "execute_result"
    }
   ],
   "source": [
    "paper_csv.iloc[1]['content']"
   ]
  },
  {
   "cell_type": "code",
   "execution_count": 7,
   "metadata": {},
   "outputs": [
    {
     "data": {
      "text/html": [
       "<div>\n",
       "<style scoped>\n",
       "    .dataframe tbody tr th:only-of-type {\n",
       "        vertical-align: middle;\n",
       "    }\n",
       "\n",
       "    .dataframe tbody tr th {\n",
       "        vertical-align: top;\n",
       "    }\n",
       "\n",
       "    .dataframe thead th {\n",
       "        text-align: right;\n",
       "    }\n",
       "</style>\n",
       "<table border=\"1\" class=\"dataframe\">\n",
       "  <thead>\n",
       "    <tr style=\"text-align: right;\">\n",
       "      <th></th>\n",
       "      <th>cdate</th>\n",
       "      <th>content</th>\n",
       "      <th>ddate</th>\n",
       "      <th>details</th>\n",
       "      <th>forum</th>\n",
       "      <th>id</th>\n",
       "      <th>invitation</th>\n",
       "      <th>label</th>\n",
       "      <th>nonreaders</th>\n",
       "      <th>number</th>\n",
       "      <th>...</th>\n",
       "      <th>replyto</th>\n",
       "      <th>signatures</th>\n",
       "      <th>tcdate</th>\n",
       "      <th>tmdate</th>\n",
       "      <th>writers</th>\n",
       "      <th>title</th>\n",
       "      <th>authors</th>\n",
       "      <th>abstract</th>\n",
       "      <th>keywords</th>\n",
       "      <th>tldr</th>\n",
       "    </tr>\n",
       "  </thead>\n",
       "  <tbody>\n",
       "    <tr>\n",
       "      <th>2017_B1-Hhnslg</th>\n",
       "      <td>None</td>\n",
       "      <td>{'title': 'Prototypical Networks for Few-shot ...</td>\n",
       "      <td>None</td>\n",
       "      <td>{'replyCount': 9}</td>\n",
       "      <td>B1-Hhnslg</td>\n",
       "      <td>B1-Hhnslg</td>\n",
       "      <td>ICLR.cc/2017/conference/-/submission</td>\n",
       "      <td>Reject</td>\n",
       "      <td>[]</td>\n",
       "      <td>581</td>\n",
       "      <td>...</td>\n",
       "      <td>None</td>\n",
       "      <td>[~Richard_Zemel1]</td>\n",
       "      <td>1478376505434</td>\n",
       "      <td>1481060777491</td>\n",
       "      <td>[]</td>\n",
       "      <td>Prototypical Networks for Few-shot Learning</td>\n",
       "      <td>[Jake Snell, Kevin Swersky, Richard Zemel]</td>\n",
       "      <td>A recent approach to few-shot classification c...</td>\n",
       "      <td>[Deep learning, Transfer Learning]</td>\n",
       "      <td>We learn a metric space in which few-shot clas...</td>\n",
       "    </tr>\n",
       "    <tr>\n",
       "      <th>2017_B1-q5Pqxl</th>\n",
       "      <td>None</td>\n",
       "      <td>{'title': 'Machine Comprehension Using Match-L...</td>\n",
       "      <td>None</td>\n",
       "      <td>{'replyCount': 18}</td>\n",
       "      <td>B1-q5Pqxl</td>\n",
       "      <td>B1-q5Pqxl</td>\n",
       "      <td>ICLR.cc/2017/conference/-/submission</td>\n",
       "      <td>Accept</td>\n",
       "      <td>[]</td>\n",
       "      <td>417</td>\n",
       "      <td>...</td>\n",
       "      <td>None</td>\n",
       "      <td>[~Shuohang_Wang1]</td>\n",
       "      <td>1478290057546</td>\n",
       "      <td>1489370977828</td>\n",
       "      <td>[]</td>\n",
       "      <td>Machine Comprehension Using Match-LSTM and Ans...</td>\n",
       "      <td>[Shuohang Wang, Jing Jiang]</td>\n",
       "      <td>Machine comprehension of text is an important ...</td>\n",
       "      <td>[Natural language processing, Deep learning]</td>\n",
       "      <td>Using Match-LSTM and Answer Pointer to select ...</td>\n",
       "    </tr>\n",
       "  </tbody>\n",
       "</table>\n",
       "<p>2 rows × 23 columns</p>\n",
       "</div>"
      ],
      "text/plain": [
       "               cdate                                            content ddate  \\\n",
       "2017_B1-Hhnslg  None  {'title': 'Prototypical Networks for Few-shot ...  None   \n",
       "2017_B1-q5Pqxl  None  {'title': 'Machine Comprehension Using Match-L...  None   \n",
       "\n",
       "                           details      forum         id  \\\n",
       "2017_B1-Hhnslg   {'replyCount': 9}  B1-Hhnslg  B1-Hhnslg   \n",
       "2017_B1-q5Pqxl  {'replyCount': 18}  B1-q5Pqxl  B1-q5Pqxl   \n",
       "\n",
       "                                          invitation   label nonreaders  \\\n",
       "2017_B1-Hhnslg  ICLR.cc/2017/conference/-/submission  Reject         []   \n",
       "2017_B1-q5Pqxl  ICLR.cc/2017/conference/-/submission  Accept         []   \n",
       "\n",
       "               number  ... replyto         signatures         tcdate  \\\n",
       "2017_B1-Hhnslg    581  ...    None  [~Richard_Zemel1]  1478376505434   \n",
       "2017_B1-q5Pqxl    417  ...    None  [~Shuohang_Wang1]  1478290057546   \n",
       "\n",
       "                       tmdate writers  \\\n",
       "2017_B1-Hhnslg  1481060777491      []   \n",
       "2017_B1-q5Pqxl  1489370977828      []   \n",
       "\n",
       "                                                            title  \\\n",
       "2017_B1-Hhnslg        Prototypical Networks for Few-shot Learning   \n",
       "2017_B1-q5Pqxl  Machine Comprehension Using Match-LSTM and Ans...   \n",
       "\n",
       "                                                   authors  \\\n",
       "2017_B1-Hhnslg  [Jake Snell, Kevin Swersky, Richard Zemel]   \n",
       "2017_B1-q5Pqxl                 [Shuohang Wang, Jing Jiang]   \n",
       "\n",
       "                                                         abstract  \\\n",
       "2017_B1-Hhnslg  A recent approach to few-shot classification c...   \n",
       "2017_B1-q5Pqxl  Machine comprehension of text is an important ...   \n",
       "\n",
       "                                                    keywords  \\\n",
       "2017_B1-Hhnslg            [Deep learning, Transfer Learning]   \n",
       "2017_B1-q5Pqxl  [Natural language processing, Deep learning]   \n",
       "\n",
       "                                                             tldr  \n",
       "2017_B1-Hhnslg  We learn a metric space in which few-shot clas...  \n",
       "2017_B1-q5Pqxl  Using Match-LSTM and Answer Pointer to select ...  \n",
       "\n",
       "[2 rows x 23 columns]"
      ]
     },
     "execution_count": 7,
     "metadata": {},
     "output_type": "execute_result"
    }
   ],
   "source": [
    "paper_csv.head(2)"
   ]
  },
  {
   "cell_type": "code",
   "execution_count": 8,
   "metadata": {},
   "outputs": [
    {
     "data": {
      "text/plain": [
       "array(['Reject', 'Accept'], dtype=object)"
      ]
     },
     "execution_count": 8,
     "metadata": {},
     "output_type": "execute_result"
    }
   ],
   "source": [
    "paper_csv['label'].unique()"
   ]
  },
  {
   "cell_type": "code",
   "execution_count": 11,
   "metadata": {},
   "outputs": [],
   "source": [
    "paper_csv.to_pickle('./features/all_data_features_17_20.pkl')"
   ]
  },
  {
   "cell_type": "code",
   "execution_count": null,
   "metadata": {},
   "outputs": [],
   "source": []
  }
 ],
 "metadata": {
  "kernelspec": {
   "display_name": "Python 3",
   "language": "python",
   "name": "python3"
  },
  "language_info": {
   "codemirror_mode": {
    "name": "ipython",
    "version": 3
   },
   "file_extension": ".py",
   "mimetype": "text/x-python",
   "name": "python",
   "nbconvert_exporter": "python",
   "pygments_lexer": "ipython3",
   "version": "3.5.2"
  }
 },
 "nbformat": 4,
 "nbformat_minor": 2
}
