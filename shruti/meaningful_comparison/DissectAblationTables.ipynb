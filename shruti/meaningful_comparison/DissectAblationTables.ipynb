{
 "cells": [
  {
   "cell_type": "code",
   "execution_count": 280,
   "metadata": {},
   "outputs": [],
   "source": [
    "import pickle\n",
    "import json\n",
    "import glob\n",
    "import re\n",
    "from collections import defaultdict\n",
    "from pprint import pprint"
   ]
  },
  {
   "cell_type": "code",
   "execution_count": 42,
   "metadata": {},
   "outputs": [],
   "source": [
    "from pathlib import Path"
   ]
  },
  {
   "cell_type": "code",
   "execution_count": null,
   "metadata": {},
   "outputs": [],
   "source": []
  },
  {
   "cell_type": "code",
   "execution_count": null,
   "metadata": {},
   "outputs": [],
   "source": []
  },
  {
   "cell_type": "code",
   "execution_count": 33,
   "metadata": {},
   "outputs": [
    {
     "name": "stdout",
     "output_type": "stream",
     "text": [
      "['../../data/pwc-leaderboards.json.xz', '../../data/arxiv-papers.csv.xz', '../../data/segmented-tables.json']\n"
     ]
    }
   ],
   "source": [
    "files = glob.glob(\"../../data/*\")\n",
    "print(files)"
   ]
  },
  {
   "cell_type": "code",
   "execution_count": null,
   "metadata": {},
   "outputs": [],
   "source": []
  },
  {
   "cell_type": "code",
   "execution_count": 34,
   "metadata": {},
   "outputs": [],
   "source": [
    "with open(files[2], \"r\") as f:\n",
    "    seg_tables = json.load(f)"
   ]
  },
  {
   "cell_type": "code",
   "execution_count": 49,
   "metadata": {},
   "outputs": [
    {
     "name": "stdout",
     "output_type": "stream",
     "text": [
      "['__class__', '__contains__', '__delattr__', '__delitem__', '__dir__', '__doc__', '__eq__', '__format__', '__ge__', '__getattribute__', '__getitem__', '__gt__', '__hash__', '__init__', '__init_subclass__', '__iter__', '__le__', '__len__', '__lt__', '__ne__', '__new__', '__reduce__', '__reduce_ex__', '__repr__', '__setattr__', '__setitem__', '__sizeof__', '__str__', '__subclasshook__', 'clear', 'copy', 'fromkeys', 'get', 'items', 'keys', 'pop', 'popitem', 'setdefault', 'update', 'values']\n"
     ]
    }
   ],
   "source": [
    "print(dir(seg_tables[0]))"
   ]
  },
  {
   "cell_type": "code",
   "execution_count": 51,
   "metadata": {},
   "outputs": [
    {
     "data": {
      "text/plain": [
       "{'arxiv_id': '1202.2745v1',\n",
       " 'fold': 'img_class',\n",
       " 'sha256': 'b72ff435bb75f56c58e593d1b13f51c881a3aa80d2c2de91e66afd7bfd3896b9',\n",
       " 'tables': [{'index': 0,\n",
       "   'leaderboard': False,\n",
       "   'ablation': True,\n",
       "   'dataset_text': 'MNIST',\n",
       "   'segmentation': [['table-meta',\n",
       "     'dataset-sub',\n",
       "     'dataset-sub',\n",
       "     'dataset-sub',\n",
       "     'dataset-sub',\n",
       "     'dataset-sub',\n",
       "     'dataset-sub',\n",
       "     ''],\n",
       "    ['model-paper', '', '', '', '', '', '', ''],\n",
       "    ['model-paper', '', '', '', '', '', '', ''],\n",
       "    ['model-paper', '', '', '', '', '', '', ''],\n",
       "    ['model-paper', '', '', '', '', '', '', ''],\n",
       "    ['model-paper', '', '', '', '', '', '', ''],\n",
       "    ['dataset-metric', '', '', '', '', '', '', ''],\n",
       "    ['', '', '', '', '', '', '', ''],\n",
       "    ['model-paper', '', '', '', '', '', '', ''],\n",
       "    ['model-paper', '', '', '', '', '', '', ''],\n",
       "    ['', '', '', '', '', '', '', '']],\n",
       "   'records': []},\n",
       "  {'index': 1,\n",
       "   'leaderboard': True,\n",
       "   'ablation': False,\n",
       "   'dataset_text': 'MNIST',\n",
       "   'segmentation': [['table-meta', 'table-meta', 'dataset-metric'],\n",
       "    ['model-competing', 'model-competing', ''],\n",
       "    ['model-competing', 'model-competing', ''],\n",
       "    ['model-competing', 'model-competing', ''],\n",
       "    ['model-competing', 'model-competing', ''],\n",
       "    ['model-best', 'model-best', '']],\n",
       "   'records': []},\n",
       "  {'index': 2,\n",
       "   'leaderboard': False,\n",
       "   'ablation': False,\n",
       "   'dataset_text': '',\n",
       "   'segmentation': [['table-meta', 'table-meta', 'dataset-metric'],\n",
       "    ['', '', ''],\n",
       "    ['', '', ''],\n",
       "    ['', '', ''],\n",
       "    ['', '', ''],\n",
       "    ['', '', ''],\n",
       "    ['', '', ''],\n",
       "    ['', '', '']],\n",
       "   'records': []},\n",
       "  {'index': 3,\n",
       "   'leaderboard': False,\n",
       "   'ablation': True,\n",
       "   'dataset_text': '',\n",
       "   'segmentation': [['table-meta',\n",
       "     'model-paper',\n",
       "     'dataset-metric',\n",
       "     'dataset-metric'],\n",
       "    ['table-meta', 'dataset-metric', 'dataset-metric', 'dataset-metric'],\n",
       "    ['', '', '', ''],\n",
       "    ['', '', '', ''],\n",
       "    ['', '', '', ''],\n",
       "    ['', '', '', ''],\n",
       "    ['', '', '', ''],\n",
       "    ['', '', '', ''],\n",
       "    ['', '', '', '']],\n",
       "   'records': []},\n",
       "  {'index': 4,\n",
       "   'leaderboard': False,\n",
       "   'ablation': True,\n",
       "   'dataset_text': 'CIFAR',\n",
       "   'segmentation': [['table-meta', '', '', '', '', 'dataset-metric'],\n",
       "    ['model-paper', '', '', '', '', ''],\n",
       "    ['model-paper', '', '', '', '', ''],\n",
       "    ['', '', '', '', '', ''],\n",
       "    ['', '', '', '', '', ''],\n",
       "    ['', '', '', '', '', '']],\n",
       "   'records': []},\n",
       "  {'index': 5,\n",
       "   'leaderboard': False,\n",
       "   'ablation': True,\n",
       "   'dataset_text': 'NORB',\n",
       "   'segmentation': [['', '', '', '', '', ''],\n",
       "    ['', '', '', '', '', ''],\n",
       "    ['', '', '', '', '', ''],\n",
       "    ['', '', '', '', '', ''],\n",
       "    ['', '', '', '', '', ''],\n",
       "    ['', '', '', '', '', ''],\n",
       "    ['', '', '', '', '', '']],\n",
       "   'records': []},\n",
       "  {'index': 6,\n",
       "   'leaderboard': True,\n",
       "   'ablation': False,\n",
       "   'dataset_text': '',\n",
       "   'segmentation': [['table-meta',\n",
       "     'model-competing',\n",
       "     'model-paper',\n",
       "     'dataset-metric'],\n",
       "    ['', 'dataset-metric', 'dataset-metric', 'dataset-metric'],\n",
       "    ['dataset', '', '', ''],\n",
       "    ['dataset', 'table-meta', 'table-meta', ''],\n",
       "    ['dataset', '', '', ''],\n",
       "    ['dataset', '', '', ''],\n",
       "    ['dataset', '', '', ''],\n",
       "    ['dataset', '', '', ''],\n",
       "    ['dataset', '', '', '']],\n",
       "   'records': []},\n",
       "  {'index': 7,\n",
       "   'leaderboard': False,\n",
       "   'ablation': False,\n",
       "   'dataset_text': '',\n",
       "   'segmentation': [['table-meta',\n",
       "     'model-params',\n",
       "     'model-params',\n",
       "     'model-params'],\n",
       "    ['', '', '', ''],\n",
       "    ['', '', '', ''],\n",
       "    ['', '', '', ''],\n",
       "    ['', '', '', ''],\n",
       "    ['', '', '', ''],\n",
       "    ['', '', '', ''],\n",
       "    ['', '', '', ''],\n",
       "    ['', '', '', ''],\n",
       "    ['', '', '', '']],\n",
       "   'records': []},\n",
       "  {'index': 8,\n",
       "   'leaderboard': False,\n",
       "   'ablation': False,\n",
       "   'dataset_text': 'CIFAR 10',\n",
       "   'segmentation': [['table-meta',\n",
       "     'model-params',\n",
       "     'model-params',\n",
       "     'model-params'],\n",
       "    ['', '', '', ''],\n",
       "    ['', '', '', ''],\n",
       "    ['', '', '', ''],\n",
       "    ['', '', '', ''],\n",
       "    ['', '', '', ''],\n",
       "    ['', '', '', ''],\n",
       "    ['', '', '', ''],\n",
       "    ['', '', '', ''],\n",
       "    ['', '', '', ''],\n",
       "    ['', '', '', ''],\n",
       "    ['', '', '', ''],\n",
       "    ['', '', '', '']],\n",
       "   'records': []}]}"
      ]
     },
     "execution_count": 51,
     "metadata": {},
     "output_type": "execute_result"
    }
   ],
   "source": [
    "seg_tables[0]"
   ]
  },
  {
   "cell_type": "code",
   "execution_count": null,
   "metadata": {},
   "outputs": [],
   "source": []
  },
  {
   "cell_type": "code",
   "execution_count": null,
   "metadata": {},
   "outputs": [],
   "source": []
  },
  {
   "cell_type": "code",
   "execution_count": 45,
   "metadata": {},
   "outputs": [],
   "source": [
    "with open(\"/home/singh_shruti/workspace/PaperAcceptancePrediction/shruti/features/iclr_arxiv_map.pkl\", \"rb\") as f:\n",
    "    iclr_arxiv_map = pickle.load(f)"
   ]
  },
  {
   "cell_type": "code",
   "execution_count": 50,
   "metadata": {},
   "outputs": [
    {
     "name": "stdout",
     "output_type": "stream",
     "text": [
      "2504 ['1611.02200v1', '1906.04659v3', '1810.02528v1', '1710.09767v1']\n"
     ]
    }
   ],
   "source": [
    "iclr_data_arxivids = []\n",
    "\n",
    "for k, v in iclr_arxiv_map.items():\n",
    "    if v[\"found\"]:\n",
    "        iclr_data_arxivids.append(v[\"arxivId\"])\n",
    "        \n",
    "iclr_data_arxivids = list(set(iclr_data_arxivids))\n",
    "print(len(iclr_data_arxivids), iclr_data_arxivids[0:4])"
   ]
  },
  {
   "cell_type": "code",
   "execution_count": null,
   "metadata": {},
   "outputs": [],
   "source": []
  },
  {
   "cell_type": "code",
   "execution_count": 63,
   "metadata": {},
   "outputs": [],
   "source": [
    "to_be_downloaded_set = []\n",
    "\n",
    "for s in seg_tables:\n",
    "    if not s[\"arxiv_id\"] in iclr_data_arxivids:\n",
    "        to_be_downloaded_set.append(s[\"arxiv_id\"])\n",
    "\n",
    "to_be_downloaded_set = list(set(to_be_downloaded_set))"
   ]
  },
  {
   "cell_type": "code",
   "execution_count": 64,
   "metadata": {},
   "outputs": [
    {
     "data": {
      "text/plain": [
       "(315,\n",
       " ['1607.01759v3',\n",
       "  '1609.04331v1',\n",
       "  '1301.3557v1',\n",
       "  '1606.01847v3',\n",
       "  '1903.05628v3'])"
      ]
     },
     "execution_count": 64,
     "metadata": {},
     "output_type": "execute_result"
    }
   ],
   "source": [
    "len(to_be_downloaded_set), to_be_downloaded_set[0:5]"
   ]
  },
  {
   "cell_type": "code",
   "execution_count": null,
   "metadata": {},
   "outputs": [],
   "source": []
  },
  {
   "cell_type": "code",
   "execution_count": null,
   "metadata": {},
   "outputs": [],
   "source": []
  },
  {
   "cell_type": "markdown",
   "metadata": {},
   "source": [
    "# First download paper source from arxiv"
   ]
  },
  {
   "cell_type": "code",
   "execution_count": 62,
   "metadata": {},
   "outputs": [],
   "source": [
    "from urllib.request import urlretrieve\n",
    "import wget\n",
    "import time\n",
    "import glob"
   ]
  },
  {
   "cell_type": "code",
   "execution_count": 75,
   "metadata": {},
   "outputs": [
    {
     "name": "stdout",
     "output_type": "stream",
     "text": [
      "0\n",
      "[Errno 2] No such file or directory: '/home/singh_shruti/workspace/axcell_ws/axcell/notebooks/data/sources/1301/_tki7i8p.tmp' {}\n",
      "4\n",
      "8\n",
      "12\n",
      "[Errno 2] No such file or directory: '/home/singh_shruti/workspace/axcell_ws/axcell/notebooks/data/sources/1409/3f9y_dyd.tmp' {}\n",
      "[Errno 2] No such file or directory: '/home/singh_shruti/workspace/axcell_ws/axcell/notebooks/data/sources/1506/ti3dleg0.tmp' {}\n",
      "16\n",
      "20\n",
      "24\n",
      "[Errno 2] No such file or directory: '/home/singh_shruti/workspace/axcell_ws/axcell/notebooks/data/sources/1312/dbl7tya4.tmp' {}\n",
      "28\n",
      "[Errno 2] No such file or directory: '/home/singh_shruti/workspace/axcell_ws/axcell/notebooks/data/sources/1412/vhqom5aa.tmp' {}\n",
      "[Errno 2] No such file or directory: '/home/singh_shruti/workspace/axcell_ws/axcell/notebooks/data/sources/1412/5hj_1c3e.tmp' {}\n",
      "32\n",
      "[Errno 2] No such file or directory: '/home/singh_shruti/workspace/axcell_ws/axcell/notebooks/data/sources/1303/3yrc5cze.tmp' {}\n",
      "[Errno 2] No such file or directory: '/home/singh_shruti/workspace/axcell_ws/axcell/notebooks/data/sources/1412/3x2cqkzj.tmp' {}\n",
      "36\n",
      "[Errno 2] No such file or directory: '/home/singh_shruti/workspace/axcell_ws/axcell/notebooks/data/sources/1312/2fe2c_jg.tmp' {}\n",
      "[Errno 2] No such file or directory: '/home/singh_shruti/workspace/axcell_ws/axcell/notebooks/data/sources/1508/alxhi7zm.tmp' {}\n",
      "40\n",
      "44\n",
      "[Errno 2] No such file or directory: '/home/singh_shruti/workspace/axcell_ws/axcell/notebooks/data/sources/1509/1mfgjde4.tmp' {}\n",
      "48\n",
      "52\n",
      "64\n",
      "[Errno 2] No such file or directory: '/home/singh_shruti/workspace/axcell_ws/axcell/notebooks/data/sources/1409/nizvg_hj.tmp' {}\n",
      "[Errno 2] No such file or directory: '/home/singh_shruti/workspace/axcell_ws/axcell/notebooks/data/sources/1509/n10lbkl9.tmp' {}\n",
      "68\n",
      "72\n",
      "[Errno 2] No such file or directory: '/home/singh_shruti/workspace/axcell_ws/axcell/notebooks/data/sources/1409/qid7sip3.tmp' {}\n",
      "76\n",
      "[Errno 2] No such file or directory: '/home/singh_shruti/workspace/axcell_ws/axcell/notebooks/data/sources/1410/sx7dp4on.tmp' {}\n",
      "80\n",
      "84\n",
      "[Errno 2] No such file or directory: '/home/singh_shruti/workspace/axcell_ws/axcell/notebooks/data/sources/1207/7macom9l.tmp' {}\n",
      "88\n",
      "92\n",
      "[Errno 2] No such file or directory: '/home/singh_shruti/workspace/axcell_ws/axcell/notebooks/data/sources/1505/oh_5ceb2.tmp' {}\n",
      "[Errno 2] No such file or directory: '/home/singh_shruti/workspace/axcell_ws/axcell/notebooks/data/sources/1406/ftu9k_8x.tmp' {}\n",
      "96\n",
      "[Errno 2] No such file or directory: '/home/singh_shruti/workspace/axcell_ws/axcell/notebooks/data/sources/1502/4tda_a6t.tmp' {}\n",
      "[Errno 2] No such file or directory: '/home/singh_shruti/workspace/axcell_ws/axcell/notebooks/data/sources/1412/jvuoeefq.tmp' {}\n",
      "100\n",
      "[Errno 2] No such file or directory: '/home/singh_shruti/workspace/axcell_ws/axcell/notebooks/data/sources/1505/pxolcany.tmp' {}\n",
      "104\n",
      "108\n",
      "112\n",
      "[Errno 2] No such file or directory: '/home/singh_shruti/workspace/axcell_ws/axcell/notebooks/data/sources/1406/6d5aihu5.tmp' {}\n",
      "116\n",
      "[Errno 2] No such file or directory: '/home/singh_shruti/workspace/axcell_ws/axcell/notebooks/data/sources/1410/7943ozno.tmp' {}\n",
      "120\n",
      "124\n",
      "[Errno 2] No such file or directory: '/home/singh_shruti/workspace/axcell_ws/axcell/notebooks/data/sources/1503/ohk9xz6r.tmp' {}\n",
      "[Errno 2] No such file or directory: '/home/singh_shruti/workspace/axcell_ws/axcell/notebooks/data/sources/1406/au6d9ogw.tmp' {}\n",
      "128\n",
      "[Errno 2] No such file or directory: '/home/singh_shruti/workspace/axcell_ws/axcell/notebooks/data/sources/1502/dmcp0hzk.tmp' {}\n",
      "132\n",
      "[Errno 2] No such file or directory: '/home/singh_shruti/workspace/axcell_ws/axcell/notebooks/data/sources/1512/nl4_7zs_.tmp' {}\n",
      "136\n",
      "140\n",
      "[Errno 2] No such file or directory: '/home/singh_shruti/workspace/axcell_ws/axcell/notebooks/data/sources/1404/fmhksz7y.tmp' {}\n",
      "144\n",
      "[Errno 2] No such file or directory: '/home/singh_shruti/workspace/axcell_ws/axcell/notebooks/data/sources/1506/joi6ncfw.tmp' {}\n",
      "148\n",
      "[Errno 2] No such file or directory: '/home/singh_shruti/workspace/axcell_ws/axcell/notebooks/data/sources/1404/0l8bq8nz.tmp' {}\n",
      "[Errno 2] No such file or directory: '/home/singh_shruti/workspace/axcell_ws/axcell/notebooks/data/sources/1412/y96rwxv8.tmp' {}\n",
      "152\n",
      "156\n",
      "160\n",
      "[Errno 2] No such file or directory: '/home/singh_shruti/workspace/axcell_ws/axcell/notebooks/data/sources/1507/gyxylr97.tmp' {}\n",
      "[Errno 2] No such file or directory: '/home/singh_shruti/workspace/axcell_ws/axcell/notebooks/data/sources/1512/5yunf_nr.tmp' {}\n",
      "164\n",
      "[Errno 2] No such file or directory: '/home/singh_shruti/workspace/axcell_ws/axcell/notebooks/data/sources/1505/5u5kf1jz.tmp' {}\n",
      "168\n",
      "[Errno 2] No such file or directory: '/home/singh_shruti/workspace/axcell_ws/axcell/notebooks/data/sources/1405/3s36g95c.tmp' {}\n",
      "172\n",
      "176\n",
      "180\n",
      "[Errno 2] No such file or directory: '/home/singh_shruti/workspace/axcell_ws/axcell/notebooks/data/sources/1503/i16jc87m.tmp' {}\n",
      "184\n",
      "[Errno 2] No such file or directory: '/home/singh_shruti/workspace/axcell_ws/axcell/notebooks/data/sources/1509/pnifvu66.tmp' {}\n",
      "188\n",
      "192\n",
      "196\n",
      "200\n",
      "204\n",
      "[Errno 2] No such file or directory: '/home/singh_shruti/workspace/axcell_ws/axcell/notebooks/data/sources/1506/575n47fs.tmp' {}\n",
      "208\n",
      "[Errno 2] No such file or directory: '/home/singh_shruti/workspace/axcell_ws/axcell/notebooks/data/sources/1202/tf7nkzwb.tmp' {}\n",
      "212\n",
      "[Errno 2] No such file or directory: '/home/singh_shruti/workspace/axcell_ws/axcell/notebooks/data/sources/1512/nufzk4h2.tmp' {}\n",
      "216\n",
      "[Errno 2] No such file or directory: '/home/singh_shruti/workspace/axcell_ws/axcell/notebooks/data/sources/1506/rs4kp5bw.tmp' {}\n",
      "220\n",
      "[Errno 2] No such file or directory: '/home/singh_shruti/workspace/axcell_ws/axcell/notebooks/data/sources/1409/embbonco.tmp' {}\n",
      "224\n",
      "[Errno 2] No such file or directory: '/home/singh_shruti/workspace/axcell_ws/axcell/notebooks/data/sources/1504/cc9jv8xu.tmp' {}\n",
      "[Errno 2] No such file or directory: '/home/singh_shruti/workspace/axcell_ws/axcell/notebooks/data/sources/1504/dmr1y1za.tmp' {}\n",
      "228\n",
      "[Errno 2] No such file or directory: '/home/singh_shruti/workspace/axcell_ws/axcell/notebooks/data/sources/1503/9uhqg63m.tmp' {}\n",
      "232\n",
      "[Errno 2] No such file or directory: '/home/singh_shruti/workspace/axcell_ws/axcell/notebooks/data/sources/1312/jz2jfyj6.tmp' {}\n",
      "[Errno 2] No such file or directory: '/home/singh_shruti/workspace/axcell_ws/axcell/notebooks/data/sources/1506/zeo94us2.tmp' {}\n",
      "236\n",
      "240\n",
      "244\n",
      "248\n",
      "252\n",
      "[Errno 2] No such file or directory: '/home/singh_shruti/workspace/axcell_ws/axcell/notebooks/data/sources/1504/uh47kiiz.tmp' {}\n",
      "[Errno 2] No such file or directory: '/home/singh_shruti/workspace/axcell_ws/axcell/notebooks/data/sources/1412/c5ql3f6q.tmp' {}\n",
      "256\n",
      "260\n",
      "264\n",
      "[Errno 2] No such file or directory: '/home/singh_shruti/workspace/axcell_ws/axcell/notebooks/data/sources/1502/pdubkodi.tmp' {}\n",
      "[Errno 2] No such file or directory: '/home/singh_shruti/workspace/axcell_ws/axcell/notebooks/data/sources/1506/11y21mpe.tmp' {}\n",
      "268\n",
      "272\n",
      "[Errno 2] No such file or directory: '/home/singh_shruti/workspace/axcell_ws/axcell/notebooks/data/sources/1502/qc62gx6_.tmp' {}\n",
      "276\n",
      "280\n",
      "[Errno 2] No such file or directory: '/home/singh_shruti/workspace/axcell_ws/axcell/notebooks/data/sources/1504/a82nq0d6.tmp' {}\n",
      "284\n",
      "[Errno 2] No such file or directory: '/home/singh_shruti/workspace/axcell_ws/axcell/notebooks/data/sources/1411/43o9_w_v.tmp' {}\n",
      "288\n",
      "[Errno 2] No such file or directory: '/home/singh_shruti/workspace/axcell_ws/axcell/notebooks/data/sources/1302/l016hm1r.tmp' {}\n",
      "292\n",
      "[Errno 2] No such file or directory: '/home/singh_shruti/workspace/axcell_ws/axcell/notebooks/data/sources/1512/266sbxyl.tmp' {}\n",
      "296\n",
      "[Errno 2] No such file or directory: '/home/singh_shruti/workspace/axcell_ws/axcell/notebooks/data/sources/1410/sazxkzdn.tmp' {}\n",
      "300\n",
      "[Errno 2] No such file or directory: '/home/singh_shruti/workspace/axcell_ws/axcell/notebooks/data/sources/1412/zcfph087.tmp' {}\n",
      "[Errno 2] No such file or directory: '/home/singh_shruti/workspace/axcell_ws/axcell/notebooks/data/sources/1508/ei40xwdq.tmp' {}\n",
      "304\n",
      "[Errno 2] No such file or directory: '/home/singh_shruti/workspace/axcell_ws/axcell/notebooks/data/sources/1402/b4_ovpke.tmp' {}\n",
      "308\n",
      "[Errno 2] No such file or directory: '/home/singh_shruti/workspace/axcell_ws/axcell/notebooks/data/sources/1406/v6rno8s4.tmp' {}\n",
      "[Errno 2] No such file or directory: '/home/singh_shruti/workspace/axcell_ws/axcell/notebooks/data/sources/1506/t71xgjei.tmp' {}\n"
     ]
    },
    {
     "name": "stdout",
     "output_type": "stream",
     "text": [
      "312\n",
      "list index out of range {}\n"
     ]
    },
    {
     "ename": "IndexError",
     "evalue": "list index out of range",
     "output_type": "error",
     "traceback": [
      "\u001b[0;31m---------------------------------------------------------------------------\u001b[0m",
      "\u001b[0;31mIndexError\u001b[0m                                Traceback (most recent call last)",
      "\u001b[0;32m<ipython-input-75-367abb339f17>\u001b[0m in \u001b[0;36m<module>\u001b[0;34m\u001b[0m\n\u001b[1;32m      7\u001b[0m         \u001b[0;32mtry\u001b[0m\u001b[0;34m:\u001b[0m\u001b[0;34m\u001b[0m\u001b[0;34m\u001b[0m\u001b[0m\n\u001b[0;32m----> 8\u001b[0;31m             \u001b[0mpaper_url\u001b[0m \u001b[0;34m=\u001b[0m \u001b[0mbase_url\u001b[0m \u001b[0;34m+\u001b[0m \u001b[0mto_be_downloaded_set\u001b[0m\u001b[0;34m[\u001b[0m\u001b[0mi\u001b[0m\u001b[0;34m+\u001b[0m\u001b[0mj\u001b[0m\u001b[0;34m]\u001b[0m\u001b[0;34m\u001b[0m\u001b[0;34m\u001b[0m\u001b[0m\n\u001b[0m\u001b[1;32m      9\u001b[0m             \u001b[0mdest_dir\u001b[0m \u001b[0;34m=\u001b[0m \u001b[0mto_be_downloaded_set\u001b[0m\u001b[0;34m[\u001b[0m\u001b[0mi\u001b[0m\u001b[0;34m+\u001b[0m\u001b[0mj\u001b[0m\u001b[0;34m]\u001b[0m\u001b[0;34m.\u001b[0m\u001b[0msplit\u001b[0m\u001b[0;34m(\u001b[0m\u001b[0;34m\".\"\u001b[0m\u001b[0;34m)\u001b[0m\u001b[0;34m[\u001b[0m\u001b[0;36m0\u001b[0m\u001b[0;34m]\u001b[0m\u001b[0;34m\u001b[0m\u001b[0;34m\u001b[0m\u001b[0m\n",
      "\u001b[0;31mIndexError\u001b[0m: list index out of range",
      "\nDuring handling of the above exception, another exception occurred:\n",
      "\u001b[0;31mIndexError\u001b[0m                                Traceback (most recent call last)",
      "\u001b[0;32m<ipython-input-75-367abb339f17>\u001b[0m in \u001b[0;36m<module>\u001b[0;34m\u001b[0m\n\u001b[1;32m     14\u001b[0m         \u001b[0;32mexcept\u001b[0m \u001b[0mException\u001b[0m \u001b[0;32mas\u001b[0m \u001b[0mex\u001b[0m\u001b[0;34m:\u001b[0m\u001b[0;34m\u001b[0m\u001b[0;34m\u001b[0m\u001b[0m\n\u001b[1;32m     15\u001b[0m             \u001b[0mprint\u001b[0m\u001b[0;34m(\u001b[0m\u001b[0mex\u001b[0m\u001b[0;34m,\u001b[0m \u001b[0mex\u001b[0m\u001b[0;34m.\u001b[0m\u001b[0m__dict__\u001b[0m\u001b[0;34m)\u001b[0m\u001b[0;34m\u001b[0m\u001b[0;34m\u001b[0m\u001b[0m\n\u001b[0;32m---> 16\u001b[0;31m             \u001b[0merrs\u001b[0m\u001b[0;34m.\u001b[0m\u001b[0mappend\u001b[0m\u001b[0;34m(\u001b[0m\u001b[0mto_be_downloaded_set\u001b[0m\u001b[0;34m[\u001b[0m\u001b[0mi\u001b[0m\u001b[0;34m+\u001b[0m\u001b[0mj\u001b[0m\u001b[0;34m]\u001b[0m\u001b[0;34m)\u001b[0m\u001b[0;34m\u001b[0m\u001b[0;34m\u001b[0m\u001b[0m\n\u001b[0m\u001b[1;32m     17\u001b[0m             \u001b[0;32mif\u001b[0m \u001b[0;34m\"code\"\u001b[0m \u001b[0;32min\u001b[0m \u001b[0mex\u001b[0m\u001b[0;34m.\u001b[0m\u001b[0m__dict__\u001b[0m \u001b[0;32mand\u001b[0m \u001b[0mex\u001b[0m\u001b[0;34m.\u001b[0m\u001b[0mcode\u001b[0m \u001b[0;34m==\u001b[0m \u001b[0;36m403\u001b[0m\u001b[0;34m:\u001b[0m\u001b[0;34m\u001b[0m\u001b[0;34m\u001b[0m\u001b[0m\n\u001b[1;32m     18\u001b[0m                 \u001b[0mprint\u001b[0m\u001b[0;34m(\u001b[0m\u001b[0mex\u001b[0m\u001b[0;34m.\u001b[0m\u001b[0mmsg\u001b[0m\u001b[0;34m)\u001b[0m\u001b[0;34m\u001b[0m\u001b[0;34m\u001b[0m\u001b[0m\n",
      "\u001b[0;31mIndexError\u001b[0m: list index out of range"
     ]
    }
   ],
   "source": [
    "base_url = \"http://export.arxiv.org/e-print/\"\n",
    "errs = []\n",
    "\n",
    "for i in range(0, len(to_be_downloaded_set), 4):\n",
    "    print(i)\n",
    "    for j in range(0, 4):\n",
    "        try:\n",
    "            paper_url = base_url + to_be_downloaded_set[i+j]\n",
    "            dest_dir = to_be_downloaded_set[i+j].split(\".\")[0]\n",
    "            dest_file = \"/home/singh_shruti/workspace/axcell_ws/axcell/notebooks/data/sources/\" + dest_dir + \"/\"\n",
    "#             print(to_be_downloaded_set[i+j], dest_file)\n",
    "#             break\n",
    "            resp = wget.download(paper_url, dest_file)\n",
    "        except Exception as ex:\n",
    "            print(ex, ex.__dict__)\n",
    "            errs.append(to_be_downloaded_set[i+j])\n",
    "            if \"code\" in ex.__dict__ and ex.code == 403:\n",
    "                print(ex.msg)\n",
    "                time.sleep(3)\n",
    "        time.sleep(3)\n",
    "#     break"
   ]
  },
  {
   "cell_type": "code",
   "execution_count": 76,
   "metadata": {},
   "outputs": [
    {
     "name": "stdout",
     "output_type": "stream",
     "text": [
      "1607.00036v2  1607.02488v2  1607.04381v2  1607.07086v3\r\n",
      "1607.01759v3  1607.04315v3  1607.04423v4  1607 (1).01759v3\r\n"
     ]
    }
   ],
   "source": [
    "ls /home/singh_shruti/workspace/axcell_ws/axcell/notebooks/data/sources/1607/"
   ]
  },
  {
   "cell_type": "code",
   "execution_count": 85,
   "metadata": {},
   "outputs": [
    {
     "data": {
      "text/plain": [
       "(66,\n",
       " ['1301.3557v1', '1409.5185v2', '1506.02640v5', '1312.4400v3', '1412.1632v1'])"
      ]
     },
     "execution_count": 85,
     "metadata": {},
     "output_type": "execute_result"
    }
   ],
   "source": [
    "len(errs), errs[0:5]"
   ]
  },
  {
   "cell_type": "code",
   "execution_count": 89,
   "metadata": {},
   "outputs": [],
   "source": [
    "new_folders = []\n",
    "for v in errs:\n",
    "    new_folders.append(v.split(\".\")[0])"
   ]
  },
  {
   "cell_type": "code",
   "execution_count": 91,
   "metadata": {},
   "outputs": [
    {
     "name": "stdout",
     "output_type": "stream",
     "text": [
      "['1509', '1303', '1404', '1411', '1402', '1502', '1504', '1409', '1312', '1207', '1301', '1410', '1302', '1709', '1412', '1505', '1202', '1503', '1406', '1506', '1508', '1405', '1512', '1507']\n"
     ]
    }
   ],
   "source": [
    "new_folders = list(set(new_folders))\n",
    "print(new_folders)"
   ]
  },
  {
   "cell_type": "code",
   "execution_count": 92,
   "metadata": {},
   "outputs": [
    {
     "name": "stdout",
     "output_type": "stream",
     "text": [
      "mkdir: cannot create directory ‘/home/singh_shruti/workspace/axcell_ws/axcell/notebooks/data/sources/1709’: File exists\r\n"
     ]
    }
   ],
   "source": [
    "for i in new_folders:\n",
    "    dirname = \"/home/singh_shruti/workspace/axcell_ws/axcell/notebooks/data/sources/\" + i\n",
    "    !mkdir $dirname"
   ]
  },
  {
   "cell_type": "code",
   "execution_count": 93,
   "metadata": {},
   "outputs": [
    {
     "name": "stdout",
     "output_type": "stream",
     "text": [
      "0\n",
      "4\n",
      "8\n",
      "12\n",
      "16\n",
      "20\n",
      "24\n",
      "28\n",
      "32\n",
      "36\n",
      "40\n",
      "44\n",
      "48\n",
      "52\n",
      "56\n",
      "60\n",
      "64\n",
      "list index out of range {}\n"
     ]
    },
    {
     "ename": "IndexError",
     "evalue": "list index out of range",
     "output_type": "error",
     "traceback": [
      "\u001b[0;31m---------------------------------------------------------------------------\u001b[0m",
      "\u001b[0;31mIndexError\u001b[0m                                Traceback (most recent call last)",
      "\u001b[0;32m<ipython-input-93-b18628c333ec>\u001b[0m in \u001b[0;36m<module>\u001b[0;34m\u001b[0m\n\u001b[1;32m      4\u001b[0m         \u001b[0;32mtry\u001b[0m\u001b[0;34m:\u001b[0m\u001b[0;34m\u001b[0m\u001b[0;34m\u001b[0m\u001b[0m\n\u001b[0;32m----> 5\u001b[0;31m             \u001b[0mpaper_url\u001b[0m \u001b[0;34m=\u001b[0m \u001b[0mbase_url\u001b[0m \u001b[0;34m+\u001b[0m \u001b[0merrs\u001b[0m\u001b[0;34m[\u001b[0m\u001b[0mi\u001b[0m\u001b[0;34m+\u001b[0m\u001b[0mj\u001b[0m\u001b[0;34m]\u001b[0m\u001b[0;34m\u001b[0m\u001b[0;34m\u001b[0m\u001b[0m\n\u001b[0m\u001b[1;32m      6\u001b[0m             \u001b[0mdest_dir\u001b[0m \u001b[0;34m=\u001b[0m \u001b[0merrs\u001b[0m\u001b[0;34m[\u001b[0m\u001b[0mi\u001b[0m\u001b[0;34m+\u001b[0m\u001b[0mj\u001b[0m\u001b[0;34m]\u001b[0m\u001b[0;34m.\u001b[0m\u001b[0msplit\u001b[0m\u001b[0;34m(\u001b[0m\u001b[0;34m\".\"\u001b[0m\u001b[0;34m)\u001b[0m\u001b[0;34m[\u001b[0m\u001b[0;36m0\u001b[0m\u001b[0;34m]\u001b[0m\u001b[0;34m\u001b[0m\u001b[0;34m\u001b[0m\u001b[0m\n",
      "\u001b[0;31mIndexError\u001b[0m: list index out of range",
      "\nDuring handling of the above exception, another exception occurred:\n",
      "\u001b[0;31mIndexError\u001b[0m                                Traceback (most recent call last)",
      "\u001b[0;32m<ipython-input-93-b18628c333ec>\u001b[0m in \u001b[0;36m<module>\u001b[0;34m\u001b[0m\n\u001b[1;32m      9\u001b[0m         \u001b[0;32mexcept\u001b[0m \u001b[0mException\u001b[0m \u001b[0;32mas\u001b[0m \u001b[0mex\u001b[0m\u001b[0;34m:\u001b[0m\u001b[0;34m\u001b[0m\u001b[0;34m\u001b[0m\u001b[0m\n\u001b[1;32m     10\u001b[0m             \u001b[0mprint\u001b[0m\u001b[0;34m(\u001b[0m\u001b[0mex\u001b[0m\u001b[0;34m,\u001b[0m \u001b[0mex\u001b[0m\u001b[0;34m.\u001b[0m\u001b[0m__dict__\u001b[0m\u001b[0;34m)\u001b[0m\u001b[0;34m\u001b[0m\u001b[0;34m\u001b[0m\u001b[0m\n\u001b[0;32m---> 11\u001b[0;31m             \u001b[0mprint\u001b[0m\u001b[0;34m(\u001b[0m\u001b[0merrs\u001b[0m\u001b[0;34m[\u001b[0m\u001b[0mi\u001b[0m\u001b[0;34m+\u001b[0m\u001b[0mj\u001b[0m\u001b[0;34m]\u001b[0m\u001b[0;34m)\u001b[0m\u001b[0;34m\u001b[0m\u001b[0;34m\u001b[0m\u001b[0m\n\u001b[0m\u001b[1;32m     12\u001b[0m             \u001b[0;32mif\u001b[0m \u001b[0;34m\"code\"\u001b[0m \u001b[0;32min\u001b[0m \u001b[0mex\u001b[0m\u001b[0;34m.\u001b[0m\u001b[0m__dict__\u001b[0m \u001b[0;32mand\u001b[0m \u001b[0mex\u001b[0m\u001b[0;34m.\u001b[0m\u001b[0mcode\u001b[0m \u001b[0;34m==\u001b[0m \u001b[0;36m403\u001b[0m\u001b[0;34m:\u001b[0m\u001b[0;34m\u001b[0m\u001b[0;34m\u001b[0m\u001b[0m\n\u001b[1;32m     13\u001b[0m                 \u001b[0mprint\u001b[0m\u001b[0;34m(\u001b[0m\u001b[0mex\u001b[0m\u001b[0;34m.\u001b[0m\u001b[0mmsg\u001b[0m\u001b[0;34m)\u001b[0m\u001b[0;34m\u001b[0m\u001b[0;34m\u001b[0m\u001b[0m\n",
      "\u001b[0;31mIndexError\u001b[0m: list index out of range"
     ]
    }
   ],
   "source": [
    "for i in range(0, len(errs), 4):\n",
    "    print(i)\n",
    "    for j in range(0, 4):\n",
    "        try:\n",
    "            paper_url = base_url + errs[i+j]\n",
    "            dest_dir = errs[i+j].split(\".\")[0]\n",
    "            dest_file = \"/home/singh_shruti/workspace/axcell_ws/axcell/notebooks/data/sources/\" + dest_dir + \"/\"\n",
    "            resp = wget.download(paper_url, dest_file)\n",
    "        except Exception as ex:\n",
    "            print(ex, ex.__dict__)\n",
    "            print(errs[i+j])\n",
    "            if \"code\" in ex.__dict__ and ex.code == 403:\n",
    "                print(ex.msg)\n",
    "                time.sleep(3)\n",
    "        time.sleep(3)\n"
   ]
  },
  {
   "cell_type": "code",
   "execution_count": null,
   "metadata": {},
   "outputs": [],
   "source": []
  },
  {
   "cell_type": "code",
   "execution_count": null,
   "metadata": {},
   "outputs": [],
   "source": []
  },
  {
   "cell_type": "code",
   "execution_count": null,
   "metadata": {},
   "outputs": [],
   "source": []
  },
  {
   "cell_type": "markdown",
   "metadata": {},
   "source": [
    "# Now extracting tables from pdf"
   ]
  },
  {
   "cell_type": "code",
   "execution_count": 79,
   "metadata": {},
   "outputs": [],
   "source": [
    "from pathlib import Path\n",
    "from axcell.helpers.paper_extractor import PaperExtractor\n",
    "from axcell.data.paper_collection import PaperCollection\n",
    "from axcell.helpers.datasets import read_tables_annotations"
   ]
  },
  {
   "cell_type": "code",
   "execution_count": 81,
   "metadata": {},
   "outputs": [],
   "source": [
    "ROOT_PATH = Path('data')\n",
    "MODELS_PATH = Path('models')\n",
    "\n",
    "SOURCES_PATH = ROOT_PATH / 'sources'\n",
    "PAPERS_PATH = ROOT_PATH / 'papers'"
   ]
  },
  {
   "cell_type": "code",
   "execution_count": 82,
   "metadata": {},
   "outputs": [],
   "source": [
    "segmented_tables = read_tables_annotations(SEGMENTED_TABLES_URL)\n",
    "pc = PaperCollection.from_files(PAPERS_PATH)\n",
    "# pc = PaperCollection.from_files(PAPERS_PATH, annotations=segmented_tables.to_dict('record'))"
   ]
  },
  {
   "cell_type": "code",
   "execution_count": 96,
   "metadata": {},
   "outputs": [],
   "source": [
    "extract = PaperExtractor(ROOT_PATH)"
   ]
  },
  {
   "cell_type": "code",
   "execution_count": 120,
   "metadata": {
    "collapsed": true
   },
   "outputs": [
    {
     "name": "stdout",
     "output_type": "stream",
     "text": [
      "0\n",
      "1903.05628v3\n",
      "'NoneType' object has no attribute 'tables'\n",
      "1610.05256v2\n",
      "'NoneType' object has no attribute 'tables'\n",
      "1611.06639v1\n",
      "'NoneType' object has no attribute 'tables'\n",
      "1612.03144v2\n",
      "'NoneType' object has no attribute 'tables'\n",
      "1809.01812v1\n",
      "'NoneType' object has no attribute 'tables'\n",
      "1707.04412v1\n",
      "'NoneType' object has no attribute 'tables'\n",
      "1712.00726v1\n",
      "'NoneType' object has no attribute 'tables'\n",
      "1711.10485v1\n",
      "'NoneType' object has no attribute 'tables'\n",
      "1602.07019v2\n",
      "'NoneType' object has no attribute 'tables'\n",
      "1409.5185v2\n",
      "'NoneType' object has no attribute 'tables'\n",
      "1901.07291v1\n",
      "'NoneType' object has no attribute 'tables'\n",
      "1506.02640v5\n",
      "'NoneType' object has no attribute 'tables'\n",
      "1803.10109v1\n",
      "'NoneType' object has no attribute 'tables'\n",
      "1712.03609v4\n",
      "'NoneType' object has no attribute 'tables'\n",
      "1801.00102v2\n",
      "'NoneType' object has no attribute 'tables'\n",
      "1901.00603v1\n",
      "'NoneType' object has no attribute 'tables'\n",
      "1810.04826v4\n",
      "'NoneType' object has no attribute 'tables'\n",
      "1805.08318v1\n",
      "'NoneType' object has no attribute 'tables'\n",
      "1511.08630v2\n",
      "'NoneType' object has no attribute 'tables'\n",
      "1705.02364v5\n",
      "'NoneType' object has no attribute 'tables'\n",
      "1708.05234v4\n",
      "'NoneType' object has no attribute 'tables'\n",
      "1710.02772v1\n",
      "'NoneType' object has no attribute 'tables'\n",
      "1312.4400v3\n",
      "'NoneType' object has no attribute 'tables'\n",
      "1812.05784v1\n",
      "'NoneType' object has no attribute 'tables'\n",
      "1412.1632v1\n",
      "'NoneType' object has no attribute 'tables'\n",
      "1811.03818v1\n",
      "'NoneType' object has no attribute 'tables'\n",
      "1606.04199v3\n",
      "'NoneType' object has no attribute 'tables'\n",
      "1412.7062v4\n",
      "'NoneType' object has no attribute 'tables'\n",
      "1303.5778v1\n",
      "'NoneType' object has no attribute 'tables'\n",
      "1903.07785v1\n",
      "'NoneType' object has no attribute 'tables'\n",
      "1705.02407v2\n",
      "'NoneType' object has no attribute 'tables'\n",
      "1412.6597v4\n",
      "'NoneType' object has no attribute 'tables'\n",
      "1312.6082v4\n",
      "'NoneType' object has no attribute 'tables'\n",
      "1801.08290v1\n",
      "'NoneType' object has no attribute 'tables'\n",
      "1508.00330v2\n",
      "'NoneType' object has no attribute 'tables'\n",
      "1806.01501v1\n",
      "'NoneType' object has no attribute 'tables'\n",
      "1604.04693v3\n",
      "'NoneType' object has no attribute 'tables'\n",
      "1808.02194v2\n",
      "'NoneType' object has no attribute 'tables'\n",
      "1710.09537v1\n",
      "'NoneType' object has no attribute 'tables'\n",
      "1611.10012v3\n",
      "'NoneType' object has no attribute 'tables'\n",
      "1612.04357v4\n",
      "'NoneType' object has no attribute 'tables'\n",
      "1509.08985v2\n",
      "'NoneType' object has no attribute 'tables'\n",
      "1903.08469v1\n",
      "'NoneType' object has no attribute 'tables'\n",
      "1711.06396v1\n",
      "'NoneType' object has no attribute 'tables'\n",
      "1706.02413v1\n",
      "'NoneType' object has no attribute 'tables'\n",
      "1708.04896v2\n",
      "'NoneType' object has no attribute 'tables'\n",
      "1804.09849v2\n",
      "'NoneType' object has no attribute 'tables'\n",
      "1703.00572v3\n",
      "'NoneType' object has no attribute 'tables'\n",
      "1901.08043v2\n",
      "'NoneType' object has no attribute 'tables'\n",
      "1804.07755v2\n",
      "'NoneType' object has no attribute 'tables'\n",
      "1605.03170v3\n",
      "'NoneType' object has no attribute 'tables'\n",
      "1505.03229v1\n",
      "'NoneType' object has no attribute 'tables'\n",
      "1806.05516v1\n",
      "'NoneType' object has no attribute 'tables'\n",
      "1511.07289v5\n",
      "'NoneType' object has no attribute 'tables'\n",
      "1509.08967v2\n",
      "'NoneType' object has no attribute 'tables'\n",
      "1704.06803v1\n",
      "'NoneType' object has no attribute 'tables'\n",
      "1706.02263v2\n",
      "'NoneType' object has no attribute 'tables'\n",
      "1709.01829v1\n",
      "'NoneType' object has no attribute 'tables'\n",
      "1409.6070v1\n",
      "'NoneType' object has no attribute 'tables'\n",
      "1610.08613v2\n",
      "'NoneType' object has no attribute 'tables'\n",
      "1606.03126v2\n",
      "'NoneType' object has no attribute 'tables'\n",
      "1409.4842v1\n",
      "'NoneType' object has no attribute 'tables'\n",
      "1807.06653v3\n",
      "'NoneType' object has no attribute 'tables'\n",
      "1509.06664v4\n",
      "'NoneType' object has no attribute 'tables'\n",
      "1811.04533v3\n",
      "'NoneType' object has no attribute 'tables'\n",
      "1511.03776v3\n",
      "'NoneType' object has no attribute 'tables'\n",
      "1711.07399v3\n",
      "'NoneType' object has no attribute 'tables'\n",
      "1807.03342v2\n",
      "'NoneType' object has no attribute 'tables'\n",
      "1409.2329v5\n",
      "'NoneType' object has no attribute 'tables'\n",
      "1810.09177v3\n",
      "'NoneType' object has no attribute 'tables'\n",
      "1511.06443v2\n",
      "'NoneType' object has no attribute 'tables'\n",
      "1805.03294v1\n",
      "'NoneType' object has no attribute 'tables'\n",
      "1812.03593v5\n",
      "'NoneType' object has no attribute 'tables'\n",
      "1903.02120v3\n",
      "'NoneType' object has no attribute 'tables'\n",
      "1706.08249v8\n",
      "'NoneType' object has no attribute 'tables'\n",
      "1410.8516v6\n",
      "'NoneType' object has no attribute 'tables'\n",
      "1607.04423v4\n",
      "'NoneType' object has no attribute 'tables'\n",
      "1805.09843v1\n",
      "'NoneType' object has no attribute 'tables'\n",
      "1703.06870v3\n",
      "'NoneType' object has no attribute 'tables'\n",
      "1711.06897v3\n",
      "'NoneType' object has no attribute 'tables'\n",
      "1207.4708v2\n",
      "'NoneType' object has no attribute 'tables'\n",
      "1811.07453v2\n",
      "'NoneType' object has no attribute 'tables'\n",
      "1707.07847v3\n",
      "'NoneType' object has no attribute 'tables'\n",
      "1904.03288v1\n",
      "'NoneType' object has no attribute 'tables'\n",
      "1901.09821v1\n",
      "'NoneType' object has no attribute 'tables'\n",
      "1802.00434v1\n",
      "'NoneType' object has no attribute 'tables'\n",
      "1805.10190v3\n",
      "'NoneType' object has no attribute 'tables'\n",
      "1904.00284v1\n",
      "'NoneType' object has no attribute 'tables'\n",
      "5\n",
      "1505.05899v1\n",
      "'NoneType' object has no attribute 'tables'\n",
      "5\n",
      "1812.04948v3\n",
      "'NoneType' object has no attribute 'tables'\n",
      "5\n",
      "1406.7806v2\n",
      "'NoneType' object has no attribute 'tables'\n",
      "5\n",
      "1502.03167v3\n",
      "'NoneType' object has no attribute 'tables'\n",
      "5\n",
      "1704.00051v2\n",
      "'NoneType' object has no attribute 'tables'\n",
      "5\n",
      "1412.6830v3\n",
      "'NoneType' object has no attribute 'tables'\n",
      "5\n",
      "1803.02155v2\n",
      "'NoneType' object has no attribute 'tables'\n",
      "5\n",
      "1505.00393v3\n",
      "'NoneType' object has no attribute 'tables'\n",
      "5\n",
      "1707.02968v2\n",
      "'NoneType' object has no attribute 'tables'\n",
      "5\n",
      "1711.08588v1\n",
      "'NoneType' object has no attribute 'tables'\n",
      "5\n",
      "1812.04244v1\n",
      "'NoneType' object has no attribute 'tables'\n",
      "5\n",
      "1809.02983v3\n",
      "'NoneType' object has no attribute 'tables'\n",
      "5\n",
      "1511.06038v4\n",
      "'NoneType' object has no attribute 'tables'\n",
      "5\n",
      "1804.07983v2\n",
      "'NoneType' object has no attribute 'tables'\n",
      "5\n",
      "1606.01781v2\n",
      "'NoneType' object has no attribute 'tables'\n",
      "5\n",
      "1708.02002v2\n",
      "'NoneType' object has no attribute 'tables'\n",
      "5\n",
      "1704.05188v2\n",
      "'NoneType' object has no attribute 'tables'\n",
      "5\n",
      "1802.05365v2\n",
      "'NoneType' object has no attribute 'tables'\n",
      "5\n",
      "1712.02294v4\n",
      "'NoneType' object has no attribute 'tables'\n",
      "5\n",
      "1406.3676v3\n",
      "'NoneType' object has no attribute 'tables'\n",
      "5\n",
      "1805.02220v2\n",
      "'NoneType' object has no attribute 'tables'\n",
      "5\n",
      "1801.06146v5\n",
      "'NoneType' object has no attribute 'tables'\n",
      "5\n",
      "1804.02767v1\n",
      "'NoneType' object has no attribute 'tables'\n",
      "5\n",
      "1511.02853v4\n",
      "'NoneType' object has no attribute 'tables'\n",
      "5\n",
      "1410.8206v4\n",
      "'NoneType' object has no attribute 'tables'\n",
      "5\n",
      "1811.04210v2\n",
      "'NoneType' object has no attribute 'tables'\n",
      "5\n",
      "1703.02620v1\n",
      "'NoneType' object has no attribute 'tables'\n",
      "5\n",
      "1603.01547v2\n",
      "'NoneType' object has no attribute 'tables'\n",
      "5\n",
      "1604.08242v2\n",
      "'NoneType' object has no attribute 'tables'\n",
      "5\n",
      "1711.08028v4\n",
      "'NoneType' object has no attribute 'tables'\n",
      "5\n",
      "1707.01780v3\n",
      "'NoneType' object has no attribute 'tables'\n",
      "5\n",
      "1503.01640v2\n",
      "'NoneType' object has no attribute 'tables'\n",
      "5\n",
      "1711.08488v2\n",
      "'NoneType' object has no attribute 'tables'\n",
      "5\n",
      "1406.1078v3\n",
      "'NoneType' object has no attribute 'tables'\n",
      "5\n",
      "1803.11175v2\n",
      "'NoneType' object has no attribute 'tables'\n",
      "5\n",
      "1603.08884v1\n",
      "'NoneType' object has no attribute 'tables'\n",
      "5\n",
      "1511.07122v3\n",
      "'NoneType' object has no attribute 'tables'\n",
      "5\n",
      "1502.00702v2\n",
      "'NoneType' object has no attribute 'tables'\n",
      "5\n",
      "1811.12596v1\n",
      "'NoneType' object has no attribute 'tables'\n",
      "5\n",
      "1606.01933v2\n",
      "'NoneType' object has no attribute 'tables'\n",
      "5\n",
      "1603.06021v3\n",
      "'NoneType' object has no attribute 'tables'\n",
      "5\n",
      "1803.00387v1\n",
      "'NoneType' object has no attribute 'tables'\n",
      "5\n",
      "1512.08422v3\n",
      "'NoneType' object has no attribute 'tables'\n",
      "5\n",
      "1702.07432v1\n",
      "'NoneType' object has no attribute 'tables'\n",
      "5\n",
      "1809.06858v1\n",
      "'NoneType' object has no attribute 'tables'\n",
      "5\n",
      "1605.06885v1\n",
      "'NoneType' object has no attribute 'tables'\n",
      "5\n",
      "1806.00187v3\n",
      "'NoneType' object has no attribute 'tables'\n",
      "5\n",
      "1709.08294v3\n",
      "'NoneType' object has no attribute 'tables'\n",
      "5\n",
      "1812.01840v2\n",
      "'NoneType' object has no attribute 'tables'\n",
      "5\n",
      "1611.10080v1\n",
      "'NoneType' object has no attribute 'tables'\n",
      "5\n",
      "1404.3606v2\n",
      "'NoneType' object has no attribute 'tables'\n",
      "5\n",
      "1506.03340v3\n",
      "'NoneType' object has no attribute 'tables'\n",
      "5\n",
      "1809.08545v2\n",
      "'NoneType' object has no attribute 'tables'\n",
      "5\n",
      "1702.08502v3\n",
      "'NoneType' object has no attribute 'tables'\n",
      "5\n",
      "1708.01715v3\n",
      "'NoneType' object has no attribute 'tables'\n",
      "5\n"
     ]
    },
    {
     "name": "stdout",
     "output_type": "stream",
     "text": [
      "1404.4326v1\n",
      "'NoneType' object has no attribute 'tables'\n",
      "5\n",
      "1708.01241v2\n",
      "'NoneType' object has no attribute 'tables'\n",
      "5\n",
      "1606.00915v2\n",
      "'NoneType' object has no attribute 'tables'\n",
      "5\n",
      "1412.5567v2\n",
      "'NoneType' object has no attribute 'tables'\n",
      "5\n",
      "1609.06038v3\n",
      "'NoneType' object has no attribute 'tables'\n",
      "5\n",
      "1808.00897v1\n",
      "'NoneType' object has no attribute 'tables'\n",
      "5\n",
      "1601.06733v7\n",
      "'NoneType' object has no attribute 'tables'\n",
      "5\n",
      "1808.05759v5\n",
      "'NoneType' object has no attribute 'tables'\n",
      "5\n",
      "1708.01101v1\n",
      "'NoneType' object has no attribute 'tables'\n",
      "5\n",
      "1609.08144v2\n",
      "'NoneType' object has no attribute 'tables'\n",
      "5\n",
      "1811.05181v1\n",
      "'NoneType' object has no attribute 'tables'\n",
      "5\n",
      "1710.02322v1\n",
      "'NoneType' object has no attribute 'tables'\n",
      "5\n",
      "1507.06228v2\n",
      "'NoneType' object has no attribute 'tables'\n",
      "5\n",
      "1809.02794v1\n",
      "'NoneType' object has no attribute 'tables'\n",
      "5\n",
      "1606.03498v1\n",
      "'NoneType' object has no attribute 'tables'\n",
      "5\n",
      "1512.02595v1\n",
      "'NoneType' object has no attribute 'tables'\n",
      "5\n",
      "1804.05922v1\n",
      "'NoneType' object has no attribute 'tables'\n",
      "5\n",
      "1609.03528v2\n",
      "'NoneType' object has no attribute 'tables'\n",
      "5\n",
      "1505.00853v2\n",
      "'NoneType' object has no attribute 'tables'\n",
      "5\n",
      "1902.07153v1\n",
      "'NoneType' object has no attribute 'tables'\n",
      "5\n",
      "1405.4053v2\n",
      "'NoneType' object has no attribute 'tables'\n",
      "5\n",
      "1606.07659v3\n",
      "'NoneType' object has no attribute 'tables'\n",
      "5\n",
      "1603.01249v3\n",
      "'NoneType' object has no attribute 'tables'\n",
      "5\n",
      "1708.02863v1\n",
      "'NoneType' object has no attribute 'tables'\n",
      "5\n",
      "1811.11374v1\n",
      "'NoneType' object has no attribute 'tables'\n",
      "5\n",
      "1808.06521v1\n",
      "'NoneType' object has no attribute 'tables'\n",
      "5\n",
      "1808.08762v1\n",
      "'NoneType' object has no attribute 'tables'\n",
      "5\n",
      "1704.03414v1\n",
      "'NoneType' object has no attribute 'tables'\n",
      "5\n",
      "1901.03353v1\n",
      "'NoneType' object has no attribute 'tables'\n",
      "5\n",
      "1904.03797v1\n",
      "'NoneType' object has no attribute 'tables'\n",
      "5\n",
      "1712.09444v2\n",
      "'NoneType' object has no attribute 'tables'\n",
      "5\n",
      "1808.07383v1\n",
      "'NoneType' object has no attribute 'tables'\n",
      "5\n",
      "1709.02755v5\n",
      "'NoneType' object has no attribute 'tables'\n",
      "5\n",
      "1710.10723v2\n",
      "'NoneType' object has no attribute 'tables'\n",
      "5\n",
      "1703.02136v1\n",
      "'NoneType' object has no attribute 'tables'\n",
      "5\n",
      "1503.04596v3\n",
      "'NoneType' object has no attribute 'tables'\n",
      "5\n",
      "1702.03814v3\n",
      "'NoneType' object has no attribute 'tables'\n",
      "5\n",
      "1704.07415v1\n",
      "'NoneType' object has no attribute 'tables'\n",
      "5\n",
      "1509.01626v3\n",
      "'NoneType' object has no attribute 'tables'\n",
      "5\n",
      "1809.01272v1\n",
      "'NoneType' object has no attribute 'tables'\n",
      "5\n",
      "1805.09300v3\n",
      "'NoneType' object has no attribute 'tables'\n",
      "5\n",
      "1612.04402v2\n",
      "'NoneType' object has no attribute 'tables'\n",
      "5\n",
      "1612.08242v1\n",
      "'NoneType' object has no attribute 'tables'\n",
      "5\n",
      "1802.09129v1\n",
      "'NoneType' object has no attribute 'tables'\n",
      "5\n",
      "1901.11117v3\n",
      "'NoneType' object has no attribute 'tables'\n",
      "5\n",
      "1606.02245v4\n",
      "'NoneType' object has no attribute 'tables'\n",
      "5\n",
      "1704.08545v2\n",
      "'NoneType' object has no attribute 'tables'\n",
      "5\n",
      "1809.02279v1\n",
      "'NoneType' object has no attribute 'tables'\n",
      "5\n",
      "1809.00916v3\n",
      "'NoneType' object has no attribute 'tables'\n",
      "5\n",
      "1803.08904v1\n",
      "'NoneType' object has no attribute 'tables'\n",
      "5\n",
      "1604.03540v1\n",
      "'NoneType' object has no attribute 'tables'\n",
      "5\n",
      "1606.02891v2\n",
      "'NoneType' object has no attribute 'tables'\n",
      "5\n",
      "1605.09477v1\n",
      "'NoneType' object has no attribute 'tables'\n",
      "5\n",
      "1606.02892v2\n",
      "'NoneType' object has no attribute 'tables'\n",
      "5\n",
      "1806.09828v1\n",
      "'NoneType' object has no attribute 'tables'\n",
      "5\n",
      "1612.04211v1\n",
      "'NoneType' object has no attribute 'tables'\n",
      "5\n",
      "1511.03719v7\n",
      "'NoneType' object has no attribute 'tables'\n",
      "5\n",
      "1511.00561v3\n",
      "'NoneType' object has no attribute 'tables'\n",
      "5\n",
      "1902.09212v1\n",
      "'NoneType' object has no attribute 'tables'\n",
      "5\n",
      "1506.02351v8\n",
      "'NoneType' object has no attribute 'tables'\n",
      "5\n",
      "1202.2745v1\n",
      "'NoneType' object has no attribute 'tables'\n",
      "5\n",
      "1612.01105v2\n",
      "'NoneType' object has no attribute 'tables'\n",
      "5\n",
      "1706.05587v3\n",
      "'NoneType' object has no attribute 'tables'\n",
      "5\n",
      "1809.05679v3\n",
      "'NoneType' object has no attribute 'tables'\n",
      "5\n",
      "1803.09074v1\n",
      "'NoneType' object has no attribute 'tables'\n",
      "5\n",
      "1512.03385v1\n",
      "'NoneType' object has no attribute 'tables'\n",
      "5\n",
      "1709.04696v3\n",
      "'NoneType' object has no attribute 'tables'\n",
      "5\n",
      "1802.04591v2\n",
      "'NoneType' object has no attribute 'tables'\n",
      "5\n",
      "1506.01497v3\n",
      "'NoneType' object has no attribute 'tables'\n",
      "5\n",
      "1810.06638v1\n",
      "'NoneType' object has no attribute 'tables'\n",
      "5\n",
      "1606.02858v2\n",
      "'NoneType' object has no attribute 'tables'\n",
      "5\n",
      "1706.08500v6\n",
      "'NoneType' object has no attribute 'tables'\n",
      "5\n",
      "1409.0473v7\n",
      "'NoneType' object has no attribute 'tables'\n",
      "5\n",
      "1805.11360v2\n",
      "'NoneType' object has no attribute 'tables'\n",
      "5\n",
      "1703.10025v2\n",
      "'NoneType' object has no attribute 'tables'\n",
      "5\n",
      "1605.06409v2\n",
      "'NoneType' object has no attribute 'tables'\n",
      "5\n",
      "1504.01013v4\n",
      "'NoneType' object has no attribute 'tables'\n",
      "5\n",
      "1504.08083v2\n",
      "'NoneType' object has no attribute 'tables'\n",
      "5\n",
      "1801.01641v1\n",
      "'NoneType' object has no attribute 'tables'\n",
      "5\n",
      "1809.06309v2\n",
      "'NoneType' object has no attribute 'tables'\n",
      "5\n",
      "1703.02719v1\n",
      "'NoneType' object has no attribute 'tables'\n",
      "5\n",
      "1810.06683v2\n",
      "'NoneType' object has no attribute 'tables'\n",
      "5\n",
      "1809.03449v1\n",
      "'NoneType' object has no attribute 'tables'\n",
      "5\n",
      "1503.03244v1\n",
      "'NoneType' object has no attribute 'tables'\n",
      "5\n",
      "1809.10735v1\n",
      "'NoneType' object has no attribute 'tables'\n",
      "5\n",
      "1312.6229v4\n",
      "'NoneType' object has no attribute 'tables'\n",
      "5\n",
      "1506.02075v1\n",
      "'NoneType' object has no attribute 'tables'\n",
      "5\n",
      "1603.00489v2\n",
      "'NoneType' object has no attribute 'tables'\n",
      "5\n",
      "1712.02047v1\n",
      "'NoneType' object has no attribute 'tables'\n",
      "5\n",
      "1703.10295v3\n",
      "'NoneType' object has no attribute 'tables'\n",
      "5\n",
      "1712.03556v2\n",
      "'NoneType' object has no attribute 'tables'\n",
      "5\n",
      "1803.10225v1\n",
      "'NoneType' object has no attribute 'tables'\n",
      "5\n",
      "1807.11590v1\n",
      "'NoneType' object has no attribute 'tables'\n",
      "5\n",
      "1904.03758v1\n",
      "'NoneType' object has no attribute 'tables'\n",
      "5\n",
      "1804.06208v2\n",
      "'NoneType' object has no attribute 'tables'\n",
      "5\n",
      "1801.10296v2\n",
      "'NoneType' object has no attribute 'tables'\n",
      "5\n",
      "1803.02879v2\n",
      "'NoneType' object has no attribute 'tables'\n",
      "5\n",
      "1611.08258v1\n",
      "'NoneType' object has no attribute 'tables'\n",
      "5\n",
      "1711.04289v3\n",
      "'NoneType' object has no attribute 'tables'\n",
      "5\n",
      "1805.11565v4\n",
      "'NoneType' object has no attribute 'tables'\n",
      "5\n",
      "1605.09090v1\n",
      "'NoneType' object has no attribute 'tables'\n",
      "5\n",
      "1801.01671v2\n",
      "'NoneType' object has no attribute 'tables'\n",
      "5\n",
      "1605.05573v2\n",
      "'NoneType' object has no attribute 'tables'\n",
      "5\n",
      "1803.01534v4\n",
      "'NoneType' object has no attribute 'tables'\n",
      "5\n",
      "1504.01106v5\n",
      "'NoneType' object has no attribute 'tables'\n",
      "5\n",
      "1710.10916v3\n",
      "'NoneType' object has no attribute 'tables'\n",
      "5\n",
      "1412.7149v4\n",
      "'NoneType' object has no attribute 'tables'\n",
      "5\n",
      "1706.03762v5\n",
      "'NoneType' object has no attribute 'tables'\n",
      "5\n",
      "1804.09337v1\n",
      "'NoneType' object has no attribute 'tables'\n",
      "5\n",
      "1704.00138v1\n",
      "'NoneType' object has no attribute 'tables'\n",
      "5\n",
      "1806.07789v1\n",
      "'NoneType' object has no attribute 'tables'\n",
      "5\n",
      "1810.04805v1\n",
      "'NoneType' object has no attribute 'tables'\n",
      "5\n",
      "1809.04505v1\n",
      "'NoneType' object has no attribute 'tables'\n",
      "5\n",
      "1711.08229v4\n",
      "'NoneType' object has no attribute 'tables'\n",
      "5\n",
      "1812.05276v1\n",
      "'NoneType' object has no attribute 'tables'\n",
      "5\n",
      "1804.00538v4\n",
      "'NoneType' object has no attribute 'tables'\n",
      "5\n",
      "1502.04623v2\n",
      "'NoneType' object has no attribute 'tables'\n",
      "5\n",
      "1712.07101v1\n",
      "'NoneType' object has no attribute 'tables'\n",
      "5\n",
      "1506.07503v1\n",
      "'NoneType' object has no attribute 'tables'\n",
      "5\n",
      "1801.01849v4\n",
      "'NoneType' object has no attribute 'tables'\n",
      "5\n",
      "1703.04617v2\n",
      "'NoneType' object has no attribute 'tables'\n",
      "5\n",
      "1808.03867v3\n",
      "'NoneType' object has no attribute 'tables'\n",
      "5\n",
      "1511.06645v2\n",
      "'NoneType' object has no attribute 'tables'\n",
      "5\n",
      "1606.07947v4\n",
      "'NoneType' object has no attribute 'tables'\n",
      "5\n",
      "1502.05700v2\n",
      "'NoneType' object has no attribute 'tables'\n",
      "5\n",
      "1705.02798v6\n",
      "'NoneType' object has no attribute 'tables'\n",
      "5\n",
      "1607.04315v3\n",
      "'NoneType' object has no attribute 'tables'\n",
      "5\n",
      "1802.02611v3\n",
      "'NoneType' object has no attribute 'tables'\n",
      "5\n",
      "1612.06851v2\n",
      "'NoneType' object has no attribute 'tables'\n",
      "5\n",
      "1604.02135v2\n",
      "'NoneType' object has no attribute 'tables'\n",
      "5\n",
      "1804.09057v1\n",
      "'NoneType' object has no attribute 'tables'\n",
      "5\n",
      "1511.06434v2\n",
      "'NoneType' object has no attribute 'tables'\n",
      "5\n",
      "1611.09326v3\n",
      "'NoneType' object has no attribute 'tables'\n",
      "5\n",
      "1504.01482v1\n",
      "'NoneType' object has no attribute 'tables'\n",
      "5\n",
      "1605.06211v1\n",
      "'NoneType' object has no attribute 'tables'\n",
      "5\n",
      "1706.02761v3\n",
      "'NoneType' object has no attribute 'tables'\n",
      "5\n",
      "1711.07971v3\n",
      "'NoneType' object has no attribute 'tables'\n",
      "5\n",
      "1411.4038v2\n",
      "'NoneType' object has no attribute 'tables'\n",
      "5\n",
      "1603.00223v2\n",
      "'NoneType' object has no attribute 'tables'\n",
      "5\n"
     ]
    },
    {
     "name": "stdout",
     "output_type": "stream",
     "text": [
      "1901.11504v1\n",
      "'NoneType' object has no attribute 'tables'\n",
      "5\n",
      "1707.08254v3\n",
      "'NoneType' object has no attribute 'tables'\n",
      "5\n",
      "1606.02270v2\n",
      "'NoneType' object has no attribute 'tables'\n",
      "5\n",
      "1302.4389v4\n",
      "'NoneType' object has no attribute 'tables'\n",
      "5\n",
      "1708.01353v1\n",
      "'NoneType' object has no attribute 'tables'\n",
      "5\n",
      "1607.00036v2\n",
      "'NoneType' object has no attribute 'tables'\n",
      "5\n",
      "1803.08494v3\n",
      "'NoneType' object has no attribute 'tables'\n",
      "5\n",
      "1808.07042v2\n",
      "'NoneType' object has no attribute 'tables'\n",
      "5\n",
      "1512.08849v2\n",
      "'NoneType' object has no attribute 'tables'\n",
      "5\n",
      "1703.06211v3\n",
      "'NoneType' object has no attribute 'tables'\n",
      "5\n",
      "1703.10717v4\n",
      "'NoneType' object has no attribute 'tables'\n",
      "5\n",
      "1611.06612v3\n",
      "'NoneType' object has no attribute 'tables'\n",
      "5\n",
      "1410.0736v4\n",
      "'NoneType' object has no attribute 'tables'\n",
      "5\n",
      "1412.6071v4\n",
      "'NoneType' object has no attribute 'tables'\n",
      "5\n",
      "1508.05326v1\n",
      "'NoneType' object has no attribute 'tables'\n",
      "5\n",
      "1511.07053v3\n",
      "'NoneType' object has no attribute 'tables'\n",
      "5\n",
      "1903.06048v2\n",
      "'NoneType' object has no attribute 'tables'\n",
      "5\n",
      "1802.05577v2\n",
      "'NoneType' object has no attribute 'tables'\n",
      "5\n",
      "1703.04816v3\n",
      "'NoneType' object has no attribute 'tables'\n",
      "5\n",
      "1402.5766v1\n",
      "'NoneType' object has no attribute 'tables'\n",
      "5\n",
      "1709.07359v2\n",
      "'NoneType' object has no attribute 'tables'\n",
      "5\n",
      "1406.4729v4\n",
      "'NoneType' object has no attribute 'tables'\n",
      "5\n",
      "1506.04579v2\n",
      "'NoneType' object has no attribute 'tables'\n",
      "5\n",
      "1511.02583v1\n",
      "'NoneType' object has no attribute 'tables'\n",
      "5\n",
      "1605.00937v2\n",
      "'NoneType' object has no attribute 'tables'\n",
      "5\n",
      "1808.09315v1\n",
      "'NoneType' object has no attribute 'tables'\n",
      "5\n",
      "1904.01355v2\n",
      "'NoneType' object has no attribute 'tables'\n",
      "5\n",
      "1704.00784v2\n",
      "'NoneType' object has no attribute 'tables'\n"
     ]
    }
   ],
   "source": [
    "final_res = {}\n",
    "count_idx = 0\n",
    "\n",
    "for ppp in to_be_downloaded_set:\n",
    "    try:\n",
    "        if count_idx%5 == 0:\n",
    "            print(count_idx)\n",
    "            with open(\"rnadomablationexp.pkl\", \"wb\") as f:\n",
    "                pickle.dump(final_res, f)\n",
    "        dir_name = ppp.split(\".\")[0]\n",
    "        extract(SOURCES_PATH / dir_name / ppp)\n",
    "        paper = pc.get_by_id(ppp, ignore_version=False)\n",
    "        \n",
    "        final_res[ppp] = {}\n",
    "        final_res[ppp][\"paper\"] = paper\n",
    "        final_res[ppp][\"tables\"] = paper.tables\n",
    "        count_idx += 1\n",
    "    except Exception as ex:\n",
    "        print(ppp)\n",
    "        print(ex)"
   ]
  },
  {
   "cell_type": "code",
   "execution_count": 121,
   "metadata": {},
   "outputs": [],
   "source": [
    "with open(\"rnadomablationexp.pkl\", \"wb\") as f:\n",
    "    pickle.dump(final_res, f)"
   ]
  },
  {
   "cell_type": "code",
   "execution_count": 122,
   "metadata": {
    "collapsed": true
   },
   "outputs": [
    {
     "data": {
      "text/plain": [
       "{'1607.01759v3': {'paper': <axcell.data.paper_collection.Paper at 0x7fdb7ba6b908>,\n",
       "  'tables': [<axcell.data.table.Table at 0x7fdb7949ec88>,\n",
       "   <axcell.data.table.Table at 0x7fdb79393a20>,\n",
       "   <axcell.data.table.Table at 0x7fdb79393c50>,\n",
       "   <axcell.data.table.Table at 0x7fdb7909bb38>,\n",
       "   <axcell.data.table.Table at 0x7fdb7909fcc0>]},\n",
       " '1609.04331v1': {'paper': <axcell.data.paper_collection.Paper at 0x7fdb7b6d6d68>,\n",
       "  'tables': [<axcell.data.table.Table at 0x7fdb79012fd0>,\n",
       "   <axcell.data.table.Table at 0x7fdb651f9b70>,\n",
       "   <axcell.data.table.Table at 0x7fdb651f9da0>,\n",
       "   <axcell.data.table.Table at 0x7fdb65210438>,\n",
       "   <axcell.data.table.Table at 0x7fdb6520e048>]},\n",
       " '1301.3557v1': {'paper': <axcell.data.paper_collection.Paper at 0x7fdb7b6d5358>,\n",
       "  'tables': [<axcell.data.table.Table at 0x7fdb78947320>,\n",
       "   <axcell.data.table.Table at 0x7fdb652d2f98>,\n",
       "   <axcell.data.table.Table at 0x7fdb652d8b00>,\n",
       "   <axcell.data.table.Table at 0x7fdb652d8d30>,\n",
       "   <axcell.data.table.Table at 0x7fdb652dd748>]},\n",
       " '1606.01847v3': {'paper': <axcell.data.paper_collection.Paper at 0x7fdb7b6d5ef0>,\n",
       "  'tables': [<axcell.data.table.Table at 0x7fdb790310f0>,\n",
       "   <axcell.data.table.Table at 0x7fdb79050e10>,\n",
       "   <axcell.data.table.Table at 0x7fdb7904f208>,\n",
       "   <axcell.data.table.Table at 0x7fdb79056ef0>,\n",
       "   <axcell.data.table.Table at 0x7fdbe3f77c50>,\n",
       "   <axcell.data.table.Table at 0x7fdbe3f68828>]},\n",
       " '1903.05628v3': {'paper': None},\n",
       " '1610.05256v2': {'paper': None},\n",
       " '1611.06639v1': {'paper': None},\n",
       " '1612.03144v2': {'paper': None},\n",
       " '1809.01812v1': {'paper': None},\n",
       " '1707.04412v1': {'paper': None},\n",
       " '1712.00726v1': {'paper': None},\n",
       " '1711.10485v1': {'paper': None},\n",
       " '1602.07019v2': {'paper': None},\n",
       " '1409.5185v2': {'paper': None},\n",
       " '1901.07291v1': {'paper': None},\n",
       " '1506.02640v5': {'paper': None},\n",
       " '1803.10109v1': {'paper': None},\n",
       " '1712.03609v4': {'paper': None},\n",
       " '1801.00102v2': {'paper': None},\n",
       " '1901.00603v1': {'paper': None},\n",
       " '1810.04826v4': {'paper': None},\n",
       " '1805.08318v1': {'paper': None},\n",
       " '1511.08630v2': {'paper': None},\n",
       " '1705.02364v5': {'paper': None},\n",
       " '1708.05234v4': {'paper': None},\n",
       " '1710.02772v1': {'paper': None},\n",
       " '1312.4400v3': {'paper': None},\n",
       " '1812.05784v1': {'paper': None},\n",
       " '1412.1632v1': {'paper': None},\n",
       " '1811.03818v1': {'paper': None},\n",
       " '1606.04199v3': {'paper': None},\n",
       " '1412.7062v4': {'paper': None},\n",
       " '1303.5778v1': {'paper': None},\n",
       " '1903.07785v1': {'paper': None},\n",
       " '1705.02407v2': {'paper': None},\n",
       " '1412.6597v4': {'paper': None},\n",
       " '1312.6082v4': {'paper': None},\n",
       " '1801.08290v1': {'paper': None},\n",
       " '1508.00330v2': {'paper': None},\n",
       " '1806.01501v1': {'paper': None},\n",
       " '1604.04693v3': {'paper': None},\n",
       " '1808.02194v2': {'paper': None},\n",
       " '1710.09537v1': {'paper': None},\n",
       " '1611.10012v3': {'paper': None},\n",
       " '1612.04357v4': {'paper': None},\n",
       " '1509.08985v2': {'paper': None},\n",
       " '1903.08469v1': {'paper': None},\n",
       " '1711.06396v1': {'paper': None},\n",
       " '1706.02413v1': {'paper': None},\n",
       " '1708.04896v2': {'paper': None},\n",
       " '1804.09849v2': {'paper': None},\n",
       " '1703.00572v3': {'paper': None},\n",
       " '1901.08043v2': {'paper': None},\n",
       " '1804.07755v2': {'paper': None},\n",
       " '1605.03170v3': {'paper': None},\n",
       " '1505.03229v1': {'paper': None},\n",
       " '1806.05516v1': {'paper': None},\n",
       " '1511.07289v5': {'paper': None},\n",
       " '1509.08967v2': {'paper': None},\n",
       " '1704.06803v1': {'paper': None},\n",
       " '1706.02263v2': {'paper': None},\n",
       " '1709.01829v1': {'paper': None},\n",
       " '1409.6070v1': {'paper': None},\n",
       " '1610.08613v2': {'paper': None},\n",
       " '1606.03126v2': {'paper': None},\n",
       " '1409.4842v1': {'paper': None},\n",
       " '1807.06653v3': {'paper': None},\n",
       " '1509.06664v4': {'paper': None},\n",
       " '1811.04533v3': {'paper': None},\n",
       " '1511.03776v3': {'paper': None},\n",
       " '1711.07399v3': {'paper': None},\n",
       " '1807.03342v2': {'paper': None},\n",
       " '1409.2329v5': {'paper': None},\n",
       " '1810.09177v3': {'paper': None},\n",
       " '1511.06443v2': {'paper': None},\n",
       " '1805.03294v1': {'paper': None},\n",
       " '1812.03593v5': {'paper': None},\n",
       " '1903.02120v3': {'paper': None},\n",
       " '1706.08249v8': {'paper': None},\n",
       " '1410.8516v6': {'paper': None},\n",
       " '1607.04423v4': {'paper': None},\n",
       " '1805.09843v1': {'paper': None},\n",
       " '1703.06870v3': {'paper': None},\n",
       " '1711.06897v3': {'paper': None},\n",
       " '1207.4708v2': {'paper': None},\n",
       " '1811.07453v2': {'paper': None},\n",
       " '1707.07847v3': {'paper': None},\n",
       " '1904.03288v1': {'paper': None},\n",
       " '1901.09821v1': {'paper': None},\n",
       " '1802.00434v1': {'paper': None},\n",
       " '1805.10190v3': {'paper': None},\n",
       " '1904.00284v1': {'paper': None},\n",
       " '1903.11816v1': {'paper': <axcell.data.paper_collection.Paper at 0x7fdb792c42b0>,\n",
       "  'tables': [<axcell.data.table.Table at 0x7fdb78ef8400>,\n",
       "   <axcell.data.table.Table at 0x7fdb651c82e8>,\n",
       "   <axcell.data.table.Table at 0x7fdb651c8518>,\n",
       "   <axcell.data.table.Table at 0x7fdb651ccdd8>,\n",
       "   <axcell.data.table.Table at 0x7fdb651d0f28>]},\n",
       " '1505.05899v1': {'paper': None},\n",
       " '1812.04948v3': {'paper': None},\n",
       " '1406.7806v2': {'paper': None},\n",
       " '1502.03167v3': {'paper': None},\n",
       " '1704.00051v2': {'paper': None},\n",
       " '1412.6830v3': {'paper': None},\n",
       " '1803.02155v2': {'paper': None},\n",
       " '1505.00393v3': {'paper': None},\n",
       " '1707.02968v2': {'paper': None},\n",
       " '1711.08588v1': {'paper': None},\n",
       " '1812.04244v1': {'paper': None},\n",
       " '1809.02983v3': {'paper': None},\n",
       " '1511.06038v4': {'paper': None},\n",
       " '1804.07983v2': {'paper': None},\n",
       " '1606.01781v2': {'paper': None},\n",
       " '1708.02002v2': {'paper': None},\n",
       " '1704.05188v2': {'paper': None},\n",
       " '1802.05365v2': {'paper': None},\n",
       " '1712.02294v4': {'paper': None},\n",
       " '1406.3676v3': {'paper': None},\n",
       " '1805.02220v2': {'paper': None},\n",
       " '1801.06146v5': {'paper': None},\n",
       " '1804.02767v1': {'paper': None},\n",
       " '1511.02853v4': {'paper': None},\n",
       " '1410.8206v4': {'paper': None},\n",
       " '1811.04210v2': {'paper': None},\n",
       " '1703.02620v1': {'paper': None},\n",
       " '1603.01547v2': {'paper': None},\n",
       " '1604.08242v2': {'paper': None},\n",
       " '1711.08028v4': {'paper': None},\n",
       " '1707.01780v3': {'paper': None},\n",
       " '1503.01640v2': {'paper': None},\n",
       " '1711.08488v2': {'paper': None},\n",
       " '1406.1078v3': {'paper': None},\n",
       " '1803.11175v2': {'paper': None},\n",
       " '1603.08884v1': {'paper': None},\n",
       " '1511.07122v3': {'paper': None},\n",
       " '1502.00702v2': {'paper': None},\n",
       " '1811.12596v1': {'paper': None},\n",
       " '1606.01933v2': {'paper': None},\n",
       " '1603.06021v3': {'paper': None},\n",
       " '1803.00387v1': {'paper': None},\n",
       " '1512.08422v3': {'paper': None},\n",
       " '1702.07432v1': {'paper': None},\n",
       " '1809.06858v1': {'paper': None},\n",
       " '1605.06885v1': {'paper': None},\n",
       " '1806.00187v3': {'paper': None},\n",
       " '1709.08294v3': {'paper': None},\n",
       " '1812.01840v2': {'paper': None},\n",
       " '1611.10080v1': {'paper': None},\n",
       " '1404.3606v2': {'paper': None},\n",
       " '1506.03340v3': {'paper': None},\n",
       " '1809.08545v2': {'paper': None},\n",
       " '1702.08502v3': {'paper': None},\n",
       " '1708.01715v3': {'paper': None},\n",
       " '1404.4326v1': {'paper': None},\n",
       " '1708.01241v2': {'paper': None},\n",
       " '1606.00915v2': {'paper': None},\n",
       " '1412.5567v2': {'paper': None},\n",
       " '1609.06038v3': {'paper': None},\n",
       " '1808.00897v1': {'paper': None},\n",
       " '1601.06733v7': {'paper': None},\n",
       " '1808.05759v5': {'paper': None},\n",
       " '1708.01101v1': {'paper': None},\n",
       " '1609.08144v2': {'paper': None},\n",
       " '1811.05181v1': {'paper': None},\n",
       " '1710.02322v1': {'paper': None},\n",
       " '1507.06228v2': {'paper': None},\n",
       " '1809.02794v1': {'paper': None},\n",
       " '1606.03498v1': {'paper': None},\n",
       " '1512.02595v1': {'paper': None},\n",
       " '1804.05922v1': {'paper': None},\n",
       " '1609.03528v2': {'paper': None},\n",
       " '1505.00853v2': {'paper': None},\n",
       " '1902.07153v1': {'paper': None},\n",
       " '1405.4053v2': {'paper': None},\n",
       " '1606.07659v3': {'paper': None},\n",
       " '1603.01249v3': {'paper': None},\n",
       " '1708.02863v1': {'paper': None},\n",
       " '1811.11374v1': {'paper': None},\n",
       " '1808.06521v1': {'paper': None},\n",
       " '1808.08762v1': {'paper': None},\n",
       " '1704.03414v1': {'paper': None},\n",
       " '1901.03353v1': {'paper': None},\n",
       " '1904.03797v1': {'paper': None},\n",
       " '1712.09444v2': {'paper': None},\n",
       " '1808.07383v1': {'paper': None},\n",
       " '1709.02755v5': {'paper': None},\n",
       " '1710.10723v2': {'paper': None},\n",
       " '1703.02136v1': {'paper': None},\n",
       " '1503.04596v3': {'paper': None},\n",
       " '1702.03814v3': {'paper': None},\n",
       " '1704.07415v1': {'paper': None},\n",
       " '1509.01626v3': {'paper': None},\n",
       " '1809.01272v1': {'paper': None},\n",
       " '1805.09300v3': {'paper': None},\n",
       " '1612.04402v2': {'paper': None},\n",
       " '1612.08242v1': {'paper': None},\n",
       " '1802.09129v1': {'paper': None},\n",
       " '1901.11117v3': {'paper': None},\n",
       " '1606.02245v4': {'paper': None},\n",
       " '1704.08545v2': {'paper': None},\n",
       " '1809.02279v1': {'paper': None},\n",
       " '1809.00916v3': {'paper': None},\n",
       " '1803.08904v1': {'paper': None},\n",
       " '1604.03540v1': {'paper': None},\n",
       " '1606.02891v2': {'paper': None},\n",
       " '1605.09477v1': {'paper': None},\n",
       " '1606.02892v2': {'paper': None},\n",
       " '1806.09828v1': {'paper': None},\n",
       " '1612.04211v1': {'paper': None},\n",
       " '1511.03719v7': {'paper': None},\n",
       " '1511.00561v3': {'paper': None},\n",
       " '1902.09212v1': {'paper': None},\n",
       " '1506.02351v8': {'paper': None},\n",
       " '1202.2745v1': {'paper': None},\n",
       " '1612.01105v2': {'paper': None},\n",
       " '1706.05587v3': {'paper': None},\n",
       " '1809.05679v3': {'paper': None},\n",
       " '1803.09074v1': {'paper': None},\n",
       " '1512.03385v1': {'paper': None},\n",
       " '1709.04696v3': {'paper': None},\n",
       " '1802.04591v2': {'paper': None},\n",
       " '1506.01497v3': {'paper': None},\n",
       " '1810.06638v1': {'paper': None},\n",
       " '1606.02858v2': {'paper': None},\n",
       " '1706.08500v6': {'paper': None},\n",
       " '1409.0473v7': {'paper': None},\n",
       " '1805.11360v2': {'paper': None},\n",
       " '1703.10025v2': {'paper': None},\n",
       " '1605.06409v2': {'paper': None},\n",
       " '1504.01013v4': {'paper': None},\n",
       " '1504.08083v2': {'paper': None},\n",
       " '1801.01641v1': {'paper': None},\n",
       " '1809.06309v2': {'paper': None},\n",
       " '1703.02719v1': {'paper': None},\n",
       " '1810.06683v2': {'paper': None},\n",
       " '1809.03449v1': {'paper': None},\n",
       " '1503.03244v1': {'paper': None},\n",
       " '1809.10735v1': {'paper': None},\n",
       " '1312.6229v4': {'paper': None},\n",
       " '1506.02075v1': {'paper': None},\n",
       " '1603.00489v2': {'paper': None},\n",
       " '1712.02047v1': {'paper': None},\n",
       " '1703.10295v3': {'paper': None},\n",
       " '1712.03556v2': {'paper': None},\n",
       " '1803.10225v1': {'paper': None},\n",
       " '1807.11590v1': {'paper': None},\n",
       " '1904.03758v1': {'paper': None},\n",
       " '1804.06208v2': {'paper': None},\n",
       " '1801.10296v2': {'paper': None},\n",
       " '1803.02879v2': {'paper': None},\n",
       " '1611.08258v1': {'paper': None},\n",
       " '1711.04289v3': {'paper': None},\n",
       " '1805.11565v4': {'paper': None},\n",
       " '1605.09090v1': {'paper': None},\n",
       " '1801.01671v2': {'paper': None},\n",
       " '1605.05573v2': {'paper': None},\n",
       " '1803.01534v4': {'paper': None},\n",
       " '1504.01106v5': {'paper': None},\n",
       " '1710.10916v3': {'paper': None},\n",
       " '1412.7149v4': {'paper': None},\n",
       " '1706.03762v5': {'paper': None},\n",
       " '1804.09337v1': {'paper': None},\n",
       " '1704.00138v1': {'paper': None},\n",
       " '1806.07789v1': {'paper': None},\n",
       " '1810.04805v1': {'paper': None},\n",
       " '1809.04505v1': {'paper': None},\n",
       " '1711.08229v4': {'paper': None},\n",
       " '1812.05276v1': {'paper': None},\n",
       " '1804.00538v4': {'paper': None},\n",
       " '1502.04623v2': {'paper': None},\n",
       " '1712.07101v1': {'paper': None},\n",
       " '1506.07503v1': {'paper': None},\n",
       " '1801.01849v4': {'paper': None},\n",
       " '1703.04617v2': {'paper': None},\n",
       " '1808.03867v3': {'paper': None},\n",
       " '1511.06645v2': {'paper': None},\n",
       " '1606.07947v4': {'paper': None},\n",
       " '1502.05700v2': {'paper': None},\n",
       " '1705.02798v6': {'paper': None},\n",
       " '1607.04315v3': {'paper': None},\n",
       " '1802.02611v3': {'paper': None},\n",
       " '1612.06851v2': {'paper': None},\n",
       " '1604.02135v2': {'paper': None},\n",
       " '1804.09057v1': {'paper': None},\n",
       " '1511.06434v2': {'paper': None},\n",
       " '1611.09326v3': {'paper': None},\n",
       " '1504.01482v1': {'paper': None},\n",
       " '1605.06211v1': {'paper': None},\n",
       " '1706.02761v3': {'paper': None},\n",
       " '1711.07971v3': {'paper': None},\n",
       " '1411.4038v2': {'paper': None},\n",
       " '1603.00223v2': {'paper': None},\n",
       " '1901.11504v1': {'paper': None},\n",
       " '1707.08254v3': {'paper': None},\n",
       " '1606.02270v2': {'paper': None},\n",
       " '1302.4389v4': {'paper': None},\n",
       " '1708.01353v1': {'paper': None},\n",
       " '1607.00036v2': {'paper': None},\n",
       " '1803.08494v3': {'paper': None},\n",
       " '1808.07042v2': {'paper': None},\n",
       " '1512.08849v2': {'paper': None},\n",
       " '1703.06211v3': {'paper': None},\n",
       " '1703.10717v4': {'paper': None},\n",
       " '1611.06612v3': {'paper': None},\n",
       " '1410.0736v4': {'paper': None},\n",
       " '1412.6071v4': {'paper': None},\n",
       " '1508.05326v1': {'paper': None},\n",
       " '1511.07053v3': {'paper': None},\n",
       " '1903.06048v2': {'paper': None},\n",
       " '1802.05577v2': {'paper': None},\n",
       " '1703.04816v3': {'paper': None},\n",
       " '1402.5766v1': {'paper': None},\n",
       " '1709.07359v2': {'paper': None},\n",
       " '1406.4729v4': {'paper': None},\n",
       " '1506.04579v2': {'paper': None},\n",
       " '1511.02583v1': {'paper': None},\n",
       " '1605.00937v2': {'paper': None},\n",
       " '1808.09315v1': {'paper': None},\n",
       " '1904.01355v2': {'paper': None},\n",
       " '1704.00784v2': {'paper': None}}"
      ]
     },
     "execution_count": 122,
     "metadata": {},
     "output_type": "execute_result"
    }
   ],
   "source": [
    "final_res"
   ]
  },
  {
   "cell_type": "code",
   "execution_count": 136,
   "metadata": {},
   "outputs": [],
   "source": [
    "pc = PaperCollection.from_files(PAPERS_PATH, annotations=segmented_tables.to_dict('record'))"
   ]
  },
  {
   "cell_type": "code",
   "execution_count": 139,
   "metadata": {},
   "outputs": [],
   "source": [
    "for k in final_res:\n",
    "    if not final_res[k]['paper']:\n",
    "        paper = pc.get_by_id(k, ignore_version=False)\n",
    "        \n",
    "        final_res[k][\"paper\"] = paper\n",
    "        final_res[k][\"tables\"] = paper.tables"
   ]
  },
  {
   "cell_type": "code",
   "execution_count": 166,
   "metadata": {},
   "outputs": [
    {
     "data": {
      "text/plain": [
       "315"
      ]
     },
     "execution_count": 166,
     "metadata": {},
     "output_type": "execute_result"
    }
   ],
   "source": [
    "len(final_res)"
   ]
  },
  {
   "cell_type": "code",
   "execution_count": 172,
   "metadata": {},
   "outputs": [],
   "source": [
    "# Found the extra 315, and the rest in 352 are already in ICLR"
   ]
  },
  {
   "cell_type": "code",
   "execution_count": 175,
   "metadata": {},
   "outputs": [
    {
     "name": "stdout",
     "output_type": "stream",
     "text": [
      "1807.00734v3\n",
      "1807.03819v3\n",
      "1809.11096v2\n",
      "1811.01483v3\n",
      "1901.00686v1\n",
      "1901.10430v2\n"
     ]
    }
   ],
   "source": [
    "for s in seg_tables:\n",
    "     if s[\"arxiv_id\"] in iclr_data_arxivids:\n",
    "            try:\n",
    "                ppp = s[\"arxiv_id\"]\n",
    "                paper = pc.get_by_id(ppp, ignore_version=False)\n",
    "\n",
    "                final_res[ppp] = {}\n",
    "                final_res[ppp][\"paper\"] = paper\n",
    "                final_res[ppp][\"tables\"] = paper.tables\n",
    "            except Exception as ex:\n",
    "                # These are not yet extracted\n",
    "                print(ppp)"
   ]
  },
  {
   "cell_type": "code",
   "execution_count": 179,
   "metadata": {},
   "outputs": [
    {
     "data": {
      "text/plain": [
       "352"
      ]
     },
     "execution_count": 179,
     "metadata": {},
     "output_type": "execute_result"
    }
   ],
   "source": [
    "len(final_res)"
   ]
  },
  {
   "cell_type": "code",
   "execution_count": null,
   "metadata": {},
   "outputs": [],
   "source": []
  },
  {
   "cell_type": "code",
   "execution_count": null,
   "metadata": {},
   "outputs": [],
   "source": []
  },
  {
   "cell_type": "code",
   "execution_count": null,
   "metadata": {},
   "outputs": [],
   "source": []
  },
  {
   "cell_type": "code",
   "execution_count": null,
   "metadata": {},
   "outputs": [],
   "source": []
  },
  {
   "cell_type": "code",
   "execution_count": null,
   "metadata": {},
   "outputs": [],
   "source": []
  },
  {
   "cell_type": "code",
   "execution_count": null,
   "metadata": {},
   "outputs": [],
   "source": []
  },
  {
   "cell_type": "code",
   "execution_count": 107,
   "metadata": {},
   "outputs": [
    {
     "name": "stdout",
     "output_type": "stream",
     "text": [
      "layout_01.csv  layout_04.csv  table_01.csv  table_04.csv\r\n",
      "layout_02.csv  layout_05.csv  table_02.csv  table_05.csv\r\n",
      "layout_03.csv  metadata.json  table_03.csv  text.json\r\n"
     ]
    }
   ],
   "source": [
    "ls /home/singh_shruti/workspace/axcell_ws/axcell/notebooks/data/papers/1607/1607.01759v3/"
   ]
  },
  {
   "cell_type": "code",
   "execution_count": 108,
   "metadata": {},
   "outputs": [
    {
     "name": "stdout",
     "output_type": "stream",
     "text": [
      "Model,AG,Sogou,DBP,Yelp P.,Yelp F.,Yah. A.,Amz. F.,Amz. P.\r\n",
      "BoW [<ref id='bib-bibx23'>Zhang et al.2015</ref>],88.8,92.9,96.6,92.2,58.0,68.9,54.6,90.4\r\n",
      "ngrams [<ref id='bib-bibx23'>Zhang et al.2015</ref>],92.0,97.1,98.6,95.6,56.3,68.5,54.3,92.0\r\n",
      "ngrams TFIDF [<ref id='bib-bibx23'>Zhang et al.2015</ref>],92.4,97.2,98.7,95.4,54.8,68.5,52.4,91.5\r\n",
      "char-CNN [<ref id='bib-bibx22'>Zhang and LeCun2015</ref>],87.2,95.1,98.3,94.7,62.0,71.2,59.5,94.5\r\n",
      "char-CRNN [<ref id='bib-bibx21'>Xiao and Cho2016</ref>],91.4,95.2,98.6,94.5,61.8,71.7,59.2,94.1\r\n",
      "VDCNN [<ref id='bib-bibx3'>Conneau et al.2016</ref>],91.3,96.8,98.7,95.7,64.7,73.4,63.0,95.7\r\n",
      "\"fastText, <italic>h</italic>=10\",91.5,93.9,98.1,93.8,60.4,72.0,55.8,91.2\r\n",
      "\"fastText, <italic>h</italic>=10, bigram\",92.5,96.8,98.6,95.7,63.9,72.3,60.2,94.6\r\n"
     ]
    }
   ],
   "source": [
    "cat /home/singh_shruti/workspace/axcell_ws/axcell/notebooks/data/papers/1607/1607.01759v3/table_01.csv"
   ]
  },
  {
   "cell_type": "code",
   "execution_count": 123,
   "metadata": {},
   "outputs": [
    {
     "name": "stdout",
     "output_type": "stream",
     "text": [
      "layout_01.csv  layout_07.csv  layout_13.csv  table_04.csv  table_10.csv\r\n",
      "layout_02.csv  layout_08.csv  layout_14.csv  table_05.csv  table_11.csv\r\n",
      "layout_03.csv  layout_09.csv  metadata.json  table_06.csv  table_12.csv\r\n",
      "layout_04.csv  layout_10.csv  table_01.csv   table_07.csv  table_13.csv\r\n",
      "layout_05.csv  layout_11.csv  table_02.csv   table_08.csv  table_14.csv\r\n",
      "layout_06.csv  layout_12.csv  table_03.csv   table_09.csv  text.json\r\n"
     ]
    }
   ],
   "source": [
    "ls /home/singh_shruti/workspace/axcell_ws/axcell/notebooks/data/papers/1406/1406.4729v4"
   ]
  },
  {
   "cell_type": "code",
   "execution_count": 134,
   "metadata": {},
   "outputs": [],
   "source": []
  },
  {
   "cell_type": "code",
   "execution_count": 135,
   "metadata": {},
   "outputs": [
    {
     "name": "stdout",
     "output_type": "stream",
     "text": [
      "<axcell.data.paper_collection.Paper object at 0x7fdb5b4d50b8>\n"
     ]
    }
   ],
   "source": [
    "p = pc.get_by_id(\"1406.4729v4\")\n",
    "print(p)"
   ]
  },
  {
   "cell_type": "code",
   "execution_count": 133,
   "metadata": {},
   "outputs": [
    {
     "data": {
      "text/plain": [
       "'1611.07078v2'"
      ]
     },
     "execution_count": 133,
     "metadata": {},
     "output_type": "execute_result"
    }
   ],
   "source": [
    "len(pc)\n",
    "# pc[0].paper_id"
   ]
  },
  {
   "cell_type": "code",
   "execution_count": null,
   "metadata": {},
   "outputs": [],
   "source": []
  },
  {
   "cell_type": "code",
   "execution_count": null,
   "metadata": {},
   "outputs": [],
   "source": []
  },
  {
   "cell_type": "code",
   "execution_count": null,
   "metadata": {},
   "outputs": [],
   "source": []
  },
  {
   "cell_type": "code",
   "execution_count": null,
   "metadata": {},
   "outputs": [],
   "source": []
  },
  {
   "cell_type": "markdown",
   "metadata": {},
   "source": [
    "# Now reading annotated dataset"
   ]
  },
  {
   "cell_type": "code",
   "execution_count": 38,
   "metadata": {},
   "outputs": [
    {
     "name": "stdout",
     "output_type": "stream",
     "text": [
      "Number of papers:      352\n",
      "Number of tables:     1994\n",
      "├── leaderboards:      796\n",
      "└── ablations:         468\n",
      "Linked results:       1591\n"
     ]
    }
   ],
   "source": [
    "from axcell.helpers.datasets import read_tables_annotations\n",
    "\n",
    "\n",
    "V1_URL = 'https://github.com/paperswithcode/axcell/releases/download/v1.0/'\n",
    "SEGMENTED_TABLES_URL = V1_URL + 'segmented-tables.json.xz'\n",
    "\n",
    "segmented_tables_annotations = read_tables_annotations(SEGMENTED_TABLES_URL)\n",
    "\n",
    "leaderboards = (segmented_tables_annotations.tables.apply(\n",
    "    lambda tables: len([t for t in tables if t['leaderboard']])\n",
    ").sum())\n",
    "ablations = (segmented_tables_annotations.tables.apply(\n",
    "    lambda tables: len([t for t in tables if t['ablation']])\n",
    ").sum())\n",
    "records = (segmented_tables_annotations.tables.apply(\n",
    "    lambda tables: sum([len(t['records']) for t in tables])\n",
    ").sum())\n",
    "\n",
    "print(f'Number of papers: {len(segmented_tables_annotations):8}')\n",
    "print(f'Number of tables: {segmented_tables_annotations.tables.apply(len).sum():8}')\n",
    "print(f'├── leaderboards: {leaderboards:8}')\n",
    "print(f'└── ablations:    {ablations:8}')\n",
    "print(f'Linked results:   {records:8}')"
   ]
  },
  {
   "cell_type": "code",
   "execution_count": 162,
   "metadata": {},
   "outputs": [],
   "source": [
    "# segmented_tables_annotations.iloc[0]\n",
    "seg_df = segmented_tables_annotations.set_index('arxiv_id')"
   ]
  },
  {
   "cell_type": "code",
   "execution_count": 163,
   "metadata": {},
   "outputs": [],
   "source": [
    "seg_data_dict = seg_df.to_dict(orient='index')"
   ]
  },
  {
   "cell_type": "code",
   "execution_count": 165,
   "metadata": {},
   "outputs": [
    {
     "data": {
      "text/plain": [
       "(352,\n",
       " dict_keys(['1202.2745v1', '1207.4708v2', '1301.3557v1', '1302.4389v4', '1303.5778v1', '1312.4400v3', '1312.6082v4', '1312.6229v4', '1402.5766v1', '1404.3606v2', '1404.4326v1', '1405.4053v2', '1406.1078v3', '1406.3676v3', '1406.4729v4', '1406.7806v2', '1409.0473v7', '1409.2329v5', '1409.4842v1', '1409.5185v2', '1409.6070v1', '1410.0736v4', '1410.8206v4', '1410.8516v6', '1411.4038v2', '1412.1632v1', '1412.5567v2', '1412.6071v4', '1412.6597v4', '1412.6830v3', '1412.7062v4', '1412.7149v4', '1502.00702v2', '1502.03167v3', '1502.04623v2', '1502.05700v2', '1503.01640v2', '1503.03244v1', '1503.04596v3', '1504.01013v4', '1504.01106v5', '1504.01482v1', '1504.08083v2', '1505.00393v3', '1505.00853v2', '1505.03229v1', '1505.05899v1', '1506.01497v3', '1506.02075v1', '1506.02351v8', '1506.02640v5', '1506.03340v3', '1506.04579v2', '1506.07503v1', '1507.06228v2', '1508.00330v2', '1508.05326v1', '1509.01626v3', '1509.06664v4', '1509.08967v2', '1509.08985v2', '1511.00561v3', '1511.02583v1', '1511.02853v4', '1511.03719v7', '1511.03776v3', '1511.06038v4', '1511.06434v2', '1511.06443v2', '1511.06645v2', '1511.07053v3', '1511.07122v3', '1511.07289v5', '1511.08630v2', '1512.02595v1', '1512.03385v1', '1512.08422v3', '1512.08849v2', '1601.06733v7', '1602.07019v2', '1603.00223v2', '1603.00489v2', '1603.01249v3', '1603.01547v2', '1603.06021v3', '1603.08884v1', '1604.02135v2', '1604.03540v1', '1604.04693v3', '1604.08242v2', '1605.00937v2', '1605.03170v3', '1605.05573v2', '1605.06211v1', '1605.06409v2', '1605.06885v1', '1605.08803v3', '1605.09090v1', '1605.09477v1', '1606.00915v2', '1606.01549v3', '1606.01781v2', '1606.01847v3', '1606.01933v2', '1606.02147v1', '1606.02245v4', '1606.02270v2', '1606.02858v2', '1606.02891v2', '1606.02892v2', '1606.03126v2', '1606.03498v1', '1606.04199v3', '1606.07659v3', '1606.07947v4', '1607.00036v2', '1607.01759v3', '1607.04315v3', '1607.04423v4', '1608.07905v2', '1609.03528v2', '1609.04331v1', '1609.06038v3', '1609.08144v2', '1610.05256v2', '1610.08613v2', '1610.09996v2', '1611.01604v4', '1611.01724v2', '1611.06612v3', '1611.06639v1', '1611.08258v1', '1611.09326v3', '1611.10012v3', '1611.10080v1', '1612.01105v2', '1612.03144v2', '1612.03969v3', '1612.04211v1', '1612.04357v4', '1612.04402v2', '1612.06851v2', '1612.08242v1', '1702.01417v2', '1702.01691v2', '1702.03814v3', '1702.07432v1', '1702.08502v3', '1703.00572v3', '1703.01560v3', '1703.02136v1', '1703.02620v1', '1703.02719v1', '1703.04617v2', '1703.04816v3', '1703.06211v3', '1703.06870v3', '1703.10025v2', '1703.10295v3', '1703.10717v4', '1704.00051v2', '1704.00138v1', '1704.00784v2', '1704.01444v2', '1704.03414v1', '1704.05188v2', '1704.06803v1', '1704.07415v1', '1704.08545v2', '1705.02364v5', '1705.02407v2', '1705.02798v6', '1706.00286v3', '1706.02263v2', '1706.02413v1', '1706.02596v3', '1706.02761v3', '1706.03059v2', '1706.03762v5', '1706.05565v8', '1706.05587v3', '1706.08249v8', '1706.08500v6', '1707.01780v3', '1707.02968v2', '1707.04412v1', '1707.07847v3', '1707.08254v3', '1708.01101v1', '1708.01241v2', '1708.01353v1', '1708.01715v3', '1708.02002v2', '1708.02863v1', '1708.04896v2', '1708.05234v4', '1709.01829v1', '1709.02755v5', '1709.04348v2', '1709.04696v3', '1709.07359v2', '1709.08294v3', '1710.02322v1', '1710.02772v1', '1710.09537v1', '1710.10196v3', '1710.10504v2', '1710.10723v2', '1710.10916v3', '1710.11041v2', '1711.00043v2', '1711.00106v2', '1711.01068v2', '1711.02132v1', '1711.02281v2', '1711.04289v3', '1711.06396v1', '1711.06897v3', '1711.07341v2', '1711.07399v3', '1711.07971v3', '1711.08028v4', '1711.08229v4', '1711.08488v2', '1711.08588v1', '1711.10485v1', '1712.00726v1', '1712.02047v1', '1712.02294v4', '1712.03556v2', '1712.03609v4', '1712.07101v1', '1712.09444v2', '1801.00102v2', '1801.01641v1', '1801.01671v2', '1801.01849v4', '1801.06146v5', '1801.08290v1', '1801.08459v2', '1801.10296v2', '1802.00434v1', '1802.02611v3', '1802.04591v2', '1802.05365v2', '1802.05577v2', '1802.05637v2', '1802.05751v3', '1802.05957v1', '1802.09129v1', '1803.00387v1', '1803.01534v4', '1803.02155v2', '1803.02879v2', '1803.08494v3', '1803.08904v1', '1803.09074v1', '1803.10109v1', '1803.10225v1', '1803.11175v2', '1804.00538v4', '1804.02767v1', '1804.05922v1', '1804.06208v2', '1804.07755v2', '1804.07983v2', '1804.09057v1', '1804.09337v1', '1804.09541v1', '1804.09849v2', '1805.02220v2', '1805.03294v1', '1805.08318v1', '1805.09300v3', '1805.09843v1', '1805.10190v3', '1805.11360v2', '1805.11565v4', '1806.00187v3', '1806.01501v1', '1806.05516v1', '1806.07789v1', '1806.09828v1', '1807.00734v3', '1807.03342v2', '1807.03819v3', '1807.06653v3', '1807.11590v1', '1808.00897v1', '1808.02194v2', '1808.03867v3', '1808.05759v5', '1808.06521v1', '1808.07042v2', '1808.07383v1', '1808.08762v1', '1808.09315v1', '1809.00916v3', '1809.01272v1', '1809.01812v1', '1809.02279v1', '1809.02794v1', '1809.02983v3', '1809.03449v1', '1809.04505v1', '1809.05679v3', '1809.06309v2', '1809.06858v1', '1809.08545v2', '1809.10735v1', '1809.11096v2', '1810.04805v1', '1810.04826v4', '1810.06638v1', '1810.06683v2', '1810.09177v3', '1811.01483v3', '1811.03818v1', '1811.04210v2', '1811.04533v3', '1811.05181v1', '1811.07453v2', '1811.11374v1', '1811.12596v1', '1812.01840v2', '1812.03593v5', '1812.04244v1', '1812.04948v3', '1812.05276v1', '1812.05784v1', '1901.00603v1', '1901.00686v1', '1901.03353v1', '1901.07291v1', '1901.08043v2', '1901.09821v1', '1901.10430v2', '1901.11117v3', '1901.11504v1', '1902.07153v1', '1902.09212v1', '1903.02120v3', '1903.05628v3', '1903.06048v2', '1903.07785v1', '1903.08469v1', '1903.11816v1', '1904.00284v1', '1904.01355v2', '1904.03288v1', '1904.03758v1', '1904.03797v1']))"
      ]
     },
     "execution_count": 165,
     "metadata": {},
     "output_type": "execute_result"
    }
   ],
   "source": [
    "len(seg_data_dict.keys()), seg_data_dict.keys()"
   ]
  },
  {
   "cell_type": "code",
   "execution_count": null,
   "metadata": {},
   "outputs": [],
   "source": []
  },
  {
   "cell_type": "code",
   "execution_count": null,
   "metadata": {},
   "outputs": [],
   "source": []
  },
  {
   "cell_type": "code",
   "execution_count": null,
   "metadata": {},
   "outputs": [],
   "source": []
  },
  {
   "cell_type": "code",
   "execution_count": null,
   "metadata": {},
   "outputs": [],
   "source": []
  },
  {
   "cell_type": "markdown",
   "metadata": {},
   "source": [
    "# Collate data"
   ]
  },
  {
   "cell_type": "code",
   "execution_count": 187,
   "metadata": {},
   "outputs": [
    {
     "name": "stdout",
     "output_type": "stream",
     "text": [
      "0\n"
     ]
    }
   ],
   "source": [
    "c = 0\n",
    "for k in final_res:\n",
    "    if \"tables\" in final_res[k] and final_res[k][\"tables\"]:\n",
    "        if len(final_res[k][\"tables\"]) != len(seg_data_dict[k][\"tables\"]):\n",
    "            print(k)\n",
    "            c+=1\n",
    "print(c)"
   ]
  },
  {
   "cell_type": "code",
   "execution_count": 291,
   "metadata": {},
   "outputs": [
    {
     "data": {
      "text/plain": [
       "352"
      ]
     },
     "execution_count": 291,
     "metadata": {},
     "output_type": "execute_result"
    }
   ],
   "source": [
    "len(final_resl_res)"
   ]
  },
  {
   "cell_type": "code",
   "execution_count": 197,
   "metadata": {},
   "outputs": [
    {
     "name": "stdout",
     "output_type": "stream",
     "text": [
      "1406.3676v3 2\n",
      "1412.6071v4 0\n",
      "1412.6597v4 0\n",
      "1504.01106v5 3\n",
      "1506.02075v1 3\n",
      "1511.06038v4 4\n",
      "1606.00915v2 8\n",
      "1704.00051v2 5\n",
      "1706.00286v3 0\n",
      "1706.02596v3 2\n",
      "1707.04412v1 2\n",
      "1710.10504v2 1\n",
      "1710.10723v2 3\n",
      "1711.07341v2 6\n",
      "1804.05922v1 3\n",
      "1806.05516v1 1\n",
      "1806.05516v1 2\n",
      "Ambiguous: 17 out of total: 1994\n"
     ]
    }
   ],
   "source": [
    "# check if any annotation is multi label, i.e. both leaderboard and ablation\n",
    "ambiguous = 0\n",
    "total = 0\n",
    "for k in seg_data_dict:\n",
    "    total += len(seg_data_dict[k][\"tables\"])\n",
    "    for i, t in enumerate(seg_data_dict[k][\"tables\"]):\n",
    "        if t[\"leaderboard\"] and t[\"ablation\"]:\n",
    "            print(k, i)\n",
    "            ambiguous += 1\n",
    "print(\"Ambiguous: {} out of total: {}\".format(ambiguous, total))"
   ]
  },
  {
   "cell_type": "code",
   "execution_count": 195,
   "metadata": {
    "scrolled": true
   },
   "outputs": [
    {
     "data": {
      "text/plain": [
       "{'index': 2,\n",
       " 'leaderboard': True,\n",
       " 'ablation': True,\n",
       " 'dataset_text': '',\n",
       " 'segmentation': [['table-meta',\n",
       "   'dataset-metric',\n",
       "   'dataset-metric',\n",
       "   'dataset-metric'],\n",
       "  ['', 'dataset-metric', 'dataset-metric', 'dataset-metric'],\n",
       "  ['table-meta', '', '', ''],\n",
       "  ['model-competing', '', '', ''],\n",
       "  ['model-competing', '', '', ''],\n",
       "  ['model-competing', '', '', ''],\n",
       "  ['model-competing', '', '', ''],\n",
       "  ['table-meta', '', '', ''],\n",
       "  ['model-best', '', '', ''],\n",
       "  ['model-paper', '', '', ''],\n",
       "  ['table-meta', '', '', ''],\n",
       "  ['model-paper', '', '', ''],\n",
       "  ['model-paper', '', '', ''],\n",
       "  ['model-paper', '', '', ''],\n",
       "  ['model-paper', '', '', ''],\n",
       "  ['model-paper', '', '', '']],\n",
       " 'records': []}"
      ]
     },
     "execution_count": 195,
     "metadata": {},
     "output_type": "execute_result"
    }
   ],
   "source": [
    "seg_data_dict[\"1406.3676v3\"][\"tables\"][2]"
   ]
  },
  {
   "cell_type": "code",
   "execution_count": 299,
   "metadata": {},
   "outputs": [],
   "source": [
    "references = defaultdict(dict)\n",
    "for k in final_res:\n",
    "    if \"tables\" in final_res[k] and final_res[k][\"tables\"]:\n",
    "        references[k][\"ldb\"] = []\n",
    "        references[k][\"abl\"] = []\n",
    "        for idx,e in enumerate(seg_data_dict[k][\"tables\"]):\n",
    "            actual_ind = idx + 1\n",
    "            if e[\"ablation\"] and not e[\"leaderboard\"]:\n",
    "                #print(seg_data_dict[k][\"tables\"][idx], end=\"\\n\\n\")\n",
    "                #print(final_res[k][\"tables\"][idx].__dict__)\n",
    "                candidate_name = \"table_\" + \"{:02d}\".format(actual_ind) + \".csv\"\n",
    "                table_dir_path = \"/home/singh_shruti/workspace/axcell_ws/axcell/notebooks/data/papers/\" + k.split(\".\")[0] + \"/\" + k\n",
    "                cannot_use_f = open(table_dir_path + \"/\" + candidate_name, \"r\")\n",
    "                for line in cannot_use_f:\n",
    "                    m = re.findall(\"<ref id=[0-9a-zA-Z'-]*>[a-zA-Z 0-9\\.]*</ref>\", line)\n",
    "                    for iim in m:\n",
    "                        references[k][\"abl\"].append(iim)\n",
    "                references[k][\"abl\"] = list(set(references[k][\"abl\"]))\n",
    "            elif not e[\"ablation\"] and e[\"leaderboard\"]:\n",
    "                #print(seg_data_dict[k][\"tables\"][idx], end=\"\\n\\n\")\n",
    "                #print(final_res[k][\"tables\"][idx].__dict__)\n",
    "                candidate_name = \"table_\" + \"{:02d}\".format(actual_ind) + \".csv\"\n",
    "                table_dir_path = \"/home/singh_shruti/workspace/axcell_ws/axcell/notebooks/data/papers/\" + k.split(\".\")[0] + \"/\" + k\n",
    "                cannot_use_f = open(table_dir_path + \"/\" + candidate_name, \"r\")\n",
    "                for line in cannot_use_f:\n",
    "                    m = re.findall(\"<ref id=[0-9a-zA-Z'-]*>[a-zA-Z 0-9\\.]*</ref>\", line)\n",
    "                    for iim in m:\n",
    "                        references[k][\"ldb\"].append(iim)\n",
    "                references[k][\"ldb\"] = list(set(references[k][\"ldb\"]))"
   ]
  },
  {
   "cell_type": "code",
   "execution_count": 300,
   "metadata": {},
   "outputs": [
    {
     "data": {
      "text/plain": [
       "346"
      ]
     },
     "execution_count": 300,
     "metadata": {},
     "output_type": "execute_result"
    }
   ],
   "source": [
    "len(references)"
   ]
  },
  {
   "cell_type": "markdown",
   "metadata": {},
   "source": [
    "# Stat"
   ]
  },
  {
   "cell_type": "code",
   "execution_count": 302,
   "metadata": {},
   "outputs": [
    {
     "name": "stdout",
     "output_type": "stream",
     "text": [
      "1758 68 215 24 322\n"
     ]
    }
   ],
   "source": [
    "ldb_total = 0\n",
    "abl_total = 0\n",
    "\n",
    "abl_tables = []\n",
    "ldb_tables = []\n",
    "\n",
    "no_refs = []\n",
    "\n",
    "for k in references:\n",
    "    ldb_total += len(references[k][\"ldb\"])\n",
    "    abl_total += len(references[k][\"abl\"])\n",
    "    if len(references[k][\"abl\"]) > 0:\n",
    "        abl_tables.append(k)\n",
    "    if len(references[k][\"ldb\"]) > 0:\n",
    "        ldb_tables.append(k)\n",
    "    \n",
    "    if len(references[k][\"abl\"]) == 0 and len(references[k][\"abl\"]) == 0:\n",
    "        no_refs.append(k)\n",
    "\n",
    "print(ldb_total, abl_total, len(ldb_tables), len(abl_tables), len(no_refs))"
   ]
  },
  {
   "cell_type": "code",
   "execution_count": 298,
   "metadata": {},
   "outputs": [
    {
     "data": {
      "text/plain": [
       "346"
      ]
     },
     "execution_count": 298,
     "metadata": {},
     "output_type": "execute_result"
    }
   ],
   "source": [
    "len(references)"
   ]
  },
  {
   "cell_type": "code",
   "execution_count": 304,
   "metadata": {},
   "outputs": [
    {
     "data": {
      "text/plain": [
       "['1607.01759v3',\n",
       " '1609.04331v1',\n",
       " '1301.3557v1',\n",
       " '1606.01847v3',\n",
       " '1903.05628v3',\n",
       " '1610.05256v2',\n",
       " '1611.06639v1',\n",
       " '1612.03144v2',\n",
       " '1809.01812v1',\n",
       " '1707.04412v1']"
      ]
     },
     "execution_count": 304,
     "metadata": {},
     "output_type": "execute_result"
    }
   ],
   "source": [
    "no_refs[0:10]"
   ]
  },
  {
   "cell_type": "code",
   "execution_count": 306,
   "metadata": {},
   "outputs": [
    {
     "name": "stdout",
     "output_type": "stream",
     "text": [
      "{'index': 0, 'leaderboard': True, 'ablation': False, 'dataset_text': 'Penn Treebank', 'segmentation': [['', 'model-params', 'model-params', 'model-params', 'model-params', 'model-params', 'model-params'], ['', '', '', '', '', '', ''], ['', '', '', '', '', '', ''], ['', '', '', '', '', '', ''], ['', '', '', '', '', '', ''], ['', '', '', '', '', '', ''], ['', '', '', '', '', '', ''], ['', '', '', '', '', '', ''], ['', '', '', '', '', '', ''], ['', '', '', '', '', '', '']], 'records': []}\n",
      "{'index': 1, 'leaderboard': False, 'ablation': True, 'dataset_text': '', 'segmentation': [['', '', '', '', '', '', ''], ['', '', '', '', '', '', ''], ['', '', '', '', '', '', ''], ['', '', '', '', '', '', ''], ['', '', '', '', '', '', ''], ['', '', '', '', '', '', ''], ['', '', '', '', '', '', ''], ['', '', '', '', '', '', ''], ['', '', '', '', '', '', ''], ['', '', '', '', '', '', '']], 'records': []}\n"
     ]
    }
   ],
   "source": [
    "for s in seg_data_dict[\"1809.01812v1\"][\"tables\"]:\n",
    "    print(s)\n",
    "    # THe able containing refs doesnot contain bib ref"
   ]
  },
  {
   "cell_type": "code",
   "execution_count": 258,
   "metadata": {},
   "outputs": [
    {
     "data": {
      "text/plain": [
       "['1710.09537v1',\n",
       " '1804.07755v2',\n",
       " '1703.06870v3',\n",
       " '1903.11816v1',\n",
       " '1811.04210v2',\n",
       " '1604.08242v2',\n",
       " '1503.01640v2',\n",
       " '1811.12596v1',\n",
       " '1605.06885v1',\n",
       " '1404.3606v2',\n",
       " '1808.00897v1',\n",
       " '1811.11374v1',\n",
       " '1809.00916v3',\n",
       " '1604.03540v1',\n",
       " '1202.2745v1',\n",
       " '1512.03385v1',\n",
       " '1504.01013v4',\n",
       " '1801.01641v1',\n",
       " '1810.06683v2',\n",
       " '1802.02611v3',\n",
       " '1606.01549v3',\n",
       " '1611.01604v4',\n",
       " '1711.07341v2',\n",
       " '1804.09541v1']"
      ]
     },
     "execution_count": 258,
     "metadata": {},
     "output_type": "execute_result"
    }
   ],
   "source": [
    "abl_tables"
   ]
  },
  {
   "cell_type": "code",
   "execution_count": 283,
   "metadata": {},
   "outputs": [
    {
     "name": "stdout",
     "output_type": "stream",
     "text": [
      "1\n",
      "ablation\n",
      "{'index': 1, 'leaderboard': False, 'ablation': True, 'dataset_text': 'WDW', 'segmentation': [['', '', ''], ['', '', ''], ['', '', ''], ['', '', ''], ['', '', ''], ['', '', ''], ['', '', ''], ['', '', ''], ['', '', ''], ['', '', '']], 'records': []}\n",
      "\n",
      "3\n",
      "ablation\n",
      "{'index': 3, 'leaderboard': False, 'ablation': True, 'dataset_text': '', 'segmentation': [['table-meta', 'dataset-metric', 'dataset-metric'], ['table-meta', 'dataset-sub', 'dataset-sub'], ['model-paper', '', ''], ['model-paper', '', ''], ['model-paper', '', ''], ['model-paper', '', ''], ['model-paper', '', '']], 'records': []}\n",
      "\n"
     ]
    }
   ],
   "source": [
    "for idx,i in enumerate(final_res[\"1606.01549v3\"][\"tables\"]):\n",
    "    if i.gold_tags == \"ablation\":\n",
    "        print(idx)\n",
    "        print(i.gold_tags)\n",
    "        print(seg_data_dict[\"1606.01549v3\"][\"tables\"][idx], end=\"\\n\\n\")"
   ]
  },
  {
   "cell_type": "code",
   "execution_count": 285,
   "metadata": {},
   "outputs": [
    {
     "name": "stdout",
     "output_type": "stream",
     "text": [
      "<bold>Model</bold>,<bold>Accuracy</bold>,<bold>Accuracy</bold>\r\n",
      "<bold>Model</bold>,Val,Test\r\n",
      "GA,<bold>68.3</bold>,<bold>68.0</bold>\r\n",
      "−char,66.9,66.9\r\n",
      "−token-attentions (eq. <ref id='S3-E5'>5</ref>),65.7,65.0\r\n",
      "\"−glove, +corpus\",64.0,62.5\r\n",
      "GA–†,–,57\r\n"
     ]
    }
   ],
   "source": [
    "!cat /home/singh_shruti/workspace/axcell_ws/axcell/notebooks/data/papers/1606/1606.01549v3/table_04.csv"
   ]
  },
  {
   "attachments": {
    "image.png": {
     "image/png": "[encoded data removed]"
    }
   },
   "cell_type": "markdown",
   "metadata": {},
   "source": [
    "![image.png](attachment:image.png)"
   ]
  },
  {
   "cell_type": "code",
   "execution_count": null,
   "metadata": {},
   "outputs": [],
   "source": []
  },
  {
   "cell_type": "code",
   "execution_count": null,
   "metadata": {},
   "outputs": [],
   "source": []
  },
  {
   "cell_type": "code",
   "execution_count": 286,
   "metadata": {},
   "outputs": [
    {
     "name": "stdout",
     "output_type": "stream",
     "text": [
      "0\n",
      "ablation\n",
      "{'index': 0, 'leaderboard': False, 'ablation': True, 'dataset_text': 'MultiPIE cross-illumination', 'segmentation': [['table-meta', 'dataset-sub', 'dataset-sub', 'dataset-sub', 'dataset-sub', 'dataset-sub', 'dataset-sub'], ['model-paper', '', '', '', '', '', ''], ['model-best', '', '', '', '', '', '']], 'records': []}\n",
      "\n",
      "6\n",
      "ablation\n",
      "{'index': 6, 'leaderboard': False, 'ablation': True, 'dataset_text': '', 'segmentation': [['model-params', '', '', '', '', '', '', ''], ['model-paper', '', '', '', '', '', '', ''], ['model-paper', '', '', '', '', '', '', ''], ['model-paper', '', '', '', '', '', '', '']], 'records': []}\n",
      "\n",
      "9\n",
      "ablation\n",
      "{'index': 9, 'leaderboard': False, 'ablation': True, 'dataset_text': 'MNIST', 'segmentation': [['table-meta', 'dataset-sub', 'dataset-sub', 'dataset-sub', 'dataset-sub', 'dataset-sub', 'dataset-sub', 'dataset-sub', 'dataset-sub'], ['model-competing', '', '', '', '', '', '', '', ''], ['model-competing', '', '', '', '', '', '', '', ''], ['model-competing', '', '', '', '', '', '', '', ''], ['model-competing', '', '', '', '', '', '', '', ''], ['model-paper', '', '', '', '', '', '', '', ''], ['model-paper', '', '', '', '', '', '', '', ''], ['model-paper', '', '', '', '', '', '', '', ''], ['model-paper', '', '', '', '', '', '', '', ''], ['model-paper', '', '', '', '', '', '', '', ''], ['model-paper', '', '', '', '', '', '', '', ''], ['model-paper', '', '', '', '', '', '', '', '']], 'records': []}\n",
      "\n"
     ]
    }
   ],
   "source": [
    "for idx,i in enumerate(final_res[\"1404.3606v2\"][\"tables\"]):\n",
    "    if i.gold_tags == \"ablation\":\n",
    "        print(idx)\n",
    "        print(i.gold_tags)\n",
    "        print(seg_data_dict[\"1404.3606v2\"][\"tables\"][idx], end=\"\\n\\n\")"
   ]
  },
  {
   "cell_type": "code",
   "execution_count": 289,
   "metadata": {},
   "outputs": [
    {
     "name": "stdout",
     "output_type": "stream",
     "text": [
      "Methods,<italic>basic</italic>,<italic>rot</italic>,<italic>bg-rand</italic>,<italic>bg-img</italic>,<italic>bg-img-rot</italic>,<italic>rect</italic>,<italic>rect-img</italic>,<italic>convex</italic>\r\n",
      "CAE-2 [<ref id='bib-bib45'>45</ref>],2.48,9.66,10.90,15.50,45.23,1.21,21.54,-\r\n",
      "TIRBM [<ref id='bib-bib46'>46</ref>],-,<bold>4.20</bold>,-,-,35.50,-,-,-\r\n",
      "PGBM + DN-1 [<ref id='bib-bib40'>40</ref>],-,-,<bold>6.08</bold>,12.25,36.76,-,-,-\r\n",
      "ScatNet-2 [<ref id='bib-bib6'>6</ref>],1.27,7.48,12.30,18.40,50.48,<bold>0.01</bold>,<bold>8.02</bold>,6.50\r\n",
      "RandNet-1,1.86,14.25,18.81,15.97,51.82,0.21,15.94,6.78\r\n",
      "RandNet-2,1.25,8.47,13.47,11.65,43.69,0.09,17.00,5.45\r\n",
      "PCANet-1,1.44,10.55,6.77,11.11,42.03,0.15,25.55,5.93\r\n",
      "PCANet-2,1.06,7.37,6.19,<bold>10.95</bold>,<bold>35.48</bold>,0.24,14.08,<bold>4.36</bold>\r\n",
      "LDANet-1,1.61,11.40,7.16,13.03,43.86,0.15,23.63,6.89\r\n",
      "LDANet-2,<bold>1.05</bold>,7.52,6.81,12.42,38.54,0.14,16.20,7.22\r\n",
      "PCANet-1 (<italic>k</italic>1=13),1.21,8.30,6.88,11.97,39.06,0.03,13.94,6.75\r\n"
     ]
    }
   ],
   "source": [
    "!cat /home/singh_shruti/workspace/axcell_ws/axcell/notebooks/data/papers/1404/1404.3606v2/table_10.csv"
   ]
  },
  {
   "attachments": {
    "image.png": {
     "image/png": "[encoded data removed]"
    }
   },
   "cell_type": "markdown",
   "metadata": {},
   "source": [
    "![image.png](attachment:image.png)"
   ]
  },
  {
   "cell_type": "code",
   "execution_count": null,
   "metadata": {},
   "outputs": [],
   "source": []
  },
  {
   "cell_type": "code",
   "execution_count": null,
   "metadata": {},
   "outputs": [],
   "source": []
  },
  {
   "cell_type": "code",
   "execution_count": null,
   "metadata": {},
   "outputs": [],
   "source": []
  },
  {
   "cell_type": "code",
   "execution_count": 292,
   "metadata": {},
   "outputs": [
    {
     "name": "stdout",
     "output_type": "stream",
     "text": [
      "352\n"
     ]
    }
   ],
   "source": [
    "print(len(final_res))"
   ]
  },
  {
   "cell_type": "code",
   "execution_count": 294,
   "metadata": {},
   "outputs": [
    {
     "name": "stdout",
     "output_type": "stream",
     "text": [
      "1994 464 785\n"
     ]
    }
   ],
   "source": [
    "total_tables = 0\n",
    "ablcount = 0\n",
    "ldbcount = 0\n",
    "\n",
    "for k in final_res:\n",
    "    total_tables += len(seg_data_dict[k][\"tables\"])\n",
    "    if \"tables\" in final_res[k] and final_res[k][\"tables\"]:\n",
    "        for idx,e in enumerate(seg_data_dict[k][\"tables\"]):\n",
    "            actual_ind = idx + 1\n",
    "            if e[\"ablation\"]:\n",
    "                ablcount +=1\n",
    "            if e[\"leaderboard\"]:\n",
    "                ldbcount +=1\n",
    "\n",
    "print(total_tables, ablcount, ldbcount)"
   ]
  },
  {
   "cell_type": "code",
   "execution_count": 296,
   "metadata": {},
   "outputs": [
    {
     "data": {
      "text/plain": [
       "745"
      ]
     },
     "execution_count": 296,
     "metadata": {},
     "output_type": "execute_result"
    }
   ],
   "source": [
    "1994 - (785+464)"
   ]
  },
  {
   "cell_type": "code",
   "execution_count": null,
   "metadata": {},
   "outputs": [],
   "source": []
  },
  {
   "cell_type": "code",
   "execution_count": null,
   "metadata": {},
   "outputs": [],
   "source": []
  },
  {
   "cell_type": "code",
   "execution_count": null,
   "metadata": {},
   "outputs": [],
   "source": []
  },
  {
   "cell_type": "code",
   "execution_count": null,
   "metadata": {},
   "outputs": [],
   "source": []
  },
  {
   "cell_type": "code",
   "execution_count": null,
   "metadata": {},
   "outputs": [],
   "source": []
  },
  {
   "cell_type": "code",
   "execution_count": 207,
   "metadata": {},
   "outputs": [
    {
     "data": {
      "text/plain": [
       "Cell(value='1', raw_value='1', gold_tags='', refs=[], layout='border-tt align-center')"
      ]
     },
     "execution_count": 207,
     "metadata": {},
     "output_type": "execute_result"
    }
   ],
   "source": [
    "final_res[k][\"tables\"][idx].df.iloc[1,1]"
   ]
  },
  {
   "cell_type": "code",
   "execution_count": 221,
   "metadata": {},
   "outputs": [
    {
     "data": {
      "text/plain": [
       "'table_03.csv'"
      ]
     },
     "execution_count": 221,
     "metadata": {},
     "output_type": "execute_result"
    }
   ],
   "source": [
    "final_res[\"1406.3676v3\"][\"tables\"][2].name"
   ]
  },
  {
   "cell_type": "code",
   "execution_count": 229,
   "metadata": {
    "collapsed": true
   },
   "outputs": [
    {
     "name": "stdout",
     "output_type": "stream",
     "text": [
      "{'name': 'table_01.csv', 'caption': 'Table 1: Test accuracy [%] on sentiment datasets. FastText has been run with the same parameters for all the datasets. It has 10 hidden units and we evaluate it with and without bigrams. For char-CNN, we show the best reported numbers without data augmentation.', 'figure_id': 'S2.T1', 'df':                                                    0  \\\n",
      "0  Cell(value='Model', raw_value='Model', gold_ta...   \n",
      "1  Cell(value='BoW [[Zhang et al.2015]]', raw_val...   \n",
      "2  Cell(value='ngrams [[Zhang et al.2015]]', raw_...   \n",
      "3  Cell(value='ngrams TFIDF [[Zhang et al.2015]]'...   \n",
      "4  Cell(value='char-CNN [[Zhang and LeCun2015]]',...   \n",
      "5  Cell(value='char-CRNN [[Xiao and Cho2016]]', r...   \n",
      "6  Cell(value='VDCNN [[Conneau et al.2016]]', raw...   \n",
      "7  Cell(value='fastText, h=10', raw_value='fastTe...   \n",
      "8  Cell(value='fastText, h=10, bigram', raw_value...   \n",
      "\n",
      "                                                   1  \\\n",
      "0  Cell(value='AG', raw_value='AG', gold_tags='',...   \n",
      "1  Cell(value='88.8', raw_value='88.8', gold_tags...   \n",
      "2  Cell(value='92.0', raw_value='92.0', gold_tags...   \n",
      "3  Cell(value='92.4', raw_value='92.4', gold_tags...   \n",
      "4  Cell(value='87.2', raw_value='87.2', gold_tags...   \n",
      "5  Cell(value='91.4', raw_value='91.4', gold_tags...   \n",
      "6  Cell(value='91.3', raw_value='91.3', gold_tags...   \n",
      "7  Cell(value='91.5', raw_value='91.5', gold_tags...   \n",
      "8  Cell(value='92.5', raw_value='92.5', gold_tags...   \n",
      "\n",
      "                                                   2  \\\n",
      "0  Cell(value='Sogou', raw_value='Sogou', gold_ta...   \n",
      "1  Cell(value='92.9', raw_value='92.9', gold_tags...   \n",
      "2  Cell(value='97.1', raw_value='97.1', gold_tags...   \n",
      "3  Cell(value='97.2', raw_value='97.2', gold_tags...   \n",
      "4  Cell(value='95.1', raw_value='95.1', gold_tags...   \n",
      "5  Cell(value='95.2', raw_value='95.2', gold_tags...   \n",
      "6  Cell(value='96.8', raw_value='96.8', gold_tags...   \n",
      "7  Cell(value='93.9', raw_value='93.9', gold_tags...   \n",
      "8  Cell(value='96.8', raw_value='96.8', gold_tags...   \n",
      "\n",
      "                                                   3  \\\n",
      "0  Cell(value='DBP', raw_value='DBP', gold_tags='...   \n",
      "1  Cell(value='96.6', raw_value='96.6', gold_tags...   \n",
      "2  Cell(value='98.6', raw_value='98.6', gold_tags...   \n",
      "3  Cell(value='98.7', raw_value='98.7', gold_tags...   \n",
      "4  Cell(value='98.3', raw_value='98.3', gold_tags...   \n",
      "5  Cell(value='98.6', raw_value='98.6', gold_tags...   \n",
      "6  Cell(value='98.7', raw_value='98.7', gold_tags...   \n",
      "7  Cell(value='98.1', raw_value='98.1', gold_tags...   \n",
      "8  Cell(value='98.6', raw_value='98.6', gold_tags...   \n",
      "\n",
      "                                                   4  \\\n",
      "0  Cell(value='Yelp P.', raw_value='Yelp P.', gol...   \n",
      "1  Cell(value='92.2', raw_value='92.2', gold_tags...   \n",
      "2  Cell(value='95.6', raw_value='95.6', gold_tags...   \n",
      "3  Cell(value='95.4', raw_value='95.4', gold_tags...   \n",
      "4  Cell(value='94.7', raw_value='94.7', gold_tags...   \n",
      "5  Cell(value='94.5', raw_value='94.5', gold_tags...   \n",
      "6  Cell(value='95.7', raw_value='95.7', gold_tags...   \n",
      "7  Cell(value='93.8', raw_value='93.8', gold_tags...   \n",
      "8  Cell(value='95.7', raw_value='95.7', gold_tags...   \n",
      "\n",
      "                                                   5  \\\n",
      "0  Cell(value='Yelp F.', raw_value='Yelp F.', gol...   \n",
      "1  Cell(value='58.0', raw_value='58.0', gold_tags...   \n",
      "2  Cell(value='56.3', raw_value='56.3', gold_tags...   \n",
      "3  Cell(value='54.8', raw_value='54.8', gold_tags...   \n",
      "4  Cell(value='62.0', raw_value='62.0', gold_tags...   \n",
      "5  Cell(value='61.8', raw_value='61.8', gold_tags...   \n",
      "6  Cell(value='64.7', raw_value='64.7', gold_tags...   \n",
      "7  Cell(value='60.4', raw_value='60.4', gold_tags...   \n",
      "8  Cell(value='63.9', raw_value='63.9', gold_tags...   \n",
      "\n",
      "                                                   6  \\\n",
      "0  Cell(value='Yah. A.', raw_value='Yah. A.', gol...   \n",
      "1  Cell(value='68.9', raw_value='68.9', gold_tags...   \n",
      "2  Cell(value='68.5', raw_value='68.5', gold_tags...   \n",
      "3  Cell(value='68.5', raw_value='68.5', gold_tags...   \n",
      "4  Cell(value='71.2', raw_value='71.2', gold_tags...   \n",
      "5  Cell(value='71.7', raw_value='71.7', gold_tags...   \n",
      "6  Cell(value='73.4', raw_value='73.4', gold_tags...   \n",
      "7  Cell(value='72.0', raw_value='72.0', gold_tags...   \n",
      "8  Cell(value='72.3', raw_value='72.3', gold_tags...   \n",
      "\n",
      "                                                   7  \\\n",
      "0  Cell(value='Amz. F.', raw_value='Amz. F.', gol...   \n",
      "1  Cell(value='54.6', raw_value='54.6', gold_tags...   \n",
      "2  Cell(value='54.3', raw_value='54.3', gold_tags...   \n",
      "3  Cell(value='52.4', raw_value='52.4', gold_tags...   \n",
      "4  Cell(value='59.5', raw_value='59.5', gold_tags...   \n",
      "5  Cell(value='59.2', raw_value='59.2', gold_tags...   \n",
      "6  Cell(value='63.0', raw_value='63.0', gold_tags...   \n",
      "7  Cell(value='55.8', raw_value='55.8', gold_tags...   \n",
      "8  Cell(value='60.2', raw_value='60.2', gold_tags...   \n",
      "\n",
      "                                                   8  \n",
      "0  Cell(value='Amz. P.', raw_value='Amz. P.', gol...  \n",
      "1  Cell(value='90.4', raw_value='90.4', gold_tags...  \n",
      "2  Cell(value='92.0', raw_value='92.0', gold_tags...  \n",
      "3  Cell(value='91.5', raw_value='91.5', gold_tags...  \n",
      "4  Cell(value='94.5', raw_value='94.5', gold_tags...  \n",
      "5  Cell(value='94.1', raw_value='94.1', gold_tags...  \n",
      "6  Cell(value='95.7', raw_value='95.7', gold_tags...  \n",
      "7  Cell(value='91.2', raw_value='91.2', gold_tags...  \n",
      "8  Cell(value='94.6', raw_value='94.6', gold_tags...  , 'gold_tags': '', 'dataset_text': '', 'notes': '', 'sota_records': Empty DataFrame\n",
      "Columns: [task, dataset, metric, format, model, raw_value]\n",
      "Index: []}\n",
      "{'name': 'table_02.csv', 'caption': 'Table 2: Training time for a single epoch on sentiment analysis datasets compared to char-CNN and VDCNN.', 'figure_id': 'S2.T2', 'df':                                                    0  \\\n",
      "0  Cell(value='', raw_value='', gold_tags='', ref...   \n",
      "1  Cell(value='', raw_value='', gold_tags='', ref...   \n",
      "2  Cell(value='AG', raw_value='AG', gold_tags='',...   \n",
      "3  Cell(value='Sogou', raw_value='Sogou', gold_ta...   \n",
      "4  Cell(value='DBpedia', raw_value='DBpedia', gol...   \n",
      "5  Cell(value='Yelp P.', raw_value='Yelp P.', gol...   \n",
      "6  Cell(value='Yelp F.', raw_value='Yelp F.', gol...   \n",
      "7  Cell(value='Yah. A.', raw_value='Yah. A.', gol...   \n",
      "8  Cell(value='Amz. F.', raw_value='Amz. F.', gol...   \n",
      "9  Cell(value='Amz. P.', raw_value='Amz. P.', gol...   \n",
      "\n",
      "                                                   1  \\\n",
      "0  Cell(value='zhang2015text', raw_value='zhang20...   \n",
      "1  Cell(value='small char-CNN', raw_value='small ...   \n",
      "2  Cell(value='1h', raw_value='1h', gold_tags='',...   \n",
      "3  Cell(value='-', raw_value='-', gold_tags='', r...   \n",
      "4  Cell(value='2h', raw_value='2h', gold_tags='',...   \n",
      "5  Cell(value='-', raw_value='-', gold_tags='', r...   \n",
      "6  Cell(value='-', raw_value='-', gold_tags='', r...   \n",
      "7  Cell(value='8h', raw_value='8h', gold_tags='',...   \n",
      "8  Cell(value='2d', raw_value='2d', gold_tags='',...   \n",
      "9  Cell(value='2d', raw_value='2d', gold_tags='',...   \n",
      "\n",
      "                                                   2  \\\n",
      "0  Cell(value='zhang2015text', raw_value='zhang20...   \n",
      "1  Cell(value='big char-CNN', raw_value='big char...   \n",
      "2  Cell(value='3h', raw_value='3h', gold_tags='',...   \n",
      "3  Cell(value='-', raw_value='-', gold_tags='', r...   \n",
      "4  Cell(value='5h', raw_value='5h', gold_tags='',...   \n",
      "5  Cell(value='-', raw_value='-', gold_tags='', r...   \n",
      "6  Cell(value='-', raw_value='-', gold_tags='', r...   \n",
      "7  Cell(value='1d', raw_value='1d', gold_tags='',...   \n",
      "8  Cell(value='5d', raw_value='5d', gold_tags='',...   \n",
      "9  Cell(value='5d', raw_value='5d', gold_tags='',...   \n",
      "\n",
      "                                                   3  \\\n",
      "0  Cell(value='conneau2016', raw_value='conneau20...   \n",
      "1  Cell(value='depth=9', raw_value='depth=9', gol...   \n",
      "2  Cell(value='24m', raw_value='24m', gold_tags='...   \n",
      "3  Cell(value='25m', raw_value='25m', gold_tags='...   \n",
      "4  Cell(value='27m', raw_value='27m', gold_tags='...   \n",
      "5  Cell(value='28m', raw_value='28m', gold_tags='...   \n",
      "6  Cell(value='29m', raw_value='29m', gold_tags='...   \n",
      "7  Cell(value='1h', raw_value='1h', gold_tags='',...   \n",
      "8  Cell(value='2h45', raw_value='2h45', gold_tags...   \n",
      "9  Cell(value='2h45', raw_value='2h45', gold_tags...   \n",
      "\n",
      "                                                   4  \\\n",
      "0  Cell(value='conneau2016', raw_value='conneau20...   \n",
      "1  Cell(value='depth=17', raw_value='depth=17', g...   \n",
      "2  Cell(value='37m', raw_value='37m', gold_tags='...   \n",
      "3  Cell(value='41m', raw_value='41m', gold_tags='...   \n",
      "4  Cell(value='44m', raw_value='44m', gold_tags='...   \n",
      "5  Cell(value='43m', raw_value='43m', gold_tags='...   \n",
      "6  Cell(value='45m', raw_value='45m', gold_tags='...   \n",
      "7  Cell(value='1h33', raw_value='1h33', gold_tags...   \n",
      "8  Cell(value='4h20', raw_value='4h20', gold_tags...   \n",
      "9  Cell(value='4h25', raw_value='4h25', gold_tags...   \n",
      "\n",
      "                                                   5  \\\n",
      "0  Cell(value='conneau2016', raw_value='conneau20...   \n",
      "1  Cell(value='depth=29', raw_value='depth=29', g...   \n",
      "2  Cell(value='51m', raw_value='51m', gold_tags='...   \n",
      "3  Cell(value='56m', raw_value='56m', gold_tags='...   \n",
      "4  Cell(value='1h', raw_value='1h', gold_tags='',...   \n",
      "5  Cell(value='1h09', raw_value='1h09', gold_tags...   \n",
      "6  Cell(value='1h12', raw_value='1h12', gold_tags...   \n",
      "7  Cell(value='2h', raw_value='2h', gold_tags='',...   \n",
      "8  Cell(value='7h', raw_value='7h', gold_tags='',...   \n",
      "9  Cell(value='7h', raw_value='7h', gold_tags='',...   \n",
      "\n",
      "                                                   6  \n",
      "0  Cell(value='fastText', raw_value='fastText', g...  \n",
      "1  Cell(value='h=10, bigram', raw_value='<italic>...  \n",
      "2  Cell(value='1s', raw_value='1s', gold_tags='',...  \n",
      "3  Cell(value='7s', raw_value='7s', gold_tags='',...  \n",
      "4  Cell(value='2s', raw_value='2s', gold_tags='',...  \n",
      "5  Cell(value='3s', raw_value='3s', gold_tags='',...  \n",
      "6  Cell(value='4s', raw_value='4s', gold_tags='',...  \n",
      "7  Cell(value='5s', raw_value='5s', gold_tags='',...  \n",
      "8  Cell(value='9s', raw_value='9s', gold_tags='',...  \n",
      "9  Cell(value='10s', raw_value='10s', gold_tags='...  , 'gold_tags': '', 'dataset_text': '', 'notes': '', 'sota_records': Empty DataFrame\n",
      "Columns: [task, dataset, metric, format, model, raw_value]\n",
      "Index: []}\n",
      "{'name': 'table_03.csv', 'caption': 'Table 3: Comparision with tang2015document. The hyper-parameters are chosen on the validation set. We report the test accuracy.', 'figure_id': 'S3.T3', 'df':                                                    0  \\\n",
      "0  Cell(value='Model', raw_value='Model', gold_ta...   \n",
      "1  Cell(value='SVM+TF', raw_value='SVM+TF', gold_...   \n",
      "2  Cell(value='CNN', raw_value='CNN', gold_tags='...   \n",
      "3  Cell(value='Conv-GRNN', raw_value='Conv-GRNN',...   \n",
      "4  Cell(value='LSTM-GRNN', raw_value='LSTM-GRNN',...   \n",
      "5  Cell(value='fastText', raw_value='fastText', g...   \n",
      "\n",
      "                                                   1  \\\n",
      "0  Cell(value=\"Yelp'13\", raw_value='Yelp’13', gol...   \n",
      "1  Cell(value='59.8', raw_value='59.8', gold_tags...   \n",
      "2  Cell(value='59.7', raw_value='59.7', gold_tags...   \n",
      "3  Cell(value='63.7', raw_value='63.7', gold_tags...   \n",
      "4  Cell(value='65.1', raw_value='65.1', gold_tags...   \n",
      "5  Cell(value='64.2', raw_value='64.2', gold_tags...   \n",
      "\n",
      "                                                   2  \\\n",
      "0  Cell(value=\"Yelp'14\", raw_value='Yelp’14', gol...   \n",
      "1  Cell(value='61.8', raw_value='61.8', gold_tags...   \n",
      "2  Cell(value='61.0', raw_value='61.0', gold_tags...   \n",
      "3  Cell(value='65.5', raw_value='65.5', gold_tags...   \n",
      "4  Cell(value='67.1', raw_value='67.1', gold_tags...   \n",
      "5  Cell(value='66.2', raw_value='66.2', gold_tags...   \n",
      "\n",
      "                                                   3  \\\n",
      "0  Cell(value=\"Yelp'15\", raw_value='Yelp’15', gol...   \n",
      "1  Cell(value='62.4', raw_value='62.4', gold_tags...   \n",
      "2  Cell(value='61.5', raw_value='61.5', gold_tags...   \n",
      "3  Cell(value='66.0', raw_value='66.0', gold_tags...   \n",
      "4  Cell(value='67.6', raw_value='67.6', gold_tags...   \n",
      "5  Cell(value='66.6', raw_value='66.6', gold_tags...   \n",
      "\n",
      "                                                   4  \n",
      "0  Cell(value='IMDB', raw_value='IMDB', gold_tags...  \n",
      "1  Cell(value='40.5', raw_value='40.5', gold_tags...  \n",
      "2  Cell(value='37.5', raw_value='37.5', gold_tags...  \n",
      "3  Cell(value='42.5', raw_value='42.5', gold_tags...  \n",
      "4  Cell(value='45.3', raw_value='45.3', gold_tags...  \n",
      "5  Cell(value='45.2', raw_value='45.2', gold_tags...  , 'gold_tags': '', 'dataset_text': '', 'notes': '', 'sota_records': Empty DataFrame\n",
      "Columns: [task, dataset, metric, format, model, raw_value]\n",
      "Index: []}\n",
      "{'name': 'table_04.csv', 'caption': 'Table 4: Examples from the validation set of YFCC100M dataset obtained with fastText with 200 hidden units and bigrams. We show a few correct and incorrect tag predictions.', 'figure_id': 'S3.T4', 'df':                                                    0  \\\n",
      "0  Cell(value='Input', raw_value='Input', gold_ta...   \n",
      "1  Cell(value='taiyoucon 2011 digitals: individua...   \n",
      "2  Cell(value='2012 twin cities pride 2012 twin c...   \n",
      "3  Cell(value='beagle enjoys the snowfall', raw_v...   \n",
      "4  Cell(value='christmas', raw_value='christmas',...   \n",
      "5  Cell(value='euclid avenue', raw_value='euclid ...   \n",
      "\n",
      "                                                   1  \\\n",
      "0  Cell(value='Prediction', raw_value='Prediction...   \n",
      "1  Cell(value='#cosplay', raw_value='#cosplay', g...   \n",
      "2  Cell(value='#minneapolis', raw_value='#minneap...   \n",
      "3  Cell(value='#snow', raw_value='#snow', gold_ta...   \n",
      "4  Cell(value='#christmas', raw_value='#christmas...   \n",
      "5  Cell(value='#newyorkcity', raw_value='#newyork...   \n",
      "\n",
      "                                                   2  \n",
      "0  Cell(value='Tags', raw_value='Tags', gold_tags...  \n",
      "1  Cell(value='#24mm #anime #animeconvention #ari...  \n",
      "2  Cell(value='#2012twincitiesprideparade #minnea...  \n",
      "3  Cell(value='#2007 #beagle #hillsboro #january ...  \n",
      "4  Cell(value='#cameraphone #mobile', raw_value='...  \n",
      "5  Cell(value='#cleveland #euclidavenue', raw_val...  , 'gold_tags': '', 'dataset_text': '', 'notes': '', 'sota_records': Empty DataFrame\n",
      "Columns: [task, dataset, metric, format, model, raw_value]\n",
      "Index: []}\n",
      "{'name': 'table_05.csv', 'caption': 'Table 5: Prec@1 on the test set for tag prediction on YFCC100M. We also report the training time and test time. Test time is reported for a single thread, while training uses 20 threads for both models.', 'figure_id': 'S3.T5', 'df':                                                    0  \\\n",
      "0  Cell(value='Model', raw_value='Model', gold_ta...   \n",
      "1  Cell(value='Model', raw_value='Model', gold_ta...   \n",
      "2  Cell(value='Freq. baseline', raw_value='Freq. ...   \n",
      "3  Cell(value='Tagspace, h=50', raw_value='Tagspa...   \n",
      "4  Cell(value='Tagspace, h=200', raw_value='Tagsp...   \n",
      "5  Cell(value='fastText, h=50', raw_value='fastTe...   \n",
      "6  Cell(value='fastText, h=50, bigram', raw_value...   \n",
      "7  Cell(value='fastText, h=200', raw_value='fastT...   \n",
      "8  Cell(value='fastText, h=200, bigram', raw_valu...   \n",
      "\n",
      "                                                   1  \\\n",
      "0  Cell(value='prec@1', raw_value='prec@1', gold_...   \n",
      "1  Cell(value='prec@1', raw_value='prec@1', gold_...   \n",
      "2  Cell(value='2.2', raw_value='2.2', gold_tags='...   \n",
      "3  Cell(value='30.1', raw_value='30.1', gold_tags...   \n",
      "4  Cell(value='35.6', raw_value='35.6', gold_tags...   \n",
      "5  Cell(value='31.2', raw_value='31.2', gold_tags...   \n",
      "6  Cell(value='36.7', raw_value='36.7', gold_tags...   \n",
      "7  Cell(value='41.1', raw_value='41.1', gold_tags...   \n",
      "8  Cell(value='46.1', raw_value='46.1', gold_tags...   \n",
      "\n",
      "                                                   2  \\\n",
      "0  Cell(value='Running time', raw_value='Running ...   \n",
      "1  Cell(value='Train', raw_value='Train', gold_ta...   \n",
      "2  Cell(value='-', raw_value='-', gold_tags='', r...   \n",
      "3  Cell(value='3h8', raw_value='3h8', gold_tags='...   \n",
      "4  Cell(value='5h32', raw_value='5h32', gold_tags...   \n",
      "5  Cell(value='6m40', raw_value='6m40', gold_tags...   \n",
      "6  Cell(value='7m47', raw_value='7m47', gold_tags...   \n",
      "7  Cell(value='10m34', raw_value='10m34', gold_ta...   \n",
      "8  Cell(value='13m38', raw_value='13m38', gold_ta...   \n",
      "\n",
      "                                                   3  \n",
      "0  Cell(value='Running time', raw_value='Running ...  \n",
      "1  Cell(value='Test', raw_value='Test', gold_tags...  \n",
      "2  Cell(value='-', raw_value='-', gold_tags='', r...  \n",
      "3  Cell(value='6h', raw_value='6h', gold_tags='',...  \n",
      "4  Cell(value='15h', raw_value='15h', gold_tags='...  \n",
      "5  Cell(value='48s', raw_value='48s', gold_tags='...  \n",
      "6  Cell(value='50s', raw_value='50s', gold_tags='...  \n",
      "7  Cell(value='1m29', raw_value='1m29', gold_tags...  \n",
      "8  Cell(value='1m37', raw_value='1m37', gold_tags...  , 'gold_tags': '', 'dataset_text': '', 'notes': '', 'sota_records': Empty DataFrame\n",
      "Columns: [task, dataset, metric, format, model, raw_value]\n",
      "Index: []}\n"
     ]
    }
   ],
   "source": [
    "for t in final_res[\"1607.01759v3\"][\"tables\"]:\n",
    "    print(t.__dict__)"
   ]
  },
  {
   "cell_type": "code",
   "execution_count": 231,
   "metadata": {},
   "outputs": [
    {
     "data": {
      "text/plain": [
       "{'index': 0,\n",
       " 'leaderboard': True,\n",
       " 'ablation': False,\n",
       " 'dataset_text': '',\n",
       " 'segmentation': [['table-meta',\n",
       "   'dataset',\n",
       "   'dataset',\n",
       "   'dataset',\n",
       "   'dataset',\n",
       "   'dataset',\n",
       "   'dataset',\n",
       "   'dataset',\n",
       "   'dataset'],\n",
       "  ['model-competing', '', '', '', '', '', '', '', ''],\n",
       "  ['model-competing', '', '', '', '', '', '', '', ''],\n",
       "  ['model-competing', '', '', '', '', '', '', '', ''],\n",
       "  ['model-competing', '', '', '', '', '', '', '', ''],\n",
       "  ['model-competing', '', '', '', '', '', '', '', ''],\n",
       "  ['model-competing', '', '', '', '', '', '', '', ''],\n",
       "  ['model-best', '', '', '', '', '', '', '', ''],\n",
       "  ['model-best', '', '', '', '', '', '', '', '']],\n",
       " 'records': []}"
      ]
     },
     "execution_count": 231,
     "metadata": {},
     "output_type": "execute_result"
    }
   ],
   "source": [
    "seg_data_dict[\"1607.01759v3\"]['tables'][0]"
   ]
  },
  {
   "cell_type": "code",
   "execution_count": 232,
   "metadata": {},
   "outputs": [],
   "source": [
    "candidate_name = \"table_\" + \"{:02d}\".format(1) + \".csv\"\n",
    "table_dir_path = \"/home/singh_shruti/workspace/axcell_ws/axcell/notebooks/data/papers/\" + \"1607\" + \"/\" + \"1607.01759v3\"\n",
    "cannot_use_f = open(table_dir_path + \"/\" + candidate_name, \"r\")\n",
    "for line in cannot_use_f:\n",
    "    m = re.findall(\"<ref id=[0-9a-zA-Z'-]*>[a-zA-Z 0-9\\.]*</ref>\", line)\n",
    "    for iim in m:\n",
    "        print(iim)"
   ]
  },
  {
   "cell_type": "code",
   "execution_count": 233,
   "metadata": {},
   "outputs": [
    {
     "name": "stdout",
     "output_type": "stream",
     "text": [
      "/home/singh_shruti/workspace/axcell_ws/axcell/notebooks/data/papers/1607/1607.01759v3/table_01.csv\n"
     ]
    }
   ],
   "source": [
    "print(table_dir_path + \"/\" + candidate_name)"
   ]
  },
  {
   "cell_type": "code",
   "execution_count": 234,
   "metadata": {},
   "outputs": [
    {
     "name": "stdout",
     "output_type": "stream",
     "text": [
      "Model,AG,Sogou,DBP,Yelp P.,Yelp F.,Yah. A.,Amz. F.,Amz. P.\r\n",
      "BoW [<ref id='bib-bibx23'>Zhang et al.2015</ref>],88.8,92.9,96.6,92.2,58.0,68.9,54.6,90.4\r\n",
      "ngrams [<ref id='bib-bibx23'>Zhang et al.2015</ref>],92.0,97.1,98.6,95.6,56.3,68.5,54.3,92.0\r\n",
      "ngrams TFIDF [<ref id='bib-bibx23'>Zhang et al.2015</ref>],92.4,97.2,98.7,95.4,54.8,68.5,52.4,91.5\r\n",
      "char-CNN [<ref id='bib-bibx22'>Zhang and LeCun2015</ref>],87.2,95.1,98.3,94.7,62.0,71.2,59.5,94.5\r\n",
      "char-CRNN [<ref id='bib-bibx21'>Xiao and Cho2016</ref>],91.4,95.2,98.6,94.5,61.8,71.7,59.2,94.1\r\n",
      "VDCNN [<ref id='bib-bibx3'>Conneau et al.2016</ref>],91.3,96.8,98.7,95.7,64.7,73.4,63.0,95.7\r\n",
      "\"fastText, <italic>h</italic>=10\",91.5,93.9,98.1,93.8,60.4,72.0,55.8,91.2\r\n",
      "\"fastText, <italic>h</italic>=10, bigram\",92.5,96.8,98.6,95.7,63.9,72.3,60.2,94.6\r\n"
     ]
    }
   ],
   "source": [
    "!cat /home/singh_shruti/workspace/axcell_ws/axcell/notebooks/data/papers/1607/1607.01759v3/table_01.csv"
   ]
  },
  {
   "cell_type": "code",
   "execution_count": 235,
   "metadata": {},
   "outputs": [
    {
     "data": {
      "text/plain": [
       "True"
      ]
     },
     "execution_count": 235,
     "metadata": {},
     "output_type": "execute_result"
    }
   ],
   "source": [
    "\"'\" == \"'\""
   ]
  },
  {
   "cell_type": "code",
   "execution_count": 248,
   "metadata": {},
   "outputs": [
    {
     "name": "stdout",
     "output_type": "stream",
     "text": [
      "<ref id='bib-bibx23'>Zhang et al.2015</ref>\n"
     ]
    }
   ],
   "source": [
    "p = \"BoW [<ref id='bib-bibx23'>Zhang et al.2015</ref>],88.8,92.9,96.6,92.2,58.0,68.9,54.6,90.4\"\n",
    "m = re.findall(\"<ref id=[0-9a-zA-Z'-]*>[a-zA-Z 0-9\\.]*</ref>\", p)\n",
    "for iim in m:\n",
    "    print(iim)"
   ]
  },
  {
   "cell_type": "code",
   "execution_count": null,
   "metadata": {},
   "outputs": [],
   "source": []
  },
  {
   "cell_type": "code",
   "execution_count": null,
   "metadata": {},
   "outputs": [],
   "source": []
  }
 ],
 "metadata": {
  "kernelspec": {
   "display_name": "Python [conda env:axcell] *",
   "language": "python",
   "name": "conda-env-axcell-py"
  },
  "language_info": {
   "codemirror_mode": {
    "name": "ipython",
    "version": 3
   },
   "file_extension": ".py",
   "mimetype": "text/x-python",
   "name": "python",
   "nbconvert_exporter": "python",
   "pygments_lexer": "ipython3",
   "version": "3.7.1"
  }
 },
 "nbformat": 4,
 "nbformat_minor": 4
}
