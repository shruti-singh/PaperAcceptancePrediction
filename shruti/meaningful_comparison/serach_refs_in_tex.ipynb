{
 "cells": [
  {
   "cell_type": "code",
   "execution_count": 87,
   "metadata": {},
   "outputs": [],
   "source": [
    "import glob\n",
    "import re\n",
    "import pickle\n",
    "from collections import defaultdict"
   ]
  },
  {
   "cell_type": "code",
   "execution_count": 142,
   "metadata": {},
   "outputs": [],
   "source": [
    "#Axcell imports\n",
    "from pathlib import Path\n",
    "from axcell.data.paper_collection import PaperCollection\n",
    "from axcell.models.structure import TableType, TableStructurePredictor, TableTypePredictor"
   ]
  },
  {
   "cell_type": "code",
   "execution_count": null,
   "metadata": {},
   "outputs": [],
   "source": []
  },
  {
   "cell_type": "code",
   "execution_count": null,
   "metadata": {},
   "outputs": [],
   "source": []
  },
  {
   "cell_type": "markdown",
   "metadata": {},
   "source": [
    "## Global vars"
   ]
  },
  {
   "cell_type": "code",
   "execution_count": 143,
   "metadata": {},
   "outputs": [],
   "source": [
    "ROOT_PATH = Path('data')\n",
    "MODELS_PATH = Path('models')\n",
    "\n",
    "SOURCES_PATH = ROOT_PATH / 'sources'\n",
    "PAPERS_PATH = ROOT_PATH / 'papers'"
   ]
  },
  {
   "cell_type": "code",
   "execution_count": null,
   "metadata": {},
   "outputs": [],
   "source": [
    "pc = PaperCollection.from_files(PAPERS_PATH)"
   ]
  },
  {
   "cell_type": "code",
   "execution_count": 145,
   "metadata": {},
   "outputs": [],
   "source": [
    "table_labels = {TableType.SOTA: 'leaderboard', TableType.ABLATION: 'ablation', TableType.IRRELEVANT: 'irrelevant'}"
   ]
  },
  {
   "cell_type": "code",
   "execution_count": 146,
   "metadata": {},
   "outputs": [
    {
     "name": "stderr",
     "output_type": "stream",
     "text": [
      "/home/singh_shruti/anaconda3/envs/axcell/lib/python3.7/site-packages/torch/serialization.py:453: SourceChangeWarning: source code of class 'torch.nn.modules.loss.BCEWithLogitsLoss' has changed. you can retrieve the original source code by accessing the object's source attribute or set `torch.nn.Module.dump_patches = True` and use the patch tool to revert the changes.\n",
      "  warnings.warn(msg, SourceChangeWarning)\n",
      "/home/singh_shruti/anaconda3/envs/axcell/lib/python3.7/site-packages/torch/serialization.py:453: SourceChangeWarning: source code of class 'fastai.text.models.awd_lstm.AWD_LSTM' has changed. you can retrieve the original source code by accessing the object's source attribute or set `torch.nn.Module.dump_patches = True` and use the patch tool to revert the changes.\n",
      "  warnings.warn(msg, SourceChangeWarning)\n",
      "/home/singh_shruti/anaconda3/envs/axcell/lib/python3.7/site-packages/torch/serialization.py:453: SourceChangeWarning: source code of class 'torch.nn.modules.sparse.Embedding' has changed. you can retrieve the original source code by accessing the object's source attribute or set `torch.nn.Module.dump_patches = True` and use the patch tool to revert the changes.\n",
      "  warnings.warn(msg, SourceChangeWarning)\n",
      "/home/singh_shruti/anaconda3/envs/axcell/lib/python3.7/site-packages/torch/serialization.py:453: SourceChangeWarning: source code of class 'fastai.text.models.awd_lstm.EmbeddingDropout' has changed. you can retrieve the original source code by accessing the object's source attribute or set `torch.nn.Module.dump_patches = True` and use the patch tool to revert the changes.\n",
      "  warnings.warn(msg, SourceChangeWarning)\n",
      "/home/singh_shruti/anaconda3/envs/axcell/lib/python3.7/site-packages/torch/serialization.py:453: SourceChangeWarning: source code of class 'fastai.text.models.awd_lstm.WeightDropout' has changed. you can retrieve the original source code by accessing the object's source attribute or set `torch.nn.Module.dump_patches = True` and use the patch tool to revert the changes.\n",
      "  warnings.warn(msg, SourceChangeWarning)\n",
      "/home/singh_shruti/anaconda3/envs/axcell/lib/python3.7/site-packages/torch/serialization.py:453: SourceChangeWarning: source code of class 'torch.nn.modules.rnn.LSTM' has changed. you can retrieve the original source code by accessing the object's source attribute or set `torch.nn.Module.dump_patches = True` and use the patch tool to revert the changes.\n",
      "  warnings.warn(msg, SourceChangeWarning)\n",
      "/home/singh_shruti/anaconda3/envs/axcell/lib/python3.7/site-packages/torch/serialization.py:453: SourceChangeWarning: source code of class 'fastai.text.models.awd_lstm.RNNDropout' has changed. you can retrieve the original source code by accessing the object's source attribute or set `torch.nn.Module.dump_patches = True` and use the patch tool to revert the changes.\n",
      "  warnings.warn(msg, SourceChangeWarning)\n",
      "/home/singh_shruti/anaconda3/envs/axcell/lib/python3.7/site-packages/torch/serialization.py:453: SourceChangeWarning: source code of class 'torch.nn.modules.batchnorm.BatchNorm1d' has changed. you can retrieve the original source code by accessing the object's source attribute or set `torch.nn.Module.dump_patches = True` and use the patch tool to revert the changes.\n",
      "  warnings.warn(msg, SourceChangeWarning)\n",
      "/home/singh_shruti/anaconda3/envs/axcell/lib/python3.7/site-packages/torch/serialization.py:453: SourceChangeWarning: source code of class 'torch.nn.modules.dropout.Dropout' has changed. you can retrieve the original source code by accessing the object's source attribute or set `torch.nn.Module.dump_patches = True` and use the patch tool to revert the changes.\n",
      "  warnings.warn(msg, SourceChangeWarning)\n",
      "/home/singh_shruti/anaconda3/envs/axcell/lib/python3.7/site-packages/torch/serialization.py:453: SourceChangeWarning: source code of class 'torch.nn.modules.linear.Linear' has changed. you can retrieve the original source code by accessing the object's source attribute or set `torch.nn.Module.dump_patches = True` and use the patch tool to revert the changes.\n",
      "  warnings.warn(msg, SourceChangeWarning)\n",
      "/home/singh_shruti/anaconda3/envs/axcell/lib/python3.7/site-packages/torch/serialization.py:453: SourceChangeWarning: source code of class 'torch.nn.modules.activation.ReLU' has changed. you can retrieve the original source code by accessing the object's source attribute or set `torch.nn.Module.dump_patches = True` and use the patch tool to revert the changes.\n",
      "  warnings.warn(msg, SourceChangeWarning)\n",
      "[PID 163019] Load model table-type-classifier.pth\n"
     ]
    }
   ],
   "source": [
    "models_path = Path(MODELS_PATH)\n",
    "ttp = TableTypePredictor(models_path, \"table-type-classifier.pth\")"
   ]
  },
  {
   "cell_type": "code",
   "execution_count": null,
   "metadata": {},
   "outputs": [],
   "source": []
  },
  {
   "cell_type": "markdown",
   "metadata": {},
   "source": [
    "### Import collated data"
   ]
  },
  {
   "cell_type": "code",
   "execution_count": 26,
   "metadata": {},
   "outputs": [],
   "source": [
    "with open(\"/home/singh_shruti/workspace/PaperAcceptancePrediction/shruti/features/iclr_arxiv_map.pkl\", \"rb\") as f:\n",
    "    iclr_arxiv_map = pickle.load(f)"
   ]
  },
  {
   "cell_type": "code",
   "execution_count": 25,
   "metadata": {},
   "outputs": [],
   "source": [
    "with open(\"TABLE_Label_predicted.pkl\", \"rb\") as f:\n",
    "    table_label_info = pickle.load(f)"
   ]
  },
  {
   "cell_type": "code",
   "execution_count": 4,
   "metadata": {},
   "outputs": [],
   "source": [
    "with open(\"leaderboard_table_refs.pkl\", \"rb\") as some_file:\n",
    "    leaderboard_table_refs = pickle.load(some_file)\n",
    "with open(\"leaderboard_refs.pkl\", \"rb\") as some_file:\n",
    "    leaderboard_refs = pickle.load(some_file)\n",
    "\n",
    "with open(\"new_leaderboard_refs.pkl\", \"rb\") as some_file:\n",
    "    NEW_leaderboard_refs = pickle.load(some_file)"
   ]
  },
  {
   "cell_type": "markdown",
   "metadata": {},
   "source": [
    "### Check data format"
   ]
  },
  {
   "cell_type": "code",
   "execution_count": 5,
   "metadata": {},
   "outputs": [
    {
     "data": {
      "text/plain": [
       "[('2017_B1-Hhnslg',\n",
       "  {'refs': {'ldb': [\"<ref id='bib-bib17'>2016</ref>\",\n",
       "     \"<ref id='bib-bib1'>2013</ref>\",\n",
       "     \"<ref id='bib-bib23'>2016</ref>\",\n",
       "     \"<ref id='bib-bib29'>2016</ref>\",\n",
       "     \"<ref id='bib-bib2'>2015</ref>\",\n",
       "     \"<ref id='bib-bib22'>2017</ref>\",\n",
       "     \"<ref id='bib-bib6'>2017</ref>\"],\n",
       "    'abl': []},\n",
       "   'count': 12}),\n",
       " ('2017_B1-q5Pqxl', {'refs': {'ldb': []}, 'count': 0}),\n",
       " ('2017_B184E5qee',\n",
       "  {'refs': {'ldb': [\"<ref id='bib-bib37'>2012</ref>\",\n",
       "     \"<ref id='bib-bib13'>2015</ref>\",\n",
       "     \"<ref id='bib-bib36'>2016</ref>\",\n",
       "     \"<ref id='bib-bib44'>2015</ref>\",\n",
       "     \"<ref id='bib-bib40'>2014</ref>\",\n",
       "     \"<ref id='bib-bib50'>2016</ref>\",\n",
       "     \"<ref id='bib-bib49'>2014</ref>\"]},\n",
       "   'count': 10})]"
      ]
     },
     "execution_count": 5,
     "metadata": {},
     "output_type": "execute_result"
    }
   ],
   "source": [
    "list(NEW_leaderboard_refs.items())[0:3]"
   ]
  },
  {
   "cell_type": "code",
   "execution_count": 17,
   "metadata": {},
   "outputs": [
    {
     "data": {
      "text/plain": [
       "[('2017_B1-Hhnslg',\n",
       "  {'tcount': [6, 4, 2, 0],\n",
       "   'table_labels': [('leaderboard',),\n",
       "    ('leaderboard',),\n",
       "    ('leaderboard',),\n",
       "    ('ablation',),\n",
       "    ('leaderboard',),\n",
       "    ('ablation',)]}),\n",
       " ('2017_B1-q5Pqxl',\n",
       "  {'tcount': [2, 1, 0, 1],\n",
       "   'table_labels': [('irrelevant',), ('leaderboard',)]}),\n",
       " ('2017_B16dGcqlx', {'tcount': [0, 0, 0, 0], 'table_labels': []})]"
      ]
     },
     "execution_count": 17,
     "metadata": {},
     "output_type": "execute_result"
    }
   ],
   "source": [
    "list(leaderboard_table_refs.items())[0:3]"
   ]
  },
  {
   "cell_type": "markdown",
   "metadata": {},
   "source": [
    "### Check if one is a subset of other"
   ]
  },
  {
   "cell_type": "code",
   "execution_count": 13,
   "metadata": {},
   "outputs": [
    {
     "name": "stdout",
     "output_type": "stream",
     "text": [
      "530\n",
      "0\n",
      "158\n"
     ]
    }
   ],
   "source": [
    "count = 0\n",
    "reverse_count = 0\n",
    "old_missing = 0\n",
    "for k in NEW_leaderboard_refs:\n",
    "    if \"count\" in NEW_leaderboard_refs[k]:\n",
    "        if \"count\" in leaderboard_refs[k]:\n",
    "            if NEW_leaderboard_refs[k][\"count\"] >= leaderboard_refs[k][\"count\"]:\n",
    "                count +=1\n",
    "            else:\n",
    "                reverse_count += 1\n",
    "        else:\n",
    "            old_missing += 1\n",
    "            #print(\"Count not present in old: \", leaderboard_refs[k])\n",
    "    else:\n",
    "        print(\"Count not present in NEW: \", NEW_leaderboard_refs[k])\n",
    "print(count)\n",
    "print(reverse_count)\n",
    "print(old_missing)"
   ]
  },
  {
   "cell_type": "markdown",
   "metadata": {},
   "source": [
    "### Hence, the dictionary to use from now id NEW_leaderboard_refs"
   ]
  },
  {
   "cell_type": "code",
   "execution_count": null,
   "metadata": {},
   "outputs": [],
   "source": []
  },
  {
   "cell_type": "markdown",
   "metadata": {},
   "source": [
    "### check missing ref stats"
   ]
  },
  {
   "cell_type": "code",
   "execution_count": 16,
   "metadata": {},
   "outputs": [
    {
     "name": "stdout",
     "output_type": "stream",
     "text": [
      "459 688\n",
      "0.6671511627906976\n"
     ]
    }
   ],
   "source": [
    "count = 0\n",
    "for k in NEW_leaderboard_refs:\n",
    "    if NEW_leaderboard_refs[k][\"count\"] == 0:\n",
    "        count +=1\n",
    "print(count, len(NEW_leaderboard_refs))\n",
    "print(count/len(NEW_leaderboard_refs))"
   ]
  },
  {
   "cell_type": "code",
   "execution_count": 24,
   "metadata": {
    "collapsed": true
   },
   "outputs": [
    {
     "name": "stdout",
     "output_type": "stream",
     "text": [
      "Absent key:  2017_B16dGcqlx\n",
      "Absent key:  2017_B186cP9gx\n",
      "Absent key:  2017_B1M8JF9xx\n",
      "Absent key:  2017_B1TTpYKgx\n",
      "Absent key:  2017_BJ3filKll\n",
      "Absent key:  2017_BJ46w6Ule\n",
      "Absent key:  2017_BJ5UeU9xx\n",
      "Absent key:  2017_BJ6oOfqge\n",
      "Absent key:  2017_BJAA4wKxg\n",
      "Absent key:  2017_BJKYvt5lg\n",
      "Absent key:  2017_BJO-BuT1g\n",
      "Absent key:  2017_BJ_MGwqlg\n",
      "Absent key:  2017_BJluGHcee\n",
      "Absent key:  2017_BJmCKBqgl\n",
      "Absent key:  2017_BJrFC6ceg\n",
      "Absent key:  2017_BJxhLAuxg\n",
      "Absent key:  2017_Bk0FWVcgx\n",
      "Absent key:  2017_Bk8BvDqex\n",
      "Absent key:  2017_BkLhzHtlg\n",
      "Absent key:  2017_BkV4VS9ll\n",
      "Absent key:  2017_BkVsEMYel\n",
      "Absent key:  2017_Bkab5dqxe\n",
      "Absent key:  2017_BkbY4psgg\n",
      "Absent key:  2017_BkmM8Dceg\n",
      "Absent key:  2017_Bks8cPcxe\n",
      "Absent key:  2017_Bygq-H9eg\n",
      "Absent key:  2017_Byk-VI9eg\n",
      "Absent key:  2017_BymIbLKgl\n",
      "Absent key:  2017_BysvGP5ee\n",
      "Absent key:  2017_H1GEvHcee\n",
      "Absent key:  2017_H1Heentlx\n",
      "Absent key:  2017_H1W1UN9gg\n",
      "Absent key:  2017_H1eLE8qlx\n",
      "Absent key:  2017_HJWHIKqgl\n",
      "Absent key:  2017_HJrDIpiee\n",
      "Absent key:  2017_Hk4_qw5xe\n",
      "Absent key:  2017_HkLXCE9lx\n",
      "Absent key:  2017_Hkg8bDqee\n",
      "Absent key:  2017_HyGTuv9eg\n",
      "Absent key:  2017_HyM25Mqel\n",
      "Absent key:  2017_HyecJGP5ge\n",
      "Absent key:  2017_S1HEBe_Jl\n",
      "Absent key:  2017_S1J0E-71l\n",
      "Absent key:  2017_S1VaB4cex\n",
      "Absent key:  2017_SJ-uGHcee\n",
      "Absent key:  2017_SJ3rcZcxl\n",
      "Absent key:  2017_SJ6yPD5xg\n",
      "Absent key:  2017_SJAr0QFxe\n",
      "Absent key:  2017_SJBr9Mcxl\n",
      "Absent key:  2017_SJRpRfKxx\n",
      "Absent key:  2017_SJgWQPcxl\n",
      "Absent key:  2017_SJiFvr9el\n",
      "Absent key:  2017_Sk-oDY9ge\n",
      "Absent key:  2017_Sk8csP5ex\n",
      "Absent key:  2017_SkC_7v5gx\n",
      "Absent key:  2017_SkYbF1slg\n",
      "Absent key:  2017_SkpSlKIel\n",
      "Absent key:  2017_Sy1rwtKxg\n",
      "Absent key:  2017_Sy6iJDqlx\n",
      "Absent key:  2017_Sy8gdB9xx\n",
      "Absent key:  2017_SyOvg6jxx\n",
      "Absent key:  2017_SyW2QSige\n",
      "Absent key:  2017_SyWvgP5el\n",
      "Absent key:  2017_r1nTpv9eg\n",
      "Absent key:  2017_rJ8uNptgl\n",
      "Absent key:  2017_rJXTf9Bxg\n",
      "Absent key:  2017_rJe-Pr9le\n",
      "Absent key:  2017_rJiNwv9gg\n",
      "Absent key:  2017_rJxDkvqee\n",
      "Absent key:  2017_rJxdQ3jeg\n",
      "Absent key:  2017_rkEFLFqee\n",
      "Absent key:  2017_rkpACe1lx\n",
      "Absent key:  2017_ry4Vrt5gl\n",
      "Absent key:  2017_ryF7rTqgl\n",
      "Absent key:  2017_ryHlUtqge\n",
      "Absent key:  2017_ryT4pvqll\n",
      "Absent key:  2017_ryXZmzNeg\n",
      "Absent key:  2018_B13njo1R-\n",
      "Absent key:  2018_B17JTOe0-\n",
      "Absent key:  2018_B18WgG-CZ\n",
      "Absent key:  2018_B1DmUzWAW\n",
      "Absent key:  2018_B1EPYJ-C-\n",
      "Absent key:  2018_B1IDRdeCW\n",
      "Absent key:  2018_B1J_rgWRW\n",
      "Absent key:  2018_B1Yy1BxCZ\n",
      "Absent key:  2018_B1n8LexRZ\n",
      "Absent key:  2018_B1p461b0W\n",
      "Absent key:  2018_BJ0hF1Z0b\n",
      "Absent key:  2018_BJ8c3f-0b\n",
      "Absent key:  2018_BJE-4xW0W\n",
      "Absent key:  2018_BJGWO9k0Z\n",
      "Absent key:  2018_BJ_wN01C-\n",
      "Absent key:  2018_BJgPCveAW\n",
      "Absent key:  2018_BJij4yg0Z\n",
      "Absent key:  2018_BJk7Gf-CZ\n",
      "Absent key:  2018_Bk8ZcAxR-\n",
      "Absent key:  2018_BkIkkseAZ\n",
      "Absent key:  2018_BkJ3ibb0-\n",
      "Absent key:  2018_BkQCGzZ0-\n",
      "Absent key:  2018_BkQqq0gRb\n",
      "Absent key:  2018_BkwHObbRZ\n",
      "Absent key:  2018_By5ugjyCb\n",
      "Absent key:  2018_ByJDAIe0b\n",
      "Absent key:  2018_ByJWeR1AW\n",
      "Absent key:  2018_ByQpn1ZA-\n",
      "Absent key:  2018_ByeqORgAW\n",
      "Absent key:  2018_Byk4My-RZ\n",
      "Absent key:  2018_H1-nGgWC-\n",
      "Absent key:  2018_H1-oTz-Cb\n",
      "Absent key:  2018_H11lAfbCW\n",
      "Absent key:  2018_H135uzZ0-\n",
      "Absent key:  2018_H15odZ-C-\n",
      "Absent key:  2018_H1DJFybC-\n",
      "Absent key:  2018_H1MczcgR-\n",
      "Absent key:  2018_H1UOm4gA-\n",
      "Absent key:  2018_H1U_af-0-\n",
      "Absent key:  2018_H1aIuk-RW\n",
      "Absent key:  2018_H1dh6Ax0Z\n",
      "Absent key:  2018_H1kMMmb0-\n",
      "Absent key:  2018_H1pri9vTZ\n",
      "Absent key:  2018_H1u8fMW0b\n",
      "Absent key:  2018_H1wt9x-RW\n",
      "Absent key:  2018_H1zriGeCZ\n",
      "Absent key:  2018_HJIhGXWCZ\n",
      "Absent key:  2018_HJXOfZ-AZ\n",
      "Absent key:  2018_HJr4QJ26W\n",
      "Absent key:  2018_HJtEm4p6Z\n",
      "Absent key:  2018_Hk2aImxAb\n",
      "Absent key:  2018_Hk6kPgZA-\n",
      "Absent key:  2018_Hk9Xc_lR-\n",
      "Absent key:  2018_HkNGsseC-\n",
      "Absent key:  2018_HkZy-bW0-\n",
      "Absent key:  2018_HkjL6MiTb\n",
      "Absent key:  2018_Hkn7CBaTW\n",
      "Absent key:  2018_HktK4BeCZ\n",
      "Absent key:  2018_HkwBEMWCZ\n",
      "Absent key:  2018_Hy6GHpkCW\n",
      "Absent key:  2018_HyDAQl-AW\n",
      "Absent key:  2018_HyH9lbZAW\n",
      "Absent key:  2018_HyWrIgW0W\n",
      "Absent key:  2018_HyXBcYg0b\n",
      "Absent key:  2018_HyjC5yWCW\n",
      "Absent key:  2018_Hyp-JJJRW\n",
      "Absent key:  2018_HyrCWeWCb\n",
      "Absent key:  2018_S191YzbRZ\n",
      "Absent key:  2018_S1DWPP1A-\n",
      "Absent key:  2018_S1EwLkW0W\n",
      "Absent key:  2018_S1HlA-ZAZ\n",
      "Absent key:  2018_S1WRibb0Z\n",
      "Absent key:  2018_S1Y7OOlRZ\n",
      "Absent key:  2018_S1cZsf-RW\n",
      "Absent key:  2018_S1vuO-bCW\n",
      "Absent key:  2018_SJ19eUg0-\n",
      "Absent key:  2018_SJ60SbW0b\n",
      "Absent key:  2018_SJIA6ZWC-\n",
      "Absent key:  2018_SJJinbWRZ\n",
      "Absent key:  2018_SJahqJZAW\n",
      "Absent key:  2018_SJcKhk-Ab\n",
      "Absent key:  2018_SJdCUMZAW\n",
      "Absent key:  2018_SJi9WOeRb\n",
      "Absent key:  2018_SJn0sLgRb\n",
      "Absent key:  2018_SJvrXqvaZ\n",
      "Absent key:  2018_SJvu-GW0b\n",
      "Absent key:  2018_SJzMATlAZ\n",
      "Absent key:  2018_SkA-IE06W\n",
      "Absent key:  2018_SkFAWax0-\n",
      "Absent key:  2018_SkPoRg10b\n",
      "Absent key:  2018_SkT5Yg-RZ\n",
      "Absent key:  2018_SkYibHlRb\n",
      "Absent key:  2018_Skp1ESxRZ\n",
      "Absent key:  2018_Skw0n-W0Z\n",
      "Absent key:  2018_Skx5txzb0W\n",
      "Absent key:  2018_Skz_WfbCZ\n",
      "Absent key:  2018_Sy-tszZRZ\n",
      "Absent key:  2018_SyAbZb-0Z\n",
      "Absent key:  2018_SyL9u-WA-\n",
      "Absent key:  2018_SyProzZAW\n",
      "Absent key:  2018_SyX0IeWAW\n",
      "Absent key:  2018_SyZI0GWCZ\n",
      "Absent key:  2018_SyZipzbCb\n",
      "Absent key:  2018_SyhRVm-Rb\n",
      "Absent key:  2018_Syhr6pxCW\n",
      "Absent key:  2018_SywXXwJAb\n",
      "Absent key:  2018_r1CE9GWR-\n",
      "Absent key:  2018_r1DPFCyA-\n",
      "Absent key:  2018_r1HhRfWRZ\n",
      "Absent key:  2018_r1Oen--RW\n",
      "Absent key:  2018_r1VVsebAZ\n",
      "Absent key:  2018_r1ZdKJ-0W\n",
      "Absent key:  2018_r1drp-WCZ\n",
      "Absent key:  2018_r1iuQjxCZ\n",
      "Absent key:  2018_r1kj4ACp-\n",
      "Absent key:  2018_r1q7n9gAb\n",
      "Absent key:  2018_rJ33wwxRb\n",
      "Absent key:  2018_rJGZq6g0-\n",
      "Absent key:  2018_rJQDjk-0b\n",
      "Absent key:  2018_rJUYGxbCW\n",
      "Absent key:  2018_rJzIBfZAb\n",
      "Absent key:  2018_rk49Mg-CW\n",
      "Absent key:  2018_rkQkBnJAb\n",
      "Absent key:  2018_rkTBjG-AZ\n",
      "Absent key:  2018_rkWN3g-AZ\n",
      "Absent key:  2018_rkcQFMZRb\n",
      "Absent key:  2018_rkcya1ZAW\n",
      "Absent key:  2018_rkrWCJWAW\n",
      "Absent key:  2018_ry0WOxbRZ\n",
      "Absent key:  2018_ry1arUgCW\n",
      "Absent key:  2018_ry80wMW0W\n",
      "Absent key:  2018_ryH20GbRW\n",
      "Absent key:  2018_ryH_bShhW\n",
      "Absent key:  2018_ryQu7f-RZ\n",
      "Absent key:  2018_ryUlhzWCZ\n",
      "Absent key:  2018_ryepFJbA-\n",
      "Absent key:  2018_ryj38zWRb\n",
      "Absent key:  2019_B1MAJhR5YX\n",
      "Absent key:  2019_B1MB5oRqtQ\n",
      "Absent key:  2019_B1MIBs05F7\n",
      "Absent key:  2019_B1e9csRcFm\n",
      "Absent key:  2019_B1eKk2CcKm\n",
      "Absent key:  2019_B1eSg3C9Ym\n",
      "Absent key:  2019_B1ffQnRcKX\n",
      "Absent key:  2019_B1x9siCcYQ\n",
      "Absent key:  2019_BJG0voC9YQ\n",
      "Absent key:  2019_BJGjOi09t7\n",
      "Absent key:  2019_BJWfW2C9Y7\n",
      "Absent key:  2019_BJe1E2R5KX\n",
      "Absent key:  2019_BJemQ209FQ\n",
      "Absent key:  2019_BJesDsA9t7\n",
      "Absent key:  2019_BJfYvo09Y7\n",
      "Absent key:  2019_BJf_YjCqYX\n",
      "Absent key:  2019_BJgqqsAct7\n",
      "Absent key:  2019_BJl4f2A5tQ\n",
      "Absent key:  2019_BJl6TjRcY7\n",
      "Absent key:  2019_BJlXUsR5KQ\n",
      "Absent key:  2019_BJlxm30cKm\n",
      "Absent key:  2019_BJxOHs0cKm\n",
      "Absent key:  2019_BJxhijAcY7\n",
      "Absent key:  2019_BJzbG20cFQ\n",
      "Absent key:  2019_Bke96sC5tm\n",
      "Absent key:  2019_BkeK-nRcFX\n",
      "Absent key:  2019_BkedwoC5t7\n",
      "Absent key:  2019_Bkeuz20cYm\n",
      "Absent key:  2019_Bkf1tjR9KQ\n",
      "Absent key:  2019_Bkg3g2R9FX\n",
      "Absent key:  2019_Bkg6RiCqY7\n",
      "Absent key:  2019_Bkg8jjC9KQ\n",
      "Absent key:  2019_BkgFqiAqFX\n",
      "Absent key:  2019_BkgVx3A9Km\n",
      "Absent key:  2019_BkgWHnR5tm\n",
      "Absent key:  2019_BklHpjCqKm\n",
      "Absent key:  2019_BklMjsRqY7\n",
      "Absent key:  2019_Bklfsi0cKm\n",
      "Absent key:  2019_BkzeUiRcY7\n",
      "Absent key:  2019_ByG_3s09KX\n",
      "Absent key:  2019_Bye5SiAqKX\n",
      "Absent key:  2019_Bye9LiR9YX\n",
      "Absent key:  2019_ByeLBj0qFQ\n",
      "Absent key:  2019_ByeTHsAqtX\n",
      "Absent key:  2019_Byey7n05FQ\n",
      "Absent key:  2019_BygNqoR9tm\n",
      "Absent key:  2019_BygqBiRcFQ\n",
      "Absent key:  2019_BylIciRcYQ\n",
      "Absent key:  2019_BylQV305YQ\n",
      "Absent key:  2019_ByxLl309Ym\n",
      "Absent key:  2019_ByxPYjC5KQ\n",
      "Absent key:  2019_H1MBuiAqtX\n",
      "Absent key:  2019_H1eRBoC9FX\n",
      "Absent key:  2019_H1emus0qF7\n",
      "Absent key:  2019_H1g6osRcFQ\n",
      "Absent key:  2019_H1lC8o0cKX\n",
      "Absent key:  2019_H1ltQ3R9KQ\n",
      "Absent key:  2019_H1lug3R5FX\n",
      "Absent key:  2019_S1MAriC5F7\n",
      "Absent key:  2019_Ske7ToC5Km\n",
      "Absent key:  tcount\n"
     ]
    }
   ],
   "source": [
    "count = 0\n",
    "\n",
    "for k in leaderboard_table_refs:\n",
    "    if \"tcount\" in leaderboard_table_refs:\n",
    "        if k in NEW_leaderboard_refs:\n",
    "            if \"count\" in NEW_leaderboard_refs[k]:\n",
    "                if NEW_leaderboard_refs[k][\"count\"] == 0 and (leaderboard_table_refs[k][\"tcount\"][1]+leaderboard_table_refs[k][\"tcount\"][2])>0:\n",
    "                    count += 1\n",
    "            else:\n",
    "                print(\"count absent in NEW: \", leaderboard_refs[k])\n",
    "        else:\n",
    "            print(\"Absent key: \", k)\n",
    "    else:\n",
    "        print(\"tcount absent: \", leaderboard_table_refs[k])"
   ]
  },
  {
   "cell_type": "code",
   "execution_count": 32,
   "metadata": {},
   "outputs": [
    {
     "data": {
      "text/plain": [
       "459"
      ]
     },
     "execution_count": 32,
     "metadata": {},
     "output_type": "execute_result"
    }
   ],
   "source": [
    "count"
   ]
  },
  {
   "cell_type": "code",
   "execution_count": 31,
   "metadata": {},
   "outputs": [
    {
     "data": {
      "text/plain": [
       "(963, 688)"
      ]
     },
     "execution_count": 31,
     "metadata": {},
     "output_type": "execute_result"
    }
   ],
   "source": [
    "len(leaderboard_table_refs), len(NEW_leaderboard_refs)"
   ]
  },
  {
   "cell_type": "markdown",
   "metadata": {},
   "source": [
    "### Escape above errors"
   ]
  },
  {
   "cell_type": "code",
   "execution_count": 40,
   "metadata": {},
   "outputs": [
    {
     "data": {
      "text/plain": [
       "{'id': '2018_HyDAQl-AW',\n",
       " 'title': 'Time Limits in Reinforcement Learning',\n",
       " 'abstract': \"In reinforcement learning, it is common to let an agent interact with its environment for a fixed amount of time before resetting the environment and repeating the process in a series of episodes. The task that the agent has to learn can either be to maximize its performance over (i) that fixed amount of time, or (ii) an indefinite period where the time limit is only used during training. In this paper, we investigate theoretically how time limits could effectively be handled in each of the two cases. In the first one, we argue that the terminations due to time limits are in fact part of the environment, and propose to include a notion of the remaining time as part of the agent's input. In the second case, the time limits are not part of the environment and are only used to facilitate learning. We argue that such terminations should not be treated as environmental ones and propose a method, specific to value-based algorithms, that incorporates this insight by continuing to bootstrap at the end of each partial episode. To illustrate the significance of our proposals, we perform several experiments on a range of environments from simple few-state transition graphs to complex control tasks, including novel and standard benchmark domains. Our results show that the proposed methods improve the performance and stability of existing reinforcement learning algorithms.\",\n",
       " 'authors': ['Fabio Pardo',\n",
       "  'Arash Tavakoli',\n",
       "  'Vitaly Levdik',\n",
       "  'Petar Kormushev'],\n",
       " 'label': 'Reject',\n",
       " 'found': True,\n",
       " 'arxivId': '1712.00378v3'}"
      ]
     },
     "execution_count": 40,
     "metadata": {},
     "output_type": "execute_result"
    }
   ],
   "source": [
    "iclr_arxiv_map[\"2018_HyDAQl-AW\"]"
   ]
  },
  {
   "cell_type": "code",
   "execution_count": null,
   "metadata": {},
   "outputs": [],
   "source": [
    "2019_BJgqqsAct7, 2017_HyM25Mqel, 2018_HyDAQl-AW : no tables"
   ]
  },
  {
   "cell_type": "code",
   "execution_count": null,
   "metadata": {},
   "outputs": [],
   "source": [
    "2019_BJxhijAcY7,  - table present in figure"
   ]
  },
  {
   "cell_type": "code",
   "execution_count": null,
   "metadata": {},
   "outputs": [],
   "source": [
    "2019_BkgWHnR5tm(abl tables present of hyperparams), 2018_S1DWPP1A-, 2018_BJE-4xW0W(37 page paper with proofs and graph figs) : results in terms of graph figs"
   ]
  },
  {
   "cell_type": "code",
   "execution_count": null,
   "metadata": {},
   "outputs": [],
   "source": [
    "2017_SJgWQPcxl(MNIST rejected in ICLR for same reason) - cannot find results"
   ]
  },
  {
   "cell_type": "code",
   "execution_count": null,
   "metadata": {},
   "outputs": [],
   "source": [
    "2017_HJrDIpiee - some result in figure and most results are themselves ablation like \n",
    "metric is num_epochs_rqurd_to_reach_18_points_in_pong\n",
    "# but since the contribution is primarily empirical rather than conceptual and algorithmic,\n",
    "# there is a high bar for the rigorousness of the experiments. The reviewers generally did not find \n",
    "# the evaluation to be compelling enough in this regard."
   ]
  },
  {
   "cell_type": "code",
   "execution_count": null,
   "metadata": {},
   "outputs": [],
   "source": []
  },
  {
   "cell_type": "markdown",
   "metadata": {},
   "source": [
    "# Just do it"
   ]
  },
  {
   "cell_type": "code",
   "execution_count": 54,
   "metadata": {},
   "outputs": [
    {
     "name": "stdout",
     "output_type": "stream",
     "text": [
      "[('2017_B1-Hhnslg', {'refs': {'ldb': [\"<ref id='bib-bib17'>2016</ref>\", \"<ref id='bib-bib1'>2013</ref>\", \"<ref id='bib-bib23'>2016</ref>\", \"<ref id='bib-bib29'>2016</ref>\", \"<ref id='bib-bib2'>2015</ref>\", \"<ref id='bib-bib22'>2017</ref>\", \"<ref id='bib-bib6'>2017</ref>\"], 'abl': []}, 'count': 12}), ('2017_B1-q5Pqxl', {'refs': {'ldb': []}, 'count': 0})]\n"
     ]
    }
   ],
   "source": [
    "# Check if count field is present in all\n",
    "for k in NEW_leaderboard_refs:\n",
    "    if not \"count\" in NEW_leaderboard_refs[k]:\n",
    "        print(k)\n",
    "\n",
    "print(list(NEW_leaderboard_refs.items())[0:2])"
   ]
  },
  {
   "cell_type": "code",
   "execution_count": 59,
   "metadata": {},
   "outputs": [],
   "source": [
    "for k in leaderboard_table_refs:\n",
    "    if not \"tcount\" in leaderboard_table_refs[k]:\n",
    "        print(leaderboard_table_refs[k])"
   ]
  },
  {
   "cell_type": "code",
   "execution_count": 55,
   "metadata": {},
   "outputs": [],
   "source": [
    "# Update correct count (there was some case where some ref was present but count was 0)\n",
    "# print(list(NEW_leaderboard_refs.items())[0:2], end=\"\\n\\n\")\n",
    "\n",
    "for k in NEW_leaderboard_refs:\n",
    "    if \"refs\" in NEW_leaderboard_refs[k]:\n",
    "        refcount = 0\n",
    "        if \"ldb\" in NEW_leaderboard_refs[k][\"refs\"]:\n",
    "            refcount += len(NEW_leaderboard_refs[k][\"refs\"][\"ldb\"])\n",
    "        if \"abl\" in NEW_leaderboard_refs[k][\"refs\"]:\n",
    "            refcount += len(NEW_leaderboard_refs[k][\"refs\"][\"abl\"])\n",
    "        \n",
    "        if refcount > 0 and NEW_leaderboard_refs[k][\"count\"]==0:\n",
    "            print(k)"
   ]
  },
  {
   "cell_type": "code",
   "execution_count": 62,
   "metadata": {},
   "outputs": [
    {
     "name": "stdout",
     "output_type": "stream",
     "text": [
      "459\n"
     ]
    }
   ],
   "source": [
    "count = 0\n",
    "for k in leaderboard_table_refs:\n",
    "    try:\n",
    "        if (leaderboard_table_refs[k][\"tcount\"][1] + leaderboard_table_refs[k][\"tcount\"][2]) > 0:\n",
    "            if k in NEW_leaderboard_refs and NEW_leaderboard_refs[k][\"count\"]==0:\n",
    "                count += 1\n",
    "    except Exception as ex:\n",
    "        print(k)\n",
    "        print(ex)\n",
    "print(count)"
   ]
  },
  {
   "cell_type": "code",
   "execution_count": 58,
   "metadata": {},
   "outputs": [],
   "source": []
  },
  {
   "cell_type": "code",
   "execution_count": 63,
   "metadata": {},
   "outputs": [
    {
     "name": "stdout",
     "output_type": "stream",
     "text": [
      "229\n"
     ]
    }
   ],
   "source": [
    "count = 0\n",
    "for k in leaderboard_table_refs:\n",
    "    try:\n",
    "        if (leaderboard_table_refs[k][\"tcount\"][1] + leaderboard_table_refs[k][\"tcount\"][2]) > 0:\n",
    "            if k in NEW_leaderboard_refs and NEW_leaderboard_refs[k][\"count\"]>0:\n",
    "                count += 1\n",
    "    except Exception as ex:\n",
    "        print(k)\n",
    "        print(ex)\n",
    "print(count)"
   ]
  },
  {
   "cell_type": "code",
   "execution_count": 64,
   "metadata": {},
   "outputs": [
    {
     "data": {
      "text/plain": [
       "0.23804573804573806"
      ]
     },
     "execution_count": 64,
     "metadata": {},
     "output_type": "execute_result"
    }
   ],
   "source": [
    "229/len(leaderboard_table_refs)"
   ]
  },
  {
   "cell_type": "code",
   "execution_count": null,
   "metadata": {},
   "outputs": [],
   "source": []
  },
  {
   "cell_type": "code",
   "execution_count": null,
   "metadata": {},
   "outputs": [],
   "source": [
    "leaderboard_table_refs"
   ]
  },
  {
   "cell_type": "markdown",
   "metadata": {},
   "source": [
    "## Add from table caption"
   ]
  },
  {
   "cell_type": "markdown",
   "metadata": {},
   "source": [
    "#### 1. check if any entry is missed by mistake"
   ]
  },
  {
   "cell_type": "code",
   "execution_count": null,
   "metadata": {},
   "outputs": [],
   "source": []
  },
  {
   "cell_type": "code",
   "execution_count": 235,
   "metadata": {},
   "outputs": [],
   "source": [
    "unextracted_papers = []\n",
    "table_types_absent = []\n",
    "new_table_counts = defaultdict(dict)\n",
    "new_zero_table_counts = defaultdict(dict)\n",
    "\n",
    "status_count = 0"
   ]
  },
  {
   "cell_type": "code",
   "execution_count": 236,
   "metadata": {},
   "outputs": [
    {
     "name": "stdout",
     "output_type": "stream",
     "text": [
      "Status:  0\n",
      "Status:  100\n",
      "Status:  200\n",
      "For k: 2018_ByJWeR1AW, found unknown table type: \n",
      "For k: 2018_ByJWeR1AW, found unknown table type: \n",
      "Status:  300\n",
      "Status:  400\n",
      "Status:  500\n",
      "Status:  500\n",
      "Status:  600\n",
      "Status:  700\n",
      "Status:  800\n",
      "Status:  900\n",
      "Status:  900\n",
      "Status:  1000\n",
      "Status:  1100\n",
      "Status:  1200\n",
      "Status:  1300\n",
      "Status:  1400\n",
      "For k: 2020_H1eqOnNYDH, found unknown table type: \n",
      "For k: 2020_H1eqOnNYDH, found unknown table type: \n",
      "Status:  1500\n",
      "Status:  1600\n",
      "Status:  1700\n",
      "Status:  1800\n",
      "Status:  1900\n"
     ]
    }
   ],
   "source": [
    "for k, v in iclr_arxiv_map.items():\n",
    "    if v[\"found\"]:\n",
    "        if status_count % 100 == 0:\n",
    "            print(\"Status: \", status_count)\n",
    "\n",
    "        try:\n",
    "            path_split = v[\"arxivId\"].split(\".\")\n",
    "\n",
    "            # Extraction\n",
    "            #extract(SOURCES_PATH / path_split[0] / v[\"arxivId\"])\n",
    "\n",
    "            paper = pc.get_by_id(v[\"arxivId\"])\n",
    "\n",
    "            if not paper:\n",
    "                unextracted_papers.append(k)\n",
    "                continue\n",
    "\n",
    "            if len(paper.tables) > 0:                    \n",
    "                # Add table type if absent\n",
    "                if paper.tables[0].gold_tags == \"\":\n",
    "                    if k in table_label_info:\n",
    "                        for idx, t in enumerate(paper.tables):\n",
    "                            t.gold_tags = table_label_info[k][idx]\n",
    "                    else:\n",
    "                        table_types_absent.append(k)\n",
    "                        continue\n",
    "\n",
    "                #Count the different types of tables\n",
    "                table_type_count = [0, 0, 0]\n",
    "                for tt in paper.tables:\n",
    "                    if tt.gold_tags.lower().strip() == \"leaderboard\":\n",
    "                        table_type_count[0] = table_type_count[0] + 1\n",
    "                    elif tt.gold_tags.lower().strip() == \"ablation\":\n",
    "                        table_type_count[1] = table_type_count[1] + 1\n",
    "                    elif tt.gold_tags.lower().strip() == \"irrelevant\":\n",
    "                        table_type_count[2] = table_type_count[2] + 1\n",
    "                    else:\n",
    "                        print(\"For k: {}, found unknown table type: {}\".format(k, tt.gold_tags))\n",
    "\n",
    "                # Save table stat in leaderboard_table_refs\n",
    "                new_table_counts[k][\"tcount\"] = [len(paper.tables), table_type_count[0], table_type_count[1], table_type_count[2]]\n",
    "            else:\n",
    "                new_zero_table_counts[k][\"tcount\"] = [0, 0, 0, 0]\n",
    "            \n",
    "            if k in new_table_counts:\n",
    "                new_table_counts[k][\"table_labels\"] = []\n",
    "                for tablerol in paper.tables:\n",
    "                    new_table_counts[k][\"table_labels\"].append((tablerol.gold_tags,))\n",
    "                status_count += 1\n",
    "        except Exception as ex:\n",
    "            print(k, ex)"
   ]
  },
  {
   "cell_type": "code",
   "execution_count": 237,
   "metadata": {},
   "outputs": [
    {
     "name": "stdout",
     "output_type": "stream",
     "text": [
      "1988 387 129 0\n"
     ]
    }
   ],
   "source": [
    "print(len(list(new_table_counts.keys())), len(new_zero_table_counts), len(unextracted_papers), len(table_types_absent))"
   ]
  },
  {
   "cell_type": "code",
   "execution_count": 238,
   "metadata": {},
   "outputs": [
    {
     "data": {
      "text/plain": [
       "2504"
      ]
     },
     "execution_count": 238,
     "metadata": {},
     "output_type": "execute_result"
    }
   ],
   "source": [
    "1988+387+129 #Is equal to the number of papers in iclr_arxiv_source_map found with arxiv source i.e. 2504"
   ]
  },
  {
   "cell_type": "code",
   "execution_count": null,
   "metadata": {},
   "outputs": [],
   "source": []
  },
  {
   "cell_type": "markdown",
   "metadata": {},
   "source": [
    "#### 1.1 Inspect overwhelming number of table type absent"
   ]
  },
  {
   "cell_type": "code",
   "execution_count": 127,
   "metadata": {},
   "outputs": [
    {
     "data": {
      "text/plain": [
       "['2017_B1s6xvqlx', '2019_H1x-x309tm', '2019_H1x1noAqKX', '2019_H1xEwsR9FX']"
      ]
     },
     "execution_count": 127,
     "metadata": {},
     "output_type": "execute_result"
    }
   ],
   "source": [
    "table_types_absent[0:4]"
   ]
  },
  {
   "cell_type": "code",
   "execution_count": 130,
   "metadata": {},
   "outputs": [
    {
     "name": "stdout",
     "output_type": "stream",
     "text": [
      "1808.02941v2\n",
      "index.html\n",
      "layout_01.csv  metadata.json  table_01.csv  text.json\n",
      "1\n",
      "Table 1: Variants of generalized Adam\n"
     ]
    },
    {
     "data": {
      "text/html": [
       "<style>\n",
       "body{margin:0;padding:0;font-family:-apple-system,BlinkMacSystemFont,Segoe UI,Roboto,Oxygen,Ubuntu,Cantarell,Fira Sans,Droid Sans,Helvetica Neue,sans-serif;-webkit-font-smoothing:antialiased;-moz-osx-font-smoothing:grayscale}code{font-family:source-code-pro,Menlo,Monaco,Consolas,Courier New,monospace}.tableWrapper{-overflow:auto}.tableWrapper .has-annotations{color:#ff3860}.tableWrapper .model-params{background-color:#209cee;color:rgba(0,0,0,.7)}.tableWrapper .table-meta{background-color:#fff3c5;color:rgba(0,0,0,.7)}.tableWrapper .model-best{background-color:#ff3860;color:rgba(0,0,0,.7)}.tableWrapper .model-ensemble{background-color: #aa38ff;color: #fff;}.tableWrapper .model-competing{background-color:#ffdd57;color:rgba(0,0,0,.7)}.tableWrapper .model-paper{background-color:#ff3860;color:#fff}.tableWrapper .dataset-sub{background-color:#23d160;color:#fff}.tableWrapper .dataset-metric{background-color:#209cee;color:#fff}.tableWrapper .dataset{background-color:#02bd43;color:#fff}.tableWrapper .trash{background-color:#363636;color:#f5f5f5}.tableWrapper .wtf{background-color:#f0f;color:#f5f5f5}.tableWrapper .dataset-task{background-color:#77ecdd;color:rgba(0,0,0,.7)}.tableWrapper .dataset-paper{background-color:#e4ffee;color:rgba(0,0,0,.7)}.tableWrapper td.focused-cell{outline:2px solid #9ecaed;border-radius:7px;box-shadow:0 0 10px #9ecaed}.tableWrapper span.text-bold{font-weight:700}.tableWrapper span.text-italic{font-style:italic}.tableWrapper span.text-red{color:red}.tableWrapper span.text-green{color:green}.tableWrapper span.text-blue{color:#00f}.predict-dataset,.predict-dataset-metric,.predict-model-competing,.predict-model-paper,.predict-model-params,.predict-table-meta{outline:2px solid #9ecaed;border-radius:7px;box-shadow:0 0 10px #9ecaed}.tableWrapper .predict-model-params{background-color:#209cee;color:rgba(0,0,0,.7)}.tableWrapper .predict-table-meta{background-color:#fff3c5;color:rgba(0,0,0,.7)}.tableWrapper .predict-model-competing{background-color:#ffdd57;color:rgba(0,0,0,.7)}.tableWrapper .predict-model-paper{background-color:#ff3860;color:#fff}.tableWrapper .predict-dataset-metric{background-color:#209cee;color:#fff}.tableWrapper .predict-dataset{background-color:#02bd43;color:#fff}.tableWrapper td{border:inherit}.tableWrapper table tr td.border-l{border-left:1px solid #000}.tableWrapper table tr td.border-r{border-right:1px solid #000}.tableWrapper table tr td.border-t{border-top:1px solid #000}.tableWrapper table tr td.border-b{border-bottom:1px solid #000}.tableWrapper table tr td.border-ll{border-left:2px solid #000}.tableWrapper table tr td.border-rr{border-right:2px solid #000}.tableWrapper table tr td.border-tt{border-top:2px solid #000}.tableWrapper table tr td.border-bb{border-bottom:2px solid #000}.tableWrapper table tr td.align-left{text-align:left}.tableWrapper table tr td.align-right{text-align:right}.tableWrapper table tr td.align-center{text-align:center}.tableWrapper table tr td.align-justify{text-align:justify}div.form-group>input.form-control.input-sm{border-radius:2px;font-size:.75rem;background-color:#fff;color:#363636;box-shadow:inset 0 1px 2px rgba(10,10,10,.1);max-width:100%;width:100%;height:2.25em;padding:calc(.375em - 1px) calc(.625em - 1px);position:relative;border:1px solid #b5b5b5}div.form-group>input.form-control.input-sm:focus{border-color:#3273dc;box-shadow:0 0 0 .125em rgba(50,115,220,.25)}.ht_clone_top{z-index:20}.evaluation-tables{overflow:scroll;max-height:20vh;border-top:1px solid #a9a9a9}.navbar.is-fixed-bottom,.navbar.is-fixed-top{z-index:200}body{padding-bottom:20vh}\n",
       ".tableWrapper .final-proposal{ background: lightgreen }\n",
       "</style>\n",
       "\n",
       "<div class=\"tableWrapper\">\n",
       "<table>\n",
       "<tr>\n",
       "<td class=\" border-l border-r border-t align-center \" title=\"\">^<span class=\"text-italic\">vtβ</span>1,<span class=\"text-italic\">t</span></td>\n",
       "<td class=\" border-r border-t align-center \" title=\"\"><span class=\"text-italic\">β</span>1,<span class=\"text-italic\">t</span>=0</td>\n",
       "<td class=\" border-r border-t align-center \" title=\"\"><span class=\"text-italic\">β</span>1,<span class=\"text-italic\">t</span>≤<span class=\"text-italic\">β</span>1,<span class=\"text-italic\">t</span>−1 <span class=\"text-italic\">β</span>1,<span class=\"text-italic\">t</span>−−−→<span class=\"text-italic\">t</span>→∞<span class=\"text-italic\">b</span>≥0</td>\n",
       "<td class=\" border-r border-t align-center \" title=\"\"><span class=\"text-italic\">β</span>1,<span class=\"text-italic\">t</span>=<span class=\"text-italic\">β</span>1</td>\n",
       "</tr>\n",
       "<tr>\n",
       "<td class=\" border-l border-r border-t align-center \" title=\"\">^<span class=\"text-italic\">vt</span>=1</td>\n",
       "<td class=\" border-r border-t align-center \" title=\"\">SGD</td>\n",
       "<td class=\" border-r border-t align-center \" title=\"\">N/A∗</td>\n",
       "<td class=\" border-r border-t align-center \" title=\"\">Heavy-ball method</td>\n",
       "</tr>\n",
       "<tr>\n",
       "<td class=\" border-l border-r border-t align-center \" title=\"\">^<span class=\"text-italic\">vt</span>=1<span class=\"text-italic\">t</span>∑<span class=\"text-italic\">ti</span>=1<span class=\"text-italic\">g</span>2<span class=\"text-italic\">i</span></td>\n",
       "<td class=\" border-r border-t align-center \" title=\"\">AdaGrad</td>\n",
       "<td class=\" border-r border-t align-center \" title=\"\">AdaFom</td>\n",
       "<td class=\" border-r border-t align-center \" title=\"\">AdaFom</td>\n",
       "</tr>\n",
       "<tr>\n",
       "<td class=\" border-l border-r border-t align-center \" title=\"\"><span class=\"text-italic\">vt</span>=<span class=\"text-italic\">β</span>2<span class=\"text-italic\">vt</span>−1+(1−<span class=\"text-italic\">β</span>2)<span class=\"text-italic\">g</span>2<span class=\"text-italic\">t</span>, ^<span class=\"text-italic\">vt</span>=max(^<span class=\"text-italic\">vt</span>−1,<span class=\"text-italic\">vt</span>)</td>\n",
       "<td class=\" border-r border-t align-center \" title=\"\">AMSGrad</td>\n",
       "<td class=\" border-r border-t align-center \" title=\"\">AMSGrad</td>\n",
       "<td class=\" border-r border-t align-center \" title=\"\">AMSGrad</td>\n",
       "</tr>\n",
       "<tr>\n",
       "<td class=\" border-b border-l border-r border-t align-center \" title=\"\">^<span class=\"text-italic\">vt</span>=<span class=\"text-italic\">β</span>2^<span class=\"text-italic\">vt</span>−1+(1−<span class=\"text-italic\">β</span>2)<span class=\"text-italic\">g</span>2<span class=\"text-italic\">t</span></td>\n",
       "<td class=\" border-b border-r border-t align-center \" title=\"\">RMSProp</td>\n",
       "<td class=\" border-b border-r border-t align-center \" title=\"\">N/A</td>\n",
       "<td class=\" border-b border-r border-t align-center \" title=\"\">Adam</td>\n",
       "</tr>\n",
       "</table>\n",
       "</div>"
      ],
      "text/plain": [
       "<axcell.data.table.Table at 0x7f37efeccac8>"
      ]
     },
     "execution_count": 130,
     "metadata": {},
     "output_type": "execute_result"
    }
   ],
   "source": [
    "print(iclr_arxiv_map[\"2019_H1x-x309tm\"][\"arxivId\"])\n",
    "paper = pc.get_by_id(\"1808.02941v2\")\n",
    "!ls data/htmls/1808/1808.02941v2/\n",
    "!ls data/papers/1808/1808.02941v2/\n",
    "print(len(paper.tables))\n",
    "print(paper.tables[0].caption)\n",
    "paper.tables[0]"
   ]
  },
  {
   "cell_type": "code",
   "execution_count": 132,
   "metadata": {},
   "outputs": [
    {
     "name": "stdout",
     "output_type": "stream",
     "text": [
      "1704.02254v2\n",
      "index.html\n",
      "layout_01.csv  metadata.json  table_01.csv  text.json\n",
      "1\n",
      "(a) Graphical model representing (a) the recurrent structure used in Oh et al. (2015) and (b) our recurrent structure. Filled and empty nodes indicate observed and hidden variables respectively.\n"
     ]
    },
    {
     "data": {
      "text/html": [
       "<style>\n",
       "body{margin:0;padding:0;font-family:-apple-system,BlinkMacSystemFont,Segoe UI,Roboto,Oxygen,Ubuntu,Cantarell,Fira Sans,Droid Sans,Helvetica Neue,sans-serif;-webkit-font-smoothing:antialiased;-moz-osx-font-smoothing:grayscale}code{font-family:source-code-pro,Menlo,Monaco,Consolas,Courier New,monospace}.tableWrapper{-overflow:auto}.tableWrapper .has-annotations{color:#ff3860}.tableWrapper .model-params{background-color:#209cee;color:rgba(0,0,0,.7)}.tableWrapper .table-meta{background-color:#fff3c5;color:rgba(0,0,0,.7)}.tableWrapper .model-best{background-color:#ff3860;color:rgba(0,0,0,.7)}.tableWrapper .model-ensemble{background-color: #aa38ff;color: #fff;}.tableWrapper .model-competing{background-color:#ffdd57;color:rgba(0,0,0,.7)}.tableWrapper .model-paper{background-color:#ff3860;color:#fff}.tableWrapper .dataset-sub{background-color:#23d160;color:#fff}.tableWrapper .dataset-metric{background-color:#209cee;color:#fff}.tableWrapper .dataset{background-color:#02bd43;color:#fff}.tableWrapper .trash{background-color:#363636;color:#f5f5f5}.tableWrapper .wtf{background-color:#f0f;color:#f5f5f5}.tableWrapper .dataset-task{background-color:#77ecdd;color:rgba(0,0,0,.7)}.tableWrapper .dataset-paper{background-color:#e4ffee;color:rgba(0,0,0,.7)}.tableWrapper td.focused-cell{outline:2px solid #9ecaed;border-radius:7px;box-shadow:0 0 10px #9ecaed}.tableWrapper span.text-bold{font-weight:700}.tableWrapper span.text-italic{font-style:italic}.tableWrapper span.text-red{color:red}.tableWrapper span.text-green{color:green}.tableWrapper span.text-blue{color:#00f}.predict-dataset,.predict-dataset-metric,.predict-model-competing,.predict-model-paper,.predict-model-params,.predict-table-meta{outline:2px solid #9ecaed;border-radius:7px;box-shadow:0 0 10px #9ecaed}.tableWrapper .predict-model-params{background-color:#209cee;color:rgba(0,0,0,.7)}.tableWrapper .predict-table-meta{background-color:#fff3c5;color:rgba(0,0,0,.7)}.tableWrapper .predict-model-competing{background-color:#ffdd57;color:rgba(0,0,0,.7)}.tableWrapper .predict-model-paper{background-color:#ff3860;color:#fff}.tableWrapper .predict-dataset-metric{background-color:#209cee;color:#fff}.tableWrapper .predict-dataset{background-color:#02bd43;color:#fff}.tableWrapper td{border:inherit}.tableWrapper table tr td.border-l{border-left:1px solid #000}.tableWrapper table tr td.border-r{border-right:1px solid #000}.tableWrapper table tr td.border-t{border-top:1px solid #000}.tableWrapper table tr td.border-b{border-bottom:1px solid #000}.tableWrapper table tr td.border-ll{border-left:2px solid #000}.tableWrapper table tr td.border-rr{border-right:2px solid #000}.tableWrapper table tr td.border-tt{border-top:2px solid #000}.tableWrapper table tr td.border-bb{border-bottom:2px solid #000}.tableWrapper table tr td.align-left{text-align:left}.tableWrapper table tr td.align-right{text-align:right}.tableWrapper table tr td.align-center{text-align:center}.tableWrapper table tr td.align-justify{text-align:justify}div.form-group>input.form-control.input-sm{border-radius:2px;font-size:.75rem;background-color:#fff;color:#363636;box-shadow:inset 0 1px 2px rgba(10,10,10,.1);max-width:100%;width:100%;height:2.25em;padding:calc(.375em - 1px) calc(.625em - 1px);position:relative;border:1px solid #b5b5b5}div.form-group>input.form-control.input-sm:focus{border-color:#3273dc;box-shadow:0 0 0 .125em rgba(50,115,220,.25)}.ht_clone_top{z-index:20}.evaluation-tables{overflow:scroll;max-height:20vh;border-top:1px solid #a9a9a9}.navbar.is-fixed-bottom,.navbar.is-fixed-top{z-index:200}body{padding-bottom:20vh}\n",
       ".tableWrapper .final-proposal{ background: lightgreen }\n",
       "</style>\n",
       "\n",
       "<div class=\"tableWrapper\">\n",
       "<table>\n",
       "<tr>\n",
       "<td class=\" border-tt align-left header \" title=\"\">Game Name</td>\n",
       "<td class=\" border-tt align-left header \" title=\"\">DQN Score</td>\n",
       "</tr>\n",
       "<tr>\n",
       "<td class=\" border-t align-left \" title=\"\">Bowling</td>\n",
       "<td class=\" border-t align-left \" title=\"\">51.84</td>\n",
       "</tr>\n",
       "<tr>\n",
       "<td class=\" align-left \" title=\"\">Breakout</td>\n",
       "<td class=\" align-left \" title=\"\">396.25</td>\n",
       "</tr>\n",
       "<tr>\n",
       "<td class=\" align-left \" title=\"\">Fishing Derby</td>\n",
       "<td class=\" align-left \" title=\"\">19.30</td>\n",
       "</tr>\n",
       "<tr>\n",
       "<td class=\" align-left \" title=\"\">Freeway</td>\n",
       "<td class=\" align-left \" title=\"\">33.38</td>\n",
       "</tr>\n",
       "<tr>\n",
       "<td class=\" align-left \" title=\"\">Ms Pacman</td>\n",
       "<td class=\" align-left \" title=\"\">2963.31</td>\n",
       "</tr>\n",
       "<tr>\n",
       "<td class=\" align-left \" title=\"\">Pong</td>\n",
       "<td class=\" align-left \" title=\"\">20.88</td>\n",
       "</tr>\n",
       "<tr>\n",
       "<td class=\" align-left \" title=\"\">Qbert</td>\n",
       "<td class=\" align-left \" title=\"\">14,865.43</td>\n",
       "</tr>\n",
       "<tr>\n",
       "<td class=\" align-left \" title=\"\">Riverraid</td>\n",
       "<td class=\" align-left \" title=\"\">13,593.49</td>\n",
       "</tr>\n",
       "<tr>\n",
       "<td class=\" align-left \" title=\"\">Seaquest</td>\n",
       "<td class=\" align-left \" title=\"\">17,250.31</td>\n",
       "</tr>\n",
       "<tr>\n",
       "<td class=\" border-bb align-left \" title=\"\">Space Invaders</td>\n",
       "<td class=\" border-bb align-left \" title=\"\">2952.09</td>\n",
       "</tr>\n",
       "</table>\n",
       "</div>"
      ],
      "text/plain": [
       "<axcell.data.table.Table at 0x7f37eb2a60b8>"
      ]
     },
     "execution_count": 132,
     "metadata": {},
     "output_type": "execute_result"
    }
   ],
   "source": [
    "print(iclr_arxiv_map[\"2017_B1s6xvqlx\"][\"arxivId\"])\n",
    "paper = pc.get_by_id(\"1704.02254v2\")\n",
    "!ls data/htmls/1704/1704.02254v2/\n",
    "!ls data/papers/1704/1704.02254v2/\n",
    "print(len(paper.tables))\n",
    "print(paper.tables[0].caption)\n",
    "paper.tables[0]"
   ]
  },
  {
   "cell_type": "markdown",
   "metadata": {},
   "source": [
    "#### 1.2 Add table type for missed papers "
   ]
  },
  {
   "cell_type": "code",
   "execution_count": 148,
   "metadata": {
    "collapsed": true
   },
   "outputs": [
    {
     "data": {
      "text/html": [],
      "text/plain": [
       "<IPython.core.display.HTML object>"
      ]
     },
     "metadata": {},
     "output_type": "display_data"
    },
    {
     "data": {
      "text/html": [],
      "text/plain": [
       "<IPython.core.display.HTML object>"
      ]
     },
     "metadata": {},
     "output_type": "display_data"
    },
    {
     "data": {
      "text/html": [],
      "text/plain": [
       "<IPython.core.display.HTML object>"
      ]
     },
     "metadata": {},
     "output_type": "display_data"
    },
    {
     "data": {
      "text/html": [],
      "text/plain": [
       "<IPython.core.display.HTML object>"
      ]
     },
     "metadata": {},
     "output_type": "display_data"
    },
    {
     "data": {
      "text/html": [],
      "text/plain": [
       "<IPython.core.display.HTML object>"
      ]
     },
     "metadata": {},
     "output_type": "display_data"
    },
    {
     "data": {
      "text/html": [],
      "text/plain": [
       "<IPython.core.display.HTML object>"
      ]
     },
     "metadata": {},
     "output_type": "display_data"
    },
    {
     "data": {
      "text/html": [],
      "text/plain": [
       "<IPython.core.display.HTML object>"
      ]
     },
     "metadata": {},
     "output_type": "display_data"
    },
    {
     "data": {
      "text/html": [],
      "text/plain": [
       "<IPython.core.display.HTML object>"
      ]
     },
     "metadata": {},
     "output_type": "display_data"
    },
    {
     "data": {
      "text/html": [],
      "text/plain": [
       "<IPython.core.display.HTML object>"
      ]
     },
     "metadata": {},
     "output_type": "display_data"
    },
    {
     "data": {
      "text/html": [],
      "text/plain": [
       "<IPython.core.display.HTML object>"
      ]
     },
     "metadata": {},
     "output_type": "display_data"
    },
    {
     "data": {
      "text/html": [],
      "text/plain": [
       "<IPython.core.display.HTML object>"
      ]
     },
     "metadata": {},
     "output_type": "display_data"
    },
    {
     "data": {
      "text/html": [],
      "text/plain": [
       "<IPython.core.display.HTML object>"
      ]
     },
     "metadata": {},
     "output_type": "display_data"
    },
    {
     "data": {
      "text/html": [],
      "text/plain": [
       "<IPython.core.display.HTML object>"
      ]
     },
     "metadata": {},
     "output_type": "display_data"
    },
    {
     "data": {
      "text/html": [],
      "text/plain": [
       "<IPython.core.display.HTML object>"
      ]
     },
     "metadata": {},
     "output_type": "display_data"
    },
    {
     "data": {
      "text/html": [],
      "text/plain": [
       "<IPython.core.display.HTML object>"
      ]
     },
     "metadata": {},
     "output_type": "display_data"
    },
    {
     "data": {
      "text/html": [],
      "text/plain": [
       "<IPython.core.display.HTML object>"
      ]
     },
     "metadata": {},
     "output_type": "display_data"
    },
    {
     "data": {
      "text/html": [],
      "text/plain": [
       "<IPython.core.display.HTML object>"
      ]
     },
     "metadata": {},
     "output_type": "display_data"
    },
    {
     "data": {
      "text/html": [],
      "text/plain": [
       "<IPython.core.display.HTML object>"
      ]
     },
     "metadata": {},
     "output_type": "display_data"
    },
    {
     "data": {
      "text/html": [],
      "text/plain": [
       "<IPython.core.display.HTML object>"
      ]
     },
     "metadata": {},
     "output_type": "display_data"
    },
    {
     "data": {
      "text/html": [],
      "text/plain": [
       "<IPython.core.display.HTML object>"
      ]
     },
     "metadata": {},
     "output_type": "display_data"
    },
    {
     "data": {
      "text/html": [],
      "text/plain": [
       "<IPython.core.display.HTML object>"
      ]
     },
     "metadata": {},
     "output_type": "display_data"
    },
    {
     "data": {
      "text/html": [],
      "text/plain": [
       "<IPython.core.display.HTML object>"
      ]
     },
     "metadata": {},
     "output_type": "display_data"
    },
    {
     "data": {
      "text/html": [],
      "text/plain": [
       "<IPython.core.display.HTML object>"
      ]
     },
     "metadata": {},
     "output_type": "display_data"
    },
    {
     "data": {
      "text/html": [],
      "text/plain": [
       "<IPython.core.display.HTML object>"
      ]
     },
     "metadata": {},
     "output_type": "display_data"
    },
    {
     "data": {
      "text/html": [],
      "text/plain": [
       "<IPython.core.display.HTML object>"
      ]
     },
     "metadata": {},
     "output_type": "display_data"
    },
    {
     "data": {
      "text/html": [],
      "text/plain": [
       "<IPython.core.display.HTML object>"
      ]
     },
     "metadata": {},
     "output_type": "display_data"
    },
    {
     "data": {
      "text/html": [],
      "text/plain": [
       "<IPython.core.display.HTML object>"
      ]
     },
     "metadata": {},
     "output_type": "display_data"
    },
    {
     "data": {
      "text/html": [],
      "text/plain": [
       "<IPython.core.display.HTML object>"
      ]
     },
     "metadata": {},
     "output_type": "display_data"
    },
    {
     "data": {
      "text/html": [],
      "text/plain": [
       "<IPython.core.display.HTML object>"
      ]
     },
     "metadata": {},
     "output_type": "display_data"
    },
    {
     "data": {
      "text/html": [],
      "text/plain": [
       "<IPython.core.display.HTML object>"
      ]
     },
     "metadata": {},
     "output_type": "display_data"
    },
    {
     "data": {
      "text/html": [],
      "text/plain": [
       "<IPython.core.display.HTML object>"
      ]
     },
     "metadata": {},
     "output_type": "display_data"
    },
    {
     "data": {
      "text/html": [],
      "text/plain": [
       "<IPython.core.display.HTML object>"
      ]
     },
     "metadata": {},
     "output_type": "display_data"
    },
    {
     "data": {
      "text/html": [],
      "text/plain": [
       "<IPython.core.display.HTML object>"
      ]
     },
     "metadata": {},
     "output_type": "display_data"
    },
    {
     "data": {
      "text/html": [],
      "text/plain": [
       "<IPython.core.display.HTML object>"
      ]
     },
     "metadata": {},
     "output_type": "display_data"
    },
    {
     "data": {
      "text/html": [],
      "text/plain": [
       "<IPython.core.display.HTML object>"
      ]
     },
     "metadata": {},
     "output_type": "display_data"
    },
    {
     "data": {
      "text/html": [],
      "text/plain": [
       "<IPython.core.display.HTML object>"
      ]
     },
     "metadata": {},
     "output_type": "display_data"
    },
    {
     "data": {
      "text/html": [],
      "text/plain": [
       "<IPython.core.display.HTML object>"
      ]
     },
     "metadata": {},
     "output_type": "display_data"
    },
    {
     "data": {
      "text/html": [],
      "text/plain": [
       "<IPython.core.display.HTML object>"
      ]
     },
     "metadata": {},
     "output_type": "display_data"
    },
    {
     "data": {
      "text/html": [],
      "text/plain": [
       "<IPython.core.display.HTML object>"
      ]
     },
     "metadata": {},
     "output_type": "display_data"
    },
    {
     "data": {
      "text/html": [],
      "text/plain": [
       "<IPython.core.display.HTML object>"
      ]
     },
     "metadata": {},
     "output_type": "display_data"
    },
    {
     "data": {
      "text/html": [],
      "text/plain": [
       "<IPython.core.display.HTML object>"
      ]
     },
     "metadata": {},
     "output_type": "display_data"
    },
    {
     "data": {
      "text/html": [],
      "text/plain": [
       "<IPython.core.display.HTML object>"
      ]
     },
     "metadata": {},
     "output_type": "display_data"
    },
    {
     "data": {
      "text/html": [],
      "text/plain": [
       "<IPython.core.display.HTML object>"
      ]
     },
     "metadata": {},
     "output_type": "display_data"
    },
    {
     "data": {
      "text/html": [],
      "text/plain": [
       "<IPython.core.display.HTML object>"
      ]
     },
     "metadata": {},
     "output_type": "display_data"
    },
    {
     "data": {
      "text/html": [],
      "text/plain": [
       "<IPython.core.display.HTML object>"
      ]
     },
     "metadata": {},
     "output_type": "display_data"
    },
    {
     "data": {
      "text/html": [],
      "text/plain": [
       "<IPython.core.display.HTML object>"
      ]
     },
     "metadata": {},
     "output_type": "display_data"
    },
    {
     "data": {
      "text/html": [],
      "text/plain": [
       "<IPython.core.display.HTML object>"
      ]
     },
     "metadata": {},
     "output_type": "display_data"
    },
    {
     "data": {
      "text/html": [],
      "text/plain": [
       "<IPython.core.display.HTML object>"
      ]
     },
     "metadata": {},
     "output_type": "display_data"
    },
    {
     "data": {
      "text/html": [],
      "text/plain": [
       "<IPython.core.display.HTML object>"
      ]
     },
     "metadata": {},
     "output_type": "display_data"
    },
    {
     "data": {
      "text/html": [],
      "text/plain": [
       "<IPython.core.display.HTML object>"
      ]
     },
     "metadata": {},
     "output_type": "display_data"
    },
    {
     "data": {
      "text/html": [],
      "text/plain": [
       "<IPython.core.display.HTML object>"
      ]
     },
     "metadata": {},
     "output_type": "display_data"
    },
    {
     "data": {
      "text/html": [],
      "text/plain": [
       "<IPython.core.display.HTML object>"
      ]
     },
     "metadata": {},
     "output_type": "display_data"
    },
    {
     "data": {
      "text/html": [],
      "text/plain": [
       "<IPython.core.display.HTML object>"
      ]
     },
     "metadata": {},
     "output_type": "display_data"
    },
    {
     "data": {
      "text/html": [],
      "text/plain": [
       "<IPython.core.display.HTML object>"
      ]
     },
     "metadata": {},
     "output_type": "display_data"
    },
    {
     "data": {
      "text/html": [],
      "text/plain": [
       "<IPython.core.display.HTML object>"
      ]
     },
     "metadata": {},
     "output_type": "display_data"
    },
    {
     "data": {
      "text/html": [],
      "text/plain": [
       "<IPython.core.display.HTML object>"
      ]
     },
     "metadata": {},
     "output_type": "display_data"
    },
    {
     "data": {
      "text/html": [],
      "text/plain": [
       "<IPython.core.display.HTML object>"
      ]
     },
     "metadata": {},
     "output_type": "display_data"
    },
    {
     "data": {
      "text/html": [],
      "text/plain": [
       "<IPython.core.display.HTML object>"
      ]
     },
     "metadata": {},
     "output_type": "display_data"
    },
    {
     "data": {
      "text/html": [],
      "text/plain": [
       "<IPython.core.display.HTML object>"
      ]
     },
     "metadata": {},
     "output_type": "display_data"
    },
    {
     "data": {
      "text/html": [],
      "text/plain": [
       "<IPython.core.display.HTML object>"
      ]
     },
     "metadata": {},
     "output_type": "display_data"
    },
    {
     "data": {
      "text/html": [],
      "text/plain": [
       "<IPython.core.display.HTML object>"
      ]
     },
     "metadata": {},
     "output_type": "display_data"
    },
    {
     "data": {
      "text/html": [],
      "text/plain": [
       "<IPython.core.display.HTML object>"
      ]
     },
     "metadata": {},
     "output_type": "display_data"
    },
    {
     "data": {
      "text/html": [],
      "text/plain": [
       "<IPython.core.display.HTML object>"
      ]
     },
     "metadata": {},
     "output_type": "display_data"
    },
    {
     "data": {
      "text/html": [],
      "text/plain": [
       "<IPython.core.display.HTML object>"
      ]
     },
     "metadata": {},
     "output_type": "display_data"
    },
    {
     "data": {
      "text/html": [],
      "text/plain": [
       "<IPython.core.display.HTML object>"
      ]
     },
     "metadata": {},
     "output_type": "display_data"
    },
    {
     "data": {
      "text/html": [],
      "text/plain": [
       "<IPython.core.display.HTML object>"
      ]
     },
     "metadata": {},
     "output_type": "display_data"
    },
    {
     "data": {
      "text/html": [],
      "text/plain": [
       "<IPython.core.display.HTML object>"
      ]
     },
     "metadata": {},
     "output_type": "display_data"
    },
    {
     "data": {
      "text/html": [],
      "text/plain": [
       "<IPython.core.display.HTML object>"
      ]
     },
     "metadata": {},
     "output_type": "display_data"
    },
    {
     "data": {
      "text/html": [],
      "text/plain": [
       "<IPython.core.display.HTML object>"
      ]
     },
     "metadata": {},
     "output_type": "display_data"
    },
    {
     "data": {
      "text/html": [],
      "text/plain": [
       "<IPython.core.display.HTML object>"
      ]
     },
     "metadata": {},
     "output_type": "display_data"
    },
    {
     "data": {
      "text/html": [],
      "text/plain": [
       "<IPython.core.display.HTML object>"
      ]
     },
     "metadata": {},
     "output_type": "display_data"
    },
    {
     "data": {
      "text/html": [],
      "text/plain": [
       "<IPython.core.display.HTML object>"
      ]
     },
     "metadata": {},
     "output_type": "display_data"
    },
    {
     "data": {
      "text/html": [],
      "text/plain": [
       "<IPython.core.display.HTML object>"
      ]
     },
     "metadata": {},
     "output_type": "display_data"
    },
    {
     "data": {
      "text/html": [],
      "text/plain": [
       "<IPython.core.display.HTML object>"
      ]
     },
     "metadata": {},
     "output_type": "display_data"
    },
    {
     "data": {
      "text/html": [],
      "text/plain": [
       "<IPython.core.display.HTML object>"
      ]
     },
     "metadata": {},
     "output_type": "display_data"
    },
    {
     "data": {
      "text/html": [],
      "text/plain": [
       "<IPython.core.display.HTML object>"
      ]
     },
     "metadata": {},
     "output_type": "display_data"
    },
    {
     "data": {
      "text/html": [],
      "text/plain": [
       "<IPython.core.display.HTML object>"
      ]
     },
     "metadata": {},
     "output_type": "display_data"
    },
    {
     "data": {
      "text/html": [],
      "text/plain": [
       "<IPython.core.display.HTML object>"
      ]
     },
     "metadata": {},
     "output_type": "display_data"
    },
    {
     "data": {
      "text/html": [],
      "text/plain": [
       "<IPython.core.display.HTML object>"
      ]
     },
     "metadata": {},
     "output_type": "display_data"
    },
    {
     "data": {
      "text/html": [],
      "text/plain": [
       "<IPython.core.display.HTML object>"
      ]
     },
     "metadata": {},
     "output_type": "display_data"
    },
    {
     "data": {
      "text/html": [],
      "text/plain": [
       "<IPython.core.display.HTML object>"
      ]
     },
     "metadata": {},
     "output_type": "display_data"
    },
    {
     "data": {
      "text/html": [],
      "text/plain": [
       "<IPython.core.display.HTML object>"
      ]
     },
     "metadata": {},
     "output_type": "display_data"
    },
    {
     "data": {
      "text/html": [],
      "text/plain": [
       "<IPython.core.display.HTML object>"
      ]
     },
     "metadata": {},
     "output_type": "display_data"
    },
    {
     "data": {
      "text/html": [],
      "text/plain": [
       "<IPython.core.display.HTML object>"
      ]
     },
     "metadata": {},
     "output_type": "display_data"
    },
    {
     "data": {
      "text/html": [],
      "text/plain": [
       "<IPython.core.display.HTML object>"
      ]
     },
     "metadata": {},
     "output_type": "display_data"
    },
    {
     "data": {
      "text/html": [],
      "text/plain": [
       "<IPython.core.display.HTML object>"
      ]
     },
     "metadata": {},
     "output_type": "display_data"
    },
    {
     "data": {
      "text/html": [],
      "text/plain": [
       "<IPython.core.display.HTML object>"
      ]
     },
     "metadata": {},
     "output_type": "display_data"
    },
    {
     "data": {
      "text/html": [],
      "text/plain": [
       "<IPython.core.display.HTML object>"
      ]
     },
     "metadata": {},
     "output_type": "display_data"
    },
    {
     "data": {
      "text/html": [],
      "text/plain": [
       "<IPython.core.display.HTML object>"
      ]
     },
     "metadata": {},
     "output_type": "display_data"
    },
    {
     "data": {
      "text/html": [],
      "text/plain": [
       "<IPython.core.display.HTML object>"
      ]
     },
     "metadata": {},
     "output_type": "display_data"
    },
    {
     "data": {
      "text/html": [],
      "text/plain": [
       "<IPython.core.display.HTML object>"
      ]
     },
     "metadata": {},
     "output_type": "display_data"
    },
    {
     "data": {
      "text/html": [],
      "text/plain": [
       "<IPython.core.display.HTML object>"
      ]
     },
     "metadata": {},
     "output_type": "display_data"
    },
    {
     "data": {
      "text/html": [],
      "text/plain": [
       "<IPython.core.display.HTML object>"
      ]
     },
     "metadata": {},
     "output_type": "display_data"
    },
    {
     "data": {
      "text/html": [],
      "text/plain": [
       "<IPython.core.display.HTML object>"
      ]
     },
     "metadata": {},
     "output_type": "display_data"
    },
    {
     "data": {
      "text/html": [],
      "text/plain": [
       "<IPython.core.display.HTML object>"
      ]
     },
     "metadata": {},
     "output_type": "display_data"
    },
    {
     "data": {
      "text/html": [],
      "text/plain": [
       "<IPython.core.display.HTML object>"
      ]
     },
     "metadata": {},
     "output_type": "display_data"
    },
    {
     "data": {
      "text/html": [],
      "text/plain": [
       "<IPython.core.display.HTML object>"
      ]
     },
     "metadata": {},
     "output_type": "display_data"
    },
    {
     "data": {
      "text/html": [],
      "text/plain": [
       "<IPython.core.display.HTML object>"
      ]
     },
     "metadata": {},
     "output_type": "display_data"
    },
    {
     "data": {
      "text/html": [],
      "text/plain": [
       "<IPython.core.display.HTML object>"
      ]
     },
     "metadata": {},
     "output_type": "display_data"
    },
    {
     "data": {
      "text/html": [],
      "text/plain": [
       "<IPython.core.display.HTML object>"
      ]
     },
     "metadata": {},
     "output_type": "display_data"
    },
    {
     "data": {
      "text/html": [],
      "text/plain": [
       "<IPython.core.display.HTML object>"
      ]
     },
     "metadata": {},
     "output_type": "display_data"
    },
    {
     "data": {
      "text/html": [],
      "text/plain": [
       "<IPython.core.display.HTML object>"
      ]
     },
     "metadata": {},
     "output_type": "display_data"
    },
    {
     "data": {
      "text/html": [],
      "text/plain": [
       "<IPython.core.display.HTML object>"
      ]
     },
     "metadata": {},
     "output_type": "display_data"
    },
    {
     "data": {
      "text/html": [],
      "text/plain": [
       "<IPython.core.display.HTML object>"
      ]
     },
     "metadata": {},
     "output_type": "display_data"
    },
    {
     "data": {
      "text/html": [],
      "text/plain": [
       "<IPython.core.display.HTML object>"
      ]
     },
     "metadata": {},
     "output_type": "display_data"
    },
    {
     "data": {
      "text/html": [],
      "text/plain": [
       "<IPython.core.display.HTML object>"
      ]
     },
     "metadata": {},
     "output_type": "display_data"
    },
    {
     "data": {
      "text/html": [],
      "text/plain": [
       "<IPython.core.display.HTML object>"
      ]
     },
     "metadata": {},
     "output_type": "display_data"
    },
    {
     "data": {
      "text/html": [],
      "text/plain": [
       "<IPython.core.display.HTML object>"
      ]
     },
     "metadata": {},
     "output_type": "display_data"
    },
    {
     "data": {
      "text/html": [],
      "text/plain": [
       "<IPython.core.display.HTML object>"
      ]
     },
     "metadata": {},
     "output_type": "display_data"
    },
    {
     "data": {
      "text/html": [],
      "text/plain": [
       "<IPython.core.display.HTML object>"
      ]
     },
     "metadata": {},
     "output_type": "display_data"
    },
    {
     "data": {
      "text/html": [],
      "text/plain": [
       "<IPython.core.display.HTML object>"
      ]
     },
     "metadata": {},
     "output_type": "display_data"
    },
    {
     "data": {
      "text/html": [],
      "text/plain": [
       "<IPython.core.display.HTML object>"
      ]
     },
     "metadata": {},
     "output_type": "display_data"
    },
    {
     "data": {
      "text/html": [],
      "text/plain": [
       "<IPython.core.display.HTML object>"
      ]
     },
     "metadata": {},
     "output_type": "display_data"
    },
    {
     "data": {
      "text/html": [],
      "text/plain": [
       "<IPython.core.display.HTML object>"
      ]
     },
     "metadata": {},
     "output_type": "display_data"
    },
    {
     "data": {
      "text/html": [],
      "text/plain": [
       "<IPython.core.display.HTML object>"
      ]
     },
     "metadata": {},
     "output_type": "display_data"
    },
    {
     "data": {
      "text/html": [],
      "text/plain": [
       "<IPython.core.display.HTML object>"
      ]
     },
     "metadata": {},
     "output_type": "display_data"
    },
    {
     "data": {
      "text/html": [],
      "text/plain": [
       "<IPython.core.display.HTML object>"
      ]
     },
     "metadata": {},
     "output_type": "display_data"
    },
    {
     "data": {
      "text/html": [],
      "text/plain": [
       "<IPython.core.display.HTML object>"
      ]
     },
     "metadata": {},
     "output_type": "display_data"
    },
    {
     "data": {
      "text/html": [],
      "text/plain": [
       "<IPython.core.display.HTML object>"
      ]
     },
     "metadata": {},
     "output_type": "display_data"
    },
    {
     "data": {
      "text/html": [],
      "text/plain": [
       "<IPython.core.display.HTML object>"
      ]
     },
     "metadata": {},
     "output_type": "display_data"
    },
    {
     "data": {
      "text/html": [],
      "text/plain": [
       "<IPython.core.display.HTML object>"
      ]
     },
     "metadata": {},
     "output_type": "display_data"
    },
    {
     "data": {
      "text/html": [],
      "text/plain": [
       "<IPython.core.display.HTML object>"
      ]
     },
     "metadata": {},
     "output_type": "display_data"
    },
    {
     "data": {
      "text/html": [],
      "text/plain": [
       "<IPython.core.display.HTML object>"
      ]
     },
     "metadata": {},
     "output_type": "display_data"
    },
    {
     "data": {
      "text/html": [],
      "text/plain": [
       "<IPython.core.display.HTML object>"
      ]
     },
     "metadata": {},
     "output_type": "display_data"
    },
    {
     "data": {
      "text/html": [],
      "text/plain": [
       "<IPython.core.display.HTML object>"
      ]
     },
     "metadata": {},
     "output_type": "display_data"
    },
    {
     "data": {
      "text/html": [],
      "text/plain": [
       "<IPython.core.display.HTML object>"
      ]
     },
     "metadata": {},
     "output_type": "display_data"
    },
    {
     "data": {
      "text/html": [],
      "text/plain": [
       "<IPython.core.display.HTML object>"
      ]
     },
     "metadata": {},
     "output_type": "display_data"
    },
    {
     "data": {
      "text/html": [],
      "text/plain": [
       "<IPython.core.display.HTML object>"
      ]
     },
     "metadata": {},
     "output_type": "display_data"
    },
    {
     "data": {
      "text/html": [],
      "text/plain": [
       "<IPython.core.display.HTML object>"
      ]
     },
     "metadata": {},
     "output_type": "display_data"
    },
    {
     "data": {
      "text/html": [],
      "text/plain": [
       "<IPython.core.display.HTML object>"
      ]
     },
     "metadata": {},
     "output_type": "display_data"
    },
    {
     "data": {
      "text/html": [],
      "text/plain": [
       "<IPython.core.display.HTML object>"
      ]
     },
     "metadata": {},
     "output_type": "display_data"
    },
    {
     "data": {
      "text/html": [],
      "text/plain": [
       "<IPython.core.display.HTML object>"
      ]
     },
     "metadata": {},
     "output_type": "display_data"
    },
    {
     "data": {
      "text/html": [],
      "text/plain": [
       "<IPython.core.display.HTML object>"
      ]
     },
     "metadata": {},
     "output_type": "display_data"
    },
    {
     "data": {
      "text/html": [],
      "text/plain": [
       "<IPython.core.display.HTML object>"
      ]
     },
     "metadata": {},
     "output_type": "display_data"
    },
    {
     "data": {
      "text/html": [],
      "text/plain": [
       "<IPython.core.display.HTML object>"
      ]
     },
     "metadata": {},
     "output_type": "display_data"
    },
    {
     "data": {
      "text/html": [],
      "text/plain": [
       "<IPython.core.display.HTML object>"
      ]
     },
     "metadata": {},
     "output_type": "display_data"
    },
    {
     "data": {
      "text/html": [],
      "text/plain": [
       "<IPython.core.display.HTML object>"
      ]
     },
     "metadata": {},
     "output_type": "display_data"
    },
    {
     "data": {
      "text/html": [],
      "text/plain": [
       "<IPython.core.display.HTML object>"
      ]
     },
     "metadata": {},
     "output_type": "display_data"
    },
    {
     "data": {
      "text/html": [],
      "text/plain": [
       "<IPython.core.display.HTML object>"
      ]
     },
     "metadata": {},
     "output_type": "display_data"
    },
    {
     "data": {
      "text/html": [],
      "text/plain": [
       "<IPython.core.display.HTML object>"
      ]
     },
     "metadata": {},
     "output_type": "display_data"
    },
    {
     "data": {
      "text/html": [],
      "text/plain": [
       "<IPython.core.display.HTML object>"
      ]
     },
     "metadata": {},
     "output_type": "display_data"
    },
    {
     "data": {
      "text/html": [],
      "text/plain": [
       "<IPython.core.display.HTML object>"
      ]
     },
     "metadata": {},
     "output_type": "display_data"
    },
    {
     "data": {
      "text/html": [],
      "text/plain": [
       "<IPython.core.display.HTML object>"
      ]
     },
     "metadata": {},
     "output_type": "display_data"
    },
    {
     "data": {
      "text/html": [],
      "text/plain": [
       "<IPython.core.display.HTML object>"
      ]
     },
     "metadata": {},
     "output_type": "display_data"
    },
    {
     "data": {
      "text/html": [],
      "text/plain": [
       "<IPython.core.display.HTML object>"
      ]
     },
     "metadata": {},
     "output_type": "display_data"
    },
    {
     "data": {
      "text/html": [],
      "text/plain": [
       "<IPython.core.display.HTML object>"
      ]
     },
     "metadata": {},
     "output_type": "display_data"
    },
    {
     "data": {
      "text/html": [],
      "text/plain": [
       "<IPython.core.display.HTML object>"
      ]
     },
     "metadata": {},
     "output_type": "display_data"
    },
    {
     "data": {
      "text/html": [],
      "text/plain": [
       "<IPython.core.display.HTML object>"
      ]
     },
     "metadata": {},
     "output_type": "display_data"
    },
    {
     "data": {
      "text/html": [],
      "text/plain": [
       "<IPython.core.display.HTML object>"
      ]
     },
     "metadata": {},
     "output_type": "display_data"
    },
    {
     "data": {
      "text/html": [],
      "text/plain": [
       "<IPython.core.display.HTML object>"
      ]
     },
     "metadata": {},
     "output_type": "display_data"
    },
    {
     "data": {
      "text/html": [],
      "text/plain": [
       "<IPython.core.display.HTML object>"
      ]
     },
     "metadata": {},
     "output_type": "display_data"
    },
    {
     "data": {
      "text/html": [],
      "text/plain": [
       "<IPython.core.display.HTML object>"
      ]
     },
     "metadata": {},
     "output_type": "display_data"
    },
    {
     "data": {
      "text/html": [],
      "text/plain": [
       "<IPython.core.display.HTML object>"
      ]
     },
     "metadata": {},
     "output_type": "display_data"
    },
    {
     "data": {
      "text/html": [],
      "text/plain": [
       "<IPython.core.display.HTML object>"
      ]
     },
     "metadata": {},
     "output_type": "display_data"
    },
    {
     "data": {
      "text/html": [],
      "text/plain": [
       "<IPython.core.display.HTML object>"
      ]
     },
     "metadata": {},
     "output_type": "display_data"
    },
    {
     "data": {
      "text/html": [],
      "text/plain": [
       "<IPython.core.display.HTML object>"
      ]
     },
     "metadata": {},
     "output_type": "display_data"
    },
    {
     "data": {
      "text/html": [],
      "text/plain": [
       "<IPython.core.display.HTML object>"
      ]
     },
     "metadata": {},
     "output_type": "display_data"
    },
    {
     "data": {
      "text/html": [],
      "text/plain": [
       "<IPython.core.display.HTML object>"
      ]
     },
     "metadata": {},
     "output_type": "display_data"
    },
    {
     "data": {
      "text/html": [],
      "text/plain": [
       "<IPython.core.display.HTML object>"
      ]
     },
     "metadata": {},
     "output_type": "display_data"
    },
    {
     "data": {
      "text/html": [],
      "text/plain": [
       "<IPython.core.display.HTML object>"
      ]
     },
     "metadata": {},
     "output_type": "display_data"
    },
    {
     "data": {
      "text/html": [],
      "text/plain": [
       "<IPython.core.display.HTML object>"
      ]
     },
     "metadata": {},
     "output_type": "display_data"
    },
    {
     "data": {
      "text/html": [],
      "text/plain": [
       "<IPython.core.display.HTML object>"
      ]
     },
     "metadata": {},
     "output_type": "display_data"
    },
    {
     "data": {
      "text/html": [],
      "text/plain": [
       "<IPython.core.display.HTML object>"
      ]
     },
     "metadata": {},
     "output_type": "display_data"
    },
    {
     "data": {
      "text/html": [],
      "text/plain": [
       "<IPython.core.display.HTML object>"
      ]
     },
     "metadata": {},
     "output_type": "display_data"
    },
    {
     "data": {
      "text/html": [],
      "text/plain": [
       "<IPython.core.display.HTML object>"
      ]
     },
     "metadata": {},
     "output_type": "display_data"
    },
    {
     "data": {
      "text/html": [],
      "text/plain": [
       "<IPython.core.display.HTML object>"
      ]
     },
     "metadata": {},
     "output_type": "display_data"
    },
    {
     "data": {
      "text/html": [],
      "text/plain": [
       "<IPython.core.display.HTML object>"
      ]
     },
     "metadata": {},
     "output_type": "display_data"
    },
    {
     "data": {
      "text/html": [],
      "text/plain": [
       "<IPython.core.display.HTML object>"
      ]
     },
     "metadata": {},
     "output_type": "display_data"
    },
    {
     "data": {
      "text/html": [],
      "text/plain": [
       "<IPython.core.display.HTML object>"
      ]
     },
     "metadata": {},
     "output_type": "display_data"
    },
    {
     "data": {
      "text/html": [],
      "text/plain": [
       "<IPython.core.display.HTML object>"
      ]
     },
     "metadata": {},
     "output_type": "display_data"
    },
    {
     "data": {
      "text/html": [],
      "text/plain": [
       "<IPython.core.display.HTML object>"
      ]
     },
     "metadata": {},
     "output_type": "display_data"
    },
    {
     "data": {
      "text/html": [],
      "text/plain": [
       "<IPython.core.display.HTML object>"
      ]
     },
     "metadata": {},
     "output_type": "display_data"
    },
    {
     "data": {
      "text/html": [],
      "text/plain": [
       "<IPython.core.display.HTML object>"
      ]
     },
     "metadata": {},
     "output_type": "display_data"
    },
    {
     "data": {
      "text/html": [],
      "text/plain": [
       "<IPython.core.display.HTML object>"
      ]
     },
     "metadata": {},
     "output_type": "display_data"
    },
    {
     "data": {
      "text/html": [],
      "text/plain": [
       "<IPython.core.display.HTML object>"
      ]
     },
     "metadata": {},
     "output_type": "display_data"
    },
    {
     "data": {
      "text/html": [],
      "text/plain": [
       "<IPython.core.display.HTML object>"
      ]
     },
     "metadata": {},
     "output_type": "display_data"
    },
    {
     "data": {
      "text/html": [],
      "text/plain": [
       "<IPython.core.display.HTML object>"
      ]
     },
     "metadata": {},
     "output_type": "display_data"
    },
    {
     "data": {
      "text/html": [],
      "text/plain": [
       "<IPython.core.display.HTML object>"
      ]
     },
     "metadata": {},
     "output_type": "display_data"
    },
    {
     "data": {
      "text/html": [],
      "text/plain": [
       "<IPython.core.display.HTML object>"
      ]
     },
     "metadata": {},
     "output_type": "display_data"
    },
    {
     "data": {
      "text/html": [],
      "text/plain": [
       "<IPython.core.display.HTML object>"
      ]
     },
     "metadata": {},
     "output_type": "display_data"
    },
    {
     "data": {
      "text/html": [],
      "text/plain": [
       "<IPython.core.display.HTML object>"
      ]
     },
     "metadata": {},
     "output_type": "display_data"
    },
    {
     "data": {
      "text/html": [],
      "text/plain": [
       "<IPython.core.display.HTML object>"
      ]
     },
     "metadata": {},
     "output_type": "display_data"
    },
    {
     "data": {
      "text/html": [],
      "text/plain": [
       "<IPython.core.display.HTML object>"
      ]
     },
     "metadata": {},
     "output_type": "display_data"
    },
    {
     "data": {
      "text/html": [],
      "text/plain": [
       "<IPython.core.display.HTML object>"
      ]
     },
     "metadata": {},
     "output_type": "display_data"
    },
    {
     "data": {
      "text/html": [],
      "text/plain": [
       "<IPython.core.display.HTML object>"
      ]
     },
     "metadata": {},
     "output_type": "display_data"
    },
    {
     "data": {
      "text/html": [],
      "text/plain": [
       "<IPython.core.display.HTML object>"
      ]
     },
     "metadata": {},
     "output_type": "display_data"
    },
    {
     "data": {
      "text/html": [],
      "text/plain": [
       "<IPython.core.display.HTML object>"
      ]
     },
     "metadata": {},
     "output_type": "display_data"
    },
    {
     "data": {
      "text/html": [],
      "text/plain": [
       "<IPython.core.display.HTML object>"
      ]
     },
     "metadata": {},
     "output_type": "display_data"
    },
    {
     "data": {
      "text/html": [],
      "text/plain": [
       "<IPython.core.display.HTML object>"
      ]
     },
     "metadata": {},
     "output_type": "display_data"
    },
    {
     "data": {
      "text/html": [],
      "text/plain": [
       "<IPython.core.display.HTML object>"
      ]
     },
     "metadata": {},
     "output_type": "display_data"
    },
    {
     "data": {
      "text/html": [],
      "text/plain": [
       "<IPython.core.display.HTML object>"
      ]
     },
     "metadata": {},
     "output_type": "display_data"
    },
    {
     "data": {
      "text/html": [],
      "text/plain": [
       "<IPython.core.display.HTML object>"
      ]
     },
     "metadata": {},
     "output_type": "display_data"
    },
    {
     "data": {
      "text/html": [],
      "text/plain": [
       "<IPython.core.display.HTML object>"
      ]
     },
     "metadata": {},
     "output_type": "display_data"
    },
    {
     "data": {
      "text/html": [],
      "text/plain": [
       "<IPython.core.display.HTML object>"
      ]
     },
     "metadata": {},
     "output_type": "display_data"
    },
    {
     "data": {
      "text/html": [],
      "text/plain": [
       "<IPython.core.display.HTML object>"
      ]
     },
     "metadata": {},
     "output_type": "display_data"
    },
    {
     "data": {
      "text/html": [],
      "text/plain": [
       "<IPython.core.display.HTML object>"
      ]
     },
     "metadata": {},
     "output_type": "display_data"
    },
    {
     "data": {
      "text/html": [],
      "text/plain": [
       "<IPython.core.display.HTML object>"
      ]
     },
     "metadata": {},
     "output_type": "display_data"
    },
    {
     "data": {
      "text/html": [],
      "text/plain": [
       "<IPython.core.display.HTML object>"
      ]
     },
     "metadata": {},
     "output_type": "display_data"
    },
    {
     "data": {
      "text/html": [],
      "text/plain": [
       "<IPython.core.display.HTML object>"
      ]
     },
     "metadata": {},
     "output_type": "display_data"
    },
    {
     "data": {
      "text/html": [],
      "text/plain": [
       "<IPython.core.display.HTML object>"
      ]
     },
     "metadata": {},
     "output_type": "display_data"
    },
    {
     "data": {
      "text/html": [],
      "text/plain": [
       "<IPython.core.display.HTML object>"
      ]
     },
     "metadata": {},
     "output_type": "display_data"
    },
    {
     "data": {
      "text/html": [],
      "text/plain": [
       "<IPython.core.display.HTML object>"
      ]
     },
     "metadata": {},
     "output_type": "display_data"
    },
    {
     "data": {
      "text/html": [],
      "text/plain": [
       "<IPython.core.display.HTML object>"
      ]
     },
     "metadata": {},
     "output_type": "display_data"
    },
    {
     "data": {
      "text/html": [],
      "text/plain": [
       "<IPython.core.display.HTML object>"
      ]
     },
     "metadata": {},
     "output_type": "display_data"
    },
    {
     "data": {
      "text/html": [],
      "text/plain": [
       "<IPython.core.display.HTML object>"
      ]
     },
     "metadata": {},
     "output_type": "display_data"
    },
    {
     "data": {
      "text/html": [],
      "text/plain": [
       "<IPython.core.display.HTML object>"
      ]
     },
     "metadata": {},
     "output_type": "display_data"
    },
    {
     "data": {
      "text/html": [],
      "text/plain": [
       "<IPython.core.display.HTML object>"
      ]
     },
     "metadata": {},
     "output_type": "display_data"
    },
    {
     "data": {
      "text/html": [],
      "text/plain": [
       "<IPython.core.display.HTML object>"
      ]
     },
     "metadata": {},
     "output_type": "display_data"
    },
    {
     "data": {
      "text/html": [],
      "text/plain": [
       "<IPython.core.display.HTML object>"
      ]
     },
     "metadata": {},
     "output_type": "display_data"
    },
    {
     "data": {
      "text/html": [],
      "text/plain": [
       "<IPython.core.display.HTML object>"
      ]
     },
     "metadata": {},
     "output_type": "display_data"
    },
    {
     "data": {
      "text/html": [],
      "text/plain": [
       "<IPython.core.display.HTML object>"
      ]
     },
     "metadata": {},
     "output_type": "display_data"
    },
    {
     "data": {
      "text/html": [],
      "text/plain": [
       "<IPython.core.display.HTML object>"
      ]
     },
     "metadata": {},
     "output_type": "display_data"
    },
    {
     "data": {
      "text/html": [],
      "text/plain": [
       "<IPython.core.display.HTML object>"
      ]
     },
     "metadata": {},
     "output_type": "display_data"
    },
    {
     "data": {
      "text/html": [],
      "text/plain": [
       "<IPython.core.display.HTML object>"
      ]
     },
     "metadata": {},
     "output_type": "display_data"
    },
    {
     "data": {
      "text/html": [],
      "text/plain": [
       "<IPython.core.display.HTML object>"
      ]
     },
     "metadata": {},
     "output_type": "display_data"
    },
    {
     "data": {
      "text/html": [],
      "text/plain": [
       "<IPython.core.display.HTML object>"
      ]
     },
     "metadata": {},
     "output_type": "display_data"
    },
    {
     "data": {
      "text/html": [],
      "text/plain": [
       "<IPython.core.display.HTML object>"
      ]
     },
     "metadata": {},
     "output_type": "display_data"
    },
    {
     "data": {
      "text/html": [],
      "text/plain": [
       "<IPython.core.display.HTML object>"
      ]
     },
     "metadata": {},
     "output_type": "display_data"
    },
    {
     "data": {
      "text/html": [],
      "text/plain": [
       "<IPython.core.display.HTML object>"
      ]
     },
     "metadata": {},
     "output_type": "display_data"
    },
    {
     "data": {
      "text/html": [],
      "text/plain": [
       "<IPython.core.display.HTML object>"
      ]
     },
     "metadata": {},
     "output_type": "display_data"
    },
    {
     "data": {
      "text/html": [],
      "text/plain": [
       "<IPython.core.display.HTML object>"
      ]
     },
     "metadata": {},
     "output_type": "display_data"
    },
    {
     "data": {
      "text/html": [],
      "text/plain": [
       "<IPython.core.display.HTML object>"
      ]
     },
     "metadata": {},
     "output_type": "display_data"
    },
    {
     "data": {
      "text/html": [],
      "text/plain": [
       "<IPython.core.display.HTML object>"
      ]
     },
     "metadata": {},
     "output_type": "display_data"
    },
    {
     "data": {
      "text/html": [],
      "text/plain": [
       "<IPython.core.display.HTML object>"
      ]
     },
     "metadata": {},
     "output_type": "display_data"
    },
    {
     "data": {
      "text/html": [],
      "text/plain": [
       "<IPython.core.display.HTML object>"
      ]
     },
     "metadata": {},
     "output_type": "display_data"
    },
    {
     "data": {
      "text/html": [],
      "text/plain": [
       "<IPython.core.display.HTML object>"
      ]
     },
     "metadata": {},
     "output_type": "display_data"
    },
    {
     "data": {
      "text/html": [],
      "text/plain": [
       "<IPython.core.display.HTML object>"
      ]
     },
     "metadata": {},
     "output_type": "display_data"
    },
    {
     "data": {
      "text/html": [],
      "text/plain": [
       "<IPython.core.display.HTML object>"
      ]
     },
     "metadata": {},
     "output_type": "display_data"
    },
    {
     "data": {
      "text/html": [],
      "text/plain": [
       "<IPython.core.display.HTML object>"
      ]
     },
     "metadata": {},
     "output_type": "display_data"
    },
    {
     "data": {
      "text/html": [],
      "text/plain": [
       "<IPython.core.display.HTML object>"
      ]
     },
     "metadata": {},
     "output_type": "display_data"
    },
    {
     "data": {
      "text/html": [],
      "text/plain": [
       "<IPython.core.display.HTML object>"
      ]
     },
     "metadata": {},
     "output_type": "display_data"
    },
    {
     "data": {
      "text/html": [],
      "text/plain": [
       "<IPython.core.display.HTML object>"
      ]
     },
     "metadata": {},
     "output_type": "display_data"
    },
    {
     "data": {
      "text/html": [],
      "text/plain": [
       "<IPython.core.display.HTML object>"
      ]
     },
     "metadata": {},
     "output_type": "display_data"
    },
    {
     "data": {
      "text/html": [],
      "text/plain": [
       "<IPython.core.display.HTML object>"
      ]
     },
     "metadata": {},
     "output_type": "display_data"
    },
    {
     "data": {
      "text/html": [],
      "text/plain": [
       "<IPython.core.display.HTML object>"
      ]
     },
     "metadata": {},
     "output_type": "display_data"
    },
    {
     "data": {
      "text/html": [],
      "text/plain": [
       "<IPython.core.display.HTML object>"
      ]
     },
     "metadata": {},
     "output_type": "display_data"
    },
    {
     "data": {
      "text/html": [],
      "text/plain": [
       "<IPython.core.display.HTML object>"
      ]
     },
     "metadata": {},
     "output_type": "display_data"
    },
    {
     "data": {
      "text/html": [],
      "text/plain": [
       "<IPython.core.display.HTML object>"
      ]
     },
     "metadata": {},
     "output_type": "display_data"
    },
    {
     "data": {
      "text/html": [],
      "text/plain": [
       "<IPython.core.display.HTML object>"
      ]
     },
     "metadata": {},
     "output_type": "display_data"
    },
    {
     "data": {
      "text/html": [],
      "text/plain": [
       "<IPython.core.display.HTML object>"
      ]
     },
     "metadata": {},
     "output_type": "display_data"
    },
    {
     "data": {
      "text/html": [],
      "text/plain": [
       "<IPython.core.display.HTML object>"
      ]
     },
     "metadata": {},
     "output_type": "display_data"
    },
    {
     "data": {
      "text/html": [],
      "text/plain": [
       "<IPython.core.display.HTML object>"
      ]
     },
     "metadata": {},
     "output_type": "display_data"
    },
    {
     "data": {
      "text/html": [],
      "text/plain": [
       "<IPython.core.display.HTML object>"
      ]
     },
     "metadata": {},
     "output_type": "display_data"
    },
    {
     "data": {
      "text/html": [],
      "text/plain": [
       "<IPython.core.display.HTML object>"
      ]
     },
     "metadata": {},
     "output_type": "display_data"
    },
    {
     "data": {
      "text/html": [],
      "text/plain": [
       "<IPython.core.display.HTML object>"
      ]
     },
     "metadata": {},
     "output_type": "display_data"
    },
    {
     "data": {
      "text/html": [],
      "text/plain": [
       "<IPython.core.display.HTML object>"
      ]
     },
     "metadata": {},
     "output_type": "display_data"
    },
    {
     "data": {
      "text/html": [],
      "text/plain": [
       "<IPython.core.display.HTML object>"
      ]
     },
     "metadata": {},
     "output_type": "display_data"
    },
    {
     "data": {
      "text/html": [],
      "text/plain": [
       "<IPython.core.display.HTML object>"
      ]
     },
     "metadata": {},
     "output_type": "display_data"
    },
    {
     "data": {
      "text/html": [],
      "text/plain": [
       "<IPython.core.display.HTML object>"
      ]
     },
     "metadata": {},
     "output_type": "display_data"
    },
    {
     "data": {
      "text/html": [],
      "text/plain": [
       "<IPython.core.display.HTML object>"
      ]
     },
     "metadata": {},
     "output_type": "display_data"
    },
    {
     "data": {
      "text/html": [],
      "text/plain": [
       "<IPython.core.display.HTML object>"
      ]
     },
     "metadata": {},
     "output_type": "display_data"
    },
    {
     "data": {
      "text/html": [],
      "text/plain": [
       "<IPython.core.display.HTML object>"
      ]
     },
     "metadata": {},
     "output_type": "display_data"
    },
    {
     "data": {
      "text/html": [],
      "text/plain": [
       "<IPython.core.display.HTML object>"
      ]
     },
     "metadata": {},
     "output_type": "display_data"
    },
    {
     "data": {
      "text/html": [],
      "text/plain": [
       "<IPython.core.display.HTML object>"
      ]
     },
     "metadata": {},
     "output_type": "display_data"
    },
    {
     "data": {
      "text/html": [],
      "text/plain": [
       "<IPython.core.display.HTML object>"
      ]
     },
     "metadata": {},
     "output_type": "display_data"
    },
    {
     "data": {
      "text/html": [],
      "text/plain": [
       "<IPython.core.display.HTML object>"
      ]
     },
     "metadata": {},
     "output_type": "display_data"
    },
    {
     "data": {
      "text/html": [],
      "text/plain": [
       "<IPython.core.display.HTML object>"
      ]
     },
     "metadata": {},
     "output_type": "display_data"
    },
    {
     "data": {
      "text/html": [],
      "text/plain": [
       "<IPython.core.display.HTML object>"
      ]
     },
     "metadata": {},
     "output_type": "display_data"
    },
    {
     "data": {
      "text/html": [],
      "text/plain": [
       "<IPython.core.display.HTML object>"
      ]
     },
     "metadata": {},
     "output_type": "display_data"
    },
    {
     "data": {
      "text/html": [],
      "text/plain": [
       "<IPython.core.display.HTML object>"
      ]
     },
     "metadata": {},
     "output_type": "display_data"
    },
    {
     "data": {
      "text/html": [],
      "text/plain": [
       "<IPython.core.display.HTML object>"
      ]
     },
     "metadata": {},
     "output_type": "display_data"
    },
    {
     "data": {
      "text/html": [],
      "text/plain": [
       "<IPython.core.display.HTML object>"
      ]
     },
     "metadata": {},
     "output_type": "display_data"
    },
    {
     "data": {
      "text/html": [],
      "text/plain": [
       "<IPython.core.display.HTML object>"
      ]
     },
     "metadata": {},
     "output_type": "display_data"
    },
    {
     "data": {
      "text/html": [],
      "text/plain": [
       "<IPython.core.display.HTML object>"
      ]
     },
     "metadata": {},
     "output_type": "display_data"
    },
    {
     "data": {
      "text/html": [],
      "text/plain": [
       "<IPython.core.display.HTML object>"
      ]
     },
     "metadata": {},
     "output_type": "display_data"
    },
    {
     "data": {
      "text/html": [],
      "text/plain": [
       "<IPython.core.display.HTML object>"
      ]
     },
     "metadata": {},
     "output_type": "display_data"
    },
    {
     "data": {
      "text/html": [],
      "text/plain": [
       "<IPython.core.display.HTML object>"
      ]
     },
     "metadata": {},
     "output_type": "display_data"
    },
    {
     "data": {
      "text/html": [],
      "text/plain": [
       "<IPython.core.display.HTML object>"
      ]
     },
     "metadata": {},
     "output_type": "display_data"
    },
    {
     "data": {
      "text/html": [],
      "text/plain": [
       "<IPython.core.display.HTML object>"
      ]
     },
     "metadata": {},
     "output_type": "display_data"
    },
    {
     "data": {
      "text/html": [],
      "text/plain": [
       "<IPython.core.display.HTML object>"
      ]
     },
     "metadata": {},
     "output_type": "display_data"
    },
    {
     "data": {
      "text/html": [],
      "text/plain": [
       "<IPython.core.display.HTML object>"
      ]
     },
     "metadata": {},
     "output_type": "display_data"
    },
    {
     "data": {
      "text/html": [],
      "text/plain": [
       "<IPython.core.display.HTML object>"
      ]
     },
     "metadata": {},
     "output_type": "display_data"
    },
    {
     "data": {
      "text/html": [],
      "text/plain": [
       "<IPython.core.display.HTML object>"
      ]
     },
     "metadata": {},
     "output_type": "display_data"
    },
    {
     "data": {
      "text/html": [],
      "text/plain": [
       "<IPython.core.display.HTML object>"
      ]
     },
     "metadata": {},
     "output_type": "display_data"
    },
    {
     "data": {
      "text/html": [],
      "text/plain": [
       "<IPython.core.display.HTML object>"
      ]
     },
     "metadata": {},
     "output_type": "display_data"
    },
    {
     "data": {
      "text/html": [],
      "text/plain": [
       "<IPython.core.display.HTML object>"
      ]
     },
     "metadata": {},
     "output_type": "display_data"
    },
    {
     "data": {
      "text/html": [],
      "text/plain": [
       "<IPython.core.display.HTML object>"
      ]
     },
     "metadata": {},
     "output_type": "display_data"
    },
    {
     "data": {
      "text/html": [],
      "text/plain": [
       "<IPython.core.display.HTML object>"
      ]
     },
     "metadata": {},
     "output_type": "display_data"
    },
    {
     "data": {
      "text/html": [],
      "text/plain": [
       "<IPython.core.display.HTML object>"
      ]
     },
     "metadata": {},
     "output_type": "display_data"
    },
    {
     "data": {
      "text/html": [],
      "text/plain": [
       "<IPython.core.display.HTML object>"
      ]
     },
     "metadata": {},
     "output_type": "display_data"
    },
    {
     "data": {
      "text/html": [],
      "text/plain": [
       "<IPython.core.display.HTML object>"
      ]
     },
     "metadata": {},
     "output_type": "display_data"
    },
    {
     "data": {
      "text/html": [],
      "text/plain": [
       "<IPython.core.display.HTML object>"
      ]
     },
     "metadata": {},
     "output_type": "display_data"
    },
    {
     "data": {
      "text/html": [],
      "text/plain": [
       "<IPython.core.display.HTML object>"
      ]
     },
     "metadata": {},
     "output_type": "display_data"
    },
    {
     "data": {
      "text/html": [],
      "text/plain": [
       "<IPython.core.display.HTML object>"
      ]
     },
     "metadata": {},
     "output_type": "display_data"
    },
    {
     "data": {
      "text/html": [],
      "text/plain": [
       "<IPython.core.display.HTML object>"
      ]
     },
     "metadata": {},
     "output_type": "display_data"
    },
    {
     "data": {
      "text/html": [],
      "text/plain": [
       "<IPython.core.display.HTML object>"
      ]
     },
     "metadata": {},
     "output_type": "display_data"
    },
    {
     "data": {
      "text/html": [],
      "text/plain": [
       "<IPython.core.display.HTML object>"
      ]
     },
     "metadata": {},
     "output_type": "display_data"
    },
    {
     "data": {
      "text/html": [],
      "text/plain": [
       "<IPython.core.display.HTML object>"
      ]
     },
     "metadata": {},
     "output_type": "display_data"
    },
    {
     "data": {
      "text/html": [],
      "text/plain": [
       "<IPython.core.display.HTML object>"
      ]
     },
     "metadata": {},
     "output_type": "display_data"
    },
    {
     "data": {
      "text/html": [],
      "text/plain": [
       "<IPython.core.display.HTML object>"
      ]
     },
     "metadata": {},
     "output_type": "display_data"
    },
    {
     "data": {
      "text/html": [],
      "text/plain": [
       "<IPython.core.display.HTML object>"
      ]
     },
     "metadata": {},
     "output_type": "display_data"
    },
    {
     "data": {
      "text/html": [],
      "text/plain": [
       "<IPython.core.display.HTML object>"
      ]
     },
     "metadata": {},
     "output_type": "display_data"
    },
    {
     "data": {
      "text/html": [],
      "text/plain": [
       "<IPython.core.display.HTML object>"
      ]
     },
     "metadata": {},
     "output_type": "display_data"
    },
    {
     "data": {
      "text/html": [],
      "text/plain": [
       "<IPython.core.display.HTML object>"
      ]
     },
     "metadata": {},
     "output_type": "display_data"
    },
    {
     "data": {
      "text/html": [],
      "text/plain": [
       "<IPython.core.display.HTML object>"
      ]
     },
     "metadata": {},
     "output_type": "display_data"
    },
    {
     "data": {
      "text/html": [],
      "text/plain": [
       "<IPython.core.display.HTML object>"
      ]
     },
     "metadata": {},
     "output_type": "display_data"
    },
    {
     "data": {
      "text/html": [],
      "text/plain": [
       "<IPython.core.display.HTML object>"
      ]
     },
     "metadata": {},
     "output_type": "display_data"
    },
    {
     "data": {
      "text/html": [],
      "text/plain": [
       "<IPython.core.display.HTML object>"
      ]
     },
     "metadata": {},
     "output_type": "display_data"
    },
    {
     "data": {
      "text/html": [],
      "text/plain": [
       "<IPython.core.display.HTML object>"
      ]
     },
     "metadata": {},
     "output_type": "display_data"
    },
    {
     "data": {
      "text/html": [],
      "text/plain": [
       "<IPython.core.display.HTML object>"
      ]
     },
     "metadata": {},
     "output_type": "display_data"
    },
    {
     "data": {
      "text/html": [],
      "text/plain": [
       "<IPython.core.display.HTML object>"
      ]
     },
     "metadata": {},
     "output_type": "display_data"
    },
    {
     "data": {
      "text/html": [],
      "text/plain": [
       "<IPython.core.display.HTML object>"
      ]
     },
     "metadata": {},
     "output_type": "display_data"
    },
    {
     "data": {
      "text/html": [],
      "text/plain": [
       "<IPython.core.display.HTML object>"
      ]
     },
     "metadata": {},
     "output_type": "display_data"
    },
    {
     "data": {
      "text/html": [],
      "text/plain": [
       "<IPython.core.display.HTML object>"
      ]
     },
     "metadata": {},
     "output_type": "display_data"
    },
    {
     "data": {
      "text/html": [],
      "text/plain": [
       "<IPython.core.display.HTML object>"
      ]
     },
     "metadata": {},
     "output_type": "display_data"
    },
    {
     "data": {
      "text/html": [],
      "text/plain": [
       "<IPython.core.display.HTML object>"
      ]
     },
     "metadata": {},
     "output_type": "display_data"
    },
    {
     "data": {
      "text/html": [],
      "text/plain": [
       "<IPython.core.display.HTML object>"
      ]
     },
     "metadata": {},
     "output_type": "display_data"
    },
    {
     "data": {
      "text/html": [],
      "text/plain": [
       "<IPython.core.display.HTML object>"
      ]
     },
     "metadata": {},
     "output_type": "display_data"
    },
    {
     "data": {
      "text/html": [],
      "text/plain": [
       "<IPython.core.display.HTML object>"
      ]
     },
     "metadata": {},
     "output_type": "display_data"
    },
    {
     "data": {
      "text/html": [],
      "text/plain": [
       "<IPython.core.display.HTML object>"
      ]
     },
     "metadata": {},
     "output_type": "display_data"
    },
    {
     "data": {
      "text/html": [],
      "text/plain": [
       "<IPython.core.display.HTML object>"
      ]
     },
     "metadata": {},
     "output_type": "display_data"
    },
    {
     "data": {
      "text/html": [],
      "text/plain": [
       "<IPython.core.display.HTML object>"
      ]
     },
     "metadata": {},
     "output_type": "display_data"
    },
    {
     "data": {
      "text/html": [],
      "text/plain": [
       "<IPython.core.display.HTML object>"
      ]
     },
     "metadata": {},
     "output_type": "display_data"
    },
    {
     "data": {
      "text/html": [],
      "text/plain": [
       "<IPython.core.display.HTML object>"
      ]
     },
     "metadata": {},
     "output_type": "display_data"
    },
    {
     "data": {
      "text/html": [],
      "text/plain": [
       "<IPython.core.display.HTML object>"
      ]
     },
     "metadata": {},
     "output_type": "display_data"
    },
    {
     "data": {
      "text/html": [],
      "text/plain": [
       "<IPython.core.display.HTML object>"
      ]
     },
     "metadata": {},
     "output_type": "display_data"
    },
    {
     "data": {
      "text/html": [],
      "text/plain": [
       "<IPython.core.display.HTML object>"
      ]
     },
     "metadata": {},
     "output_type": "display_data"
    },
    {
     "data": {
      "text/html": [],
      "text/plain": [
       "<IPython.core.display.HTML object>"
      ]
     },
     "metadata": {},
     "output_type": "display_data"
    },
    {
     "data": {
      "text/html": [],
      "text/plain": [
       "<IPython.core.display.HTML object>"
      ]
     },
     "metadata": {},
     "output_type": "display_data"
    },
    {
     "data": {
      "text/html": [],
      "text/plain": [
       "<IPython.core.display.HTML object>"
      ]
     },
     "metadata": {},
     "output_type": "display_data"
    },
    {
     "data": {
      "text/html": [],
      "text/plain": [
       "<IPython.core.display.HTML object>"
      ]
     },
     "metadata": {},
     "output_type": "display_data"
    },
    {
     "data": {
      "text/html": [],
      "text/plain": [
       "<IPython.core.display.HTML object>"
      ]
     },
     "metadata": {},
     "output_type": "display_data"
    },
    {
     "data": {
      "text/html": [],
      "text/plain": [
       "<IPython.core.display.HTML object>"
      ]
     },
     "metadata": {},
     "output_type": "display_data"
    },
    {
     "data": {
      "text/html": [],
      "text/plain": [
       "<IPython.core.display.HTML object>"
      ]
     },
     "metadata": {},
     "output_type": "display_data"
    },
    {
     "data": {
      "text/html": [],
      "text/plain": [
       "<IPython.core.display.HTML object>"
      ]
     },
     "metadata": {},
     "output_type": "display_data"
    },
    {
     "data": {
      "text/html": [],
      "text/plain": [
       "<IPython.core.display.HTML object>"
      ]
     },
     "metadata": {},
     "output_type": "display_data"
    },
    {
     "data": {
      "text/html": [],
      "text/plain": [
       "<IPython.core.display.HTML object>"
      ]
     },
     "metadata": {},
     "output_type": "display_data"
    },
    {
     "data": {
      "text/html": [],
      "text/plain": [
       "<IPython.core.display.HTML object>"
      ]
     },
     "metadata": {},
     "output_type": "display_data"
    },
    {
     "data": {
      "text/html": [],
      "text/plain": [
       "<IPython.core.display.HTML object>"
      ]
     },
     "metadata": {},
     "output_type": "display_data"
    },
    {
     "data": {
      "text/html": [],
      "text/plain": [
       "<IPython.core.display.HTML object>"
      ]
     },
     "metadata": {},
     "output_type": "display_data"
    },
    {
     "data": {
      "text/html": [],
      "text/plain": [
       "<IPython.core.display.HTML object>"
      ]
     },
     "metadata": {},
     "output_type": "display_data"
    },
    {
     "data": {
      "text/html": [],
      "text/plain": [
       "<IPython.core.display.HTML object>"
      ]
     },
     "metadata": {},
     "output_type": "display_data"
    },
    {
     "data": {
      "text/html": [],
      "text/plain": [
       "<IPython.core.display.HTML object>"
      ]
     },
     "metadata": {},
     "output_type": "display_data"
    },
    {
     "data": {
      "text/html": [],
      "text/plain": [
       "<IPython.core.display.HTML object>"
      ]
     },
     "metadata": {},
     "output_type": "display_data"
    },
    {
     "data": {
      "text/html": [],
      "text/plain": [
       "<IPython.core.display.HTML object>"
      ]
     },
     "metadata": {},
     "output_type": "display_data"
    },
    {
     "data": {
      "text/html": [],
      "text/plain": [
       "<IPython.core.display.HTML object>"
      ]
     },
     "metadata": {},
     "output_type": "display_data"
    },
    {
     "data": {
      "text/html": [],
      "text/plain": [
       "<IPython.core.display.HTML object>"
      ]
     },
     "metadata": {},
     "output_type": "display_data"
    },
    {
     "data": {
      "text/html": [],
      "text/plain": [
       "<IPython.core.display.HTML object>"
      ]
     },
     "metadata": {},
     "output_type": "display_data"
    },
    {
     "data": {
      "text/html": [],
      "text/plain": [
       "<IPython.core.display.HTML object>"
      ]
     },
     "metadata": {},
     "output_type": "display_data"
    },
    {
     "data": {
      "text/html": [],
      "text/plain": [
       "<IPython.core.display.HTML object>"
      ]
     },
     "metadata": {},
     "output_type": "display_data"
    },
    {
     "data": {
      "text/html": [],
      "text/plain": [
       "<IPython.core.display.HTML object>"
      ]
     },
     "metadata": {},
     "output_type": "display_data"
    },
    {
     "data": {
      "text/html": [],
      "text/plain": [
       "<IPython.core.display.HTML object>"
      ]
     },
     "metadata": {},
     "output_type": "display_data"
    },
    {
     "data": {
      "text/html": [],
      "text/plain": [
       "<IPython.core.display.HTML object>"
      ]
     },
     "metadata": {},
     "output_type": "display_data"
    },
    {
     "data": {
      "text/html": [],
      "text/plain": [
       "<IPython.core.display.HTML object>"
      ]
     },
     "metadata": {},
     "output_type": "display_data"
    },
    {
     "data": {
      "text/html": [],
      "text/plain": [
       "<IPython.core.display.HTML object>"
      ]
     },
     "metadata": {},
     "output_type": "display_data"
    },
    {
     "data": {
      "text/html": [],
      "text/plain": [
       "<IPython.core.display.HTML object>"
      ]
     },
     "metadata": {},
     "output_type": "display_data"
    },
    {
     "data": {
      "text/html": [],
      "text/plain": [
       "<IPython.core.display.HTML object>"
      ]
     },
     "metadata": {},
     "output_type": "display_data"
    },
    {
     "data": {
      "text/html": [],
      "text/plain": [
       "<IPython.core.display.HTML object>"
      ]
     },
     "metadata": {},
     "output_type": "display_data"
    },
    {
     "data": {
      "text/html": [],
      "text/plain": [
       "<IPython.core.display.HTML object>"
      ]
     },
     "metadata": {},
     "output_type": "display_data"
    },
    {
     "data": {
      "text/html": [],
      "text/plain": [
       "<IPython.core.display.HTML object>"
      ]
     },
     "metadata": {},
     "output_type": "display_data"
    },
    {
     "data": {
      "text/html": [],
      "text/plain": [
       "<IPython.core.display.HTML object>"
      ]
     },
     "metadata": {},
     "output_type": "display_data"
    },
    {
     "data": {
      "text/html": [],
      "text/plain": [
       "<IPython.core.display.HTML object>"
      ]
     },
     "metadata": {},
     "output_type": "display_data"
    },
    {
     "data": {
      "text/html": [],
      "text/plain": [
       "<IPython.core.display.HTML object>"
      ]
     },
     "metadata": {},
     "output_type": "display_data"
    },
    {
     "data": {
      "text/html": [],
      "text/plain": [
       "<IPython.core.display.HTML object>"
      ]
     },
     "metadata": {},
     "output_type": "display_data"
    },
    {
     "data": {
      "text/html": [],
      "text/plain": [
       "<IPython.core.display.HTML object>"
      ]
     },
     "metadata": {},
     "output_type": "display_data"
    },
    {
     "data": {
      "text/html": [],
      "text/plain": [
       "<IPython.core.display.HTML object>"
      ]
     },
     "metadata": {},
     "output_type": "display_data"
    },
    {
     "data": {
      "text/html": [],
      "text/plain": [
       "<IPython.core.display.HTML object>"
      ]
     },
     "metadata": {},
     "output_type": "display_data"
    },
    {
     "data": {
      "text/html": [],
      "text/plain": [
       "<IPython.core.display.HTML object>"
      ]
     },
     "metadata": {},
     "output_type": "display_data"
    },
    {
     "data": {
      "text/html": [],
      "text/plain": [
       "<IPython.core.display.HTML object>"
      ]
     },
     "metadata": {},
     "output_type": "display_data"
    },
    {
     "data": {
      "text/html": [],
      "text/plain": [
       "<IPython.core.display.HTML object>"
      ]
     },
     "metadata": {},
     "output_type": "display_data"
    },
    {
     "data": {
      "text/html": [],
      "text/plain": [
       "<IPython.core.display.HTML object>"
      ]
     },
     "metadata": {},
     "output_type": "display_data"
    },
    {
     "data": {
      "text/html": [],
      "text/plain": [
       "<IPython.core.display.HTML object>"
      ]
     },
     "metadata": {},
     "output_type": "display_data"
    },
    {
     "data": {
      "text/html": [],
      "text/plain": [
       "<IPython.core.display.HTML object>"
      ]
     },
     "metadata": {},
     "output_type": "display_data"
    },
    {
     "data": {
      "text/html": [],
      "text/plain": [
       "<IPython.core.display.HTML object>"
      ]
     },
     "metadata": {},
     "output_type": "display_data"
    },
    {
     "data": {
      "text/html": [],
      "text/plain": [
       "<IPython.core.display.HTML object>"
      ]
     },
     "metadata": {},
     "output_type": "display_data"
    },
    {
     "data": {
      "text/html": [],
      "text/plain": [
       "<IPython.core.display.HTML object>"
      ]
     },
     "metadata": {},
     "output_type": "display_data"
    },
    {
     "data": {
      "text/html": [],
      "text/plain": [
       "<IPython.core.display.HTML object>"
      ]
     },
     "metadata": {},
     "output_type": "display_data"
    },
    {
     "data": {
      "text/html": [],
      "text/plain": [
       "<IPython.core.display.HTML object>"
      ]
     },
     "metadata": {},
     "output_type": "display_data"
    },
    {
     "data": {
      "text/html": [],
      "text/plain": [
       "<IPython.core.display.HTML object>"
      ]
     },
     "metadata": {},
     "output_type": "display_data"
    },
    {
     "data": {
      "text/html": [],
      "text/plain": [
       "<IPython.core.display.HTML object>"
      ]
     },
     "metadata": {},
     "output_type": "display_data"
    },
    {
     "data": {
      "text/html": [],
      "text/plain": [
       "<IPython.core.display.HTML object>"
      ]
     },
     "metadata": {},
     "output_type": "display_data"
    },
    {
     "data": {
      "text/html": [],
      "text/plain": [
       "<IPython.core.display.HTML object>"
      ]
     },
     "metadata": {},
     "output_type": "display_data"
    },
    {
     "data": {
      "text/html": [],
      "text/plain": [
       "<IPython.core.display.HTML object>"
      ]
     },
     "metadata": {},
     "output_type": "display_data"
    },
    {
     "data": {
      "text/html": [],
      "text/plain": [
       "<IPython.core.display.HTML object>"
      ]
     },
     "metadata": {},
     "output_type": "display_data"
    },
    {
     "data": {
      "text/html": [],
      "text/plain": [
       "<IPython.core.display.HTML object>"
      ]
     },
     "metadata": {},
     "output_type": "display_data"
    },
    {
     "data": {
      "text/html": [],
      "text/plain": [
       "<IPython.core.display.HTML object>"
      ]
     },
     "metadata": {},
     "output_type": "display_data"
    },
    {
     "data": {
      "text/html": [],
      "text/plain": [
       "<IPython.core.display.HTML object>"
      ]
     },
     "metadata": {},
     "output_type": "display_data"
    },
    {
     "data": {
      "text/html": [],
      "text/plain": [
       "<IPython.core.display.HTML object>"
      ]
     },
     "metadata": {},
     "output_type": "display_data"
    },
    {
     "data": {
      "text/html": [],
      "text/plain": [
       "<IPython.core.display.HTML object>"
      ]
     },
     "metadata": {},
     "output_type": "display_data"
    },
    {
     "data": {
      "text/html": [],
      "text/plain": [
       "<IPython.core.display.HTML object>"
      ]
     },
     "metadata": {},
     "output_type": "display_data"
    },
    {
     "data": {
      "text/html": [],
      "text/plain": [
       "<IPython.core.display.HTML object>"
      ]
     },
     "metadata": {},
     "output_type": "display_data"
    },
    {
     "data": {
      "text/html": [],
      "text/plain": [
       "<IPython.core.display.HTML object>"
      ]
     },
     "metadata": {},
     "output_type": "display_data"
    },
    {
     "data": {
      "text/html": [],
      "text/plain": [
       "<IPython.core.display.HTML object>"
      ]
     },
     "metadata": {},
     "output_type": "display_data"
    },
    {
     "data": {
      "text/html": [],
      "text/plain": [
       "<IPython.core.display.HTML object>"
      ]
     },
     "metadata": {},
     "output_type": "display_data"
    },
    {
     "data": {
      "text/html": [],
      "text/plain": [
       "<IPython.core.display.HTML object>"
      ]
     },
     "metadata": {},
     "output_type": "display_data"
    },
    {
     "data": {
      "text/html": [],
      "text/plain": [
       "<IPython.core.display.HTML object>"
      ]
     },
     "metadata": {},
     "output_type": "display_data"
    },
    {
     "data": {
      "text/html": [],
      "text/plain": [
       "<IPython.core.display.HTML object>"
      ]
     },
     "metadata": {},
     "output_type": "display_data"
    },
    {
     "data": {
      "text/html": [],
      "text/plain": [
       "<IPython.core.display.HTML object>"
      ]
     },
     "metadata": {},
     "output_type": "display_data"
    },
    {
     "data": {
      "text/html": [],
      "text/plain": [
       "<IPython.core.display.HTML object>"
      ]
     },
     "metadata": {},
     "output_type": "display_data"
    },
    {
     "data": {
      "text/html": [],
      "text/plain": [
       "<IPython.core.display.HTML object>"
      ]
     },
     "metadata": {},
     "output_type": "display_data"
    },
    {
     "data": {
      "text/html": [],
      "text/plain": [
       "<IPython.core.display.HTML object>"
      ]
     },
     "metadata": {},
     "output_type": "display_data"
    },
    {
     "data": {
      "text/html": [],
      "text/plain": [
       "<IPython.core.display.HTML object>"
      ]
     },
     "metadata": {},
     "output_type": "display_data"
    },
    {
     "data": {
      "text/html": [],
      "text/plain": [
       "<IPython.core.display.HTML object>"
      ]
     },
     "metadata": {},
     "output_type": "display_data"
    },
    {
     "data": {
      "text/html": [],
      "text/plain": [
       "<IPython.core.display.HTML object>"
      ]
     },
     "metadata": {},
     "output_type": "display_data"
    },
    {
     "data": {
      "text/html": [],
      "text/plain": [
       "<IPython.core.display.HTML object>"
      ]
     },
     "metadata": {},
     "output_type": "display_data"
    },
    {
     "data": {
      "text/html": [],
      "text/plain": [
       "<IPython.core.display.HTML object>"
      ]
     },
     "metadata": {},
     "output_type": "display_data"
    },
    {
     "data": {
      "text/html": [],
      "text/plain": [
       "<IPython.core.display.HTML object>"
      ]
     },
     "metadata": {},
     "output_type": "display_data"
    },
    {
     "data": {
      "text/html": [],
      "text/plain": [
       "<IPython.core.display.HTML object>"
      ]
     },
     "metadata": {},
     "output_type": "display_data"
    },
    {
     "data": {
      "text/html": [],
      "text/plain": [
       "<IPython.core.display.HTML object>"
      ]
     },
     "metadata": {},
     "output_type": "display_data"
    },
    {
     "data": {
      "text/html": [],
      "text/plain": [
       "<IPython.core.display.HTML object>"
      ]
     },
     "metadata": {},
     "output_type": "display_data"
    },
    {
     "data": {
      "text/html": [],
      "text/plain": [
       "<IPython.core.display.HTML object>"
      ]
     },
     "metadata": {},
     "output_type": "display_data"
    },
    {
     "data": {
      "text/html": [],
      "text/plain": [
       "<IPython.core.display.HTML object>"
      ]
     },
     "metadata": {},
     "output_type": "display_data"
    },
    {
     "data": {
      "text/html": [],
      "text/plain": [
       "<IPython.core.display.HTML object>"
      ]
     },
     "metadata": {},
     "output_type": "display_data"
    },
    {
     "data": {
      "text/html": [],
      "text/plain": [
       "<IPython.core.display.HTML object>"
      ]
     },
     "metadata": {},
     "output_type": "display_data"
    },
    {
     "data": {
      "text/html": [],
      "text/plain": [
       "<IPython.core.display.HTML object>"
      ]
     },
     "metadata": {},
     "output_type": "display_data"
    },
    {
     "data": {
      "text/html": [],
      "text/plain": [
       "<IPython.core.display.HTML object>"
      ]
     },
     "metadata": {},
     "output_type": "display_data"
    },
    {
     "data": {
      "text/html": [],
      "text/plain": [
       "<IPython.core.display.HTML object>"
      ]
     },
     "metadata": {},
     "output_type": "display_data"
    },
    {
     "data": {
      "text/html": [],
      "text/plain": [
       "<IPython.core.display.HTML object>"
      ]
     },
     "metadata": {},
     "output_type": "display_data"
    },
    {
     "data": {
      "text/html": [],
      "text/plain": [
       "<IPython.core.display.HTML object>"
      ]
     },
     "metadata": {},
     "output_type": "display_data"
    },
    {
     "data": {
      "text/html": [],
      "text/plain": [
       "<IPython.core.display.HTML object>"
      ]
     },
     "metadata": {},
     "output_type": "display_data"
    },
    {
     "data": {
      "text/html": [],
      "text/plain": [
       "<IPython.core.display.HTML object>"
      ]
     },
     "metadata": {},
     "output_type": "display_data"
    },
    {
     "data": {
      "text/html": [],
      "text/plain": [
       "<IPython.core.display.HTML object>"
      ]
     },
     "metadata": {},
     "output_type": "display_data"
    },
    {
     "data": {
      "text/html": [],
      "text/plain": [
       "<IPython.core.display.HTML object>"
      ]
     },
     "metadata": {},
     "output_type": "display_data"
    },
    {
     "data": {
      "text/html": [],
      "text/plain": [
       "<IPython.core.display.HTML object>"
      ]
     },
     "metadata": {},
     "output_type": "display_data"
    },
    {
     "data": {
      "text/html": [],
      "text/plain": [
       "<IPython.core.display.HTML object>"
      ]
     },
     "metadata": {},
     "output_type": "display_data"
    },
    {
     "data": {
      "text/html": [],
      "text/plain": [
       "<IPython.core.display.HTML object>"
      ]
     },
     "metadata": {},
     "output_type": "display_data"
    },
    {
     "data": {
      "text/html": [],
      "text/plain": [
       "<IPython.core.display.HTML object>"
      ]
     },
     "metadata": {},
     "output_type": "display_data"
    },
    {
     "data": {
      "text/html": [],
      "text/plain": [
       "<IPython.core.display.HTML object>"
      ]
     },
     "metadata": {},
     "output_type": "display_data"
    },
    {
     "data": {
      "text/html": [],
      "text/plain": [
       "<IPython.core.display.HTML object>"
      ]
     },
     "metadata": {},
     "output_type": "display_data"
    },
    {
     "data": {
      "text/html": [],
      "text/plain": [
       "<IPython.core.display.HTML object>"
      ]
     },
     "metadata": {},
     "output_type": "display_data"
    },
    {
     "data": {
      "text/html": [],
      "text/plain": [
       "<IPython.core.display.HTML object>"
      ]
     },
     "metadata": {},
     "output_type": "display_data"
    },
    {
     "data": {
      "text/html": [],
      "text/plain": [
       "<IPython.core.display.HTML object>"
      ]
     },
     "metadata": {},
     "output_type": "display_data"
    },
    {
     "data": {
      "text/html": [],
      "text/plain": [
       "<IPython.core.display.HTML object>"
      ]
     },
     "metadata": {},
     "output_type": "display_data"
    },
    {
     "data": {
      "text/html": [],
      "text/plain": [
       "<IPython.core.display.HTML object>"
      ]
     },
     "metadata": {},
     "output_type": "display_data"
    },
    {
     "data": {
      "text/html": [],
      "text/plain": [
       "<IPython.core.display.HTML object>"
      ]
     },
     "metadata": {},
     "output_type": "display_data"
    },
    {
     "data": {
      "text/html": [],
      "text/plain": [
       "<IPython.core.display.HTML object>"
      ]
     },
     "metadata": {},
     "output_type": "display_data"
    },
    {
     "data": {
      "text/html": [],
      "text/plain": [
       "<IPython.core.display.HTML object>"
      ]
     },
     "metadata": {},
     "output_type": "display_data"
    },
    {
     "data": {
      "text/html": [],
      "text/plain": [
       "<IPython.core.display.HTML object>"
      ]
     },
     "metadata": {},
     "output_type": "display_data"
    },
    {
     "data": {
      "text/html": [],
      "text/plain": [
       "<IPython.core.display.HTML object>"
      ]
     },
     "metadata": {},
     "output_type": "display_data"
    },
    {
     "data": {
      "text/html": [],
      "text/plain": [
       "<IPython.core.display.HTML object>"
      ]
     },
     "metadata": {},
     "output_type": "display_data"
    },
    {
     "data": {
      "text/html": [],
      "text/plain": [
       "<IPython.core.display.HTML object>"
      ]
     },
     "metadata": {},
     "output_type": "display_data"
    },
    {
     "data": {
      "text/html": [],
      "text/plain": [
       "<IPython.core.display.HTML object>"
      ]
     },
     "metadata": {},
     "output_type": "display_data"
    },
    {
     "data": {
      "text/html": [],
      "text/plain": [
       "<IPython.core.display.HTML object>"
      ]
     },
     "metadata": {},
     "output_type": "display_data"
    },
    {
     "data": {
      "text/html": [],
      "text/plain": [
       "<IPython.core.display.HTML object>"
      ]
     },
     "metadata": {},
     "output_type": "display_data"
    },
    {
     "data": {
      "text/html": [],
      "text/plain": [
       "<IPython.core.display.HTML object>"
      ]
     },
     "metadata": {},
     "output_type": "display_data"
    },
    {
     "data": {
      "text/html": [],
      "text/plain": [
       "<IPython.core.display.HTML object>"
      ]
     },
     "metadata": {},
     "output_type": "display_data"
    },
    {
     "data": {
      "text/html": [],
      "text/plain": [
       "<IPython.core.display.HTML object>"
      ]
     },
     "metadata": {},
     "output_type": "display_data"
    },
    {
     "data": {
      "text/html": [],
      "text/plain": [
       "<IPython.core.display.HTML object>"
      ]
     },
     "metadata": {},
     "output_type": "display_data"
    },
    {
     "data": {
      "text/html": [],
      "text/plain": [
       "<IPython.core.display.HTML object>"
      ]
     },
     "metadata": {},
     "output_type": "display_data"
    },
    {
     "data": {
      "text/html": [],
      "text/plain": [
       "<IPython.core.display.HTML object>"
      ]
     },
     "metadata": {},
     "output_type": "display_data"
    },
    {
     "data": {
      "text/html": [],
      "text/plain": [
       "<IPython.core.display.HTML object>"
      ]
     },
     "metadata": {},
     "output_type": "display_data"
    },
    {
     "data": {
      "text/html": [],
      "text/plain": [
       "<IPython.core.display.HTML object>"
      ]
     },
     "metadata": {},
     "output_type": "display_data"
    },
    {
     "data": {
      "text/html": [],
      "text/plain": [
       "<IPython.core.display.HTML object>"
      ]
     },
     "metadata": {},
     "output_type": "display_data"
    },
    {
     "data": {
      "text/html": [],
      "text/plain": [
       "<IPython.core.display.HTML object>"
      ]
     },
     "metadata": {},
     "output_type": "display_data"
    },
    {
     "data": {
      "text/html": [],
      "text/plain": [
       "<IPython.core.display.HTML object>"
      ]
     },
     "metadata": {},
     "output_type": "display_data"
    },
    {
     "data": {
      "text/html": [],
      "text/plain": [
       "<IPython.core.display.HTML object>"
      ]
     },
     "metadata": {},
     "output_type": "display_data"
    },
    {
     "data": {
      "text/html": [],
      "text/plain": [
       "<IPython.core.display.HTML object>"
      ]
     },
     "metadata": {},
     "output_type": "display_data"
    },
    {
     "data": {
      "text/html": [],
      "text/plain": [
       "<IPython.core.display.HTML object>"
      ]
     },
     "metadata": {},
     "output_type": "display_data"
    },
    {
     "data": {
      "text/html": [],
      "text/plain": [
       "<IPython.core.display.HTML object>"
      ]
     },
     "metadata": {},
     "output_type": "display_data"
    },
    {
     "data": {
      "text/html": [],
      "text/plain": [
       "<IPython.core.display.HTML object>"
      ]
     },
     "metadata": {},
     "output_type": "display_data"
    },
    {
     "data": {
      "text/html": [],
      "text/plain": [
       "<IPython.core.display.HTML object>"
      ]
     },
     "metadata": {},
     "output_type": "display_data"
    },
    {
     "data": {
      "text/html": [],
      "text/plain": [
       "<IPython.core.display.HTML object>"
      ]
     },
     "metadata": {},
     "output_type": "display_data"
    },
    {
     "data": {
      "text/html": [],
      "text/plain": [
       "<IPython.core.display.HTML object>"
      ]
     },
     "metadata": {},
     "output_type": "display_data"
    },
    {
     "data": {
      "text/html": [],
      "text/plain": [
       "<IPython.core.display.HTML object>"
      ]
     },
     "metadata": {},
     "output_type": "display_data"
    },
    {
     "data": {
      "text/html": [],
      "text/plain": [
       "<IPython.core.display.HTML object>"
      ]
     },
     "metadata": {},
     "output_type": "display_data"
    },
    {
     "data": {
      "text/html": [],
      "text/plain": [
       "<IPython.core.display.HTML object>"
      ]
     },
     "metadata": {},
     "output_type": "display_data"
    },
    {
     "data": {
      "text/html": [],
      "text/plain": [
       "<IPython.core.display.HTML object>"
      ]
     },
     "metadata": {},
     "output_type": "display_data"
    },
    {
     "data": {
      "text/html": [],
      "text/plain": [
       "<IPython.core.display.HTML object>"
      ]
     },
     "metadata": {},
     "output_type": "display_data"
    },
    {
     "data": {
      "text/html": [],
      "text/plain": [
       "<IPython.core.display.HTML object>"
      ]
     },
     "metadata": {},
     "output_type": "display_data"
    },
    {
     "data": {
      "text/html": [],
      "text/plain": [
       "<IPython.core.display.HTML object>"
      ]
     },
     "metadata": {},
     "output_type": "display_data"
    },
    {
     "data": {
      "text/html": [],
      "text/plain": [
       "<IPython.core.display.HTML object>"
      ]
     },
     "metadata": {},
     "output_type": "display_data"
    },
    {
     "data": {
      "text/html": [],
      "text/plain": [
       "<IPython.core.display.HTML object>"
      ]
     },
     "metadata": {},
     "output_type": "display_data"
    },
    {
     "data": {
      "text/html": [],
      "text/plain": [
       "<IPython.core.display.HTML object>"
      ]
     },
     "metadata": {},
     "output_type": "display_data"
    },
    {
     "data": {
      "text/html": [],
      "text/plain": [
       "<IPython.core.display.HTML object>"
      ]
     },
     "metadata": {},
     "output_type": "display_data"
    },
    {
     "data": {
      "text/html": [],
      "text/plain": [
       "<IPython.core.display.HTML object>"
      ]
     },
     "metadata": {},
     "output_type": "display_data"
    },
    {
     "data": {
      "text/html": [],
      "text/plain": [
       "<IPython.core.display.HTML object>"
      ]
     },
     "metadata": {},
     "output_type": "display_data"
    },
    {
     "data": {
      "text/html": [],
      "text/plain": [
       "<IPython.core.display.HTML object>"
      ]
     },
     "metadata": {},
     "output_type": "display_data"
    },
    {
     "data": {
      "text/html": [],
      "text/plain": [
       "<IPython.core.display.HTML object>"
      ]
     },
     "metadata": {},
     "output_type": "display_data"
    },
    {
     "data": {
      "text/html": [],
      "text/plain": [
       "<IPython.core.display.HTML object>"
      ]
     },
     "metadata": {},
     "output_type": "display_data"
    },
    {
     "data": {
      "text/html": [],
      "text/plain": [
       "<IPython.core.display.HTML object>"
      ]
     },
     "metadata": {},
     "output_type": "display_data"
    },
    {
     "data": {
      "text/html": [],
      "text/plain": [
       "<IPython.core.display.HTML object>"
      ]
     },
     "metadata": {},
     "output_type": "display_data"
    },
    {
     "data": {
      "text/html": [],
      "text/plain": [
       "<IPython.core.display.HTML object>"
      ]
     },
     "metadata": {},
     "output_type": "display_data"
    },
    {
     "data": {
      "text/html": [],
      "text/plain": [
       "<IPython.core.display.HTML object>"
      ]
     },
     "metadata": {},
     "output_type": "display_data"
    },
    {
     "data": {
      "text/html": [],
      "text/plain": [
       "<IPython.core.display.HTML object>"
      ]
     },
     "metadata": {},
     "output_type": "display_data"
    },
    {
     "data": {
      "text/html": [],
      "text/plain": [
       "<IPython.core.display.HTML object>"
      ]
     },
     "metadata": {},
     "output_type": "display_data"
    },
    {
     "data": {
      "text/html": [],
      "text/plain": [
       "<IPython.core.display.HTML object>"
      ]
     },
     "metadata": {},
     "output_type": "display_data"
    },
    {
     "data": {
      "text/html": [],
      "text/plain": [
       "<IPython.core.display.HTML object>"
      ]
     },
     "metadata": {},
     "output_type": "display_data"
    },
    {
     "data": {
      "text/html": [],
      "text/plain": [
       "<IPython.core.display.HTML object>"
      ]
     },
     "metadata": {},
     "output_type": "display_data"
    },
    {
     "data": {
      "text/html": [],
      "text/plain": [
       "<IPython.core.display.HTML object>"
      ]
     },
     "metadata": {},
     "output_type": "display_data"
    },
    {
     "data": {
      "text/html": [],
      "text/plain": [
       "<IPython.core.display.HTML object>"
      ]
     },
     "metadata": {},
     "output_type": "display_data"
    },
    {
     "data": {
      "text/html": [],
      "text/plain": [
       "<IPython.core.display.HTML object>"
      ]
     },
     "metadata": {},
     "output_type": "display_data"
    },
    {
     "data": {
      "text/html": [],
      "text/plain": [
       "<IPython.core.display.HTML object>"
      ]
     },
     "metadata": {},
     "output_type": "display_data"
    },
    {
     "data": {
      "text/html": [],
      "text/plain": [
       "<IPython.core.display.HTML object>"
      ]
     },
     "metadata": {},
     "output_type": "display_data"
    },
    {
     "data": {
      "text/html": [],
      "text/plain": [
       "<IPython.core.display.HTML object>"
      ]
     },
     "metadata": {},
     "output_type": "display_data"
    },
    {
     "data": {
      "text/html": [],
      "text/plain": [
       "<IPython.core.display.HTML object>"
      ]
     },
     "metadata": {},
     "output_type": "display_data"
    },
    {
     "data": {
      "text/html": [],
      "text/plain": [
       "<IPython.core.display.HTML object>"
      ]
     },
     "metadata": {},
     "output_type": "display_data"
    },
    {
     "data": {
      "text/html": [],
      "text/plain": [
       "<IPython.core.display.HTML object>"
      ]
     },
     "metadata": {},
     "output_type": "display_data"
    },
    {
     "data": {
      "text/html": [],
      "text/plain": [
       "<IPython.core.display.HTML object>"
      ]
     },
     "metadata": {},
     "output_type": "display_data"
    },
    {
     "data": {
      "text/html": [],
      "text/plain": [
       "<IPython.core.display.HTML object>"
      ]
     },
     "metadata": {},
     "output_type": "display_data"
    },
    {
     "data": {
      "text/html": [],
      "text/plain": [
       "<IPython.core.display.HTML object>"
      ]
     },
     "metadata": {},
     "output_type": "display_data"
    },
    {
     "data": {
      "text/html": [],
      "text/plain": [
       "<IPython.core.display.HTML object>"
      ]
     },
     "metadata": {},
     "output_type": "display_data"
    },
    {
     "data": {
      "text/html": [],
      "text/plain": [
       "<IPython.core.display.HTML object>"
      ]
     },
     "metadata": {},
     "output_type": "display_data"
    },
    {
     "data": {
      "text/html": [],
      "text/plain": [
       "<IPython.core.display.HTML object>"
      ]
     },
     "metadata": {},
     "output_type": "display_data"
    },
    {
     "data": {
      "text/html": [],
      "text/plain": [
       "<IPython.core.display.HTML object>"
      ]
     },
     "metadata": {},
     "output_type": "display_data"
    },
    {
     "data": {
      "text/html": [],
      "text/plain": [
       "<IPython.core.display.HTML object>"
      ]
     },
     "metadata": {},
     "output_type": "display_data"
    },
    {
     "data": {
      "text/html": [],
      "text/plain": [
       "<IPython.core.display.HTML object>"
      ]
     },
     "metadata": {},
     "output_type": "display_data"
    },
    {
     "data": {
      "text/html": [],
      "text/plain": [
       "<IPython.core.display.HTML object>"
      ]
     },
     "metadata": {},
     "output_type": "display_data"
    },
    {
     "data": {
      "text/html": [],
      "text/plain": [
       "<IPython.core.display.HTML object>"
      ]
     },
     "metadata": {},
     "output_type": "display_data"
    },
    {
     "data": {
      "text/html": [],
      "text/plain": [
       "<IPython.core.display.HTML object>"
      ]
     },
     "metadata": {},
     "output_type": "display_data"
    },
    {
     "data": {
      "text/html": [],
      "text/plain": [
       "<IPython.core.display.HTML object>"
      ]
     },
     "metadata": {},
     "output_type": "display_data"
    },
    {
     "data": {
      "text/html": [],
      "text/plain": [
       "<IPython.core.display.HTML object>"
      ]
     },
     "metadata": {},
     "output_type": "display_data"
    },
    {
     "data": {
      "text/html": [],
      "text/plain": [
       "<IPython.core.display.HTML object>"
      ]
     },
     "metadata": {},
     "output_type": "display_data"
    },
    {
     "data": {
      "text/html": [],
      "text/plain": [
       "<IPython.core.display.HTML object>"
      ]
     },
     "metadata": {},
     "output_type": "display_data"
    },
    {
     "data": {
      "text/html": [],
      "text/plain": [
       "<IPython.core.display.HTML object>"
      ]
     },
     "metadata": {},
     "output_type": "display_data"
    },
    {
     "data": {
      "text/html": [],
      "text/plain": [
       "<IPython.core.display.HTML object>"
      ]
     },
     "metadata": {},
     "output_type": "display_data"
    },
    {
     "data": {
      "text/html": [],
      "text/plain": [
       "<IPython.core.display.HTML object>"
      ]
     },
     "metadata": {},
     "output_type": "display_data"
    },
    {
     "data": {
      "text/html": [],
      "text/plain": [
       "<IPython.core.display.HTML object>"
      ]
     },
     "metadata": {},
     "output_type": "display_data"
    },
    {
     "data": {
      "text/html": [],
      "text/plain": [
       "<IPython.core.display.HTML object>"
      ]
     },
     "metadata": {},
     "output_type": "display_data"
    },
    {
     "data": {
      "text/html": [],
      "text/plain": [
       "<IPython.core.display.HTML object>"
      ]
     },
     "metadata": {},
     "output_type": "display_data"
    },
    {
     "data": {
      "text/html": [],
      "text/plain": [
       "<IPython.core.display.HTML object>"
      ]
     },
     "metadata": {},
     "output_type": "display_data"
    },
    {
     "data": {
      "text/html": [],
      "text/plain": [
       "<IPython.core.display.HTML object>"
      ]
     },
     "metadata": {},
     "output_type": "display_data"
    },
    {
     "data": {
      "text/html": [],
      "text/plain": [
       "<IPython.core.display.HTML object>"
      ]
     },
     "metadata": {},
     "output_type": "display_data"
    },
    {
     "data": {
      "text/html": [],
      "text/plain": [
       "<IPython.core.display.HTML object>"
      ]
     },
     "metadata": {},
     "output_type": "display_data"
    },
    {
     "data": {
      "text/html": [],
      "text/plain": [
       "<IPython.core.display.HTML object>"
      ]
     },
     "metadata": {},
     "output_type": "display_data"
    },
    {
     "data": {
      "text/html": [],
      "text/plain": [
       "<IPython.core.display.HTML object>"
      ]
     },
     "metadata": {},
     "output_type": "display_data"
    },
    {
     "data": {
      "text/html": [],
      "text/plain": [
       "<IPython.core.display.HTML object>"
      ]
     },
     "metadata": {},
     "output_type": "display_data"
    },
    {
     "data": {
      "text/html": [],
      "text/plain": [
       "<IPython.core.display.HTML object>"
      ]
     },
     "metadata": {},
     "output_type": "display_data"
    },
    {
     "data": {
      "text/html": [],
      "text/plain": [
       "<IPython.core.display.HTML object>"
      ]
     },
     "metadata": {},
     "output_type": "display_data"
    },
    {
     "data": {
      "text/html": [],
      "text/plain": [
       "<IPython.core.display.HTML object>"
      ]
     },
     "metadata": {},
     "output_type": "display_data"
    },
    {
     "data": {
      "text/html": [],
      "text/plain": [
       "<IPython.core.display.HTML object>"
      ]
     },
     "metadata": {},
     "output_type": "display_data"
    },
    {
     "data": {
      "text/html": [],
      "text/plain": [
       "<IPython.core.display.HTML object>"
      ]
     },
     "metadata": {},
     "output_type": "display_data"
    },
    {
     "data": {
      "text/html": [],
      "text/plain": [
       "<IPython.core.display.HTML object>"
      ]
     },
     "metadata": {},
     "output_type": "display_data"
    },
    {
     "data": {
      "text/html": [],
      "text/plain": [
       "<IPython.core.display.HTML object>"
      ]
     },
     "metadata": {},
     "output_type": "display_data"
    },
    {
     "data": {
      "text/html": [],
      "text/plain": [
       "<IPython.core.display.HTML object>"
      ]
     },
     "metadata": {},
     "output_type": "display_data"
    },
    {
     "data": {
      "text/html": [],
      "text/plain": [
       "<IPython.core.display.HTML object>"
      ]
     },
     "metadata": {},
     "output_type": "display_data"
    },
    {
     "data": {
      "text/html": [],
      "text/plain": [
       "<IPython.core.display.HTML object>"
      ]
     },
     "metadata": {},
     "output_type": "display_data"
    },
    {
     "data": {
      "text/html": [],
      "text/plain": [
       "<IPython.core.display.HTML object>"
      ]
     },
     "metadata": {},
     "output_type": "display_data"
    },
    {
     "data": {
      "text/html": [],
      "text/plain": [
       "<IPython.core.display.HTML object>"
      ]
     },
     "metadata": {},
     "output_type": "display_data"
    },
    {
     "data": {
      "text/html": [],
      "text/plain": [
       "<IPython.core.display.HTML object>"
      ]
     },
     "metadata": {},
     "output_type": "display_data"
    },
    {
     "data": {
      "text/html": [],
      "text/plain": [
       "<IPython.core.display.HTML object>"
      ]
     },
     "metadata": {},
     "output_type": "display_data"
    },
    {
     "data": {
      "text/html": [],
      "text/plain": [
       "<IPython.core.display.HTML object>"
      ]
     },
     "metadata": {},
     "output_type": "display_data"
    },
    {
     "data": {
      "text/html": [],
      "text/plain": [
       "<IPython.core.display.HTML object>"
      ]
     },
     "metadata": {},
     "output_type": "display_data"
    },
    {
     "data": {
      "text/html": [],
      "text/plain": [
       "<IPython.core.display.HTML object>"
      ]
     },
     "metadata": {},
     "output_type": "display_data"
    },
    {
     "data": {
      "text/html": [],
      "text/plain": [
       "<IPython.core.display.HTML object>"
      ]
     },
     "metadata": {},
     "output_type": "display_data"
    },
    {
     "data": {
      "text/html": [],
      "text/plain": [
       "<IPython.core.display.HTML object>"
      ]
     },
     "metadata": {},
     "output_type": "display_data"
    },
    {
     "data": {
      "text/html": [],
      "text/plain": [
       "<IPython.core.display.HTML object>"
      ]
     },
     "metadata": {},
     "output_type": "display_data"
    },
    {
     "data": {
      "text/html": [],
      "text/plain": [
       "<IPython.core.display.HTML object>"
      ]
     },
     "metadata": {},
     "output_type": "display_data"
    },
    {
     "data": {
      "text/html": [],
      "text/plain": [
       "<IPython.core.display.HTML object>"
      ]
     },
     "metadata": {},
     "output_type": "display_data"
    },
    {
     "data": {
      "text/html": [],
      "text/plain": [
       "<IPython.core.display.HTML object>"
      ]
     },
     "metadata": {},
     "output_type": "display_data"
    },
    {
     "data": {
      "text/html": [],
      "text/plain": [
       "<IPython.core.display.HTML object>"
      ]
     },
     "metadata": {},
     "output_type": "display_data"
    },
    {
     "data": {
      "text/html": [],
      "text/plain": [
       "<IPython.core.display.HTML object>"
      ]
     },
     "metadata": {},
     "output_type": "display_data"
    },
    {
     "data": {
      "text/html": [],
      "text/plain": [
       "<IPython.core.display.HTML object>"
      ]
     },
     "metadata": {},
     "output_type": "display_data"
    },
    {
     "data": {
      "text/html": [],
      "text/plain": [
       "<IPython.core.display.HTML object>"
      ]
     },
     "metadata": {},
     "output_type": "display_data"
    },
    {
     "data": {
      "text/html": [],
      "text/plain": [
       "<IPython.core.display.HTML object>"
      ]
     },
     "metadata": {},
     "output_type": "display_data"
    },
    {
     "data": {
      "text/html": [],
      "text/plain": [
       "<IPython.core.display.HTML object>"
      ]
     },
     "metadata": {},
     "output_type": "display_data"
    },
    {
     "data": {
      "text/html": [],
      "text/plain": [
       "<IPython.core.display.HTML object>"
      ]
     },
     "metadata": {},
     "output_type": "display_data"
    },
    {
     "data": {
      "text/html": [],
      "text/plain": [
       "<IPython.core.display.HTML object>"
      ]
     },
     "metadata": {},
     "output_type": "display_data"
    },
    {
     "data": {
      "text/html": [],
      "text/plain": [
       "<IPython.core.display.HTML object>"
      ]
     },
     "metadata": {},
     "output_type": "display_data"
    },
    {
     "data": {
      "text/html": [],
      "text/plain": [
       "<IPython.core.display.HTML object>"
      ]
     },
     "metadata": {},
     "output_type": "display_data"
    },
    {
     "data": {
      "text/html": [],
      "text/plain": [
       "<IPython.core.display.HTML object>"
      ]
     },
     "metadata": {},
     "output_type": "display_data"
    },
    {
     "data": {
      "text/html": [],
      "text/plain": [
       "<IPython.core.display.HTML object>"
      ]
     },
     "metadata": {},
     "output_type": "display_data"
    },
    {
     "data": {
      "text/html": [],
      "text/plain": [
       "<IPython.core.display.HTML object>"
      ]
     },
     "metadata": {},
     "output_type": "display_data"
    },
    {
     "data": {
      "text/html": [],
      "text/plain": [
       "<IPython.core.display.HTML object>"
      ]
     },
     "metadata": {},
     "output_type": "display_data"
    },
    {
     "data": {
      "text/html": [],
      "text/plain": [
       "<IPython.core.display.HTML object>"
      ]
     },
     "metadata": {},
     "output_type": "display_data"
    },
    {
     "data": {
      "text/html": [],
      "text/plain": [
       "<IPython.core.display.HTML object>"
      ]
     },
     "metadata": {},
     "output_type": "display_data"
    },
    {
     "data": {
      "text/html": [],
      "text/plain": [
       "<IPython.core.display.HTML object>"
      ]
     },
     "metadata": {},
     "output_type": "display_data"
    },
    {
     "data": {
      "text/html": [],
      "text/plain": [
       "<IPython.core.display.HTML object>"
      ]
     },
     "metadata": {},
     "output_type": "display_data"
    },
    {
     "data": {
      "text/html": [],
      "text/plain": [
       "<IPython.core.display.HTML object>"
      ]
     },
     "metadata": {},
     "output_type": "display_data"
    },
    {
     "data": {
      "text/html": [],
      "text/plain": [
       "<IPython.core.display.HTML object>"
      ]
     },
     "metadata": {},
     "output_type": "display_data"
    },
    {
     "data": {
      "text/html": [],
      "text/plain": [
       "<IPython.core.display.HTML object>"
      ]
     },
     "metadata": {},
     "output_type": "display_data"
    },
    {
     "data": {
      "text/html": [],
      "text/plain": [
       "<IPython.core.display.HTML object>"
      ]
     },
     "metadata": {},
     "output_type": "display_data"
    },
    {
     "data": {
      "text/html": [],
      "text/plain": [
       "<IPython.core.display.HTML object>"
      ]
     },
     "metadata": {},
     "output_type": "display_data"
    },
    {
     "data": {
      "text/html": [],
      "text/plain": [
       "<IPython.core.display.HTML object>"
      ]
     },
     "metadata": {},
     "output_type": "display_data"
    },
    {
     "data": {
      "text/html": [],
      "text/plain": [
       "<IPython.core.display.HTML object>"
      ]
     },
     "metadata": {},
     "output_type": "display_data"
    },
    {
     "data": {
      "text/html": [],
      "text/plain": [
       "<IPython.core.display.HTML object>"
      ]
     },
     "metadata": {},
     "output_type": "display_data"
    },
    {
     "data": {
      "text/html": [],
      "text/plain": [
       "<IPython.core.display.HTML object>"
      ]
     },
     "metadata": {},
     "output_type": "display_data"
    },
    {
     "data": {
      "text/html": [],
      "text/plain": [
       "<IPython.core.display.HTML object>"
      ]
     },
     "metadata": {},
     "output_type": "display_data"
    },
    {
     "data": {
      "text/html": [],
      "text/plain": [
       "<IPython.core.display.HTML object>"
      ]
     },
     "metadata": {},
     "output_type": "display_data"
    },
    {
     "data": {
      "text/html": [],
      "text/plain": [
       "<IPython.core.display.HTML object>"
      ]
     },
     "metadata": {},
     "output_type": "display_data"
    },
    {
     "data": {
      "text/html": [],
      "text/plain": [
       "<IPython.core.display.HTML object>"
      ]
     },
     "metadata": {},
     "output_type": "display_data"
    },
    {
     "data": {
      "text/html": [],
      "text/plain": [
       "<IPython.core.display.HTML object>"
      ]
     },
     "metadata": {},
     "output_type": "display_data"
    },
    {
     "data": {
      "text/html": [],
      "text/plain": [
       "<IPython.core.display.HTML object>"
      ]
     },
     "metadata": {},
     "output_type": "display_data"
    },
    {
     "data": {
      "text/html": [],
      "text/plain": [
       "<IPython.core.display.HTML object>"
      ]
     },
     "metadata": {},
     "output_type": "display_data"
    },
    {
     "data": {
      "text/html": [],
      "text/plain": [
       "<IPython.core.display.HTML object>"
      ]
     },
     "metadata": {},
     "output_type": "display_data"
    },
    {
     "data": {
      "text/html": [],
      "text/plain": [
       "<IPython.core.display.HTML object>"
      ]
     },
     "metadata": {},
     "output_type": "display_data"
    },
    {
     "data": {
      "text/html": [],
      "text/plain": [
       "<IPython.core.display.HTML object>"
      ]
     },
     "metadata": {},
     "output_type": "display_data"
    },
    {
     "data": {
      "text/html": [],
      "text/plain": [
       "<IPython.core.display.HTML object>"
      ]
     },
     "metadata": {},
     "output_type": "display_data"
    },
    {
     "data": {
      "text/html": [],
      "text/plain": [
       "<IPython.core.display.HTML object>"
      ]
     },
     "metadata": {},
     "output_type": "display_data"
    },
    {
     "data": {
      "text/html": [],
      "text/plain": [
       "<IPython.core.display.HTML object>"
      ]
     },
     "metadata": {},
     "output_type": "display_data"
    },
    {
     "data": {
      "text/html": [],
      "text/plain": [
       "<IPython.core.display.HTML object>"
      ]
     },
     "metadata": {},
     "output_type": "display_data"
    },
    {
     "data": {
      "text/html": [],
      "text/plain": [
       "<IPython.core.display.HTML object>"
      ]
     },
     "metadata": {},
     "output_type": "display_data"
    },
    {
     "data": {
      "text/html": [],
      "text/plain": [
       "<IPython.core.display.HTML object>"
      ]
     },
     "metadata": {},
     "output_type": "display_data"
    },
    {
     "data": {
      "text/html": [],
      "text/plain": [
       "<IPython.core.display.HTML object>"
      ]
     },
     "metadata": {},
     "output_type": "display_data"
    },
    {
     "data": {
      "text/html": [],
      "text/plain": [
       "<IPython.core.display.HTML object>"
      ]
     },
     "metadata": {},
     "output_type": "display_data"
    },
    {
     "data": {
      "text/html": [],
      "text/plain": [
       "<IPython.core.display.HTML object>"
      ]
     },
     "metadata": {},
     "output_type": "display_data"
    },
    {
     "data": {
      "text/html": [],
      "text/plain": [
       "<IPython.core.display.HTML object>"
      ]
     },
     "metadata": {},
     "output_type": "display_data"
    },
    {
     "data": {
      "text/html": [],
      "text/plain": [
       "<IPython.core.display.HTML object>"
      ]
     },
     "metadata": {},
     "output_type": "display_data"
    },
    {
     "data": {
      "text/html": [],
      "text/plain": [
       "<IPython.core.display.HTML object>"
      ]
     },
     "metadata": {},
     "output_type": "display_data"
    },
    {
     "data": {
      "text/html": [],
      "text/plain": [
       "<IPython.core.display.HTML object>"
      ]
     },
     "metadata": {},
     "output_type": "display_data"
    },
    {
     "data": {
      "text/html": [],
      "text/plain": [
       "<IPython.core.display.HTML object>"
      ]
     },
     "metadata": {},
     "output_type": "display_data"
    },
    {
     "data": {
      "text/html": [],
      "text/plain": [
       "<IPython.core.display.HTML object>"
      ]
     },
     "metadata": {},
     "output_type": "display_data"
    },
    {
     "data": {
      "text/html": [],
      "text/plain": [
       "<IPython.core.display.HTML object>"
      ]
     },
     "metadata": {},
     "output_type": "display_data"
    },
    {
     "data": {
      "text/html": [],
      "text/plain": [
       "<IPython.core.display.HTML object>"
      ]
     },
     "metadata": {},
     "output_type": "display_data"
    },
    {
     "data": {
      "text/html": [],
      "text/plain": [
       "<IPython.core.display.HTML object>"
      ]
     },
     "metadata": {},
     "output_type": "display_data"
    },
    {
     "data": {
      "text/html": [],
      "text/plain": [
       "<IPython.core.display.HTML object>"
      ]
     },
     "metadata": {},
     "output_type": "display_data"
    },
    {
     "data": {
      "text/html": [],
      "text/plain": [
       "<IPython.core.display.HTML object>"
      ]
     },
     "metadata": {},
     "output_type": "display_data"
    },
    {
     "data": {
      "text/html": [],
      "text/plain": [
       "<IPython.core.display.HTML object>"
      ]
     },
     "metadata": {},
     "output_type": "display_data"
    },
    {
     "data": {
      "text/html": [],
      "text/plain": [
       "<IPython.core.display.HTML object>"
      ]
     },
     "metadata": {},
     "output_type": "display_data"
    },
    {
     "data": {
      "text/html": [],
      "text/plain": [
       "<IPython.core.display.HTML object>"
      ]
     },
     "metadata": {},
     "output_type": "display_data"
    },
    {
     "data": {
      "text/html": [],
      "text/plain": [
       "<IPython.core.display.HTML object>"
      ]
     },
     "metadata": {},
     "output_type": "display_data"
    },
    {
     "data": {
      "text/html": [],
      "text/plain": [
       "<IPython.core.display.HTML object>"
      ]
     },
     "metadata": {},
     "output_type": "display_data"
    },
    {
     "data": {
      "text/html": [],
      "text/plain": [
       "<IPython.core.display.HTML object>"
      ]
     },
     "metadata": {},
     "output_type": "display_data"
    },
    {
     "data": {
      "text/html": [],
      "text/plain": [
       "<IPython.core.display.HTML object>"
      ]
     },
     "metadata": {},
     "output_type": "display_data"
    },
    {
     "data": {
      "text/html": [],
      "text/plain": [
       "<IPython.core.display.HTML object>"
      ]
     },
     "metadata": {},
     "output_type": "display_data"
    },
    {
     "data": {
      "text/html": [],
      "text/plain": [
       "<IPython.core.display.HTML object>"
      ]
     },
     "metadata": {},
     "output_type": "display_data"
    },
    {
     "data": {
      "text/html": [],
      "text/plain": [
       "<IPython.core.display.HTML object>"
      ]
     },
     "metadata": {},
     "output_type": "display_data"
    },
    {
     "data": {
      "text/html": [],
      "text/plain": [
       "<IPython.core.display.HTML object>"
      ]
     },
     "metadata": {},
     "output_type": "display_data"
    },
    {
     "data": {
      "text/html": [],
      "text/plain": [
       "<IPython.core.display.HTML object>"
      ]
     },
     "metadata": {},
     "output_type": "display_data"
    },
    {
     "data": {
      "text/html": [],
      "text/plain": [
       "<IPython.core.display.HTML object>"
      ]
     },
     "metadata": {},
     "output_type": "display_data"
    },
    {
     "data": {
      "text/html": [],
      "text/plain": [
       "<IPython.core.display.HTML object>"
      ]
     },
     "metadata": {},
     "output_type": "display_data"
    },
    {
     "data": {
      "text/html": [],
      "text/plain": [
       "<IPython.core.display.HTML object>"
      ]
     },
     "metadata": {},
     "output_type": "display_data"
    },
    {
     "data": {
      "text/html": [],
      "text/plain": [
       "<IPython.core.display.HTML object>"
      ]
     },
     "metadata": {},
     "output_type": "display_data"
    },
    {
     "data": {
      "text/html": [],
      "text/plain": [
       "<IPython.core.display.HTML object>"
      ]
     },
     "metadata": {},
     "output_type": "display_data"
    },
    {
     "data": {
      "text/html": [],
      "text/plain": [
       "<IPython.core.display.HTML object>"
      ]
     },
     "metadata": {},
     "output_type": "display_data"
    },
    {
     "data": {
      "text/html": [],
      "text/plain": [
       "<IPython.core.display.HTML object>"
      ]
     },
     "metadata": {},
     "output_type": "display_data"
    },
    {
     "data": {
      "text/html": [],
      "text/plain": [
       "<IPython.core.display.HTML object>"
      ]
     },
     "metadata": {},
     "output_type": "display_data"
    },
    {
     "data": {
      "text/html": [],
      "text/plain": [
       "<IPython.core.display.HTML object>"
      ]
     },
     "metadata": {},
     "output_type": "display_data"
    },
    {
     "data": {
      "text/html": [],
      "text/plain": [
       "<IPython.core.display.HTML object>"
      ]
     },
     "metadata": {},
     "output_type": "display_data"
    },
    {
     "data": {
      "text/html": [],
      "text/plain": [
       "<IPython.core.display.HTML object>"
      ]
     },
     "metadata": {},
     "output_type": "display_data"
    },
    {
     "data": {
      "text/html": [],
      "text/plain": [
       "<IPython.core.display.HTML object>"
      ]
     },
     "metadata": {},
     "output_type": "display_data"
    },
    {
     "data": {
      "text/html": [],
      "text/plain": [
       "<IPython.core.display.HTML object>"
      ]
     },
     "metadata": {},
     "output_type": "display_data"
    },
    {
     "data": {
      "text/html": [],
      "text/plain": [
       "<IPython.core.display.HTML object>"
      ]
     },
     "metadata": {},
     "output_type": "display_data"
    },
    {
     "data": {
      "text/html": [],
      "text/plain": [
       "<IPython.core.display.HTML object>"
      ]
     },
     "metadata": {},
     "output_type": "display_data"
    },
    {
     "data": {
      "text/html": [],
      "text/plain": [
       "<IPython.core.display.HTML object>"
      ]
     },
     "metadata": {},
     "output_type": "display_data"
    },
    {
     "data": {
      "text/html": [],
      "text/plain": [
       "<IPython.core.display.HTML object>"
      ]
     },
     "metadata": {},
     "output_type": "display_data"
    },
    {
     "data": {
      "text/html": [],
      "text/plain": [
       "<IPython.core.display.HTML object>"
      ]
     },
     "metadata": {},
     "output_type": "display_data"
    },
    {
     "data": {
      "text/html": [],
      "text/plain": [
       "<IPython.core.display.HTML object>"
      ]
     },
     "metadata": {},
     "output_type": "display_data"
    },
    {
     "data": {
      "text/html": [],
      "text/plain": [
       "<IPython.core.display.HTML object>"
      ]
     },
     "metadata": {},
     "output_type": "display_data"
    },
    {
     "data": {
      "text/html": [],
      "text/plain": [
       "<IPython.core.display.HTML object>"
      ]
     },
     "metadata": {},
     "output_type": "display_data"
    },
    {
     "data": {
      "text/html": [],
      "text/plain": [
       "<IPython.core.display.HTML object>"
      ]
     },
     "metadata": {},
     "output_type": "display_data"
    },
    {
     "data": {
      "text/html": [],
      "text/plain": [
       "<IPython.core.display.HTML object>"
      ]
     },
     "metadata": {},
     "output_type": "display_data"
    },
    {
     "data": {
      "text/html": [],
      "text/plain": [
       "<IPython.core.display.HTML object>"
      ]
     },
     "metadata": {},
     "output_type": "display_data"
    },
    {
     "data": {
      "text/html": [],
      "text/plain": [
       "<IPython.core.display.HTML object>"
      ]
     },
     "metadata": {},
     "output_type": "display_data"
    },
    {
     "data": {
      "text/html": [],
      "text/plain": [
       "<IPython.core.display.HTML object>"
      ]
     },
     "metadata": {},
     "output_type": "display_data"
    },
    {
     "data": {
      "text/html": [],
      "text/plain": [
       "<IPython.core.display.HTML object>"
      ]
     },
     "metadata": {},
     "output_type": "display_data"
    },
    {
     "data": {
      "text/html": [],
      "text/plain": [
       "<IPython.core.display.HTML object>"
      ]
     },
     "metadata": {},
     "output_type": "display_data"
    },
    {
     "data": {
      "text/html": [],
      "text/plain": [
       "<IPython.core.display.HTML object>"
      ]
     },
     "metadata": {},
     "output_type": "display_data"
    },
    {
     "data": {
      "text/html": [],
      "text/plain": [
       "<IPython.core.display.HTML object>"
      ]
     },
     "metadata": {},
     "output_type": "display_data"
    },
    {
     "data": {
      "text/html": [],
      "text/plain": [
       "<IPython.core.display.HTML object>"
      ]
     },
     "metadata": {},
     "output_type": "display_data"
    },
    {
     "data": {
      "text/html": [],
      "text/plain": [
       "<IPython.core.display.HTML object>"
      ]
     },
     "metadata": {},
     "output_type": "display_data"
    },
    {
     "data": {
      "text/html": [],
      "text/plain": [
       "<IPython.core.display.HTML object>"
      ]
     },
     "metadata": {},
     "output_type": "display_data"
    },
    {
     "data": {
      "text/html": [],
      "text/plain": [
       "<IPython.core.display.HTML object>"
      ]
     },
     "metadata": {},
     "output_type": "display_data"
    },
    {
     "data": {
      "text/html": [],
      "text/plain": [
       "<IPython.core.display.HTML object>"
      ]
     },
     "metadata": {},
     "output_type": "display_data"
    },
    {
     "data": {
      "text/html": [],
      "text/plain": [
       "<IPython.core.display.HTML object>"
      ]
     },
     "metadata": {},
     "output_type": "display_data"
    },
    {
     "data": {
      "text/html": [],
      "text/plain": [
       "<IPython.core.display.HTML object>"
      ]
     },
     "metadata": {},
     "output_type": "display_data"
    },
    {
     "data": {
      "text/html": [],
      "text/plain": [
       "<IPython.core.display.HTML object>"
      ]
     },
     "metadata": {},
     "output_type": "display_data"
    },
    {
     "data": {
      "text/html": [],
      "text/plain": [
       "<IPython.core.display.HTML object>"
      ]
     },
     "metadata": {},
     "output_type": "display_data"
    },
    {
     "data": {
      "text/html": [],
      "text/plain": [
       "<IPython.core.display.HTML object>"
      ]
     },
     "metadata": {},
     "output_type": "display_data"
    },
    {
     "data": {
      "text/html": [],
      "text/plain": [
       "<IPython.core.display.HTML object>"
      ]
     },
     "metadata": {},
     "output_type": "display_data"
    },
    {
     "data": {
      "text/html": [],
      "text/plain": [
       "<IPython.core.display.HTML object>"
      ]
     },
     "metadata": {},
     "output_type": "display_data"
    },
    {
     "data": {
      "text/html": [],
      "text/plain": [
       "<IPython.core.display.HTML object>"
      ]
     },
     "metadata": {},
     "output_type": "display_data"
    },
    {
     "data": {
      "text/html": [],
      "text/plain": [
       "<IPython.core.display.HTML object>"
      ]
     },
     "metadata": {},
     "output_type": "display_data"
    },
    {
     "data": {
      "text/html": [],
      "text/plain": [
       "<IPython.core.display.HTML object>"
      ]
     },
     "metadata": {},
     "output_type": "display_data"
    },
    {
     "data": {
      "text/html": [],
      "text/plain": [
       "<IPython.core.display.HTML object>"
      ]
     },
     "metadata": {},
     "output_type": "display_data"
    },
    {
     "data": {
      "text/html": [],
      "text/plain": [
       "<IPython.core.display.HTML object>"
      ]
     },
     "metadata": {},
     "output_type": "display_data"
    },
    {
     "data": {
      "text/html": [],
      "text/plain": [
       "<IPython.core.display.HTML object>"
      ]
     },
     "metadata": {},
     "output_type": "display_data"
    },
    {
     "data": {
      "text/html": [],
      "text/plain": [
       "<IPython.core.display.HTML object>"
      ]
     },
     "metadata": {},
     "output_type": "display_data"
    },
    {
     "data": {
      "text/html": [],
      "text/plain": [
       "<IPython.core.display.HTML object>"
      ]
     },
     "metadata": {},
     "output_type": "display_data"
    },
    {
     "data": {
      "text/html": [],
      "text/plain": [
       "<IPython.core.display.HTML object>"
      ]
     },
     "metadata": {},
     "output_type": "display_data"
    },
    {
     "data": {
      "text/html": [],
      "text/plain": [
       "<IPython.core.display.HTML object>"
      ]
     },
     "metadata": {},
     "output_type": "display_data"
    },
    {
     "data": {
      "text/html": [],
      "text/plain": [
       "<IPython.core.display.HTML object>"
      ]
     },
     "metadata": {},
     "output_type": "display_data"
    },
    {
     "data": {
      "text/html": [],
      "text/plain": [
       "<IPython.core.display.HTML object>"
      ]
     },
     "metadata": {},
     "output_type": "display_data"
    },
    {
     "data": {
      "text/html": [],
      "text/plain": [
       "<IPython.core.display.HTML object>"
      ]
     },
     "metadata": {},
     "output_type": "display_data"
    },
    {
     "data": {
      "text/html": [],
      "text/plain": [
       "<IPython.core.display.HTML object>"
      ]
     },
     "metadata": {},
     "output_type": "display_data"
    },
    {
     "data": {
      "text/html": [],
      "text/plain": [
       "<IPython.core.display.HTML object>"
      ]
     },
     "metadata": {},
     "output_type": "display_data"
    },
    {
     "data": {
      "text/html": [],
      "text/plain": [
       "<IPython.core.display.HTML object>"
      ]
     },
     "metadata": {},
     "output_type": "display_data"
    },
    {
     "data": {
      "text/html": [],
      "text/plain": [
       "<IPython.core.display.HTML object>"
      ]
     },
     "metadata": {},
     "output_type": "display_data"
    },
    {
     "data": {
      "text/html": [],
      "text/plain": [
       "<IPython.core.display.HTML object>"
      ]
     },
     "metadata": {},
     "output_type": "display_data"
    },
    {
     "data": {
      "text/html": [],
      "text/plain": [
       "<IPython.core.display.HTML object>"
      ]
     },
     "metadata": {},
     "output_type": "display_data"
    },
    {
     "data": {
      "text/html": [],
      "text/plain": [
       "<IPython.core.display.HTML object>"
      ]
     },
     "metadata": {},
     "output_type": "display_data"
    },
    {
     "data": {
      "text/html": [],
      "text/plain": [
       "<IPython.core.display.HTML object>"
      ]
     },
     "metadata": {},
     "output_type": "display_data"
    },
    {
     "data": {
      "text/html": [],
      "text/plain": [
       "<IPython.core.display.HTML object>"
      ]
     },
     "metadata": {},
     "output_type": "display_data"
    },
    {
     "data": {
      "text/html": [],
      "text/plain": [
       "<IPython.core.display.HTML object>"
      ]
     },
     "metadata": {},
     "output_type": "display_data"
    },
    {
     "data": {
      "text/html": [],
      "text/plain": [
       "<IPython.core.display.HTML object>"
      ]
     },
     "metadata": {},
     "output_type": "display_data"
    },
    {
     "data": {
      "text/html": [],
      "text/plain": [
       "<IPython.core.display.HTML object>"
      ]
     },
     "metadata": {},
     "output_type": "display_data"
    },
    {
     "data": {
      "text/html": [],
      "text/plain": [
       "<IPython.core.display.HTML object>"
      ]
     },
     "metadata": {},
     "output_type": "display_data"
    },
    {
     "data": {
      "text/html": [],
      "text/plain": [
       "<IPython.core.display.HTML object>"
      ]
     },
     "metadata": {},
     "output_type": "display_data"
    },
    {
     "data": {
      "text/html": [],
      "text/plain": [
       "<IPython.core.display.HTML object>"
      ]
     },
     "metadata": {},
     "output_type": "display_data"
    },
    {
     "data": {
      "text/html": [],
      "text/plain": [
       "<IPython.core.display.HTML object>"
      ]
     },
     "metadata": {},
     "output_type": "display_data"
    },
    {
     "data": {
      "text/html": [],
      "text/plain": [
       "<IPython.core.display.HTML object>"
      ]
     },
     "metadata": {},
     "output_type": "display_data"
    },
    {
     "data": {
      "text/html": [],
      "text/plain": [
       "<IPython.core.display.HTML object>"
      ]
     },
     "metadata": {},
     "output_type": "display_data"
    },
    {
     "data": {
      "text/html": [],
      "text/plain": [
       "<IPython.core.display.HTML object>"
      ]
     },
     "metadata": {},
     "output_type": "display_data"
    },
    {
     "data": {
      "text/html": [],
      "text/plain": [
       "<IPython.core.display.HTML object>"
      ]
     },
     "metadata": {},
     "output_type": "display_data"
    },
    {
     "data": {
      "text/html": [],
      "text/plain": [
       "<IPython.core.display.HTML object>"
      ]
     },
     "metadata": {},
     "output_type": "display_data"
    },
    {
     "data": {
      "text/html": [],
      "text/plain": [
       "<IPython.core.display.HTML object>"
      ]
     },
     "metadata": {},
     "output_type": "display_data"
    },
    {
     "data": {
      "text/html": [],
      "text/plain": [
       "<IPython.core.display.HTML object>"
      ]
     },
     "metadata": {},
     "output_type": "display_data"
    },
    {
     "data": {
      "text/html": [],
      "text/plain": [
       "<IPython.core.display.HTML object>"
      ]
     },
     "metadata": {},
     "output_type": "display_data"
    },
    {
     "data": {
      "text/html": [],
      "text/plain": [
       "<IPython.core.display.HTML object>"
      ]
     },
     "metadata": {},
     "output_type": "display_data"
    },
    {
     "data": {
      "text/html": [],
      "text/plain": [
       "<IPython.core.display.HTML object>"
      ]
     },
     "metadata": {},
     "output_type": "display_data"
    },
    {
     "data": {
      "text/html": [],
      "text/plain": [
       "<IPython.core.display.HTML object>"
      ]
     },
     "metadata": {},
     "output_type": "display_data"
    },
    {
     "data": {
      "text/html": [],
      "text/plain": [
       "<IPython.core.display.HTML object>"
      ]
     },
     "metadata": {},
     "output_type": "display_data"
    },
    {
     "data": {
      "text/html": [],
      "text/plain": [
       "<IPython.core.display.HTML object>"
      ]
     },
     "metadata": {},
     "output_type": "display_data"
    },
    {
     "data": {
      "text/html": [],
      "text/plain": [
       "<IPython.core.display.HTML object>"
      ]
     },
     "metadata": {},
     "output_type": "display_data"
    },
    {
     "data": {
      "text/html": [],
      "text/plain": [
       "<IPython.core.display.HTML object>"
      ]
     },
     "metadata": {},
     "output_type": "display_data"
    },
    {
     "data": {
      "text/html": [],
      "text/plain": [
       "<IPython.core.display.HTML object>"
      ]
     },
     "metadata": {},
     "output_type": "display_data"
    },
    {
     "data": {
      "text/html": [],
      "text/plain": [
       "<IPython.core.display.HTML object>"
      ]
     },
     "metadata": {},
     "output_type": "display_data"
    },
    {
     "data": {
      "text/html": [],
      "text/plain": [
       "<IPython.core.display.HTML object>"
      ]
     },
     "metadata": {},
     "output_type": "display_data"
    },
    {
     "data": {
      "text/html": [],
      "text/plain": [
       "<IPython.core.display.HTML object>"
      ]
     },
     "metadata": {},
     "output_type": "display_data"
    },
    {
     "data": {
      "text/html": [],
      "text/plain": [
       "<IPython.core.display.HTML object>"
      ]
     },
     "metadata": {},
     "output_type": "display_data"
    },
    {
     "data": {
      "text/html": [],
      "text/plain": [
       "<IPython.core.display.HTML object>"
      ]
     },
     "metadata": {},
     "output_type": "display_data"
    },
    {
     "data": {
      "text/html": [],
      "text/plain": [
       "<IPython.core.display.HTML object>"
      ]
     },
     "metadata": {},
     "output_type": "display_data"
    },
    {
     "data": {
      "text/html": [],
      "text/plain": [
       "<IPython.core.display.HTML object>"
      ]
     },
     "metadata": {},
     "output_type": "display_data"
    },
    {
     "data": {
      "text/html": [],
      "text/plain": [
       "<IPython.core.display.HTML object>"
      ]
     },
     "metadata": {},
     "output_type": "display_data"
    },
    {
     "data": {
      "text/html": [],
      "text/plain": [
       "<IPython.core.display.HTML object>"
      ]
     },
     "metadata": {},
     "output_type": "display_data"
    },
    {
     "data": {
      "text/html": [],
      "text/plain": [
       "<IPython.core.display.HTML object>"
      ]
     },
     "metadata": {},
     "output_type": "display_data"
    },
    {
     "data": {
      "text/html": [],
      "text/plain": [
       "<IPython.core.display.HTML object>"
      ]
     },
     "metadata": {},
     "output_type": "display_data"
    },
    {
     "data": {
      "text/html": [],
      "text/plain": [
       "<IPython.core.display.HTML object>"
      ]
     },
     "metadata": {},
     "output_type": "display_data"
    },
    {
     "data": {
      "text/html": [],
      "text/plain": [
       "<IPython.core.display.HTML object>"
      ]
     },
     "metadata": {},
     "output_type": "display_data"
    },
    {
     "data": {
      "text/html": [],
      "text/plain": [
       "<IPython.core.display.HTML object>"
      ]
     },
     "metadata": {},
     "output_type": "display_data"
    },
    {
     "data": {
      "text/html": [],
      "text/plain": [
       "<IPython.core.display.HTML object>"
      ]
     },
     "metadata": {},
     "output_type": "display_data"
    },
    {
     "data": {
      "text/html": [],
      "text/plain": [
       "<IPython.core.display.HTML object>"
      ]
     },
     "metadata": {},
     "output_type": "display_data"
    },
    {
     "data": {
      "text/html": [],
      "text/plain": [
       "<IPython.core.display.HTML object>"
      ]
     },
     "metadata": {},
     "output_type": "display_data"
    },
    {
     "data": {
      "text/html": [],
      "text/plain": [
       "<IPython.core.display.HTML object>"
      ]
     },
     "metadata": {},
     "output_type": "display_data"
    },
    {
     "data": {
      "text/html": [],
      "text/plain": [
       "<IPython.core.display.HTML object>"
      ]
     },
     "metadata": {},
     "output_type": "display_data"
    },
    {
     "data": {
      "text/html": [],
      "text/plain": [
       "<IPython.core.display.HTML object>"
      ]
     },
     "metadata": {},
     "output_type": "display_data"
    },
    {
     "data": {
      "text/html": [],
      "text/plain": [
       "<IPython.core.display.HTML object>"
      ]
     },
     "metadata": {},
     "output_type": "display_data"
    },
    {
     "data": {
      "text/html": [],
      "text/plain": [
       "<IPython.core.display.HTML object>"
      ]
     },
     "metadata": {},
     "output_type": "display_data"
    },
    {
     "data": {
      "text/html": [],
      "text/plain": [
       "<IPython.core.display.HTML object>"
      ]
     },
     "metadata": {},
     "output_type": "display_data"
    },
    {
     "data": {
      "text/html": [],
      "text/plain": [
       "<IPython.core.display.HTML object>"
      ]
     },
     "metadata": {},
     "output_type": "display_data"
    },
    {
     "data": {
      "text/html": [],
      "text/plain": [
       "<IPython.core.display.HTML object>"
      ]
     },
     "metadata": {},
     "output_type": "display_data"
    },
    {
     "data": {
      "text/html": [],
      "text/plain": [
       "<IPython.core.display.HTML object>"
      ]
     },
     "metadata": {},
     "output_type": "display_data"
    },
    {
     "data": {
      "text/html": [],
      "text/plain": [
       "<IPython.core.display.HTML object>"
      ]
     },
     "metadata": {},
     "output_type": "display_data"
    },
    {
     "data": {
      "text/html": [],
      "text/plain": [
       "<IPython.core.display.HTML object>"
      ]
     },
     "metadata": {},
     "output_type": "display_data"
    },
    {
     "data": {
      "text/html": [],
      "text/plain": [
       "<IPython.core.display.HTML object>"
      ]
     },
     "metadata": {},
     "output_type": "display_data"
    },
    {
     "data": {
      "text/html": [],
      "text/plain": [
       "<IPython.core.display.HTML object>"
      ]
     },
     "metadata": {},
     "output_type": "display_data"
    },
    {
     "data": {
      "text/html": [],
      "text/plain": [
       "<IPython.core.display.HTML object>"
      ]
     },
     "metadata": {},
     "output_type": "display_data"
    },
    {
     "data": {
      "text/html": [],
      "text/plain": [
       "<IPython.core.display.HTML object>"
      ]
     },
     "metadata": {},
     "output_type": "display_data"
    },
    {
     "data": {
      "text/html": [],
      "text/plain": [
       "<IPython.core.display.HTML object>"
      ]
     },
     "metadata": {},
     "output_type": "display_data"
    },
    {
     "data": {
      "text/html": [],
      "text/plain": [
       "<IPython.core.display.HTML object>"
      ]
     },
     "metadata": {},
     "output_type": "display_data"
    },
    {
     "data": {
      "text/html": [],
      "text/plain": [
       "<IPython.core.display.HTML object>"
      ]
     },
     "metadata": {},
     "output_type": "display_data"
    },
    {
     "data": {
      "text/html": [],
      "text/plain": [
       "<IPython.core.display.HTML object>"
      ]
     },
     "metadata": {},
     "output_type": "display_data"
    },
    {
     "data": {
      "text/html": [],
      "text/plain": [
       "<IPython.core.display.HTML object>"
      ]
     },
     "metadata": {},
     "output_type": "display_data"
    },
    {
     "data": {
      "text/html": [],
      "text/plain": [
       "<IPython.core.display.HTML object>"
      ]
     },
     "metadata": {},
     "output_type": "display_data"
    },
    {
     "data": {
      "text/html": [],
      "text/plain": [
       "<IPython.core.display.HTML object>"
      ]
     },
     "metadata": {},
     "output_type": "display_data"
    },
    {
     "data": {
      "text/html": [],
      "text/plain": [
       "<IPython.core.display.HTML object>"
      ]
     },
     "metadata": {},
     "output_type": "display_data"
    },
    {
     "data": {
      "text/html": [],
      "text/plain": [
       "<IPython.core.display.HTML object>"
      ]
     },
     "metadata": {},
     "output_type": "display_data"
    },
    {
     "data": {
      "text/html": [],
      "text/plain": [
       "<IPython.core.display.HTML object>"
      ]
     },
     "metadata": {},
     "output_type": "display_data"
    },
    {
     "data": {
      "text/html": [],
      "text/plain": [
       "<IPython.core.display.HTML object>"
      ]
     },
     "metadata": {},
     "output_type": "display_data"
    },
    {
     "data": {
      "text/html": [],
      "text/plain": [
       "<IPython.core.display.HTML object>"
      ]
     },
     "metadata": {},
     "output_type": "display_data"
    },
    {
     "data": {
      "text/html": [],
      "text/plain": [
       "<IPython.core.display.HTML object>"
      ]
     },
     "metadata": {},
     "output_type": "display_data"
    },
    {
     "data": {
      "text/html": [],
      "text/plain": [
       "<IPython.core.display.HTML object>"
      ]
     },
     "metadata": {},
     "output_type": "display_data"
    },
    {
     "data": {
      "text/html": [],
      "text/plain": [
       "<IPython.core.display.HTML object>"
      ]
     },
     "metadata": {},
     "output_type": "display_data"
    },
    {
     "data": {
      "text/html": [],
      "text/plain": [
       "<IPython.core.display.HTML object>"
      ]
     },
     "metadata": {},
     "output_type": "display_data"
    },
    {
     "data": {
      "text/html": [],
      "text/plain": [
       "<IPython.core.display.HTML object>"
      ]
     },
     "metadata": {},
     "output_type": "display_data"
    },
    {
     "data": {
      "text/html": [],
      "text/plain": [
       "<IPython.core.display.HTML object>"
      ]
     },
     "metadata": {},
     "output_type": "display_data"
    },
    {
     "data": {
      "text/html": [],
      "text/plain": [
       "<IPython.core.display.HTML object>"
      ]
     },
     "metadata": {},
     "output_type": "display_data"
    },
    {
     "data": {
      "text/html": [],
      "text/plain": [
       "<IPython.core.display.HTML object>"
      ]
     },
     "metadata": {},
     "output_type": "display_data"
    },
    {
     "data": {
      "text/html": [],
      "text/plain": [
       "<IPython.core.display.HTML object>"
      ]
     },
     "metadata": {},
     "output_type": "display_data"
    },
    {
     "data": {
      "text/html": [],
      "text/plain": [
       "<IPython.core.display.HTML object>"
      ]
     },
     "metadata": {},
     "output_type": "display_data"
    },
    {
     "data": {
      "text/html": [],
      "text/plain": [
       "<IPython.core.display.HTML object>"
      ]
     },
     "metadata": {},
     "output_type": "display_data"
    },
    {
     "data": {
      "text/html": [],
      "text/plain": [
       "<IPython.core.display.HTML object>"
      ]
     },
     "metadata": {},
     "output_type": "display_data"
    },
    {
     "data": {
      "text/html": [],
      "text/plain": [
       "<IPython.core.display.HTML object>"
      ]
     },
     "metadata": {},
     "output_type": "display_data"
    },
    {
     "data": {
      "text/html": [],
      "text/plain": [
       "<IPython.core.display.HTML object>"
      ]
     },
     "metadata": {},
     "output_type": "display_data"
    },
    {
     "data": {
      "text/html": [],
      "text/plain": [
       "<IPython.core.display.HTML object>"
      ]
     },
     "metadata": {},
     "output_type": "display_data"
    },
    {
     "data": {
      "text/html": [],
      "text/plain": [
       "<IPython.core.display.HTML object>"
      ]
     },
     "metadata": {},
     "output_type": "display_data"
    },
    {
     "data": {
      "text/html": [],
      "text/plain": [
       "<IPython.core.display.HTML object>"
      ]
     },
     "metadata": {},
     "output_type": "display_data"
    },
    {
     "data": {
      "text/html": [],
      "text/plain": [
       "<IPython.core.display.HTML object>"
      ]
     },
     "metadata": {},
     "output_type": "display_data"
    },
    {
     "data": {
      "text/html": [],
      "text/plain": [
       "<IPython.core.display.HTML object>"
      ]
     },
     "metadata": {},
     "output_type": "display_data"
    },
    {
     "data": {
      "text/html": [],
      "text/plain": [
       "<IPython.core.display.HTML object>"
      ]
     },
     "metadata": {},
     "output_type": "display_data"
    },
    {
     "data": {
      "text/html": [],
      "text/plain": [
       "<IPython.core.display.HTML object>"
      ]
     },
     "metadata": {},
     "output_type": "display_data"
    },
    {
     "data": {
      "text/html": [],
      "text/plain": [
       "<IPython.core.display.HTML object>"
      ]
     },
     "metadata": {},
     "output_type": "display_data"
    },
    {
     "data": {
      "text/html": [],
      "text/plain": [
       "<IPython.core.display.HTML object>"
      ]
     },
     "metadata": {},
     "output_type": "display_data"
    },
    {
     "data": {
      "text/html": [],
      "text/plain": [
       "<IPython.core.display.HTML object>"
      ]
     },
     "metadata": {},
     "output_type": "display_data"
    },
    {
     "data": {
      "text/html": [],
      "text/plain": [
       "<IPython.core.display.HTML object>"
      ]
     },
     "metadata": {},
     "output_type": "display_data"
    },
    {
     "data": {
      "text/html": [],
      "text/plain": [
       "<IPython.core.display.HTML object>"
      ]
     },
     "metadata": {},
     "output_type": "display_data"
    },
    {
     "data": {
      "text/html": [],
      "text/plain": [
       "<IPython.core.display.HTML object>"
      ]
     },
     "metadata": {},
     "output_type": "display_data"
    },
    {
     "data": {
      "text/html": [],
      "text/plain": [
       "<IPython.core.display.HTML object>"
      ]
     },
     "metadata": {},
     "output_type": "display_data"
    },
    {
     "data": {
      "text/html": [],
      "text/plain": [
       "<IPython.core.display.HTML object>"
      ]
     },
     "metadata": {},
     "output_type": "display_data"
    },
    {
     "data": {
      "text/html": [],
      "text/plain": [
       "<IPython.core.display.HTML object>"
      ]
     },
     "metadata": {},
     "output_type": "display_data"
    },
    {
     "data": {
      "text/html": [],
      "text/plain": [
       "<IPython.core.display.HTML object>"
      ]
     },
     "metadata": {},
     "output_type": "display_data"
    },
    {
     "data": {
      "text/html": [],
      "text/plain": [
       "<IPython.core.display.HTML object>"
      ]
     },
     "metadata": {},
     "output_type": "display_data"
    },
    {
     "data": {
      "text/html": [],
      "text/plain": [
       "<IPython.core.display.HTML object>"
      ]
     },
     "metadata": {},
     "output_type": "display_data"
    },
    {
     "data": {
      "text/html": [],
      "text/plain": [
       "<IPython.core.display.HTML object>"
      ]
     },
     "metadata": {},
     "output_type": "display_data"
    },
    {
     "data": {
      "text/html": [],
      "text/plain": [
       "<IPython.core.display.HTML object>"
      ]
     },
     "metadata": {},
     "output_type": "display_data"
    },
    {
     "data": {
      "text/html": [],
      "text/plain": [
       "<IPython.core.display.HTML object>"
      ]
     },
     "metadata": {},
     "output_type": "display_data"
    },
    {
     "data": {
      "text/html": [],
      "text/plain": [
       "<IPython.core.display.HTML object>"
      ]
     },
     "metadata": {},
     "output_type": "display_data"
    },
    {
     "data": {
      "text/html": [],
      "text/plain": [
       "<IPython.core.display.HTML object>"
      ]
     },
     "metadata": {},
     "output_type": "display_data"
    },
    {
     "data": {
      "text/html": [],
      "text/plain": [
       "<IPython.core.display.HTML object>"
      ]
     },
     "metadata": {},
     "output_type": "display_data"
    },
    {
     "data": {
      "text/html": [],
      "text/plain": [
       "<IPython.core.display.HTML object>"
      ]
     },
     "metadata": {},
     "output_type": "display_data"
    },
    {
     "data": {
      "text/html": [],
      "text/plain": [
       "<IPython.core.display.HTML object>"
      ]
     },
     "metadata": {},
     "output_type": "display_data"
    },
    {
     "data": {
      "text/html": [],
      "text/plain": [
       "<IPython.core.display.HTML object>"
      ]
     },
     "metadata": {},
     "output_type": "display_data"
    },
    {
     "data": {
      "text/html": [],
      "text/plain": [
       "<IPython.core.display.HTML object>"
      ]
     },
     "metadata": {},
     "output_type": "display_data"
    },
    {
     "data": {
      "text/html": [],
      "text/plain": [
       "<IPython.core.display.HTML object>"
      ]
     },
     "metadata": {},
     "output_type": "display_data"
    },
    {
     "data": {
      "text/html": [],
      "text/plain": [
       "<IPython.core.display.HTML object>"
      ]
     },
     "metadata": {},
     "output_type": "display_data"
    },
    {
     "data": {
      "text/html": [],
      "text/plain": [
       "<IPython.core.display.HTML object>"
      ]
     },
     "metadata": {},
     "output_type": "display_data"
    },
    {
     "data": {
      "text/html": [],
      "text/plain": [
       "<IPython.core.display.HTML object>"
      ]
     },
     "metadata": {},
     "output_type": "display_data"
    },
    {
     "data": {
      "text/html": [],
      "text/plain": [
       "<IPython.core.display.HTML object>"
      ]
     },
     "metadata": {},
     "output_type": "display_data"
    },
    {
     "data": {
      "text/html": [],
      "text/plain": [
       "<IPython.core.display.HTML object>"
      ]
     },
     "metadata": {},
     "output_type": "display_data"
    },
    {
     "data": {
      "text/html": [],
      "text/plain": [
       "<IPython.core.display.HTML object>"
      ]
     },
     "metadata": {},
     "output_type": "display_data"
    },
    {
     "data": {
      "text/html": [],
      "text/plain": [
       "<IPython.core.display.HTML object>"
      ]
     },
     "metadata": {},
     "output_type": "display_data"
    },
    {
     "data": {
      "text/html": [],
      "text/plain": [
       "<IPython.core.display.HTML object>"
      ]
     },
     "metadata": {},
     "output_type": "display_data"
    },
    {
     "data": {
      "text/html": [],
      "text/plain": [
       "<IPython.core.display.HTML object>"
      ]
     },
     "metadata": {},
     "output_type": "display_data"
    },
    {
     "data": {
      "text/html": [],
      "text/plain": [
       "<IPython.core.display.HTML object>"
      ]
     },
     "metadata": {},
     "output_type": "display_data"
    },
    {
     "data": {
      "text/html": [],
      "text/plain": [
       "<IPython.core.display.HTML object>"
      ]
     },
     "metadata": {},
     "output_type": "display_data"
    },
    {
     "data": {
      "text/html": [],
      "text/plain": [
       "<IPython.core.display.HTML object>"
      ]
     },
     "metadata": {},
     "output_type": "display_data"
    },
    {
     "data": {
      "text/html": [],
      "text/plain": [
       "<IPython.core.display.HTML object>"
      ]
     },
     "metadata": {},
     "output_type": "display_data"
    },
    {
     "data": {
      "text/html": [],
      "text/plain": [
       "<IPython.core.display.HTML object>"
      ]
     },
     "metadata": {},
     "output_type": "display_data"
    },
    {
     "data": {
      "text/html": [],
      "text/plain": [
       "<IPython.core.display.HTML object>"
      ]
     },
     "metadata": {},
     "output_type": "display_data"
    },
    {
     "data": {
      "text/html": [],
      "text/plain": [
       "<IPython.core.display.HTML object>"
      ]
     },
     "metadata": {},
     "output_type": "display_data"
    },
    {
     "data": {
      "text/html": [],
      "text/plain": [
       "<IPython.core.display.HTML object>"
      ]
     },
     "metadata": {},
     "output_type": "display_data"
    },
    {
     "data": {
      "text/html": [],
      "text/plain": [
       "<IPython.core.display.HTML object>"
      ]
     },
     "metadata": {},
     "output_type": "display_data"
    },
    {
     "data": {
      "text/html": [],
      "text/plain": [
       "<IPython.core.display.HTML object>"
      ]
     },
     "metadata": {},
     "output_type": "display_data"
    },
    {
     "data": {
      "text/html": [],
      "text/plain": [
       "<IPython.core.display.HTML object>"
      ]
     },
     "metadata": {},
     "output_type": "display_data"
    },
    {
     "data": {
      "text/html": [],
      "text/plain": [
       "<IPython.core.display.HTML object>"
      ]
     },
     "metadata": {},
     "output_type": "display_data"
    },
    {
     "data": {
      "text/html": [],
      "text/plain": [
       "<IPython.core.display.HTML object>"
      ]
     },
     "metadata": {},
     "output_type": "display_data"
    },
    {
     "data": {
      "text/html": [],
      "text/plain": [
       "<IPython.core.display.HTML object>"
      ]
     },
     "metadata": {},
     "output_type": "display_data"
    },
    {
     "data": {
      "text/html": [],
      "text/plain": [
       "<IPython.core.display.HTML object>"
      ]
     },
     "metadata": {},
     "output_type": "display_data"
    },
    {
     "data": {
      "text/html": [],
      "text/plain": [
       "<IPython.core.display.HTML object>"
      ]
     },
     "metadata": {},
     "output_type": "display_data"
    },
    {
     "data": {
      "text/html": [],
      "text/plain": [
       "<IPython.core.display.HTML object>"
      ]
     },
     "metadata": {},
     "output_type": "display_data"
    },
    {
     "data": {
      "text/html": [],
      "text/plain": [
       "<IPython.core.display.HTML object>"
      ]
     },
     "metadata": {},
     "output_type": "display_data"
    },
    {
     "data": {
      "text/html": [],
      "text/plain": [
       "<IPython.core.display.HTML object>"
      ]
     },
     "metadata": {},
     "output_type": "display_data"
    },
    {
     "data": {
      "text/html": [],
      "text/plain": [
       "<IPython.core.display.HTML object>"
      ]
     },
     "metadata": {},
     "output_type": "display_data"
    },
    {
     "data": {
      "text/html": [],
      "text/plain": [
       "<IPython.core.display.HTML object>"
      ]
     },
     "metadata": {},
     "output_type": "display_data"
    },
    {
     "data": {
      "text/html": [],
      "text/plain": [
       "<IPython.core.display.HTML object>"
      ]
     },
     "metadata": {},
     "output_type": "display_data"
    },
    {
     "data": {
      "text/html": [],
      "text/plain": [
       "<IPython.core.display.HTML object>"
      ]
     },
     "metadata": {},
     "output_type": "display_data"
    },
    {
     "data": {
      "text/html": [],
      "text/plain": [
       "<IPython.core.display.HTML object>"
      ]
     },
     "metadata": {},
     "output_type": "display_data"
    },
    {
     "data": {
      "text/html": [],
      "text/plain": [
       "<IPython.core.display.HTML object>"
      ]
     },
     "metadata": {},
     "output_type": "display_data"
    },
    {
     "data": {
      "text/html": [],
      "text/plain": [
       "<IPython.core.display.HTML object>"
      ]
     },
     "metadata": {},
     "output_type": "display_data"
    },
    {
     "data": {
      "text/html": [],
      "text/plain": [
       "<IPython.core.display.HTML object>"
      ]
     },
     "metadata": {},
     "output_type": "display_data"
    },
    {
     "data": {
      "text/html": [],
      "text/plain": [
       "<IPython.core.display.HTML object>"
      ]
     },
     "metadata": {},
     "output_type": "display_data"
    },
    {
     "data": {
      "text/html": [],
      "text/plain": [
       "<IPython.core.display.HTML object>"
      ]
     },
     "metadata": {},
     "output_type": "display_data"
    },
    {
     "data": {
      "text/html": [],
      "text/plain": [
       "<IPython.core.display.HTML object>"
      ]
     },
     "metadata": {},
     "output_type": "display_data"
    },
    {
     "data": {
      "text/html": [],
      "text/plain": [
       "<IPython.core.display.HTML object>"
      ]
     },
     "metadata": {},
     "output_type": "display_data"
    },
    {
     "data": {
      "text/html": [],
      "text/plain": [
       "<IPython.core.display.HTML object>"
      ]
     },
     "metadata": {},
     "output_type": "display_data"
    },
    {
     "data": {
      "text/html": [],
      "text/plain": [
       "<IPython.core.display.HTML object>"
      ]
     },
     "metadata": {},
     "output_type": "display_data"
    },
    {
     "data": {
      "text/html": [],
      "text/plain": [
       "<IPython.core.display.HTML object>"
      ]
     },
     "metadata": {},
     "output_type": "display_data"
    },
    {
     "data": {
      "text/html": [],
      "text/plain": [
       "<IPython.core.display.HTML object>"
      ]
     },
     "metadata": {},
     "output_type": "display_data"
    },
    {
     "data": {
      "text/html": [],
      "text/plain": [
       "<IPython.core.display.HTML object>"
      ]
     },
     "metadata": {},
     "output_type": "display_data"
    },
    {
     "data": {
      "text/html": [],
      "text/plain": [
       "<IPython.core.display.HTML object>"
      ]
     },
     "metadata": {},
     "output_type": "display_data"
    },
    {
     "data": {
      "text/html": [],
      "text/plain": [
       "<IPython.core.display.HTML object>"
      ]
     },
     "metadata": {},
     "output_type": "display_data"
    },
    {
     "data": {
      "text/html": [],
      "text/plain": [
       "<IPython.core.display.HTML object>"
      ]
     },
     "metadata": {},
     "output_type": "display_data"
    },
    {
     "data": {
      "text/html": [],
      "text/plain": [
       "<IPython.core.display.HTML object>"
      ]
     },
     "metadata": {},
     "output_type": "display_data"
    },
    {
     "data": {
      "text/html": [],
      "text/plain": [
       "<IPython.core.display.HTML object>"
      ]
     },
     "metadata": {},
     "output_type": "display_data"
    },
    {
     "data": {
      "text/html": [],
      "text/plain": [
       "<IPython.core.display.HTML object>"
      ]
     },
     "metadata": {},
     "output_type": "display_data"
    },
    {
     "data": {
      "text/html": [],
      "text/plain": [
       "<IPython.core.display.HTML object>"
      ]
     },
     "metadata": {},
     "output_type": "display_data"
    },
    {
     "data": {
      "text/html": [],
      "text/plain": [
       "<IPython.core.display.HTML object>"
      ]
     },
     "metadata": {},
     "output_type": "display_data"
    },
    {
     "data": {
      "text/html": [],
      "text/plain": [
       "<IPython.core.display.HTML object>"
      ]
     },
     "metadata": {},
     "output_type": "display_data"
    },
    {
     "data": {
      "text/html": [],
      "text/plain": [
       "<IPython.core.display.HTML object>"
      ]
     },
     "metadata": {},
     "output_type": "display_data"
    },
    {
     "data": {
      "text/html": [],
      "text/plain": [
       "<IPython.core.display.HTML object>"
      ]
     },
     "metadata": {},
     "output_type": "display_data"
    },
    {
     "data": {
      "text/html": [],
      "text/plain": [
       "<IPython.core.display.HTML object>"
      ]
     },
     "metadata": {},
     "output_type": "display_data"
    },
    {
     "data": {
      "text/html": [],
      "text/plain": [
       "<IPython.core.display.HTML object>"
      ]
     },
     "metadata": {},
     "output_type": "display_data"
    },
    {
     "data": {
      "text/html": [],
      "text/plain": [
       "<IPython.core.display.HTML object>"
      ]
     },
     "metadata": {},
     "output_type": "display_data"
    },
    {
     "data": {
      "text/html": [],
      "text/plain": [
       "<IPython.core.display.HTML object>"
      ]
     },
     "metadata": {},
     "output_type": "display_data"
    },
    {
     "data": {
      "text/html": [],
      "text/plain": [
       "<IPython.core.display.HTML object>"
      ]
     },
     "metadata": {},
     "output_type": "display_data"
    },
    {
     "data": {
      "text/html": [],
      "text/plain": [
       "<IPython.core.display.HTML object>"
      ]
     },
     "metadata": {},
     "output_type": "display_data"
    },
    {
     "data": {
      "text/html": [],
      "text/plain": [
       "<IPython.core.display.HTML object>"
      ]
     },
     "metadata": {},
     "output_type": "display_data"
    },
    {
     "data": {
      "text/html": [],
      "text/plain": [
       "<IPython.core.display.HTML object>"
      ]
     },
     "metadata": {},
     "output_type": "display_data"
    },
    {
     "data": {
      "text/html": [],
      "text/plain": [
       "<IPython.core.display.HTML object>"
      ]
     },
     "metadata": {},
     "output_type": "display_data"
    },
    {
     "data": {
      "text/html": [],
      "text/plain": [
       "<IPython.core.display.HTML object>"
      ]
     },
     "metadata": {},
     "output_type": "display_data"
    },
    {
     "data": {
      "text/html": [],
      "text/plain": [
       "<IPython.core.display.HTML object>"
      ]
     },
     "metadata": {},
     "output_type": "display_data"
    },
    {
     "data": {
      "text/html": [],
      "text/plain": [
       "<IPython.core.display.HTML object>"
      ]
     },
     "metadata": {},
     "output_type": "display_data"
    },
    {
     "data": {
      "text/html": [],
      "text/plain": [
       "<IPython.core.display.HTML object>"
      ]
     },
     "metadata": {},
     "output_type": "display_data"
    },
    {
     "data": {
      "text/html": [],
      "text/plain": [
       "<IPython.core.display.HTML object>"
      ]
     },
     "metadata": {},
     "output_type": "display_data"
    },
    {
     "data": {
      "text/html": [],
      "text/plain": [
       "<IPython.core.display.HTML object>"
      ]
     },
     "metadata": {},
     "output_type": "display_data"
    },
    {
     "data": {
      "text/html": [],
      "text/plain": [
       "<IPython.core.display.HTML object>"
      ]
     },
     "metadata": {},
     "output_type": "display_data"
    },
    {
     "data": {
      "text/html": [],
      "text/plain": [
       "<IPython.core.display.HTML object>"
      ]
     },
     "metadata": {},
     "output_type": "display_data"
    },
    {
     "data": {
      "text/html": [],
      "text/plain": [
       "<IPython.core.display.HTML object>"
      ]
     },
     "metadata": {},
     "output_type": "display_data"
    },
    {
     "data": {
      "text/html": [],
      "text/plain": [
       "<IPython.core.display.HTML object>"
      ]
     },
     "metadata": {},
     "output_type": "display_data"
    },
    {
     "data": {
      "text/html": [],
      "text/plain": [
       "<IPython.core.display.HTML object>"
      ]
     },
     "metadata": {},
     "output_type": "display_data"
    },
    {
     "data": {
      "text/html": [],
      "text/plain": [
       "<IPython.core.display.HTML object>"
      ]
     },
     "metadata": {},
     "output_type": "display_data"
    },
    {
     "data": {
      "text/html": [],
      "text/plain": [
       "<IPython.core.display.HTML object>"
      ]
     },
     "metadata": {},
     "output_type": "display_data"
    },
    {
     "data": {
      "text/html": [],
      "text/plain": [
       "<IPython.core.display.HTML object>"
      ]
     },
     "metadata": {},
     "output_type": "display_data"
    },
    {
     "data": {
      "text/html": [],
      "text/plain": [
       "<IPython.core.display.HTML object>"
      ]
     },
     "metadata": {},
     "output_type": "display_data"
    },
    {
     "data": {
      "text/html": [],
      "text/plain": [
       "<IPython.core.display.HTML object>"
      ]
     },
     "metadata": {},
     "output_type": "display_data"
    },
    {
     "data": {
      "text/html": [],
      "text/plain": [
       "<IPython.core.display.HTML object>"
      ]
     },
     "metadata": {},
     "output_type": "display_data"
    },
    {
     "data": {
      "text/html": [],
      "text/plain": [
       "<IPython.core.display.HTML object>"
      ]
     },
     "metadata": {},
     "output_type": "display_data"
    },
    {
     "data": {
      "text/html": [],
      "text/plain": [
       "<IPython.core.display.HTML object>"
      ]
     },
     "metadata": {},
     "output_type": "display_data"
    },
    {
     "data": {
      "text/html": [],
      "text/plain": [
       "<IPython.core.display.HTML object>"
      ]
     },
     "metadata": {},
     "output_type": "display_data"
    },
    {
     "data": {
      "text/html": [],
      "text/plain": [
       "<IPython.core.display.HTML object>"
      ]
     },
     "metadata": {},
     "output_type": "display_data"
    },
    {
     "data": {
      "text/html": [],
      "text/plain": [
       "<IPython.core.display.HTML object>"
      ]
     },
     "metadata": {},
     "output_type": "display_data"
    },
    {
     "data": {
      "text/html": [],
      "text/plain": [
       "<IPython.core.display.HTML object>"
      ]
     },
     "metadata": {},
     "output_type": "display_data"
    },
    {
     "data": {
      "text/html": [],
      "text/plain": [
       "<IPython.core.display.HTML object>"
      ]
     },
     "metadata": {},
     "output_type": "display_data"
    },
    {
     "data": {
      "text/html": [],
      "text/plain": [
       "<IPython.core.display.HTML object>"
      ]
     },
     "metadata": {},
     "output_type": "display_data"
    },
    {
     "data": {
      "text/html": [],
      "text/plain": [
       "<IPython.core.display.HTML object>"
      ]
     },
     "metadata": {},
     "output_type": "display_data"
    },
    {
     "data": {
      "text/html": [],
      "text/plain": [
       "<IPython.core.display.HTML object>"
      ]
     },
     "metadata": {},
     "output_type": "display_data"
    },
    {
     "data": {
      "text/html": [],
      "text/plain": [
       "<IPython.core.display.HTML object>"
      ]
     },
     "metadata": {},
     "output_type": "display_data"
    },
    {
     "data": {
      "text/html": [],
      "text/plain": [
       "<IPython.core.display.HTML object>"
      ]
     },
     "metadata": {},
     "output_type": "display_data"
    },
    {
     "data": {
      "text/html": [],
      "text/plain": [
       "<IPython.core.display.HTML object>"
      ]
     },
     "metadata": {},
     "output_type": "display_data"
    },
    {
     "data": {
      "text/html": [],
      "text/plain": [
       "<IPython.core.display.HTML object>"
      ]
     },
     "metadata": {},
     "output_type": "display_data"
    },
    {
     "data": {
      "text/html": [],
      "text/plain": [
       "<IPython.core.display.HTML object>"
      ]
     },
     "metadata": {},
     "output_type": "display_data"
    },
    {
     "data": {
      "text/html": [],
      "text/plain": [
       "<IPython.core.display.HTML object>"
      ]
     },
     "metadata": {},
     "output_type": "display_data"
    },
    {
     "data": {
      "text/html": [],
      "text/plain": [
       "<IPython.core.display.HTML object>"
      ]
     },
     "metadata": {},
     "output_type": "display_data"
    },
    {
     "data": {
      "text/html": [],
      "text/plain": [
       "<IPython.core.display.HTML object>"
      ]
     },
     "metadata": {},
     "output_type": "display_data"
    },
    {
     "data": {
      "text/html": [],
      "text/plain": [
       "<IPython.core.display.HTML object>"
      ]
     },
     "metadata": {},
     "output_type": "display_data"
    },
    {
     "data": {
      "text/html": [],
      "text/plain": [
       "<IPython.core.display.HTML object>"
      ]
     },
     "metadata": {},
     "output_type": "display_data"
    },
    {
     "data": {
      "text/html": [],
      "text/plain": [
       "<IPython.core.display.HTML object>"
      ]
     },
     "metadata": {},
     "output_type": "display_data"
    },
    {
     "data": {
      "text/html": [],
      "text/plain": [
       "<IPython.core.display.HTML object>"
      ]
     },
     "metadata": {},
     "output_type": "display_data"
    },
    {
     "data": {
      "text/html": [],
      "text/plain": [
       "<IPython.core.display.HTML object>"
      ]
     },
     "metadata": {},
     "output_type": "display_data"
    },
    {
     "data": {
      "text/html": [],
      "text/plain": [
       "<IPython.core.display.HTML object>"
      ]
     },
     "metadata": {},
     "output_type": "display_data"
    },
    {
     "data": {
      "text/html": [],
      "text/plain": [
       "<IPython.core.display.HTML object>"
      ]
     },
     "metadata": {},
     "output_type": "display_data"
    },
    {
     "data": {
      "text/html": [],
      "text/plain": [
       "<IPython.core.display.HTML object>"
      ]
     },
     "metadata": {},
     "output_type": "display_data"
    },
    {
     "data": {
      "text/html": [],
      "text/plain": [
       "<IPython.core.display.HTML object>"
      ]
     },
     "metadata": {},
     "output_type": "display_data"
    },
    {
     "data": {
      "text/html": [],
      "text/plain": [
       "<IPython.core.display.HTML object>"
      ]
     },
     "metadata": {},
     "output_type": "display_data"
    },
    {
     "data": {
      "text/html": [],
      "text/plain": [
       "<IPython.core.display.HTML object>"
      ]
     },
     "metadata": {},
     "output_type": "display_data"
    },
    {
     "data": {
      "text/html": [],
      "text/plain": [
       "<IPython.core.display.HTML object>"
      ]
     },
     "metadata": {},
     "output_type": "display_data"
    },
    {
     "data": {
      "text/html": [],
      "text/plain": [
       "<IPython.core.display.HTML object>"
      ]
     },
     "metadata": {},
     "output_type": "display_data"
    },
    {
     "data": {
      "text/html": [],
      "text/plain": [
       "<IPython.core.display.HTML object>"
      ]
     },
     "metadata": {},
     "output_type": "display_data"
    },
    {
     "data": {
      "text/html": [],
      "text/plain": [
       "<IPython.core.display.HTML object>"
      ]
     },
     "metadata": {},
     "output_type": "display_data"
    },
    {
     "data": {
      "text/html": [],
      "text/plain": [
       "<IPython.core.display.HTML object>"
      ]
     },
     "metadata": {},
     "output_type": "display_data"
    },
    {
     "data": {
      "text/html": [],
      "text/plain": [
       "<IPython.core.display.HTML object>"
      ]
     },
     "metadata": {},
     "output_type": "display_data"
    },
    {
     "data": {
      "text/html": [],
      "text/plain": [
       "<IPython.core.display.HTML object>"
      ]
     },
     "metadata": {},
     "output_type": "display_data"
    },
    {
     "data": {
      "text/html": [],
      "text/plain": [
       "<IPython.core.display.HTML object>"
      ]
     },
     "metadata": {},
     "output_type": "display_data"
    },
    {
     "data": {
      "text/html": [],
      "text/plain": [
       "<IPython.core.display.HTML object>"
      ]
     },
     "metadata": {},
     "output_type": "display_data"
    },
    {
     "data": {
      "text/html": [],
      "text/plain": [
       "<IPython.core.display.HTML object>"
      ]
     },
     "metadata": {},
     "output_type": "display_data"
    },
    {
     "data": {
      "text/html": [],
      "text/plain": [
       "<IPython.core.display.HTML object>"
      ]
     },
     "metadata": {},
     "output_type": "display_data"
    },
    {
     "data": {
      "text/html": [],
      "text/plain": [
       "<IPython.core.display.HTML object>"
      ]
     },
     "metadata": {},
     "output_type": "display_data"
    },
    {
     "data": {
      "text/html": [],
      "text/plain": [
       "<IPython.core.display.HTML object>"
      ]
     },
     "metadata": {},
     "output_type": "display_data"
    },
    {
     "data": {
      "text/html": [],
      "text/plain": [
       "<IPython.core.display.HTML object>"
      ]
     },
     "metadata": {},
     "output_type": "display_data"
    },
    {
     "data": {
      "text/html": [],
      "text/plain": [
       "<IPython.core.display.HTML object>"
      ]
     },
     "metadata": {},
     "output_type": "display_data"
    },
    {
     "data": {
      "text/html": [],
      "text/plain": [
       "<IPython.core.display.HTML object>"
      ]
     },
     "metadata": {},
     "output_type": "display_data"
    },
    {
     "data": {
      "text/html": [],
      "text/plain": [
       "<IPython.core.display.HTML object>"
      ]
     },
     "metadata": {},
     "output_type": "display_data"
    },
    {
     "data": {
      "text/html": [],
      "text/plain": [
       "<IPython.core.display.HTML object>"
      ]
     },
     "metadata": {},
     "output_type": "display_data"
    },
    {
     "data": {
      "text/html": [],
      "text/plain": [
       "<IPython.core.display.HTML object>"
      ]
     },
     "metadata": {},
     "output_type": "display_data"
    },
    {
     "data": {
      "text/html": [],
      "text/plain": [
       "<IPython.core.display.HTML object>"
      ]
     },
     "metadata": {},
     "output_type": "display_data"
    },
    {
     "data": {
      "text/html": [],
      "text/plain": [
       "<IPython.core.display.HTML object>"
      ]
     },
     "metadata": {},
     "output_type": "display_data"
    },
    {
     "data": {
      "text/html": [],
      "text/plain": [
       "<IPython.core.display.HTML object>"
      ]
     },
     "metadata": {},
     "output_type": "display_data"
    },
    {
     "data": {
      "text/html": [],
      "text/plain": [
       "<IPython.core.display.HTML object>"
      ]
     },
     "metadata": {},
     "output_type": "display_data"
    },
    {
     "data": {
      "text/html": [],
      "text/plain": [
       "<IPython.core.display.HTML object>"
      ]
     },
     "metadata": {},
     "output_type": "display_data"
    },
    {
     "data": {
      "text/html": [],
      "text/plain": [
       "<IPython.core.display.HTML object>"
      ]
     },
     "metadata": {},
     "output_type": "display_data"
    },
    {
     "data": {
      "text/html": [],
      "text/plain": [
       "<IPython.core.display.HTML object>"
      ]
     },
     "metadata": {},
     "output_type": "display_data"
    },
    {
     "data": {
      "text/html": [],
      "text/plain": [
       "<IPython.core.display.HTML object>"
      ]
     },
     "metadata": {},
     "output_type": "display_data"
    },
    {
     "data": {
      "text/html": [],
      "text/plain": [
       "<IPython.core.display.HTML object>"
      ]
     },
     "metadata": {},
     "output_type": "display_data"
    },
    {
     "data": {
      "text/html": [],
      "text/plain": [
       "<IPython.core.display.HTML object>"
      ]
     },
     "metadata": {},
     "output_type": "display_data"
    },
    {
     "data": {
      "text/html": [],
      "text/plain": [
       "<IPython.core.display.HTML object>"
      ]
     },
     "metadata": {},
     "output_type": "display_data"
    },
    {
     "data": {
      "text/html": [],
      "text/plain": [
       "<IPython.core.display.HTML object>"
      ]
     },
     "metadata": {},
     "output_type": "display_data"
    },
    {
     "data": {
      "text/html": [],
      "text/plain": [
       "<IPython.core.display.HTML object>"
      ]
     },
     "metadata": {},
     "output_type": "display_data"
    },
    {
     "data": {
      "text/html": [],
      "text/plain": [
       "<IPython.core.display.HTML object>"
      ]
     },
     "metadata": {},
     "output_type": "display_data"
    },
    {
     "data": {
      "text/html": [],
      "text/plain": [
       "<IPython.core.display.HTML object>"
      ]
     },
     "metadata": {},
     "output_type": "display_data"
    },
    {
     "data": {
      "text/html": [],
      "text/plain": [
       "<IPython.core.display.HTML object>"
      ]
     },
     "metadata": {},
     "output_type": "display_data"
    },
    {
     "data": {
      "text/html": [],
      "text/plain": [
       "<IPython.core.display.HTML object>"
      ]
     },
     "metadata": {},
     "output_type": "display_data"
    },
    {
     "data": {
      "text/html": [],
      "text/plain": [
       "<IPython.core.display.HTML object>"
      ]
     },
     "metadata": {},
     "output_type": "display_data"
    },
    {
     "data": {
      "text/html": [],
      "text/plain": [
       "<IPython.core.display.HTML object>"
      ]
     },
     "metadata": {},
     "output_type": "display_data"
    },
    {
     "data": {
      "text/html": [],
      "text/plain": [
       "<IPython.core.display.HTML object>"
      ]
     },
     "metadata": {},
     "output_type": "display_data"
    },
    {
     "data": {
      "text/html": [],
      "text/plain": [
       "<IPython.core.display.HTML object>"
      ]
     },
     "metadata": {},
     "output_type": "display_data"
    },
    {
     "data": {
      "text/html": [],
      "text/plain": [
       "<IPython.core.display.HTML object>"
      ]
     },
     "metadata": {},
     "output_type": "display_data"
    },
    {
     "data": {
      "text/html": [],
      "text/plain": [
       "<IPython.core.display.HTML object>"
      ]
     },
     "metadata": {},
     "output_type": "display_data"
    },
    {
     "data": {
      "text/html": [],
      "text/plain": [
       "<IPython.core.display.HTML object>"
      ]
     },
     "metadata": {},
     "output_type": "display_data"
    },
    {
     "data": {
      "text/html": [],
      "text/plain": [
       "<IPython.core.display.HTML object>"
      ]
     },
     "metadata": {},
     "output_type": "display_data"
    },
    {
     "data": {
      "text/html": [],
      "text/plain": [
       "<IPython.core.display.HTML object>"
      ]
     },
     "metadata": {},
     "output_type": "display_data"
    },
    {
     "data": {
      "text/html": [],
      "text/plain": [
       "<IPython.core.display.HTML object>"
      ]
     },
     "metadata": {},
     "output_type": "display_data"
    },
    {
     "data": {
      "text/html": [],
      "text/plain": [
       "<IPython.core.display.HTML object>"
      ]
     },
     "metadata": {},
     "output_type": "display_data"
    },
    {
     "data": {
      "text/html": [],
      "text/plain": [
       "<IPython.core.display.HTML object>"
      ]
     },
     "metadata": {},
     "output_type": "display_data"
    },
    {
     "data": {
      "text/html": [],
      "text/plain": [
       "<IPython.core.display.HTML object>"
      ]
     },
     "metadata": {},
     "output_type": "display_data"
    },
    {
     "data": {
      "text/html": [],
      "text/plain": [
       "<IPython.core.display.HTML object>"
      ]
     },
     "metadata": {},
     "output_type": "display_data"
    },
    {
     "data": {
      "text/html": [],
      "text/plain": [
       "<IPython.core.display.HTML object>"
      ]
     },
     "metadata": {},
     "output_type": "display_data"
    },
    {
     "data": {
      "text/html": [],
      "text/plain": [
       "<IPython.core.display.HTML object>"
      ]
     },
     "metadata": {},
     "output_type": "display_data"
    },
    {
     "data": {
      "text/html": [],
      "text/plain": [
       "<IPython.core.display.HTML object>"
      ]
     },
     "metadata": {},
     "output_type": "display_data"
    },
    {
     "data": {
      "text/html": [],
      "text/plain": [
       "<IPython.core.display.HTML object>"
      ]
     },
     "metadata": {},
     "output_type": "display_data"
    },
    {
     "data": {
      "text/html": [],
      "text/plain": [
       "<IPython.core.display.HTML object>"
      ]
     },
     "metadata": {},
     "output_type": "display_data"
    },
    {
     "data": {
      "text/html": [],
      "text/plain": [
       "<IPython.core.display.HTML object>"
      ]
     },
     "metadata": {},
     "output_type": "display_data"
    },
    {
     "data": {
      "text/html": [],
      "text/plain": [
       "<IPython.core.display.HTML object>"
      ]
     },
     "metadata": {},
     "output_type": "display_data"
    },
    {
     "data": {
      "text/html": [],
      "text/plain": [
       "<IPython.core.display.HTML object>"
      ]
     },
     "metadata": {},
     "output_type": "display_data"
    },
    {
     "data": {
      "text/html": [],
      "text/plain": [
       "<IPython.core.display.HTML object>"
      ]
     },
     "metadata": {},
     "output_type": "display_data"
    },
    {
     "data": {
      "text/html": [],
      "text/plain": [
       "<IPython.core.display.HTML object>"
      ]
     },
     "metadata": {},
     "output_type": "display_data"
    },
    {
     "data": {
      "text/html": [],
      "text/plain": [
       "<IPython.core.display.HTML object>"
      ]
     },
     "metadata": {},
     "output_type": "display_data"
    },
    {
     "data": {
      "text/html": [],
      "text/plain": [
       "<IPython.core.display.HTML object>"
      ]
     },
     "metadata": {},
     "output_type": "display_data"
    },
    {
     "data": {
      "text/html": [],
      "text/plain": [
       "<IPython.core.display.HTML object>"
      ]
     },
     "metadata": {},
     "output_type": "display_data"
    },
    {
     "data": {
      "text/html": [],
      "text/plain": [
       "<IPython.core.display.HTML object>"
      ]
     },
     "metadata": {},
     "output_type": "display_data"
    },
    {
     "data": {
      "text/html": [],
      "text/plain": [
       "<IPython.core.display.HTML object>"
      ]
     },
     "metadata": {},
     "output_type": "display_data"
    },
    {
     "data": {
      "text/html": [],
      "text/plain": [
       "<IPython.core.display.HTML object>"
      ]
     },
     "metadata": {},
     "output_type": "display_data"
    },
    {
     "data": {
      "text/html": [],
      "text/plain": [
       "<IPython.core.display.HTML object>"
      ]
     },
     "metadata": {},
     "output_type": "display_data"
    },
    {
     "data": {
      "text/html": [],
      "text/plain": [
       "<IPython.core.display.HTML object>"
      ]
     },
     "metadata": {},
     "output_type": "display_data"
    },
    {
     "data": {
      "text/html": [],
      "text/plain": [
       "<IPython.core.display.HTML object>"
      ]
     },
     "metadata": {},
     "output_type": "display_data"
    },
    {
     "data": {
      "text/html": [],
      "text/plain": [
       "<IPython.core.display.HTML object>"
      ]
     },
     "metadata": {},
     "output_type": "display_data"
    },
    {
     "data": {
      "text/html": [],
      "text/plain": [
       "<IPython.core.display.HTML object>"
      ]
     },
     "metadata": {},
     "output_type": "display_data"
    },
    {
     "data": {
      "text/html": [],
      "text/plain": [
       "<IPython.core.display.HTML object>"
      ]
     },
     "metadata": {},
     "output_type": "display_data"
    },
    {
     "data": {
      "text/html": [],
      "text/plain": [
       "<IPython.core.display.HTML object>"
      ]
     },
     "metadata": {},
     "output_type": "display_data"
    },
    {
     "data": {
      "text/html": [],
      "text/plain": [
       "<IPython.core.display.HTML object>"
      ]
     },
     "metadata": {},
     "output_type": "display_data"
    },
    {
     "data": {
      "text/html": [],
      "text/plain": [
       "<IPython.core.display.HTML object>"
      ]
     },
     "metadata": {},
     "output_type": "display_data"
    },
    {
     "data": {
      "text/html": [],
      "text/plain": [
       "<IPython.core.display.HTML object>"
      ]
     },
     "metadata": {},
     "output_type": "display_data"
    },
    {
     "data": {
      "text/html": [],
      "text/plain": [
       "<IPython.core.display.HTML object>"
      ]
     },
     "metadata": {},
     "output_type": "display_data"
    },
    {
     "data": {
      "text/html": [],
      "text/plain": [
       "<IPython.core.display.HTML object>"
      ]
     },
     "metadata": {},
     "output_type": "display_data"
    },
    {
     "data": {
      "text/html": [],
      "text/plain": [
       "<IPython.core.display.HTML object>"
      ]
     },
     "metadata": {},
     "output_type": "display_data"
    },
    {
     "data": {
      "text/html": [],
      "text/plain": [
       "<IPython.core.display.HTML object>"
      ]
     },
     "metadata": {},
     "output_type": "display_data"
    },
    {
     "data": {
      "text/html": [],
      "text/plain": [
       "<IPython.core.display.HTML object>"
      ]
     },
     "metadata": {},
     "output_type": "display_data"
    },
    {
     "data": {
      "text/html": [],
      "text/plain": [
       "<IPython.core.display.HTML object>"
      ]
     },
     "metadata": {},
     "output_type": "display_data"
    },
    {
     "data": {
      "text/html": [],
      "text/plain": [
       "<IPython.core.display.HTML object>"
      ]
     },
     "metadata": {},
     "output_type": "display_data"
    },
    {
     "data": {
      "text/html": [],
      "text/plain": [
       "<IPython.core.display.HTML object>"
      ]
     },
     "metadata": {},
     "output_type": "display_data"
    },
    {
     "data": {
      "text/html": [],
      "text/plain": [
       "<IPython.core.display.HTML object>"
      ]
     },
     "metadata": {},
     "output_type": "display_data"
    },
    {
     "data": {
      "text/html": [],
      "text/plain": [
       "<IPython.core.display.HTML object>"
      ]
     },
     "metadata": {},
     "output_type": "display_data"
    },
    {
     "data": {
      "text/html": [],
      "text/plain": [
       "<IPython.core.display.HTML object>"
      ]
     },
     "metadata": {},
     "output_type": "display_data"
    },
    {
     "data": {
      "text/html": [],
      "text/plain": [
       "<IPython.core.display.HTML object>"
      ]
     },
     "metadata": {},
     "output_type": "display_data"
    },
    {
     "data": {
      "text/html": [],
      "text/plain": [
       "<IPython.core.display.HTML object>"
      ]
     },
     "metadata": {},
     "output_type": "display_data"
    },
    {
     "data": {
      "text/html": [],
      "text/plain": [
       "<IPython.core.display.HTML object>"
      ]
     },
     "metadata": {},
     "output_type": "display_data"
    },
    {
     "data": {
      "text/html": [],
      "text/plain": [
       "<IPython.core.display.HTML object>"
      ]
     },
     "metadata": {},
     "output_type": "display_data"
    },
    {
     "data": {
      "text/html": [],
      "text/plain": [
       "<IPython.core.display.HTML object>"
      ]
     },
     "metadata": {},
     "output_type": "display_data"
    },
    {
     "data": {
      "text/html": [],
      "text/plain": [
       "<IPython.core.display.HTML object>"
      ]
     },
     "metadata": {},
     "output_type": "display_data"
    },
    {
     "data": {
      "text/html": [],
      "text/plain": [
       "<IPython.core.display.HTML object>"
      ]
     },
     "metadata": {},
     "output_type": "display_data"
    },
    {
     "data": {
      "text/html": [],
      "text/plain": [
       "<IPython.core.display.HTML object>"
      ]
     },
     "metadata": {},
     "output_type": "display_data"
    },
    {
     "data": {
      "text/html": [],
      "text/plain": [
       "<IPython.core.display.HTML object>"
      ]
     },
     "metadata": {},
     "output_type": "display_data"
    },
    {
     "data": {
      "text/html": [],
      "text/plain": [
       "<IPython.core.display.HTML object>"
      ]
     },
     "metadata": {},
     "output_type": "display_data"
    },
    {
     "data": {
      "text/html": [],
      "text/plain": [
       "<IPython.core.display.HTML object>"
      ]
     },
     "metadata": {},
     "output_type": "display_data"
    },
    {
     "data": {
      "text/html": [],
      "text/plain": [
       "<IPython.core.display.HTML object>"
      ]
     },
     "metadata": {},
     "output_type": "display_data"
    },
    {
     "data": {
      "text/html": [],
      "text/plain": [
       "<IPython.core.display.HTML object>"
      ]
     },
     "metadata": {},
     "output_type": "display_data"
    },
    {
     "data": {
      "text/html": [],
      "text/plain": [
       "<IPython.core.display.HTML object>"
      ]
     },
     "metadata": {},
     "output_type": "display_data"
    },
    {
     "data": {
      "text/html": [],
      "text/plain": [
       "<IPython.core.display.HTML object>"
      ]
     },
     "metadata": {},
     "output_type": "display_data"
    },
    {
     "data": {
      "text/html": [],
      "text/plain": [
       "<IPython.core.display.HTML object>"
      ]
     },
     "metadata": {},
     "output_type": "display_data"
    },
    {
     "data": {
      "text/html": [],
      "text/plain": [
       "<IPython.core.display.HTML object>"
      ]
     },
     "metadata": {},
     "output_type": "display_data"
    },
    {
     "data": {
      "text/html": [],
      "text/plain": [
       "<IPython.core.display.HTML object>"
      ]
     },
     "metadata": {},
     "output_type": "display_data"
    },
    {
     "data": {
      "text/html": [],
      "text/plain": [
       "<IPython.core.display.HTML object>"
      ]
     },
     "metadata": {},
     "output_type": "display_data"
    },
    {
     "data": {
      "text/html": [],
      "text/plain": [
       "<IPython.core.display.HTML object>"
      ]
     },
     "metadata": {},
     "output_type": "display_data"
    },
    {
     "data": {
      "text/html": [],
      "text/plain": [
       "<IPython.core.display.HTML object>"
      ]
     },
     "metadata": {},
     "output_type": "display_data"
    },
    {
     "data": {
      "text/html": [],
      "text/plain": [
       "<IPython.core.display.HTML object>"
      ]
     },
     "metadata": {},
     "output_type": "display_data"
    },
    {
     "data": {
      "text/html": [],
      "text/plain": [
       "<IPython.core.display.HTML object>"
      ]
     },
     "metadata": {},
     "output_type": "display_data"
    },
    {
     "data": {
      "text/html": [],
      "text/plain": [
       "<IPython.core.display.HTML object>"
      ]
     },
     "metadata": {},
     "output_type": "display_data"
    },
    {
     "data": {
      "text/html": [],
      "text/plain": [
       "<IPython.core.display.HTML object>"
      ]
     },
     "metadata": {},
     "output_type": "display_data"
    },
    {
     "data": {
      "text/html": [],
      "text/plain": [
       "<IPython.core.display.HTML object>"
      ]
     },
     "metadata": {},
     "output_type": "display_data"
    },
    {
     "data": {
      "text/html": [],
      "text/plain": [
       "<IPython.core.display.HTML object>"
      ]
     },
     "metadata": {},
     "output_type": "display_data"
    },
    {
     "data": {
      "text/html": [],
      "text/plain": [
       "<IPython.core.display.HTML object>"
      ]
     },
     "metadata": {},
     "output_type": "display_data"
    },
    {
     "data": {
      "text/html": [],
      "text/plain": [
       "<IPython.core.display.HTML object>"
      ]
     },
     "metadata": {},
     "output_type": "display_data"
    },
    {
     "data": {
      "text/html": [],
      "text/plain": [
       "<IPython.core.display.HTML object>"
      ]
     },
     "metadata": {},
     "output_type": "display_data"
    },
    {
     "data": {
      "text/html": [],
      "text/plain": [
       "<IPython.core.display.HTML object>"
      ]
     },
     "metadata": {},
     "output_type": "display_data"
    },
    {
     "data": {
      "text/html": [],
      "text/plain": [
       "<IPython.core.display.HTML object>"
      ]
     },
     "metadata": {},
     "output_type": "display_data"
    },
    {
     "data": {
      "text/html": [],
      "text/plain": [
       "<IPython.core.display.HTML object>"
      ]
     },
     "metadata": {},
     "output_type": "display_data"
    },
    {
     "data": {
      "text/html": [],
      "text/plain": [
       "<IPython.core.display.HTML object>"
      ]
     },
     "metadata": {},
     "output_type": "display_data"
    },
    {
     "data": {
      "text/html": [],
      "text/plain": [
       "<IPython.core.display.HTML object>"
      ]
     },
     "metadata": {},
     "output_type": "display_data"
    },
    {
     "data": {
      "text/html": [],
      "text/plain": [
       "<IPython.core.display.HTML object>"
      ]
     },
     "metadata": {},
     "output_type": "display_data"
    },
    {
     "data": {
      "text/html": [],
      "text/plain": [
       "<IPython.core.display.HTML object>"
      ]
     },
     "metadata": {},
     "output_type": "display_data"
    },
    {
     "data": {
      "text/html": [],
      "text/plain": [
       "<IPython.core.display.HTML object>"
      ]
     },
     "metadata": {},
     "output_type": "display_data"
    },
    {
     "data": {
      "text/html": [],
      "text/plain": [
       "<IPython.core.display.HTML object>"
      ]
     },
     "metadata": {},
     "output_type": "display_data"
    },
    {
     "data": {
      "text/html": [],
      "text/plain": [
       "<IPython.core.display.HTML object>"
      ]
     },
     "metadata": {},
     "output_type": "display_data"
    },
    {
     "data": {
      "text/html": [],
      "text/plain": [
       "<IPython.core.display.HTML object>"
      ]
     },
     "metadata": {},
     "output_type": "display_data"
    },
    {
     "data": {
      "text/html": [],
      "text/plain": [
       "<IPython.core.display.HTML object>"
      ]
     },
     "metadata": {},
     "output_type": "display_data"
    },
    {
     "data": {
      "text/html": [],
      "text/plain": [
       "<IPython.core.display.HTML object>"
      ]
     },
     "metadata": {},
     "output_type": "display_data"
    },
    {
     "data": {
      "text/html": [],
      "text/plain": [
       "<IPython.core.display.HTML object>"
      ]
     },
     "metadata": {},
     "output_type": "display_data"
    },
    {
     "data": {
      "text/html": [],
      "text/plain": [
       "<IPython.core.display.HTML object>"
      ]
     },
     "metadata": {},
     "output_type": "display_data"
    },
    {
     "data": {
      "text/html": [],
      "text/plain": [
       "<IPython.core.display.HTML object>"
      ]
     },
     "metadata": {},
     "output_type": "display_data"
    },
    {
     "data": {
      "text/html": [],
      "text/plain": [
       "<IPython.core.display.HTML object>"
      ]
     },
     "metadata": {},
     "output_type": "display_data"
    },
    {
     "data": {
      "text/html": [],
      "text/plain": [
       "<IPython.core.display.HTML object>"
      ]
     },
     "metadata": {},
     "output_type": "display_data"
    },
    {
     "data": {
      "text/html": [],
      "text/plain": [
       "<IPython.core.display.HTML object>"
      ]
     },
     "metadata": {},
     "output_type": "display_data"
    },
    {
     "data": {
      "text/html": [],
      "text/plain": [
       "<IPython.core.display.HTML object>"
      ]
     },
     "metadata": {},
     "output_type": "display_data"
    },
    {
     "data": {
      "text/html": [],
      "text/plain": [
       "<IPython.core.display.HTML object>"
      ]
     },
     "metadata": {},
     "output_type": "display_data"
    },
    {
     "data": {
      "text/html": [],
      "text/plain": [
       "<IPython.core.display.HTML object>"
      ]
     },
     "metadata": {},
     "output_type": "display_data"
    },
    {
     "data": {
      "text/html": [],
      "text/plain": [
       "<IPython.core.display.HTML object>"
      ]
     },
     "metadata": {},
     "output_type": "display_data"
    },
    {
     "data": {
      "text/html": [],
      "text/plain": [
       "<IPython.core.display.HTML object>"
      ]
     },
     "metadata": {},
     "output_type": "display_data"
    },
    {
     "data": {
      "text/html": [],
      "text/plain": [
       "<IPython.core.display.HTML object>"
      ]
     },
     "metadata": {},
     "output_type": "display_data"
    },
    {
     "data": {
      "text/html": [],
      "text/plain": [
       "<IPython.core.display.HTML object>"
      ]
     },
     "metadata": {},
     "output_type": "display_data"
    },
    {
     "data": {
      "text/html": [],
      "text/plain": [
       "<IPython.core.display.HTML object>"
      ]
     },
     "metadata": {},
     "output_type": "display_data"
    },
    {
     "data": {
      "text/html": [],
      "text/plain": [
       "<IPython.core.display.HTML object>"
      ]
     },
     "metadata": {},
     "output_type": "display_data"
    },
    {
     "data": {
      "text/html": [],
      "text/plain": [
       "<IPython.core.display.HTML object>"
      ]
     },
     "metadata": {},
     "output_type": "display_data"
    },
    {
     "data": {
      "text/html": [],
      "text/plain": [
       "<IPython.core.display.HTML object>"
      ]
     },
     "metadata": {},
     "output_type": "display_data"
    },
    {
     "data": {
      "text/html": [],
      "text/plain": [
       "<IPython.core.display.HTML object>"
      ]
     },
     "metadata": {},
     "output_type": "display_data"
    },
    {
     "data": {
      "text/html": [],
      "text/plain": [
       "<IPython.core.display.HTML object>"
      ]
     },
     "metadata": {},
     "output_type": "display_data"
    },
    {
     "data": {
      "text/html": [],
      "text/plain": [
       "<IPython.core.display.HTML object>"
      ]
     },
     "metadata": {},
     "output_type": "display_data"
    },
    {
     "data": {
      "text/html": [],
      "text/plain": [
       "<IPython.core.display.HTML object>"
      ]
     },
     "metadata": {},
     "output_type": "display_data"
    },
    {
     "data": {
      "text/html": [],
      "text/plain": [
       "<IPython.core.display.HTML object>"
      ]
     },
     "metadata": {},
     "output_type": "display_data"
    },
    {
     "data": {
      "text/html": [],
      "text/plain": [
       "<IPython.core.display.HTML object>"
      ]
     },
     "metadata": {},
     "output_type": "display_data"
    },
    {
     "data": {
      "text/html": [],
      "text/plain": [
       "<IPython.core.display.HTML object>"
      ]
     },
     "metadata": {},
     "output_type": "display_data"
    },
    {
     "data": {
      "text/html": [],
      "text/plain": [
       "<IPython.core.display.HTML object>"
      ]
     },
     "metadata": {},
     "output_type": "display_data"
    },
    {
     "data": {
      "text/html": [],
      "text/plain": [
       "<IPython.core.display.HTML object>"
      ]
     },
     "metadata": {},
     "output_type": "display_data"
    },
    {
     "data": {
      "text/html": [],
      "text/plain": [
       "<IPython.core.display.HTML object>"
      ]
     },
     "metadata": {},
     "output_type": "display_data"
    },
    {
     "data": {
      "text/html": [],
      "text/plain": [
       "<IPython.core.display.HTML object>"
      ]
     },
     "metadata": {},
     "output_type": "display_data"
    },
    {
     "data": {
      "text/html": [],
      "text/plain": [
       "<IPython.core.display.HTML object>"
      ]
     },
     "metadata": {},
     "output_type": "display_data"
    },
    {
     "data": {
      "text/html": [],
      "text/plain": [
       "<IPython.core.display.HTML object>"
      ]
     },
     "metadata": {},
     "output_type": "display_data"
    },
    {
     "data": {
      "text/html": [],
      "text/plain": [
       "<IPython.core.display.HTML object>"
      ]
     },
     "metadata": {},
     "output_type": "display_data"
    },
    {
     "data": {
      "text/html": [],
      "text/plain": [
       "<IPython.core.display.HTML object>"
      ]
     },
     "metadata": {},
     "output_type": "display_data"
    },
    {
     "data": {
      "text/html": [],
      "text/plain": [
       "<IPython.core.display.HTML object>"
      ]
     },
     "metadata": {},
     "output_type": "display_data"
    },
    {
     "data": {
      "text/html": [],
      "text/plain": [
       "<IPython.core.display.HTML object>"
      ]
     },
     "metadata": {},
     "output_type": "display_data"
    },
    {
     "data": {
      "text/html": [],
      "text/plain": [
       "<IPython.core.display.HTML object>"
      ]
     },
     "metadata": {},
     "output_type": "display_data"
    },
    {
     "data": {
      "text/html": [],
      "text/plain": [
       "<IPython.core.display.HTML object>"
      ]
     },
     "metadata": {},
     "output_type": "display_data"
    },
    {
     "data": {
      "text/html": [],
      "text/plain": [
       "<IPython.core.display.HTML object>"
      ]
     },
     "metadata": {},
     "output_type": "display_data"
    },
    {
     "data": {
      "text/html": [],
      "text/plain": [
       "<IPython.core.display.HTML object>"
      ]
     },
     "metadata": {},
     "output_type": "display_data"
    },
    {
     "data": {
      "text/html": [],
      "text/plain": [
       "<IPython.core.display.HTML object>"
      ]
     },
     "metadata": {},
     "output_type": "display_data"
    },
    {
     "data": {
      "text/html": [],
      "text/plain": [
       "<IPython.core.display.HTML object>"
      ]
     },
     "metadata": {},
     "output_type": "display_data"
    },
    {
     "data": {
      "text/html": [],
      "text/plain": [
       "<IPython.core.display.HTML object>"
      ]
     },
     "metadata": {},
     "output_type": "display_data"
    },
    {
     "data": {
      "text/html": [],
      "text/plain": [
       "<IPython.core.display.HTML object>"
      ]
     },
     "metadata": {},
     "output_type": "display_data"
    },
    {
     "data": {
      "text/html": [],
      "text/plain": [
       "<IPython.core.display.HTML object>"
      ]
     },
     "metadata": {},
     "output_type": "display_data"
    },
    {
     "data": {
      "text/html": [],
      "text/plain": [
       "<IPython.core.display.HTML object>"
      ]
     },
     "metadata": {},
     "output_type": "display_data"
    },
    {
     "data": {
      "text/html": [],
      "text/plain": [
       "<IPython.core.display.HTML object>"
      ]
     },
     "metadata": {},
     "output_type": "display_data"
    },
    {
     "data": {
      "text/html": [],
      "text/plain": [
       "<IPython.core.display.HTML object>"
      ]
     },
     "metadata": {},
     "output_type": "display_data"
    },
    {
     "data": {
      "text/html": [],
      "text/plain": [
       "<IPython.core.display.HTML object>"
      ]
     },
     "metadata": {},
     "output_type": "display_data"
    },
    {
     "data": {
      "text/html": [],
      "text/plain": [
       "<IPython.core.display.HTML object>"
      ]
     },
     "metadata": {},
     "output_type": "display_data"
    },
    {
     "data": {
      "text/html": [],
      "text/plain": [
       "<IPython.core.display.HTML object>"
      ]
     },
     "metadata": {},
     "output_type": "display_data"
    },
    {
     "data": {
      "text/html": [],
      "text/plain": [
       "<IPython.core.display.HTML object>"
      ]
     },
     "metadata": {},
     "output_type": "display_data"
    },
    {
     "data": {
      "text/html": [],
      "text/plain": [
       "<IPython.core.display.HTML object>"
      ]
     },
     "metadata": {},
     "output_type": "display_data"
    },
    {
     "data": {
      "text/html": [],
      "text/plain": [
       "<IPython.core.display.HTML object>"
      ]
     },
     "metadata": {},
     "output_type": "display_data"
    },
    {
     "data": {
      "text/html": [],
      "text/plain": [
       "<IPython.core.display.HTML object>"
      ]
     },
     "metadata": {},
     "output_type": "display_data"
    },
    {
     "data": {
      "text/html": [],
      "text/plain": [
       "<IPython.core.display.HTML object>"
      ]
     },
     "metadata": {},
     "output_type": "display_data"
    },
    {
     "data": {
      "text/html": [],
      "text/plain": [
       "<IPython.core.display.HTML object>"
      ]
     },
     "metadata": {},
     "output_type": "display_data"
    },
    {
     "data": {
      "text/html": [],
      "text/plain": [
       "<IPython.core.display.HTML object>"
      ]
     },
     "metadata": {},
     "output_type": "display_data"
    },
    {
     "data": {
      "text/html": [],
      "text/plain": [
       "<IPython.core.display.HTML object>"
      ]
     },
     "metadata": {},
     "output_type": "display_data"
    },
    {
     "data": {
      "text/html": [],
      "text/plain": [
       "<IPython.core.display.HTML object>"
      ]
     },
     "metadata": {},
     "output_type": "display_data"
    },
    {
     "data": {
      "text/html": [],
      "text/plain": [
       "<IPython.core.display.HTML object>"
      ]
     },
     "metadata": {},
     "output_type": "display_data"
    },
    {
     "data": {
      "text/html": [],
      "text/plain": [
       "<IPython.core.display.HTML object>"
      ]
     },
     "metadata": {},
     "output_type": "display_data"
    },
    {
     "data": {
      "text/html": [],
      "text/plain": [
       "<IPython.core.display.HTML object>"
      ]
     },
     "metadata": {},
     "output_type": "display_data"
    },
    {
     "data": {
      "text/html": [],
      "text/plain": [
       "<IPython.core.display.HTML object>"
      ]
     },
     "metadata": {},
     "output_type": "display_data"
    },
    {
     "data": {
      "text/html": [],
      "text/plain": [
       "<IPython.core.display.HTML object>"
      ]
     },
     "metadata": {},
     "output_type": "display_data"
    },
    {
     "data": {
      "text/html": [],
      "text/plain": [
       "<IPython.core.display.HTML object>"
      ]
     },
     "metadata": {},
     "output_type": "display_data"
    },
    {
     "data": {
      "text/html": [],
      "text/plain": [
       "<IPython.core.display.HTML object>"
      ]
     },
     "metadata": {},
     "output_type": "display_data"
    },
    {
     "data": {
      "text/html": [],
      "text/plain": [
       "<IPython.core.display.HTML object>"
      ]
     },
     "metadata": {},
     "output_type": "display_data"
    },
    {
     "data": {
      "text/html": [],
      "text/plain": [
       "<IPython.core.display.HTML object>"
      ]
     },
     "metadata": {},
     "output_type": "display_data"
    },
    {
     "data": {
      "text/html": [],
      "text/plain": [
       "<IPython.core.display.HTML object>"
      ]
     },
     "metadata": {},
     "output_type": "display_data"
    },
    {
     "data": {
      "text/html": [],
      "text/plain": [
       "<IPython.core.display.HTML object>"
      ]
     },
     "metadata": {},
     "output_type": "display_data"
    },
    {
     "data": {
      "text/html": [],
      "text/plain": [
       "<IPython.core.display.HTML object>"
      ]
     },
     "metadata": {},
     "output_type": "display_data"
    },
    {
     "data": {
      "text/html": [],
      "text/plain": [
       "<IPython.core.display.HTML object>"
      ]
     },
     "metadata": {},
     "output_type": "display_data"
    },
    {
     "data": {
      "text/html": [],
      "text/plain": [
       "<IPython.core.display.HTML object>"
      ]
     },
     "metadata": {},
     "output_type": "display_data"
    },
    {
     "data": {
      "text/html": [],
      "text/plain": [
       "<IPython.core.display.HTML object>"
      ]
     },
     "metadata": {},
     "output_type": "display_data"
    },
    {
     "data": {
      "text/html": [],
      "text/plain": [
       "<IPython.core.display.HTML object>"
      ]
     },
     "metadata": {},
     "output_type": "display_data"
    },
    {
     "data": {
      "text/html": [],
      "text/plain": [
       "<IPython.core.display.HTML object>"
      ]
     },
     "metadata": {},
     "output_type": "display_data"
    },
    {
     "data": {
      "text/html": [],
      "text/plain": [
       "<IPython.core.display.HTML object>"
      ]
     },
     "metadata": {},
     "output_type": "display_data"
    },
    {
     "data": {
      "text/html": [],
      "text/plain": [
       "<IPython.core.display.HTML object>"
      ]
     },
     "metadata": {},
     "output_type": "display_data"
    },
    {
     "data": {
      "text/html": [],
      "text/plain": [
       "<IPython.core.display.HTML object>"
      ]
     },
     "metadata": {},
     "output_type": "display_data"
    },
    {
     "data": {
      "text/html": [],
      "text/plain": [
       "<IPython.core.display.HTML object>"
      ]
     },
     "metadata": {},
     "output_type": "display_data"
    },
    {
     "data": {
      "text/html": [],
      "text/plain": [
       "<IPython.core.display.HTML object>"
      ]
     },
     "metadata": {},
     "output_type": "display_data"
    },
    {
     "data": {
      "text/html": [],
      "text/plain": [
       "<IPython.core.display.HTML object>"
      ]
     },
     "metadata": {},
     "output_type": "display_data"
    },
    {
     "data": {
      "text/html": [],
      "text/plain": [
       "<IPython.core.display.HTML object>"
      ]
     },
     "metadata": {},
     "output_type": "display_data"
    },
    {
     "data": {
      "text/html": [],
      "text/plain": [
       "<IPython.core.display.HTML object>"
      ]
     },
     "metadata": {},
     "output_type": "display_data"
    },
    {
     "data": {
      "text/html": [],
      "text/plain": [
       "<IPython.core.display.HTML object>"
      ]
     },
     "metadata": {},
     "output_type": "display_data"
    },
    {
     "data": {
      "text/html": [],
      "text/plain": [
       "<IPython.core.display.HTML object>"
      ]
     },
     "metadata": {},
     "output_type": "display_data"
    },
    {
     "data": {
      "text/html": [],
      "text/plain": [
       "<IPython.core.display.HTML object>"
      ]
     },
     "metadata": {},
     "output_type": "display_data"
    },
    {
     "data": {
      "text/html": [],
      "text/plain": [
       "<IPython.core.display.HTML object>"
      ]
     },
     "metadata": {},
     "output_type": "display_data"
    },
    {
     "data": {
      "text/html": [],
      "text/plain": [
       "<IPython.core.display.HTML object>"
      ]
     },
     "metadata": {},
     "output_type": "display_data"
    },
    {
     "data": {
      "text/html": [],
      "text/plain": [
       "<IPython.core.display.HTML object>"
      ]
     },
     "metadata": {},
     "output_type": "display_data"
    },
    {
     "data": {
      "text/html": [],
      "text/plain": [
       "<IPython.core.display.HTML object>"
      ]
     },
     "metadata": {},
     "output_type": "display_data"
    },
    {
     "data": {
      "text/html": [],
      "text/plain": [
       "<IPython.core.display.HTML object>"
      ]
     },
     "metadata": {},
     "output_type": "display_data"
    },
    {
     "data": {
      "text/html": [],
      "text/plain": [
       "<IPython.core.display.HTML object>"
      ]
     },
     "metadata": {},
     "output_type": "display_data"
    },
    {
     "data": {
      "text/html": [],
      "text/plain": [
       "<IPython.core.display.HTML object>"
      ]
     },
     "metadata": {},
     "output_type": "display_data"
    },
    {
     "data": {
      "text/html": [],
      "text/plain": [
       "<IPython.core.display.HTML object>"
      ]
     },
     "metadata": {},
     "output_type": "display_data"
    },
    {
     "data": {
      "text/html": [],
      "text/plain": [
       "<IPython.core.display.HTML object>"
      ]
     },
     "metadata": {},
     "output_type": "display_data"
    },
    {
     "data": {
      "text/html": [],
      "text/plain": [
       "<IPython.core.display.HTML object>"
      ]
     },
     "metadata": {},
     "output_type": "display_data"
    },
    {
     "data": {
      "text/html": [],
      "text/plain": [
       "<IPython.core.display.HTML object>"
      ]
     },
     "metadata": {},
     "output_type": "display_data"
    },
    {
     "data": {
      "text/html": [],
      "text/plain": [
       "<IPython.core.display.HTML object>"
      ]
     },
     "metadata": {},
     "output_type": "display_data"
    },
    {
     "data": {
      "text/html": [],
      "text/plain": [
       "<IPython.core.display.HTML object>"
      ]
     },
     "metadata": {},
     "output_type": "display_data"
    },
    {
     "data": {
      "text/html": [],
      "text/plain": [
       "<IPython.core.display.HTML object>"
      ]
     },
     "metadata": {},
     "output_type": "display_data"
    },
    {
     "data": {
      "text/html": [],
      "text/plain": [
       "<IPython.core.display.HTML object>"
      ]
     },
     "metadata": {},
     "output_type": "display_data"
    },
    {
     "data": {
      "text/html": [],
      "text/plain": [
       "<IPython.core.display.HTML object>"
      ]
     },
     "metadata": {},
     "output_type": "display_data"
    },
    {
     "data": {
      "text/html": [],
      "text/plain": [
       "<IPython.core.display.HTML object>"
      ]
     },
     "metadata": {},
     "output_type": "display_data"
    },
    {
     "data": {
      "text/html": [],
      "text/plain": [
       "<IPython.core.display.HTML object>"
      ]
     },
     "metadata": {},
     "output_type": "display_data"
    },
    {
     "data": {
      "text/html": [],
      "text/plain": [
       "<IPython.core.display.HTML object>"
      ]
     },
     "metadata": {},
     "output_type": "display_data"
    },
    {
     "data": {
      "text/html": [],
      "text/plain": [
       "<IPython.core.display.HTML object>"
      ]
     },
     "metadata": {},
     "output_type": "display_data"
    },
    {
     "data": {
      "text/html": [],
      "text/plain": [
       "<IPython.core.display.HTML object>"
      ]
     },
     "metadata": {},
     "output_type": "display_data"
    },
    {
     "data": {
      "text/html": [],
      "text/plain": [
       "<IPython.core.display.HTML object>"
      ]
     },
     "metadata": {},
     "output_type": "display_data"
    },
    {
     "data": {
      "text/html": [],
      "text/plain": [
       "<IPython.core.display.HTML object>"
      ]
     },
     "metadata": {},
     "output_type": "display_data"
    },
    {
     "data": {
      "text/html": [],
      "text/plain": [
       "<IPython.core.display.HTML object>"
      ]
     },
     "metadata": {},
     "output_type": "display_data"
    },
    {
     "data": {
      "text/html": [],
      "text/plain": [
       "<IPython.core.display.HTML object>"
      ]
     },
     "metadata": {},
     "output_type": "display_data"
    },
    {
     "data": {
      "text/html": [],
      "text/plain": [
       "<IPython.core.display.HTML object>"
      ]
     },
     "metadata": {},
     "output_type": "display_data"
    },
    {
     "data": {
      "text/html": [],
      "text/plain": [
       "<IPython.core.display.HTML object>"
      ]
     },
     "metadata": {},
     "output_type": "display_data"
    },
    {
     "data": {
      "text/html": [],
      "text/plain": [
       "<IPython.core.display.HTML object>"
      ]
     },
     "metadata": {},
     "output_type": "display_data"
    },
    {
     "data": {
      "text/html": [],
      "text/plain": [
       "<IPython.core.display.HTML object>"
      ]
     },
     "metadata": {},
     "output_type": "display_data"
    },
    {
     "data": {
      "text/html": [],
      "text/plain": [
       "<IPython.core.display.HTML object>"
      ]
     },
     "metadata": {},
     "output_type": "display_data"
    },
    {
     "data": {
      "text/html": [],
      "text/plain": [
       "<IPython.core.display.HTML object>"
      ]
     },
     "metadata": {},
     "output_type": "display_data"
    },
    {
     "data": {
      "text/html": [],
      "text/plain": [
       "<IPython.core.display.HTML object>"
      ]
     },
     "metadata": {},
     "output_type": "display_data"
    },
    {
     "data": {
      "text/html": [],
      "text/plain": [
       "<IPython.core.display.HTML object>"
      ]
     },
     "metadata": {},
     "output_type": "display_data"
    },
    {
     "data": {
      "text/html": [],
      "text/plain": [
       "<IPython.core.display.HTML object>"
      ]
     },
     "metadata": {},
     "output_type": "display_data"
    },
    {
     "data": {
      "text/html": [],
      "text/plain": [
       "<IPython.core.display.HTML object>"
      ]
     },
     "metadata": {},
     "output_type": "display_data"
    },
    {
     "data": {
      "text/html": [],
      "text/plain": [
       "<IPython.core.display.HTML object>"
      ]
     },
     "metadata": {},
     "output_type": "display_data"
    },
    {
     "data": {
      "text/html": [],
      "text/plain": [
       "<IPython.core.display.HTML object>"
      ]
     },
     "metadata": {},
     "output_type": "display_data"
    },
    {
     "data": {
      "text/html": [],
      "text/plain": [
       "<IPython.core.display.HTML object>"
      ]
     },
     "metadata": {},
     "output_type": "display_data"
    },
    {
     "data": {
      "text/html": [],
      "text/plain": [
       "<IPython.core.display.HTML object>"
      ]
     },
     "metadata": {},
     "output_type": "display_data"
    },
    {
     "data": {
      "text/html": [],
      "text/plain": [
       "<IPython.core.display.HTML object>"
      ]
     },
     "metadata": {},
     "output_type": "display_data"
    },
    {
     "data": {
      "text/html": [],
      "text/plain": [
       "<IPython.core.display.HTML object>"
      ]
     },
     "metadata": {},
     "output_type": "display_data"
    },
    {
     "data": {
      "text/html": [],
      "text/plain": [
       "<IPython.core.display.HTML object>"
      ]
     },
     "metadata": {},
     "output_type": "display_data"
    },
    {
     "data": {
      "text/html": [],
      "text/plain": [
       "<IPython.core.display.HTML object>"
      ]
     },
     "metadata": {},
     "output_type": "display_data"
    },
    {
     "data": {
      "text/html": [],
      "text/plain": [
       "<IPython.core.display.HTML object>"
      ]
     },
     "metadata": {},
     "output_type": "display_data"
    },
    {
     "data": {
      "text/html": [],
      "text/plain": [
       "<IPython.core.display.HTML object>"
      ]
     },
     "metadata": {},
     "output_type": "display_data"
    },
    {
     "data": {
      "text/html": [],
      "text/plain": [
       "<IPython.core.display.HTML object>"
      ]
     },
     "metadata": {},
     "output_type": "display_data"
    },
    {
     "data": {
      "text/html": [],
      "text/plain": [
       "<IPython.core.display.HTML object>"
      ]
     },
     "metadata": {},
     "output_type": "display_data"
    },
    {
     "data": {
      "text/html": [],
      "text/plain": [
       "<IPython.core.display.HTML object>"
      ]
     },
     "metadata": {},
     "output_type": "display_data"
    },
    {
     "data": {
      "text/html": [],
      "text/plain": [
       "<IPython.core.display.HTML object>"
      ]
     },
     "metadata": {},
     "output_type": "display_data"
    },
    {
     "data": {
      "text/html": [],
      "text/plain": [
       "<IPython.core.display.HTML object>"
      ]
     },
     "metadata": {},
     "output_type": "display_data"
    },
    {
     "data": {
      "text/html": [],
      "text/plain": [
       "<IPython.core.display.HTML object>"
      ]
     },
     "metadata": {},
     "output_type": "display_data"
    },
    {
     "data": {
      "text/html": [],
      "text/plain": [
       "<IPython.core.display.HTML object>"
      ]
     },
     "metadata": {},
     "output_type": "display_data"
    },
    {
     "data": {
      "text/html": [],
      "text/plain": [
       "<IPython.core.display.HTML object>"
      ]
     },
     "metadata": {},
     "output_type": "display_data"
    },
    {
     "data": {
      "text/html": [],
      "text/plain": [
       "<IPython.core.display.HTML object>"
      ]
     },
     "metadata": {},
     "output_type": "display_data"
    },
    {
     "data": {
      "text/html": [],
      "text/plain": [
       "<IPython.core.display.HTML object>"
      ]
     },
     "metadata": {},
     "output_type": "display_data"
    },
    {
     "data": {
      "text/html": [],
      "text/plain": [
       "<IPython.core.display.HTML object>"
      ]
     },
     "metadata": {},
     "output_type": "display_data"
    },
    {
     "data": {
      "text/html": [],
      "text/plain": [
       "<IPython.core.display.HTML object>"
      ]
     },
     "metadata": {},
     "output_type": "display_data"
    },
    {
     "data": {
      "text/html": [],
      "text/plain": [
       "<IPython.core.display.HTML object>"
      ]
     },
     "metadata": {},
     "output_type": "display_data"
    },
    {
     "data": {
      "text/html": [],
      "text/plain": [
       "<IPython.core.display.HTML object>"
      ]
     },
     "metadata": {},
     "output_type": "display_data"
    },
    {
     "data": {
      "text/html": [],
      "text/plain": [
       "<IPython.core.display.HTML object>"
      ]
     },
     "metadata": {},
     "output_type": "display_data"
    },
    {
     "data": {
      "text/html": [],
      "text/plain": [
       "<IPython.core.display.HTML object>"
      ]
     },
     "metadata": {},
     "output_type": "display_data"
    },
    {
     "data": {
      "text/html": [],
      "text/plain": [
       "<IPython.core.display.HTML object>"
      ]
     },
     "metadata": {},
     "output_type": "display_data"
    },
    {
     "data": {
      "text/html": [],
      "text/plain": [
       "<IPython.core.display.HTML object>"
      ]
     },
     "metadata": {},
     "output_type": "display_data"
    },
    {
     "data": {
      "text/html": [],
      "text/plain": [
       "<IPython.core.display.HTML object>"
      ]
     },
     "metadata": {},
     "output_type": "display_data"
    },
    {
     "data": {
      "text/html": [],
      "text/plain": [
       "<IPython.core.display.HTML object>"
      ]
     },
     "metadata": {},
     "output_type": "display_data"
    },
    {
     "data": {
      "text/html": [],
      "text/plain": [
       "<IPython.core.display.HTML object>"
      ]
     },
     "metadata": {},
     "output_type": "display_data"
    },
    {
     "data": {
      "text/html": [],
      "text/plain": [
       "<IPython.core.display.HTML object>"
      ]
     },
     "metadata": {},
     "output_type": "display_data"
    },
    {
     "data": {
      "text/html": [],
      "text/plain": [
       "<IPython.core.display.HTML object>"
      ]
     },
     "metadata": {},
     "output_type": "display_data"
    },
    {
     "data": {
      "text/html": [],
      "text/plain": [
       "<IPython.core.display.HTML object>"
      ]
     },
     "metadata": {},
     "output_type": "display_data"
    },
    {
     "data": {
      "text/html": [],
      "text/plain": [
       "<IPython.core.display.HTML object>"
      ]
     },
     "metadata": {},
     "output_type": "display_data"
    },
    {
     "data": {
      "text/html": [],
      "text/plain": [
       "<IPython.core.display.HTML object>"
      ]
     },
     "metadata": {},
     "output_type": "display_data"
    },
    {
     "data": {
      "text/html": [],
      "text/plain": [
       "<IPython.core.display.HTML object>"
      ]
     },
     "metadata": {},
     "output_type": "display_data"
    },
    {
     "data": {
      "text/html": [],
      "text/plain": [
       "<IPython.core.display.HTML object>"
      ]
     },
     "metadata": {},
     "output_type": "display_data"
    },
    {
     "data": {
      "text/html": [],
      "text/plain": [
       "<IPython.core.display.HTML object>"
      ]
     },
     "metadata": {},
     "output_type": "display_data"
    },
    {
     "data": {
      "text/html": [],
      "text/plain": [
       "<IPython.core.display.HTML object>"
      ]
     },
     "metadata": {},
     "output_type": "display_data"
    },
    {
     "data": {
      "text/html": [],
      "text/plain": [
       "<IPython.core.display.HTML object>"
      ]
     },
     "metadata": {},
     "output_type": "display_data"
    },
    {
     "data": {
      "text/html": [],
      "text/plain": [
       "<IPython.core.display.HTML object>"
      ]
     },
     "metadata": {},
     "output_type": "display_data"
    },
    {
     "data": {
      "text/html": [],
      "text/plain": [
       "<IPython.core.display.HTML object>"
      ]
     },
     "metadata": {},
     "output_type": "display_data"
    },
    {
     "data": {
      "text/html": [],
      "text/plain": [
       "<IPython.core.display.HTML object>"
      ]
     },
     "metadata": {},
     "output_type": "display_data"
    },
    {
     "data": {
      "text/html": [],
      "text/plain": [
       "<IPython.core.display.HTML object>"
      ]
     },
     "metadata": {},
     "output_type": "display_data"
    },
    {
     "data": {
      "text/html": [],
      "text/plain": [
       "<IPython.core.display.HTML object>"
      ]
     },
     "metadata": {},
     "output_type": "display_data"
    },
    {
     "data": {
      "text/html": [],
      "text/plain": [
       "<IPython.core.display.HTML object>"
      ]
     },
     "metadata": {},
     "output_type": "display_data"
    },
    {
     "data": {
      "text/html": [],
      "text/plain": [
       "<IPython.core.display.HTML object>"
      ]
     },
     "metadata": {},
     "output_type": "display_data"
    },
    {
     "data": {
      "text/html": [],
      "text/plain": [
       "<IPython.core.display.HTML object>"
      ]
     },
     "metadata": {},
     "output_type": "display_data"
    },
    {
     "data": {
      "text/html": [],
      "text/plain": [
       "<IPython.core.display.HTML object>"
      ]
     },
     "metadata": {},
     "output_type": "display_data"
    },
    {
     "data": {
      "text/html": [],
      "text/plain": [
       "<IPython.core.display.HTML object>"
      ]
     },
     "metadata": {},
     "output_type": "display_data"
    },
    {
     "data": {
      "text/html": [],
      "text/plain": [
       "<IPython.core.display.HTML object>"
      ]
     },
     "metadata": {},
     "output_type": "display_data"
    },
    {
     "data": {
      "text/html": [],
      "text/plain": [
       "<IPython.core.display.HTML object>"
      ]
     },
     "metadata": {},
     "output_type": "display_data"
    },
    {
     "data": {
      "text/html": [],
      "text/plain": [
       "<IPython.core.display.HTML object>"
      ]
     },
     "metadata": {},
     "output_type": "display_data"
    },
    {
     "data": {
      "text/html": [],
      "text/plain": [
       "<IPython.core.display.HTML object>"
      ]
     },
     "metadata": {},
     "output_type": "display_data"
    },
    {
     "data": {
      "text/html": [],
      "text/plain": [
       "<IPython.core.display.HTML object>"
      ]
     },
     "metadata": {},
     "output_type": "display_data"
    },
    {
     "data": {
      "text/html": [],
      "text/plain": [
       "<IPython.core.display.HTML object>"
      ]
     },
     "metadata": {},
     "output_type": "display_data"
    },
    {
     "data": {
      "text/html": [],
      "text/plain": [
       "<IPython.core.display.HTML object>"
      ]
     },
     "metadata": {},
     "output_type": "display_data"
    },
    {
     "data": {
      "text/html": [],
      "text/plain": [
       "<IPython.core.display.HTML object>"
      ]
     },
     "metadata": {},
     "output_type": "display_data"
    },
    {
     "data": {
      "text/html": [],
      "text/plain": [
       "<IPython.core.display.HTML object>"
      ]
     },
     "metadata": {},
     "output_type": "display_data"
    },
    {
     "data": {
      "text/html": [],
      "text/plain": [
       "<IPython.core.display.HTML object>"
      ]
     },
     "metadata": {},
     "output_type": "display_data"
    },
    {
     "data": {
      "text/html": [],
      "text/plain": [
       "<IPython.core.display.HTML object>"
      ]
     },
     "metadata": {},
     "output_type": "display_data"
    },
    {
     "data": {
      "text/html": [],
      "text/plain": [
       "<IPython.core.display.HTML object>"
      ]
     },
     "metadata": {},
     "output_type": "display_data"
    },
    {
     "data": {
      "text/html": [],
      "text/plain": [
       "<IPython.core.display.HTML object>"
      ]
     },
     "metadata": {},
     "output_type": "display_data"
    },
    {
     "data": {
      "text/html": [],
      "text/plain": [
       "<IPython.core.display.HTML object>"
      ]
     },
     "metadata": {},
     "output_type": "display_data"
    },
    {
     "data": {
      "text/html": [],
      "text/plain": [
       "<IPython.core.display.HTML object>"
      ]
     },
     "metadata": {},
     "output_type": "display_data"
    },
    {
     "data": {
      "text/html": [],
      "text/plain": [
       "<IPython.core.display.HTML object>"
      ]
     },
     "metadata": {},
     "output_type": "display_data"
    },
    {
     "data": {
      "text/html": [],
      "text/plain": [
       "<IPython.core.display.HTML object>"
      ]
     },
     "metadata": {},
     "output_type": "display_data"
    },
    {
     "data": {
      "text/html": [],
      "text/plain": [
       "<IPython.core.display.HTML object>"
      ]
     },
     "metadata": {},
     "output_type": "display_data"
    },
    {
     "data": {
      "text/html": [],
      "text/plain": [
       "<IPython.core.display.HTML object>"
      ]
     },
     "metadata": {},
     "output_type": "display_data"
    },
    {
     "data": {
      "text/html": [],
      "text/plain": [
       "<IPython.core.display.HTML object>"
      ]
     },
     "metadata": {},
     "output_type": "display_data"
    },
    {
     "data": {
      "text/html": [],
      "text/plain": [
       "<IPython.core.display.HTML object>"
      ]
     },
     "metadata": {},
     "output_type": "display_data"
    },
    {
     "data": {
      "text/html": [],
      "text/plain": [
       "<IPython.core.display.HTML object>"
      ]
     },
     "metadata": {},
     "output_type": "display_data"
    },
    {
     "data": {
      "text/html": [],
      "text/plain": [
       "<IPython.core.display.HTML object>"
      ]
     },
     "metadata": {},
     "output_type": "display_data"
    },
    {
     "data": {
      "text/html": [],
      "text/plain": [
       "<IPython.core.display.HTML object>"
      ]
     },
     "metadata": {},
     "output_type": "display_data"
    },
    {
     "data": {
      "text/html": [],
      "text/plain": [
       "<IPython.core.display.HTML object>"
      ]
     },
     "metadata": {},
     "output_type": "display_data"
    },
    {
     "data": {
      "text/html": [],
      "text/plain": [
       "<IPython.core.display.HTML object>"
      ]
     },
     "metadata": {},
     "output_type": "display_data"
    },
    {
     "data": {
      "text/html": [],
      "text/plain": [
       "<IPython.core.display.HTML object>"
      ]
     },
     "metadata": {},
     "output_type": "display_data"
    },
    {
     "data": {
      "text/html": [],
      "text/plain": [
       "<IPython.core.display.HTML object>"
      ]
     },
     "metadata": {},
     "output_type": "display_data"
    },
    {
     "data": {
      "text/html": [],
      "text/plain": [
       "<IPython.core.display.HTML object>"
      ]
     },
     "metadata": {},
     "output_type": "display_data"
    },
    {
     "data": {
      "text/html": [],
      "text/plain": [
       "<IPython.core.display.HTML object>"
      ]
     },
     "metadata": {},
     "output_type": "display_data"
    },
    {
     "data": {
      "text/html": [],
      "text/plain": [
       "<IPython.core.display.HTML object>"
      ]
     },
     "metadata": {},
     "output_type": "display_data"
    },
    {
     "data": {
      "text/html": [],
      "text/plain": [
       "<IPython.core.display.HTML object>"
      ]
     },
     "metadata": {},
     "output_type": "display_data"
    },
    {
     "data": {
      "text/html": [],
      "text/plain": [
       "<IPython.core.display.HTML object>"
      ]
     },
     "metadata": {},
     "output_type": "display_data"
    },
    {
     "data": {
      "text/html": [],
      "text/plain": [
       "<IPython.core.display.HTML object>"
      ]
     },
     "metadata": {},
     "output_type": "display_data"
    },
    {
     "data": {
      "text/html": [],
      "text/plain": [
       "<IPython.core.display.HTML object>"
      ]
     },
     "metadata": {},
     "output_type": "display_data"
    },
    {
     "data": {
      "text/html": [],
      "text/plain": [
       "<IPython.core.display.HTML object>"
      ]
     },
     "metadata": {},
     "output_type": "display_data"
    },
    {
     "data": {
      "text/html": [],
      "text/plain": [
       "<IPython.core.display.HTML object>"
      ]
     },
     "metadata": {},
     "output_type": "display_data"
    },
    {
     "data": {
      "text/html": [],
      "text/plain": [
       "<IPython.core.display.HTML object>"
      ]
     },
     "metadata": {},
     "output_type": "display_data"
    },
    {
     "data": {
      "text/html": [],
      "text/plain": [
       "<IPython.core.display.HTML object>"
      ]
     },
     "metadata": {},
     "output_type": "display_data"
    },
    {
     "data": {
      "text/html": [],
      "text/plain": [
       "<IPython.core.display.HTML object>"
      ]
     },
     "metadata": {},
     "output_type": "display_data"
    },
    {
     "data": {
      "text/html": [],
      "text/plain": [
       "<IPython.core.display.HTML object>"
      ]
     },
     "metadata": {},
     "output_type": "display_data"
    },
    {
     "data": {
      "text/html": [],
      "text/plain": [
       "<IPython.core.display.HTML object>"
      ]
     },
     "metadata": {},
     "output_type": "display_data"
    },
    {
     "data": {
      "text/html": [],
      "text/plain": [
       "<IPython.core.display.HTML object>"
      ]
     },
     "metadata": {},
     "output_type": "display_data"
    },
    {
     "data": {
      "text/html": [],
      "text/plain": [
       "<IPython.core.display.HTML object>"
      ]
     },
     "metadata": {},
     "output_type": "display_data"
    },
    {
     "data": {
      "text/html": [],
      "text/plain": [
       "<IPython.core.display.HTML object>"
      ]
     },
     "metadata": {},
     "output_type": "display_data"
    },
    {
     "data": {
      "text/html": [],
      "text/plain": [
       "<IPython.core.display.HTML object>"
      ]
     },
     "metadata": {},
     "output_type": "display_data"
    },
    {
     "data": {
      "text/html": [],
      "text/plain": [
       "<IPython.core.display.HTML object>"
      ]
     },
     "metadata": {},
     "output_type": "display_data"
    },
    {
     "data": {
      "text/html": [],
      "text/plain": [
       "<IPython.core.display.HTML object>"
      ]
     },
     "metadata": {},
     "output_type": "display_data"
    },
    {
     "data": {
      "text/html": [],
      "text/plain": [
       "<IPython.core.display.HTML object>"
      ]
     },
     "metadata": {},
     "output_type": "display_data"
    },
    {
     "data": {
      "text/html": [],
      "text/plain": [
       "<IPython.core.display.HTML object>"
      ]
     },
     "metadata": {},
     "output_type": "display_data"
    },
    {
     "data": {
      "text/html": [],
      "text/plain": [
       "<IPython.core.display.HTML object>"
      ]
     },
     "metadata": {},
     "output_type": "display_data"
    },
    {
     "data": {
      "text/html": [],
      "text/plain": [
       "<IPython.core.display.HTML object>"
      ]
     },
     "metadata": {},
     "output_type": "display_data"
    },
    {
     "data": {
      "text/html": [],
      "text/plain": [
       "<IPython.core.display.HTML object>"
      ]
     },
     "metadata": {},
     "output_type": "display_data"
    },
    {
     "data": {
      "text/html": [],
      "text/plain": [
       "<IPython.core.display.HTML object>"
      ]
     },
     "metadata": {},
     "output_type": "display_data"
    },
    {
     "data": {
      "text/html": [],
      "text/plain": [
       "<IPython.core.display.HTML object>"
      ]
     },
     "metadata": {},
     "output_type": "display_data"
    },
    {
     "data": {
      "text/html": [],
      "text/plain": [
       "<IPython.core.display.HTML object>"
      ]
     },
     "metadata": {},
     "output_type": "display_data"
    },
    {
     "data": {
      "text/html": [],
      "text/plain": [
       "<IPython.core.display.HTML object>"
      ]
     },
     "metadata": {},
     "output_type": "display_data"
    },
    {
     "data": {
      "text/html": [],
      "text/plain": [
       "<IPython.core.display.HTML object>"
      ]
     },
     "metadata": {},
     "output_type": "display_data"
    },
    {
     "data": {
      "text/html": [],
      "text/plain": [
       "<IPython.core.display.HTML object>"
      ]
     },
     "metadata": {},
     "output_type": "display_data"
    },
    {
     "data": {
      "text/html": [],
      "text/plain": [
       "<IPython.core.display.HTML object>"
      ]
     },
     "metadata": {},
     "output_type": "display_data"
    },
    {
     "data": {
      "text/html": [],
      "text/plain": [
       "<IPython.core.display.HTML object>"
      ]
     },
     "metadata": {},
     "output_type": "display_data"
    },
    {
     "data": {
      "text/html": [],
      "text/plain": [
       "<IPython.core.display.HTML object>"
      ]
     },
     "metadata": {},
     "output_type": "display_data"
    },
    {
     "data": {
      "text/html": [],
      "text/plain": [
       "<IPython.core.display.HTML object>"
      ]
     },
     "metadata": {},
     "output_type": "display_data"
    },
    {
     "data": {
      "text/html": [],
      "text/plain": [
       "<IPython.core.display.HTML object>"
      ]
     },
     "metadata": {},
     "output_type": "display_data"
    },
    {
     "data": {
      "text/html": [],
      "text/plain": [
       "<IPython.core.display.HTML object>"
      ]
     },
     "metadata": {},
     "output_type": "display_data"
    },
    {
     "data": {
      "text/html": [],
      "text/plain": [
       "<IPython.core.display.HTML object>"
      ]
     },
     "metadata": {},
     "output_type": "display_data"
    },
    {
     "data": {
      "text/html": [],
      "text/plain": [
       "<IPython.core.display.HTML object>"
      ]
     },
     "metadata": {},
     "output_type": "display_data"
    },
    {
     "data": {
      "text/html": [],
      "text/plain": [
       "<IPython.core.display.HTML object>"
      ]
     },
     "metadata": {},
     "output_type": "display_data"
    },
    {
     "data": {
      "text/html": [],
      "text/plain": [
       "<IPython.core.display.HTML object>"
      ]
     },
     "metadata": {},
     "output_type": "display_data"
    },
    {
     "data": {
      "text/html": [],
      "text/plain": [
       "<IPython.core.display.HTML object>"
      ]
     },
     "metadata": {},
     "output_type": "display_data"
    },
    {
     "data": {
      "text/html": [],
      "text/plain": [
       "<IPython.core.display.HTML object>"
      ]
     },
     "metadata": {},
     "output_type": "display_data"
    },
    {
     "data": {
      "text/html": [],
      "text/plain": [
       "<IPython.core.display.HTML object>"
      ]
     },
     "metadata": {},
     "output_type": "display_data"
    },
    {
     "data": {
      "text/html": [],
      "text/plain": [
       "<IPython.core.display.HTML object>"
      ]
     },
     "metadata": {},
     "output_type": "display_data"
    },
    {
     "data": {
      "text/html": [],
      "text/plain": [
       "<IPython.core.display.HTML object>"
      ]
     },
     "metadata": {},
     "output_type": "display_data"
    },
    {
     "data": {
      "text/html": [],
      "text/plain": [
       "<IPython.core.display.HTML object>"
      ]
     },
     "metadata": {},
     "output_type": "display_data"
    },
    {
     "data": {
      "text/html": [],
      "text/plain": [
       "<IPython.core.display.HTML object>"
      ]
     },
     "metadata": {},
     "output_type": "display_data"
    },
    {
     "data": {
      "text/html": [],
      "text/plain": [
       "<IPython.core.display.HTML object>"
      ]
     },
     "metadata": {},
     "output_type": "display_data"
    },
    {
     "data": {
      "text/html": [],
      "text/plain": [
       "<IPython.core.display.HTML object>"
      ]
     },
     "metadata": {},
     "output_type": "display_data"
    },
    {
     "data": {
      "text/html": [],
      "text/plain": [
       "<IPython.core.display.HTML object>"
      ]
     },
     "metadata": {},
     "output_type": "display_data"
    },
    {
     "data": {
      "text/html": [],
      "text/plain": [
       "<IPython.core.display.HTML object>"
      ]
     },
     "metadata": {},
     "output_type": "display_data"
    },
    {
     "data": {
      "text/html": [],
      "text/plain": [
       "<IPython.core.display.HTML object>"
      ]
     },
     "metadata": {},
     "output_type": "display_data"
    },
    {
     "data": {
      "text/html": [],
      "text/plain": [
       "<IPython.core.display.HTML object>"
      ]
     },
     "metadata": {},
     "output_type": "display_data"
    },
    {
     "data": {
      "text/html": [],
      "text/plain": [
       "<IPython.core.display.HTML object>"
      ]
     },
     "metadata": {},
     "output_type": "display_data"
    },
    {
     "data": {
      "text/html": [],
      "text/plain": [
       "<IPython.core.display.HTML object>"
      ]
     },
     "metadata": {},
     "output_type": "display_data"
    },
    {
     "data": {
      "text/html": [],
      "text/plain": [
       "<IPython.core.display.HTML object>"
      ]
     },
     "metadata": {},
     "output_type": "display_data"
    },
    {
     "data": {
      "text/html": [],
      "text/plain": [
       "<IPython.core.display.HTML object>"
      ]
     },
     "metadata": {},
     "output_type": "display_data"
    },
    {
     "data": {
      "text/html": [],
      "text/plain": [
       "<IPython.core.display.HTML object>"
      ]
     },
     "metadata": {},
     "output_type": "display_data"
    },
    {
     "data": {
      "text/html": [],
      "text/plain": [
       "<IPython.core.display.HTML object>"
      ]
     },
     "metadata": {},
     "output_type": "display_data"
    },
    {
     "data": {
      "text/html": [],
      "text/plain": [
       "<IPython.core.display.HTML object>"
      ]
     },
     "metadata": {},
     "output_type": "display_data"
    },
    {
     "data": {
      "text/html": [],
      "text/plain": [
       "<IPython.core.display.HTML object>"
      ]
     },
     "metadata": {},
     "output_type": "display_data"
    },
    {
     "data": {
      "text/html": [],
      "text/plain": [
       "<IPython.core.display.HTML object>"
      ]
     },
     "metadata": {},
     "output_type": "display_data"
    },
    {
     "data": {
      "text/html": [],
      "text/plain": [
       "<IPython.core.display.HTML object>"
      ]
     },
     "metadata": {},
     "output_type": "display_data"
    },
    {
     "data": {
      "text/html": [],
      "text/plain": [
       "<IPython.core.display.HTML object>"
      ]
     },
     "metadata": {},
     "output_type": "display_data"
    },
    {
     "data": {
      "text/html": [],
      "text/plain": [
       "<IPython.core.display.HTML object>"
      ]
     },
     "metadata": {},
     "output_type": "display_data"
    },
    {
     "data": {
      "text/html": [],
      "text/plain": [
       "<IPython.core.display.HTML object>"
      ]
     },
     "metadata": {},
     "output_type": "display_data"
    },
    {
     "data": {
      "text/html": [],
      "text/plain": [
       "<IPython.core.display.HTML object>"
      ]
     },
     "metadata": {},
     "output_type": "display_data"
    },
    {
     "data": {
      "text/html": [],
      "text/plain": [
       "<IPython.core.display.HTML object>"
      ]
     },
     "metadata": {},
     "output_type": "display_data"
    },
    {
     "data": {
      "text/html": [],
      "text/plain": [
       "<IPython.core.display.HTML object>"
      ]
     },
     "metadata": {},
     "output_type": "display_data"
    },
    {
     "data": {
      "text/html": [],
      "text/plain": [
       "<IPython.core.display.HTML object>"
      ]
     },
     "metadata": {},
     "output_type": "display_data"
    },
    {
     "data": {
      "text/html": [],
      "text/plain": [
       "<IPython.core.display.HTML object>"
      ]
     },
     "metadata": {},
     "output_type": "display_data"
    },
    {
     "data": {
      "text/html": [],
      "text/plain": [
       "<IPython.core.display.HTML object>"
      ]
     },
     "metadata": {},
     "output_type": "display_data"
    },
    {
     "data": {
      "text/html": [],
      "text/plain": [
       "<IPython.core.display.HTML object>"
      ]
     },
     "metadata": {},
     "output_type": "display_data"
    },
    {
     "data": {
      "text/html": [],
      "text/plain": [
       "<IPython.core.display.HTML object>"
      ]
     },
     "metadata": {},
     "output_type": "display_data"
    },
    {
     "data": {
      "text/html": [],
      "text/plain": [
       "<IPython.core.display.HTML object>"
      ]
     },
     "metadata": {},
     "output_type": "display_data"
    },
    {
     "data": {
      "text/html": [],
      "text/plain": [
       "<IPython.core.display.HTML object>"
      ]
     },
     "metadata": {},
     "output_type": "display_data"
    },
    {
     "data": {
      "text/html": [],
      "text/plain": [
       "<IPython.core.display.HTML object>"
      ]
     },
     "metadata": {},
     "output_type": "display_data"
    },
    {
     "data": {
      "text/html": [],
      "text/plain": [
       "<IPython.core.display.HTML object>"
      ]
     },
     "metadata": {},
     "output_type": "display_data"
    },
    {
     "data": {
      "text/html": [],
      "text/plain": [
       "<IPython.core.display.HTML object>"
      ]
     },
     "metadata": {},
     "output_type": "display_data"
    },
    {
     "data": {
      "text/html": [],
      "text/plain": [
       "<IPython.core.display.HTML object>"
      ]
     },
     "metadata": {},
     "output_type": "display_data"
    },
    {
     "data": {
      "text/html": [],
      "text/plain": [
       "<IPython.core.display.HTML object>"
      ]
     },
     "metadata": {},
     "output_type": "display_data"
    },
    {
     "data": {
      "text/html": [],
      "text/plain": [
       "<IPython.core.display.HTML object>"
      ]
     },
     "metadata": {},
     "output_type": "display_data"
    },
    {
     "data": {
      "text/html": [],
      "text/plain": [
       "<IPython.core.display.HTML object>"
      ]
     },
     "metadata": {},
     "output_type": "display_data"
    },
    {
     "data": {
      "text/html": [],
      "text/plain": [
       "<IPython.core.display.HTML object>"
      ]
     },
     "metadata": {},
     "output_type": "display_data"
    },
    {
     "data": {
      "text/html": [],
      "text/plain": [
       "<IPython.core.display.HTML object>"
      ]
     },
     "metadata": {},
     "output_type": "display_data"
    },
    {
     "data": {
      "text/html": [],
      "text/plain": [
       "<IPython.core.display.HTML object>"
      ]
     },
     "metadata": {},
     "output_type": "display_data"
    },
    {
     "data": {
      "text/html": [],
      "text/plain": [
       "<IPython.core.display.HTML object>"
      ]
     },
     "metadata": {},
     "output_type": "display_data"
    },
    {
     "data": {
      "text/html": [],
      "text/plain": [
       "<IPython.core.display.HTML object>"
      ]
     },
     "metadata": {},
     "output_type": "display_data"
    },
    {
     "data": {
      "text/html": [],
      "text/plain": [
       "<IPython.core.display.HTML object>"
      ]
     },
     "metadata": {},
     "output_type": "display_data"
    },
    {
     "data": {
      "text/html": [],
      "text/plain": [
       "<IPython.core.display.HTML object>"
      ]
     },
     "metadata": {},
     "output_type": "display_data"
    },
    {
     "data": {
      "text/html": [],
      "text/plain": [
       "<IPython.core.display.HTML object>"
      ]
     },
     "metadata": {},
     "output_type": "display_data"
    },
    {
     "data": {
      "text/html": [],
      "text/plain": [
       "<IPython.core.display.HTML object>"
      ]
     },
     "metadata": {},
     "output_type": "display_data"
    },
    {
     "data": {
      "text/html": [],
      "text/plain": [
       "<IPython.core.display.HTML object>"
      ]
     },
     "metadata": {},
     "output_type": "display_data"
    },
    {
     "data": {
      "text/html": [],
      "text/plain": [
       "<IPython.core.display.HTML object>"
      ]
     },
     "metadata": {},
     "output_type": "display_data"
    },
    {
     "data": {
      "text/html": [],
      "text/plain": [
       "<IPython.core.display.HTML object>"
      ]
     },
     "metadata": {},
     "output_type": "display_data"
    },
    {
     "data": {
      "text/html": [],
      "text/plain": [
       "<IPython.core.display.HTML object>"
      ]
     },
     "metadata": {},
     "output_type": "display_data"
    },
    {
     "data": {
      "text/html": [],
      "text/plain": [
       "<IPython.core.display.HTML object>"
      ]
     },
     "metadata": {},
     "output_type": "display_data"
    },
    {
     "data": {
      "text/html": [],
      "text/plain": [
       "<IPython.core.display.HTML object>"
      ]
     },
     "metadata": {},
     "output_type": "display_data"
    },
    {
     "data": {
      "text/html": [],
      "text/plain": [
       "<IPython.core.display.HTML object>"
      ]
     },
     "metadata": {},
     "output_type": "display_data"
    },
    {
     "data": {
      "text/html": [],
      "text/plain": [
       "<IPython.core.display.HTML object>"
      ]
     },
     "metadata": {},
     "output_type": "display_data"
    },
    {
     "data": {
      "text/html": [],
      "text/plain": [
       "<IPython.core.display.HTML object>"
      ]
     },
     "metadata": {},
     "output_type": "display_data"
    },
    {
     "data": {
      "text/html": [],
      "text/plain": [
       "<IPython.core.display.HTML object>"
      ]
     },
     "metadata": {},
     "output_type": "display_data"
    },
    {
     "data": {
      "text/html": [],
      "text/plain": [
       "<IPython.core.display.HTML object>"
      ]
     },
     "metadata": {},
     "output_type": "display_data"
    },
    {
     "data": {
      "text/html": [],
      "text/plain": [
       "<IPython.core.display.HTML object>"
      ]
     },
     "metadata": {},
     "output_type": "display_data"
    },
    {
     "data": {
      "text/html": [],
      "text/plain": [
       "<IPython.core.display.HTML object>"
      ]
     },
     "metadata": {},
     "output_type": "display_data"
    },
    {
     "data": {
      "text/html": [],
      "text/plain": [
       "<IPython.core.display.HTML object>"
      ]
     },
     "metadata": {},
     "output_type": "display_data"
    },
    {
     "data": {
      "text/html": [],
      "text/plain": [
       "<IPython.core.display.HTML object>"
      ]
     },
     "metadata": {},
     "output_type": "display_data"
    },
    {
     "data": {
      "text/html": [],
      "text/plain": [
       "<IPython.core.display.HTML object>"
      ]
     },
     "metadata": {},
     "output_type": "display_data"
    },
    {
     "data": {
      "text/html": [],
      "text/plain": [
       "<IPython.core.display.HTML object>"
      ]
     },
     "metadata": {},
     "output_type": "display_data"
    },
    {
     "data": {
      "text/html": [],
      "text/plain": [
       "<IPython.core.display.HTML object>"
      ]
     },
     "metadata": {},
     "output_type": "display_data"
    },
    {
     "data": {
      "text/html": [],
      "text/plain": [
       "<IPython.core.display.HTML object>"
      ]
     },
     "metadata": {},
     "output_type": "display_data"
    },
    {
     "data": {
      "text/html": [],
      "text/plain": [
       "<IPython.core.display.HTML object>"
      ]
     },
     "metadata": {},
     "output_type": "display_data"
    },
    {
     "data": {
      "text/html": [],
      "text/plain": [
       "<IPython.core.display.HTML object>"
      ]
     },
     "metadata": {},
     "output_type": "display_data"
    },
    {
     "data": {
      "text/html": [],
      "text/plain": [
       "<IPython.core.display.HTML object>"
      ]
     },
     "metadata": {},
     "output_type": "display_data"
    },
    {
     "data": {
      "text/html": [],
      "text/plain": [
       "<IPython.core.display.HTML object>"
      ]
     },
     "metadata": {},
     "output_type": "display_data"
    },
    {
     "data": {
      "text/html": [],
      "text/plain": [
       "<IPython.core.display.HTML object>"
      ]
     },
     "metadata": {},
     "output_type": "display_data"
    },
    {
     "data": {
      "text/html": [],
      "text/plain": [
       "<IPython.core.display.HTML object>"
      ]
     },
     "metadata": {},
     "output_type": "display_data"
    },
    {
     "data": {
      "text/html": [],
      "text/plain": [
       "<IPython.core.display.HTML object>"
      ]
     },
     "metadata": {},
     "output_type": "display_data"
    },
    {
     "data": {
      "text/html": [],
      "text/plain": [
       "<IPython.core.display.HTML object>"
      ]
     },
     "metadata": {},
     "output_type": "display_data"
    },
    {
     "data": {
      "text/html": [],
      "text/plain": [
       "<IPython.core.display.HTML object>"
      ]
     },
     "metadata": {},
     "output_type": "display_data"
    },
    {
     "data": {
      "text/html": [],
      "text/plain": [
       "<IPython.core.display.HTML object>"
      ]
     },
     "metadata": {},
     "output_type": "display_data"
    },
    {
     "data": {
      "text/html": [],
      "text/plain": [
       "<IPython.core.display.HTML object>"
      ]
     },
     "metadata": {},
     "output_type": "display_data"
    },
    {
     "data": {
      "text/html": [],
      "text/plain": [
       "<IPython.core.display.HTML object>"
      ]
     },
     "metadata": {},
     "output_type": "display_data"
    },
    {
     "data": {
      "text/html": [],
      "text/plain": [
       "<IPython.core.display.HTML object>"
      ]
     },
     "metadata": {},
     "output_type": "display_data"
    },
    {
     "data": {
      "text/html": [],
      "text/plain": [
       "<IPython.core.display.HTML object>"
      ]
     },
     "metadata": {},
     "output_type": "display_data"
    },
    {
     "data": {
      "text/html": [],
      "text/plain": [
       "<IPython.core.display.HTML object>"
      ]
     },
     "metadata": {},
     "output_type": "display_data"
    },
    {
     "data": {
      "text/html": [],
      "text/plain": [
       "<IPython.core.display.HTML object>"
      ]
     },
     "metadata": {},
     "output_type": "display_data"
    },
    {
     "data": {
      "text/html": [],
      "text/plain": [
       "<IPython.core.display.HTML object>"
      ]
     },
     "metadata": {},
     "output_type": "display_data"
    },
    {
     "data": {
      "text/html": [],
      "text/plain": [
       "<IPython.core.display.HTML object>"
      ]
     },
     "metadata": {},
     "output_type": "display_data"
    },
    {
     "data": {
      "text/html": [],
      "text/plain": [
       "<IPython.core.display.HTML object>"
      ]
     },
     "metadata": {},
     "output_type": "display_data"
    },
    {
     "data": {
      "text/html": [],
      "text/plain": [
       "<IPython.core.display.HTML object>"
      ]
     },
     "metadata": {},
     "output_type": "display_data"
    },
    {
     "data": {
      "text/html": [],
      "text/plain": [
       "<IPython.core.display.HTML object>"
      ]
     },
     "metadata": {},
     "output_type": "display_data"
    },
    {
     "data": {
      "text/html": [],
      "text/plain": [
       "<IPython.core.display.HTML object>"
      ]
     },
     "metadata": {},
     "output_type": "display_data"
    },
    {
     "data": {
      "text/html": [],
      "text/plain": [
       "<IPython.core.display.HTML object>"
      ]
     },
     "metadata": {},
     "output_type": "display_data"
    },
    {
     "data": {
      "text/html": [],
      "text/plain": [
       "<IPython.core.display.HTML object>"
      ]
     },
     "metadata": {},
     "output_type": "display_data"
    },
    {
     "data": {
      "text/html": [],
      "text/plain": [
       "<IPython.core.display.HTML object>"
      ]
     },
     "metadata": {},
     "output_type": "display_data"
    },
    {
     "data": {
      "text/html": [],
      "text/plain": [
       "<IPython.core.display.HTML object>"
      ]
     },
     "metadata": {},
     "output_type": "display_data"
    },
    {
     "data": {
      "text/html": [],
      "text/plain": [
       "<IPython.core.display.HTML object>"
      ]
     },
     "metadata": {},
     "output_type": "display_data"
    },
    {
     "data": {
      "text/html": [],
      "text/plain": [
       "<IPython.core.display.HTML object>"
      ]
     },
     "metadata": {},
     "output_type": "display_data"
    },
    {
     "data": {
      "text/html": [],
      "text/plain": [
       "<IPython.core.display.HTML object>"
      ]
     },
     "metadata": {},
     "output_type": "display_data"
    },
    {
     "data": {
      "text/html": [],
      "text/plain": [
       "<IPython.core.display.HTML object>"
      ]
     },
     "metadata": {},
     "output_type": "display_data"
    },
    {
     "data": {
      "text/html": [],
      "text/plain": [
       "<IPython.core.display.HTML object>"
      ]
     },
     "metadata": {},
     "output_type": "display_data"
    },
    {
     "data": {
      "text/html": [],
      "text/plain": [
       "<IPython.core.display.HTML object>"
      ]
     },
     "metadata": {},
     "output_type": "display_data"
    },
    {
     "data": {
      "text/html": [],
      "text/plain": [
       "<IPython.core.display.HTML object>"
      ]
     },
     "metadata": {},
     "output_type": "display_data"
    },
    {
     "data": {
      "text/html": [],
      "text/plain": [
       "<IPython.core.display.HTML object>"
      ]
     },
     "metadata": {},
     "output_type": "display_data"
    },
    {
     "data": {
      "text/html": [],
      "text/plain": [
       "<IPython.core.display.HTML object>"
      ]
     },
     "metadata": {},
     "output_type": "display_data"
    },
    {
     "data": {
      "text/html": [],
      "text/plain": [
       "<IPython.core.display.HTML object>"
      ]
     },
     "metadata": {},
     "output_type": "display_data"
    },
    {
     "data": {
      "text/html": [],
      "text/plain": [
       "<IPython.core.display.HTML object>"
      ]
     },
     "metadata": {},
     "output_type": "display_data"
    },
    {
     "data": {
      "text/html": [],
      "text/plain": [
       "<IPython.core.display.HTML object>"
      ]
     },
     "metadata": {},
     "output_type": "display_data"
    },
    {
     "data": {
      "text/html": [],
      "text/plain": [
       "<IPython.core.display.HTML object>"
      ]
     },
     "metadata": {},
     "output_type": "display_data"
    },
    {
     "data": {
      "text/html": [],
      "text/plain": [
       "<IPython.core.display.HTML object>"
      ]
     },
     "metadata": {},
     "output_type": "display_data"
    },
    {
     "data": {
      "text/html": [],
      "text/plain": [
       "<IPython.core.display.HTML object>"
      ]
     },
     "metadata": {},
     "output_type": "display_data"
    },
    {
     "data": {
      "text/html": [],
      "text/plain": [
       "<IPython.core.display.HTML object>"
      ]
     },
     "metadata": {},
     "output_type": "display_data"
    },
    {
     "data": {
      "text/html": [],
      "text/plain": [
       "<IPython.core.display.HTML object>"
      ]
     },
     "metadata": {},
     "output_type": "display_data"
    },
    {
     "data": {
      "text/html": [],
      "text/plain": [
       "<IPython.core.display.HTML object>"
      ]
     },
     "metadata": {},
     "output_type": "display_data"
    },
    {
     "data": {
      "text/html": [],
      "text/plain": [
       "<IPython.core.display.HTML object>"
      ]
     },
     "metadata": {},
     "output_type": "display_data"
    },
    {
     "data": {
      "text/html": [],
      "text/plain": [
       "<IPython.core.display.HTML object>"
      ]
     },
     "metadata": {},
     "output_type": "display_data"
    },
    {
     "data": {
      "text/html": [],
      "text/plain": [
       "<IPython.core.display.HTML object>"
      ]
     },
     "metadata": {},
     "output_type": "display_data"
    },
    {
     "data": {
      "text/html": [],
      "text/plain": [
       "<IPython.core.display.HTML object>"
      ]
     },
     "metadata": {},
     "output_type": "display_data"
    },
    {
     "data": {
      "text/html": [],
      "text/plain": [
       "<IPython.core.display.HTML object>"
      ]
     },
     "metadata": {},
     "output_type": "display_data"
    },
    {
     "data": {
      "text/html": [],
      "text/plain": [
       "<IPython.core.display.HTML object>"
      ]
     },
     "metadata": {},
     "output_type": "display_data"
    },
    {
     "data": {
      "text/html": [],
      "text/plain": [
       "<IPython.core.display.HTML object>"
      ]
     },
     "metadata": {},
     "output_type": "display_data"
    },
    {
     "data": {
      "text/html": [],
      "text/plain": [
       "<IPython.core.display.HTML object>"
      ]
     },
     "metadata": {},
     "output_type": "display_data"
    },
    {
     "data": {
      "text/html": [],
      "text/plain": [
       "<IPython.core.display.HTML object>"
      ]
     },
     "metadata": {},
     "output_type": "display_data"
    },
    {
     "data": {
      "text/html": [],
      "text/plain": [
       "<IPython.core.display.HTML object>"
      ]
     },
     "metadata": {},
     "output_type": "display_data"
    },
    {
     "data": {
      "text/html": [],
      "text/plain": [
       "<IPython.core.display.HTML object>"
      ]
     },
     "metadata": {},
     "output_type": "display_data"
    },
    {
     "data": {
      "text/html": [],
      "text/plain": [
       "<IPython.core.display.HTML object>"
      ]
     },
     "metadata": {},
     "output_type": "display_data"
    },
    {
     "data": {
      "text/html": [],
      "text/plain": [
       "<IPython.core.display.HTML object>"
      ]
     },
     "metadata": {},
     "output_type": "display_data"
    },
    {
     "data": {
      "text/html": [],
      "text/plain": [
       "<IPython.core.display.HTML object>"
      ]
     },
     "metadata": {},
     "output_type": "display_data"
    },
    {
     "data": {
      "text/html": [],
      "text/plain": [
       "<IPython.core.display.HTML object>"
      ]
     },
     "metadata": {},
     "output_type": "display_data"
    },
    {
     "data": {
      "text/html": [],
      "text/plain": [
       "<IPython.core.display.HTML object>"
      ]
     },
     "metadata": {},
     "output_type": "display_data"
    },
    {
     "data": {
      "text/html": [],
      "text/plain": [
       "<IPython.core.display.HTML object>"
      ]
     },
     "metadata": {},
     "output_type": "display_data"
    },
    {
     "data": {
      "text/html": [],
      "text/plain": [
       "<IPython.core.display.HTML object>"
      ]
     },
     "metadata": {},
     "output_type": "display_data"
    },
    {
     "data": {
      "text/html": [],
      "text/plain": [
       "<IPython.core.display.HTML object>"
      ]
     },
     "metadata": {},
     "output_type": "display_data"
    },
    {
     "data": {
      "text/html": [],
      "text/plain": [
       "<IPython.core.display.HTML object>"
      ]
     },
     "metadata": {},
     "output_type": "display_data"
    },
    {
     "data": {
      "text/html": [],
      "text/plain": [
       "<IPython.core.display.HTML object>"
      ]
     },
     "metadata": {},
     "output_type": "display_data"
    },
    {
     "data": {
      "text/html": [],
      "text/plain": [
       "<IPython.core.display.HTML object>"
      ]
     },
     "metadata": {},
     "output_type": "display_data"
    },
    {
     "data": {
      "text/html": [],
      "text/plain": [
       "<IPython.core.display.HTML object>"
      ]
     },
     "metadata": {},
     "output_type": "display_data"
    },
    {
     "data": {
      "text/html": [],
      "text/plain": [
       "<IPython.core.display.HTML object>"
      ]
     },
     "metadata": {},
     "output_type": "display_data"
    },
    {
     "data": {
      "text/html": [],
      "text/plain": [
       "<IPython.core.display.HTML object>"
      ]
     },
     "metadata": {},
     "output_type": "display_data"
    },
    {
     "data": {
      "text/html": [],
      "text/plain": [
       "<IPython.core.display.HTML object>"
      ]
     },
     "metadata": {},
     "output_type": "display_data"
    },
    {
     "data": {
      "text/html": [],
      "text/plain": [
       "<IPython.core.display.HTML object>"
      ]
     },
     "metadata": {},
     "output_type": "display_data"
    },
    {
     "data": {
      "text/html": [],
      "text/plain": [
       "<IPython.core.display.HTML object>"
      ]
     },
     "metadata": {},
     "output_type": "display_data"
    },
    {
     "data": {
      "text/html": [],
      "text/plain": [
       "<IPython.core.display.HTML object>"
      ]
     },
     "metadata": {},
     "output_type": "display_data"
    },
    {
     "data": {
      "text/html": [],
      "text/plain": [
       "<IPython.core.display.HTML object>"
      ]
     },
     "metadata": {},
     "output_type": "display_data"
    },
    {
     "data": {
      "text/html": [],
      "text/plain": [
       "<IPython.core.display.HTML object>"
      ]
     },
     "metadata": {},
     "output_type": "display_data"
    },
    {
     "data": {
      "text/html": [],
      "text/plain": [
       "<IPython.core.display.HTML object>"
      ]
     },
     "metadata": {},
     "output_type": "display_data"
    },
    {
     "data": {
      "text/html": [],
      "text/plain": [
       "<IPython.core.display.HTML object>"
      ]
     },
     "metadata": {},
     "output_type": "display_data"
    },
    {
     "data": {
      "text/html": [],
      "text/plain": [
       "<IPython.core.display.HTML object>"
      ]
     },
     "metadata": {},
     "output_type": "display_data"
    },
    {
     "data": {
      "text/html": [],
      "text/plain": [
       "<IPython.core.display.HTML object>"
      ]
     },
     "metadata": {},
     "output_type": "display_data"
    },
    {
     "data": {
      "text/html": [],
      "text/plain": [
       "<IPython.core.display.HTML object>"
      ]
     },
     "metadata": {},
     "output_type": "display_data"
    },
    {
     "data": {
      "text/html": [],
      "text/plain": [
       "<IPython.core.display.HTML object>"
      ]
     },
     "metadata": {},
     "output_type": "display_data"
    },
    {
     "data": {
      "text/html": [],
      "text/plain": [
       "<IPython.core.display.HTML object>"
      ]
     },
     "metadata": {},
     "output_type": "display_data"
    },
    {
     "data": {
      "text/html": [],
      "text/plain": [
       "<IPython.core.display.HTML object>"
      ]
     },
     "metadata": {},
     "output_type": "display_data"
    },
    {
     "data": {
      "text/html": [],
      "text/plain": [
       "<IPython.core.display.HTML object>"
      ]
     },
     "metadata": {},
     "output_type": "display_data"
    },
    {
     "data": {
      "text/html": [],
      "text/plain": [
       "<IPython.core.display.HTML object>"
      ]
     },
     "metadata": {},
     "output_type": "display_data"
    },
    {
     "data": {
      "text/html": [],
      "text/plain": [
       "<IPython.core.display.HTML object>"
      ]
     },
     "metadata": {},
     "output_type": "display_data"
    },
    {
     "data": {
      "text/html": [],
      "text/plain": [
       "<IPython.core.display.HTML object>"
      ]
     },
     "metadata": {},
     "output_type": "display_data"
    },
    {
     "data": {
      "text/html": [],
      "text/plain": [
       "<IPython.core.display.HTML object>"
      ]
     },
     "metadata": {},
     "output_type": "display_data"
    },
    {
     "data": {
      "text/html": [],
      "text/plain": [
       "<IPython.core.display.HTML object>"
      ]
     },
     "metadata": {},
     "output_type": "display_data"
    },
    {
     "data": {
      "text/html": [],
      "text/plain": [
       "<IPython.core.display.HTML object>"
      ]
     },
     "metadata": {},
     "output_type": "display_data"
    },
    {
     "data": {
      "text/html": [],
      "text/plain": [
       "<IPython.core.display.HTML object>"
      ]
     },
     "metadata": {},
     "output_type": "display_data"
    },
    {
     "data": {
      "text/html": [],
      "text/plain": [
       "<IPython.core.display.HTML object>"
      ]
     },
     "metadata": {},
     "output_type": "display_data"
    },
    {
     "data": {
      "text/html": [],
      "text/plain": [
       "<IPython.core.display.HTML object>"
      ]
     },
     "metadata": {},
     "output_type": "display_data"
    },
    {
     "data": {
      "text/html": [],
      "text/plain": [
       "<IPython.core.display.HTML object>"
      ]
     },
     "metadata": {},
     "output_type": "display_data"
    },
    {
     "data": {
      "text/html": [],
      "text/plain": [
       "<IPython.core.display.HTML object>"
      ]
     },
     "metadata": {},
     "output_type": "display_data"
    },
    {
     "data": {
      "text/html": [],
      "text/plain": [
       "<IPython.core.display.HTML object>"
      ]
     },
     "metadata": {},
     "output_type": "display_data"
    },
    {
     "data": {
      "text/html": [],
      "text/plain": [
       "<IPython.core.display.HTML object>"
      ]
     },
     "metadata": {},
     "output_type": "display_data"
    },
    {
     "data": {
      "text/html": [],
      "text/plain": [
       "<IPython.core.display.HTML object>"
      ]
     },
     "metadata": {},
     "output_type": "display_data"
    },
    {
     "data": {
      "text/html": [],
      "text/plain": [
       "<IPython.core.display.HTML object>"
      ]
     },
     "metadata": {},
     "output_type": "display_data"
    },
    {
     "data": {
      "text/html": [],
      "text/plain": [
       "<IPython.core.display.HTML object>"
      ]
     },
     "metadata": {},
     "output_type": "display_data"
    },
    {
     "data": {
      "text/html": [],
      "text/plain": [
       "<IPython.core.display.HTML object>"
      ]
     },
     "metadata": {},
     "output_type": "display_data"
    },
    {
     "data": {
      "text/html": [],
      "text/plain": [
       "<IPython.core.display.HTML object>"
      ]
     },
     "metadata": {},
     "output_type": "display_data"
    },
    {
     "data": {
      "text/html": [],
      "text/plain": [
       "<IPython.core.display.HTML object>"
      ]
     },
     "metadata": {},
     "output_type": "display_data"
    },
    {
     "data": {
      "text/html": [],
      "text/plain": [
       "<IPython.core.display.HTML object>"
      ]
     },
     "metadata": {},
     "output_type": "display_data"
    },
    {
     "data": {
      "text/html": [],
      "text/plain": [
       "<IPython.core.display.HTML object>"
      ]
     },
     "metadata": {},
     "output_type": "display_data"
    },
    {
     "data": {
      "text/html": [],
      "text/plain": [
       "<IPython.core.display.HTML object>"
      ]
     },
     "metadata": {},
     "output_type": "display_data"
    },
    {
     "data": {
      "text/html": [],
      "text/plain": [
       "<IPython.core.display.HTML object>"
      ]
     },
     "metadata": {},
     "output_type": "display_data"
    },
    {
     "data": {
      "text/html": [],
      "text/plain": [
       "<IPython.core.display.HTML object>"
      ]
     },
     "metadata": {},
     "output_type": "display_data"
    },
    {
     "data": {
      "text/html": [],
      "text/plain": [
       "<IPython.core.display.HTML object>"
      ]
     },
     "metadata": {},
     "output_type": "display_data"
    },
    {
     "data": {
      "text/html": [],
      "text/plain": [
       "<IPython.core.display.HTML object>"
      ]
     },
     "metadata": {},
     "output_type": "display_data"
    },
    {
     "data": {
      "text/html": [],
      "text/plain": [
       "<IPython.core.display.HTML object>"
      ]
     },
     "metadata": {},
     "output_type": "display_data"
    },
    {
     "data": {
      "text/html": [],
      "text/plain": [
       "<IPython.core.display.HTML object>"
      ]
     },
     "metadata": {},
     "output_type": "display_data"
    },
    {
     "data": {
      "text/html": [],
      "text/plain": [
       "<IPython.core.display.HTML object>"
      ]
     },
     "metadata": {},
     "output_type": "display_data"
    },
    {
     "data": {
      "text/html": [],
      "text/plain": [
       "<IPython.core.display.HTML object>"
      ]
     },
     "metadata": {},
     "output_type": "display_data"
    },
    {
     "data": {
      "text/html": [],
      "text/plain": [
       "<IPython.core.display.HTML object>"
      ]
     },
     "metadata": {},
     "output_type": "display_data"
    },
    {
     "data": {
      "text/html": [],
      "text/plain": [
       "<IPython.core.display.HTML object>"
      ]
     },
     "metadata": {},
     "output_type": "display_data"
    },
    {
     "data": {
      "text/html": [],
      "text/plain": [
       "<IPython.core.display.HTML object>"
      ]
     },
     "metadata": {},
     "output_type": "display_data"
    },
    {
     "data": {
      "text/html": [],
      "text/plain": [
       "<IPython.core.display.HTML object>"
      ]
     },
     "metadata": {},
     "output_type": "display_data"
    },
    {
     "data": {
      "text/html": [],
      "text/plain": [
       "<IPython.core.display.HTML object>"
      ]
     },
     "metadata": {},
     "output_type": "display_data"
    },
    {
     "data": {
      "text/html": [],
      "text/plain": [
       "<IPython.core.display.HTML object>"
      ]
     },
     "metadata": {},
     "output_type": "display_data"
    },
    {
     "data": {
      "text/html": [],
      "text/plain": [
       "<IPython.core.display.HTML object>"
      ]
     },
     "metadata": {},
     "output_type": "display_data"
    },
    {
     "data": {
      "text/html": [],
      "text/plain": [
       "<IPython.core.display.HTML object>"
      ]
     },
     "metadata": {},
     "output_type": "display_data"
    },
    {
     "data": {
      "text/html": [],
      "text/plain": [
       "<IPython.core.display.HTML object>"
      ]
     },
     "metadata": {},
     "output_type": "display_data"
    },
    {
     "data": {
      "text/html": [],
      "text/plain": [
       "<IPython.core.display.HTML object>"
      ]
     },
     "metadata": {},
     "output_type": "display_data"
    },
    {
     "data": {
      "text/html": [],
      "text/plain": [
       "<IPython.core.display.HTML object>"
      ]
     },
     "metadata": {},
     "output_type": "display_data"
    },
    {
     "data": {
      "text/html": [],
      "text/plain": [
       "<IPython.core.display.HTML object>"
      ]
     },
     "metadata": {},
     "output_type": "display_data"
    },
    {
     "data": {
      "text/html": [],
      "text/plain": [
       "<IPython.core.display.HTML object>"
      ]
     },
     "metadata": {},
     "output_type": "display_data"
    },
    {
     "data": {
      "text/html": [],
      "text/plain": [
       "<IPython.core.display.HTML object>"
      ]
     },
     "metadata": {},
     "output_type": "display_data"
    },
    {
     "data": {
      "text/html": [],
      "text/plain": [
       "<IPython.core.display.HTML object>"
      ]
     },
     "metadata": {},
     "output_type": "display_data"
    },
    {
     "data": {
      "text/html": [],
      "text/plain": [
       "<IPython.core.display.HTML object>"
      ]
     },
     "metadata": {},
     "output_type": "display_data"
    },
    {
     "data": {
      "text/html": [],
      "text/plain": [
       "<IPython.core.display.HTML object>"
      ]
     },
     "metadata": {},
     "output_type": "display_data"
    },
    {
     "data": {
      "text/html": [],
      "text/plain": [
       "<IPython.core.display.HTML object>"
      ]
     },
     "metadata": {},
     "output_type": "display_data"
    },
    {
     "data": {
      "text/html": [],
      "text/plain": [
       "<IPython.core.display.HTML object>"
      ]
     },
     "metadata": {},
     "output_type": "display_data"
    },
    {
     "data": {
      "text/html": [],
      "text/plain": [
       "<IPython.core.display.HTML object>"
      ]
     },
     "metadata": {},
     "output_type": "display_data"
    },
    {
     "data": {
      "text/html": [],
      "text/plain": [
       "<IPython.core.display.HTML object>"
      ]
     },
     "metadata": {},
     "output_type": "display_data"
    },
    {
     "data": {
      "text/html": [],
      "text/plain": [
       "<IPython.core.display.HTML object>"
      ]
     },
     "metadata": {},
     "output_type": "display_data"
    },
    {
     "data": {
      "text/html": [],
      "text/plain": [
       "<IPython.core.display.HTML object>"
      ]
     },
     "metadata": {},
     "output_type": "display_data"
    },
    {
     "data": {
      "text/html": [],
      "text/plain": [
       "<IPython.core.display.HTML object>"
      ]
     },
     "metadata": {},
     "output_type": "display_data"
    },
    {
     "data": {
      "text/html": [],
      "text/plain": [
       "<IPython.core.display.HTML object>"
      ]
     },
     "metadata": {},
     "output_type": "display_data"
    },
    {
     "data": {
      "text/html": [],
      "text/plain": [
       "<IPython.core.display.HTML object>"
      ]
     },
     "metadata": {},
     "output_type": "display_data"
    },
    {
     "data": {
      "text/html": [],
      "text/plain": [
       "<IPython.core.display.HTML object>"
      ]
     },
     "metadata": {},
     "output_type": "display_data"
    },
    {
     "data": {
      "text/html": [],
      "text/plain": [
       "<IPython.core.display.HTML object>"
      ]
     },
     "metadata": {},
     "output_type": "display_data"
    },
    {
     "data": {
      "text/html": [],
      "text/plain": [
       "<IPython.core.display.HTML object>"
      ]
     },
     "metadata": {},
     "output_type": "display_data"
    },
    {
     "data": {
      "text/html": [],
      "text/plain": [
       "<IPython.core.display.HTML object>"
      ]
     },
     "metadata": {},
     "output_type": "display_data"
    },
    {
     "data": {
      "text/html": [],
      "text/plain": [
       "<IPython.core.display.HTML object>"
      ]
     },
     "metadata": {},
     "output_type": "display_data"
    },
    {
     "data": {
      "text/html": [],
      "text/plain": [
       "<IPython.core.display.HTML object>"
      ]
     },
     "metadata": {},
     "output_type": "display_data"
    },
    {
     "data": {
      "text/html": [],
      "text/plain": [
       "<IPython.core.display.HTML object>"
      ]
     },
     "metadata": {},
     "output_type": "display_data"
    },
    {
     "data": {
      "text/html": [],
      "text/plain": [
       "<IPython.core.display.HTML object>"
      ]
     },
     "metadata": {},
     "output_type": "display_data"
    },
    {
     "data": {
      "text/html": [],
      "text/plain": [
       "<IPython.core.display.HTML object>"
      ]
     },
     "metadata": {},
     "output_type": "display_data"
    },
    {
     "data": {
      "text/html": [],
      "text/plain": [
       "<IPython.core.display.HTML object>"
      ]
     },
     "metadata": {},
     "output_type": "display_data"
    },
    {
     "data": {
      "text/html": [],
      "text/plain": [
       "<IPython.core.display.HTML object>"
      ]
     },
     "metadata": {},
     "output_type": "display_data"
    },
    {
     "data": {
      "text/html": [],
      "text/plain": [
       "<IPython.core.display.HTML object>"
      ]
     },
     "metadata": {},
     "output_type": "display_data"
    },
    {
     "data": {
      "text/html": [],
      "text/plain": [
       "<IPython.core.display.HTML object>"
      ]
     },
     "metadata": {},
     "output_type": "display_data"
    },
    {
     "data": {
      "text/html": [],
      "text/plain": [
       "<IPython.core.display.HTML object>"
      ]
     },
     "metadata": {},
     "output_type": "display_data"
    },
    {
     "data": {
      "text/html": [],
      "text/plain": [
       "<IPython.core.display.HTML object>"
      ]
     },
     "metadata": {},
     "output_type": "display_data"
    },
    {
     "data": {
      "text/html": [],
      "text/plain": [
       "<IPython.core.display.HTML object>"
      ]
     },
     "metadata": {},
     "output_type": "display_data"
    },
    {
     "data": {
      "text/html": [],
      "text/plain": [
       "<IPython.core.display.HTML object>"
      ]
     },
     "metadata": {},
     "output_type": "display_data"
    },
    {
     "data": {
      "text/html": [],
      "text/plain": [
       "<IPython.core.display.HTML object>"
      ]
     },
     "metadata": {},
     "output_type": "display_data"
    },
    {
     "data": {
      "text/html": [],
      "text/plain": [
       "<IPython.core.display.HTML object>"
      ]
     },
     "metadata": {},
     "output_type": "display_data"
    },
    {
     "data": {
      "text/html": [],
      "text/plain": [
       "<IPython.core.display.HTML object>"
      ]
     },
     "metadata": {},
     "output_type": "display_data"
    },
    {
     "data": {
      "text/html": [],
      "text/plain": [
       "<IPython.core.display.HTML object>"
      ]
     },
     "metadata": {},
     "output_type": "display_data"
    },
    {
     "data": {
      "text/html": [],
      "text/plain": [
       "<IPython.core.display.HTML object>"
      ]
     },
     "metadata": {},
     "output_type": "display_data"
    },
    {
     "data": {
      "text/html": [],
      "text/plain": [
       "<IPython.core.display.HTML object>"
      ]
     },
     "metadata": {},
     "output_type": "display_data"
    },
    {
     "data": {
      "text/html": [],
      "text/plain": [
       "<IPython.core.display.HTML object>"
      ]
     },
     "metadata": {},
     "output_type": "display_data"
    },
    {
     "data": {
      "text/html": [],
      "text/plain": [
       "<IPython.core.display.HTML object>"
      ]
     },
     "metadata": {},
     "output_type": "display_data"
    },
    {
     "data": {
      "text/html": [],
      "text/plain": [
       "<IPython.core.display.HTML object>"
      ]
     },
     "metadata": {},
     "output_type": "display_data"
    },
    {
     "data": {
      "text/html": [],
      "text/plain": [
       "<IPython.core.display.HTML object>"
      ]
     },
     "metadata": {},
     "output_type": "display_data"
    },
    {
     "data": {
      "text/html": [],
      "text/plain": [
       "<IPython.core.display.HTML object>"
      ]
     },
     "metadata": {},
     "output_type": "display_data"
    },
    {
     "data": {
      "text/html": [],
      "text/plain": [
       "<IPython.core.display.HTML object>"
      ]
     },
     "metadata": {},
     "output_type": "display_data"
    },
    {
     "data": {
      "text/html": [],
      "text/plain": [
       "<IPython.core.display.HTML object>"
      ]
     },
     "metadata": {},
     "output_type": "display_data"
    },
    {
     "data": {
      "text/html": [],
      "text/plain": [
       "<IPython.core.display.HTML object>"
      ]
     },
     "metadata": {},
     "output_type": "display_data"
    },
    {
     "data": {
      "text/html": [],
      "text/plain": [
       "<IPython.core.display.HTML object>"
      ]
     },
     "metadata": {},
     "output_type": "display_data"
    },
    {
     "data": {
      "text/html": [],
      "text/plain": [
       "<IPython.core.display.HTML object>"
      ]
     },
     "metadata": {},
     "output_type": "display_data"
    },
    {
     "data": {
      "text/html": [],
      "text/plain": [
       "<IPython.core.display.HTML object>"
      ]
     },
     "metadata": {},
     "output_type": "display_data"
    },
    {
     "data": {
      "text/html": [],
      "text/plain": [
       "<IPython.core.display.HTML object>"
      ]
     },
     "metadata": {},
     "output_type": "display_data"
    },
    {
     "data": {
      "text/html": [],
      "text/plain": [
       "<IPython.core.display.HTML object>"
      ]
     },
     "metadata": {},
     "output_type": "display_data"
    },
    {
     "data": {
      "text/html": [],
      "text/plain": [
       "<IPython.core.display.HTML object>"
      ]
     },
     "metadata": {},
     "output_type": "display_data"
    },
    {
     "data": {
      "text/html": [],
      "text/plain": [
       "<IPython.core.display.HTML object>"
      ]
     },
     "metadata": {},
     "output_type": "display_data"
    },
    {
     "data": {
      "text/html": [],
      "text/plain": [
       "<IPython.core.display.HTML object>"
      ]
     },
     "metadata": {},
     "output_type": "display_data"
    },
    {
     "data": {
      "text/html": [],
      "text/plain": [
       "<IPython.core.display.HTML object>"
      ]
     },
     "metadata": {},
     "output_type": "display_data"
    },
    {
     "data": {
      "text/html": [],
      "text/plain": [
       "<IPython.core.display.HTML object>"
      ]
     },
     "metadata": {},
     "output_type": "display_data"
    },
    {
     "data": {
      "text/html": [],
      "text/plain": [
       "<IPython.core.display.HTML object>"
      ]
     },
     "metadata": {},
     "output_type": "display_data"
    },
    {
     "data": {
      "text/html": [],
      "text/plain": [
       "<IPython.core.display.HTML object>"
      ]
     },
     "metadata": {},
     "output_type": "display_data"
    },
    {
     "data": {
      "text/html": [],
      "text/plain": [
       "<IPython.core.display.HTML object>"
      ]
     },
     "metadata": {},
     "output_type": "display_data"
    },
    {
     "data": {
      "text/html": [],
      "text/plain": [
       "<IPython.core.display.HTML object>"
      ]
     },
     "metadata": {},
     "output_type": "display_data"
    },
    {
     "data": {
      "text/html": [],
      "text/plain": [
       "<IPython.core.display.HTML object>"
      ]
     },
     "metadata": {},
     "output_type": "display_data"
    },
    {
     "data": {
      "text/html": [],
      "text/plain": [
       "<IPython.core.display.HTML object>"
      ]
     },
     "metadata": {},
     "output_type": "display_data"
    },
    {
     "data": {
      "text/html": [],
      "text/plain": [
       "<IPython.core.display.HTML object>"
      ]
     },
     "metadata": {},
     "output_type": "display_data"
    },
    {
     "data": {
      "text/html": [],
      "text/plain": [
       "<IPython.core.display.HTML object>"
      ]
     },
     "metadata": {},
     "output_type": "display_data"
    },
    {
     "data": {
      "text/html": [],
      "text/plain": [
       "<IPython.core.display.HTML object>"
      ]
     },
     "metadata": {},
     "output_type": "display_data"
    },
    {
     "data": {
      "text/html": [],
      "text/plain": [
       "<IPython.core.display.HTML object>"
      ]
     },
     "metadata": {},
     "output_type": "display_data"
    },
    {
     "data": {
      "text/html": [],
      "text/plain": [
       "<IPython.core.display.HTML object>"
      ]
     },
     "metadata": {},
     "output_type": "display_data"
    },
    {
     "data": {
      "text/html": [],
      "text/plain": [
       "<IPython.core.display.HTML object>"
      ]
     },
     "metadata": {},
     "output_type": "display_data"
    },
    {
     "data": {
      "text/html": [],
      "text/plain": [
       "<IPython.core.display.HTML object>"
      ]
     },
     "metadata": {},
     "output_type": "display_data"
    },
    {
     "data": {
      "text/html": [],
      "text/plain": [
       "<IPython.core.display.HTML object>"
      ]
     },
     "metadata": {},
     "output_type": "display_data"
    },
    {
     "data": {
      "text/html": [],
      "text/plain": [
       "<IPython.core.display.HTML object>"
      ]
     },
     "metadata": {},
     "output_type": "display_data"
    },
    {
     "data": {
      "text/html": [],
      "text/plain": [
       "<IPython.core.display.HTML object>"
      ]
     },
     "metadata": {},
     "output_type": "display_data"
    },
    {
     "data": {
      "text/html": [],
      "text/plain": [
       "<IPython.core.display.HTML object>"
      ]
     },
     "metadata": {},
     "output_type": "display_data"
    },
    {
     "data": {
      "text/html": [],
      "text/plain": [
       "<IPython.core.display.HTML object>"
      ]
     },
     "metadata": {},
     "output_type": "display_data"
    },
    {
     "data": {
      "text/html": [],
      "text/plain": [
       "<IPython.core.display.HTML object>"
      ]
     },
     "metadata": {},
     "output_type": "display_data"
    },
    {
     "data": {
      "text/html": [],
      "text/plain": [
       "<IPython.core.display.HTML object>"
      ]
     },
     "metadata": {},
     "output_type": "display_data"
    },
    {
     "data": {
      "text/html": [],
      "text/plain": [
       "<IPython.core.display.HTML object>"
      ]
     },
     "metadata": {},
     "output_type": "display_data"
    },
    {
     "data": {
      "text/html": [],
      "text/plain": [
       "<IPython.core.display.HTML object>"
      ]
     },
     "metadata": {},
     "output_type": "display_data"
    },
    {
     "data": {
      "text/html": [],
      "text/plain": [
       "<IPython.core.display.HTML object>"
      ]
     },
     "metadata": {},
     "output_type": "display_data"
    },
    {
     "data": {
      "text/html": [],
      "text/plain": [
       "<IPython.core.display.HTML object>"
      ]
     },
     "metadata": {},
     "output_type": "display_data"
    },
    {
     "data": {
      "text/html": [],
      "text/plain": [
       "<IPython.core.display.HTML object>"
      ]
     },
     "metadata": {},
     "output_type": "display_data"
    },
    {
     "data": {
      "text/html": [],
      "text/plain": [
       "<IPython.core.display.HTML object>"
      ]
     },
     "metadata": {},
     "output_type": "display_data"
    },
    {
     "data": {
      "text/html": [],
      "text/plain": [
       "<IPython.core.display.HTML object>"
      ]
     },
     "metadata": {},
     "output_type": "display_data"
    },
    {
     "data": {
      "text/html": [],
      "text/plain": [
       "<IPython.core.display.HTML object>"
      ]
     },
     "metadata": {},
     "output_type": "display_data"
    },
    {
     "data": {
      "text/html": [],
      "text/plain": [
       "<IPython.core.display.HTML object>"
      ]
     },
     "metadata": {},
     "output_type": "display_data"
    },
    {
     "data": {
      "text/html": [],
      "text/plain": [
       "<IPython.core.display.HTML object>"
      ]
     },
     "metadata": {},
     "output_type": "display_data"
    },
    {
     "data": {
      "text/html": [],
      "text/plain": [
       "<IPython.core.display.HTML object>"
      ]
     },
     "metadata": {},
     "output_type": "display_data"
    },
    {
     "data": {
      "text/html": [],
      "text/plain": [
       "<IPython.core.display.HTML object>"
      ]
     },
     "metadata": {},
     "output_type": "display_data"
    },
    {
     "data": {
      "text/html": [],
      "text/plain": [
       "<IPython.core.display.HTML object>"
      ]
     },
     "metadata": {},
     "output_type": "display_data"
    },
    {
     "data": {
      "text/html": [],
      "text/plain": [
       "<IPython.core.display.HTML object>"
      ]
     },
     "metadata": {},
     "output_type": "display_data"
    },
    {
     "data": {
      "text/html": [],
      "text/plain": [
       "<IPython.core.display.HTML object>"
      ]
     },
     "metadata": {},
     "output_type": "display_data"
    },
    {
     "data": {
      "text/html": [],
      "text/plain": [
       "<IPython.core.display.HTML object>"
      ]
     },
     "metadata": {},
     "output_type": "display_data"
    },
    {
     "data": {
      "text/html": [],
      "text/plain": [
       "<IPython.core.display.HTML object>"
      ]
     },
     "metadata": {},
     "output_type": "display_data"
    },
    {
     "data": {
      "text/html": [],
      "text/plain": [
       "<IPython.core.display.HTML object>"
      ]
     },
     "metadata": {},
     "output_type": "display_data"
    },
    {
     "data": {
      "text/html": [],
      "text/plain": [
       "<IPython.core.display.HTML object>"
      ]
     },
     "metadata": {},
     "output_type": "display_data"
    },
    {
     "data": {
      "text/html": [],
      "text/plain": [
       "<IPython.core.display.HTML object>"
      ]
     },
     "metadata": {},
     "output_type": "display_data"
    },
    {
     "data": {
      "text/html": [],
      "text/plain": [
       "<IPython.core.display.HTML object>"
      ]
     },
     "metadata": {},
     "output_type": "display_data"
    },
    {
     "data": {
      "text/html": [],
      "text/plain": [
       "<IPython.core.display.HTML object>"
      ]
     },
     "metadata": {},
     "output_type": "display_data"
    },
    {
     "data": {
      "text/html": [],
      "text/plain": [
       "<IPython.core.display.HTML object>"
      ]
     },
     "metadata": {},
     "output_type": "display_data"
    },
    {
     "data": {
      "text/html": [],
      "text/plain": [
       "<IPython.core.display.HTML object>"
      ]
     },
     "metadata": {},
     "output_type": "display_data"
    },
    {
     "data": {
      "text/html": [],
      "text/plain": [
       "<IPython.core.display.HTML object>"
      ]
     },
     "metadata": {},
     "output_type": "display_data"
    },
    {
     "data": {
      "text/html": [],
      "text/plain": [
       "<IPython.core.display.HTML object>"
      ]
     },
     "metadata": {},
     "output_type": "display_data"
    },
    {
     "data": {
      "text/html": [],
      "text/plain": [
       "<IPython.core.display.HTML object>"
      ]
     },
     "metadata": {},
     "output_type": "display_data"
    },
    {
     "data": {
      "text/html": [],
      "text/plain": [
       "<IPython.core.display.HTML object>"
      ]
     },
     "metadata": {},
     "output_type": "display_data"
    },
    {
     "data": {
      "text/html": [],
      "text/plain": [
       "<IPython.core.display.HTML object>"
      ]
     },
     "metadata": {},
     "output_type": "display_data"
    },
    {
     "data": {
      "text/html": [],
      "text/plain": [
       "<IPython.core.display.HTML object>"
      ]
     },
     "metadata": {},
     "output_type": "display_data"
    },
    {
     "data": {
      "text/html": [],
      "text/plain": [
       "<IPython.core.display.HTML object>"
      ]
     },
     "metadata": {},
     "output_type": "display_data"
    },
    {
     "data": {
      "text/html": [],
      "text/plain": [
       "<IPython.core.display.HTML object>"
      ]
     },
     "metadata": {},
     "output_type": "display_data"
    },
    {
     "data": {
      "text/html": [],
      "text/plain": [
       "<IPython.core.display.HTML object>"
      ]
     },
     "metadata": {},
     "output_type": "display_data"
    },
    {
     "data": {
      "text/html": [],
      "text/plain": [
       "<IPython.core.display.HTML object>"
      ]
     },
     "metadata": {},
     "output_type": "display_data"
    },
    {
     "data": {
      "text/html": [],
      "text/plain": [
       "<IPython.core.display.HTML object>"
      ]
     },
     "metadata": {},
     "output_type": "display_data"
    },
    {
     "data": {
      "text/html": [],
      "text/plain": [
       "<IPython.core.display.HTML object>"
      ]
     },
     "metadata": {},
     "output_type": "display_data"
    },
    {
     "data": {
      "text/html": [],
      "text/plain": [
       "<IPython.core.display.HTML object>"
      ]
     },
     "metadata": {},
     "output_type": "display_data"
    },
    {
     "data": {
      "text/html": [],
      "text/plain": [
       "<IPython.core.display.HTML object>"
      ]
     },
     "metadata": {},
     "output_type": "display_data"
    },
    {
     "data": {
      "text/html": [],
      "text/plain": [
       "<IPython.core.display.HTML object>"
      ]
     },
     "metadata": {},
     "output_type": "display_data"
    },
    {
     "data": {
      "text/html": [],
      "text/plain": [
       "<IPython.core.display.HTML object>"
      ]
     },
     "metadata": {},
     "output_type": "display_data"
    },
    {
     "data": {
      "text/html": [],
      "text/plain": [
       "<IPython.core.display.HTML object>"
      ]
     },
     "metadata": {},
     "output_type": "display_data"
    },
    {
     "data": {
      "text/html": [],
      "text/plain": [
       "<IPython.core.display.HTML object>"
      ]
     },
     "metadata": {},
     "output_type": "display_data"
    },
    {
     "data": {
      "text/html": [],
      "text/plain": [
       "<IPython.core.display.HTML object>"
      ]
     },
     "metadata": {},
     "output_type": "display_data"
    },
    {
     "data": {
      "text/html": [],
      "text/plain": [
       "<IPython.core.display.HTML object>"
      ]
     },
     "metadata": {},
     "output_type": "display_data"
    },
    {
     "data": {
      "text/html": [],
      "text/plain": [
       "<IPython.core.display.HTML object>"
      ]
     },
     "metadata": {},
     "output_type": "display_data"
    },
    {
     "data": {
      "text/html": [],
      "text/plain": [
       "<IPython.core.display.HTML object>"
      ]
     },
     "metadata": {},
     "output_type": "display_data"
    },
    {
     "data": {
      "text/html": [],
      "text/plain": [
       "<IPython.core.display.HTML object>"
      ]
     },
     "metadata": {},
     "output_type": "display_data"
    },
    {
     "data": {
      "text/html": [],
      "text/plain": [
       "<IPython.core.display.HTML object>"
      ]
     },
     "metadata": {},
     "output_type": "display_data"
    },
    {
     "data": {
      "text/html": [],
      "text/plain": [
       "<IPython.core.display.HTML object>"
      ]
     },
     "metadata": {},
     "output_type": "display_data"
    },
    {
     "data": {
      "text/html": [],
      "text/plain": [
       "<IPython.core.display.HTML object>"
      ]
     },
     "metadata": {},
     "output_type": "display_data"
    },
    {
     "data": {
      "text/html": [],
      "text/plain": [
       "<IPython.core.display.HTML object>"
      ]
     },
     "metadata": {},
     "output_type": "display_data"
    },
    {
     "data": {
      "text/html": [],
      "text/plain": [
       "<IPython.core.display.HTML object>"
      ]
     },
     "metadata": {},
     "output_type": "display_data"
    },
    {
     "data": {
      "text/html": [],
      "text/plain": [
       "<IPython.core.display.HTML object>"
      ]
     },
     "metadata": {},
     "output_type": "display_data"
    },
    {
     "data": {
      "text/html": [],
      "text/plain": [
       "<IPython.core.display.HTML object>"
      ]
     },
     "metadata": {},
     "output_type": "display_data"
    },
    {
     "data": {
      "text/html": [],
      "text/plain": [
       "<IPython.core.display.HTML object>"
      ]
     },
     "metadata": {},
     "output_type": "display_data"
    },
    {
     "data": {
      "text/html": [],
      "text/plain": [
       "<IPython.core.display.HTML object>"
      ]
     },
     "metadata": {},
     "output_type": "display_data"
    },
    {
     "data": {
      "text/html": [],
      "text/plain": [
       "<IPython.core.display.HTML object>"
      ]
     },
     "metadata": {},
     "output_type": "display_data"
    },
    {
     "data": {
      "text/html": [],
      "text/plain": [
       "<IPython.core.display.HTML object>"
      ]
     },
     "metadata": {},
     "output_type": "display_data"
    },
    {
     "data": {
      "text/html": [],
      "text/plain": [
       "<IPython.core.display.HTML object>"
      ]
     },
     "metadata": {},
     "output_type": "display_data"
    },
    {
     "data": {
      "text/html": [],
      "text/plain": [
       "<IPython.core.display.HTML object>"
      ]
     },
     "metadata": {},
     "output_type": "display_data"
    },
    {
     "data": {
      "text/html": [],
      "text/plain": [
       "<IPython.core.display.HTML object>"
      ]
     },
     "metadata": {},
     "output_type": "display_data"
    },
    {
     "data": {
      "text/html": [],
      "text/plain": [
       "<IPython.core.display.HTML object>"
      ]
     },
     "metadata": {},
     "output_type": "display_data"
    },
    {
     "data": {
      "text/html": [],
      "text/plain": [
       "<IPython.core.display.HTML object>"
      ]
     },
     "metadata": {},
     "output_type": "display_data"
    },
    {
     "data": {
      "text/html": [],
      "text/plain": [
       "<IPython.core.display.HTML object>"
      ]
     },
     "metadata": {},
     "output_type": "display_data"
    },
    {
     "data": {
      "text/html": [],
      "text/plain": [
       "<IPython.core.display.HTML object>"
      ]
     },
     "metadata": {},
     "output_type": "display_data"
    },
    {
     "data": {
      "text/html": [],
      "text/plain": [
       "<IPython.core.display.HTML object>"
      ]
     },
     "metadata": {},
     "output_type": "display_data"
    },
    {
     "data": {
      "text/html": [],
      "text/plain": [
       "<IPython.core.display.HTML object>"
      ]
     },
     "metadata": {},
     "output_type": "display_data"
    },
    {
     "data": {
      "text/html": [],
      "text/plain": [
       "<IPython.core.display.HTML object>"
      ]
     },
     "metadata": {},
     "output_type": "display_data"
    },
    {
     "data": {
      "text/html": [],
      "text/plain": [
       "<IPython.core.display.HTML object>"
      ]
     },
     "metadata": {},
     "output_type": "display_data"
    },
    {
     "data": {
      "text/html": [],
      "text/plain": [
       "<IPython.core.display.HTML object>"
      ]
     },
     "metadata": {},
     "output_type": "display_data"
    },
    {
     "data": {
      "text/html": [],
      "text/plain": [
       "<IPython.core.display.HTML object>"
      ]
     },
     "metadata": {},
     "output_type": "display_data"
    },
    {
     "data": {
      "text/html": [],
      "text/plain": [
       "<IPython.core.display.HTML object>"
      ]
     },
     "metadata": {},
     "output_type": "display_data"
    },
    {
     "data": {
      "text/html": [],
      "text/plain": [
       "<IPython.core.display.HTML object>"
      ]
     },
     "metadata": {},
     "output_type": "display_data"
    },
    {
     "data": {
      "text/html": [],
      "text/plain": [
       "<IPython.core.display.HTML object>"
      ]
     },
     "metadata": {},
     "output_type": "display_data"
    },
    {
     "data": {
      "text/html": [],
      "text/plain": [
       "<IPython.core.display.HTML object>"
      ]
     },
     "metadata": {},
     "output_type": "display_data"
    },
    {
     "data": {
      "text/html": [],
      "text/plain": [
       "<IPython.core.display.HTML object>"
      ]
     },
     "metadata": {},
     "output_type": "display_data"
    },
    {
     "data": {
      "text/html": [],
      "text/plain": [
       "<IPython.core.display.HTML object>"
      ]
     },
     "metadata": {},
     "output_type": "display_data"
    },
    {
     "data": {
      "text/html": [],
      "text/plain": [
       "<IPython.core.display.HTML object>"
      ]
     },
     "metadata": {},
     "output_type": "display_data"
    },
    {
     "data": {
      "text/html": [],
      "text/plain": [
       "<IPython.core.display.HTML object>"
      ]
     },
     "metadata": {},
     "output_type": "display_data"
    },
    {
     "data": {
      "text/html": [],
      "text/plain": [
       "<IPython.core.display.HTML object>"
      ]
     },
     "metadata": {},
     "output_type": "display_data"
    },
    {
     "data": {
      "text/html": [],
      "text/plain": [
       "<IPython.core.display.HTML object>"
      ]
     },
     "metadata": {},
     "output_type": "display_data"
    },
    {
     "data": {
      "text/html": [],
      "text/plain": [
       "<IPython.core.display.HTML object>"
      ]
     },
     "metadata": {},
     "output_type": "display_data"
    },
    {
     "data": {
      "text/html": [],
      "text/plain": [
       "<IPython.core.display.HTML object>"
      ]
     },
     "metadata": {},
     "output_type": "display_data"
    },
    {
     "data": {
      "text/html": [],
      "text/plain": [
       "<IPython.core.display.HTML object>"
      ]
     },
     "metadata": {},
     "output_type": "display_data"
    },
    {
     "data": {
      "text/html": [],
      "text/plain": [
       "<IPython.core.display.HTML object>"
      ]
     },
     "metadata": {},
     "output_type": "display_data"
    },
    {
     "data": {
      "text/html": [],
      "text/plain": [
       "<IPython.core.display.HTML object>"
      ]
     },
     "metadata": {},
     "output_type": "display_data"
    },
    {
     "data": {
      "text/html": [],
      "text/plain": [
       "<IPython.core.display.HTML object>"
      ]
     },
     "metadata": {},
     "output_type": "display_data"
    },
    {
     "data": {
      "text/html": [],
      "text/plain": [
       "<IPython.core.display.HTML object>"
      ]
     },
     "metadata": {},
     "output_type": "display_data"
    },
    {
     "data": {
      "text/html": [],
      "text/plain": [
       "<IPython.core.display.HTML object>"
      ]
     },
     "metadata": {},
     "output_type": "display_data"
    },
    {
     "data": {
      "text/html": [],
      "text/plain": [
       "<IPython.core.display.HTML object>"
      ]
     },
     "metadata": {},
     "output_type": "display_data"
    },
    {
     "data": {
      "text/html": [],
      "text/plain": [
       "<IPython.core.display.HTML object>"
      ]
     },
     "metadata": {},
     "output_type": "display_data"
    },
    {
     "data": {
      "text/html": [],
      "text/plain": [
       "<IPython.core.display.HTML object>"
      ]
     },
     "metadata": {},
     "output_type": "display_data"
    },
    {
     "data": {
      "text/html": [],
      "text/plain": [
       "<IPython.core.display.HTML object>"
      ]
     },
     "metadata": {},
     "output_type": "display_data"
    },
    {
     "data": {
      "text/html": [],
      "text/plain": [
       "<IPython.core.display.HTML object>"
      ]
     },
     "metadata": {},
     "output_type": "display_data"
    },
    {
     "data": {
      "text/html": [],
      "text/plain": [
       "<IPython.core.display.HTML object>"
      ]
     },
     "metadata": {},
     "output_type": "display_data"
    },
    {
     "data": {
      "text/html": [],
      "text/plain": [
       "<IPython.core.display.HTML object>"
      ]
     },
     "metadata": {},
     "output_type": "display_data"
    },
    {
     "data": {
      "text/html": [],
      "text/plain": [
       "<IPython.core.display.HTML object>"
      ]
     },
     "metadata": {},
     "output_type": "display_data"
    },
    {
     "data": {
      "text/html": [],
      "text/plain": [
       "<IPython.core.display.HTML object>"
      ]
     },
     "metadata": {},
     "output_type": "display_data"
    },
    {
     "data": {
      "text/html": [],
      "text/plain": [
       "<IPython.core.display.HTML object>"
      ]
     },
     "metadata": {},
     "output_type": "display_data"
    },
    {
     "data": {
      "text/html": [],
      "text/plain": [
       "<IPython.core.display.HTML object>"
      ]
     },
     "metadata": {},
     "output_type": "display_data"
    },
    {
     "data": {
      "text/html": [],
      "text/plain": [
       "<IPython.core.display.HTML object>"
      ]
     },
     "metadata": {},
     "output_type": "display_data"
    },
    {
     "data": {
      "text/html": [],
      "text/plain": [
       "<IPython.core.display.HTML object>"
      ]
     },
     "metadata": {},
     "output_type": "display_data"
    },
    {
     "data": {
      "text/html": [],
      "text/plain": [
       "<IPython.core.display.HTML object>"
      ]
     },
     "metadata": {},
     "output_type": "display_data"
    },
    {
     "data": {
      "text/html": [],
      "text/plain": [
       "<IPython.core.display.HTML object>"
      ]
     },
     "metadata": {},
     "output_type": "display_data"
    },
    {
     "data": {
      "text/html": [],
      "text/plain": [
       "<IPython.core.display.HTML object>"
      ]
     },
     "metadata": {},
     "output_type": "display_data"
    },
    {
     "data": {
      "text/html": [],
      "text/plain": [
       "<IPython.core.display.HTML object>"
      ]
     },
     "metadata": {},
     "output_type": "display_data"
    },
    {
     "data": {
      "text/html": [],
      "text/plain": [
       "<IPython.core.display.HTML object>"
      ]
     },
     "metadata": {},
     "output_type": "display_data"
    },
    {
     "data": {
      "text/html": [],
      "text/plain": [
       "<IPython.core.display.HTML object>"
      ]
     },
     "metadata": {},
     "output_type": "display_data"
    },
    {
     "data": {
      "text/html": [],
      "text/plain": [
       "<IPython.core.display.HTML object>"
      ]
     },
     "metadata": {},
     "output_type": "display_data"
    },
    {
     "data": {
      "text/html": [],
      "text/plain": [
       "<IPython.core.display.HTML object>"
      ]
     },
     "metadata": {},
     "output_type": "display_data"
    },
    {
     "data": {
      "text/html": [],
      "text/plain": [
       "<IPython.core.display.HTML object>"
      ]
     },
     "metadata": {},
     "output_type": "display_data"
    },
    {
     "data": {
      "text/html": [],
      "text/plain": [
       "<IPython.core.display.HTML object>"
      ]
     },
     "metadata": {},
     "output_type": "display_data"
    },
    {
     "data": {
      "text/html": [],
      "text/plain": [
       "<IPython.core.display.HTML object>"
      ]
     },
     "metadata": {},
     "output_type": "display_data"
    },
    {
     "data": {
      "text/html": [],
      "text/plain": [
       "<IPython.core.display.HTML object>"
      ]
     },
     "metadata": {},
     "output_type": "display_data"
    },
    {
     "data": {
      "text/html": [],
      "text/plain": [
       "<IPython.core.display.HTML object>"
      ]
     },
     "metadata": {},
     "output_type": "display_data"
    },
    {
     "data": {
      "text/html": [],
      "text/plain": [
       "<IPython.core.display.HTML object>"
      ]
     },
     "metadata": {},
     "output_type": "display_data"
    },
    {
     "data": {
      "text/html": [],
      "text/plain": [
       "<IPython.core.display.HTML object>"
      ]
     },
     "metadata": {},
     "output_type": "display_data"
    },
    {
     "data": {
      "text/html": [],
      "text/plain": [
       "<IPython.core.display.HTML object>"
      ]
     },
     "metadata": {},
     "output_type": "display_data"
    },
    {
     "data": {
      "text/html": [],
      "text/plain": [
       "<IPython.core.display.HTML object>"
      ]
     },
     "metadata": {},
     "output_type": "display_data"
    },
    {
     "data": {
      "text/html": [],
      "text/plain": [
       "<IPython.core.display.HTML object>"
      ]
     },
     "metadata": {},
     "output_type": "display_data"
    },
    {
     "data": {
      "text/html": [],
      "text/plain": [
       "<IPython.core.display.HTML object>"
      ]
     },
     "metadata": {},
     "output_type": "display_data"
    },
    {
     "data": {
      "text/html": [],
      "text/plain": [
       "<IPython.core.display.HTML object>"
      ]
     },
     "metadata": {},
     "output_type": "display_data"
    },
    {
     "data": {
      "text/html": [],
      "text/plain": [
       "<IPython.core.display.HTML object>"
      ]
     },
     "metadata": {},
     "output_type": "display_data"
    },
    {
     "data": {
      "text/html": [],
      "text/plain": [
       "<IPython.core.display.HTML object>"
      ]
     },
     "metadata": {},
     "output_type": "display_data"
    },
    {
     "data": {
      "text/html": [],
      "text/plain": [
       "<IPython.core.display.HTML object>"
      ]
     },
     "metadata": {},
     "output_type": "display_data"
    },
    {
     "data": {
      "text/html": [],
      "text/plain": [
       "<IPython.core.display.HTML object>"
      ]
     },
     "metadata": {},
     "output_type": "display_data"
    },
    {
     "data": {
      "text/html": [],
      "text/plain": [
       "<IPython.core.display.HTML object>"
      ]
     },
     "metadata": {},
     "output_type": "display_data"
    },
    {
     "data": {
      "text/html": [],
      "text/plain": [
       "<IPython.core.display.HTML object>"
      ]
     },
     "metadata": {},
     "output_type": "display_data"
    },
    {
     "data": {
      "text/html": [],
      "text/plain": [
       "<IPython.core.display.HTML object>"
      ]
     },
     "metadata": {},
     "output_type": "display_data"
    },
    {
     "data": {
      "text/html": [],
      "text/plain": [
       "<IPython.core.display.HTML object>"
      ]
     },
     "metadata": {},
     "output_type": "display_data"
    },
    {
     "data": {
      "text/html": [],
      "text/plain": [
       "<IPython.core.display.HTML object>"
      ]
     },
     "metadata": {},
     "output_type": "display_data"
    },
    {
     "data": {
      "text/html": [],
      "text/plain": [
       "<IPython.core.display.HTML object>"
      ]
     },
     "metadata": {},
     "output_type": "display_data"
    },
    {
     "data": {
      "text/html": [],
      "text/plain": [
       "<IPython.core.display.HTML object>"
      ]
     },
     "metadata": {},
     "output_type": "display_data"
    },
    {
     "data": {
      "text/html": [],
      "text/plain": [
       "<IPython.core.display.HTML object>"
      ]
     },
     "metadata": {},
     "output_type": "display_data"
    },
    {
     "data": {
      "text/html": [],
      "text/plain": [
       "<IPython.core.display.HTML object>"
      ]
     },
     "metadata": {},
     "output_type": "display_data"
    },
    {
     "data": {
      "text/html": [],
      "text/plain": [
       "<IPython.core.display.HTML object>"
      ]
     },
     "metadata": {},
     "output_type": "display_data"
    },
    {
     "data": {
      "text/html": [],
      "text/plain": [
       "<IPython.core.display.HTML object>"
      ]
     },
     "metadata": {},
     "output_type": "display_data"
    },
    {
     "data": {
      "text/html": [],
      "text/plain": [
       "<IPython.core.display.HTML object>"
      ]
     },
     "metadata": {},
     "output_type": "display_data"
    },
    {
     "data": {
      "text/html": [],
      "text/plain": [
       "<IPython.core.display.HTML object>"
      ]
     },
     "metadata": {},
     "output_type": "display_data"
    },
    {
     "data": {
      "text/html": [],
      "text/plain": [
       "<IPython.core.display.HTML object>"
      ]
     },
     "metadata": {},
     "output_type": "display_data"
    },
    {
     "data": {
      "text/html": [],
      "text/plain": [
       "<IPython.core.display.HTML object>"
      ]
     },
     "metadata": {},
     "output_type": "display_data"
    },
    {
     "data": {
      "text/html": [],
      "text/plain": [
       "<IPython.core.display.HTML object>"
      ]
     },
     "metadata": {},
     "output_type": "display_data"
    },
    {
     "data": {
      "text/html": [],
      "text/plain": [
       "<IPython.core.display.HTML object>"
      ]
     },
     "metadata": {},
     "output_type": "display_data"
    },
    {
     "data": {
      "text/html": [],
      "text/plain": [
       "<IPython.core.display.HTML object>"
      ]
     },
     "metadata": {},
     "output_type": "display_data"
    },
    {
     "data": {
      "text/html": [],
      "text/plain": [
       "<IPython.core.display.HTML object>"
      ]
     },
     "metadata": {},
     "output_type": "display_data"
    },
    {
     "data": {
      "text/html": [],
      "text/plain": [
       "<IPython.core.display.HTML object>"
      ]
     },
     "metadata": {},
     "output_type": "display_data"
    },
    {
     "data": {
      "text/html": [],
      "text/plain": [
       "<IPython.core.display.HTML object>"
      ]
     },
     "metadata": {},
     "output_type": "display_data"
    },
    {
     "data": {
      "text/html": [],
      "text/plain": [
       "<IPython.core.display.HTML object>"
      ]
     },
     "metadata": {},
     "output_type": "display_data"
    },
    {
     "data": {
      "text/html": [],
      "text/plain": [
       "<IPython.core.display.HTML object>"
      ]
     },
     "metadata": {},
     "output_type": "display_data"
    },
    {
     "data": {
      "text/html": [],
      "text/plain": [
       "<IPython.core.display.HTML object>"
      ]
     },
     "metadata": {},
     "output_type": "display_data"
    },
    {
     "data": {
      "text/html": [],
      "text/plain": [
       "<IPython.core.display.HTML object>"
      ]
     },
     "metadata": {},
     "output_type": "display_data"
    },
    {
     "data": {
      "text/html": [],
      "text/plain": [
       "<IPython.core.display.HTML object>"
      ]
     },
     "metadata": {},
     "output_type": "display_data"
    },
    {
     "data": {
      "text/html": [],
      "text/plain": [
       "<IPython.core.display.HTML object>"
      ]
     },
     "metadata": {},
     "output_type": "display_data"
    },
    {
     "data": {
      "text/html": [],
      "text/plain": [
       "<IPython.core.display.HTML object>"
      ]
     },
     "metadata": {},
     "output_type": "display_data"
    },
    {
     "data": {
      "text/html": [],
      "text/plain": [
       "<IPython.core.display.HTML object>"
      ]
     },
     "metadata": {},
     "output_type": "display_data"
    },
    {
     "data": {
      "text/html": [],
      "text/plain": [
       "<IPython.core.display.HTML object>"
      ]
     },
     "metadata": {},
     "output_type": "display_data"
    },
    {
     "data": {
      "text/html": [],
      "text/plain": [
       "<IPython.core.display.HTML object>"
      ]
     },
     "metadata": {},
     "output_type": "display_data"
    },
    {
     "data": {
      "text/html": [],
      "text/plain": [
       "<IPython.core.display.HTML object>"
      ]
     },
     "metadata": {},
     "output_type": "display_data"
    },
    {
     "data": {
      "text/html": [],
      "text/plain": [
       "<IPython.core.display.HTML object>"
      ]
     },
     "metadata": {},
     "output_type": "display_data"
    },
    {
     "data": {
      "text/html": [],
      "text/plain": [
       "<IPython.core.display.HTML object>"
      ]
     },
     "metadata": {},
     "output_type": "display_data"
    },
    {
     "data": {
      "text/html": [],
      "text/plain": [
       "<IPython.core.display.HTML object>"
      ]
     },
     "metadata": {},
     "output_type": "display_data"
    },
    {
     "data": {
      "text/html": [],
      "text/plain": [
       "<IPython.core.display.HTML object>"
      ]
     },
     "metadata": {},
     "output_type": "display_data"
    },
    {
     "data": {
      "text/html": [],
      "text/plain": [
       "<IPython.core.display.HTML object>"
      ]
     },
     "metadata": {},
     "output_type": "display_data"
    },
    {
     "data": {
      "text/html": [],
      "text/plain": [
       "<IPython.core.display.HTML object>"
      ]
     },
     "metadata": {},
     "output_type": "display_data"
    },
    {
     "data": {
      "text/html": [],
      "text/plain": [
       "<IPython.core.display.HTML object>"
      ]
     },
     "metadata": {},
     "output_type": "display_data"
    },
    {
     "data": {
      "text/html": [],
      "text/plain": [
       "<IPython.core.display.HTML object>"
      ]
     },
     "metadata": {},
     "output_type": "display_data"
    },
    {
     "data": {
      "text/html": [],
      "text/plain": [
       "<IPython.core.display.HTML object>"
      ]
     },
     "metadata": {},
     "output_type": "display_data"
    },
    {
     "data": {
      "text/html": [],
      "text/plain": [
       "<IPython.core.display.HTML object>"
      ]
     },
     "metadata": {},
     "output_type": "display_data"
    },
    {
     "data": {
      "text/html": [],
      "text/plain": [
       "<IPython.core.display.HTML object>"
      ]
     },
     "metadata": {},
     "output_type": "display_data"
    },
    {
     "data": {
      "text/html": [],
      "text/plain": [
       "<IPython.core.display.HTML object>"
      ]
     },
     "metadata": {},
     "output_type": "display_data"
    },
    {
     "data": {
      "text/html": [],
      "text/plain": [
       "<IPython.core.display.HTML object>"
      ]
     },
     "metadata": {},
     "output_type": "display_data"
    },
    {
     "data": {
      "text/html": [],
      "text/plain": [
       "<IPython.core.display.HTML object>"
      ]
     },
     "metadata": {},
     "output_type": "display_data"
    },
    {
     "data": {
      "text/html": [],
      "text/plain": [
       "<IPython.core.display.HTML object>"
      ]
     },
     "metadata": {},
     "output_type": "display_data"
    },
    {
     "data": {
      "text/html": [],
      "text/plain": [
       "<IPython.core.display.HTML object>"
      ]
     },
     "metadata": {},
     "output_type": "display_data"
    },
    {
     "data": {
      "text/html": [],
      "text/plain": [
       "<IPython.core.display.HTML object>"
      ]
     },
     "metadata": {},
     "output_type": "display_data"
    },
    {
     "data": {
      "text/html": [],
      "text/plain": [
       "<IPython.core.display.HTML object>"
      ]
     },
     "metadata": {},
     "output_type": "display_data"
    },
    {
     "data": {
      "text/html": [],
      "text/plain": [
       "<IPython.core.display.HTML object>"
      ]
     },
     "metadata": {},
     "output_type": "display_data"
    },
    {
     "data": {
      "text/html": [],
      "text/plain": [
       "<IPython.core.display.HTML object>"
      ]
     },
     "metadata": {},
     "output_type": "display_data"
    },
    {
     "data": {
      "text/html": [],
      "text/plain": [
       "<IPython.core.display.HTML object>"
      ]
     },
     "metadata": {},
     "output_type": "display_data"
    },
    {
     "data": {
      "text/html": [],
      "text/plain": [
       "<IPython.core.display.HTML object>"
      ]
     },
     "metadata": {},
     "output_type": "display_data"
    },
    {
     "data": {
      "text/html": [],
      "text/plain": [
       "<IPython.core.display.HTML object>"
      ]
     },
     "metadata": {},
     "output_type": "display_data"
    },
    {
     "data": {
      "text/html": [],
      "text/plain": [
       "<IPython.core.display.HTML object>"
      ]
     },
     "metadata": {},
     "output_type": "display_data"
    },
    {
     "data": {
      "text/html": [],
      "text/plain": [
       "<IPython.core.display.HTML object>"
      ]
     },
     "metadata": {},
     "output_type": "display_data"
    },
    {
     "data": {
      "text/html": [],
      "text/plain": [
       "<IPython.core.display.HTML object>"
      ]
     },
     "metadata": {},
     "output_type": "display_data"
    },
    {
     "data": {
      "text/html": [],
      "text/plain": [
       "<IPython.core.display.HTML object>"
      ]
     },
     "metadata": {},
     "output_type": "display_data"
    },
    {
     "data": {
      "text/html": [],
      "text/plain": [
       "<IPython.core.display.HTML object>"
      ]
     },
     "metadata": {},
     "output_type": "display_data"
    },
    {
     "data": {
      "text/html": [],
      "text/plain": [
       "<IPython.core.display.HTML object>"
      ]
     },
     "metadata": {},
     "output_type": "display_data"
    },
    {
     "data": {
      "text/html": [],
      "text/plain": [
       "<IPython.core.display.HTML object>"
      ]
     },
     "metadata": {},
     "output_type": "display_data"
    },
    {
     "data": {
      "text/html": [],
      "text/plain": [
       "<IPython.core.display.HTML object>"
      ]
     },
     "metadata": {},
     "output_type": "display_data"
    },
    {
     "data": {
      "text/html": [],
      "text/plain": [
       "<IPython.core.display.HTML object>"
      ]
     },
     "metadata": {},
     "output_type": "display_data"
    },
    {
     "data": {
      "text/html": [],
      "text/plain": [
       "<IPython.core.display.HTML object>"
      ]
     },
     "metadata": {},
     "output_type": "display_data"
    },
    {
     "data": {
      "text/html": [],
      "text/plain": [
       "<IPython.core.display.HTML object>"
      ]
     },
     "metadata": {},
     "output_type": "display_data"
    },
    {
     "data": {
      "text/html": [],
      "text/plain": [
       "<IPython.core.display.HTML object>"
      ]
     },
     "metadata": {},
     "output_type": "display_data"
    },
    {
     "data": {
      "text/html": [],
      "text/plain": [
       "<IPython.core.display.HTML object>"
      ]
     },
     "metadata": {},
     "output_type": "display_data"
    },
    {
     "data": {
      "text/html": [],
      "text/plain": [
       "<IPython.core.display.HTML object>"
      ]
     },
     "metadata": {},
     "output_type": "display_data"
    },
    {
     "data": {
      "text/html": [],
      "text/plain": [
       "<IPython.core.display.HTML object>"
      ]
     },
     "metadata": {},
     "output_type": "display_data"
    },
    {
     "data": {
      "text/html": [],
      "text/plain": [
       "<IPython.core.display.HTML object>"
      ]
     },
     "metadata": {},
     "output_type": "display_data"
    },
    {
     "data": {
      "text/html": [],
      "text/plain": [
       "<IPython.core.display.HTML object>"
      ]
     },
     "metadata": {},
     "output_type": "display_data"
    },
    {
     "data": {
      "text/html": [],
      "text/plain": [
       "<IPython.core.display.HTML object>"
      ]
     },
     "metadata": {},
     "output_type": "display_data"
    },
    {
     "data": {
      "text/html": [],
      "text/plain": [
       "<IPython.core.display.HTML object>"
      ]
     },
     "metadata": {},
     "output_type": "display_data"
    },
    {
     "data": {
      "text/html": [],
      "text/plain": [
       "<IPython.core.display.HTML object>"
      ]
     },
     "metadata": {},
     "output_type": "display_data"
    },
    {
     "data": {
      "text/html": [],
      "text/plain": [
       "<IPython.core.display.HTML object>"
      ]
     },
     "metadata": {},
     "output_type": "display_data"
    },
    {
     "data": {
      "text/html": [],
      "text/plain": [
       "<IPython.core.display.HTML object>"
      ]
     },
     "metadata": {},
     "output_type": "display_data"
    },
    {
     "data": {
      "text/html": [],
      "text/plain": [
       "<IPython.core.display.HTML object>"
      ]
     },
     "metadata": {},
     "output_type": "display_data"
    },
    {
     "data": {
      "text/html": [],
      "text/plain": [
       "<IPython.core.display.HTML object>"
      ]
     },
     "metadata": {},
     "output_type": "display_data"
    },
    {
     "data": {
      "text/html": [],
      "text/plain": [
       "<IPython.core.display.HTML object>"
      ]
     },
     "metadata": {},
     "output_type": "display_data"
    },
    {
     "data": {
      "text/html": [],
      "text/plain": [
       "<IPython.core.display.HTML object>"
      ]
     },
     "metadata": {},
     "output_type": "display_data"
    },
    {
     "data": {
      "text/html": [],
      "text/plain": [
       "<IPython.core.display.HTML object>"
      ]
     },
     "metadata": {},
     "output_type": "display_data"
    },
    {
     "data": {
      "text/html": [],
      "text/plain": [
       "<IPython.core.display.HTML object>"
      ]
     },
     "metadata": {},
     "output_type": "display_data"
    },
    {
     "data": {
      "text/html": [],
      "text/plain": [
       "<IPython.core.display.HTML object>"
      ]
     },
     "metadata": {},
     "output_type": "display_data"
    },
    {
     "data": {
      "text/html": [],
      "text/plain": [
       "<IPython.core.display.HTML object>"
      ]
     },
     "metadata": {},
     "output_type": "display_data"
    },
    {
     "data": {
      "text/html": [],
      "text/plain": [
       "<IPython.core.display.HTML object>"
      ]
     },
     "metadata": {},
     "output_type": "display_data"
    },
    {
     "data": {
      "text/html": [],
      "text/plain": [
       "<IPython.core.display.HTML object>"
      ]
     },
     "metadata": {},
     "output_type": "display_data"
    },
    {
     "data": {
      "text/html": [],
      "text/plain": [
       "<IPython.core.display.HTML object>"
      ]
     },
     "metadata": {},
     "output_type": "display_data"
    },
    {
     "data": {
      "text/html": [],
      "text/plain": [
       "<IPython.core.display.HTML object>"
      ]
     },
     "metadata": {},
     "output_type": "display_data"
    },
    {
     "data": {
      "text/html": [],
      "text/plain": [
       "<IPython.core.display.HTML object>"
      ]
     },
     "metadata": {},
     "output_type": "display_data"
    },
    {
     "data": {
      "text/html": [],
      "text/plain": [
       "<IPython.core.display.HTML object>"
      ]
     },
     "metadata": {},
     "output_type": "display_data"
    },
    {
     "data": {
      "text/html": [],
      "text/plain": [
       "<IPython.core.display.HTML object>"
      ]
     },
     "metadata": {},
     "output_type": "display_data"
    },
    {
     "data": {
      "text/html": [],
      "text/plain": [
       "<IPython.core.display.HTML object>"
      ]
     },
     "metadata": {},
     "output_type": "display_data"
    },
    {
     "data": {
      "text/html": [],
      "text/plain": [
       "<IPython.core.display.HTML object>"
      ]
     },
     "metadata": {},
     "output_type": "display_data"
    },
    {
     "data": {
      "text/html": [],
      "text/plain": [
       "<IPython.core.display.HTML object>"
      ]
     },
     "metadata": {},
     "output_type": "display_data"
    },
    {
     "data": {
      "text/html": [],
      "text/plain": [
       "<IPython.core.display.HTML object>"
      ]
     },
     "metadata": {},
     "output_type": "display_data"
    },
    {
     "data": {
      "text/html": [],
      "text/plain": [
       "<IPython.core.display.HTML object>"
      ]
     },
     "metadata": {},
     "output_type": "display_data"
    },
    {
     "data": {
      "text/html": [],
      "text/plain": [
       "<IPython.core.display.HTML object>"
      ]
     },
     "metadata": {},
     "output_type": "display_data"
    },
    {
     "data": {
      "text/html": [],
      "text/plain": [
       "<IPython.core.display.HTML object>"
      ]
     },
     "metadata": {},
     "output_type": "display_data"
    },
    {
     "data": {
      "text/html": [],
      "text/plain": [
       "<IPython.core.display.HTML object>"
      ]
     },
     "metadata": {},
     "output_type": "display_data"
    },
    {
     "data": {
      "text/html": [],
      "text/plain": [
       "<IPython.core.display.HTML object>"
      ]
     },
     "metadata": {},
     "output_type": "display_data"
    },
    {
     "data": {
      "text/html": [],
      "text/plain": [
       "<IPython.core.display.HTML object>"
      ]
     },
     "metadata": {},
     "output_type": "display_data"
    },
    {
     "data": {
      "text/html": [],
      "text/plain": [
       "<IPython.core.display.HTML object>"
      ]
     },
     "metadata": {},
     "output_type": "display_data"
    },
    {
     "data": {
      "text/html": [],
      "text/plain": [
       "<IPython.core.display.HTML object>"
      ]
     },
     "metadata": {},
     "output_type": "display_data"
    },
    {
     "data": {
      "text/html": [],
      "text/plain": [
       "<IPython.core.display.HTML object>"
      ]
     },
     "metadata": {},
     "output_type": "display_data"
    },
    {
     "data": {
      "text/html": [],
      "text/plain": [
       "<IPython.core.display.HTML object>"
      ]
     },
     "metadata": {},
     "output_type": "display_data"
    },
    {
     "data": {
      "text/html": [],
      "text/plain": [
       "<IPython.core.display.HTML object>"
      ]
     },
     "metadata": {},
     "output_type": "display_data"
    },
    {
     "data": {
      "text/html": [],
      "text/plain": [
       "<IPython.core.display.HTML object>"
      ]
     },
     "metadata": {},
     "output_type": "display_data"
    },
    {
     "data": {
      "text/html": [],
      "text/plain": [
       "<IPython.core.display.HTML object>"
      ]
     },
     "metadata": {},
     "output_type": "display_data"
    },
    {
     "data": {
      "text/html": [],
      "text/plain": [
       "<IPython.core.display.HTML object>"
      ]
     },
     "metadata": {},
     "output_type": "display_data"
    },
    {
     "data": {
      "text/html": [],
      "text/plain": [
       "<IPython.core.display.HTML object>"
      ]
     },
     "metadata": {},
     "output_type": "display_data"
    },
    {
     "data": {
      "text/html": [],
      "text/plain": [
       "<IPython.core.display.HTML object>"
      ]
     },
     "metadata": {},
     "output_type": "display_data"
    },
    {
     "data": {
      "text/html": [],
      "text/plain": [
       "<IPython.core.display.HTML object>"
      ]
     },
     "metadata": {},
     "output_type": "display_data"
    },
    {
     "data": {
      "text/html": [],
      "text/plain": [
       "<IPython.core.display.HTML object>"
      ]
     },
     "metadata": {},
     "output_type": "display_data"
    },
    {
     "data": {
      "text/html": [],
      "text/plain": [
       "<IPython.core.display.HTML object>"
      ]
     },
     "metadata": {},
     "output_type": "display_data"
    },
    {
     "data": {
      "text/html": [],
      "text/plain": [
       "<IPython.core.display.HTML object>"
      ]
     },
     "metadata": {},
     "output_type": "display_data"
    },
    {
     "data": {
      "text/html": [],
      "text/plain": [
       "<IPython.core.display.HTML object>"
      ]
     },
     "metadata": {},
     "output_type": "display_data"
    },
    {
     "data": {
      "text/html": [],
      "text/plain": [
       "<IPython.core.display.HTML object>"
      ]
     },
     "metadata": {},
     "output_type": "display_data"
    },
    {
     "data": {
      "text/html": [],
      "text/plain": [
       "<IPython.core.display.HTML object>"
      ]
     },
     "metadata": {},
     "output_type": "display_data"
    },
    {
     "data": {
      "text/html": [],
      "text/plain": [
       "<IPython.core.display.HTML object>"
      ]
     },
     "metadata": {},
     "output_type": "display_data"
    },
    {
     "data": {
      "text/html": [],
      "text/plain": [
       "<IPython.core.display.HTML object>"
      ]
     },
     "metadata": {},
     "output_type": "display_data"
    },
    {
     "data": {
      "text/html": [],
      "text/plain": [
       "<IPython.core.display.HTML object>"
      ]
     },
     "metadata": {},
     "output_type": "display_data"
    },
    {
     "data": {
      "text/html": [],
      "text/plain": [
       "<IPython.core.display.HTML object>"
      ]
     },
     "metadata": {},
     "output_type": "display_data"
    },
    {
     "data": {
      "text/html": [],
      "text/plain": [
       "<IPython.core.display.HTML object>"
      ]
     },
     "metadata": {},
     "output_type": "display_data"
    },
    {
     "data": {
      "text/html": [],
      "text/plain": [
       "<IPython.core.display.HTML object>"
      ]
     },
     "metadata": {},
     "output_type": "display_data"
    },
    {
     "data": {
      "text/html": [],
      "text/plain": [
       "<IPython.core.display.HTML object>"
      ]
     },
     "metadata": {},
     "output_type": "display_data"
    },
    {
     "data": {
      "text/html": [],
      "text/plain": [
       "<IPython.core.display.HTML object>"
      ]
     },
     "metadata": {},
     "output_type": "display_data"
    },
    {
     "data": {
      "text/html": [],
      "text/plain": [
       "<IPython.core.display.HTML object>"
      ]
     },
     "metadata": {},
     "output_type": "display_data"
    },
    {
     "data": {
      "text/html": [],
      "text/plain": [
       "<IPython.core.display.HTML object>"
      ]
     },
     "metadata": {},
     "output_type": "display_data"
    },
    {
     "data": {
      "text/html": [],
      "text/plain": [
       "<IPython.core.display.HTML object>"
      ]
     },
     "metadata": {},
     "output_type": "display_data"
    },
    {
     "data": {
      "text/html": [],
      "text/plain": [
       "<IPython.core.display.HTML object>"
      ]
     },
     "metadata": {},
     "output_type": "display_data"
    },
    {
     "data": {
      "text/html": [],
      "text/plain": [
       "<IPython.core.display.HTML object>"
      ]
     },
     "metadata": {},
     "output_type": "display_data"
    },
    {
     "data": {
      "text/html": [],
      "text/plain": [
       "<IPython.core.display.HTML object>"
      ]
     },
     "metadata": {},
     "output_type": "display_data"
    },
    {
     "data": {
      "text/html": [],
      "text/plain": [
       "<IPython.core.display.HTML object>"
      ]
     },
     "metadata": {},
     "output_type": "display_data"
    },
    {
     "data": {
      "text/html": [],
      "text/plain": [
       "<IPython.core.display.HTML object>"
      ]
     },
     "metadata": {},
     "output_type": "display_data"
    },
    {
     "data": {
      "text/html": [],
      "text/plain": [
       "<IPython.core.display.HTML object>"
      ]
     },
     "metadata": {},
     "output_type": "display_data"
    },
    {
     "data": {
      "text/html": [],
      "text/plain": [
       "<IPython.core.display.HTML object>"
      ]
     },
     "metadata": {},
     "output_type": "display_data"
    },
    {
     "data": {
      "text/html": [],
      "text/plain": [
       "<IPython.core.display.HTML object>"
      ]
     },
     "metadata": {},
     "output_type": "display_data"
    },
    {
     "data": {
      "text/html": [],
      "text/plain": [
       "<IPython.core.display.HTML object>"
      ]
     },
     "metadata": {},
     "output_type": "display_data"
    },
    {
     "data": {
      "text/html": [],
      "text/plain": [
       "<IPython.core.display.HTML object>"
      ]
     },
     "metadata": {},
     "output_type": "display_data"
    },
    {
     "data": {
      "text/html": [],
      "text/plain": [
       "<IPython.core.display.HTML object>"
      ]
     },
     "metadata": {},
     "output_type": "display_data"
    },
    {
     "data": {
      "text/html": [],
      "text/plain": [
       "<IPython.core.display.HTML object>"
      ]
     },
     "metadata": {},
     "output_type": "display_data"
    },
    {
     "data": {
      "text/html": [],
      "text/plain": [
       "<IPython.core.display.HTML object>"
      ]
     },
     "metadata": {},
     "output_type": "display_data"
    },
    {
     "data": {
      "text/html": [],
      "text/plain": [
       "<IPython.core.display.HTML object>"
      ]
     },
     "metadata": {},
     "output_type": "display_data"
    },
    {
     "data": {
      "text/html": [],
      "text/plain": [
       "<IPython.core.display.HTML object>"
      ]
     },
     "metadata": {},
     "output_type": "display_data"
    },
    {
     "data": {
      "text/html": [],
      "text/plain": [
       "<IPython.core.display.HTML object>"
      ]
     },
     "metadata": {},
     "output_type": "display_data"
    },
    {
     "data": {
      "text/html": [],
      "text/plain": [
       "<IPython.core.display.HTML object>"
      ]
     },
     "metadata": {},
     "output_type": "display_data"
    },
    {
     "data": {
      "text/html": [],
      "text/plain": [
       "<IPython.core.display.HTML object>"
      ]
     },
     "metadata": {},
     "output_type": "display_data"
    },
    {
     "data": {
      "text/html": [],
      "text/plain": [
       "<IPython.core.display.HTML object>"
      ]
     },
     "metadata": {},
     "output_type": "display_data"
    },
    {
     "data": {
      "text/html": [],
      "text/plain": [
       "<IPython.core.display.HTML object>"
      ]
     },
     "metadata": {},
     "output_type": "display_data"
    },
    {
     "data": {
      "text/html": [],
      "text/plain": [
       "<IPython.core.display.HTML object>"
      ]
     },
     "metadata": {},
     "output_type": "display_data"
    },
    {
     "data": {
      "text/html": [],
      "text/plain": [
       "<IPython.core.display.HTML object>"
      ]
     },
     "metadata": {},
     "output_type": "display_data"
    },
    {
     "data": {
      "text/html": [],
      "text/plain": [
       "<IPython.core.display.HTML object>"
      ]
     },
     "metadata": {},
     "output_type": "display_data"
    },
    {
     "data": {
      "text/html": [],
      "text/plain": [
       "<IPython.core.display.HTML object>"
      ]
     },
     "metadata": {},
     "output_type": "display_data"
    },
    {
     "data": {
      "text/html": [],
      "text/plain": [
       "<IPython.core.display.HTML object>"
      ]
     },
     "metadata": {},
     "output_type": "display_data"
    },
    {
     "data": {
      "text/html": [],
      "text/plain": [
       "<IPython.core.display.HTML object>"
      ]
     },
     "metadata": {},
     "output_type": "display_data"
    },
    {
     "data": {
      "text/html": [],
      "text/plain": [
       "<IPython.core.display.HTML object>"
      ]
     },
     "metadata": {},
     "output_type": "display_data"
    },
    {
     "data": {
      "text/html": [],
      "text/plain": [
       "<IPython.core.display.HTML object>"
      ]
     },
     "metadata": {},
     "output_type": "display_data"
    },
    {
     "data": {
      "text/html": [],
      "text/plain": [
       "<IPython.core.display.HTML object>"
      ]
     },
     "metadata": {},
     "output_type": "display_data"
    },
    {
     "data": {
      "text/html": [],
      "text/plain": [
       "<IPython.core.display.HTML object>"
      ]
     },
     "metadata": {},
     "output_type": "display_data"
    },
    {
     "data": {
      "text/html": [],
      "text/plain": [
       "<IPython.core.display.HTML object>"
      ]
     },
     "metadata": {},
     "output_type": "display_data"
    },
    {
     "data": {
      "text/html": [],
      "text/plain": [
       "<IPython.core.display.HTML object>"
      ]
     },
     "metadata": {},
     "output_type": "display_data"
    },
    {
     "data": {
      "text/html": [],
      "text/plain": [
       "<IPython.core.display.HTML object>"
      ]
     },
     "metadata": {},
     "output_type": "display_data"
    },
    {
     "data": {
      "text/html": [],
      "text/plain": [
       "<IPython.core.display.HTML object>"
      ]
     },
     "metadata": {},
     "output_type": "display_data"
    },
    {
     "data": {
      "text/html": [],
      "text/plain": [
       "<IPython.core.display.HTML object>"
      ]
     },
     "metadata": {},
     "output_type": "display_data"
    },
    {
     "data": {
      "text/html": [],
      "text/plain": [
       "<IPython.core.display.HTML object>"
      ]
     },
     "metadata": {},
     "output_type": "display_data"
    },
    {
     "data": {
      "text/html": [],
      "text/plain": [
       "<IPython.core.display.HTML object>"
      ]
     },
     "metadata": {},
     "output_type": "display_data"
    },
    {
     "data": {
      "text/html": [],
      "text/plain": [
       "<IPython.core.display.HTML object>"
      ]
     },
     "metadata": {},
     "output_type": "display_data"
    },
    {
     "data": {
      "text/html": [],
      "text/plain": [
       "<IPython.core.display.HTML object>"
      ]
     },
     "metadata": {},
     "output_type": "display_data"
    },
    {
     "data": {
      "text/html": [],
      "text/plain": [
       "<IPython.core.display.HTML object>"
      ]
     },
     "metadata": {},
     "output_type": "display_data"
    },
    {
     "data": {
      "text/html": [],
      "text/plain": [
       "<IPython.core.display.HTML object>"
      ]
     },
     "metadata": {},
     "output_type": "display_data"
    },
    {
     "data": {
      "text/html": [],
      "text/plain": [
       "<IPython.core.display.HTML object>"
      ]
     },
     "metadata": {},
     "output_type": "display_data"
    },
    {
     "data": {
      "text/html": [],
      "text/plain": [
       "<IPython.core.display.HTML object>"
      ]
     },
     "metadata": {},
     "output_type": "display_data"
    },
    {
     "data": {
      "text/html": [],
      "text/plain": [
       "<IPython.core.display.HTML object>"
      ]
     },
     "metadata": {},
     "output_type": "display_data"
    },
    {
     "data": {
      "text/html": [],
      "text/plain": [
       "<IPython.core.display.HTML object>"
      ]
     },
     "metadata": {},
     "output_type": "display_data"
    },
    {
     "data": {
      "text/html": [],
      "text/plain": [
       "<IPython.core.display.HTML object>"
      ]
     },
     "metadata": {},
     "output_type": "display_data"
    },
    {
     "data": {
      "text/html": [],
      "text/plain": [
       "<IPython.core.display.HTML object>"
      ]
     },
     "metadata": {},
     "output_type": "display_data"
    },
    {
     "data": {
      "text/html": [],
      "text/plain": [
       "<IPython.core.display.HTML object>"
      ]
     },
     "metadata": {},
     "output_type": "display_data"
    },
    {
     "data": {
      "text/html": [],
      "text/plain": [
       "<IPython.core.display.HTML object>"
      ]
     },
     "metadata": {},
     "output_type": "display_data"
    },
    {
     "data": {
      "text/html": [],
      "text/plain": [
       "<IPython.core.display.HTML object>"
      ]
     },
     "metadata": {},
     "output_type": "display_data"
    },
    {
     "data": {
      "text/html": [],
      "text/plain": [
       "<IPython.core.display.HTML object>"
      ]
     },
     "metadata": {},
     "output_type": "display_data"
    },
    {
     "data": {
      "text/html": [],
      "text/plain": [
       "<IPython.core.display.HTML object>"
      ]
     },
     "metadata": {},
     "output_type": "display_data"
    },
    {
     "data": {
      "text/html": [],
      "text/plain": [
       "<IPython.core.display.HTML object>"
      ]
     },
     "metadata": {},
     "output_type": "display_data"
    },
    {
     "data": {
      "text/html": [],
      "text/plain": [
       "<IPython.core.display.HTML object>"
      ]
     },
     "metadata": {},
     "output_type": "display_data"
    },
    {
     "data": {
      "text/html": [],
      "text/plain": [
       "<IPython.core.display.HTML object>"
      ]
     },
     "metadata": {},
     "output_type": "display_data"
    },
    {
     "data": {
      "text/html": [],
      "text/plain": [
       "<IPython.core.display.HTML object>"
      ]
     },
     "metadata": {},
     "output_type": "display_data"
    },
    {
     "data": {
      "text/html": [],
      "text/plain": [
       "<IPython.core.display.HTML object>"
      ]
     },
     "metadata": {},
     "output_type": "display_data"
    },
    {
     "data": {
      "text/html": [],
      "text/plain": [
       "<IPython.core.display.HTML object>"
      ]
     },
     "metadata": {},
     "output_type": "display_data"
    },
    {
     "data": {
      "text/html": [],
      "text/plain": [
       "<IPython.core.display.HTML object>"
      ]
     },
     "metadata": {},
     "output_type": "display_data"
    },
    {
     "data": {
      "text/html": [],
      "text/plain": [
       "<IPython.core.display.HTML object>"
      ]
     },
     "metadata": {},
     "output_type": "display_data"
    },
    {
     "data": {
      "text/html": [],
      "text/plain": [
       "<IPython.core.display.HTML object>"
      ]
     },
     "metadata": {},
     "output_type": "display_data"
    },
    {
     "data": {
      "text/html": [],
      "text/plain": [
       "<IPython.core.display.HTML object>"
      ]
     },
     "metadata": {},
     "output_type": "display_data"
    },
    {
     "data": {
      "text/html": [],
      "text/plain": [
       "<IPython.core.display.HTML object>"
      ]
     },
     "metadata": {},
     "output_type": "display_data"
    },
    {
     "data": {
      "text/html": [],
      "text/plain": [
       "<IPython.core.display.HTML object>"
      ]
     },
     "metadata": {},
     "output_type": "display_data"
    },
    {
     "data": {
      "text/html": [],
      "text/plain": [
       "<IPython.core.display.HTML object>"
      ]
     },
     "metadata": {},
     "output_type": "display_data"
    },
    {
     "data": {
      "text/html": [],
      "text/plain": [
       "<IPython.core.display.HTML object>"
      ]
     },
     "metadata": {},
     "output_type": "display_data"
    },
    {
     "data": {
      "text/html": [],
      "text/plain": [
       "<IPython.core.display.HTML object>"
      ]
     },
     "metadata": {},
     "output_type": "display_data"
    },
    {
     "data": {
      "text/html": [],
      "text/plain": [
       "<IPython.core.display.HTML object>"
      ]
     },
     "metadata": {},
     "output_type": "display_data"
    },
    {
     "data": {
      "text/html": [],
      "text/plain": [
       "<IPython.core.display.HTML object>"
      ]
     },
     "metadata": {},
     "output_type": "display_data"
    },
    {
     "data": {
      "text/html": [],
      "text/plain": [
       "<IPython.core.display.HTML object>"
      ]
     },
     "metadata": {},
     "output_type": "display_data"
    },
    {
     "data": {
      "text/html": [],
      "text/plain": [
       "<IPython.core.display.HTML object>"
      ]
     },
     "metadata": {},
     "output_type": "display_data"
    },
    {
     "data": {
      "text/html": [],
      "text/plain": [
       "<IPython.core.display.HTML object>"
      ]
     },
     "metadata": {},
     "output_type": "display_data"
    },
    {
     "data": {
      "text/html": [],
      "text/plain": [
       "<IPython.core.display.HTML object>"
      ]
     },
     "metadata": {},
     "output_type": "display_data"
    },
    {
     "data": {
      "text/html": [],
      "text/plain": [
       "<IPython.core.display.HTML object>"
      ]
     },
     "metadata": {},
     "output_type": "display_data"
    },
    {
     "data": {
      "text/html": [],
      "text/plain": [
       "<IPython.core.display.HTML object>"
      ]
     },
     "metadata": {},
     "output_type": "display_data"
    },
    {
     "data": {
      "text/html": [],
      "text/plain": [
       "<IPython.core.display.HTML object>"
      ]
     },
     "metadata": {},
     "output_type": "display_data"
    },
    {
     "data": {
      "text/html": [],
      "text/plain": [
       "<IPython.core.display.HTML object>"
      ]
     },
     "metadata": {},
     "output_type": "display_data"
    },
    {
     "data": {
      "text/html": [],
      "text/plain": [
       "<IPython.core.display.HTML object>"
      ]
     },
     "metadata": {},
     "output_type": "display_data"
    },
    {
     "data": {
      "text/html": [],
      "text/plain": [
       "<IPython.core.display.HTML object>"
      ]
     },
     "metadata": {},
     "output_type": "display_data"
    },
    {
     "data": {
      "text/html": [],
      "text/plain": [
       "<IPython.core.display.HTML object>"
      ]
     },
     "metadata": {},
     "output_type": "display_data"
    },
    {
     "data": {
      "text/html": [],
      "text/plain": [
       "<IPython.core.display.HTML object>"
      ]
     },
     "metadata": {},
     "output_type": "display_data"
    },
    {
     "data": {
      "text/html": [],
      "text/plain": [
       "<IPython.core.display.HTML object>"
      ]
     },
     "metadata": {},
     "output_type": "display_data"
    },
    {
     "data": {
      "text/html": [],
      "text/plain": [
       "<IPython.core.display.HTML object>"
      ]
     },
     "metadata": {},
     "output_type": "display_data"
    },
    {
     "data": {
      "text/html": [],
      "text/plain": [
       "<IPython.core.display.HTML object>"
      ]
     },
     "metadata": {},
     "output_type": "display_data"
    },
    {
     "data": {
      "text/html": [],
      "text/plain": [
       "<IPython.core.display.HTML object>"
      ]
     },
     "metadata": {},
     "output_type": "display_data"
    },
    {
     "data": {
      "text/html": [],
      "text/plain": [
       "<IPython.core.display.HTML object>"
      ]
     },
     "metadata": {},
     "output_type": "display_data"
    },
    {
     "data": {
      "text/html": [],
      "text/plain": [
       "<IPython.core.display.HTML object>"
      ]
     },
     "metadata": {},
     "output_type": "display_data"
    },
    {
     "data": {
      "text/html": [],
      "text/plain": [
       "<IPython.core.display.HTML object>"
      ]
     },
     "metadata": {},
     "output_type": "display_data"
    },
    {
     "data": {
      "text/html": [],
      "text/plain": [
       "<IPython.core.display.HTML object>"
      ]
     },
     "metadata": {},
     "output_type": "display_data"
    },
    {
     "data": {
      "text/html": [],
      "text/plain": [
       "<IPython.core.display.HTML object>"
      ]
     },
     "metadata": {},
     "output_type": "display_data"
    },
    {
     "data": {
      "text/html": [],
      "text/plain": [
       "<IPython.core.display.HTML object>"
      ]
     },
     "metadata": {},
     "output_type": "display_data"
    },
    {
     "data": {
      "text/html": [],
      "text/plain": [
       "<IPython.core.display.HTML object>"
      ]
     },
     "metadata": {},
     "output_type": "display_data"
    },
    {
     "data": {
      "text/html": [],
      "text/plain": [
       "<IPython.core.display.HTML object>"
      ]
     },
     "metadata": {},
     "output_type": "display_data"
    },
    {
     "data": {
      "text/html": [],
      "text/plain": [
       "<IPython.core.display.HTML object>"
      ]
     },
     "metadata": {},
     "output_type": "display_data"
    },
    {
     "data": {
      "text/html": [],
      "text/plain": [
       "<IPython.core.display.HTML object>"
      ]
     },
     "metadata": {},
     "output_type": "display_data"
    },
    {
     "data": {
      "text/html": [],
      "text/plain": [
       "<IPython.core.display.HTML object>"
      ]
     },
     "metadata": {},
     "output_type": "display_data"
    },
    {
     "data": {
      "text/html": [],
      "text/plain": [
       "<IPython.core.display.HTML object>"
      ]
     },
     "metadata": {},
     "output_type": "display_data"
    },
    {
     "data": {
      "text/html": [],
      "text/plain": [
       "<IPython.core.display.HTML object>"
      ]
     },
     "metadata": {},
     "output_type": "display_data"
    },
    {
     "data": {
      "text/html": [],
      "text/plain": [
       "<IPython.core.display.HTML object>"
      ]
     },
     "metadata": {},
     "output_type": "display_data"
    },
    {
     "data": {
      "text/html": [],
      "text/plain": [
       "<IPython.core.display.HTML object>"
      ]
     },
     "metadata": {},
     "output_type": "display_data"
    },
    {
     "data": {
      "text/html": [],
      "text/plain": [
       "<IPython.core.display.HTML object>"
      ]
     },
     "metadata": {},
     "output_type": "display_data"
    },
    {
     "data": {
      "text/html": [],
      "text/plain": [
       "<IPython.core.display.HTML object>"
      ]
     },
     "metadata": {},
     "output_type": "display_data"
    },
    {
     "data": {
      "text/html": [],
      "text/plain": [
       "<IPython.core.display.HTML object>"
      ]
     },
     "metadata": {},
     "output_type": "display_data"
    },
    {
     "data": {
      "text/html": [],
      "text/plain": [
       "<IPython.core.display.HTML object>"
      ]
     },
     "metadata": {},
     "output_type": "display_data"
    },
    {
     "data": {
      "text/html": [],
      "text/plain": [
       "<IPython.core.display.HTML object>"
      ]
     },
     "metadata": {},
     "output_type": "display_data"
    },
    {
     "data": {
      "text/html": [],
      "text/plain": [
       "<IPython.core.display.HTML object>"
      ]
     },
     "metadata": {},
     "output_type": "display_data"
    },
    {
     "data": {
      "text/html": [],
      "text/plain": [
       "<IPython.core.display.HTML object>"
      ]
     },
     "metadata": {},
     "output_type": "display_data"
    },
    {
     "data": {
      "text/html": [],
      "text/plain": [
       "<IPython.core.display.HTML object>"
      ]
     },
     "metadata": {},
     "output_type": "display_data"
    },
    {
     "data": {
      "text/html": [],
      "text/plain": [
       "<IPython.core.display.HTML object>"
      ]
     },
     "metadata": {},
     "output_type": "display_data"
    },
    {
     "data": {
      "text/html": [],
      "text/plain": [
       "<IPython.core.display.HTML object>"
      ]
     },
     "metadata": {},
     "output_type": "display_data"
    },
    {
     "data": {
      "text/html": [],
      "text/plain": [
       "<IPython.core.display.HTML object>"
      ]
     },
     "metadata": {},
     "output_type": "display_data"
    },
    {
     "data": {
      "text/html": [],
      "text/plain": [
       "<IPython.core.display.HTML object>"
      ]
     },
     "metadata": {},
     "output_type": "display_data"
    },
    {
     "data": {
      "text/html": [],
      "text/plain": [
       "<IPython.core.display.HTML object>"
      ]
     },
     "metadata": {},
     "output_type": "display_data"
    },
    {
     "data": {
      "text/html": [],
      "text/plain": [
       "<IPython.core.display.HTML object>"
      ]
     },
     "metadata": {},
     "output_type": "display_data"
    },
    {
     "data": {
      "text/html": [],
      "text/plain": [
       "<IPython.core.display.HTML object>"
      ]
     },
     "metadata": {},
     "output_type": "display_data"
    },
    {
     "data": {
      "text/html": [],
      "text/plain": [
       "<IPython.core.display.HTML object>"
      ]
     },
     "metadata": {},
     "output_type": "display_data"
    },
    {
     "data": {
      "text/html": [],
      "text/plain": [
       "<IPython.core.display.HTML object>"
      ]
     },
     "metadata": {},
     "output_type": "display_data"
    },
    {
     "data": {
      "text/html": [],
      "text/plain": [
       "<IPython.core.display.HTML object>"
      ]
     },
     "metadata": {},
     "output_type": "display_data"
    },
    {
     "data": {
      "text/html": [],
      "text/plain": [
       "<IPython.core.display.HTML object>"
      ]
     },
     "metadata": {},
     "output_type": "display_data"
    },
    {
     "data": {
      "text/html": [],
      "text/plain": [
       "<IPython.core.display.HTML object>"
      ]
     },
     "metadata": {},
     "output_type": "display_data"
    },
    {
     "data": {
      "text/html": [],
      "text/plain": [
       "<IPython.core.display.HTML object>"
      ]
     },
     "metadata": {},
     "output_type": "display_data"
    },
    {
     "data": {
      "text/html": [],
      "text/plain": [
       "<IPython.core.display.HTML object>"
      ]
     },
     "metadata": {},
     "output_type": "display_data"
    },
    {
     "data": {
      "text/html": [],
      "text/plain": [
       "<IPython.core.display.HTML object>"
      ]
     },
     "metadata": {},
     "output_type": "display_data"
    },
    {
     "data": {
      "text/html": [],
      "text/plain": [
       "<IPython.core.display.HTML object>"
      ]
     },
     "metadata": {},
     "output_type": "display_data"
    },
    {
     "data": {
      "text/html": [],
      "text/plain": [
       "<IPython.core.display.HTML object>"
      ]
     },
     "metadata": {},
     "output_type": "display_data"
    },
    {
     "data": {
      "text/html": [],
      "text/plain": [
       "<IPython.core.display.HTML object>"
      ]
     },
     "metadata": {},
     "output_type": "display_data"
    },
    {
     "data": {
      "text/html": [],
      "text/plain": [
       "<IPython.core.display.HTML object>"
      ]
     },
     "metadata": {},
     "output_type": "display_data"
    },
    {
     "data": {
      "text/html": [],
      "text/plain": [
       "<IPython.core.display.HTML object>"
      ]
     },
     "metadata": {},
     "output_type": "display_data"
    },
    {
     "data": {
      "text/html": [],
      "text/plain": [
       "<IPython.core.display.HTML object>"
      ]
     },
     "metadata": {},
     "output_type": "display_data"
    },
    {
     "data": {
      "text/html": [],
      "text/plain": [
       "<IPython.core.display.HTML object>"
      ]
     },
     "metadata": {},
     "output_type": "display_data"
    },
    {
     "data": {
      "text/html": [],
      "text/plain": [
       "<IPython.core.display.HTML object>"
      ]
     },
     "metadata": {},
     "output_type": "display_data"
    },
    {
     "data": {
      "text/html": [],
      "text/plain": [
       "<IPython.core.display.HTML object>"
      ]
     },
     "metadata": {},
     "output_type": "display_data"
    },
    {
     "data": {
      "text/html": [],
      "text/plain": [
       "<IPython.core.display.HTML object>"
      ]
     },
     "metadata": {},
     "output_type": "display_data"
    },
    {
     "data": {
      "text/html": [],
      "text/plain": [
       "<IPython.core.display.HTML object>"
      ]
     },
     "metadata": {},
     "output_type": "display_data"
    },
    {
     "data": {
      "text/html": [],
      "text/plain": [
       "<IPython.core.display.HTML object>"
      ]
     },
     "metadata": {},
     "output_type": "display_data"
    },
    {
     "data": {
      "text/html": [],
      "text/plain": [
       "<IPython.core.display.HTML object>"
      ]
     },
     "metadata": {},
     "output_type": "display_data"
    },
    {
     "data": {
      "text/html": [],
      "text/plain": [
       "<IPython.core.display.HTML object>"
      ]
     },
     "metadata": {},
     "output_type": "display_data"
    },
    {
     "data": {
      "text/html": [],
      "text/plain": [
       "<IPython.core.display.HTML object>"
      ]
     },
     "metadata": {},
     "output_type": "display_data"
    },
    {
     "data": {
      "text/html": [],
      "text/plain": [
       "<IPython.core.display.HTML object>"
      ]
     },
     "metadata": {},
     "output_type": "display_data"
    },
    {
     "data": {
      "text/html": [],
      "text/plain": [
       "<IPython.core.display.HTML object>"
      ]
     },
     "metadata": {},
     "output_type": "display_data"
    },
    {
     "data": {
      "text/html": [],
      "text/plain": [
       "<IPython.core.display.HTML object>"
      ]
     },
     "metadata": {},
     "output_type": "display_data"
    },
    {
     "data": {
      "text/html": [],
      "text/plain": [
       "<IPython.core.display.HTML object>"
      ]
     },
     "metadata": {},
     "output_type": "display_data"
    },
    {
     "data": {
      "text/html": [],
      "text/plain": [
       "<IPython.core.display.HTML object>"
      ]
     },
     "metadata": {},
     "output_type": "display_data"
    },
    {
     "data": {
      "text/html": [],
      "text/plain": [
       "<IPython.core.display.HTML object>"
      ]
     },
     "metadata": {},
     "output_type": "display_data"
    },
    {
     "data": {
      "text/html": [],
      "text/plain": [
       "<IPython.core.display.HTML object>"
      ]
     },
     "metadata": {},
     "output_type": "display_data"
    },
    {
     "data": {
      "text/html": [],
      "text/plain": [
       "<IPython.core.display.HTML object>"
      ]
     },
     "metadata": {},
     "output_type": "display_data"
    },
    {
     "data": {
      "text/html": [],
      "text/plain": [
       "<IPython.core.display.HTML object>"
      ]
     },
     "metadata": {},
     "output_type": "display_data"
    },
    {
     "data": {
      "text/html": [],
      "text/plain": [
       "<IPython.core.display.HTML object>"
      ]
     },
     "metadata": {},
     "output_type": "display_data"
    },
    {
     "data": {
      "text/html": [],
      "text/plain": [
       "<IPython.core.display.HTML object>"
      ]
     },
     "metadata": {},
     "output_type": "display_data"
    },
    {
     "data": {
      "text/html": [],
      "text/plain": [
       "<IPython.core.display.HTML object>"
      ]
     },
     "metadata": {},
     "output_type": "display_data"
    },
    {
     "data": {
      "text/html": [],
      "text/plain": [
       "<IPython.core.display.HTML object>"
      ]
     },
     "metadata": {},
     "output_type": "display_data"
    },
    {
     "data": {
      "text/html": [],
      "text/plain": [
       "<IPython.core.display.HTML object>"
      ]
     },
     "metadata": {},
     "output_type": "display_data"
    },
    {
     "data": {
      "text/html": [],
      "text/plain": [
       "<IPython.core.display.HTML object>"
      ]
     },
     "metadata": {},
     "output_type": "display_data"
    },
    {
     "data": {
      "text/html": [],
      "text/plain": [
       "<IPython.core.display.HTML object>"
      ]
     },
     "metadata": {},
     "output_type": "display_data"
    },
    {
     "data": {
      "text/html": [],
      "text/plain": [
       "<IPython.core.display.HTML object>"
      ]
     },
     "metadata": {},
     "output_type": "display_data"
    },
    {
     "data": {
      "text/html": [],
      "text/plain": [
       "<IPython.core.display.HTML object>"
      ]
     },
     "metadata": {},
     "output_type": "display_data"
    },
    {
     "data": {
      "text/html": [],
      "text/plain": [
       "<IPython.core.display.HTML object>"
      ]
     },
     "metadata": {},
     "output_type": "display_data"
    },
    {
     "data": {
      "text/html": [],
      "text/plain": [
       "<IPython.core.display.HTML object>"
      ]
     },
     "metadata": {},
     "output_type": "display_data"
    },
    {
     "data": {
      "text/html": [],
      "text/plain": [
       "<IPython.core.display.HTML object>"
      ]
     },
     "metadata": {},
     "output_type": "display_data"
    },
    {
     "data": {
      "text/html": [],
      "text/plain": [
       "<IPython.core.display.HTML object>"
      ]
     },
     "metadata": {},
     "output_type": "display_data"
    },
    {
     "data": {
      "text/html": [],
      "text/plain": [
       "<IPython.core.display.HTML object>"
      ]
     },
     "metadata": {},
     "output_type": "display_data"
    },
    {
     "data": {
      "text/html": [],
      "text/plain": [
       "<IPython.core.display.HTML object>"
      ]
     },
     "metadata": {},
     "output_type": "display_data"
    },
    {
     "data": {
      "text/html": [],
      "text/plain": [
       "<IPython.core.display.HTML object>"
      ]
     },
     "metadata": {},
     "output_type": "display_data"
    },
    {
     "data": {
      "text/html": [],
      "text/plain": [
       "<IPython.core.display.HTML object>"
      ]
     },
     "metadata": {},
     "output_type": "display_data"
    },
    {
     "data": {
      "text/html": [],
      "text/plain": [
       "<IPython.core.display.HTML object>"
      ]
     },
     "metadata": {},
     "output_type": "display_data"
    },
    {
     "data": {
      "text/html": [],
      "text/plain": [
       "<IPython.core.display.HTML object>"
      ]
     },
     "metadata": {},
     "output_type": "display_data"
    },
    {
     "data": {
      "text/html": [],
      "text/plain": [
       "<IPython.core.display.HTML object>"
      ]
     },
     "metadata": {},
     "output_type": "display_data"
    },
    {
     "data": {
      "text/html": [],
      "text/plain": [
       "<IPython.core.display.HTML object>"
      ]
     },
     "metadata": {},
     "output_type": "display_data"
    },
    {
     "data": {
      "text/html": [],
      "text/plain": [
       "<IPython.core.display.HTML object>"
      ]
     },
     "metadata": {},
     "output_type": "display_data"
    },
    {
     "data": {
      "text/html": [],
      "text/plain": [
       "<IPython.core.display.HTML object>"
      ]
     },
     "metadata": {},
     "output_type": "display_data"
    },
    {
     "data": {
      "text/html": [],
      "text/plain": [
       "<IPython.core.display.HTML object>"
      ]
     },
     "metadata": {},
     "output_type": "display_data"
    },
    {
     "data": {
      "text/html": [],
      "text/plain": [
       "<IPython.core.display.HTML object>"
      ]
     },
     "metadata": {},
     "output_type": "display_data"
    },
    {
     "data": {
      "text/html": [],
      "text/plain": [
       "<IPython.core.display.HTML object>"
      ]
     },
     "metadata": {},
     "output_type": "display_data"
    },
    {
     "data": {
      "text/html": [],
      "text/plain": [
       "<IPython.core.display.HTML object>"
      ]
     },
     "metadata": {},
     "output_type": "display_data"
    },
    {
     "data": {
      "text/html": [],
      "text/plain": [
       "<IPython.core.display.HTML object>"
      ]
     },
     "metadata": {},
     "output_type": "display_data"
    },
    {
     "data": {
      "text/html": [],
      "text/plain": [
       "<IPython.core.display.HTML object>"
      ]
     },
     "metadata": {},
     "output_type": "display_data"
    },
    {
     "data": {
      "text/html": [],
      "text/plain": [
       "<IPython.core.display.HTML object>"
      ]
     },
     "metadata": {},
     "output_type": "display_data"
    },
    {
     "data": {
      "text/html": [],
      "text/plain": [
       "<IPython.core.display.HTML object>"
      ]
     },
     "metadata": {},
     "output_type": "display_data"
    },
    {
     "data": {
      "text/html": [],
      "text/plain": [
       "<IPython.core.display.HTML object>"
      ]
     },
     "metadata": {},
     "output_type": "display_data"
    },
    {
     "data": {
      "text/html": [],
      "text/plain": [
       "<IPython.core.display.HTML object>"
      ]
     },
     "metadata": {},
     "output_type": "display_data"
    },
    {
     "data": {
      "text/html": [],
      "text/plain": [
       "<IPython.core.display.HTML object>"
      ]
     },
     "metadata": {},
     "output_type": "display_data"
    },
    {
     "data": {
      "text/html": [],
      "text/plain": [
       "<IPython.core.display.HTML object>"
      ]
     },
     "metadata": {},
     "output_type": "display_data"
    },
    {
     "data": {
      "text/html": [],
      "text/plain": [
       "<IPython.core.display.HTML object>"
      ]
     },
     "metadata": {},
     "output_type": "display_data"
    },
    {
     "data": {
      "text/html": [],
      "text/plain": [
       "<IPython.core.display.HTML object>"
      ]
     },
     "metadata": {},
     "output_type": "display_data"
    },
    {
     "data": {
      "text/html": [],
      "text/plain": [
       "<IPython.core.display.HTML object>"
      ]
     },
     "metadata": {},
     "output_type": "display_data"
    },
    {
     "data": {
      "text/html": [],
      "text/plain": [
       "<IPython.core.display.HTML object>"
      ]
     },
     "metadata": {},
     "output_type": "display_data"
    },
    {
     "data": {
      "text/html": [],
      "text/plain": [
       "<IPython.core.display.HTML object>"
      ]
     },
     "metadata": {},
     "output_type": "display_data"
    },
    {
     "data": {
      "text/html": [],
      "text/plain": [
       "<IPython.core.display.HTML object>"
      ]
     },
     "metadata": {},
     "output_type": "display_data"
    },
    {
     "data": {
      "text/html": [],
      "text/plain": [
       "<IPython.core.display.HTML object>"
      ]
     },
     "metadata": {},
     "output_type": "display_data"
    },
    {
     "data": {
      "text/html": [],
      "text/plain": [
       "<IPython.core.display.HTML object>"
      ]
     },
     "metadata": {},
     "output_type": "display_data"
    },
    {
     "data": {
      "text/html": [],
      "text/plain": [
       "<IPython.core.display.HTML object>"
      ]
     },
     "metadata": {},
     "output_type": "display_data"
    },
    {
     "data": {
      "text/html": [],
      "text/plain": [
       "<IPython.core.display.HTML object>"
      ]
     },
     "metadata": {},
     "output_type": "display_data"
    },
    {
     "data": {
      "text/html": [],
      "text/plain": [
       "<IPython.core.display.HTML object>"
      ]
     },
     "metadata": {},
     "output_type": "display_data"
    },
    {
     "data": {
      "text/html": [],
      "text/plain": [
       "<IPython.core.display.HTML object>"
      ]
     },
     "metadata": {},
     "output_type": "display_data"
    },
    {
     "data": {
      "text/html": [],
      "text/plain": [
       "<IPython.core.display.HTML object>"
      ]
     },
     "metadata": {},
     "output_type": "display_data"
    },
    {
     "data": {
      "text/html": [],
      "text/plain": [
       "<IPython.core.display.HTML object>"
      ]
     },
     "metadata": {},
     "output_type": "display_data"
    },
    {
     "data": {
      "text/html": [],
      "text/plain": [
       "<IPython.core.display.HTML object>"
      ]
     },
     "metadata": {},
     "output_type": "display_data"
    },
    {
     "data": {
      "text/html": [],
      "text/plain": [
       "<IPython.core.display.HTML object>"
      ]
     },
     "metadata": {},
     "output_type": "display_data"
    },
    {
     "data": {
      "text/html": [],
      "text/plain": [
       "<IPython.core.display.HTML object>"
      ]
     },
     "metadata": {},
     "output_type": "display_data"
    },
    {
     "data": {
      "text/html": [],
      "text/plain": [
       "<IPython.core.display.HTML object>"
      ]
     },
     "metadata": {},
     "output_type": "display_data"
    },
    {
     "data": {
      "text/html": [],
      "text/plain": [
       "<IPython.core.display.HTML object>"
      ]
     },
     "metadata": {},
     "output_type": "display_data"
    },
    {
     "data": {
      "text/html": [],
      "text/plain": [
       "<IPython.core.display.HTML object>"
      ]
     },
     "metadata": {},
     "output_type": "display_data"
    },
    {
     "data": {
      "text/html": [],
      "text/plain": [
       "<IPython.core.display.HTML object>"
      ]
     },
     "metadata": {},
     "output_type": "display_data"
    },
    {
     "data": {
      "text/html": [],
      "text/plain": [
       "<IPython.core.display.HTML object>"
      ]
     },
     "metadata": {},
     "output_type": "display_data"
    },
    {
     "data": {
      "text/html": [],
      "text/plain": [
       "<IPython.core.display.HTML object>"
      ]
     },
     "metadata": {},
     "output_type": "display_data"
    },
    {
     "data": {
      "text/html": [],
      "text/plain": [
       "<IPython.core.display.HTML object>"
      ]
     },
     "metadata": {},
     "output_type": "display_data"
    },
    {
     "data": {
      "text/html": [],
      "text/plain": [
       "<IPython.core.display.HTML object>"
      ]
     },
     "metadata": {},
     "output_type": "display_data"
    },
    {
     "data": {
      "text/html": [],
      "text/plain": [
       "<IPython.core.display.HTML object>"
      ]
     },
     "metadata": {},
     "output_type": "display_data"
    },
    {
     "data": {
      "text/html": [],
      "text/plain": [
       "<IPython.core.display.HTML object>"
      ]
     },
     "metadata": {},
     "output_type": "display_data"
    },
    {
     "data": {
      "text/html": [],
      "text/plain": [
       "<IPython.core.display.HTML object>"
      ]
     },
     "metadata": {},
     "output_type": "display_data"
    },
    {
     "data": {
      "text/html": [],
      "text/plain": [
       "<IPython.core.display.HTML object>"
      ]
     },
     "metadata": {},
     "output_type": "display_data"
    },
    {
     "data": {
      "text/html": [],
      "text/plain": [
       "<IPython.core.display.HTML object>"
      ]
     },
     "metadata": {},
     "output_type": "display_data"
    },
    {
     "data": {
      "text/html": [],
      "text/plain": [
       "<IPython.core.display.HTML object>"
      ]
     },
     "metadata": {},
     "output_type": "display_data"
    },
    {
     "data": {
      "text/html": [],
      "text/plain": [
       "<IPython.core.display.HTML object>"
      ]
     },
     "metadata": {},
     "output_type": "display_data"
    },
    {
     "data": {
      "text/html": [],
      "text/plain": [
       "<IPython.core.display.HTML object>"
      ]
     },
     "metadata": {},
     "output_type": "display_data"
    },
    {
     "data": {
      "text/html": [],
      "text/plain": [
       "<IPython.core.display.HTML object>"
      ]
     },
     "metadata": {},
     "output_type": "display_data"
    },
    {
     "data": {
      "text/html": [],
      "text/plain": [
       "<IPython.core.display.HTML object>"
      ]
     },
     "metadata": {},
     "output_type": "display_data"
    },
    {
     "data": {
      "text/html": [],
      "text/plain": [
       "<IPython.core.display.HTML object>"
      ]
     },
     "metadata": {},
     "output_type": "display_data"
    },
    {
     "data": {
      "text/html": [],
      "text/plain": [
       "<IPython.core.display.HTML object>"
      ]
     },
     "metadata": {},
     "output_type": "display_data"
    },
    {
     "data": {
      "text/html": [],
      "text/plain": [
       "<IPython.core.display.HTML object>"
      ]
     },
     "metadata": {},
     "output_type": "display_data"
    },
    {
     "data": {
      "text/html": [],
      "text/plain": [
       "<IPython.core.display.HTML object>"
      ]
     },
     "metadata": {},
     "output_type": "display_data"
    },
    {
     "data": {
      "text/html": [],
      "text/plain": [
       "<IPython.core.display.HTML object>"
      ]
     },
     "metadata": {},
     "output_type": "display_data"
    },
    {
     "data": {
      "text/html": [],
      "text/plain": [
       "<IPython.core.display.HTML object>"
      ]
     },
     "metadata": {},
     "output_type": "display_data"
    },
    {
     "data": {
      "text/html": [],
      "text/plain": [
       "<IPython.core.display.HTML object>"
      ]
     },
     "metadata": {},
     "output_type": "display_data"
    },
    {
     "data": {
      "text/html": [],
      "text/plain": [
       "<IPython.core.display.HTML object>"
      ]
     },
     "metadata": {},
     "output_type": "display_data"
    },
    {
     "data": {
      "text/html": [],
      "text/plain": [
       "<IPython.core.display.HTML object>"
      ]
     },
     "metadata": {},
     "output_type": "display_data"
    },
    {
     "data": {
      "text/html": [],
      "text/plain": [
       "<IPython.core.display.HTML object>"
      ]
     },
     "metadata": {},
     "output_type": "display_data"
    },
    {
     "data": {
      "text/html": [],
      "text/plain": [
       "<IPython.core.display.HTML object>"
      ]
     },
     "metadata": {},
     "output_type": "display_data"
    },
    {
     "data": {
      "text/html": [],
      "text/plain": [
       "<IPython.core.display.HTML object>"
      ]
     },
     "metadata": {},
     "output_type": "display_data"
    },
    {
     "data": {
      "text/html": [],
      "text/plain": [
       "<IPython.core.display.HTML object>"
      ]
     },
     "metadata": {},
     "output_type": "display_data"
    },
    {
     "data": {
      "text/html": [],
      "text/plain": [
       "<IPython.core.display.HTML object>"
      ]
     },
     "metadata": {},
     "output_type": "display_data"
    },
    {
     "data": {
      "text/html": [],
      "text/plain": [
       "<IPython.core.display.HTML object>"
      ]
     },
     "metadata": {},
     "output_type": "display_data"
    },
    {
     "data": {
      "text/html": [],
      "text/plain": [
       "<IPython.core.display.HTML object>"
      ]
     },
     "metadata": {},
     "output_type": "display_data"
    },
    {
     "data": {
      "text/html": [],
      "text/plain": [
       "<IPython.core.display.HTML object>"
      ]
     },
     "metadata": {},
     "output_type": "display_data"
    },
    {
     "data": {
      "text/html": [],
      "text/plain": [
       "<IPython.core.display.HTML object>"
      ]
     },
     "metadata": {},
     "output_type": "display_data"
    },
    {
     "data": {
      "text/html": [],
      "text/plain": [
       "<IPython.core.display.HTML object>"
      ]
     },
     "metadata": {},
     "output_type": "display_data"
    },
    {
     "data": {
      "text/html": [],
      "text/plain": [
       "<IPython.core.display.HTML object>"
      ]
     },
     "metadata": {},
     "output_type": "display_data"
    },
    {
     "data": {
      "text/html": [],
      "text/plain": [
       "<IPython.core.display.HTML object>"
      ]
     },
     "metadata": {},
     "output_type": "display_data"
    },
    {
     "data": {
      "text/html": [],
      "text/plain": [
       "<IPython.core.display.HTML object>"
      ]
     },
     "metadata": {},
     "output_type": "display_data"
    },
    {
     "data": {
      "text/html": [],
      "text/plain": [
       "<IPython.core.display.HTML object>"
      ]
     },
     "metadata": {},
     "output_type": "display_data"
    },
    {
     "data": {
      "text/html": [],
      "text/plain": [
       "<IPython.core.display.HTML object>"
      ]
     },
     "metadata": {},
     "output_type": "display_data"
    },
    {
     "data": {
      "text/html": [],
      "text/plain": [
       "<IPython.core.display.HTML object>"
      ]
     },
     "metadata": {},
     "output_type": "display_data"
    },
    {
     "data": {
      "text/html": [],
      "text/plain": [
       "<IPython.core.display.HTML object>"
      ]
     },
     "metadata": {},
     "output_type": "display_data"
    },
    {
     "data": {
      "text/html": [],
      "text/plain": [
       "<IPython.core.display.HTML object>"
      ]
     },
     "metadata": {},
     "output_type": "display_data"
    },
    {
     "data": {
      "text/html": [],
      "text/plain": [
       "<IPython.core.display.HTML object>"
      ]
     },
     "metadata": {},
     "output_type": "display_data"
    },
    {
     "data": {
      "text/html": [],
      "text/plain": [
       "<IPython.core.display.HTML object>"
      ]
     },
     "metadata": {},
     "output_type": "display_data"
    },
    {
     "data": {
      "text/html": [],
      "text/plain": [
       "<IPython.core.display.HTML object>"
      ]
     },
     "metadata": {},
     "output_type": "display_data"
    },
    {
     "data": {
      "text/html": [],
      "text/plain": [
       "<IPython.core.display.HTML object>"
      ]
     },
     "metadata": {},
     "output_type": "display_data"
    },
    {
     "data": {
      "text/html": [],
      "text/plain": [
       "<IPython.core.display.HTML object>"
      ]
     },
     "metadata": {},
     "output_type": "display_data"
    },
    {
     "data": {
      "text/html": [],
      "text/plain": [
       "<IPython.core.display.HTML object>"
      ]
     },
     "metadata": {},
     "output_type": "display_data"
    },
    {
     "data": {
      "text/html": [],
      "text/plain": [
       "<IPython.core.display.HTML object>"
      ]
     },
     "metadata": {},
     "output_type": "display_data"
    },
    {
     "data": {
      "text/html": [],
      "text/plain": [
       "<IPython.core.display.HTML object>"
      ]
     },
     "metadata": {},
     "output_type": "display_data"
    },
    {
     "data": {
      "text/html": [],
      "text/plain": [
       "<IPython.core.display.HTML object>"
      ]
     },
     "metadata": {},
     "output_type": "display_data"
    },
    {
     "data": {
      "text/html": [],
      "text/plain": [
       "<IPython.core.display.HTML object>"
      ]
     },
     "metadata": {},
     "output_type": "display_data"
    },
    {
     "data": {
      "text/html": [],
      "text/plain": [
       "<IPython.core.display.HTML object>"
      ]
     },
     "metadata": {},
     "output_type": "display_data"
    },
    {
     "data": {
      "text/html": [],
      "text/plain": [
       "<IPython.core.display.HTML object>"
      ]
     },
     "metadata": {},
     "output_type": "display_data"
    },
    {
     "data": {
      "text/html": [],
      "text/plain": [
       "<IPython.core.display.HTML object>"
      ]
     },
     "metadata": {},
     "output_type": "display_data"
    },
    {
     "data": {
      "text/html": [],
      "text/plain": [
       "<IPython.core.display.HTML object>"
      ]
     },
     "metadata": {},
     "output_type": "display_data"
    },
    {
     "data": {
      "text/html": [],
      "text/plain": [
       "<IPython.core.display.HTML object>"
      ]
     },
     "metadata": {},
     "output_type": "display_data"
    },
    {
     "data": {
      "text/html": [],
      "text/plain": [
       "<IPython.core.display.HTML object>"
      ]
     },
     "metadata": {},
     "output_type": "display_data"
    },
    {
     "data": {
      "text/html": [],
      "text/plain": [
       "<IPython.core.display.HTML object>"
      ]
     },
     "metadata": {},
     "output_type": "display_data"
    },
    {
     "data": {
      "text/html": [],
      "text/plain": [
       "<IPython.core.display.HTML object>"
      ]
     },
     "metadata": {},
     "output_type": "display_data"
    },
    {
     "data": {
      "text/html": [],
      "text/plain": [
       "<IPython.core.display.HTML object>"
      ]
     },
     "metadata": {},
     "output_type": "display_data"
    },
    {
     "data": {
      "text/html": [],
      "text/plain": [
       "<IPython.core.display.HTML object>"
      ]
     },
     "metadata": {},
     "output_type": "display_data"
    },
    {
     "data": {
      "text/html": [],
      "text/plain": [
       "<IPython.core.display.HTML object>"
      ]
     },
     "metadata": {},
     "output_type": "display_data"
    },
    {
     "data": {
      "text/html": [],
      "text/plain": [
       "<IPython.core.display.HTML object>"
      ]
     },
     "metadata": {},
     "output_type": "display_data"
    },
    {
     "data": {
      "text/html": [],
      "text/plain": [
       "<IPython.core.display.HTML object>"
      ]
     },
     "metadata": {},
     "output_type": "display_data"
    },
    {
     "data": {
      "text/html": [],
      "text/plain": [
       "<IPython.core.display.HTML object>"
      ]
     },
     "metadata": {},
     "output_type": "display_data"
    },
    {
     "data": {
      "text/html": [],
      "text/plain": [
       "<IPython.core.display.HTML object>"
      ]
     },
     "metadata": {},
     "output_type": "display_data"
    },
    {
     "data": {
      "text/html": [],
      "text/plain": [
       "<IPython.core.display.HTML object>"
      ]
     },
     "metadata": {},
     "output_type": "display_data"
    },
    {
     "data": {
      "text/html": [],
      "text/plain": [
       "<IPython.core.display.HTML object>"
      ]
     },
     "metadata": {},
     "output_type": "display_data"
    },
    {
     "data": {
      "text/html": [],
      "text/plain": [
       "<IPython.core.display.HTML object>"
      ]
     },
     "metadata": {},
     "output_type": "display_data"
    },
    {
     "data": {
      "text/html": [],
      "text/plain": [
       "<IPython.core.display.HTML object>"
      ]
     },
     "metadata": {},
     "output_type": "display_data"
    },
    {
     "data": {
      "text/html": [],
      "text/plain": [
       "<IPython.core.display.HTML object>"
      ]
     },
     "metadata": {},
     "output_type": "display_data"
    },
    {
     "data": {
      "text/html": [],
      "text/plain": [
       "<IPython.core.display.HTML object>"
      ]
     },
     "metadata": {},
     "output_type": "display_data"
    },
    {
     "data": {
      "text/html": [],
      "text/plain": [
       "<IPython.core.display.HTML object>"
      ]
     },
     "metadata": {},
     "output_type": "display_data"
    },
    {
     "data": {
      "text/html": [],
      "text/plain": [
       "<IPython.core.display.HTML object>"
      ]
     },
     "metadata": {},
     "output_type": "display_data"
    },
    {
     "data": {
      "text/html": [],
      "text/plain": [
       "<IPython.core.display.HTML object>"
      ]
     },
     "metadata": {},
     "output_type": "display_data"
    },
    {
     "data": {
      "text/html": [],
      "text/plain": [
       "<IPython.core.display.HTML object>"
      ]
     },
     "metadata": {},
     "output_type": "display_data"
    },
    {
     "data": {
      "text/html": [],
      "text/plain": [
       "<IPython.core.display.HTML object>"
      ]
     },
     "metadata": {},
     "output_type": "display_data"
    },
    {
     "data": {
      "text/html": [],
      "text/plain": [
       "<IPython.core.display.HTML object>"
      ]
     },
     "metadata": {},
     "output_type": "display_data"
    },
    {
     "data": {
      "text/html": [],
      "text/plain": [
       "<IPython.core.display.HTML object>"
      ]
     },
     "metadata": {},
     "output_type": "display_data"
    },
    {
     "data": {
      "text/html": [],
      "text/plain": [
       "<IPython.core.display.HTML object>"
      ]
     },
     "metadata": {},
     "output_type": "display_data"
    },
    {
     "data": {
      "text/html": [],
      "text/plain": [
       "<IPython.core.display.HTML object>"
      ]
     },
     "metadata": {},
     "output_type": "display_data"
    },
    {
     "data": {
      "text/html": [],
      "text/plain": [
       "<IPython.core.display.HTML object>"
      ]
     },
     "metadata": {},
     "output_type": "display_data"
    },
    {
     "data": {
      "text/html": [],
      "text/plain": [
       "<IPython.core.display.HTML object>"
      ]
     },
     "metadata": {},
     "output_type": "display_data"
    },
    {
     "data": {
      "text/html": [],
      "text/plain": [
       "<IPython.core.display.HTML object>"
      ]
     },
     "metadata": {},
     "output_type": "display_data"
    },
    {
     "data": {
      "text/html": [],
      "text/plain": [
       "<IPython.core.display.HTML object>"
      ]
     },
     "metadata": {},
     "output_type": "display_data"
    },
    {
     "data": {
      "text/html": [],
      "text/plain": [
       "<IPython.core.display.HTML object>"
      ]
     },
     "metadata": {},
     "output_type": "display_data"
    },
    {
     "data": {
      "text/html": [],
      "text/plain": [
       "<IPython.core.display.HTML object>"
      ]
     },
     "metadata": {},
     "output_type": "display_data"
    },
    {
     "data": {
      "text/html": [],
      "text/plain": [
       "<IPython.core.display.HTML object>"
      ]
     },
     "metadata": {},
     "output_type": "display_data"
    },
    {
     "data": {
      "text/html": [],
      "text/plain": [
       "<IPython.core.display.HTML object>"
      ]
     },
     "metadata": {},
     "output_type": "display_data"
    },
    {
     "data": {
      "text/html": [],
      "text/plain": [
       "<IPython.core.display.HTML object>"
      ]
     },
     "metadata": {},
     "output_type": "display_data"
    },
    {
     "data": {
      "text/html": [],
      "text/plain": [
       "<IPython.core.display.HTML object>"
      ]
     },
     "metadata": {},
     "output_type": "display_data"
    },
    {
     "data": {
      "text/html": [],
      "text/plain": [
       "<IPython.core.display.HTML object>"
      ]
     },
     "metadata": {},
     "output_type": "display_data"
    },
    {
     "data": {
      "text/html": [],
      "text/plain": [
       "<IPython.core.display.HTML object>"
      ]
     },
     "metadata": {},
     "output_type": "display_data"
    },
    {
     "data": {
      "text/html": [],
      "text/plain": [
       "<IPython.core.display.HTML object>"
      ]
     },
     "metadata": {},
     "output_type": "display_data"
    },
    {
     "data": {
      "text/html": [],
      "text/plain": [
       "<IPython.core.display.HTML object>"
      ]
     },
     "metadata": {},
     "output_type": "display_data"
    },
    {
     "data": {
      "text/html": [],
      "text/plain": [
       "<IPython.core.display.HTML object>"
      ]
     },
     "metadata": {},
     "output_type": "display_data"
    },
    {
     "data": {
      "text/html": [],
      "text/plain": [
       "<IPython.core.display.HTML object>"
      ]
     },
     "metadata": {},
     "output_type": "display_data"
    },
    {
     "data": {
      "text/html": [],
      "text/plain": [
       "<IPython.core.display.HTML object>"
      ]
     },
     "metadata": {},
     "output_type": "display_data"
    },
    {
     "data": {
      "text/html": [],
      "text/plain": [
       "<IPython.core.display.HTML object>"
      ]
     },
     "metadata": {},
     "output_type": "display_data"
    },
    {
     "data": {
      "text/html": [],
      "text/plain": [
       "<IPython.core.display.HTML object>"
      ]
     },
     "metadata": {},
     "output_type": "display_data"
    },
    {
     "data": {
      "text/html": [],
      "text/plain": [
       "<IPython.core.display.HTML object>"
      ]
     },
     "metadata": {},
     "output_type": "display_data"
    },
    {
     "data": {
      "text/html": [],
      "text/plain": [
       "<IPython.core.display.HTML object>"
      ]
     },
     "metadata": {},
     "output_type": "display_data"
    },
    {
     "data": {
      "text/html": [],
      "text/plain": [
       "<IPython.core.display.HTML object>"
      ]
     },
     "metadata": {},
     "output_type": "display_data"
    },
    {
     "data": {
      "text/html": [],
      "text/plain": [
       "<IPython.core.display.HTML object>"
      ]
     },
     "metadata": {},
     "output_type": "display_data"
    },
    {
     "data": {
      "text/html": [],
      "text/plain": [
       "<IPython.core.display.HTML object>"
      ]
     },
     "metadata": {},
     "output_type": "display_data"
    },
    {
     "data": {
      "text/html": [],
      "text/plain": [
       "<IPython.core.display.HTML object>"
      ]
     },
     "metadata": {},
     "output_type": "display_data"
    },
    {
     "data": {
      "text/html": [],
      "text/plain": [
       "<IPython.core.display.HTML object>"
      ]
     },
     "metadata": {},
     "output_type": "display_data"
    },
    {
     "data": {
      "text/html": [],
      "text/plain": [
       "<IPython.core.display.HTML object>"
      ]
     },
     "metadata": {},
     "output_type": "display_data"
    },
    {
     "data": {
      "text/html": [],
      "text/plain": [
       "<IPython.core.display.HTML object>"
      ]
     },
     "metadata": {},
     "output_type": "display_data"
    },
    {
     "data": {
      "text/html": [],
      "text/plain": [
       "<IPython.core.display.HTML object>"
      ]
     },
     "metadata": {},
     "output_type": "display_data"
    },
    {
     "data": {
      "text/html": [],
      "text/plain": [
       "<IPython.core.display.HTML object>"
      ]
     },
     "metadata": {},
     "output_type": "display_data"
    },
    {
     "data": {
      "text/html": [],
      "text/plain": [
       "<IPython.core.display.HTML object>"
      ]
     },
     "metadata": {},
     "output_type": "display_data"
    },
    {
     "data": {
      "text/html": [],
      "text/plain": [
       "<IPython.core.display.HTML object>"
      ]
     },
     "metadata": {},
     "output_type": "display_data"
    },
    {
     "data": {
      "text/html": [],
      "text/plain": [
       "<IPython.core.display.HTML object>"
      ]
     },
     "metadata": {},
     "output_type": "display_data"
    },
    {
     "data": {
      "text/html": [],
      "text/plain": [
       "<IPython.core.display.HTML object>"
      ]
     },
     "metadata": {},
     "output_type": "display_data"
    },
    {
     "data": {
      "text/html": [],
      "text/plain": [
       "<IPython.core.display.HTML object>"
      ]
     },
     "metadata": {},
     "output_type": "display_data"
    },
    {
     "data": {
      "text/html": [],
      "text/plain": [
       "<IPython.core.display.HTML object>"
      ]
     },
     "metadata": {},
     "output_type": "display_data"
    },
    {
     "data": {
      "text/html": [],
      "text/plain": [
       "<IPython.core.display.HTML object>"
      ]
     },
     "metadata": {},
     "output_type": "display_data"
    },
    {
     "data": {
      "text/html": [],
      "text/plain": [
       "<IPython.core.display.HTML object>"
      ]
     },
     "metadata": {},
     "output_type": "display_data"
    },
    {
     "data": {
      "text/html": [],
      "text/plain": [
       "<IPython.core.display.HTML object>"
      ]
     },
     "metadata": {},
     "output_type": "display_data"
    },
    {
     "data": {
      "text/html": [],
      "text/plain": [
       "<IPython.core.display.HTML object>"
      ]
     },
     "metadata": {},
     "output_type": "display_data"
    },
    {
     "data": {
      "text/html": [],
      "text/plain": [
       "<IPython.core.display.HTML object>"
      ]
     },
     "metadata": {},
     "output_type": "display_data"
    },
    {
     "data": {
      "text/html": [],
      "text/plain": [
       "<IPython.core.display.HTML object>"
      ]
     },
     "metadata": {},
     "output_type": "display_data"
    },
    {
     "data": {
      "text/html": [],
      "text/plain": [
       "<IPython.core.display.HTML object>"
      ]
     },
     "metadata": {},
     "output_type": "display_data"
    },
    {
     "data": {
      "text/html": [],
      "text/plain": [
       "<IPython.core.display.HTML object>"
      ]
     },
     "metadata": {},
     "output_type": "display_data"
    },
    {
     "data": {
      "text/html": [],
      "text/plain": [
       "<IPython.core.display.HTML object>"
      ]
     },
     "metadata": {},
     "output_type": "display_data"
    },
    {
     "data": {
      "text/html": [],
      "text/plain": [
       "<IPython.core.display.HTML object>"
      ]
     },
     "metadata": {},
     "output_type": "display_data"
    },
    {
     "data": {
      "text/html": [],
      "text/plain": [
       "<IPython.core.display.HTML object>"
      ]
     },
     "metadata": {},
     "output_type": "display_data"
    },
    {
     "data": {
      "text/html": [],
      "text/plain": [
       "<IPython.core.display.HTML object>"
      ]
     },
     "metadata": {},
     "output_type": "display_data"
    },
    {
     "data": {
      "text/html": [],
      "text/plain": [
       "<IPython.core.display.HTML object>"
      ]
     },
     "metadata": {},
     "output_type": "display_data"
    },
    {
     "data": {
      "text/html": [],
      "text/plain": [
       "<IPython.core.display.HTML object>"
      ]
     },
     "metadata": {},
     "output_type": "display_data"
    },
    {
     "data": {
      "text/html": [],
      "text/plain": [
       "<IPython.core.display.HTML object>"
      ]
     },
     "metadata": {},
     "output_type": "display_data"
    },
    {
     "data": {
      "text/html": [],
      "text/plain": [
       "<IPython.core.display.HTML object>"
      ]
     },
     "metadata": {},
     "output_type": "display_data"
    },
    {
     "data": {
      "text/html": [],
      "text/plain": [
       "<IPython.core.display.HTML object>"
      ]
     },
     "metadata": {},
     "output_type": "display_data"
    },
    {
     "data": {
      "text/html": [],
      "text/plain": [
       "<IPython.core.display.HTML object>"
      ]
     },
     "metadata": {},
     "output_type": "display_data"
    },
    {
     "data": {
      "text/html": [],
      "text/plain": [
       "<IPython.core.display.HTML object>"
      ]
     },
     "metadata": {},
     "output_type": "display_data"
    },
    {
     "data": {
      "text/html": [],
      "text/plain": [
       "<IPython.core.display.HTML object>"
      ]
     },
     "metadata": {},
     "output_type": "display_data"
    },
    {
     "data": {
      "text/html": [],
      "text/plain": [
       "<IPython.core.display.HTML object>"
      ]
     },
     "metadata": {},
     "output_type": "display_data"
    },
    {
     "data": {
      "text/html": [],
      "text/plain": [
       "<IPython.core.display.HTML object>"
      ]
     },
     "metadata": {},
     "output_type": "display_data"
    },
    {
     "data": {
      "text/html": [],
      "text/plain": [
       "<IPython.core.display.HTML object>"
      ]
     },
     "metadata": {},
     "output_type": "display_data"
    },
    {
     "data": {
      "text/html": [],
      "text/plain": [
       "<IPython.core.display.HTML object>"
      ]
     },
     "metadata": {},
     "output_type": "display_data"
    },
    {
     "data": {
      "text/html": [],
      "text/plain": [
       "<IPython.core.display.HTML object>"
      ]
     },
     "metadata": {},
     "output_type": "display_data"
    },
    {
     "data": {
      "text/html": [],
      "text/plain": [
       "<IPython.core.display.HTML object>"
      ]
     },
     "metadata": {},
     "output_type": "display_data"
    },
    {
     "data": {
      "text/html": [],
      "text/plain": [
       "<IPython.core.display.HTML object>"
      ]
     },
     "metadata": {},
     "output_type": "display_data"
    },
    {
     "data": {
      "text/html": [],
      "text/plain": [
       "<IPython.core.display.HTML object>"
      ]
     },
     "metadata": {},
     "output_type": "display_data"
    },
    {
     "data": {
      "text/html": [],
      "text/plain": [
       "<IPython.core.display.HTML object>"
      ]
     },
     "metadata": {},
     "output_type": "display_data"
    },
    {
     "data": {
      "text/html": [],
      "text/plain": [
       "<IPython.core.display.HTML object>"
      ]
     },
     "metadata": {},
     "output_type": "display_data"
    },
    {
     "data": {
      "text/html": [],
      "text/plain": [
       "<IPython.core.display.HTML object>"
      ]
     },
     "metadata": {},
     "output_type": "display_data"
    },
    {
     "data": {
      "text/html": [],
      "text/plain": [
       "<IPython.core.display.HTML object>"
      ]
     },
     "metadata": {},
     "output_type": "display_data"
    },
    {
     "data": {
      "text/html": [],
      "text/plain": [
       "<IPython.core.display.HTML object>"
      ]
     },
     "metadata": {},
     "output_type": "display_data"
    },
    {
     "data": {
      "text/html": [],
      "text/plain": [
       "<IPython.core.display.HTML object>"
      ]
     },
     "metadata": {},
     "output_type": "display_data"
    },
    {
     "data": {
      "text/html": [],
      "text/plain": [
       "<IPython.core.display.HTML object>"
      ]
     },
     "metadata": {},
     "output_type": "display_data"
    },
    {
     "data": {
      "text/html": [],
      "text/plain": [
       "<IPython.core.display.HTML object>"
      ]
     },
     "metadata": {},
     "output_type": "display_data"
    },
    {
     "data": {
      "text/html": [],
      "text/plain": [
       "<IPython.core.display.HTML object>"
      ]
     },
     "metadata": {},
     "output_type": "display_data"
    },
    {
     "data": {
      "text/html": [],
      "text/plain": [
       "<IPython.core.display.HTML object>"
      ]
     },
     "metadata": {},
     "output_type": "display_data"
    },
    {
     "data": {
      "text/html": [],
      "text/plain": [
       "<IPython.core.display.HTML object>"
      ]
     },
     "metadata": {},
     "output_type": "display_data"
    },
    {
     "data": {
      "text/html": [],
      "text/plain": [
       "<IPython.core.display.HTML object>"
      ]
     },
     "metadata": {},
     "output_type": "display_data"
    },
    {
     "data": {
      "text/html": [],
      "text/plain": [
       "<IPython.core.display.HTML object>"
      ]
     },
     "metadata": {},
     "output_type": "display_data"
    },
    {
     "data": {
      "text/html": [],
      "text/plain": [
       "<IPython.core.display.HTML object>"
      ]
     },
     "metadata": {},
     "output_type": "display_data"
    },
    {
     "data": {
      "text/html": [],
      "text/plain": [
       "<IPython.core.display.HTML object>"
      ]
     },
     "metadata": {},
     "output_type": "display_data"
    },
    {
     "data": {
      "text/html": [],
      "text/plain": [
       "<IPython.core.display.HTML object>"
      ]
     },
     "metadata": {},
     "output_type": "display_data"
    },
    {
     "data": {
      "text/html": [],
      "text/plain": [
       "<IPython.core.display.HTML object>"
      ]
     },
     "metadata": {},
     "output_type": "display_data"
    },
    {
     "data": {
      "text/html": [],
      "text/plain": [
       "<IPython.core.display.HTML object>"
      ]
     },
     "metadata": {},
     "output_type": "display_data"
    },
    {
     "data": {
      "text/html": [],
      "text/plain": [
       "<IPython.core.display.HTML object>"
      ]
     },
     "metadata": {},
     "output_type": "display_data"
    },
    {
     "data": {
      "text/html": [],
      "text/plain": [
       "<IPython.core.display.HTML object>"
      ]
     },
     "metadata": {},
     "output_type": "display_data"
    },
    {
     "data": {
      "text/html": [],
      "text/plain": [
       "<IPython.core.display.HTML object>"
      ]
     },
     "metadata": {},
     "output_type": "display_data"
    },
    {
     "data": {
      "text/html": [],
      "text/plain": [
       "<IPython.core.display.HTML object>"
      ]
     },
     "metadata": {},
     "output_type": "display_data"
    },
    {
     "data": {
      "text/html": [],
      "text/plain": [
       "<IPython.core.display.HTML object>"
      ]
     },
     "metadata": {},
     "output_type": "display_data"
    },
    {
     "data": {
      "text/html": [],
      "text/plain": [
       "<IPython.core.display.HTML object>"
      ]
     },
     "metadata": {},
     "output_type": "display_data"
    },
    {
     "data": {
      "text/html": [],
      "text/plain": [
       "<IPython.core.display.HTML object>"
      ]
     },
     "metadata": {},
     "output_type": "display_data"
    },
    {
     "data": {
      "text/html": [],
      "text/plain": [
       "<IPython.core.display.HTML object>"
      ]
     },
     "metadata": {},
     "output_type": "display_data"
    },
    {
     "data": {
      "text/html": [],
      "text/plain": [
       "<IPython.core.display.HTML object>"
      ]
     },
     "metadata": {},
     "output_type": "display_data"
    },
    {
     "data": {
      "text/html": [],
      "text/plain": [
       "<IPython.core.display.HTML object>"
      ]
     },
     "metadata": {},
     "output_type": "display_data"
    },
    {
     "data": {
      "text/html": [],
      "text/plain": [
       "<IPython.core.display.HTML object>"
      ]
     },
     "metadata": {},
     "output_type": "display_data"
    },
    {
     "data": {
      "text/html": [],
      "text/plain": [
       "<IPython.core.display.HTML object>"
      ]
     },
     "metadata": {},
     "output_type": "display_data"
    },
    {
     "data": {
      "text/html": [],
      "text/plain": [
       "<IPython.core.display.HTML object>"
      ]
     },
     "metadata": {},
     "output_type": "display_data"
    },
    {
     "data": {
      "text/html": [],
      "text/plain": [
       "<IPython.core.display.HTML object>"
      ]
     },
     "metadata": {},
     "output_type": "display_data"
    },
    {
     "data": {
      "text/html": [],
      "text/plain": [
       "<IPython.core.display.HTML object>"
      ]
     },
     "metadata": {},
     "output_type": "display_data"
    },
    {
     "data": {
      "text/html": [],
      "text/plain": [
       "<IPython.core.display.HTML object>"
      ]
     },
     "metadata": {},
     "output_type": "display_data"
    },
    {
     "data": {
      "text/html": [],
      "text/plain": [
       "<IPython.core.display.HTML object>"
      ]
     },
     "metadata": {},
     "output_type": "display_data"
    },
    {
     "data": {
      "text/html": [],
      "text/plain": [
       "<IPython.core.display.HTML object>"
      ]
     },
     "metadata": {},
     "output_type": "display_data"
    },
    {
     "data": {
      "text/html": [],
      "text/plain": [
       "<IPython.core.display.HTML object>"
      ]
     },
     "metadata": {},
     "output_type": "display_data"
    },
    {
     "data": {
      "text/html": [],
      "text/plain": [
       "<IPython.core.display.HTML object>"
      ]
     },
     "metadata": {},
     "output_type": "display_data"
    },
    {
     "data": {
      "text/html": [],
      "text/plain": [
       "<IPython.core.display.HTML object>"
      ]
     },
     "metadata": {},
     "output_type": "display_data"
    },
    {
     "data": {
      "text/html": [],
      "text/plain": [
       "<IPython.core.display.HTML object>"
      ]
     },
     "metadata": {},
     "output_type": "display_data"
    },
    {
     "data": {
      "text/html": [],
      "text/plain": [
       "<IPython.core.display.HTML object>"
      ]
     },
     "metadata": {},
     "output_type": "display_data"
    },
    {
     "data": {
      "text/html": [],
      "text/plain": [
       "<IPython.core.display.HTML object>"
      ]
     },
     "metadata": {},
     "output_type": "display_data"
    },
    {
     "data": {
      "text/html": [],
      "text/plain": [
       "<IPython.core.display.HTML object>"
      ]
     },
     "metadata": {},
     "output_type": "display_data"
    },
    {
     "data": {
      "text/html": [],
      "text/plain": [
       "<IPython.core.display.HTML object>"
      ]
     },
     "metadata": {},
     "output_type": "display_data"
    },
    {
     "data": {
      "text/html": [],
      "text/plain": [
       "<IPython.core.display.HTML object>"
      ]
     },
     "metadata": {},
     "output_type": "display_data"
    },
    {
     "data": {
      "text/html": [],
      "text/plain": [
       "<IPython.core.display.HTML object>"
      ]
     },
     "metadata": {},
     "output_type": "display_data"
    },
    {
     "data": {
      "text/html": [],
      "text/plain": [
       "<IPython.core.display.HTML object>"
      ]
     },
     "metadata": {},
     "output_type": "display_data"
    },
    {
     "data": {
      "text/html": [],
      "text/plain": [
       "<IPython.core.display.HTML object>"
      ]
     },
     "metadata": {},
     "output_type": "display_data"
    },
    {
     "data": {
      "text/html": [],
      "text/plain": [
       "<IPython.core.display.HTML object>"
      ]
     },
     "metadata": {},
     "output_type": "display_data"
    },
    {
     "data": {
      "text/html": [],
      "text/plain": [
       "<IPython.core.display.HTML object>"
      ]
     },
     "metadata": {},
     "output_type": "display_data"
    },
    {
     "data": {
      "text/html": [],
      "text/plain": [
       "<IPython.core.display.HTML object>"
      ]
     },
     "metadata": {},
     "output_type": "display_data"
    },
    {
     "data": {
      "text/html": [],
      "text/plain": [
       "<IPython.core.display.HTML object>"
      ]
     },
     "metadata": {},
     "output_type": "display_data"
    },
    {
     "data": {
      "text/html": [],
      "text/plain": [
       "<IPython.core.display.HTML object>"
      ]
     },
     "metadata": {},
     "output_type": "display_data"
    },
    {
     "data": {
      "text/html": [],
      "text/plain": [
       "<IPython.core.display.HTML object>"
      ]
     },
     "metadata": {},
     "output_type": "display_data"
    },
    {
     "data": {
      "text/html": [],
      "text/plain": [
       "<IPython.core.display.HTML object>"
      ]
     },
     "metadata": {},
     "output_type": "display_data"
    },
    {
     "data": {
      "text/html": [],
      "text/plain": [
       "<IPython.core.display.HTML object>"
      ]
     },
     "metadata": {},
     "output_type": "display_data"
    },
    {
     "data": {
      "text/html": [],
      "text/plain": [
       "<IPython.core.display.HTML object>"
      ]
     },
     "metadata": {},
     "output_type": "display_data"
    },
    {
     "data": {
      "text/html": [],
      "text/plain": [
       "<IPython.core.display.HTML object>"
      ]
     },
     "metadata": {},
     "output_type": "display_data"
    },
    {
     "data": {
      "text/html": [],
      "text/plain": [
       "<IPython.core.display.HTML object>"
      ]
     },
     "metadata": {},
     "output_type": "display_data"
    },
    {
     "data": {
      "text/html": [],
      "text/plain": [
       "<IPython.core.display.HTML object>"
      ]
     },
     "metadata": {},
     "output_type": "display_data"
    },
    {
     "data": {
      "text/html": [],
      "text/plain": [
       "<IPython.core.display.HTML object>"
      ]
     },
     "metadata": {},
     "output_type": "display_data"
    },
    {
     "data": {
      "text/html": [],
      "text/plain": [
       "<IPython.core.display.HTML object>"
      ]
     },
     "metadata": {},
     "output_type": "display_data"
    },
    {
     "data": {
      "text/html": [],
      "text/plain": [
       "<IPython.core.display.HTML object>"
      ]
     },
     "metadata": {},
     "output_type": "display_data"
    },
    {
     "data": {
      "text/html": [],
      "text/plain": [
       "<IPython.core.display.HTML object>"
      ]
     },
     "metadata": {},
     "output_type": "display_data"
    },
    {
     "data": {
      "text/html": [],
      "text/plain": [
       "<IPython.core.display.HTML object>"
      ]
     },
     "metadata": {},
     "output_type": "display_data"
    },
    {
     "data": {
      "text/html": [],
      "text/plain": [
       "<IPython.core.display.HTML object>"
      ]
     },
     "metadata": {},
     "output_type": "display_data"
    },
    {
     "data": {
      "text/html": [],
      "text/plain": [
       "<IPython.core.display.HTML object>"
      ]
     },
     "metadata": {},
     "output_type": "display_data"
    },
    {
     "data": {
      "text/html": [],
      "text/plain": [
       "<IPython.core.display.HTML object>"
      ]
     },
     "metadata": {},
     "output_type": "display_data"
    },
    {
     "data": {
      "text/html": [],
      "text/plain": [
       "<IPython.core.display.HTML object>"
      ]
     },
     "metadata": {},
     "output_type": "display_data"
    },
    {
     "data": {
      "text/html": [],
      "text/plain": [
       "<IPython.core.display.HTML object>"
      ]
     },
     "metadata": {},
     "output_type": "display_data"
    },
    {
     "data": {
      "text/html": [],
      "text/plain": [
       "<IPython.core.display.HTML object>"
      ]
     },
     "metadata": {},
     "output_type": "display_data"
    },
    {
     "data": {
      "text/html": [],
      "text/plain": [
       "<IPython.core.display.HTML object>"
      ]
     },
     "metadata": {},
     "output_type": "display_data"
    },
    {
     "data": {
      "text/html": [],
      "text/plain": [
       "<IPython.core.display.HTML object>"
      ]
     },
     "metadata": {},
     "output_type": "display_data"
    },
    {
     "data": {
      "text/html": [],
      "text/plain": [
       "<IPython.core.display.HTML object>"
      ]
     },
     "metadata": {},
     "output_type": "display_data"
    },
    {
     "data": {
      "text/html": [],
      "text/plain": [
       "<IPython.core.display.HTML object>"
      ]
     },
     "metadata": {},
     "output_type": "display_data"
    },
    {
     "data": {
      "text/html": [],
      "text/plain": [
       "<IPython.core.display.HTML object>"
      ]
     },
     "metadata": {},
     "output_type": "display_data"
    },
    {
     "data": {
      "text/html": [],
      "text/plain": [
       "<IPython.core.display.HTML object>"
      ]
     },
     "metadata": {},
     "output_type": "display_data"
    },
    {
     "data": {
      "text/html": [],
      "text/plain": [
       "<IPython.core.display.HTML object>"
      ]
     },
     "metadata": {},
     "output_type": "display_data"
    },
    {
     "data": {
      "text/html": [],
      "text/plain": [
       "<IPython.core.display.HTML object>"
      ]
     },
     "metadata": {},
     "output_type": "display_data"
    },
    {
     "data": {
      "text/html": [],
      "text/plain": [
       "<IPython.core.display.HTML object>"
      ]
     },
     "metadata": {},
     "output_type": "display_data"
    },
    {
     "data": {
      "text/html": [],
      "text/plain": [
       "<IPython.core.display.HTML object>"
      ]
     },
     "metadata": {},
     "output_type": "display_data"
    },
    {
     "data": {
      "text/html": [],
      "text/plain": [
       "<IPython.core.display.HTML object>"
      ]
     },
     "metadata": {},
     "output_type": "display_data"
    },
    {
     "data": {
      "text/html": [],
      "text/plain": [
       "<IPython.core.display.HTML object>"
      ]
     },
     "metadata": {},
     "output_type": "display_data"
    },
    {
     "data": {
      "text/html": [],
      "text/plain": [
       "<IPython.core.display.HTML object>"
      ]
     },
     "metadata": {},
     "output_type": "display_data"
    },
    {
     "data": {
      "text/html": [],
      "text/plain": [
       "<IPython.core.display.HTML object>"
      ]
     },
     "metadata": {},
     "output_type": "display_data"
    },
    {
     "data": {
      "text/html": [],
      "text/plain": [
       "<IPython.core.display.HTML object>"
      ]
     },
     "metadata": {},
     "output_type": "display_data"
    },
    {
     "data": {
      "text/html": [],
      "text/plain": [
       "<IPython.core.display.HTML object>"
      ]
     },
     "metadata": {},
     "output_type": "display_data"
    },
    {
     "data": {
      "text/html": [],
      "text/plain": [
       "<IPython.core.display.HTML object>"
      ]
     },
     "metadata": {},
     "output_type": "display_data"
    },
    {
     "data": {
      "text/html": [],
      "text/plain": [
       "<IPython.core.display.HTML object>"
      ]
     },
     "metadata": {},
     "output_type": "display_data"
    },
    {
     "data": {
      "text/html": [],
      "text/plain": [
       "<IPython.core.display.HTML object>"
      ]
     },
     "metadata": {},
     "output_type": "display_data"
    },
    {
     "data": {
      "text/html": [],
      "text/plain": [
       "<IPython.core.display.HTML object>"
      ]
     },
     "metadata": {},
     "output_type": "display_data"
    },
    {
     "data": {
      "text/html": [],
      "text/plain": [
       "<IPython.core.display.HTML object>"
      ]
     },
     "metadata": {},
     "output_type": "display_data"
    },
    {
     "data": {
      "text/html": [],
      "text/plain": [
       "<IPython.core.display.HTML object>"
      ]
     },
     "metadata": {},
     "output_type": "display_data"
    },
    {
     "data": {
      "text/html": [],
      "text/plain": [
       "<IPython.core.display.HTML object>"
      ]
     },
     "metadata": {},
     "output_type": "display_data"
    },
    {
     "data": {
      "text/html": [],
      "text/plain": [
       "<IPython.core.display.HTML object>"
      ]
     },
     "metadata": {},
     "output_type": "display_data"
    },
    {
     "data": {
      "text/html": [],
      "text/plain": [
       "<IPython.core.display.HTML object>"
      ]
     },
     "metadata": {},
     "output_type": "display_data"
    },
    {
     "data": {
      "text/html": [],
      "text/plain": [
       "<IPython.core.display.HTML object>"
      ]
     },
     "metadata": {},
     "output_type": "display_data"
    },
    {
     "data": {
      "text/html": [],
      "text/plain": [
       "<IPython.core.display.HTML object>"
      ]
     },
     "metadata": {},
     "output_type": "display_data"
    },
    {
     "data": {
      "text/html": [],
      "text/plain": [
       "<IPython.core.display.HTML object>"
      ]
     },
     "metadata": {},
     "output_type": "display_data"
    },
    {
     "data": {
      "text/html": [],
      "text/plain": [
       "<IPython.core.display.HTML object>"
      ]
     },
     "metadata": {},
     "output_type": "display_data"
    },
    {
     "data": {
      "text/html": [],
      "text/plain": [
       "<IPython.core.display.HTML object>"
      ]
     },
     "metadata": {},
     "output_type": "display_data"
    },
    {
     "data": {
      "text/html": [],
      "text/plain": [
       "<IPython.core.display.HTML object>"
      ]
     },
     "metadata": {},
     "output_type": "display_data"
    },
    {
     "data": {
      "text/html": [],
      "text/plain": [
       "<IPython.core.display.HTML object>"
      ]
     },
     "metadata": {},
     "output_type": "display_data"
    },
    {
     "data": {
      "text/html": [],
      "text/plain": [
       "<IPython.core.display.HTML object>"
      ]
     },
     "metadata": {},
     "output_type": "display_data"
    },
    {
     "data": {
      "text/html": [],
      "text/plain": [
       "<IPython.core.display.HTML object>"
      ]
     },
     "metadata": {},
     "output_type": "display_data"
    },
    {
     "data": {
      "text/html": [],
      "text/plain": [
       "<IPython.core.display.HTML object>"
      ]
     },
     "metadata": {},
     "output_type": "display_data"
    },
    {
     "data": {
      "text/html": [],
      "text/plain": [
       "<IPython.core.display.HTML object>"
      ]
     },
     "metadata": {},
     "output_type": "display_data"
    },
    {
     "data": {
      "text/html": [],
      "text/plain": [
       "<IPython.core.display.HTML object>"
      ]
     },
     "metadata": {},
     "output_type": "display_data"
    },
    {
     "data": {
      "text/html": [],
      "text/plain": [
       "<IPython.core.display.HTML object>"
      ]
     },
     "metadata": {},
     "output_type": "display_data"
    },
    {
     "data": {
      "text/html": [],
      "text/plain": [
       "<IPython.core.display.HTML object>"
      ]
     },
     "metadata": {},
     "output_type": "display_data"
    },
    {
     "data": {
      "text/html": [],
      "text/plain": [
       "<IPython.core.display.HTML object>"
      ]
     },
     "metadata": {},
     "output_type": "display_data"
    },
    {
     "data": {
      "text/html": [],
      "text/plain": [
       "<IPython.core.display.HTML object>"
      ]
     },
     "metadata": {},
     "output_type": "display_data"
    },
    {
     "data": {
      "text/html": [],
      "text/plain": [
       "<IPython.core.display.HTML object>"
      ]
     },
     "metadata": {},
     "output_type": "display_data"
    },
    {
     "data": {
      "text/html": [],
      "text/plain": [
       "<IPython.core.display.HTML object>"
      ]
     },
     "metadata": {},
     "output_type": "display_data"
    },
    {
     "data": {
      "text/html": [],
      "text/plain": [
       "<IPython.core.display.HTML object>"
      ]
     },
     "metadata": {},
     "output_type": "display_data"
    },
    {
     "data": {
      "text/html": [],
      "text/plain": [
       "<IPython.core.display.HTML object>"
      ]
     },
     "metadata": {},
     "output_type": "display_data"
    },
    {
     "data": {
      "text/html": [],
      "text/plain": [
       "<IPython.core.display.HTML object>"
      ]
     },
     "metadata": {},
     "output_type": "display_data"
    },
    {
     "data": {
      "text/html": [],
      "text/plain": [
       "<IPython.core.display.HTML object>"
      ]
     },
     "metadata": {},
     "output_type": "display_data"
    },
    {
     "data": {
      "text/html": [],
      "text/plain": [
       "<IPython.core.display.HTML object>"
      ]
     },
     "metadata": {},
     "output_type": "display_data"
    },
    {
     "data": {
      "text/html": [],
      "text/plain": [
       "<IPython.core.display.HTML object>"
      ]
     },
     "metadata": {},
     "output_type": "display_data"
    },
    {
     "data": {
      "text/html": [],
      "text/plain": [
       "<IPython.core.display.HTML object>"
      ]
     },
     "metadata": {},
     "output_type": "display_data"
    },
    {
     "data": {
      "text/html": [],
      "text/plain": [
       "<IPython.core.display.HTML object>"
      ]
     },
     "metadata": {},
     "output_type": "display_data"
    },
    {
     "data": {
      "text/html": [],
      "text/plain": [
       "<IPython.core.display.HTML object>"
      ]
     },
     "metadata": {},
     "output_type": "display_data"
    },
    {
     "data": {
      "text/html": [],
      "text/plain": [
       "<IPython.core.display.HTML object>"
      ]
     },
     "metadata": {},
     "output_type": "display_data"
    },
    {
     "data": {
      "text/html": [],
      "text/plain": [
       "<IPython.core.display.HTML object>"
      ]
     },
     "metadata": {},
     "output_type": "display_data"
    },
    {
     "data": {
      "text/html": [],
      "text/plain": [
       "<IPython.core.display.HTML object>"
      ]
     },
     "metadata": {},
     "output_type": "display_data"
    },
    {
     "data": {
      "text/html": [],
      "text/plain": [
       "<IPython.core.display.HTML object>"
      ]
     },
     "metadata": {},
     "output_type": "display_data"
    },
    {
     "data": {
      "text/html": [],
      "text/plain": [
       "<IPython.core.display.HTML object>"
      ]
     },
     "metadata": {},
     "output_type": "display_data"
    },
    {
     "data": {
      "text/html": [],
      "text/plain": [
       "<IPython.core.display.HTML object>"
      ]
     },
     "metadata": {},
     "output_type": "display_data"
    },
    {
     "data": {
      "text/html": [],
      "text/plain": [
       "<IPython.core.display.HTML object>"
      ]
     },
     "metadata": {},
     "output_type": "display_data"
    },
    {
     "data": {
      "text/html": [],
      "text/plain": [
       "<IPython.core.display.HTML object>"
      ]
     },
     "metadata": {},
     "output_type": "display_data"
    },
    {
     "data": {
      "text/html": [],
      "text/plain": [
       "<IPython.core.display.HTML object>"
      ]
     },
     "metadata": {},
     "output_type": "display_data"
    },
    {
     "data": {
      "text/html": [],
      "text/plain": [
       "<IPython.core.display.HTML object>"
      ]
     },
     "metadata": {},
     "output_type": "display_data"
    },
    {
     "data": {
      "text/html": [],
      "text/plain": [
       "<IPython.core.display.HTML object>"
      ]
     },
     "metadata": {},
     "output_type": "display_data"
    },
    {
     "data": {
      "text/html": [],
      "text/plain": [
       "<IPython.core.display.HTML object>"
      ]
     },
     "metadata": {},
     "output_type": "display_data"
    },
    {
     "data": {
      "text/html": [],
      "text/plain": [
       "<IPython.core.display.HTML object>"
      ]
     },
     "metadata": {},
     "output_type": "display_data"
    },
    {
     "data": {
      "text/html": [],
      "text/plain": [
       "<IPython.core.display.HTML object>"
      ]
     },
     "metadata": {},
     "output_type": "display_data"
    },
    {
     "data": {
      "text/html": [],
      "text/plain": [
       "<IPython.core.display.HTML object>"
      ]
     },
     "metadata": {},
     "output_type": "display_data"
    },
    {
     "data": {
      "text/html": [],
      "text/plain": [
       "<IPython.core.display.HTML object>"
      ]
     },
     "metadata": {},
     "output_type": "display_data"
    },
    {
     "data": {
      "text/html": [],
      "text/plain": [
       "<IPython.core.display.HTML object>"
      ]
     },
     "metadata": {},
     "output_type": "display_data"
    },
    {
     "data": {
      "text/html": [],
      "text/plain": [
       "<IPython.core.display.HTML object>"
      ]
     },
     "metadata": {},
     "output_type": "display_data"
    },
    {
     "data": {
      "text/html": [],
      "text/plain": [
       "<IPython.core.display.HTML object>"
      ]
     },
     "metadata": {},
     "output_type": "display_data"
    },
    {
     "data": {
      "text/html": [],
      "text/plain": [
       "<IPython.core.display.HTML object>"
      ]
     },
     "metadata": {},
     "output_type": "display_data"
    },
    {
     "data": {
      "text/html": [],
      "text/plain": [
       "<IPython.core.display.HTML object>"
      ]
     },
     "metadata": {},
     "output_type": "display_data"
    },
    {
     "data": {
      "text/html": [],
      "text/plain": [
       "<IPython.core.display.HTML object>"
      ]
     },
     "metadata": {},
     "output_type": "display_data"
    },
    {
     "data": {
      "text/html": [],
      "text/plain": [
       "<IPython.core.display.HTML object>"
      ]
     },
     "metadata": {},
     "output_type": "display_data"
    },
    {
     "data": {
      "text/html": [],
      "text/plain": [
       "<IPython.core.display.HTML object>"
      ]
     },
     "metadata": {},
     "output_type": "display_data"
    },
    {
     "data": {
      "text/html": [],
      "text/plain": [
       "<IPython.core.display.HTML object>"
      ]
     },
     "metadata": {},
     "output_type": "display_data"
    },
    {
     "data": {
      "text/html": [],
      "text/plain": [
       "<IPython.core.display.HTML object>"
      ]
     },
     "metadata": {},
     "output_type": "display_data"
    },
    {
     "data": {
      "text/html": [],
      "text/plain": [
       "<IPython.core.display.HTML object>"
      ]
     },
     "metadata": {},
     "output_type": "display_data"
    },
    {
     "data": {
      "text/html": [],
      "text/plain": [
       "<IPython.core.display.HTML object>"
      ]
     },
     "metadata": {},
     "output_type": "display_data"
    },
    {
     "data": {
      "text/html": [],
      "text/plain": [
       "<IPython.core.display.HTML object>"
      ]
     },
     "metadata": {},
     "output_type": "display_data"
    },
    {
     "data": {
      "text/html": [],
      "text/plain": [
       "<IPython.core.display.HTML object>"
      ]
     },
     "metadata": {},
     "output_type": "display_data"
    },
    {
     "data": {
      "text/html": [],
      "text/plain": [
       "<IPython.core.display.HTML object>"
      ]
     },
     "metadata": {},
     "output_type": "display_data"
    },
    {
     "data": {
      "text/html": [],
      "text/plain": [
       "<IPython.core.display.HTML object>"
      ]
     },
     "metadata": {},
     "output_type": "display_data"
    },
    {
     "data": {
      "text/html": [],
      "text/plain": [
       "<IPython.core.display.HTML object>"
      ]
     },
     "metadata": {},
     "output_type": "display_data"
    },
    {
     "data": {
      "text/html": [],
      "text/plain": [
       "<IPython.core.display.HTML object>"
      ]
     },
     "metadata": {},
     "output_type": "display_data"
    },
    {
     "data": {
      "text/html": [],
      "text/plain": [
       "<IPython.core.display.HTML object>"
      ]
     },
     "metadata": {},
     "output_type": "display_data"
    },
    {
     "data": {
      "text/html": [],
      "text/plain": [
       "<IPython.core.display.HTML object>"
      ]
     },
     "metadata": {},
     "output_type": "display_data"
    },
    {
     "data": {
      "text/html": [],
      "text/plain": [
       "<IPython.core.display.HTML object>"
      ]
     },
     "metadata": {},
     "output_type": "display_data"
    },
    {
     "data": {
      "text/html": [],
      "text/plain": [
       "<IPython.core.display.HTML object>"
      ]
     },
     "metadata": {},
     "output_type": "display_data"
    },
    {
     "data": {
      "text/html": [],
      "text/plain": [
       "<IPython.core.display.HTML object>"
      ]
     },
     "metadata": {},
     "output_type": "display_data"
    },
    {
     "data": {
      "text/html": [],
      "text/plain": [
       "<IPython.core.display.HTML object>"
      ]
     },
     "metadata": {},
     "output_type": "display_data"
    },
    {
     "data": {
      "text/html": [],
      "text/plain": [
       "<IPython.core.display.HTML object>"
      ]
     },
     "metadata": {},
     "output_type": "display_data"
    },
    {
     "data": {
      "text/html": [],
      "text/plain": [
       "<IPython.core.display.HTML object>"
      ]
     },
     "metadata": {},
     "output_type": "display_data"
    },
    {
     "data": {
      "text/html": [],
      "text/plain": [
       "<IPython.core.display.HTML object>"
      ]
     },
     "metadata": {},
     "output_type": "display_data"
    },
    {
     "data": {
      "text/html": [],
      "text/plain": [
       "<IPython.core.display.HTML object>"
      ]
     },
     "metadata": {},
     "output_type": "display_data"
    },
    {
     "data": {
      "text/html": [],
      "text/plain": [
       "<IPython.core.display.HTML object>"
      ]
     },
     "metadata": {},
     "output_type": "display_data"
    },
    {
     "data": {
      "text/html": [],
      "text/plain": [
       "<IPython.core.display.HTML object>"
      ]
     },
     "metadata": {},
     "output_type": "display_data"
    },
    {
     "data": {
      "text/html": [],
      "text/plain": [
       "<IPython.core.display.HTML object>"
      ]
     },
     "metadata": {},
     "output_type": "display_data"
    },
    {
     "data": {
      "text/html": [],
      "text/plain": [
       "<IPython.core.display.HTML object>"
      ]
     },
     "metadata": {},
     "output_type": "display_data"
    },
    {
     "data": {
      "text/html": [],
      "text/plain": [
       "<IPython.core.display.HTML object>"
      ]
     },
     "metadata": {},
     "output_type": "display_data"
    },
    {
     "data": {
      "text/html": [],
      "text/plain": [
       "<IPython.core.display.HTML object>"
      ]
     },
     "metadata": {},
     "output_type": "display_data"
    },
    {
     "data": {
      "text/html": [],
      "text/plain": [
       "<IPython.core.display.HTML object>"
      ]
     },
     "metadata": {},
     "output_type": "display_data"
    },
    {
     "data": {
      "text/html": [],
      "text/plain": [
       "<IPython.core.display.HTML object>"
      ]
     },
     "metadata": {},
     "output_type": "display_data"
    },
    {
     "data": {
      "text/html": [],
      "text/plain": [
       "<IPython.core.display.HTML object>"
      ]
     },
     "metadata": {},
     "output_type": "display_data"
    },
    {
     "data": {
      "text/html": [],
      "text/plain": [
       "<IPython.core.display.HTML object>"
      ]
     },
     "metadata": {},
     "output_type": "display_data"
    },
    {
     "data": {
      "text/html": [],
      "text/plain": [
       "<IPython.core.display.HTML object>"
      ]
     },
     "metadata": {},
     "output_type": "display_data"
    },
    {
     "data": {
      "text/html": [],
      "text/plain": [
       "<IPython.core.display.HTML object>"
      ]
     },
     "metadata": {},
     "output_type": "display_data"
    },
    {
     "data": {
      "text/html": [],
      "text/plain": [
       "<IPython.core.display.HTML object>"
      ]
     },
     "metadata": {},
     "output_type": "display_data"
    },
    {
     "data": {
      "text/html": [],
      "text/plain": [
       "<IPython.core.display.HTML object>"
      ]
     },
     "metadata": {},
     "output_type": "display_data"
    },
    {
     "data": {
      "text/html": [],
      "text/plain": [
       "<IPython.core.display.HTML object>"
      ]
     },
     "metadata": {},
     "output_type": "display_data"
    },
    {
     "data": {
      "text/html": [],
      "text/plain": [
       "<IPython.core.display.HTML object>"
      ]
     },
     "metadata": {},
     "output_type": "display_data"
    },
    {
     "data": {
      "text/html": [],
      "text/plain": [
       "<IPython.core.display.HTML object>"
      ]
     },
     "metadata": {},
     "output_type": "display_data"
    },
    {
     "data": {
      "text/html": [],
      "text/plain": [
       "<IPython.core.display.HTML object>"
      ]
     },
     "metadata": {},
     "output_type": "display_data"
    },
    {
     "data": {
      "text/html": [],
      "text/plain": [
       "<IPython.core.display.HTML object>"
      ]
     },
     "metadata": {},
     "output_type": "display_data"
    },
    {
     "data": {
      "text/html": [],
      "text/plain": [
       "<IPython.core.display.HTML object>"
      ]
     },
     "metadata": {},
     "output_type": "display_data"
    },
    {
     "data": {
      "text/html": [],
      "text/plain": [
       "<IPython.core.display.HTML object>"
      ]
     },
     "metadata": {},
     "output_type": "display_data"
    },
    {
     "data": {
      "text/html": [],
      "text/plain": [
       "<IPython.core.display.HTML object>"
      ]
     },
     "metadata": {},
     "output_type": "display_data"
    },
    {
     "data": {
      "text/html": [],
      "text/plain": [
       "<IPython.core.display.HTML object>"
      ]
     },
     "metadata": {},
     "output_type": "display_data"
    },
    {
     "data": {
      "text/html": [],
      "text/plain": [
       "<IPython.core.display.HTML object>"
      ]
     },
     "metadata": {},
     "output_type": "display_data"
    },
    {
     "data": {
      "text/html": [],
      "text/plain": [
       "<IPython.core.display.HTML object>"
      ]
     },
     "metadata": {},
     "output_type": "display_data"
    },
    {
     "data": {
      "text/html": [],
      "text/plain": [
       "<IPython.core.display.HTML object>"
      ]
     },
     "metadata": {},
     "output_type": "display_data"
    },
    {
     "data": {
      "text/html": [],
      "text/plain": [
       "<IPython.core.display.HTML object>"
      ]
     },
     "metadata": {},
     "output_type": "display_data"
    },
    {
     "data": {
      "text/html": [],
      "text/plain": [
       "<IPython.core.display.HTML object>"
      ]
     },
     "metadata": {},
     "output_type": "display_data"
    },
    {
     "data": {
      "text/html": [],
      "text/plain": [
       "<IPython.core.display.HTML object>"
      ]
     },
     "metadata": {},
     "output_type": "display_data"
    },
    {
     "data": {
      "text/html": [],
      "text/plain": [
       "<IPython.core.display.HTML object>"
      ]
     },
     "metadata": {},
     "output_type": "display_data"
    },
    {
     "data": {
      "text/html": [],
      "text/plain": [
       "<IPython.core.display.HTML object>"
      ]
     },
     "metadata": {},
     "output_type": "display_data"
    },
    {
     "data": {
      "text/html": [],
      "text/plain": [
       "<IPython.core.display.HTML object>"
      ]
     },
     "metadata": {},
     "output_type": "display_data"
    },
    {
     "data": {
      "text/html": [],
      "text/plain": [
       "<IPython.core.display.HTML object>"
      ]
     },
     "metadata": {},
     "output_type": "display_data"
    },
    {
     "data": {
      "text/html": [],
      "text/plain": [
       "<IPython.core.display.HTML object>"
      ]
     },
     "metadata": {},
     "output_type": "display_data"
    },
    {
     "data": {
      "text/html": [],
      "text/plain": [
       "<IPython.core.display.HTML object>"
      ]
     },
     "metadata": {},
     "output_type": "display_data"
    },
    {
     "data": {
      "text/html": [],
      "text/plain": [
       "<IPython.core.display.HTML object>"
      ]
     },
     "metadata": {},
     "output_type": "display_data"
    },
    {
     "data": {
      "text/html": [],
      "text/plain": [
       "<IPython.core.display.HTML object>"
      ]
     },
     "metadata": {},
     "output_type": "display_data"
    },
    {
     "data": {
      "text/html": [],
      "text/plain": [
       "<IPython.core.display.HTML object>"
      ]
     },
     "metadata": {},
     "output_type": "display_data"
    },
    {
     "data": {
      "text/html": [],
      "text/plain": [
       "<IPython.core.display.HTML object>"
      ]
     },
     "metadata": {},
     "output_type": "display_data"
    },
    {
     "data": {
      "text/html": [],
      "text/plain": [
       "<IPython.core.display.HTML object>"
      ]
     },
     "metadata": {},
     "output_type": "display_data"
    },
    {
     "data": {
      "text/html": [],
      "text/plain": [
       "<IPython.core.display.HTML object>"
      ]
     },
     "metadata": {},
     "output_type": "display_data"
    },
    {
     "data": {
      "text/html": [],
      "text/plain": [
       "<IPython.core.display.HTML object>"
      ]
     },
     "metadata": {},
     "output_type": "display_data"
    },
    {
     "data": {
      "text/html": [],
      "text/plain": [
       "<IPython.core.display.HTML object>"
      ]
     },
     "metadata": {},
     "output_type": "display_data"
    },
    {
     "data": {
      "text/html": [],
      "text/plain": [
       "<IPython.core.display.HTML object>"
      ]
     },
     "metadata": {},
     "output_type": "display_data"
    },
    {
     "data": {
      "text/html": [],
      "text/plain": [
       "<IPython.core.display.HTML object>"
      ]
     },
     "metadata": {},
     "output_type": "display_data"
    },
    {
     "data": {
      "text/html": [],
      "text/plain": [
       "<IPython.core.display.HTML object>"
      ]
     },
     "metadata": {},
     "output_type": "display_data"
    },
    {
     "data": {
      "text/html": [],
      "text/plain": [
       "<IPython.core.display.HTML object>"
      ]
     },
     "metadata": {},
     "output_type": "display_data"
    },
    {
     "data": {
      "text/html": [],
      "text/plain": [
       "<IPython.core.display.HTML object>"
      ]
     },
     "metadata": {},
     "output_type": "display_data"
    },
    {
     "data": {
      "text/html": [],
      "text/plain": [
       "<IPython.core.display.HTML object>"
      ]
     },
     "metadata": {},
     "output_type": "display_data"
    },
    {
     "data": {
      "text/html": [],
      "text/plain": [
       "<IPython.core.display.HTML object>"
      ]
     },
     "metadata": {},
     "output_type": "display_data"
    },
    {
     "data": {
      "text/html": [],
      "text/plain": [
       "<IPython.core.display.HTML object>"
      ]
     },
     "metadata": {},
     "output_type": "display_data"
    },
    {
     "data": {
      "text/html": [],
      "text/plain": [
       "<IPython.core.display.HTML object>"
      ]
     },
     "metadata": {},
     "output_type": "display_data"
    },
    {
     "data": {
      "text/html": [],
      "text/plain": [
       "<IPython.core.display.HTML object>"
      ]
     },
     "metadata": {},
     "output_type": "display_data"
    },
    {
     "data": {
      "text/html": [],
      "text/plain": [
       "<IPython.core.display.HTML object>"
      ]
     },
     "metadata": {},
     "output_type": "display_data"
    },
    {
     "data": {
      "text/html": [],
      "text/plain": [
       "<IPython.core.display.HTML object>"
      ]
     },
     "metadata": {},
     "output_type": "display_data"
    },
    {
     "data": {
      "text/html": [],
      "text/plain": [
       "<IPython.core.display.HTML object>"
      ]
     },
     "metadata": {},
     "output_type": "display_data"
    },
    {
     "data": {
      "text/html": [],
      "text/plain": [
       "<IPython.core.display.HTML object>"
      ]
     },
     "metadata": {},
     "output_type": "display_data"
    },
    {
     "data": {
      "text/html": [],
      "text/plain": [
       "<IPython.core.display.HTML object>"
      ]
     },
     "metadata": {},
     "output_type": "display_data"
    },
    {
     "data": {
      "text/html": [],
      "text/plain": [
       "<IPython.core.display.HTML object>"
      ]
     },
     "metadata": {},
     "output_type": "display_data"
    },
    {
     "data": {
      "text/html": [],
      "text/plain": [
       "<IPython.core.display.HTML object>"
      ]
     },
     "metadata": {},
     "output_type": "display_data"
    },
    {
     "data": {
      "text/html": [],
      "text/plain": [
       "<IPython.core.display.HTML object>"
      ]
     },
     "metadata": {},
     "output_type": "display_data"
    },
    {
     "data": {
      "text/html": [],
      "text/plain": [
       "<IPython.core.display.HTML object>"
      ]
     },
     "metadata": {},
     "output_type": "display_data"
    },
    {
     "data": {
      "text/html": [],
      "text/plain": [
       "<IPython.core.display.HTML object>"
      ]
     },
     "metadata": {},
     "output_type": "display_data"
    },
    {
     "data": {
      "text/html": [],
      "text/plain": [
       "<IPython.core.display.HTML object>"
      ]
     },
     "metadata": {},
     "output_type": "display_data"
    },
    {
     "data": {
      "text/html": [],
      "text/plain": [
       "<IPython.core.display.HTML object>"
      ]
     },
     "metadata": {},
     "output_type": "display_data"
    },
    {
     "data": {
      "text/html": [],
      "text/plain": [
       "<IPython.core.display.HTML object>"
      ]
     },
     "metadata": {},
     "output_type": "display_data"
    },
    {
     "data": {
      "text/html": [],
      "text/plain": [
       "<IPython.core.display.HTML object>"
      ]
     },
     "metadata": {},
     "output_type": "display_data"
    },
    {
     "data": {
      "text/html": [],
      "text/plain": [
       "<IPython.core.display.HTML object>"
      ]
     },
     "metadata": {},
     "output_type": "display_data"
    },
    {
     "data": {
      "text/html": [],
      "text/plain": [
       "<IPython.core.display.HTML object>"
      ]
     },
     "metadata": {},
     "output_type": "display_data"
    },
    {
     "data": {
      "text/html": [],
      "text/plain": [
       "<IPython.core.display.HTML object>"
      ]
     },
     "metadata": {},
     "output_type": "display_data"
    },
    {
     "data": {
      "text/html": [],
      "text/plain": [
       "<IPython.core.display.HTML object>"
      ]
     },
     "metadata": {},
     "output_type": "display_data"
    },
    {
     "data": {
      "text/html": [],
      "text/plain": [
       "<IPython.core.display.HTML object>"
      ]
     },
     "metadata": {},
     "output_type": "display_data"
    },
    {
     "data": {
      "text/html": [],
      "text/plain": [
       "<IPython.core.display.HTML object>"
      ]
     },
     "metadata": {},
     "output_type": "display_data"
    },
    {
     "data": {
      "text/html": [],
      "text/plain": [
       "<IPython.core.display.HTML object>"
      ]
     },
     "metadata": {},
     "output_type": "display_data"
    },
    {
     "data": {
      "text/html": [],
      "text/plain": [
       "<IPython.core.display.HTML object>"
      ]
     },
     "metadata": {},
     "output_type": "display_data"
    },
    {
     "data": {
      "text/html": [],
      "text/plain": [
       "<IPython.core.display.HTML object>"
      ]
     },
     "metadata": {},
     "output_type": "display_data"
    },
    {
     "data": {
      "text/html": [],
      "text/plain": [
       "<IPython.core.display.HTML object>"
      ]
     },
     "metadata": {},
     "output_type": "display_data"
    },
    {
     "data": {
      "text/html": [],
      "text/plain": [
       "<IPython.core.display.HTML object>"
      ]
     },
     "metadata": {},
     "output_type": "display_data"
    },
    {
     "data": {
      "text/html": [],
      "text/plain": [
       "<IPython.core.display.HTML object>"
      ]
     },
     "metadata": {},
     "output_type": "display_data"
    },
    {
     "data": {
      "text/html": [],
      "text/plain": [
       "<IPython.core.display.HTML object>"
      ]
     },
     "metadata": {},
     "output_type": "display_data"
    },
    {
     "data": {
      "text/html": [],
      "text/plain": [
       "<IPython.core.display.HTML object>"
      ]
     },
     "metadata": {},
     "output_type": "display_data"
    },
    {
     "data": {
      "text/html": [],
      "text/plain": [
       "<IPython.core.display.HTML object>"
      ]
     },
     "metadata": {},
     "output_type": "display_data"
    }
   ],
   "source": [
    "# tables_types = ttp.predict(paper, paper.tables)\n",
    "#         for table, table_type in zip(paper.tables, tables_types):\n",
    "#             table.gold_tags = table_labels[table_type]\n",
    "#             table_info[k].append(table.gold_tags)\n",
    "zero_tables = []\n",
    "table_info = {}\n",
    "# save_new_labels = {}\n",
    "\n",
    "diff_labels = [\"leaderboard\", \"ablation\", \"irrelevant\"]\n",
    "\n",
    "for k in table_types_absent:\n",
    "    arxivid = iclr_arxiv_map[k][\"arxivId\"]\n",
    "    paper = pc.get_by_id(arxivid)\n",
    "    \n",
    "    if len(paper.tables) > 0:\n",
    "        if paper.tables[0].gold_tags.strip() == \"\":\n",
    "            table_info[k] = []\n",
    "            \n",
    "            tables_types = ttp.predict(paper, paper.tables)\n",
    "            \n",
    "            for table, table_type in zip(paper.tables, tables_types):\n",
    "                table.gold_tags = table_labels[table_type]\n",
    "                table_info[k].append(table.gold_tags)\n",
    "                \n",
    "        elif paper.tables[0].gold_tags.strip() in diff_labels:\n",
    "            continue\n",
    "        else:\n",
    "            print(\"Something table label found for k:{} as: {}!\".format(k, paper.tables[0].gold_tags))\n",
    "    else:\n",
    "        zero_tables.append(k)"
   ]
  },
  {
   "cell_type": "code",
   "execution_count": null,
   "metadata": {},
   "outputs": [],
   "source": []
  },
  {
   "cell_type": "code",
   "execution_count": 247,
   "metadata": {},
   "outputs": [
    {
     "data": {
      "text/plain": [
       "'1806.03852v1'"
      ]
     },
     "execution_count": 247,
     "metadata": {},
     "output_type": "execute_result"
    }
   ],
   "source": [
    "iclr_arxiv_map[\"2018_ByJWeR1AW\"][\"arxivId\"]"
   ]
  },
  {
   "cell_type": "code",
   "execution_count": 248,
   "metadata": {},
   "outputs": [
    {
     "name": "stdout",
     "output_type": "stream",
     "text": [
      "9\n"
     ]
    },
    {
     "data": {
      "text/html": [],
      "text/plain": [
       "<IPython.core.display.HTML object>"
      ]
     },
     "metadata": {},
     "output_type": "display_data"
    },
    {
     "data": {
      "text/html": [],
      "text/plain": [
       "<IPython.core.display.HTML object>"
      ]
     },
     "metadata": {},
     "output_type": "display_data"
    },
    {
     "name": "stdout",
     "output_type": "stream",
     "text": [
      "[<TableType.ABLATION: 1>, <TableType.ABLATION: 1>, <TableType.IRRELEVANT: 2>, <TableType.IRRELEVANT: 2>, <TableType.ABLATION: 1>, <TableType.ABLATION: 1>, <TableType.SOTA: 0>, <TableType.ABLATION: 1>, <TableType.IRRELEVANT: 2>]\n"
     ]
    }
   ],
   "source": [
    "paper = pc.get_by_id(\"1806.03852v1\")\n",
    "print(len(paper.tables))\n",
    "tables_types = ttp.predict(paper, paper.tables)\n",
    "print(tables_types)"
   ]
  },
  {
   "cell_type": "code",
   "execution_count": 174,
   "metadata": {},
   "outputs": [
    {
     "data": {
      "text/plain": [
       "(0, 2162)"
      ]
     },
     "execution_count": 174,
     "metadata": {},
     "output_type": "execute_result"
    }
   ],
   "source": [
    "len(zero_tables), len(table_info)"
   ]
  },
  {
   "cell_type": "markdown",
   "metadata": {},
   "source": [
    "#### 1.3 UPdate section 1.1 again using new table label info"
   ]
  },
  {
   "cell_type": "code",
   "execution_count": 241,
   "metadata": {},
   "outputs": [],
   "source": [
    "unextracted_papers = []\n",
    "still_table_types_absent = []\n",
    "new_table_counts = defaultdict(dict)\n",
    "new_zero_counts = defaultdict(dict)\n",
    "\n",
    "status_count = 0"
   ]
  },
  {
   "cell_type": "code",
   "execution_count": 242,
   "metadata": {},
   "outputs": [
    {
     "name": "stdout",
     "output_type": "stream",
     "text": [
      "Status:  0\n",
      "Status:  100\n",
      "Status:  200\n",
      "For k: 2018_ByJWeR1AW, found unknown table type: \n",
      "For k: 2018_ByJWeR1AW, found unknown table type: \n",
      "Status:  300\n",
      "Status:  400\n",
      "Status:  500\n",
      "Status:  500\n",
      "Status:  600\n",
      "Status:  700\n",
      "Status:  800\n",
      "Status:  900\n",
      "Status:  900\n",
      "Status:  1000\n",
      "Status:  1100\n",
      "Status:  1200\n",
      "Status:  1300\n",
      "Status:  1400\n",
      "For k: 2020_H1eqOnNYDH, found unknown table type: \n",
      "For k: 2020_H1eqOnNYDH, found unknown table type: \n",
      "Status:  1500\n",
      "Status:  1600\n",
      "Status:  1700\n",
      "Status:  1800\n",
      "Status:  1900\n"
     ]
    }
   ],
   "source": [
    "for k, v in iclr_arxiv_map.items():\n",
    "    if v[\"found\"]:\n",
    "        if status_count % 100 == 0:\n",
    "            print(\"Status: \", status_count)\n",
    "\n",
    "        try:\n",
    "            path_split = v[\"arxivId\"].split(\".\")\n",
    "\n",
    "            # Extraction\n",
    "            #extract(SOURCES_PATH / path_split[0] / v[\"arxivId\"])\n",
    "\n",
    "            paper = pc.get_by_id(v[\"arxivId\"])\n",
    "\n",
    "            if not paper:\n",
    "                unextracted_papers.append(k)\n",
    "                continue\n",
    "\n",
    "            if len(paper.tables) > 0:                    \n",
    "                # Add table type if absent\n",
    "                if paper.tables[0].gold_tags == \"\":\n",
    "                    if k in table_label_info:\n",
    "                        for idx, t in enumerate(paper.tables):\n",
    "                            t.gold_tags = table_label_info[k][idx]\n",
    "                    else:\n",
    "                        if k in table_info:\n",
    "                            for idx, t in enumerate(paper.tables):\n",
    "                                t.gold_tags = table_info[k][idx]\n",
    "                        else:\n",
    "                            still_table_types_absent.append(k)\n",
    "                            continue\n",
    "\n",
    "                #Count the different types of tables\n",
    "                table_type_count = [0, 0, 0]\n",
    "                for tt in paper.tables:\n",
    "                    if tt.gold_tags.lower().strip() == \"leaderboard\":\n",
    "                        table_type_count[0] = table_type_count[0] + 1\n",
    "                    elif tt.gold_tags.lower().strip() == \"ablation\":\n",
    "                        table_type_count[1] = table_type_count[1] + 1\n",
    "                    elif tt.gold_tags.lower().strip() == \"irrelevant\":\n",
    "                        table_type_count[2] = table_type_count[2] + 1\n",
    "                    else:\n",
    "                        print(\"For k: {}, found unknown table type: {}\".format(k, tt.gold_tags))\n",
    "\n",
    "                # Save table stat in leaderboard_table_refs\n",
    "                new_table_counts[k][\"tcount\"] = [len(paper.tables), table_type_count[0], table_type_count[1], table_type_count[2]]\n",
    "            else:\n",
    "                new_zero_table_counts[k][\"tcount\"] = [0, 0, 0, 0]\n",
    "            \n",
    "            if k in new_table_counts:\n",
    "                new_table_counts[k][\"table_labels\"] = []\n",
    "                for tablerol in paper.tables:\n",
    "                    new_table_counts[k][\"table_labels\"].append((tablerol.gold_tags,))\n",
    "                status_count += 1\n",
    "        except Exception as ex:\n",
    "            print(k, ex)"
   ]
  },
  {
   "cell_type": "code",
   "execution_count": 243,
   "metadata": {},
   "outputs": [
    {
     "name": "stdout",
     "output_type": "stream",
     "text": [
      "1988 387 129 0\n"
     ]
    }
   ],
   "source": [
    "print(len(list(new_table_counts.keys())), len(new_zero_table_counts.keys()), len(unextracted_papers), len(still_table_types_absent))"
   ]
  },
  {
   "cell_type": "code",
   "execution_count": 244,
   "metadata": {},
   "outputs": [
    {
     "data": {
      "text/plain": [
       "2504"
      ]
     },
     "execution_count": 244,
     "metadata": {},
     "output_type": "execute_result"
    }
   ],
   "source": [
    "1988+387+129"
   ]
  },
  {
   "cell_type": "code",
   "execution_count": null,
   "metadata": {},
   "outputs": [],
   "source": []
  },
  {
   "cell_type": "markdown",
   "metadata": {},
   "source": [
    "#### 1.4 Save this new leaderboard_table_refs"
   ]
  },
  {
   "cell_type": "code",
   "execution_count": 292,
   "metadata": {},
   "outputs": [],
   "source": [
    "with open(\"leaderboard_table_refs.pkl\", \"wb\") as f:\n",
    "    pickle.dump(new_table_counts, f)"
   ]
  },
  {
   "cell_type": "code",
   "execution_count": null,
   "metadata": {},
   "outputs": [],
   "source": []
  },
  {
   "cell_type": "code",
   "execution_count": 245,
   "metadata": {},
   "outputs": [
    {
     "name": "stdout",
     "output_type": "stream",
     "text": [
      "1988\n"
     ]
    },
    {
     "data": {
      "text/plain": [
       "('2017_B1-Hhnslg',\n",
       " {'tcount': [6, 4, 2, 0],\n",
       "  'table_labels': [('leaderboard',),\n",
       "   ('leaderboard',),\n",
       "   ('leaderboard',),\n",
       "   ('ablation',),\n",
       "   ('leaderboard',),\n",
       "   ('ablation',)]})"
      ]
     },
     "execution_count": 245,
     "metadata": {},
     "output_type": "execute_result"
    }
   ],
   "source": [
    "print(len(new_table_counts))\n",
    "list(new_table_counts.items())[0]"
   ]
  },
  {
   "cell_type": "code",
   "execution_count": 164,
   "metadata": {},
   "outputs": [
    {
     "name": "stdout",
     "output_type": "stream",
     "text": [
      "1181\n"
     ]
    },
    {
     "data": {
      "text/plain": [
       "('2017_B1-Hhnslg',\n",
       " {'tcount': [6, 4, 2, 0],\n",
       "  'table_labels': [('leaderboard',),\n",
       "   ('leaderboard',),\n",
       "   ('leaderboard',),\n",
       "   ('ablation',),\n",
       "   ('leaderboard',),\n",
       "   ('ablation',)]})"
      ]
     },
     "execution_count": 164,
     "metadata": {},
     "output_type": "execute_result"
    }
   ],
   "source": [
    "print(len(leaderboard_table_refs))\n",
    "list(leaderboard_table_refs.items())[0]"
   ]
  },
  {
   "cell_type": "code",
   "execution_count": null,
   "metadata": {},
   "outputs": [],
   "source": []
  },
  {
   "cell_type": "markdown",
   "metadata": {},
   "source": [
    "#### 1.5 Collate with the old and save the new table labels from ttp"
   ]
  },
  {
   "cell_type": "code",
   "execution_count": 166,
   "metadata": {},
   "outputs": [
    {
     "data": {
      "text/plain": [
       "(967, 1195)"
      ]
     },
     "execution_count": 166,
     "metadata": {},
     "output_type": "execute_result"
    }
   ],
   "source": [
    "len(table_label_info), len(table_info) #old, new"
   ]
  },
  {
   "cell_type": "code",
   "execution_count": 169,
   "metadata": {},
   "outputs": [
    {
     "data": {
      "text/plain": [
       "([('2017_B1-Hhnslg',\n",
       "   ['leaderboard',\n",
       "    'leaderboard',\n",
       "    'leaderboard',\n",
       "    'ablation',\n",
       "    'leaderboard',\n",
       "    'ablation']),\n",
       "  ('2017_B1-q5Pqxl', ['irrelevant', 'leaderboard'])],\n",
       " [('2017_B1s6xvqlx', ['irrelevant']), ('2019_H1x-x309tm', ['irrelevant'])])"
      ]
     },
     "execution_count": 169,
     "metadata": {},
     "output_type": "execute_result"
    }
   ],
   "source": [
    "list(table_label_info.items())[0:2], list(table_info.items())[0:2]"
   ]
  },
  {
   "cell_type": "code",
   "execution_count": 194,
   "metadata": {},
   "outputs": [],
   "source": [
    "collated_table_labels = table_info\n",
    "\n",
    "for k in table_label_info:\n",
    "    if k in collated_table_labels:\n",
    "        if len(collated_table_labels[k])==len(table_label_info[k]) and collated_table_labels[k] == table_label_info[k]:\n",
    "            continue\n",
    "        else:\n",
    "            print(k)\n",
    "    else:\n",
    "        collated_table_labels[k] = table_label_info[k]"
   ]
  },
  {
   "cell_type": "code",
   "execution_count": 246,
   "metadata": {},
   "outputs": [
    {
     "name": "stdout",
     "output_type": "stream",
     "text": [
      "2162 1985\n"
     ]
    }
   ],
   "source": [
    "nonzero = 0\n",
    "for k in collated_table_labels:\n",
    "    if collated_table_labels[k]:\n",
    "        nonzero +=1\n",
    "print(len(collated_table_labels), nonzero)"
   ]
  },
  {
   "cell_type": "code",
   "execution_count": 250,
   "metadata": {},
   "outputs": [
    {
     "data": {
      "text/plain": [
       "{'2019_SJz6MnC5YQ', '2019_SyehMhC9Y7', '2019_rklwwo05Ym'}"
      ]
     },
     "execution_count": 250,
     "metadata": {},
     "output_type": "execute_result"
    }
   ],
   "source": [
    "set(list(new_table_counts.keys()))-set(list(collated_table_labels.keys()))"
   ]
  },
  {
   "cell_type": "code",
   "execution_count": 254,
   "metadata": {},
   "outputs": [
    {
     "data": {
      "text/plain": [
       "{'tcount': [5, 1, 4, 0],\n",
       " 'table_labels': [('ablation',),\n",
       "  ('ablation',),\n",
       "  ('ablation',),\n",
       "  ('ablation',),\n",
       "  ('leaderboard',)]}"
      ]
     },
     "execution_count": 254,
     "metadata": {},
     "output_type": "execute_result"
    }
   ],
   "source": [
    "new_table_counts[\"2019_rklwwo05Ym\"]"
   ]
  },
  {
   "cell_type": "code",
   "execution_count": 256,
   "metadata": {},
   "outputs": [],
   "source": [
    "for k in ['2019_SJz6MnC5YQ', '2019_SyehMhC9Y7', '2019_rklwwo05Ym']:\n",
    "    collated_table_labels[k] = []\n",
    "    for l in new_table_counts[k][\"table_labels\"]:\n",
    "        collated_table_labels[k].append(l[0])"
   ]
  },
  {
   "cell_type": "code",
   "execution_count": 259,
   "metadata": {},
   "outputs": [
    {
     "name": "stdout",
     "output_type": "stream",
     "text": [
      "2165 1988\n"
     ]
    }
   ],
   "source": [
    "nonzero = 0\n",
    "for k in collated_table_labels:\n",
    "    if collated_table_labels[k]:\n",
    "        nonzero +=1\n",
    "print(len(collated_table_labels), nonzero)\n",
    "# NOte that there are some 0 table entries in collated_table_labels"
   ]
  },
  {
   "cell_type": "code",
   "execution_count": 260,
   "metadata": {},
   "outputs": [],
   "source": [
    "with open(\"TABLE_Label_predicted.pkl\", \"wb\") as f:\n",
    "    pickle.dump(collated_table_labels, f)"
   ]
  },
  {
   "cell_type": "code",
   "execution_count": null,
   "metadata": {},
   "outputs": [],
   "source": []
  },
  {
   "cell_type": "code",
   "execution_count": null,
   "metadata": {},
   "outputs": [],
   "source": []
  },
  {
   "cell_type": "markdown",
   "metadata": {},
   "source": [
    "#### 2. Find already extracted ref from table cells and what is left"
   ]
  },
  {
   "cell_type": "code",
   "execution_count": 293,
   "metadata": {},
   "outputs": [
    {
     "name": "stdout",
     "output_type": "stream",
     "text": [
      "1988\n"
     ]
    }
   ],
   "source": [
    "with open(\"leaderboard_table_refs.pkl\", \"rb\") as some_file:\n",
    "    leaderboard_table_refs = pickle.load(some_file)\n",
    "print(len(leaderboard_table_refs))"
   ]
  },
  {
   "cell_type": "code",
   "execution_count": 298,
   "metadata": {},
   "outputs": [],
   "source": [
    "success = 0\n",
    "refs_0 = 0\n",
    "count_0 = 0\n",
    "null_0 = 0\n",
    "\n",
    "for k in leaderboard_table_refs:\n",
    "    if k in NEW_leaderboard_refs:\n",
    "        if \"count\" in NEW_leaderboard_refs[k]:\n",
    "            if NEW_leaderboard_refs[k][\"count\"] > 0:\n",
    "                success += 1\n",
    "            else:\n",
    "                refs_0 += 1\n",
    "        else:\n",
    "            count_0 +=1\n",
    "    else:\n",
    "        null_0 +=1"
   ]
  },
  {
   "cell_type": "code",
   "execution_count": 299,
   "metadata": {},
   "outputs": [
    {
     "data": {
      "text/plain": [
       "(229, 459, 0, 1300)"
      ]
     },
     "execution_count": 299,
     "metadata": {},
     "output_type": "execute_result"
    }
   ],
   "source": [
    "success, refs_0, count_0, null0"
   ]
  },
  {
   "cell_type": "code",
   "execution_count": 323,
   "metadata": {},
   "outputs": [
    {
     "name": "stdout",
     "output_type": "stream",
     "text": [
      "58\n",
      "1299\n"
     ]
    }
   ],
   "source": [
    "tot = 0 #(should end in 459 or more probably now after 2.1)\n",
    "new_counts = 0\n",
    "\n",
    "for k in leaderboard_table_refs:\n",
    "    if k in NEW_leaderboard_refs and \"count\" in NEW_leaderboard_refs[k]:\n",
    "        if NEW_leaderboard_refs[k][\"count\"] == 0:\n",
    "            tot += 1\n",
    "            if \"refs\" in NEW_leaderboard_refs[k] and \"abl\" in NEW_leaderboard_refs[k][\"refs\"] and len(NEW_leaderboard_refs[k][\"refs\"][\"abl\"]) > 0:\n",
    "                new_counts +=1\n",
    "print(new_counts)\n",
    "print(tot)"
   ]
  },
  {
   "cell_type": "code",
   "execution_count": 324,
   "metadata": {},
   "outputs": [
    {
     "name": "stdout",
     "output_type": "stream",
     "text": [
      "270\n"
     ]
    }
   ],
   "source": [
    "null_0 = 0\n",
    "for k in leaderboard_table_refs:\n",
    "    if not k in NEW_leaderboard_refs:\n",
    "        null_0 +=1\n",
    "print(null_0) #should show some dec from org count of 2300 after running Sec 2.1"
   ]
  },
  {
   "cell_type": "markdown",
   "metadata": {},
   "source": [
    "#### 2.1 Run the previous extraction (from table cells) for papers for which extraction failed earlier"
   ]
  },
  {
   "cell_type": "code",
   "execution_count": 317,
   "metadata": {},
   "outputs": [],
   "source": [
    "status_count = 0\n",
    "err_count = 0\n",
    "unext_papers = []\n",
    "errs_ids = []"
   ]
  },
  {
   "cell_type": "code",
   "execution_count": 318,
   "metadata": {
    "collapsed": true
   },
   "outputs": [
    {
     "name": "stdout",
     "output_type": "stream",
     "text": [
      "Status:  0\n",
      "Status:  10\n",
      "Status:  20\n",
      "Status:  30\n",
      "Status:  40\n",
      "Status:  50\n",
      "Status:  60\n",
      "Status:  70\n",
      "Status:  80\n",
      "Status:  90\n",
      "Status:  100\n",
      "Status:  110\n",
      "Status:  120\n",
      "Status:  130\n",
      "Status:  140\n",
      "Status:  150\n",
      "Status:  160\n",
      "Status:  170\n",
      "Status:  180\n",
      "Status:  190\n",
      "Status:  200\n",
      "Status:  210\n",
      "Status:  220\n",
      "Status:  230\n",
      "Status:  240\n",
      "Status:  250\n",
      "Status:  260\n",
      "Status:  270\n",
      "Status:  280\n",
      "Status:  290\n",
      "Status:  300\n",
      "Status:  310\n",
      "Status:  320\n",
      "Status:  330\n",
      "Status:  340\n",
      "Status:  350\n",
      "Status:  360\n",
      "Status:  370\n",
      "Status:  380\n",
      "Status:  390\n",
      "Status:  400\n",
      "Status:  410\n",
      "Status:  420\n",
      "Status:  430\n",
      "Status:  440\n",
      "Status:  450\n",
      "Status:  460\n",
      "Status:  470\n",
      "Status:  480\n",
      "Status:  490\n",
      "Status:  500\n",
      "Status:  510\n",
      "Status:  520\n",
      "Status:  530\n",
      "Status:  540\n",
      "Status:  550\n",
      "Status:  560\n",
      "Status:  570\n",
      "Status:  580\n",
      "Status:  590\n",
      "Status:  600\n",
      "Status:  610\n",
      "Status:  620\n",
      "Status:  630\n",
      "Status:  640\n",
      "Status:  650\n",
      "Status:  660\n",
      "Status:  670\n",
      "Status:  680\n",
      "Status:  690\n",
      "Status:  700\n",
      "Status:  710\n",
      "Status:  720\n",
      "Status:  730\n",
      "Status:  740\n",
      "Status:  750\n",
      "Status:  760\n",
      "Status:  770\n",
      "Status:  780\n",
      "Status:  790\n",
      "Status:  800\n",
      "Status:  810\n",
      "Status:  820\n",
      "Status:  830\n",
      "Status:  840\n",
      "Status:  850\n",
      "Status:  860\n",
      "Status:  870\n",
      "Status:  880\n",
      "Status:  890\n",
      "Status:  900\n",
      "Status:  910\n",
      "Status:  920\n",
      "Status:  930\n",
      "Status:  940\n",
      "Status:  950\n",
      "Status:  960\n",
      "Status:  970\n",
      "Status:  980\n",
      "Status:  990\n",
      "Status:  1000\n",
      "Status:  1010\n",
      "Status:  1020\n",
      "Status:  1030\n",
      "For 2020_Skl4mRNYDr cannot find leaderboard table file: table_01.csv\n",
      "Status:  1040\n",
      "Status:  1050\n",
      "Status:  1060\n",
      "Status:  1070\n",
      "Status:  1080\n",
      "Status:  1090\n",
      "Status:  1100\n",
      "Status:  1110\n",
      "Status:  1120\n",
      "Status:  1130\n",
      "Status:  1140\n",
      "Status:  1150\n",
      "Status:  1160\n",
      "Status:  1170\n",
      "Status:  1180\n",
      "Status:  1190\n",
      "Status:  1200\n",
      "Status:  1210\n",
      "Status:  1220\n",
      "Status:  1230\n",
      "Status:  1240\n",
      "Status:  1250\n",
      "Status:  1260\n",
      "Status:  1270\n",
      "Status:  1280\n",
      "Status:  1290\n"
     ]
    }
   ],
   "source": [
    "for k in leaderboard_table_refs:\n",
    "    if not k in NEW_leaderboard_refs:\n",
    "        if True:\n",
    "            v = iclr_arxiv_map[k]\n",
    "            if status_count % 10 == 0:\n",
    "                print(\"Status: \", status_count)\n",
    "                with open(\"leaderboard_refs.pkl\", \"wb\") as some_file:\n",
    "                    pickle.dump(NEW_leaderboard_refs, some_file)\n",
    "                    \n",
    "            try:\n",
    "                path_split = v[\"arxivId\"].split(\".\")\n",
    "\n",
    "                # Extraction\n",
    "                #extract(SOURCES_PATH / path_split[0] / v[\"arxivId\"])\n",
    "\n",
    "                paper = pc.get_by_id(v[\"arxivId\"])\n",
    "                \n",
    "                if not paper:\n",
    "                    unext_papers.append((k, v[\"arxivId\"]))\n",
    "                    continue\n",
    "                \n",
    "                if len(paper.tables) > 0:                    \n",
    "                    # Add table type if absent\n",
    "                    if paper.tables[0].gold_tags == \"\":\n",
    "                        if k in collated_table_labels:\n",
    "                            for idx, t in enumerate(paper.tables):\n",
    "                                t.gold_tags = collated_table_labels[k][idx]\n",
    "                        else:\n",
    "                            tables_types = ttp.predict(paper, paper.tables)\n",
    "                            for table, table_type in zip(paper.tables, tables_types):\n",
    "                                table.gold_tags = table_labels[table_type]\n",
    "                    \n",
    "#                     #Count the different types of tables\n",
    "#                     table_type_count = [0, 0, 0]\n",
    "#                     for tt in paper.tables:\n",
    "#                         if tt.gold_tags.lower().strip() == \"leaderboard\":\n",
    "#                             table_type_count[0] = table_type_count[0] + 1\n",
    "#                         elif tt.gold_tags.lower().strip() == \"ablation\":\n",
    "#                             table_type_count[1] = table_type_count[1] + 1\n",
    "#                         elif tt.gold_tags.lower().strip() == \"irrelevant\":\n",
    "#                             table_type_count[2] = table_type_count[2] + 1\n",
    "#                         else:\n",
    "#                             print(\"Unknown table type: \", tt.gold_tags)\n",
    "                    \n",
    "#                     # Save table stat in leaderboard_table_refs\n",
    "#                     leaderboard_table_refs[k][\"tcount\"] = [len(paper.tables), table_type_count[0], table_type_count[1], table_type_count[2]]\n",
    "#                 else:\n",
    "#                     leaderboard_table_refs[k][\"tcount\"] = [0, 0, 0, 0]\n",
    "                \n",
    "#                 leaderboard_table_refs[k][\"table_labels\"] = []\n",
    "#                 for tablerol in paper.tables:\n",
    "#                     leaderboard_table_refs[k][\"table_labels\"].append((tablerol.gold_tags,))\n",
    "                \n",
    "                if (leaderboard_table_refs[k][\"tcount\"][1]+leaderboard_table_refs[k][\"tcount\"][2]) > 0:\n",
    "                    NEW_leaderboard_refs[k][\"refs\"] = {}\n",
    "                    NEW_leaderboard_refs[k][\"count\"] = 0\n",
    "                \n",
    "                # If sota/leaderboard tables present, extract references from them\n",
    "                if leaderboard_table_refs[k][\"tcount\"][1] > 0:\n",
    "                    NEW_leaderboard_refs[k][\"refs\"][\"ldb\"] = []\n",
    "                    for iterid, table in enumerate(paper.tables):\n",
    "                        idx = iterid + 1\n",
    "                        if table.gold_tags == \"leaderboard\":\n",
    "                            \n",
    "                            table_dir_path = \"/home/singh_shruti/workspace/axcell_ws/axcell/notebooks/data/papers/\" + path_split[0] + \"/\" + v[\"arxivId\"]\n",
    "                            table_files = glob.glob(table_dir_path+\"/*.csv\")\n",
    "                            table_files_stripped = [tfs.rsplit(\"/\", 1)[1] for tfs in table_files]\n",
    "                            \n",
    "                            candidate_name = \"table_\" + \"{:02d}\".format(idx) + \".csv\"\n",
    "                            if candidate_name in table_files_stripped:\n",
    "                                cannot_use_f = open(table_dir_path + \"/\" + candidate_name, \"r\")\n",
    "                                for line in cannot_use_f:\n",
    "                                    m = re.findall(\"<ref id=[0-9a-zA-Z'-]*>[a-zA-Z 0-9\\.]*</ref>\", line)\n",
    "                                    for iim in m:\n",
    "                                        NEW_leaderboard_refs[k][\"refs\"][\"ldb\"].append(iim)\n",
    "                                        NEW_leaderboard_refs[k][\"count\"] += 1\n",
    "                            else:\n",
    "                                print(\"For {} cannot find leaderboard table file: {}\".format(k, candidate_name))\n",
    "                            \n",
    "                    NEW_leaderboard_refs[k][\"refs\"][\"ldb\"] = list(set(NEW_leaderboard_refs[k][\"refs\"][\"ldb\"]))\n",
    "                    \n",
    "                if leaderboard_table_refs[k][\"tcount\"][2] > 0:\n",
    "                    NEW_leaderboard_refs[k][\"refs\"][\"abl\"] = []\n",
    "                    for iterid, table in enumerate(paper.tables):\n",
    "                        idx = iterid + 1\n",
    "                        if table.gold_tags == \"ablation\":\n",
    "                            \n",
    "                            table_dir_path = \"/home/singh_shruti/workspace/axcell_ws/axcell/notebooks/data/papers/\" + path_split[0] + \"/\" + v[\"arxivId\"]\n",
    "                            table_files = glob.glob(table_dir_path+\"/*.csv\")\n",
    "                            table_files_stripped = [tfs.rsplit(\"/\", 1)[1] for tfs in table_files]\n",
    "                            \n",
    "                            candidate_name = \"table_\" + \"{:02d}\".format(idx) + \".csv\"\n",
    "                            if candidate_name in table_files_stripped:\n",
    "                                cannot_use_f = open(table_dir_path + \"/\" + candidate_name, \"r\")\n",
    "                                for line in cannot_use_f:\n",
    "                                    m = re.findall(\"<ref id=[0-9a-zA-Z'-]*>[a-zA-Z 0-9\\.]*</ref>\", line)\n",
    "                                    for iim in m:\n",
    "                                        NEW_leaderboard_refs[k][\"refs\"][\"abl\"].append(iim)\n",
    "                            else:\n",
    "                                print(\"For {} cannot find ablation table file: {}\".format(k, candidate_name))\n",
    "                            \n",
    "                    NEW_leaderboard_refs[k][\"refs\"][\"abl\"] = list(set(NEW_leaderboard_refs[k][\"refs\"][\"abl\"]))\n",
    "                            \n",
    "                status_count += 1\n",
    "            except Exception as ex:\n",
    "                print(k, v[\"arxivId\"])\n",
    "                print(\"Error: \", ex)\n",
    "                err_count += 1\n",
    "                errs_ids.append((k, v[\"arxivId\"]))"
   ]
  },
  {
   "cell_type": "code",
   "execution_count": 319,
   "metadata": {},
   "outputs": [
    {
     "data": {
      "text/plain": [
       "(1300, 0, 0, [], 0, [])"
      ]
     },
     "execution_count": 319,
     "metadata": {},
     "output_type": "execute_result"
    }
   ],
   "source": [
    "status_count, err_count, len(unext_papers), unext_papers[0:3], len(errs_ids), errs_ids[0:3]"
   ]
  },
  {
   "cell_type": "code",
   "execution_count": 315,
   "metadata": {
    "collapsed": true
   },
   "outputs": [
    {
     "name": "stdout",
     "output_type": "stream",
     "text": [
      "1810.06544v4\n",
      "data/papers/1810/1810.06530v5:\n",
      "layout_01.csv  layout_04.csv  table_01.csv  table_04.csv\n",
      "layout_02.csv  layout_05.csv  table_02.csv  table_05.csv\n",
      "layout_03.csv  metadata.json  table_03.csv  text.json\n",
      "\n",
      "data/papers/1810/1810.06543v1:\n",
      "layout_01.csv  layout_03.csv  metadata.json  table_02.csv  table_04.csv\n",
      "layout_02.csv  layout_04.csv  table_01.csv   table_03.csv  text.json\n",
      "\n",
      "data/papers/1810/1810.06544v1:\n",
      "layout_01.csv  layout_03.csv  table_01.csv  table_03.csv\n",
      "layout_02.csv  metadata.json  table_02.csv  text.json\n",
      "\n",
      "data/papers/1810/1810.06546v2:\n",
      "layout_01.csv  layout_09.csv  layout_17.csv  table_07.csv  table_15.csv\n",
      "layout_02.csv  layout_10.csv  metadata.json  table_08.csv  table_16.csv\n",
      "layout_03.csv  layout_11.csv  table_01.csv   table_09.csv  table_17.csv\n",
      "layout_04.csv  layout_12.csv  table_02.csv   table_10.csv  text.json\n",
      "layout_05.csv  layout_13.csv  table_03.csv   table_11.csv\n",
      "layout_06.csv  layout_14.csv  table_04.csv   table_12.csv\n",
      "layout_07.csv  layout_15.csv  table_05.csv   table_13.csv\n",
      "layout_08.csv  layout_16.csv  table_06.csv   table_14.csv\n",
      "2019_SyehMhC9Y7\n",
      "2019_SyehMhC9Y7\n"
     ]
    }
   ],
   "source": [
    "print(iclr_arxiv_map[\"2020_Skl4mRNYDr\"][\"arxivId\"])\n",
    "!ls data/papers/1810/1810.065*\n",
    "\n",
    "for k in iclr_arxiv_map:\n",
    "    if iclr_arxiv_map[k][\"found\"] and iclr_arxiv_map[k][\"arxivId\"] == \"1810.06544v1\":\n",
    "        print(k)\n",
    "for k in iclr_arxiv_map:\n",
    "    if iclr_arxiv_map[k][\"found\"] and iclr_arxiv_map[k][\"arxivId\"] == \"1810.06544v1\":\n",
    "        print(k)"
   ]
  },
  {
   "cell_type": "code",
   "execution_count": 316,
   "metadata": {},
   "outputs": [
    {
     "name": "stdout",
     "output_type": "stream",
     "text": [
      "689\n"
     ]
    }
   ],
   "source": [
    "print(len(NEW_leaderboard_refs))"
   ]
  },
  {
   "cell_type": "code",
   "execution_count": 320,
   "metadata": {},
   "outputs": [
    {
     "name": "stdout",
     "output_type": "stream",
     "text": [
      "1719\n"
     ]
    }
   ],
   "source": [
    "print(len(NEW_leaderboard_refs))"
   ]
  },
  {
   "cell_type": "code",
   "execution_count": null,
   "metadata": {},
   "outputs": [],
   "source": []
  },
  {
   "cell_type": "code",
   "execution_count": 326,
   "metadata": {},
   "outputs": [],
   "source": [
    "success = 0\n",
    "refs_0 = 0\n",
    "count_0_and_noabl = 0\n",
    "count_nil_but_abl = 0\n",
    "null_0 = 0\n",
    "\n",
    "for k in leaderboard_table_refs:\n",
    "    if k in NEW_leaderboard_refs:\n",
    "        if \"count\" in NEW_leaderboard_refs[k]:\n",
    "            if NEW_leaderboard_refs[k][\"count\"] > 0:\n",
    "                success += 1\n",
    "            else:\n",
    "                refs_0 += 1\n",
    "        else:\n",
    "            if \"refs\" in  NEW_leaderboard_refs[k] and \"abl\" in NEW_leaderboard_refs[k][\"refs\"] and len(NEW_leaderboard_refs[k][\"refs\"][\"abl\"]) > 0:\n",
    "                count_nil_but_abl +=1\n",
    "            else:\n",
    "                count_0_and_noabl +=1\n",
    "    else:\n",
    "        null_0 +=1"
   ]
  },
  {
   "cell_type": "code",
   "execution_count": 327,
   "metadata": {},
   "outputs": [
    {
     "data": {
      "text/plain": [
       "(419, 1299, 0, 0, 270)"
      ]
     },
     "execution_count": 327,
     "metadata": {},
     "output_type": "execute_result"
    }
   ],
   "source": [
    "success, refs_0, count_nil_but_abl, count_0_and_noabl, null_0"
   ]
  },
  {
   "cell_type": "code",
   "execution_count": null,
   "metadata": {},
   "outputs": [],
   "source": []
  },
  {
   "cell_type": "markdown",
   "metadata": {},
   "source": [
    "#### 3. Find if a sample reference is extracted by the code"
   ]
  },
  {
   "cell_type": "code",
   "execution_count": null,
   "metadata": {},
   "outputs": [],
   "source": []
  },
  {
   "cell_type": "code",
   "execution_count": 341,
   "metadata": {},
   "outputs": [],
   "source": [
    "papers_to_ext_refs = []\n",
    "suc = 0\n",
    "not_enough_tables = 0"
   ]
  },
  {
   "cell_type": "code",
   "execution_count": 342,
   "metadata": {},
   "outputs": [
    {
     "name": "stdout",
     "output_type": "stream",
     "text": [
      "477 1241 270\n"
     ]
    }
   ],
   "source": [
    "for k in leaderboard_table_refs:\n",
    "    if  (leaderboard_table_refs[k][\"tcount\"][1] + leaderboard_table_refs[k][\"tcount\"][2]) > 0:\n",
    "        if k in NEW_leaderboard_refs:\n",
    "            if \"count\" in NEW_leaderboard_refs[k] and NEW_leaderboard_refs[k][\"count\"] > 0: \n",
    "                suc +=1\n",
    "            else:\n",
    "                if \"refs\" in NEW_leaderboard_refs[k] and \"abl\" in NEW_leaderboard_refs[k][\"refs\"] and len(NEW_leaderboard_refs[k][\"refs\"][\"abl\"]) > 0:\n",
    "                    suc +=1 \n",
    "                else:\n",
    "                    papers_to_ext_refs.append(k)\n",
    "        else:\n",
    "            papers_to_ext_refs.append(k)\n",
    "    else:\n",
    "        not_enough_tables +=1\n",
    "\n",
    "print(suc, len(papers_to_ext_refs), not_enough_tables)"
   ]
  },
  {
   "cell_type": "markdown",
   "metadata": {},
   "source": [
    "#### 3.1 Save the ref files"
   ]
  },
  {
   "cell_type": "code",
   "execution_count": 649,
   "metadata": {},
   "outputs": [],
   "source": [
    "# Save 477 successful papers\n",
    "with open(\"new_leaderboard_refs.pkl\", \"wb\") as f:\n",
    "    pickle.dump(NEW_leaderboard_refs, f)"
   ]
  },
  {
   "cell_type": "code",
   "execution_count": 648,
   "metadata": {},
   "outputs": [
    {
     "data": {
      "text/plain": [
       "[('2017_B1-Hhnslg',\n",
       "  {'refs': {'ldb': [\"<ref id='bib-bib17'>2016</ref>\",\n",
       "     \"<ref id='bib-bib1'>2013</ref>\",\n",
       "     \"<ref id='bib-bib23'>2016</ref>\",\n",
       "     \"<ref id='bib-bib29'>2016</ref>\",\n",
       "     \"<ref id='bib-bib2'>2015</ref>\",\n",
       "     \"<ref id='bib-bib22'>2017</ref>\",\n",
       "     \"<ref id='bib-bib6'>2017</ref>\"],\n",
       "    'abl': []},\n",
       "   'count': 12}),\n",
       " ('2017_B1-q5Pqxl', {'refs': {'ldb': []}, 'count': 0}),\n",
       " ('2017_B184E5qee',\n",
       "  {'refs': {'ldb': [\"<ref id='bib-bib37'>2012</ref>\",\n",
       "     \"<ref id='bib-bib13'>2015</ref>\",\n",
       "     \"<ref id='bib-bib36'>2016</ref>\",\n",
       "     \"<ref id='bib-bib44'>2015</ref>\",\n",
       "     \"<ref id='bib-bib40'>2014</ref>\",\n",
       "     \"<ref id='bib-bib50'>2016</ref>\",\n",
       "     \"<ref id='bib-bib49'>2014</ref>\"]},\n",
       "   'count': 10}),\n",
       " ('2017_B1E7Pwqgl',\n",
       "  {'refs': {'ldb': [\"<ref id='bib-bib62'>62</ref>\",\n",
       "     \"<ref id='bib-bib19'>19</ref>\",\n",
       "     \"<ref id='bib-bib58'>58</ref>\",\n",
       "     \"<ref id='bib-bib63'>63</ref>\",\n",
       "     \"<ref id='bib-bib59'>59</ref>\",\n",
       "     \"<ref id='bib-bib21'>21</ref>\",\n",
       "     \"<ref id='bib-bib60'>60</ref>\",\n",
       "     \"<ref id='bib-bib29'>29</ref>\",\n",
       "     \"<ref id='bib-bib30'>30</ref>\",\n",
       "     \"<ref id='bib-bib25'>25</ref>\",\n",
       "     \"<ref id='bib-bib44'>44</ref>\"]},\n",
       "   'count': 15}),\n",
       " ('2017_B1G9tvcgx', {'refs': {'ldb': [], 'abl': []}, 'count': 0}),\n",
       " ('2017_B1GOWV5eg', {'refs': {'ldb': [], 'abl': []}, 'count': 0}),\n",
       " ('2017_B1Igu2ogg',\n",
       "  {'refs': {'ldb': [\"<ref id='bib-bib26'>2014</ref>\",\n",
       "     \"<ref id='bib-bib28'>2015</ref>\",\n",
       "     \"<ref id='bib-bib13'>2015</ref>\"],\n",
       "    'abl': []},\n",
       "   'count': 6}),\n",
       " ('2017_B1IzH7cxl', {'refs': {'ldb': []}, 'count': 0}),\n",
       " ('2017_B1MRcPclx', {'refs': {'ldb': []}, 'count': 0}),\n",
       " ('2017_B1YfAfcgl', {'refs': {'ldb': []}, 'count': 0})]"
      ]
     },
     "execution_count": 648,
     "metadata": {},
     "output_type": "execute_result"
    }
   ],
   "source": [
    "list(NEW_leaderboard_refs.items())[0:10]"
   ]
  },
  {
   "cell_type": "code",
   "execution_count": 343,
   "metadata": {},
   "outputs": [
    {
     "data": {
      "text/plain": [
       "1988"
      ]
     },
     "execution_count": 343,
     "metadata": {},
     "output_type": "execute_result"
    }
   ],
   "source": [
    "1241+270+477"
   ]
  },
  {
   "cell_type": "markdown",
   "metadata": {},
   "source": [
    "# Our final set target is 1241 to augment 477"
   ]
  },
  {
   "cell_type": "code",
   "execution_count": null,
   "metadata": {},
   "outputs": [],
   "source": []
  },
  {
   "cell_type": "code",
   "execution_count": null,
   "metadata": {},
   "outputs": [],
   "source": []
  },
  {
   "cell_type": "code",
   "execution_count": 382,
   "metadata": {},
   "outputs": [],
   "source": [
    "bbl_absent = []\n",
    "bbl_multiple = []\n",
    "bbl_unique = []\n",
    "\n",
    "exceptions_ids = []\n",
    "\n",
    "paper_bbl_dict = {}"
   ]
  },
  {
   "cell_type": "code",
   "execution_count": 383,
   "metadata": {},
   "outputs": [
    {
     "name": "stdout",
     "output_type": "stream",
     "text": [
      "2017_BJYwwY9ll\n",
      "\n",
      " Unusal KEY: 2018_rJg4YGWRb FORMAT:   \\sortlist[entry]{nty/global/}\n",
      "\n",
      "\n",
      " Unusal KEY: 2019_ryE98iR5tm FORMAT:     \\name{author}{3}{}{%\n",
      "\n",
      "2019_ryggIs0cYQ\n",
      "\n",
      " Unusal KEY: 2020_HkgxW0EYDS FORMAT:   \\sortlist[entry]{nyt/global/}\n",
      "\n",
      "\n",
      " Unusal KEY: 2020_r1glygHtDB FORMAT:     \\name{author}{7}{}{%\n",
      "\n",
      "\n",
      " Unusal KEY: 2020_rJlUhhVYvS FORMAT:   \\sortlist[entry]{nty/global/}\n",
      "\n",
      "\n",
      " Unusal KEY: 2020_rygvFyrKwH FORMAT:   \\sortlist[entry]{anyt/global/}\n",
      "\n"
     ]
    }
   ],
   "source": [
    "for k in papers_to_ext_refs:\n",
    "    arxivid = iclr_arxiv_map[k][\"arxivId\"]\n",
    "    \n",
    "    dir_name = arxivid.split(\".\")[0]\n",
    "    \n",
    "    # Read the bbl file to extract references\n",
    "    potential_bbl_files = glob.glob(\"./data/unpacked_sources/{}/{}/*.bbl\".format(dir_name, arxivid))\n",
    "\n",
    "    if len(potential_bbl_files) == 1:\n",
    "        bbl_unique.append(k)\n",
    "        \n",
    "        try:\n",
    "            with open(potential_bbl_files[0], \"r\") as f:\n",
    "                lines = f.readlines()\n",
    "\n",
    "            found_bib_format = False\n",
    "            for idx, l in enumerate(lines):\n",
    "                if not found_bib_format and l.startswith(\"\\\\bibitem[\"):\n",
    "                    #rint(\"KEY: {} FORMAT: {}\".format(k, (l+lines[idx+1]).replace(\"\\n\", \" \") ))\n",
    "                    found_bib_format = True\n",
    "                    break\n",
    "                if not found_bib_format and l.startswith(\"\\\\bibitem{\"):\n",
    "                    #rint(\"KEY: {} FORMAT: {}\".format(k, (l+lines[idx+1]).replace(\"\\n\", \" \") ))\n",
    "                    found_bib_format = True\n",
    "                    break\n",
    "\n",
    "            if not found_bib_format:\n",
    "                print(\"\\n Unusal KEY: {} FORMAT: {}\".format(k, \" \".join(lines[20:21])))\n",
    "        except Exception as ex:\n",
    "            print(k)\n",
    "            exceptions_ids.append(k)\n",
    "            #print(\"EXception: \", ex)\n",
    "        \n",
    "    elif len(potential_bbl_files) == 0:\n",
    "        #print(\"No bbl files found: \", k)\n",
    "        bbl_absent.append(k)\n",
    "        \n",
    "    else:\n",
    "        #print(\"Multiple bbl found: \", k)\n",
    "        bbl_multiple.append(k)"
   ]
  },
  {
   "cell_type": "code",
   "execution_count": 380,
   "metadata": {},
   "outputs": [
    {
     "data": {
      "text/plain": [
       "(1241, 45, 45, 1151, 2)"
      ]
     },
     "execution_count": 380,
     "metadata": {},
     "output_type": "execute_result"
    }
   ],
   "source": [
    "len(papers_to_ext_refs), len(bbl_absent), len(bbl_multiple), len(bbl_unique), len(exceptions_ids)\n",
    "#Unusual format = 6"
   ]
  },
  {
   "cell_type": "code",
   "execution_count": 363,
   "metadata": {},
   "outputs": [
    {
     "data": {
      "text/plain": [
       "1241"
      ]
     },
     "execution_count": 363,
     "metadata": {},
     "output_type": "execute_result"
    }
   ],
   "source": [
    "1151+45+45"
   ]
  },
  {
   "cell_type": "code",
   "execution_count": null,
   "metadata": {},
   "outputs": [],
   "source": []
  },
  {
   "cell_type": "code",
   "execution_count": null,
   "metadata": {},
   "outputs": [],
   "source": []
  },
  {
   "cell_type": "markdown",
   "metadata": {},
   "source": [
    "# Find refs of 1241 from table captions"
   ]
  },
  {
   "cell_type": "code",
   "execution_count": 418,
   "metadata": {},
   "outputs": [],
   "source": [
    "table_caption_refs = defaultdict(list)"
   ]
  },
  {
   "cell_type": "code",
   "execution_count": 419,
   "metadata": {},
   "outputs": [],
   "source": [
    "for k in papers_to_ext_refs:\n",
    "    arxivid = iclr_arxiv_map[k][\"arxivId\"]\n",
    "    paper = pc.get_by_id(arxivid)\n",
    "    for idx, t in enumerate(paper.tables):\n",
    "        if t.caption and t.caption.find(\" et al\") > -1:\n",
    "            table_caption_refs[k].append((idx, t.caption))\n",
    "        elif t.caption and t.caption.find(\" & \") > -1:\n",
    "            m = re.findall(\" & [a-zA-Z 0-9\\\\.'~\\{\\}]*[ ]?\\([1,2][0,1,2,8,9][0-9][0-9]\\)\", t.caption)\n",
    "            if m:\n",
    "#                 print(t.caption)\n",
    "                table_caption_refs[k].append((idx, t.caption))"
   ]
  },
  {
   "cell_type": "code",
   "execution_count": 420,
   "metadata": {},
   "outputs": [
    {
     "name": "stdout",
     "output_type": "stream",
     "text": [
      "[('2017_SJDaqqveg', [(1, 'Table 2: Our IWSLT 2014 machine translation results with a convolutional encoder compared to the previous work by Ranzato et al. Please see 1 for an explanation of abbreviations. The asterisk identifies results from (Ranzato et\\xa0al., 2015). The numbers reported with ≤ were approximately read from Figure 6 of (Ranzato et\\xa0al., 2015)')]), ('2017_SJc1hL5ee', [(6, 'Table 7: Comparison between CNNs and fastText with and without quantization. The numbers for\\xa0Zhang et\\xa0al. (2015) are reported from\\xa0Xiao & Cho (2016). Note that for the CNNs, we report the size of the model under the assumption that they use float32 storage. For fastText(+PQ) we report the memory used in RAM at test time.')])]\n"
     ]
    },
    {
     "data": {
      "text/plain": [
       "45"
      ]
     },
     "execution_count": 420,
     "metadata": {},
     "output_type": "execute_result"
    }
   ],
   "source": [
    "print(list(table_caption_refs.items())[0:2])\n",
    "len(table_caption_refs)"
   ]
  },
  {
   "cell_type": "code",
   "execution_count": 421,
   "metadata": {},
   "outputs": [
    {
     "data": {
      "text/plain": [
       "1196"
      ]
     },
     "execution_count": 421,
     "metadata": {},
     "output_type": "execute_result"
    }
   ],
   "source": [
    "unext_for_full_text = []\n",
    "for k in papers_to_ext_refs:\n",
    "    if not k in table_caption_refs.keys():\n",
    "        unext_for_full_text.append(k)\n",
    "len(unext_for_full_text)"
   ]
  },
  {
   "cell_type": "code",
   "execution_count": 422,
   "metadata": {},
   "outputs": [
    {
     "data": {
      "text/plain": [
       "1241"
      ]
     },
     "execution_count": 422,
     "metadata": {},
     "output_type": "execute_result"
    }
   ],
   "source": [
    "1196+45"
   ]
  },
  {
   "cell_type": "code",
   "execution_count": 650,
   "metadata": {},
   "outputs": [],
   "source": [
    "# Save\n",
    "with open(\"refs_table_captions.pkl\", \"wb\") as f:\n",
    "    pickle.dump(table_caption_refs, f)"
   ]
  },
  {
   "cell_type": "markdown",
   "metadata": {},
   "source": [
    "# Find refs of 1207 from full text"
   ]
  },
  {
   "cell_type": "code",
   "execution_count": 631,
   "metadata": {},
   "outputs": [],
   "source": [
    "full_text_refs_dict = defaultdict(list)\n",
    "full_text = {}\n",
    "candidatesssssss = defaultdict(list)"
   ]
  },
  {
   "cell_type": "markdown",
   "metadata": {},
   "source": [
    "### FInd potential main tex file"
   ]
  },
  {
   "cell_type": "code",
   "execution_count": 646,
   "metadata": {},
   "outputs": [
    {
     "name": "stdout",
     "output_type": "stream",
     "text": [
      "2017_B1G9tvcgx 1611.08459v1\n",
      "2017_B1IzH7cxl 1712.00504v2\n",
      "2017_B1gtu5ilg 1704.00033v1\n",
      "2017_B1kJ6H9ex 1611.01626v3\n",
      "2017_B1mAJI9gl 1705.08664v1\n",
      "2017_BJ0Ee8cxx 1605.07427v1\n",
      "2017_BJK3Xasel 1712.05440v1\n",
      "2017_BJjn-Yixl 1703.00767v3\n",
      "2017_BJm4T4Kgx 1611.01236v2\n",
      "2017_BJwFrvOeg 1608.00318v2\n",
      "2017_Bkepl7cee 1605.09332v4\n",
      "2017_BkfiXiUlg 1602.03218v2\n",
      "2017_By5e2L9gl 1611.02185v5\n",
      "2017_ByG8A7cee 1611.01628v5\n",
      "2017_ByQPVFull 1701.06772v2\n",
      "2017_BydARw9ex 1611.09913v3\n",
      "2017_Byiy-Pqlx 1611.02854v2\n",
      "2017_BylSPv9gx 1704.05119v2\n",
      "2017_HJPmdP9le 1611.03382v1\n",
      "2017_HJSCGD9ex 1706.08160v1\n",
      "2017_HJhcg6Fxg 1611.01116v3\n",
      "2017_HJpfMIFll 1610.07569v1\n",
      "2017_HkuVu3ige 1702.00071v4\n",
      "2017_HyAbMKwxe 1606.09202v2\n",
      "2017_HyCRyS9gx 1612.02192v2\n",
      "2017_HyTqHL5xg 1605.06432v3\n",
      "2017_S1Bb3D5gg 1605.07683v4\n",
      "2017_S1LVSrcge 1611.06188v2\n",
      "2017_S1RP6GLle 1610.04490v3\n",
      "2017_S1jE5L5gl 1611.00712v3\n",
      "2017_S1oWlN9ll 1611.01600v3\n",
      "2017_S1xh5sYgx 1602.07360v4\n",
      "2017_SJQNqLFgl 1611.00847v3\n",
      "2017_SJTQLdqlg 1703.03129v1\n",
      "2017_SJg498clg 1703.04818v1\n",
      "2017_SJk01vogl 1702.06832v1\n",
      "2017_SJkXfE5xx 1610.06545v4\n",
      "2017_Sk2Im59ex 1611.02200v1\n",
      "2017_Sk2iistgg 1603.05015v1\n",
      "2017_SkB-_mcel 1702.08811v3\n",
      "2017_SkyQWDcex 1612.07411v2\n",
      "2017_SypU81Ole 1609.04468v3\n",
      "2017_r1Aab85gg 1702.03859v1\n",
      "2017_r1VGvBcxl 1611.06256v3\n",
      "2017_r1kGbydxg 1611.01055v1\n",
      "2017_r1kQkVFgl 1611.08307v1\n",
      "2017_r1y1aawlg 1610.06602v3\n",
      "2017_rJLS7qKel 1611.01779v2\n",
      "2017_rJQKYt5ll 1612.08498v1\n",
      "2017_rJfMusFll 1702.03334v1\n",
      "2017_rJg_1L5gg 1611.03068v2\n",
      "2017_rk5upnsxe 1611.04520v2\n",
      "2017_rkE8pVcle 1612.04936v4\n",
      "2017_rkFBJv9gg 1611.09827v2\n",
      "2017_rkGabzZgl 1609.08017v3\n",
      "2017_rky3QW9le 1712.03257v1\n",
      "2017_ry3iBFqgl 1611.09830v3\n",
      "2017_ryZqPN5xe 1611.01714v1\n",
      "2017_rye9LT8cee 1611.01590v3\n",
      "2018_B1Lc-Gb0Z 1710.11573v3\n",
      "2018_B1NGT8xCZ 1705.09011v2\n",
      "2018_B1X4DWWRb 1802.08598v2\n",
      "2018_B1ZZTfZAW 1706.02633v2\n",
      "2018_B1ZvaaeAZ 1709.01134v1\n",
      "2018_B1ae1lZRb 1711.05852v1\n",
      "2018_B1bgpzZAZ 1904.02651v1\n",
      "2018_B1spAqUp- 1705.06820v4\n",
      "2018_B1tC-LT6W 1710.09026v2\n",
      "2018_B1twdMCab 1706.02596v3\n",
      "2018_B1ydPgTpW 1701.08711v5\n",
      "2018_BJ78bJZCZ 1705.08480v2\n",
      "2018_BJDH5M-AW 1707.07397v3\n",
      "2018_BJOFETxR- 1711.00740v3\n",
      "2018_BJlrSmbAZ 1802.06455v2\n",
      "2018_BJvWjcgAZ 1805.12375v3\n",
      "2018_Bk6qQGWRb 1802.04412v1\n",
      "2018_BkUp6GZRW 1712.10282v1\n",
      "2018_BkVsWbbAW 1710.10368v2\n",
      "2018_BkrSv0lA- 1802.08635v2\n",
      "2018_ByJWeR1AW 1806.03852v1\n",
      "2018_BySRH6CpW 1710.07739v3\n",
      "2018_ByqFhGZCW 1711.04368v3\n",
      "2018_H18uzzWAZ 1711.00882v2\n",
      "2018_H1Dy---0Z 1803.00933v1\n",
      "2018_H1Yp-j1Cb 1706.03269v1\n",
      "2018_H1bhRHeA- 1803.08577v1\n",
      "2018_H1cKvl-Rb 1706.01502v3\n",
      "2018_HJZiRkZC- 1802.01817v1\n",
      "2018_HJ_aoCyRZ 1801.01587v6\n",
      "2018_HJewuJWCZ 1805.03643v1\n",
      "2018_HJnQJXbC- 1705.09786v3\n",
      "2018_HkL7n1-0b 1711.01558v4\n",
      "2018_HkMCybx0- 1710.09967v2\n",
      "2018_HkanP0lRW 1710.09934v1\n",
      "2018_Hkbd5xZRb 1801.10130v3\n",
      "2018_HkepKG-Rb 1711.11157v2\n",
      "2018_HkfXMz-Ab 1703.05698v5\n",
      "2018_HkuGJ3kCb 1702.01417v2\n",
      "2018_HkxF5RgC- 1804.10223v1\n",
      "2018_Hy7EPh10W 1802.10560v1\n",
      "2018_HyEi7bWR- 1707.09520v3\n",
      "2018_HymYLebCb 1804.06275v1\n",
      "2018_HypkN9yRW 1803.11361v1\n",
      "2018_S1ANxQW0b 1806.06920v1\n",
      "2018_S1CChZ-CZ 1705.07830v3\n",
      "2018_S1GUgxgCW 1809.07070v1\n",
      "2018_S1XolQbRW 1802.05668v1\n",
      "2018_S1fduCl0b 1705.09847v6\n",
      "2018_S1m6h21Cb 1705.10743v1\n",
      "2018_SJQO7UJCW 1802.07934v2\n",
      "2018_SJlhPMWAW 1802.03480v1\n",
      "2018_SJmAXkgCb 1808.05285v1\n",
      "2018_SJw03ceRW 1810.08363v1\n",
      "2018_SJyEH91A- 1710.07457v1\n",
      "2018_Sk9yuql0Z 1711.01991v3\n",
      "2018_SkVqXOxCb 1708.08819v3\n",
      "2018_SyBBgXWAZ 1711.01970v1\n",
      "2018_SyVVXngRW 1708.00260v3\n",
      "2018_SygwwGbRW 1803.00653v1\n",
      "2018_SyqShMZRb 1802.08786v1\n",
      "2018_SyzKd1bCW 1711.00123v3\n",
      "2018_r17Q6WWA- 1711.00111v2\n",
      "2018_r17lFgZ0Z 1706.09799v1\n",
      "2018_r1Kr3TyAb 1812.00342v1\n",
      "2018_r1NYjfbR- 1805.06621v1\n",
      "2018_r1SuFjkRW 1705.05035v3\n",
      "2018_r1lUOzWCW 1801.01401v4\n",
      "2018_r1vuQG-CW 1803.02108v1\n",
      "2018_rJIN_4lA- 1707.01068v4\n",
      "2018_rJSr0GZR- 1909.04443v1\n",
      "2018_rJTutzbA- 1803.05591v2\n",
      "2018_rJaE2alRW 1703.04122v4\n",
      "2018_rJg4YGWRb 1803.03735v1\n",
      "2018_rJwelMbR- 1711.09874v2\n",
      "2018_rkA1f3NpZ 1709.03423v2\n",
      "2018_rkGZuJb0b 1711.03357v3\n",
      "2018_rkHVZWZAZ 1704.04651v2\n",
      "2018_rkLyJl-0- 1712.03298v1\n",
      "2018_rkYTTf-AZ 1711.00043v2\n",
      "2018_rkYgAJWCZ 1710.10280v2\n",
      "2018_rkaqxm-0b 1808.09942v1\n",
      "2018_rkmoiMbCb 1806.00145v1\n",
      "2018_ry5wc1bCW 1711.08936v2\n",
      "2018_ryCM8zWRb 1706.03847v3\n",
      "2018_ryY4RhkCZ 1711.02487v3\n",
      "2018_ryj0790hb 1705.04228v2\n",
      "2019_B1EjKsRqtQ 1808.03728v1\n",
      "2019_B1GSBsRcFX 1805.07291v2\n",
      "2019_B1VWtsA5tQ 1810.02541v7\n",
      "2019_B1e0X3C9tQ 1903.05789v2\n",
      "2019_B1edvs05Y7 1805.08768v1\n",
      "2019_B1fysiAqK7 1809.03368v1\n",
      "2019_B1l8iiA9tQ 1806.01337v1\n",
      "2019_B1lfHhR9tm 1806.08730v1\n",
      "2019_B1x-LjAcKX 1805.01128v2\n",
      "2019_B1xsqj09Fm 1809.11096v2\n",
      "2019_BJgYl205tQ 1905.00643v1\n",
      "2019_BJlgNh0qKQ 1807.09875v2\n",
      "2019_BJluy2RcFm 1811.01900v3\n",
      "2019_BkGiPoC5FX 1901.01986v1\n",
      "2019_BkMWx309FX 1810.01032v4\n",
      "2019_BkMiWhR5K7 1807.07978v3\n",
      "2019_BkeU5j0ctQ 1810.01222v3\n",
      "2019_Bkg2viA5FQ 1711.06006v3\n",
      "2019_BkgosiRcKm 1909.13743v1\n",
      "2019_Bkl2SjCcKQ 1807.04919v1\n",
      "2019_BklACjAqFm 1810.06530v5\n",
      "2019_BklCusRct7 1711.01970v2\n",
      "2019_BklKFo09YX 1902.02119v1\n",
      "2019_BklUAoAcY7 1808.04217v4\n",
      "2019_Bklzkh0qFm 1904.05811v1\n",
      "2019_Bkx8OiRcYX 1806.08324v2\n",
      "2019_BkxSHsC5FQ 1806.02942v3\n",
      "2019_ByME42AqK7 1804.09081v4\n",
      "2019_ByecAoAqK7 1805.10338v1\n",
      "2019_ByfyHh05tQ 1812.11951v2\n",
      "2019_BygANhA9tQ 1810.09225v2\n",
      "2019_BygANjA5FX 1808.10350v5\n",
      "2019_ByldlhAqYQ 1902.09092v1\n",
      "2019_Byxpfh0cFm 1810.05222v2\n",
      "2019_H1ERcs09KQ 1901.09906v2\n",
      "2019_H1ecDoR5Y7 1810.02528v1\n",
      "2019_H1eqjiCctX 1902.00613v1\n",
      "2019_H1eqviAqYX 1808.09187v2\n",
      "2019_H1ewdiR5tQ 1904.07785v1\n",
      "2019_H1gFuiA9KX 1809.01498v2\n",
      "2019_H1gTEj09FX 1805.06846v1\n",
      "2019_H1lGHsA9KX 1711.06424v3\n",
      "2019_H1ldNoC9tX 1810.00846v2\n",
      "2019_H1xEwsR9FX 1805.04777v2\n",
      "2019_H1xQSjCqFQ 1805.09092v2\n",
      "2019_HJMCcjAcYX 1812.03928v3\n",
      "2019_HJMXTsCqYQ 1709.05501v6\n",
      "2019_HJe62s09tX 1811.01124v3\n",
      "2019_HJeRkh05Km 1810.06543v1\n",
      "2019_HJgXsjA5tQ 1809.10749v2\n",
      "2019_HJgZrsC5t7 1809.02387v1\n",
      "2019_HJx9EhC9tQ 1812.10972v2\n",
      "2019_HJxfm2CqKm 1810.04114v2\n",
      "2019_HkElFj0qYQ 1812.10049v2\n",
      "2019_Hke20iA9Y7 1807.07187v1\n",
      "2019_HkeGhoA5FX 1903.10082v1\n",
      "2019_HkeoOo09YX 1806.04522v1\n",
      "2019_Hkg1YiAcK7 1807.03870v2\n",
      "2019_HkgHk3RctX 1810.02019v3\n",
      "2019_HkgSk2A9Y7 1811.10792v3\n",
      "2019_HkgTkhRcKQ 1810.00143v4\n",
      "2019_Hkl-di09FQ 1901.08651v3\n",
      "2019_Hkl5aoR5tm 1810.01365v2\n",
      "2019_HklyMhCqYQ 1810.01406v1\n",
      "2019_Hkxr1nCcFm 1901.03559v2\n",
      "2019_HyGEM3C9KQ 1904.10278v1\n",
      "2019_HyGcghRct7 1805.11718v3\n",
      "2019_HyGh4sR9YQ 1712.06567v3\n",
      "2019_HyM7AiA5YX 1903.01182v2\n",
      "2019_HyNA5iRcFQ 1809.04113v2\n",
      "2019_HyfyN30qt7 1810.00162v2\n",
      "2019_Hygm8jC9FQ 1902.08341v2\n",
      "2019_HyleYiC9FX 1810.10176v2\n",
      "2019_Hyx4knR9Ym 1811.07457v1\n",
      "2019_HyxPx3R9tm 1810.00821v3\n",
      "2019_Hyxtso0qtX 1806.10019v1\n",
      "2019_HyzMyhCcK7 1810.00861v3\n",
      "2019_HyztsoC5Y7 1803.11347v6\n",
      "2019_S1M6Z2Cctm 1902.09727v1\n",
      "2019_S1MQ6jCcK7 1805.06431v2\n",
      "2019_S1en0sRqKm 1811.12941v1\n",
      "2019_S1ey2sRcYQ 1806.02867v5\n",
      "2019_S1fcnoR9K7 1810.01322v3\n",
      "2019_S1gd7nCcF7 1901.08933v3\n",
      "2019_S1giVsRcYm 1807.11622v4\n",
      "2019_S1xNEhR9KX 1902.08336v1\n",
      "2019_S1xiOjC9F7 1904.12787v2\n",
      "2019_SJ4vTjRqtQ 1812.11240v2\n",
      "2019_SJMnG2C9YX 1810.04327v4\n",
      "2019_SJNRHiAcYX 1809.10326v3\n",
      "2019_SJfb5jCqKm 1805.08206v4\n",
      "2019_SJl2niR9KQ 1808.02651v2\n",
      "2019_SJxzPsAqFQ 1805.11752v5\n",
      "2019_SJz6MnC5YQ 1805.09980v1\n",
      "2019_SJzSgnRcKX 1905.06316v1\n",
      "2019_SJzuHiA9tQ 1811.11083v1\n",
      "2019_Sk4jFoA9K7 1806.00088v1\n",
      "2019_SkNSehA9FQ 1810.08305v2\n",
      "2019_SkeK3s0qKQ 1810.02274v5\n",
      "2019_SkelJnRqt7 1811.12739v2\n",
      "2019_SkgzYiRqtX 1902.00756v1\n",
      "2019_SklXvs0qt7 1902.08039v2\n",
      "2019_SklgHoRqt7 1805.10582v3\n",
      "2019_SkloDjAqYm 1806.09963v3\n",
      "2019_SkxxIs0qY7 1804.03782v3\n",
      "2019_SkzK4iC5Ym 1705.08011v2\n",
      "2019_SyVU6s05K7 1811.07591v2\n",
      "2019_SygLehCqtm 1902.08661v2\n",
      "2019_SygONjRqKm 1805.09039v9\n",
      "2019_SylKoo0cKm 1805.12233v1\n",
      "2019_Syx_Ss05tm 1806.11146v2\n",
      "2019_r1GkMhAqYm 1712.05558v3\n",
      "2019_r1V0m3C5YQ 1811.08045v2\n",
      "2019_r1eEG20qKQ 1903.03088v1\n",
      "2019_r1esnoAqt7 1809.10780v3\n",
      "2019_r1fE3sAcYQ 1902.08232v2\n",
      "2019_r1gEqiC9FX 1902.10416v1\n",
      "2019_r1l73iRqKm 1811.01241v2\n",
      "2019_r1lpx3A9K7 1805.07862v2\n",
      "2019_r1zmVhCqKm 1901.00158v2\n",
      "2019_rJVorjCcKQ 1806.03287v2\n",
      "2019_rJe10iC5K7 1903.05136v1\n",
      "2019_rJed6j0cKX 1808.04730v3\n",
      "2019_rJgYxn09Fm 1902.09701v2\n",
      "2019_rJg_NjCqtX 1901.07003v1\n",
      "2019_rJgfjjC9Ym 1901.07988v2\n",
      "2019_rJl4BsR5KX 1804.11214v4\n",
      "2019_rJlMBjAcYX 1805.07072v1\n",
      "2019_rJxNAjC5F7 1810.01008v1\n",
      "2019_rJxgknCcK7 1810.01367v3\n",
      "2019_rkeUrjCcYQ 1809.10188v1\n",
      "2019_rkeYUsRqKQ 1905.01992v2\n",
      "2019_rklwwo05Ym 1805.09208v1\n",
      "2019_rkxJus0cFX 1808.04357v3\n",
      "2019_rkxjnjA5KQ 1806.07377v6\n",
      "2019_rkxraoRcF7 1901.08534v1\n",
      "2019_rkxt8oC9FQ 1810.00656v5\n",
      "2019_ryE98iR5tm 1901.04866v1\n",
      "2019_ryG2Cs09Y7 1810.02424v3\n",
      "2019_ryeNPi0qKX 1809.10040v2\n",
      "2019_ryepUj0qtX 1805.07544v3\n",
      "2019_ryewE3R5YX 1907.09470v2\n",
      "2019_ryf6Fs09YX 1901.06020v1\n",
      "2019_rygjcsR9Y7 1806.02199v7\n",
      "2019_ryxSrhC9KX 1901.02915v1\n",
      "2019_ryxaSsActQ 1908.08399v1\n",
      "2020_B1em8TVtPr 1907.08672v1\n",
      "2020_B1gNKxrYPB 1909.12038v3\n",
      "2020_B1l1qnEFwH 1912.10292v1\n",
      "2020_B1x3EgHtwB 1811.10495v4\n",
      "2020_B1xoserKPH 1912.07942v2\n",
      "2020_BJe4V1HFPr 1905.10742v3\n",
      "2020_BJeS62EtwH 1908.01581v2\n",
      "2020_BJedt6VKPS 1906.04267v2\n",
      "2020_BJeguTEKDB 1911.09976v1\n",
      "2020_BJgAf6Etwr 1905.11471v1\n",
      "2020_BJgQ4lSFPH 1908.04577v3\n",
      "2020_BJgWE1SFwS 1909.11553v2\n",
      "2020_BJgxzlSFvr 1702.06106v3\n",
      "2020_BJl9ZTVKwB 1910.03175v5\n",
      "2020_BJlQtJSKDB 1810.11755v5\n",
      "2020_BJlZ5ySKPH 1907.10830v3\n",
      "2020_BJlnmgrFvS 1910.12179v2\n",
      "2020_BJlqYlrtPB 1910.02760v2\n",
      "2020_BJx8Fh4KPB 1909.12367v1\n",
      "2020_BJx8YnEFPH 1909.11671v1\n",
      "2020_BJxiqxSYPB 2002.07019v1\n"
     ]
    },
    {
     "name": "stdout",
     "output_type": "stream",
     "text": [
      "2020_Bke_DertPB 1907.05681v3\n",
      "2020_BkexaxBKPB 1712.09127v1\n",
      "2020_BkeyOxrYwH 1909.13561v2\n",
      "2020_Bkf4XgrKvS 1912.11176v1\n",
      "2020_BkgCv1HYvB 1906.01973v1\n",
      "2020_BkgYPREtPr 1909.13334v1\n",
      "2020_BklHF6VtPB 1907.11959v2\n",
      "2020_BklLVAEKvH 1910.07623v1\n",
      "2020_BkljIlHtvS 1910.13603v1\n",
      "2020_Bkx1mxSKvB 1912.13053v1\n",
      "2020_Bye8hREtvB 1912.05015v1\n",
      "2020_ByexElSYDr 1905.10497v2\n",
      "2020_BygMreSYPB 1907.02452v1\n",
      "2020_BygZK2VYvB 1906.05488v1\n",
      "2020_BylXi3NKvS 1909.11321v1\n",
      "2020_ByxKo04tvr 1906.05948v2\n",
      "2020_H1eNleBYwr 1910.02107v2\n",
      "2020_H1e_cC4twS 2002.08024v1\n",
      "2020_H1ep5TNKwr 1908.08037v4\n",
      "2020_H1eqOnNYDH 1806.03852v4\n",
      "2020_H1gmHaEKwB 1907.04018v3\n",
      "2020_H1l_0JBYwS 1912.10903v1\n",
      "2020_H1xscnEKDr 1909.09552v2\n",
      "2020_HJe4Cp4KwH 1906.12192v4\n",
      "2020_HJe88xBKPr 1905.12334v1\n",
      "2020_HJe9cR4KvB 1910.04289v1\n",
      "2020_HJg2b0VYDr 1906.11829v3\n",
      "2020_HJlP_pEFPH 1903.11821v1\n",
      "2020_HJlnC1rKPB 1911.03584v2\n",
      "2020_HJlzxgBtwH 1907.02044v1\n",
      "2020_HJx7uJStPH 1911.13254v1\n",
      "2020_HJx8HANFDH 1906.03548v2\n",
      "2020_HJxMYANtPH 1910.06943v2\n",
      "2020_HJxnM1rFvr 1910.12647v1\n",
      "2020_HJxyZkBKDr 2001.00326v2\n",
      "2020_HketzTNYwS 1904.09286v2\n",
      "2020_Hkex2a4FPr 1905.11975v3\n",
      "2020_Hkgs3aNYDS 1908.06657v1\n",
      "2020_HklZUpEtvr 1909.12116v2\n",
      "2020_Hkl_bCVKDr 1905.11468v2\n",
      "2020_Hkla1eHFvS 1906.05274v2\n",
      "2020_Hklso24Kwr 1911.09514v1\n",
      "2020_HklsthVYDH 1811.01213v3\n",
      "2020_Hkx7xRVYDr 1903.05063v3\n",
      "2020_HkxARkrFwB 1911.04975v1\n",
      "2020_HkxJpnVtPr 1903.01540v1\n",
      "2020_Hye_V0NKwr 1912.12179v1\n",
      "2020_HyeuP2EtDB 1910.08143v1\n",
      "2020_HylNWkHtvB 1912.01823v2\n",
      "2020_HyxQ3gSKvr 1905.11741v3\n",
      "2020_HyxyIgHFvr 1910.00359v2\n",
      "2020_S1e-0kBYPB 1910.02065v3\n",
      "2020_S1eQuCVFvB 1909.13004v1\n",
      "2020_S1eZYeHFDS 1912.01412v1\n",
      "2020_S1eik6EtPB 1906.03563v2\n",
      "2020_S1g7tpEYDS 1903.12436v3\n",
      "2020_S1gFvANKDS 1909.11304v1\n",
      "2020_S1gKkpNKwH 1907.06511v2\n",
      "2020_S1l66nNFvB 1902.01020v4\n",
      "2020_S1lDkaEFwS 1905.09871v1\n",
      "2020_S1xFl64tDr 1901.09546v2\n",
      "2020_S1xKd24twB 1905.11108v3\n",
      "2020_S1xipR4FPB 1812.02271v3\n",
      "2020_S1xitgHtvS 2001.00805v2\n",
      "2020_SJg7KhVKPH 1910.10073v4\n",
      "2020_SJg7spEYDS 1806.00101v3\n",
      "2020_SJgCEpVtvr 1910.02684v1\n",
      "2020_SJgdpxHFvH 1912.06290v1\n",
      "2020_SJx4Ogrtvr 1909.13446v1\n",
      "2020_SJxDDpEKvH 1812.03253v2\n",
      "2020_SkeFl1HKwr 2001.01072v1\n",
      "2020_SkeJPertPS 2002.03642v1\n",
      "2020_SkeYUkStPr 1910.00547v2\n",
      "2020_Skep6TVYDB 1911.06317v3\n",
      "2020_SkgRW64twr 1907.07739v1\n",
      "2020_SkgTR3VFvH 1912.12675v1\n",
      "2020_SkgWeJrYwr 1905.11592v2\n",
      "2020_SkxBUpEKwH 1904.08379v1\n",
      "2020_SkxpxJBKwS 1909.07528v2\n",
      "2020_SyeD0RVtvS 1912.09697v1\n",
      "2020_SyeLGlHtPS 1902.03871v4\n",
      "2020_SyecdJSKvr 1910.13188v1\n",
      "2020_SyeyF0VtDr 1904.05530v3\n",
      "2020_SygcCnNKwr 1912.09713v1\n",
      "2020_SylR-CEKDS 1907.09899v2\n",
      "2020_Syx79eBKwr 1910.08350v2\n",
      "2020_r1e0G04Kvr 1805.09980v2\n",
      "2020_r1e9GCNKvH 1912.00120v1\n",
      "2020_r1gc3lBFPH 1910.02292v1\n",
      "2020_r1gixp4FPH 1810.13395v5\n",
      "2020_r1glygHtDB 1906.12177v1\n",
      "2020_r1lGO0EKDH 1910.02370v2\n",
      "2020_r1lOgyrKDS 1912.13151v1\n",
      "2020_r1lQQeHYPr 1902.01385v1\n",
      "2020_r1lUl6NFDH 1910.08237v1\n",
      "2020_r1lczkHKPr 1909.13518v1\n",
      "2020_r1x_DaVKwH 1908.04683v5\n",
      "2020_rJel41BtDH 1908.02983v4\n",
      "2020_rJlDoT4twr 1905.12019v3\n",
      "2020_rJleFREKDr 1911.08542v1\n",
      "2020_rJx0Q6EFPB 1909.10351v4\n",
      "2020_rJx7wlSYvB 1907.05911v1\n",
      "2020_rJxok1BYPr 1912.10156v1\n",
      "2020_rJxwDTVFDB 1805.09208v2\n",
      "2020_rkeNqkBFPB 1912.10321v1\n",
      "2020_rkeS1RVtPS 1902.03932v1\n",
      "2020_rkeYL1SFvH 1907.05791v2\n",
      "2020_rkecl1rtwB 1909.12223v2\n",
      "2020_rkenmREFDr 1901.08544v3\n",
      "2020_rkeuAhVKvB 1909.11334v2\n",
      "2020_rkg0_eHtDr 1907.00030v1\n",
      "2020_rkgO66VKDS 1902.08153v2\n",
      "2020_rkgdYhVtvH 2002.06755v1\n",
      "2020_rkl8sJBYvH 1910.01663v3\n",
      "2020_rklMnyBtPB 1909.04068v1\n",
      "2020_rklbKA4YDS 1906.02226v2\n",
      "2020_rklk_ySYPB 1905.11213v1\n",
      "2020_rkxDoJBYPB 1905.02494v4\n",
      "2020_rkxEKp4Fwr 1905.12737v2\n",
      "2020_rkxKwJrKPS 1906.08189v3\n",
      "2020_rkxs0yHFPH 1906.00851v1\n",
      "2020_rkxuWaVYDB 1907.13548v1\n",
      "2020_ryefE1SYDr 1906.08090v2\n",
      "2020_rygGQyrFvH 1904.09751v2\n",
      "2020_rygPm64tDH 1906.10670v1\n",
      "2020_rygw7aNYDS 1910.05471v2\n",
      "2020_ryl-RTEYvB 1908.02729v1\n",
      "2020_rylCP6NFDB 1907.12439v3\n",
      "2020_rylNJlStwB 1912.13243v1\n",
      "2020_rylfl6VFDH 1805.10896v3\n",
      "2020_ryljMpNtwr 1907.07484v1\n",
      "2020_rylxpA4YwH 1907.08175v3\n",
      "2020_ryx4PJrtvS 1909.13595v1\n",
      "2020_ryxC-kBYDS 1902.00045v1\n",
      "2020_ryxgJTEYDr 1906.10667v1\n",
      "2020_ryxmrpNtvH 2001.01431v1\n",
      "2020_ryxtCpNtDS 1901.02514v4\n"
     ]
    }
   ],
   "source": [
    "for k in unext_for_full_text:\n",
    "    arxivid = iclr_arxiv_map[k][\"arxivId\"]\n",
    "    dir_name = arxivid.split(\".\")[0]\n",
    "    \n",
    "    # Read all tex file to extract references\n",
    "    full_latex_text = \"\"\n",
    "    potential_tex_files = glob.glob(\"./data/unpacked_sources/{}/{}/*.tex\".format(dir_name, arxivid))\n",
    "    try:\n",
    "        new_potents = []\n",
    "        new_potents = glob.glob(\"./data/unpacked_sources/{}/{}/[a-zA-Z]*/*.tex\".format(dir_name, arxivid))\n",
    "    except Exception:\n",
    "        continue\n",
    "    \n",
    "    \n",
    "    potential_main_tex_files = []\n",
    "    # Finding the main tex file\n",
    "    for f in potential_tex_files:\n",
    "        file_name = f.rsplit(\"/\", 1)[1]\n",
    "        if file_name.find(\"main\") > -1:\n",
    "            potential_main_tex_files.append(f)\n",
    "        elif file_name.find(\"iclr\") > -1:\n",
    "            potential_main_tex_files.append(f)\n",
    "    \n",
    "    for f in new_potents:\n",
    "        file_name = f.rsplit(\"/\", 1)[1]\n",
    "        if file_name.find(\"main\") > -1:\n",
    "            potential_main_tex_files.append(f)\n",
    "        elif file_name.find(\"iclr\") > -1:\n",
    "            potential_main_tex_files.append(f)\n",
    "    \n",
    "    #if len(potential_main_tex_files) > 1:\n",
    "    #    print(k, potential_main_tex_files)\n",
    "    \n",
    "    if len(potential_main_tex_files) == 0:\n",
    "        print(k, arxivid)\n",
    "    "
   ]
  },
  {
   "cell_type": "markdown",
   "metadata": {},
   "source": [
    "## Finding refs from full text finally here"
   ]
  },
  {
   "cell_type": "code",
   "execution_count": 632,
   "metadata": {},
   "outputs": [],
   "source": [
    "for k in unext_for_full_text:\n",
    "    arxivid = iclr_arxiv_map[k][\"arxivId\"]\n",
    "    dir_name = arxivid.split(\".\")[0]\n",
    "    \n",
    "    paper = pc.get_by_id(arxivid)\n",
    "    \n",
    "    useful_tables = []\n",
    "    for idx, l in enumerate(leaderboard_table_refs[k][\"table_labels\"]):\n",
    "        if l[0] == \"leaderboard\" or l[0] == \"ablation\":\n",
    "            useful_tables.append(idx)\n",
    "    \n",
    "    # Read all tex file to extract references\n",
    "    full_latex_text = \"\"\n",
    "    potential_tex_files = glob.glob(\"./data/unpacked_sources/{}/{}/*.tex\".format(dir_name, arxivid))\n",
    "    try:\n",
    "        new_potents = []\n",
    "        new_potents = glob.glob(\"./data/unpacked_sources/{}/{}/[a-zA-Z]*/*.tex\".format(dir_name, arxivid))\n",
    "        second_level = glob.glob(\"./data/unpacked_sources/{}/{}/[a-zA-Z]*/[a-zA-Z]*/*.tex\".format(dir_name, arxivid))\n",
    "        new_potents = new_potents + second_level\n",
    "    except Exception:\n",
    "        continue\n",
    "    \n",
    "    for f in potential_tex_files:\n",
    "        try:\n",
    "            with open(f, \"r\") as filehandler:\n",
    "                file_lines = filehandler.readlines()\n",
    "            full_latex_text += \" \".join(file_lines)\n",
    "        except Exception as ex:\n",
    "            continue\n",
    "    \n",
    "    if new_potents:\n",
    "        for f in new_potents:\n",
    "            try:\n",
    "                with open(f, \"r\") as filehandler:\n",
    "                    file_lines = filehandler.readlines()\n",
    "                full_latex_text += \" \".join(file_lines)\n",
    "            except Exception as ex:\n",
    "                continue\n",
    "#     try:\n",
    "    full_text[k] = full_latex_text\n",
    "    candidates_for_ref_methods = []\n",
    "    for indices in useful_tables:\n",
    "        row = paper.tables[indices].df.loc[0,:]\n",
    "        col = paper.tables[indices].df.loc[:,0]\n",
    "        try:\n",
    "            row1 = paper.tables[indices].df.loc[1,:]\n",
    "        except Exception:\n",
    "            row1 = []\n",
    "        try:\n",
    "            col1 = paper.tables[indices].df.loc[:,1]\n",
    "        except Exception:\n",
    "            col1 = []\n",
    "        \n",
    "        for j in [row, row1, col, col1]:\n",
    "            for iii in j:\n",
    "                stripped_val = iii.raw_value.strip()\n",
    "                stripped_val = stripped_val.replace(\"<bold>\", \" \")\n",
    "                stripped_val = stripped_val.replace(\"</bold>\", \" \")\n",
    "                stripped_val = stripped_val.replace(\"<italic>\", \" \")\n",
    "                stripped_val = stripped_val.replace(\"</italic>\", \" \")\n",
    "                stripped_val = stripped_val.strip()\n",
    "                if stripped_val:\n",
    "                    candidates_for_ref_methods.append(stripped_val)\n",
    "                \n",
    "    upper_case_candidates = []\n",
    "    for candss in candidates_for_ref_methods:\n",
    "        split_candidates = re.compile(\"([\\w][\\w]*'?\\w?)\").findall(candss)\n",
    "        for temp_cand in split_candidates:\n",
    "            if temp_cand.isupper():\n",
    "                upper_case_candidates.append(temp_cand)\n",
    "    \n",
    "    upper_case_candidates = list(set(upper_case_candidates))\n",
    "            \n",
    "    candidatesssssss[k] = list(set(candidates_for_ref_methods + upper_case_candidates))\n",
    "\n",
    "    for candidate_ref_method in candidatesssssss[k]:\n",
    "        if candidate_ref_method.find(\"et al\") > -1:\n",
    "            full_text_refs_dict[k].append(candidate_ref_method)\n",
    "        if full_latex_text.find(candidate_ref_method) > -1:\n",
    "            \n",
    "            stripped_val = candidate_ref_method.replace(\"+\", \"\\+\")\n",
    "            stripped_val = stripped_val.replace(\"(\", \"\\(\")\n",
    "            stripped_val = stripped_val.replace(\")\", \"\\)\")\n",
    "            stripped_val = stripped_val.replace(\"{\", \"\\{\")\n",
    "            stripped_val = stripped_val.replace(\"}\", \"\\}\")\n",
    "            stripped_val = stripped_val.replace(\"[\", \"\\[\")\n",
    "            stripped_val = stripped_val.replace(\"]\", \"\\]\")\n",
    "            stripped_val = stripped_val.replace(\"*\", \"\\*\")\n",
    "            stripped_val = stripped_val.replace(\".\", \"\\.\")\n",
    "            stripped_val = stripped_val.replace(\"?\", \"\\?\")\n",
    "\n",
    "            for locss in re.finditer(stripped_val, full_latex_text):\n",
    "                start_loc = locss.start()\n",
    "                end_loc = locss.end()\n",
    "                chunk = full_latex_text[max(0, start_loc-50): min(end_loc+50, len(full_latex_text))]\n",
    "                chunk_\n",
    "                m = re.findall(\"cite[a-z\\{]\", chunk)\n",
    "                if m:\n",
    "                    full_text_refs_dict[k].append(chunk)\n",
    "#     except Exception as ex:\n",
    "#         print(ex)\n",
    "#         continue\n",
    "#     break"
   ]
  },
  {
   "cell_type": "code",
   "execution_count": 651,
   "metadata": {},
   "outputs": [],
   "source": [
    "with open(\"refs_full_text.pkl\", \"wb\") as f:\n",
    "    pickle.dump(full_text_refs_dict, f)"
   ]
  },
  {
   "cell_type": "code",
   "execution_count": null,
   "metadata": {},
   "outputs": [],
   "source": []
  },
  {
   "cell_type": "code",
   "execution_count": 633,
   "metadata": {},
   "outputs": [
    {
     "name": "stdout",
     "output_type": "stream",
     "text": [
      "True\n"
     ]
    }
   ],
   "source": [
    "if \"2018_B1bgpzZAZ\" in full_text_refs_dict:\n",
    "    print(\"True\")"
   ]
  },
  {
   "cell_type": "code",
   "execution_count": 634,
   "metadata": {},
   "outputs": [
    {
     "data": {
      "text/plain": [
       "1127"
      ]
     },
     "execution_count": 634,
     "metadata": {},
     "output_type": "execute_result"
    }
   ],
   "source": [
    "len(full_text_refs_dict)"
   ]
  },
  {
   "cell_type": "code",
   "execution_count": 602,
   "metadata": {},
   "outputs": [
    {
     "data": {
      "text/plain": [
       "1061"
      ]
     },
     "execution_count": 602,
     "metadata": {},
     "output_type": "execute_result"
    }
   ],
   "source": [
    "len(full_text_refs_dict)"
   ]
  },
  {
   "cell_type": "code",
   "execution_count": null,
   "metadata": {},
   "outputs": [],
   "source": []
  },
  {
   "cell_type": "code",
   "execution_count": 635,
   "metadata": {},
   "outputs": [],
   "source": [
    "still_left_set = set(unext_for_full_text) - set(list(full_text_refs_dict.keys()))"
   ]
  },
  {
   "cell_type": "code",
   "execution_count": 636,
   "metadata": {},
   "outputs": [
    {
     "data": {
      "text/plain": [
       "(69,\n",
       " ['2020_BkexaxBKPB',\n",
       "  '2018_HkfXMz-Ab',\n",
       "  '2017_ryZqPN5xe',\n",
       "  '2020_Byxv2pEKPH',\n",
       "  '2017_ByG8A7cee',\n",
       "  '2020_Hkxi2gHYvH',\n",
       "  '2018_rkfbLilAb',\n",
       "  '2019_HJMXTsCqYQ',\n",
       "  '2020_rygPm64tDH',\n",
       "  '2020_rkxuWaVYDB',\n",
       "  '2017_rk5upnsxe',\n",
       "  '2019_Hke-JhA9Y7',\n",
       "  '2020_Syld53NtvH',\n",
       "  '2018_r1Kr3TyAb',\n",
       "  '2019_B1EjKsRqtQ',\n",
       "  '2018_BJDH5M-AW',\n",
       "  '2020_H1xSOTVtvH',\n",
       "  '2020_rygvFyrKwH',\n",
       "  '2020_BJedt6VKPS'])"
      ]
     },
     "execution_count": 636,
     "metadata": {},
     "output_type": "execute_result"
    }
   ],
   "source": [
    "len(still_left_set), list(still_left_set)[50:70]"
   ]
  },
  {
   "cell_type": "code",
   "execution_count": 644,
   "metadata": {},
   "outputs": [
    {
     "data": {
      "text/plain": [
       "('1910.02840v1',\n",
       " ['✓',\n",
       "  '22.90',\n",
       "  '6.79',\n",
       "  'FarkasNet34',\n",
       "  'FarkasNet (with BN)',\n",
       "  '30.34',\n",
       "  'ResNet (with BN)',\n",
       "  '4.95',\n",
       "  'ResNet (no BN, small LR)',\n",
       "  '23.23 / 6.49',\n",
       "  'FarkasNet (no BN, small LR)',\n",
       "  '6.77',\n",
       "  '23.70 / 6.65',\n",
       "  '40.10',\n",
       "  'FixUp34',\n",
       "  'BN',\n",
       "  'Large',\n",
       "  '50 Layers',\n",
       "  '101 Layers',\n",
       "  'ResNet34',\n",
       "  '10.83',\n",
       "  '152 Layers',\n",
       "  'FarkasNet (no BN)',\n",
       "  'ResNet (with BN, large LR)',\n",
       "  '23.43',\n",
       "  '34.70',\n",
       "  '6.87',\n",
       "  'ResNet (no BN)',\n",
       "  'FarkasNet (with BN, large LR)',\n",
       "  '22.26/5.95',\n",
       "  'Batch Normalization',\n",
       "  'LR',\n",
       "  '✗',\n",
       "  '18 Layers',\n",
       "  'LR capacity',\n",
       "  '12.51',\n",
       "  '30.95',\n",
       "  '5.04',\n",
       "  'Test Error',\n",
       "  '7.01',\n",
       "  '25.64/7.68',\n",
       "  '34 Layers'])"
      ]
     },
     "execution_count": 644,
     "metadata": {},
     "output_type": "execute_result"
    }
   ],
   "source": [
    "nk = \"2020_Byxv2pEKPH\"\n",
    "iclr_arxiv_map[nk][\"arxivId\"], candidatesssssss[nk]"
   ]
  },
  {
   "cell_type": "code",
   "execution_count": 639,
   "metadata": {
    "collapsed": true
   },
   "outputs": [
    {
     "name": "stdout",
     "output_type": "stream",
     "text": [
      "['GA', 'Reader', 'GAR']\n",
      "GA\n",
      "GAR\n"
     ]
    }
   ],
   "source": [
    "split_candidates = re.compile(\"([\\w][\\w]*'?\\w?)\").findall(\"GA Reader (GAR)\")\n",
    "print(split_candidates)\n",
    "for tempo in split_candidates:\n",
    "    if tempo.isupper():\n",
    "        print(tempo)"
   ]
  },
  {
   "cell_type": "code",
   "execution_count": 628,
   "metadata": {
    "collapsed": true
   },
   "outputs": [
    {
     "name": "stdout",
     "output_type": "stream",
     "text": [
      "['cite{'] 11626 11629 taset and compare it with Gated Attention Reader (GAR) \\cite{DBLP:conf/acl/DhingraLYCS17}, the current \n",
      "['cite{'] 11626 11629 GAR)\n"
     ]
    }
   ],
   "source": [
    "for locss in re.finditer(\"GAR\", ft):\n",
    "    start_loc = locss.start()\n",
    "    end_loc = locss.end()\n",
    "    chunk = ft[max(0, start_loc-50): min(end_loc+50, len(ft))]\n",
    "    m = re.findall(\"cite[a-z\\{]\", chunk)\n",
    "    if m:\n",
    "        print(m, start_loc, end_loc, chunk)\n",
    "        print(m, start_loc, end_loc, ft[start_loc:end_loc+1])\n",
    "#         print(\"Found\")\n",
    "#         print(chunk[start_loc-20:end_loc+20])\n"
   ]
  },
  {
   "cell_type": "code",
   "execution_count": 645,
   "metadata": {},
   "outputs": [
    {
     "data": {
      "text/plain": [
       "'%%%%% NEW MATH DEFINITIONS %%%%%\\n \\n \\\\usepackage{amsmath,amsfonts,bm}\\n \\n % Mark sections of captions for referring to divisions of figures\\n \\\\newcommand{\\\\figleft}{{\\\\em (Left)}}\\n \\\\newcommand{\\\\figcenter}{{\\\\em (Center)}}\\n \\\\newcommand{\\\\figright}{{\\\\em (Right)}}\\n \\\\newcommand{\\\\figtop}{{\\\\em (Top)}}\\n \\\\newcommand{\\\\figbottom}{{\\\\em (Bottom)}}\\n \\\\newcommand{\\\\captiona}{{\\\\em (a)}}\\n \\\\newcommand{\\\\captionb}{{\\\\em (b)}}\\n \\\\newcommand{\\\\captionc}{{\\\\em (c)}}\\n \\\\newcommand{\\\\captiond}{{\\\\em (d)}}\\n \\n % Highlight a newly defined term\\n \\\\newcommand{\\\\newterm}[1]{{\\\\bf #1}}\\n \\n \\n % Figure reference, lower-case.\\n \\\\def\\\\figref#1{figure~\\\\ref{#1}}\\n % Figure reference, capital. For start of sentence\\n \\\\def\\\\Figref#1{Figure~\\\\ref{#1}}\\n \\\\def\\\\twofigref#1#2{figures \\\\ref{#1} and \\\\ref{#2}}\\n \\\\def\\\\quadfigref#1#2#3#4{figures \\\\ref{#1}, \\\\ref{#2}, \\\\ref{#3} and \\\\ref{#4}}\\n % Section reference, lower-case.\\n \\\\def\\\\secref#1{section~\\\\ref{#1}}\\n % Section reference, capital.\\n \\\\def\\\\Secref#1{Section~\\\\ref{#1}}\\n % Reference to two sections.\\n \\\\def\\\\twosecrefs#1#2{sections \\\\ref{#1} and \\\\ref{#2}}\\n % Reference to three sections.\\n \\\\def\\\\secrefs#1#2#3{sections \\\\ref{#1}, \\\\ref{#2} and \\\\ref{#3}}\\n % Reference to an equation, lower-case.\\n \\\\def\\\\eqref#1{equation~\\\\ref{#1}}\\n % Reference to an equation, upper case\\n \\\\def\\\\Eqref#1{Equation~\\\\ref{#1}}\\n % A raw reference to an equation---avoid using if possible\\n \\\\def\\\\plaineqref#1{\\\\ref{#1}}\\n % Reference to a chapter, lower-case.\\n \\\\def\\\\chapref#1{chapter~\\\\ref{#1}}\\n % Reference to an equation, upper case.\\n \\\\def\\\\Chapref#1{Chapter~\\\\ref{#1}}\\n % Reference to a range of chapters\\n \\\\def\\\\rangechapref#1#2{chapters\\\\ref{#1}--\\\\ref{#2}}\\n % Reference to an algorithm, lower-case.\\n \\\\def\\\\algref#1{algorithm~\\\\ref{#1}}\\n % Reference to an algorithm, upper case.\\n \\\\def\\\\Algref#1{Algorithm~\\\\ref{#1}}\\n \\\\def\\\\twoalgref#1#2{algorithms \\\\ref{#1} and \\\\ref{#2}}\\n \\\\def\\\\Twoalgref#1#2{Algorithms \\\\ref{#1} and \\\\ref{#2}}\\n % Reference to a part, lower case\\n \\\\def\\\\partref#1{part~\\\\ref{#1}}\\n % Reference to a part, upper case\\n \\\\def\\\\Partref#1{Part~\\\\ref{#1}}\\n \\\\def\\\\twopartref#1#2{parts \\\\ref{#1} and \\\\ref{#2}}\\n \\n \\\\def\\\\ceil#1{\\\\lceil #1 \\\\rceil}\\n \\\\def\\\\floor#1{\\\\lfloor #1 \\\\rfloor}\\n \\\\def\\\\1{\\\\bm{1}}\\n \\\\newcommand{\\\\train}{\\\\mathcal{D}}\\n \\\\newcommand{\\\\valid}{\\\\mathcal{D_{\\\\mathrm{valid}}}}\\n \\\\newcommand{\\\\test}{\\\\mathcal{D_{\\\\mathrm{test}}}}\\n \\n \\\\def\\\\eps{{\\\\epsilon}}\\n \\n \\n % Random variables\\n \\\\def\\\\reta{{\\\\textnormal{$\\\\eta$}}}\\n \\\\def\\\\ra{{\\\\textnormal{a}}}\\n \\\\def\\\\rb{{\\\\textnormal{b}}}\\n \\\\def\\\\rc{{\\\\textnormal{c}}}\\n \\\\def\\\\rd{{\\\\textnormal{d}}}\\n \\\\def\\\\re{{\\\\textnormal{e}}}\\n \\\\def\\\\rf{{\\\\textnormal{f}}}\\n \\\\def\\\\rg{{\\\\textnormal{g}}}\\n \\\\def\\\\rh{{\\\\textnormal{h}}}\\n \\\\def\\\\ri{{\\\\textnormal{i}}}\\n \\\\def\\\\rj{{\\\\textnormal{j}}}\\n \\\\def\\\\rk{{\\\\textnormal{k}}}\\n \\\\def\\\\rl{{\\\\textnormal{l}}}\\n % rm is already a command, just don\\'t name any random variables m\\n \\\\def\\\\rn{{\\\\textnormal{n}}}\\n \\\\def\\\\ro{{\\\\textnormal{o}}}\\n \\\\def\\\\rp{{\\\\textnormal{p}}}\\n \\\\def\\\\rq{{\\\\textnormal{q}}}\\n \\\\def\\\\rr{{\\\\textnormal{r}}}\\n \\\\def\\\\rs{{\\\\textnormal{s}}}\\n \\\\def\\\\rt{{\\\\textnormal{t}}}\\n \\\\def\\\\ru{{\\\\textnormal{u}}}\\n \\\\def\\\\rv{{\\\\textnormal{v}}}\\n \\\\def\\\\rw{{\\\\textnormal{w}}}\\n \\\\def\\\\rx{{\\\\textnormal{x}}}\\n \\\\def\\\\ry{{\\\\textnormal{y}}}\\n \\\\def\\\\rz{{\\\\textnormal{z}}}\\n \\n % Random vectors\\n \\\\def\\\\rvepsilon{{\\\\mathbf{\\\\epsilon}}}\\n \\\\def\\\\rvtheta{{\\\\mathbf{\\\\theta}}}\\n \\\\def\\\\rva{{\\\\mathbf{a}}}\\n \\\\def\\\\rvb{{\\\\mathbf{b}}}\\n \\\\def\\\\rvc{{\\\\mathbf{c}}}\\n \\\\def\\\\rvd{{\\\\mathbf{d}}}\\n \\\\def\\\\rve{{\\\\mathbf{e}}}\\n \\\\def\\\\rvf{{\\\\mathbf{f}}}\\n \\\\def\\\\rvg{{\\\\mathbf{g}}}\\n \\\\def\\\\rvh{{\\\\mathbf{h}}}\\n \\\\def\\\\rvu{{\\\\mathbf{i}}}\\n \\\\def\\\\rvj{{\\\\mathbf{j}}}\\n \\\\def\\\\rvk{{\\\\mathbf{k}}}\\n \\\\def\\\\rvl{{\\\\mathbf{l}}}\\n \\\\def\\\\rvm{{\\\\mathbf{m}}}\\n \\\\def\\\\rvn{{\\\\mathbf{n}}}\\n \\\\def\\\\rvo{{\\\\mathbf{o}}}\\n \\\\def\\\\rvp{{\\\\mathbf{p}}}\\n \\\\def\\\\rvq{{\\\\mathbf{q}}}\\n \\\\def\\\\rvr{{\\\\mathbf{r}}}\\n \\\\def\\\\rvs{{\\\\mathbf{s}}}\\n \\\\def\\\\rvt{{\\\\mathbf{t}}}\\n \\\\def\\\\rvu{{\\\\mathbf{u}}}\\n \\\\def\\\\rvv{{\\\\mathbf{v}}}\\n \\\\def\\\\rvw{{\\\\mathbf{w}}}\\n \\\\def\\\\rvx{{\\\\mathbf{x}}}\\n \\\\def\\\\rvy{{\\\\mathbf{y}}}\\n \\\\def\\\\rvz{{\\\\mathbf{z}}}\\n \\n % Elements of random vectors\\n \\\\def\\\\erva{{\\\\textnormal{a}}}\\n \\\\def\\\\ervb{{\\\\textnormal{b}}}\\n \\\\def\\\\ervc{{\\\\textnormal{c}}}\\n \\\\def\\\\ervd{{\\\\textnormal{d}}}\\n \\\\def\\\\erve{{\\\\textnormal{e}}}\\n \\\\def\\\\ervf{{\\\\textnormal{f}}}\\n \\\\def\\\\ervg{{\\\\textnormal{g}}}\\n \\\\def\\\\ervh{{\\\\textnormal{h}}}\\n \\\\def\\\\ervi{{\\\\textnormal{i}}}\\n \\\\def\\\\ervj{{\\\\textnormal{j}}}\\n \\\\def\\\\ervk{{\\\\textnormal{k}}}\\n \\\\def\\\\ervl{{\\\\textnormal{l}}}\\n \\\\def\\\\ervm{{\\\\textnormal{m}}}\\n \\\\def\\\\ervn{{\\\\textnormal{n}}}\\n \\\\def\\\\ervo{{\\\\textnormal{o}}}\\n \\\\def\\\\ervp{{\\\\textnormal{p}}}\\n \\\\def\\\\ervq{{\\\\textnormal{q}}}\\n \\\\def\\\\ervr{{\\\\textnormal{r}}}\\n \\\\def\\\\ervs{{\\\\textnormal{s}}}\\n \\\\def\\\\ervt{{\\\\textnormal{t}}}\\n \\\\def\\\\ervu{{\\\\textnormal{u}}}\\n \\\\def\\\\ervv{{\\\\textnormal{v}}}\\n \\\\def\\\\ervw{{\\\\textnormal{w}}}\\n \\\\def\\\\ervx{{\\\\textnormal{x}}}\\n \\\\def\\\\ervy{{\\\\textnormal{y}}}\\n \\\\def\\\\ervz{{\\\\textnormal{z}}}\\n \\n % Random matrices\\n \\\\def\\\\rmA{{\\\\mathbf{A}}}\\n \\\\def\\\\rmB{{\\\\mathbf{B}}}\\n \\\\def\\\\rmC{{\\\\mathbf{C}}}\\n \\\\def\\\\rmD{{\\\\mathbf{D}}}\\n \\\\def\\\\rmE{{\\\\mathbf{E}}}\\n \\\\def\\\\rmF{{\\\\mathbf{F}}}\\n \\\\def\\\\rmG{{\\\\mathbf{G}}}\\n \\\\def\\\\rmH{{\\\\mathbf{H}}}\\n \\\\def\\\\rmI{{\\\\mathbf{I}}}\\n \\\\def\\\\rmJ{{\\\\mathbf{J}}}\\n \\\\def\\\\rmK{{\\\\mathbf{K}}}\\n \\\\def\\\\rmL{{\\\\mathbf{L}}}\\n \\\\def\\\\rmM{{\\\\mathbf{M}}}\\n \\\\def\\\\rmN{{\\\\mathbf{N}}}\\n \\\\def\\\\rmO{{\\\\mathbf{O}}}\\n \\\\def\\\\rmP{{\\\\mathbf{P}}}\\n \\\\def\\\\rmQ{{\\\\mathbf{Q}}}\\n \\\\def\\\\rmR{{\\\\mathbf{R}}}\\n \\\\def\\\\rmS{{\\\\mathbf{S}}}\\n \\\\def\\\\rmT{{\\\\mathbf{T}}}\\n \\\\def\\\\rmU{{\\\\mathbf{U}}}\\n \\\\def\\\\rmV{{\\\\mathbf{V}}}\\n \\\\def\\\\rmW{{\\\\mathbf{W}}}\\n \\\\def\\\\rmX{{\\\\mathbf{X}}}\\n \\\\def\\\\rmY{{\\\\mathbf{Y}}}\\n \\\\def\\\\rmZ{{\\\\mathbf{Z}}}\\n \\n % Elements of random matrices\\n \\\\def\\\\ermA{{\\\\textnormal{A}}}\\n \\\\def\\\\ermB{{\\\\textnormal{B}}}\\n \\\\def\\\\ermC{{\\\\textnormal{C}}}\\n \\\\def\\\\ermD{{\\\\textnormal{D}}}\\n \\\\def\\\\ermE{{\\\\textnormal{E}}}\\n \\\\def\\\\ermF{{\\\\textnormal{F}}}\\n \\\\def\\\\ermG{{\\\\textnormal{G}}}\\n \\\\def\\\\ermH{{\\\\textnormal{H}}}\\n \\\\def\\\\ermI{{\\\\textnormal{I}}}\\n \\\\def\\\\ermJ{{\\\\textnormal{J}}}\\n \\\\def\\\\ermK{{\\\\textnormal{K}}}\\n \\\\def\\\\ermL{{\\\\textnormal{L}}}\\n \\\\def\\\\ermM{{\\\\textnormal{M}}}\\n \\\\def\\\\ermN{{\\\\textnormal{N}}}\\n \\\\def\\\\ermO{{\\\\textnormal{O}}}\\n \\\\def\\\\ermP{{\\\\textnormal{P}}}\\n \\\\def\\\\ermQ{{\\\\textnormal{Q}}}\\n \\\\def\\\\ermR{{\\\\textnormal{R}}}\\n \\\\def\\\\ermS{{\\\\textnormal{S}}}\\n \\\\def\\\\ermT{{\\\\textnormal{T}}}\\n \\\\def\\\\ermU{{\\\\textnormal{U}}}\\n \\\\def\\\\ermV{{\\\\textnormal{V}}}\\n \\\\def\\\\ermW{{\\\\textnormal{W}}}\\n \\\\def\\\\ermX{{\\\\textnormal{X}}}\\n \\\\def\\\\ermY{{\\\\textnormal{Y}}}\\n \\\\def\\\\ermZ{{\\\\textnormal{Z}}}\\n \\n % Vectors\\n \\\\def\\\\vzero{{\\\\bm{0}}}\\n \\\\def\\\\vone{{\\\\bm{1}}}\\n \\\\def\\\\vmu{{\\\\bm{\\\\mu}}}\\n \\\\def\\\\vtheta{{\\\\bm{\\\\theta}}}\\n \\\\def\\\\va{{\\\\bm{a}}}\\n \\\\def\\\\vb{{\\\\bm{b}}}\\n \\\\def\\\\vc{{\\\\bm{c}}}\\n \\\\def\\\\vd{{\\\\bm{d}}}\\n \\\\def\\\\ve{{\\\\bm{e}}}\\n \\\\def\\\\vf{{\\\\bm{f}}}\\n \\\\def\\\\vg{{\\\\bm{g}}}\\n \\\\def\\\\vh{{\\\\bm{h}}}\\n \\\\def\\\\vi{{\\\\bm{i}}}\\n \\\\def\\\\vj{{\\\\bm{j}}}\\n \\\\def\\\\vk{{\\\\bm{k}}}\\n \\\\def\\\\vl{{\\\\bm{l}}}\\n \\\\def\\\\vm{{\\\\bm{m}}}\\n \\\\def\\\\vn{{\\\\bm{n}}}\\n \\\\def\\\\vo{{\\\\bm{o}}}\\n \\\\def\\\\vp{{\\\\bm{p}}}\\n \\\\def\\\\vq{{\\\\bm{q}}}\\n \\\\def\\\\vr{{\\\\bm{r}}}\\n \\\\def\\\\vs{{\\\\bm{s}}}\\n \\\\def\\\\vt{{\\\\bm{t}}}\\n \\\\def\\\\vu{{\\\\bm{u}}}\\n \\\\def\\\\vv{{\\\\bm{v}}}\\n \\\\def\\\\vw{{\\\\bm{w}}}\\n \\\\def\\\\vx{{\\\\bm{x}}}\\n \\\\def\\\\vy{{\\\\bm{y}}}\\n \\\\def\\\\vz{{\\\\bm{z}}}\\n \\n % Elements of vectors\\n \\\\def\\\\evalpha{{\\\\alpha}}\\n \\\\def\\\\evbeta{{\\\\beta}}\\n \\\\def\\\\evepsilon{{\\\\epsilon}}\\n \\\\def\\\\evlambda{{\\\\lambda}}\\n \\\\def\\\\evomega{{\\\\omega}}\\n \\\\def\\\\evmu{{\\\\mu}}\\n \\\\def\\\\evpsi{{\\\\psi}}\\n \\\\def\\\\evsigma{{\\\\sigma}}\\n \\\\def\\\\evtheta{{\\\\theta}}\\n \\\\def\\\\eva{{a}}\\n \\\\def\\\\evb{{b}}\\n \\\\def\\\\evc{{c}}\\n \\\\def\\\\evd{{d}}\\n \\\\def\\\\eve{{e}}\\n \\\\def\\\\evf{{f}}\\n \\\\def\\\\evg{{g}}\\n \\\\def\\\\evh{{h}}\\n \\\\def\\\\evi{{i}}\\n \\\\def\\\\evj{{j}}\\n \\\\def\\\\evk{{k}}\\n \\\\def\\\\evl{{l}}\\n \\\\def\\\\evm{{m}}\\n \\\\def\\\\evn{{n}}\\n \\\\def\\\\evo{{o}}\\n \\\\def\\\\evp{{p}}\\n \\\\def\\\\evq{{q}}\\n \\\\def\\\\evr{{r}}\\n \\\\def\\\\evs{{s}}\\n \\\\def\\\\evt{{t}}\\n \\\\def\\\\evu{{u}}\\n \\\\def\\\\evv{{v}}\\n \\\\def\\\\evw{{w}}\\n \\\\def\\\\evx{{x}}\\n \\\\def\\\\evy{{y}}\\n \\\\def\\\\evz{{z}}\\n \\n % Matrix\\n \\\\def\\\\mA{{\\\\bm{A}}}\\n \\\\def\\\\mB{{\\\\bm{B}}}\\n \\\\def\\\\mC{{\\\\bm{C}}}\\n \\\\def\\\\mD{{\\\\bm{D}}}\\n \\\\def\\\\mE{{\\\\bm{E}}}\\n \\\\def\\\\mF{{\\\\bm{F}}}\\n \\\\def\\\\mG{{\\\\bm{G}}}\\n \\\\def\\\\mH{{\\\\bm{H}}}\\n \\\\def\\\\mI{{\\\\bm{I}}}\\n \\\\def\\\\mJ{{\\\\bm{J}}}\\n \\\\def\\\\mK{{\\\\bm{K}}}\\n \\\\def\\\\mL{{\\\\bm{L}}}\\n \\\\def\\\\mM{{\\\\bm{M}}}\\n \\\\def\\\\mN{{\\\\bm{N}}}\\n \\\\def\\\\mO{{\\\\bm{O}}}\\n \\\\def\\\\mP{{\\\\bm{P}}}\\n \\\\def\\\\mQ{{\\\\bm{Q}}}\\n \\\\def\\\\mR{{\\\\bm{R}}}\\n \\\\def\\\\mS{{\\\\bm{S}}}\\n \\\\def\\\\mT{{\\\\bm{T}}}\\n \\\\def\\\\mU{{\\\\bm{U}}}\\n \\\\def\\\\mV{{\\\\bm{V}}}\\n \\\\def\\\\mW{{\\\\bm{W}}}\\n \\\\def\\\\mX{{\\\\bm{X}}}\\n \\\\def\\\\mY{{\\\\bm{Y}}}\\n \\\\def\\\\mZ{{\\\\bm{Z}}}\\n \\\\def\\\\mBeta{{\\\\bm{\\\\beta}}}\\n \\\\def\\\\mPhi{{\\\\bm{\\\\Phi}}}\\n \\\\def\\\\mLambda{{\\\\bm{\\\\Lambda}}}\\n \\\\def\\\\mSigma{{\\\\bm{\\\\Sigma}}}\\n \\n % Tensor\\n \\\\DeclareMathAlphabet{\\\\mathsfit}{\\\\encodingdefault}{\\\\sfdefault}{m}{sl}\\n \\\\SetMathAlphabet{\\\\mathsfit}{bold}{\\\\encodingdefault}{\\\\sfdefault}{bx}{n}\\n \\\\newcommand{\\\\tens}[1]{\\\\bm{\\\\mathsfit{#1}}}\\n \\\\def\\\\tA{{\\\\tens{A}}}\\n \\\\def\\\\tB{{\\\\tens{B}}}\\n \\\\def\\\\tC{{\\\\tens{C}}}\\n \\\\def\\\\tD{{\\\\tens{D}}}\\n \\\\def\\\\tE{{\\\\tens{E}}}\\n \\\\def\\\\tF{{\\\\tens{F}}}\\n \\\\def\\\\tG{{\\\\tens{G}}}\\n \\\\def\\\\tH{{\\\\tens{H}}}\\n \\\\def\\\\tI{{\\\\tens{I}}}\\n \\\\def\\\\tJ{{\\\\tens{J}}}\\n \\\\def\\\\tK{{\\\\tens{K}}}\\n \\\\def\\\\tL{{\\\\tens{L}}}\\n \\\\def\\\\tM{{\\\\tens{M}}}\\n \\\\def\\\\tN{{\\\\tens{N}}}\\n \\\\def\\\\tO{{\\\\tens{O}}}\\n \\\\def\\\\tP{{\\\\tens{P}}}\\n \\\\def\\\\tQ{{\\\\tens{Q}}}\\n \\\\def\\\\tR{{\\\\tens{R}}}\\n \\\\def\\\\tS{{\\\\tens{S}}}\\n \\\\def\\\\tT{{\\\\tens{T}}}\\n \\\\def\\\\tU{{\\\\tens{U}}}\\n \\\\def\\\\tV{{\\\\tens{V}}}\\n \\\\def\\\\tW{{\\\\tens{W}}}\\n \\\\def\\\\tX{{\\\\tens{X}}}\\n \\\\def\\\\tY{{\\\\tens{Y}}}\\n \\\\def\\\\tZ{{\\\\tens{Z}}}\\n \\n \\n % Graph\\n \\\\def\\\\gA{{\\\\mathcal{A}}}\\n \\\\def\\\\gB{{\\\\mathcal{B}}}\\n \\\\def\\\\gC{{\\\\mathcal{C}}}\\n \\\\def\\\\gD{{\\\\mathcal{D}}}\\n \\\\def\\\\gE{{\\\\mathcal{E}}}\\n \\\\def\\\\gF{{\\\\mathcal{F}}}\\n \\\\def\\\\gG{{\\\\mathcal{G}}}\\n \\\\def\\\\gH{{\\\\mathcal{H}}}\\n \\\\def\\\\gI{{\\\\mathcal{I}}}\\n \\\\def\\\\gJ{{\\\\mathcal{J}}}\\n \\\\def\\\\gK{{\\\\mathcal{K}}}\\n \\\\def\\\\gL{{\\\\mathcal{L}}}\\n \\\\def\\\\gM{{\\\\mathcal{M}}}\\n \\\\def\\\\gN{{\\\\mathcal{N}}}\\n \\\\def\\\\gO{{\\\\mathcal{O}}}\\n \\\\def\\\\gP{{\\\\mathcal{P}}}\\n \\\\def\\\\gQ{{\\\\mathcal{Q}}}\\n \\\\def\\\\gR{{\\\\mathcal{R}}}\\n \\\\def\\\\gS{{\\\\mathcal{S}}}\\n \\\\def\\\\gT{{\\\\mathcal{T}}}\\n \\\\def\\\\gU{{\\\\mathcal{U}}}\\n \\\\def\\\\gV{{\\\\mathcal{V}}}\\n \\\\def\\\\gW{{\\\\mathcal{W}}}\\n \\\\def\\\\gX{{\\\\mathcal{X}}}\\n \\\\def\\\\gY{{\\\\mathcal{Y}}}\\n \\\\def\\\\gZ{{\\\\mathcal{Z}}}\\n \\n % Sets\\n \\\\def\\\\sA{{\\\\mathbb{A}}}\\n \\\\def\\\\sB{{\\\\mathbb{B}}}\\n \\\\def\\\\sC{{\\\\mathbb{C}}}\\n \\\\def\\\\sD{{\\\\mathbb{D}}}\\n % Don\\'t use a set called E, because this would be the same as our symbol\\n % for expectation.\\n \\\\def\\\\sF{{\\\\mathbb{F}}}\\n \\\\def\\\\sG{{\\\\mathbb{G}}}\\n \\\\def\\\\sH{{\\\\mathbb{H}}}\\n \\\\def\\\\sI{{\\\\mathbb{I}}}\\n \\\\def\\\\sJ{{\\\\mathbb{J}}}\\n \\\\def\\\\sK{{\\\\mathbb{K}}}\\n \\\\def\\\\sL{{\\\\mathbb{L}}}\\n \\\\def\\\\sM{{\\\\mathbb{M}}}\\n \\\\def\\\\sN{{\\\\mathbb{N}}}\\n \\\\def\\\\sO{{\\\\mathbb{O}}}\\n \\\\def\\\\sP{{\\\\mathbb{P}}}\\n \\\\def\\\\sQ{{\\\\mathbb{Q}}}\\n \\\\def\\\\sR{{\\\\mathbb{R}}}\\n \\\\def\\\\sS{{\\\\mathbb{S}}}\\n \\\\def\\\\sT{{\\\\mathbb{T}}}\\n \\\\def\\\\sU{{\\\\mathbb{U}}}\\n \\\\def\\\\sV{{\\\\mathbb{V}}}\\n \\\\def\\\\sW{{\\\\mathbb{W}}}\\n \\\\def\\\\sX{{\\\\mathbb{X}}}\\n \\\\def\\\\sY{{\\\\mathbb{Y}}}\\n \\\\def\\\\sZ{{\\\\mathbb{Z}}}\\n \\n % Entries of a matrix\\n \\\\def\\\\emLambda{{\\\\Lambda}}\\n \\\\def\\\\emA{{A}}\\n \\\\def\\\\emB{{B}}\\n \\\\def\\\\emC{{C}}\\n \\\\def\\\\emD{{D}}\\n \\\\def\\\\emE{{E}}\\n \\\\def\\\\emF{{F}}\\n \\\\def\\\\emG{{G}}\\n \\\\def\\\\emH{{H}}\\n \\\\def\\\\emI{{I}}\\n \\\\def\\\\emJ{{J}}\\n \\\\def\\\\emK{{K}}\\n \\\\def\\\\emL{{L}}\\n \\\\def\\\\emM{{M}}\\n \\\\def\\\\emN{{N}}\\n \\\\def\\\\emO{{O}}\\n \\\\def\\\\emP{{P}}\\n \\\\def\\\\emQ{{Q}}\\n \\\\def\\\\emR{{R}}\\n \\\\def\\\\emS{{S}}\\n \\\\def\\\\emT{{T}}\\n \\\\def\\\\emU{{U}}\\n \\\\def\\\\emV{{V}}\\n \\\\def\\\\emW{{W}}\\n \\\\def\\\\emX{{X}}\\n \\\\def\\\\emY{{Y}}\\n \\\\def\\\\emZ{{Z}}\\n \\\\def\\\\emSigma{{\\\\Sigma}}\\n \\n % entries of a tensor\\n % Same font as tensor, without \\\\bm wrapper\\n \\\\newcommand{\\\\etens}[1]{\\\\mathsfit{#1}}\\n \\\\def\\\\etLambda{{\\\\etens{\\\\Lambda}}}\\n \\\\def\\\\etA{{\\\\etens{A}}}\\n \\\\def\\\\etB{{\\\\etens{B}}}\\n \\\\def\\\\etC{{\\\\etens{C}}}\\n \\\\def\\\\etD{{\\\\etens{D}}}\\n \\\\def\\\\etE{{\\\\etens{E}}}\\n \\\\def\\\\etF{{\\\\etens{F}}}\\n \\\\def\\\\etG{{\\\\etens{G}}}\\n \\\\def\\\\etH{{\\\\etens{H}}}\\n \\\\def\\\\etI{{\\\\etens{I}}}\\n \\\\def\\\\etJ{{\\\\etens{J}}}\\n \\\\def\\\\etK{{\\\\etens{K}}}\\n \\\\def\\\\etL{{\\\\etens{L}}}\\n \\\\def\\\\etM{{\\\\etens{M}}}\\n \\\\def\\\\etN{{\\\\etens{N}}}\\n \\\\def\\\\etO{{\\\\etens{O}}}\\n \\\\def\\\\etP{{\\\\etens{P}}}\\n \\\\def\\\\etQ{{\\\\etens{Q}}}\\n \\\\def\\\\etR{{\\\\etens{R}}}\\n \\\\def\\\\etS{{\\\\etens{S}}}\\n \\\\def\\\\etT{{\\\\etens{T}}}\\n \\\\def\\\\etU{{\\\\etens{U}}}\\n \\\\def\\\\etV{{\\\\etens{V}}}\\n \\\\def\\\\etW{{\\\\etens{W}}}\\n \\\\def\\\\etX{{\\\\etens{X}}}\\n \\\\def\\\\etY{{\\\\etens{Y}}}\\n \\\\def\\\\etZ{{\\\\etens{Z}}}\\n \\n % The true underlying data generating distribution\\n \\\\newcommand{\\\\pdata}{p_{\\\\rm{data}}}\\n % The empirical distribution defined by the training set\\n \\\\newcommand{\\\\ptrain}{\\\\hat{p}_{\\\\rm{data}}}\\n \\\\newcommand{\\\\Ptrain}{\\\\hat{P}_{\\\\rm{data}}}\\n % The model distribution\\n \\\\newcommand{\\\\pmodel}{p_{\\\\rm{model}}}\\n \\\\newcommand{\\\\Pmodel}{P_{\\\\rm{model}}}\\n \\\\newcommand{\\\\ptildemodel}{\\\\tilde{p}_{\\\\rm{model}}}\\n % Stochastic autoencoder distributions\\n \\\\newcommand{\\\\pencode}{p_{\\\\rm{encoder}}}\\n \\\\newcommand{\\\\pdecode}{p_{\\\\rm{decoder}}}\\n \\\\newcommand{\\\\precons}{p_{\\\\rm{reconstruct}}}\\n \\n \\\\newcommand{\\\\laplace}{\\\\mathrm{Laplace}} % Laplace distribution\\n \\n \\\\newcommand{\\\\E}{\\\\mathbb{E}}\\n \\\\newcommand{\\\\Ls}{\\\\mathcal{L}}\\n \\\\newcommand{\\\\R}{\\\\mathbb{R}}\\n \\\\newcommand{\\\\emp}{\\\\tilde{p}}\\n \\\\newcommand{\\\\lr}{\\\\alpha}\\n \\\\newcommand{\\\\reg}{\\\\lambda}\\n \\\\newcommand{\\\\rect}{\\\\mathrm{rectifier}}\\n \\\\newcommand{\\\\softmax}{\\\\mathrm{softmax}}\\n \\\\newcommand{\\\\sigmoid}{\\\\sigma}\\n \\\\newcommand{\\\\softplus}{\\\\zeta}\\n \\\\newcommand{\\\\KL}{D_{\\\\mathrm{KL}}}\\n \\\\newcommand{\\\\Var}{\\\\mathrm{Var}}\\n \\\\newcommand{\\\\standarderror}{\\\\mathrm{SE}}\\n \\\\newcommand{\\\\Cov}{\\\\mathrm{Cov}}\\n % Wolfram Mathworld says $L^2$ is for function spaces and $\\\\ell^2$ is for vectors\\n % But then they seem to use $L^2$ for vectors throughout the site, and so does\\n % wikipedia.\\n \\\\newcommand{\\\\normlzero}{L^0}\\n \\\\newcommand{\\\\normlone}{L^1}\\n \\\\newcommand{\\\\normltwo}{L^2}\\n \\\\newcommand{\\\\normlp}{L^p}\\n \\\\newcommand{\\\\normmax}{L^\\\\infty}\\n \\n \\\\newcommand{\\\\parents}{Pa} % See usage in notation.tex. Chosen to match Daphne\\'s book.\\n \\n \\\\DeclareMathOperator*{\\\\argmax}{arg\\\\,max}\\n \\\\DeclareMathOperator*{\\\\argmin}{arg\\\\,min}\\n \\n \\\\DeclareMathOperator{\\\\sign}{sign}\\n \\\\DeclareMathOperator{\\\\Tr}{Tr}\\n \\\\let\\\\ab\\\\allowbreak\\n\\\\documentclass{article} % For LaTeX2e\\n \\\\usepackage{iclr2020_conference,times}\\n \\n \\\\usepackage{amsmath}\\n \\\\usepackage{multirow, makecell}\\n \\\\usepackage{graphicx}\\n \\\\usepackage{wrapfig}\\n \\\\usepackage{booktabs}\\n \\\\usepackage{subcaption}\\n \\\\usepackage{adjustbox}\\n \\\\usepackage{siunitx}\\n \\\\sisetup{detect-weight,output-exponent-marker=\\\\ensuremath{\\\\mathrm{e}}}\\n % for footnotes in tables\\n \\n % for custom table spacing\\n \\\\usepackage{array}\\n \\\\newcolumntype{L}[1]{>{\\\\raggedright\\\\let\\\\newline\\\\\\\\\\\\arraybackslash\\\\hspace{0pt}}m{#1}}\\n \\\\newcolumntype{C}[1]{>{\\\\centering\\\\let\\\\newline\\\\\\\\\\\\arraybackslash\\\\hspace{0pt}}m{#1}}\\n \\\\newcolumntype{R}[1]{>{\\\\raggedleft\\\\let\\\\newline\\\\\\\\\\\\arraybackslash\\\\hspace{0pt}}m{#1}}\\n \\n \\n \\\\usepackage{pifont}% http://ctan.org/pkg/pifont\\n \\\\newcommand{\\\\cmark}{\\\\ding{51}}%\\n \\\\newcommand{\\\\xmark}{\\\\ding{55}}%\\n \\n \\\\input{commands}\\n \\n \\n %\\\\usepackage{hyperref}\\n %\\\\usepackage{url}\\n \\n \\n \\\\title{Farkas layers: don\\'t shift the data, fix the geometry}\\n \\n % Authors must not appear in the submitted version. They should be hidden\\n % as long as the \\\\iclrfinalcopy macro remains commented out below.\\n % Non-anonymous submissions will be rejected without review.\\n \\n \\\\author{Aram-Alexandre Pooladian$^*$, Chris Finlay$^*$ \\\\& Adam M. Oberman\\\\\\\\\\n %\\\\thanks{ Use footnote for providing further information about author (webpage, alternative address)---\\\\emph{not} for acknowledging funding agencies.  Funding acknowledgements go at the end of the paper.} \\\\\\\\\\n Department of Mathematics and Statistics\\\\\\\\\\n McGill University\\\\\\\\\\n Montreal, QC, Canada \\\\\\\\\\n %\\\\texttt{\\\\{aram-alexandre.pooladian,alexander.iannantuono,christopher.finlay\\\\}@mail.mcgi%ll.ca},\\\\\\\\\\\\texttt{adam.oberman@mcgill.ca} \\\\\\\\\\n }\\n \\n % The \\\\author macro works with any number of authors. There are two commands\\n % used to separate the names and addresses of multiple authors: \\\\And and \\\\AND.\\n %\\n % Using \\\\And between authors leaves it to \\\\LaTeX{} to determine where to break\\n % the lines. Using \\\\AND forces a linebreak at that point. So, if \\\\LaTeX{}\\n % puts 3 of 4 authors names on the first line, and the last on the second\\n % line, try using \\\\AND instead of \\\\And before the third author name.\\n \\n \\\\newcommand{\\\\fix}{\\\\marginpar{FIX}}\\n \\\\newcommand{\\\\new}{\\\\marginpar{NEW}}\\n \\n \\\\iclrfinalcopy % Uncomment for camera-ready version, but NOT for submission.\\n \\\\begin{document}\\n \\n \\n \\\\maketitle\\n \\n \\\\begin{abstract}\\n Successfully training deep neural networks often requires either {batch normalization}, appropriate {weight initialization}, both of which come with their own challenges. We propose an alternative, geometrically motivated method for training. Using elementary results from linear programming, we introduce Farkas layers: a method that ensures at least one neuron is active at a given layer. Focusing on residual networks with ReLU activation, we empirically demonstrate a significant improvement in training capacity in the absence of batch normalization or methods of initialization across a broad range of network sizes on benchmark datasets.\\n \\\\end{abstract}\\n \\n \\\\section{Introduction}\\n The training process of deep neural networks has gone through significant shifts in recent years, primarily due to revolutionary network architectures, such as Residual neural networks \\\\citep{resnet50} and \\\\textit{normalization} techniques, initially proposed as batch normalization \\\\citep{batchnorm}. The former is the backbone for current ``state-of-the-art\" results for image-based tasks such as classification. Normalization can be found in a variety of flavors and applications; \\\\citep{layernorm,instancenorm,groupnorm,vaswani,zhu}. For reasons that are not fully understood, normalization gives rise to many desirable traits in network training, e.g. a fast convergence rate, but also comes with a cost by increasing vulnerability to adversarial attacks \\\\citep{bn_adversarial}. Apart from normalization, network weight \\\\textit{initialization} has been a driving force of improved performance. Throughout the years, various initialization schemes have been proposed, in particular Xavier initialization \\\\citep{xavier_init}, FixUp \\\\citep{fixup}, and a recent asymmetric initialization \\\\citep{lu2019dying}. These approaches are often connected to probabilistic notions or balancing learning rates while training. \\\\\\\\  \\\\\\\\\\n Modern network architectures catered for image-classification tasks incorporate various one-sided activation functions, the canonical example being the Rectified Linear Unit (ReLU) \\\\citep{relu}. Other one-sided activations include the Exponential Linear Unit (ELU) \\\\citep{elu}, Scaled ELU (SELU) \\\\citep{selu}, and LeakyReLU \\\\citep{leaky}. ELU and SELU were constructed with the purpose of eliminating batch normalization (BN); these activation functions minimize the internal covariate shift (ICS), which is what BN was intended to accomplish. Recent developments have shown that BN has little impact on ICS but affects the smoothness of the loss landscape, allowing for easier (and faster) training regimes \\\\citep{madry_bn}. \\\\\\\\ \\\\\\\\ %There are also two-sided activations that take a sigmoid-like form, such as hyperbolic tangent (tanh), but are less prevalent in image-based learning. \\\\\\\\ \\\\\\\\\\n %When using two-sided activations, a long-standing phenomenon in training is \\\\textit{gradient vanishing}, which is when a neuron\\'s output is saturated (significantly larger or smaller than zero), resulting in very small gradients and poor training.  A proposed solution to gradient vanishing is appropriate initialization, discussed in \\\\citep{xavier_init}. \\n A geometric interpretation of batch normalization can be readily seen in the context of the \\\\textit{dying ReLU problem}. This phenomenon occurs when the gradient of the neuron is zero (when the neuron outputs only negative values), in which case the neuron is ``dead\". This effectively freezes the neuron  during  training. If too many neurons are dead, the network learns slowly. In fact, it is entirely possible for a network to be ``born dead\", where it does not allow learning at all \\\\citep{lu2019dying}. To motivate this, consider a simple binary classification problem: suppose two sets of points in $\\\\R^2$ are sufficiently separated and we wish to classify them using a simple 1-layer ReLU network (with standard Cross Entropy loss). If the network is initialized such that one cloud of points is not ``observed\", as in Figure \\\\ref{fig:badplanes}, the network will not learn to classify those points. Batch normalization will shift the points to behave like \\\\ref{fig:bnplanes}; the network is no longer dead. There is a far simpler geometric solution in $\\\\R^2$: given one hyperplane, construct another to face the missing data, as shown in Figure \\\\ref{fig:goodplanes} by the green hyperplane, which is now a non-dead component of the network. \\\\\\\\\\n \\n \\\\begin{figure}[H]\\n     \\\\centering\\n     \\\\begin{subfigure}[b]{0.25\\\\textwidth}\\n         \\\\includegraphics[width=\\\\textwidth]{BadPlanes.eps}\\n         \\\\caption{Example of dead layer}\\n         \\\\label{fig:badplanes}\\n     \\\\end{subfigure}\\n     \\\\hspace{2em} \\n     \\\\begin{subfigure}[b]{0.25\\\\textwidth}\\n         \\\\includegraphics[width=\\\\textwidth]{BNPlanes.eps}\\n         \\\\caption{Effect of normalization}\\n         \\\\label{fig:bnplanes}\\n     \\\\end{subfigure}\\n     \\\\hspace{2em} \\n     \\\\begin{subfigure}[b]{0.25\\\\textwidth}\\n         \\\\includegraphics[width=\\\\textwidth]{GoodPlanes.eps}\\n         \\\\caption{Effect of Farkas layers}\\n         \\\\label{fig:goodplanes}\\n     \\\\end{subfigure}\\n     \\\\caption{A motivating geometric interpretation}\\\\label{fig: plane-interpretation}\\n \\\\end{figure}\\n \\n \\n \\n \\\\subsection*{Our contributions}\\n We present a geometrically motivated method for network training in the absence of initialization and normalization. Our novel layer structure, called Farkas layers, ensures that \\\\textit{at least} one neuron is active in every layer. Using off-the-shelf networks, Farkas layers can recover a significant part of the explanatory power of DNNs when batch normalization is removed, sometimes up to 10\\\\%, as demonstrated by empirical results on benchmark image classification tasks, such as CIFAR10 and CIFAR100. When used in conjunction with batch normalization on ImageNet-1k networks, we empirically show an approximate 20\\\\% improvement on the first epoch over only using batch normalization. Finally, we claim that input data normalization is a critical component for using large learning rates in FixUp, which is not the case for Farkas layer-based networks. All in all, this work provides a new research direction for architecture design beyond initialization methods, normalization layers, or new activation functions.\\n    \\n \\\\section{Background}\\n \\\\subsection{Notation}\\n We define neural networks as iterative compositions of activation functions with linear functions.  More specifically, given an input $x^{(k)}\\\\in \\\\R^n$ to the $k$-th layer, the\\n output $x^{(k+1)}$ is typically written\\n \\\\begin{align}\\n   x^{(k+1)} = \\\\varphi(W^{(k)} x^{(k)} + b^{(k)}) \\n   \\\\label{eq_layer}\\n \\\\end{align}\\n where $W^{(k)} \\\\in \\\\R^{m\\\\times n}$ is a weight matrix, the rows are written as $w_i^\\\\trp$ ($i = 1,\\\\ldots,m$), $b^{(k)} \\\\in \\\\R^m$ is the layer\\'s bias, and $\\\\varphi$ is the activation function of the layer. For the remainder of our analysis, we consider the ReLU activation function, written $$ \\\\varphi(x) = \\\\max\\\\{x,0\\\\},$$which acts component-wise in the case of vector arguments. \\n \\\\subsection{Related work}\\n Previous work on  the dying ReLU problem, or vanishing gradient problem, in the case of using sigmoid-like activation functions, has heavily revolved around novel weight initializations. To address the vanishing gradient problem, \\\\citep{xavier_init} proposed an initialization that is still often used with ReLU activations \\\\citep{shang}. \\\\citep{kaiming_init} proposed a scaled version of a normal distribution, which improved training for pure convolutional neural networks. More recently, \\\\citep{lu2019dying} studied the dying ReLU problem from a probabilistic perspective and addressed networks that are ``born dead\", i.e. not capable of learning. Their analysis is based on the reasonable assumption that all weights and biases are initialized with a non-zero probability of being dead:\\n \\\\begin{align}\\\\label{eq: lulu_prob}\\n     \\\\mathbb{P}\\\\left( w_i^\\\\trp x + b_i < 0  \\\\right) \\\\geq p > 0 \\\\quad (i = 1,\\\\ldots,m),\\n \\\\end{align}\\n where $m$ is the number of neurons in a given layer, and $p$ is a fixed positive constant. They show that, as the number of layers approaches infinity, the probability of having a network be born dead approaches one. They also find that initializing weights with a symmetric distribution is more likely to cause a network to be born dead and thus propose initializing weights using asymmetric distributions to mitigate this problem. Their analysis is relevant in the case that the network is not very wide, which is distinct from the case we study in this paper. \\\\\\\\ \\\\\\\\\\n %Other approaches involve changing the model architecture, either by using new activation functions or introducing new layer types. More recent activation functions include the Leaky-ReLU, PReLU, ELU, and SELU. However, their performance varies and sometimes necessitates tuning hyperparameters. \\n Normalization has been one of the driving forces of recent state-of-the-art results; the general idea is to manipulate the neuron activation with various statistics, such as subtracting the mean and dividing by the variance. Popular normalization techniques include batch normalization \\\\citep{batchnorm}, Layer normalization \\\\cite{layernorm}, Instance normalization \\\\citep{instancenorm}, and Group normalization \\\\citep{groupnorm}. However, there is a desire to eliminate normalization from training. A recent work that does this is FixUp \\\\citep{fixup}, a novel initialization technique that works by scaling the weights as a function of the network structure, allowing the network to take large learning rate steps during training. Reportedly, FixUp provides the same level of accuracy as that of a BN-enhanced network and scales to networks that train on ImageNet-1k. As stated in FixUp, the inherent structure of residual networks already prevents some level of gradient vanishing, since the variance of the layer output grows with depth. In the case of positively-homogeneous blocks (e.g. no bias in a Linear or Convolutional layer), this type of variance increase can lead to gradient explosion \\\\citep{hanin2018start}, which makes training more difficult. \\n \\\\section{Farkas layers}\\n \\\\subsection{Augmenting ReLU activated layers}\\n We present a novel approach to understanding how weight matrices and bias vectors contribute to neural network learning, called Farkas layers. As the name suggests, our method is influenced by Farkas\\' lemma. In particular, we use the following representation of Farkas\\' lemma; the proof is an exercise in linear programming and is left in the appendix. \\n \\\\begin{lemma}[Representation of Farkas\\' lemma] \\\\label{lemma:farkas}\\n Let $W \\\\in  \\\\R^{m\\\\times n}, b \\\\in \\\\R^m$ with $x \\\\in \\\\R^n$. Then the set $\\\\left\\\\{ x \\\\mid Wx +b \\\\leq 0  \\\\right\\\\}$ is empty if and only if there exists a $\\\\lambda\\\\in\\\\R^m$ such that $\\\\lambda_i \\\\geq 0$ (for $i=1,\\\\ldots,m)$, with $W^\\\\trp \\\\lambda = 0$ and   $\\\\lambda^\\\\trp b > 0$. \\n \\\\end{lemma}\\n We present the construction of $W$ and $b$ and prove using Lagrangian duality \\\\citep{boyd} that such weights and bias vectors will satisfy Farkas\\' lemma, resulting in at least one positive component. In essence, this solves the dying ReLU problem while training.\\n \\\\begin{theorem}\\\\label{thm: main}\\n Let $L$ be a layer of a neural network with ReLU activation function, with weights $W\\\\in\\\\R^{m\\\\times n}$ (with rows $w_i^\\\\trp$) and bias vector $b \\\\in \\\\R^m$, and let $\\\\lambda \\\\in \\\\R^m$, with $\\\\lambda_i \\\\geq 0$ (with at least one $\\\\lambda_i > 0$, without loss of generality $\\\\lambda_m > 0$). Further, suppose $W$ has the property that $$w_m = \\\\dfrac{-1}{\\\\lambda_m} \\\\sum_{j=1}^{m-1} \\\\lambda_j w_j$$and that $b_m > \\\\dfrac{-1}{\\\\lambda_m}\\\\sum_{j=1}^{m-1} \\\\lambda_j b_j$. Then this layer has a non-zero gradient.\\n \\\\end{theorem}\\n \\\\begin{proof}\\n Let $W \\\\in \\\\R^{m\\\\times n}$ (with rows $w_i^\\\\trp$) and bias $b\\\\in\\\\R^m$, with the aforementioned assumptions, and arbitrary input $x$. The output of this layer is $\\\\varphi(Wx + b)$, and has a non-zero gradient if and only if there exists at least one component such that \\n \\\\begin{align}\\\\label{eq: max_problem}\\n     p^* := \\\\max_i w_i^\\\\trp x + b_i > 0.\\n \\\\end{align}\\n The left-hand side of (\\\\ref{eq: max_problem}) (i.e. omitting the strict inequality constraint) can be written as the following minimization problem:\\n \\\\begin{align}\\n     p^* := \\\\min_{x,s} s \\\\quad \\\\text{subject to} \\\\quad w_i^\\\\trp x + b_i \\\\leq s \\\\ \\\\ (i = 1,\\\\ldots, m),\\n \\\\end{align}\\n or equivalently,\\n \\\\begin{align}\\n     p^* = \\\\min_{x,s} s \\\\quad \\\\text{subject to} \\\\quad W x + b \\\\leq s\\\\bm{1},\\n \\\\end{align}\\n where $\\\\bm{1}$ is the vector of all ones. The Lagrangian for this problem is\\n \\\\begin{align}\\n     \\\\mathcal{L}(x,s,\\\\lambda) = s + \\\\lambda^\\\\trp(Wx + b - s\\\\bm{1})\\n \\\\end{align}\\n where $\\\\lambda \\\\geq 0$. We compute the dual problem,\\n \\\\begin{align}\\n     d(\\\\lambda) &= \\\\inf_{x,s} \\\\mathcal{L}(x,s,\\\\lambda) \\\\\\\\\\n     &= \\\\inf_{x,s}  s(1 - \\\\lambda^\\\\trp \\\\bm{1}) + \\\\lambda^\\\\trp b + (W^\\\\trp \\\\lambda)^\\\\trp x \\\\\\\\\\n     &= \\\\begin{cases}\\n     \\\\lambda^\\\\trp b &\\\\text{if } \\\\lambda^\\\\trp \\\\bm{1} = 1, W^\\\\trp \\\\lambda = 0, \\\\ (\\\\lambda \\\\geq 0) \\\\\\\\\\n     -\\\\infty &\\\\text{otherwise}.\\n     \\\\end{cases}\\n \\\\end{align}\\n The conditions on $W$ are met by assumption, and there are many ways to ensure that $\\\\lambda$ is on the simplex and thus has at least one strictly positive component. Both the primal and dual problems are linear optimization problems: the objective and constraints are linear. By weak duality, $p^* \\\\geq \\\\sup_\\\\lambda d(\\\\lambda)$. Thus to ensure that $p^* > 0$ (as in (\\\\ref{eq: max_problem})), it suffices to show that $\\\\lambda^\\\\trp b > 0$. This is guaranteed by the assumptions on the bias vectors, and so we are done.\\n \\\\end{proof} \\n It is highly unlikely that a given layer in a deep neural network has all dead neurons. However, we believe that guaranteeing the explicit activity of one neuron is beneficial in that it improves training. Figure \\\\ref{fig: plane-interpretation} motivates the use of Farkas layers as a potential substitute for (BN) in the context of learning: the arrows of the corresponding hyperplane indicate the ``non-zero\" part of the ReLU. In the case of \\\\ref{fig:badplanes}, we see that all data points end up on the ``zero\" side, which would typically lead to no learning. Heuristically, the effect of BN mimics Figure \\\\ref{fig:bnplanes}, where the data points are centered and scaled by a diagonal matrix (which geometrically acts like an ellipse) allowing for learning to occur. Farkas layers will instead append another hyperplane that will be guaranteed to see all the points (in a ``third\" dimension). \\n \\\\subsection{Extension to general one-sided activations}\\n The use of Farkas layers can be extended to other one-sided activation functions, such as a smooth-ReLU (i.e. replacing the kink with a polynomial), ELU, and several others. In all these cases, one can impose a scalar cutoff value $c$ such that ``beyond\" this cutoff, we have very small (or zero) gradients. This is shown in the following corollary, which has the same proof as Theorem \\\\ref{thm: main}.\\n \\\\begin{corollary}\\n Let $L$ be a layer of a neural network with an arbitrary one-sided activation function $\\\\psi$ with cutoff $c \\\\in \\\\R$, i.e. for all $x < c$, we have $\\\\psi(x) \\\\simeq 0$ (or exactly zero). Denote the weights by $W\\\\in\\\\R^{m\\\\times n}$ (with rows $w_i$) and bias vector $b \\\\in \\\\R^m$, and let $\\\\lambda \\\\in \\\\R^m$, with $\\\\lambda_i \\\\geq 0$, with at least one positive component. To ensure that $ \\\\psi(Wx + b) $ has at least one component greater than $c$, we require that \\\\[w_m = \\\\frac{-1}{\\\\lambda_m} \\\\sum_{j=1}^{m-1} \\\\lambda_j w_j \\\\]and that $b_m > c - \\\\frac{1}{\\\\lambda_m} \\\\sum_{j=1}^{m-1} \\\\lambda_j b_j$.\\n \\\\end{corollary}\\n \\\\subsection{Algorithm and limitations}\\n We denote a Farkas layer by $\\\\mathcal{F} := \\\\mathcal{F}(\\\\cdot;W,b) : \\\\mathcal{D}_{\\\\text{in}} \\\\to \\\\mathcal{D}_{\\\\text{out}}$, where the weights and biases satisfy Theorem \\\\ref{thm: main}. The construction of $W$ and $b$ imposes certain restrictions on the existence of Farkas layers: namely we require that $\\\\text{dim}(\\\\mathcal{D}_{\\\\text{out}}) \\\\geq 2$. Finally, some network architectures claim to perform better without bias vectors present; we require bias vectors by construction. We focus on replacing Convolutional and Linear layers in (deep) neural networks, with efficient implementations in PyTorch. The general method of incorporating Farkas layers is provided in Algorithm \\\\ref{algo: f-1}. To minimize computational cost, we consider $\\\\lambda$ to be the evenly spaced simplex element, i.e. $\\\\lambda_i = \\\\text{dim}(\\\\mathcal{D}_{\\\\text{out}})^{-1}$ (for $i=1,\\\\ldots,\\\\text{dim}(\\\\mathcal{D}_{\\\\text{out}})$), but for smaller problems (such as the motivating 1-layer example) $\\\\lambda$ can be learnable. Farkas layers can be made into Farkas blocks in conjunction with residual networks as well, as outlined in Algorithm \\\\ref{algo: f-2}, which we leave in the Appendix. In the case of multiple convolutional layers in a given residual block, the extension is natural. \\\\\\\\  \\\\\\\\\\n In both Algorithm \\\\ref{algo: f-1} and \\\\ref{algo: f-2} we consider two choices for the aggregating function (AggFunc): either the sum or the mean of the previous outputs and biases. Indeed, let $\\\\text{dim}(\\\\mathcal{D}_{\\\\text{out}}) = m$, and thus $\\\\lambda_j = m^{-1}.$ Then we have the following two aggregation methods: $$ w_m = -\\\\sum_{j=1}^{m-1}w_j \\\\quad  \\\\text{(sum)}, \\\\quad \\\\quad w_m = \\\\frac{-1}{m-1}\\\\sum_{j=1}^{m-1}w_j \\\\quad \\\\text{(mean)}, $$ and similarly for the bias vectors. Theorem \\\\ref{thm: main} is constructed using ``sum\", but the result holds in the case of using ``mean\" since ReLUs are 1-positive homogenous. Furthermore, by using ``mean\", we induce stability with respect to the $\\\\ell_\\\\infty$-induced matrix norm for a matrix $A \\\\in \\\\R^{m \\\\times n}$, defined as \\n \\\\begin{align}\\n     \\\\| A \\\\|_\\\\infty = \\\\max_{1\\\\leq j \\\\leq m} \\\\| a_j^\\\\trp \\\\|_1,\\n \\\\end{align}\\n where $a_j^\\\\trp$ are the rows of $A$. Let $\\\\Tilde{A} \\\\in \\\\R^{(m-1)\\\\times n}$ and $\\\\bm{a}^\\\\trp$ be the mean of the rows of $\\\\Tilde{A}$. Define $A := (\\\\Tilde{A}; \\\\bm{a}^\\\\trp) \\\\in \\\\R^{m \\\\times n}$, then\\n \\\\begin{align}\\n     \\\\| A \\\\|_\\\\infty &= \\\\max\\\\left\\\\{ \\\\|\\\\tilde{A}\\\\|_\\\\infty, \\\\| \\\\bm{a}^\\\\trp \\\\|_1 \\\\right\\\\} \\\\leq \\\\max\\\\left\\\\{ \\\\|\\\\tilde{A} \\\\|_\\\\infty, (m-1)^{-1} \\\\sum_{j=1}^{m-1} \\\\| a_j^\\\\trp \\\\|_1 \\\\right\\\\} \\\\leq \\\\| \\\\tilde{A} \\\\|_\\\\infty .\\n \\\\end{align}\\n Thus, in the context of network weights, the burden of stability lies on the trainable weights and not the aggregated component. A similar analysis can be done for the bias vectors. Thus, for networks that train on ImageNet-1k, or to potentially use larger learning rates, we believe that using ``mean\" as the aggregation function is necessary.\\n \\\\begin{algorithm}[H]\\n \\\\caption{FarkasLayer with ReLU activation; $\\\\mathcal{F}(\\\\cdot;W,b)$ with AggFunc = ``sum\" or ``mean\"}\\n \\\\label{algo: f-1}\\n \\\\begin{algorithmic}\\n \\\\State Initialize $W \\\\in \\\\R^{(m-1)\\\\times n}$ and $b \\\\in \\\\R^m$ \\n \\\\State Forward pass: $x$\\n \\\\State $y = Wx$ \\\\Comment{e.g. Linear and/or Conv with no bias}\\n \\\\State Compute the Aggregated Components:\\n \\\\State $\\\\bm{y} := -\\\\text{AggFunc}(y)$ \\n \\\\State $\\\\bm{b} := \\\\max\\\\{ -\\\\text{AggFunc}(b[0:-1]), b_m \\\\}$ \\n \\\\State $y \\\\leftarrow \\\\text{concatenate}(y,\\\\bm{y})$\\n \\\\State $b \\\\leftarrow \\\\text{concatenate}(b[0:-1],\\\\bm{b})$\\n \\\\State $y \\\\leftarrow y + b$\\n \\\\State $y \\\\leftarrow \\\\text{ReLU}(y)$ \\n \\\\State Optional: apply batch normalization to $y$\\n \\\\State Return $y$\\n \\\\end{algorithmic}\\n \\\\end{algorithm}\\n \\n \\\\section{Experiments --- Image classification}\\\\label{sec:exp}\\n Image classification is a standard benchmark for measuring new advancements in deep learning. Our goal is to show how training with Farkas layers, henceforth referred to as FLs, impacts learning in these settings relative to other training techniques such as normalization and initialization (e.g. FixUp). \\\\\\\\ \\\\\\\\\\n We consider CIFAR10, CIFAR100, and ImageNet-1k datasets for the purposes of testing FL-based residual networks on image classification tasks. For CIFAR10, we consider 18, 34, 50, and 101 layer residual networks. The latter two of these use a BottleNeck block structure. On CIFAR100, we only consider 34, 50, and 101 layers. All models are trained using the same SGD schedule for 200 epochs. We make the distinction between a ``large\" learning rate, meaning 0.1, and a ``small\" learning rate, which is 0.01. We use standard data augmentation (RandomCrop and RandomHorizontalFlip) but do \\\\textit{not} normalize the inputs with respect to the mean and standard deviation of the dataset in the case of CIFAR10/CIFAR100. ] The weights are left at the default PyTorch initialization. Additionally, we use cutout to improve generalization \\\\citep{cutout} and use weight-decay. For ImageNet-1k, we use modified code from the DAWNBench competition \\\\citep{DAWNBench, fastimagenet}. In this set of experiments, we augment the data via RandomCrop, RandomHorizontalFlip, and normalize the input data. We only consider the case of networks using BN and see how FLs can improve performance, and we train with 30 epochs. \\\\\\\\ \\\\\\\\ \\n Henceforth, we call a residual network a FarkasNet if is it comprised of only FLs, and we always use the ``sum\" aggregation function unless otherwise specified. We make the distinction of networks that use or do not use BN in the tables. When omitting BN, we use the small learning rate. For CIFAR10 and CIFAR100, the results presented are averaged across three runs; if one of the runs failed\\\\footnote{Failed implies that the network did not make any progress in the first five epochs.} to train, we omit it from the average but place an asterisk. Full training curves are in the Appendix.\\n \\\\subsubsection*{Interpreting dependence of batch normalization}\\n \\\\begin{table}[H] \\n   \\\\caption{Percent misclassification comparison for CIFAR10 (lower is better)}\\n \\\\label{tab: cifar10-test-compare}\\n   \\\\begin{center}\\n     %\\\\footnotesize\\n \\\\begin{adjustbox}{width=0.9\\\\textwidth}\\n   \\\\begin{tabular}{lc cccc }\\n   \\\\toprule\\n   & & 18 Layers & 34 Layers & 50 Layers & 101 Layers \\\\\\\\\\n   \\\\midrule\\n   ResNet (with BN, large LR)    & & 7.01 & 6.79 & 5.04 & \\\\textbf{4.95} \\\\\\\\\\n   FarkasNet (with BN, large LR)   & & \\\\textbf{6.87} & \\\\textbf{6.50 }& \\\\textbf{5.03} & 4.98  \\\\\\\\\\n   %\\\\midrule\\n   %  ResNet (with BN, small LR)    & & 7.86 & 6.72 & 6.43 & 7.78 \\\\\\\\\\n   %  FResNet (with BN, small LR)   & & 7.50 & 6.87 & 6.49 & 6.69   \\\\\\\\\\n   \\\\midrule\\n   ResNet (no BN, small LR)    &  & 12.51 & 9.90 & 24.53 & 25.25 \\\\\\\\\\n   FarkasNet (no BN, small LR)   &  & \\\\textbf{10.83} & \\\\textbf{9.45} & \\\\textbf{19.84} & \\\\textbf{15.38} \\\\\\\\\\n \\\\bottomrule\\n \\\\end{tabular}\\n \\\\end{adjustbox}\\n \\\\end{center}\\n \\\\end{table}\\n \\n %\\\\begin{table}[H] \\n %  \\\\caption{Test accuracy comparison for CIFAR100 (Top1 percent misclassification)}\\n %\\\\label{tab: cifar100-test-compare}\\n %  \\\\begin{center}\\n     %\\\\footnotesize\\n %\\\\begin{adjustbox}{width=0.9\\\\textwidth}\\n %  \\\\begin{tabular}{lc cccc }\\n %  \\\\toprule\\n %  & & 18 Layers & 34 Layers & 50 Layers & 101 Layers \\\\\\\\\\n %  \\\\midrule\\n %  ResNet (with BN)   & & 30.55 & 30.65 & 23.78  & 23.26  \\\\\\\\\\n %  FarkasNet (with BN)& & 30.63 & 30.86 & 24.18  & 22.91   \\\\\\\\\\n %  %ConvNet (with BN)  & & 31.39 & 36.80 & 50.16 & ---   \\\\\\\\  \\n %  \\\\midrule\\n %  ResNet (no BN)    &  & 45.14 & 40.40 & 55.75 & ---     \\\\\\\\\\n %  FarkasNet (no BN) &  & 37.91 & 34.33 & 43.65 & 42.75  \\\\\\\\\\n %\\\\bottomrule\\n %\\\\end{tabular}\\n %\\\\end{adjustbox}\\n %\\\\end{center}\\n %\\\\end{table}\\n \\n \\\\begin{table}[H] \\n   \\\\caption{Percent misclassification comparison for CIFAR100 (lower is better)}\\n \\\\label{tab: cifar100-test-compare}\\n   \\\\begin{center}\\n     %\\\\footnotesize\\n \\\\begin{adjustbox}{width=0.7\\\\textwidth}\\n   \\\\begin{tabular}{lc ccc }\\n   \\\\toprule\\n   & & 34 Layers &50 Layers& 101 Layers \\\\\\\\\\n   \\\\midrule\\n   ResNet (with BN)   & & 30.95 & \\\\textbf{23.43 } & \\\\textbf{22.90}  \\\\\\\\\\n   FarkasNet (with BN)& & \\\\textbf{30.34} & 23.88 &  23.22  \\\\\\\\\\n   \\\\midrule\\n   ResNet (no BN)    &  & 40.10 & 55.05$^*$ & 54.02     \\\\\\\\\\n   FarkasNet (no BN) &  & \\\\textbf{34.70} & \\\\textbf{43.93 } & \\\\textbf{42.94}  \\\\\\\\\\n \\\\bottomrule\\n \\\\end{tabular}\\n \\\\end{adjustbox}\\n \\\\end{center}\\n \\\\end{table}\\n Tables \\\\ref{tab: cifar10-test-compare} and \\\\ref{tab: cifar100-test-compare} both show a strong disparity in the learning capacity of a DNN when batch normalization is removed, which is unsurprising. On CIFAR10, we primarily observe similar, if not better, test errors when batch normalization is used. Without normalization, our test error is always better; the same can be said for the CIFAR100 dataset. Thus, while FarkasResNets also diminish in quality, we note that adding a guaranteed undead neuron to all layers heavily impacts learning in the case of a non-normalized network. This is not at all to say that training a deep neural network is only possible using FLs or that we achieve state-of-the-art performance; however, our implementation demonstrates the strong dependency of getting low test accuracy with normalization and is geometrically motivated.\\n \\\\subsubsection*{Improvement at first epoch for ImageNet-1k}\\n The final table shows similar behaviour on ImageNet-1k, where FLs\\\\footnote{For ImageNet-1k, we use ``mean\" aggregation function.} neither dramatically improve nor inhibit the learning capacity towards the end of training except in the case of 50-layers, where it performs significantly better. Figure \\\\ref{fig:imagenet-comp} shows that FarkasNets have a dramatic advantage over standard ResNets at the start of training. Evidently, this advantage gradually diminishes; nonetheless, its presence alludes to a bigger problem in network initialization. We notice a roughly 20\\\\% improvement on the first epoch, simply due to the use of FLs.\\n \\\\begin{table}[H] \\n   \\\\caption{Top1/Top5 percent misclassification comparison for ImageNet-1k (lower is better)}\\n \\\\label{tab: imagenet-test-compare}\\n   \\\\begin{center}\\n     %\\\\footnotesize\\n \\\\begin{adjustbox}{width=0.7\\\\textwidth}\\n   \\\\begin{tabular}{lc ccc }\\n   \\\\toprule\\n   & & 50 Layers & 101 Layers & 152 Layers \\\\\\\\\\n   \\\\midrule\\n   ResNet (with BN)   & & 25.64/7.68 & \\\\textbf{23.23}/\\\\textbf{6.49} & 22.26/5.95  \\\\\\\\\\n   FarkasNet (with BN)& & \\\\textbf{23.70}/\\\\textbf{6.65} & 23.74/6.67 & \\\\textbf{22.17}/\\\\textbf{5.86 }  \\\\\\\\\\n \\\\bottomrule\\n \\\\end{tabular}\\n \\\\end{adjustbox}\\n \\\\end{center}\\n \\\\end{table}\\n \\\\begin{figure}[H]\\n     \\\\centering\\n     \\\\includegraphics[width=0.6\\\\textwidth]{ImageNet_1epoch.eps}\\n     \\\\caption{Illustration of improved performance at starting epochs with Farkas layers}\\n     \\\\label{fig:imagenet-comp}\\n \\\\end{figure}\\n \\\\subsubsection*{Impact of data normalization and best practice comparison}\\n We briefly compare against other best practice learning regimes on CIFAR10. Table \\\\ref{tab: best-practice-compare} highlights the various differences between methods. At the core, we compare FarkasNets to FixUp, a recently proposed initialization scheme that allows the use of larger learning rates in the absence of batch normalization, and thus faster convergence. We consider a 34-layer ResNet with BasicBlock structure using the official implementation of FixUp\\\\footnote{From one of the authors\\' Github pages} for the network architecture. We compare using a 34-layer FarkasNet, where the last layer in a block is initialized to zero (as in FixUp, which is motivated by several other works \\\\citep{zerolast_1,zerolast_2,zerolast_3}) but use standard initialization otherwise, as well as ``mean\" AggregationFunction. We maintain the setup of the previous experiments.  \\\\\\\\ \\\\\\\\\\n Data normalization is a standard ``trick\" for training deep neural networks, and acts like an initial batch normalization step, where the incoming data is scaled to have zero mean and unit variance. In the case of CIFAR10 and CIFAR100, we strove to study the problem of training without any attempts at normalization, which is why we have omitted this from our training methodology. In the absence of data normalization, we observed that FixUp requires a small learning rate for training. Thus, while \\\\citep{fixup} claims to present a theory for addressing training in the absence of batch normalization, we find that it still heavily hinges on normalization principles, namely on the first layer pass. This observation is not to diminish the benefits of FixUp, as faster convergence is observed (see Figure \\\\ref{fig:best-compare-curves}), but the learning rate does need adjustment. On the other hand, our 34-layer FarkasNet was able to use a medium learning rate of 0.05, allowing for improved performance relative to Table \\\\ref{tab: cifar10-test-compare}. \\n \\\\begin{table}[H] \\n   \\\\caption{Best practice comparison on CIFAR10 (lower test error is better)}\\n \\\\label{tab: best-practice-compare}\\n   \\\\begin{center}\\n     %\\\\footnotesize\\n \\\\begin{adjustbox}{width=0.7\\\\textwidth}\\n   \\\\begin{tabular}{lc cccc }\\n   \\\\toprule\\n   & & Batch Normalization& LR capacity & Test Error \\\\\\\\\\n   \\\\midrule\\n ResNet34     &  & \\\\cmark & Large & 6.77  \\\\\\\\\\n ResNet34     & & \\\\xmark & Small & 9.18  \\\\\\\\\\n FixUp34    & & \\\\xmark & Small & 7.49  \\\\\\\\\\n FarkasNet34   & & \\\\xmark & Medium & 7.12  \\\\\\\\\\n \\\\bottomrule\\n \\\\end{tabular}\\n \\\\end{adjustbox}\\n \\\\end{center}\\n \\\\end{table}\\n \\n \\\\begin{figure}[H]\\n     \\\\centering\\n     \\\\includegraphics[width=0.5\\\\textwidth]{best_compare.eps}\\n     \\\\caption{Training curves for best practice comparison on CIFAR10}\\n     \\\\label{fig:best-compare-curves}\\n \\\\end{figure}\\n Finally, we also address the notion that training a \\\\textit{very} deep neural network is challenging using maximal learning rate without normalization, which has been experimentally observed in FixUp and Layer-Sequential Unit-Variance (LSUV) orthogonal initialization \\\\citep{mishkin}. Despite the shortcomings of previous work, by incorporating the ``mean\" aggegration function and default initialization, we are able to successfully train a 101-layer FarkasNet with a large learning rate on CIFAR10. We present the averaged training curve in Figure \\\\ref{fig: largeLR}, left in the Appendix, where we repeated the experiment three times. We remark that using default initialization alone results in complete failure to train. \\n \\n \\\\section{Conclusion}\\n To date, successful training of a deep neural networks requires either some form of normalization, weight initialization, and/or choice of activation function, all of which come with their own challenges. In this work, we provide a fourth option, Farkas layers, which can be used alone or in conjunction with the aforementioned techniques. The Farkas layer is based on the interaction of the geometry of the weights with the data: by simply adding one linearly dependent row to the weight matrix, we ensure that no neurons are dead. Using our method, we have shown that training with larger learning rates is possible even in the absence of batch normalization and with default initialization. In this work, we only touched on image classification, but Farkas layers could be used in many deep learning applications, which is left for future work. \\n \\n \\\\bibliographystyle{main}\\n \\\\bibliography{main}\\n \\n \\\\appendix\\n \\\\section{Appendix}\\n \\\\subsection{Elementary linear programming}\\n \\\\begin{proposition}[Farkas\\' Lemma] Let $W \\\\in \\\\R^{m \\\\times n}$ and $b \\\\in \\\\R^m$. $$ \\\\{x \\\\ | \\\\ Wx + b = 0, x \\\\geq 0 \\\\} \\\\neq \\\\emptyset \\\\iff \\\\nexists \\\\  \\\\lambda \\\\text{ s.t. } \\\\lambda^\\\\trp W \\\\geq 0, \\\\ \\\\lambda^\\\\trp b > 0.$$\\n \\\\end{proposition}\\n \\\\begin{corollary}\\n Let $W \\\\in \\\\R^{m \\\\times n}$ and $b \\\\in \\\\R^m$. Then $$ \\\\{x \\\\ | \\\\ Wx + b \\\\leq 0 \\\\} = \\\\emptyset \\\\iff \\\\exists \\\\ \\\\lambda \\\\text{ s.t } \\\\lambda^\\\\trp W = 0, \\\\ \\\\lambda^\\\\trp b > 0 \\\\quad (\\\\lambda \\\\geq 0).   $$\\n \\\\end{corollary}\\n \\\\begin{proof}\\n  Suppose by contradiction there exists an $x$ such that $Wx + b \\\\leq 0$. Let $x^+ := \\\\max\\\\{x,0\\\\}$ and $x^- := \\\\max\\\\{-x,0\\\\}$, and so $x = x^+ - x^-$. Then:\\n   \\\\begin{align}\\n       &\\\\exists x \\\\text{ s.t } Wx + b \\\\leq 0 \\\\\\\\\\n       &\\\\iff \\\\ \\\\exists x^+, x^- \\\\text{ s.t } W(x^+ - x^-) + b \\\\leq 0 \\\\\\\\\\n       &\\\\iff \\\\ \\\\exists x^+, x^-, \\\\lambda \\\\text{ s.t } W(x^+ - x^-) + \\\\lambda + b = 0 \\\\quad (\\\\lambda \\\\geq 0) \\\\\\\\\\n       &\\\\iff \\\\bar{x} := (x^+, x^-, \\\\lambda)^\\\\trp \\\\geq 0, \\\\ \\\\bar{W} := [W \\\\ | \\\\ -W \\\\ | \\\\ I] \\\\text{ s.t } \\\\ \\\\bar{W}\\\\bar{x} + b = 0,\\n   \\\\end{align}\\n   which follows from Farkas\\' Lemma.\\n \\\\end{proof}\\n \\\\subsection{Algorithm for residual Farkas layer}\\n \\\\begin{algorithm}[H]\\n \\\\caption{Residual Farkas layer with ReLU activation}\\n \\\\label{algo: f-2}\\n \\\\begin{algorithmic}\\n \\\\State Initialize $W^{(1)}, W^{(2)}, b^{(1)},b^{(2)}$ \\n \\\\State Forward pass: $x$\\n \\\\State $y = \\\\mathcal{F}(x; W^{(1)},b^{(1)})$\\n \\\\State $y \\\\leftarrow W^{(2)}y$ \\\\Comment{e.g. Linear and/or Conv with no bias}\\n \\\\State Compute aggregated components:\\n \\\\State $\\\\bm{y} := -\\\\text{AggFunc}(x+y)$ \\\\Comment{residual component} \\n \\\\State $\\\\bm{b} := \\\\max\\\\{ -\\\\text{AggFunc}(b^{(2)}[0:-1]), b^{(2)}_m \\\\}$ \\n \\\\State $y \\\\leftarrow \\\\text{concatenate}(y,\\\\bm{y})$\\n \\\\State $b \\\\leftarrow \\\\text{concatenate}(b^{(2)}[0:-1],\\\\bm{b})$\\n \\\\State $y \\\\leftarrow y + b$\\n \\\\State $y \\\\leftarrow \\\\text{ReLU}(y)$ \\n \\\\State Optional: apply batch normalization to $y$\\n \\\\State Return $y$\\n \\\\end{algorithmic}\\n \\\\end{algorithm}\\n \\n \\\\subsection{Training curves for CIFAR10} \\n \\\\begin{figure}[H]\\n     \\\\centering\\n     \\\\begin{subfigure}[b]{0.35\\\\textwidth}\\n         \\\\includegraphics[width=\\\\textwidth]{18_compare.eps}\\n         \\\\caption{18 layers}\\n     \\\\end{subfigure}\\n     \\\\begin{subfigure}[b]{0.35\\\\textwidth}\\n         \\\\includegraphics[width=\\\\textwidth]{34_compare.eps}\\n         \\\\caption{34 layers}\\n     \\\\end{subfigure}\\n     \\\\begin{subfigure}[b]{0.35\\\\textwidth}\\n         \\\\includegraphics[width=\\\\textwidth]{50_compare.eps}\\n         \\\\caption{50 layers}\\n     \\\\end{subfigure}\\n     \\\\begin{subfigure}[b]{0.35\\\\textwidth}\\n         \\\\includegraphics[width=\\\\textwidth]{101_compare.eps}\\n         \\\\caption{101 layers}\\n     \\\\end{subfigure}\\n     \\\\caption{Average training curves for CIFAR10; ``Vanilla\" refers to standard ResNet. Dotted lines omit batch normalization, solid lines incorporate it. }\\n \\\\end{figure}\\n \\\\begin{figure}[H]\\n \\t\\\\centering\\n \\t\\\\includegraphics[width=0.45\\\\textwidth]{maximalLR.eps}\\n \\t\\\\caption{Average training curve for 101-layer FarkasNet, with ``mean\" aggregation function, maximal learning rate, and without batch normalization.}\\n \\t\\\\label{fig: largeLR}\\n \\\\end{figure}\\n \\\\pagebreak\\n \\\\subsection{Training curves for CIFAR100}\\n For 50-layers, one of the networks (standard ResNet without BN) failed to train, and we omit it from the average.\\n \\\\begin{figure}[H]\\n     \\\\centering \\n     \\\\begin{subfigure}[b]{0.4\\\\textwidth}\\n         \\\\includegraphics[width=\\\\textwidth]{34_compare.eps}\\n         \\\\caption{34 layers}\\n     \\\\end{subfigure}\\n     \\\\hspace{2em} \\n     \\\\begin{subfigure}[b]{0.4\\\\textwidth}\\n         \\\\includegraphics[width=\\\\textwidth]{50_compare.eps}\\n         \\\\caption{50 layers}\\n     \\\\end{subfigure}\\n     \\\\begin{subfigure}[b]{0.4\\\\textwidth}\\n         \\\\includegraphics[width=\\\\textwidth]{101_compare.eps}\\n         \\\\caption{101 layers}\\n     \\\\end{subfigure}\\n     \\\\caption{Average training curves for CIFAR100; ``Vanilla\" refers to standard ResNet}\\n \\\\end{figure}\\n \\n \\\\subsection{Training curves for ImageNet-1k}\\n Here, dotted line means Farkas layer-based network.\\n \\\\begin{figure}[H]\\n     \\\\centering \\n     \\\\begin{subfigure}[b]{0.3\\\\textwidth}\\n         \\\\includegraphics[width=\\\\textwidth]{ImageNet_ResNet50.eps}\\n         \\\\caption{50 layers}\\n     \\\\end{subfigure}\\n     \\\\hspace{2em} \\n     \\\\begin{subfigure}[b]{0.3\\\\textwidth}\\n         \\\\includegraphics[width=\\\\textwidth]{ImageNet_ResNet101.eps}\\n         \\\\caption{101 layers}\\n     \\\\end{subfigure}\\n     \\\\begin{subfigure}[b]{0.3\\\\textwidth}\\n         \\\\includegraphics[width=\\\\textwidth]{ImageNet_ResNet152.eps}\\n         \\\\caption{152 layers}\\n     \\\\end{subfigure}\\n     \\\\caption{Training curves for ImageNet}\\n \\\\end{figure}\\n \\n \\\\end{document}\\n\\\\usepackage{mathtools}\\n \\\\usepackage[colorlinks, linkcolor=blue,  citecolor=blue, urlcolor=blue]{hyperref}\\n %\\\\usepackage{cleveref}\\n \\\\usepackage{autonum}\\n \\\\usepackage{algorithm}% http://ctan.org/pkg/algorithm\\n \\\\usepackage{algpseudocode}%\\n \\\\usepackage{amssymb} %maths\\n \\\\usepackage{amsthm}\\n \\\\usepackage{bm}\\n %\\\\usepackage{tikz}\\n \\\\usepackage{url}\\n %----------------------------------------------\\n %---------------------------------------------------------\\n \\n %\\\\usepackage[draft]{graphicx}\\n \\\\usepackage{graphicx}\\n \\\\usepackage{float}\\n \\\\usepackage{subcaption}\\n \\\\usepackage{multirow}\\n \\\\graphicspath{{./figs/}}\\n %%%%%%%%%%%%%%%%%%%%\\n \\n \\n \\n % THEOREM Environments --------------\\n \\\\theoremstyle{Proposition}\\n \\\\newtheorem{theorem}{Theorem}[section]\\n \\\\newtheorem{principle}{Principle}[section]\\n \\\\newtheorem{corollary}[theorem]{Corollary}\\n \\\\newtheorem{lemma}[theorem]{Lemma}\\n \\\\newcommand{\\\\lemmaautorefname}{Lemma}\\n \\n \\\\newtheorem{proposition}[theorem]{Proposition}\\n \\\\newtheorem{problem}[theorem]{Problem}\\n \\n \\\\theoremstyle{definition}\\n \\\\newtheorem{definition}[theorem]{Definition}\\n \\\\newtheorem{assumption}{Assumption}\\n \\\\newcommand{\\\\assumptionautorefname}{Assumption}\\n \\n \\\\theoremstyle{remark}\\n \\\\newtheorem{remark}[theorem]{Remark}\\n \\\\newtheorem{example}[theorem]{Example}\\n \\n %%%%%%%%%%%%%%%%%%%%\\n %  Basic Commands\\n %%%%%%%%%%%%%%%%%%%%\\n %----------------------------------------------\\n % norms, absolute value\\n \\\\newcommand{\\\\norm}[1]{\\\\Vert#1\\\\Vert}\\n \\\\newcommand{\\\\Norm}[1]{\\\\left\\\\Vert#1\\\\right\\\\Vert}\\n \\\\newcommand{\\\\abs}[1]{\\\\vert#1\\\\vert}\\n \\\\newcommand{\\\\Abs}[1]{\\\\left\\\\vert#1\\\\right\\\\vert}\\n \\n \\\\newcommand{\\\\Norminf}[1]{\\\\left\\\\Vert#1\\\\right\\\\Vert_\\\\infty}\\n \\n \\\\DeclarePairedDelimiter\\\\floor{\\\\lfloor}{\\\\rfloor}\\n \\n %% Basic Commands\\n \\\\DeclareMathOperator{\\\\grad}{\\\\nabla}\\n \\\\DeclareMathOperator{\\\\argmin}{{argmin}}\\n \\\\DeclareMathOperator{\\\\argmax}{{argmax}}\\n \\\\DeclareMathOperator{\\\\range}{{range}}\\n \\\\DeclareMathOperator{\\\\sgn}{{sgn}}\\n \\\\DeclareMathOperator{\\\\dist}{{dist}}\\n \\\\DeclareMathOperator{\\\\ReLU}{{ReLU}}\\n \\\\DeclareMathOperator{\\\\Div}{{\\\\text{div}}}\\n \\\\DeclareMathOperator{\\\\trace}{{\\\\text{trace}}}\\n \\\\newcommand{\\\\bq}{\\\\begin{equation}}\\n \\\\newcommand{\\\\eq}{\\\\end{equation}}\\n \\\\renewcommand\\\\Re{\\\\operatorname{Re}}\\n \\n \\\\newcommand{\\\\R}{\\\\mathbb{R}}\\n \\\\newcommand{\\\\cX}{\\\\mathcal{X}}\\n \\\\newcommand{\\\\cY}{\\\\mathcal{Y}}\\n \\\\newcommand{\\\\cA}{\\\\mathcal{A}}\\n \\\\newcommand{\\\\E}{\\\\mathbb{E}}\\n \\\\newcommand{\\\\lmax}{\\\\lambda_{\\\\text{max}}}\\n \\\\newcommand{\\\\smax}{\\\\sigma_{\\\\text{max}}}\\n \\\\newcommand{\\\\smin}{\\\\sigma_{\\\\text{min}}}\\n \\\\newcommand{\\\\Rd}{\\\\R^d}\\n \\\\newcommand{\\\\Rn}{\\\\R^n}\\n \\\\newcommand{\\\\e}{\\\\varepsilon}\\n \\\\newcommand{\\\\trp}{\\\\mathsf{T}}\\n \\n \\n %% Sectioning Commands\\n \\\\newcommand{\\\\blue}[1]{{\\\\color{blue}{#1}}}\\n \\\\newcommand{\\\\red}[1]{{\\\\color{red}{#1}}}\\n \\n \\n \\n'"
      ]
     },
     "execution_count": 645,
     "metadata": {},
     "output_type": "execute_result"
    }
   ],
   "source": [
    "ft = full_text[nk]\n",
    "ft"
   ]
  },
  {
   "cell_type": "code",
   "execution_count": 571,
   "metadata": {},
   "outputs": [
    {
     "name": "stdout",
     "output_type": "stream",
     "text": [
      "0\n",
      "1\n"
     ]
    }
   ],
   "source": [
    "for idx, l in enumerate(leaderboard_table_refs[nk][\"table_labels\"]):\n",
    "        if l[0] == \"leaderboard\" or l[0] == \"ablation\":\n",
    "            print(idx)"
   ]
  },
  {
   "cell_type": "code",
   "execution_count": null,
   "metadata": {},
   "outputs": [],
   "source": [
    "paper = pc.get_by_id(iclr_arxiv_map[nk][\"arxivId\"])"
   ]
  },
  {
   "cell_type": "code",
   "execution_count": 573,
   "metadata": {},
   "outputs": [
    {
     "data": {
      "text/plain": [
       "0    Cell(value='', raw_value='', gold_tags='', ref...\n",
       "1    Cell(value='Algorithm', raw_value='Algorithm',...\n",
       "2    Cell(value='Space', raw_value='Space', gold_ta...\n",
       "3    Cell(value='CIFAR-10', raw_value='CIFAR-10', g...\n",
       "4    Cell(value='CIFAR-10', raw_value='CIFAR-10', g...\n",
       "5    Cell(value='CIFAR-100', raw_value='CIFAR-100',...\n",
       "6    Cell(value='CIFAR-100', raw_value='CIFAR-100',...\n",
       "7    Cell(value='TinyImageNet', raw_value='TinyImag...\n",
       "Name: 0, dtype: object"
      ]
     },
     "execution_count": 573,
     "metadata": {},
     "output_type": "execute_result"
    }
   ],
   "source": [
    "paper.tables[0].df.loc[0,:]"
   ]
  },
  {
   "cell_type": "code",
   "execution_count": 576,
   "metadata": {},
   "outputs": [
    {
     "data": {
      "text/plain": [
       "0     Cell(value='Algorithm', raw_value='Algorithm',...\n",
       "1     Cell(value='Algorithm', raw_value='Algorithm',...\n",
       "2     Cell(value='REF (float)', raw_value='REF (floa...\n",
       "3     Cell(value='BC', raw_value='BC', gold_tags='',...\n",
       "4     Cell(value='PQ', raw_value='PQ', gold_tags='',...\n",
       "5     Cell(value='PQ*', raw_value='PQ*', gold_tags='...\n",
       "6     Cell(value='PMF', raw_value='PMF', gold_tags='...\n",
       "7     Cell(value='PMF*', raw_value='PMF*', gold_tags...\n",
       "8     Cell(value='GD-tanh', raw_value='GD-tanh', gol...\n",
       "9     Cell(value='MD-softmax', raw_value='MD-softmax...\n",
       "10    Cell(value='MD-tanh', raw_value='MD-tanh', gol...\n",
       "11    Cell(value='MD-softmax-S', raw_value='MD-softm...\n",
       "12    Cell(value='MD-tanh-S', raw_value='MD-tanh-S',...\n",
       "Name: 1, dtype: object"
      ]
     },
     "execution_count": 576,
     "metadata": {},
     "output_type": "execute_result"
    }
   ],
   "source": [
    "paper.tables[0].df.loc[:,1]"
   ]
  },
  {
   "cell_type": "code",
   "execution_count": null,
   "metadata": {},
   "outputs": [],
   "source": []
  },
  {
   "cell_type": "code",
   "execution_count": 517,
   "metadata": {},
   "outputs": [
    {
     "data": {
      "text/plain": [
       "'1611.09913v3'"
      ]
     },
     "execution_count": 517,
     "metadata": {},
     "output_type": "execute_result"
    }
   ],
   "source": [
    "iclr_arxiv_map[\"2017_BydARw9ex\"][\"arxivId\"]"
   ]
  },
  {
   "cell_type": "code",
   "execution_count": 518,
   "metadata": {},
   "outputs": [],
   "source": [
    "ft = full_text[\"2017_BydARw9ex\"]\n",
    "#.find(\"Matching Networks\")"
   ]
  },
  {
   "cell_type": "code",
   "execution_count": 522,
   "metadata": {},
   "outputs": [
    {
     "name": "stdout",
     "output_type": "stream",
     "text": [
      "['citep', 'citet'] itep{srivastava2015highway} and residual connections \\citep{he2015deep}, respectively.  Indeed, the +RNN was inspired in \n",
      " part by the coupled depth gate of \\citet{srivastava2015highway}.\n",
      " \n",
      " \\subsection{Recurrent Neural Network Architectures} \\label{rnn architectures}\n",
      " Below we briefly define the RNN architectures used in this study.  Unless otherwise stated \n",
      " $\\WW$ denotes a matrix, $\\bb$ denotes a vector of biases.  The symbol $\\xxt$ is the \n",
      " input at time $t$, and $\\hht$ is the hidden state at time $t$.  Remaining vector \n",
      " variables represent intermediate values.  The function  $\\sigma(\\cdot)$ denotes \n",
      " the logistic sigmoid function and $\\ft(\\cdot)$ is either $\\tanh$ or $\\relu$, set \n",
      " as a \\hp (see Appendix, Section RNN \\hps for the complete \n",
      " list of \\hps).  Initial conditions for the networks were set to a learned \n",
      " bias. Finally, it is a well-known trick of the trade to initialize the gates of an \n",
      " LSTM or GRU with a large bias to induce better gradient flow.  We included this \n",
      " parameter, denoted as $\\bfg$, and tuned it along with all other \\hps.\n",
      " \n",
      " \\subsubsection*{RNN, IRNN \\cite\n",
      "['citep'] m + \\Wox\\;\\xxt + \\bbo  \\right) \\\\\n",
      "   \\hht &= \\oot \\cdot \\tanh(\\cct)\n",
      " \\end{align}\n",
      " \n",
      " \\subsubsection*{+RNN - Intersection RNN}\n",
      " Due to the success of the UGRNN for shallower architectures in this study \n",
      " (see later figures on trainability), as well as some of the observed trainability \n",
      " problems for both the LSTM and GRU for deeper architectures (e.g. Figure \\ref{fig hard tasks}h) we developed the Intersection RNN (denoted with a `+') architecture with a coupled depth gate in addition to a coupled recurrent gate.  Additional influences for this architecture were the recurrent gating of the LSTM and GRU, and the depth gating \n",
      " from the highway network \\citep{srivastava2015highway}. This architecture has recurrent \n",
      " input, $\\hhtm$, and depth input, $\\xxt$.  It also has recurrent output, $\\hht$, and \n",
      " depth output, $\\yyt$.  Note that this architecture only applies between layers where $\\xxt$ \n",
      " and $\\yyt$ have the same dimension, and is not appropriate for networks \n",
      " with a depth of 1 (we exclude depth one +RNNs in our experiments). \n",
      " \\begin{align}\n",
      "     \\yyt^{in} &= \\mbox{s1}\\;(\\Wyh \\; \\hhtm +\n",
      "['citep'] e the same dimension, and is not appropriate for networks \n",
      " with a depth of 1 (we exclude depth one +RNNs in our experiments). \n",
      " \\begin{align}\n",
      "     \\yyt^{in} &= \\mbox{s1}\\;(\\Wyh \\; \\hhtm + \\Wyx\\;\\xxt + \\bby) \\\\\n",
      "     \\hht^{in} &= \\mbox{s2}\\;(\\Whh \\; \\hhtm + \\Whx\\;\\xxt + \\bbh) \\\\\n",
      "     \\ggt^y &= \\sigma\\left(\\Wgyh\\; \\hhtm + \\Wgyx\\;\\xxt + \\bbg^y + b^{fg,y} \\right) \\\\\n",
      "     \\ggt^h &= \\sigma\\left(\\Wghh\\; \\hhtm + \\Wghx\\;\\xxt + \\bbg^h + b^{fg,h} \\right) \\\\\n",
      "     \\yyt &= \\ggt^{y} \\cdot \\xxt + (1-\\ggt^y) \\cdot \\mathbf{y}_t^{in} \\\\\n",
      "     \\hht &= \\ggt^{h} \\cdot \\hhtm + (1-\\ggt^h) \\cdot \\mathbf{h}_t^{in} \n",
      " \\end{align}\n",
      " In practice we used $\\relu$ for s1 and $\\tanh$ for s2.\n",
      " \n",
      " \\section{Capacity Experiments}\n",
      " \n",
      " \\subsection{Per-parameter capacity}\\label{sec ppc}\n",
      " A foundational result in machine learning is that a single-layer\n",
      " perceptron with $N^2$ parameters can store at least 2 bits of information per\n",
      " parameter \\citep{cover1965geometrical,gardner1988space,baldi1987number}. \n",
      " More precisely, a perceptron can implement a mapping from $2N$, $N$-dimensional, \n",
      " input vectors to arbitrary $N$-dimensional bina\n",
      "['citet', 'citet'] \n",
      " All things considered, in an uncertain training environment, our results suggest using the GRU or +RNN.\n",
      " \n",
      " \\section{Acknowledgements}\n",
      " \n",
      " We would like to thank Geoffrey Irving, Alex Alemi, Quoc Le, Navdeep Jaitly, and Taco Cohen for helpful feedback.\n",
      " \n",
      " %\n",
      " %\n",
      " %\n",
      " %\n",
      " %\n",
      " %\n",
      " %\n",
      " %\n",
      " %\n",
      " %\n",
      " %\n",
      " %\n",
      " %\n",
      " %\n",
      " \n",
      " %\n",
      " %\n",
      " \n",
      " \\small\n",
      " \\bibliographystyle{iclr2017_conference}\n",
      " \\bibliography{cap_n_learn_rnn}\n",
      " \n",
      " \n",
      " \\clearpage\n",
      " \\normalsize\n",
      " \\appendix\n",
      " \\part*{Appendix}\n",
      " \n",
      " \\setcounter{figure}{0} \\renewcommand{\\thefigure}{App.\\arabic{figure}}\n",
      " \\setcounter{table}{0} \\renewcommand{\\thetable}{App.\\arabic{table}}\n",
      " \n",
      " \\section{RNN \\hps Set by the \\hp Tuner} \\label{hptuner}\n",
      " \n",
      " We used a \\hp tuner that uses a Gaussian Process (GP) Bandits approach\n",
      " for \\hp optimization.  Our setting of the tuner's internal\n",
      " parameters was such that it uses Batched GP Bandits with an expected\n",
      " improvement acquisition function and a Matern 5/2 Kernel with feature scaling\n",
      " and automatic relevance determination performed by optimizing over kernel\n",
      " \\hps. Please see \\citet{desautels2014parallelizing} and\n",
      " \\citet{snoek2012practical} for closely rel\n"
     ]
    }
   ],
   "source": [
    "for locss in re.finditer(\"\\+RNN\", ft):\n",
    "    start_loc = locss.start()\n",
    "    end_loc = locss.end()\n",
    "    chunk = ft[max(0, start_loc-100): min(end_loc+1000, len(full_latex_text))]\n",
    "    m = re.findall(\"cite[a-z\\{]\", chunk)\n",
    "    if m:\n",
    "        print(m, chunk)"
   ]
  },
  {
   "cell_type": "code",
   "execution_count": null,
   "metadata": {},
   "outputs": [],
   "source": []
  },
  {
   "cell_type": "code",
   "execution_count": 396,
   "metadata": {},
   "outputs": [
    {
     "data": {
      "text/plain": [
       "('2017_B1-Hhnslg',\n",
       " {'tcount': [6, 4, 2, 0],\n",
       "  'table_labels': [('leaderboard',),\n",
       "   ('leaderboard',),\n",
       "   ('leaderboard',),\n",
       "   ('ablation',),\n",
       "   ('leaderboard',),\n",
       "   ('ablation',)]})"
      ]
     },
     "execution_count": 396,
     "metadata": {},
     "output_type": "execute_result"
    }
   ],
   "source": [
    "list(leaderboard_table_refs.items())[0]"
   ]
  },
  {
   "cell_type": "code",
   "execution_count": null,
   "metadata": {},
   "outputs": [],
   "source": []
  },
  {
   "cell_type": "code",
   "execution_count": null,
   "metadata": {},
   "outputs": [],
   "source": []
  },
  {
   "cell_type": "code",
   "execution_count": null,
   "metadata": {},
   "outputs": [],
   "source": [
    "#         paper_bibitems = []\n",
    "#         bibitem = []\n",
    "#         start_looking = True\n",
    "#         start_appending = False\n",
    "\n",
    "#         for l in lines:\n",
    "#             if start_looking and l.startswith(\"\\\\bibitem[\"):\n",
    "#                 start_looking = False\n",
    "#                 start_appending = True\n",
    "#                 bibitem = [l.strip().replace(\"\\n\", \" \")]\n",
    "#                 continue\n",
    "#             if start_appending:\n",
    "#                 if l == \"\\n\":\n",
    "#                     paper_bibitems.append(bibitem)\n",
    "#                     bibitem = []\n",
    "#                     start_looking = True\n",
    "#                     start_appending = False\n",
    "#                 else:\n",
    "#                     bibitem.append(l.strip().replace(\"\\n\", \" \"))"
   ]
  },
  {
   "cell_type": "code",
   "execution_count": null,
   "metadata": {},
   "outputs": [],
   "source": []
  },
  {
   "cell_type": "code",
   "execution_count": 364,
   "metadata": {},
   "outputs": [
    {
     "data": {
      "text/plain": [
       "'1803.03735v1'"
      ]
     },
     "execution_count": 364,
     "metadata": {},
     "output_type": "execute_result"
    }
   ],
   "source": [
    "iclr_arxiv_map[\"2018_rJg4YGWRb\"][\"arxivId\"]"
   ]
  },
  {
   "cell_type": "code",
   "execution_count": 368,
   "metadata": {
    "collapsed": true
   },
   "outputs": [
    {
     "name": "stdout",
     "output_type": "stream",
     "text": [
      "% $ biblatex auxiliary file $\r\n",
      "% $ biblatex bbl format version 2.8 $\r\n",
      "% Do not modify the above lines!\r\n",
      "%\r\n",
      "% This is an auxiliary file used by the 'biblatex' package.\r\n",
      "% This file may safely be deleted. It will be recreated by\r\n",
      "% biber as required.\r\n",
      "%\r\n",
      "\\begingroup\r\n",
      "\\makeatletter\r\n",
      "\\@ifundefined{ver@biblatex.sty}\r\n",
      "  {\\@latex@error\r\n",
      "     {Missing 'biblatex' package}\r\n",
      "     {The bibliography requires the 'biblatex' package.}\r\n",
      "      \\aftergroup\\endinput}\r\n",
      "  {}\r\n",
      "\\endgroup\r\n",
      "\r\n",
      "\r\n",
      "\\refsection{0}\r\n",
      "  \\sortlist[entry]{nty/global/}\r\n",
      "    \\entry{BG17}{article}{}\r\n",
      "      \\name{author}{1}{}{%\r\n",
      "        {{hash=9bd76342e74240fe5697674c12407f32}{%\r\n",
      "           family={A.\\bibnamedelimi Bojchevski},\r\n",
      "           familyi={A\\bibinitperiod\\bibinitdelim B\\bibinitperiod},\r\n",
      "           given={S.\\bibnamedelimi Gunnemann},\r\n",
      "           giveni={S\\bibinitperiod\\bibinitdelim G\\bibinitperiod}}}%\r\n",
      "      }\r\n",
      "      \\strng{namehash}{9bd76342e74240fe5697674c12407f32}\r\n",
      "      \\strng{fullhash}{9bd76342e74240fe5697674c12407f32}\r\n",
      "      \\strng{authornamehash}{9bd76342e74240fe5697674c12407f32}\r\n",
      "      \\strng{authorfullhash}{9bd76342e74240fe5697674c12407f32}\r\n",
      "      \\field{sortinit}{A}\r\n",
      "      \\field{sortinithash}{3248043b5fe8d0a34dab5ab6b8d4309b}\r\n",
      "      \\field{labelnamesource}{author}\r\n",
      "      \\field{labeltitlesource}{title}\r\n",
      "      \\field{journaltitle}{arXiv preprint arXiv:1707.03815}\r\n",
      "      \\field{title}{Deep Gaussian Embedding of Attributed Graphs: Unsupervised Inductive Learning via Ranking}\r\n",
      "      \\field{year}{2017}\r\n",
      "    \\endentry\r\n",
      "    \\entry{AAB16}{article}{}\r\n",
      "      \\true{moreauthor}\r\n",
      "      \\true{morelabelname}\r\n",
      "      \\name{author}{10}{}{%\r\n",
      "        {{hash=f39ffee58f8a71d84d8b13c05804b2cc}{%\r\n",
      "           family={Abadi},\r\n",
      "           familyi={A\\bibinitperiod},\r\n",
      "           given={Martin},\r\n",
      "           giveni={M\\bibinitperiod}}}%\r\n",
      "        {{hash=37e1df772f97a2e492755e2006294387}{%\r\n",
      "           family={Agarwal},\r\n",
      "           familyi={A\\bibinitperiod},\r\n",
      "           given={Ashish},\r\n",
      "           giveni={A\\bibinitperiod}}}%\r\n",
      "        {{hash=08cf514c08137f94d73b590060797f5b}{%\r\n",
      "           family={Barham},\r\n",
      "           familyi={B\\bibinitperiod},\r\n",
      "           given={Paul},\r\n",
      "           giveni={P\\bibinitperiod}}}%\r\n",
      "        {{hash=a79c0c4b084471b2c8e0e9a38b4cb2b7}{%\r\n",
      "           family={Brevdo},\r\n",
      "           familyi={B\\bibinitperiod},\r\n",
      "           given={Eugene},\r\n",
      "           giveni={E\\bibinitperiod}}}%\r\n",
      "        {{hash=c0d10aaf985cebf8d0497e1828f9313f}{%\r\n",
      "           family={Chen},\r\n",
      "           familyi={C\\bibinitperiod},\r\n",
      "           given={Zhifeng},\r\n",
      "           giveni={Z\\bibinitperiod}}}%\r\n",
      "        {{hash=6f712ddfd730736ee54fdc87a4abf7a2}{%\r\n",
      "           family={Citro},\r\n",
      "           familyi={C\\bibinitperiod},\r\n",
      "           given={Craig},\r\n",
      "           giveni={C\\bibinitperiod}}}%\r\n",
      "        {{hash=d07609f7580c5f06cf743ebef86d1663}{%\r\n",
      "           family={Corrado},\r\n",
      "           familyi={C\\bibinitperiod},\r\n",
      "           given={Greg\\bibnamedelima S},\r\n",
      "           giveni={G\\bibinitperiod\\bibinitdelim S\\bibinitperiod}}}%\r\n",
      "        {{hash=a4c859221cc41e2db6d63b486f955ba2}{%\r\n",
      "           family={Davis},\r\n",
      "           familyi={D\\bibinitperiod},\r\n",
      "           given={Andy},\r\n",
      "           giveni={A\\bibinitperiod}}}%\r\n",
      "        {{hash=4aecfb0cc2e1e3b7899129fa2a94e2b8}{%\r\n",
      "           family={Dean},\r\n",
      "           familyi={D\\bibinitperiod},\r\n",
      "           given={Jeffrey},\r\n",
      "           giveni={J\\bibinitperiod}}}%\r\n",
      "        {{hash=bd7f88635b51bc5abb3d5a2cab967724}{%\r\n",
      "           family={Devin},\r\n",
      "           familyi={D\\bibinitperiod},\r\n",
      "           given={Matthieu},\r\n",
      "           giveni={M\\bibinitperiod}}}%\r\n",
      "      }\r\n",
      "      \\strng{namehash}{1cf6f3c19f4fd018f06a8f6a49bc4394}\r\n",
      "      \\strng{fullhash}{23e54a828f69ddaacb98bcd617318f26}\r\n",
      "      \\strng{authornamehash}{1cf6f3c19f4fd018f06a8f6a49bc4394}\r\n",
      "      \\strng{authorfullhash}{23e54a828f69ddaacb98bcd617318f26}\r\n",
      "      \\field{sortinit}{A}\r\n",
      "      \\field{sortinithash}{3248043b5fe8d0a34dab5ab6b8d4309b}\r\n",
      "      \\field{labelnamesource}{author}\r\n",
      "      \\field{labeltitlesource}{title}\r\n",
      "      \\field{journaltitle}{arXiv preprint arXiv:1603.04467}\r\n",
      "      \\field{title}{Tensorflow: Large-scale machine learning on heterogeneous distributed systems}\r\n",
      "      \\field{year}{2016}\r\n",
      "    \\endentry\r\n",
      "    \\entry{AT16}{inproceedings}{}\r\n",
      "      \\name{author}{2}{}{%\r\n",
      "        {{hash=9b2da2bc5f081fd296bb540d12a44d6c}{%\r\n",
      "           family={Atwood},\r\n",
      "           familyi={A\\bibinitperiod},\r\n",
      "           given={J.},\r\n",
      "           giveni={J\\bibinitperiod}}}%\r\n",
      "        {{hash=3a1aa2ef5bad86aa04a754b5679db72a}{%\r\n",
      "           family={Towsley},\r\n",
      "           familyi={T\\bibinitperiod},\r\n",
      "           given={D.},\r\n",
      "           giveni={D\\bibinitperiod}}}%\r\n",
      "      }\r\n",
      "      \\strng{namehash}{f04cb1782d34c1d547295add2b278145}\r\n",
      "      \\strng{fullhash}{f04cb1782d34c1d547295add2b278145}\r\n",
      "      \\strng{authornamehash}{f04cb1782d34c1d547295add2b278145}\r\n",
      "      \\strng{authorfullhash}{f04cb1782d34c1d547295add2b278145}\r\n",
      "      \\field{sortinit}{A}\r\n",
      "      \\field{sortinithash}{3248043b5fe8d0a34dab5ab6b8d4309b}\r\n",
      "      \\field{labelnamesource}{author}\r\n",
      "      \\field{labeltitlesource}{title}\r\n",
      "      \\field{booktitle}{Advances in Neural Information Processing Systems}\r\n",
      "      \\field{title}{Diffusion-convolutional neural networks}\r\n",
      "      \\field{year}{2016}\r\n",
      "      \\field{pages}{1993\\bibrangedash 2001}\r\n",
      "      \\range{pages}{9}\r\n",
      "    \\endentry\r\n",
      "    \\entry{bahdanau2014neural}{article}{}\r\n",
      "      \\name{author}{3}{}{%\r\n",
      "        {{hash=6d80adec79a13a33e73215c5f46f1605}{%\r\n",
      "           family={Bahdanau},\r\n",
      "           familyi={B\\bibinitperiod},\r\n",
      "           given={Dzmitry},\r\n",
      "           giveni={D\\bibinitperiod}}}%\r\n",
      "        {{hash=3da7501a79d9346572c7fd6e41b615df}{%\r\n",
      "           family={Cho},\r\n",
      "           familyi={C\\bibinitperiod},\r\n",
      "           given={Kyunghyun},\r\n",
      "           giveni={K\\bibinitperiod}}}%\r\n",
      "        {{hash=40a8e4774982146adc2688546f54efb2}{%\r\n",
      "           family={Bengio},\r\n",
      "           familyi={B\\bibinitperiod},\r\n",
      "           given={Yoshua},\r\n",
      "           giveni={Y\\bibinitperiod}}}%\r\n",
      "      }\r\n",
      "      \\strng{namehash}{ccf5ebef61998aaab5ec6eace8f4564d}\r\n",
      "      \\strng{fullhash}{ccf5ebef61998aaab5ec6eace8f4564d}\r\n",
      "      \\strng{authornamehash}{ccf5ebef61998aaab5ec6eace8f4564d}\r\n",
      "      \\strng{authorfullhash}{ccf5ebef61998aaab5ec6eace8f4564d}\r\n",
      "      \\field{sortinit}{B}\r\n",
      "      \\field{sortinithash}{5f6fa000f686ee5b41be67ba6ff7962d}\r\n",
      "      \\field{labelnamesource}{author}\r\n",
      "      \\field{labeltitlesource}{title}\r\n",
      "      \\field{journaltitle}{arXiv preprint arXiv:1409.0473}\r\n",
      "      \\field{title}{Neural machine translation by jointly learning to align and translate}\r\n",
      "      \\field{year}{2014}\r\n",
      "    \\endentry\r\n",
      "    \\entry{BNS06}{article}{}\r\n",
      "      \\name{author}{3}{}{%\r\n",
      "        {{hash=b2aeb0539e71c989e52b170b56b1fabd}{%\r\n",
      "           family={Belkin},\r\n",
      "           familyi={B\\bibinitperiod},\r\n",
      "           given={Mikhail},\r\n",
      "           giveni={M\\bibinitperiod}}}%\r\n",
      "        {{hash=156804623cd62fb419db269c507e26ce}{%\r\n",
      "           family={Niyogi},\r\n",
      "           familyi={N\\bibinitperiod},\r\n",
      "           given={Partha},\r\n",
      "           giveni={P\\bibinitperiod}}}%\r\n",
      "        {{hash=4f9c34b413772edc3b1cd5671b79dca7}{%\r\n",
      "           family={Sindhwani},\r\n",
      "           familyi={S\\bibinitperiod},\r\n",
      "           given={Vikas},\r\n",
      "           giveni={V\\bibinitperiod}}}%\r\n",
      "      }\r\n",
      "      \\strng{namehash}{d06c0f3feab884dbd72de8fa335a311d}\r\n",
      "      \\strng{fullhash}{d06c0f3feab884dbd72de8fa335a311d}\r\n",
      "      \\strng{authornamehash}{d06c0f3feab884dbd72de8fa335a311d}\r\n",
      "      \\strng{authorfullhash}{d06c0f3feab884dbd72de8fa335a311d}\r\n",
      "      \\field{sortinit}{B}\r\n",
      "      \\field{sortinithash}{5f6fa000f686ee5b41be67ba6ff7962d}\r\n",
      "      \\field{labelnamesource}{author}\r\n",
      "      \\field{labeltitlesource}{title}\r\n",
      "      \\field{journaltitle}{Journal of machine learning research}\r\n",
      "      \\field{number}{Nov}\r\n",
      "      \\field{title}{Manifold regularization: A geometric framework for learning from labeled and unlabeled examples}\r\n",
      "      \\field{volume}{7}\r\n",
      "      \\field{year}{2006}\r\n",
      "      \\field{pages}{2399\\bibrangedash 2434}\r\n",
      "      \\range{pages}{36}\r\n",
      "    \\endentry\r\n",
      "    \\entry{BKW17}{article}{}\r\n",
      "      \\name{author}{3}{}{%\r\n",
      "        {{hash=be6c1f0aceb0c0c2e9de5663e58345a8}{%\r\n",
      "           family={Berg},\r\n",
      "           familyi={B\\bibinitperiod},\r\n",
      "           given={R.\\bibnamedelimi van\\bibnamedelima den},\r\n",
      "           giveni={R\\bibinitperiod\\bibinitdelim v\\bibinitperiod\\bibinitdelim d\\bibinitperiod}}}%\r\n",
      "        {{hash=5b350fe5c9e7d7475b2f6dde27a899d7}{%\r\n",
      "           family={Kipf},\r\n",
      "           familyi={K\\bibinitperiod},\r\n",
      "           given={T.\\bibnamedelimi N.},\r\n",
      "           giveni={T\\bibinitperiod\\bibinitdelim N\\bibinitperiod}}}%\r\n",
      "        {{hash=8b7fe0e4c2b0f504bdf6a5d895d39ee1}{%\r\n",
      "           family={Welling},\r\n",
      "           familyi={W\\bibinitperiod},\r\n",
      "           given={M.},\r\n",
      "           giveni={M\\bibinitperiod}}}%\r\n",
      "      }\r\n",
      "      \\strng{namehash}{d58993fed9c917e01c5aee2d9fca6eea}\r\n",
      "      \\strng{fullhash}{d58993fed9c917e01c5aee2d9fca6eea}\r\n",
      "      \\strng{authornamehash}{d58993fed9c917e01c5aee2d9fca6eea}\r\n",
      "      \\strng{authorfullhash}{d58993fed9c917e01c5aee2d9fca6eea}\r\n",
      "      \\field{sortinit}{B}\r\n",
      "      \\field{sortinithash}{5f6fa000f686ee5b41be67ba6ff7962d}\r\n",
      "      \\field{labelnamesource}{author}\r\n",
      "      \\field{labeltitlesource}{title}\r\n",
      "      \\field{journaltitle}{arXiv preprint arXiv:1706.02263}\r\n",
      "      \\field{title}{Graph Convolutional Matrix Completion}\r\n",
      "      \\field{year}{2017}\r\n",
      "    \\endentry\r\n",
      "    \\entry{BC01}{inproceedings}{}\r\n",
      "      \\name{author}{2}{}{%\r\n",
      "        {{hash=c348e11a9e7f34b17b0811660fa01649}{%\r\n",
      "           family={Blum},\r\n",
      "           familyi={B\\bibinitperiod},\r\n",
      "           given={Avrim},\r\n",
      "           giveni={A\\bibinitperiod}}}%\r\n",
      "        {{hash=d3a62767b03b2910ef550737737bbb40}{%\r\n",
      "           family={Chawla},\r\n",
      "           familyi={C\\bibinitperiod},\r\n",
      "           given={Shuchi},\r\n",
      "           giveni={S\\bibinitperiod}}}%\r\n",
      "      }\r\n",
      "      \\strng{namehash}{a3b99ffe9f3dbd452724b44232c1d4d8}\r\n",
      "      \\strng{fullhash}{a3b99ffe9f3dbd452724b44232c1d4d8}\r\n",
      "      \\strng{authornamehash}{a3b99ffe9f3dbd452724b44232c1d4d8}\r\n",
      "      \\strng{authorfullhash}{a3b99ffe9f3dbd452724b44232c1d4d8}\r\n",
      "      \\field{sortinit}{B}\r\n",
      "      \\field{sortinithash}{5f6fa000f686ee5b41be67ba6ff7962d}\r\n",
      "      \\field{labelnamesource}{author}\r\n",
      "      \\field{labeltitlesource}{title}\r\n",
      "      \\field{booktitle}{ICML '01 Proceedings of the Eighteenth International Conference on Machine Learning}\r\n",
      "      \\field{title}{Learning from labeled and unlabeled data using graph mincuts}\r\n",
      "      \\field{year}{2001}\r\n",
      "    \\endentry\r\n",
      "    \\entry{BBL16}{article}{}\r\n",
      "      \\name{author}{5}{}{%\r\n",
      "        {{hash=a0ffa1ab9525af377eaba8bd6acb1d98}{%\r\n",
      "           family={Bronstein},\r\n",
      "           familyi={B\\bibinitperiod},\r\n",
      "           given={Michael\\bibnamedelima M},\r\n",
      "           giveni={M\\bibinitperiod\\bibinitdelim M\\bibinitperiod}}}%\r\n",
      "        {{hash=c83b564e32475f10dcc91be7e66d3e81}{%\r\n",
      "           family={Bruna},\r\n",
      "           familyi={B\\bibinitperiod},\r\n",
      "           given={Joan},\r\n",
      "           giveni={J\\bibinitperiod}}}%\r\n",
      "        {{hash=6a1aa6b7eab12b931ca7c7e3f927231d}{%\r\n",
      "           family={LeCun},\r\n",
      "           familyi={L\\bibinitperiod},\r\n",
      "           given={Yann},\r\n",
      "           giveni={Y\\bibinitperiod}}}%\r\n",
      "        {{hash=b31b3f03b1e1ee0eec6ff58f9a9df960}{%\r\n",
      "           family={Szlam},\r\n",
      "           familyi={S\\bibinitperiod},\r\n",
      "           given={Arthur},\r\n",
      "           giveni={A\\bibinitperiod}}}%\r\n",
      "        {{hash=b4945596e71bcffbc9d1b4af0d5e16f1}{%\r\n",
      "           family={Vandergheynst},\r\n",
      "           familyi={V\\bibinitperiod},\r\n",
      "           given={Pierre},\r\n",
      "           giveni={P\\bibinitperiod}}}%\r\n",
      "      }\r\n",
      "      \\strng{namehash}{4efad8a63311fd05b7baea04e2de23dc}\r\n",
      "      \\strng{fullhash}{4b72b016ab666deddf3a8e8fe51a4909}\r\n",
      "      \\strng{authornamehash}{4efad8a63311fd05b7baea04e2de23dc}\r\n",
      "      \\strng{authorfullhash}{4b72b016ab666deddf3a8e8fe51a4909}\r\n",
      "      \\field{sortinit}{B}\r\n",
      "      \\field{sortinithash}{5f6fa000f686ee5b41be67ba6ff7962d}\r\n",
      "      \\field{labelnamesource}{author}\r\n",
      "      \\field{labeltitlesource}{title}\r\n",
      "      \\field{journaltitle}{arXiv preprint arXiv:1611.08097}\r\n",
      "      \\field{title}{Geometric deep learning: going beyond euclidean data}\r\n",
      "      \\field{year}{2016}\r\n",
      "    \\endentry\r\n",
      "    \\entry{LB17}{article}{}\r\n",
      "      \\name{author}{2}{}{%\r\n",
      "        {{hash=ffabbc737cb02c4b3983a96bb1551c12}{%\r\n",
      "           family={Bruna},\r\n",
      "           familyi={B\\bibinitperiod},\r\n",
      "           given={J.},\r\n",
      "           giveni={J\\bibinitperiod}}}%\r\n",
      "        {{hash=0b22ca522c758b05bc7fe48223b56408}{%\r\n",
      "           family={Li},\r\n",
      "           familyi={L\\bibinitperiod},\r\n",
      "           given={X.},\r\n",
      "           giveni={X\\bibinitperiod}}}%\r\n",
      "      }\r\n",
      "      \\strng{namehash}{dc2144ced073e35b0eb5112dee17b643}\r\n",
      "      \\strng{fullhash}{dc2144ced073e35b0eb5112dee17b643}\r\n",
      "      \\strng{authornamehash}{dc2144ced073e35b0eb5112dee17b643}\r\n",
      "      \\strng{authorfullhash}{dc2144ced073e35b0eb5112dee17b643}\r\n",
      "      \\field{sortinit}{B}\r\n",
      "      \\field{sortinithash}{5f6fa000f686ee5b41be67ba6ff7962d}\r\n",
      "      \\field{labelnamesource}{author}\r\n",
      "      \\field{labeltitlesource}{title}\r\n",
      "      \\field{journaltitle}{arXiv preprint arXiv:1705.08415}\r\n",
      "      \\field{title}{Community Detection with Graph Neural Networks}\r\n",
      "      \\field{year}{2017}\r\n",
      "    \\endentry\r\n",
      "    \\entry{BZS13}{article}{}\r\n",
      "      \\name{author}{4}{}{%\r\n",
      "        {{hash=c83b564e32475f10dcc91be7e66d3e81}{%\r\n",
      "           family={Bruna},\r\n",
      "           familyi={B\\bibinitperiod},\r\n",
      "           given={Joan},\r\n",
      "           giveni={J\\bibinitperiod}}}%\r\n",
      "        {{hash=e9fec85bbce1b087a6ebefe26e73f7bf}{%\r\n",
      "           family={Zaremba},\r\n",
      "           familyi={Z\\bibinitperiod},\r\n",
      "           given={Wojciech},\r\n",
      "           giveni={W\\bibinitperiod}}}%\r\n",
      "        {{hash=b31b3f03b1e1ee0eec6ff58f9a9df960}{%\r\n",
      "           family={Szlam},\r\n",
      "           familyi={S\\bibinitperiod},\r\n",
      "           given={Arthur},\r\n",
      "           giveni={A\\bibinitperiod}}}%\r\n",
      "        {{hash=6a1aa6b7eab12b931ca7c7e3f927231d}{%\r\n",
      "           family={LeCun},\r\n",
      "           familyi={L\\bibinitperiod},\r\n",
      "           given={Yann},\r\n",
      "           giveni={Y\\bibinitperiod}}}%\r\n",
      "      }\r\n",
      "      \\strng{namehash}{e943572d925293c5f4fab4dfa7adc78e}\r\n",
      "      \\strng{fullhash}{d02494bc1b8f17d758dbf6ebc90838de}\r\n",
      "      \\strng{authornamehash}{e943572d925293c5f4fab4dfa7adc78e}\r\n",
      "      \\strng{authorfullhash}{d02494bc1b8f17d758dbf6ebc90838de}\r\n",
      "      \\field{sortinit}{B}\r\n",
      "      \\field{sortinithash}{5f6fa000f686ee5b41be67ba6ff7962d}\r\n",
      "      \\field{labelnamesource}{author}\r\n",
      "      \\field{labeltitlesource}{title}\r\n",
      "      \\field{journaltitle}{arXiv preprint arXiv:1312.6203}\r\n",
      "      \\field{title}{Spectral networks and locally connected networks on graphs}\r\n",
      "      \\field{year}{2013}\r\n",
      "    \\endentry\r\n",
      "    \\entry{BC17}{article}{}\r\n",
      "      \\name{author}{2}{}{%\r\n",
      "        {{hash=a273e9036cc7507d3d3feb5db3b8bfc9}{%\r\n",
      "           family={Buchnik},\r\n",
      "           familyi={B\\bibinitperiod},\r\n",
      "           given={Eliav},\r\n",
      "           giveni={E\\bibinitperiod}}}%\r\n",
      "        {{hash=537da394ff661487bc4120d6cab00ec5}{%\r\n",
      "           family={Cohen},\r\n",
      "           familyi={C\\bibinitperiod},\r\n",
      "           given={Edith},\r\n",
      "           giveni={E\\bibinitperiod}}}%\r\n",
      "      }\r\n",
      "      \\strng{namehash}{7b5a0e26cdfd66e17a6e68e2d9503a0c}\r\n",
      "      \\strng{fullhash}{7b5a0e26cdfd66e17a6e68e2d9503a0c}\r\n",
      "      \\strng{authornamehash}{7b5a0e26cdfd66e17a6e68e2d9503a0c}\r\n",
      "      \\strng{authorfullhash}{7b5a0e26cdfd66e17a6e68e2d9503a0c}\r\n",
      "      \\field{sortinit}{B}\r\n",
      "      \\field{sortinithash}{5f6fa000f686ee5b41be67ba6ff7962d}\r\n",
      "      \\field{labelnamesource}{author}\r\n",
      "      \\field{labeltitlesource}{title}\r\n",
      "      \\field{journaltitle}{arXiv preprint arXiv:1703.02618}\r\n",
      "      \\field{title}{Bootstrapped Graph Diffusions: Exposing the Power of Nonlinearity}\r\n",
      "      \\field{year}{2017}\r\n",
      "    \\endentry\r\n",
      "    \\entry{chapelle2009semi}{article}{}\r\n",
      "      \\name{author}{3}{}{%\r\n",
      "        {{hash=c16923b3cb0e0256feb096973e25b782}{%\r\n",
      "           family={Chapelle},\r\n",
      "           familyi={C\\bibinitperiod},\r\n",
      "           given={Olivier},\r\n",
      "           giveni={O\\bibinitperiod}}}%\r\n",
      "        {{hash=a8ec77afd672acfe7820edd22821493e}{%\r\n",
      "           family={Scholkopf},\r\n",
      "           familyi={S\\bibinitperiod},\r\n",
      "           given={Bernhard},\r\n",
      "           giveni={B\\bibinitperiod}}}%\r\n",
      "        {{hash=50c0860c9ed52e9e5fdbb8e2fc27156a}{%\r\n",
      "           family={Zien},\r\n",
      "           familyi={Z\\bibinitperiod},\r\n",
      "           given={Alexander},\r\n",
      "           giveni={A\\bibinitperiod}}}%\r\n",
      "      }\r\n",
      "      \\list{publisher}{1}{%\r\n",
      "        {IEEE}%\r\n",
      "      }\r\n",
      "      \\strng{namehash}{c9e7d320838fa367bea745a4f49959ad}\r\n",
      "      \\strng{fullhash}{c9e7d320838fa367bea745a4f49959ad}\r\n",
      "      \\strng{authornamehash}{c9e7d320838fa367bea745a4f49959ad}\r\n",
      "      \\strng{authorfullhash}{c9e7d320838fa367bea745a4f49959ad}\r\n",
      "      \\field{sortinit}{C}\r\n",
      "      \\field{sortinithash}{095692fd22cc3c74d7fe223d02314dbd}\r\n",
      "      \\field{labelnamesource}{author}\r\n",
      "      \\field{labeltitlesource}{title}\r\n",
      "      \\field{journaltitle}{IEEE Transactions on Neural Networks}\r\n",
      "      \\field{number}{3}\r\n",
      "      \\field{title}{Semi-supervised learning (chapelle, o. et al., eds.; 2006)[book reviews]}\r\n",
      "      \\field{volume}{20}\r\n",
      "      \\field{year}{2009}\r\n",
      "      \\field{pages}{542\\bibrangedash 542}\r\n",
      "      \\range{pages}{1}\r\n",
      "    \\endentry\r\n",
      "    \\entry{DDL16}{inproceedings}{}\r\n",
      "      \\name{author}{3}{}{%\r\n",
      "        {{hash=9ef8eef01b59f6c647a8926ac91779e5}{%\r\n",
      "           family={Dai},\r\n",
      "           familyi={D\\bibinitperiod},\r\n",
      "           given={H.},\r\n",
      "           giveni={H\\bibinitperiod}}}%\r\n",
      "        {{hash=3da7f65ab6164f26210b2dab59e9ca5b}{%\r\n",
      "           family={Dai},\r\n",
      "           familyi={D\\bibinitperiod},\r\n",
      "           given={B.},\r\n",
      "           giveni={B\\bibinitperiod}}}%\r\n",
      "        {{hash=911471698901428892c143e0eb076451}{%\r\n",
      "           family={Song},\r\n",
      "           familyi={S\\bibinitperiod},\r\n",
      "           given={L.},\r\n",
      "           giveni={L\\bibinitperiod}}}%\r\n",
      "      }\r\n",
      "      \\strng{namehash}{917c1304c7fcf879e3d882df3698cd62}\r\n",
      "      \\strng{fullhash}{917c1304c7fcf879e3d882df3698cd62}\r\n",
      "      \\strng{authornamehash}{917c1304c7fcf879e3d882df3698cd62}\r\n",
      "      \\strng{authorfullhash}{917c1304c7fcf879e3d882df3698cd62}\r\n",
      "      \\field{sortinit}{D}\r\n",
      "      \\field{sortinithash}{d10b5413de1f3d197b20897dd0d565bb}\r\n",
      "      \\field{labelnamesource}{author}\r\n",
      "      \\field{labeltitlesource}{title}\r\n",
      "      \\field{booktitle}{International Conference on Machine Learning}\r\n",
      "      \\field{title}{Discriminative embeddings of latent variable models for structured data}\r\n",
      "      \\field{year}{2016}\r\n",
      "      \\field{pages}{2702\\bibrangedash 2711}\r\n",
      "      \\range{pages}{10}\r\n",
      "    \\endentry\r\n",
      "    \\entry{DKZD17}{article}{}\r\n",
      "      \\name{author}{5}{}{%\r\n",
      "        {{hash=de24737b2a92d19806972ec6a8e8968a}{%\r\n",
      "           family={Dai},\r\n",
      "           familyi={D\\bibinitperiod},\r\n",
      "           given={Hanjun},\r\n",
      "           giveni={H\\bibinitperiod}}}%\r\n",
      "        {{hash=0bd8d2a2f1d54288df91ca69e8be0402}{%\r\n",
      "           family={Khalil},\r\n",
      "           familyi={K\\bibinitperiod},\r\n",
      "           given={Elias\\bibnamedelima B},\r\n",
      "           giveni={E\\bibinitperiod\\bibinitdelim B\\bibinitperiod}}}%\r\n",
      "        {{hash=f24d038867127f877a101e2e0b110dba}{%\r\n",
      "           family={Zhang},\r\n",
      "           familyi={Z\\bibinitperiod},\r\n",
      "           given={Yuyu},\r\n",
      "           giveni={Y\\bibinitperiod}}}%\r\n",
      "        {{hash=f59f0a4dd18946cd06c0fddbc0a44eaa}{%\r\n",
      "           family={Dilkina},\r\n",
      "           familyi={D\\bibinitperiod},\r\n",
      "           given={Bistra},\r\n",
      "           giveni={B\\bibinitperiod}}}%\r\n",
      "        {{hash=da5283630e781fb48ecf4859f54bca52}{%\r\n",
      "           family={Song},\r\n",
      "           familyi={S\\bibinitperiod},\r\n",
      "           given={Le},\r\n",
      "           giveni={L\\bibinitperiod}}}%\r\n",
      "      }\r\n",
      "      \\strng{namehash}{62336286111adfd5ad452ea9c4bfffe4}\r\n",
      "      \\strng{fullhash}{13ea7a022ad211e7911a16a94379deb1}\r\n",
      "      \\strng{authornamehash}{62336286111adfd5ad452ea9c4bfffe4}\r\n",
      "      \\strng{authorfullhash}{13ea7a022ad211e7911a16a94379deb1}\r\n",
      "      \\field{sortinit}{D}\r\n",
      "      \\field{sortinithash}{d10b5413de1f3d197b20897dd0d565bb}\r\n",
      "      \\field{labelnamesource}{author}\r\n",
      "      \\field{labeltitlesource}{title}\r\n",
      "      \\field{journaltitle}{arXiv preprint arXiv:1704.01665}\r\n",
      "      \\field{title}{Learning Combinatorial Optimization Algorithms over Graphs}\r\n",
      "      \\field{year}{2017}\r\n",
      "    \\endentry\r\n",
      "    \\entry{DBV16}{inproceedings}{}\r\n",
      "      \\name{author}{3}{}{%\r\n",
      "        {{hash=1c45ec3985cdb526e1b18bf4041b4c22}{%\r\n",
      "           family={Defferrard},\r\n",
      "           familyi={D\\bibinitperiod},\r\n",
      "           given={Micha\\\"{e}l},\r\n",
      "           giveni={M\\bibinitperiod}}}%\r\n",
      "        {{hash=26bf36a5046daec764f03647500c3871}{%\r\n",
      "           family={Bresson},\r\n",
      "           familyi={B\\bibinitperiod},\r\n",
      "           given={Xavier},\r\n",
      "           giveni={X\\bibinitperiod}}}%\r\n",
      "        {{hash=b4945596e71bcffbc9d1b4af0d5e16f1}{%\r\n",
      "           family={Vandergheynst},\r\n",
      "           familyi={V\\bibinitperiod},\r\n",
      "           given={Pierre},\r\n",
      "           giveni={P\\bibinitperiod}}}%\r\n",
      "      }\r\n",
      "      \\strng{namehash}{9c0e667960f917ece13a407278f995f6}\r\n",
      "      \\strng{fullhash}{9c0e667960f917ece13a407278f995f6}\r\n",
      "      \\strng{authornamehash}{9c0e667960f917ece13a407278f995f6}\r\n",
      "      \\strng{authorfullhash}{9c0e667960f917ece13a407278f995f6}\r\n",
      "      \\field{sortinit}{D}\r\n",
      "      \\field{sortinithash}{d10b5413de1f3d197b20897dd0d565bb}\r\n",
      "      \\field{labelnamesource}{author}\r\n",
      "      \\field{labeltitlesource}{title}\r\n",
      "      \\field{booktitle}{Advances in Neural Information Processing Systems}\r\n",
      "      \\field{title}{Convolutional neural networks on graphs with fast localized spectral filtering}\r\n",
      "      \\field{year}{2016}\r\n",
      "      \\field{pages}{3837\\bibrangedash 3845}\r\n",
      "      \\range{pages}{9}\r\n",
      "    \\endentry\r\n",
      "    \\entry{duan2017one}{article}{}\r\n",
      "      \\name{author}{8}{}{%\r\n",
      "        {{hash=beba2607fa3b01b069f484075d0b9cf2}{%\r\n",
      "           family={Duan},\r\n",
      "           familyi={D\\bibinitperiod},\r\n",
      "           given={Yan},\r\n",
      "           giveni={Y\\bibinitperiod}}}%\r\n",
      "        {{hash=0d8b72cabbd1b548097b4a7b81a0f335}{%\r\n",
      "           family={Andrychowicz},\r\n",
      "           familyi={A\\bibinitperiod},\r\n",
      "           given={Marcin},\r\n",
      "           giveni={M\\bibinitperiod}}}%\r\n",
      "        {{hash=8b11b4daffc575df9c8434e1645a9ce2}{%\r\n",
      "           family={Stadie},\r\n",
      "           familyi={S\\bibinitperiod},\r\n",
      "           given={Bradly},\r\n",
      "           giveni={B\\bibinitperiod}}}%\r\n",
      "        {{hash=2ac2ca10b22e4d13af1767e87495412f}{%\r\n",
      "           family={Ho},\r\n",
      "           familyi={H\\bibinitperiod},\r\n",
      "           given={Jonathan},\r\n",
      "           giveni={J\\bibinitperiod}}}%\r\n",
      "        {{hash=5167ef9d0b77bf68557730648baac9b7}{%\r\n",
      "           family={Schneider},\r\n",
      "           familyi={S\\bibinitperiod},\r\n",
      "           given={Jonas},\r\n",
      "           giveni={J\\bibinitperiod}}}%\r\n",
      "        {{hash=8d569d1d5b8b5a7836017a98b430f959}{%\r\n",
      "           family={Sutskever},\r\n",
      "           familyi={S\\bibinitperiod},\r\n",
      "           given={Ilya},\r\n",
      "           giveni={I\\bibinitperiod}}}%\r\n",
      "        {{hash=e28d4ee199593959d8c29980a64f1974}{%\r\n",
      "           family={Abbeel},\r\n",
      "           familyi={A\\bibinitperiod},\r\n",
      "           given={Pieter},\r\n",
      "           giveni={P\\bibinitperiod}}}%\r\n",
      "        {{hash=e9fec85bbce1b087a6ebefe26e73f7bf}{%\r\n",
      "           family={Zaremba},\r\n",
      "           familyi={Z\\bibinitperiod},\r\n",
      "           given={Wojciech},\r\n",
      "           giveni={W\\bibinitperiod}}}%\r\n",
      "      }\r\n",
      "      \\strng{namehash}{d584fc2671079e392b34b5f325b0d7d1}\r\n",
      "      \\strng{fullhash}{9df11df7f030871e2120b9f684e65d3b}\r\n",
      "      \\strng{authornamehash}{d584fc2671079e392b34b5f325b0d7d1}\r\n",
      "      \\strng{authorfullhash}{9df11df7f030871e2120b9f684e65d3b}\r\n",
      "      \\field{sortinit}{D}\r\n",
      "      \\field{sortinithash}{d10b5413de1f3d197b20897dd0d565bb}\r\n",
      "      \\field{labelnamesource}{author}\r\n",
      "      \\field{labeltitlesource}{title}\r\n",
      "      \\field{journaltitle}{arXiv preprint arXiv:1703.07326}\r\n",
      "      \\field{title}{One-Shot Imitation Learning}\r\n",
      "      \\field{year}{2017}\r\n",
      "    \\endentry\r\n",
      "    \\entry{DMI15}{inproceedings}{}\r\n",
      "      \\name{author}{7}{}{%\r\n",
      "        {{hash=108b92d0bd5c8176ffcbdc2f5b5a09f0}{%\r\n",
      "           family={Duvenaud},\r\n",
      "           familyi={D\\bibinitperiod},\r\n",
      "           given={David\\bibnamedelima K},\r\n",
      "           giveni={D\\bibinitperiod\\bibinitdelim K\\bibinitperiod}}}%\r\n",
      "        {{hash=07e607fb522f06610feb023ecfa712e2}{%\r\n",
      "           family={Maclaurin},\r\n",
      "           familyi={M\\bibinitperiod},\r\n",
      "           given={Dougal},\r\n",
      "           giveni={D\\bibinitperiod}}}%\r\n",
      "        {{hash=798fc9bfad3f233e685881eb0b44d8c2}{%\r\n",
      "           family={Iparraguirre},\r\n",
      "           familyi={I\\bibinitperiod},\r\n",
      "           given={Jorge},\r\n",
      "           giveni={J\\bibinitperiod}}}%\r\n",
      "        {{hash=fcee4343774a3907b1ea8fff0014d3e9}{%\r\n",
      "           family={Bombarell},\r\n",
      "           familyi={B\\bibinitperiod},\r\n",
      "           given={Rafael},\r\n",
      "           giveni={R\\bibinitperiod}}}%\r\n",
      "        {{hash=2f565f45e0faadc2ec7c0fbf40e550cc}{%\r\n",
      "           family={Hirzel},\r\n",
      "           familyi={H\\bibinitperiod},\r\n",
      "           given={Timothy},\r\n",
      "           giveni={T\\bibinitperiod}}}%\r\n",
      "        {{hash=083dcdd0db2687433b22fabfb2e55c17}{%\r\n",
      "           family={Aspuru-Guzik},\r\n",
      "           familyi={A\\bibinithyphendelim G\\bibinitperiod},\r\n",
      "           given={Al\\'{a}n},\r\n",
      "           giveni={A\\bibinitperiod}}}%\r\n",
      "        {{hash=0d7f3607c0972d955d28f65d08139baa}{%\r\n",
      "           family={Adams},\r\n",
      "           familyi={A\\bibinitperiod},\r\n",
      "           given={Ryan\\bibnamedelima P},\r\n",
      "           giveni={R\\bibinitperiod\\bibinitdelim P\\bibinitperiod}}}%\r\n",
      "      }\r\n",
      "      \\strng{namehash}{bce9ab9e8f75e3415841658fd54e5351}\r\n",
      "      \\strng{fullhash}{3cc65b348f7f6c56edf18156495e5878}\r\n",
      "      \\strng{authornamehash}{bce9ab9e8f75e3415841658fd54e5351}\r\n",
      "      \\strng{authorfullhash}{3cc65b348f7f6c56edf18156495e5878}\r\n",
      "      \\field{sortinit}{D}\r\n",
      "      \\field{sortinithash}{d10b5413de1f3d197b20897dd0d565bb}\r\n",
      "      \\field{labelnamesource}{author}\r\n",
      "      \\field{labeltitlesource}{title}\r\n",
      "      \\field{booktitle}{Advances in neural information processing systems}\r\n",
      "      \\field{title}{Convolutional networks on graphs for learning molecular fingerprints}\r\n",
      "      \\field{year}{2015}\r\n",
      "      \\field{pages}{2224\\bibrangedash 2232}\r\n",
      "      \\range{pages}{9}\r\n",
      "    \\endentry\r\n",
      "    \\entry{FBFM17}{article}{}\r\n",
      "      \\name{author}{4}{}{%\r\n",
      "        {{hash=f82f97528567b1069d6c8bf65d57b414}{%\r\n",
      "           family={Faerman},\r\n",
      "           familyi={F\\bibinitperiod},\r\n",
      "           given={Evgeniy},\r\n",
      "           giveni={E\\bibinitperiod}}}%\r\n",
      "        {{hash=d22db4d520afa07f107de19aefe24f1e}{%\r\n",
      "           family={Borutta},\r\n",
      "           familyi={B\\bibinitperiod},\r\n",
      "           given={Felix},\r\n",
      "           giveni={F\\bibinitperiod}}}%\r\n",
      "        {{hash=5a7285b4f95177e4943c0260c9ee02d9}{%\r\n",
      "           family={Fountoulakis},\r\n",
      "           familyi={F\\bibinitperiod},\r\n",
      "           given={Kimon},\r\n",
      "           giveni={K\\bibinitperiod}}}%\r\n",
      "        {{hash=bd17186143779d2f0eae6b5198fdc8db}{%\r\n",
      "           family={Mahoney},\r\n",
      "           familyi={M\\bibinitperiod},\r\n",
      "           given={Michael\\bibnamedelima W},\r\n",
      "           giveni={M\\bibinitperiod\\bibinitdelim W\\bibinitperiod}}}%\r\n",
      "      }\r\n",
      "      \\strng{namehash}{701868334af1374812b3ff0d9a6f7f28}\r\n",
      "      \\strng{fullhash}{03114bd41b371c6846ff33926fd8bd34}\r\n",
      "      \\strng{authornamehash}{701868334af1374812b3ff0d9a6f7f28}\r\n",
      "      \\strng{authorfullhash}{03114bd41b371c6846ff33926fd8bd34}\r\n",
      "      \\field{sortinit}{F}\r\n",
      "      \\field{sortinithash}{276475738cc058478c1677046f857703}\r\n",
      "      \\field{labelnamesource}{author}\r\n",
      "      \\field{labeltitlesource}{title}\r\n",
      "      \\field{journaltitle}{arXiv preprint arXiv:1710.06520}\r\n",
      "      \\field{title}{LASAGNE: Locality And Structure Aware Graph Node Embedding}\r\n",
      "      \\field{year}{2017}\r\n",
      "    \\endentry\r\n",
      "    \\entry{GSR17}{article}{}\r\n",
      "      \\name{author}{5}{}{%\r\n",
      "        {{hash=4f550339f0337905aa634f39e1ba4833}{%\r\n",
      "           family={Gilmer},\r\n",
      "           familyi={G\\bibinitperiod},\r\n",
      "           given={Justin},\r\n",
      "           giveni={J\\bibinitperiod}}}%\r\n",
      "        {{hash=920c9f032aa17f9b4791a76fcd22b927}{%\r\n",
      "           family={Schoenholz},\r\n",
      "           familyi={S\\bibinitperiod},\r\n",
      "           given={Samuel\\bibnamedelima S},\r\n",
      "           giveni={S\\bibinitperiod\\bibinitdelim S\\bibinitperiod}}}%\r\n",
      "        {{hash=2fc89012bf74e88cffb152e8c84c4a26}{%\r\n",
      "           family={Riley},\r\n",
      "           familyi={R\\bibinitperiod},\r\n",
      "           given={Patrick\\bibnamedelima F},\r\n",
      "           giveni={P\\bibinitperiod\\bibinitdelim F\\bibinitperiod}}}%\r\n",
      "        {{hash=494b568c5dc85ba8f3f409635f9c5f25}{%\r\n",
      "           family={Vinyals},\r\n",
      "           familyi={V\\bibinitperiod},\r\n",
      "           given={Oriol},\r\n",
      "           giveni={O\\bibinitperiod}}}%\r\n",
      "        {{hash=c54ba7c146c933da55b6f2fbbbe3cf06}{%\r\n",
      "           family={Dahl},\r\n",
      "           familyi={D\\bibinitperiod},\r\n",
      "           given={George\\bibnamedelima E},\r\n",
      "           giveni={G\\bibinitperiod\\bibinitdelim E\\bibinitperiod}}}%\r\n",
      "      }\r\n",
      "      \\strng{namehash}{c654290e16b9e71825428d767650ff2a}\r\n",
      "      \\strng{fullhash}{621fd1ac3839fe0b3016292fe2fd5c37}\r\n",
      "      \\strng{authornamehash}{c654290e16b9e71825428d767650ff2a}\r\n",
      "      \\strng{authorfullhash}{621fd1ac3839fe0b3016292fe2fd5c37}\r\n",
      "      \\field{sortinit}{G}\r\n",
      "      \\field{sortinithash}{618d986594b7198ba52cf8b00d348f3f}\r\n",
      "      \\field{labelnamesource}{author}\r\n",
      "      \\field{labeltitlesource}{title}\r\n",
      "      \\field{journaltitle}{arXiv preprint arXiv:1704.01212}\r\n",
      "      \\field{title}{Neural message passing for quantum chemistry}\r\n",
      "      \\field{year}{2017}\r\n",
      "    \\endentry\r\n",
      "    \\entry{GMS05}{inproceedings}{}\r\n",
      "      \\name{author}{3}{}{%\r\n",
      "        {{hash=d25d4f83ae540b2b728a5423e9fbe85b}{%\r\n",
      "           family={Gori},\r\n",
      "           familyi={G\\bibinitperiod},\r\n",
      "           given={Marco},\r\n",
      "           giveni={M\\bibinitperiod}}}%\r\n",
      "        {{hash=b56d5f9b0efe692c5e81a88da3a2f2b7}{%\r\n",
      "           family={Monfardini},\r\n",
      "           familyi={M\\bibinitperiod},\r\n",
      "           given={Gabriele},\r\n",
      "           giveni={G\\bibinitperiod}}}%\r\n",
      "        {{hash=447de7983619243dc5bf3af69d609b20}{%\r\n",
      "           family={Scarselli},\r\n",
      "           familyi={S\\bibinitperiod},\r\n",
      "           given={Franco},\r\n",
      "           giveni={F\\bibinitperiod}}}%\r\n",
      "      }\r\n",
      "      \\list{organization}{1}{%\r\n",
      "        {IEEE}%\r\n",
      "      }\r\n",
      "      \\strng{namehash}{9c8447cad4e780034e98b80b7b341453}\r\n",
      "      \\strng{fullhash}{9c8447cad4e780034e98b80b7b341453}\r\n",
      "      \\strng{authornamehash}{9c8447cad4e780034e98b80b7b341453}\r\n",
      "      \\strng{authorfullhash}{9c8447cad4e780034e98b80b7b341453}\r\n",
      "      \\field{sortinit}{G}\r\n",
      "      \\field{sortinithash}{618d986594b7198ba52cf8b00d348f3f}\r\n",
      "      \\field{labelnamesource}{author}\r\n",
      "      \\field{labeltitlesource}{title}\r\n",
      "      \\field{booktitle}{Neural Networks, 2005. IJCNN'05. Proceedings. 2005 IEEE International Joint Conference on}\r\n",
      "      \\field{title}{A new model for learning in graph domains}\r\n",
      "      \\field{volume}{2}\r\n",
      "      \\field{year}{2005}\r\n",
      "      \\field{pages}{729\\bibrangedash 734}\r\n",
      "      \\range{pages}{6}\r\n",
      "    \\endentry\r\n",
      "    \\entry{graves2014neural}{article}{}\r\n",
      "      \\name{author}{3}{}{%\r\n",
      "        {{hash=dfca94b0427da7f9088af596e23b46c0}{%\r\n",
      "           family={Graves},\r\n",
      "           familyi={G\\bibinitperiod},\r\n",
      "           given={Alex},\r\n",
      "           giveni={A\\bibinitperiod}}}%\r\n",
      "        {{hash=f96594cc1d20df4a987bf8b9770d1ef0}{%\r\n",
      "           family={Wayne},\r\n",
      "           familyi={W\\bibinitperiod},\r\n",
      "           given={Greg},\r\n",
      "           giveni={G\\bibinitperiod}}}%\r\n",
      "        {{hash=970650e9394fccd4144d4b829505d2b3}{%\r\n",
      "           family={Danihelka},\r\n",
      "           familyi={D\\bibinitperiod},\r\n",
      "           given={Ivo},\r\n",
      "           giveni={I\\bibinitperiod}}}%\r\n",
      "      }\r\n",
      "      \\strng{namehash}{a6d94af175112562d0f33e48f97adfff}\r\n",
      "      \\strng{fullhash}{a6d94af175112562d0f33e48f97adfff}\r\n",
      "      \\strng{authornamehash}{a6d94af175112562d0f33e48f97adfff}\r\n",
      "      \\strng{authorfullhash}{a6d94af175112562d0f33e48f97adfff}\r\n",
      "      \\field{sortinit}{G}\r\n",
      "      \\field{sortinithash}{618d986594b7198ba52cf8b00d348f3f}\r\n",
      "      \\field{labelnamesource}{author}\r\n",
      "      \\field{labeltitlesource}{title}\r\n",
      "      \\field{journaltitle}{arXiv preprint arXiv:1410.5401}\r\n",
      "      \\field{title}{Neural turing machines}\r\n",
      "      \\field{year}{2014}\r\n",
      "    \\endentry\r\n",
      "    \\entry{GL16}{inproceedings}{}\r\n",
      "      \\name{author}{2}{}{%\r\n",
      "        {{hash=729fadc9b7ff4401944223d1970029bf}{%\r\n",
      "           family={Grover},\r\n",
      "           familyi={G\\bibinitperiod},\r\n",
      "           given={A.},\r\n",
      "           giveni={A\\bibinitperiod}}}%\r\n",
      "        {{hash=c604a89d1319108135da5c5839b3c49b}{%\r\n",
      "           family={Leskovec},\r\n",
      "           familyi={L\\bibinitperiod},\r\n",
      "           given={J.},\r\n",
      "           giveni={J\\bibinitperiod}}}%\r\n",
      "      }\r\n",
      "      \\list{organization}{1}{%\r\n",
      "        {ACM}%\r\n",
      "      }\r\n",
      "      \\strng{namehash}{2bfa8db0ccc8c5de7f567e2f4b4e7c6e}\r\n",
      "      \\strng{fullhash}{2bfa8db0ccc8c5de7f567e2f4b4e7c6e}\r\n",
      "      \\strng{authornamehash}{2bfa8db0ccc8c5de7f567e2f4b4e7c6e}\r\n",
      "      \\strng{authorfullhash}{2bfa8db0ccc8c5de7f567e2f4b4e7c6e}\r\n",
      "      \\field{sortinit}{G}\r\n",
      "      \\field{sortinithash}{618d986594b7198ba52cf8b00d348f3f}\r\n",
      "      \\field{labelnamesource}{author}\r\n",
      "      \\field{labeltitlesource}{title}\r\n",
      "      \\field{booktitle}{Proceedings of the 22nd ACM SIGKDD International Conference on Knowledge Discovery and Data Mining}\r\n",
      "      \\field{title}{node2vec: Scalable feature learning for networks}\r\n",
      "      \\field{year}{2016}\r\n",
      "      \\field{pages}{855\\bibrangedash 864}\r\n",
      "      \\range{pages}{10}\r\n",
      "    \\endentry\r\n",
      "    \\entry{HYL17}{article}{}\r\n",
      "      \\name{author}{3}{}{%\r\n",
      "        {{hash=6da60abd9fc3efa0e19961208a1125ad}{%\r\n",
      "           family={Hamilton},\r\n",
      "           familyi={H\\bibinitperiod},\r\n",
      "           given={W.\\bibnamedelimi L.},\r\n",
      "           giveni={W\\bibinitperiod\\bibinitdelim L\\bibinitperiod}}}%\r\n",
      "        {{hash=ccd2e39b9e7a7540d00904acb3d26ab7}{%\r\n",
      "           family={Ying},\r\n",
      "           familyi={Y\\bibinitperiod},\r\n",
      "           given={R.},\r\n",
      "           giveni={R\\bibinitperiod}}}%\r\n",
      "        {{hash=c604a89d1319108135da5c5839b3c49b}{%\r\n",
      "           family={Leskovec},\r\n",
      "           familyi={L\\bibinitperiod},\r\n",
      "           given={J.},\r\n",
      "           giveni={J\\bibinitperiod}}}%\r\n",
      "      }\r\n",
      "      \\strng{namehash}{dde8b5b25b879f9646bb658512496c68}\r\n",
      "      \\strng{fullhash}{dde8b5b25b879f9646bb658512496c68}\r\n",
      "      \\strng{authornamehash}{dde8b5b25b879f9646bb658512496c68}\r\n",
      "      \\strng{authorfullhash}{dde8b5b25b879f9646bb658512496c68}\r\n",
      "      \\field{sortinit}{H}\r\n",
      "      \\field{sortinithash}{2f664b453ec75da1fe3804ca92633405}\r\n",
      "      \\field{labelnamesource}{author}\r\n",
      "      \\field{labeltitlesource}{title}\r\n",
      "      \\field{journaltitle}{arXiv preprint arXiv:1706.02216}\r\n",
      "      \\field{title}{Inductive Representation Learning on Large Graphs}\r\n",
      "      \\field{year}{2017}\r\n",
      "    \\endentry\r\n",
      "    \\entry{HBL15}{article}{}\r\n",
      "      \\name{author}{3}{}{%\r\n",
      "        {{hash=401562d96db136e78effff95552f584b}{%\r\n",
      "           family={Henaff},\r\n",
      "           familyi={H\\bibinitperiod},\r\n",
      "           given={Mikael},\r\n",
      "           giveni={M\\bibinitperiod}}}%\r\n",
      "        {{hash=c83b564e32475f10dcc91be7e66d3e81}{%\r\n",
      "           family={Bruna},\r\n",
      "           familyi={B\\bibinitperiod},\r\n",
      "           given={Joan},\r\n",
      "           giveni={J\\bibinitperiod}}}%\r\n",
      "        {{hash=6a1aa6b7eab12b931ca7c7e3f927231d}{%\r\n",
      "           family={LeCun},\r\n",
      "           familyi={L\\bibinitperiod},\r\n",
      "           given={Yann},\r\n",
      "           giveni={Y\\bibinitperiod}}}%\r\n",
      "      }\r\n",
      "      \\strng{namehash}{de963917bd0c893230d69338568c1f65}\r\n",
      "      \\strng{fullhash}{de963917bd0c893230d69338568c1f65}\r\n",
      "      \\strng{authornamehash}{de963917bd0c893230d69338568c1f65}\r\n",
      "      \\strng{authorfullhash}{de963917bd0c893230d69338568c1f65}\r\n",
      "      \\field{sortinit}{H}\r\n",
      "      \\field{sortinithash}{2f664b453ec75da1fe3804ca92633405}\r\n",
      "      \\field{labelnamesource}{author}\r\n",
      "      \\field{labeltitlesource}{title}\r\n",
      "      \\field{journaltitle}{arXiv preprint arXiv:1506.05163}\r\n",
      "      \\field{title}{Deep convolutional networks on graph-structured data}\r\n",
      "      \\field{year}{2015}\r\n",
      "    \\endentry\r\n",
      "    \\entry{hoshen2017vain}{inproceedings}{}\r\n",
      "      \\name{author}{1}{}{%\r\n",
      "        {{hash=55efb0f1e8b5c54cf62b4ffea5bc8660}{%\r\n",
      "           family={Hoshen},\r\n",
      "           familyi={H\\bibinitperiod},\r\n",
      "           given={Yedid},\r\n",
      "           giveni={Y\\bibinitperiod}}}%\r\n",
      "      }\r\n",
      "      \\strng{namehash}{55efb0f1e8b5c54cf62b4ffea5bc8660}\r\n",
      "      \\strng{fullhash}{55efb0f1e8b5c54cf62b4ffea5bc8660}\r\n",
      "      \\strng{authornamehash}{55efb0f1e8b5c54cf62b4ffea5bc8660}\r\n",
      "      \\strng{authorfullhash}{55efb0f1e8b5c54cf62b4ffea5bc8660}\r\n",
      "      \\field{sortinit}{H}\r\n",
      "      \\field{sortinithash}{2f664b453ec75da1fe3804ca92633405}\r\n",
      "      \\field{labelnamesource}{author}\r\n",
      "      \\field{labeltitlesource}{title}\r\n",
      "      \\field{booktitle}{Advances in Neural Information Processing Systems}\r\n",
      "      \\field{title}{VAIN: Attentional Multi-agent Predictive Modeling}\r\n",
      "      \\field{year}{2017}\r\n",
      "      \\field{pages}{2698\\bibrangedash 2708}\r\n",
      "      \\range{pages}{11}\r\n",
      "    \\endentry\r\n",
      "    \\entry{Joa99}{inproceedings}{}\r\n",
      "      \\name{author}{1}{}{%\r\n",
      "        {{hash=0e5ae7e30da87e8ba62ced27d4e6f2aa}{%\r\n",
      "           family={Joachims},\r\n",
      "           familyi={J\\bibinitperiod},\r\n",
      "           given={Thorsten},\r\n",
      "           giveni={T\\bibinitperiod}}}%\r\n",
      "      }\r\n",
      "      \\strng{namehash}{0e5ae7e30da87e8ba62ced27d4e6f2aa}\r\n",
      "      \\strng{fullhash}{0e5ae7e30da87e8ba62ced27d4e6f2aa}\r\n",
      "      \\strng{authornamehash}{0e5ae7e30da87e8ba62ced27d4e6f2aa}\r\n",
      "      \\strng{authorfullhash}{0e5ae7e30da87e8ba62ced27d4e6f2aa}\r\n",
      "      \\field{sortinit}{J}\r\n",
      "      \\field{sortinithash}{c86bd6cced82a15683b396c2169909ef}\r\n",
      "      \\field{labelnamesource}{author}\r\n",
      "      \\field{labeltitlesource}{title}\r\n",
      "      \\field{booktitle}{ICML}\r\n",
      "      \\field{title}{Transductive inference for text classification using support vector machines}\r\n",
      "      \\field{volume}{99}\r\n",
      "      \\field{year}{1999}\r\n",
      "      \\field{pages}{200\\bibrangedash 209}\r\n",
      "      \\range{pages}{10}\r\n",
      "    \\endentry\r\n",
      "    \\entry{KW16}{article}{}\r\n",
      "      \\name{author}{2}{}{%\r\n",
      "        {{hash=5b350fe5c9e7d7475b2f6dde27a899d7}{%\r\n",
      "           family={Kipf},\r\n",
      "           familyi={K\\bibinitperiod},\r\n",
      "           given={T.\\bibnamedelimi N.},\r\n",
      "           giveni={T\\bibinitperiod\\bibinitdelim N\\bibinitperiod}}}%\r\n",
      "        {{hash=8b7fe0e4c2b0f504bdf6a5d895d39ee1}{%\r\n",
      "           family={Welling},\r\n",
      "           familyi={W\\bibinitperiod},\r\n",
      "           given={M.},\r\n",
      "           giveni={M\\bibinitperiod}}}%\r\n",
      "      }\r\n",
      "      \\strng{namehash}{a3a23062515b8711ec01e3f628bc9a3c}\r\n",
      "      \\strng{fullhash}{a3a23062515b8711ec01e3f628bc9a3c}\r\n",
      "      \\strng{authornamehash}{a3a23062515b8711ec01e3f628bc9a3c}\r\n",
      "      \\strng{authorfullhash}{a3a23062515b8711ec01e3f628bc9a3c}\r\n",
      "      \\field{sortinit}{K}\r\n",
      "      \\field{sortinithash}{4c244ceae61406cdc0cc2ce1cb1ff703}\r\n",
      "      \\field{labelnamesource}{author}\r\n",
      "      \\field{labeltitlesource}{title}\r\n",
      "      \\field{journaltitle}{arXiv preprint arXiv:1609.02907}\r\n",
      "      \\field{title}{Semi-supervised classification with graph convolutional networks}\r\n",
      "      \\field{year}{2016}\r\n",
      "    \\endentry\r\n",
      "    \\entry{LM14}{inproceedings}{}\r\n",
      "      \\name{author}{2}{}{%\r\n",
      "        {{hash=b56899d694b74365ac398ca92cb6292b}{%\r\n",
      "           family={Le},\r\n",
      "           familyi={L\\bibinitperiod},\r\n",
      "           given={Q.},\r\n",
      "           giveni={Q\\bibinitperiod}}}%\r\n",
      "        {{hash=485b259515dc5e970eacb830156afa79}{%\r\n",
      "           family={Mikolov},\r\n",
      "           familyi={M\\bibinitperiod},\r\n",
      "           given={T.},\r\n",
      "           giveni={T\\bibinitperiod}}}%\r\n",
      "      }\r\n",
      "      \\strng{namehash}{f8e10b1319271874539abbf341676626}\r\n",
      "      \\strng{fullhash}{f8e10b1319271874539abbf341676626}\r\n",
      "      \\strng{authornamehash}{f8e10b1319271874539abbf341676626}\r\n",
      "      \\strng{authorfullhash}{f8e10b1319271874539abbf341676626}\r\n",
      "      \\field{sortinit}{L}\r\n",
      "      \\field{sortinithash}{7bba64db83423e3c29ad597f3b682cf3}\r\n",
      "      \\field{labelnamesource}{author}\r\n",
      "      \\field{labeltitlesource}{title}\r\n",
      "      \\field{booktitle}{Proceedings of the 31st International Conference on Machine Learning (ICML-14)}\r\n",
      "      \\field{title}{Distributed representations of sentences and documents}\r\n",
      "      \\field{year}{2014}\r\n",
      "      \\field{pages}{1188\\bibrangedash 1196}\r\n",
      "      \\range{pages}{9}\r\n",
      "    \\endentry\r\n",
      "    \\entry{LTB15}{article}{}\r\n",
      "      \\name{author}{4}{}{%\r\n",
      "        {{hash=38fcf426aad9f6b84953f797dca3a801}{%\r\n",
      "           family={Li},\r\n",
      "           familyi={L\\bibinitperiod},\r\n",
      "           given={Y.},\r\n",
      "           giveni={Y\\bibinitperiod}}}%\r\n",
      "        {{hash=7df8ad9c933b9d97d975395b699eaaf6}{%\r\n",
      "           family={Tarlow},\r\n",
      "           familyi={T\\bibinitperiod},\r\n",
      "           given={D.},\r\n",
      "           giveni={D\\bibinitperiod}}}%\r\n",
      "        {{hash=398caf5fb071faeabb358d1c5d50bd02}{%\r\n",
      "           family={Brockschmidt},\r\n",
      "           familyi={B\\bibinitperiod},\r\n",
      "           given={M.},\r\n",
      "           giveni={M\\bibinitperiod}}}%\r\n",
      "        {{hash=4e17361cbc1d11ce7856c14cb9276138}{%\r\n",
      "           family={Zemel},\r\n",
      "           familyi={Z\\bibinitperiod},\r\n",
      "           given={R.},\r\n",
      "           giveni={R\\bibinitperiod}}}%\r\n",
      "      }\r\n",
      "      \\strng{namehash}{cc196a5ce1f3c4120fc08f1048e1df69}\r\n",
      "      \\strng{fullhash}{3998f6629e69249105d1697574d70509}\r\n",
      "      \\strng{authornamehash}{cc196a5ce1f3c4120fc08f1048e1df69}\r\n",
      "      \\strng{authorfullhash}{3998f6629e69249105d1697574d70509}\r\n",
      "      \\field{sortinit}{L}\r\n",
      "      \\field{sortinithash}{7bba64db83423e3c29ad597f3b682cf3}\r\n",
      "      \\field{labelnamesource}{author}\r\n",
      "      \\field{labeltitlesource}{title}\r\n",
      "      \\field{journaltitle}{arXiv preprint arXiv:1511.05493}\r\n",
      "      \\field{title}{Gated graph sequence neural networks}\r\n",
      "      \\field{year}{2015}\r\n",
      "    \\endentry\r\n",
      "    \\entry{LG03}{inproceedings}{}\r\n",
      "      \\name{author}{2}{}{%\r\n",
      "        {{hash=71ce733199af09bf6d43813f21a4a853}{%\r\n",
      "           family={Lu},\r\n",
      "           familyi={L\\bibinitperiod},\r\n",
      "           given={Qing},\r\n",
      "           giveni={Q\\bibinitperiod}}}%\r\n",
      "        {{hash=88e86bf57e4d0841ba9010d52469237c}{%\r\n",
      "           family={Getoor},\r\n",
      "           familyi={G\\bibinitperiod},\r\n",
      "           given={Lise},\r\n",
      "           giveni={L\\bibinitperiod}}}%\r\n",
      "      }\r\n",
      "      \\strng{namehash}{9ddf5cca3c178dc6ebcd2f03e898b537}\r\n",
      "      \\strng{fullhash}{9ddf5cca3c178dc6ebcd2f03e898b537}\r\n",
      "      \\strng{authornamehash}{9ddf5cca3c178dc6ebcd2f03e898b537}\r\n",
      "      \\strng{authorfullhash}{9ddf5cca3c178dc6ebcd2f03e898b537}\r\n",
      "      \\field{sortinit}{L}\r\n",
      "      \\field{sortinithash}{7bba64db83423e3c29ad597f3b682cf3}\r\n",
      "      \\field{labelnamesource}{author}\r\n",
      "      \\field{labeltitlesource}{title}\r\n",
      "      \\field{booktitle}{Proceedings of the 20th International Conference on Machine Learning (ICML-03)}\r\n",
      "      \\field{title}{Link-based classification}\r\n",
      "      \\field{year}{2003}\r\n",
      "      \\field{pages}{496\\bibrangedash 503}\r\n",
      "      \\range{pages}{8}\r\n",
      "    \\endentry\r\n",
      "    \\entry{MBM16}{article}{}\r\n",
      "      \\name{author}{6}{}{%\r\n",
      "        {{hash=8f0d23e8869cd90a91c7a2d49ae85c0e}{%\r\n",
      "           family={Monti},\r\n",
      "           familyi={M\\bibinitperiod},\r\n",
      "           given={Federico},\r\n",
      "           giveni={F\\bibinitperiod}}}%\r\n",
      "        {{hash=b635105d5c572604739cdc9a9c13b5e9}{%\r\n",
      "           family={Boscaini},\r\n",
      "           familyi={B\\bibinitperiod},\r\n",
      "           given={Davide},\r\n",
      "           giveni={D\\bibinitperiod}}}%\r\n",
      "        {{hash=296aa51baf6b5dce74c13806342b5bbe}{%\r\n",
      "           family={Masci},\r\n",
      "           familyi={M\\bibinitperiod},\r\n",
      "           given={Jonathan},\r\n",
      "           giveni={J\\bibinitperiod}}}%\r\n",
      "        {{hash=67340328e52553a972aa6fded69d1699}{%\r\n",
      "           family={Rodol\\`{a}},\r\n",
      "           familyi={R\\bibinitperiod},\r\n",
      "           given={Emanuele},\r\n",
      "           giveni={E\\bibinitperiod}}}%\r\n",
      "        {{hash=f9976a69550d434ce587ee097b58ff26}{%\r\n",
      "           family={Svoboda},\r\n",
      "           familyi={S\\bibinitperiod},\r\n",
      "           given={Jan},\r\n",
      "           giveni={J\\bibinitperiod}}}%\r\n",
      "        {{hash=a0ffa1ab9525af377eaba8bd6acb1d98}{%\r\n",
      "           family={Bronstein},\r\n",
      "           familyi={B\\bibinitperiod},\r\n",
      "           given={Michael\\bibnamedelima M},\r\n",
      "           giveni={M\\bibinitperiod\\bibinitdelim M\\bibinitperiod}}}%\r\n",
      "      }\r\n",
      "      \\strng{namehash}{43e47c48e339343c72620c9bf5e525a8}\r\n",
      "      \\strng{fullhash}{a234c69789e8f14b19e14f4ed104c2b1}\r\n",
      "      \\strng{authornamehash}{43e47c48e339343c72620c9bf5e525a8}\r\n",
      "      \\strng{authorfullhash}{a234c69789e8f14b19e14f4ed104c2b1}\r\n",
      "      \\field{sortinit}{M}\r\n",
      "      \\field{sortinithash}{c26a05ef03e4429073ed5c825140fac3}\r\n",
      "      \\field{labelnamesource}{author}\r\n",
      "      \\field{labeltitlesource}{title}\r\n",
      "      \\field{journaltitle}{arXiv preprint arXiv:1611.08402}\r\n",
      "      \\field{title}{Geometric deep learning on graphs and manifolds using mixture model CNNs}\r\n",
      "      \\field{year}{2016}\r\n",
      "    \\endentry\r\n",
      "    \\entry{NAK16}{inproceedings}{}\r\n",
      "      \\name{author}{3}{}{%\r\n",
      "        {{hash=e0139107d328b56dfc574dc70f7df9d1}{%\r\n",
      "           family={Niepert},\r\n",
      "           familyi={N\\bibinitperiod},\r\n",
      "           given={M.},\r\n",
      "           giveni={M\\bibinitperiod}}}%\r\n",
      "        {{hash=6ba105d3cd39a31d9fcc7073f714fc1b}{%\r\n",
      "           family={Ahmed},\r\n",
      "           familyi={A\\bibinitperiod},\r\n",
      "           given={M.},\r\n",
      "           giveni={M\\bibinitperiod}}}%\r\n",
      "        {{hash=85b8dbbf44588bf10ef9729a64233135}{%\r\n",
      "           family={Kutzkov},\r\n",
      "           familyi={K\\bibinitperiod},\r\n",
      "           given={K.},\r\n",
      "           giveni={K\\bibinitperiod}}}%\r\n",
      "      }\r\n",
      "      \\strng{namehash}{40100cd5c7c323761e0aa01245d2694c}\r\n",
      "      \\strng{fullhash}{40100cd5c7c323761e0aa01245d2694c}\r\n",
      "      \\strng{authornamehash}{40100cd5c7c323761e0aa01245d2694c}\r\n",
      "      \\strng{authorfullhash}{40100cd5c7c323761e0aa01245d2694c}\r\n",
      "      \\field{sortinit}{N}\r\n",
      "      \\field{sortinithash}{1163c28585427c673ad5a010cbf82f52}\r\n",
      "      \\field{labelnamesource}{author}\r\n",
      "      \\field{labeltitlesource}{title}\r\n",
      "      \\field{booktitle}{Proceedings of the 33rd annual international conference on machine learning. ACM}\r\n",
      "      \\field{title}{Learning convolutional neural networks for graphs}\r\n",
      "      \\field{year}{2016}\r\n",
      "    \\endentry\r\n",
      "    \\entry{nigam2006semi}{article}{}\r\n",
      "      \\name{author}{3}{}{%\r\n",
      "        {{hash=b69fc1ad440b0bf65dce845ca65e44a2}{%\r\n",
      "           family={Nigam},\r\n",
      "           familyi={N\\bibinitperiod},\r\n",
      "           given={Kamal},\r\n",
      "           giveni={K\\bibinitperiod}}}%\r\n",
      "        {{hash=17d73a3a5be48993791cbe4db8855331}{%\r\n",
      "           family={McCallum},\r\n",
      "           familyi={M\\bibinitperiod},\r\n",
      "           given={Andrew},\r\n",
      "           giveni={A\\bibinitperiod}}}%\r\n",
      "        {{hash=6b1b95cdca60865947b9a309e5e904f6}{%\r\n",
      "           family={Mitchell},\r\n",
      "           familyi={M\\bibinitperiod},\r\n",
      "           given={Tom},\r\n",
      "           giveni={T\\bibinitperiod}}}%\r\n",
      "      }\r\n",
      "      \\list{publisher}{1}{%\r\n",
      "        {The MIT Press, Cambridge, MA}%\r\n",
      "      }\r\n",
      "      \\strng{namehash}{c0b43877205d0739c778f28582a3777e}\r\n",
      "      \\strng{fullhash}{c0b43877205d0739c778f28582a3777e}\r\n",
      "      \\strng{authornamehash}{c0b43877205d0739c778f28582a3777e}\r\n",
      "      \\strng{authorfullhash}{c0b43877205d0739c778f28582a3777e}\r\n",
      "      \\field{sortinit}{N}\r\n",
      "      \\field{sortinithash}{1163c28585427c673ad5a010cbf82f52}\r\n",
      "      \\field{labelnamesource}{author}\r\n",
      "      \\field{labeltitlesource}{title}\r\n",
      "      \\field{journaltitle}{Semi-Supervised Learning}\r\n",
      "      \\field{title}{Semi-supervised text classification using EM}\r\n",
      "      \\field{year}{2006}\r\n",
      "      \\field{pages}{33\\bibrangedash 56}\r\n",
      "      \\range{pages}{24}\r\n",
      "    \\endentry\r\n",
      "    \\entry{NVBB17}{article}{}\r\n",
      "      \\name{author}{4}{}{%\r\n",
      "        {{hash=0df23544fcfca6403e078c3069b048e8}{%\r\n",
      "           family={Nowak},\r\n",
      "           familyi={N\\bibinitperiod},\r\n",
      "           given={A.},\r\n",
      "           giveni={A\\bibinitperiod}}}%\r\n",
      "        {{hash=d275d24fec9bcff49a6380bbbd990077}{%\r\n",
      "           family={Villar},\r\n",
      "           familyi={V\\bibinitperiod},\r\n",
      "           given={S.},\r\n",
      "           giveni={S\\bibinitperiod}}}%\r\n",
      "        {{hash=2c9db28e6491353852cb0b812bccd82c}{%\r\n",
      "           family={Bandeira},\r\n",
      "           familyi={B\\bibinitperiod},\r\n",
      "           given={A.\\bibnamedelimi S.},\r\n",
      "           giveni={A\\bibinitperiod\\bibinitdelim S\\bibinitperiod}}}%\r\n",
      "        {{hash=ffabbc737cb02c4b3983a96bb1551c12}{%\r\n",
      "           family={Bruna},\r\n",
      "           familyi={B\\bibinitperiod},\r\n",
      "           given={J.},\r\n",
      "           giveni={J\\bibinitperiod}}}%\r\n",
      "      }\r\n",
      "      \\strng{namehash}{17c2e1f051c0023532e10210eed8a3ce}\r\n",
      "      \\strng{fullhash}{e2c7517674d63a8c9dc355d47e96fd24}\r\n",
      "      \\strng{authornamehash}{17c2e1f051c0023532e10210eed8a3ce}\r\n",
      "      \\strng{authorfullhash}{e2c7517674d63a8c9dc355d47e96fd24}\r\n",
      "      \\field{sortinit}{N}\r\n",
      "      \\field{sortinithash}{1163c28585427c673ad5a010cbf82f52}\r\n",
      "      \\field{labelnamesource}{author}\r\n",
      "      \\field{labeltitlesource}{title}\r\n",
      "      \\field{journaltitle}{arXiv preprint arXiv:1706.07450}\r\n",
      "      \\field{title}{A Note on Learning Algorithms for Quadratic Assignment with Graph Neural Networks}\r\n",
      "      \\field{year}{2017}\r\n",
      "    \\endentry\r\n",
      "    \\entry{PAS14}{inproceedings}{}\r\n",
      "      \\name{author}{3}{}{%\r\n",
      "        {{hash=4c513b9008febde547e86a1ea053e50b}{%\r\n",
      "           family={Perozzi},\r\n",
      "           familyi={P\\bibinitperiod},\r\n",
      "           given={B.},\r\n",
      "           giveni={B\\bibinitperiod}}}%\r\n",
      "        {{hash=425a142e83d30ee8debcb43a0324e965}{%\r\n",
      "           family={Al-Rfou},\r\n",
      "           familyi={A\\bibinithyphendelim R\\bibinitperiod},\r\n",
      "           given={R.},\r\n",
      "           giveni={R\\bibinitperiod}}}%\r\n",
      "        {{hash=43d80a9a53700b637abd48801c99e75a}{%\r\n",
      "           family={Skiena},\r\n",
      "           familyi={S\\bibinitperiod},\r\n",
      "           given={S.},\r\n",
      "           giveni={S\\bibinitperiod}}}%\r\n",
      "      }\r\n",
      "      \\list{organization}{1}{%\r\n",
      "        {ACM}%\r\n",
      "      }\r\n",
      "      \\strng{namehash}{f68986a4e44cbe75dd7db5390cc3a9fb}\r\n",
      "      \\strng{fullhash}{f68986a4e44cbe75dd7db5390cc3a9fb}\r\n",
      "      \\strng{authornamehash}{f68986a4e44cbe75dd7db5390cc3a9fb}\r\n",
      "      \\strng{authorfullhash}{f68986a4e44cbe75dd7db5390cc3a9fb}\r\n",
      "      \\field{sortinit}{P}\r\n",
      "      \\field{sortinithash}{24100cef455d7974167575052c29146e}\r\n",
      "      \\field{labelnamesource}{author}\r\n",
      "      \\field{labeltitlesource}{title}\r\n",
      "      \\field{booktitle}{Proceedings of the 20th ACM SIGKDD international conference on Knowledge discovery and data mining}\r\n",
      "      \\field{title}{Deepwalk: Online learning of social representations}\r\n",
      "      \\field{year}{2014}\r\n",
      "      \\field{pages}{701\\bibrangedash 710}\r\n",
      "      \\range{pages}{10}\r\n",
      "    \\endentry\r\n",
      "    \\entry{SGT09}{article}{}\r\n",
      "      \\name{author}{5}{}{%\r\n",
      "        {{hash=447de7983619243dc5bf3af69d609b20}{%\r\n",
      "           family={Scarselli},\r\n",
      "           familyi={S\\bibinitperiod},\r\n",
      "           given={Franco},\r\n",
      "           giveni={F\\bibinitperiod}}}%\r\n",
      "        {{hash=d25d4f83ae540b2b728a5423e9fbe85b}{%\r\n",
      "           family={Gori},\r\n",
      "           familyi={G\\bibinitperiod},\r\n",
      "           given={Marco},\r\n",
      "           giveni={M\\bibinitperiod}}}%\r\n",
      "        {{hash=bad8c3458d4ad9db77a764f7bfaed629}{%\r\n",
      "           family={Tsoi},\r\n",
      "           familyi={T\\bibinitperiod},\r\n",
      "           given={Ah\\bibnamedelima Chung},\r\n",
      "           giveni={A\\bibinitperiod\\bibinitdelim C\\bibinitperiod}}}%\r\n",
      "        {{hash=10950c9e6d0e741519372f893853f1c9}{%\r\n",
      "           family={Hagenbuchner},\r\n",
      "           familyi={H\\bibinitperiod},\r\n",
      "           given={Markus},\r\n",
      "           giveni={M\\bibinitperiod}}}%\r\n",
      "        {{hash=b56d5f9b0efe692c5e81a88da3a2f2b7}{%\r\n",
      "           family={Monfardini},\r\n",
      "           familyi={M\\bibinitperiod},\r\n",
      "           given={Gabriele},\r\n",
      "           giveni={G\\bibinitperiod}}}%\r\n",
      "      }\r\n",
      "      \\list{publisher}{1}{%\r\n",
      "        {IEEE}%\r\n",
      "      }\r\n",
      "      \\strng{namehash}{e0bddd4250509618ebb1318d9844ce78}\r\n",
      "      \\strng{fullhash}{e56657478d7e8f6e5b05ce8a12edab88}\r\n",
      "      \\strng{authornamehash}{e0bddd4250509618ebb1318d9844ce78}\r\n",
      "      \\strng{authorfullhash}{e56657478d7e8f6e5b05ce8a12edab88}\r\n",
      "      \\field{sortinit}{S}\r\n",
      "      \\field{sortinithash}{3c1547c63380458f8ca90e40ed14b83e}\r\n",
      "      \\field{labelnamesource}{author}\r\n",
      "      \\field{labeltitlesource}{title}\r\n",
      "      \\field{journaltitle}{IEEE Transactions on Neural Networks}\r\n",
      "      \\field{number}{1}\r\n",
      "      \\field{title}{The graph neural network model}\r\n",
      "      \\field{volume}{20}\r\n",
      "      \\field{year}{2009}\r\n",
      "      \\field{pages}{61\\bibrangedash 80}\r\n",
      "      \\range{pages}{20}\r\n",
      "    \\endentry\r\n",
      "    \\entry{SKB17}{article}{}\r\n",
      "      \\name{author}{6}{}{%\r\n",
      "        {{hash=7e636fc2579d3e247cb23a46145416af}{%\r\n",
      "           family={Schlichtkrull},\r\n",
      "           familyi={S\\bibinitperiod},\r\n",
      "           given={M.},\r\n",
      "           giveni={M\\bibinitperiod}}}%\r\n",
      "        {{hash=5b350fe5c9e7d7475b2f6dde27a899d7}{%\r\n",
      "           family={Kipf},\r\n",
      "           familyi={K\\bibinitperiod},\r\n",
      "           given={T.\\bibnamedelimi N.},\r\n",
      "           giveni={T\\bibinitperiod\\bibinitdelim N\\bibinitperiod}}}%\r\n",
      "        {{hash=0c85015279ce87d65e76b7dcedee22f4}{%\r\n",
      "           family={Bloem},\r\n",
      "           familyi={B\\bibinitperiod},\r\n",
      "           given={P.},\r\n",
      "           giveni={P\\bibinitperiod}}}%\r\n",
      "        {{hash=be6c1f0aceb0c0c2e9de5663e58345a8}{%\r\n",
      "           family={Berg},\r\n",
      "           familyi={B\\bibinitperiod},\r\n",
      "           given={R.\\bibnamedelimi van\\bibnamedelima den},\r\n",
      "           giveni={R\\bibinitperiod\\bibinitdelim v\\bibinitperiod\\bibinitdelim d\\bibinitperiod}}}%\r\n",
      "        {{hash=494a64af75a7b633231f977b7256f358}{%\r\n",
      "           family={Titov},\r\n",
      "           familyi={T\\bibinitperiod},\r\n",
      "           given={I.},\r\n",
      "           giveni={I\\bibinitperiod}}}%\r\n",
      "        {{hash=8b7fe0e4c2b0f504bdf6a5d895d39ee1}{%\r\n",
      "           family={Welling},\r\n",
      "           familyi={W\\bibinitperiod},\r\n",
      "           given={M.},\r\n",
      "           giveni={M\\bibinitperiod}}}%\r\n",
      "      }\r\n",
      "      \\strng{namehash}{7008935c21d3fe48410265d00d6ab6e7}\r\n",
      "      \\strng{fullhash}{cfdf6eafec285fb78d2224fc6e55e1f4}\r\n",
      "      \\strng{authornamehash}{7008935c21d3fe48410265d00d6ab6e7}\r\n",
      "      \\strng{authorfullhash}{cfdf6eafec285fb78d2224fc6e55e1f4}\r\n",
      "      \\field{sortinit}{S}\r\n",
      "      \\field{sortinithash}{3c1547c63380458f8ca90e40ed14b83e}\r\n",
      "      \\field{labelnamesource}{author}\r\n",
      "      \\field{labeltitlesource}{title}\r\n",
      "      \\field{journaltitle}{arXiv preprint arXiv:1703.06103}\r\n",
      "      \\field{title}{Modeling Relational Data with Graph Convolutional Networks}\r\n",
      "      \\field{year}{2017}\r\n",
      "    \\endentry\r\n",
      "    \\entry{SSD17}{article}{}\r\n",
      "      \\name{author}{8}{}{%\r\n",
      "        {{hash=d109707b1c5482c7c75abb74b7c37883}{%\r\n",
      "           family={Such},\r\n",
      "           familyi={S\\bibinitperiod},\r\n",
      "           given={Felipe\\bibnamedelima Petroski},\r\n",
      "           giveni={F\\bibinitperiod\\bibinitdelim P\\bibinitperiod}}}%\r\n",
      "        {{hash=baa6f8b042f8a931d0e0b4361c1a0ff5}{%\r\n",
      "           family={Sah},\r\n",
      "           familyi={S\\bibinitperiod},\r\n",
      "           given={Shagan},\r\n",
      "           giveni={S\\bibinitperiod}}}%\r\n",
      "        {{hash=12f0fc78b15ab4722df2b8c95be8173d}{%\r\n",
      "           family={Dominguez},\r\n",
      "           familyi={D\\bibinitperiod},\r\n",
      "           given={Miguel},\r\n",
      "           giveni={M\\bibinitperiod}}}%\r\n",
      "        {{hash=3a883cad5da642b7888b66a62a70b086}{%\r\n",
      "           family={Pillai},\r\n",
      "           familyi={P\\bibinitperiod},\r\n",
      "           given={Suhas},\r\n",
      "           giveni={S\\bibinitperiod}}}%\r\n",
      "        {{hash=03ae9f31823ca904e5b163319d310224}{%\r\n",
      "           family={Zhang},\r\n",
      "           familyi={Z\\bibinitperiod},\r\n",
      "           given={Chao},\r\n",
      "           giveni={C\\bibinitperiod}}}%\r\n",
      "        {{hash=009e31fcfd2b2284fafb124adbf4448e}{%\r\n",
      "           family={Michael},\r\n",
      "           familyi={M\\bibinitperiod},\r\n",
      "           given={Andrew},\r\n",
      "           giveni={A\\bibinitperiod}}}%\r\n",
      "        {{hash=24cb7b87ccd571e2afae6ea9b2f37c8f}{%\r\n",
      "           family={Cahill},\r\n",
      "           familyi={C\\bibinitperiod},\r\n",
      "           given={Nathan},\r\n",
      "           giveni={N\\bibinitperiod}}}%\r\n",
      "        {{hash=ad2d235a5329e443c91d7996dc449d69}{%\r\n",
      "           family={Ptucha},\r\n",
      "           familyi={P\\bibinitperiod},\r\n",
      "           given={Raymond},\r\n",
      "           giveni={R\\bibinitperiod}}}%\r\n",
      "      }\r\n",
      "      \\strng{namehash}{30308906addde147d5deb8afd868838a}\r\n",
      "      \\strng{fullhash}{b9109bbcbbf04bab818ecb019bdc83a4}\r\n",
      "      \\strng{authornamehash}{30308906addde147d5deb8afd868838a}\r\n",
      "      \\strng{authorfullhash}{b9109bbcbbf04bab818ecb019bdc83a4}\r\n",
      "      \\field{sortinit}{S}\r\n",
      "      \\field{sortinithash}{3c1547c63380458f8ca90e40ed14b83e}\r\n",
      "      \\field{labelnamesource}{author}\r\n",
      "      \\field{labeltitlesource}{title}\r\n",
      "      \\field{journaltitle}{arXiv preprint arXiv:1703.00792}\r\n",
      "      \\field{title}{Robust Spatial Filtering with Graph Convolutional Neural Networks}\r\n",
      "      \\field{year}{2017}\r\n",
      "    \\endentry\r\n",
      "    \\entry{SSF16}{incollection}{}\r\n",
      "      \\name{author}{3}{}{%\r\n",
      "        {{hash=72c54cfe76db45d84a3413df9e903ff4}{%\r\n",
      "           family={Sukhbaatar},\r\n",
      "           familyi={S\\bibinitperiod},\r\n",
      "           given={Sainbayar},\r\n",
      "           giveni={S\\bibinitperiod}}}%\r\n",
      "        {{hash=11ce7f73323cabf068063c9aeaf26616}{%\r\n",
      "           given={arthur},\r\n",
      "           giveni={a\\bibinitperiod},\r\n",
      "           prefix={szlam\\bibnamedelima arthur},\r\n",
      "           prefixi={s\\bibinitperiod\\bibinitdelim a\\bibinitperiod}}}%\r\n",
      "        {{hash=a6784304d1cc890b2cb6c6c7f2f3fd76}{%\r\n",
      "           family={Fergus},\r\n",
      "           familyi={F\\bibinitperiod},\r\n",
      "           given={Rob},\r\n",
      "           giveni={R\\bibinitperiod}}}%\r\n",
      "      }\r\n",
      "      \\strng{namehash}{c957cb58b85581a6740b9a3ee1bd3f70}\r\n",
      "      \\strng{fullhash}{c957cb58b85581a6740b9a3ee1bd3f70}\r\n",
      "      \\strng{authornamehash}{c957cb58b85581a6740b9a3ee1bd3f70}\r\n",
      "      \\strng{authorfullhash}{c957cb58b85581a6740b9a3ee1bd3f70}\r\n",
      "      \\field{sortinit}{S}\r\n",
      "      \\field{sortinithash}{3c1547c63380458f8ca90e40ed14b83e}\r\n",
      "      \\field{labelnamesource}{author}\r\n",
      "      \\field{labeltitlesource}{title}\r\n",
      "      \\field{booktitle}{Advances in Neural Information Processing Systems 29}\r\n",
      "      \\field{title}{Learning Multiagent Communication with Backpropagation}\r\n",
      "      \\field{year}{2016}\r\n",
      "      \\field{pages}{2244\\bibrangedash 2252}\r\n",
      "      \\range{pages}{9}\r\n",
      "    \\endentry\r\n",
      "    \\entry{TQW15}{inproceedings}{}\r\n",
      "      \\name{author}{6}{}{%\r\n",
      "        {{hash=541194db9dac70af45a28c067d289c8d}{%\r\n",
      "           family={Tang},\r\n",
      "           familyi={T\\bibinitperiod},\r\n",
      "           given={Jian},\r\n",
      "           giveni={J\\bibinitperiod}}}%\r\n",
      "        {{hash=be51ffe8f55f70ee4360e3e6a1a4216e}{%\r\n",
      "           family={Qu},\r\n",
      "           familyi={Q\\bibinitperiod},\r\n",
      "           given={Meng},\r\n",
      "           giveni={M\\bibinitperiod}}}%\r\n",
      "        {{hash=a9b32eefcfd0b44a27bae162e66746ae}{%\r\n",
      "           family={Wang},\r\n",
      "           familyi={W\\bibinitperiod},\r\n",
      "           given={Mingzhe},\r\n",
      "           giveni={M\\bibinitperiod}}}%\r\n",
      "        {{hash=7a56aedb5f6ad175a5340edc7bf6267e}{%\r\n",
      "           family={Zhang},\r\n",
      "           familyi={Z\\bibinitperiod},\r\n",
      "           given={Ming},\r\n",
      "           giveni={M\\bibinitperiod}}}%\r\n",
      "        {{hash=934a0c3e849405255facd8113ba785b3}{%\r\n",
      "           family={Yan},\r\n",
      "           familyi={Y\\bibinitperiod},\r\n",
      "           given={Jun},\r\n",
      "           giveni={J\\bibinitperiod}}}%\r\n",
      "        {{hash=2ca1c136fc4a8c4c39869eeaf7fade74}{%\r\n",
      "           family={Mei},\r\n",
      "           familyi={M\\bibinitperiod},\r\n",
      "           given={Qiaozhu},\r\n",
      "           giveni={Q\\bibinitperiod}}}%\r\n",
      "      }\r\n",
      "      \\list{organization}{1}{%\r\n",
      "        {ACM}%\r\n",
      "      }\r\n",
      "      \\strng{namehash}{46894c9a61813f6e656d9217e281e7d1}\r\n",
      "      \\strng{fullhash}{87054c2dc52ba2fab3bbd4445bd88471}\r\n",
      "      \\strng{authornamehash}{46894c9a61813f6e656d9217e281e7d1}\r\n",
      "      \\strng{authorfullhash}{87054c2dc52ba2fab3bbd4445bd88471}\r\n",
      "      \\field{sortinit}{T}\r\n",
      "      \\field{sortinithash}{2e5c2f51f7fa2d957f3206819bf86dc3}\r\n",
      "      \\field{labelnamesource}{author}\r\n",
      "      \\field{labeltitlesource}{title}\r\n",
      "      \\field{booktitle}{Proceedings of the 24th International Conference on World Wide Web}\r\n",
      "      \\field{title}{Line: Large-scale information network embedding}\r\n",
      "      \\field{year}{2015}\r\n",
      "      \\field{pages}{1067\\bibrangedash 1077}\r\n",
      "      \\range{pages}{11}\r\n",
      "    \\endentry\r\n",
      "    \\entry{VBV17}{article}{}\r\n",
      "      \\name{author}{3}{}{%\r\n",
      "        {{hash=8583e969be514a07bb7986e7782ccc77}{%\r\n",
      "           family={Verma},\r\n",
      "           familyi={V\\bibinitperiod},\r\n",
      "           given={Nitika},\r\n",
      "           giveni={N\\bibinitperiod}}}%\r\n",
      "        {{hash=fac404ca06a7e177a16f40557189e159}{%\r\n",
      "           family={Boyer},\r\n",
      "           familyi={B\\bibinitperiod},\r\n",
      "           given={Edmond},\r\n",
      "           giveni={E\\bibinitperiod}}}%\r\n",
      "        {{hash=6db399bb4fce2fb790b103539429f56c}{%\r\n",
      "           family={Verbeek},\r\n",
      "           familyi={V\\bibinitperiod},\r\n",
      "           given={Jakob},\r\n",
      "           giveni={J\\bibinitperiod}}}%\r\n",
      "      }\r\n",
      "      \\strng{namehash}{1d10d9e95686ed6bbd9321b8e816f2d6}\r\n",
      "      \\strng{fullhash}{1d10d9e95686ed6bbd9321b8e816f2d6}\r\n",
      "      \\strng{authornamehash}{1d10d9e95686ed6bbd9321b8e816f2d6}\r\n",
      "      \\strng{authorfullhash}{1d10d9e95686ed6bbd9321b8e816f2d6}\r\n",
      "      \\field{sortinit}{V}\r\n",
      "      \\field{sortinithash}{555737dafdcf1396ebfeae5822e5bde2}\r\n",
      "      \\field{labelnamesource}{author}\r\n",
      "      \\field{labeltitlesource}{title}\r\n",
      "      \\field{journaltitle}{arXiv preprint arXiv:1706.05206}\r\n",
      "      \\field{title}{Dynamic Filters in Graph Convolutional Networks}\r\n",
      "      \\field{year}{2017}\r\n",
      "    \\endentry\r\n",
      "    \\entry{WRMC12}{incollection}{}\r\n",
      "      \\name{author}{4}{}{%\r\n",
      "        {{hash=417a25f3511d7c21e76d4a15e67dd679}{%\r\n",
      "           family={Weston},\r\n",
      "           familyi={W\\bibinitperiod},\r\n",
      "           given={Jason},\r\n",
      "           giveni={J\\bibinitperiod}}}%\r\n",
      "        {{hash=7b75ca300e44d71b77676e839a26ab56}{%\r\n",
      "           family={Ratle},\r\n",
      "           familyi={R\\bibinitperiod},\r\n",
      "           given={Fr\\'{e}d\\'{e}ric},\r\n",
      "           giveni={F\\bibinitperiod}}}%\r\n",
      "        {{hash=f2800380ecd0add8d852a779e92ca497}{%\r\n",
      "           family={Mobahi},\r\n",
      "           familyi={M\\bibinitperiod},\r\n",
      "           given={Hossein},\r\n",
      "           giveni={H\\bibinitperiod}}}%\r\n",
      "        {{hash=133261178beda1dc3991e0e1dfd5a791}{%\r\n",
      "           family={Collobert},\r\n",
      "           familyi={C\\bibinitperiod},\r\n",
      "           given={Ronan},\r\n",
      "           giveni={R\\bibinitperiod}}}%\r\n",
      "      }\r\n",
      "      \\list{publisher}{1}{%\r\n",
      "        {Springer}%\r\n",
      "      }\r\n",
      "      \\strng{namehash}{7772e4fb5bc277a5e9983ae2ef9e3801}\r\n",
      "      \\strng{fullhash}{7c77e426b61c0d337b02802f28747ba9}\r\n",
      "      \\strng{authornamehash}{7772e4fb5bc277a5e9983ae2ef9e3801}\r\n",
      "      \\strng{authorfullhash}{7c77e426b61c0d337b02802f28747ba9}\r\n",
      "      \\field{sortinit}{W}\r\n",
      "      \\field{sortinithash}{6d25b3eefe5aa2147d1f339686808918}\r\n",
      "      \\field{labelnamesource}{author}\r\n",
      "      \\field{labeltitlesource}{title}\r\n",
      "      \\field{booktitle}{Neural Networks: Tricks of the Trade}\r\n",
      "      \\field{title}{Deep learning via semi-supervised embedding}\r\n",
      "      \\field{year}{2012}\r\n",
      "      \\field{pages}{639\\bibrangedash 655}\r\n",
      "      \\range{pages}{17}\r\n",
      "    \\endentry\r\n",
      "    \\entry{XBKC15}{inproceedings}{}\r\n",
      "      \\name{author}{8}{}{%\r\n",
      "        {{hash=dc2232b001fa318a37c38c2de1bd6b09}{%\r\n",
      "           family={Xu},\r\n",
      "           familyi={X\\bibinitperiod},\r\n",
      "           given={Kelvin},\r\n",
      "           giveni={K\\bibinitperiod}}}%\r\n",
      "        {{hash=8aa66e8231cc2fdbe67aa4f18ca970c6}{%\r\n",
      "           family={Ba},\r\n",
      "           familyi={B\\bibinitperiod},\r\n",
      "           given={Jimmy},\r\n",
      "           giveni={J\\bibinitperiod}}}%\r\n",
      "        {{hash=9ca4d6f3496c5a623fcad2f5de58670b}{%\r\n",
      "           family={Kiros},\r\n",
      "           familyi={K\\bibinitperiod},\r\n",
      "           given={Ryan},\r\n",
      "           giveni={R\\bibinitperiod}}}%\r\n",
      "        {{hash=3da7501a79d9346572c7fd6e41b615df}{%\r\n",
      "           family={Cho},\r\n",
      "           familyi={C\\bibinitperiod},\r\n",
      "           given={Kyunghyun},\r\n",
      "           giveni={K\\bibinitperiod}}}%\r\n",
      "        {{hash=ccec1ccd2e1aa86960eb2e872c6b7020}{%\r\n",
      "           family={Courville},\r\n",
      "           familyi={C\\bibinitperiod},\r\n",
      "           given={Aaron},\r\n",
      "           giveni={A\\bibinitperiod}}}%\r\n",
      "        {{hash=a4cfbd5d09c24f350cab6033efc92863}{%\r\n",
      "           family={Salakhudinov},\r\n",
      "           familyi={S\\bibinitperiod},\r\n",
      "           given={Ruslan},\r\n",
      "           giveni={R\\bibinitperiod}}}%\r\n",
      "        {{hash=52ee9a9c95c17c9f1957bb28defd9fbb}{%\r\n",
      "           family={Zemel},\r\n",
      "           familyi={Z\\bibinitperiod},\r\n",
      "           given={Rich},\r\n",
      "           giveni={R\\bibinitperiod}}}%\r\n",
      "        {{hash=40a8e4774982146adc2688546f54efb2}{%\r\n",
      "           family={Bengio},\r\n",
      "           familyi={B\\bibinitperiod},\r\n",
      "           given={Yoshua},\r\n",
      "           giveni={Y\\bibinitperiod}}}%\r\n",
      "      }\r\n",
      "      \\strng{namehash}{4122580c3599b10d5b7fc11a33af75cc}\r\n",
      "      \\strng{fullhash}{30daf56e0c9e43df7dd3900ce49e07c3}\r\n",
      "      \\strng{authornamehash}{4122580c3599b10d5b7fc11a33af75cc}\r\n",
      "      \\strng{authorfullhash}{30daf56e0c9e43df7dd3900ce49e07c3}\r\n",
      "      \\field{sortinit}{X}\r\n",
      "      \\field{sortinithash}{755b54a59c4b54d471c87a4486a94349}\r\n",
      "      \\field{labelnamesource}{author}\r\n",
      "      \\field{labeltitlesource}{title}\r\n",
      "      \\field{booktitle}{International Conference on Machine Learning}\r\n",
      "      \\field{title}{Show, attend and tell: Neural image caption generation with visual attention}\r\n",
      "      \\field{year}{2015}\r\n",
      "      \\field{pages}{2048\\bibrangedash 2057}\r\n",
      "      \\range{pages}{10}\r\n",
      "    \\endentry\r\n",
      "    \\entry{XLF17}{article}{}\r\n",
      "      \\name{author}{6}{}{%\r\n",
      "        {{hash=3aa866676575595f7817661219226271}{%\r\n",
      "           family={Xu},\r\n",
      "           familyi={X\\bibinitperiod},\r\n",
      "           given={Xiaojun},\r\n",
      "           giveni={X\\bibinitperiod}}}%\r\n",
      "        {{hash=9d9ac6815e27331ba6620def723e357f}{%\r\n",
      "           family={Liu},\r\n",
      "           familyi={L\\bibinitperiod},\r\n",
      "           given={Chang},\r\n",
      "           giveni={C\\bibinitperiod}}}%\r\n",
      "        {{hash=06355bdb2f639889a7c286bc9287cdba}{%\r\n",
      "           family={Feng},\r\n",
      "           familyi={F\\bibinitperiod},\r\n",
      "           given={Qian},\r\n",
      "           giveni={Q\\bibinitperiod}}}%\r\n",
      "        {{hash=d99cf7755b0404b6efb5aeb977d23cee}{%\r\n",
      "           family={Yin},\r\n",
      "           familyi={Y\\bibinitperiod},\r\n",
      "           given={Heng},\r\n",
      "           giveni={H\\bibinitperiod}}}%\r\n",
      "        {{hash=da5283630e781fb48ecf4859f54bca52}{%\r\n",
      "           family={Song},\r\n",
      "           familyi={S\\bibinitperiod},\r\n",
      "           given={Le},\r\n",
      "           giveni={L\\bibinitperiod}}}%\r\n",
      "        {{hash=d458d5f9b64652055bd81d57e4777b22}{%\r\n",
      "           family={Song},\r\n",
      "           familyi={S\\bibinitperiod},\r\n",
      "           given={Dawn},\r\n",
      "           giveni={D\\bibinitperiod}}}%\r\n",
      "      }\r\n",
      "      \\strng{namehash}{9042f4640b8c959bda2f9186de3593b1}\r\n",
      "      \\strng{fullhash}{8ab5b9398c6a5c96e671bba401a74a3a}\r\n",
      "      \\strng{authornamehash}{9042f4640b8c959bda2f9186de3593b1}\r\n",
      "      \\strng{authorfullhash}{8ab5b9398c6a5c96e671bba401a74a3a}\r\n",
      "      \\field{sortinit}{X}\r\n",
      "      \\field{sortinithash}{755b54a59c4b54d471c87a4486a94349}\r\n",
      "      \\field{labelnamesource}{author}\r\n",
      "      \\field{labeltitlesource}{title}\r\n",
      "      \\field{journaltitle}{arXiv preprint arXiv:1708.06525}\r\n",
      "      \\field{title}{Neural Network-based Graph Embedding for Cross-Platform Binary Code Similarity Detection}\r\n",
      "      \\field{year}{2017}\r\n",
      "    \\endentry\r\n",
      "    \\entry{YSL17}{inproceedings}{}\r\n",
      "      \\name{author}{4}{}{%\r\n",
      "        {{hash=29ccf7aa9391a3e9e13ba3b57f4c48eb}{%\r\n",
      "           family={Yang},\r\n",
      "           familyi={Y\\bibinitperiod},\r\n",
      "           given={Cheng},\r\n",
      "           giveni={C\\bibinitperiod}}}%\r\n",
      "        {{hash=faa6f5041a22004ca0dd547c03476790}{%\r\n",
      "           family={Sun},\r\n",
      "           familyi={S\\bibinitperiod},\r\n",
      "           given={Maosong},\r\n",
      "           giveni={M\\bibinitperiod}}}%\r\n",
      "        {{hash=5b9a54b9d83697231299711961622ab8}{%\r\n",
      "           family={Liu},\r\n",
      "           familyi={L\\bibinitperiod},\r\n",
      "           given={Zhiyuan},\r\n",
      "           giveni={Z\\bibinitperiod}}}%\r\n",
      "        {{hash=6df24c42b0cd233868c9a7e0ae115196}{%\r\n",
      "           family={Tu},\r\n",
      "           familyi={T\\bibinitperiod},\r\n",
      "           given={Cunchao},\r\n",
      "           giveni={C\\bibinitperiod}}}%\r\n",
      "      }\r\n",
      "      \\strng{namehash}{298930a5e4e5e87d1a5c84f03462ccaa}\r\n",
      "      \\strng{fullhash}{02e8e896ffb8727b3e74ef09540415c0}\r\n",
      "      \\strng{authornamehash}{298930a5e4e5e87d1a5c84f03462ccaa}\r\n",
      "      \\strng{authorfullhash}{02e8e896ffb8727b3e74ef09540415c0}\r\n",
      "      \\field{sortinit}{Y}\r\n",
      "      \\field{sortinithash}{f86c10978eb0c0879609ce6a4f43da7b}\r\n",
      "      \\field{labelnamesource}{author}\r\n",
      "      \\field{labeltitlesource}{title}\r\n",
      "      \\field{booktitle}{Proceedings of the Twenty-Sixth International Joint Conference on Artificial Intelligence, IJCAI}\r\n",
      "      \\field{title}{Fast network embedding enhancement via high order proximity approximation}\r\n",
      "      \\field{year}{2017}\r\n",
      "      \\field{pages}{19\\bibrangedash 25}\r\n",
      "      \\range{pages}{7}\r\n",
      "    \\endentry\r\n",
      "    \\entry{YCS16}{article}{}\r\n",
      "      \\name{author}{3}{}{%\r\n",
      "        {{hash=cf27413bc23396c7c00d356f5fa84c10}{%\r\n",
      "           family={Yang},\r\n",
      "           familyi={Y\\bibinitperiod},\r\n",
      "           given={Z.},\r\n",
      "           giveni={Z\\bibinitperiod}}}%\r\n",
      "        {{hash=8b2497d6ab1c99d2f3f6440d971e1549}{%\r\n",
      "           family={Cohen},\r\n",
      "           familyi={C\\bibinitperiod},\r\n",
      "           given={W.\\bibnamedelimi W.},\r\n",
      "           giveni={W\\bibinitperiod\\bibinitdelim W\\bibinitperiod}}}%\r\n",
      "        {{hash=a866ad5377f746978b90476e4a2ab46f}{%\r\n",
      "           family={Salakhutdinov},\r\n",
      "           familyi={S\\bibinitperiod},\r\n",
      "           given={R.},\r\n",
      "           giveni={R\\bibinitperiod}}}%\r\n",
      "      }\r\n",
      "      \\strng{namehash}{84e0f954cf085b28e322b130afaa26d2}\r\n",
      "      \\strng{fullhash}{84e0f954cf085b28e322b130afaa26d2}\r\n",
      "      \\strng{authornamehash}{84e0f954cf085b28e322b130afaa26d2}\r\n",
      "      \\strng{authorfullhash}{84e0f954cf085b28e322b130afaa26d2}\r\n",
      "      \\field{sortinit}{Y}\r\n",
      "      \\field{sortinithash}{f86c10978eb0c0879609ce6a4f43da7b}\r\n",
      "      \\field{labelnamesource}{author}\r\n",
      "      \\field{labeltitlesource}{title}\r\n",
      "      \\field{journaltitle}{arXiv preprint arXiv:1603.08861}\r\n",
      "      \\field{title}{Revisiting semi-supervised learning with graph embeddings}\r\n",
      "      \\field{year}{2016}\r\n",
      "    \\endentry\r\n",
      "    \\entry{zhou2004learning}{inproceedings}{}\r\n",
      "      \\name{author}{5}{}{%\r\n",
      "        {{hash=797f9a226fd7356db5edc6feba1a0e87}{%\r\n",
      "           family={Zhou},\r\n",
      "           familyi={Z\\bibinitperiod},\r\n",
      "           given={Denny},\r\n",
      "           giveni={D\\bibinitperiod}}}%\r\n",
      "        {{hash=cf4fea95321213e7dc3532fd33b85112}{%\r\n",
      "           family={Bousquet},\r\n",
      "           familyi={B\\bibinitperiod},\r\n",
      "           given={Olivier},\r\n",
      "           giveni={O\\bibinitperiod}}}%\r\n",
      "        {{hash=4c3f84c5c4e186e04bf6e002126e0ffb}{%\r\n",
      "           family={Lal},\r\n",
      "           familyi={L\\bibinitperiod},\r\n",
      "           given={Thomas\\bibnamedelima N},\r\n",
      "           giveni={T\\bibinitperiod\\bibinitdelim N\\bibinitperiod}}}%\r\n",
      "        {{hash=417a25f3511d7c21e76d4a15e67dd679}{%\r\n",
      "           family={Weston},\r\n",
      "           familyi={W\\bibinitperiod},\r\n",
      "           given={Jason},\r\n",
      "           giveni={J\\bibinitperiod}}}%\r\n",
      "        {{hash=ca31cc11ec9370460148c3a9c48fce45}{%\r\n",
      "           family={Sch\\\"{o}lkopf},\r\n",
      "           familyi={S\\bibinitperiod},\r\n",
      "           given={Bernhard},\r\n",
      "           giveni={B\\bibinitperiod}}}%\r\n",
      "      }\r\n",
      "      \\strng{namehash}{f9981c1bdc244ea279f477a22c19e4bf}\r\n",
      "      \\strng{fullhash}{011cf0e153cceb5acf0ea601860794ab}\r\n",
      "      \\strng{authornamehash}{f9981c1bdc244ea279f477a22c19e4bf}\r\n",
      "      \\strng{authorfullhash}{011cf0e153cceb5acf0ea601860794ab}\r\n",
      "      \\field{sortinit}{Z}\r\n",
      "      \\field{sortinithash}{35589aa085e881766b72503e53fd4c97}\r\n",
      "      \\field{labelnamesource}{author}\r\n",
      "      \\field{labeltitlesource}{title}\r\n",
      "      \\field{booktitle}{Advances in neural information processing systems}\r\n",
      "      \\field{title}{Learning with local and global consistency}\r\n",
      "      \\field{year}{2004}\r\n",
      "      \\field{pages}{321\\bibrangedash 328}\r\n",
      "      \\range{pages}{8}\r\n",
      "    \\endentry\r\n",
      "    \\entry{ZBL04}{inproceedings}{}\r\n",
      "      \\name{author}{5}{}{%\r\n",
      "        {{hash=797f9a226fd7356db5edc6feba1a0e87}{%\r\n",
      "           family={Zhou},\r\n",
      "           familyi={Z\\bibinitperiod},\r\n",
      "           given={Denny},\r\n",
      "           giveni={D\\bibinitperiod}}}%\r\n",
      "        {{hash=cf4fea95321213e7dc3532fd33b85112}{%\r\n",
      "           family={Bousquet},\r\n",
      "           familyi={B\\bibinitperiod},\r\n",
      "           given={Olivier},\r\n",
      "           giveni={O\\bibinitperiod}}}%\r\n",
      "        {{hash=4c3f84c5c4e186e04bf6e002126e0ffb}{%\r\n",
      "           family={Lal},\r\n",
      "           familyi={L\\bibinitperiod},\r\n",
      "           given={Thomas\\bibnamedelima N},\r\n",
      "           giveni={T\\bibinitperiod\\bibinitdelim N\\bibinitperiod}}}%\r\n",
      "        {{hash=417a25f3511d7c21e76d4a15e67dd679}{%\r\n",
      "           family={Weston},\r\n",
      "           familyi={W\\bibinitperiod},\r\n",
      "           given={Jason},\r\n",
      "           giveni={J\\bibinitperiod}}}%\r\n",
      "        {{hash=ca31cc11ec9370460148c3a9c48fce45}{%\r\n",
      "           family={Sch\\\"{o}lkopf},\r\n",
      "           familyi={S\\bibinitperiod},\r\n",
      "           given={Bernhard},\r\n",
      "           giveni={B\\bibinitperiod}}}%\r\n",
      "      }\r\n",
      "      \\strng{namehash}{f9981c1bdc244ea279f477a22c19e4bf}\r\n",
      "      \\strng{fullhash}{011cf0e153cceb5acf0ea601860794ab}\r\n",
      "      \\strng{authornamehash}{f9981c1bdc244ea279f477a22c19e4bf}\r\n",
      "      \\strng{authorfullhash}{011cf0e153cceb5acf0ea601860794ab}\r\n",
      "      \\field{sortinit}{Z}\r\n",
      "      \\field{sortinithash}{35589aa085e881766b72503e53fd4c97}\r\n",
      "      \\field{labelnamesource}{author}\r\n",
      "      \\field{labeltitlesource}{title}\r\n",
      "      \\field{booktitle}{Advances in neural information processing systems}\r\n",
      "      \\field{title}{Learning with local and global consistency}\r\n",
      "      \\field{year}{2004}\r\n",
      "      \\field{pages}{321\\bibrangedash 328}\r\n",
      "      \\range{pages}{8}\r\n",
      "    \\endentry\r\n",
      "    \\entry{ZG02}{unpublished}{}\r\n",
      "      \\name{author}{2}{}{%\r\n",
      "        {{hash=c0589c96d31566f50f3aa4f931a33357}{%\r\n",
      "           family={Zhu},\r\n",
      "           familyi={Z\\bibinitperiod},\r\n",
      "           given={Xiaojin},\r\n",
      "           giveni={X\\bibinitperiod}}}%\r\n",
      "        {{hash=bf5cf30deddddad00a6341ad7a414445}{%\r\n",
      "           family={Ghahramani},\r\n",
      "           familyi={G\\bibinitperiod},\r\n",
      "           given={Zoubin},\r\n",
      "           giveni={Z\\bibinitperiod}}}%\r\n",
      "      }\r\n",
      "      \\list{publisher}{1}{%\r\n",
      "        {Technical Report CMU-CALD-02-107, Carnegie Mellon University}%\r\n",
      "      }\r\n",
      "      \\strng{namehash}{dd67de5dd0b7a9b6418f2aeec7fd3714}\r\n",
      "      \\strng{fullhash}{dd67de5dd0b7a9b6418f2aeec7fd3714}\r\n",
      "      \\strng{authornamehash}{dd67de5dd0b7a9b6418f2aeec7fd3714}\r\n",
      "      \\strng{authorfullhash}{dd67de5dd0b7a9b6418f2aeec7fd3714}\r\n",
      "      \\field{sortinit}{Z}\r\n",
      "      \\field{sortinithash}{35589aa085e881766b72503e53fd4c97}\r\n",
      "      \\field{labelnamesource}{author}\r\n",
      "      \\field{labeltitlesource}{title}\r\n",
      "      \\field{title}{Learning from labeled and unlabeled data with label propagation}\r\n",
      "      \\field{year}{2002}\r\n",
      "    \\endentry\r\n",
      "    \\entry{ZGL03}{inproceedings}{}\r\n",
      "      \\name{author}{3}{}{%\r\n",
      "        {{hash=c0589c96d31566f50f3aa4f931a33357}{%\r\n",
      "           family={Zhu},\r\n",
      "           familyi={Z\\bibinitperiod},\r\n",
      "           given={Xiaojin},\r\n",
      "           giveni={X\\bibinitperiod}}}%\r\n",
      "        {{hash=bf5cf30deddddad00a6341ad7a414445}{%\r\n",
      "           family={Ghahramani},\r\n",
      "           familyi={G\\bibinitperiod},\r\n",
      "           given={Zoubin},\r\n",
      "           giveni={Z\\bibinitperiod}}}%\r\n",
      "        {{hash=b3a25c7519d1444d7d19d4a545768171}{%\r\n",
      "           family={Lafferty},\r\n",
      "           familyi={L\\bibinitperiod},\r\n",
      "           given={John\\bibnamedelima D},\r\n",
      "           giveni={J\\bibinitperiod\\bibinitdelim D\\bibinitperiod}}}%\r\n",
      "      }\r\n",
      "      \\strng{namehash}{94e69c45f73701afddfd3d685b74c1a6}\r\n",
      "      \\strng{fullhash}{94e69c45f73701afddfd3d685b74c1a6}\r\n",
      "      \\strng{authornamehash}{94e69c45f73701afddfd3d685b74c1a6}\r\n",
      "      \\strng{authorfullhash}{94e69c45f73701afddfd3d685b74c1a6}\r\n",
      "      \\field{sortinit}{Z}\r\n",
      "      \\field{sortinithash}{35589aa085e881766b72503e53fd4c97}\r\n",
      "      \\field{labelnamesource}{author}\r\n",
      "      \\field{labeltitlesource}{title}\r\n",
      "      \\field{booktitle}{Proceedings of the 20th International conference on Machine learning (ICML-03)}\r\n",
      "      \\field{title}{Semi-supervised learning using gaussian fields and harmonic functions}\r\n",
      "      \\field{year}{2003}\r\n",
      "      \\field{pages}{912\\bibrangedash 919}\r\n",
      "      \\range{pages}{8}\r\n",
      "    \\endentry\r\n",
      "  \\endsortlist\r\n",
      "\\endrefsection\r\n",
      "\\endinput\r\n",
      "\r\n"
     ]
    }
   ],
   "source": [
    "#Error cannot open file to read\n",
    "# !ls ./data/unpacked_sources/1803/1803.03735v1/*\n",
    "# !cat ./data/unpacked_sources/1803/1803.03735v1/agnn.bbl"
   ]
  },
  {
   "cell_type": "code",
   "execution_count": null,
   "metadata": {},
   "outputs": [],
   "source": []
  },
  {
   "cell_type": "code",
   "execution_count": null,
   "metadata": {},
   "outputs": [],
   "source": []
  },
  {
   "cell_type": "code",
   "execution_count": null,
   "metadata": {},
   "outputs": [],
   "source": [
    ", 2020_HkgsWxrtPB"
   ]
  },
  {
   "cell_type": "code",
   "execution_count": null,
   "metadata": {},
   "outputs": [],
   "source": []
  },
  {
   "cell_type": "code",
   "execution_count": null,
   "metadata": {},
   "outputs": [],
   "source": []
  },
  {
   "cell_type": "code",
   "execution_count": null,
   "metadata": {},
   "outputs": [],
   "source": []
  },
  {
   "cell_type": "code",
   "execution_count": 81,
   "metadata": {},
   "outputs": [
    {
     "name": "stdout",
     "output_type": "stream",
     "text": [
      "2017_SkB-_mcel\n"
     ]
    }
   ],
   "source": [
    "#Finding one paper with ref in table from its arxivid\n",
    "for k in iclr_arxiv_map:\n",
    "    if iclr_arxiv_map[k][\"found\"] and iclr_arxiv_map[k][\"arxivId\"].startswith(\"1702.08811\"):\n",
    "        print(k)"
   ]
  },
  {
   "cell_type": "code",
   "execution_count": 264,
   "metadata": {},
   "outputs": [
    {
     "data": {
      "text/plain": [
       "{'tcount': [2, 2, 0, 0], 'table_labels': [('leaderboard',), ('leaderboard',)]}"
      ]
     },
     "execution_count": 264,
     "metadata": {},
     "output_type": "execute_result"
    }
   ],
   "source": [
    "new_table_counts[\"2017_SkB-_mcel\"]"
   ]
  },
  {
   "cell_type": "code",
   "execution_count": 283,
   "metadata": {
    "collapsed": true
   },
   "outputs": [
    {
     "name": "stdout",
     "output_type": "stream",
     "text": [
      "2017_SJDaqqveg 1607.07086v3\n",
      "2019_BJgsN3R9Km 1910.01740v1\n",
      "2019_BJgsN3R9Km 1910.01740v1\n",
      "2019_BJgsN3R9Km 1910.01740v1\n",
      "2019_ByxmXnA9FQ 1811.07308v4\n",
      "2019_ByxmXnA9FQ 1811.07308v4\n",
      "2019_ByxmXnA9FQ 1811.07308v4\n",
      "2019_HJe62s09tX 1811.01124v3\n",
      "2019_HkGmDsR9YQ 1810.00123v3\n",
      "2019_HkGmDsR9YQ 1810.00123v3\n",
      "2019_S1lVniC5Y7 1803.04439v2\n",
      "2019_S1x2Fj0qKQ 1806.00420v2\n",
      "2019_S1x2Fj0qKQ 1806.00420v2\n",
      "2019_S1x2Fj0qKQ 1806.00420v2\n",
      "2019_Sy4lojC9tm 1811.10959v3\n",
      "2019_Sy4lojC9tm 1811.10959v3\n",
      "2020_B1xq264YvH 1908.06938v2\n",
      "2020_B1xq264YvH 1908.06938v2\n",
      "2020_B1xq264YvH 1908.06938v2\n",
      "2020_BJedHRVtPB 1906.06310v3\n",
      "2020_BJedHRVtPB 1906.06310v3\n",
      "2020_BJgza6VtPB 1811.02549v6\n",
      "2020_BJgza6VtPB 1811.02549v6\n",
      "2020_BJgza6VtPB 1811.02549v6\n",
      "2020_BJgza6VtPB 1811.02549v6\n",
      "2020_Bke8UR4FPB 1909.13488v1\n",
      "2020_BkeaxAEKvB 1908.10396v2\n",
      "2020_BkeaxAEKvB 1908.10396v2\n",
      "2020_BkeaxAEKvB 1908.10396v2\n",
      "2020_BkgXT24tDS 1909.13144v2\n",
      "2020_Bkga90VKDB 1910.06720v1\n",
      "2020_Bkgq9ANKvB 1910.03231v2\n",
      "2020_Bkgq9ANKvB 1910.03231v2\n",
      "2020_BklMDCVtvr 1910.09113v2\n",
      "2020_Bklr0kBKvB 1912.11171v1\n",
      "2020_Bklr0kBKvB 1912.11171v1\n",
      "2020_BkxdqA4tvB 1910.09588v2\n",
      "2020_ByeL1R4FvS 1904.12848v4\n",
      "2020_Byl5NREFDr 1910.12366v2\n",
      "2020_BylQSxHFwr 1912.09640v2\n",
      "2020_ByxdUySKvS 1912.11188v1\n",
      "2020_H1e5GJBtDr 1912.12180v1\n",
      "2020_HJeO7RNKPr 1812.04605v3\n",
      "2020_HJeTo2VFwH 1906.06307v2\n",
      "2020_HJeTo2VFwH 1906.06307v2\n",
      "2020_HJgpugrKPS 1910.11093v2\n",
      "2020_HJgpugrKPS 1910.11093v2\n",
      "2020_HJxhUpVKDr 1904.02920v2\n",
      "2020_HkedQp4tPr 1906.04331v2\n",
      "2020_Hkg9HgBYwH 1912.05537v1\n",
      "2020_Hkg9HgBYwH 1912.05537v1\n",
      "2020_HkgaETNtDB 1909.11299v2\n",
      "2020_HkgaETNtDB 1909.11299v2\n",
      "2020_HkxCzeHFDB 1901.11356v4\n",
      "2020_HkxCzeHFDB 1901.11356v4\n",
      "2020_Hkxzx0NtDB 1912.03263v2\n",
      "2020_Hyepjh4FwB 1902.06292v4\n",
      "2020_HylxE1HKwS 1908.09791v2\n",
      "2020_S1l-C0NtwS 1910.04708v4\n",
      "2020_S1lSapVtwS 1909.11286v2\n",
      "2020_S1lSapVtwS 1909.11286v2\n",
      "2020_S1lxKlSKPH 1910.12027v2\n",
      "2020_SJlJSaEFwS 1912.12481v1\n",
      "2020_SJxSOJStPr 2001.00689v2\n",
      "2020_SJxWS64FwH 1910.03561v3\n",
      "2020_Ske-ih4FPS 1912.12178v1\n",
      "2020_SkeAaJrKDS 1912.02807v2\n",
      "2020_SkeHuCVFDr 1904.09675v3\n",
      "2020_SkeHuCVFDr 1904.09675v3\n",
      "2020_SkeHuCVFDr 1904.09675v3\n",
      "2020_SkeHuCVFDr 1904.09675v3\n",
      "2020_SkeHuCVFDr 1904.09675v3\n",
      "2020_SklkDkSFPB 1906.04113v2\n",
      "2020_SklsBJHKDS 1912.13464v1\n",
      "2020_SklsBJHKDS 1912.13464v1\n",
      "2020_SkxG-CVFDH 1909.11715v1\n",
      "2020_Skxuk1rFwB 1906.06316v2\n",
      "2020_Skxuk1rFwB 1906.06316v2\n",
      "2020_Skxuk1rFwB 1906.06316v2\n",
      "2020_SylKikSYDH 1911.05507v1\n",
      "2020_r1ecqn4YwB 1905.10437v4\n",
      "2020_r1gRTCVFvB 1910.09217v2\n",
      "2020_r1gRTCVFvB 1910.09217v2\n",
      "2020_r1gRTCVFvB 1910.09217v2\n",
      "2020_r1gdj2EKPB 1902.09432v3\n",
      "2020_r1gdj2EKPB 1902.09432v3\n",
      "2020_r1gfQgSFDr 1909.11646v2\n",
      "2020_r1xwA34KDB 1909.07328v1\n",
      "2020_r1xwA34KDB 1909.07328v1\n",
      "2020_rJeU_1SFvr 1912.00953v1\n",
      "2020_rJeU_1SFvr 1912.00953v1\n",
      "2020_rJg3zxBYwH 1912.00042v1\n",
      "2020_rJg3zxBYwH 1912.00042v1\n",
      "2020_rJg3zxBYwH 1912.00042v1\n",
      "2020_rJlnOhVYPS 2001.01526v2\n",
      "2020_rJlnOhVYPS 2001.01526v2\n",
      "2020_rJlnfaNYvB 1910.12385v1\n",
      "2020_rJxt0JHKvS 1912.06058v1\n",
      "2020_rkeJRhNYDH 1909.02164v4\n",
      "2020_rkgqm0VKwB 1912.13415v1\n",
      "2020_rkgvXlrKwH 1910.06591v2\n",
      "2020_rklxF0NtDr 1909.13196v1\n",
      "2020_rygoURNYvS 2001.00059v1\n",
      "2020_ryx1wRNFvB 1905.13715v2\n",
      "2020_ryx1wRNFvB 1905.13715v2\n",
      "2020_ryxF80NYwS 1901.00409v3\n",
      "2020_ryxQuANKPB 1909.13425v1\n",
      "2020_ryxQuANKPB 1909.13425v1\n",
      "2020_ryxQuANKPB 1909.13425v1\n"
     ]
    }
   ],
   "source": [
    "for k in new_table_counts:\n",
    "    try:\n",
    "        if (new_table_counts[k][\"tcount\"][1] + new_table_counts[k][\"tcount\"][2]) > 0:\n",
    "#             if k in NEW_leaderboard_refs and NEW_leaderboard_refs[k][\"count\"]==0:\n",
    "#                 arxivid = iclr_arxiv_map[k][\"arxivId\"]\n",
    "#                 paper = pc.get_by_id(arxivid)\n",
    "#                 for t in paper.tables:\n",
    "#                     if t.caption.find(\"bib\") > -1:\n",
    "#                         print(t.caption)\n",
    "                    \n",
    "#                 # check if reference is present in caption text\n",
    "#                 break\n",
    "            if not k in NEW_leaderboard_refs or (k in NEW_leaderboard_refs and NEW_leaderboard_refs[k][\"count\"]==0):\n",
    "                arxivid = iclr_arxiv_map[k][\"arxivId\"]\n",
    "                paper = pc.get_by_id(arxivid)\n",
    "                for t in paper.tables:\n",
    "                    if t.caption and t.caption.find(\" et al\") > -1:\n",
    "#                     if t.caption and (t.caption.find(\"bib\") > -1 or t.caption.find(\"et al\") > -1):\n",
    "                        print(k, arxivid)                    \n",
    "#                 break\n",
    "    except Exception as ex:\n",
    "#         print(k)\n",
    "        print(ex)"
   ]
  },
  {
   "cell_type": "code",
   "execution_count": 84,
   "metadata": {},
   "outputs": [
    {
     "name": "stdout",
     "output_type": "stream",
     "text": [
      "1702.08811v3\n",
      "Num tables:  2\n",
      "Table 1: Prediction accuracy ± standard deviation on the Amazon reviews dataset. The last two columns are taken directly from Louizos et al. (2016) and Ganin et al. (2016).\n",
      "Table 2: Prediction accuracy ± standard deviation on the Office dataset. The first 10 rows are taken directly from the papers of Ganin et al. (2016) and Li et al. (2016). The models DLID –DANN are based on the AlexNet model, LSSA –AdaBN are based on the InceptionBN model, and our method (CMD) is based on the VGG16 model.\n"
     ]
    }
   ],
   "source": [
    "aid = iclr_arxiv_map[\"2017_SkB-_mcel\"][\"arxivId\"]\n",
    "print(aid)\n",
    "paper = pc.get_by_id(aid)\n",
    "print(\"Num tables: \", len(paper.tables))\n",
    "for t in paper.tables:\n",
    "    print(t.caption)"
   ]
  },
  {
   "cell_type": "code",
   "execution_count": 271,
   "metadata": {},
   "outputs": [],
   "source": [
    "with open(\"./data/unpacked_sources/1702/1702.08811v3/final.bbl\", \"r\") as f:\n",
    "    lines = f.readlines()"
   ]
  },
  {
   "cell_type": "code",
   "execution_count": 278,
   "metadata": {},
   "outputs": [],
   "source": [
    "paper_bibitems = []\n",
    "bibitem = []\n",
    "start_looking = True\n",
    "start_appending = False\n",
    "\n",
    "for l in lines:\n",
    "    if start_looking and l.startswith(\"\\\\bibitem[\"):\n",
    "        start_looking = False\n",
    "        start_appending = True\n",
    "        bibitem = [l.strip().replace(\"\\n\", \" \")]\n",
    "        continue\n",
    "    if start_appending:\n",
    "        if l == \"\\n\":\n",
    "            paper_bibitems.append(bibitem)\n",
    "            bibitem = []\n",
    "            start_looking = True\n",
    "            start_appending = False\n",
    "        else:\n",
    "            bibitem.append(l.strip().replace(\"\\n\", \" \"))"
   ]
  },
  {
   "cell_type": "code",
   "execution_count": 274,
   "metadata": {},
   "outputs": [
    {
     "data": {
      "text/plain": [
       "['\\\\begin{thebibliography}{34}\\n',\n",
       " '\\\\providecommand{\\\\natexlab}[1]{#1}\\n',\n",
       " '\\\\providecommand{\\\\url}[1]{\\\\texttt{#1}}\\n',\n",
       " '\\\\expandafter\\\\ifx\\\\csname urlstyle\\\\endcsname\\\\relax\\n',\n",
       " '  \\\\providecommand{\\\\doi}[1]{doi: #1}\\\\else\\n',\n",
       " '  \\\\providecommand{\\\\doi}{doi: \\\\begingroup \\\\urlstyle{rm}\\\\Url}\\\\fi\\n',\n",
       " '\\n',\n",
       " '\\\\bibitem[Aljundi et~al.(2015)Aljundi, Emonet, Muselet, and\\n',\n",
       " '  Sebban]{aljundi2015landmarks}\\n',\n",
       " \"Rahaf Aljundi, R{\\\\'e}mi Emonet, Damien Muselet, and Marc Sebban.\\n\",\n",
       " '\\\\newblock Landmarks-based kernelized subspace alignment for unsupervised domain\\n',\n",
       " '  adaptation.\\n',\n",
       " '\\\\newblock In \\\\emph{International Conference on Computer Vision and Pattern\\n',\n",
       " '  Recognition}, pp.\\\\  56--63, 2015.\\n',\n",
       " '\\n',\n",
       " '\\\\bibitem[Ben-David et~al.(2010)Ben-David, Blitzer, Crammer, Kulesza, Pereira,\\n',\n",
       " '  and Vaughan]{ben2010theory}\\n',\n",
       " 'Shai Ben-David, John Blitzer, Koby Crammer, Alex Kulesza, Fernando Pereira, and\\n',\n",
       " '  Jennifer~Wortman Vaughan.\\n',\n",
       " '\\\\newblock A theory of learning from different domains.\\n',\n",
       " '\\\\newblock \\\\emph{Machine learning}, 79\\\\penalty0 (1-2):\\\\penalty0 151--175, 2010.\\n',\n",
       " '\\n',\n",
       " '\\\\bibitem[Billingsley(2008)]{billingsley2008probability}\\n',\n",
       " 'Patrick Billingsley.\\n',\n",
       " '\\\\newblock \\\\emph{Probability and measure}.\\n',\n",
       " '\\\\newblock John Wiley \\\\& Sons, 2008.\\n',\n",
       " '\\n',\n",
       " '\\\\bibitem[Billingsley(2013)]{billingsley2013convergence}\\n',\n",
       " 'Patrick Billingsley.\\n',\n",
       " '\\\\newblock \\\\emph{Convergence of probability measures}.\\n',\n",
       " '\\\\newblock John Wiley \\\\& Sons, 2013.\\n',\n",
       " '\\n',\n",
       " '\\\\bibitem[Chen et~al.(2012)Chen, Xu, Weinberger, and Sha]{chen2012marginalized}\\n',\n",
       " 'Minmin Chen, Zhixiang Xu, Kilian Weinberger, and Fei Sha.\\n',\n",
       " '\\\\newblock Marginalized denoising autoencoders for domain adaptation.\\n',\n",
       " '\\\\newblock \\\\emph{International Conference on Machine Learning}, pp.\\\\  767--774,\\n',\n",
       " '  2012.\\n',\n",
       " '\\n',\n",
       " '\\\\bibitem[Chollet(2015)]{chollet2015keras}\\n',\n",
       " 'Fran{\\\\c{c}}ois Chollet.\\n',\n",
       " '\\\\newblock Keras: Deep learning library for theano and tensorflow, 2015.\\n',\n",
       " '\\n',\n",
       " '\\\\bibitem[Chopra et~al.(2013)Chopra, Balakrishnan, and Gopalan]{chopra2013dlid}\\n',\n",
       " 'Sumit Chopra, Suhrid Balakrishnan, and Raghuraman Gopalan.\\n',\n",
       " '\\\\newblock Dlid: Deep learning for domain adaptation by interpolating between\\n',\n",
       " '  domains.\\n',\n",
       " '\\\\newblock \\\\emph{International Conference on Machine Learning Workshop on\\n',\n",
       " '  Challenges in Representation Learning}, 2013.\\n',\n",
       " '\\n',\n",
       " '\\\\bibitem[Duchi et~al.(2011)Duchi, Hazan, and Singer]{duchi2011adaptive}\\n',\n",
       " 'John Duchi, Elad Hazan, and Yoram Singer.\\n',\n",
       " '\\\\newblock Adaptive subgradient methods for online learning and stochastic\\n',\n",
       " '  optimization.\\n',\n",
       " '\\\\newblock \\\\emph{Journal of Machine Learning Research}, 12\\\\penalty0\\n',\n",
       " '  (Jul):\\\\penalty0 2121--2159, 2011.\\n',\n",
       " '\\n',\n",
       " \"\\\\bibitem[Egozcue et~al.(2012)Egozcue, Garc{\\\\'\\\\i}a, Wong, and\\n\",\n",
       " '  Zitikis]{egozcue2012smallest}\\n',\n",
       " \"Martin Egozcue, Luis~Fuentes Garc{\\\\'\\\\i}a, Wing~Keung Wong, and Ricardas\\n\",\n",
       " '  Zitikis.\\n',\n",
       " '\\\\newblock The smallest upper bound for the pth absolute central moment of a\\n',\n",
       " '  class of random variables.\\n',\n",
       " '\\\\newblock \\\\emph{The Mathematical Scientist}, 2012.\\n',\n",
       " '\\n',\n",
       " '\\\\bibitem[Ganin et~al.(2016)Ganin, Ustinova, Ajakan, Germain, Larochelle,\\n',\n",
       " '  Laviolette, Marchand, and Lempitsky]{ganin2016domain}\\n',\n",
       " 'Yaroslav Ganin, Evgeniya Ustinova, Hana Ajakan, Pascal Germain, Hugo\\n',\n",
       " '  Larochelle, Fran{\\\\c{c}}ois Laviolette, Mario Marchand, and Victor Lempitsky.\\n',\n",
       " '\\\\newblock Domain-adversarial training of neural networks.\\n',\n",
       " '\\\\newblock \\\\emph{Journal of Machine Learning Research}, 17\\\\penalty0\\n',\n",
       " '  (Jan):\\\\penalty0 1--35, 2016.\\n',\n",
       " '\\n',\n",
       " '\\\\bibitem[Glorot et~al.(2011)Glorot, Bordes, and Bengio]{glorot2011domain}\\n',\n",
       " 'Xavier Glorot, Antoine Bordes, and Yoshua Bengio.\\n',\n",
       " '\\\\newblock Domain adaptation for large-scale sentiment classification: A deep\\n',\n",
       " '  learning approach.\\n',\n",
       " '\\\\newblock In \\\\emph{International Conference on Machine Learning}, pp.\\\\\\n',\n",
       " '  513--520, 2011.\\n',\n",
       " '\\n',\n",
       " '\\\\bibitem[Gretton et~al.(2006)Gretton, Borgwardt, Rasch, Sch{\\\\\"o}lkopf, and\\n',\n",
       " '  Smola]{gretton2006kernel}\\n',\n",
       " 'Arthur Gretton, Karsten~M Borgwardt, Malte Rasch, Bernhard Sch{\\\\\"o}lkopf, and\\n',\n",
       " '  Alex~J Smola.\\n',\n",
       " '\\\\newblock A kernel method for the two-sample-problem.\\n',\n",
       " '\\\\newblock In \\\\emph{Advances in neural information processing systems}, pp.\\\\\\n',\n",
       " '  513--520, 2006.\\n',\n",
       " '\\n',\n",
       " '\\\\bibitem[Gretton et~al.(2012)Gretton, Borgwardt, Rasch, Sch{\\\\\"o}lkopf, and\\n',\n",
       " '  Smola]{gretton2012kernel}\\n',\n",
       " 'Arthur Gretton, Karsten~M Borgwardt, Malte~J Rasch, Bernhard Sch{\\\\\"o}lkopf, and\\n',\n",
       " '  Alexander Smola.\\n',\n",
       " '\\\\newblock A kernel two-sample test.\\n',\n",
       " '\\\\newblock \\\\emph{Journal of Machine Learning Research}, 13\\\\penalty0\\n',\n",
       " '  (Mar):\\\\penalty0 723--773, 2012.\\n',\n",
       " '\\n',\n",
       " '\\\\bibitem[Hsu et~al.(2003)Hsu, Chang, Lin, et~al.]{hsu2003practical}\\n',\n",
       " 'Chih-Wei Hsu, Chih-Chung Chang, Chih-Jen Lin, et~al.\\n',\n",
       " '\\\\newblock A practical guide to support vector classification.\\n',\n",
       " '\\\\newblock 2003.\\n',\n",
       " '\\n',\n",
       " '\\\\bibitem[Ioffe \\\\& Szegedy(2015)Ioffe and Szegedy]{ioffe2015batch}\\n',\n",
       " 'Sergey Ioffe and Christian Szegedy.\\n',\n",
       " '\\\\newblock Batch normalization: Accelerating deep network training by reducing\\n',\n",
       " '  internal covariate shift.\\n',\n",
       " '\\\\newblock In \\\\emph{International Conference on Machine Learning}, pp.\\\\\\n',\n",
       " '  448--456, 2015.\\n',\n",
       " '\\n',\n",
       " '\\\\bibitem[Krizhevsky et~al.(2012)Krizhevsky, Sutskever, and\\n',\n",
       " '  Hinton]{krizhevsky2012imagenet}\\n',\n",
       " 'Alex Krizhevsky, Ilya Sutskever, and Geoffrey~E Hinton.\\n',\n",
       " '\\\\newblock Imagenet classification with deep convolutional neural networks.\\n',\n",
       " '\\\\newblock In \\\\emph{Advances in neural information processing systems}, pp.\\\\\\n',\n",
       " '  1097--1105, 2012.\\n',\n",
       " '\\n',\n",
       " '\\\\bibitem[Kullback \\\\& Leibler(1951)Kullback and Leibler]{KullbackLeibler51}\\n',\n",
       " 'Solomon Kullback and Richard~A Leibler.\\n',\n",
       " '\\\\newblock On information and sufficiency.\\n',\n",
       " '\\\\newblock \\\\emph{Annals of Mathematical Statistics}, 22\\\\penalty0 (1):\\\\penalty0\\n',\n",
       " '  79--86, 1951.\\n',\n",
       " '\\n',\n",
       " '\\\\bibitem[Li et~al.(2016)Li, Wang, Shi, Liu, and Hou]{li2016revisiting}\\n',\n",
       " 'Yanghao Li, Naiyan Wang, Jianping Shi, Jiaying Liu, and Xiaodi Hou.\\n',\n",
       " '\\\\newblock Revisiting batch normalization for practical domain adaptation.\\n',\n",
       " '\\\\newblock \\\\emph{arXiv preprint arXiv:1603.04779}, 2016.\\n',\n",
       " '\\n',\n",
       " '\\\\bibitem[Li et~al.(2014)Li, Swersky, and Zemel]{li2014unsupervised}\\n',\n",
       " 'Yujia Li, Kevin Swersky, and Richard Zemel.\\n',\n",
       " '\\\\newblock Unsupervised domain adaptation by domain invariant projection.\\n',\n",
       " '\\\\newblock In \\\\emph{Neural Information Processing Systems Workshop on Transfer\\n',\n",
       " '  and Multitask Learning}, 2014.\\n',\n",
       " '\\n',\n",
       " '\\\\bibitem[Li et~al.(2015)Li, Swersky, and Zemel]{li2015generative}\\n',\n",
       " 'Yujia Li, Kevin Swersky, and Richard Zemel.\\n',\n",
       " '\\\\newblock Generative moment matching networks.\\n',\n",
       " '\\\\newblock In \\\\emph{International Conference on Machine Learning}, pp.\\\\\\n',\n",
       " '  1718--1727, 2015.\\n',\n",
       " '\\n',\n",
       " '\\\\bibitem[Long et~al.(2015)Long, Cao, Wang, and Jordan]{long2015learning}\\n',\n",
       " 'Mingsheng Long, Yue Cao, Jianmin Wang, and Michael Jordan.\\n',\n",
       " '\\\\newblock Learning transferable features with deep adaptation networks.\\n',\n",
       " '\\\\newblock In \\\\emph{International Conference on Machine Learning}, pp.\\\\\\n',\n",
       " '  97--105, 2015.\\n',\n",
       " '\\n',\n",
       " '\\\\bibitem[Louizos et~al.(2016)Louizos, Swersky, Li, Welling, and\\n',\n",
       " '  Zemel]{louizos2015variational}\\n',\n",
       " 'Christos Louizos, Kevin Swersky, Yujia Li, Max Welling, and Richard Zemel.\\n',\n",
       " '\\\\newblock The variational fair auto encoder.\\n',\n",
       " '\\\\newblock \\\\emph{International Conference on Learning Representations}, 2016.\\n',\n",
       " '\\n',\n",
       " '\\\\bibitem[Pan et~al.(2011)Pan, Tsang, Kwok, and Yang]{pan2011domain}\\n',\n",
       " 'Sinno~Jialin Pan, Ivor~W Tsang, James~T Kwok, and Qiang Yang.\\n',\n",
       " '\\\\newblock Domain adaptation via transfer component analysis.\\n',\n",
       " '\\\\newblock \\\\emph{IEEE Transactions on Neural Networks}, 22\\\\penalty0\\n',\n",
       " '  (2):\\\\penalty0 199--210, 2011.\\n',\n",
       " '\\n',\n",
       " '\\\\bibitem[Saenko et~al.(2010)Saenko, Kulis, Fritz, and\\n',\n",
       " '  Darrell]{saenko2010adapting}\\n',\n",
       " 'Kate Saenko, Brian Kulis, Mario Fritz, and Trevor Darrell.\\n',\n",
       " '\\\\newblock Adapting visual category models to new domains.\\n',\n",
       " '\\\\newblock In \\\\emph{European Conference on Computer Vision}, pp.\\\\  213--226.\\n',\n",
       " '  Springer, 2010.\\n',\n",
       " '\\n',\n",
       " '\\\\bibitem[Simonyan \\\\& Zisserman(2014)Simonyan and Zisserman]{simonyan2014very}\\n',\n",
       " 'Karen Simonyan and Andrew Zisserman.\\n',\n",
       " '\\\\newblock Very deep convolutional networks for large-scale image recognition.\\n',\n",
       " '\\\\newblock \\\\emph{International Conference on Learning Representations}, 2014.\\n',\n",
       " '\\n',\n",
       " '\\\\bibitem[Sriperumbudur et~al.(2009)Sriperumbudur, Fukumizu, Gretton, Lanckriet,\\n',\n",
       " '  and Sch{\\\\\"o}lkopf]{sriperumbudur2009kernel}\\n',\n",
       " 'Bharath~K Sriperumbudur, Kenji Fukumizu, Arthur Gretton, Gert~RG Lanckriet, and\\n',\n",
       " '  Bernhard Sch{\\\\\"o}lkopf.\\n',\n",
       " '\\\\newblock Kernel choice and classifiability for rkhs embeddings of probability\\n',\n",
       " '  distributions.\\n',\n",
       " '\\\\newblock In \\\\emph{Advances in neural information processing systems}, pp.\\\\\\n',\n",
       " '  1750--1758, 2009.\\n',\n",
       " '\\n',\n",
       " '\\\\bibitem[Sun \\\\& Saenko(2016)Sun and Saenko]{sun2016deep}\\n',\n",
       " 'Baochen Sun and Kate Saenko.\\n',\n",
       " '\\\\newblock Deep coral: Correlation alignment for deep domain adaptation.\\n',\n",
       " '\\\\newblock \\\\emph{arXiv preprint arXiv:1607.01719}, 2016.\\n',\n",
       " '\\n',\n",
       " '\\\\bibitem[Sun et~al.(2016)Sun, Feng, and Saenko]{sun2016return}\\n',\n",
       " 'Baochen Sun, Jiashi Feng, and Kate Saenko.\\n',\n",
       " '\\\\newblock Return of frustratingly easy domain adaptation.\\n',\n",
       " '\\\\newblock In \\\\emph{AAAI Conference on Artificial Intelligence}, 2016.\\n',\n",
       " '\\n',\n",
       " '\\\\bibitem[Sutherland et~al.(2016)Sutherland, Tung, Strathmann, De, Ramdas,\\n',\n",
       " '  Smola, and Gretton]{sutherland2016generative}\\n',\n",
       " 'Dougal~J Sutherland, Hsiao-Yu Tung, Heiko Strathmann, Soumyajit De, Aaditya\\n',\n",
       " '  Ramdas, Alex Smola, and Arthur Gretton.\\n',\n",
       " '\\\\newblock Generative models and model criticism via optimized maximum mean\\n',\n",
       " '  discrepancy.\\n',\n",
       " '\\\\newblock \\\\emph{arXiv preprint arXiv:1611.04488}, 2016.\\n',\n",
       " '\\n',\n",
       " '\\\\bibitem[Tzeng et~al.(2014)Tzeng, Hoffman, Zhang, Saenko, and\\n',\n",
       " '  Darrell]{tzeng2014deep}\\n',\n",
       " 'Eric Tzeng, Judy Hoffman, Ning Zhang, Kate Saenko, and Trevor Darrell.\\n',\n",
       " '\\\\newblock Deep domain confusion: Maximizing for domain invariance.\\n',\n",
       " '\\\\newblock \\\\emph{arXiv preprint arXiv:1412.3474}, 2014.\\n',\n",
       " '\\n',\n",
       " '\\\\bibitem[Zeiler(2012)]{zeiler2012adadelta}\\n',\n",
       " 'Matthew~D Zeiler.\\n',\n",
       " '\\\\newblock Adadelta: an adaptive learning rate method.\\n',\n",
       " '\\\\newblock \\\\emph{arXiv preprint arXiv:1212.5701}, 2012.\\n',\n",
       " '\\n',\n",
       " '\\\\bibitem[Zhao \\\\& Meng(2015)Zhao and Meng]{zhao2015fastmmd}\\n',\n",
       " 'Ji~Zhao and Deyu Meng.\\n',\n",
       " '\\\\newblock Fastmmd: Ensemble of circular discrepancy for efficient two-sample\\n',\n",
       " '  test.\\n',\n",
       " '\\\\newblock \\\\emph{Neural computation}, 27\\\\penalty0 (6):\\\\penalty0 1345--1372,\\n',\n",
       " '  2015.\\n',\n",
       " '\\n',\n",
       " '\\\\bibitem[Zhong et~al.(2010)Zhong, Fan, Yang, Verscheure, and\\n',\n",
       " '  Ren]{zhong2010cross}\\n',\n",
       " 'Erheng Zhong, Wei Fan, Qiang Yang, Olivier Verscheure, and Jiangtao Ren.\\n',\n",
       " '\\\\newblock Cross validation framework to choose amongst models and datasets for\\n',\n",
       " '  transfer learning.\\n',\n",
       " '\\\\newblock In \\\\emph{Joint European Conference on Machine Learning and Knowledge\\n',\n",
       " '  Discovery in Databases}, pp.\\\\  547--562. Springer, 2010.\\n',\n",
       " '\\n',\n",
       " '\\\\bibitem[Zhuang et~al.(2015)Zhuang, Cheng, Luo, Pan, and\\n',\n",
       " '  He]{zhuang2015supervised}\\n',\n",
       " 'Fuzhen Zhuang, Xiaohu Cheng, Ping Luo, Sinno~Jialin Pan, and Qing He.\\n',\n",
       " '\\\\newblock Supervised representation learning: Transfer learning with deep\\n',\n",
       " '  autoencoders.\\n',\n",
       " '\\\\newblock In \\\\emph{International Joint Conference on Artificial Intelligence},\\n',\n",
       " '  2015.\\n',\n",
       " '\\n',\n",
       " '\\\\end{thebibliography}\\n']"
      ]
     },
     "execution_count": 274,
     "metadata": {},
     "output_type": "execute_result"
    }
   ],
   "source": [
    "lines"
   ]
  },
  {
   "cell_type": "code",
   "execution_count": 282,
   "metadata": {},
   "outputs": [
    {
     "data": {
      "text/plain": [
       "[\"\\\\bibitem[Aljundi et~al.(2015)Aljundi, Emonet, Muselet, and Sebban]{aljundi2015landmarks} Rahaf Aljundi, R{\\\\'e}mi Emonet, Damien Muselet, and Marc Sebban. \",\n",
       " ' Landmarks-based kernelized subspace alignment for unsupervised domain adaptation. ',\n",
       " ' In \\\\emph{International Conference on Computer Vision and Pattern Recognition}, pp.\\\\  56--63, 2015.']"
      ]
     },
     "execution_count": 282,
     "metadata": {},
     "output_type": "execute_result"
    }
   ],
   "source": [
    "\" \".join(paper_bibitems[0]).split(\"\\\\newblock\")"
   ]
  },
  {
   "cell_type": "code",
   "execution_count": null,
   "metadata": {},
   "outputs": [],
   "source": []
  },
  {
   "cell_type": "code",
   "execution_count": 86,
   "metadata": {},
   "outputs": [
    {
     "data": {
      "text/plain": [
       "({}, {})"
      ]
     },
     "execution_count": 86,
     "metadata": {},
     "output_type": "execute_result"
    }
   ],
   "source": [
    "NEW_leaderboard_refs[\"1702.08811v3\"], leaderboard_table_refs[\"1702.08811v3\"]"
   ]
  },
  {
   "cell_type": "code",
   "execution_count": 73,
   "metadata": {},
   "outputs": [
    {
     "data": {
      "text/plain": [
       "['__class__',\n",
       " '__delattr__',\n",
       " '__dict__',\n",
       " '__dir__',\n",
       " '__doc__',\n",
       " '__eq__',\n",
       " '__format__',\n",
       " '__ge__',\n",
       " '__getattribute__',\n",
       " '__gt__',\n",
       " '__hash__',\n",
       " '__init__',\n",
       " '__init_subclass__',\n",
       " '__le__',\n",
       " '__lt__',\n",
       " '__module__',\n",
       " '__ne__',\n",
       " '__new__',\n",
       " '__reduce__',\n",
       " '__reduce_ex__',\n",
       " '__repr__',\n",
       " '__setattr__',\n",
       " '__sizeof__',\n",
       " '__str__',\n",
       " '__subclasshook__',\n",
       " '__weakref__',\n",
       " '_repr_html_',\n",
       " '_save_df',\n",
       " '_set_annotations',\n",
       " 'caption',\n",
       " 'dataset_text',\n",
       " 'df',\n",
       " 'display',\n",
       " 'figure_id',\n",
       " 'from_file',\n",
       " 'gold_tags',\n",
       " 'matrix',\n",
       " 'matrix_gold_tags',\n",
       " 'matrix_html',\n",
       " 'matrix_layout',\n",
       " 'matrix_tags',\n",
       " 'name',\n",
       " 'notes',\n",
       " 'save',\n",
       " 'set_layout',\n",
       " 'set_tags',\n",
       " 'shape',\n",
       " 'sota_records']"
      ]
     },
     "execution_count": 73,
     "metadata": {},
     "output_type": "execute_result"
    }
   ],
   "source": [
    "dir(t)"
   ]
  },
  {
   "cell_type": "code",
   "execution_count": null,
   "metadata": {},
   "outputs": [],
   "source": []
  }
 ],
 "metadata": {
  "kernelspec": {
   "display_name": "Python [conda env:axcell] *",
   "language": "python",
   "name": "conda-env-axcell-py"
  },
  "language_info": {
   "codemirror_mode": {
    "name": "ipython",
    "version": 3
   },
   "file_extension": ".py",
   "mimetype": "text/x-python",
   "name": "python",
   "nbconvert_exporter": "python",
   "pygments_lexer": "ipython3",
   "version": "3.7.1"
  }
 },
 "nbformat": 4,
 "nbformat_minor": 4
}
