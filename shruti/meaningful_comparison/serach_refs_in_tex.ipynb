{
 "cells": [
  {
   "cell_type": "code",
   "execution_count": 87,
   "metadata": {},
   "outputs": [],
   "source": [
    "import glob\n",
    "import re\n",
    "import pickle\n",
    "from collections import defaultdict"
   ]
  },
  {
   "cell_type": "code",
   "execution_count": 142,
   "metadata": {},
   "outputs": [],
   "source": [
    "#Axcell imports\n",
    "from pathlib import Path\n",
    "from axcell.data.paper_collection import PaperCollection\n",
    "from axcell.models.structure import TableType, TableStructurePredictor, TableTypePredictor"
   ]
  },
  {
   "cell_type": "code",
   "execution_count": null,
   "metadata": {},
   "outputs": [],
   "source": []
  },
  {
   "cell_type": "code",
   "execution_count": null,
   "metadata": {},
   "outputs": [],
   "source": []
  },
  {
   "cell_type": "markdown",
   "metadata": {},
   "source": [
    "## Global vars"
   ]
  },
  {
   "cell_type": "code",
   "execution_count": 143,
   "metadata": {},
   "outputs": [],
   "source": [
    "ROOT_PATH = Path('data')\n",
    "MODELS_PATH = Path('models')\n",
    "\n",
    "SOURCES_PATH = ROOT_PATH / 'sources'\n",
    "PAPERS_PATH = ROOT_PATH / 'papers'"
   ]
  },
  {
   "cell_type": "code",
   "execution_count": null,
   "metadata": {},
   "outputs": [],
   "source": [
    "pc = PaperCollection.from_files(PAPERS_PATH)"
   ]
  },
  {
   "cell_type": "code",
   "execution_count": 145,
   "metadata": {},
   "outputs": [],
   "source": [
    "table_labels = {TableType.SOTA: 'leaderboard', TableType.ABLATION: 'ablation', TableType.IRRELEVANT: 'irrelevant'}"
   ]
  },
  {
   "cell_type": "code",
   "execution_count": 146,
   "metadata": {},
   "outputs": [
    {
     "name": "stderr",
     "output_type": "stream",
     "text": [
      "/home/singh_shruti/anaconda3/envs/axcell/lib/python3.7/site-packages/torch/serialization.py:453: SourceChangeWarning: source code of class 'torch.nn.modules.loss.BCEWithLogitsLoss' has changed. you can retrieve the original source code by accessing the object's source attribute or set `torch.nn.Module.dump_patches = True` and use the patch tool to revert the changes.\n",
      "  warnings.warn(msg, SourceChangeWarning)\n",
      "/home/singh_shruti/anaconda3/envs/axcell/lib/python3.7/site-packages/torch/serialization.py:453: SourceChangeWarning: source code of class 'fastai.text.models.awd_lstm.AWD_LSTM' has changed. you can retrieve the original source code by accessing the object's source attribute or set `torch.nn.Module.dump_patches = True` and use the patch tool to revert the changes.\n",
      "  warnings.warn(msg, SourceChangeWarning)\n",
      "/home/singh_shruti/anaconda3/envs/axcell/lib/python3.7/site-packages/torch/serialization.py:453: SourceChangeWarning: source code of class 'torch.nn.modules.sparse.Embedding' has changed. you can retrieve the original source code by accessing the object's source attribute or set `torch.nn.Module.dump_patches = True` and use the patch tool to revert the changes.\n",
      "  warnings.warn(msg, SourceChangeWarning)\n",
      "/home/singh_shruti/anaconda3/envs/axcell/lib/python3.7/site-packages/torch/serialization.py:453: SourceChangeWarning: source code of class 'fastai.text.models.awd_lstm.EmbeddingDropout' has changed. you can retrieve the original source code by accessing the object's source attribute or set `torch.nn.Module.dump_patches = True` and use the patch tool to revert the changes.\n",
      "  warnings.warn(msg, SourceChangeWarning)\n",
      "/home/singh_shruti/anaconda3/envs/axcell/lib/python3.7/site-packages/torch/serialization.py:453: SourceChangeWarning: source code of class 'fastai.text.models.awd_lstm.WeightDropout' has changed. you can retrieve the original source code by accessing the object's source attribute or set `torch.nn.Module.dump_patches = True` and use the patch tool to revert the changes.\n",
      "  warnings.warn(msg, SourceChangeWarning)\n",
      "/home/singh_shruti/anaconda3/envs/axcell/lib/python3.7/site-packages/torch/serialization.py:453: SourceChangeWarning: source code of class 'torch.nn.modules.rnn.LSTM' has changed. you can retrieve the original source code by accessing the object's source attribute or set `torch.nn.Module.dump_patches = True` and use the patch tool to revert the changes.\n",
      "  warnings.warn(msg, SourceChangeWarning)\n",
      "/home/singh_shruti/anaconda3/envs/axcell/lib/python3.7/site-packages/torch/serialization.py:453: SourceChangeWarning: source code of class 'fastai.text.models.awd_lstm.RNNDropout' has changed. you can retrieve the original source code by accessing the object's source attribute or set `torch.nn.Module.dump_patches = True` and use the patch tool to revert the changes.\n",
      "  warnings.warn(msg, SourceChangeWarning)\n",
      "/home/singh_shruti/anaconda3/envs/axcell/lib/python3.7/site-packages/torch/serialization.py:453: SourceChangeWarning: source code of class 'torch.nn.modules.batchnorm.BatchNorm1d' has changed. you can retrieve the original source code by accessing the object's source attribute or set `torch.nn.Module.dump_patches = True` and use the patch tool to revert the changes.\n",
      "  warnings.warn(msg, SourceChangeWarning)\n",
      "/home/singh_shruti/anaconda3/envs/axcell/lib/python3.7/site-packages/torch/serialization.py:453: SourceChangeWarning: source code of class 'torch.nn.modules.dropout.Dropout' has changed. you can retrieve the original source code by accessing the object's source attribute or set `torch.nn.Module.dump_patches = True` and use the patch tool to revert the changes.\n",
      "  warnings.warn(msg, SourceChangeWarning)\n",
      "/home/singh_shruti/anaconda3/envs/axcell/lib/python3.7/site-packages/torch/serialization.py:453: SourceChangeWarning: source code of class 'torch.nn.modules.linear.Linear' has changed. you can retrieve the original source code by accessing the object's source attribute or set `torch.nn.Module.dump_patches = True` and use the patch tool to revert the changes.\n",
      "  warnings.warn(msg, SourceChangeWarning)\n",
      "/home/singh_shruti/anaconda3/envs/axcell/lib/python3.7/site-packages/torch/serialization.py:453: SourceChangeWarning: source code of class 'torch.nn.modules.activation.ReLU' has changed. you can retrieve the original source code by accessing the object's source attribute or set `torch.nn.Module.dump_patches = True` and use the patch tool to revert the changes.\n",
      "  warnings.warn(msg, SourceChangeWarning)\n",
      "[PID 163019] Load model table-type-classifier.pth\n"
     ]
    }
   ],
   "source": [
    "models_path = Path(MODELS_PATH)\n",
    "ttp = TableTypePredictor(models_path, \"table-type-classifier.pth\")"
   ]
  },
  {
   "cell_type": "code",
   "execution_count": null,
   "metadata": {},
   "outputs": [],
   "source": []
  },
  {
   "cell_type": "markdown",
   "metadata": {},
   "source": [
    "### Import collated data"
   ]
  },
  {
   "cell_type": "code",
   "execution_count": 26,
   "metadata": {},
   "outputs": [],
   "source": [
    "with open(\"/home/singh_shruti/workspace/PaperAcceptancePrediction/shruti/features/iclr_arxiv_map.pkl\", \"rb\") as f:\n",
    "    iclr_arxiv_map = pickle.load(f)"
   ]
  },
  {
   "cell_type": "code",
   "execution_count": 25,
   "metadata": {},
   "outputs": [],
   "source": [
    "with open(\"TABLE_Label_predicted.pkl\", \"rb\") as f:\n",
    "    table_label_info = pickle.load(f)"
   ]
  },
  {
   "cell_type": "code",
   "execution_count": 4,
   "metadata": {},
   "outputs": [],
   "source": [
    "with open(\"leaderboard_table_refs.pkl\", \"rb\") as some_file:\n",
    "    leaderboard_table_refs = pickle.load(some_file)\n",
    "with open(\"leaderboard_refs.pkl\", \"rb\") as some_file:\n",
    "    leaderboard_refs = pickle.load(some_file)\n",
    "\n",
    "with open(\"new_leaderboard_refs.pkl\", \"rb\") as some_file:\n",
    "    NEW_leaderboard_refs = pickle.load(some_file)"
   ]
  },
  {
   "cell_type": "markdown",
   "metadata": {},
   "source": [
    "### Check data format"
   ]
  },
  {
   "cell_type": "code",
   "execution_count": 5,
   "metadata": {},
   "outputs": [
    {
     "data": {
      "text/plain": [
       "[('2017_B1-Hhnslg',\n",
       "  {'refs': {'ldb': [\"<ref id='bib-bib17'>2016</ref>\",\n",
       "     \"<ref id='bib-bib1'>2013</ref>\",\n",
       "     \"<ref id='bib-bib23'>2016</ref>\",\n",
       "     \"<ref id='bib-bib29'>2016</ref>\",\n",
       "     \"<ref id='bib-bib2'>2015</ref>\",\n",
       "     \"<ref id='bib-bib22'>2017</ref>\",\n",
       "     \"<ref id='bib-bib6'>2017</ref>\"],\n",
       "    'abl': []},\n",
       "   'count': 12}),\n",
       " ('2017_B1-q5Pqxl', {'refs': {'ldb': []}, 'count': 0}),\n",
       " ('2017_B184E5qee',\n",
       "  {'refs': {'ldb': [\"<ref id='bib-bib37'>2012</ref>\",\n",
       "     \"<ref id='bib-bib13'>2015</ref>\",\n",
       "     \"<ref id='bib-bib36'>2016</ref>\",\n",
       "     \"<ref id='bib-bib44'>2015</ref>\",\n",
       "     \"<ref id='bib-bib40'>2014</ref>\",\n",
       "     \"<ref id='bib-bib50'>2016</ref>\",\n",
       "     \"<ref id='bib-bib49'>2014</ref>\"]},\n",
       "   'count': 10})]"
      ]
     },
     "execution_count": 5,
     "metadata": {},
     "output_type": "execute_result"
    }
   ],
   "source": [
    "list(NEW_leaderboard_refs.items())[0:3]"
   ]
  },
  {
   "cell_type": "code",
   "execution_count": 17,
   "metadata": {},
   "outputs": [
    {
     "data": {
      "text/plain": [
       "[('2017_B1-Hhnslg',\n",
       "  {'tcount': [6, 4, 2, 0],\n",
       "   'table_labels': [('leaderboard',),\n",
       "    ('leaderboard',),\n",
       "    ('leaderboard',),\n",
       "    ('ablation',),\n",
       "    ('leaderboard',),\n",
       "    ('ablation',)]}),\n",
       " ('2017_B1-q5Pqxl',\n",
       "  {'tcount': [2, 1, 0, 1],\n",
       "   'table_labels': [('irrelevant',), ('leaderboard',)]}),\n",
       " ('2017_B16dGcqlx', {'tcount': [0, 0, 0, 0], 'table_labels': []})]"
      ]
     },
     "execution_count": 17,
     "metadata": {},
     "output_type": "execute_result"
    }
   ],
   "source": [
    "list(leaderboard_table_refs.items())[0:3]"
   ]
  },
  {
   "cell_type": "markdown",
   "metadata": {},
   "source": [
    "### Check if one is a subset of other"
   ]
  },
  {
   "cell_type": "code",
   "execution_count": 13,
   "metadata": {},
   "outputs": [
    {
     "name": "stdout",
     "output_type": "stream",
     "text": [
      "530\n",
      "0\n",
      "158\n"
     ]
    }
   ],
   "source": [
    "count = 0\n",
    "reverse_count = 0\n",
    "old_missing = 0\n",
    "for k in NEW_leaderboard_refs:\n",
    "    if \"count\" in NEW_leaderboard_refs[k]:\n",
    "        if \"count\" in leaderboard_refs[k]:\n",
    "            if NEW_leaderboard_refs[k][\"count\"] >= leaderboard_refs[k][\"count\"]:\n",
    "                count +=1\n",
    "            else:\n",
    "                reverse_count += 1\n",
    "        else:\n",
    "            old_missing += 1\n",
    "            #print(\"Count not present in old: \", leaderboard_refs[k])\n",
    "    else:\n",
    "        print(\"Count not present in NEW: \", NEW_leaderboard_refs[k])\n",
    "print(count)\n",
    "print(reverse_count)\n",
    "print(old_missing)"
   ]
  },
  {
   "cell_type": "markdown",
   "metadata": {},
   "source": [
    "### Hence, the dictionary to use from now id NEW_leaderboard_refs"
   ]
  },
  {
   "cell_type": "code",
   "execution_count": null,
   "metadata": {},
   "outputs": [],
   "source": []
  },
  {
   "cell_type": "markdown",
   "metadata": {},
   "source": [
    "### check missing ref stats"
   ]
  },
  {
   "cell_type": "code",
   "execution_count": 16,
   "metadata": {},
   "outputs": [
    {
     "name": "stdout",
     "output_type": "stream",
     "text": [
      "459 688\n",
      "0.6671511627906976\n"
     ]
    }
   ],
   "source": [
    "count = 0\n",
    "for k in NEW_leaderboard_refs:\n",
    "    if NEW_leaderboard_refs[k][\"count\"] == 0:\n",
    "        count +=1\n",
    "print(count, len(NEW_leaderboard_refs))\n",
    "print(count/len(NEW_leaderboard_refs))"
   ]
  },
  {
   "cell_type": "code",
   "execution_count": 24,
   "metadata": {
    "collapsed": true
   },
   "outputs": [
    {
     "name": "stdout",
     "output_type": "stream",
     "text": [
      "Absent key:  2017_B16dGcqlx\n",
      "Absent key:  2017_B186cP9gx\n",
      "Absent key:  2017_B1M8JF9xx\n",
      "Absent key:  2017_B1TTpYKgx\n",
      "Absent key:  2017_BJ3filKll\n",
      "Absent key:  2017_BJ46w6Ule\n",
      "Absent key:  2017_BJ5UeU9xx\n",
      "Absent key:  2017_BJ6oOfqge\n",
      "Absent key:  2017_BJAA4wKxg\n",
      "Absent key:  2017_BJKYvt5lg\n",
      "Absent key:  2017_BJO-BuT1g\n",
      "Absent key:  2017_BJ_MGwqlg\n",
      "Absent key:  2017_BJluGHcee\n",
      "Absent key:  2017_BJmCKBqgl\n",
      "Absent key:  2017_BJrFC6ceg\n",
      "Absent key:  2017_BJxhLAuxg\n",
      "Absent key:  2017_Bk0FWVcgx\n",
      "Absent key:  2017_Bk8BvDqex\n",
      "Absent key:  2017_BkLhzHtlg\n",
      "Absent key:  2017_BkV4VS9ll\n",
      "Absent key:  2017_BkVsEMYel\n",
      "Absent key:  2017_Bkab5dqxe\n",
      "Absent key:  2017_BkbY4psgg\n",
      "Absent key:  2017_BkmM8Dceg\n",
      "Absent key:  2017_Bks8cPcxe\n",
      "Absent key:  2017_Bygq-H9eg\n",
      "Absent key:  2017_Byk-VI9eg\n",
      "Absent key:  2017_BymIbLKgl\n",
      "Absent key:  2017_BysvGP5ee\n",
      "Absent key:  2017_H1GEvHcee\n",
      "Absent key:  2017_H1Heentlx\n",
      "Absent key:  2017_H1W1UN9gg\n",
      "Absent key:  2017_H1eLE8qlx\n",
      "Absent key:  2017_HJWHIKqgl\n",
      "Absent key:  2017_HJrDIpiee\n",
      "Absent key:  2017_Hk4_qw5xe\n",
      "Absent key:  2017_HkLXCE9lx\n",
      "Absent key:  2017_Hkg8bDqee\n",
      "Absent key:  2017_HyGTuv9eg\n",
      "Absent key:  2017_HyM25Mqel\n",
      "Absent key:  2017_HyecJGP5ge\n",
      "Absent key:  2017_S1HEBe_Jl\n",
      "Absent key:  2017_S1J0E-71l\n",
      "Absent key:  2017_S1VaB4cex\n",
      "Absent key:  2017_SJ-uGHcee\n",
      "Absent key:  2017_SJ3rcZcxl\n",
      "Absent key:  2017_SJ6yPD5xg\n",
      "Absent key:  2017_SJAr0QFxe\n",
      "Absent key:  2017_SJBr9Mcxl\n",
      "Absent key:  2017_SJRpRfKxx\n",
      "Absent key:  2017_SJgWQPcxl\n",
      "Absent key:  2017_SJiFvr9el\n",
      "Absent key:  2017_Sk-oDY9ge\n",
      "Absent key:  2017_Sk8csP5ex\n",
      "Absent key:  2017_SkC_7v5gx\n",
      "Absent key:  2017_SkYbF1slg\n",
      "Absent key:  2017_SkpSlKIel\n",
      "Absent key:  2017_Sy1rwtKxg\n",
      "Absent key:  2017_Sy6iJDqlx\n",
      "Absent key:  2017_Sy8gdB9xx\n",
      "Absent key:  2017_SyOvg6jxx\n",
      "Absent key:  2017_SyW2QSige\n",
      "Absent key:  2017_SyWvgP5el\n",
      "Absent key:  2017_r1nTpv9eg\n",
      "Absent key:  2017_rJ8uNptgl\n",
      "Absent key:  2017_rJXTf9Bxg\n",
      "Absent key:  2017_rJe-Pr9le\n",
      "Absent key:  2017_rJiNwv9gg\n",
      "Absent key:  2017_rJxDkvqee\n",
      "Absent key:  2017_rJxdQ3jeg\n",
      "Absent key:  2017_rkEFLFqee\n",
      "Absent key:  2017_rkpACe1lx\n",
      "Absent key:  2017_ry4Vrt5gl\n",
      "Absent key:  2017_ryF7rTqgl\n",
      "Absent key:  2017_ryHlUtqge\n",
      "Absent key:  2017_ryT4pvqll\n",
      "Absent key:  2017_ryXZmzNeg\n",
      "Absent key:  2018_B13njo1R-\n",
      "Absent key:  2018_B17JTOe0-\n",
      "Absent key:  2018_B18WgG-CZ\n",
      "Absent key:  2018_B1DmUzWAW\n",
      "Absent key:  2018_B1EPYJ-C-\n",
      "Absent key:  2018_B1IDRdeCW\n",
      "Absent key:  2018_B1J_rgWRW\n",
      "Absent key:  2018_B1Yy1BxCZ\n",
      "Absent key:  2018_B1n8LexRZ\n",
      "Absent key:  2018_B1p461b0W\n",
      "Absent key:  2018_BJ0hF1Z0b\n",
      "Absent key:  2018_BJ8c3f-0b\n",
      "Absent key:  2018_BJE-4xW0W\n",
      "Absent key:  2018_BJGWO9k0Z\n",
      "Absent key:  2018_BJ_wN01C-\n",
      "Absent key:  2018_BJgPCveAW\n",
      "Absent key:  2018_BJij4yg0Z\n",
      "Absent key:  2018_BJk7Gf-CZ\n",
      "Absent key:  2018_Bk8ZcAxR-\n",
      "Absent key:  2018_BkIkkseAZ\n",
      "Absent key:  2018_BkJ3ibb0-\n",
      "Absent key:  2018_BkQCGzZ0-\n",
      "Absent key:  2018_BkQqq0gRb\n",
      "Absent key:  2018_BkwHObbRZ\n",
      "Absent key:  2018_By5ugjyCb\n",
      "Absent key:  2018_ByJDAIe0b\n",
      "Absent key:  2018_ByJWeR1AW\n",
      "Absent key:  2018_ByQpn1ZA-\n",
      "Absent key:  2018_ByeqORgAW\n",
      "Absent key:  2018_Byk4My-RZ\n",
      "Absent key:  2018_H1-nGgWC-\n",
      "Absent key:  2018_H1-oTz-Cb\n",
      "Absent key:  2018_H11lAfbCW\n",
      "Absent key:  2018_H135uzZ0-\n",
      "Absent key:  2018_H15odZ-C-\n",
      "Absent key:  2018_H1DJFybC-\n",
      "Absent key:  2018_H1MczcgR-\n",
      "Absent key:  2018_H1UOm4gA-\n",
      "Absent key:  2018_H1U_af-0-\n",
      "Absent key:  2018_H1aIuk-RW\n",
      "Absent key:  2018_H1dh6Ax0Z\n",
      "Absent key:  2018_H1kMMmb0-\n",
      "Absent key:  2018_H1pri9vTZ\n",
      "Absent key:  2018_H1u8fMW0b\n",
      "Absent key:  2018_H1wt9x-RW\n",
      "Absent key:  2018_H1zriGeCZ\n",
      "Absent key:  2018_HJIhGXWCZ\n",
      "Absent key:  2018_HJXOfZ-AZ\n",
      "Absent key:  2018_HJr4QJ26W\n",
      "Absent key:  2018_HJtEm4p6Z\n",
      "Absent key:  2018_Hk2aImxAb\n",
      "Absent key:  2018_Hk6kPgZA-\n",
      "Absent key:  2018_Hk9Xc_lR-\n",
      "Absent key:  2018_HkNGsseC-\n",
      "Absent key:  2018_HkZy-bW0-\n",
      "Absent key:  2018_HkjL6MiTb\n",
      "Absent key:  2018_Hkn7CBaTW\n",
      "Absent key:  2018_HktK4BeCZ\n",
      "Absent key:  2018_HkwBEMWCZ\n",
      "Absent key:  2018_Hy6GHpkCW\n",
      "Absent key:  2018_HyDAQl-AW\n",
      "Absent key:  2018_HyH9lbZAW\n",
      "Absent key:  2018_HyWrIgW0W\n",
      "Absent key:  2018_HyXBcYg0b\n",
      "Absent key:  2018_HyjC5yWCW\n",
      "Absent key:  2018_Hyp-JJJRW\n",
      "Absent key:  2018_HyrCWeWCb\n",
      "Absent key:  2018_S191YzbRZ\n",
      "Absent key:  2018_S1DWPP1A-\n",
      "Absent key:  2018_S1EwLkW0W\n",
      "Absent key:  2018_S1HlA-ZAZ\n",
      "Absent key:  2018_S1WRibb0Z\n",
      "Absent key:  2018_S1Y7OOlRZ\n",
      "Absent key:  2018_S1cZsf-RW\n",
      "Absent key:  2018_S1vuO-bCW\n",
      "Absent key:  2018_SJ19eUg0-\n",
      "Absent key:  2018_SJ60SbW0b\n",
      "Absent key:  2018_SJIA6ZWC-\n",
      "Absent key:  2018_SJJinbWRZ\n",
      "Absent key:  2018_SJahqJZAW\n",
      "Absent key:  2018_SJcKhk-Ab\n",
      "Absent key:  2018_SJdCUMZAW\n",
      "Absent key:  2018_SJi9WOeRb\n",
      "Absent key:  2018_SJn0sLgRb\n",
      "Absent key:  2018_SJvrXqvaZ\n",
      "Absent key:  2018_SJvu-GW0b\n",
      "Absent key:  2018_SJzMATlAZ\n",
      "Absent key:  2018_SkA-IE06W\n",
      "Absent key:  2018_SkFAWax0-\n",
      "Absent key:  2018_SkPoRg10b\n",
      "Absent key:  2018_SkT5Yg-RZ\n",
      "Absent key:  2018_SkYibHlRb\n",
      "Absent key:  2018_Skp1ESxRZ\n",
      "Absent key:  2018_Skw0n-W0Z\n",
      "Absent key:  2018_Skx5txzb0W\n",
      "Absent key:  2018_Skz_WfbCZ\n",
      "Absent key:  2018_Sy-tszZRZ\n",
      "Absent key:  2018_SyAbZb-0Z\n",
      "Absent key:  2018_SyL9u-WA-\n",
      "Absent key:  2018_SyProzZAW\n",
      "Absent key:  2018_SyX0IeWAW\n",
      "Absent key:  2018_SyZI0GWCZ\n",
      "Absent key:  2018_SyZipzbCb\n",
      "Absent key:  2018_SyhRVm-Rb\n",
      "Absent key:  2018_Syhr6pxCW\n",
      "Absent key:  2018_SywXXwJAb\n",
      "Absent key:  2018_r1CE9GWR-\n",
      "Absent key:  2018_r1DPFCyA-\n",
      "Absent key:  2018_r1HhRfWRZ\n",
      "Absent key:  2018_r1Oen--RW\n",
      "Absent key:  2018_r1VVsebAZ\n",
      "Absent key:  2018_r1ZdKJ-0W\n",
      "Absent key:  2018_r1drp-WCZ\n",
      "Absent key:  2018_r1iuQjxCZ\n",
      "Absent key:  2018_r1kj4ACp-\n",
      "Absent key:  2018_r1q7n9gAb\n",
      "Absent key:  2018_rJ33wwxRb\n",
      "Absent key:  2018_rJGZq6g0-\n",
      "Absent key:  2018_rJQDjk-0b\n",
      "Absent key:  2018_rJUYGxbCW\n",
      "Absent key:  2018_rJzIBfZAb\n",
      "Absent key:  2018_rk49Mg-CW\n",
      "Absent key:  2018_rkQkBnJAb\n",
      "Absent key:  2018_rkTBjG-AZ\n",
      "Absent key:  2018_rkWN3g-AZ\n",
      "Absent key:  2018_rkcQFMZRb\n",
      "Absent key:  2018_rkcya1ZAW\n",
      "Absent key:  2018_rkrWCJWAW\n",
      "Absent key:  2018_ry0WOxbRZ\n",
      "Absent key:  2018_ry1arUgCW\n",
      "Absent key:  2018_ry80wMW0W\n",
      "Absent key:  2018_ryH20GbRW\n",
      "Absent key:  2018_ryH_bShhW\n",
      "Absent key:  2018_ryQu7f-RZ\n",
      "Absent key:  2018_ryUlhzWCZ\n",
      "Absent key:  2018_ryepFJbA-\n",
      "Absent key:  2018_ryj38zWRb\n",
      "Absent key:  2019_B1MAJhR5YX\n",
      "Absent key:  2019_B1MB5oRqtQ\n",
      "Absent key:  2019_B1MIBs05F7\n",
      "Absent key:  2019_B1e9csRcFm\n",
      "Absent key:  2019_B1eKk2CcKm\n",
      "Absent key:  2019_B1eSg3C9Ym\n",
      "Absent key:  2019_B1ffQnRcKX\n",
      "Absent key:  2019_B1x9siCcYQ\n",
      "Absent key:  2019_BJG0voC9YQ\n",
      "Absent key:  2019_BJGjOi09t7\n",
      "Absent key:  2019_BJWfW2C9Y7\n",
      "Absent key:  2019_BJe1E2R5KX\n",
      "Absent key:  2019_BJemQ209FQ\n",
      "Absent key:  2019_BJesDsA9t7\n",
      "Absent key:  2019_BJfYvo09Y7\n",
      "Absent key:  2019_BJf_YjCqYX\n",
      "Absent key:  2019_BJgqqsAct7\n",
      "Absent key:  2019_BJl4f2A5tQ\n",
      "Absent key:  2019_BJl6TjRcY7\n",
      "Absent key:  2019_BJlXUsR5KQ\n",
      "Absent key:  2019_BJlxm30cKm\n",
      "Absent key:  2019_BJxOHs0cKm\n",
      "Absent key:  2019_BJxhijAcY7\n",
      "Absent key:  2019_BJzbG20cFQ\n",
      "Absent key:  2019_Bke96sC5tm\n",
      "Absent key:  2019_BkeK-nRcFX\n",
      "Absent key:  2019_BkedwoC5t7\n",
      "Absent key:  2019_Bkeuz20cYm\n",
      "Absent key:  2019_Bkf1tjR9KQ\n",
      "Absent key:  2019_Bkg3g2R9FX\n",
      "Absent key:  2019_Bkg6RiCqY7\n",
      "Absent key:  2019_Bkg8jjC9KQ\n",
      "Absent key:  2019_BkgFqiAqFX\n",
      "Absent key:  2019_BkgVx3A9Km\n",
      "Absent key:  2019_BkgWHnR5tm\n",
      "Absent key:  2019_BklHpjCqKm\n",
      "Absent key:  2019_BklMjsRqY7\n",
      "Absent key:  2019_Bklfsi0cKm\n",
      "Absent key:  2019_BkzeUiRcY7\n",
      "Absent key:  2019_ByG_3s09KX\n",
      "Absent key:  2019_Bye5SiAqKX\n",
      "Absent key:  2019_Bye9LiR9YX\n",
      "Absent key:  2019_ByeLBj0qFQ\n",
      "Absent key:  2019_ByeTHsAqtX\n",
      "Absent key:  2019_Byey7n05FQ\n",
      "Absent key:  2019_BygNqoR9tm\n",
      "Absent key:  2019_BygqBiRcFQ\n",
      "Absent key:  2019_BylIciRcYQ\n",
      "Absent key:  2019_BylQV305YQ\n",
      "Absent key:  2019_ByxLl309Ym\n",
      "Absent key:  2019_ByxPYjC5KQ\n",
      "Absent key:  2019_H1MBuiAqtX\n",
      "Absent key:  2019_H1eRBoC9FX\n",
      "Absent key:  2019_H1emus0qF7\n",
      "Absent key:  2019_H1g6osRcFQ\n",
      "Absent key:  2019_H1lC8o0cKX\n",
      "Absent key:  2019_H1ltQ3R9KQ\n",
      "Absent key:  2019_H1lug3R5FX\n",
      "Absent key:  2019_S1MAriC5F7\n",
      "Absent key:  2019_Ske7ToC5Km\n",
      "Absent key:  tcount\n"
     ]
    }
   ],
   "source": [
    "count = 0\n",
    "\n",
    "for k in leaderboard_table_refs:\n",
    "    if \"tcount\" in leaderboard_table_refs:\n",
    "        if k in NEW_leaderboard_refs:\n",
    "            if \"count\" in NEW_leaderboard_refs[k]:\n",
    "                if NEW_leaderboard_refs[k][\"count\"] == 0 and (leaderboard_table_refs[k][\"tcount\"][1]+leaderboard_table_refs[k][\"tcount\"][2])>0:\n",
    "                    count += 1\n",
    "            else:\n",
    "                print(\"count absent in NEW: \", leaderboard_refs[k])\n",
    "        else:\n",
    "            print(\"Absent key: \", k)\n",
    "    else:\n",
    "        print(\"tcount absent: \", leaderboard_table_refs[k])"
   ]
  },
  {
   "cell_type": "code",
   "execution_count": 32,
   "metadata": {},
   "outputs": [
    {
     "data": {
      "text/plain": [
       "459"
      ]
     },
     "execution_count": 32,
     "metadata": {},
     "output_type": "execute_result"
    }
   ],
   "source": [
    "count"
   ]
  },
  {
   "cell_type": "code",
   "execution_count": 31,
   "metadata": {},
   "outputs": [
    {
     "data": {
      "text/plain": [
       "(963, 688)"
      ]
     },
     "execution_count": 31,
     "metadata": {},
     "output_type": "execute_result"
    }
   ],
   "source": [
    "len(leaderboard_table_refs), len(NEW_leaderboard_refs)"
   ]
  },
  {
   "cell_type": "markdown",
   "metadata": {},
   "source": [
    "### Escape above errors"
   ]
  },
  {
   "cell_type": "code",
   "execution_count": 40,
   "metadata": {},
   "outputs": [
    {
     "data": {
      "text/plain": [
       "{'id': '2018_HyDAQl-AW',\n",
       " 'title': 'Time Limits in Reinforcement Learning',\n",
       " 'abstract': \"In reinforcement learning, it is common to let an agent interact with its environment for a fixed amount of time before resetting the environment and repeating the process in a series of episodes. The task that the agent has to learn can either be to maximize its performance over (i) that fixed amount of time, or (ii) an indefinite period where the time limit is only used during training. In this paper, we investigate theoretically how time limits could effectively be handled in each of the two cases. In the first one, we argue that the terminations due to time limits are in fact part of the environment, and propose to include a notion of the remaining time as part of the agent's input. In the second case, the time limits are not part of the environment and are only used to facilitate learning. We argue that such terminations should not be treated as environmental ones and propose a method, specific to value-based algorithms, that incorporates this insight by continuing to bootstrap at the end of each partial episode. To illustrate the significance of our proposals, we perform several experiments on a range of environments from simple few-state transition graphs to complex control tasks, including novel and standard benchmark domains. Our results show that the proposed methods improve the performance and stability of existing reinforcement learning algorithms.\",\n",
       " 'authors': ['Fabio Pardo',\n",
       "  'Arash Tavakoli',\n",
       "  'Vitaly Levdik',\n",
       "  'Petar Kormushev'],\n",
       " 'label': 'Reject',\n",
       " 'found': True,\n",
       " 'arxivId': '1712.00378v3'}"
      ]
     },
     "execution_count": 40,
     "metadata": {},
     "output_type": "execute_result"
    }
   ],
   "source": [
    "iclr_arxiv_map[\"2018_HyDAQl-AW\"]"
   ]
  },
  {
   "cell_type": "code",
   "execution_count": null,
   "metadata": {},
   "outputs": [],
   "source": [
    "2019_BJgqqsAct7, 2017_HyM25Mqel, 2018_HyDAQl-AW : no tables"
   ]
  },
  {
   "cell_type": "code",
   "execution_count": null,
   "metadata": {},
   "outputs": [],
   "source": [
    "2019_BJxhijAcY7,  - table present in figure"
   ]
  },
  {
   "cell_type": "code",
   "execution_count": null,
   "metadata": {},
   "outputs": [],
   "source": [
    "2019_BkgWHnR5tm(abl tables present of hyperparams), 2018_S1DWPP1A-, 2018_BJE-4xW0W(37 page paper with proofs and graph figs) : results in terms of graph figs"
   ]
  },
  {
   "cell_type": "code",
   "execution_count": null,
   "metadata": {},
   "outputs": [],
   "source": [
    "2017_SJgWQPcxl(MNIST rejected in ICLR for same reason) - cannot find results"
   ]
  },
  {
   "cell_type": "code",
   "execution_count": null,
   "metadata": {},
   "outputs": [],
   "source": [
    "2017_HJrDIpiee - some result in figure and most results are themselves ablation like \n",
    "metric is num_epochs_rqurd_to_reach_18_points_in_pong\n",
    "# but since the contribution is primarily empirical rather than conceptual and algorithmic,\n",
    "# there is a high bar for the rigorousness of the experiments. The reviewers generally did not find \n",
    "# the evaluation to be compelling enough in this regard."
   ]
  },
  {
   "cell_type": "code",
   "execution_count": null,
   "metadata": {},
   "outputs": [],
   "source": []
  },
  {
   "cell_type": "markdown",
   "metadata": {},
   "source": [
    "# Just do it"
   ]
  },
  {
   "cell_type": "code",
   "execution_count": 54,
   "metadata": {},
   "outputs": [
    {
     "name": "stdout",
     "output_type": "stream",
     "text": [
      "[('2017_B1-Hhnslg', {'refs': {'ldb': [\"<ref id='bib-bib17'>2016</ref>\", \"<ref id='bib-bib1'>2013</ref>\", \"<ref id='bib-bib23'>2016</ref>\", \"<ref id='bib-bib29'>2016</ref>\", \"<ref id='bib-bib2'>2015</ref>\", \"<ref id='bib-bib22'>2017</ref>\", \"<ref id='bib-bib6'>2017</ref>\"], 'abl': []}, 'count': 12}), ('2017_B1-q5Pqxl', {'refs': {'ldb': []}, 'count': 0})]\n"
     ]
    }
   ],
   "source": [
    "# Check if count field is present in all\n",
    "for k in NEW_leaderboard_refs:\n",
    "    if not \"count\" in NEW_leaderboard_refs[k]:\n",
    "        print(k)\n",
    "\n",
    "print(list(NEW_leaderboard_refs.items())[0:2])"
   ]
  },
  {
   "cell_type": "code",
   "execution_count": 59,
   "metadata": {},
   "outputs": [],
   "source": [
    "for k in leaderboard_table_refs:\n",
    "    if not \"tcount\" in leaderboard_table_refs[k]:\n",
    "        print(leaderboard_table_refs[k])"
   ]
  },
  {
   "cell_type": "code",
   "execution_count": 55,
   "metadata": {},
   "outputs": [],
   "source": [
    "# Update correct count (there was some case where some ref was present but count was 0)\n",
    "# print(list(NEW_leaderboard_refs.items())[0:2], end=\"\\n\\n\")\n",
    "\n",
    "for k in NEW_leaderboard_refs:\n",
    "    if \"refs\" in NEW_leaderboard_refs[k]:\n",
    "        refcount = 0\n",
    "        if \"ldb\" in NEW_leaderboard_refs[k][\"refs\"]:\n",
    "            refcount += len(NEW_leaderboard_refs[k][\"refs\"][\"ldb\"])\n",
    "        if \"abl\" in NEW_leaderboard_refs[k][\"refs\"]:\n",
    "            refcount += len(NEW_leaderboard_refs[k][\"refs\"][\"abl\"])\n",
    "        \n",
    "        if refcount > 0 and NEW_leaderboard_refs[k][\"count\"]==0:\n",
    "            print(k)"
   ]
  },
  {
   "cell_type": "code",
   "execution_count": 62,
   "metadata": {},
   "outputs": [
    {
     "name": "stdout",
     "output_type": "stream",
     "text": [
      "459\n"
     ]
    }
   ],
   "source": [
    "count = 0\n",
    "for k in leaderboard_table_refs:\n",
    "    try:\n",
    "        if (leaderboard_table_refs[k][\"tcount\"][1] + leaderboard_table_refs[k][\"tcount\"][2]) > 0:\n",
    "            if k in NEW_leaderboard_refs and NEW_leaderboard_refs[k][\"count\"]==0:\n",
    "                count += 1\n",
    "    except Exception as ex:\n",
    "        print(k)\n",
    "        print(ex)\n",
    "print(count)"
   ]
  },
  {
   "cell_type": "code",
   "execution_count": 58,
   "metadata": {},
   "outputs": [],
   "source": []
  },
  {
   "cell_type": "code",
   "execution_count": 63,
   "metadata": {},
   "outputs": [
    {
     "name": "stdout",
     "output_type": "stream",
     "text": [
      "229\n"
     ]
    }
   ],
   "source": [
    "count = 0\n",
    "for k in leaderboard_table_refs:\n",
    "    try:\n",
    "        if (leaderboard_table_refs[k][\"tcount\"][1] + leaderboard_table_refs[k][\"tcount\"][2]) > 0:\n",
    "            if k in NEW_leaderboard_refs and NEW_leaderboard_refs[k][\"count\"]>0:\n",
    "                count += 1\n",
    "    except Exception as ex:\n",
    "        print(k)\n",
    "        print(ex)\n",
    "print(count)"
   ]
  },
  {
   "cell_type": "code",
   "execution_count": 64,
   "metadata": {},
   "outputs": [
    {
     "data": {
      "text/plain": [
       "0.23804573804573806"
      ]
     },
     "execution_count": 64,
     "metadata": {},
     "output_type": "execute_result"
    }
   ],
   "source": [
    "229/len(leaderboard_table_refs)"
   ]
  },
  {
   "cell_type": "code",
   "execution_count": null,
   "metadata": {},
   "outputs": [],
   "source": []
  },
  {
   "cell_type": "code",
   "execution_count": null,
   "metadata": {},
   "outputs": [],
   "source": []
  },
  {
   "cell_type": "markdown",
   "metadata": {},
   "source": [
    "## Add from table caption"
   ]
  },
  {
   "cell_type": "markdown",
   "metadata": {},
   "source": [
    "#### 1. check if any entry is missed by mistake"
   ]
  },
  {
   "cell_type": "code",
   "execution_count": null,
   "metadata": {},
   "outputs": [],
   "source": []
  },
  {
   "cell_type": "code",
   "execution_count": 235,
   "metadata": {},
   "outputs": [],
   "source": [
    "unextracted_papers = []\n",
    "table_types_absent = []\n",
    "new_table_counts = defaultdict(dict)\n",
    "new_zero_table_counts = defaultdict(dict)\n",
    "\n",
    "status_count = 0"
   ]
  },
  {
   "cell_type": "code",
   "execution_count": 236,
   "metadata": {},
   "outputs": [
    {
     "name": "stdout",
     "output_type": "stream",
     "text": [
      "Status:  0\n",
      "Status:  100\n",
      "Status:  200\n",
      "For k: 2018_ByJWeR1AW, found unknown table type: \n",
      "For k: 2018_ByJWeR1AW, found unknown table type: \n",
      "Status:  300\n",
      "Status:  400\n",
      "Status:  500\n",
      "Status:  500\n",
      "Status:  600\n",
      "Status:  700\n",
      "Status:  800\n",
      "Status:  900\n",
      "Status:  900\n",
      "Status:  1000\n",
      "Status:  1100\n",
      "Status:  1200\n",
      "Status:  1300\n",
      "Status:  1400\n",
      "For k: 2020_H1eqOnNYDH, found unknown table type: \n",
      "For k: 2020_H1eqOnNYDH, found unknown table type: \n",
      "Status:  1500\n",
      "Status:  1600\n",
      "Status:  1700\n",
      "Status:  1800\n",
      "Status:  1900\n"
     ]
    }
   ],
   "source": [
    "for k, v in iclr_arxiv_map.items():\n",
    "    if v[\"found\"]:\n",
    "        if status_count % 100 == 0:\n",
    "            print(\"Status: \", status_count)\n",
    "\n",
    "        try:\n",
    "            path_split = v[\"arxivId\"].split(\".\")\n",
    "\n",
    "            # Extraction\n",
    "            #extract(SOURCES_PATH / path_split[0] / v[\"arxivId\"])\n",
    "\n",
    "            paper = pc.get_by_id(v[\"arxivId\"])\n",
    "\n",
    "            if not paper:\n",
    "                unextracted_papers.append(k)\n",
    "                continue\n",
    "\n",
    "            if len(paper.tables) > 0:                    \n",
    "                # Add table type if absent\n",
    "                if paper.tables[0].gold_tags == \"\":\n",
    "                    if k in table_label_info:\n",
    "                        for idx, t in enumerate(paper.tables):\n",
    "                            t.gold_tags = table_label_info[k][idx]\n",
    "                    else:\n",
    "                        table_types_absent.append(k)\n",
    "                        continue\n",
    "\n",
    "                #Count the different types of tables\n",
    "                table_type_count = [0, 0, 0]\n",
    "                for tt in paper.tables:\n",
    "                    if tt.gold_tags.lower().strip() == \"leaderboard\":\n",
    "                        table_type_count[0] = table_type_count[0] + 1\n",
    "                    elif tt.gold_tags.lower().strip() == \"ablation\":\n",
    "                        table_type_count[1] = table_type_count[1] + 1\n",
    "                    elif tt.gold_tags.lower().strip() == \"irrelevant\":\n",
    "                        table_type_count[2] = table_type_count[2] + 1\n",
    "                    else:\n",
    "                        print(\"For k: {}, found unknown table type: {}\".format(k, tt.gold_tags))\n",
    "\n",
    "                # Save table stat in leaderboard_table_refs\n",
    "                new_table_counts[k][\"tcount\"] = [len(paper.tables), table_type_count[0], table_type_count[1], table_type_count[2]]\n",
    "            else:\n",
    "                new_zero_table_counts[k][\"tcount\"] = [0, 0, 0, 0]\n",
    "            \n",
    "            if k in new_table_counts:\n",
    "                new_table_counts[k][\"table_labels\"] = []\n",
    "                for tablerol in paper.tables:\n",
    "                    new_table_counts[k][\"table_labels\"].append((tablerol.gold_tags,))\n",
    "                status_count += 1\n",
    "        except Exception as ex:\n",
    "            print(k, ex)"
   ]
  },
  {
   "cell_type": "code",
   "execution_count": 237,
   "metadata": {},
   "outputs": [
    {
     "name": "stdout",
     "output_type": "stream",
     "text": [
      "1988 387 129 0\n"
     ]
    }
   ],
   "source": [
    "print(len(list(new_table_counts.keys())), len(new_zero_table_counts), len(unextracted_papers), len(table_types_absent))"
   ]
  },
  {
   "cell_type": "code",
   "execution_count": 238,
   "metadata": {},
   "outputs": [
    {
     "data": {
      "text/plain": [
       "2504"
      ]
     },
     "execution_count": 238,
     "metadata": {},
     "output_type": "execute_result"
    }
   ],
   "source": [
    "1988+387+129 #Is equal to the number of papers in iclr_arxiv_source_map found with arxiv source i.e. 2504"
   ]
  },
  {
   "cell_type": "code",
   "execution_count": null,
   "metadata": {},
   "outputs": [],
   "source": []
  },
  {
   "cell_type": "markdown",
   "metadata": {},
   "source": [
    "#### 1.1 Inspect overwhelming number of table type absent"
   ]
  },
  {
   "cell_type": "code",
   "execution_count": 127,
   "metadata": {},
   "outputs": [
    {
     "data": {
      "text/plain": [
       "['2017_B1s6xvqlx', '2019_H1x-x309tm', '2019_H1x1noAqKX', '2019_H1xEwsR9FX']"
      ]
     },
     "execution_count": 127,
     "metadata": {},
     "output_type": "execute_result"
    }
   ],
   "source": [
    "table_types_absent[0:4]"
   ]
  },
  {
   "cell_type": "code",
   "execution_count": 130,
   "metadata": {},
   "outputs": [
    {
     "name": "stdout",
     "output_type": "stream",
     "text": [
      "1808.02941v2\n",
      "index.html\n",
      "layout_01.csv  metadata.json  table_01.csv  text.json\n",
      "1\n",
      "Table 1: Variants of generalized Adam\n"
     ]
    },
    {
     "data": {
      "text/html": [
       "<style>\n",
       "body{margin:0;padding:0;font-family:-apple-system,BlinkMacSystemFont,Segoe UI,Roboto,Oxygen,Ubuntu,Cantarell,Fira Sans,Droid Sans,Helvetica Neue,sans-serif;-webkit-font-smoothing:antialiased;-moz-osx-font-smoothing:grayscale}code{font-family:source-code-pro,Menlo,Monaco,Consolas,Courier New,monospace}.tableWrapper{-overflow:auto}.tableWrapper .has-annotations{color:#ff3860}.tableWrapper .model-params{background-color:#209cee;color:rgba(0,0,0,.7)}.tableWrapper .table-meta{background-color:#fff3c5;color:rgba(0,0,0,.7)}.tableWrapper .model-best{background-color:#ff3860;color:rgba(0,0,0,.7)}.tableWrapper .model-ensemble{background-color: #aa38ff;color: #fff;}.tableWrapper .model-competing{background-color:#ffdd57;color:rgba(0,0,0,.7)}.tableWrapper .model-paper{background-color:#ff3860;color:#fff}.tableWrapper .dataset-sub{background-color:#23d160;color:#fff}.tableWrapper .dataset-metric{background-color:#209cee;color:#fff}.tableWrapper .dataset{background-color:#02bd43;color:#fff}.tableWrapper .trash{background-color:#363636;color:#f5f5f5}.tableWrapper .wtf{background-color:#f0f;color:#f5f5f5}.tableWrapper .dataset-task{background-color:#77ecdd;color:rgba(0,0,0,.7)}.tableWrapper .dataset-paper{background-color:#e4ffee;color:rgba(0,0,0,.7)}.tableWrapper td.focused-cell{outline:2px solid #9ecaed;border-radius:7px;box-shadow:0 0 10px #9ecaed}.tableWrapper span.text-bold{font-weight:700}.tableWrapper span.text-italic{font-style:italic}.tableWrapper span.text-red{color:red}.tableWrapper span.text-green{color:green}.tableWrapper span.text-blue{color:#00f}.predict-dataset,.predict-dataset-metric,.predict-model-competing,.predict-model-paper,.predict-model-params,.predict-table-meta{outline:2px solid #9ecaed;border-radius:7px;box-shadow:0 0 10px #9ecaed}.tableWrapper .predict-model-params{background-color:#209cee;color:rgba(0,0,0,.7)}.tableWrapper .predict-table-meta{background-color:#fff3c5;color:rgba(0,0,0,.7)}.tableWrapper .predict-model-competing{background-color:#ffdd57;color:rgba(0,0,0,.7)}.tableWrapper .predict-model-paper{background-color:#ff3860;color:#fff}.tableWrapper .predict-dataset-metric{background-color:#209cee;color:#fff}.tableWrapper .predict-dataset{background-color:#02bd43;color:#fff}.tableWrapper td{border:inherit}.tableWrapper table tr td.border-l{border-left:1px solid #000}.tableWrapper table tr td.border-r{border-right:1px solid #000}.tableWrapper table tr td.border-t{border-top:1px solid #000}.tableWrapper table tr td.border-b{border-bottom:1px solid #000}.tableWrapper table tr td.border-ll{border-left:2px solid #000}.tableWrapper table tr td.border-rr{border-right:2px solid #000}.tableWrapper table tr td.border-tt{border-top:2px solid #000}.tableWrapper table tr td.border-bb{border-bottom:2px solid #000}.tableWrapper table tr td.align-left{text-align:left}.tableWrapper table tr td.align-right{text-align:right}.tableWrapper table tr td.align-center{text-align:center}.tableWrapper table tr td.align-justify{text-align:justify}div.form-group>input.form-control.input-sm{border-radius:2px;font-size:.75rem;background-color:#fff;color:#363636;box-shadow:inset 0 1px 2px rgba(10,10,10,.1);max-width:100%;width:100%;height:2.25em;padding:calc(.375em - 1px) calc(.625em - 1px);position:relative;border:1px solid #b5b5b5}div.form-group>input.form-control.input-sm:focus{border-color:#3273dc;box-shadow:0 0 0 .125em rgba(50,115,220,.25)}.ht_clone_top{z-index:20}.evaluation-tables{overflow:scroll;max-height:20vh;border-top:1px solid #a9a9a9}.navbar.is-fixed-bottom,.navbar.is-fixed-top{z-index:200}body{padding-bottom:20vh}\n",
       ".tableWrapper .final-proposal{ background: lightgreen }\n",
       "</style>\n",
       "\n",
       "<div class=\"tableWrapper\">\n",
       "<table>\n",
       "<tr>\n",
       "<td class=\" border-l border-r border-t align-center \" title=\"\">^<span class=\"text-italic\">vtβ</span>1,<span class=\"text-italic\">t</span></td>\n",
       "<td class=\" border-r border-t align-center \" title=\"\"><span class=\"text-italic\">β</span>1,<span class=\"text-italic\">t</span>=0</td>\n",
       "<td class=\" border-r border-t align-center \" title=\"\"><span class=\"text-italic\">β</span>1,<span class=\"text-italic\">t</span>≤<span class=\"text-italic\">β</span>1,<span class=\"text-italic\">t</span>−1 <span class=\"text-italic\">β</span>1,<span class=\"text-italic\">t</span>−−−→<span class=\"text-italic\">t</span>→∞<span class=\"text-italic\">b</span>≥0</td>\n",
       "<td class=\" border-r border-t align-center \" title=\"\"><span class=\"text-italic\">β</span>1,<span class=\"text-italic\">t</span>=<span class=\"text-italic\">β</span>1</td>\n",
       "</tr>\n",
       "<tr>\n",
       "<td class=\" border-l border-r border-t align-center \" title=\"\">^<span class=\"text-italic\">vt</span>=1</td>\n",
       "<td class=\" border-r border-t align-center \" title=\"\">SGD</td>\n",
       "<td class=\" border-r border-t align-center \" title=\"\">N/A∗</td>\n",
       "<td class=\" border-r border-t align-center \" title=\"\">Heavy-ball method</td>\n",
       "</tr>\n",
       "<tr>\n",
       "<td class=\" border-l border-r border-t align-center \" title=\"\">^<span class=\"text-italic\">vt</span>=1<span class=\"text-italic\">t</span>∑<span class=\"text-italic\">ti</span>=1<span class=\"text-italic\">g</span>2<span class=\"text-italic\">i</span></td>\n",
       "<td class=\" border-r border-t align-center \" title=\"\">AdaGrad</td>\n",
       "<td class=\" border-r border-t align-center \" title=\"\">AdaFom</td>\n",
       "<td class=\" border-r border-t align-center \" title=\"\">AdaFom</td>\n",
       "</tr>\n",
       "<tr>\n",
       "<td class=\" border-l border-r border-t align-center \" title=\"\"><span class=\"text-italic\">vt</span>=<span class=\"text-italic\">β</span>2<span class=\"text-italic\">vt</span>−1+(1−<span class=\"text-italic\">β</span>2)<span class=\"text-italic\">g</span>2<span class=\"text-italic\">t</span>, ^<span class=\"text-italic\">vt</span>=max(^<span class=\"text-italic\">vt</span>−1,<span class=\"text-italic\">vt</span>)</td>\n",
       "<td class=\" border-r border-t align-center \" title=\"\">AMSGrad</td>\n",
       "<td class=\" border-r border-t align-center \" title=\"\">AMSGrad</td>\n",
       "<td class=\" border-r border-t align-center \" title=\"\">AMSGrad</td>\n",
       "</tr>\n",
       "<tr>\n",
       "<td class=\" border-b border-l border-r border-t align-center \" title=\"\">^<span class=\"text-italic\">vt</span>=<span class=\"text-italic\">β</span>2^<span class=\"text-italic\">vt</span>−1+(1−<span class=\"text-italic\">β</span>2)<span class=\"text-italic\">g</span>2<span class=\"text-italic\">t</span></td>\n",
       "<td class=\" border-b border-r border-t align-center \" title=\"\">RMSProp</td>\n",
       "<td class=\" border-b border-r border-t align-center \" title=\"\">N/A</td>\n",
       "<td class=\" border-b border-r border-t align-center \" title=\"\">Adam</td>\n",
       "</tr>\n",
       "</table>\n",
       "</div>"
      ],
      "text/plain": [
       "<axcell.data.table.Table at 0x7f37efeccac8>"
      ]
     },
     "execution_count": 130,
     "metadata": {},
     "output_type": "execute_result"
    }
   ],
   "source": [
    "print(iclr_arxiv_map[\"2019_H1x-x309tm\"][\"arxivId\"])\n",
    "paper = pc.get_by_id(\"1808.02941v2\")\n",
    "!ls data/htmls/1808/1808.02941v2/\n",
    "!ls data/papers/1808/1808.02941v2/\n",
    "print(len(paper.tables))\n",
    "print(paper.tables[0].caption)\n",
    "paper.tables[0]"
   ]
  },
  {
   "cell_type": "code",
   "execution_count": 132,
   "metadata": {},
   "outputs": [
    {
     "name": "stdout",
     "output_type": "stream",
     "text": [
      "1704.02254v2\n",
      "index.html\n",
      "layout_01.csv  metadata.json  table_01.csv  text.json\n",
      "1\n",
      "(a) Graphical model representing (a) the recurrent structure used in Oh et al. (2015) and (b) our recurrent structure. Filled and empty nodes indicate observed and hidden variables respectively.\n"
     ]
    },
    {
     "data": {
      "text/html": [
       "<style>\n",
       "body{margin:0;padding:0;font-family:-apple-system,BlinkMacSystemFont,Segoe UI,Roboto,Oxygen,Ubuntu,Cantarell,Fira Sans,Droid Sans,Helvetica Neue,sans-serif;-webkit-font-smoothing:antialiased;-moz-osx-font-smoothing:grayscale}code{font-family:source-code-pro,Menlo,Monaco,Consolas,Courier New,monospace}.tableWrapper{-overflow:auto}.tableWrapper .has-annotations{color:#ff3860}.tableWrapper .model-params{background-color:#209cee;color:rgba(0,0,0,.7)}.tableWrapper .table-meta{background-color:#fff3c5;color:rgba(0,0,0,.7)}.tableWrapper .model-best{background-color:#ff3860;color:rgba(0,0,0,.7)}.tableWrapper .model-ensemble{background-color: #aa38ff;color: #fff;}.tableWrapper .model-competing{background-color:#ffdd57;color:rgba(0,0,0,.7)}.tableWrapper .model-paper{background-color:#ff3860;color:#fff}.tableWrapper .dataset-sub{background-color:#23d160;color:#fff}.tableWrapper .dataset-metric{background-color:#209cee;color:#fff}.tableWrapper .dataset{background-color:#02bd43;color:#fff}.tableWrapper .trash{background-color:#363636;color:#f5f5f5}.tableWrapper .wtf{background-color:#f0f;color:#f5f5f5}.tableWrapper .dataset-task{background-color:#77ecdd;color:rgba(0,0,0,.7)}.tableWrapper .dataset-paper{background-color:#e4ffee;color:rgba(0,0,0,.7)}.tableWrapper td.focused-cell{outline:2px solid #9ecaed;border-radius:7px;box-shadow:0 0 10px #9ecaed}.tableWrapper span.text-bold{font-weight:700}.tableWrapper span.text-italic{font-style:italic}.tableWrapper span.text-red{color:red}.tableWrapper span.text-green{color:green}.tableWrapper span.text-blue{color:#00f}.predict-dataset,.predict-dataset-metric,.predict-model-competing,.predict-model-paper,.predict-model-params,.predict-table-meta{outline:2px solid #9ecaed;border-radius:7px;box-shadow:0 0 10px #9ecaed}.tableWrapper .predict-model-params{background-color:#209cee;color:rgba(0,0,0,.7)}.tableWrapper .predict-table-meta{background-color:#fff3c5;color:rgba(0,0,0,.7)}.tableWrapper .predict-model-competing{background-color:#ffdd57;color:rgba(0,0,0,.7)}.tableWrapper .predict-model-paper{background-color:#ff3860;color:#fff}.tableWrapper .predict-dataset-metric{background-color:#209cee;color:#fff}.tableWrapper .predict-dataset{background-color:#02bd43;color:#fff}.tableWrapper td{border:inherit}.tableWrapper table tr td.border-l{border-left:1px solid #000}.tableWrapper table tr td.border-r{border-right:1px solid #000}.tableWrapper table tr td.border-t{border-top:1px solid #000}.tableWrapper table tr td.border-b{border-bottom:1px solid #000}.tableWrapper table tr td.border-ll{border-left:2px solid #000}.tableWrapper table tr td.border-rr{border-right:2px solid #000}.tableWrapper table tr td.border-tt{border-top:2px solid #000}.tableWrapper table tr td.border-bb{border-bottom:2px solid #000}.tableWrapper table tr td.align-left{text-align:left}.tableWrapper table tr td.align-right{text-align:right}.tableWrapper table tr td.align-center{text-align:center}.tableWrapper table tr td.align-justify{text-align:justify}div.form-group>input.form-control.input-sm{border-radius:2px;font-size:.75rem;background-color:#fff;color:#363636;box-shadow:inset 0 1px 2px rgba(10,10,10,.1);max-width:100%;width:100%;height:2.25em;padding:calc(.375em - 1px) calc(.625em - 1px);position:relative;border:1px solid #b5b5b5}div.form-group>input.form-control.input-sm:focus{border-color:#3273dc;box-shadow:0 0 0 .125em rgba(50,115,220,.25)}.ht_clone_top{z-index:20}.evaluation-tables{overflow:scroll;max-height:20vh;border-top:1px solid #a9a9a9}.navbar.is-fixed-bottom,.navbar.is-fixed-top{z-index:200}body{padding-bottom:20vh}\n",
       ".tableWrapper .final-proposal{ background: lightgreen }\n",
       "</style>\n",
       "\n",
       "<div class=\"tableWrapper\">\n",
       "<table>\n",
       "<tr>\n",
       "<td class=\" border-tt align-left header \" title=\"\">Game Name</td>\n",
       "<td class=\" border-tt align-left header \" title=\"\">DQN Score</td>\n",
       "</tr>\n",
       "<tr>\n",
       "<td class=\" border-t align-left \" title=\"\">Bowling</td>\n",
       "<td class=\" border-t align-left \" title=\"\">51.84</td>\n",
       "</tr>\n",
       "<tr>\n",
       "<td class=\" align-left \" title=\"\">Breakout</td>\n",
       "<td class=\" align-left \" title=\"\">396.25</td>\n",
       "</tr>\n",
       "<tr>\n",
       "<td class=\" align-left \" title=\"\">Fishing Derby</td>\n",
       "<td class=\" align-left \" title=\"\">19.30</td>\n",
       "</tr>\n",
       "<tr>\n",
       "<td class=\" align-left \" title=\"\">Freeway</td>\n",
       "<td class=\" align-left \" title=\"\">33.38</td>\n",
       "</tr>\n",
       "<tr>\n",
       "<td class=\" align-left \" title=\"\">Ms Pacman</td>\n",
       "<td class=\" align-left \" title=\"\">2963.31</td>\n",
       "</tr>\n",
       "<tr>\n",
       "<td class=\" align-left \" title=\"\">Pong</td>\n",
       "<td class=\" align-left \" title=\"\">20.88</td>\n",
       "</tr>\n",
       "<tr>\n",
       "<td class=\" align-left \" title=\"\">Qbert</td>\n",
       "<td class=\" align-left \" title=\"\">14,865.43</td>\n",
       "</tr>\n",
       "<tr>\n",
       "<td class=\" align-left \" title=\"\">Riverraid</td>\n",
       "<td class=\" align-left \" title=\"\">13,593.49</td>\n",
       "</tr>\n",
       "<tr>\n",
       "<td class=\" align-left \" title=\"\">Seaquest</td>\n",
       "<td class=\" align-left \" title=\"\">17,250.31</td>\n",
       "</tr>\n",
       "<tr>\n",
       "<td class=\" border-bb align-left \" title=\"\">Space Invaders</td>\n",
       "<td class=\" border-bb align-left \" title=\"\">2952.09</td>\n",
       "</tr>\n",
       "</table>\n",
       "</div>"
      ],
      "text/plain": [
       "<axcell.data.table.Table at 0x7f37eb2a60b8>"
      ]
     },
     "execution_count": 132,
     "metadata": {},
     "output_type": "execute_result"
    }
   ],
   "source": [
    "print(iclr_arxiv_map[\"2017_B1s6xvqlx\"][\"arxivId\"])\n",
    "paper = pc.get_by_id(\"1704.02254v2\")\n",
    "!ls data/htmls/1704/1704.02254v2/\n",
    "!ls data/papers/1704/1704.02254v2/\n",
    "print(len(paper.tables))\n",
    "print(paper.tables[0].caption)\n",
    "paper.tables[0]"
   ]
  },
  {
   "cell_type": "markdown",
   "metadata": {},
   "source": [
    "#### 1.2 Add table type for missed papers "
   ]
  },
  {
   "cell_type": "code",
   "execution_count": 148,
   "metadata": {
    "collapsed": true
   },
   "outputs": [
    {
     "data": {
      "text/html": [],
      "text/plain": [
       "<IPython.core.display.HTML object>"
      ]
     },
     "metadata": {},
     "output_type": "display_data"
    },
    {
     "data": {
      "text/html": [],
      "text/plain": [
       "<IPython.core.display.HTML object>"
      ]
     },
     "metadata": {},
     "output_type": "display_data"
    },
    {
     "data": {
      "text/html": [],
      "text/plain": [
       "<IPython.core.display.HTML object>"
      ]
     },
     "metadata": {},
     "output_type": "display_data"
    },
    {
     "data": {
      "text/html": [],
      "text/plain": [
       "<IPython.core.display.HTML object>"
      ]
     },
     "metadata": {},
     "output_type": "display_data"
    },
    {
     "data": {
      "text/html": [],
      "text/plain": [
       "<IPython.core.display.HTML object>"
      ]
     },
     "metadata": {},
     "output_type": "display_data"
    },
    {
     "data": {
      "text/html": [],
      "text/plain": [
       "<IPython.core.display.HTML object>"
      ]
     },
     "metadata": {},
     "output_type": "display_data"
    },
    {
     "data": {
      "text/html": [],
      "text/plain": [
       "<IPython.core.display.HTML object>"
      ]
     },
     "metadata": {},
     "output_type": "display_data"
    },
    {
     "data": {
      "text/html": [],
      "text/plain": [
       "<IPython.core.display.HTML object>"
      ]
     },
     "metadata": {},
     "output_type": "display_data"
    },
    {
     "data": {
      "text/html": [],
      "text/plain": [
       "<IPython.core.display.HTML object>"
      ]
     },
     "metadata": {},
     "output_type": "display_data"
    },
    {
     "data": {
      "text/html": [],
      "text/plain": [
       "<IPython.core.display.HTML object>"
      ]
     },
     "metadata": {},
     "output_type": "display_data"
    },
    {
     "data": {
      "text/html": [],
      "text/plain": [
       "<IPython.core.display.HTML object>"
      ]
     },
     "metadata": {},
     "output_type": "display_data"
    },
    {
     "data": {
      "text/html": [],
      "text/plain": [
       "<IPython.core.display.HTML object>"
      ]
     },
     "metadata": {},
     "output_type": "display_data"
    },
    {
     "data": {
      "text/html": [],
      "text/plain": [
       "<IPython.core.display.HTML object>"
      ]
     },
     "metadata": {},
     "output_type": "display_data"
    },
    {
     "data": {
      "text/html": [],
      "text/plain": [
       "<IPython.core.display.HTML object>"
      ]
     },
     "metadata": {},
     "output_type": "display_data"
    },
    {
     "data": {
      "text/html": [],
      "text/plain": [
       "<IPython.core.display.HTML object>"
      ]
     },
     "metadata": {},
     "output_type": "display_data"
    },
    {
     "data": {
      "text/html": [],
      "text/plain": [
       "<IPython.core.display.HTML object>"
      ]
     },
     "metadata": {},
     "output_type": "display_data"
    },
    {
     "data": {
      "text/html": [],
      "text/plain": [
       "<IPython.core.display.HTML object>"
      ]
     },
     "metadata": {},
     "output_type": "display_data"
    },
    {
     "data": {
      "text/html": [],
      "text/plain": [
       "<IPython.core.display.HTML object>"
      ]
     },
     "metadata": {},
     "output_type": "display_data"
    },
    {
     "data": {
      "text/html": [],
      "text/plain": [
       "<IPython.core.display.HTML object>"
      ]
     },
     "metadata": {},
     "output_type": "display_data"
    },
    {
     "data": {
      "text/html": [],
      "text/plain": [
       "<IPython.core.display.HTML object>"
      ]
     },
     "metadata": {},
     "output_type": "display_data"
    },
    {
     "data": {
      "text/html": [],
      "text/plain": [
       "<IPython.core.display.HTML object>"
      ]
     },
     "metadata": {},
     "output_type": "display_data"
    },
    {
     "data": {
      "text/html": [],
      "text/plain": [
       "<IPython.core.display.HTML object>"
      ]
     },
     "metadata": {},
     "output_type": "display_data"
    },
    {
     "data": {
      "text/html": [],
      "text/plain": [
       "<IPython.core.display.HTML object>"
      ]
     },
     "metadata": {},
     "output_type": "display_data"
    },
    {
     "data": {
      "text/html": [],
      "text/plain": [
       "<IPython.core.display.HTML object>"
      ]
     },
     "metadata": {},
     "output_type": "display_data"
    },
    {
     "data": {
      "text/html": [],
      "text/plain": [
       "<IPython.core.display.HTML object>"
      ]
     },
     "metadata": {},
     "output_type": "display_data"
    },
    {
     "data": {
      "text/html": [],
      "text/plain": [
       "<IPython.core.display.HTML object>"
      ]
     },
     "metadata": {},
     "output_type": "display_data"
    },
    {
     "data": {
      "text/html": [],
      "text/plain": [
       "<IPython.core.display.HTML object>"
      ]
     },
     "metadata": {},
     "output_type": "display_data"
    },
    {
     "data": {
      "text/html": [],
      "text/plain": [
       "<IPython.core.display.HTML object>"
      ]
     },
     "metadata": {},
     "output_type": "display_data"
    },
    {
     "data": {
      "text/html": [],
      "text/plain": [
       "<IPython.core.display.HTML object>"
      ]
     },
     "metadata": {},
     "output_type": "display_data"
    },
    {
     "data": {
      "text/html": [],
      "text/plain": [
       "<IPython.core.display.HTML object>"
      ]
     },
     "metadata": {},
     "output_type": "display_data"
    },
    {
     "data": {
      "text/html": [],
      "text/plain": [
       "<IPython.core.display.HTML object>"
      ]
     },
     "metadata": {},
     "output_type": "display_data"
    },
    {
     "data": {
      "text/html": [],
      "text/plain": [
       "<IPython.core.display.HTML object>"
      ]
     },
     "metadata": {},
     "output_type": "display_data"
    },
    {
     "data": {
      "text/html": [],
      "text/plain": [
       "<IPython.core.display.HTML object>"
      ]
     },
     "metadata": {},
     "output_type": "display_data"
    },
    {
     "data": {
      "text/html": [],
      "text/plain": [
       "<IPython.core.display.HTML object>"
      ]
     },
     "metadata": {},
     "output_type": "display_data"
    },
    {
     "data": {
      "text/html": [],
      "text/plain": [
       "<IPython.core.display.HTML object>"
      ]
     },
     "metadata": {},
     "output_type": "display_data"
    },
    {
     "data": {
      "text/html": [],
      "text/plain": [
       "<IPython.core.display.HTML object>"
      ]
     },
     "metadata": {},
     "output_type": "display_data"
    },
    {
     "data": {
      "text/html": [],
      "text/plain": [
       "<IPython.core.display.HTML object>"
      ]
     },
     "metadata": {},
     "output_type": "display_data"
    },
    {
     "data": {
      "text/html": [],
      "text/plain": [
       "<IPython.core.display.HTML object>"
      ]
     },
     "metadata": {},
     "output_type": "display_data"
    },
    {
     "data": {
      "text/html": [],
      "text/plain": [
       "<IPython.core.display.HTML object>"
      ]
     },
     "metadata": {},
     "output_type": "display_data"
    },
    {
     "data": {
      "text/html": [],
      "text/plain": [
       "<IPython.core.display.HTML object>"
      ]
     },
     "metadata": {},
     "output_type": "display_data"
    },
    {
     "data": {
      "text/html": [],
      "text/plain": [
       "<IPython.core.display.HTML object>"
      ]
     },
     "metadata": {},
     "output_type": "display_data"
    },
    {
     "data": {
      "text/html": [],
      "text/plain": [
       "<IPython.core.display.HTML object>"
      ]
     },
     "metadata": {},
     "output_type": "display_data"
    },
    {
     "data": {
      "text/html": [],
      "text/plain": [
       "<IPython.core.display.HTML object>"
      ]
     },
     "metadata": {},
     "output_type": "display_data"
    },
    {
     "data": {
      "text/html": [],
      "text/plain": [
       "<IPython.core.display.HTML object>"
      ]
     },
     "metadata": {},
     "output_type": "display_data"
    },
    {
     "data": {
      "text/html": [],
      "text/plain": [
       "<IPython.core.display.HTML object>"
      ]
     },
     "metadata": {},
     "output_type": "display_data"
    },
    {
     "data": {
      "text/html": [],
      "text/plain": [
       "<IPython.core.display.HTML object>"
      ]
     },
     "metadata": {},
     "output_type": "display_data"
    },
    {
     "data": {
      "text/html": [],
      "text/plain": [
       "<IPython.core.display.HTML object>"
      ]
     },
     "metadata": {},
     "output_type": "display_data"
    },
    {
     "data": {
      "text/html": [],
      "text/plain": [
       "<IPython.core.display.HTML object>"
      ]
     },
     "metadata": {},
     "output_type": "display_data"
    },
    {
     "data": {
      "text/html": [],
      "text/plain": [
       "<IPython.core.display.HTML object>"
      ]
     },
     "metadata": {},
     "output_type": "display_data"
    },
    {
     "data": {
      "text/html": [],
      "text/plain": [
       "<IPython.core.display.HTML object>"
      ]
     },
     "metadata": {},
     "output_type": "display_data"
    },
    {
     "data": {
      "text/html": [],
      "text/plain": [
       "<IPython.core.display.HTML object>"
      ]
     },
     "metadata": {},
     "output_type": "display_data"
    },
    {
     "data": {
      "text/html": [],
      "text/plain": [
       "<IPython.core.display.HTML object>"
      ]
     },
     "metadata": {},
     "output_type": "display_data"
    },
    {
     "data": {
      "text/html": [],
      "text/plain": [
       "<IPython.core.display.HTML object>"
      ]
     },
     "metadata": {},
     "output_type": "display_data"
    },
    {
     "data": {
      "text/html": [],
      "text/plain": [
       "<IPython.core.display.HTML object>"
      ]
     },
     "metadata": {},
     "output_type": "display_data"
    },
    {
     "data": {
      "text/html": [],
      "text/plain": [
       "<IPython.core.display.HTML object>"
      ]
     },
     "metadata": {},
     "output_type": "display_data"
    },
    {
     "data": {
      "text/html": [],
      "text/plain": [
       "<IPython.core.display.HTML object>"
      ]
     },
     "metadata": {},
     "output_type": "display_data"
    },
    {
     "data": {
      "text/html": [],
      "text/plain": [
       "<IPython.core.display.HTML object>"
      ]
     },
     "metadata": {},
     "output_type": "display_data"
    },
    {
     "data": {
      "text/html": [],
      "text/plain": [
       "<IPython.core.display.HTML object>"
      ]
     },
     "metadata": {},
     "output_type": "display_data"
    },
    {
     "data": {
      "text/html": [],
      "text/plain": [
       "<IPython.core.display.HTML object>"
      ]
     },
     "metadata": {},
     "output_type": "display_data"
    },
    {
     "data": {
      "text/html": [],
      "text/plain": [
       "<IPython.core.display.HTML object>"
      ]
     },
     "metadata": {},
     "output_type": "display_data"
    },
    {
     "data": {
      "text/html": [],
      "text/plain": [
       "<IPython.core.display.HTML object>"
      ]
     },
     "metadata": {},
     "output_type": "display_data"
    },
    {
     "data": {
      "text/html": [],
      "text/plain": [
       "<IPython.core.display.HTML object>"
      ]
     },
     "metadata": {},
     "output_type": "display_data"
    },
    {
     "data": {
      "text/html": [],
      "text/plain": [
       "<IPython.core.display.HTML object>"
      ]
     },
     "metadata": {},
     "output_type": "display_data"
    },
    {
     "data": {
      "text/html": [],
      "text/plain": [
       "<IPython.core.display.HTML object>"
      ]
     },
     "metadata": {},
     "output_type": "display_data"
    },
    {
     "data": {
      "text/html": [],
      "text/plain": [
       "<IPython.core.display.HTML object>"
      ]
     },
     "metadata": {},
     "output_type": "display_data"
    },
    {
     "data": {
      "text/html": [],
      "text/plain": [
       "<IPython.core.display.HTML object>"
      ]
     },
     "metadata": {},
     "output_type": "display_data"
    },
    {
     "data": {
      "text/html": [],
      "text/plain": [
       "<IPython.core.display.HTML object>"
      ]
     },
     "metadata": {},
     "output_type": "display_data"
    },
    {
     "data": {
      "text/html": [],
      "text/plain": [
       "<IPython.core.display.HTML object>"
      ]
     },
     "metadata": {},
     "output_type": "display_data"
    },
    {
     "data": {
      "text/html": [],
      "text/plain": [
       "<IPython.core.display.HTML object>"
      ]
     },
     "metadata": {},
     "output_type": "display_data"
    },
    {
     "data": {
      "text/html": [],
      "text/plain": [
       "<IPython.core.display.HTML object>"
      ]
     },
     "metadata": {},
     "output_type": "display_data"
    },
    {
     "data": {
      "text/html": [],
      "text/plain": [
       "<IPython.core.display.HTML object>"
      ]
     },
     "metadata": {},
     "output_type": "display_data"
    },
    {
     "data": {
      "text/html": [],
      "text/plain": [
       "<IPython.core.display.HTML object>"
      ]
     },
     "metadata": {},
     "output_type": "display_data"
    },
    {
     "data": {
      "text/html": [],
      "text/plain": [
       "<IPython.core.display.HTML object>"
      ]
     },
     "metadata": {},
     "output_type": "display_data"
    },
    {
     "data": {
      "text/html": [],
      "text/plain": [
       "<IPython.core.display.HTML object>"
      ]
     },
     "metadata": {},
     "output_type": "display_data"
    },
    {
     "data": {
      "text/html": [],
      "text/plain": [
       "<IPython.core.display.HTML object>"
      ]
     },
     "metadata": {},
     "output_type": "display_data"
    },
    {
     "data": {
      "text/html": [],
      "text/plain": [
       "<IPython.core.display.HTML object>"
      ]
     },
     "metadata": {},
     "output_type": "display_data"
    },
    {
     "data": {
      "text/html": [],
      "text/plain": [
       "<IPython.core.display.HTML object>"
      ]
     },
     "metadata": {},
     "output_type": "display_data"
    },
    {
     "data": {
      "text/html": [],
      "text/plain": [
       "<IPython.core.display.HTML object>"
      ]
     },
     "metadata": {},
     "output_type": "display_data"
    },
    {
     "data": {
      "text/html": [],
      "text/plain": [
       "<IPython.core.display.HTML object>"
      ]
     },
     "metadata": {},
     "output_type": "display_data"
    },
    {
     "data": {
      "text/html": [],
      "text/plain": [
       "<IPython.core.display.HTML object>"
      ]
     },
     "metadata": {},
     "output_type": "display_data"
    },
    {
     "data": {
      "text/html": [],
      "text/plain": [
       "<IPython.core.display.HTML object>"
      ]
     },
     "metadata": {},
     "output_type": "display_data"
    },
    {
     "data": {
      "text/html": [],
      "text/plain": [
       "<IPython.core.display.HTML object>"
      ]
     },
     "metadata": {},
     "output_type": "display_data"
    },
    {
     "data": {
      "text/html": [],
      "text/plain": [
       "<IPython.core.display.HTML object>"
      ]
     },
     "metadata": {},
     "output_type": "display_data"
    },
    {
     "data": {
      "text/html": [],
      "text/plain": [
       "<IPython.core.display.HTML object>"
      ]
     },
     "metadata": {},
     "output_type": "display_data"
    },
    {
     "data": {
      "text/html": [],
      "text/plain": [
       "<IPython.core.display.HTML object>"
      ]
     },
     "metadata": {},
     "output_type": "display_data"
    },
    {
     "data": {
      "text/html": [],
      "text/plain": [
       "<IPython.core.display.HTML object>"
      ]
     },
     "metadata": {},
     "output_type": "display_data"
    },
    {
     "data": {
      "text/html": [],
      "text/plain": [
       "<IPython.core.display.HTML object>"
      ]
     },
     "metadata": {},
     "output_type": "display_data"
    },
    {
     "data": {
      "text/html": [],
      "text/plain": [
       "<IPython.core.display.HTML object>"
      ]
     },
     "metadata": {},
     "output_type": "display_data"
    },
    {
     "data": {
      "text/html": [],
      "text/plain": [
       "<IPython.core.display.HTML object>"
      ]
     },
     "metadata": {},
     "output_type": "display_data"
    },
    {
     "data": {
      "text/html": [],
      "text/plain": [
       "<IPython.core.display.HTML object>"
      ]
     },
     "metadata": {},
     "output_type": "display_data"
    },
    {
     "data": {
      "text/html": [],
      "text/plain": [
       "<IPython.core.display.HTML object>"
      ]
     },
     "metadata": {},
     "output_type": "display_data"
    },
    {
     "data": {
      "text/html": [],
      "text/plain": [
       "<IPython.core.display.HTML object>"
      ]
     },
     "metadata": {},
     "output_type": "display_data"
    },
    {
     "data": {
      "text/html": [],
      "text/plain": [
       "<IPython.core.display.HTML object>"
      ]
     },
     "metadata": {},
     "output_type": "display_data"
    },
    {
     "data": {
      "text/html": [],
      "text/plain": [
       "<IPython.core.display.HTML object>"
      ]
     },
     "metadata": {},
     "output_type": "display_data"
    },
    {
     "data": {
      "text/html": [],
      "text/plain": [
       "<IPython.core.display.HTML object>"
      ]
     },
     "metadata": {},
     "output_type": "display_data"
    },
    {
     "data": {
      "text/html": [],
      "text/plain": [
       "<IPython.core.display.HTML object>"
      ]
     },
     "metadata": {},
     "output_type": "display_data"
    },
    {
     "data": {
      "text/html": [],
      "text/plain": [
       "<IPython.core.display.HTML object>"
      ]
     },
     "metadata": {},
     "output_type": "display_data"
    },
    {
     "data": {
      "text/html": [],
      "text/plain": [
       "<IPython.core.display.HTML object>"
      ]
     },
     "metadata": {},
     "output_type": "display_data"
    },
    {
     "data": {
      "text/html": [],
      "text/plain": [
       "<IPython.core.display.HTML object>"
      ]
     },
     "metadata": {},
     "output_type": "display_data"
    },
    {
     "data": {
      "text/html": [],
      "text/plain": [
       "<IPython.core.display.HTML object>"
      ]
     },
     "metadata": {},
     "output_type": "display_data"
    },
    {
     "data": {
      "text/html": [],
      "text/plain": [
       "<IPython.core.display.HTML object>"
      ]
     },
     "metadata": {},
     "output_type": "display_data"
    },
    {
     "data": {
      "text/html": [],
      "text/plain": [
       "<IPython.core.display.HTML object>"
      ]
     },
     "metadata": {},
     "output_type": "display_data"
    },
    {
     "data": {
      "text/html": [],
      "text/plain": [
       "<IPython.core.display.HTML object>"
      ]
     },
     "metadata": {},
     "output_type": "display_data"
    },
    {
     "data": {
      "text/html": [],
      "text/plain": [
       "<IPython.core.display.HTML object>"
      ]
     },
     "metadata": {},
     "output_type": "display_data"
    },
    {
     "data": {
      "text/html": [],
      "text/plain": [
       "<IPython.core.display.HTML object>"
      ]
     },
     "metadata": {},
     "output_type": "display_data"
    },
    {
     "data": {
      "text/html": [],
      "text/plain": [
       "<IPython.core.display.HTML object>"
      ]
     },
     "metadata": {},
     "output_type": "display_data"
    },
    {
     "data": {
      "text/html": [],
      "text/plain": [
       "<IPython.core.display.HTML object>"
      ]
     },
     "metadata": {},
     "output_type": "display_data"
    },
    {
     "data": {
      "text/html": [],
      "text/plain": [
       "<IPython.core.display.HTML object>"
      ]
     },
     "metadata": {},
     "output_type": "display_data"
    },
    {
     "data": {
      "text/html": [],
      "text/plain": [
       "<IPython.core.display.HTML object>"
      ]
     },
     "metadata": {},
     "output_type": "display_data"
    },
    {
     "data": {
      "text/html": [],
      "text/plain": [
       "<IPython.core.display.HTML object>"
      ]
     },
     "metadata": {},
     "output_type": "display_data"
    },
    {
     "data": {
      "text/html": [],
      "text/plain": [
       "<IPython.core.display.HTML object>"
      ]
     },
     "metadata": {},
     "output_type": "display_data"
    },
    {
     "data": {
      "text/html": [],
      "text/plain": [
       "<IPython.core.display.HTML object>"
      ]
     },
     "metadata": {},
     "output_type": "display_data"
    },
    {
     "data": {
      "text/html": [],
      "text/plain": [
       "<IPython.core.display.HTML object>"
      ]
     },
     "metadata": {},
     "output_type": "display_data"
    },
    {
     "data": {
      "text/html": [],
      "text/plain": [
       "<IPython.core.display.HTML object>"
      ]
     },
     "metadata": {},
     "output_type": "display_data"
    },
    {
     "data": {
      "text/html": [],
      "text/plain": [
       "<IPython.core.display.HTML object>"
      ]
     },
     "metadata": {},
     "output_type": "display_data"
    },
    {
     "data": {
      "text/html": [],
      "text/plain": [
       "<IPython.core.display.HTML object>"
      ]
     },
     "metadata": {},
     "output_type": "display_data"
    },
    {
     "data": {
      "text/html": [],
      "text/plain": [
       "<IPython.core.display.HTML object>"
      ]
     },
     "metadata": {},
     "output_type": "display_data"
    },
    {
     "data": {
      "text/html": [],
      "text/plain": [
       "<IPython.core.display.HTML object>"
      ]
     },
     "metadata": {},
     "output_type": "display_data"
    },
    {
     "data": {
      "text/html": [],
      "text/plain": [
       "<IPython.core.display.HTML object>"
      ]
     },
     "metadata": {},
     "output_type": "display_data"
    },
    {
     "data": {
      "text/html": [],
      "text/plain": [
       "<IPython.core.display.HTML object>"
      ]
     },
     "metadata": {},
     "output_type": "display_data"
    },
    {
     "data": {
      "text/html": [],
      "text/plain": [
       "<IPython.core.display.HTML object>"
      ]
     },
     "metadata": {},
     "output_type": "display_data"
    },
    {
     "data": {
      "text/html": [],
      "text/plain": [
       "<IPython.core.display.HTML object>"
      ]
     },
     "metadata": {},
     "output_type": "display_data"
    },
    {
     "data": {
      "text/html": [],
      "text/plain": [
       "<IPython.core.display.HTML object>"
      ]
     },
     "metadata": {},
     "output_type": "display_data"
    },
    {
     "data": {
      "text/html": [],
      "text/plain": [
       "<IPython.core.display.HTML object>"
      ]
     },
     "metadata": {},
     "output_type": "display_data"
    },
    {
     "data": {
      "text/html": [],
      "text/plain": [
       "<IPython.core.display.HTML object>"
      ]
     },
     "metadata": {},
     "output_type": "display_data"
    },
    {
     "data": {
      "text/html": [],
      "text/plain": [
       "<IPython.core.display.HTML object>"
      ]
     },
     "metadata": {},
     "output_type": "display_data"
    },
    {
     "data": {
      "text/html": [],
      "text/plain": [
       "<IPython.core.display.HTML object>"
      ]
     },
     "metadata": {},
     "output_type": "display_data"
    },
    {
     "data": {
      "text/html": [],
      "text/plain": [
       "<IPython.core.display.HTML object>"
      ]
     },
     "metadata": {},
     "output_type": "display_data"
    },
    {
     "data": {
      "text/html": [],
      "text/plain": [
       "<IPython.core.display.HTML object>"
      ]
     },
     "metadata": {},
     "output_type": "display_data"
    },
    {
     "data": {
      "text/html": [],
      "text/plain": [
       "<IPython.core.display.HTML object>"
      ]
     },
     "metadata": {},
     "output_type": "display_data"
    },
    {
     "data": {
      "text/html": [],
      "text/plain": [
       "<IPython.core.display.HTML object>"
      ]
     },
     "metadata": {},
     "output_type": "display_data"
    },
    {
     "data": {
      "text/html": [],
      "text/plain": [
       "<IPython.core.display.HTML object>"
      ]
     },
     "metadata": {},
     "output_type": "display_data"
    },
    {
     "data": {
      "text/html": [],
      "text/plain": [
       "<IPython.core.display.HTML object>"
      ]
     },
     "metadata": {},
     "output_type": "display_data"
    },
    {
     "data": {
      "text/html": [],
      "text/plain": [
       "<IPython.core.display.HTML object>"
      ]
     },
     "metadata": {},
     "output_type": "display_data"
    },
    {
     "data": {
      "text/html": [],
      "text/plain": [
       "<IPython.core.display.HTML object>"
      ]
     },
     "metadata": {},
     "output_type": "display_data"
    },
    {
     "data": {
      "text/html": [],
      "text/plain": [
       "<IPython.core.display.HTML object>"
      ]
     },
     "metadata": {},
     "output_type": "display_data"
    },
    {
     "data": {
      "text/html": [],
      "text/plain": [
       "<IPython.core.display.HTML object>"
      ]
     },
     "metadata": {},
     "output_type": "display_data"
    },
    {
     "data": {
      "text/html": [],
      "text/plain": [
       "<IPython.core.display.HTML object>"
      ]
     },
     "metadata": {},
     "output_type": "display_data"
    },
    {
     "data": {
      "text/html": [],
      "text/plain": [
       "<IPython.core.display.HTML object>"
      ]
     },
     "metadata": {},
     "output_type": "display_data"
    },
    {
     "data": {
      "text/html": [],
      "text/plain": [
       "<IPython.core.display.HTML object>"
      ]
     },
     "metadata": {},
     "output_type": "display_data"
    },
    {
     "data": {
      "text/html": [],
      "text/plain": [
       "<IPython.core.display.HTML object>"
      ]
     },
     "metadata": {},
     "output_type": "display_data"
    },
    {
     "data": {
      "text/html": [],
      "text/plain": [
       "<IPython.core.display.HTML object>"
      ]
     },
     "metadata": {},
     "output_type": "display_data"
    },
    {
     "data": {
      "text/html": [],
      "text/plain": [
       "<IPython.core.display.HTML object>"
      ]
     },
     "metadata": {},
     "output_type": "display_data"
    },
    {
     "data": {
      "text/html": [],
      "text/plain": [
       "<IPython.core.display.HTML object>"
      ]
     },
     "metadata": {},
     "output_type": "display_data"
    },
    {
     "data": {
      "text/html": [],
      "text/plain": [
       "<IPython.core.display.HTML object>"
      ]
     },
     "metadata": {},
     "output_type": "display_data"
    },
    {
     "data": {
      "text/html": [],
      "text/plain": [
       "<IPython.core.display.HTML object>"
      ]
     },
     "metadata": {},
     "output_type": "display_data"
    },
    {
     "data": {
      "text/html": [],
      "text/plain": [
       "<IPython.core.display.HTML object>"
      ]
     },
     "metadata": {},
     "output_type": "display_data"
    },
    {
     "data": {
      "text/html": [],
      "text/plain": [
       "<IPython.core.display.HTML object>"
      ]
     },
     "metadata": {},
     "output_type": "display_data"
    },
    {
     "data": {
      "text/html": [],
      "text/plain": [
       "<IPython.core.display.HTML object>"
      ]
     },
     "metadata": {},
     "output_type": "display_data"
    },
    {
     "data": {
      "text/html": [],
      "text/plain": [
       "<IPython.core.display.HTML object>"
      ]
     },
     "metadata": {},
     "output_type": "display_data"
    },
    {
     "data": {
      "text/html": [],
      "text/plain": [
       "<IPython.core.display.HTML object>"
      ]
     },
     "metadata": {},
     "output_type": "display_data"
    },
    {
     "data": {
      "text/html": [],
      "text/plain": [
       "<IPython.core.display.HTML object>"
      ]
     },
     "metadata": {},
     "output_type": "display_data"
    },
    {
     "data": {
      "text/html": [],
      "text/plain": [
       "<IPython.core.display.HTML object>"
      ]
     },
     "metadata": {},
     "output_type": "display_data"
    },
    {
     "data": {
      "text/html": [],
      "text/plain": [
       "<IPython.core.display.HTML object>"
      ]
     },
     "metadata": {},
     "output_type": "display_data"
    },
    {
     "data": {
      "text/html": [],
      "text/plain": [
       "<IPython.core.display.HTML object>"
      ]
     },
     "metadata": {},
     "output_type": "display_data"
    },
    {
     "data": {
      "text/html": [],
      "text/plain": [
       "<IPython.core.display.HTML object>"
      ]
     },
     "metadata": {},
     "output_type": "display_data"
    },
    {
     "data": {
      "text/html": [],
      "text/plain": [
       "<IPython.core.display.HTML object>"
      ]
     },
     "metadata": {},
     "output_type": "display_data"
    },
    {
     "data": {
      "text/html": [],
      "text/plain": [
       "<IPython.core.display.HTML object>"
      ]
     },
     "metadata": {},
     "output_type": "display_data"
    },
    {
     "data": {
      "text/html": [],
      "text/plain": [
       "<IPython.core.display.HTML object>"
      ]
     },
     "metadata": {},
     "output_type": "display_data"
    },
    {
     "data": {
      "text/html": [],
      "text/plain": [
       "<IPython.core.display.HTML object>"
      ]
     },
     "metadata": {},
     "output_type": "display_data"
    },
    {
     "data": {
      "text/html": [],
      "text/plain": [
       "<IPython.core.display.HTML object>"
      ]
     },
     "metadata": {},
     "output_type": "display_data"
    },
    {
     "data": {
      "text/html": [],
      "text/plain": [
       "<IPython.core.display.HTML object>"
      ]
     },
     "metadata": {},
     "output_type": "display_data"
    },
    {
     "data": {
      "text/html": [],
      "text/plain": [
       "<IPython.core.display.HTML object>"
      ]
     },
     "metadata": {},
     "output_type": "display_data"
    },
    {
     "data": {
      "text/html": [],
      "text/plain": [
       "<IPython.core.display.HTML object>"
      ]
     },
     "metadata": {},
     "output_type": "display_data"
    },
    {
     "data": {
      "text/html": [],
      "text/plain": [
       "<IPython.core.display.HTML object>"
      ]
     },
     "metadata": {},
     "output_type": "display_data"
    },
    {
     "data": {
      "text/html": [],
      "text/plain": [
       "<IPython.core.display.HTML object>"
      ]
     },
     "metadata": {},
     "output_type": "display_data"
    },
    {
     "data": {
      "text/html": [],
      "text/plain": [
       "<IPython.core.display.HTML object>"
      ]
     },
     "metadata": {},
     "output_type": "display_data"
    },
    {
     "data": {
      "text/html": [],
      "text/plain": [
       "<IPython.core.display.HTML object>"
      ]
     },
     "metadata": {},
     "output_type": "display_data"
    },
    {
     "data": {
      "text/html": [],
      "text/plain": [
       "<IPython.core.display.HTML object>"
      ]
     },
     "metadata": {},
     "output_type": "display_data"
    },
    {
     "data": {
      "text/html": [],
      "text/plain": [
       "<IPython.core.display.HTML object>"
      ]
     },
     "metadata": {},
     "output_type": "display_data"
    },
    {
     "data": {
      "text/html": [],
      "text/plain": [
       "<IPython.core.display.HTML object>"
      ]
     },
     "metadata": {},
     "output_type": "display_data"
    },
    {
     "data": {
      "text/html": [],
      "text/plain": [
       "<IPython.core.display.HTML object>"
      ]
     },
     "metadata": {},
     "output_type": "display_data"
    },
    {
     "data": {
      "text/html": [],
      "text/plain": [
       "<IPython.core.display.HTML object>"
      ]
     },
     "metadata": {},
     "output_type": "display_data"
    },
    {
     "data": {
      "text/html": [],
      "text/plain": [
       "<IPython.core.display.HTML object>"
      ]
     },
     "metadata": {},
     "output_type": "display_data"
    },
    {
     "data": {
      "text/html": [],
      "text/plain": [
       "<IPython.core.display.HTML object>"
      ]
     },
     "metadata": {},
     "output_type": "display_data"
    },
    {
     "data": {
      "text/html": [],
      "text/plain": [
       "<IPython.core.display.HTML object>"
      ]
     },
     "metadata": {},
     "output_type": "display_data"
    },
    {
     "data": {
      "text/html": [],
      "text/plain": [
       "<IPython.core.display.HTML object>"
      ]
     },
     "metadata": {},
     "output_type": "display_data"
    },
    {
     "data": {
      "text/html": [],
      "text/plain": [
       "<IPython.core.display.HTML object>"
      ]
     },
     "metadata": {},
     "output_type": "display_data"
    },
    {
     "data": {
      "text/html": [],
      "text/plain": [
       "<IPython.core.display.HTML object>"
      ]
     },
     "metadata": {},
     "output_type": "display_data"
    },
    {
     "data": {
      "text/html": [],
      "text/plain": [
       "<IPython.core.display.HTML object>"
      ]
     },
     "metadata": {},
     "output_type": "display_data"
    },
    {
     "data": {
      "text/html": [],
      "text/plain": [
       "<IPython.core.display.HTML object>"
      ]
     },
     "metadata": {},
     "output_type": "display_data"
    },
    {
     "data": {
      "text/html": [],
      "text/plain": [
       "<IPython.core.display.HTML object>"
      ]
     },
     "metadata": {},
     "output_type": "display_data"
    },
    {
     "data": {
      "text/html": [],
      "text/plain": [
       "<IPython.core.display.HTML object>"
      ]
     },
     "metadata": {},
     "output_type": "display_data"
    },
    {
     "data": {
      "text/html": [],
      "text/plain": [
       "<IPython.core.display.HTML object>"
      ]
     },
     "metadata": {},
     "output_type": "display_data"
    },
    {
     "data": {
      "text/html": [],
      "text/plain": [
       "<IPython.core.display.HTML object>"
      ]
     },
     "metadata": {},
     "output_type": "display_data"
    },
    {
     "data": {
      "text/html": [],
      "text/plain": [
       "<IPython.core.display.HTML object>"
      ]
     },
     "metadata": {},
     "output_type": "display_data"
    },
    {
     "data": {
      "text/html": [],
      "text/plain": [
       "<IPython.core.display.HTML object>"
      ]
     },
     "metadata": {},
     "output_type": "display_data"
    },
    {
     "data": {
      "text/html": [],
      "text/plain": [
       "<IPython.core.display.HTML object>"
      ]
     },
     "metadata": {},
     "output_type": "display_data"
    },
    {
     "data": {
      "text/html": [],
      "text/plain": [
       "<IPython.core.display.HTML object>"
      ]
     },
     "metadata": {},
     "output_type": "display_data"
    },
    {
     "data": {
      "text/html": [],
      "text/plain": [
       "<IPython.core.display.HTML object>"
      ]
     },
     "metadata": {},
     "output_type": "display_data"
    },
    {
     "data": {
      "text/html": [],
      "text/plain": [
       "<IPython.core.display.HTML object>"
      ]
     },
     "metadata": {},
     "output_type": "display_data"
    },
    {
     "data": {
      "text/html": [],
      "text/plain": [
       "<IPython.core.display.HTML object>"
      ]
     },
     "metadata": {},
     "output_type": "display_data"
    },
    {
     "data": {
      "text/html": [],
      "text/plain": [
       "<IPython.core.display.HTML object>"
      ]
     },
     "metadata": {},
     "output_type": "display_data"
    },
    {
     "data": {
      "text/html": [],
      "text/plain": [
       "<IPython.core.display.HTML object>"
      ]
     },
     "metadata": {},
     "output_type": "display_data"
    },
    {
     "data": {
      "text/html": [],
      "text/plain": [
       "<IPython.core.display.HTML object>"
      ]
     },
     "metadata": {},
     "output_type": "display_data"
    },
    {
     "data": {
      "text/html": [],
      "text/plain": [
       "<IPython.core.display.HTML object>"
      ]
     },
     "metadata": {},
     "output_type": "display_data"
    },
    {
     "data": {
      "text/html": [],
      "text/plain": [
       "<IPython.core.display.HTML object>"
      ]
     },
     "metadata": {},
     "output_type": "display_data"
    },
    {
     "data": {
      "text/html": [],
      "text/plain": [
       "<IPython.core.display.HTML object>"
      ]
     },
     "metadata": {},
     "output_type": "display_data"
    },
    {
     "data": {
      "text/html": [],
      "text/plain": [
       "<IPython.core.display.HTML object>"
      ]
     },
     "metadata": {},
     "output_type": "display_data"
    },
    {
     "data": {
      "text/html": [],
      "text/plain": [
       "<IPython.core.display.HTML object>"
      ]
     },
     "metadata": {},
     "output_type": "display_data"
    },
    {
     "data": {
      "text/html": [],
      "text/plain": [
       "<IPython.core.display.HTML object>"
      ]
     },
     "metadata": {},
     "output_type": "display_data"
    },
    {
     "data": {
      "text/html": [],
      "text/plain": [
       "<IPython.core.display.HTML object>"
      ]
     },
     "metadata": {},
     "output_type": "display_data"
    },
    {
     "data": {
      "text/html": [],
      "text/plain": [
       "<IPython.core.display.HTML object>"
      ]
     },
     "metadata": {},
     "output_type": "display_data"
    },
    {
     "data": {
      "text/html": [],
      "text/plain": [
       "<IPython.core.display.HTML object>"
      ]
     },
     "metadata": {},
     "output_type": "display_data"
    },
    {
     "data": {
      "text/html": [],
      "text/plain": [
       "<IPython.core.display.HTML object>"
      ]
     },
     "metadata": {},
     "output_type": "display_data"
    },
    {
     "data": {
      "text/html": [],
      "text/plain": [
       "<IPython.core.display.HTML object>"
      ]
     },
     "metadata": {},
     "output_type": "display_data"
    },
    {
     "data": {
      "text/html": [],
      "text/plain": [
       "<IPython.core.display.HTML object>"
      ]
     },
     "metadata": {},
     "output_type": "display_data"
    },
    {
     "data": {
      "text/html": [],
      "text/plain": [
       "<IPython.core.display.HTML object>"
      ]
     },
     "metadata": {},
     "output_type": "display_data"
    },
    {
     "data": {
      "text/html": [],
      "text/plain": [
       "<IPython.core.display.HTML object>"
      ]
     },
     "metadata": {},
     "output_type": "display_data"
    },
    {
     "data": {
      "text/html": [],
      "text/plain": [
       "<IPython.core.display.HTML object>"
      ]
     },
     "metadata": {},
     "output_type": "display_data"
    },
    {
     "data": {
      "text/html": [],
      "text/plain": [
       "<IPython.core.display.HTML object>"
      ]
     },
     "metadata": {},
     "output_type": "display_data"
    },
    {
     "data": {
      "text/html": [],
      "text/plain": [
       "<IPython.core.display.HTML object>"
      ]
     },
     "metadata": {},
     "output_type": "display_data"
    },
    {
     "data": {
      "text/html": [],
      "text/plain": [
       "<IPython.core.display.HTML object>"
      ]
     },
     "metadata": {},
     "output_type": "display_data"
    },
    {
     "data": {
      "text/html": [],
      "text/plain": [
       "<IPython.core.display.HTML object>"
      ]
     },
     "metadata": {},
     "output_type": "display_data"
    },
    {
     "data": {
      "text/html": [],
      "text/plain": [
       "<IPython.core.display.HTML object>"
      ]
     },
     "metadata": {},
     "output_type": "display_data"
    },
    {
     "data": {
      "text/html": [],
      "text/plain": [
       "<IPython.core.display.HTML object>"
      ]
     },
     "metadata": {},
     "output_type": "display_data"
    },
    {
     "data": {
      "text/html": [],
      "text/plain": [
       "<IPython.core.display.HTML object>"
      ]
     },
     "metadata": {},
     "output_type": "display_data"
    },
    {
     "data": {
      "text/html": [],
      "text/plain": [
       "<IPython.core.display.HTML object>"
      ]
     },
     "metadata": {},
     "output_type": "display_data"
    },
    {
     "data": {
      "text/html": [],
      "text/plain": [
       "<IPython.core.display.HTML object>"
      ]
     },
     "metadata": {},
     "output_type": "display_data"
    },
    {
     "data": {
      "text/html": [],
      "text/plain": [
       "<IPython.core.display.HTML object>"
      ]
     },
     "metadata": {},
     "output_type": "display_data"
    },
    {
     "data": {
      "text/html": [],
      "text/plain": [
       "<IPython.core.display.HTML object>"
      ]
     },
     "metadata": {},
     "output_type": "display_data"
    },
    {
     "data": {
      "text/html": [],
      "text/plain": [
       "<IPython.core.display.HTML object>"
      ]
     },
     "metadata": {},
     "output_type": "display_data"
    },
    {
     "data": {
      "text/html": [],
      "text/plain": [
       "<IPython.core.display.HTML object>"
      ]
     },
     "metadata": {},
     "output_type": "display_data"
    },
    {
     "data": {
      "text/html": [],
      "text/plain": [
       "<IPython.core.display.HTML object>"
      ]
     },
     "metadata": {},
     "output_type": "display_data"
    },
    {
     "data": {
      "text/html": [],
      "text/plain": [
       "<IPython.core.display.HTML object>"
      ]
     },
     "metadata": {},
     "output_type": "display_data"
    },
    {
     "data": {
      "text/html": [],
      "text/plain": [
       "<IPython.core.display.HTML object>"
      ]
     },
     "metadata": {},
     "output_type": "display_data"
    },
    {
     "data": {
      "text/html": [],
      "text/plain": [
       "<IPython.core.display.HTML object>"
      ]
     },
     "metadata": {},
     "output_type": "display_data"
    },
    {
     "data": {
      "text/html": [],
      "text/plain": [
       "<IPython.core.display.HTML object>"
      ]
     },
     "metadata": {},
     "output_type": "display_data"
    },
    {
     "data": {
      "text/html": [],
      "text/plain": [
       "<IPython.core.display.HTML object>"
      ]
     },
     "metadata": {},
     "output_type": "display_data"
    },
    {
     "data": {
      "text/html": [],
      "text/plain": [
       "<IPython.core.display.HTML object>"
      ]
     },
     "metadata": {},
     "output_type": "display_data"
    },
    {
     "data": {
      "text/html": [],
      "text/plain": [
       "<IPython.core.display.HTML object>"
      ]
     },
     "metadata": {},
     "output_type": "display_data"
    },
    {
     "data": {
      "text/html": [],
      "text/plain": [
       "<IPython.core.display.HTML object>"
      ]
     },
     "metadata": {},
     "output_type": "display_data"
    },
    {
     "data": {
      "text/html": [],
      "text/plain": [
       "<IPython.core.display.HTML object>"
      ]
     },
     "metadata": {},
     "output_type": "display_data"
    },
    {
     "data": {
      "text/html": [],
      "text/plain": [
       "<IPython.core.display.HTML object>"
      ]
     },
     "metadata": {},
     "output_type": "display_data"
    },
    {
     "data": {
      "text/html": [],
      "text/plain": [
       "<IPython.core.display.HTML object>"
      ]
     },
     "metadata": {},
     "output_type": "display_data"
    },
    {
     "data": {
      "text/html": [],
      "text/plain": [
       "<IPython.core.display.HTML object>"
      ]
     },
     "metadata": {},
     "output_type": "display_data"
    },
    {
     "data": {
      "text/html": [],
      "text/plain": [
       "<IPython.core.display.HTML object>"
      ]
     },
     "metadata": {},
     "output_type": "display_data"
    },
    {
     "data": {
      "text/html": [],
      "text/plain": [
       "<IPython.core.display.HTML object>"
      ]
     },
     "metadata": {},
     "output_type": "display_data"
    },
    {
     "data": {
      "text/html": [],
      "text/plain": [
       "<IPython.core.display.HTML object>"
      ]
     },
     "metadata": {},
     "output_type": "display_data"
    },
    {
     "data": {
      "text/html": [],
      "text/plain": [
       "<IPython.core.display.HTML object>"
      ]
     },
     "metadata": {},
     "output_type": "display_data"
    },
    {
     "data": {
      "text/html": [],
      "text/plain": [
       "<IPython.core.display.HTML object>"
      ]
     },
     "metadata": {},
     "output_type": "display_data"
    },
    {
     "data": {
      "text/html": [],
      "text/plain": [
       "<IPython.core.display.HTML object>"
      ]
     },
     "metadata": {},
     "output_type": "display_data"
    },
    {
     "data": {
      "text/html": [],
      "text/plain": [
       "<IPython.core.display.HTML object>"
      ]
     },
     "metadata": {},
     "output_type": "display_data"
    },
    {
     "data": {
      "text/html": [],
      "text/plain": [
       "<IPython.core.display.HTML object>"
      ]
     },
     "metadata": {},
     "output_type": "display_data"
    },
    {
     "data": {
      "text/html": [],
      "text/plain": [
       "<IPython.core.display.HTML object>"
      ]
     },
     "metadata": {},
     "output_type": "display_data"
    },
    {
     "data": {
      "text/html": [],
      "text/plain": [
       "<IPython.core.display.HTML object>"
      ]
     },
     "metadata": {},
     "output_type": "display_data"
    },
    {
     "data": {
      "text/html": [],
      "text/plain": [
       "<IPython.core.display.HTML object>"
      ]
     },
     "metadata": {},
     "output_type": "display_data"
    },
    {
     "data": {
      "text/html": [],
      "text/plain": [
       "<IPython.core.display.HTML object>"
      ]
     },
     "metadata": {},
     "output_type": "display_data"
    },
    {
     "data": {
      "text/html": [],
      "text/plain": [
       "<IPython.core.display.HTML object>"
      ]
     },
     "metadata": {},
     "output_type": "display_data"
    },
    {
     "data": {
      "text/html": [],
      "text/plain": [
       "<IPython.core.display.HTML object>"
      ]
     },
     "metadata": {},
     "output_type": "display_data"
    },
    {
     "data": {
      "text/html": [],
      "text/plain": [
       "<IPython.core.display.HTML object>"
      ]
     },
     "metadata": {},
     "output_type": "display_data"
    },
    {
     "data": {
      "text/html": [],
      "text/plain": [
       "<IPython.core.display.HTML object>"
      ]
     },
     "metadata": {},
     "output_type": "display_data"
    },
    {
     "data": {
      "text/html": [],
      "text/plain": [
       "<IPython.core.display.HTML object>"
      ]
     },
     "metadata": {},
     "output_type": "display_data"
    },
    {
     "data": {
      "text/html": [],
      "text/plain": [
       "<IPython.core.display.HTML object>"
      ]
     },
     "metadata": {},
     "output_type": "display_data"
    },
    {
     "data": {
      "text/html": [],
      "text/plain": [
       "<IPython.core.display.HTML object>"
      ]
     },
     "metadata": {},
     "output_type": "display_data"
    },
    {
     "data": {
      "text/html": [],
      "text/plain": [
       "<IPython.core.display.HTML object>"
      ]
     },
     "metadata": {},
     "output_type": "display_data"
    },
    {
     "data": {
      "text/html": [],
      "text/plain": [
       "<IPython.core.display.HTML object>"
      ]
     },
     "metadata": {},
     "output_type": "display_data"
    },
    {
     "data": {
      "text/html": [],
      "text/plain": [
       "<IPython.core.display.HTML object>"
      ]
     },
     "metadata": {},
     "output_type": "display_data"
    },
    {
     "data": {
      "text/html": [],
      "text/plain": [
       "<IPython.core.display.HTML object>"
      ]
     },
     "metadata": {},
     "output_type": "display_data"
    },
    {
     "data": {
      "text/html": [],
      "text/plain": [
       "<IPython.core.display.HTML object>"
      ]
     },
     "metadata": {},
     "output_type": "display_data"
    },
    {
     "data": {
      "text/html": [],
      "text/plain": [
       "<IPython.core.display.HTML object>"
      ]
     },
     "metadata": {},
     "output_type": "display_data"
    },
    {
     "data": {
      "text/html": [],
      "text/plain": [
       "<IPython.core.display.HTML object>"
      ]
     },
     "metadata": {},
     "output_type": "display_data"
    },
    {
     "data": {
      "text/html": [],
      "text/plain": [
       "<IPython.core.display.HTML object>"
      ]
     },
     "metadata": {},
     "output_type": "display_data"
    },
    {
     "data": {
      "text/html": [],
      "text/plain": [
       "<IPython.core.display.HTML object>"
      ]
     },
     "metadata": {},
     "output_type": "display_data"
    },
    {
     "data": {
      "text/html": [],
      "text/plain": [
       "<IPython.core.display.HTML object>"
      ]
     },
     "metadata": {},
     "output_type": "display_data"
    },
    {
     "data": {
      "text/html": [],
      "text/plain": [
       "<IPython.core.display.HTML object>"
      ]
     },
     "metadata": {},
     "output_type": "display_data"
    },
    {
     "data": {
      "text/html": [],
      "text/plain": [
       "<IPython.core.display.HTML object>"
      ]
     },
     "metadata": {},
     "output_type": "display_data"
    },
    {
     "data": {
      "text/html": [],
      "text/plain": [
       "<IPython.core.display.HTML object>"
      ]
     },
     "metadata": {},
     "output_type": "display_data"
    },
    {
     "data": {
      "text/html": [],
      "text/plain": [
       "<IPython.core.display.HTML object>"
      ]
     },
     "metadata": {},
     "output_type": "display_data"
    },
    {
     "data": {
      "text/html": [],
      "text/plain": [
       "<IPython.core.display.HTML object>"
      ]
     },
     "metadata": {},
     "output_type": "display_data"
    },
    {
     "data": {
      "text/html": [],
      "text/plain": [
       "<IPython.core.display.HTML object>"
      ]
     },
     "metadata": {},
     "output_type": "display_data"
    },
    {
     "data": {
      "text/html": [],
      "text/plain": [
       "<IPython.core.display.HTML object>"
      ]
     },
     "metadata": {},
     "output_type": "display_data"
    },
    {
     "data": {
      "text/html": [],
      "text/plain": [
       "<IPython.core.display.HTML object>"
      ]
     },
     "metadata": {},
     "output_type": "display_data"
    },
    {
     "data": {
      "text/html": [],
      "text/plain": [
       "<IPython.core.display.HTML object>"
      ]
     },
     "metadata": {},
     "output_type": "display_data"
    },
    {
     "data": {
      "text/html": [],
      "text/plain": [
       "<IPython.core.display.HTML object>"
      ]
     },
     "metadata": {},
     "output_type": "display_data"
    },
    {
     "data": {
      "text/html": [],
      "text/plain": [
       "<IPython.core.display.HTML object>"
      ]
     },
     "metadata": {},
     "output_type": "display_data"
    },
    {
     "data": {
      "text/html": [],
      "text/plain": [
       "<IPython.core.display.HTML object>"
      ]
     },
     "metadata": {},
     "output_type": "display_data"
    },
    {
     "data": {
      "text/html": [],
      "text/plain": [
       "<IPython.core.display.HTML object>"
      ]
     },
     "metadata": {},
     "output_type": "display_data"
    },
    {
     "data": {
      "text/html": [],
      "text/plain": [
       "<IPython.core.display.HTML object>"
      ]
     },
     "metadata": {},
     "output_type": "display_data"
    },
    {
     "data": {
      "text/html": [],
      "text/plain": [
       "<IPython.core.display.HTML object>"
      ]
     },
     "metadata": {},
     "output_type": "display_data"
    },
    {
     "data": {
      "text/html": [],
      "text/plain": [
       "<IPython.core.display.HTML object>"
      ]
     },
     "metadata": {},
     "output_type": "display_data"
    },
    {
     "data": {
      "text/html": [],
      "text/plain": [
       "<IPython.core.display.HTML object>"
      ]
     },
     "metadata": {},
     "output_type": "display_data"
    },
    {
     "data": {
      "text/html": [],
      "text/plain": [
       "<IPython.core.display.HTML object>"
      ]
     },
     "metadata": {},
     "output_type": "display_data"
    },
    {
     "data": {
      "text/html": [],
      "text/plain": [
       "<IPython.core.display.HTML object>"
      ]
     },
     "metadata": {},
     "output_type": "display_data"
    },
    {
     "data": {
      "text/html": [],
      "text/plain": [
       "<IPython.core.display.HTML object>"
      ]
     },
     "metadata": {},
     "output_type": "display_data"
    },
    {
     "data": {
      "text/html": [],
      "text/plain": [
       "<IPython.core.display.HTML object>"
      ]
     },
     "metadata": {},
     "output_type": "display_data"
    },
    {
     "data": {
      "text/html": [],
      "text/plain": [
       "<IPython.core.display.HTML object>"
      ]
     },
     "metadata": {},
     "output_type": "display_data"
    },
    {
     "data": {
      "text/html": [],
      "text/plain": [
       "<IPython.core.display.HTML object>"
      ]
     },
     "metadata": {},
     "output_type": "display_data"
    },
    {
     "data": {
      "text/html": [],
      "text/plain": [
       "<IPython.core.display.HTML object>"
      ]
     },
     "metadata": {},
     "output_type": "display_data"
    },
    {
     "data": {
      "text/html": [],
      "text/plain": [
       "<IPython.core.display.HTML object>"
      ]
     },
     "metadata": {},
     "output_type": "display_data"
    },
    {
     "data": {
      "text/html": [],
      "text/plain": [
       "<IPython.core.display.HTML object>"
      ]
     },
     "metadata": {},
     "output_type": "display_data"
    },
    {
     "data": {
      "text/html": [],
      "text/plain": [
       "<IPython.core.display.HTML object>"
      ]
     },
     "metadata": {},
     "output_type": "display_data"
    },
    {
     "data": {
      "text/html": [],
      "text/plain": [
       "<IPython.core.display.HTML object>"
      ]
     },
     "metadata": {},
     "output_type": "display_data"
    },
    {
     "data": {
      "text/html": [],
      "text/plain": [
       "<IPython.core.display.HTML object>"
      ]
     },
     "metadata": {},
     "output_type": "display_data"
    },
    {
     "data": {
      "text/html": [],
      "text/plain": [
       "<IPython.core.display.HTML object>"
      ]
     },
     "metadata": {},
     "output_type": "display_data"
    },
    {
     "data": {
      "text/html": [],
      "text/plain": [
       "<IPython.core.display.HTML object>"
      ]
     },
     "metadata": {},
     "output_type": "display_data"
    },
    {
     "data": {
      "text/html": [],
      "text/plain": [
       "<IPython.core.display.HTML object>"
      ]
     },
     "metadata": {},
     "output_type": "display_data"
    },
    {
     "data": {
      "text/html": [],
      "text/plain": [
       "<IPython.core.display.HTML object>"
      ]
     },
     "metadata": {},
     "output_type": "display_data"
    },
    {
     "data": {
      "text/html": [],
      "text/plain": [
       "<IPython.core.display.HTML object>"
      ]
     },
     "metadata": {},
     "output_type": "display_data"
    },
    {
     "data": {
      "text/html": [],
      "text/plain": [
       "<IPython.core.display.HTML object>"
      ]
     },
     "metadata": {},
     "output_type": "display_data"
    },
    {
     "data": {
      "text/html": [],
      "text/plain": [
       "<IPython.core.display.HTML object>"
      ]
     },
     "metadata": {},
     "output_type": "display_data"
    },
    {
     "data": {
      "text/html": [],
      "text/plain": [
       "<IPython.core.display.HTML object>"
      ]
     },
     "metadata": {},
     "output_type": "display_data"
    },
    {
     "data": {
      "text/html": [],
      "text/plain": [
       "<IPython.core.display.HTML object>"
      ]
     },
     "metadata": {},
     "output_type": "display_data"
    },
    {
     "data": {
      "text/html": [],
      "text/plain": [
       "<IPython.core.display.HTML object>"
      ]
     },
     "metadata": {},
     "output_type": "display_data"
    },
    {
     "data": {
      "text/html": [],
      "text/plain": [
       "<IPython.core.display.HTML object>"
      ]
     },
     "metadata": {},
     "output_type": "display_data"
    },
    {
     "data": {
      "text/html": [],
      "text/plain": [
       "<IPython.core.display.HTML object>"
      ]
     },
     "metadata": {},
     "output_type": "display_data"
    },
    {
     "data": {
      "text/html": [],
      "text/plain": [
       "<IPython.core.display.HTML object>"
      ]
     },
     "metadata": {},
     "output_type": "display_data"
    },
    {
     "data": {
      "text/html": [],
      "text/plain": [
       "<IPython.core.display.HTML object>"
      ]
     },
     "metadata": {},
     "output_type": "display_data"
    },
    {
     "data": {
      "text/html": [],
      "text/plain": [
       "<IPython.core.display.HTML object>"
      ]
     },
     "metadata": {},
     "output_type": "display_data"
    },
    {
     "data": {
      "text/html": [],
      "text/plain": [
       "<IPython.core.display.HTML object>"
      ]
     },
     "metadata": {},
     "output_type": "display_data"
    },
    {
     "data": {
      "text/html": [],
      "text/plain": [
       "<IPython.core.display.HTML object>"
      ]
     },
     "metadata": {},
     "output_type": "display_data"
    },
    {
     "data": {
      "text/html": [],
      "text/plain": [
       "<IPython.core.display.HTML object>"
      ]
     },
     "metadata": {},
     "output_type": "display_data"
    },
    {
     "data": {
      "text/html": [],
      "text/plain": [
       "<IPython.core.display.HTML object>"
      ]
     },
     "metadata": {},
     "output_type": "display_data"
    },
    {
     "data": {
      "text/html": [],
      "text/plain": [
       "<IPython.core.display.HTML object>"
      ]
     },
     "metadata": {},
     "output_type": "display_data"
    },
    {
     "data": {
      "text/html": [],
      "text/plain": [
       "<IPython.core.display.HTML object>"
      ]
     },
     "metadata": {},
     "output_type": "display_data"
    },
    {
     "data": {
      "text/html": [],
      "text/plain": [
       "<IPython.core.display.HTML object>"
      ]
     },
     "metadata": {},
     "output_type": "display_data"
    },
    {
     "data": {
      "text/html": [],
      "text/plain": [
       "<IPython.core.display.HTML object>"
      ]
     },
     "metadata": {},
     "output_type": "display_data"
    },
    {
     "data": {
      "text/html": [],
      "text/plain": [
       "<IPython.core.display.HTML object>"
      ]
     },
     "metadata": {},
     "output_type": "display_data"
    },
    {
     "data": {
      "text/html": [],
      "text/plain": [
       "<IPython.core.display.HTML object>"
      ]
     },
     "metadata": {},
     "output_type": "display_data"
    },
    {
     "data": {
      "text/html": [],
      "text/plain": [
       "<IPython.core.display.HTML object>"
      ]
     },
     "metadata": {},
     "output_type": "display_data"
    },
    {
     "data": {
      "text/html": [],
      "text/plain": [
       "<IPython.core.display.HTML object>"
      ]
     },
     "metadata": {},
     "output_type": "display_data"
    },
    {
     "data": {
      "text/html": [],
      "text/plain": [
       "<IPython.core.display.HTML object>"
      ]
     },
     "metadata": {},
     "output_type": "display_data"
    },
    {
     "data": {
      "text/html": [],
      "text/plain": [
       "<IPython.core.display.HTML object>"
      ]
     },
     "metadata": {},
     "output_type": "display_data"
    },
    {
     "data": {
      "text/html": [],
      "text/plain": [
       "<IPython.core.display.HTML object>"
      ]
     },
     "metadata": {},
     "output_type": "display_data"
    },
    {
     "data": {
      "text/html": [],
      "text/plain": [
       "<IPython.core.display.HTML object>"
      ]
     },
     "metadata": {},
     "output_type": "display_data"
    },
    {
     "data": {
      "text/html": [],
      "text/plain": [
       "<IPython.core.display.HTML object>"
      ]
     },
     "metadata": {},
     "output_type": "display_data"
    },
    {
     "data": {
      "text/html": [],
      "text/plain": [
       "<IPython.core.display.HTML object>"
      ]
     },
     "metadata": {},
     "output_type": "display_data"
    },
    {
     "data": {
      "text/html": [],
      "text/plain": [
       "<IPython.core.display.HTML object>"
      ]
     },
     "metadata": {},
     "output_type": "display_data"
    },
    {
     "data": {
      "text/html": [],
      "text/plain": [
       "<IPython.core.display.HTML object>"
      ]
     },
     "metadata": {},
     "output_type": "display_data"
    },
    {
     "data": {
      "text/html": [],
      "text/plain": [
       "<IPython.core.display.HTML object>"
      ]
     },
     "metadata": {},
     "output_type": "display_data"
    },
    {
     "data": {
      "text/html": [],
      "text/plain": [
       "<IPython.core.display.HTML object>"
      ]
     },
     "metadata": {},
     "output_type": "display_data"
    },
    {
     "data": {
      "text/html": [],
      "text/plain": [
       "<IPython.core.display.HTML object>"
      ]
     },
     "metadata": {},
     "output_type": "display_data"
    },
    {
     "data": {
      "text/html": [],
      "text/plain": [
       "<IPython.core.display.HTML object>"
      ]
     },
     "metadata": {},
     "output_type": "display_data"
    },
    {
     "data": {
      "text/html": [],
      "text/plain": [
       "<IPython.core.display.HTML object>"
      ]
     },
     "metadata": {},
     "output_type": "display_data"
    },
    {
     "data": {
      "text/html": [],
      "text/plain": [
       "<IPython.core.display.HTML object>"
      ]
     },
     "metadata": {},
     "output_type": "display_data"
    },
    {
     "data": {
      "text/html": [],
      "text/plain": [
       "<IPython.core.display.HTML object>"
      ]
     },
     "metadata": {},
     "output_type": "display_data"
    },
    {
     "data": {
      "text/html": [],
      "text/plain": [
       "<IPython.core.display.HTML object>"
      ]
     },
     "metadata": {},
     "output_type": "display_data"
    },
    {
     "data": {
      "text/html": [],
      "text/plain": [
       "<IPython.core.display.HTML object>"
      ]
     },
     "metadata": {},
     "output_type": "display_data"
    },
    {
     "data": {
      "text/html": [],
      "text/plain": [
       "<IPython.core.display.HTML object>"
      ]
     },
     "metadata": {},
     "output_type": "display_data"
    },
    {
     "data": {
      "text/html": [],
      "text/plain": [
       "<IPython.core.display.HTML object>"
      ]
     },
     "metadata": {},
     "output_type": "display_data"
    },
    {
     "data": {
      "text/html": [],
      "text/plain": [
       "<IPython.core.display.HTML object>"
      ]
     },
     "metadata": {},
     "output_type": "display_data"
    },
    {
     "data": {
      "text/html": [],
      "text/plain": [
       "<IPython.core.display.HTML object>"
      ]
     },
     "metadata": {},
     "output_type": "display_data"
    },
    {
     "data": {
      "text/html": [],
      "text/plain": [
       "<IPython.core.display.HTML object>"
      ]
     },
     "metadata": {},
     "output_type": "display_data"
    },
    {
     "data": {
      "text/html": [],
      "text/plain": [
       "<IPython.core.display.HTML object>"
      ]
     },
     "metadata": {},
     "output_type": "display_data"
    },
    {
     "data": {
      "text/html": [],
      "text/plain": [
       "<IPython.core.display.HTML object>"
      ]
     },
     "metadata": {},
     "output_type": "display_data"
    },
    {
     "data": {
      "text/html": [],
      "text/plain": [
       "<IPython.core.display.HTML object>"
      ]
     },
     "metadata": {},
     "output_type": "display_data"
    },
    {
     "data": {
      "text/html": [],
      "text/plain": [
       "<IPython.core.display.HTML object>"
      ]
     },
     "metadata": {},
     "output_type": "display_data"
    },
    {
     "data": {
      "text/html": [],
      "text/plain": [
       "<IPython.core.display.HTML object>"
      ]
     },
     "metadata": {},
     "output_type": "display_data"
    },
    {
     "data": {
      "text/html": [],
      "text/plain": [
       "<IPython.core.display.HTML object>"
      ]
     },
     "metadata": {},
     "output_type": "display_data"
    },
    {
     "data": {
      "text/html": [],
      "text/plain": [
       "<IPython.core.display.HTML object>"
      ]
     },
     "metadata": {},
     "output_type": "display_data"
    },
    {
     "data": {
      "text/html": [],
      "text/plain": [
       "<IPython.core.display.HTML object>"
      ]
     },
     "metadata": {},
     "output_type": "display_data"
    },
    {
     "data": {
      "text/html": [],
      "text/plain": [
       "<IPython.core.display.HTML object>"
      ]
     },
     "metadata": {},
     "output_type": "display_data"
    },
    {
     "data": {
      "text/html": [],
      "text/plain": [
       "<IPython.core.display.HTML object>"
      ]
     },
     "metadata": {},
     "output_type": "display_data"
    },
    {
     "data": {
      "text/html": [],
      "text/plain": [
       "<IPython.core.display.HTML object>"
      ]
     },
     "metadata": {},
     "output_type": "display_data"
    },
    {
     "data": {
      "text/html": [],
      "text/plain": [
       "<IPython.core.display.HTML object>"
      ]
     },
     "metadata": {},
     "output_type": "display_data"
    },
    {
     "data": {
      "text/html": [],
      "text/plain": [
       "<IPython.core.display.HTML object>"
      ]
     },
     "metadata": {},
     "output_type": "display_data"
    },
    {
     "data": {
      "text/html": [],
      "text/plain": [
       "<IPython.core.display.HTML object>"
      ]
     },
     "metadata": {},
     "output_type": "display_data"
    },
    {
     "data": {
      "text/html": [],
      "text/plain": [
       "<IPython.core.display.HTML object>"
      ]
     },
     "metadata": {},
     "output_type": "display_data"
    },
    {
     "data": {
      "text/html": [],
      "text/plain": [
       "<IPython.core.display.HTML object>"
      ]
     },
     "metadata": {},
     "output_type": "display_data"
    },
    {
     "data": {
      "text/html": [],
      "text/plain": [
       "<IPython.core.display.HTML object>"
      ]
     },
     "metadata": {},
     "output_type": "display_data"
    },
    {
     "data": {
      "text/html": [],
      "text/plain": [
       "<IPython.core.display.HTML object>"
      ]
     },
     "metadata": {},
     "output_type": "display_data"
    },
    {
     "data": {
      "text/html": [],
      "text/plain": [
       "<IPython.core.display.HTML object>"
      ]
     },
     "metadata": {},
     "output_type": "display_data"
    },
    {
     "data": {
      "text/html": [],
      "text/plain": [
       "<IPython.core.display.HTML object>"
      ]
     },
     "metadata": {},
     "output_type": "display_data"
    },
    {
     "data": {
      "text/html": [],
      "text/plain": [
       "<IPython.core.display.HTML object>"
      ]
     },
     "metadata": {},
     "output_type": "display_data"
    },
    {
     "data": {
      "text/html": [],
      "text/plain": [
       "<IPython.core.display.HTML object>"
      ]
     },
     "metadata": {},
     "output_type": "display_data"
    },
    {
     "data": {
      "text/html": [],
      "text/plain": [
       "<IPython.core.display.HTML object>"
      ]
     },
     "metadata": {},
     "output_type": "display_data"
    },
    {
     "data": {
      "text/html": [],
      "text/plain": [
       "<IPython.core.display.HTML object>"
      ]
     },
     "metadata": {},
     "output_type": "display_data"
    },
    {
     "data": {
      "text/html": [],
      "text/plain": [
       "<IPython.core.display.HTML object>"
      ]
     },
     "metadata": {},
     "output_type": "display_data"
    },
    {
     "data": {
      "text/html": [],
      "text/plain": [
       "<IPython.core.display.HTML object>"
      ]
     },
     "metadata": {},
     "output_type": "display_data"
    },
    {
     "data": {
      "text/html": [],
      "text/plain": [
       "<IPython.core.display.HTML object>"
      ]
     },
     "metadata": {},
     "output_type": "display_data"
    },
    {
     "data": {
      "text/html": [],
      "text/plain": [
       "<IPython.core.display.HTML object>"
      ]
     },
     "metadata": {},
     "output_type": "display_data"
    },
    {
     "data": {
      "text/html": [],
      "text/plain": [
       "<IPython.core.display.HTML object>"
      ]
     },
     "metadata": {},
     "output_type": "display_data"
    },
    {
     "data": {
      "text/html": [],
      "text/plain": [
       "<IPython.core.display.HTML object>"
      ]
     },
     "metadata": {},
     "output_type": "display_data"
    },
    {
     "data": {
      "text/html": [],
      "text/plain": [
       "<IPython.core.display.HTML object>"
      ]
     },
     "metadata": {},
     "output_type": "display_data"
    },
    {
     "data": {
      "text/html": [],
      "text/plain": [
       "<IPython.core.display.HTML object>"
      ]
     },
     "metadata": {},
     "output_type": "display_data"
    },
    {
     "data": {
      "text/html": [],
      "text/plain": [
       "<IPython.core.display.HTML object>"
      ]
     },
     "metadata": {},
     "output_type": "display_data"
    },
    {
     "data": {
      "text/html": [],
      "text/plain": [
       "<IPython.core.display.HTML object>"
      ]
     },
     "metadata": {},
     "output_type": "display_data"
    },
    {
     "data": {
      "text/html": [],
      "text/plain": [
       "<IPython.core.display.HTML object>"
      ]
     },
     "metadata": {},
     "output_type": "display_data"
    },
    {
     "data": {
      "text/html": [],
      "text/plain": [
       "<IPython.core.display.HTML object>"
      ]
     },
     "metadata": {},
     "output_type": "display_data"
    },
    {
     "data": {
      "text/html": [],
      "text/plain": [
       "<IPython.core.display.HTML object>"
      ]
     },
     "metadata": {},
     "output_type": "display_data"
    },
    {
     "data": {
      "text/html": [],
      "text/plain": [
       "<IPython.core.display.HTML object>"
      ]
     },
     "metadata": {},
     "output_type": "display_data"
    },
    {
     "data": {
      "text/html": [],
      "text/plain": [
       "<IPython.core.display.HTML object>"
      ]
     },
     "metadata": {},
     "output_type": "display_data"
    },
    {
     "data": {
      "text/html": [],
      "text/plain": [
       "<IPython.core.display.HTML object>"
      ]
     },
     "metadata": {},
     "output_type": "display_data"
    },
    {
     "data": {
      "text/html": [],
      "text/plain": [
       "<IPython.core.display.HTML object>"
      ]
     },
     "metadata": {},
     "output_type": "display_data"
    },
    {
     "data": {
      "text/html": [],
      "text/plain": [
       "<IPython.core.display.HTML object>"
      ]
     },
     "metadata": {},
     "output_type": "display_data"
    },
    {
     "data": {
      "text/html": [],
      "text/plain": [
       "<IPython.core.display.HTML object>"
      ]
     },
     "metadata": {},
     "output_type": "display_data"
    },
    {
     "data": {
      "text/html": [],
      "text/plain": [
       "<IPython.core.display.HTML object>"
      ]
     },
     "metadata": {},
     "output_type": "display_data"
    },
    {
     "data": {
      "text/html": [],
      "text/plain": [
       "<IPython.core.display.HTML object>"
      ]
     },
     "metadata": {},
     "output_type": "display_data"
    },
    {
     "data": {
      "text/html": [],
      "text/plain": [
       "<IPython.core.display.HTML object>"
      ]
     },
     "metadata": {},
     "output_type": "display_data"
    },
    {
     "data": {
      "text/html": [],
      "text/plain": [
       "<IPython.core.display.HTML object>"
      ]
     },
     "metadata": {},
     "output_type": "display_data"
    },
    {
     "data": {
      "text/html": [],
      "text/plain": [
       "<IPython.core.display.HTML object>"
      ]
     },
     "metadata": {},
     "output_type": "display_data"
    },
    {
     "data": {
      "text/html": [],
      "text/plain": [
       "<IPython.core.display.HTML object>"
      ]
     },
     "metadata": {},
     "output_type": "display_data"
    },
    {
     "data": {
      "text/html": [],
      "text/plain": [
       "<IPython.core.display.HTML object>"
      ]
     },
     "metadata": {},
     "output_type": "display_data"
    },
    {
     "data": {
      "text/html": [],
      "text/plain": [
       "<IPython.core.display.HTML object>"
      ]
     },
     "metadata": {},
     "output_type": "display_data"
    },
    {
     "data": {
      "text/html": [],
      "text/plain": [
       "<IPython.core.display.HTML object>"
      ]
     },
     "metadata": {},
     "output_type": "display_data"
    },
    {
     "data": {
      "text/html": [],
      "text/plain": [
       "<IPython.core.display.HTML object>"
      ]
     },
     "metadata": {},
     "output_type": "display_data"
    },
    {
     "data": {
      "text/html": [],
      "text/plain": [
       "<IPython.core.display.HTML object>"
      ]
     },
     "metadata": {},
     "output_type": "display_data"
    },
    {
     "data": {
      "text/html": [],
      "text/plain": [
       "<IPython.core.display.HTML object>"
      ]
     },
     "metadata": {},
     "output_type": "display_data"
    },
    {
     "data": {
      "text/html": [],
      "text/plain": [
       "<IPython.core.display.HTML object>"
      ]
     },
     "metadata": {},
     "output_type": "display_data"
    },
    {
     "data": {
      "text/html": [],
      "text/plain": [
       "<IPython.core.display.HTML object>"
      ]
     },
     "metadata": {},
     "output_type": "display_data"
    },
    {
     "data": {
      "text/html": [],
      "text/plain": [
       "<IPython.core.display.HTML object>"
      ]
     },
     "metadata": {},
     "output_type": "display_data"
    },
    {
     "data": {
      "text/html": [],
      "text/plain": [
       "<IPython.core.display.HTML object>"
      ]
     },
     "metadata": {},
     "output_type": "display_data"
    },
    {
     "data": {
      "text/html": [],
      "text/plain": [
       "<IPython.core.display.HTML object>"
      ]
     },
     "metadata": {},
     "output_type": "display_data"
    },
    {
     "data": {
      "text/html": [],
      "text/plain": [
       "<IPython.core.display.HTML object>"
      ]
     },
     "metadata": {},
     "output_type": "display_data"
    },
    {
     "data": {
      "text/html": [],
      "text/plain": [
       "<IPython.core.display.HTML object>"
      ]
     },
     "metadata": {},
     "output_type": "display_data"
    },
    {
     "data": {
      "text/html": [],
      "text/plain": [
       "<IPython.core.display.HTML object>"
      ]
     },
     "metadata": {},
     "output_type": "display_data"
    },
    {
     "data": {
      "text/html": [],
      "text/plain": [
       "<IPython.core.display.HTML object>"
      ]
     },
     "metadata": {},
     "output_type": "display_data"
    },
    {
     "data": {
      "text/html": [],
      "text/plain": [
       "<IPython.core.display.HTML object>"
      ]
     },
     "metadata": {},
     "output_type": "display_data"
    },
    {
     "data": {
      "text/html": [],
      "text/plain": [
       "<IPython.core.display.HTML object>"
      ]
     },
     "metadata": {},
     "output_type": "display_data"
    },
    {
     "data": {
      "text/html": [],
      "text/plain": [
       "<IPython.core.display.HTML object>"
      ]
     },
     "metadata": {},
     "output_type": "display_data"
    },
    {
     "data": {
      "text/html": [],
      "text/plain": [
       "<IPython.core.display.HTML object>"
      ]
     },
     "metadata": {},
     "output_type": "display_data"
    },
    {
     "data": {
      "text/html": [],
      "text/plain": [
       "<IPython.core.display.HTML object>"
      ]
     },
     "metadata": {},
     "output_type": "display_data"
    },
    {
     "data": {
      "text/html": [],
      "text/plain": [
       "<IPython.core.display.HTML object>"
      ]
     },
     "metadata": {},
     "output_type": "display_data"
    },
    {
     "data": {
      "text/html": [],
      "text/plain": [
       "<IPython.core.display.HTML object>"
      ]
     },
     "metadata": {},
     "output_type": "display_data"
    },
    {
     "data": {
      "text/html": [],
      "text/plain": [
       "<IPython.core.display.HTML object>"
      ]
     },
     "metadata": {},
     "output_type": "display_data"
    },
    {
     "data": {
      "text/html": [],
      "text/plain": [
       "<IPython.core.display.HTML object>"
      ]
     },
     "metadata": {},
     "output_type": "display_data"
    },
    {
     "data": {
      "text/html": [],
      "text/plain": [
       "<IPython.core.display.HTML object>"
      ]
     },
     "metadata": {},
     "output_type": "display_data"
    },
    {
     "data": {
      "text/html": [],
      "text/plain": [
       "<IPython.core.display.HTML object>"
      ]
     },
     "metadata": {},
     "output_type": "display_data"
    },
    {
     "data": {
      "text/html": [],
      "text/plain": [
       "<IPython.core.display.HTML object>"
      ]
     },
     "metadata": {},
     "output_type": "display_data"
    },
    {
     "data": {
      "text/html": [],
      "text/plain": [
       "<IPython.core.display.HTML object>"
      ]
     },
     "metadata": {},
     "output_type": "display_data"
    },
    {
     "data": {
      "text/html": [],
      "text/plain": [
       "<IPython.core.display.HTML object>"
      ]
     },
     "metadata": {},
     "output_type": "display_data"
    },
    {
     "data": {
      "text/html": [],
      "text/plain": [
       "<IPython.core.display.HTML object>"
      ]
     },
     "metadata": {},
     "output_type": "display_data"
    },
    {
     "data": {
      "text/html": [],
      "text/plain": [
       "<IPython.core.display.HTML object>"
      ]
     },
     "metadata": {},
     "output_type": "display_data"
    },
    {
     "data": {
      "text/html": [],
      "text/plain": [
       "<IPython.core.display.HTML object>"
      ]
     },
     "metadata": {},
     "output_type": "display_data"
    },
    {
     "data": {
      "text/html": [],
      "text/plain": [
       "<IPython.core.display.HTML object>"
      ]
     },
     "metadata": {},
     "output_type": "display_data"
    },
    {
     "data": {
      "text/html": [],
      "text/plain": [
       "<IPython.core.display.HTML object>"
      ]
     },
     "metadata": {},
     "output_type": "display_data"
    },
    {
     "data": {
      "text/html": [],
      "text/plain": [
       "<IPython.core.display.HTML object>"
      ]
     },
     "metadata": {},
     "output_type": "display_data"
    },
    {
     "data": {
      "text/html": [],
      "text/plain": [
       "<IPython.core.display.HTML object>"
      ]
     },
     "metadata": {},
     "output_type": "display_data"
    },
    {
     "data": {
      "text/html": [],
      "text/plain": [
       "<IPython.core.display.HTML object>"
      ]
     },
     "metadata": {},
     "output_type": "display_data"
    },
    {
     "data": {
      "text/html": [],
      "text/plain": [
       "<IPython.core.display.HTML object>"
      ]
     },
     "metadata": {},
     "output_type": "display_data"
    },
    {
     "data": {
      "text/html": [],
      "text/plain": [
       "<IPython.core.display.HTML object>"
      ]
     },
     "metadata": {},
     "output_type": "display_data"
    },
    {
     "data": {
      "text/html": [],
      "text/plain": [
       "<IPython.core.display.HTML object>"
      ]
     },
     "metadata": {},
     "output_type": "display_data"
    },
    {
     "data": {
      "text/html": [],
      "text/plain": [
       "<IPython.core.display.HTML object>"
      ]
     },
     "metadata": {},
     "output_type": "display_data"
    },
    {
     "data": {
      "text/html": [],
      "text/plain": [
       "<IPython.core.display.HTML object>"
      ]
     },
     "metadata": {},
     "output_type": "display_data"
    },
    {
     "data": {
      "text/html": [],
      "text/plain": [
       "<IPython.core.display.HTML object>"
      ]
     },
     "metadata": {},
     "output_type": "display_data"
    },
    {
     "data": {
      "text/html": [],
      "text/plain": [
       "<IPython.core.display.HTML object>"
      ]
     },
     "metadata": {},
     "output_type": "display_data"
    },
    {
     "data": {
      "text/html": [],
      "text/plain": [
       "<IPython.core.display.HTML object>"
      ]
     },
     "metadata": {},
     "output_type": "display_data"
    },
    {
     "data": {
      "text/html": [],
      "text/plain": [
       "<IPython.core.display.HTML object>"
      ]
     },
     "metadata": {},
     "output_type": "display_data"
    },
    {
     "data": {
      "text/html": [],
      "text/plain": [
       "<IPython.core.display.HTML object>"
      ]
     },
     "metadata": {},
     "output_type": "display_data"
    },
    {
     "data": {
      "text/html": [],
      "text/plain": [
       "<IPython.core.display.HTML object>"
      ]
     },
     "metadata": {},
     "output_type": "display_data"
    },
    {
     "data": {
      "text/html": [],
      "text/plain": [
       "<IPython.core.display.HTML object>"
      ]
     },
     "metadata": {},
     "output_type": "display_data"
    },
    {
     "data": {
      "text/html": [],
      "text/plain": [
       "<IPython.core.display.HTML object>"
      ]
     },
     "metadata": {},
     "output_type": "display_data"
    },
    {
     "data": {
      "text/html": [],
      "text/plain": [
       "<IPython.core.display.HTML object>"
      ]
     },
     "metadata": {},
     "output_type": "display_data"
    },
    {
     "data": {
      "text/html": [],
      "text/plain": [
       "<IPython.core.display.HTML object>"
      ]
     },
     "metadata": {},
     "output_type": "display_data"
    },
    {
     "data": {
      "text/html": [],
      "text/plain": [
       "<IPython.core.display.HTML object>"
      ]
     },
     "metadata": {},
     "output_type": "display_data"
    },
    {
     "data": {
      "text/html": [],
      "text/plain": [
       "<IPython.core.display.HTML object>"
      ]
     },
     "metadata": {},
     "output_type": "display_data"
    },
    {
     "data": {
      "text/html": [],
      "text/plain": [
       "<IPython.core.display.HTML object>"
      ]
     },
     "metadata": {},
     "output_type": "display_data"
    },
    {
     "data": {
      "text/html": [],
      "text/plain": [
       "<IPython.core.display.HTML object>"
      ]
     },
     "metadata": {},
     "output_type": "display_data"
    },
    {
     "data": {
      "text/html": [],
      "text/plain": [
       "<IPython.core.display.HTML object>"
      ]
     },
     "metadata": {},
     "output_type": "display_data"
    },
    {
     "data": {
      "text/html": [],
      "text/plain": [
       "<IPython.core.display.HTML object>"
      ]
     },
     "metadata": {},
     "output_type": "display_data"
    },
    {
     "data": {
      "text/html": [],
      "text/plain": [
       "<IPython.core.display.HTML object>"
      ]
     },
     "metadata": {},
     "output_type": "display_data"
    },
    {
     "data": {
      "text/html": [],
      "text/plain": [
       "<IPython.core.display.HTML object>"
      ]
     },
     "metadata": {},
     "output_type": "display_data"
    },
    {
     "data": {
      "text/html": [],
      "text/plain": [
       "<IPython.core.display.HTML object>"
      ]
     },
     "metadata": {},
     "output_type": "display_data"
    },
    {
     "data": {
      "text/html": [],
      "text/plain": [
       "<IPython.core.display.HTML object>"
      ]
     },
     "metadata": {},
     "output_type": "display_data"
    },
    {
     "data": {
      "text/html": [],
      "text/plain": [
       "<IPython.core.display.HTML object>"
      ]
     },
     "metadata": {},
     "output_type": "display_data"
    },
    {
     "data": {
      "text/html": [],
      "text/plain": [
       "<IPython.core.display.HTML object>"
      ]
     },
     "metadata": {},
     "output_type": "display_data"
    },
    {
     "data": {
      "text/html": [],
      "text/plain": [
       "<IPython.core.display.HTML object>"
      ]
     },
     "metadata": {},
     "output_type": "display_data"
    },
    {
     "data": {
      "text/html": [],
      "text/plain": [
       "<IPython.core.display.HTML object>"
      ]
     },
     "metadata": {},
     "output_type": "display_data"
    },
    {
     "data": {
      "text/html": [],
      "text/plain": [
       "<IPython.core.display.HTML object>"
      ]
     },
     "metadata": {},
     "output_type": "display_data"
    },
    {
     "data": {
      "text/html": [],
      "text/plain": [
       "<IPython.core.display.HTML object>"
      ]
     },
     "metadata": {},
     "output_type": "display_data"
    },
    {
     "data": {
      "text/html": [],
      "text/plain": [
       "<IPython.core.display.HTML object>"
      ]
     },
     "metadata": {},
     "output_type": "display_data"
    },
    {
     "data": {
      "text/html": [],
      "text/plain": [
       "<IPython.core.display.HTML object>"
      ]
     },
     "metadata": {},
     "output_type": "display_data"
    },
    {
     "data": {
      "text/html": [],
      "text/plain": [
       "<IPython.core.display.HTML object>"
      ]
     },
     "metadata": {},
     "output_type": "display_data"
    },
    {
     "data": {
      "text/html": [],
      "text/plain": [
       "<IPython.core.display.HTML object>"
      ]
     },
     "metadata": {},
     "output_type": "display_data"
    },
    {
     "data": {
      "text/html": [],
      "text/plain": [
       "<IPython.core.display.HTML object>"
      ]
     },
     "metadata": {},
     "output_type": "display_data"
    },
    {
     "data": {
      "text/html": [],
      "text/plain": [
       "<IPython.core.display.HTML object>"
      ]
     },
     "metadata": {},
     "output_type": "display_data"
    },
    {
     "data": {
      "text/html": [],
      "text/plain": [
       "<IPython.core.display.HTML object>"
      ]
     },
     "metadata": {},
     "output_type": "display_data"
    },
    {
     "data": {
      "text/html": [],
      "text/plain": [
       "<IPython.core.display.HTML object>"
      ]
     },
     "metadata": {},
     "output_type": "display_data"
    },
    {
     "data": {
      "text/html": [],
      "text/plain": [
       "<IPython.core.display.HTML object>"
      ]
     },
     "metadata": {},
     "output_type": "display_data"
    },
    {
     "data": {
      "text/html": [],
      "text/plain": [
       "<IPython.core.display.HTML object>"
      ]
     },
     "metadata": {},
     "output_type": "display_data"
    },
    {
     "data": {
      "text/html": [],
      "text/plain": [
       "<IPython.core.display.HTML object>"
      ]
     },
     "metadata": {},
     "output_type": "display_data"
    },
    {
     "data": {
      "text/html": [],
      "text/plain": [
       "<IPython.core.display.HTML object>"
      ]
     },
     "metadata": {},
     "output_type": "display_data"
    },
    {
     "data": {
      "text/html": [],
      "text/plain": [
       "<IPython.core.display.HTML object>"
      ]
     },
     "metadata": {},
     "output_type": "display_data"
    },
    {
     "data": {
      "text/html": [],
      "text/plain": [
       "<IPython.core.display.HTML object>"
      ]
     },
     "metadata": {},
     "output_type": "display_data"
    },
    {
     "data": {
      "text/html": [],
      "text/plain": [
       "<IPython.core.display.HTML object>"
      ]
     },
     "metadata": {},
     "output_type": "display_data"
    },
    {
     "data": {
      "text/html": [],
      "text/plain": [
       "<IPython.core.display.HTML object>"
      ]
     },
     "metadata": {},
     "output_type": "display_data"
    },
    {
     "data": {
      "text/html": [],
      "text/plain": [
       "<IPython.core.display.HTML object>"
      ]
     },
     "metadata": {},
     "output_type": "display_data"
    },
    {
     "data": {
      "text/html": [],
      "text/plain": [
       "<IPython.core.display.HTML object>"
      ]
     },
     "metadata": {},
     "output_type": "display_data"
    },
    {
     "data": {
      "text/html": [],
      "text/plain": [
       "<IPython.core.display.HTML object>"
      ]
     },
     "metadata": {},
     "output_type": "display_data"
    },
    {
     "data": {
      "text/html": [],
      "text/plain": [
       "<IPython.core.display.HTML object>"
      ]
     },
     "metadata": {},
     "output_type": "display_data"
    },
    {
     "data": {
      "text/html": [],
      "text/plain": [
       "<IPython.core.display.HTML object>"
      ]
     },
     "metadata": {},
     "output_type": "display_data"
    },
    {
     "data": {
      "text/html": [],
      "text/plain": [
       "<IPython.core.display.HTML object>"
      ]
     },
     "metadata": {},
     "output_type": "display_data"
    },
    {
     "data": {
      "text/html": [],
      "text/plain": [
       "<IPython.core.display.HTML object>"
      ]
     },
     "metadata": {},
     "output_type": "display_data"
    },
    {
     "data": {
      "text/html": [],
      "text/plain": [
       "<IPython.core.display.HTML object>"
      ]
     },
     "metadata": {},
     "output_type": "display_data"
    },
    {
     "data": {
      "text/html": [],
      "text/plain": [
       "<IPython.core.display.HTML object>"
      ]
     },
     "metadata": {},
     "output_type": "display_data"
    },
    {
     "data": {
      "text/html": [],
      "text/plain": [
       "<IPython.core.display.HTML object>"
      ]
     },
     "metadata": {},
     "output_type": "display_data"
    },
    {
     "data": {
      "text/html": [],
      "text/plain": [
       "<IPython.core.display.HTML object>"
      ]
     },
     "metadata": {},
     "output_type": "display_data"
    },
    {
     "data": {
      "text/html": [],
      "text/plain": [
       "<IPython.core.display.HTML object>"
      ]
     },
     "metadata": {},
     "output_type": "display_data"
    },
    {
     "data": {
      "text/html": [],
      "text/plain": [
       "<IPython.core.display.HTML object>"
      ]
     },
     "metadata": {},
     "output_type": "display_data"
    },
    {
     "data": {
      "text/html": [],
      "text/plain": [
       "<IPython.core.display.HTML object>"
      ]
     },
     "metadata": {},
     "output_type": "display_data"
    },
    {
     "data": {
      "text/html": [],
      "text/plain": [
       "<IPython.core.display.HTML object>"
      ]
     },
     "metadata": {},
     "output_type": "display_data"
    },
    {
     "data": {
      "text/html": [],
      "text/plain": [
       "<IPython.core.display.HTML object>"
      ]
     },
     "metadata": {},
     "output_type": "display_data"
    },
    {
     "data": {
      "text/html": [],
      "text/plain": [
       "<IPython.core.display.HTML object>"
      ]
     },
     "metadata": {},
     "output_type": "display_data"
    },
    {
     "data": {
      "text/html": [],
      "text/plain": [
       "<IPython.core.display.HTML object>"
      ]
     },
     "metadata": {},
     "output_type": "display_data"
    },
    {
     "data": {
      "text/html": [],
      "text/plain": [
       "<IPython.core.display.HTML object>"
      ]
     },
     "metadata": {},
     "output_type": "display_data"
    },
    {
     "data": {
      "text/html": [],
      "text/plain": [
       "<IPython.core.display.HTML object>"
      ]
     },
     "metadata": {},
     "output_type": "display_data"
    },
    {
     "data": {
      "text/html": [],
      "text/plain": [
       "<IPython.core.display.HTML object>"
      ]
     },
     "metadata": {},
     "output_type": "display_data"
    },
    {
     "data": {
      "text/html": [],
      "text/plain": [
       "<IPython.core.display.HTML object>"
      ]
     },
     "metadata": {},
     "output_type": "display_data"
    },
    {
     "data": {
      "text/html": [],
      "text/plain": [
       "<IPython.core.display.HTML object>"
      ]
     },
     "metadata": {},
     "output_type": "display_data"
    },
    {
     "data": {
      "text/html": [],
      "text/plain": [
       "<IPython.core.display.HTML object>"
      ]
     },
     "metadata": {},
     "output_type": "display_data"
    },
    {
     "data": {
      "text/html": [],
      "text/plain": [
       "<IPython.core.display.HTML object>"
      ]
     },
     "metadata": {},
     "output_type": "display_data"
    },
    {
     "data": {
      "text/html": [],
      "text/plain": [
       "<IPython.core.display.HTML object>"
      ]
     },
     "metadata": {},
     "output_type": "display_data"
    },
    {
     "data": {
      "text/html": [],
      "text/plain": [
       "<IPython.core.display.HTML object>"
      ]
     },
     "metadata": {},
     "output_type": "display_data"
    },
    {
     "data": {
      "text/html": [],
      "text/plain": [
       "<IPython.core.display.HTML object>"
      ]
     },
     "metadata": {},
     "output_type": "display_data"
    },
    {
     "data": {
      "text/html": [],
      "text/plain": [
       "<IPython.core.display.HTML object>"
      ]
     },
     "metadata": {},
     "output_type": "display_data"
    },
    {
     "data": {
      "text/html": [],
      "text/plain": [
       "<IPython.core.display.HTML object>"
      ]
     },
     "metadata": {},
     "output_type": "display_data"
    },
    {
     "data": {
      "text/html": [],
      "text/plain": [
       "<IPython.core.display.HTML object>"
      ]
     },
     "metadata": {},
     "output_type": "display_data"
    },
    {
     "data": {
      "text/html": [],
      "text/plain": [
       "<IPython.core.display.HTML object>"
      ]
     },
     "metadata": {},
     "output_type": "display_data"
    },
    {
     "data": {
      "text/html": [],
      "text/plain": [
       "<IPython.core.display.HTML object>"
      ]
     },
     "metadata": {},
     "output_type": "display_data"
    },
    {
     "data": {
      "text/html": [],
      "text/plain": [
       "<IPython.core.display.HTML object>"
      ]
     },
     "metadata": {},
     "output_type": "display_data"
    },
    {
     "data": {
      "text/html": [],
      "text/plain": [
       "<IPython.core.display.HTML object>"
      ]
     },
     "metadata": {},
     "output_type": "display_data"
    },
    {
     "data": {
      "text/html": [],
      "text/plain": [
       "<IPython.core.display.HTML object>"
      ]
     },
     "metadata": {},
     "output_type": "display_data"
    },
    {
     "data": {
      "text/html": [],
      "text/plain": [
       "<IPython.core.display.HTML object>"
      ]
     },
     "metadata": {},
     "output_type": "display_data"
    },
    {
     "data": {
      "text/html": [],
      "text/plain": [
       "<IPython.core.display.HTML object>"
      ]
     },
     "metadata": {},
     "output_type": "display_data"
    },
    {
     "data": {
      "text/html": [],
      "text/plain": [
       "<IPython.core.display.HTML object>"
      ]
     },
     "metadata": {},
     "output_type": "display_data"
    },
    {
     "data": {
      "text/html": [],
      "text/plain": [
       "<IPython.core.display.HTML object>"
      ]
     },
     "metadata": {},
     "output_type": "display_data"
    },
    {
     "data": {
      "text/html": [],
      "text/plain": [
       "<IPython.core.display.HTML object>"
      ]
     },
     "metadata": {},
     "output_type": "display_data"
    },
    {
     "data": {
      "text/html": [],
      "text/plain": [
       "<IPython.core.display.HTML object>"
      ]
     },
     "metadata": {},
     "output_type": "display_data"
    },
    {
     "data": {
      "text/html": [],
      "text/plain": [
       "<IPython.core.display.HTML object>"
      ]
     },
     "metadata": {},
     "output_type": "display_data"
    },
    {
     "data": {
      "text/html": [],
      "text/plain": [
       "<IPython.core.display.HTML object>"
      ]
     },
     "metadata": {},
     "output_type": "display_data"
    },
    {
     "data": {
      "text/html": [],
      "text/plain": [
       "<IPython.core.display.HTML object>"
      ]
     },
     "metadata": {},
     "output_type": "display_data"
    },
    {
     "data": {
      "text/html": [],
      "text/plain": [
       "<IPython.core.display.HTML object>"
      ]
     },
     "metadata": {},
     "output_type": "display_data"
    },
    {
     "data": {
      "text/html": [],
      "text/plain": [
       "<IPython.core.display.HTML object>"
      ]
     },
     "metadata": {},
     "output_type": "display_data"
    },
    {
     "data": {
      "text/html": [],
      "text/plain": [
       "<IPython.core.display.HTML object>"
      ]
     },
     "metadata": {},
     "output_type": "display_data"
    },
    {
     "data": {
      "text/html": [],
      "text/plain": [
       "<IPython.core.display.HTML object>"
      ]
     },
     "metadata": {},
     "output_type": "display_data"
    },
    {
     "data": {
      "text/html": [],
      "text/plain": [
       "<IPython.core.display.HTML object>"
      ]
     },
     "metadata": {},
     "output_type": "display_data"
    },
    {
     "data": {
      "text/html": [],
      "text/plain": [
       "<IPython.core.display.HTML object>"
      ]
     },
     "metadata": {},
     "output_type": "display_data"
    },
    {
     "data": {
      "text/html": [],
      "text/plain": [
       "<IPython.core.display.HTML object>"
      ]
     },
     "metadata": {},
     "output_type": "display_data"
    },
    {
     "data": {
      "text/html": [],
      "text/plain": [
       "<IPython.core.display.HTML object>"
      ]
     },
     "metadata": {},
     "output_type": "display_data"
    },
    {
     "data": {
      "text/html": [],
      "text/plain": [
       "<IPython.core.display.HTML object>"
      ]
     },
     "metadata": {},
     "output_type": "display_data"
    },
    {
     "data": {
      "text/html": [],
      "text/plain": [
       "<IPython.core.display.HTML object>"
      ]
     },
     "metadata": {},
     "output_type": "display_data"
    },
    {
     "data": {
      "text/html": [],
      "text/plain": [
       "<IPython.core.display.HTML object>"
      ]
     },
     "metadata": {},
     "output_type": "display_data"
    },
    {
     "data": {
      "text/html": [],
      "text/plain": [
       "<IPython.core.display.HTML object>"
      ]
     },
     "metadata": {},
     "output_type": "display_data"
    },
    {
     "data": {
      "text/html": [],
      "text/plain": [
       "<IPython.core.display.HTML object>"
      ]
     },
     "metadata": {},
     "output_type": "display_data"
    },
    {
     "data": {
      "text/html": [],
      "text/plain": [
       "<IPython.core.display.HTML object>"
      ]
     },
     "metadata": {},
     "output_type": "display_data"
    },
    {
     "data": {
      "text/html": [],
      "text/plain": [
       "<IPython.core.display.HTML object>"
      ]
     },
     "metadata": {},
     "output_type": "display_data"
    },
    {
     "data": {
      "text/html": [],
      "text/plain": [
       "<IPython.core.display.HTML object>"
      ]
     },
     "metadata": {},
     "output_type": "display_data"
    },
    {
     "data": {
      "text/html": [],
      "text/plain": [
       "<IPython.core.display.HTML object>"
      ]
     },
     "metadata": {},
     "output_type": "display_data"
    },
    {
     "data": {
      "text/html": [],
      "text/plain": [
       "<IPython.core.display.HTML object>"
      ]
     },
     "metadata": {},
     "output_type": "display_data"
    },
    {
     "data": {
      "text/html": [],
      "text/plain": [
       "<IPython.core.display.HTML object>"
      ]
     },
     "metadata": {},
     "output_type": "display_data"
    },
    {
     "data": {
      "text/html": [],
      "text/plain": [
       "<IPython.core.display.HTML object>"
      ]
     },
     "metadata": {},
     "output_type": "display_data"
    },
    {
     "data": {
      "text/html": [],
      "text/plain": [
       "<IPython.core.display.HTML object>"
      ]
     },
     "metadata": {},
     "output_type": "display_data"
    },
    {
     "data": {
      "text/html": [],
      "text/plain": [
       "<IPython.core.display.HTML object>"
      ]
     },
     "metadata": {},
     "output_type": "display_data"
    },
    {
     "data": {
      "text/html": [],
      "text/plain": [
       "<IPython.core.display.HTML object>"
      ]
     },
     "metadata": {},
     "output_type": "display_data"
    },
    {
     "data": {
      "text/html": [],
      "text/plain": [
       "<IPython.core.display.HTML object>"
      ]
     },
     "metadata": {},
     "output_type": "display_data"
    },
    {
     "data": {
      "text/html": [],
      "text/plain": [
       "<IPython.core.display.HTML object>"
      ]
     },
     "metadata": {},
     "output_type": "display_data"
    },
    {
     "data": {
      "text/html": [],
      "text/plain": [
       "<IPython.core.display.HTML object>"
      ]
     },
     "metadata": {},
     "output_type": "display_data"
    },
    {
     "data": {
      "text/html": [],
      "text/plain": [
       "<IPython.core.display.HTML object>"
      ]
     },
     "metadata": {},
     "output_type": "display_data"
    },
    {
     "data": {
      "text/html": [],
      "text/plain": [
       "<IPython.core.display.HTML object>"
      ]
     },
     "metadata": {},
     "output_type": "display_data"
    },
    {
     "data": {
      "text/html": [],
      "text/plain": [
       "<IPython.core.display.HTML object>"
      ]
     },
     "metadata": {},
     "output_type": "display_data"
    },
    {
     "data": {
      "text/html": [],
      "text/plain": [
       "<IPython.core.display.HTML object>"
      ]
     },
     "metadata": {},
     "output_type": "display_data"
    },
    {
     "data": {
      "text/html": [],
      "text/plain": [
       "<IPython.core.display.HTML object>"
      ]
     },
     "metadata": {},
     "output_type": "display_data"
    },
    {
     "data": {
      "text/html": [],
      "text/plain": [
       "<IPython.core.display.HTML object>"
      ]
     },
     "metadata": {},
     "output_type": "display_data"
    },
    {
     "data": {
      "text/html": [],
      "text/plain": [
       "<IPython.core.display.HTML object>"
      ]
     },
     "metadata": {},
     "output_type": "display_data"
    },
    {
     "data": {
      "text/html": [],
      "text/plain": [
       "<IPython.core.display.HTML object>"
      ]
     },
     "metadata": {},
     "output_type": "display_data"
    },
    {
     "data": {
      "text/html": [],
      "text/plain": [
       "<IPython.core.display.HTML object>"
      ]
     },
     "metadata": {},
     "output_type": "display_data"
    },
    {
     "data": {
      "text/html": [],
      "text/plain": [
       "<IPython.core.display.HTML object>"
      ]
     },
     "metadata": {},
     "output_type": "display_data"
    },
    {
     "data": {
      "text/html": [],
      "text/plain": [
       "<IPython.core.display.HTML object>"
      ]
     },
     "metadata": {},
     "output_type": "display_data"
    },
    {
     "data": {
      "text/html": [],
      "text/plain": [
       "<IPython.core.display.HTML object>"
      ]
     },
     "metadata": {},
     "output_type": "display_data"
    },
    {
     "data": {
      "text/html": [],
      "text/plain": [
       "<IPython.core.display.HTML object>"
      ]
     },
     "metadata": {},
     "output_type": "display_data"
    },
    {
     "data": {
      "text/html": [],
      "text/plain": [
       "<IPython.core.display.HTML object>"
      ]
     },
     "metadata": {},
     "output_type": "display_data"
    },
    {
     "data": {
      "text/html": [],
      "text/plain": [
       "<IPython.core.display.HTML object>"
      ]
     },
     "metadata": {},
     "output_type": "display_data"
    },
    {
     "data": {
      "text/html": [],
      "text/plain": [
       "<IPython.core.display.HTML object>"
      ]
     },
     "metadata": {},
     "output_type": "display_data"
    },
    {
     "data": {
      "text/html": [],
      "text/plain": [
       "<IPython.core.display.HTML object>"
      ]
     },
     "metadata": {},
     "output_type": "display_data"
    },
    {
     "data": {
      "text/html": [],
      "text/plain": [
       "<IPython.core.display.HTML object>"
      ]
     },
     "metadata": {},
     "output_type": "display_data"
    },
    {
     "data": {
      "text/html": [],
      "text/plain": [
       "<IPython.core.display.HTML object>"
      ]
     },
     "metadata": {},
     "output_type": "display_data"
    },
    {
     "data": {
      "text/html": [],
      "text/plain": [
       "<IPython.core.display.HTML object>"
      ]
     },
     "metadata": {},
     "output_type": "display_data"
    },
    {
     "data": {
      "text/html": [],
      "text/plain": [
       "<IPython.core.display.HTML object>"
      ]
     },
     "metadata": {},
     "output_type": "display_data"
    },
    {
     "data": {
      "text/html": [],
      "text/plain": [
       "<IPython.core.display.HTML object>"
      ]
     },
     "metadata": {},
     "output_type": "display_data"
    },
    {
     "data": {
      "text/html": [],
      "text/plain": [
       "<IPython.core.display.HTML object>"
      ]
     },
     "metadata": {},
     "output_type": "display_data"
    },
    {
     "data": {
      "text/html": [],
      "text/plain": [
       "<IPython.core.display.HTML object>"
      ]
     },
     "metadata": {},
     "output_type": "display_data"
    },
    {
     "data": {
      "text/html": [],
      "text/plain": [
       "<IPython.core.display.HTML object>"
      ]
     },
     "metadata": {},
     "output_type": "display_data"
    },
    {
     "data": {
      "text/html": [],
      "text/plain": [
       "<IPython.core.display.HTML object>"
      ]
     },
     "metadata": {},
     "output_type": "display_data"
    },
    {
     "data": {
      "text/html": [],
      "text/plain": [
       "<IPython.core.display.HTML object>"
      ]
     },
     "metadata": {},
     "output_type": "display_data"
    },
    {
     "data": {
      "text/html": [],
      "text/plain": [
       "<IPython.core.display.HTML object>"
      ]
     },
     "metadata": {},
     "output_type": "display_data"
    },
    {
     "data": {
      "text/html": [],
      "text/plain": [
       "<IPython.core.display.HTML object>"
      ]
     },
     "metadata": {},
     "output_type": "display_data"
    },
    {
     "data": {
      "text/html": [],
      "text/plain": [
       "<IPython.core.display.HTML object>"
      ]
     },
     "metadata": {},
     "output_type": "display_data"
    },
    {
     "data": {
      "text/html": [],
      "text/plain": [
       "<IPython.core.display.HTML object>"
      ]
     },
     "metadata": {},
     "output_type": "display_data"
    },
    {
     "data": {
      "text/html": [],
      "text/plain": [
       "<IPython.core.display.HTML object>"
      ]
     },
     "metadata": {},
     "output_type": "display_data"
    },
    {
     "data": {
      "text/html": [],
      "text/plain": [
       "<IPython.core.display.HTML object>"
      ]
     },
     "metadata": {},
     "output_type": "display_data"
    },
    {
     "data": {
      "text/html": [],
      "text/plain": [
       "<IPython.core.display.HTML object>"
      ]
     },
     "metadata": {},
     "output_type": "display_data"
    },
    {
     "data": {
      "text/html": [],
      "text/plain": [
       "<IPython.core.display.HTML object>"
      ]
     },
     "metadata": {},
     "output_type": "display_data"
    },
    {
     "data": {
      "text/html": [],
      "text/plain": [
       "<IPython.core.display.HTML object>"
      ]
     },
     "metadata": {},
     "output_type": "display_data"
    },
    {
     "data": {
      "text/html": [],
      "text/plain": [
       "<IPython.core.display.HTML object>"
      ]
     },
     "metadata": {},
     "output_type": "display_data"
    },
    {
     "data": {
      "text/html": [],
      "text/plain": [
       "<IPython.core.display.HTML object>"
      ]
     },
     "metadata": {},
     "output_type": "display_data"
    },
    {
     "data": {
      "text/html": [],
      "text/plain": [
       "<IPython.core.display.HTML object>"
      ]
     },
     "metadata": {},
     "output_type": "display_data"
    },
    {
     "data": {
      "text/html": [],
      "text/plain": [
       "<IPython.core.display.HTML object>"
      ]
     },
     "metadata": {},
     "output_type": "display_data"
    },
    {
     "data": {
      "text/html": [],
      "text/plain": [
       "<IPython.core.display.HTML object>"
      ]
     },
     "metadata": {},
     "output_type": "display_data"
    },
    {
     "data": {
      "text/html": [],
      "text/plain": [
       "<IPython.core.display.HTML object>"
      ]
     },
     "metadata": {},
     "output_type": "display_data"
    },
    {
     "data": {
      "text/html": [],
      "text/plain": [
       "<IPython.core.display.HTML object>"
      ]
     },
     "metadata": {},
     "output_type": "display_data"
    },
    {
     "data": {
      "text/html": [],
      "text/plain": [
       "<IPython.core.display.HTML object>"
      ]
     },
     "metadata": {},
     "output_type": "display_data"
    },
    {
     "data": {
      "text/html": [],
      "text/plain": [
       "<IPython.core.display.HTML object>"
      ]
     },
     "metadata": {},
     "output_type": "display_data"
    },
    {
     "data": {
      "text/html": [],
      "text/plain": [
       "<IPython.core.display.HTML object>"
      ]
     },
     "metadata": {},
     "output_type": "display_data"
    },
    {
     "data": {
      "text/html": [],
      "text/plain": [
       "<IPython.core.display.HTML object>"
      ]
     },
     "metadata": {},
     "output_type": "display_data"
    },
    {
     "data": {
      "text/html": [],
      "text/plain": [
       "<IPython.core.display.HTML object>"
      ]
     },
     "metadata": {},
     "output_type": "display_data"
    },
    {
     "data": {
      "text/html": [],
      "text/plain": [
       "<IPython.core.display.HTML object>"
      ]
     },
     "metadata": {},
     "output_type": "display_data"
    },
    {
     "data": {
      "text/html": [],
      "text/plain": [
       "<IPython.core.display.HTML object>"
      ]
     },
     "metadata": {},
     "output_type": "display_data"
    },
    {
     "data": {
      "text/html": [],
      "text/plain": [
       "<IPython.core.display.HTML object>"
      ]
     },
     "metadata": {},
     "output_type": "display_data"
    },
    {
     "data": {
      "text/html": [],
      "text/plain": [
       "<IPython.core.display.HTML object>"
      ]
     },
     "metadata": {},
     "output_type": "display_data"
    },
    {
     "data": {
      "text/html": [],
      "text/plain": [
       "<IPython.core.display.HTML object>"
      ]
     },
     "metadata": {},
     "output_type": "display_data"
    },
    {
     "data": {
      "text/html": [],
      "text/plain": [
       "<IPython.core.display.HTML object>"
      ]
     },
     "metadata": {},
     "output_type": "display_data"
    },
    {
     "data": {
      "text/html": [],
      "text/plain": [
       "<IPython.core.display.HTML object>"
      ]
     },
     "metadata": {},
     "output_type": "display_data"
    },
    {
     "data": {
      "text/html": [],
      "text/plain": [
       "<IPython.core.display.HTML object>"
      ]
     },
     "metadata": {},
     "output_type": "display_data"
    },
    {
     "data": {
      "text/html": [],
      "text/plain": [
       "<IPython.core.display.HTML object>"
      ]
     },
     "metadata": {},
     "output_type": "display_data"
    },
    {
     "data": {
      "text/html": [],
      "text/plain": [
       "<IPython.core.display.HTML object>"
      ]
     },
     "metadata": {},
     "output_type": "display_data"
    },
    {
     "data": {
      "text/html": [],
      "text/plain": [
       "<IPython.core.display.HTML object>"
      ]
     },
     "metadata": {},
     "output_type": "display_data"
    },
    {
     "data": {
      "text/html": [],
      "text/plain": [
       "<IPython.core.display.HTML object>"
      ]
     },
     "metadata": {},
     "output_type": "display_data"
    },
    {
     "data": {
      "text/html": [],
      "text/plain": [
       "<IPython.core.display.HTML object>"
      ]
     },
     "metadata": {},
     "output_type": "display_data"
    },
    {
     "data": {
      "text/html": [],
      "text/plain": [
       "<IPython.core.display.HTML object>"
      ]
     },
     "metadata": {},
     "output_type": "display_data"
    },
    {
     "data": {
      "text/html": [],
      "text/plain": [
       "<IPython.core.display.HTML object>"
      ]
     },
     "metadata": {},
     "output_type": "display_data"
    },
    {
     "data": {
      "text/html": [],
      "text/plain": [
       "<IPython.core.display.HTML object>"
      ]
     },
     "metadata": {},
     "output_type": "display_data"
    },
    {
     "data": {
      "text/html": [],
      "text/plain": [
       "<IPython.core.display.HTML object>"
      ]
     },
     "metadata": {},
     "output_type": "display_data"
    },
    {
     "data": {
      "text/html": [],
      "text/plain": [
       "<IPython.core.display.HTML object>"
      ]
     },
     "metadata": {},
     "output_type": "display_data"
    },
    {
     "data": {
      "text/html": [],
      "text/plain": [
       "<IPython.core.display.HTML object>"
      ]
     },
     "metadata": {},
     "output_type": "display_data"
    },
    {
     "data": {
      "text/html": [],
      "text/plain": [
       "<IPython.core.display.HTML object>"
      ]
     },
     "metadata": {},
     "output_type": "display_data"
    },
    {
     "data": {
      "text/html": [],
      "text/plain": [
       "<IPython.core.display.HTML object>"
      ]
     },
     "metadata": {},
     "output_type": "display_data"
    },
    {
     "data": {
      "text/html": [],
      "text/plain": [
       "<IPython.core.display.HTML object>"
      ]
     },
     "metadata": {},
     "output_type": "display_data"
    },
    {
     "data": {
      "text/html": [],
      "text/plain": [
       "<IPython.core.display.HTML object>"
      ]
     },
     "metadata": {},
     "output_type": "display_data"
    },
    {
     "data": {
      "text/html": [],
      "text/plain": [
       "<IPython.core.display.HTML object>"
      ]
     },
     "metadata": {},
     "output_type": "display_data"
    },
    {
     "data": {
      "text/html": [],
      "text/plain": [
       "<IPython.core.display.HTML object>"
      ]
     },
     "metadata": {},
     "output_type": "display_data"
    },
    {
     "data": {
      "text/html": [],
      "text/plain": [
       "<IPython.core.display.HTML object>"
      ]
     },
     "metadata": {},
     "output_type": "display_data"
    },
    {
     "data": {
      "text/html": [],
      "text/plain": [
       "<IPython.core.display.HTML object>"
      ]
     },
     "metadata": {},
     "output_type": "display_data"
    },
    {
     "data": {
      "text/html": [],
      "text/plain": [
       "<IPython.core.display.HTML object>"
      ]
     },
     "metadata": {},
     "output_type": "display_data"
    },
    {
     "data": {
      "text/html": [],
      "text/plain": [
       "<IPython.core.display.HTML object>"
      ]
     },
     "metadata": {},
     "output_type": "display_data"
    },
    {
     "data": {
      "text/html": [],
      "text/plain": [
       "<IPython.core.display.HTML object>"
      ]
     },
     "metadata": {},
     "output_type": "display_data"
    },
    {
     "data": {
      "text/html": [],
      "text/plain": [
       "<IPython.core.display.HTML object>"
      ]
     },
     "metadata": {},
     "output_type": "display_data"
    },
    {
     "data": {
      "text/html": [],
      "text/plain": [
       "<IPython.core.display.HTML object>"
      ]
     },
     "metadata": {},
     "output_type": "display_data"
    },
    {
     "data": {
      "text/html": [],
      "text/plain": [
       "<IPython.core.display.HTML object>"
      ]
     },
     "metadata": {},
     "output_type": "display_data"
    },
    {
     "data": {
      "text/html": [],
      "text/plain": [
       "<IPython.core.display.HTML object>"
      ]
     },
     "metadata": {},
     "output_type": "display_data"
    },
    {
     "data": {
      "text/html": [],
      "text/plain": [
       "<IPython.core.display.HTML object>"
      ]
     },
     "metadata": {},
     "output_type": "display_data"
    },
    {
     "data": {
      "text/html": [],
      "text/plain": [
       "<IPython.core.display.HTML object>"
      ]
     },
     "metadata": {},
     "output_type": "display_data"
    },
    {
     "data": {
      "text/html": [],
      "text/plain": [
       "<IPython.core.display.HTML object>"
      ]
     },
     "metadata": {},
     "output_type": "display_data"
    },
    {
     "data": {
      "text/html": [],
      "text/plain": [
       "<IPython.core.display.HTML object>"
      ]
     },
     "metadata": {},
     "output_type": "display_data"
    },
    {
     "data": {
      "text/html": [],
      "text/plain": [
       "<IPython.core.display.HTML object>"
      ]
     },
     "metadata": {},
     "output_type": "display_data"
    },
    {
     "data": {
      "text/html": [],
      "text/plain": [
       "<IPython.core.display.HTML object>"
      ]
     },
     "metadata": {},
     "output_type": "display_data"
    },
    {
     "data": {
      "text/html": [],
      "text/plain": [
       "<IPython.core.display.HTML object>"
      ]
     },
     "metadata": {},
     "output_type": "display_data"
    },
    {
     "data": {
      "text/html": [],
      "text/plain": [
       "<IPython.core.display.HTML object>"
      ]
     },
     "metadata": {},
     "output_type": "display_data"
    },
    {
     "data": {
      "text/html": [],
      "text/plain": [
       "<IPython.core.display.HTML object>"
      ]
     },
     "metadata": {},
     "output_type": "display_data"
    },
    {
     "data": {
      "text/html": [],
      "text/plain": [
       "<IPython.core.display.HTML object>"
      ]
     },
     "metadata": {},
     "output_type": "display_data"
    },
    {
     "data": {
      "text/html": [],
      "text/plain": [
       "<IPython.core.display.HTML object>"
      ]
     },
     "metadata": {},
     "output_type": "display_data"
    },
    {
     "data": {
      "text/html": [],
      "text/plain": [
       "<IPython.core.display.HTML object>"
      ]
     },
     "metadata": {},
     "output_type": "display_data"
    },
    {
     "data": {
      "text/html": [],
      "text/plain": [
       "<IPython.core.display.HTML object>"
      ]
     },
     "metadata": {},
     "output_type": "display_data"
    },
    {
     "data": {
      "text/html": [],
      "text/plain": [
       "<IPython.core.display.HTML object>"
      ]
     },
     "metadata": {},
     "output_type": "display_data"
    },
    {
     "data": {
      "text/html": [],
      "text/plain": [
       "<IPython.core.display.HTML object>"
      ]
     },
     "metadata": {},
     "output_type": "display_data"
    },
    {
     "data": {
      "text/html": [],
      "text/plain": [
       "<IPython.core.display.HTML object>"
      ]
     },
     "metadata": {},
     "output_type": "display_data"
    },
    {
     "data": {
      "text/html": [],
      "text/plain": [
       "<IPython.core.display.HTML object>"
      ]
     },
     "metadata": {},
     "output_type": "display_data"
    },
    {
     "data": {
      "text/html": [],
      "text/plain": [
       "<IPython.core.display.HTML object>"
      ]
     },
     "metadata": {},
     "output_type": "display_data"
    },
    {
     "data": {
      "text/html": [],
      "text/plain": [
       "<IPython.core.display.HTML object>"
      ]
     },
     "metadata": {},
     "output_type": "display_data"
    },
    {
     "data": {
      "text/html": [],
      "text/plain": [
       "<IPython.core.display.HTML object>"
      ]
     },
     "metadata": {},
     "output_type": "display_data"
    },
    {
     "data": {
      "text/html": [],
      "text/plain": [
       "<IPython.core.display.HTML object>"
      ]
     },
     "metadata": {},
     "output_type": "display_data"
    },
    {
     "data": {
      "text/html": [],
      "text/plain": [
       "<IPython.core.display.HTML object>"
      ]
     },
     "metadata": {},
     "output_type": "display_data"
    },
    {
     "data": {
      "text/html": [],
      "text/plain": [
       "<IPython.core.display.HTML object>"
      ]
     },
     "metadata": {},
     "output_type": "display_data"
    },
    {
     "data": {
      "text/html": [],
      "text/plain": [
       "<IPython.core.display.HTML object>"
      ]
     },
     "metadata": {},
     "output_type": "display_data"
    },
    {
     "data": {
      "text/html": [],
      "text/plain": [
       "<IPython.core.display.HTML object>"
      ]
     },
     "metadata": {},
     "output_type": "display_data"
    },
    {
     "data": {
      "text/html": [],
      "text/plain": [
       "<IPython.core.display.HTML object>"
      ]
     },
     "metadata": {},
     "output_type": "display_data"
    },
    {
     "data": {
      "text/html": [],
      "text/plain": [
       "<IPython.core.display.HTML object>"
      ]
     },
     "metadata": {},
     "output_type": "display_data"
    },
    {
     "data": {
      "text/html": [],
      "text/plain": [
       "<IPython.core.display.HTML object>"
      ]
     },
     "metadata": {},
     "output_type": "display_data"
    },
    {
     "data": {
      "text/html": [],
      "text/plain": [
       "<IPython.core.display.HTML object>"
      ]
     },
     "metadata": {},
     "output_type": "display_data"
    },
    {
     "data": {
      "text/html": [],
      "text/plain": [
       "<IPython.core.display.HTML object>"
      ]
     },
     "metadata": {},
     "output_type": "display_data"
    },
    {
     "data": {
      "text/html": [],
      "text/plain": [
       "<IPython.core.display.HTML object>"
      ]
     },
     "metadata": {},
     "output_type": "display_data"
    },
    {
     "data": {
      "text/html": [],
      "text/plain": [
       "<IPython.core.display.HTML object>"
      ]
     },
     "metadata": {},
     "output_type": "display_data"
    },
    {
     "data": {
      "text/html": [],
      "text/plain": [
       "<IPython.core.display.HTML object>"
      ]
     },
     "metadata": {},
     "output_type": "display_data"
    },
    {
     "data": {
      "text/html": [],
      "text/plain": [
       "<IPython.core.display.HTML object>"
      ]
     },
     "metadata": {},
     "output_type": "display_data"
    },
    {
     "data": {
      "text/html": [],
      "text/plain": [
       "<IPython.core.display.HTML object>"
      ]
     },
     "metadata": {},
     "output_type": "display_data"
    },
    {
     "data": {
      "text/html": [],
      "text/plain": [
       "<IPython.core.display.HTML object>"
      ]
     },
     "metadata": {},
     "output_type": "display_data"
    },
    {
     "data": {
      "text/html": [],
      "text/plain": [
       "<IPython.core.display.HTML object>"
      ]
     },
     "metadata": {},
     "output_type": "display_data"
    },
    {
     "data": {
      "text/html": [],
      "text/plain": [
       "<IPython.core.display.HTML object>"
      ]
     },
     "metadata": {},
     "output_type": "display_data"
    },
    {
     "data": {
      "text/html": [],
      "text/plain": [
       "<IPython.core.display.HTML object>"
      ]
     },
     "metadata": {},
     "output_type": "display_data"
    },
    {
     "data": {
      "text/html": [],
      "text/plain": [
       "<IPython.core.display.HTML object>"
      ]
     },
     "metadata": {},
     "output_type": "display_data"
    },
    {
     "data": {
      "text/html": [],
      "text/plain": [
       "<IPython.core.display.HTML object>"
      ]
     },
     "metadata": {},
     "output_type": "display_data"
    },
    {
     "data": {
      "text/html": [],
      "text/plain": [
       "<IPython.core.display.HTML object>"
      ]
     },
     "metadata": {},
     "output_type": "display_data"
    },
    {
     "data": {
      "text/html": [],
      "text/plain": [
       "<IPython.core.display.HTML object>"
      ]
     },
     "metadata": {},
     "output_type": "display_data"
    },
    {
     "data": {
      "text/html": [],
      "text/plain": [
       "<IPython.core.display.HTML object>"
      ]
     },
     "metadata": {},
     "output_type": "display_data"
    },
    {
     "data": {
      "text/html": [],
      "text/plain": [
       "<IPython.core.display.HTML object>"
      ]
     },
     "metadata": {},
     "output_type": "display_data"
    },
    {
     "data": {
      "text/html": [],
      "text/plain": [
       "<IPython.core.display.HTML object>"
      ]
     },
     "metadata": {},
     "output_type": "display_data"
    },
    {
     "data": {
      "text/html": [],
      "text/plain": [
       "<IPython.core.display.HTML object>"
      ]
     },
     "metadata": {},
     "output_type": "display_data"
    },
    {
     "data": {
      "text/html": [],
      "text/plain": [
       "<IPython.core.display.HTML object>"
      ]
     },
     "metadata": {},
     "output_type": "display_data"
    },
    {
     "data": {
      "text/html": [],
      "text/plain": [
       "<IPython.core.display.HTML object>"
      ]
     },
     "metadata": {},
     "output_type": "display_data"
    },
    {
     "data": {
      "text/html": [],
      "text/plain": [
       "<IPython.core.display.HTML object>"
      ]
     },
     "metadata": {},
     "output_type": "display_data"
    },
    {
     "data": {
      "text/html": [],
      "text/plain": [
       "<IPython.core.display.HTML object>"
      ]
     },
     "metadata": {},
     "output_type": "display_data"
    },
    {
     "data": {
      "text/html": [],
      "text/plain": [
       "<IPython.core.display.HTML object>"
      ]
     },
     "metadata": {},
     "output_type": "display_data"
    },
    {
     "data": {
      "text/html": [],
      "text/plain": [
       "<IPython.core.display.HTML object>"
      ]
     },
     "metadata": {},
     "output_type": "display_data"
    },
    {
     "data": {
      "text/html": [],
      "text/plain": [
       "<IPython.core.display.HTML object>"
      ]
     },
     "metadata": {},
     "output_type": "display_data"
    },
    {
     "data": {
      "text/html": [],
      "text/plain": [
       "<IPython.core.display.HTML object>"
      ]
     },
     "metadata": {},
     "output_type": "display_data"
    },
    {
     "data": {
      "text/html": [],
      "text/plain": [
       "<IPython.core.display.HTML object>"
      ]
     },
     "metadata": {},
     "output_type": "display_data"
    },
    {
     "data": {
      "text/html": [],
      "text/plain": [
       "<IPython.core.display.HTML object>"
      ]
     },
     "metadata": {},
     "output_type": "display_data"
    },
    {
     "data": {
      "text/html": [],
      "text/plain": [
       "<IPython.core.display.HTML object>"
      ]
     },
     "metadata": {},
     "output_type": "display_data"
    },
    {
     "data": {
      "text/html": [],
      "text/plain": [
       "<IPython.core.display.HTML object>"
      ]
     },
     "metadata": {},
     "output_type": "display_data"
    },
    {
     "data": {
      "text/html": [],
      "text/plain": [
       "<IPython.core.display.HTML object>"
      ]
     },
     "metadata": {},
     "output_type": "display_data"
    },
    {
     "data": {
      "text/html": [],
      "text/plain": [
       "<IPython.core.display.HTML object>"
      ]
     },
     "metadata": {},
     "output_type": "display_data"
    },
    {
     "data": {
      "text/html": [],
      "text/plain": [
       "<IPython.core.display.HTML object>"
      ]
     },
     "metadata": {},
     "output_type": "display_data"
    },
    {
     "data": {
      "text/html": [],
      "text/plain": [
       "<IPython.core.display.HTML object>"
      ]
     },
     "metadata": {},
     "output_type": "display_data"
    },
    {
     "data": {
      "text/html": [],
      "text/plain": [
       "<IPython.core.display.HTML object>"
      ]
     },
     "metadata": {},
     "output_type": "display_data"
    },
    {
     "data": {
      "text/html": [],
      "text/plain": [
       "<IPython.core.display.HTML object>"
      ]
     },
     "metadata": {},
     "output_type": "display_data"
    },
    {
     "data": {
      "text/html": [],
      "text/plain": [
       "<IPython.core.display.HTML object>"
      ]
     },
     "metadata": {},
     "output_type": "display_data"
    },
    {
     "data": {
      "text/html": [],
      "text/plain": [
       "<IPython.core.display.HTML object>"
      ]
     },
     "metadata": {},
     "output_type": "display_data"
    },
    {
     "data": {
      "text/html": [],
      "text/plain": [
       "<IPython.core.display.HTML object>"
      ]
     },
     "metadata": {},
     "output_type": "display_data"
    },
    {
     "data": {
      "text/html": [],
      "text/plain": [
       "<IPython.core.display.HTML object>"
      ]
     },
     "metadata": {},
     "output_type": "display_data"
    },
    {
     "data": {
      "text/html": [],
      "text/plain": [
       "<IPython.core.display.HTML object>"
      ]
     },
     "metadata": {},
     "output_type": "display_data"
    },
    {
     "data": {
      "text/html": [],
      "text/plain": [
       "<IPython.core.display.HTML object>"
      ]
     },
     "metadata": {},
     "output_type": "display_data"
    },
    {
     "data": {
      "text/html": [],
      "text/plain": [
       "<IPython.core.display.HTML object>"
      ]
     },
     "metadata": {},
     "output_type": "display_data"
    },
    {
     "data": {
      "text/html": [],
      "text/plain": [
       "<IPython.core.display.HTML object>"
      ]
     },
     "metadata": {},
     "output_type": "display_data"
    },
    {
     "data": {
      "text/html": [],
      "text/plain": [
       "<IPython.core.display.HTML object>"
      ]
     },
     "metadata": {},
     "output_type": "display_data"
    },
    {
     "data": {
      "text/html": [],
      "text/plain": [
       "<IPython.core.display.HTML object>"
      ]
     },
     "metadata": {},
     "output_type": "display_data"
    },
    {
     "data": {
      "text/html": [],
      "text/plain": [
       "<IPython.core.display.HTML object>"
      ]
     },
     "metadata": {},
     "output_type": "display_data"
    },
    {
     "data": {
      "text/html": [],
      "text/plain": [
       "<IPython.core.display.HTML object>"
      ]
     },
     "metadata": {},
     "output_type": "display_data"
    },
    {
     "data": {
      "text/html": [],
      "text/plain": [
       "<IPython.core.display.HTML object>"
      ]
     },
     "metadata": {},
     "output_type": "display_data"
    },
    {
     "data": {
      "text/html": [],
      "text/plain": [
       "<IPython.core.display.HTML object>"
      ]
     },
     "metadata": {},
     "output_type": "display_data"
    },
    {
     "data": {
      "text/html": [],
      "text/plain": [
       "<IPython.core.display.HTML object>"
      ]
     },
     "metadata": {},
     "output_type": "display_data"
    },
    {
     "data": {
      "text/html": [],
      "text/plain": [
       "<IPython.core.display.HTML object>"
      ]
     },
     "metadata": {},
     "output_type": "display_data"
    },
    {
     "data": {
      "text/html": [],
      "text/plain": [
       "<IPython.core.display.HTML object>"
      ]
     },
     "metadata": {},
     "output_type": "display_data"
    },
    {
     "data": {
      "text/html": [],
      "text/plain": [
       "<IPython.core.display.HTML object>"
      ]
     },
     "metadata": {},
     "output_type": "display_data"
    },
    {
     "data": {
      "text/html": [],
      "text/plain": [
       "<IPython.core.display.HTML object>"
      ]
     },
     "metadata": {},
     "output_type": "display_data"
    },
    {
     "data": {
      "text/html": [],
      "text/plain": [
       "<IPython.core.display.HTML object>"
      ]
     },
     "metadata": {},
     "output_type": "display_data"
    },
    {
     "data": {
      "text/html": [],
      "text/plain": [
       "<IPython.core.display.HTML object>"
      ]
     },
     "metadata": {},
     "output_type": "display_data"
    },
    {
     "data": {
      "text/html": [],
      "text/plain": [
       "<IPython.core.display.HTML object>"
      ]
     },
     "metadata": {},
     "output_type": "display_data"
    },
    {
     "data": {
      "text/html": [],
      "text/plain": [
       "<IPython.core.display.HTML object>"
      ]
     },
     "metadata": {},
     "output_type": "display_data"
    },
    {
     "data": {
      "text/html": [],
      "text/plain": [
       "<IPython.core.display.HTML object>"
      ]
     },
     "metadata": {},
     "output_type": "display_data"
    },
    {
     "data": {
      "text/html": [],
      "text/plain": [
       "<IPython.core.display.HTML object>"
      ]
     },
     "metadata": {},
     "output_type": "display_data"
    },
    {
     "data": {
      "text/html": [],
      "text/plain": [
       "<IPython.core.display.HTML object>"
      ]
     },
     "metadata": {},
     "output_type": "display_data"
    },
    {
     "data": {
      "text/html": [],
      "text/plain": [
       "<IPython.core.display.HTML object>"
      ]
     },
     "metadata": {},
     "output_type": "display_data"
    },
    {
     "data": {
      "text/html": [],
      "text/plain": [
       "<IPython.core.display.HTML object>"
      ]
     },
     "metadata": {},
     "output_type": "display_data"
    },
    {
     "data": {
      "text/html": [],
      "text/plain": [
       "<IPython.core.display.HTML object>"
      ]
     },
     "metadata": {},
     "output_type": "display_data"
    },
    {
     "data": {
      "text/html": [],
      "text/plain": [
       "<IPython.core.display.HTML object>"
      ]
     },
     "metadata": {},
     "output_type": "display_data"
    },
    {
     "data": {
      "text/html": [],
      "text/plain": [
       "<IPython.core.display.HTML object>"
      ]
     },
     "metadata": {},
     "output_type": "display_data"
    },
    {
     "data": {
      "text/html": [],
      "text/plain": [
       "<IPython.core.display.HTML object>"
      ]
     },
     "metadata": {},
     "output_type": "display_data"
    },
    {
     "data": {
      "text/html": [],
      "text/plain": [
       "<IPython.core.display.HTML object>"
      ]
     },
     "metadata": {},
     "output_type": "display_data"
    },
    {
     "data": {
      "text/html": [],
      "text/plain": [
       "<IPython.core.display.HTML object>"
      ]
     },
     "metadata": {},
     "output_type": "display_data"
    },
    {
     "data": {
      "text/html": [],
      "text/plain": [
       "<IPython.core.display.HTML object>"
      ]
     },
     "metadata": {},
     "output_type": "display_data"
    },
    {
     "data": {
      "text/html": [],
      "text/plain": [
       "<IPython.core.display.HTML object>"
      ]
     },
     "metadata": {},
     "output_type": "display_data"
    },
    {
     "data": {
      "text/html": [],
      "text/plain": [
       "<IPython.core.display.HTML object>"
      ]
     },
     "metadata": {},
     "output_type": "display_data"
    },
    {
     "data": {
      "text/html": [],
      "text/plain": [
       "<IPython.core.display.HTML object>"
      ]
     },
     "metadata": {},
     "output_type": "display_data"
    },
    {
     "data": {
      "text/html": [],
      "text/plain": [
       "<IPython.core.display.HTML object>"
      ]
     },
     "metadata": {},
     "output_type": "display_data"
    },
    {
     "data": {
      "text/html": [],
      "text/plain": [
       "<IPython.core.display.HTML object>"
      ]
     },
     "metadata": {},
     "output_type": "display_data"
    },
    {
     "data": {
      "text/html": [],
      "text/plain": [
       "<IPython.core.display.HTML object>"
      ]
     },
     "metadata": {},
     "output_type": "display_data"
    },
    {
     "data": {
      "text/html": [],
      "text/plain": [
       "<IPython.core.display.HTML object>"
      ]
     },
     "metadata": {},
     "output_type": "display_data"
    },
    {
     "data": {
      "text/html": [],
      "text/plain": [
       "<IPython.core.display.HTML object>"
      ]
     },
     "metadata": {},
     "output_type": "display_data"
    },
    {
     "data": {
      "text/html": [],
      "text/plain": [
       "<IPython.core.display.HTML object>"
      ]
     },
     "metadata": {},
     "output_type": "display_data"
    },
    {
     "data": {
      "text/html": [],
      "text/plain": [
       "<IPython.core.display.HTML object>"
      ]
     },
     "metadata": {},
     "output_type": "display_data"
    },
    {
     "data": {
      "text/html": [],
      "text/plain": [
       "<IPython.core.display.HTML object>"
      ]
     },
     "metadata": {},
     "output_type": "display_data"
    },
    {
     "data": {
      "text/html": [],
      "text/plain": [
       "<IPython.core.display.HTML object>"
      ]
     },
     "metadata": {},
     "output_type": "display_data"
    },
    {
     "data": {
      "text/html": [],
      "text/plain": [
       "<IPython.core.display.HTML object>"
      ]
     },
     "metadata": {},
     "output_type": "display_data"
    },
    {
     "data": {
      "text/html": [],
      "text/plain": [
       "<IPython.core.display.HTML object>"
      ]
     },
     "metadata": {},
     "output_type": "display_data"
    },
    {
     "data": {
      "text/html": [],
      "text/plain": [
       "<IPython.core.display.HTML object>"
      ]
     },
     "metadata": {},
     "output_type": "display_data"
    },
    {
     "data": {
      "text/html": [],
      "text/plain": [
       "<IPython.core.display.HTML object>"
      ]
     },
     "metadata": {},
     "output_type": "display_data"
    },
    {
     "data": {
      "text/html": [],
      "text/plain": [
       "<IPython.core.display.HTML object>"
      ]
     },
     "metadata": {},
     "output_type": "display_data"
    },
    {
     "data": {
      "text/html": [],
      "text/plain": [
       "<IPython.core.display.HTML object>"
      ]
     },
     "metadata": {},
     "output_type": "display_data"
    },
    {
     "data": {
      "text/html": [],
      "text/plain": [
       "<IPython.core.display.HTML object>"
      ]
     },
     "metadata": {},
     "output_type": "display_data"
    },
    {
     "data": {
      "text/html": [],
      "text/plain": [
       "<IPython.core.display.HTML object>"
      ]
     },
     "metadata": {},
     "output_type": "display_data"
    },
    {
     "data": {
      "text/html": [],
      "text/plain": [
       "<IPython.core.display.HTML object>"
      ]
     },
     "metadata": {},
     "output_type": "display_data"
    },
    {
     "data": {
      "text/html": [],
      "text/plain": [
       "<IPython.core.display.HTML object>"
      ]
     },
     "metadata": {},
     "output_type": "display_data"
    },
    {
     "data": {
      "text/html": [],
      "text/plain": [
       "<IPython.core.display.HTML object>"
      ]
     },
     "metadata": {},
     "output_type": "display_data"
    },
    {
     "data": {
      "text/html": [],
      "text/plain": [
       "<IPython.core.display.HTML object>"
      ]
     },
     "metadata": {},
     "output_type": "display_data"
    },
    {
     "data": {
      "text/html": [],
      "text/plain": [
       "<IPython.core.display.HTML object>"
      ]
     },
     "metadata": {},
     "output_type": "display_data"
    },
    {
     "data": {
      "text/html": [],
      "text/plain": [
       "<IPython.core.display.HTML object>"
      ]
     },
     "metadata": {},
     "output_type": "display_data"
    },
    {
     "data": {
      "text/html": [],
      "text/plain": [
       "<IPython.core.display.HTML object>"
      ]
     },
     "metadata": {},
     "output_type": "display_data"
    },
    {
     "data": {
      "text/html": [],
      "text/plain": [
       "<IPython.core.display.HTML object>"
      ]
     },
     "metadata": {},
     "output_type": "display_data"
    },
    {
     "data": {
      "text/html": [],
      "text/plain": [
       "<IPython.core.display.HTML object>"
      ]
     },
     "metadata": {},
     "output_type": "display_data"
    },
    {
     "data": {
      "text/html": [],
      "text/plain": [
       "<IPython.core.display.HTML object>"
      ]
     },
     "metadata": {},
     "output_type": "display_data"
    },
    {
     "data": {
      "text/html": [],
      "text/plain": [
       "<IPython.core.display.HTML object>"
      ]
     },
     "metadata": {},
     "output_type": "display_data"
    },
    {
     "data": {
      "text/html": [],
      "text/plain": [
       "<IPython.core.display.HTML object>"
      ]
     },
     "metadata": {},
     "output_type": "display_data"
    },
    {
     "data": {
      "text/html": [],
      "text/plain": [
       "<IPython.core.display.HTML object>"
      ]
     },
     "metadata": {},
     "output_type": "display_data"
    },
    {
     "data": {
      "text/html": [],
      "text/plain": [
       "<IPython.core.display.HTML object>"
      ]
     },
     "metadata": {},
     "output_type": "display_data"
    },
    {
     "data": {
      "text/html": [],
      "text/plain": [
       "<IPython.core.display.HTML object>"
      ]
     },
     "metadata": {},
     "output_type": "display_data"
    },
    {
     "data": {
      "text/html": [],
      "text/plain": [
       "<IPython.core.display.HTML object>"
      ]
     },
     "metadata": {},
     "output_type": "display_data"
    },
    {
     "data": {
      "text/html": [],
      "text/plain": [
       "<IPython.core.display.HTML object>"
      ]
     },
     "metadata": {},
     "output_type": "display_data"
    },
    {
     "data": {
      "text/html": [],
      "text/plain": [
       "<IPython.core.display.HTML object>"
      ]
     },
     "metadata": {},
     "output_type": "display_data"
    },
    {
     "data": {
      "text/html": [],
      "text/plain": [
       "<IPython.core.display.HTML object>"
      ]
     },
     "metadata": {},
     "output_type": "display_data"
    },
    {
     "data": {
      "text/html": [],
      "text/plain": [
       "<IPython.core.display.HTML object>"
      ]
     },
     "metadata": {},
     "output_type": "display_data"
    },
    {
     "data": {
      "text/html": [],
      "text/plain": [
       "<IPython.core.display.HTML object>"
      ]
     },
     "metadata": {},
     "output_type": "display_data"
    },
    {
     "data": {
      "text/html": [],
      "text/plain": [
       "<IPython.core.display.HTML object>"
      ]
     },
     "metadata": {},
     "output_type": "display_data"
    },
    {
     "data": {
      "text/html": [],
      "text/plain": [
       "<IPython.core.display.HTML object>"
      ]
     },
     "metadata": {},
     "output_type": "display_data"
    },
    {
     "data": {
      "text/html": [],
      "text/plain": [
       "<IPython.core.display.HTML object>"
      ]
     },
     "metadata": {},
     "output_type": "display_data"
    },
    {
     "data": {
      "text/html": [],
      "text/plain": [
       "<IPython.core.display.HTML object>"
      ]
     },
     "metadata": {},
     "output_type": "display_data"
    },
    {
     "data": {
      "text/html": [],
      "text/plain": [
       "<IPython.core.display.HTML object>"
      ]
     },
     "metadata": {},
     "output_type": "display_data"
    },
    {
     "data": {
      "text/html": [],
      "text/plain": [
       "<IPython.core.display.HTML object>"
      ]
     },
     "metadata": {},
     "output_type": "display_data"
    },
    {
     "data": {
      "text/html": [],
      "text/plain": [
       "<IPython.core.display.HTML object>"
      ]
     },
     "metadata": {},
     "output_type": "display_data"
    },
    {
     "data": {
      "text/html": [],
      "text/plain": [
       "<IPython.core.display.HTML object>"
      ]
     },
     "metadata": {},
     "output_type": "display_data"
    },
    {
     "data": {
      "text/html": [],
      "text/plain": [
       "<IPython.core.display.HTML object>"
      ]
     },
     "metadata": {},
     "output_type": "display_data"
    },
    {
     "data": {
      "text/html": [],
      "text/plain": [
       "<IPython.core.display.HTML object>"
      ]
     },
     "metadata": {},
     "output_type": "display_data"
    },
    {
     "data": {
      "text/html": [],
      "text/plain": [
       "<IPython.core.display.HTML object>"
      ]
     },
     "metadata": {},
     "output_type": "display_data"
    },
    {
     "data": {
      "text/html": [],
      "text/plain": [
       "<IPython.core.display.HTML object>"
      ]
     },
     "metadata": {},
     "output_type": "display_data"
    },
    {
     "data": {
      "text/html": [],
      "text/plain": [
       "<IPython.core.display.HTML object>"
      ]
     },
     "metadata": {},
     "output_type": "display_data"
    },
    {
     "data": {
      "text/html": [],
      "text/plain": [
       "<IPython.core.display.HTML object>"
      ]
     },
     "metadata": {},
     "output_type": "display_data"
    },
    {
     "data": {
      "text/html": [],
      "text/plain": [
       "<IPython.core.display.HTML object>"
      ]
     },
     "metadata": {},
     "output_type": "display_data"
    },
    {
     "data": {
      "text/html": [],
      "text/plain": [
       "<IPython.core.display.HTML object>"
      ]
     },
     "metadata": {},
     "output_type": "display_data"
    },
    {
     "data": {
      "text/html": [],
      "text/plain": [
       "<IPython.core.display.HTML object>"
      ]
     },
     "metadata": {},
     "output_type": "display_data"
    },
    {
     "data": {
      "text/html": [],
      "text/plain": [
       "<IPython.core.display.HTML object>"
      ]
     },
     "metadata": {},
     "output_type": "display_data"
    },
    {
     "data": {
      "text/html": [],
      "text/plain": [
       "<IPython.core.display.HTML object>"
      ]
     },
     "metadata": {},
     "output_type": "display_data"
    },
    {
     "data": {
      "text/html": [],
      "text/plain": [
       "<IPython.core.display.HTML object>"
      ]
     },
     "metadata": {},
     "output_type": "display_data"
    },
    {
     "data": {
      "text/html": [],
      "text/plain": [
       "<IPython.core.display.HTML object>"
      ]
     },
     "metadata": {},
     "output_type": "display_data"
    },
    {
     "data": {
      "text/html": [],
      "text/plain": [
       "<IPython.core.display.HTML object>"
      ]
     },
     "metadata": {},
     "output_type": "display_data"
    },
    {
     "data": {
      "text/html": [],
      "text/plain": [
       "<IPython.core.display.HTML object>"
      ]
     },
     "metadata": {},
     "output_type": "display_data"
    },
    {
     "data": {
      "text/html": [],
      "text/plain": [
       "<IPython.core.display.HTML object>"
      ]
     },
     "metadata": {},
     "output_type": "display_data"
    },
    {
     "data": {
      "text/html": [],
      "text/plain": [
       "<IPython.core.display.HTML object>"
      ]
     },
     "metadata": {},
     "output_type": "display_data"
    },
    {
     "data": {
      "text/html": [],
      "text/plain": [
       "<IPython.core.display.HTML object>"
      ]
     },
     "metadata": {},
     "output_type": "display_data"
    },
    {
     "data": {
      "text/html": [],
      "text/plain": [
       "<IPython.core.display.HTML object>"
      ]
     },
     "metadata": {},
     "output_type": "display_data"
    },
    {
     "data": {
      "text/html": [],
      "text/plain": [
       "<IPython.core.display.HTML object>"
      ]
     },
     "metadata": {},
     "output_type": "display_data"
    },
    {
     "data": {
      "text/html": [],
      "text/plain": [
       "<IPython.core.display.HTML object>"
      ]
     },
     "metadata": {},
     "output_type": "display_data"
    },
    {
     "data": {
      "text/html": [],
      "text/plain": [
       "<IPython.core.display.HTML object>"
      ]
     },
     "metadata": {},
     "output_type": "display_data"
    },
    {
     "data": {
      "text/html": [],
      "text/plain": [
       "<IPython.core.display.HTML object>"
      ]
     },
     "metadata": {},
     "output_type": "display_data"
    },
    {
     "data": {
      "text/html": [],
      "text/plain": [
       "<IPython.core.display.HTML object>"
      ]
     },
     "metadata": {},
     "output_type": "display_data"
    },
    {
     "data": {
      "text/html": [],
      "text/plain": [
       "<IPython.core.display.HTML object>"
      ]
     },
     "metadata": {},
     "output_type": "display_data"
    },
    {
     "data": {
      "text/html": [],
      "text/plain": [
       "<IPython.core.display.HTML object>"
      ]
     },
     "metadata": {},
     "output_type": "display_data"
    },
    {
     "data": {
      "text/html": [],
      "text/plain": [
       "<IPython.core.display.HTML object>"
      ]
     },
     "metadata": {},
     "output_type": "display_data"
    },
    {
     "data": {
      "text/html": [],
      "text/plain": [
       "<IPython.core.display.HTML object>"
      ]
     },
     "metadata": {},
     "output_type": "display_data"
    },
    {
     "data": {
      "text/html": [],
      "text/plain": [
       "<IPython.core.display.HTML object>"
      ]
     },
     "metadata": {},
     "output_type": "display_data"
    },
    {
     "data": {
      "text/html": [],
      "text/plain": [
       "<IPython.core.display.HTML object>"
      ]
     },
     "metadata": {},
     "output_type": "display_data"
    },
    {
     "data": {
      "text/html": [],
      "text/plain": [
       "<IPython.core.display.HTML object>"
      ]
     },
     "metadata": {},
     "output_type": "display_data"
    },
    {
     "data": {
      "text/html": [],
      "text/plain": [
       "<IPython.core.display.HTML object>"
      ]
     },
     "metadata": {},
     "output_type": "display_data"
    },
    {
     "data": {
      "text/html": [],
      "text/plain": [
       "<IPython.core.display.HTML object>"
      ]
     },
     "metadata": {},
     "output_type": "display_data"
    },
    {
     "data": {
      "text/html": [],
      "text/plain": [
       "<IPython.core.display.HTML object>"
      ]
     },
     "metadata": {},
     "output_type": "display_data"
    },
    {
     "data": {
      "text/html": [],
      "text/plain": [
       "<IPython.core.display.HTML object>"
      ]
     },
     "metadata": {},
     "output_type": "display_data"
    },
    {
     "data": {
      "text/html": [],
      "text/plain": [
       "<IPython.core.display.HTML object>"
      ]
     },
     "metadata": {},
     "output_type": "display_data"
    },
    {
     "data": {
      "text/html": [],
      "text/plain": [
       "<IPython.core.display.HTML object>"
      ]
     },
     "metadata": {},
     "output_type": "display_data"
    },
    {
     "data": {
      "text/html": [],
      "text/plain": [
       "<IPython.core.display.HTML object>"
      ]
     },
     "metadata": {},
     "output_type": "display_data"
    },
    {
     "data": {
      "text/html": [],
      "text/plain": [
       "<IPython.core.display.HTML object>"
      ]
     },
     "metadata": {},
     "output_type": "display_data"
    },
    {
     "data": {
      "text/html": [],
      "text/plain": [
       "<IPython.core.display.HTML object>"
      ]
     },
     "metadata": {},
     "output_type": "display_data"
    },
    {
     "data": {
      "text/html": [],
      "text/plain": [
       "<IPython.core.display.HTML object>"
      ]
     },
     "metadata": {},
     "output_type": "display_data"
    },
    {
     "data": {
      "text/html": [],
      "text/plain": [
       "<IPython.core.display.HTML object>"
      ]
     },
     "metadata": {},
     "output_type": "display_data"
    },
    {
     "data": {
      "text/html": [],
      "text/plain": [
       "<IPython.core.display.HTML object>"
      ]
     },
     "metadata": {},
     "output_type": "display_data"
    },
    {
     "data": {
      "text/html": [],
      "text/plain": [
       "<IPython.core.display.HTML object>"
      ]
     },
     "metadata": {},
     "output_type": "display_data"
    },
    {
     "data": {
      "text/html": [],
      "text/plain": [
       "<IPython.core.display.HTML object>"
      ]
     },
     "metadata": {},
     "output_type": "display_data"
    },
    {
     "data": {
      "text/html": [],
      "text/plain": [
       "<IPython.core.display.HTML object>"
      ]
     },
     "metadata": {},
     "output_type": "display_data"
    },
    {
     "data": {
      "text/html": [],
      "text/plain": [
       "<IPython.core.display.HTML object>"
      ]
     },
     "metadata": {},
     "output_type": "display_data"
    },
    {
     "data": {
      "text/html": [],
      "text/plain": [
       "<IPython.core.display.HTML object>"
      ]
     },
     "metadata": {},
     "output_type": "display_data"
    },
    {
     "data": {
      "text/html": [],
      "text/plain": [
       "<IPython.core.display.HTML object>"
      ]
     },
     "metadata": {},
     "output_type": "display_data"
    },
    {
     "data": {
      "text/html": [],
      "text/plain": [
       "<IPython.core.display.HTML object>"
      ]
     },
     "metadata": {},
     "output_type": "display_data"
    },
    {
     "data": {
      "text/html": [],
      "text/plain": [
       "<IPython.core.display.HTML object>"
      ]
     },
     "metadata": {},
     "output_type": "display_data"
    },
    {
     "data": {
      "text/html": [],
      "text/plain": [
       "<IPython.core.display.HTML object>"
      ]
     },
     "metadata": {},
     "output_type": "display_data"
    },
    {
     "data": {
      "text/html": [],
      "text/plain": [
       "<IPython.core.display.HTML object>"
      ]
     },
     "metadata": {},
     "output_type": "display_data"
    },
    {
     "data": {
      "text/html": [],
      "text/plain": [
       "<IPython.core.display.HTML object>"
      ]
     },
     "metadata": {},
     "output_type": "display_data"
    },
    {
     "data": {
      "text/html": [],
      "text/plain": [
       "<IPython.core.display.HTML object>"
      ]
     },
     "metadata": {},
     "output_type": "display_data"
    },
    {
     "data": {
      "text/html": [],
      "text/plain": [
       "<IPython.core.display.HTML object>"
      ]
     },
     "metadata": {},
     "output_type": "display_data"
    },
    {
     "data": {
      "text/html": [],
      "text/plain": [
       "<IPython.core.display.HTML object>"
      ]
     },
     "metadata": {},
     "output_type": "display_data"
    },
    {
     "data": {
      "text/html": [],
      "text/plain": [
       "<IPython.core.display.HTML object>"
      ]
     },
     "metadata": {},
     "output_type": "display_data"
    },
    {
     "data": {
      "text/html": [],
      "text/plain": [
       "<IPython.core.display.HTML object>"
      ]
     },
     "metadata": {},
     "output_type": "display_data"
    },
    {
     "data": {
      "text/html": [],
      "text/plain": [
       "<IPython.core.display.HTML object>"
      ]
     },
     "metadata": {},
     "output_type": "display_data"
    },
    {
     "data": {
      "text/html": [],
      "text/plain": [
       "<IPython.core.display.HTML object>"
      ]
     },
     "metadata": {},
     "output_type": "display_data"
    },
    {
     "data": {
      "text/html": [],
      "text/plain": [
       "<IPython.core.display.HTML object>"
      ]
     },
     "metadata": {},
     "output_type": "display_data"
    },
    {
     "data": {
      "text/html": [],
      "text/plain": [
       "<IPython.core.display.HTML object>"
      ]
     },
     "metadata": {},
     "output_type": "display_data"
    },
    {
     "data": {
      "text/html": [],
      "text/plain": [
       "<IPython.core.display.HTML object>"
      ]
     },
     "metadata": {},
     "output_type": "display_data"
    },
    {
     "data": {
      "text/html": [],
      "text/plain": [
       "<IPython.core.display.HTML object>"
      ]
     },
     "metadata": {},
     "output_type": "display_data"
    },
    {
     "data": {
      "text/html": [],
      "text/plain": [
       "<IPython.core.display.HTML object>"
      ]
     },
     "metadata": {},
     "output_type": "display_data"
    },
    {
     "data": {
      "text/html": [],
      "text/plain": [
       "<IPython.core.display.HTML object>"
      ]
     },
     "metadata": {},
     "output_type": "display_data"
    },
    {
     "data": {
      "text/html": [],
      "text/plain": [
       "<IPython.core.display.HTML object>"
      ]
     },
     "metadata": {},
     "output_type": "display_data"
    },
    {
     "data": {
      "text/html": [],
      "text/plain": [
       "<IPython.core.display.HTML object>"
      ]
     },
     "metadata": {},
     "output_type": "display_data"
    },
    {
     "data": {
      "text/html": [],
      "text/plain": [
       "<IPython.core.display.HTML object>"
      ]
     },
     "metadata": {},
     "output_type": "display_data"
    },
    {
     "data": {
      "text/html": [],
      "text/plain": [
       "<IPython.core.display.HTML object>"
      ]
     },
     "metadata": {},
     "output_type": "display_data"
    },
    {
     "data": {
      "text/html": [],
      "text/plain": [
       "<IPython.core.display.HTML object>"
      ]
     },
     "metadata": {},
     "output_type": "display_data"
    },
    {
     "data": {
      "text/html": [],
      "text/plain": [
       "<IPython.core.display.HTML object>"
      ]
     },
     "metadata": {},
     "output_type": "display_data"
    },
    {
     "data": {
      "text/html": [],
      "text/plain": [
       "<IPython.core.display.HTML object>"
      ]
     },
     "metadata": {},
     "output_type": "display_data"
    },
    {
     "data": {
      "text/html": [],
      "text/plain": [
       "<IPython.core.display.HTML object>"
      ]
     },
     "metadata": {},
     "output_type": "display_data"
    },
    {
     "data": {
      "text/html": [],
      "text/plain": [
       "<IPython.core.display.HTML object>"
      ]
     },
     "metadata": {},
     "output_type": "display_data"
    },
    {
     "data": {
      "text/html": [],
      "text/plain": [
       "<IPython.core.display.HTML object>"
      ]
     },
     "metadata": {},
     "output_type": "display_data"
    },
    {
     "data": {
      "text/html": [],
      "text/plain": [
       "<IPython.core.display.HTML object>"
      ]
     },
     "metadata": {},
     "output_type": "display_data"
    },
    {
     "data": {
      "text/html": [],
      "text/plain": [
       "<IPython.core.display.HTML object>"
      ]
     },
     "metadata": {},
     "output_type": "display_data"
    },
    {
     "data": {
      "text/html": [],
      "text/plain": [
       "<IPython.core.display.HTML object>"
      ]
     },
     "metadata": {},
     "output_type": "display_data"
    },
    {
     "data": {
      "text/html": [],
      "text/plain": [
       "<IPython.core.display.HTML object>"
      ]
     },
     "metadata": {},
     "output_type": "display_data"
    },
    {
     "data": {
      "text/html": [],
      "text/plain": [
       "<IPython.core.display.HTML object>"
      ]
     },
     "metadata": {},
     "output_type": "display_data"
    },
    {
     "data": {
      "text/html": [],
      "text/plain": [
       "<IPython.core.display.HTML object>"
      ]
     },
     "metadata": {},
     "output_type": "display_data"
    },
    {
     "data": {
      "text/html": [],
      "text/plain": [
       "<IPython.core.display.HTML object>"
      ]
     },
     "metadata": {},
     "output_type": "display_data"
    },
    {
     "data": {
      "text/html": [],
      "text/plain": [
       "<IPython.core.display.HTML object>"
      ]
     },
     "metadata": {},
     "output_type": "display_data"
    },
    {
     "data": {
      "text/html": [],
      "text/plain": [
       "<IPython.core.display.HTML object>"
      ]
     },
     "metadata": {},
     "output_type": "display_data"
    },
    {
     "data": {
      "text/html": [],
      "text/plain": [
       "<IPython.core.display.HTML object>"
      ]
     },
     "metadata": {},
     "output_type": "display_data"
    },
    {
     "data": {
      "text/html": [],
      "text/plain": [
       "<IPython.core.display.HTML object>"
      ]
     },
     "metadata": {},
     "output_type": "display_data"
    },
    {
     "data": {
      "text/html": [],
      "text/plain": [
       "<IPython.core.display.HTML object>"
      ]
     },
     "metadata": {},
     "output_type": "display_data"
    },
    {
     "data": {
      "text/html": [],
      "text/plain": [
       "<IPython.core.display.HTML object>"
      ]
     },
     "metadata": {},
     "output_type": "display_data"
    },
    {
     "data": {
      "text/html": [],
      "text/plain": [
       "<IPython.core.display.HTML object>"
      ]
     },
     "metadata": {},
     "output_type": "display_data"
    },
    {
     "data": {
      "text/html": [],
      "text/plain": [
       "<IPython.core.display.HTML object>"
      ]
     },
     "metadata": {},
     "output_type": "display_data"
    },
    {
     "data": {
      "text/html": [],
      "text/plain": [
       "<IPython.core.display.HTML object>"
      ]
     },
     "metadata": {},
     "output_type": "display_data"
    },
    {
     "data": {
      "text/html": [],
      "text/plain": [
       "<IPython.core.display.HTML object>"
      ]
     },
     "metadata": {},
     "output_type": "display_data"
    },
    {
     "data": {
      "text/html": [],
      "text/plain": [
       "<IPython.core.display.HTML object>"
      ]
     },
     "metadata": {},
     "output_type": "display_data"
    },
    {
     "data": {
      "text/html": [],
      "text/plain": [
       "<IPython.core.display.HTML object>"
      ]
     },
     "metadata": {},
     "output_type": "display_data"
    },
    {
     "data": {
      "text/html": [],
      "text/plain": [
       "<IPython.core.display.HTML object>"
      ]
     },
     "metadata": {},
     "output_type": "display_data"
    },
    {
     "data": {
      "text/html": [],
      "text/plain": [
       "<IPython.core.display.HTML object>"
      ]
     },
     "metadata": {},
     "output_type": "display_data"
    },
    {
     "data": {
      "text/html": [],
      "text/plain": [
       "<IPython.core.display.HTML object>"
      ]
     },
     "metadata": {},
     "output_type": "display_data"
    },
    {
     "data": {
      "text/html": [],
      "text/plain": [
       "<IPython.core.display.HTML object>"
      ]
     },
     "metadata": {},
     "output_type": "display_data"
    },
    {
     "data": {
      "text/html": [],
      "text/plain": [
       "<IPython.core.display.HTML object>"
      ]
     },
     "metadata": {},
     "output_type": "display_data"
    },
    {
     "data": {
      "text/html": [],
      "text/plain": [
       "<IPython.core.display.HTML object>"
      ]
     },
     "metadata": {},
     "output_type": "display_data"
    },
    {
     "data": {
      "text/html": [],
      "text/plain": [
       "<IPython.core.display.HTML object>"
      ]
     },
     "metadata": {},
     "output_type": "display_data"
    },
    {
     "data": {
      "text/html": [],
      "text/plain": [
       "<IPython.core.display.HTML object>"
      ]
     },
     "metadata": {},
     "output_type": "display_data"
    },
    {
     "data": {
      "text/html": [],
      "text/plain": [
       "<IPython.core.display.HTML object>"
      ]
     },
     "metadata": {},
     "output_type": "display_data"
    },
    {
     "data": {
      "text/html": [],
      "text/plain": [
       "<IPython.core.display.HTML object>"
      ]
     },
     "metadata": {},
     "output_type": "display_data"
    },
    {
     "data": {
      "text/html": [],
      "text/plain": [
       "<IPython.core.display.HTML object>"
      ]
     },
     "metadata": {},
     "output_type": "display_data"
    },
    {
     "data": {
      "text/html": [],
      "text/plain": [
       "<IPython.core.display.HTML object>"
      ]
     },
     "metadata": {},
     "output_type": "display_data"
    },
    {
     "data": {
      "text/html": [],
      "text/plain": [
       "<IPython.core.display.HTML object>"
      ]
     },
     "metadata": {},
     "output_type": "display_data"
    },
    {
     "data": {
      "text/html": [],
      "text/plain": [
       "<IPython.core.display.HTML object>"
      ]
     },
     "metadata": {},
     "output_type": "display_data"
    },
    {
     "data": {
      "text/html": [],
      "text/plain": [
       "<IPython.core.display.HTML object>"
      ]
     },
     "metadata": {},
     "output_type": "display_data"
    },
    {
     "data": {
      "text/html": [],
      "text/plain": [
       "<IPython.core.display.HTML object>"
      ]
     },
     "metadata": {},
     "output_type": "display_data"
    },
    {
     "data": {
      "text/html": [],
      "text/plain": [
       "<IPython.core.display.HTML object>"
      ]
     },
     "metadata": {},
     "output_type": "display_data"
    },
    {
     "data": {
      "text/html": [],
      "text/plain": [
       "<IPython.core.display.HTML object>"
      ]
     },
     "metadata": {},
     "output_type": "display_data"
    },
    {
     "data": {
      "text/html": [],
      "text/plain": [
       "<IPython.core.display.HTML object>"
      ]
     },
     "metadata": {},
     "output_type": "display_data"
    },
    {
     "data": {
      "text/html": [],
      "text/plain": [
       "<IPython.core.display.HTML object>"
      ]
     },
     "metadata": {},
     "output_type": "display_data"
    },
    {
     "data": {
      "text/html": [],
      "text/plain": [
       "<IPython.core.display.HTML object>"
      ]
     },
     "metadata": {},
     "output_type": "display_data"
    },
    {
     "data": {
      "text/html": [],
      "text/plain": [
       "<IPython.core.display.HTML object>"
      ]
     },
     "metadata": {},
     "output_type": "display_data"
    },
    {
     "data": {
      "text/html": [],
      "text/plain": [
       "<IPython.core.display.HTML object>"
      ]
     },
     "metadata": {},
     "output_type": "display_data"
    },
    {
     "data": {
      "text/html": [],
      "text/plain": [
       "<IPython.core.display.HTML object>"
      ]
     },
     "metadata": {},
     "output_type": "display_data"
    },
    {
     "data": {
      "text/html": [],
      "text/plain": [
       "<IPython.core.display.HTML object>"
      ]
     },
     "metadata": {},
     "output_type": "display_data"
    },
    {
     "data": {
      "text/html": [],
      "text/plain": [
       "<IPython.core.display.HTML object>"
      ]
     },
     "metadata": {},
     "output_type": "display_data"
    },
    {
     "data": {
      "text/html": [],
      "text/plain": [
       "<IPython.core.display.HTML object>"
      ]
     },
     "metadata": {},
     "output_type": "display_data"
    },
    {
     "data": {
      "text/html": [],
      "text/plain": [
       "<IPython.core.display.HTML object>"
      ]
     },
     "metadata": {},
     "output_type": "display_data"
    },
    {
     "data": {
      "text/html": [],
      "text/plain": [
       "<IPython.core.display.HTML object>"
      ]
     },
     "metadata": {},
     "output_type": "display_data"
    },
    {
     "data": {
      "text/html": [],
      "text/plain": [
       "<IPython.core.display.HTML object>"
      ]
     },
     "metadata": {},
     "output_type": "display_data"
    },
    {
     "data": {
      "text/html": [],
      "text/plain": [
       "<IPython.core.display.HTML object>"
      ]
     },
     "metadata": {},
     "output_type": "display_data"
    },
    {
     "data": {
      "text/html": [],
      "text/plain": [
       "<IPython.core.display.HTML object>"
      ]
     },
     "metadata": {},
     "output_type": "display_data"
    },
    {
     "data": {
      "text/html": [],
      "text/plain": [
       "<IPython.core.display.HTML object>"
      ]
     },
     "metadata": {},
     "output_type": "display_data"
    },
    {
     "data": {
      "text/html": [],
      "text/plain": [
       "<IPython.core.display.HTML object>"
      ]
     },
     "metadata": {},
     "output_type": "display_data"
    },
    {
     "data": {
      "text/html": [],
      "text/plain": [
       "<IPython.core.display.HTML object>"
      ]
     },
     "metadata": {},
     "output_type": "display_data"
    },
    {
     "data": {
      "text/html": [],
      "text/plain": [
       "<IPython.core.display.HTML object>"
      ]
     },
     "metadata": {},
     "output_type": "display_data"
    },
    {
     "data": {
      "text/html": [],
      "text/plain": [
       "<IPython.core.display.HTML object>"
      ]
     },
     "metadata": {},
     "output_type": "display_data"
    },
    {
     "data": {
      "text/html": [],
      "text/plain": [
       "<IPython.core.display.HTML object>"
      ]
     },
     "metadata": {},
     "output_type": "display_data"
    },
    {
     "data": {
      "text/html": [],
      "text/plain": [
       "<IPython.core.display.HTML object>"
      ]
     },
     "metadata": {},
     "output_type": "display_data"
    },
    {
     "data": {
      "text/html": [],
      "text/plain": [
       "<IPython.core.display.HTML object>"
      ]
     },
     "metadata": {},
     "output_type": "display_data"
    },
    {
     "data": {
      "text/html": [],
      "text/plain": [
       "<IPython.core.display.HTML object>"
      ]
     },
     "metadata": {},
     "output_type": "display_data"
    },
    {
     "data": {
      "text/html": [],
      "text/plain": [
       "<IPython.core.display.HTML object>"
      ]
     },
     "metadata": {},
     "output_type": "display_data"
    },
    {
     "data": {
      "text/html": [],
      "text/plain": [
       "<IPython.core.display.HTML object>"
      ]
     },
     "metadata": {},
     "output_type": "display_data"
    },
    {
     "data": {
      "text/html": [],
      "text/plain": [
       "<IPython.core.display.HTML object>"
      ]
     },
     "metadata": {},
     "output_type": "display_data"
    },
    {
     "data": {
      "text/html": [],
      "text/plain": [
       "<IPython.core.display.HTML object>"
      ]
     },
     "metadata": {},
     "output_type": "display_data"
    },
    {
     "data": {
      "text/html": [],
      "text/plain": [
       "<IPython.core.display.HTML object>"
      ]
     },
     "metadata": {},
     "output_type": "display_data"
    },
    {
     "data": {
      "text/html": [],
      "text/plain": [
       "<IPython.core.display.HTML object>"
      ]
     },
     "metadata": {},
     "output_type": "display_data"
    },
    {
     "data": {
      "text/html": [],
      "text/plain": [
       "<IPython.core.display.HTML object>"
      ]
     },
     "metadata": {},
     "output_type": "display_data"
    },
    {
     "data": {
      "text/html": [],
      "text/plain": [
       "<IPython.core.display.HTML object>"
      ]
     },
     "metadata": {},
     "output_type": "display_data"
    },
    {
     "data": {
      "text/html": [],
      "text/plain": [
       "<IPython.core.display.HTML object>"
      ]
     },
     "metadata": {},
     "output_type": "display_data"
    },
    {
     "data": {
      "text/html": [],
      "text/plain": [
       "<IPython.core.display.HTML object>"
      ]
     },
     "metadata": {},
     "output_type": "display_data"
    },
    {
     "data": {
      "text/html": [],
      "text/plain": [
       "<IPython.core.display.HTML object>"
      ]
     },
     "metadata": {},
     "output_type": "display_data"
    },
    {
     "data": {
      "text/html": [],
      "text/plain": [
       "<IPython.core.display.HTML object>"
      ]
     },
     "metadata": {},
     "output_type": "display_data"
    },
    {
     "data": {
      "text/html": [],
      "text/plain": [
       "<IPython.core.display.HTML object>"
      ]
     },
     "metadata": {},
     "output_type": "display_data"
    },
    {
     "data": {
      "text/html": [],
      "text/plain": [
       "<IPython.core.display.HTML object>"
      ]
     },
     "metadata": {},
     "output_type": "display_data"
    },
    {
     "data": {
      "text/html": [],
      "text/plain": [
       "<IPython.core.display.HTML object>"
      ]
     },
     "metadata": {},
     "output_type": "display_data"
    },
    {
     "data": {
      "text/html": [],
      "text/plain": [
       "<IPython.core.display.HTML object>"
      ]
     },
     "metadata": {},
     "output_type": "display_data"
    },
    {
     "data": {
      "text/html": [],
      "text/plain": [
       "<IPython.core.display.HTML object>"
      ]
     },
     "metadata": {},
     "output_type": "display_data"
    },
    {
     "data": {
      "text/html": [],
      "text/plain": [
       "<IPython.core.display.HTML object>"
      ]
     },
     "metadata": {},
     "output_type": "display_data"
    },
    {
     "data": {
      "text/html": [],
      "text/plain": [
       "<IPython.core.display.HTML object>"
      ]
     },
     "metadata": {},
     "output_type": "display_data"
    },
    {
     "data": {
      "text/html": [],
      "text/plain": [
       "<IPython.core.display.HTML object>"
      ]
     },
     "metadata": {},
     "output_type": "display_data"
    },
    {
     "data": {
      "text/html": [],
      "text/plain": [
       "<IPython.core.display.HTML object>"
      ]
     },
     "metadata": {},
     "output_type": "display_data"
    },
    {
     "data": {
      "text/html": [],
      "text/plain": [
       "<IPython.core.display.HTML object>"
      ]
     },
     "metadata": {},
     "output_type": "display_data"
    },
    {
     "data": {
      "text/html": [],
      "text/plain": [
       "<IPython.core.display.HTML object>"
      ]
     },
     "metadata": {},
     "output_type": "display_data"
    },
    {
     "data": {
      "text/html": [],
      "text/plain": [
       "<IPython.core.display.HTML object>"
      ]
     },
     "metadata": {},
     "output_type": "display_data"
    },
    {
     "data": {
      "text/html": [],
      "text/plain": [
       "<IPython.core.display.HTML object>"
      ]
     },
     "metadata": {},
     "output_type": "display_data"
    },
    {
     "data": {
      "text/html": [],
      "text/plain": [
       "<IPython.core.display.HTML object>"
      ]
     },
     "metadata": {},
     "output_type": "display_data"
    },
    {
     "data": {
      "text/html": [],
      "text/plain": [
       "<IPython.core.display.HTML object>"
      ]
     },
     "metadata": {},
     "output_type": "display_data"
    },
    {
     "data": {
      "text/html": [],
      "text/plain": [
       "<IPython.core.display.HTML object>"
      ]
     },
     "metadata": {},
     "output_type": "display_data"
    },
    {
     "data": {
      "text/html": [],
      "text/plain": [
       "<IPython.core.display.HTML object>"
      ]
     },
     "metadata": {},
     "output_type": "display_data"
    },
    {
     "data": {
      "text/html": [],
      "text/plain": [
       "<IPython.core.display.HTML object>"
      ]
     },
     "metadata": {},
     "output_type": "display_data"
    },
    {
     "data": {
      "text/html": [],
      "text/plain": [
       "<IPython.core.display.HTML object>"
      ]
     },
     "metadata": {},
     "output_type": "display_data"
    },
    {
     "data": {
      "text/html": [],
      "text/plain": [
       "<IPython.core.display.HTML object>"
      ]
     },
     "metadata": {},
     "output_type": "display_data"
    },
    {
     "data": {
      "text/html": [],
      "text/plain": [
       "<IPython.core.display.HTML object>"
      ]
     },
     "metadata": {},
     "output_type": "display_data"
    },
    {
     "data": {
      "text/html": [],
      "text/plain": [
       "<IPython.core.display.HTML object>"
      ]
     },
     "metadata": {},
     "output_type": "display_data"
    },
    {
     "data": {
      "text/html": [],
      "text/plain": [
       "<IPython.core.display.HTML object>"
      ]
     },
     "metadata": {},
     "output_type": "display_data"
    },
    {
     "data": {
      "text/html": [],
      "text/plain": [
       "<IPython.core.display.HTML object>"
      ]
     },
     "metadata": {},
     "output_type": "display_data"
    },
    {
     "data": {
      "text/html": [],
      "text/plain": [
       "<IPython.core.display.HTML object>"
      ]
     },
     "metadata": {},
     "output_type": "display_data"
    },
    {
     "data": {
      "text/html": [],
      "text/plain": [
       "<IPython.core.display.HTML object>"
      ]
     },
     "metadata": {},
     "output_type": "display_data"
    },
    {
     "data": {
      "text/html": [],
      "text/plain": [
       "<IPython.core.display.HTML object>"
      ]
     },
     "metadata": {},
     "output_type": "display_data"
    },
    {
     "data": {
      "text/html": [],
      "text/plain": [
       "<IPython.core.display.HTML object>"
      ]
     },
     "metadata": {},
     "output_type": "display_data"
    },
    {
     "data": {
      "text/html": [],
      "text/plain": [
       "<IPython.core.display.HTML object>"
      ]
     },
     "metadata": {},
     "output_type": "display_data"
    },
    {
     "data": {
      "text/html": [],
      "text/plain": [
       "<IPython.core.display.HTML object>"
      ]
     },
     "metadata": {},
     "output_type": "display_data"
    },
    {
     "data": {
      "text/html": [],
      "text/plain": [
       "<IPython.core.display.HTML object>"
      ]
     },
     "metadata": {},
     "output_type": "display_data"
    },
    {
     "data": {
      "text/html": [],
      "text/plain": [
       "<IPython.core.display.HTML object>"
      ]
     },
     "metadata": {},
     "output_type": "display_data"
    },
    {
     "data": {
      "text/html": [],
      "text/plain": [
       "<IPython.core.display.HTML object>"
      ]
     },
     "metadata": {},
     "output_type": "display_data"
    },
    {
     "data": {
      "text/html": [],
      "text/plain": [
       "<IPython.core.display.HTML object>"
      ]
     },
     "metadata": {},
     "output_type": "display_data"
    },
    {
     "data": {
      "text/html": [],
      "text/plain": [
       "<IPython.core.display.HTML object>"
      ]
     },
     "metadata": {},
     "output_type": "display_data"
    },
    {
     "data": {
      "text/html": [],
      "text/plain": [
       "<IPython.core.display.HTML object>"
      ]
     },
     "metadata": {},
     "output_type": "display_data"
    },
    {
     "data": {
      "text/html": [],
      "text/plain": [
       "<IPython.core.display.HTML object>"
      ]
     },
     "metadata": {},
     "output_type": "display_data"
    },
    {
     "data": {
      "text/html": [],
      "text/plain": [
       "<IPython.core.display.HTML object>"
      ]
     },
     "metadata": {},
     "output_type": "display_data"
    },
    {
     "data": {
      "text/html": [],
      "text/plain": [
       "<IPython.core.display.HTML object>"
      ]
     },
     "metadata": {},
     "output_type": "display_data"
    },
    {
     "data": {
      "text/html": [],
      "text/plain": [
       "<IPython.core.display.HTML object>"
      ]
     },
     "metadata": {},
     "output_type": "display_data"
    },
    {
     "data": {
      "text/html": [],
      "text/plain": [
       "<IPython.core.display.HTML object>"
      ]
     },
     "metadata": {},
     "output_type": "display_data"
    },
    {
     "data": {
      "text/html": [],
      "text/plain": [
       "<IPython.core.display.HTML object>"
      ]
     },
     "metadata": {},
     "output_type": "display_data"
    },
    {
     "data": {
      "text/html": [],
      "text/plain": [
       "<IPython.core.display.HTML object>"
      ]
     },
     "metadata": {},
     "output_type": "display_data"
    },
    {
     "data": {
      "text/html": [],
      "text/plain": [
       "<IPython.core.display.HTML object>"
      ]
     },
     "metadata": {},
     "output_type": "display_data"
    },
    {
     "data": {
      "text/html": [],
      "text/plain": [
       "<IPython.core.display.HTML object>"
      ]
     },
     "metadata": {},
     "output_type": "display_data"
    },
    {
     "data": {
      "text/html": [],
      "text/plain": [
       "<IPython.core.display.HTML object>"
      ]
     },
     "metadata": {},
     "output_type": "display_data"
    },
    {
     "data": {
      "text/html": [],
      "text/plain": [
       "<IPython.core.display.HTML object>"
      ]
     },
     "metadata": {},
     "output_type": "display_data"
    },
    {
     "data": {
      "text/html": [],
      "text/plain": [
       "<IPython.core.display.HTML object>"
      ]
     },
     "metadata": {},
     "output_type": "display_data"
    },
    {
     "data": {
      "text/html": [],
      "text/plain": [
       "<IPython.core.display.HTML object>"
      ]
     },
     "metadata": {},
     "output_type": "display_data"
    },
    {
     "data": {
      "text/html": [],
      "text/plain": [
       "<IPython.core.display.HTML object>"
      ]
     },
     "metadata": {},
     "output_type": "display_data"
    },
    {
     "data": {
      "text/html": [],
      "text/plain": [
       "<IPython.core.display.HTML object>"
      ]
     },
     "metadata": {},
     "output_type": "display_data"
    },
    {
     "data": {
      "text/html": [],
      "text/plain": [
       "<IPython.core.display.HTML object>"
      ]
     },
     "metadata": {},
     "output_type": "display_data"
    },
    {
     "data": {
      "text/html": [],
      "text/plain": [
       "<IPython.core.display.HTML object>"
      ]
     },
     "metadata": {},
     "output_type": "display_data"
    },
    {
     "data": {
      "text/html": [],
      "text/plain": [
       "<IPython.core.display.HTML object>"
      ]
     },
     "metadata": {},
     "output_type": "display_data"
    },
    {
     "data": {
      "text/html": [],
      "text/plain": [
       "<IPython.core.display.HTML object>"
      ]
     },
     "metadata": {},
     "output_type": "display_data"
    },
    {
     "data": {
      "text/html": [],
      "text/plain": [
       "<IPython.core.display.HTML object>"
      ]
     },
     "metadata": {},
     "output_type": "display_data"
    },
    {
     "data": {
      "text/html": [],
      "text/plain": [
       "<IPython.core.display.HTML object>"
      ]
     },
     "metadata": {},
     "output_type": "display_data"
    },
    {
     "data": {
      "text/html": [],
      "text/plain": [
       "<IPython.core.display.HTML object>"
      ]
     },
     "metadata": {},
     "output_type": "display_data"
    },
    {
     "data": {
      "text/html": [],
      "text/plain": [
       "<IPython.core.display.HTML object>"
      ]
     },
     "metadata": {},
     "output_type": "display_data"
    },
    {
     "data": {
      "text/html": [],
      "text/plain": [
       "<IPython.core.display.HTML object>"
      ]
     },
     "metadata": {},
     "output_type": "display_data"
    },
    {
     "data": {
      "text/html": [],
      "text/plain": [
       "<IPython.core.display.HTML object>"
      ]
     },
     "metadata": {},
     "output_type": "display_data"
    },
    {
     "data": {
      "text/html": [],
      "text/plain": [
       "<IPython.core.display.HTML object>"
      ]
     },
     "metadata": {},
     "output_type": "display_data"
    },
    {
     "data": {
      "text/html": [],
      "text/plain": [
       "<IPython.core.display.HTML object>"
      ]
     },
     "metadata": {},
     "output_type": "display_data"
    },
    {
     "data": {
      "text/html": [],
      "text/plain": [
       "<IPython.core.display.HTML object>"
      ]
     },
     "metadata": {},
     "output_type": "display_data"
    },
    {
     "data": {
      "text/html": [],
      "text/plain": [
       "<IPython.core.display.HTML object>"
      ]
     },
     "metadata": {},
     "output_type": "display_data"
    },
    {
     "data": {
      "text/html": [],
      "text/plain": [
       "<IPython.core.display.HTML object>"
      ]
     },
     "metadata": {},
     "output_type": "display_data"
    },
    {
     "data": {
      "text/html": [],
      "text/plain": [
       "<IPython.core.display.HTML object>"
      ]
     },
     "metadata": {},
     "output_type": "display_data"
    },
    {
     "data": {
      "text/html": [],
      "text/plain": [
       "<IPython.core.display.HTML object>"
      ]
     },
     "metadata": {},
     "output_type": "display_data"
    },
    {
     "data": {
      "text/html": [],
      "text/plain": [
       "<IPython.core.display.HTML object>"
      ]
     },
     "metadata": {},
     "output_type": "display_data"
    },
    {
     "data": {
      "text/html": [],
      "text/plain": [
       "<IPython.core.display.HTML object>"
      ]
     },
     "metadata": {},
     "output_type": "display_data"
    },
    {
     "data": {
      "text/html": [],
      "text/plain": [
       "<IPython.core.display.HTML object>"
      ]
     },
     "metadata": {},
     "output_type": "display_data"
    },
    {
     "data": {
      "text/html": [],
      "text/plain": [
       "<IPython.core.display.HTML object>"
      ]
     },
     "metadata": {},
     "output_type": "display_data"
    },
    {
     "data": {
      "text/html": [],
      "text/plain": [
       "<IPython.core.display.HTML object>"
      ]
     },
     "metadata": {},
     "output_type": "display_data"
    },
    {
     "data": {
      "text/html": [],
      "text/plain": [
       "<IPython.core.display.HTML object>"
      ]
     },
     "metadata": {},
     "output_type": "display_data"
    },
    {
     "data": {
      "text/html": [],
      "text/plain": [
       "<IPython.core.display.HTML object>"
      ]
     },
     "metadata": {},
     "output_type": "display_data"
    },
    {
     "data": {
      "text/html": [],
      "text/plain": [
       "<IPython.core.display.HTML object>"
      ]
     },
     "metadata": {},
     "output_type": "display_data"
    },
    {
     "data": {
      "text/html": [],
      "text/plain": [
       "<IPython.core.display.HTML object>"
      ]
     },
     "metadata": {},
     "output_type": "display_data"
    },
    {
     "data": {
      "text/html": [],
      "text/plain": [
       "<IPython.core.display.HTML object>"
      ]
     },
     "metadata": {},
     "output_type": "display_data"
    },
    {
     "data": {
      "text/html": [],
      "text/plain": [
       "<IPython.core.display.HTML object>"
      ]
     },
     "metadata": {},
     "output_type": "display_data"
    },
    {
     "data": {
      "text/html": [],
      "text/plain": [
       "<IPython.core.display.HTML object>"
      ]
     },
     "metadata": {},
     "output_type": "display_data"
    },
    {
     "data": {
      "text/html": [],
      "text/plain": [
       "<IPython.core.display.HTML object>"
      ]
     },
     "metadata": {},
     "output_type": "display_data"
    },
    {
     "data": {
      "text/html": [],
      "text/plain": [
       "<IPython.core.display.HTML object>"
      ]
     },
     "metadata": {},
     "output_type": "display_data"
    },
    {
     "data": {
      "text/html": [],
      "text/plain": [
       "<IPython.core.display.HTML object>"
      ]
     },
     "metadata": {},
     "output_type": "display_data"
    },
    {
     "data": {
      "text/html": [],
      "text/plain": [
       "<IPython.core.display.HTML object>"
      ]
     },
     "metadata": {},
     "output_type": "display_data"
    },
    {
     "data": {
      "text/html": [],
      "text/plain": [
       "<IPython.core.display.HTML object>"
      ]
     },
     "metadata": {},
     "output_type": "display_data"
    },
    {
     "data": {
      "text/html": [],
      "text/plain": [
       "<IPython.core.display.HTML object>"
      ]
     },
     "metadata": {},
     "output_type": "display_data"
    },
    {
     "data": {
      "text/html": [],
      "text/plain": [
       "<IPython.core.display.HTML object>"
      ]
     },
     "metadata": {},
     "output_type": "display_data"
    },
    {
     "data": {
      "text/html": [],
      "text/plain": [
       "<IPython.core.display.HTML object>"
      ]
     },
     "metadata": {},
     "output_type": "display_data"
    },
    {
     "data": {
      "text/html": [],
      "text/plain": [
       "<IPython.core.display.HTML object>"
      ]
     },
     "metadata": {},
     "output_type": "display_data"
    },
    {
     "data": {
      "text/html": [],
      "text/plain": [
       "<IPython.core.display.HTML object>"
      ]
     },
     "metadata": {},
     "output_type": "display_data"
    },
    {
     "data": {
      "text/html": [],
      "text/plain": [
       "<IPython.core.display.HTML object>"
      ]
     },
     "metadata": {},
     "output_type": "display_data"
    },
    {
     "data": {
      "text/html": [],
      "text/plain": [
       "<IPython.core.display.HTML object>"
      ]
     },
     "metadata": {},
     "output_type": "display_data"
    },
    {
     "data": {
      "text/html": [],
      "text/plain": [
       "<IPython.core.display.HTML object>"
      ]
     },
     "metadata": {},
     "output_type": "display_data"
    },
    {
     "data": {
      "text/html": [],
      "text/plain": [
       "<IPython.core.display.HTML object>"
      ]
     },
     "metadata": {},
     "output_type": "display_data"
    },
    {
     "data": {
      "text/html": [],
      "text/plain": [
       "<IPython.core.display.HTML object>"
      ]
     },
     "metadata": {},
     "output_type": "display_data"
    },
    {
     "data": {
      "text/html": [],
      "text/plain": [
       "<IPython.core.display.HTML object>"
      ]
     },
     "metadata": {},
     "output_type": "display_data"
    },
    {
     "data": {
      "text/html": [],
      "text/plain": [
       "<IPython.core.display.HTML object>"
      ]
     },
     "metadata": {},
     "output_type": "display_data"
    },
    {
     "data": {
      "text/html": [],
      "text/plain": [
       "<IPython.core.display.HTML object>"
      ]
     },
     "metadata": {},
     "output_type": "display_data"
    },
    {
     "data": {
      "text/html": [],
      "text/plain": [
       "<IPython.core.display.HTML object>"
      ]
     },
     "metadata": {},
     "output_type": "display_data"
    },
    {
     "data": {
      "text/html": [],
      "text/plain": [
       "<IPython.core.display.HTML object>"
      ]
     },
     "metadata": {},
     "output_type": "display_data"
    },
    {
     "data": {
      "text/html": [],
      "text/plain": [
       "<IPython.core.display.HTML object>"
      ]
     },
     "metadata": {},
     "output_type": "display_data"
    },
    {
     "data": {
      "text/html": [],
      "text/plain": [
       "<IPython.core.display.HTML object>"
      ]
     },
     "metadata": {},
     "output_type": "display_data"
    },
    {
     "data": {
      "text/html": [],
      "text/plain": [
       "<IPython.core.display.HTML object>"
      ]
     },
     "metadata": {},
     "output_type": "display_data"
    },
    {
     "data": {
      "text/html": [],
      "text/plain": [
       "<IPython.core.display.HTML object>"
      ]
     },
     "metadata": {},
     "output_type": "display_data"
    },
    {
     "data": {
      "text/html": [],
      "text/plain": [
       "<IPython.core.display.HTML object>"
      ]
     },
     "metadata": {},
     "output_type": "display_data"
    },
    {
     "data": {
      "text/html": [],
      "text/plain": [
       "<IPython.core.display.HTML object>"
      ]
     },
     "metadata": {},
     "output_type": "display_data"
    },
    {
     "data": {
      "text/html": [],
      "text/plain": [
       "<IPython.core.display.HTML object>"
      ]
     },
     "metadata": {},
     "output_type": "display_data"
    },
    {
     "data": {
      "text/html": [],
      "text/plain": [
       "<IPython.core.display.HTML object>"
      ]
     },
     "metadata": {},
     "output_type": "display_data"
    },
    {
     "data": {
      "text/html": [],
      "text/plain": [
       "<IPython.core.display.HTML object>"
      ]
     },
     "metadata": {},
     "output_type": "display_data"
    },
    {
     "data": {
      "text/html": [],
      "text/plain": [
       "<IPython.core.display.HTML object>"
      ]
     },
     "metadata": {},
     "output_type": "display_data"
    },
    {
     "data": {
      "text/html": [],
      "text/plain": [
       "<IPython.core.display.HTML object>"
      ]
     },
     "metadata": {},
     "output_type": "display_data"
    },
    {
     "data": {
      "text/html": [],
      "text/plain": [
       "<IPython.core.display.HTML object>"
      ]
     },
     "metadata": {},
     "output_type": "display_data"
    },
    {
     "data": {
      "text/html": [],
      "text/plain": [
       "<IPython.core.display.HTML object>"
      ]
     },
     "metadata": {},
     "output_type": "display_data"
    },
    {
     "data": {
      "text/html": [],
      "text/plain": [
       "<IPython.core.display.HTML object>"
      ]
     },
     "metadata": {},
     "output_type": "display_data"
    },
    {
     "data": {
      "text/html": [],
      "text/plain": [
       "<IPython.core.display.HTML object>"
      ]
     },
     "metadata": {},
     "output_type": "display_data"
    },
    {
     "data": {
      "text/html": [],
      "text/plain": [
       "<IPython.core.display.HTML object>"
      ]
     },
     "metadata": {},
     "output_type": "display_data"
    },
    {
     "data": {
      "text/html": [],
      "text/plain": [
       "<IPython.core.display.HTML object>"
      ]
     },
     "metadata": {},
     "output_type": "display_data"
    },
    {
     "data": {
      "text/html": [],
      "text/plain": [
       "<IPython.core.display.HTML object>"
      ]
     },
     "metadata": {},
     "output_type": "display_data"
    },
    {
     "data": {
      "text/html": [],
      "text/plain": [
       "<IPython.core.display.HTML object>"
      ]
     },
     "metadata": {},
     "output_type": "display_data"
    },
    {
     "data": {
      "text/html": [],
      "text/plain": [
       "<IPython.core.display.HTML object>"
      ]
     },
     "metadata": {},
     "output_type": "display_data"
    },
    {
     "data": {
      "text/html": [],
      "text/plain": [
       "<IPython.core.display.HTML object>"
      ]
     },
     "metadata": {},
     "output_type": "display_data"
    },
    {
     "data": {
      "text/html": [],
      "text/plain": [
       "<IPython.core.display.HTML object>"
      ]
     },
     "metadata": {},
     "output_type": "display_data"
    },
    {
     "data": {
      "text/html": [],
      "text/plain": [
       "<IPython.core.display.HTML object>"
      ]
     },
     "metadata": {},
     "output_type": "display_data"
    },
    {
     "data": {
      "text/html": [],
      "text/plain": [
       "<IPython.core.display.HTML object>"
      ]
     },
     "metadata": {},
     "output_type": "display_data"
    },
    {
     "data": {
      "text/html": [],
      "text/plain": [
       "<IPython.core.display.HTML object>"
      ]
     },
     "metadata": {},
     "output_type": "display_data"
    },
    {
     "data": {
      "text/html": [],
      "text/plain": [
       "<IPython.core.display.HTML object>"
      ]
     },
     "metadata": {},
     "output_type": "display_data"
    },
    {
     "data": {
      "text/html": [],
      "text/plain": [
       "<IPython.core.display.HTML object>"
      ]
     },
     "metadata": {},
     "output_type": "display_data"
    },
    {
     "data": {
      "text/html": [],
      "text/plain": [
       "<IPython.core.display.HTML object>"
      ]
     },
     "metadata": {},
     "output_type": "display_data"
    },
    {
     "data": {
      "text/html": [],
      "text/plain": [
       "<IPython.core.display.HTML object>"
      ]
     },
     "metadata": {},
     "output_type": "display_data"
    },
    {
     "data": {
      "text/html": [],
      "text/plain": [
       "<IPython.core.display.HTML object>"
      ]
     },
     "metadata": {},
     "output_type": "display_data"
    },
    {
     "data": {
      "text/html": [],
      "text/plain": [
       "<IPython.core.display.HTML object>"
      ]
     },
     "metadata": {},
     "output_type": "display_data"
    },
    {
     "data": {
      "text/html": [],
      "text/plain": [
       "<IPython.core.display.HTML object>"
      ]
     },
     "metadata": {},
     "output_type": "display_data"
    },
    {
     "data": {
      "text/html": [],
      "text/plain": [
       "<IPython.core.display.HTML object>"
      ]
     },
     "metadata": {},
     "output_type": "display_data"
    },
    {
     "data": {
      "text/html": [],
      "text/plain": [
       "<IPython.core.display.HTML object>"
      ]
     },
     "metadata": {},
     "output_type": "display_data"
    },
    {
     "data": {
      "text/html": [],
      "text/plain": [
       "<IPython.core.display.HTML object>"
      ]
     },
     "metadata": {},
     "output_type": "display_data"
    },
    {
     "data": {
      "text/html": [],
      "text/plain": [
       "<IPython.core.display.HTML object>"
      ]
     },
     "metadata": {},
     "output_type": "display_data"
    },
    {
     "data": {
      "text/html": [],
      "text/plain": [
       "<IPython.core.display.HTML object>"
      ]
     },
     "metadata": {},
     "output_type": "display_data"
    },
    {
     "data": {
      "text/html": [],
      "text/plain": [
       "<IPython.core.display.HTML object>"
      ]
     },
     "metadata": {},
     "output_type": "display_data"
    },
    {
     "data": {
      "text/html": [],
      "text/plain": [
       "<IPython.core.display.HTML object>"
      ]
     },
     "metadata": {},
     "output_type": "display_data"
    },
    {
     "data": {
      "text/html": [],
      "text/plain": [
       "<IPython.core.display.HTML object>"
      ]
     },
     "metadata": {},
     "output_type": "display_data"
    },
    {
     "data": {
      "text/html": [],
      "text/plain": [
       "<IPython.core.display.HTML object>"
      ]
     },
     "metadata": {},
     "output_type": "display_data"
    },
    {
     "data": {
      "text/html": [],
      "text/plain": [
       "<IPython.core.display.HTML object>"
      ]
     },
     "metadata": {},
     "output_type": "display_data"
    },
    {
     "data": {
      "text/html": [],
      "text/plain": [
       "<IPython.core.display.HTML object>"
      ]
     },
     "metadata": {},
     "output_type": "display_data"
    },
    {
     "data": {
      "text/html": [],
      "text/plain": [
       "<IPython.core.display.HTML object>"
      ]
     },
     "metadata": {},
     "output_type": "display_data"
    },
    {
     "data": {
      "text/html": [],
      "text/plain": [
       "<IPython.core.display.HTML object>"
      ]
     },
     "metadata": {},
     "output_type": "display_data"
    },
    {
     "data": {
      "text/html": [],
      "text/plain": [
       "<IPython.core.display.HTML object>"
      ]
     },
     "metadata": {},
     "output_type": "display_data"
    },
    {
     "data": {
      "text/html": [],
      "text/plain": [
       "<IPython.core.display.HTML object>"
      ]
     },
     "metadata": {},
     "output_type": "display_data"
    },
    {
     "data": {
      "text/html": [],
      "text/plain": [
       "<IPython.core.display.HTML object>"
      ]
     },
     "metadata": {},
     "output_type": "display_data"
    },
    {
     "data": {
      "text/html": [],
      "text/plain": [
       "<IPython.core.display.HTML object>"
      ]
     },
     "metadata": {},
     "output_type": "display_data"
    },
    {
     "data": {
      "text/html": [],
      "text/plain": [
       "<IPython.core.display.HTML object>"
      ]
     },
     "metadata": {},
     "output_type": "display_data"
    },
    {
     "data": {
      "text/html": [],
      "text/plain": [
       "<IPython.core.display.HTML object>"
      ]
     },
     "metadata": {},
     "output_type": "display_data"
    },
    {
     "data": {
      "text/html": [],
      "text/plain": [
       "<IPython.core.display.HTML object>"
      ]
     },
     "metadata": {},
     "output_type": "display_data"
    },
    {
     "data": {
      "text/html": [],
      "text/plain": [
       "<IPython.core.display.HTML object>"
      ]
     },
     "metadata": {},
     "output_type": "display_data"
    },
    {
     "data": {
      "text/html": [],
      "text/plain": [
       "<IPython.core.display.HTML object>"
      ]
     },
     "metadata": {},
     "output_type": "display_data"
    },
    {
     "data": {
      "text/html": [],
      "text/plain": [
       "<IPython.core.display.HTML object>"
      ]
     },
     "metadata": {},
     "output_type": "display_data"
    },
    {
     "data": {
      "text/html": [],
      "text/plain": [
       "<IPython.core.display.HTML object>"
      ]
     },
     "metadata": {},
     "output_type": "display_data"
    },
    {
     "data": {
      "text/html": [],
      "text/plain": [
       "<IPython.core.display.HTML object>"
      ]
     },
     "metadata": {},
     "output_type": "display_data"
    },
    {
     "data": {
      "text/html": [],
      "text/plain": [
       "<IPython.core.display.HTML object>"
      ]
     },
     "metadata": {},
     "output_type": "display_data"
    },
    {
     "data": {
      "text/html": [],
      "text/plain": [
       "<IPython.core.display.HTML object>"
      ]
     },
     "metadata": {},
     "output_type": "display_data"
    },
    {
     "data": {
      "text/html": [],
      "text/plain": [
       "<IPython.core.display.HTML object>"
      ]
     },
     "metadata": {},
     "output_type": "display_data"
    },
    {
     "data": {
      "text/html": [],
      "text/plain": [
       "<IPython.core.display.HTML object>"
      ]
     },
     "metadata": {},
     "output_type": "display_data"
    },
    {
     "data": {
      "text/html": [],
      "text/plain": [
       "<IPython.core.display.HTML object>"
      ]
     },
     "metadata": {},
     "output_type": "display_data"
    },
    {
     "data": {
      "text/html": [],
      "text/plain": [
       "<IPython.core.display.HTML object>"
      ]
     },
     "metadata": {},
     "output_type": "display_data"
    },
    {
     "data": {
      "text/html": [],
      "text/plain": [
       "<IPython.core.display.HTML object>"
      ]
     },
     "metadata": {},
     "output_type": "display_data"
    },
    {
     "data": {
      "text/html": [],
      "text/plain": [
       "<IPython.core.display.HTML object>"
      ]
     },
     "metadata": {},
     "output_type": "display_data"
    },
    {
     "data": {
      "text/html": [],
      "text/plain": [
       "<IPython.core.display.HTML object>"
      ]
     },
     "metadata": {},
     "output_type": "display_data"
    },
    {
     "data": {
      "text/html": [],
      "text/plain": [
       "<IPython.core.display.HTML object>"
      ]
     },
     "metadata": {},
     "output_type": "display_data"
    },
    {
     "data": {
      "text/html": [],
      "text/plain": [
       "<IPython.core.display.HTML object>"
      ]
     },
     "metadata": {},
     "output_type": "display_data"
    },
    {
     "data": {
      "text/html": [],
      "text/plain": [
       "<IPython.core.display.HTML object>"
      ]
     },
     "metadata": {},
     "output_type": "display_data"
    },
    {
     "data": {
      "text/html": [],
      "text/plain": [
       "<IPython.core.display.HTML object>"
      ]
     },
     "metadata": {},
     "output_type": "display_data"
    },
    {
     "data": {
      "text/html": [],
      "text/plain": [
       "<IPython.core.display.HTML object>"
      ]
     },
     "metadata": {},
     "output_type": "display_data"
    },
    {
     "data": {
      "text/html": [],
      "text/plain": [
       "<IPython.core.display.HTML object>"
      ]
     },
     "metadata": {},
     "output_type": "display_data"
    },
    {
     "data": {
      "text/html": [],
      "text/plain": [
       "<IPython.core.display.HTML object>"
      ]
     },
     "metadata": {},
     "output_type": "display_data"
    },
    {
     "data": {
      "text/html": [],
      "text/plain": [
       "<IPython.core.display.HTML object>"
      ]
     },
     "metadata": {},
     "output_type": "display_data"
    },
    {
     "data": {
      "text/html": [],
      "text/plain": [
       "<IPython.core.display.HTML object>"
      ]
     },
     "metadata": {},
     "output_type": "display_data"
    },
    {
     "data": {
      "text/html": [],
      "text/plain": [
       "<IPython.core.display.HTML object>"
      ]
     },
     "metadata": {},
     "output_type": "display_data"
    },
    {
     "data": {
      "text/html": [],
      "text/plain": [
       "<IPython.core.display.HTML object>"
      ]
     },
     "metadata": {},
     "output_type": "display_data"
    },
    {
     "data": {
      "text/html": [],
      "text/plain": [
       "<IPython.core.display.HTML object>"
      ]
     },
     "metadata": {},
     "output_type": "display_data"
    },
    {
     "data": {
      "text/html": [],
      "text/plain": [
       "<IPython.core.display.HTML object>"
      ]
     },
     "metadata": {},
     "output_type": "display_data"
    },
    {
     "data": {
      "text/html": [],
      "text/plain": [
       "<IPython.core.display.HTML object>"
      ]
     },
     "metadata": {},
     "output_type": "display_data"
    },
    {
     "data": {
      "text/html": [],
      "text/plain": [
       "<IPython.core.display.HTML object>"
      ]
     },
     "metadata": {},
     "output_type": "display_data"
    },
    {
     "data": {
      "text/html": [],
      "text/plain": [
       "<IPython.core.display.HTML object>"
      ]
     },
     "metadata": {},
     "output_type": "display_data"
    },
    {
     "data": {
      "text/html": [],
      "text/plain": [
       "<IPython.core.display.HTML object>"
      ]
     },
     "metadata": {},
     "output_type": "display_data"
    },
    {
     "data": {
      "text/html": [],
      "text/plain": [
       "<IPython.core.display.HTML object>"
      ]
     },
     "metadata": {},
     "output_type": "display_data"
    },
    {
     "data": {
      "text/html": [],
      "text/plain": [
       "<IPython.core.display.HTML object>"
      ]
     },
     "metadata": {},
     "output_type": "display_data"
    },
    {
     "data": {
      "text/html": [],
      "text/plain": [
       "<IPython.core.display.HTML object>"
      ]
     },
     "metadata": {},
     "output_type": "display_data"
    },
    {
     "data": {
      "text/html": [],
      "text/plain": [
       "<IPython.core.display.HTML object>"
      ]
     },
     "metadata": {},
     "output_type": "display_data"
    },
    {
     "data": {
      "text/html": [],
      "text/plain": [
       "<IPython.core.display.HTML object>"
      ]
     },
     "metadata": {},
     "output_type": "display_data"
    },
    {
     "data": {
      "text/html": [],
      "text/plain": [
       "<IPython.core.display.HTML object>"
      ]
     },
     "metadata": {},
     "output_type": "display_data"
    },
    {
     "data": {
      "text/html": [],
      "text/plain": [
       "<IPython.core.display.HTML object>"
      ]
     },
     "metadata": {},
     "output_type": "display_data"
    },
    {
     "data": {
      "text/html": [],
      "text/plain": [
       "<IPython.core.display.HTML object>"
      ]
     },
     "metadata": {},
     "output_type": "display_data"
    },
    {
     "data": {
      "text/html": [],
      "text/plain": [
       "<IPython.core.display.HTML object>"
      ]
     },
     "metadata": {},
     "output_type": "display_data"
    },
    {
     "data": {
      "text/html": [],
      "text/plain": [
       "<IPython.core.display.HTML object>"
      ]
     },
     "metadata": {},
     "output_type": "display_data"
    },
    {
     "data": {
      "text/html": [],
      "text/plain": [
       "<IPython.core.display.HTML object>"
      ]
     },
     "metadata": {},
     "output_type": "display_data"
    },
    {
     "data": {
      "text/html": [],
      "text/plain": [
       "<IPython.core.display.HTML object>"
      ]
     },
     "metadata": {},
     "output_type": "display_data"
    },
    {
     "data": {
      "text/html": [],
      "text/plain": [
       "<IPython.core.display.HTML object>"
      ]
     },
     "metadata": {},
     "output_type": "display_data"
    },
    {
     "data": {
      "text/html": [],
      "text/plain": [
       "<IPython.core.display.HTML object>"
      ]
     },
     "metadata": {},
     "output_type": "display_data"
    },
    {
     "data": {
      "text/html": [],
      "text/plain": [
       "<IPython.core.display.HTML object>"
      ]
     },
     "metadata": {},
     "output_type": "display_data"
    },
    {
     "data": {
      "text/html": [],
      "text/plain": [
       "<IPython.core.display.HTML object>"
      ]
     },
     "metadata": {},
     "output_type": "display_data"
    },
    {
     "data": {
      "text/html": [],
      "text/plain": [
       "<IPython.core.display.HTML object>"
      ]
     },
     "metadata": {},
     "output_type": "display_data"
    },
    {
     "data": {
      "text/html": [],
      "text/plain": [
       "<IPython.core.display.HTML object>"
      ]
     },
     "metadata": {},
     "output_type": "display_data"
    },
    {
     "data": {
      "text/html": [],
      "text/plain": [
       "<IPython.core.display.HTML object>"
      ]
     },
     "metadata": {},
     "output_type": "display_data"
    },
    {
     "data": {
      "text/html": [],
      "text/plain": [
       "<IPython.core.display.HTML object>"
      ]
     },
     "metadata": {},
     "output_type": "display_data"
    },
    {
     "data": {
      "text/html": [],
      "text/plain": [
       "<IPython.core.display.HTML object>"
      ]
     },
     "metadata": {},
     "output_type": "display_data"
    },
    {
     "data": {
      "text/html": [],
      "text/plain": [
       "<IPython.core.display.HTML object>"
      ]
     },
     "metadata": {},
     "output_type": "display_data"
    },
    {
     "data": {
      "text/html": [],
      "text/plain": [
       "<IPython.core.display.HTML object>"
      ]
     },
     "metadata": {},
     "output_type": "display_data"
    },
    {
     "data": {
      "text/html": [],
      "text/plain": [
       "<IPython.core.display.HTML object>"
      ]
     },
     "metadata": {},
     "output_type": "display_data"
    },
    {
     "data": {
      "text/html": [],
      "text/plain": [
       "<IPython.core.display.HTML object>"
      ]
     },
     "metadata": {},
     "output_type": "display_data"
    },
    {
     "data": {
      "text/html": [],
      "text/plain": [
       "<IPython.core.display.HTML object>"
      ]
     },
     "metadata": {},
     "output_type": "display_data"
    },
    {
     "data": {
      "text/html": [],
      "text/plain": [
       "<IPython.core.display.HTML object>"
      ]
     },
     "metadata": {},
     "output_type": "display_data"
    },
    {
     "data": {
      "text/html": [],
      "text/plain": [
       "<IPython.core.display.HTML object>"
      ]
     },
     "metadata": {},
     "output_type": "display_data"
    },
    {
     "data": {
      "text/html": [],
      "text/plain": [
       "<IPython.core.display.HTML object>"
      ]
     },
     "metadata": {},
     "output_type": "display_data"
    },
    {
     "data": {
      "text/html": [],
      "text/plain": [
       "<IPython.core.display.HTML object>"
      ]
     },
     "metadata": {},
     "output_type": "display_data"
    },
    {
     "data": {
      "text/html": [],
      "text/plain": [
       "<IPython.core.display.HTML object>"
      ]
     },
     "metadata": {},
     "output_type": "display_data"
    },
    {
     "data": {
      "text/html": [],
      "text/plain": [
       "<IPython.core.display.HTML object>"
      ]
     },
     "metadata": {},
     "output_type": "display_data"
    },
    {
     "data": {
      "text/html": [],
      "text/plain": [
       "<IPython.core.display.HTML object>"
      ]
     },
     "metadata": {},
     "output_type": "display_data"
    },
    {
     "data": {
      "text/html": [],
      "text/plain": [
       "<IPython.core.display.HTML object>"
      ]
     },
     "metadata": {},
     "output_type": "display_data"
    },
    {
     "data": {
      "text/html": [],
      "text/plain": [
       "<IPython.core.display.HTML object>"
      ]
     },
     "metadata": {},
     "output_type": "display_data"
    },
    {
     "data": {
      "text/html": [],
      "text/plain": [
       "<IPython.core.display.HTML object>"
      ]
     },
     "metadata": {},
     "output_type": "display_data"
    },
    {
     "data": {
      "text/html": [],
      "text/plain": [
       "<IPython.core.display.HTML object>"
      ]
     },
     "metadata": {},
     "output_type": "display_data"
    },
    {
     "data": {
      "text/html": [],
      "text/plain": [
       "<IPython.core.display.HTML object>"
      ]
     },
     "metadata": {},
     "output_type": "display_data"
    },
    {
     "data": {
      "text/html": [],
      "text/plain": [
       "<IPython.core.display.HTML object>"
      ]
     },
     "metadata": {},
     "output_type": "display_data"
    },
    {
     "data": {
      "text/html": [],
      "text/plain": [
       "<IPython.core.display.HTML object>"
      ]
     },
     "metadata": {},
     "output_type": "display_data"
    },
    {
     "data": {
      "text/html": [],
      "text/plain": [
       "<IPython.core.display.HTML object>"
      ]
     },
     "metadata": {},
     "output_type": "display_data"
    },
    {
     "data": {
      "text/html": [],
      "text/plain": [
       "<IPython.core.display.HTML object>"
      ]
     },
     "metadata": {},
     "output_type": "display_data"
    },
    {
     "data": {
      "text/html": [],
      "text/plain": [
       "<IPython.core.display.HTML object>"
      ]
     },
     "metadata": {},
     "output_type": "display_data"
    },
    {
     "data": {
      "text/html": [],
      "text/plain": [
       "<IPython.core.display.HTML object>"
      ]
     },
     "metadata": {},
     "output_type": "display_data"
    },
    {
     "data": {
      "text/html": [],
      "text/plain": [
       "<IPython.core.display.HTML object>"
      ]
     },
     "metadata": {},
     "output_type": "display_data"
    },
    {
     "data": {
      "text/html": [],
      "text/plain": [
       "<IPython.core.display.HTML object>"
      ]
     },
     "metadata": {},
     "output_type": "display_data"
    },
    {
     "data": {
      "text/html": [],
      "text/plain": [
       "<IPython.core.display.HTML object>"
      ]
     },
     "metadata": {},
     "output_type": "display_data"
    },
    {
     "data": {
      "text/html": [],
      "text/plain": [
       "<IPython.core.display.HTML object>"
      ]
     },
     "metadata": {},
     "output_type": "display_data"
    },
    {
     "data": {
      "text/html": [],
      "text/plain": [
       "<IPython.core.display.HTML object>"
      ]
     },
     "metadata": {},
     "output_type": "display_data"
    },
    {
     "data": {
      "text/html": [],
      "text/plain": [
       "<IPython.core.display.HTML object>"
      ]
     },
     "metadata": {},
     "output_type": "display_data"
    },
    {
     "data": {
      "text/html": [],
      "text/plain": [
       "<IPython.core.display.HTML object>"
      ]
     },
     "metadata": {},
     "output_type": "display_data"
    },
    {
     "data": {
      "text/html": [],
      "text/plain": [
       "<IPython.core.display.HTML object>"
      ]
     },
     "metadata": {},
     "output_type": "display_data"
    },
    {
     "data": {
      "text/html": [],
      "text/plain": [
       "<IPython.core.display.HTML object>"
      ]
     },
     "metadata": {},
     "output_type": "display_data"
    },
    {
     "data": {
      "text/html": [],
      "text/plain": [
       "<IPython.core.display.HTML object>"
      ]
     },
     "metadata": {},
     "output_type": "display_data"
    },
    {
     "data": {
      "text/html": [],
      "text/plain": [
       "<IPython.core.display.HTML object>"
      ]
     },
     "metadata": {},
     "output_type": "display_data"
    },
    {
     "data": {
      "text/html": [],
      "text/plain": [
       "<IPython.core.display.HTML object>"
      ]
     },
     "metadata": {},
     "output_type": "display_data"
    },
    {
     "data": {
      "text/html": [],
      "text/plain": [
       "<IPython.core.display.HTML object>"
      ]
     },
     "metadata": {},
     "output_type": "display_data"
    },
    {
     "data": {
      "text/html": [],
      "text/plain": [
       "<IPython.core.display.HTML object>"
      ]
     },
     "metadata": {},
     "output_type": "display_data"
    },
    {
     "data": {
      "text/html": [],
      "text/plain": [
       "<IPython.core.display.HTML object>"
      ]
     },
     "metadata": {},
     "output_type": "display_data"
    },
    {
     "data": {
      "text/html": [],
      "text/plain": [
       "<IPython.core.display.HTML object>"
      ]
     },
     "metadata": {},
     "output_type": "display_data"
    },
    {
     "data": {
      "text/html": [],
      "text/plain": [
       "<IPython.core.display.HTML object>"
      ]
     },
     "metadata": {},
     "output_type": "display_data"
    },
    {
     "data": {
      "text/html": [],
      "text/plain": [
       "<IPython.core.display.HTML object>"
      ]
     },
     "metadata": {},
     "output_type": "display_data"
    },
    {
     "data": {
      "text/html": [],
      "text/plain": [
       "<IPython.core.display.HTML object>"
      ]
     },
     "metadata": {},
     "output_type": "display_data"
    },
    {
     "data": {
      "text/html": [],
      "text/plain": [
       "<IPython.core.display.HTML object>"
      ]
     },
     "metadata": {},
     "output_type": "display_data"
    },
    {
     "data": {
      "text/html": [],
      "text/plain": [
       "<IPython.core.display.HTML object>"
      ]
     },
     "metadata": {},
     "output_type": "display_data"
    },
    {
     "data": {
      "text/html": [],
      "text/plain": [
       "<IPython.core.display.HTML object>"
      ]
     },
     "metadata": {},
     "output_type": "display_data"
    },
    {
     "data": {
      "text/html": [],
      "text/plain": [
       "<IPython.core.display.HTML object>"
      ]
     },
     "metadata": {},
     "output_type": "display_data"
    },
    {
     "data": {
      "text/html": [],
      "text/plain": [
       "<IPython.core.display.HTML object>"
      ]
     },
     "metadata": {},
     "output_type": "display_data"
    },
    {
     "data": {
      "text/html": [],
      "text/plain": [
       "<IPython.core.display.HTML object>"
      ]
     },
     "metadata": {},
     "output_type": "display_data"
    },
    {
     "data": {
      "text/html": [],
      "text/plain": [
       "<IPython.core.display.HTML object>"
      ]
     },
     "metadata": {},
     "output_type": "display_data"
    },
    {
     "data": {
      "text/html": [],
      "text/plain": [
       "<IPython.core.display.HTML object>"
      ]
     },
     "metadata": {},
     "output_type": "display_data"
    },
    {
     "data": {
      "text/html": [],
      "text/plain": [
       "<IPython.core.display.HTML object>"
      ]
     },
     "metadata": {},
     "output_type": "display_data"
    },
    {
     "data": {
      "text/html": [],
      "text/plain": [
       "<IPython.core.display.HTML object>"
      ]
     },
     "metadata": {},
     "output_type": "display_data"
    },
    {
     "data": {
      "text/html": [],
      "text/plain": [
       "<IPython.core.display.HTML object>"
      ]
     },
     "metadata": {},
     "output_type": "display_data"
    },
    {
     "data": {
      "text/html": [],
      "text/plain": [
       "<IPython.core.display.HTML object>"
      ]
     },
     "metadata": {},
     "output_type": "display_data"
    },
    {
     "data": {
      "text/html": [],
      "text/plain": [
       "<IPython.core.display.HTML object>"
      ]
     },
     "metadata": {},
     "output_type": "display_data"
    },
    {
     "data": {
      "text/html": [],
      "text/plain": [
       "<IPython.core.display.HTML object>"
      ]
     },
     "metadata": {},
     "output_type": "display_data"
    },
    {
     "data": {
      "text/html": [],
      "text/plain": [
       "<IPython.core.display.HTML object>"
      ]
     },
     "metadata": {},
     "output_type": "display_data"
    },
    {
     "data": {
      "text/html": [],
      "text/plain": [
       "<IPython.core.display.HTML object>"
      ]
     },
     "metadata": {},
     "output_type": "display_data"
    },
    {
     "data": {
      "text/html": [],
      "text/plain": [
       "<IPython.core.display.HTML object>"
      ]
     },
     "metadata": {},
     "output_type": "display_data"
    },
    {
     "data": {
      "text/html": [],
      "text/plain": [
       "<IPython.core.display.HTML object>"
      ]
     },
     "metadata": {},
     "output_type": "display_data"
    },
    {
     "data": {
      "text/html": [],
      "text/plain": [
       "<IPython.core.display.HTML object>"
      ]
     },
     "metadata": {},
     "output_type": "display_data"
    },
    {
     "data": {
      "text/html": [],
      "text/plain": [
       "<IPython.core.display.HTML object>"
      ]
     },
     "metadata": {},
     "output_type": "display_data"
    },
    {
     "data": {
      "text/html": [],
      "text/plain": [
       "<IPython.core.display.HTML object>"
      ]
     },
     "metadata": {},
     "output_type": "display_data"
    },
    {
     "data": {
      "text/html": [],
      "text/plain": [
       "<IPython.core.display.HTML object>"
      ]
     },
     "metadata": {},
     "output_type": "display_data"
    },
    {
     "data": {
      "text/html": [],
      "text/plain": [
       "<IPython.core.display.HTML object>"
      ]
     },
     "metadata": {},
     "output_type": "display_data"
    },
    {
     "data": {
      "text/html": [],
      "text/plain": [
       "<IPython.core.display.HTML object>"
      ]
     },
     "metadata": {},
     "output_type": "display_data"
    },
    {
     "data": {
      "text/html": [],
      "text/plain": [
       "<IPython.core.display.HTML object>"
      ]
     },
     "metadata": {},
     "output_type": "display_data"
    },
    {
     "data": {
      "text/html": [],
      "text/plain": [
       "<IPython.core.display.HTML object>"
      ]
     },
     "metadata": {},
     "output_type": "display_data"
    },
    {
     "data": {
      "text/html": [],
      "text/plain": [
       "<IPython.core.display.HTML object>"
      ]
     },
     "metadata": {},
     "output_type": "display_data"
    },
    {
     "data": {
      "text/html": [],
      "text/plain": [
       "<IPython.core.display.HTML object>"
      ]
     },
     "metadata": {},
     "output_type": "display_data"
    },
    {
     "data": {
      "text/html": [],
      "text/plain": [
       "<IPython.core.display.HTML object>"
      ]
     },
     "metadata": {},
     "output_type": "display_data"
    },
    {
     "data": {
      "text/html": [],
      "text/plain": [
       "<IPython.core.display.HTML object>"
      ]
     },
     "metadata": {},
     "output_type": "display_data"
    },
    {
     "data": {
      "text/html": [],
      "text/plain": [
       "<IPython.core.display.HTML object>"
      ]
     },
     "metadata": {},
     "output_type": "display_data"
    },
    {
     "data": {
      "text/html": [],
      "text/plain": [
       "<IPython.core.display.HTML object>"
      ]
     },
     "metadata": {},
     "output_type": "display_data"
    },
    {
     "data": {
      "text/html": [],
      "text/plain": [
       "<IPython.core.display.HTML object>"
      ]
     },
     "metadata": {},
     "output_type": "display_data"
    },
    {
     "data": {
      "text/html": [],
      "text/plain": [
       "<IPython.core.display.HTML object>"
      ]
     },
     "metadata": {},
     "output_type": "display_data"
    },
    {
     "data": {
      "text/html": [],
      "text/plain": [
       "<IPython.core.display.HTML object>"
      ]
     },
     "metadata": {},
     "output_type": "display_data"
    },
    {
     "data": {
      "text/html": [],
      "text/plain": [
       "<IPython.core.display.HTML object>"
      ]
     },
     "metadata": {},
     "output_type": "display_data"
    },
    {
     "data": {
      "text/html": [],
      "text/plain": [
       "<IPython.core.display.HTML object>"
      ]
     },
     "metadata": {},
     "output_type": "display_data"
    },
    {
     "data": {
      "text/html": [],
      "text/plain": [
       "<IPython.core.display.HTML object>"
      ]
     },
     "metadata": {},
     "output_type": "display_data"
    },
    {
     "data": {
      "text/html": [],
      "text/plain": [
       "<IPython.core.display.HTML object>"
      ]
     },
     "metadata": {},
     "output_type": "display_data"
    },
    {
     "data": {
      "text/html": [],
      "text/plain": [
       "<IPython.core.display.HTML object>"
      ]
     },
     "metadata": {},
     "output_type": "display_data"
    },
    {
     "data": {
      "text/html": [],
      "text/plain": [
       "<IPython.core.display.HTML object>"
      ]
     },
     "metadata": {},
     "output_type": "display_data"
    },
    {
     "data": {
      "text/html": [],
      "text/plain": [
       "<IPython.core.display.HTML object>"
      ]
     },
     "metadata": {},
     "output_type": "display_data"
    },
    {
     "data": {
      "text/html": [],
      "text/plain": [
       "<IPython.core.display.HTML object>"
      ]
     },
     "metadata": {},
     "output_type": "display_data"
    },
    {
     "data": {
      "text/html": [],
      "text/plain": [
       "<IPython.core.display.HTML object>"
      ]
     },
     "metadata": {},
     "output_type": "display_data"
    },
    {
     "data": {
      "text/html": [],
      "text/plain": [
       "<IPython.core.display.HTML object>"
      ]
     },
     "metadata": {},
     "output_type": "display_data"
    },
    {
     "data": {
      "text/html": [],
      "text/plain": [
       "<IPython.core.display.HTML object>"
      ]
     },
     "metadata": {},
     "output_type": "display_data"
    },
    {
     "data": {
      "text/html": [],
      "text/plain": [
       "<IPython.core.display.HTML object>"
      ]
     },
     "metadata": {},
     "output_type": "display_data"
    },
    {
     "data": {
      "text/html": [],
      "text/plain": [
       "<IPython.core.display.HTML object>"
      ]
     },
     "metadata": {},
     "output_type": "display_data"
    },
    {
     "data": {
      "text/html": [],
      "text/plain": [
       "<IPython.core.display.HTML object>"
      ]
     },
     "metadata": {},
     "output_type": "display_data"
    },
    {
     "data": {
      "text/html": [],
      "text/plain": [
       "<IPython.core.display.HTML object>"
      ]
     },
     "metadata": {},
     "output_type": "display_data"
    },
    {
     "data": {
      "text/html": [],
      "text/plain": [
       "<IPython.core.display.HTML object>"
      ]
     },
     "metadata": {},
     "output_type": "display_data"
    },
    {
     "data": {
      "text/html": [],
      "text/plain": [
       "<IPython.core.display.HTML object>"
      ]
     },
     "metadata": {},
     "output_type": "display_data"
    },
    {
     "data": {
      "text/html": [],
      "text/plain": [
       "<IPython.core.display.HTML object>"
      ]
     },
     "metadata": {},
     "output_type": "display_data"
    },
    {
     "data": {
      "text/html": [],
      "text/plain": [
       "<IPython.core.display.HTML object>"
      ]
     },
     "metadata": {},
     "output_type": "display_data"
    },
    {
     "data": {
      "text/html": [],
      "text/plain": [
       "<IPython.core.display.HTML object>"
      ]
     },
     "metadata": {},
     "output_type": "display_data"
    },
    {
     "data": {
      "text/html": [],
      "text/plain": [
       "<IPython.core.display.HTML object>"
      ]
     },
     "metadata": {},
     "output_type": "display_data"
    },
    {
     "data": {
      "text/html": [],
      "text/plain": [
       "<IPython.core.display.HTML object>"
      ]
     },
     "metadata": {},
     "output_type": "display_data"
    },
    {
     "data": {
      "text/html": [],
      "text/plain": [
       "<IPython.core.display.HTML object>"
      ]
     },
     "metadata": {},
     "output_type": "display_data"
    },
    {
     "data": {
      "text/html": [],
      "text/plain": [
       "<IPython.core.display.HTML object>"
      ]
     },
     "metadata": {},
     "output_type": "display_data"
    },
    {
     "data": {
      "text/html": [],
      "text/plain": [
       "<IPython.core.display.HTML object>"
      ]
     },
     "metadata": {},
     "output_type": "display_data"
    },
    {
     "data": {
      "text/html": [],
      "text/plain": [
       "<IPython.core.display.HTML object>"
      ]
     },
     "metadata": {},
     "output_type": "display_data"
    },
    {
     "data": {
      "text/html": [],
      "text/plain": [
       "<IPython.core.display.HTML object>"
      ]
     },
     "metadata": {},
     "output_type": "display_data"
    },
    {
     "data": {
      "text/html": [],
      "text/plain": [
       "<IPython.core.display.HTML object>"
      ]
     },
     "metadata": {},
     "output_type": "display_data"
    },
    {
     "data": {
      "text/html": [],
      "text/plain": [
       "<IPython.core.display.HTML object>"
      ]
     },
     "metadata": {},
     "output_type": "display_data"
    },
    {
     "data": {
      "text/html": [],
      "text/plain": [
       "<IPython.core.display.HTML object>"
      ]
     },
     "metadata": {},
     "output_type": "display_data"
    },
    {
     "data": {
      "text/html": [],
      "text/plain": [
       "<IPython.core.display.HTML object>"
      ]
     },
     "metadata": {},
     "output_type": "display_data"
    },
    {
     "data": {
      "text/html": [],
      "text/plain": [
       "<IPython.core.display.HTML object>"
      ]
     },
     "metadata": {},
     "output_type": "display_data"
    },
    {
     "data": {
      "text/html": [],
      "text/plain": [
       "<IPython.core.display.HTML object>"
      ]
     },
     "metadata": {},
     "output_type": "display_data"
    },
    {
     "data": {
      "text/html": [],
      "text/plain": [
       "<IPython.core.display.HTML object>"
      ]
     },
     "metadata": {},
     "output_type": "display_data"
    },
    {
     "data": {
      "text/html": [],
      "text/plain": [
       "<IPython.core.display.HTML object>"
      ]
     },
     "metadata": {},
     "output_type": "display_data"
    },
    {
     "data": {
      "text/html": [],
      "text/plain": [
       "<IPython.core.display.HTML object>"
      ]
     },
     "metadata": {},
     "output_type": "display_data"
    },
    {
     "data": {
      "text/html": [],
      "text/plain": [
       "<IPython.core.display.HTML object>"
      ]
     },
     "metadata": {},
     "output_type": "display_data"
    },
    {
     "data": {
      "text/html": [],
      "text/plain": [
       "<IPython.core.display.HTML object>"
      ]
     },
     "metadata": {},
     "output_type": "display_data"
    },
    {
     "data": {
      "text/html": [],
      "text/plain": [
       "<IPython.core.display.HTML object>"
      ]
     },
     "metadata": {},
     "output_type": "display_data"
    },
    {
     "data": {
      "text/html": [],
      "text/plain": [
       "<IPython.core.display.HTML object>"
      ]
     },
     "metadata": {},
     "output_type": "display_data"
    },
    {
     "data": {
      "text/html": [],
      "text/plain": [
       "<IPython.core.display.HTML object>"
      ]
     },
     "metadata": {},
     "output_type": "display_data"
    },
    {
     "data": {
      "text/html": [],
      "text/plain": [
       "<IPython.core.display.HTML object>"
      ]
     },
     "metadata": {},
     "output_type": "display_data"
    },
    {
     "data": {
      "text/html": [],
      "text/plain": [
       "<IPython.core.display.HTML object>"
      ]
     },
     "metadata": {},
     "output_type": "display_data"
    },
    {
     "data": {
      "text/html": [],
      "text/plain": [
       "<IPython.core.display.HTML object>"
      ]
     },
     "metadata": {},
     "output_type": "display_data"
    },
    {
     "data": {
      "text/html": [],
      "text/plain": [
       "<IPython.core.display.HTML object>"
      ]
     },
     "metadata": {},
     "output_type": "display_data"
    },
    {
     "data": {
      "text/html": [],
      "text/plain": [
       "<IPython.core.display.HTML object>"
      ]
     },
     "metadata": {},
     "output_type": "display_data"
    },
    {
     "data": {
      "text/html": [],
      "text/plain": [
       "<IPython.core.display.HTML object>"
      ]
     },
     "metadata": {},
     "output_type": "display_data"
    },
    {
     "data": {
      "text/html": [],
      "text/plain": [
       "<IPython.core.display.HTML object>"
      ]
     },
     "metadata": {},
     "output_type": "display_data"
    },
    {
     "data": {
      "text/html": [],
      "text/plain": [
       "<IPython.core.display.HTML object>"
      ]
     },
     "metadata": {},
     "output_type": "display_data"
    },
    {
     "data": {
      "text/html": [],
      "text/plain": [
       "<IPython.core.display.HTML object>"
      ]
     },
     "metadata": {},
     "output_type": "display_data"
    },
    {
     "data": {
      "text/html": [],
      "text/plain": [
       "<IPython.core.display.HTML object>"
      ]
     },
     "metadata": {},
     "output_type": "display_data"
    },
    {
     "data": {
      "text/html": [],
      "text/plain": [
       "<IPython.core.display.HTML object>"
      ]
     },
     "metadata": {},
     "output_type": "display_data"
    },
    {
     "data": {
      "text/html": [],
      "text/plain": [
       "<IPython.core.display.HTML object>"
      ]
     },
     "metadata": {},
     "output_type": "display_data"
    },
    {
     "data": {
      "text/html": [],
      "text/plain": [
       "<IPython.core.display.HTML object>"
      ]
     },
     "metadata": {},
     "output_type": "display_data"
    },
    {
     "data": {
      "text/html": [],
      "text/plain": [
       "<IPython.core.display.HTML object>"
      ]
     },
     "metadata": {},
     "output_type": "display_data"
    },
    {
     "data": {
      "text/html": [],
      "text/plain": [
       "<IPython.core.display.HTML object>"
      ]
     },
     "metadata": {},
     "output_type": "display_data"
    },
    {
     "data": {
      "text/html": [],
      "text/plain": [
       "<IPython.core.display.HTML object>"
      ]
     },
     "metadata": {},
     "output_type": "display_data"
    },
    {
     "data": {
      "text/html": [],
      "text/plain": [
       "<IPython.core.display.HTML object>"
      ]
     },
     "metadata": {},
     "output_type": "display_data"
    },
    {
     "data": {
      "text/html": [],
      "text/plain": [
       "<IPython.core.display.HTML object>"
      ]
     },
     "metadata": {},
     "output_type": "display_data"
    },
    {
     "data": {
      "text/html": [],
      "text/plain": [
       "<IPython.core.display.HTML object>"
      ]
     },
     "metadata": {},
     "output_type": "display_data"
    },
    {
     "data": {
      "text/html": [],
      "text/plain": [
       "<IPython.core.display.HTML object>"
      ]
     },
     "metadata": {},
     "output_type": "display_data"
    },
    {
     "data": {
      "text/html": [],
      "text/plain": [
       "<IPython.core.display.HTML object>"
      ]
     },
     "metadata": {},
     "output_type": "display_data"
    },
    {
     "data": {
      "text/html": [],
      "text/plain": [
       "<IPython.core.display.HTML object>"
      ]
     },
     "metadata": {},
     "output_type": "display_data"
    },
    {
     "data": {
      "text/html": [],
      "text/plain": [
       "<IPython.core.display.HTML object>"
      ]
     },
     "metadata": {},
     "output_type": "display_data"
    },
    {
     "data": {
      "text/html": [],
      "text/plain": [
       "<IPython.core.display.HTML object>"
      ]
     },
     "metadata": {},
     "output_type": "display_data"
    },
    {
     "data": {
      "text/html": [],
      "text/plain": [
       "<IPython.core.display.HTML object>"
      ]
     },
     "metadata": {},
     "output_type": "display_data"
    },
    {
     "data": {
      "text/html": [],
      "text/plain": [
       "<IPython.core.display.HTML object>"
      ]
     },
     "metadata": {},
     "output_type": "display_data"
    },
    {
     "data": {
      "text/html": [],
      "text/plain": [
       "<IPython.core.display.HTML object>"
      ]
     },
     "metadata": {},
     "output_type": "display_data"
    },
    {
     "data": {
      "text/html": [],
      "text/plain": [
       "<IPython.core.display.HTML object>"
      ]
     },
     "metadata": {},
     "output_type": "display_data"
    },
    {
     "data": {
      "text/html": [],
      "text/plain": [
       "<IPython.core.display.HTML object>"
      ]
     },
     "metadata": {},
     "output_type": "display_data"
    },
    {
     "data": {
      "text/html": [],
      "text/plain": [
       "<IPython.core.display.HTML object>"
      ]
     },
     "metadata": {},
     "output_type": "display_data"
    },
    {
     "data": {
      "text/html": [],
      "text/plain": [
       "<IPython.core.display.HTML object>"
      ]
     },
     "metadata": {},
     "output_type": "display_data"
    },
    {
     "data": {
      "text/html": [],
      "text/plain": [
       "<IPython.core.display.HTML object>"
      ]
     },
     "metadata": {},
     "output_type": "display_data"
    },
    {
     "data": {
      "text/html": [],
      "text/plain": [
       "<IPython.core.display.HTML object>"
      ]
     },
     "metadata": {},
     "output_type": "display_data"
    },
    {
     "data": {
      "text/html": [],
      "text/plain": [
       "<IPython.core.display.HTML object>"
      ]
     },
     "metadata": {},
     "output_type": "display_data"
    },
    {
     "data": {
      "text/html": [],
      "text/plain": [
       "<IPython.core.display.HTML object>"
      ]
     },
     "metadata": {},
     "output_type": "display_data"
    },
    {
     "data": {
      "text/html": [],
      "text/plain": [
       "<IPython.core.display.HTML object>"
      ]
     },
     "metadata": {},
     "output_type": "display_data"
    },
    {
     "data": {
      "text/html": [],
      "text/plain": [
       "<IPython.core.display.HTML object>"
      ]
     },
     "metadata": {},
     "output_type": "display_data"
    },
    {
     "data": {
      "text/html": [],
      "text/plain": [
       "<IPython.core.display.HTML object>"
      ]
     },
     "metadata": {},
     "output_type": "display_data"
    },
    {
     "data": {
      "text/html": [],
      "text/plain": [
       "<IPython.core.display.HTML object>"
      ]
     },
     "metadata": {},
     "output_type": "display_data"
    },
    {
     "data": {
      "text/html": [],
      "text/plain": [
       "<IPython.core.display.HTML object>"
      ]
     },
     "metadata": {},
     "output_type": "display_data"
    },
    {
     "data": {
      "text/html": [],
      "text/plain": [
       "<IPython.core.display.HTML object>"
      ]
     },
     "metadata": {},
     "output_type": "display_data"
    },
    {
     "data": {
      "text/html": [],
      "text/plain": [
       "<IPython.core.display.HTML object>"
      ]
     },
     "metadata": {},
     "output_type": "display_data"
    },
    {
     "data": {
      "text/html": [],
      "text/plain": [
       "<IPython.core.display.HTML object>"
      ]
     },
     "metadata": {},
     "output_type": "display_data"
    },
    {
     "data": {
      "text/html": [],
      "text/plain": [
       "<IPython.core.display.HTML object>"
      ]
     },
     "metadata": {},
     "output_type": "display_data"
    },
    {
     "data": {
      "text/html": [],
      "text/plain": [
       "<IPython.core.display.HTML object>"
      ]
     },
     "metadata": {},
     "output_type": "display_data"
    },
    {
     "data": {
      "text/html": [],
      "text/plain": [
       "<IPython.core.display.HTML object>"
      ]
     },
     "metadata": {},
     "output_type": "display_data"
    },
    {
     "data": {
      "text/html": [],
      "text/plain": [
       "<IPython.core.display.HTML object>"
      ]
     },
     "metadata": {},
     "output_type": "display_data"
    },
    {
     "data": {
      "text/html": [],
      "text/plain": [
       "<IPython.core.display.HTML object>"
      ]
     },
     "metadata": {},
     "output_type": "display_data"
    },
    {
     "data": {
      "text/html": [],
      "text/plain": [
       "<IPython.core.display.HTML object>"
      ]
     },
     "metadata": {},
     "output_type": "display_data"
    },
    {
     "data": {
      "text/html": [],
      "text/plain": [
       "<IPython.core.display.HTML object>"
      ]
     },
     "metadata": {},
     "output_type": "display_data"
    },
    {
     "data": {
      "text/html": [],
      "text/plain": [
       "<IPython.core.display.HTML object>"
      ]
     },
     "metadata": {},
     "output_type": "display_data"
    },
    {
     "data": {
      "text/html": [],
      "text/plain": [
       "<IPython.core.display.HTML object>"
      ]
     },
     "metadata": {},
     "output_type": "display_data"
    },
    {
     "data": {
      "text/html": [],
      "text/plain": [
       "<IPython.core.display.HTML object>"
      ]
     },
     "metadata": {},
     "output_type": "display_data"
    },
    {
     "data": {
      "text/html": [],
      "text/plain": [
       "<IPython.core.display.HTML object>"
      ]
     },
     "metadata": {},
     "output_type": "display_data"
    },
    {
     "data": {
      "text/html": [],
      "text/plain": [
       "<IPython.core.display.HTML object>"
      ]
     },
     "metadata": {},
     "output_type": "display_data"
    },
    {
     "data": {
      "text/html": [],
      "text/plain": [
       "<IPython.core.display.HTML object>"
      ]
     },
     "metadata": {},
     "output_type": "display_data"
    },
    {
     "data": {
      "text/html": [],
      "text/plain": [
       "<IPython.core.display.HTML object>"
      ]
     },
     "metadata": {},
     "output_type": "display_data"
    },
    {
     "data": {
      "text/html": [],
      "text/plain": [
       "<IPython.core.display.HTML object>"
      ]
     },
     "metadata": {},
     "output_type": "display_data"
    },
    {
     "data": {
      "text/html": [],
      "text/plain": [
       "<IPython.core.display.HTML object>"
      ]
     },
     "metadata": {},
     "output_type": "display_data"
    },
    {
     "data": {
      "text/html": [],
      "text/plain": [
       "<IPython.core.display.HTML object>"
      ]
     },
     "metadata": {},
     "output_type": "display_data"
    },
    {
     "data": {
      "text/html": [],
      "text/plain": [
       "<IPython.core.display.HTML object>"
      ]
     },
     "metadata": {},
     "output_type": "display_data"
    },
    {
     "data": {
      "text/html": [],
      "text/plain": [
       "<IPython.core.display.HTML object>"
      ]
     },
     "metadata": {},
     "output_type": "display_data"
    },
    {
     "data": {
      "text/html": [],
      "text/plain": [
       "<IPython.core.display.HTML object>"
      ]
     },
     "metadata": {},
     "output_type": "display_data"
    },
    {
     "data": {
      "text/html": [],
      "text/plain": [
       "<IPython.core.display.HTML object>"
      ]
     },
     "metadata": {},
     "output_type": "display_data"
    },
    {
     "data": {
      "text/html": [],
      "text/plain": [
       "<IPython.core.display.HTML object>"
      ]
     },
     "metadata": {},
     "output_type": "display_data"
    },
    {
     "data": {
      "text/html": [],
      "text/plain": [
       "<IPython.core.display.HTML object>"
      ]
     },
     "metadata": {},
     "output_type": "display_data"
    },
    {
     "data": {
      "text/html": [],
      "text/plain": [
       "<IPython.core.display.HTML object>"
      ]
     },
     "metadata": {},
     "output_type": "display_data"
    },
    {
     "data": {
      "text/html": [],
      "text/plain": [
       "<IPython.core.display.HTML object>"
      ]
     },
     "metadata": {},
     "output_type": "display_data"
    },
    {
     "data": {
      "text/html": [],
      "text/plain": [
       "<IPython.core.display.HTML object>"
      ]
     },
     "metadata": {},
     "output_type": "display_data"
    },
    {
     "data": {
      "text/html": [],
      "text/plain": [
       "<IPython.core.display.HTML object>"
      ]
     },
     "metadata": {},
     "output_type": "display_data"
    },
    {
     "data": {
      "text/html": [],
      "text/plain": [
       "<IPython.core.display.HTML object>"
      ]
     },
     "metadata": {},
     "output_type": "display_data"
    },
    {
     "data": {
      "text/html": [],
      "text/plain": [
       "<IPython.core.display.HTML object>"
      ]
     },
     "metadata": {},
     "output_type": "display_data"
    },
    {
     "data": {
      "text/html": [],
      "text/plain": [
       "<IPython.core.display.HTML object>"
      ]
     },
     "metadata": {},
     "output_type": "display_data"
    },
    {
     "data": {
      "text/html": [],
      "text/plain": [
       "<IPython.core.display.HTML object>"
      ]
     },
     "metadata": {},
     "output_type": "display_data"
    },
    {
     "data": {
      "text/html": [],
      "text/plain": [
       "<IPython.core.display.HTML object>"
      ]
     },
     "metadata": {},
     "output_type": "display_data"
    },
    {
     "data": {
      "text/html": [],
      "text/plain": [
       "<IPython.core.display.HTML object>"
      ]
     },
     "metadata": {},
     "output_type": "display_data"
    },
    {
     "data": {
      "text/html": [],
      "text/plain": [
       "<IPython.core.display.HTML object>"
      ]
     },
     "metadata": {},
     "output_type": "display_data"
    },
    {
     "data": {
      "text/html": [],
      "text/plain": [
       "<IPython.core.display.HTML object>"
      ]
     },
     "metadata": {},
     "output_type": "display_data"
    },
    {
     "data": {
      "text/html": [],
      "text/plain": [
       "<IPython.core.display.HTML object>"
      ]
     },
     "metadata": {},
     "output_type": "display_data"
    },
    {
     "data": {
      "text/html": [],
      "text/plain": [
       "<IPython.core.display.HTML object>"
      ]
     },
     "metadata": {},
     "output_type": "display_data"
    },
    {
     "data": {
      "text/html": [],
      "text/plain": [
       "<IPython.core.display.HTML object>"
      ]
     },
     "metadata": {},
     "output_type": "display_data"
    },
    {
     "data": {
      "text/html": [],
      "text/plain": [
       "<IPython.core.display.HTML object>"
      ]
     },
     "metadata": {},
     "output_type": "display_data"
    },
    {
     "data": {
      "text/html": [],
      "text/plain": [
       "<IPython.core.display.HTML object>"
      ]
     },
     "metadata": {},
     "output_type": "display_data"
    },
    {
     "data": {
      "text/html": [],
      "text/plain": [
       "<IPython.core.display.HTML object>"
      ]
     },
     "metadata": {},
     "output_type": "display_data"
    },
    {
     "data": {
      "text/html": [],
      "text/plain": [
       "<IPython.core.display.HTML object>"
      ]
     },
     "metadata": {},
     "output_type": "display_data"
    },
    {
     "data": {
      "text/html": [],
      "text/plain": [
       "<IPython.core.display.HTML object>"
      ]
     },
     "metadata": {},
     "output_type": "display_data"
    },
    {
     "data": {
      "text/html": [],
      "text/plain": [
       "<IPython.core.display.HTML object>"
      ]
     },
     "metadata": {},
     "output_type": "display_data"
    },
    {
     "data": {
      "text/html": [],
      "text/plain": [
       "<IPython.core.display.HTML object>"
      ]
     },
     "metadata": {},
     "output_type": "display_data"
    },
    {
     "data": {
      "text/html": [],
      "text/plain": [
       "<IPython.core.display.HTML object>"
      ]
     },
     "metadata": {},
     "output_type": "display_data"
    },
    {
     "data": {
      "text/html": [],
      "text/plain": [
       "<IPython.core.display.HTML object>"
      ]
     },
     "metadata": {},
     "output_type": "display_data"
    },
    {
     "data": {
      "text/html": [],
      "text/plain": [
       "<IPython.core.display.HTML object>"
      ]
     },
     "metadata": {},
     "output_type": "display_data"
    },
    {
     "data": {
      "text/html": [],
      "text/plain": [
       "<IPython.core.display.HTML object>"
      ]
     },
     "metadata": {},
     "output_type": "display_data"
    },
    {
     "data": {
      "text/html": [],
      "text/plain": [
       "<IPython.core.display.HTML object>"
      ]
     },
     "metadata": {},
     "output_type": "display_data"
    },
    {
     "data": {
      "text/html": [],
      "text/plain": [
       "<IPython.core.display.HTML object>"
      ]
     },
     "metadata": {},
     "output_type": "display_data"
    },
    {
     "data": {
      "text/html": [],
      "text/plain": [
       "<IPython.core.display.HTML object>"
      ]
     },
     "metadata": {},
     "output_type": "display_data"
    },
    {
     "data": {
      "text/html": [],
      "text/plain": [
       "<IPython.core.display.HTML object>"
      ]
     },
     "metadata": {},
     "output_type": "display_data"
    },
    {
     "data": {
      "text/html": [],
      "text/plain": [
       "<IPython.core.display.HTML object>"
      ]
     },
     "metadata": {},
     "output_type": "display_data"
    },
    {
     "data": {
      "text/html": [],
      "text/plain": [
       "<IPython.core.display.HTML object>"
      ]
     },
     "metadata": {},
     "output_type": "display_data"
    },
    {
     "data": {
      "text/html": [],
      "text/plain": [
       "<IPython.core.display.HTML object>"
      ]
     },
     "metadata": {},
     "output_type": "display_data"
    },
    {
     "data": {
      "text/html": [],
      "text/plain": [
       "<IPython.core.display.HTML object>"
      ]
     },
     "metadata": {},
     "output_type": "display_data"
    },
    {
     "data": {
      "text/html": [],
      "text/plain": [
       "<IPython.core.display.HTML object>"
      ]
     },
     "metadata": {},
     "output_type": "display_data"
    },
    {
     "data": {
      "text/html": [],
      "text/plain": [
       "<IPython.core.display.HTML object>"
      ]
     },
     "metadata": {},
     "output_type": "display_data"
    },
    {
     "data": {
      "text/html": [],
      "text/plain": [
       "<IPython.core.display.HTML object>"
      ]
     },
     "metadata": {},
     "output_type": "display_data"
    },
    {
     "data": {
      "text/html": [],
      "text/plain": [
       "<IPython.core.display.HTML object>"
      ]
     },
     "metadata": {},
     "output_type": "display_data"
    },
    {
     "data": {
      "text/html": [],
      "text/plain": [
       "<IPython.core.display.HTML object>"
      ]
     },
     "metadata": {},
     "output_type": "display_data"
    },
    {
     "data": {
      "text/html": [],
      "text/plain": [
       "<IPython.core.display.HTML object>"
      ]
     },
     "metadata": {},
     "output_type": "display_data"
    },
    {
     "data": {
      "text/html": [],
      "text/plain": [
       "<IPython.core.display.HTML object>"
      ]
     },
     "metadata": {},
     "output_type": "display_data"
    },
    {
     "data": {
      "text/html": [],
      "text/plain": [
       "<IPython.core.display.HTML object>"
      ]
     },
     "metadata": {},
     "output_type": "display_data"
    },
    {
     "data": {
      "text/html": [],
      "text/plain": [
       "<IPython.core.display.HTML object>"
      ]
     },
     "metadata": {},
     "output_type": "display_data"
    },
    {
     "data": {
      "text/html": [],
      "text/plain": [
       "<IPython.core.display.HTML object>"
      ]
     },
     "metadata": {},
     "output_type": "display_data"
    },
    {
     "data": {
      "text/html": [],
      "text/plain": [
       "<IPython.core.display.HTML object>"
      ]
     },
     "metadata": {},
     "output_type": "display_data"
    },
    {
     "data": {
      "text/html": [],
      "text/plain": [
       "<IPython.core.display.HTML object>"
      ]
     },
     "metadata": {},
     "output_type": "display_data"
    },
    {
     "data": {
      "text/html": [],
      "text/plain": [
       "<IPython.core.display.HTML object>"
      ]
     },
     "metadata": {},
     "output_type": "display_data"
    },
    {
     "data": {
      "text/html": [],
      "text/plain": [
       "<IPython.core.display.HTML object>"
      ]
     },
     "metadata": {},
     "output_type": "display_data"
    },
    {
     "data": {
      "text/html": [],
      "text/plain": [
       "<IPython.core.display.HTML object>"
      ]
     },
     "metadata": {},
     "output_type": "display_data"
    },
    {
     "data": {
      "text/html": [],
      "text/plain": [
       "<IPython.core.display.HTML object>"
      ]
     },
     "metadata": {},
     "output_type": "display_data"
    },
    {
     "data": {
      "text/html": [],
      "text/plain": [
       "<IPython.core.display.HTML object>"
      ]
     },
     "metadata": {},
     "output_type": "display_data"
    },
    {
     "data": {
      "text/html": [],
      "text/plain": [
       "<IPython.core.display.HTML object>"
      ]
     },
     "metadata": {},
     "output_type": "display_data"
    },
    {
     "data": {
      "text/html": [],
      "text/plain": [
       "<IPython.core.display.HTML object>"
      ]
     },
     "metadata": {},
     "output_type": "display_data"
    },
    {
     "data": {
      "text/html": [],
      "text/plain": [
       "<IPython.core.display.HTML object>"
      ]
     },
     "metadata": {},
     "output_type": "display_data"
    },
    {
     "data": {
      "text/html": [],
      "text/plain": [
       "<IPython.core.display.HTML object>"
      ]
     },
     "metadata": {},
     "output_type": "display_data"
    },
    {
     "data": {
      "text/html": [],
      "text/plain": [
       "<IPython.core.display.HTML object>"
      ]
     },
     "metadata": {},
     "output_type": "display_data"
    },
    {
     "data": {
      "text/html": [],
      "text/plain": [
       "<IPython.core.display.HTML object>"
      ]
     },
     "metadata": {},
     "output_type": "display_data"
    },
    {
     "data": {
      "text/html": [],
      "text/plain": [
       "<IPython.core.display.HTML object>"
      ]
     },
     "metadata": {},
     "output_type": "display_data"
    },
    {
     "data": {
      "text/html": [],
      "text/plain": [
       "<IPython.core.display.HTML object>"
      ]
     },
     "metadata": {},
     "output_type": "display_data"
    },
    {
     "data": {
      "text/html": [],
      "text/plain": [
       "<IPython.core.display.HTML object>"
      ]
     },
     "metadata": {},
     "output_type": "display_data"
    },
    {
     "data": {
      "text/html": [],
      "text/plain": [
       "<IPython.core.display.HTML object>"
      ]
     },
     "metadata": {},
     "output_type": "display_data"
    },
    {
     "data": {
      "text/html": [],
      "text/plain": [
       "<IPython.core.display.HTML object>"
      ]
     },
     "metadata": {},
     "output_type": "display_data"
    },
    {
     "data": {
      "text/html": [],
      "text/plain": [
       "<IPython.core.display.HTML object>"
      ]
     },
     "metadata": {},
     "output_type": "display_data"
    },
    {
     "data": {
      "text/html": [],
      "text/plain": [
       "<IPython.core.display.HTML object>"
      ]
     },
     "metadata": {},
     "output_type": "display_data"
    },
    {
     "data": {
      "text/html": [],
      "text/plain": [
       "<IPython.core.display.HTML object>"
      ]
     },
     "metadata": {},
     "output_type": "display_data"
    },
    {
     "data": {
      "text/html": [],
      "text/plain": [
       "<IPython.core.display.HTML object>"
      ]
     },
     "metadata": {},
     "output_type": "display_data"
    },
    {
     "data": {
      "text/html": [],
      "text/plain": [
       "<IPython.core.display.HTML object>"
      ]
     },
     "metadata": {},
     "output_type": "display_data"
    },
    {
     "data": {
      "text/html": [],
      "text/plain": [
       "<IPython.core.display.HTML object>"
      ]
     },
     "metadata": {},
     "output_type": "display_data"
    },
    {
     "data": {
      "text/html": [],
      "text/plain": [
       "<IPython.core.display.HTML object>"
      ]
     },
     "metadata": {},
     "output_type": "display_data"
    },
    {
     "data": {
      "text/html": [],
      "text/plain": [
       "<IPython.core.display.HTML object>"
      ]
     },
     "metadata": {},
     "output_type": "display_data"
    },
    {
     "data": {
      "text/html": [],
      "text/plain": [
       "<IPython.core.display.HTML object>"
      ]
     },
     "metadata": {},
     "output_type": "display_data"
    },
    {
     "data": {
      "text/html": [],
      "text/plain": [
       "<IPython.core.display.HTML object>"
      ]
     },
     "metadata": {},
     "output_type": "display_data"
    },
    {
     "data": {
      "text/html": [],
      "text/plain": [
       "<IPython.core.display.HTML object>"
      ]
     },
     "metadata": {},
     "output_type": "display_data"
    },
    {
     "data": {
      "text/html": [],
      "text/plain": [
       "<IPython.core.display.HTML object>"
      ]
     },
     "metadata": {},
     "output_type": "display_data"
    },
    {
     "data": {
      "text/html": [],
      "text/plain": [
       "<IPython.core.display.HTML object>"
      ]
     },
     "metadata": {},
     "output_type": "display_data"
    },
    {
     "data": {
      "text/html": [],
      "text/plain": [
       "<IPython.core.display.HTML object>"
      ]
     },
     "metadata": {},
     "output_type": "display_data"
    },
    {
     "data": {
      "text/html": [],
      "text/plain": [
       "<IPython.core.display.HTML object>"
      ]
     },
     "metadata": {},
     "output_type": "display_data"
    },
    {
     "data": {
      "text/html": [],
      "text/plain": [
       "<IPython.core.display.HTML object>"
      ]
     },
     "metadata": {},
     "output_type": "display_data"
    },
    {
     "data": {
      "text/html": [],
      "text/plain": [
       "<IPython.core.display.HTML object>"
      ]
     },
     "metadata": {},
     "output_type": "display_data"
    },
    {
     "data": {
      "text/html": [],
      "text/plain": [
       "<IPython.core.display.HTML object>"
      ]
     },
     "metadata": {},
     "output_type": "display_data"
    },
    {
     "data": {
      "text/html": [],
      "text/plain": [
       "<IPython.core.display.HTML object>"
      ]
     },
     "metadata": {},
     "output_type": "display_data"
    },
    {
     "data": {
      "text/html": [],
      "text/plain": [
       "<IPython.core.display.HTML object>"
      ]
     },
     "metadata": {},
     "output_type": "display_data"
    },
    {
     "data": {
      "text/html": [],
      "text/plain": [
       "<IPython.core.display.HTML object>"
      ]
     },
     "metadata": {},
     "output_type": "display_data"
    },
    {
     "data": {
      "text/html": [],
      "text/plain": [
       "<IPython.core.display.HTML object>"
      ]
     },
     "metadata": {},
     "output_type": "display_data"
    },
    {
     "data": {
      "text/html": [],
      "text/plain": [
       "<IPython.core.display.HTML object>"
      ]
     },
     "metadata": {},
     "output_type": "display_data"
    },
    {
     "data": {
      "text/html": [],
      "text/plain": [
       "<IPython.core.display.HTML object>"
      ]
     },
     "metadata": {},
     "output_type": "display_data"
    },
    {
     "data": {
      "text/html": [],
      "text/plain": [
       "<IPython.core.display.HTML object>"
      ]
     },
     "metadata": {},
     "output_type": "display_data"
    },
    {
     "data": {
      "text/html": [],
      "text/plain": [
       "<IPython.core.display.HTML object>"
      ]
     },
     "metadata": {},
     "output_type": "display_data"
    },
    {
     "data": {
      "text/html": [],
      "text/plain": [
       "<IPython.core.display.HTML object>"
      ]
     },
     "metadata": {},
     "output_type": "display_data"
    },
    {
     "data": {
      "text/html": [],
      "text/plain": [
       "<IPython.core.display.HTML object>"
      ]
     },
     "metadata": {},
     "output_type": "display_data"
    },
    {
     "data": {
      "text/html": [],
      "text/plain": [
       "<IPython.core.display.HTML object>"
      ]
     },
     "metadata": {},
     "output_type": "display_data"
    },
    {
     "data": {
      "text/html": [],
      "text/plain": [
       "<IPython.core.display.HTML object>"
      ]
     },
     "metadata": {},
     "output_type": "display_data"
    },
    {
     "data": {
      "text/html": [],
      "text/plain": [
       "<IPython.core.display.HTML object>"
      ]
     },
     "metadata": {},
     "output_type": "display_data"
    },
    {
     "data": {
      "text/html": [],
      "text/plain": [
       "<IPython.core.display.HTML object>"
      ]
     },
     "metadata": {},
     "output_type": "display_data"
    },
    {
     "data": {
      "text/html": [],
      "text/plain": [
       "<IPython.core.display.HTML object>"
      ]
     },
     "metadata": {},
     "output_type": "display_data"
    },
    {
     "data": {
      "text/html": [],
      "text/plain": [
       "<IPython.core.display.HTML object>"
      ]
     },
     "metadata": {},
     "output_type": "display_data"
    },
    {
     "data": {
      "text/html": [],
      "text/plain": [
       "<IPython.core.display.HTML object>"
      ]
     },
     "metadata": {},
     "output_type": "display_data"
    },
    {
     "data": {
      "text/html": [],
      "text/plain": [
       "<IPython.core.display.HTML object>"
      ]
     },
     "metadata": {},
     "output_type": "display_data"
    },
    {
     "data": {
      "text/html": [],
      "text/plain": [
       "<IPython.core.display.HTML object>"
      ]
     },
     "metadata": {},
     "output_type": "display_data"
    },
    {
     "data": {
      "text/html": [],
      "text/plain": [
       "<IPython.core.display.HTML object>"
      ]
     },
     "metadata": {},
     "output_type": "display_data"
    },
    {
     "data": {
      "text/html": [],
      "text/plain": [
       "<IPython.core.display.HTML object>"
      ]
     },
     "metadata": {},
     "output_type": "display_data"
    },
    {
     "data": {
      "text/html": [],
      "text/plain": [
       "<IPython.core.display.HTML object>"
      ]
     },
     "metadata": {},
     "output_type": "display_data"
    },
    {
     "data": {
      "text/html": [],
      "text/plain": [
       "<IPython.core.display.HTML object>"
      ]
     },
     "metadata": {},
     "output_type": "display_data"
    },
    {
     "data": {
      "text/html": [],
      "text/plain": [
       "<IPython.core.display.HTML object>"
      ]
     },
     "metadata": {},
     "output_type": "display_data"
    },
    {
     "data": {
      "text/html": [],
      "text/plain": [
       "<IPython.core.display.HTML object>"
      ]
     },
     "metadata": {},
     "output_type": "display_data"
    },
    {
     "data": {
      "text/html": [],
      "text/plain": [
       "<IPython.core.display.HTML object>"
      ]
     },
     "metadata": {},
     "output_type": "display_data"
    },
    {
     "data": {
      "text/html": [],
      "text/plain": [
       "<IPython.core.display.HTML object>"
      ]
     },
     "metadata": {},
     "output_type": "display_data"
    },
    {
     "data": {
      "text/html": [],
      "text/plain": [
       "<IPython.core.display.HTML object>"
      ]
     },
     "metadata": {},
     "output_type": "display_data"
    },
    {
     "data": {
      "text/html": [],
      "text/plain": [
       "<IPython.core.display.HTML object>"
      ]
     },
     "metadata": {},
     "output_type": "display_data"
    },
    {
     "data": {
      "text/html": [],
      "text/plain": [
       "<IPython.core.display.HTML object>"
      ]
     },
     "metadata": {},
     "output_type": "display_data"
    },
    {
     "data": {
      "text/html": [],
      "text/plain": [
       "<IPython.core.display.HTML object>"
      ]
     },
     "metadata": {},
     "output_type": "display_data"
    },
    {
     "data": {
      "text/html": [],
      "text/plain": [
       "<IPython.core.display.HTML object>"
      ]
     },
     "metadata": {},
     "output_type": "display_data"
    },
    {
     "data": {
      "text/html": [],
      "text/plain": [
       "<IPython.core.display.HTML object>"
      ]
     },
     "metadata": {},
     "output_type": "display_data"
    },
    {
     "data": {
      "text/html": [],
      "text/plain": [
       "<IPython.core.display.HTML object>"
      ]
     },
     "metadata": {},
     "output_type": "display_data"
    },
    {
     "data": {
      "text/html": [],
      "text/plain": [
       "<IPython.core.display.HTML object>"
      ]
     },
     "metadata": {},
     "output_type": "display_data"
    },
    {
     "data": {
      "text/html": [],
      "text/plain": [
       "<IPython.core.display.HTML object>"
      ]
     },
     "metadata": {},
     "output_type": "display_data"
    },
    {
     "data": {
      "text/html": [],
      "text/plain": [
       "<IPython.core.display.HTML object>"
      ]
     },
     "metadata": {},
     "output_type": "display_data"
    },
    {
     "data": {
      "text/html": [],
      "text/plain": [
       "<IPython.core.display.HTML object>"
      ]
     },
     "metadata": {},
     "output_type": "display_data"
    },
    {
     "data": {
      "text/html": [],
      "text/plain": [
       "<IPython.core.display.HTML object>"
      ]
     },
     "metadata": {},
     "output_type": "display_data"
    },
    {
     "data": {
      "text/html": [],
      "text/plain": [
       "<IPython.core.display.HTML object>"
      ]
     },
     "metadata": {},
     "output_type": "display_data"
    },
    {
     "data": {
      "text/html": [],
      "text/plain": [
       "<IPython.core.display.HTML object>"
      ]
     },
     "metadata": {},
     "output_type": "display_data"
    },
    {
     "data": {
      "text/html": [],
      "text/plain": [
       "<IPython.core.display.HTML object>"
      ]
     },
     "metadata": {},
     "output_type": "display_data"
    },
    {
     "data": {
      "text/html": [],
      "text/plain": [
       "<IPython.core.display.HTML object>"
      ]
     },
     "metadata": {},
     "output_type": "display_data"
    },
    {
     "data": {
      "text/html": [],
      "text/plain": [
       "<IPython.core.display.HTML object>"
      ]
     },
     "metadata": {},
     "output_type": "display_data"
    },
    {
     "data": {
      "text/html": [],
      "text/plain": [
       "<IPython.core.display.HTML object>"
      ]
     },
     "metadata": {},
     "output_type": "display_data"
    },
    {
     "data": {
      "text/html": [],
      "text/plain": [
       "<IPython.core.display.HTML object>"
      ]
     },
     "metadata": {},
     "output_type": "display_data"
    },
    {
     "data": {
      "text/html": [],
      "text/plain": [
       "<IPython.core.display.HTML object>"
      ]
     },
     "metadata": {},
     "output_type": "display_data"
    },
    {
     "data": {
      "text/html": [],
      "text/plain": [
       "<IPython.core.display.HTML object>"
      ]
     },
     "metadata": {},
     "output_type": "display_data"
    },
    {
     "data": {
      "text/html": [],
      "text/plain": [
       "<IPython.core.display.HTML object>"
      ]
     },
     "metadata": {},
     "output_type": "display_data"
    },
    {
     "data": {
      "text/html": [],
      "text/plain": [
       "<IPython.core.display.HTML object>"
      ]
     },
     "metadata": {},
     "output_type": "display_data"
    },
    {
     "data": {
      "text/html": [],
      "text/plain": [
       "<IPython.core.display.HTML object>"
      ]
     },
     "metadata": {},
     "output_type": "display_data"
    },
    {
     "data": {
      "text/html": [],
      "text/plain": [
       "<IPython.core.display.HTML object>"
      ]
     },
     "metadata": {},
     "output_type": "display_data"
    },
    {
     "data": {
      "text/html": [],
      "text/plain": [
       "<IPython.core.display.HTML object>"
      ]
     },
     "metadata": {},
     "output_type": "display_data"
    },
    {
     "data": {
      "text/html": [],
      "text/plain": [
       "<IPython.core.display.HTML object>"
      ]
     },
     "metadata": {},
     "output_type": "display_data"
    },
    {
     "data": {
      "text/html": [],
      "text/plain": [
       "<IPython.core.display.HTML object>"
      ]
     },
     "metadata": {},
     "output_type": "display_data"
    },
    {
     "data": {
      "text/html": [],
      "text/plain": [
       "<IPython.core.display.HTML object>"
      ]
     },
     "metadata": {},
     "output_type": "display_data"
    },
    {
     "data": {
      "text/html": [],
      "text/plain": [
       "<IPython.core.display.HTML object>"
      ]
     },
     "metadata": {},
     "output_type": "display_data"
    },
    {
     "data": {
      "text/html": [],
      "text/plain": [
       "<IPython.core.display.HTML object>"
      ]
     },
     "metadata": {},
     "output_type": "display_data"
    },
    {
     "data": {
      "text/html": [],
      "text/plain": [
       "<IPython.core.display.HTML object>"
      ]
     },
     "metadata": {},
     "output_type": "display_data"
    },
    {
     "data": {
      "text/html": [],
      "text/plain": [
       "<IPython.core.display.HTML object>"
      ]
     },
     "metadata": {},
     "output_type": "display_data"
    },
    {
     "data": {
      "text/html": [],
      "text/plain": [
       "<IPython.core.display.HTML object>"
      ]
     },
     "metadata": {},
     "output_type": "display_data"
    },
    {
     "data": {
      "text/html": [],
      "text/plain": [
       "<IPython.core.display.HTML object>"
      ]
     },
     "metadata": {},
     "output_type": "display_data"
    },
    {
     "data": {
      "text/html": [],
      "text/plain": [
       "<IPython.core.display.HTML object>"
      ]
     },
     "metadata": {},
     "output_type": "display_data"
    },
    {
     "data": {
      "text/html": [],
      "text/plain": [
       "<IPython.core.display.HTML object>"
      ]
     },
     "metadata": {},
     "output_type": "display_data"
    },
    {
     "data": {
      "text/html": [],
      "text/plain": [
       "<IPython.core.display.HTML object>"
      ]
     },
     "metadata": {},
     "output_type": "display_data"
    },
    {
     "data": {
      "text/html": [],
      "text/plain": [
       "<IPython.core.display.HTML object>"
      ]
     },
     "metadata": {},
     "output_type": "display_data"
    },
    {
     "data": {
      "text/html": [],
      "text/plain": [
       "<IPython.core.display.HTML object>"
      ]
     },
     "metadata": {},
     "output_type": "display_data"
    },
    {
     "data": {
      "text/html": [],
      "text/plain": [
       "<IPython.core.display.HTML object>"
      ]
     },
     "metadata": {},
     "output_type": "display_data"
    },
    {
     "data": {
      "text/html": [],
      "text/plain": [
       "<IPython.core.display.HTML object>"
      ]
     },
     "metadata": {},
     "output_type": "display_data"
    },
    {
     "data": {
      "text/html": [],
      "text/plain": [
       "<IPython.core.display.HTML object>"
      ]
     },
     "metadata": {},
     "output_type": "display_data"
    },
    {
     "data": {
      "text/html": [],
      "text/plain": [
       "<IPython.core.display.HTML object>"
      ]
     },
     "metadata": {},
     "output_type": "display_data"
    },
    {
     "data": {
      "text/html": [],
      "text/plain": [
       "<IPython.core.display.HTML object>"
      ]
     },
     "metadata": {},
     "output_type": "display_data"
    },
    {
     "data": {
      "text/html": [],
      "text/plain": [
       "<IPython.core.display.HTML object>"
      ]
     },
     "metadata": {},
     "output_type": "display_data"
    },
    {
     "data": {
      "text/html": [],
      "text/plain": [
       "<IPython.core.display.HTML object>"
      ]
     },
     "metadata": {},
     "output_type": "display_data"
    },
    {
     "data": {
      "text/html": [],
      "text/plain": [
       "<IPython.core.display.HTML object>"
      ]
     },
     "metadata": {},
     "output_type": "display_data"
    },
    {
     "data": {
      "text/html": [],
      "text/plain": [
       "<IPython.core.display.HTML object>"
      ]
     },
     "metadata": {},
     "output_type": "display_data"
    },
    {
     "data": {
      "text/html": [],
      "text/plain": [
       "<IPython.core.display.HTML object>"
      ]
     },
     "metadata": {},
     "output_type": "display_data"
    },
    {
     "data": {
      "text/html": [],
      "text/plain": [
       "<IPython.core.display.HTML object>"
      ]
     },
     "metadata": {},
     "output_type": "display_data"
    },
    {
     "data": {
      "text/html": [],
      "text/plain": [
       "<IPython.core.display.HTML object>"
      ]
     },
     "metadata": {},
     "output_type": "display_data"
    },
    {
     "data": {
      "text/html": [],
      "text/plain": [
       "<IPython.core.display.HTML object>"
      ]
     },
     "metadata": {},
     "output_type": "display_data"
    },
    {
     "data": {
      "text/html": [],
      "text/plain": [
       "<IPython.core.display.HTML object>"
      ]
     },
     "metadata": {},
     "output_type": "display_data"
    },
    {
     "data": {
      "text/html": [],
      "text/plain": [
       "<IPython.core.display.HTML object>"
      ]
     },
     "metadata": {},
     "output_type": "display_data"
    },
    {
     "data": {
      "text/html": [],
      "text/plain": [
       "<IPython.core.display.HTML object>"
      ]
     },
     "metadata": {},
     "output_type": "display_data"
    },
    {
     "data": {
      "text/html": [],
      "text/plain": [
       "<IPython.core.display.HTML object>"
      ]
     },
     "metadata": {},
     "output_type": "display_data"
    },
    {
     "data": {
      "text/html": [],
      "text/plain": [
       "<IPython.core.display.HTML object>"
      ]
     },
     "metadata": {},
     "output_type": "display_data"
    },
    {
     "data": {
      "text/html": [],
      "text/plain": [
       "<IPython.core.display.HTML object>"
      ]
     },
     "metadata": {},
     "output_type": "display_data"
    },
    {
     "data": {
      "text/html": [],
      "text/plain": [
       "<IPython.core.display.HTML object>"
      ]
     },
     "metadata": {},
     "output_type": "display_data"
    },
    {
     "data": {
      "text/html": [],
      "text/plain": [
       "<IPython.core.display.HTML object>"
      ]
     },
     "metadata": {},
     "output_type": "display_data"
    },
    {
     "data": {
      "text/html": [],
      "text/plain": [
       "<IPython.core.display.HTML object>"
      ]
     },
     "metadata": {},
     "output_type": "display_data"
    },
    {
     "data": {
      "text/html": [],
      "text/plain": [
       "<IPython.core.display.HTML object>"
      ]
     },
     "metadata": {},
     "output_type": "display_data"
    },
    {
     "data": {
      "text/html": [],
      "text/plain": [
       "<IPython.core.display.HTML object>"
      ]
     },
     "metadata": {},
     "output_type": "display_data"
    },
    {
     "data": {
      "text/html": [],
      "text/plain": [
       "<IPython.core.display.HTML object>"
      ]
     },
     "metadata": {},
     "output_type": "display_data"
    },
    {
     "data": {
      "text/html": [],
      "text/plain": [
       "<IPython.core.display.HTML object>"
      ]
     },
     "metadata": {},
     "output_type": "display_data"
    },
    {
     "data": {
      "text/html": [],
      "text/plain": [
       "<IPython.core.display.HTML object>"
      ]
     },
     "metadata": {},
     "output_type": "display_data"
    },
    {
     "data": {
      "text/html": [],
      "text/plain": [
       "<IPython.core.display.HTML object>"
      ]
     },
     "metadata": {},
     "output_type": "display_data"
    },
    {
     "data": {
      "text/html": [],
      "text/plain": [
       "<IPython.core.display.HTML object>"
      ]
     },
     "metadata": {},
     "output_type": "display_data"
    },
    {
     "data": {
      "text/html": [],
      "text/plain": [
       "<IPython.core.display.HTML object>"
      ]
     },
     "metadata": {},
     "output_type": "display_data"
    },
    {
     "data": {
      "text/html": [],
      "text/plain": [
       "<IPython.core.display.HTML object>"
      ]
     },
     "metadata": {},
     "output_type": "display_data"
    },
    {
     "data": {
      "text/html": [],
      "text/plain": [
       "<IPython.core.display.HTML object>"
      ]
     },
     "metadata": {},
     "output_type": "display_data"
    },
    {
     "data": {
      "text/html": [],
      "text/plain": [
       "<IPython.core.display.HTML object>"
      ]
     },
     "metadata": {},
     "output_type": "display_data"
    },
    {
     "data": {
      "text/html": [],
      "text/plain": [
       "<IPython.core.display.HTML object>"
      ]
     },
     "metadata": {},
     "output_type": "display_data"
    },
    {
     "data": {
      "text/html": [],
      "text/plain": [
       "<IPython.core.display.HTML object>"
      ]
     },
     "metadata": {},
     "output_type": "display_data"
    },
    {
     "data": {
      "text/html": [],
      "text/plain": [
       "<IPython.core.display.HTML object>"
      ]
     },
     "metadata": {},
     "output_type": "display_data"
    },
    {
     "data": {
      "text/html": [],
      "text/plain": [
       "<IPython.core.display.HTML object>"
      ]
     },
     "metadata": {},
     "output_type": "display_data"
    },
    {
     "data": {
      "text/html": [],
      "text/plain": [
       "<IPython.core.display.HTML object>"
      ]
     },
     "metadata": {},
     "output_type": "display_data"
    },
    {
     "data": {
      "text/html": [],
      "text/plain": [
       "<IPython.core.display.HTML object>"
      ]
     },
     "metadata": {},
     "output_type": "display_data"
    },
    {
     "data": {
      "text/html": [],
      "text/plain": [
       "<IPython.core.display.HTML object>"
      ]
     },
     "metadata": {},
     "output_type": "display_data"
    },
    {
     "data": {
      "text/html": [],
      "text/plain": [
       "<IPython.core.display.HTML object>"
      ]
     },
     "metadata": {},
     "output_type": "display_data"
    },
    {
     "data": {
      "text/html": [],
      "text/plain": [
       "<IPython.core.display.HTML object>"
      ]
     },
     "metadata": {},
     "output_type": "display_data"
    },
    {
     "data": {
      "text/html": [],
      "text/plain": [
       "<IPython.core.display.HTML object>"
      ]
     },
     "metadata": {},
     "output_type": "display_data"
    },
    {
     "data": {
      "text/html": [],
      "text/plain": [
       "<IPython.core.display.HTML object>"
      ]
     },
     "metadata": {},
     "output_type": "display_data"
    },
    {
     "data": {
      "text/html": [],
      "text/plain": [
       "<IPython.core.display.HTML object>"
      ]
     },
     "metadata": {},
     "output_type": "display_data"
    },
    {
     "data": {
      "text/html": [],
      "text/plain": [
       "<IPython.core.display.HTML object>"
      ]
     },
     "metadata": {},
     "output_type": "display_data"
    },
    {
     "data": {
      "text/html": [],
      "text/plain": [
       "<IPython.core.display.HTML object>"
      ]
     },
     "metadata": {},
     "output_type": "display_data"
    },
    {
     "data": {
      "text/html": [],
      "text/plain": [
       "<IPython.core.display.HTML object>"
      ]
     },
     "metadata": {},
     "output_type": "display_data"
    },
    {
     "data": {
      "text/html": [],
      "text/plain": [
       "<IPython.core.display.HTML object>"
      ]
     },
     "metadata": {},
     "output_type": "display_data"
    },
    {
     "data": {
      "text/html": [],
      "text/plain": [
       "<IPython.core.display.HTML object>"
      ]
     },
     "metadata": {},
     "output_type": "display_data"
    },
    {
     "data": {
      "text/html": [],
      "text/plain": [
       "<IPython.core.display.HTML object>"
      ]
     },
     "metadata": {},
     "output_type": "display_data"
    },
    {
     "data": {
      "text/html": [],
      "text/plain": [
       "<IPython.core.display.HTML object>"
      ]
     },
     "metadata": {},
     "output_type": "display_data"
    },
    {
     "data": {
      "text/html": [],
      "text/plain": [
       "<IPython.core.display.HTML object>"
      ]
     },
     "metadata": {},
     "output_type": "display_data"
    },
    {
     "data": {
      "text/html": [],
      "text/plain": [
       "<IPython.core.display.HTML object>"
      ]
     },
     "metadata": {},
     "output_type": "display_data"
    },
    {
     "data": {
      "text/html": [],
      "text/plain": [
       "<IPython.core.display.HTML object>"
      ]
     },
     "metadata": {},
     "output_type": "display_data"
    },
    {
     "data": {
      "text/html": [],
      "text/plain": [
       "<IPython.core.display.HTML object>"
      ]
     },
     "metadata": {},
     "output_type": "display_data"
    },
    {
     "data": {
      "text/html": [],
      "text/plain": [
       "<IPython.core.display.HTML object>"
      ]
     },
     "metadata": {},
     "output_type": "display_data"
    },
    {
     "data": {
      "text/html": [],
      "text/plain": [
       "<IPython.core.display.HTML object>"
      ]
     },
     "metadata": {},
     "output_type": "display_data"
    },
    {
     "data": {
      "text/html": [],
      "text/plain": [
       "<IPython.core.display.HTML object>"
      ]
     },
     "metadata": {},
     "output_type": "display_data"
    },
    {
     "data": {
      "text/html": [],
      "text/plain": [
       "<IPython.core.display.HTML object>"
      ]
     },
     "metadata": {},
     "output_type": "display_data"
    },
    {
     "data": {
      "text/html": [],
      "text/plain": [
       "<IPython.core.display.HTML object>"
      ]
     },
     "metadata": {},
     "output_type": "display_data"
    },
    {
     "data": {
      "text/html": [],
      "text/plain": [
       "<IPython.core.display.HTML object>"
      ]
     },
     "metadata": {},
     "output_type": "display_data"
    },
    {
     "data": {
      "text/html": [],
      "text/plain": [
       "<IPython.core.display.HTML object>"
      ]
     },
     "metadata": {},
     "output_type": "display_data"
    },
    {
     "data": {
      "text/html": [],
      "text/plain": [
       "<IPython.core.display.HTML object>"
      ]
     },
     "metadata": {},
     "output_type": "display_data"
    },
    {
     "data": {
      "text/html": [],
      "text/plain": [
       "<IPython.core.display.HTML object>"
      ]
     },
     "metadata": {},
     "output_type": "display_data"
    },
    {
     "data": {
      "text/html": [],
      "text/plain": [
       "<IPython.core.display.HTML object>"
      ]
     },
     "metadata": {},
     "output_type": "display_data"
    },
    {
     "data": {
      "text/html": [],
      "text/plain": [
       "<IPython.core.display.HTML object>"
      ]
     },
     "metadata": {},
     "output_type": "display_data"
    },
    {
     "data": {
      "text/html": [],
      "text/plain": [
       "<IPython.core.display.HTML object>"
      ]
     },
     "metadata": {},
     "output_type": "display_data"
    },
    {
     "data": {
      "text/html": [],
      "text/plain": [
       "<IPython.core.display.HTML object>"
      ]
     },
     "metadata": {},
     "output_type": "display_data"
    },
    {
     "data": {
      "text/html": [],
      "text/plain": [
       "<IPython.core.display.HTML object>"
      ]
     },
     "metadata": {},
     "output_type": "display_data"
    },
    {
     "data": {
      "text/html": [],
      "text/plain": [
       "<IPython.core.display.HTML object>"
      ]
     },
     "metadata": {},
     "output_type": "display_data"
    },
    {
     "data": {
      "text/html": [],
      "text/plain": [
       "<IPython.core.display.HTML object>"
      ]
     },
     "metadata": {},
     "output_type": "display_data"
    },
    {
     "data": {
      "text/html": [],
      "text/plain": [
       "<IPython.core.display.HTML object>"
      ]
     },
     "metadata": {},
     "output_type": "display_data"
    },
    {
     "data": {
      "text/html": [],
      "text/plain": [
       "<IPython.core.display.HTML object>"
      ]
     },
     "metadata": {},
     "output_type": "display_data"
    },
    {
     "data": {
      "text/html": [],
      "text/plain": [
       "<IPython.core.display.HTML object>"
      ]
     },
     "metadata": {},
     "output_type": "display_data"
    },
    {
     "data": {
      "text/html": [],
      "text/plain": [
       "<IPython.core.display.HTML object>"
      ]
     },
     "metadata": {},
     "output_type": "display_data"
    },
    {
     "data": {
      "text/html": [],
      "text/plain": [
       "<IPython.core.display.HTML object>"
      ]
     },
     "metadata": {},
     "output_type": "display_data"
    },
    {
     "data": {
      "text/html": [],
      "text/plain": [
       "<IPython.core.display.HTML object>"
      ]
     },
     "metadata": {},
     "output_type": "display_data"
    },
    {
     "data": {
      "text/html": [],
      "text/plain": [
       "<IPython.core.display.HTML object>"
      ]
     },
     "metadata": {},
     "output_type": "display_data"
    },
    {
     "data": {
      "text/html": [],
      "text/plain": [
       "<IPython.core.display.HTML object>"
      ]
     },
     "metadata": {},
     "output_type": "display_data"
    },
    {
     "data": {
      "text/html": [],
      "text/plain": [
       "<IPython.core.display.HTML object>"
      ]
     },
     "metadata": {},
     "output_type": "display_data"
    },
    {
     "data": {
      "text/html": [],
      "text/plain": [
       "<IPython.core.display.HTML object>"
      ]
     },
     "metadata": {},
     "output_type": "display_data"
    },
    {
     "data": {
      "text/html": [],
      "text/plain": [
       "<IPython.core.display.HTML object>"
      ]
     },
     "metadata": {},
     "output_type": "display_data"
    },
    {
     "data": {
      "text/html": [],
      "text/plain": [
       "<IPython.core.display.HTML object>"
      ]
     },
     "metadata": {},
     "output_type": "display_data"
    },
    {
     "data": {
      "text/html": [],
      "text/plain": [
       "<IPython.core.display.HTML object>"
      ]
     },
     "metadata": {},
     "output_type": "display_data"
    },
    {
     "data": {
      "text/html": [],
      "text/plain": [
       "<IPython.core.display.HTML object>"
      ]
     },
     "metadata": {},
     "output_type": "display_data"
    },
    {
     "data": {
      "text/html": [],
      "text/plain": [
       "<IPython.core.display.HTML object>"
      ]
     },
     "metadata": {},
     "output_type": "display_data"
    },
    {
     "data": {
      "text/html": [],
      "text/plain": [
       "<IPython.core.display.HTML object>"
      ]
     },
     "metadata": {},
     "output_type": "display_data"
    },
    {
     "data": {
      "text/html": [],
      "text/plain": [
       "<IPython.core.display.HTML object>"
      ]
     },
     "metadata": {},
     "output_type": "display_data"
    },
    {
     "data": {
      "text/html": [],
      "text/plain": [
       "<IPython.core.display.HTML object>"
      ]
     },
     "metadata": {},
     "output_type": "display_data"
    },
    {
     "data": {
      "text/html": [],
      "text/plain": [
       "<IPython.core.display.HTML object>"
      ]
     },
     "metadata": {},
     "output_type": "display_data"
    },
    {
     "data": {
      "text/html": [],
      "text/plain": [
       "<IPython.core.display.HTML object>"
      ]
     },
     "metadata": {},
     "output_type": "display_data"
    },
    {
     "data": {
      "text/html": [],
      "text/plain": [
       "<IPython.core.display.HTML object>"
      ]
     },
     "metadata": {},
     "output_type": "display_data"
    },
    {
     "data": {
      "text/html": [],
      "text/plain": [
       "<IPython.core.display.HTML object>"
      ]
     },
     "metadata": {},
     "output_type": "display_data"
    },
    {
     "data": {
      "text/html": [],
      "text/plain": [
       "<IPython.core.display.HTML object>"
      ]
     },
     "metadata": {},
     "output_type": "display_data"
    },
    {
     "data": {
      "text/html": [],
      "text/plain": [
       "<IPython.core.display.HTML object>"
      ]
     },
     "metadata": {},
     "output_type": "display_data"
    },
    {
     "data": {
      "text/html": [],
      "text/plain": [
       "<IPython.core.display.HTML object>"
      ]
     },
     "metadata": {},
     "output_type": "display_data"
    },
    {
     "data": {
      "text/html": [],
      "text/plain": [
       "<IPython.core.display.HTML object>"
      ]
     },
     "metadata": {},
     "output_type": "display_data"
    },
    {
     "data": {
      "text/html": [],
      "text/plain": [
       "<IPython.core.display.HTML object>"
      ]
     },
     "metadata": {},
     "output_type": "display_data"
    },
    {
     "data": {
      "text/html": [],
      "text/plain": [
       "<IPython.core.display.HTML object>"
      ]
     },
     "metadata": {},
     "output_type": "display_data"
    },
    {
     "data": {
      "text/html": [],
      "text/plain": [
       "<IPython.core.display.HTML object>"
      ]
     },
     "metadata": {},
     "output_type": "display_data"
    },
    {
     "data": {
      "text/html": [],
      "text/plain": [
       "<IPython.core.display.HTML object>"
      ]
     },
     "metadata": {},
     "output_type": "display_data"
    },
    {
     "data": {
      "text/html": [],
      "text/plain": [
       "<IPython.core.display.HTML object>"
      ]
     },
     "metadata": {},
     "output_type": "display_data"
    },
    {
     "data": {
      "text/html": [],
      "text/plain": [
       "<IPython.core.display.HTML object>"
      ]
     },
     "metadata": {},
     "output_type": "display_data"
    },
    {
     "data": {
      "text/html": [],
      "text/plain": [
       "<IPython.core.display.HTML object>"
      ]
     },
     "metadata": {},
     "output_type": "display_data"
    },
    {
     "data": {
      "text/html": [],
      "text/plain": [
       "<IPython.core.display.HTML object>"
      ]
     },
     "metadata": {},
     "output_type": "display_data"
    },
    {
     "data": {
      "text/html": [],
      "text/plain": [
       "<IPython.core.display.HTML object>"
      ]
     },
     "metadata": {},
     "output_type": "display_data"
    },
    {
     "data": {
      "text/html": [],
      "text/plain": [
       "<IPython.core.display.HTML object>"
      ]
     },
     "metadata": {},
     "output_type": "display_data"
    },
    {
     "data": {
      "text/html": [],
      "text/plain": [
       "<IPython.core.display.HTML object>"
      ]
     },
     "metadata": {},
     "output_type": "display_data"
    },
    {
     "data": {
      "text/html": [],
      "text/plain": [
       "<IPython.core.display.HTML object>"
      ]
     },
     "metadata": {},
     "output_type": "display_data"
    },
    {
     "data": {
      "text/html": [],
      "text/plain": [
       "<IPython.core.display.HTML object>"
      ]
     },
     "metadata": {},
     "output_type": "display_data"
    },
    {
     "data": {
      "text/html": [],
      "text/plain": [
       "<IPython.core.display.HTML object>"
      ]
     },
     "metadata": {},
     "output_type": "display_data"
    },
    {
     "data": {
      "text/html": [],
      "text/plain": [
       "<IPython.core.display.HTML object>"
      ]
     },
     "metadata": {},
     "output_type": "display_data"
    },
    {
     "data": {
      "text/html": [],
      "text/plain": [
       "<IPython.core.display.HTML object>"
      ]
     },
     "metadata": {},
     "output_type": "display_data"
    },
    {
     "data": {
      "text/html": [],
      "text/plain": [
       "<IPython.core.display.HTML object>"
      ]
     },
     "metadata": {},
     "output_type": "display_data"
    },
    {
     "data": {
      "text/html": [],
      "text/plain": [
       "<IPython.core.display.HTML object>"
      ]
     },
     "metadata": {},
     "output_type": "display_data"
    },
    {
     "data": {
      "text/html": [],
      "text/plain": [
       "<IPython.core.display.HTML object>"
      ]
     },
     "metadata": {},
     "output_type": "display_data"
    },
    {
     "data": {
      "text/html": [],
      "text/plain": [
       "<IPython.core.display.HTML object>"
      ]
     },
     "metadata": {},
     "output_type": "display_data"
    },
    {
     "data": {
      "text/html": [],
      "text/plain": [
       "<IPython.core.display.HTML object>"
      ]
     },
     "metadata": {},
     "output_type": "display_data"
    },
    {
     "data": {
      "text/html": [],
      "text/plain": [
       "<IPython.core.display.HTML object>"
      ]
     },
     "metadata": {},
     "output_type": "display_data"
    },
    {
     "data": {
      "text/html": [],
      "text/plain": [
       "<IPython.core.display.HTML object>"
      ]
     },
     "metadata": {},
     "output_type": "display_data"
    },
    {
     "data": {
      "text/html": [],
      "text/plain": [
       "<IPython.core.display.HTML object>"
      ]
     },
     "metadata": {},
     "output_type": "display_data"
    },
    {
     "data": {
      "text/html": [],
      "text/plain": [
       "<IPython.core.display.HTML object>"
      ]
     },
     "metadata": {},
     "output_type": "display_data"
    },
    {
     "data": {
      "text/html": [],
      "text/plain": [
       "<IPython.core.display.HTML object>"
      ]
     },
     "metadata": {},
     "output_type": "display_data"
    },
    {
     "data": {
      "text/html": [],
      "text/plain": [
       "<IPython.core.display.HTML object>"
      ]
     },
     "metadata": {},
     "output_type": "display_data"
    },
    {
     "data": {
      "text/html": [],
      "text/plain": [
       "<IPython.core.display.HTML object>"
      ]
     },
     "metadata": {},
     "output_type": "display_data"
    },
    {
     "data": {
      "text/html": [],
      "text/plain": [
       "<IPython.core.display.HTML object>"
      ]
     },
     "metadata": {},
     "output_type": "display_data"
    },
    {
     "data": {
      "text/html": [],
      "text/plain": [
       "<IPython.core.display.HTML object>"
      ]
     },
     "metadata": {},
     "output_type": "display_data"
    },
    {
     "data": {
      "text/html": [],
      "text/plain": [
       "<IPython.core.display.HTML object>"
      ]
     },
     "metadata": {},
     "output_type": "display_data"
    },
    {
     "data": {
      "text/html": [],
      "text/plain": [
       "<IPython.core.display.HTML object>"
      ]
     },
     "metadata": {},
     "output_type": "display_data"
    },
    {
     "data": {
      "text/html": [],
      "text/plain": [
       "<IPython.core.display.HTML object>"
      ]
     },
     "metadata": {},
     "output_type": "display_data"
    },
    {
     "data": {
      "text/html": [],
      "text/plain": [
       "<IPython.core.display.HTML object>"
      ]
     },
     "metadata": {},
     "output_type": "display_data"
    },
    {
     "data": {
      "text/html": [],
      "text/plain": [
       "<IPython.core.display.HTML object>"
      ]
     },
     "metadata": {},
     "output_type": "display_data"
    },
    {
     "data": {
      "text/html": [],
      "text/plain": [
       "<IPython.core.display.HTML object>"
      ]
     },
     "metadata": {},
     "output_type": "display_data"
    },
    {
     "data": {
      "text/html": [],
      "text/plain": [
       "<IPython.core.display.HTML object>"
      ]
     },
     "metadata": {},
     "output_type": "display_data"
    },
    {
     "data": {
      "text/html": [],
      "text/plain": [
       "<IPython.core.display.HTML object>"
      ]
     },
     "metadata": {},
     "output_type": "display_data"
    },
    {
     "data": {
      "text/html": [],
      "text/plain": [
       "<IPython.core.display.HTML object>"
      ]
     },
     "metadata": {},
     "output_type": "display_data"
    },
    {
     "data": {
      "text/html": [],
      "text/plain": [
       "<IPython.core.display.HTML object>"
      ]
     },
     "metadata": {},
     "output_type": "display_data"
    },
    {
     "data": {
      "text/html": [],
      "text/plain": [
       "<IPython.core.display.HTML object>"
      ]
     },
     "metadata": {},
     "output_type": "display_data"
    },
    {
     "data": {
      "text/html": [],
      "text/plain": [
       "<IPython.core.display.HTML object>"
      ]
     },
     "metadata": {},
     "output_type": "display_data"
    },
    {
     "data": {
      "text/html": [],
      "text/plain": [
       "<IPython.core.display.HTML object>"
      ]
     },
     "metadata": {},
     "output_type": "display_data"
    },
    {
     "data": {
      "text/html": [],
      "text/plain": [
       "<IPython.core.display.HTML object>"
      ]
     },
     "metadata": {},
     "output_type": "display_data"
    },
    {
     "data": {
      "text/html": [],
      "text/plain": [
       "<IPython.core.display.HTML object>"
      ]
     },
     "metadata": {},
     "output_type": "display_data"
    },
    {
     "data": {
      "text/html": [],
      "text/plain": [
       "<IPython.core.display.HTML object>"
      ]
     },
     "metadata": {},
     "output_type": "display_data"
    },
    {
     "data": {
      "text/html": [],
      "text/plain": [
       "<IPython.core.display.HTML object>"
      ]
     },
     "metadata": {},
     "output_type": "display_data"
    },
    {
     "data": {
      "text/html": [],
      "text/plain": [
       "<IPython.core.display.HTML object>"
      ]
     },
     "metadata": {},
     "output_type": "display_data"
    },
    {
     "data": {
      "text/html": [],
      "text/plain": [
       "<IPython.core.display.HTML object>"
      ]
     },
     "metadata": {},
     "output_type": "display_data"
    },
    {
     "data": {
      "text/html": [],
      "text/plain": [
       "<IPython.core.display.HTML object>"
      ]
     },
     "metadata": {},
     "output_type": "display_data"
    },
    {
     "data": {
      "text/html": [],
      "text/plain": [
       "<IPython.core.display.HTML object>"
      ]
     },
     "metadata": {},
     "output_type": "display_data"
    },
    {
     "data": {
      "text/html": [],
      "text/plain": [
       "<IPython.core.display.HTML object>"
      ]
     },
     "metadata": {},
     "output_type": "display_data"
    },
    {
     "data": {
      "text/html": [],
      "text/plain": [
       "<IPython.core.display.HTML object>"
      ]
     },
     "metadata": {},
     "output_type": "display_data"
    },
    {
     "data": {
      "text/html": [],
      "text/plain": [
       "<IPython.core.display.HTML object>"
      ]
     },
     "metadata": {},
     "output_type": "display_data"
    },
    {
     "data": {
      "text/html": [],
      "text/plain": [
       "<IPython.core.display.HTML object>"
      ]
     },
     "metadata": {},
     "output_type": "display_data"
    },
    {
     "data": {
      "text/html": [],
      "text/plain": [
       "<IPython.core.display.HTML object>"
      ]
     },
     "metadata": {},
     "output_type": "display_data"
    },
    {
     "data": {
      "text/html": [],
      "text/plain": [
       "<IPython.core.display.HTML object>"
      ]
     },
     "metadata": {},
     "output_type": "display_data"
    },
    {
     "data": {
      "text/html": [],
      "text/plain": [
       "<IPython.core.display.HTML object>"
      ]
     },
     "metadata": {},
     "output_type": "display_data"
    },
    {
     "data": {
      "text/html": [],
      "text/plain": [
       "<IPython.core.display.HTML object>"
      ]
     },
     "metadata": {},
     "output_type": "display_data"
    },
    {
     "data": {
      "text/html": [],
      "text/plain": [
       "<IPython.core.display.HTML object>"
      ]
     },
     "metadata": {},
     "output_type": "display_data"
    },
    {
     "data": {
      "text/html": [],
      "text/plain": [
       "<IPython.core.display.HTML object>"
      ]
     },
     "metadata": {},
     "output_type": "display_data"
    },
    {
     "data": {
      "text/html": [],
      "text/plain": [
       "<IPython.core.display.HTML object>"
      ]
     },
     "metadata": {},
     "output_type": "display_data"
    },
    {
     "data": {
      "text/html": [],
      "text/plain": [
       "<IPython.core.display.HTML object>"
      ]
     },
     "metadata": {},
     "output_type": "display_data"
    },
    {
     "data": {
      "text/html": [],
      "text/plain": [
       "<IPython.core.display.HTML object>"
      ]
     },
     "metadata": {},
     "output_type": "display_data"
    },
    {
     "data": {
      "text/html": [],
      "text/plain": [
       "<IPython.core.display.HTML object>"
      ]
     },
     "metadata": {},
     "output_type": "display_data"
    },
    {
     "data": {
      "text/html": [],
      "text/plain": [
       "<IPython.core.display.HTML object>"
      ]
     },
     "metadata": {},
     "output_type": "display_data"
    },
    {
     "data": {
      "text/html": [],
      "text/plain": [
       "<IPython.core.display.HTML object>"
      ]
     },
     "metadata": {},
     "output_type": "display_data"
    },
    {
     "data": {
      "text/html": [],
      "text/plain": [
       "<IPython.core.display.HTML object>"
      ]
     },
     "metadata": {},
     "output_type": "display_data"
    },
    {
     "data": {
      "text/html": [],
      "text/plain": [
       "<IPython.core.display.HTML object>"
      ]
     },
     "metadata": {},
     "output_type": "display_data"
    },
    {
     "data": {
      "text/html": [],
      "text/plain": [
       "<IPython.core.display.HTML object>"
      ]
     },
     "metadata": {},
     "output_type": "display_data"
    },
    {
     "data": {
      "text/html": [],
      "text/plain": [
       "<IPython.core.display.HTML object>"
      ]
     },
     "metadata": {},
     "output_type": "display_data"
    },
    {
     "data": {
      "text/html": [],
      "text/plain": [
       "<IPython.core.display.HTML object>"
      ]
     },
     "metadata": {},
     "output_type": "display_data"
    },
    {
     "data": {
      "text/html": [],
      "text/plain": [
       "<IPython.core.display.HTML object>"
      ]
     },
     "metadata": {},
     "output_type": "display_data"
    },
    {
     "data": {
      "text/html": [],
      "text/plain": [
       "<IPython.core.display.HTML object>"
      ]
     },
     "metadata": {},
     "output_type": "display_data"
    },
    {
     "data": {
      "text/html": [],
      "text/plain": [
       "<IPython.core.display.HTML object>"
      ]
     },
     "metadata": {},
     "output_type": "display_data"
    },
    {
     "data": {
      "text/html": [],
      "text/plain": [
       "<IPython.core.display.HTML object>"
      ]
     },
     "metadata": {},
     "output_type": "display_data"
    },
    {
     "data": {
      "text/html": [],
      "text/plain": [
       "<IPython.core.display.HTML object>"
      ]
     },
     "metadata": {},
     "output_type": "display_data"
    },
    {
     "data": {
      "text/html": [],
      "text/plain": [
       "<IPython.core.display.HTML object>"
      ]
     },
     "metadata": {},
     "output_type": "display_data"
    },
    {
     "data": {
      "text/html": [],
      "text/plain": [
       "<IPython.core.display.HTML object>"
      ]
     },
     "metadata": {},
     "output_type": "display_data"
    },
    {
     "data": {
      "text/html": [],
      "text/plain": [
       "<IPython.core.display.HTML object>"
      ]
     },
     "metadata": {},
     "output_type": "display_data"
    },
    {
     "data": {
      "text/html": [],
      "text/plain": [
       "<IPython.core.display.HTML object>"
      ]
     },
     "metadata": {},
     "output_type": "display_data"
    },
    {
     "data": {
      "text/html": [],
      "text/plain": [
       "<IPython.core.display.HTML object>"
      ]
     },
     "metadata": {},
     "output_type": "display_data"
    },
    {
     "data": {
      "text/html": [],
      "text/plain": [
       "<IPython.core.display.HTML object>"
      ]
     },
     "metadata": {},
     "output_type": "display_data"
    },
    {
     "data": {
      "text/html": [],
      "text/plain": [
       "<IPython.core.display.HTML object>"
      ]
     },
     "metadata": {},
     "output_type": "display_data"
    },
    {
     "data": {
      "text/html": [],
      "text/plain": [
       "<IPython.core.display.HTML object>"
      ]
     },
     "metadata": {},
     "output_type": "display_data"
    },
    {
     "data": {
      "text/html": [],
      "text/plain": [
       "<IPython.core.display.HTML object>"
      ]
     },
     "metadata": {},
     "output_type": "display_data"
    },
    {
     "data": {
      "text/html": [],
      "text/plain": [
       "<IPython.core.display.HTML object>"
      ]
     },
     "metadata": {},
     "output_type": "display_data"
    },
    {
     "data": {
      "text/html": [],
      "text/plain": [
       "<IPython.core.display.HTML object>"
      ]
     },
     "metadata": {},
     "output_type": "display_data"
    },
    {
     "data": {
      "text/html": [],
      "text/plain": [
       "<IPython.core.display.HTML object>"
      ]
     },
     "metadata": {},
     "output_type": "display_data"
    },
    {
     "data": {
      "text/html": [],
      "text/plain": [
       "<IPython.core.display.HTML object>"
      ]
     },
     "metadata": {},
     "output_type": "display_data"
    },
    {
     "data": {
      "text/html": [],
      "text/plain": [
       "<IPython.core.display.HTML object>"
      ]
     },
     "metadata": {},
     "output_type": "display_data"
    },
    {
     "data": {
      "text/html": [],
      "text/plain": [
       "<IPython.core.display.HTML object>"
      ]
     },
     "metadata": {},
     "output_type": "display_data"
    },
    {
     "data": {
      "text/html": [],
      "text/plain": [
       "<IPython.core.display.HTML object>"
      ]
     },
     "metadata": {},
     "output_type": "display_data"
    },
    {
     "data": {
      "text/html": [],
      "text/plain": [
       "<IPython.core.display.HTML object>"
      ]
     },
     "metadata": {},
     "output_type": "display_data"
    },
    {
     "data": {
      "text/html": [],
      "text/plain": [
       "<IPython.core.display.HTML object>"
      ]
     },
     "metadata": {},
     "output_type": "display_data"
    },
    {
     "data": {
      "text/html": [],
      "text/plain": [
       "<IPython.core.display.HTML object>"
      ]
     },
     "metadata": {},
     "output_type": "display_data"
    },
    {
     "data": {
      "text/html": [],
      "text/plain": [
       "<IPython.core.display.HTML object>"
      ]
     },
     "metadata": {},
     "output_type": "display_data"
    },
    {
     "data": {
      "text/html": [],
      "text/plain": [
       "<IPython.core.display.HTML object>"
      ]
     },
     "metadata": {},
     "output_type": "display_data"
    },
    {
     "data": {
      "text/html": [],
      "text/plain": [
       "<IPython.core.display.HTML object>"
      ]
     },
     "metadata": {},
     "output_type": "display_data"
    },
    {
     "data": {
      "text/html": [],
      "text/plain": [
       "<IPython.core.display.HTML object>"
      ]
     },
     "metadata": {},
     "output_type": "display_data"
    },
    {
     "data": {
      "text/html": [],
      "text/plain": [
       "<IPython.core.display.HTML object>"
      ]
     },
     "metadata": {},
     "output_type": "display_data"
    },
    {
     "data": {
      "text/html": [],
      "text/plain": [
       "<IPython.core.display.HTML object>"
      ]
     },
     "metadata": {},
     "output_type": "display_data"
    },
    {
     "data": {
      "text/html": [],
      "text/plain": [
       "<IPython.core.display.HTML object>"
      ]
     },
     "metadata": {},
     "output_type": "display_data"
    },
    {
     "data": {
      "text/html": [],
      "text/plain": [
       "<IPython.core.display.HTML object>"
      ]
     },
     "metadata": {},
     "output_type": "display_data"
    },
    {
     "data": {
      "text/html": [],
      "text/plain": [
       "<IPython.core.display.HTML object>"
      ]
     },
     "metadata": {},
     "output_type": "display_data"
    },
    {
     "data": {
      "text/html": [],
      "text/plain": [
       "<IPython.core.display.HTML object>"
      ]
     },
     "metadata": {},
     "output_type": "display_data"
    },
    {
     "data": {
      "text/html": [],
      "text/plain": [
       "<IPython.core.display.HTML object>"
      ]
     },
     "metadata": {},
     "output_type": "display_data"
    },
    {
     "data": {
      "text/html": [],
      "text/plain": [
       "<IPython.core.display.HTML object>"
      ]
     },
     "metadata": {},
     "output_type": "display_data"
    },
    {
     "data": {
      "text/html": [],
      "text/plain": [
       "<IPython.core.display.HTML object>"
      ]
     },
     "metadata": {},
     "output_type": "display_data"
    },
    {
     "data": {
      "text/html": [],
      "text/plain": [
       "<IPython.core.display.HTML object>"
      ]
     },
     "metadata": {},
     "output_type": "display_data"
    },
    {
     "data": {
      "text/html": [],
      "text/plain": [
       "<IPython.core.display.HTML object>"
      ]
     },
     "metadata": {},
     "output_type": "display_data"
    },
    {
     "data": {
      "text/html": [],
      "text/plain": [
       "<IPython.core.display.HTML object>"
      ]
     },
     "metadata": {},
     "output_type": "display_data"
    },
    {
     "data": {
      "text/html": [],
      "text/plain": [
       "<IPython.core.display.HTML object>"
      ]
     },
     "metadata": {},
     "output_type": "display_data"
    },
    {
     "data": {
      "text/html": [],
      "text/plain": [
       "<IPython.core.display.HTML object>"
      ]
     },
     "metadata": {},
     "output_type": "display_data"
    },
    {
     "data": {
      "text/html": [],
      "text/plain": [
       "<IPython.core.display.HTML object>"
      ]
     },
     "metadata": {},
     "output_type": "display_data"
    },
    {
     "data": {
      "text/html": [],
      "text/plain": [
       "<IPython.core.display.HTML object>"
      ]
     },
     "metadata": {},
     "output_type": "display_data"
    },
    {
     "data": {
      "text/html": [],
      "text/plain": [
       "<IPython.core.display.HTML object>"
      ]
     },
     "metadata": {},
     "output_type": "display_data"
    },
    {
     "data": {
      "text/html": [],
      "text/plain": [
       "<IPython.core.display.HTML object>"
      ]
     },
     "metadata": {},
     "output_type": "display_data"
    },
    {
     "data": {
      "text/html": [],
      "text/plain": [
       "<IPython.core.display.HTML object>"
      ]
     },
     "metadata": {},
     "output_type": "display_data"
    },
    {
     "data": {
      "text/html": [],
      "text/plain": [
       "<IPython.core.display.HTML object>"
      ]
     },
     "metadata": {},
     "output_type": "display_data"
    },
    {
     "data": {
      "text/html": [],
      "text/plain": [
       "<IPython.core.display.HTML object>"
      ]
     },
     "metadata": {},
     "output_type": "display_data"
    },
    {
     "data": {
      "text/html": [],
      "text/plain": [
       "<IPython.core.display.HTML object>"
      ]
     },
     "metadata": {},
     "output_type": "display_data"
    },
    {
     "data": {
      "text/html": [],
      "text/plain": [
       "<IPython.core.display.HTML object>"
      ]
     },
     "metadata": {},
     "output_type": "display_data"
    },
    {
     "data": {
      "text/html": [],
      "text/plain": [
       "<IPython.core.display.HTML object>"
      ]
     },
     "metadata": {},
     "output_type": "display_data"
    },
    {
     "data": {
      "text/html": [],
      "text/plain": [
       "<IPython.core.display.HTML object>"
      ]
     },
     "metadata": {},
     "output_type": "display_data"
    },
    {
     "data": {
      "text/html": [],
      "text/plain": [
       "<IPython.core.display.HTML object>"
      ]
     },
     "metadata": {},
     "output_type": "display_data"
    },
    {
     "data": {
      "text/html": [],
      "text/plain": [
       "<IPython.core.display.HTML object>"
      ]
     },
     "metadata": {},
     "output_type": "display_data"
    },
    {
     "data": {
      "text/html": [],
      "text/plain": [
       "<IPython.core.display.HTML object>"
      ]
     },
     "metadata": {},
     "output_type": "display_data"
    },
    {
     "data": {
      "text/html": [],
      "text/plain": [
       "<IPython.core.display.HTML object>"
      ]
     },
     "metadata": {},
     "output_type": "display_data"
    },
    {
     "data": {
      "text/html": [],
      "text/plain": [
       "<IPython.core.display.HTML object>"
      ]
     },
     "metadata": {},
     "output_type": "display_data"
    },
    {
     "data": {
      "text/html": [],
      "text/plain": [
       "<IPython.core.display.HTML object>"
      ]
     },
     "metadata": {},
     "output_type": "display_data"
    },
    {
     "data": {
      "text/html": [],
      "text/plain": [
       "<IPython.core.display.HTML object>"
      ]
     },
     "metadata": {},
     "output_type": "display_data"
    },
    {
     "data": {
      "text/html": [],
      "text/plain": [
       "<IPython.core.display.HTML object>"
      ]
     },
     "metadata": {},
     "output_type": "display_data"
    },
    {
     "data": {
      "text/html": [],
      "text/plain": [
       "<IPython.core.display.HTML object>"
      ]
     },
     "metadata": {},
     "output_type": "display_data"
    },
    {
     "data": {
      "text/html": [],
      "text/plain": [
       "<IPython.core.display.HTML object>"
      ]
     },
     "metadata": {},
     "output_type": "display_data"
    },
    {
     "data": {
      "text/html": [],
      "text/plain": [
       "<IPython.core.display.HTML object>"
      ]
     },
     "metadata": {},
     "output_type": "display_data"
    },
    {
     "data": {
      "text/html": [],
      "text/plain": [
       "<IPython.core.display.HTML object>"
      ]
     },
     "metadata": {},
     "output_type": "display_data"
    },
    {
     "data": {
      "text/html": [],
      "text/plain": [
       "<IPython.core.display.HTML object>"
      ]
     },
     "metadata": {},
     "output_type": "display_data"
    },
    {
     "data": {
      "text/html": [],
      "text/plain": [
       "<IPython.core.display.HTML object>"
      ]
     },
     "metadata": {},
     "output_type": "display_data"
    },
    {
     "data": {
      "text/html": [],
      "text/plain": [
       "<IPython.core.display.HTML object>"
      ]
     },
     "metadata": {},
     "output_type": "display_data"
    },
    {
     "data": {
      "text/html": [],
      "text/plain": [
       "<IPython.core.display.HTML object>"
      ]
     },
     "metadata": {},
     "output_type": "display_data"
    },
    {
     "data": {
      "text/html": [],
      "text/plain": [
       "<IPython.core.display.HTML object>"
      ]
     },
     "metadata": {},
     "output_type": "display_data"
    },
    {
     "data": {
      "text/html": [],
      "text/plain": [
       "<IPython.core.display.HTML object>"
      ]
     },
     "metadata": {},
     "output_type": "display_data"
    },
    {
     "data": {
      "text/html": [],
      "text/plain": [
       "<IPython.core.display.HTML object>"
      ]
     },
     "metadata": {},
     "output_type": "display_data"
    },
    {
     "data": {
      "text/html": [],
      "text/plain": [
       "<IPython.core.display.HTML object>"
      ]
     },
     "metadata": {},
     "output_type": "display_data"
    },
    {
     "data": {
      "text/html": [],
      "text/plain": [
       "<IPython.core.display.HTML object>"
      ]
     },
     "metadata": {},
     "output_type": "display_data"
    },
    {
     "data": {
      "text/html": [],
      "text/plain": [
       "<IPython.core.display.HTML object>"
      ]
     },
     "metadata": {},
     "output_type": "display_data"
    },
    {
     "data": {
      "text/html": [],
      "text/plain": [
       "<IPython.core.display.HTML object>"
      ]
     },
     "metadata": {},
     "output_type": "display_data"
    },
    {
     "data": {
      "text/html": [],
      "text/plain": [
       "<IPython.core.display.HTML object>"
      ]
     },
     "metadata": {},
     "output_type": "display_data"
    },
    {
     "data": {
      "text/html": [],
      "text/plain": [
       "<IPython.core.display.HTML object>"
      ]
     },
     "metadata": {},
     "output_type": "display_data"
    },
    {
     "data": {
      "text/html": [],
      "text/plain": [
       "<IPython.core.display.HTML object>"
      ]
     },
     "metadata": {},
     "output_type": "display_data"
    },
    {
     "data": {
      "text/html": [],
      "text/plain": [
       "<IPython.core.display.HTML object>"
      ]
     },
     "metadata": {},
     "output_type": "display_data"
    },
    {
     "data": {
      "text/html": [],
      "text/plain": [
       "<IPython.core.display.HTML object>"
      ]
     },
     "metadata": {},
     "output_type": "display_data"
    },
    {
     "data": {
      "text/html": [],
      "text/plain": [
       "<IPython.core.display.HTML object>"
      ]
     },
     "metadata": {},
     "output_type": "display_data"
    },
    {
     "data": {
      "text/html": [],
      "text/plain": [
       "<IPython.core.display.HTML object>"
      ]
     },
     "metadata": {},
     "output_type": "display_data"
    },
    {
     "data": {
      "text/html": [],
      "text/plain": [
       "<IPython.core.display.HTML object>"
      ]
     },
     "metadata": {},
     "output_type": "display_data"
    },
    {
     "data": {
      "text/html": [],
      "text/plain": [
       "<IPython.core.display.HTML object>"
      ]
     },
     "metadata": {},
     "output_type": "display_data"
    },
    {
     "data": {
      "text/html": [],
      "text/plain": [
       "<IPython.core.display.HTML object>"
      ]
     },
     "metadata": {},
     "output_type": "display_data"
    },
    {
     "data": {
      "text/html": [],
      "text/plain": [
       "<IPython.core.display.HTML object>"
      ]
     },
     "metadata": {},
     "output_type": "display_data"
    },
    {
     "data": {
      "text/html": [],
      "text/plain": [
       "<IPython.core.display.HTML object>"
      ]
     },
     "metadata": {},
     "output_type": "display_data"
    },
    {
     "data": {
      "text/html": [],
      "text/plain": [
       "<IPython.core.display.HTML object>"
      ]
     },
     "metadata": {},
     "output_type": "display_data"
    },
    {
     "data": {
      "text/html": [],
      "text/plain": [
       "<IPython.core.display.HTML object>"
      ]
     },
     "metadata": {},
     "output_type": "display_data"
    },
    {
     "data": {
      "text/html": [],
      "text/plain": [
       "<IPython.core.display.HTML object>"
      ]
     },
     "metadata": {},
     "output_type": "display_data"
    },
    {
     "data": {
      "text/html": [],
      "text/plain": [
       "<IPython.core.display.HTML object>"
      ]
     },
     "metadata": {},
     "output_type": "display_data"
    },
    {
     "data": {
      "text/html": [],
      "text/plain": [
       "<IPython.core.display.HTML object>"
      ]
     },
     "metadata": {},
     "output_type": "display_data"
    },
    {
     "data": {
      "text/html": [],
      "text/plain": [
       "<IPython.core.display.HTML object>"
      ]
     },
     "metadata": {},
     "output_type": "display_data"
    },
    {
     "data": {
      "text/html": [],
      "text/plain": [
       "<IPython.core.display.HTML object>"
      ]
     },
     "metadata": {},
     "output_type": "display_data"
    },
    {
     "data": {
      "text/html": [],
      "text/plain": [
       "<IPython.core.display.HTML object>"
      ]
     },
     "metadata": {},
     "output_type": "display_data"
    },
    {
     "data": {
      "text/html": [],
      "text/plain": [
       "<IPython.core.display.HTML object>"
      ]
     },
     "metadata": {},
     "output_type": "display_data"
    },
    {
     "data": {
      "text/html": [],
      "text/plain": [
       "<IPython.core.display.HTML object>"
      ]
     },
     "metadata": {},
     "output_type": "display_data"
    },
    {
     "data": {
      "text/html": [],
      "text/plain": [
       "<IPython.core.display.HTML object>"
      ]
     },
     "metadata": {},
     "output_type": "display_data"
    },
    {
     "data": {
      "text/html": [],
      "text/plain": [
       "<IPython.core.display.HTML object>"
      ]
     },
     "metadata": {},
     "output_type": "display_data"
    },
    {
     "data": {
      "text/html": [],
      "text/plain": [
       "<IPython.core.display.HTML object>"
      ]
     },
     "metadata": {},
     "output_type": "display_data"
    },
    {
     "data": {
      "text/html": [],
      "text/plain": [
       "<IPython.core.display.HTML object>"
      ]
     },
     "metadata": {},
     "output_type": "display_data"
    },
    {
     "data": {
      "text/html": [],
      "text/plain": [
       "<IPython.core.display.HTML object>"
      ]
     },
     "metadata": {},
     "output_type": "display_data"
    },
    {
     "data": {
      "text/html": [],
      "text/plain": [
       "<IPython.core.display.HTML object>"
      ]
     },
     "metadata": {},
     "output_type": "display_data"
    },
    {
     "data": {
      "text/html": [],
      "text/plain": [
       "<IPython.core.display.HTML object>"
      ]
     },
     "metadata": {},
     "output_type": "display_data"
    },
    {
     "data": {
      "text/html": [],
      "text/plain": [
       "<IPython.core.display.HTML object>"
      ]
     },
     "metadata": {},
     "output_type": "display_data"
    },
    {
     "data": {
      "text/html": [],
      "text/plain": [
       "<IPython.core.display.HTML object>"
      ]
     },
     "metadata": {},
     "output_type": "display_data"
    },
    {
     "data": {
      "text/html": [],
      "text/plain": [
       "<IPython.core.display.HTML object>"
      ]
     },
     "metadata": {},
     "output_type": "display_data"
    },
    {
     "data": {
      "text/html": [],
      "text/plain": [
       "<IPython.core.display.HTML object>"
      ]
     },
     "metadata": {},
     "output_type": "display_data"
    },
    {
     "data": {
      "text/html": [],
      "text/plain": [
       "<IPython.core.display.HTML object>"
      ]
     },
     "metadata": {},
     "output_type": "display_data"
    },
    {
     "data": {
      "text/html": [],
      "text/plain": [
       "<IPython.core.display.HTML object>"
      ]
     },
     "metadata": {},
     "output_type": "display_data"
    },
    {
     "data": {
      "text/html": [],
      "text/plain": [
       "<IPython.core.display.HTML object>"
      ]
     },
     "metadata": {},
     "output_type": "display_data"
    },
    {
     "data": {
      "text/html": [],
      "text/plain": [
       "<IPython.core.display.HTML object>"
      ]
     },
     "metadata": {},
     "output_type": "display_data"
    },
    {
     "data": {
      "text/html": [],
      "text/plain": [
       "<IPython.core.display.HTML object>"
      ]
     },
     "metadata": {},
     "output_type": "display_data"
    },
    {
     "data": {
      "text/html": [],
      "text/plain": [
       "<IPython.core.display.HTML object>"
      ]
     },
     "metadata": {},
     "output_type": "display_data"
    },
    {
     "data": {
      "text/html": [],
      "text/plain": [
       "<IPython.core.display.HTML object>"
      ]
     },
     "metadata": {},
     "output_type": "display_data"
    },
    {
     "data": {
      "text/html": [],
      "text/plain": [
       "<IPython.core.display.HTML object>"
      ]
     },
     "metadata": {},
     "output_type": "display_data"
    },
    {
     "data": {
      "text/html": [],
      "text/plain": [
       "<IPython.core.display.HTML object>"
      ]
     },
     "metadata": {},
     "output_type": "display_data"
    },
    {
     "data": {
      "text/html": [],
      "text/plain": [
       "<IPython.core.display.HTML object>"
      ]
     },
     "metadata": {},
     "output_type": "display_data"
    },
    {
     "data": {
      "text/html": [],
      "text/plain": [
       "<IPython.core.display.HTML object>"
      ]
     },
     "metadata": {},
     "output_type": "display_data"
    },
    {
     "data": {
      "text/html": [],
      "text/plain": [
       "<IPython.core.display.HTML object>"
      ]
     },
     "metadata": {},
     "output_type": "display_data"
    },
    {
     "data": {
      "text/html": [],
      "text/plain": [
       "<IPython.core.display.HTML object>"
      ]
     },
     "metadata": {},
     "output_type": "display_data"
    },
    {
     "data": {
      "text/html": [],
      "text/plain": [
       "<IPython.core.display.HTML object>"
      ]
     },
     "metadata": {},
     "output_type": "display_data"
    },
    {
     "data": {
      "text/html": [],
      "text/plain": [
       "<IPython.core.display.HTML object>"
      ]
     },
     "metadata": {},
     "output_type": "display_data"
    },
    {
     "data": {
      "text/html": [],
      "text/plain": [
       "<IPython.core.display.HTML object>"
      ]
     },
     "metadata": {},
     "output_type": "display_data"
    },
    {
     "data": {
      "text/html": [],
      "text/plain": [
       "<IPython.core.display.HTML object>"
      ]
     },
     "metadata": {},
     "output_type": "display_data"
    },
    {
     "data": {
      "text/html": [],
      "text/plain": [
       "<IPython.core.display.HTML object>"
      ]
     },
     "metadata": {},
     "output_type": "display_data"
    },
    {
     "data": {
      "text/html": [],
      "text/plain": [
       "<IPython.core.display.HTML object>"
      ]
     },
     "metadata": {},
     "output_type": "display_data"
    },
    {
     "data": {
      "text/html": [],
      "text/plain": [
       "<IPython.core.display.HTML object>"
      ]
     },
     "metadata": {},
     "output_type": "display_data"
    },
    {
     "data": {
      "text/html": [],
      "text/plain": [
       "<IPython.core.display.HTML object>"
      ]
     },
     "metadata": {},
     "output_type": "display_data"
    },
    {
     "data": {
      "text/html": [],
      "text/plain": [
       "<IPython.core.display.HTML object>"
      ]
     },
     "metadata": {},
     "output_type": "display_data"
    },
    {
     "data": {
      "text/html": [],
      "text/plain": [
       "<IPython.core.display.HTML object>"
      ]
     },
     "metadata": {},
     "output_type": "display_data"
    },
    {
     "data": {
      "text/html": [],
      "text/plain": [
       "<IPython.core.display.HTML object>"
      ]
     },
     "metadata": {},
     "output_type": "display_data"
    },
    {
     "data": {
      "text/html": [],
      "text/plain": [
       "<IPython.core.display.HTML object>"
      ]
     },
     "metadata": {},
     "output_type": "display_data"
    },
    {
     "data": {
      "text/html": [],
      "text/plain": [
       "<IPython.core.display.HTML object>"
      ]
     },
     "metadata": {},
     "output_type": "display_data"
    },
    {
     "data": {
      "text/html": [],
      "text/plain": [
       "<IPython.core.display.HTML object>"
      ]
     },
     "metadata": {},
     "output_type": "display_data"
    },
    {
     "data": {
      "text/html": [],
      "text/plain": [
       "<IPython.core.display.HTML object>"
      ]
     },
     "metadata": {},
     "output_type": "display_data"
    },
    {
     "data": {
      "text/html": [],
      "text/plain": [
       "<IPython.core.display.HTML object>"
      ]
     },
     "metadata": {},
     "output_type": "display_data"
    },
    {
     "data": {
      "text/html": [],
      "text/plain": [
       "<IPython.core.display.HTML object>"
      ]
     },
     "metadata": {},
     "output_type": "display_data"
    },
    {
     "data": {
      "text/html": [],
      "text/plain": [
       "<IPython.core.display.HTML object>"
      ]
     },
     "metadata": {},
     "output_type": "display_data"
    },
    {
     "data": {
      "text/html": [],
      "text/plain": [
       "<IPython.core.display.HTML object>"
      ]
     },
     "metadata": {},
     "output_type": "display_data"
    },
    {
     "data": {
      "text/html": [],
      "text/plain": [
       "<IPython.core.display.HTML object>"
      ]
     },
     "metadata": {},
     "output_type": "display_data"
    },
    {
     "data": {
      "text/html": [],
      "text/plain": [
       "<IPython.core.display.HTML object>"
      ]
     },
     "metadata": {},
     "output_type": "display_data"
    },
    {
     "data": {
      "text/html": [],
      "text/plain": [
       "<IPython.core.display.HTML object>"
      ]
     },
     "metadata": {},
     "output_type": "display_data"
    },
    {
     "data": {
      "text/html": [],
      "text/plain": [
       "<IPython.core.display.HTML object>"
      ]
     },
     "metadata": {},
     "output_type": "display_data"
    },
    {
     "data": {
      "text/html": [],
      "text/plain": [
       "<IPython.core.display.HTML object>"
      ]
     },
     "metadata": {},
     "output_type": "display_data"
    },
    {
     "data": {
      "text/html": [],
      "text/plain": [
       "<IPython.core.display.HTML object>"
      ]
     },
     "metadata": {},
     "output_type": "display_data"
    },
    {
     "data": {
      "text/html": [],
      "text/plain": [
       "<IPython.core.display.HTML object>"
      ]
     },
     "metadata": {},
     "output_type": "display_data"
    },
    {
     "data": {
      "text/html": [],
      "text/plain": [
       "<IPython.core.display.HTML object>"
      ]
     },
     "metadata": {},
     "output_type": "display_data"
    },
    {
     "data": {
      "text/html": [],
      "text/plain": [
       "<IPython.core.display.HTML object>"
      ]
     },
     "metadata": {},
     "output_type": "display_data"
    },
    {
     "data": {
      "text/html": [],
      "text/plain": [
       "<IPython.core.display.HTML object>"
      ]
     },
     "metadata": {},
     "output_type": "display_data"
    },
    {
     "data": {
      "text/html": [],
      "text/plain": [
       "<IPython.core.display.HTML object>"
      ]
     },
     "metadata": {},
     "output_type": "display_data"
    },
    {
     "data": {
      "text/html": [],
      "text/plain": [
       "<IPython.core.display.HTML object>"
      ]
     },
     "metadata": {},
     "output_type": "display_data"
    },
    {
     "data": {
      "text/html": [],
      "text/plain": [
       "<IPython.core.display.HTML object>"
      ]
     },
     "metadata": {},
     "output_type": "display_data"
    },
    {
     "data": {
      "text/html": [],
      "text/plain": [
       "<IPython.core.display.HTML object>"
      ]
     },
     "metadata": {},
     "output_type": "display_data"
    },
    {
     "data": {
      "text/html": [],
      "text/plain": [
       "<IPython.core.display.HTML object>"
      ]
     },
     "metadata": {},
     "output_type": "display_data"
    },
    {
     "data": {
      "text/html": [],
      "text/plain": [
       "<IPython.core.display.HTML object>"
      ]
     },
     "metadata": {},
     "output_type": "display_data"
    },
    {
     "data": {
      "text/html": [],
      "text/plain": [
       "<IPython.core.display.HTML object>"
      ]
     },
     "metadata": {},
     "output_type": "display_data"
    },
    {
     "data": {
      "text/html": [],
      "text/plain": [
       "<IPython.core.display.HTML object>"
      ]
     },
     "metadata": {},
     "output_type": "display_data"
    },
    {
     "data": {
      "text/html": [],
      "text/plain": [
       "<IPython.core.display.HTML object>"
      ]
     },
     "metadata": {},
     "output_type": "display_data"
    },
    {
     "data": {
      "text/html": [],
      "text/plain": [
       "<IPython.core.display.HTML object>"
      ]
     },
     "metadata": {},
     "output_type": "display_data"
    },
    {
     "data": {
      "text/html": [],
      "text/plain": [
       "<IPython.core.display.HTML object>"
      ]
     },
     "metadata": {},
     "output_type": "display_data"
    },
    {
     "data": {
      "text/html": [],
      "text/plain": [
       "<IPython.core.display.HTML object>"
      ]
     },
     "metadata": {},
     "output_type": "display_data"
    },
    {
     "data": {
      "text/html": [],
      "text/plain": [
       "<IPython.core.display.HTML object>"
      ]
     },
     "metadata": {},
     "output_type": "display_data"
    },
    {
     "data": {
      "text/html": [],
      "text/plain": [
       "<IPython.core.display.HTML object>"
      ]
     },
     "metadata": {},
     "output_type": "display_data"
    },
    {
     "data": {
      "text/html": [],
      "text/plain": [
       "<IPython.core.display.HTML object>"
      ]
     },
     "metadata": {},
     "output_type": "display_data"
    },
    {
     "data": {
      "text/html": [],
      "text/plain": [
       "<IPython.core.display.HTML object>"
      ]
     },
     "metadata": {},
     "output_type": "display_data"
    },
    {
     "data": {
      "text/html": [],
      "text/plain": [
       "<IPython.core.display.HTML object>"
      ]
     },
     "metadata": {},
     "output_type": "display_data"
    },
    {
     "data": {
      "text/html": [],
      "text/plain": [
       "<IPython.core.display.HTML object>"
      ]
     },
     "metadata": {},
     "output_type": "display_data"
    },
    {
     "data": {
      "text/html": [],
      "text/plain": [
       "<IPython.core.display.HTML object>"
      ]
     },
     "metadata": {},
     "output_type": "display_data"
    },
    {
     "data": {
      "text/html": [],
      "text/plain": [
       "<IPython.core.display.HTML object>"
      ]
     },
     "metadata": {},
     "output_type": "display_data"
    },
    {
     "data": {
      "text/html": [],
      "text/plain": [
       "<IPython.core.display.HTML object>"
      ]
     },
     "metadata": {},
     "output_type": "display_data"
    },
    {
     "data": {
      "text/html": [],
      "text/plain": [
       "<IPython.core.display.HTML object>"
      ]
     },
     "metadata": {},
     "output_type": "display_data"
    },
    {
     "data": {
      "text/html": [],
      "text/plain": [
       "<IPython.core.display.HTML object>"
      ]
     },
     "metadata": {},
     "output_type": "display_data"
    },
    {
     "data": {
      "text/html": [],
      "text/plain": [
       "<IPython.core.display.HTML object>"
      ]
     },
     "metadata": {},
     "output_type": "display_data"
    },
    {
     "data": {
      "text/html": [],
      "text/plain": [
       "<IPython.core.display.HTML object>"
      ]
     },
     "metadata": {},
     "output_type": "display_data"
    },
    {
     "data": {
      "text/html": [],
      "text/plain": [
       "<IPython.core.display.HTML object>"
      ]
     },
     "metadata": {},
     "output_type": "display_data"
    },
    {
     "data": {
      "text/html": [],
      "text/plain": [
       "<IPython.core.display.HTML object>"
      ]
     },
     "metadata": {},
     "output_type": "display_data"
    },
    {
     "data": {
      "text/html": [],
      "text/plain": [
       "<IPython.core.display.HTML object>"
      ]
     },
     "metadata": {},
     "output_type": "display_data"
    },
    {
     "data": {
      "text/html": [],
      "text/plain": [
       "<IPython.core.display.HTML object>"
      ]
     },
     "metadata": {},
     "output_type": "display_data"
    },
    {
     "data": {
      "text/html": [],
      "text/plain": [
       "<IPython.core.display.HTML object>"
      ]
     },
     "metadata": {},
     "output_type": "display_data"
    },
    {
     "data": {
      "text/html": [],
      "text/plain": [
       "<IPython.core.display.HTML object>"
      ]
     },
     "metadata": {},
     "output_type": "display_data"
    },
    {
     "data": {
      "text/html": [],
      "text/plain": [
       "<IPython.core.display.HTML object>"
      ]
     },
     "metadata": {},
     "output_type": "display_data"
    },
    {
     "data": {
      "text/html": [],
      "text/plain": [
       "<IPython.core.display.HTML object>"
      ]
     },
     "metadata": {},
     "output_type": "display_data"
    },
    {
     "data": {
      "text/html": [],
      "text/plain": [
       "<IPython.core.display.HTML object>"
      ]
     },
     "metadata": {},
     "output_type": "display_data"
    },
    {
     "data": {
      "text/html": [],
      "text/plain": [
       "<IPython.core.display.HTML object>"
      ]
     },
     "metadata": {},
     "output_type": "display_data"
    },
    {
     "data": {
      "text/html": [],
      "text/plain": [
       "<IPython.core.display.HTML object>"
      ]
     },
     "metadata": {},
     "output_type": "display_data"
    },
    {
     "data": {
      "text/html": [],
      "text/plain": [
       "<IPython.core.display.HTML object>"
      ]
     },
     "metadata": {},
     "output_type": "display_data"
    },
    {
     "data": {
      "text/html": [],
      "text/plain": [
       "<IPython.core.display.HTML object>"
      ]
     },
     "metadata": {},
     "output_type": "display_data"
    },
    {
     "data": {
      "text/html": [],
      "text/plain": [
       "<IPython.core.display.HTML object>"
      ]
     },
     "metadata": {},
     "output_type": "display_data"
    },
    {
     "data": {
      "text/html": [],
      "text/plain": [
       "<IPython.core.display.HTML object>"
      ]
     },
     "metadata": {},
     "output_type": "display_data"
    },
    {
     "data": {
      "text/html": [],
      "text/plain": [
       "<IPython.core.display.HTML object>"
      ]
     },
     "metadata": {},
     "output_type": "display_data"
    },
    {
     "data": {
      "text/html": [],
      "text/plain": [
       "<IPython.core.display.HTML object>"
      ]
     },
     "metadata": {},
     "output_type": "display_data"
    },
    {
     "data": {
      "text/html": [],
      "text/plain": [
       "<IPython.core.display.HTML object>"
      ]
     },
     "metadata": {},
     "output_type": "display_data"
    },
    {
     "data": {
      "text/html": [],
      "text/plain": [
       "<IPython.core.display.HTML object>"
      ]
     },
     "metadata": {},
     "output_type": "display_data"
    },
    {
     "data": {
      "text/html": [],
      "text/plain": [
       "<IPython.core.display.HTML object>"
      ]
     },
     "metadata": {},
     "output_type": "display_data"
    },
    {
     "data": {
      "text/html": [],
      "text/plain": [
       "<IPython.core.display.HTML object>"
      ]
     },
     "metadata": {},
     "output_type": "display_data"
    },
    {
     "data": {
      "text/html": [],
      "text/plain": [
       "<IPython.core.display.HTML object>"
      ]
     },
     "metadata": {},
     "output_type": "display_data"
    },
    {
     "data": {
      "text/html": [],
      "text/plain": [
       "<IPython.core.display.HTML object>"
      ]
     },
     "metadata": {},
     "output_type": "display_data"
    },
    {
     "data": {
      "text/html": [],
      "text/plain": [
       "<IPython.core.display.HTML object>"
      ]
     },
     "metadata": {},
     "output_type": "display_data"
    },
    {
     "data": {
      "text/html": [],
      "text/plain": [
       "<IPython.core.display.HTML object>"
      ]
     },
     "metadata": {},
     "output_type": "display_data"
    },
    {
     "data": {
      "text/html": [],
      "text/plain": [
       "<IPython.core.display.HTML object>"
      ]
     },
     "metadata": {},
     "output_type": "display_data"
    },
    {
     "data": {
      "text/html": [],
      "text/plain": [
       "<IPython.core.display.HTML object>"
      ]
     },
     "metadata": {},
     "output_type": "display_data"
    },
    {
     "data": {
      "text/html": [],
      "text/plain": [
       "<IPython.core.display.HTML object>"
      ]
     },
     "metadata": {},
     "output_type": "display_data"
    },
    {
     "data": {
      "text/html": [],
      "text/plain": [
       "<IPython.core.display.HTML object>"
      ]
     },
     "metadata": {},
     "output_type": "display_data"
    },
    {
     "data": {
      "text/html": [],
      "text/plain": [
       "<IPython.core.display.HTML object>"
      ]
     },
     "metadata": {},
     "output_type": "display_data"
    },
    {
     "data": {
      "text/html": [],
      "text/plain": [
       "<IPython.core.display.HTML object>"
      ]
     },
     "metadata": {},
     "output_type": "display_data"
    },
    {
     "data": {
      "text/html": [],
      "text/plain": [
       "<IPython.core.display.HTML object>"
      ]
     },
     "metadata": {},
     "output_type": "display_data"
    },
    {
     "data": {
      "text/html": [],
      "text/plain": [
       "<IPython.core.display.HTML object>"
      ]
     },
     "metadata": {},
     "output_type": "display_data"
    },
    {
     "data": {
      "text/html": [],
      "text/plain": [
       "<IPython.core.display.HTML object>"
      ]
     },
     "metadata": {},
     "output_type": "display_data"
    },
    {
     "data": {
      "text/html": [],
      "text/plain": [
       "<IPython.core.display.HTML object>"
      ]
     },
     "metadata": {},
     "output_type": "display_data"
    },
    {
     "data": {
      "text/html": [],
      "text/plain": [
       "<IPython.core.display.HTML object>"
      ]
     },
     "metadata": {},
     "output_type": "display_data"
    },
    {
     "data": {
      "text/html": [],
      "text/plain": [
       "<IPython.core.display.HTML object>"
      ]
     },
     "metadata": {},
     "output_type": "display_data"
    },
    {
     "data": {
      "text/html": [],
      "text/plain": [
       "<IPython.core.display.HTML object>"
      ]
     },
     "metadata": {},
     "output_type": "display_data"
    },
    {
     "data": {
      "text/html": [],
      "text/plain": [
       "<IPython.core.display.HTML object>"
      ]
     },
     "metadata": {},
     "output_type": "display_data"
    },
    {
     "data": {
      "text/html": [],
      "text/plain": [
       "<IPython.core.display.HTML object>"
      ]
     },
     "metadata": {},
     "output_type": "display_data"
    },
    {
     "data": {
      "text/html": [],
      "text/plain": [
       "<IPython.core.display.HTML object>"
      ]
     },
     "metadata": {},
     "output_type": "display_data"
    },
    {
     "data": {
      "text/html": [],
      "text/plain": [
       "<IPython.core.display.HTML object>"
      ]
     },
     "metadata": {},
     "output_type": "display_data"
    },
    {
     "data": {
      "text/html": [],
      "text/plain": [
       "<IPython.core.display.HTML object>"
      ]
     },
     "metadata": {},
     "output_type": "display_data"
    },
    {
     "data": {
      "text/html": [],
      "text/plain": [
       "<IPython.core.display.HTML object>"
      ]
     },
     "metadata": {},
     "output_type": "display_data"
    },
    {
     "data": {
      "text/html": [],
      "text/plain": [
       "<IPython.core.display.HTML object>"
      ]
     },
     "metadata": {},
     "output_type": "display_data"
    },
    {
     "data": {
      "text/html": [],
      "text/plain": [
       "<IPython.core.display.HTML object>"
      ]
     },
     "metadata": {},
     "output_type": "display_data"
    },
    {
     "data": {
      "text/html": [],
      "text/plain": [
       "<IPython.core.display.HTML object>"
      ]
     },
     "metadata": {},
     "output_type": "display_data"
    },
    {
     "data": {
      "text/html": [],
      "text/plain": [
       "<IPython.core.display.HTML object>"
      ]
     },
     "metadata": {},
     "output_type": "display_data"
    },
    {
     "data": {
      "text/html": [],
      "text/plain": [
       "<IPython.core.display.HTML object>"
      ]
     },
     "metadata": {},
     "output_type": "display_data"
    },
    {
     "data": {
      "text/html": [],
      "text/plain": [
       "<IPython.core.display.HTML object>"
      ]
     },
     "metadata": {},
     "output_type": "display_data"
    },
    {
     "data": {
      "text/html": [],
      "text/plain": [
       "<IPython.core.display.HTML object>"
      ]
     },
     "metadata": {},
     "output_type": "display_data"
    },
    {
     "data": {
      "text/html": [],
      "text/plain": [
       "<IPython.core.display.HTML object>"
      ]
     },
     "metadata": {},
     "output_type": "display_data"
    },
    {
     "data": {
      "text/html": [],
      "text/plain": [
       "<IPython.core.display.HTML object>"
      ]
     },
     "metadata": {},
     "output_type": "display_data"
    },
    {
     "data": {
      "text/html": [],
      "text/plain": [
       "<IPython.core.display.HTML object>"
      ]
     },
     "metadata": {},
     "output_type": "display_data"
    },
    {
     "data": {
      "text/html": [],
      "text/plain": [
       "<IPython.core.display.HTML object>"
      ]
     },
     "metadata": {},
     "output_type": "display_data"
    },
    {
     "data": {
      "text/html": [],
      "text/plain": [
       "<IPython.core.display.HTML object>"
      ]
     },
     "metadata": {},
     "output_type": "display_data"
    },
    {
     "data": {
      "text/html": [],
      "text/plain": [
       "<IPython.core.display.HTML object>"
      ]
     },
     "metadata": {},
     "output_type": "display_data"
    },
    {
     "data": {
      "text/html": [],
      "text/plain": [
       "<IPython.core.display.HTML object>"
      ]
     },
     "metadata": {},
     "output_type": "display_data"
    },
    {
     "data": {
      "text/html": [],
      "text/plain": [
       "<IPython.core.display.HTML object>"
      ]
     },
     "metadata": {},
     "output_type": "display_data"
    },
    {
     "data": {
      "text/html": [],
      "text/plain": [
       "<IPython.core.display.HTML object>"
      ]
     },
     "metadata": {},
     "output_type": "display_data"
    },
    {
     "data": {
      "text/html": [],
      "text/plain": [
       "<IPython.core.display.HTML object>"
      ]
     },
     "metadata": {},
     "output_type": "display_data"
    },
    {
     "data": {
      "text/html": [],
      "text/plain": [
       "<IPython.core.display.HTML object>"
      ]
     },
     "metadata": {},
     "output_type": "display_data"
    },
    {
     "data": {
      "text/html": [],
      "text/plain": [
       "<IPython.core.display.HTML object>"
      ]
     },
     "metadata": {},
     "output_type": "display_data"
    },
    {
     "data": {
      "text/html": [],
      "text/plain": [
       "<IPython.core.display.HTML object>"
      ]
     },
     "metadata": {},
     "output_type": "display_data"
    },
    {
     "data": {
      "text/html": [],
      "text/plain": [
       "<IPython.core.display.HTML object>"
      ]
     },
     "metadata": {},
     "output_type": "display_data"
    },
    {
     "data": {
      "text/html": [],
      "text/plain": [
       "<IPython.core.display.HTML object>"
      ]
     },
     "metadata": {},
     "output_type": "display_data"
    },
    {
     "data": {
      "text/html": [],
      "text/plain": [
       "<IPython.core.display.HTML object>"
      ]
     },
     "metadata": {},
     "output_type": "display_data"
    },
    {
     "data": {
      "text/html": [],
      "text/plain": [
       "<IPython.core.display.HTML object>"
      ]
     },
     "metadata": {},
     "output_type": "display_data"
    },
    {
     "data": {
      "text/html": [],
      "text/plain": [
       "<IPython.core.display.HTML object>"
      ]
     },
     "metadata": {},
     "output_type": "display_data"
    },
    {
     "data": {
      "text/html": [],
      "text/plain": [
       "<IPython.core.display.HTML object>"
      ]
     },
     "metadata": {},
     "output_type": "display_data"
    },
    {
     "data": {
      "text/html": [],
      "text/plain": [
       "<IPython.core.display.HTML object>"
      ]
     },
     "metadata": {},
     "output_type": "display_data"
    },
    {
     "data": {
      "text/html": [],
      "text/plain": [
       "<IPython.core.display.HTML object>"
      ]
     },
     "metadata": {},
     "output_type": "display_data"
    },
    {
     "data": {
      "text/html": [],
      "text/plain": [
       "<IPython.core.display.HTML object>"
      ]
     },
     "metadata": {},
     "output_type": "display_data"
    },
    {
     "data": {
      "text/html": [],
      "text/plain": [
       "<IPython.core.display.HTML object>"
      ]
     },
     "metadata": {},
     "output_type": "display_data"
    },
    {
     "data": {
      "text/html": [],
      "text/plain": [
       "<IPython.core.display.HTML object>"
      ]
     },
     "metadata": {},
     "output_type": "display_data"
    },
    {
     "data": {
      "text/html": [],
      "text/plain": [
       "<IPython.core.display.HTML object>"
      ]
     },
     "metadata": {},
     "output_type": "display_data"
    },
    {
     "data": {
      "text/html": [],
      "text/plain": [
       "<IPython.core.display.HTML object>"
      ]
     },
     "metadata": {},
     "output_type": "display_data"
    },
    {
     "data": {
      "text/html": [],
      "text/plain": [
       "<IPython.core.display.HTML object>"
      ]
     },
     "metadata": {},
     "output_type": "display_data"
    },
    {
     "data": {
      "text/html": [],
      "text/plain": [
       "<IPython.core.display.HTML object>"
      ]
     },
     "metadata": {},
     "output_type": "display_data"
    },
    {
     "data": {
      "text/html": [],
      "text/plain": [
       "<IPython.core.display.HTML object>"
      ]
     },
     "metadata": {},
     "output_type": "display_data"
    },
    {
     "data": {
      "text/html": [],
      "text/plain": [
       "<IPython.core.display.HTML object>"
      ]
     },
     "metadata": {},
     "output_type": "display_data"
    },
    {
     "data": {
      "text/html": [],
      "text/plain": [
       "<IPython.core.display.HTML object>"
      ]
     },
     "metadata": {},
     "output_type": "display_data"
    },
    {
     "data": {
      "text/html": [],
      "text/plain": [
       "<IPython.core.display.HTML object>"
      ]
     },
     "metadata": {},
     "output_type": "display_data"
    },
    {
     "data": {
      "text/html": [],
      "text/plain": [
       "<IPython.core.display.HTML object>"
      ]
     },
     "metadata": {},
     "output_type": "display_data"
    },
    {
     "data": {
      "text/html": [],
      "text/plain": [
       "<IPython.core.display.HTML object>"
      ]
     },
     "metadata": {},
     "output_type": "display_data"
    },
    {
     "data": {
      "text/html": [],
      "text/plain": [
       "<IPython.core.display.HTML object>"
      ]
     },
     "metadata": {},
     "output_type": "display_data"
    },
    {
     "data": {
      "text/html": [],
      "text/plain": [
       "<IPython.core.display.HTML object>"
      ]
     },
     "metadata": {},
     "output_type": "display_data"
    },
    {
     "data": {
      "text/html": [],
      "text/plain": [
       "<IPython.core.display.HTML object>"
      ]
     },
     "metadata": {},
     "output_type": "display_data"
    },
    {
     "data": {
      "text/html": [],
      "text/plain": [
       "<IPython.core.display.HTML object>"
      ]
     },
     "metadata": {},
     "output_type": "display_data"
    },
    {
     "data": {
      "text/html": [],
      "text/plain": [
       "<IPython.core.display.HTML object>"
      ]
     },
     "metadata": {},
     "output_type": "display_data"
    },
    {
     "data": {
      "text/html": [],
      "text/plain": [
       "<IPython.core.display.HTML object>"
      ]
     },
     "metadata": {},
     "output_type": "display_data"
    },
    {
     "data": {
      "text/html": [],
      "text/plain": [
       "<IPython.core.display.HTML object>"
      ]
     },
     "metadata": {},
     "output_type": "display_data"
    },
    {
     "data": {
      "text/html": [],
      "text/plain": [
       "<IPython.core.display.HTML object>"
      ]
     },
     "metadata": {},
     "output_type": "display_data"
    },
    {
     "data": {
      "text/html": [],
      "text/plain": [
       "<IPython.core.display.HTML object>"
      ]
     },
     "metadata": {},
     "output_type": "display_data"
    },
    {
     "data": {
      "text/html": [],
      "text/plain": [
       "<IPython.core.display.HTML object>"
      ]
     },
     "metadata": {},
     "output_type": "display_data"
    },
    {
     "data": {
      "text/html": [],
      "text/plain": [
       "<IPython.core.display.HTML object>"
      ]
     },
     "metadata": {},
     "output_type": "display_data"
    },
    {
     "data": {
      "text/html": [],
      "text/plain": [
       "<IPython.core.display.HTML object>"
      ]
     },
     "metadata": {},
     "output_type": "display_data"
    },
    {
     "data": {
      "text/html": [],
      "text/plain": [
       "<IPython.core.display.HTML object>"
      ]
     },
     "metadata": {},
     "output_type": "display_data"
    },
    {
     "data": {
      "text/html": [],
      "text/plain": [
       "<IPython.core.display.HTML object>"
      ]
     },
     "metadata": {},
     "output_type": "display_data"
    },
    {
     "data": {
      "text/html": [],
      "text/plain": [
       "<IPython.core.display.HTML object>"
      ]
     },
     "metadata": {},
     "output_type": "display_data"
    },
    {
     "data": {
      "text/html": [],
      "text/plain": [
       "<IPython.core.display.HTML object>"
      ]
     },
     "metadata": {},
     "output_type": "display_data"
    },
    {
     "data": {
      "text/html": [],
      "text/plain": [
       "<IPython.core.display.HTML object>"
      ]
     },
     "metadata": {},
     "output_type": "display_data"
    },
    {
     "data": {
      "text/html": [],
      "text/plain": [
       "<IPython.core.display.HTML object>"
      ]
     },
     "metadata": {},
     "output_type": "display_data"
    },
    {
     "data": {
      "text/html": [],
      "text/plain": [
       "<IPython.core.display.HTML object>"
      ]
     },
     "metadata": {},
     "output_type": "display_data"
    },
    {
     "data": {
      "text/html": [],
      "text/plain": [
       "<IPython.core.display.HTML object>"
      ]
     },
     "metadata": {},
     "output_type": "display_data"
    },
    {
     "data": {
      "text/html": [],
      "text/plain": [
       "<IPython.core.display.HTML object>"
      ]
     },
     "metadata": {},
     "output_type": "display_data"
    },
    {
     "data": {
      "text/html": [],
      "text/plain": [
       "<IPython.core.display.HTML object>"
      ]
     },
     "metadata": {},
     "output_type": "display_data"
    },
    {
     "data": {
      "text/html": [],
      "text/plain": [
       "<IPython.core.display.HTML object>"
      ]
     },
     "metadata": {},
     "output_type": "display_data"
    },
    {
     "data": {
      "text/html": [],
      "text/plain": [
       "<IPython.core.display.HTML object>"
      ]
     },
     "metadata": {},
     "output_type": "display_data"
    },
    {
     "data": {
      "text/html": [],
      "text/plain": [
       "<IPython.core.display.HTML object>"
      ]
     },
     "metadata": {},
     "output_type": "display_data"
    },
    {
     "data": {
      "text/html": [],
      "text/plain": [
       "<IPython.core.display.HTML object>"
      ]
     },
     "metadata": {},
     "output_type": "display_data"
    },
    {
     "data": {
      "text/html": [],
      "text/plain": [
       "<IPython.core.display.HTML object>"
      ]
     },
     "metadata": {},
     "output_type": "display_data"
    },
    {
     "data": {
      "text/html": [],
      "text/plain": [
       "<IPython.core.display.HTML object>"
      ]
     },
     "metadata": {},
     "output_type": "display_data"
    },
    {
     "data": {
      "text/html": [],
      "text/plain": [
       "<IPython.core.display.HTML object>"
      ]
     },
     "metadata": {},
     "output_type": "display_data"
    },
    {
     "data": {
      "text/html": [],
      "text/plain": [
       "<IPython.core.display.HTML object>"
      ]
     },
     "metadata": {},
     "output_type": "display_data"
    },
    {
     "data": {
      "text/html": [],
      "text/plain": [
       "<IPython.core.display.HTML object>"
      ]
     },
     "metadata": {},
     "output_type": "display_data"
    },
    {
     "data": {
      "text/html": [],
      "text/plain": [
       "<IPython.core.display.HTML object>"
      ]
     },
     "metadata": {},
     "output_type": "display_data"
    },
    {
     "data": {
      "text/html": [],
      "text/plain": [
       "<IPython.core.display.HTML object>"
      ]
     },
     "metadata": {},
     "output_type": "display_data"
    },
    {
     "data": {
      "text/html": [],
      "text/plain": [
       "<IPython.core.display.HTML object>"
      ]
     },
     "metadata": {},
     "output_type": "display_data"
    },
    {
     "data": {
      "text/html": [],
      "text/plain": [
       "<IPython.core.display.HTML object>"
      ]
     },
     "metadata": {},
     "output_type": "display_data"
    },
    {
     "data": {
      "text/html": [],
      "text/plain": [
       "<IPython.core.display.HTML object>"
      ]
     },
     "metadata": {},
     "output_type": "display_data"
    },
    {
     "data": {
      "text/html": [],
      "text/plain": [
       "<IPython.core.display.HTML object>"
      ]
     },
     "metadata": {},
     "output_type": "display_data"
    },
    {
     "data": {
      "text/html": [],
      "text/plain": [
       "<IPython.core.display.HTML object>"
      ]
     },
     "metadata": {},
     "output_type": "display_data"
    },
    {
     "data": {
      "text/html": [],
      "text/plain": [
       "<IPython.core.display.HTML object>"
      ]
     },
     "metadata": {},
     "output_type": "display_data"
    },
    {
     "data": {
      "text/html": [],
      "text/plain": [
       "<IPython.core.display.HTML object>"
      ]
     },
     "metadata": {},
     "output_type": "display_data"
    },
    {
     "data": {
      "text/html": [],
      "text/plain": [
       "<IPython.core.display.HTML object>"
      ]
     },
     "metadata": {},
     "output_type": "display_data"
    },
    {
     "data": {
      "text/html": [],
      "text/plain": [
       "<IPython.core.display.HTML object>"
      ]
     },
     "metadata": {},
     "output_type": "display_data"
    },
    {
     "data": {
      "text/html": [],
      "text/plain": [
       "<IPython.core.display.HTML object>"
      ]
     },
     "metadata": {},
     "output_type": "display_data"
    },
    {
     "data": {
      "text/html": [],
      "text/plain": [
       "<IPython.core.display.HTML object>"
      ]
     },
     "metadata": {},
     "output_type": "display_data"
    },
    {
     "data": {
      "text/html": [],
      "text/plain": [
       "<IPython.core.display.HTML object>"
      ]
     },
     "metadata": {},
     "output_type": "display_data"
    },
    {
     "data": {
      "text/html": [],
      "text/plain": [
       "<IPython.core.display.HTML object>"
      ]
     },
     "metadata": {},
     "output_type": "display_data"
    },
    {
     "data": {
      "text/html": [],
      "text/plain": [
       "<IPython.core.display.HTML object>"
      ]
     },
     "metadata": {},
     "output_type": "display_data"
    },
    {
     "data": {
      "text/html": [],
      "text/plain": [
       "<IPython.core.display.HTML object>"
      ]
     },
     "metadata": {},
     "output_type": "display_data"
    },
    {
     "data": {
      "text/html": [],
      "text/plain": [
       "<IPython.core.display.HTML object>"
      ]
     },
     "metadata": {},
     "output_type": "display_data"
    },
    {
     "data": {
      "text/html": [],
      "text/plain": [
       "<IPython.core.display.HTML object>"
      ]
     },
     "metadata": {},
     "output_type": "display_data"
    },
    {
     "data": {
      "text/html": [],
      "text/plain": [
       "<IPython.core.display.HTML object>"
      ]
     },
     "metadata": {},
     "output_type": "display_data"
    },
    {
     "data": {
      "text/html": [],
      "text/plain": [
       "<IPython.core.display.HTML object>"
      ]
     },
     "metadata": {},
     "output_type": "display_data"
    },
    {
     "data": {
      "text/html": [],
      "text/plain": [
       "<IPython.core.display.HTML object>"
      ]
     },
     "metadata": {},
     "output_type": "display_data"
    },
    {
     "data": {
      "text/html": [],
      "text/plain": [
       "<IPython.core.display.HTML object>"
      ]
     },
     "metadata": {},
     "output_type": "display_data"
    },
    {
     "data": {
      "text/html": [],
      "text/plain": [
       "<IPython.core.display.HTML object>"
      ]
     },
     "metadata": {},
     "output_type": "display_data"
    },
    {
     "data": {
      "text/html": [],
      "text/plain": [
       "<IPython.core.display.HTML object>"
      ]
     },
     "metadata": {},
     "output_type": "display_data"
    },
    {
     "data": {
      "text/html": [],
      "text/plain": [
       "<IPython.core.display.HTML object>"
      ]
     },
     "metadata": {},
     "output_type": "display_data"
    },
    {
     "data": {
      "text/html": [],
      "text/plain": [
       "<IPython.core.display.HTML object>"
      ]
     },
     "metadata": {},
     "output_type": "display_data"
    },
    {
     "data": {
      "text/html": [],
      "text/plain": [
       "<IPython.core.display.HTML object>"
      ]
     },
     "metadata": {},
     "output_type": "display_data"
    },
    {
     "data": {
      "text/html": [],
      "text/plain": [
       "<IPython.core.display.HTML object>"
      ]
     },
     "metadata": {},
     "output_type": "display_data"
    },
    {
     "data": {
      "text/html": [],
      "text/plain": [
       "<IPython.core.display.HTML object>"
      ]
     },
     "metadata": {},
     "output_type": "display_data"
    },
    {
     "data": {
      "text/html": [],
      "text/plain": [
       "<IPython.core.display.HTML object>"
      ]
     },
     "metadata": {},
     "output_type": "display_data"
    },
    {
     "data": {
      "text/html": [],
      "text/plain": [
       "<IPython.core.display.HTML object>"
      ]
     },
     "metadata": {},
     "output_type": "display_data"
    },
    {
     "data": {
      "text/html": [],
      "text/plain": [
       "<IPython.core.display.HTML object>"
      ]
     },
     "metadata": {},
     "output_type": "display_data"
    },
    {
     "data": {
      "text/html": [],
      "text/plain": [
       "<IPython.core.display.HTML object>"
      ]
     },
     "metadata": {},
     "output_type": "display_data"
    },
    {
     "data": {
      "text/html": [],
      "text/plain": [
       "<IPython.core.display.HTML object>"
      ]
     },
     "metadata": {},
     "output_type": "display_data"
    },
    {
     "data": {
      "text/html": [],
      "text/plain": [
       "<IPython.core.display.HTML object>"
      ]
     },
     "metadata": {},
     "output_type": "display_data"
    },
    {
     "data": {
      "text/html": [],
      "text/plain": [
       "<IPython.core.display.HTML object>"
      ]
     },
     "metadata": {},
     "output_type": "display_data"
    },
    {
     "data": {
      "text/html": [],
      "text/plain": [
       "<IPython.core.display.HTML object>"
      ]
     },
     "metadata": {},
     "output_type": "display_data"
    },
    {
     "data": {
      "text/html": [],
      "text/plain": [
       "<IPython.core.display.HTML object>"
      ]
     },
     "metadata": {},
     "output_type": "display_data"
    },
    {
     "data": {
      "text/html": [],
      "text/plain": [
       "<IPython.core.display.HTML object>"
      ]
     },
     "metadata": {},
     "output_type": "display_data"
    },
    {
     "data": {
      "text/html": [],
      "text/plain": [
       "<IPython.core.display.HTML object>"
      ]
     },
     "metadata": {},
     "output_type": "display_data"
    },
    {
     "data": {
      "text/html": [],
      "text/plain": [
       "<IPython.core.display.HTML object>"
      ]
     },
     "metadata": {},
     "output_type": "display_data"
    },
    {
     "data": {
      "text/html": [],
      "text/plain": [
       "<IPython.core.display.HTML object>"
      ]
     },
     "metadata": {},
     "output_type": "display_data"
    },
    {
     "data": {
      "text/html": [],
      "text/plain": [
       "<IPython.core.display.HTML object>"
      ]
     },
     "metadata": {},
     "output_type": "display_data"
    },
    {
     "data": {
      "text/html": [],
      "text/plain": [
       "<IPython.core.display.HTML object>"
      ]
     },
     "metadata": {},
     "output_type": "display_data"
    },
    {
     "data": {
      "text/html": [],
      "text/plain": [
       "<IPython.core.display.HTML object>"
      ]
     },
     "metadata": {},
     "output_type": "display_data"
    },
    {
     "data": {
      "text/html": [],
      "text/plain": [
       "<IPython.core.display.HTML object>"
      ]
     },
     "metadata": {},
     "output_type": "display_data"
    },
    {
     "data": {
      "text/html": [],
      "text/plain": [
       "<IPython.core.display.HTML object>"
      ]
     },
     "metadata": {},
     "output_type": "display_data"
    },
    {
     "data": {
      "text/html": [],
      "text/plain": [
       "<IPython.core.display.HTML object>"
      ]
     },
     "metadata": {},
     "output_type": "display_data"
    },
    {
     "data": {
      "text/html": [],
      "text/plain": [
       "<IPython.core.display.HTML object>"
      ]
     },
     "metadata": {},
     "output_type": "display_data"
    },
    {
     "data": {
      "text/html": [],
      "text/plain": [
       "<IPython.core.display.HTML object>"
      ]
     },
     "metadata": {},
     "output_type": "display_data"
    },
    {
     "data": {
      "text/html": [],
      "text/plain": [
       "<IPython.core.display.HTML object>"
      ]
     },
     "metadata": {},
     "output_type": "display_data"
    },
    {
     "data": {
      "text/html": [],
      "text/plain": [
       "<IPython.core.display.HTML object>"
      ]
     },
     "metadata": {},
     "output_type": "display_data"
    },
    {
     "data": {
      "text/html": [],
      "text/plain": [
       "<IPython.core.display.HTML object>"
      ]
     },
     "metadata": {},
     "output_type": "display_data"
    },
    {
     "data": {
      "text/html": [],
      "text/plain": [
       "<IPython.core.display.HTML object>"
      ]
     },
     "metadata": {},
     "output_type": "display_data"
    },
    {
     "data": {
      "text/html": [],
      "text/plain": [
       "<IPython.core.display.HTML object>"
      ]
     },
     "metadata": {},
     "output_type": "display_data"
    },
    {
     "data": {
      "text/html": [],
      "text/plain": [
       "<IPython.core.display.HTML object>"
      ]
     },
     "metadata": {},
     "output_type": "display_data"
    },
    {
     "data": {
      "text/html": [],
      "text/plain": [
       "<IPython.core.display.HTML object>"
      ]
     },
     "metadata": {},
     "output_type": "display_data"
    },
    {
     "data": {
      "text/html": [],
      "text/plain": [
       "<IPython.core.display.HTML object>"
      ]
     },
     "metadata": {},
     "output_type": "display_data"
    },
    {
     "data": {
      "text/html": [],
      "text/plain": [
       "<IPython.core.display.HTML object>"
      ]
     },
     "metadata": {},
     "output_type": "display_data"
    },
    {
     "data": {
      "text/html": [],
      "text/plain": [
       "<IPython.core.display.HTML object>"
      ]
     },
     "metadata": {},
     "output_type": "display_data"
    },
    {
     "data": {
      "text/html": [],
      "text/plain": [
       "<IPython.core.display.HTML object>"
      ]
     },
     "metadata": {},
     "output_type": "display_data"
    },
    {
     "data": {
      "text/html": [],
      "text/plain": [
       "<IPython.core.display.HTML object>"
      ]
     },
     "metadata": {},
     "output_type": "display_data"
    },
    {
     "data": {
      "text/html": [],
      "text/plain": [
       "<IPython.core.display.HTML object>"
      ]
     },
     "metadata": {},
     "output_type": "display_data"
    },
    {
     "data": {
      "text/html": [],
      "text/plain": [
       "<IPython.core.display.HTML object>"
      ]
     },
     "metadata": {},
     "output_type": "display_data"
    },
    {
     "data": {
      "text/html": [],
      "text/plain": [
       "<IPython.core.display.HTML object>"
      ]
     },
     "metadata": {},
     "output_type": "display_data"
    },
    {
     "data": {
      "text/html": [],
      "text/plain": [
       "<IPython.core.display.HTML object>"
      ]
     },
     "metadata": {},
     "output_type": "display_data"
    },
    {
     "data": {
      "text/html": [],
      "text/plain": [
       "<IPython.core.display.HTML object>"
      ]
     },
     "metadata": {},
     "output_type": "display_data"
    },
    {
     "data": {
      "text/html": [],
      "text/plain": [
       "<IPython.core.display.HTML object>"
      ]
     },
     "metadata": {},
     "output_type": "display_data"
    },
    {
     "data": {
      "text/html": [],
      "text/plain": [
       "<IPython.core.display.HTML object>"
      ]
     },
     "metadata": {},
     "output_type": "display_data"
    },
    {
     "data": {
      "text/html": [],
      "text/plain": [
       "<IPython.core.display.HTML object>"
      ]
     },
     "metadata": {},
     "output_type": "display_data"
    },
    {
     "data": {
      "text/html": [],
      "text/plain": [
       "<IPython.core.display.HTML object>"
      ]
     },
     "metadata": {},
     "output_type": "display_data"
    },
    {
     "data": {
      "text/html": [],
      "text/plain": [
       "<IPython.core.display.HTML object>"
      ]
     },
     "metadata": {},
     "output_type": "display_data"
    },
    {
     "data": {
      "text/html": [],
      "text/plain": [
       "<IPython.core.display.HTML object>"
      ]
     },
     "metadata": {},
     "output_type": "display_data"
    },
    {
     "data": {
      "text/html": [],
      "text/plain": [
       "<IPython.core.display.HTML object>"
      ]
     },
     "metadata": {},
     "output_type": "display_data"
    },
    {
     "data": {
      "text/html": [],
      "text/plain": [
       "<IPython.core.display.HTML object>"
      ]
     },
     "metadata": {},
     "output_type": "display_data"
    },
    {
     "data": {
      "text/html": [],
      "text/plain": [
       "<IPython.core.display.HTML object>"
      ]
     },
     "metadata": {},
     "output_type": "display_data"
    },
    {
     "data": {
      "text/html": [],
      "text/plain": [
       "<IPython.core.display.HTML object>"
      ]
     },
     "metadata": {},
     "output_type": "display_data"
    },
    {
     "data": {
      "text/html": [],
      "text/plain": [
       "<IPython.core.display.HTML object>"
      ]
     },
     "metadata": {},
     "output_type": "display_data"
    },
    {
     "data": {
      "text/html": [],
      "text/plain": [
       "<IPython.core.display.HTML object>"
      ]
     },
     "metadata": {},
     "output_type": "display_data"
    },
    {
     "data": {
      "text/html": [],
      "text/plain": [
       "<IPython.core.display.HTML object>"
      ]
     },
     "metadata": {},
     "output_type": "display_data"
    },
    {
     "data": {
      "text/html": [],
      "text/plain": [
       "<IPython.core.display.HTML object>"
      ]
     },
     "metadata": {},
     "output_type": "display_data"
    },
    {
     "data": {
      "text/html": [],
      "text/plain": [
       "<IPython.core.display.HTML object>"
      ]
     },
     "metadata": {},
     "output_type": "display_data"
    },
    {
     "data": {
      "text/html": [],
      "text/plain": [
       "<IPython.core.display.HTML object>"
      ]
     },
     "metadata": {},
     "output_type": "display_data"
    },
    {
     "data": {
      "text/html": [],
      "text/plain": [
       "<IPython.core.display.HTML object>"
      ]
     },
     "metadata": {},
     "output_type": "display_data"
    },
    {
     "data": {
      "text/html": [],
      "text/plain": [
       "<IPython.core.display.HTML object>"
      ]
     },
     "metadata": {},
     "output_type": "display_data"
    },
    {
     "data": {
      "text/html": [],
      "text/plain": [
       "<IPython.core.display.HTML object>"
      ]
     },
     "metadata": {},
     "output_type": "display_data"
    },
    {
     "data": {
      "text/html": [],
      "text/plain": [
       "<IPython.core.display.HTML object>"
      ]
     },
     "metadata": {},
     "output_type": "display_data"
    },
    {
     "data": {
      "text/html": [],
      "text/plain": [
       "<IPython.core.display.HTML object>"
      ]
     },
     "metadata": {},
     "output_type": "display_data"
    },
    {
     "data": {
      "text/html": [],
      "text/plain": [
       "<IPython.core.display.HTML object>"
      ]
     },
     "metadata": {},
     "output_type": "display_data"
    },
    {
     "data": {
      "text/html": [],
      "text/plain": [
       "<IPython.core.display.HTML object>"
      ]
     },
     "metadata": {},
     "output_type": "display_data"
    },
    {
     "data": {
      "text/html": [],
      "text/plain": [
       "<IPython.core.display.HTML object>"
      ]
     },
     "metadata": {},
     "output_type": "display_data"
    },
    {
     "data": {
      "text/html": [],
      "text/plain": [
       "<IPython.core.display.HTML object>"
      ]
     },
     "metadata": {},
     "output_type": "display_data"
    },
    {
     "data": {
      "text/html": [],
      "text/plain": [
       "<IPython.core.display.HTML object>"
      ]
     },
     "metadata": {},
     "output_type": "display_data"
    },
    {
     "data": {
      "text/html": [],
      "text/plain": [
       "<IPython.core.display.HTML object>"
      ]
     },
     "metadata": {},
     "output_type": "display_data"
    },
    {
     "data": {
      "text/html": [],
      "text/plain": [
       "<IPython.core.display.HTML object>"
      ]
     },
     "metadata": {},
     "output_type": "display_data"
    },
    {
     "data": {
      "text/html": [],
      "text/plain": [
       "<IPython.core.display.HTML object>"
      ]
     },
     "metadata": {},
     "output_type": "display_data"
    },
    {
     "data": {
      "text/html": [],
      "text/plain": [
       "<IPython.core.display.HTML object>"
      ]
     },
     "metadata": {},
     "output_type": "display_data"
    },
    {
     "data": {
      "text/html": [],
      "text/plain": [
       "<IPython.core.display.HTML object>"
      ]
     },
     "metadata": {},
     "output_type": "display_data"
    },
    {
     "data": {
      "text/html": [],
      "text/plain": [
       "<IPython.core.display.HTML object>"
      ]
     },
     "metadata": {},
     "output_type": "display_data"
    },
    {
     "data": {
      "text/html": [],
      "text/plain": [
       "<IPython.core.display.HTML object>"
      ]
     },
     "metadata": {},
     "output_type": "display_data"
    },
    {
     "data": {
      "text/html": [],
      "text/plain": [
       "<IPython.core.display.HTML object>"
      ]
     },
     "metadata": {},
     "output_type": "display_data"
    },
    {
     "data": {
      "text/html": [],
      "text/plain": [
       "<IPython.core.display.HTML object>"
      ]
     },
     "metadata": {},
     "output_type": "display_data"
    },
    {
     "data": {
      "text/html": [],
      "text/plain": [
       "<IPython.core.display.HTML object>"
      ]
     },
     "metadata": {},
     "output_type": "display_data"
    },
    {
     "data": {
      "text/html": [],
      "text/plain": [
       "<IPython.core.display.HTML object>"
      ]
     },
     "metadata": {},
     "output_type": "display_data"
    },
    {
     "data": {
      "text/html": [],
      "text/plain": [
       "<IPython.core.display.HTML object>"
      ]
     },
     "metadata": {},
     "output_type": "display_data"
    },
    {
     "data": {
      "text/html": [],
      "text/plain": [
       "<IPython.core.display.HTML object>"
      ]
     },
     "metadata": {},
     "output_type": "display_data"
    },
    {
     "data": {
      "text/html": [],
      "text/plain": [
       "<IPython.core.display.HTML object>"
      ]
     },
     "metadata": {},
     "output_type": "display_data"
    },
    {
     "data": {
      "text/html": [],
      "text/plain": [
       "<IPython.core.display.HTML object>"
      ]
     },
     "metadata": {},
     "output_type": "display_data"
    },
    {
     "data": {
      "text/html": [],
      "text/plain": [
       "<IPython.core.display.HTML object>"
      ]
     },
     "metadata": {},
     "output_type": "display_data"
    },
    {
     "data": {
      "text/html": [],
      "text/plain": [
       "<IPython.core.display.HTML object>"
      ]
     },
     "metadata": {},
     "output_type": "display_data"
    },
    {
     "data": {
      "text/html": [],
      "text/plain": [
       "<IPython.core.display.HTML object>"
      ]
     },
     "metadata": {},
     "output_type": "display_data"
    },
    {
     "data": {
      "text/html": [],
      "text/plain": [
       "<IPython.core.display.HTML object>"
      ]
     },
     "metadata": {},
     "output_type": "display_data"
    },
    {
     "data": {
      "text/html": [],
      "text/plain": [
       "<IPython.core.display.HTML object>"
      ]
     },
     "metadata": {},
     "output_type": "display_data"
    },
    {
     "data": {
      "text/html": [],
      "text/plain": [
       "<IPython.core.display.HTML object>"
      ]
     },
     "metadata": {},
     "output_type": "display_data"
    },
    {
     "data": {
      "text/html": [],
      "text/plain": [
       "<IPython.core.display.HTML object>"
      ]
     },
     "metadata": {},
     "output_type": "display_data"
    },
    {
     "data": {
      "text/html": [],
      "text/plain": [
       "<IPython.core.display.HTML object>"
      ]
     },
     "metadata": {},
     "output_type": "display_data"
    },
    {
     "data": {
      "text/html": [],
      "text/plain": [
       "<IPython.core.display.HTML object>"
      ]
     },
     "metadata": {},
     "output_type": "display_data"
    },
    {
     "data": {
      "text/html": [],
      "text/plain": [
       "<IPython.core.display.HTML object>"
      ]
     },
     "metadata": {},
     "output_type": "display_data"
    },
    {
     "data": {
      "text/html": [],
      "text/plain": [
       "<IPython.core.display.HTML object>"
      ]
     },
     "metadata": {},
     "output_type": "display_data"
    },
    {
     "data": {
      "text/html": [],
      "text/plain": [
       "<IPython.core.display.HTML object>"
      ]
     },
     "metadata": {},
     "output_type": "display_data"
    },
    {
     "data": {
      "text/html": [],
      "text/plain": [
       "<IPython.core.display.HTML object>"
      ]
     },
     "metadata": {},
     "output_type": "display_data"
    },
    {
     "data": {
      "text/html": [],
      "text/plain": [
       "<IPython.core.display.HTML object>"
      ]
     },
     "metadata": {},
     "output_type": "display_data"
    },
    {
     "data": {
      "text/html": [],
      "text/plain": [
       "<IPython.core.display.HTML object>"
      ]
     },
     "metadata": {},
     "output_type": "display_data"
    },
    {
     "data": {
      "text/html": [],
      "text/plain": [
       "<IPython.core.display.HTML object>"
      ]
     },
     "metadata": {},
     "output_type": "display_data"
    },
    {
     "data": {
      "text/html": [],
      "text/plain": [
       "<IPython.core.display.HTML object>"
      ]
     },
     "metadata": {},
     "output_type": "display_data"
    },
    {
     "data": {
      "text/html": [],
      "text/plain": [
       "<IPython.core.display.HTML object>"
      ]
     },
     "metadata": {},
     "output_type": "display_data"
    },
    {
     "data": {
      "text/html": [],
      "text/plain": [
       "<IPython.core.display.HTML object>"
      ]
     },
     "metadata": {},
     "output_type": "display_data"
    },
    {
     "data": {
      "text/html": [],
      "text/plain": [
       "<IPython.core.display.HTML object>"
      ]
     },
     "metadata": {},
     "output_type": "display_data"
    },
    {
     "data": {
      "text/html": [],
      "text/plain": [
       "<IPython.core.display.HTML object>"
      ]
     },
     "metadata": {},
     "output_type": "display_data"
    },
    {
     "data": {
      "text/html": [],
      "text/plain": [
       "<IPython.core.display.HTML object>"
      ]
     },
     "metadata": {},
     "output_type": "display_data"
    },
    {
     "data": {
      "text/html": [],
      "text/plain": [
       "<IPython.core.display.HTML object>"
      ]
     },
     "metadata": {},
     "output_type": "display_data"
    },
    {
     "data": {
      "text/html": [],
      "text/plain": [
       "<IPython.core.display.HTML object>"
      ]
     },
     "metadata": {},
     "output_type": "display_data"
    },
    {
     "data": {
      "text/html": [],
      "text/plain": [
       "<IPython.core.display.HTML object>"
      ]
     },
     "metadata": {},
     "output_type": "display_data"
    },
    {
     "data": {
      "text/html": [],
      "text/plain": [
       "<IPython.core.display.HTML object>"
      ]
     },
     "metadata": {},
     "output_type": "display_data"
    },
    {
     "data": {
      "text/html": [],
      "text/plain": [
       "<IPython.core.display.HTML object>"
      ]
     },
     "metadata": {},
     "output_type": "display_data"
    },
    {
     "data": {
      "text/html": [],
      "text/plain": [
       "<IPython.core.display.HTML object>"
      ]
     },
     "metadata": {},
     "output_type": "display_data"
    },
    {
     "data": {
      "text/html": [],
      "text/plain": [
       "<IPython.core.display.HTML object>"
      ]
     },
     "metadata": {},
     "output_type": "display_data"
    },
    {
     "data": {
      "text/html": [],
      "text/plain": [
       "<IPython.core.display.HTML object>"
      ]
     },
     "metadata": {},
     "output_type": "display_data"
    },
    {
     "data": {
      "text/html": [],
      "text/plain": [
       "<IPython.core.display.HTML object>"
      ]
     },
     "metadata": {},
     "output_type": "display_data"
    },
    {
     "data": {
      "text/html": [],
      "text/plain": [
       "<IPython.core.display.HTML object>"
      ]
     },
     "metadata": {},
     "output_type": "display_data"
    },
    {
     "data": {
      "text/html": [],
      "text/plain": [
       "<IPython.core.display.HTML object>"
      ]
     },
     "metadata": {},
     "output_type": "display_data"
    },
    {
     "data": {
      "text/html": [],
      "text/plain": [
       "<IPython.core.display.HTML object>"
      ]
     },
     "metadata": {},
     "output_type": "display_data"
    },
    {
     "data": {
      "text/html": [],
      "text/plain": [
       "<IPython.core.display.HTML object>"
      ]
     },
     "metadata": {},
     "output_type": "display_data"
    },
    {
     "data": {
      "text/html": [],
      "text/plain": [
       "<IPython.core.display.HTML object>"
      ]
     },
     "metadata": {},
     "output_type": "display_data"
    },
    {
     "data": {
      "text/html": [],
      "text/plain": [
       "<IPython.core.display.HTML object>"
      ]
     },
     "metadata": {},
     "output_type": "display_data"
    },
    {
     "data": {
      "text/html": [],
      "text/plain": [
       "<IPython.core.display.HTML object>"
      ]
     },
     "metadata": {},
     "output_type": "display_data"
    },
    {
     "data": {
      "text/html": [],
      "text/plain": [
       "<IPython.core.display.HTML object>"
      ]
     },
     "metadata": {},
     "output_type": "display_data"
    },
    {
     "data": {
      "text/html": [],
      "text/plain": [
       "<IPython.core.display.HTML object>"
      ]
     },
     "metadata": {},
     "output_type": "display_data"
    },
    {
     "data": {
      "text/html": [],
      "text/plain": [
       "<IPython.core.display.HTML object>"
      ]
     },
     "metadata": {},
     "output_type": "display_data"
    },
    {
     "data": {
      "text/html": [],
      "text/plain": [
       "<IPython.core.display.HTML object>"
      ]
     },
     "metadata": {},
     "output_type": "display_data"
    },
    {
     "data": {
      "text/html": [],
      "text/plain": [
       "<IPython.core.display.HTML object>"
      ]
     },
     "metadata": {},
     "output_type": "display_data"
    },
    {
     "data": {
      "text/html": [],
      "text/plain": [
       "<IPython.core.display.HTML object>"
      ]
     },
     "metadata": {},
     "output_type": "display_data"
    },
    {
     "data": {
      "text/html": [],
      "text/plain": [
       "<IPython.core.display.HTML object>"
      ]
     },
     "metadata": {},
     "output_type": "display_data"
    },
    {
     "data": {
      "text/html": [],
      "text/plain": [
       "<IPython.core.display.HTML object>"
      ]
     },
     "metadata": {},
     "output_type": "display_data"
    },
    {
     "data": {
      "text/html": [],
      "text/plain": [
       "<IPython.core.display.HTML object>"
      ]
     },
     "metadata": {},
     "output_type": "display_data"
    },
    {
     "data": {
      "text/html": [],
      "text/plain": [
       "<IPython.core.display.HTML object>"
      ]
     },
     "metadata": {},
     "output_type": "display_data"
    },
    {
     "data": {
      "text/html": [],
      "text/plain": [
       "<IPython.core.display.HTML object>"
      ]
     },
     "metadata": {},
     "output_type": "display_data"
    },
    {
     "data": {
      "text/html": [],
      "text/plain": [
       "<IPython.core.display.HTML object>"
      ]
     },
     "metadata": {},
     "output_type": "display_data"
    },
    {
     "data": {
      "text/html": [],
      "text/plain": [
       "<IPython.core.display.HTML object>"
      ]
     },
     "metadata": {},
     "output_type": "display_data"
    },
    {
     "data": {
      "text/html": [],
      "text/plain": [
       "<IPython.core.display.HTML object>"
      ]
     },
     "metadata": {},
     "output_type": "display_data"
    },
    {
     "data": {
      "text/html": [],
      "text/plain": [
       "<IPython.core.display.HTML object>"
      ]
     },
     "metadata": {},
     "output_type": "display_data"
    },
    {
     "data": {
      "text/html": [],
      "text/plain": [
       "<IPython.core.display.HTML object>"
      ]
     },
     "metadata": {},
     "output_type": "display_data"
    },
    {
     "data": {
      "text/html": [],
      "text/plain": [
       "<IPython.core.display.HTML object>"
      ]
     },
     "metadata": {},
     "output_type": "display_data"
    },
    {
     "data": {
      "text/html": [],
      "text/plain": [
       "<IPython.core.display.HTML object>"
      ]
     },
     "metadata": {},
     "output_type": "display_data"
    },
    {
     "data": {
      "text/html": [],
      "text/plain": [
       "<IPython.core.display.HTML object>"
      ]
     },
     "metadata": {},
     "output_type": "display_data"
    },
    {
     "data": {
      "text/html": [],
      "text/plain": [
       "<IPython.core.display.HTML object>"
      ]
     },
     "metadata": {},
     "output_type": "display_data"
    },
    {
     "data": {
      "text/html": [],
      "text/plain": [
       "<IPython.core.display.HTML object>"
      ]
     },
     "metadata": {},
     "output_type": "display_data"
    },
    {
     "data": {
      "text/html": [],
      "text/plain": [
       "<IPython.core.display.HTML object>"
      ]
     },
     "metadata": {},
     "output_type": "display_data"
    },
    {
     "data": {
      "text/html": [],
      "text/plain": [
       "<IPython.core.display.HTML object>"
      ]
     },
     "metadata": {},
     "output_type": "display_data"
    },
    {
     "data": {
      "text/html": [],
      "text/plain": [
       "<IPython.core.display.HTML object>"
      ]
     },
     "metadata": {},
     "output_type": "display_data"
    },
    {
     "data": {
      "text/html": [],
      "text/plain": [
       "<IPython.core.display.HTML object>"
      ]
     },
     "metadata": {},
     "output_type": "display_data"
    },
    {
     "data": {
      "text/html": [],
      "text/plain": [
       "<IPython.core.display.HTML object>"
      ]
     },
     "metadata": {},
     "output_type": "display_data"
    },
    {
     "data": {
      "text/html": [],
      "text/plain": [
       "<IPython.core.display.HTML object>"
      ]
     },
     "metadata": {},
     "output_type": "display_data"
    },
    {
     "data": {
      "text/html": [],
      "text/plain": [
       "<IPython.core.display.HTML object>"
      ]
     },
     "metadata": {},
     "output_type": "display_data"
    },
    {
     "data": {
      "text/html": [],
      "text/plain": [
       "<IPython.core.display.HTML object>"
      ]
     },
     "metadata": {},
     "output_type": "display_data"
    },
    {
     "data": {
      "text/html": [],
      "text/plain": [
       "<IPython.core.display.HTML object>"
      ]
     },
     "metadata": {},
     "output_type": "display_data"
    },
    {
     "data": {
      "text/html": [],
      "text/plain": [
       "<IPython.core.display.HTML object>"
      ]
     },
     "metadata": {},
     "output_type": "display_data"
    },
    {
     "data": {
      "text/html": [],
      "text/plain": [
       "<IPython.core.display.HTML object>"
      ]
     },
     "metadata": {},
     "output_type": "display_data"
    },
    {
     "data": {
      "text/html": [],
      "text/plain": [
       "<IPython.core.display.HTML object>"
      ]
     },
     "metadata": {},
     "output_type": "display_data"
    },
    {
     "data": {
      "text/html": [],
      "text/plain": [
       "<IPython.core.display.HTML object>"
      ]
     },
     "metadata": {},
     "output_type": "display_data"
    },
    {
     "data": {
      "text/html": [],
      "text/plain": [
       "<IPython.core.display.HTML object>"
      ]
     },
     "metadata": {},
     "output_type": "display_data"
    },
    {
     "data": {
      "text/html": [],
      "text/plain": [
       "<IPython.core.display.HTML object>"
      ]
     },
     "metadata": {},
     "output_type": "display_data"
    },
    {
     "data": {
      "text/html": [],
      "text/plain": [
       "<IPython.core.display.HTML object>"
      ]
     },
     "metadata": {},
     "output_type": "display_data"
    },
    {
     "data": {
      "text/html": [],
      "text/plain": [
       "<IPython.core.display.HTML object>"
      ]
     },
     "metadata": {},
     "output_type": "display_data"
    },
    {
     "data": {
      "text/html": [],
      "text/plain": [
       "<IPython.core.display.HTML object>"
      ]
     },
     "metadata": {},
     "output_type": "display_data"
    },
    {
     "data": {
      "text/html": [],
      "text/plain": [
       "<IPython.core.display.HTML object>"
      ]
     },
     "metadata": {},
     "output_type": "display_data"
    },
    {
     "data": {
      "text/html": [],
      "text/plain": [
       "<IPython.core.display.HTML object>"
      ]
     },
     "metadata": {},
     "output_type": "display_data"
    },
    {
     "data": {
      "text/html": [],
      "text/plain": [
       "<IPython.core.display.HTML object>"
      ]
     },
     "metadata": {},
     "output_type": "display_data"
    },
    {
     "data": {
      "text/html": [],
      "text/plain": [
       "<IPython.core.display.HTML object>"
      ]
     },
     "metadata": {},
     "output_type": "display_data"
    },
    {
     "data": {
      "text/html": [],
      "text/plain": [
       "<IPython.core.display.HTML object>"
      ]
     },
     "metadata": {},
     "output_type": "display_data"
    },
    {
     "data": {
      "text/html": [],
      "text/plain": [
       "<IPython.core.display.HTML object>"
      ]
     },
     "metadata": {},
     "output_type": "display_data"
    },
    {
     "data": {
      "text/html": [],
      "text/plain": [
       "<IPython.core.display.HTML object>"
      ]
     },
     "metadata": {},
     "output_type": "display_data"
    },
    {
     "data": {
      "text/html": [],
      "text/plain": [
       "<IPython.core.display.HTML object>"
      ]
     },
     "metadata": {},
     "output_type": "display_data"
    },
    {
     "data": {
      "text/html": [],
      "text/plain": [
       "<IPython.core.display.HTML object>"
      ]
     },
     "metadata": {},
     "output_type": "display_data"
    },
    {
     "data": {
      "text/html": [],
      "text/plain": [
       "<IPython.core.display.HTML object>"
      ]
     },
     "metadata": {},
     "output_type": "display_data"
    },
    {
     "data": {
      "text/html": [],
      "text/plain": [
       "<IPython.core.display.HTML object>"
      ]
     },
     "metadata": {},
     "output_type": "display_data"
    },
    {
     "data": {
      "text/html": [],
      "text/plain": [
       "<IPython.core.display.HTML object>"
      ]
     },
     "metadata": {},
     "output_type": "display_data"
    },
    {
     "data": {
      "text/html": [],
      "text/plain": [
       "<IPython.core.display.HTML object>"
      ]
     },
     "metadata": {},
     "output_type": "display_data"
    },
    {
     "data": {
      "text/html": [],
      "text/plain": [
       "<IPython.core.display.HTML object>"
      ]
     },
     "metadata": {},
     "output_type": "display_data"
    },
    {
     "data": {
      "text/html": [],
      "text/plain": [
       "<IPython.core.display.HTML object>"
      ]
     },
     "metadata": {},
     "output_type": "display_data"
    },
    {
     "data": {
      "text/html": [],
      "text/plain": [
       "<IPython.core.display.HTML object>"
      ]
     },
     "metadata": {},
     "output_type": "display_data"
    },
    {
     "data": {
      "text/html": [],
      "text/plain": [
       "<IPython.core.display.HTML object>"
      ]
     },
     "metadata": {},
     "output_type": "display_data"
    },
    {
     "data": {
      "text/html": [],
      "text/plain": [
       "<IPython.core.display.HTML object>"
      ]
     },
     "metadata": {},
     "output_type": "display_data"
    },
    {
     "data": {
      "text/html": [],
      "text/plain": [
       "<IPython.core.display.HTML object>"
      ]
     },
     "metadata": {},
     "output_type": "display_data"
    },
    {
     "data": {
      "text/html": [],
      "text/plain": [
       "<IPython.core.display.HTML object>"
      ]
     },
     "metadata": {},
     "output_type": "display_data"
    },
    {
     "data": {
      "text/html": [],
      "text/plain": [
       "<IPython.core.display.HTML object>"
      ]
     },
     "metadata": {},
     "output_type": "display_data"
    },
    {
     "data": {
      "text/html": [],
      "text/plain": [
       "<IPython.core.display.HTML object>"
      ]
     },
     "metadata": {},
     "output_type": "display_data"
    },
    {
     "data": {
      "text/html": [],
      "text/plain": [
       "<IPython.core.display.HTML object>"
      ]
     },
     "metadata": {},
     "output_type": "display_data"
    },
    {
     "data": {
      "text/html": [],
      "text/plain": [
       "<IPython.core.display.HTML object>"
      ]
     },
     "metadata": {},
     "output_type": "display_data"
    },
    {
     "data": {
      "text/html": [],
      "text/plain": [
       "<IPython.core.display.HTML object>"
      ]
     },
     "metadata": {},
     "output_type": "display_data"
    },
    {
     "data": {
      "text/html": [],
      "text/plain": [
       "<IPython.core.display.HTML object>"
      ]
     },
     "metadata": {},
     "output_type": "display_data"
    },
    {
     "data": {
      "text/html": [],
      "text/plain": [
       "<IPython.core.display.HTML object>"
      ]
     },
     "metadata": {},
     "output_type": "display_data"
    },
    {
     "data": {
      "text/html": [],
      "text/plain": [
       "<IPython.core.display.HTML object>"
      ]
     },
     "metadata": {},
     "output_type": "display_data"
    },
    {
     "data": {
      "text/html": [],
      "text/plain": [
       "<IPython.core.display.HTML object>"
      ]
     },
     "metadata": {},
     "output_type": "display_data"
    },
    {
     "data": {
      "text/html": [],
      "text/plain": [
       "<IPython.core.display.HTML object>"
      ]
     },
     "metadata": {},
     "output_type": "display_data"
    },
    {
     "data": {
      "text/html": [],
      "text/plain": [
       "<IPython.core.display.HTML object>"
      ]
     },
     "metadata": {},
     "output_type": "display_data"
    },
    {
     "data": {
      "text/html": [],
      "text/plain": [
       "<IPython.core.display.HTML object>"
      ]
     },
     "metadata": {},
     "output_type": "display_data"
    },
    {
     "data": {
      "text/html": [],
      "text/plain": [
       "<IPython.core.display.HTML object>"
      ]
     },
     "metadata": {},
     "output_type": "display_data"
    },
    {
     "data": {
      "text/html": [],
      "text/plain": [
       "<IPython.core.display.HTML object>"
      ]
     },
     "metadata": {},
     "output_type": "display_data"
    },
    {
     "data": {
      "text/html": [],
      "text/plain": [
       "<IPython.core.display.HTML object>"
      ]
     },
     "metadata": {},
     "output_type": "display_data"
    },
    {
     "data": {
      "text/html": [],
      "text/plain": [
       "<IPython.core.display.HTML object>"
      ]
     },
     "metadata": {},
     "output_type": "display_data"
    },
    {
     "data": {
      "text/html": [],
      "text/plain": [
       "<IPython.core.display.HTML object>"
      ]
     },
     "metadata": {},
     "output_type": "display_data"
    },
    {
     "data": {
      "text/html": [],
      "text/plain": [
       "<IPython.core.display.HTML object>"
      ]
     },
     "metadata": {},
     "output_type": "display_data"
    },
    {
     "data": {
      "text/html": [],
      "text/plain": [
       "<IPython.core.display.HTML object>"
      ]
     },
     "metadata": {},
     "output_type": "display_data"
    },
    {
     "data": {
      "text/html": [],
      "text/plain": [
       "<IPython.core.display.HTML object>"
      ]
     },
     "metadata": {},
     "output_type": "display_data"
    },
    {
     "data": {
      "text/html": [],
      "text/plain": [
       "<IPython.core.display.HTML object>"
      ]
     },
     "metadata": {},
     "output_type": "display_data"
    },
    {
     "data": {
      "text/html": [],
      "text/plain": [
       "<IPython.core.display.HTML object>"
      ]
     },
     "metadata": {},
     "output_type": "display_data"
    },
    {
     "data": {
      "text/html": [],
      "text/plain": [
       "<IPython.core.display.HTML object>"
      ]
     },
     "metadata": {},
     "output_type": "display_data"
    },
    {
     "data": {
      "text/html": [],
      "text/plain": [
       "<IPython.core.display.HTML object>"
      ]
     },
     "metadata": {},
     "output_type": "display_data"
    },
    {
     "data": {
      "text/html": [],
      "text/plain": [
       "<IPython.core.display.HTML object>"
      ]
     },
     "metadata": {},
     "output_type": "display_data"
    },
    {
     "data": {
      "text/html": [],
      "text/plain": [
       "<IPython.core.display.HTML object>"
      ]
     },
     "metadata": {},
     "output_type": "display_data"
    },
    {
     "data": {
      "text/html": [],
      "text/plain": [
       "<IPython.core.display.HTML object>"
      ]
     },
     "metadata": {},
     "output_type": "display_data"
    },
    {
     "data": {
      "text/html": [],
      "text/plain": [
       "<IPython.core.display.HTML object>"
      ]
     },
     "metadata": {},
     "output_type": "display_data"
    },
    {
     "data": {
      "text/html": [],
      "text/plain": [
       "<IPython.core.display.HTML object>"
      ]
     },
     "metadata": {},
     "output_type": "display_data"
    },
    {
     "data": {
      "text/html": [],
      "text/plain": [
       "<IPython.core.display.HTML object>"
      ]
     },
     "metadata": {},
     "output_type": "display_data"
    },
    {
     "data": {
      "text/html": [],
      "text/plain": [
       "<IPython.core.display.HTML object>"
      ]
     },
     "metadata": {},
     "output_type": "display_data"
    },
    {
     "data": {
      "text/html": [],
      "text/plain": [
       "<IPython.core.display.HTML object>"
      ]
     },
     "metadata": {},
     "output_type": "display_data"
    },
    {
     "data": {
      "text/html": [],
      "text/plain": [
       "<IPython.core.display.HTML object>"
      ]
     },
     "metadata": {},
     "output_type": "display_data"
    },
    {
     "data": {
      "text/html": [],
      "text/plain": [
       "<IPython.core.display.HTML object>"
      ]
     },
     "metadata": {},
     "output_type": "display_data"
    },
    {
     "data": {
      "text/html": [],
      "text/plain": [
       "<IPython.core.display.HTML object>"
      ]
     },
     "metadata": {},
     "output_type": "display_data"
    },
    {
     "data": {
      "text/html": [],
      "text/plain": [
       "<IPython.core.display.HTML object>"
      ]
     },
     "metadata": {},
     "output_type": "display_data"
    },
    {
     "data": {
      "text/html": [],
      "text/plain": [
       "<IPython.core.display.HTML object>"
      ]
     },
     "metadata": {},
     "output_type": "display_data"
    },
    {
     "data": {
      "text/html": [],
      "text/plain": [
       "<IPython.core.display.HTML object>"
      ]
     },
     "metadata": {},
     "output_type": "display_data"
    },
    {
     "data": {
      "text/html": [],
      "text/plain": [
       "<IPython.core.display.HTML object>"
      ]
     },
     "metadata": {},
     "output_type": "display_data"
    },
    {
     "data": {
      "text/html": [],
      "text/plain": [
       "<IPython.core.display.HTML object>"
      ]
     },
     "metadata": {},
     "output_type": "display_data"
    },
    {
     "data": {
      "text/html": [],
      "text/plain": [
       "<IPython.core.display.HTML object>"
      ]
     },
     "metadata": {},
     "output_type": "display_data"
    },
    {
     "data": {
      "text/html": [],
      "text/plain": [
       "<IPython.core.display.HTML object>"
      ]
     },
     "metadata": {},
     "output_type": "display_data"
    },
    {
     "data": {
      "text/html": [],
      "text/plain": [
       "<IPython.core.display.HTML object>"
      ]
     },
     "metadata": {},
     "output_type": "display_data"
    },
    {
     "data": {
      "text/html": [],
      "text/plain": [
       "<IPython.core.display.HTML object>"
      ]
     },
     "metadata": {},
     "output_type": "display_data"
    },
    {
     "data": {
      "text/html": [],
      "text/plain": [
       "<IPython.core.display.HTML object>"
      ]
     },
     "metadata": {},
     "output_type": "display_data"
    },
    {
     "data": {
      "text/html": [],
      "text/plain": [
       "<IPython.core.display.HTML object>"
      ]
     },
     "metadata": {},
     "output_type": "display_data"
    },
    {
     "data": {
      "text/html": [],
      "text/plain": [
       "<IPython.core.display.HTML object>"
      ]
     },
     "metadata": {},
     "output_type": "display_data"
    },
    {
     "data": {
      "text/html": [],
      "text/plain": [
       "<IPython.core.display.HTML object>"
      ]
     },
     "metadata": {},
     "output_type": "display_data"
    },
    {
     "data": {
      "text/html": [],
      "text/plain": [
       "<IPython.core.display.HTML object>"
      ]
     },
     "metadata": {},
     "output_type": "display_data"
    },
    {
     "data": {
      "text/html": [],
      "text/plain": [
       "<IPython.core.display.HTML object>"
      ]
     },
     "metadata": {},
     "output_type": "display_data"
    },
    {
     "data": {
      "text/html": [],
      "text/plain": [
       "<IPython.core.display.HTML object>"
      ]
     },
     "metadata": {},
     "output_type": "display_data"
    },
    {
     "data": {
      "text/html": [],
      "text/plain": [
       "<IPython.core.display.HTML object>"
      ]
     },
     "metadata": {},
     "output_type": "display_data"
    },
    {
     "data": {
      "text/html": [],
      "text/plain": [
       "<IPython.core.display.HTML object>"
      ]
     },
     "metadata": {},
     "output_type": "display_data"
    },
    {
     "data": {
      "text/html": [],
      "text/plain": [
       "<IPython.core.display.HTML object>"
      ]
     },
     "metadata": {},
     "output_type": "display_data"
    },
    {
     "data": {
      "text/html": [],
      "text/plain": [
       "<IPython.core.display.HTML object>"
      ]
     },
     "metadata": {},
     "output_type": "display_data"
    },
    {
     "data": {
      "text/html": [],
      "text/plain": [
       "<IPython.core.display.HTML object>"
      ]
     },
     "metadata": {},
     "output_type": "display_data"
    },
    {
     "data": {
      "text/html": [],
      "text/plain": [
       "<IPython.core.display.HTML object>"
      ]
     },
     "metadata": {},
     "output_type": "display_data"
    },
    {
     "data": {
      "text/html": [],
      "text/plain": [
       "<IPython.core.display.HTML object>"
      ]
     },
     "metadata": {},
     "output_type": "display_data"
    },
    {
     "data": {
      "text/html": [],
      "text/plain": [
       "<IPython.core.display.HTML object>"
      ]
     },
     "metadata": {},
     "output_type": "display_data"
    },
    {
     "data": {
      "text/html": [],
      "text/plain": [
       "<IPython.core.display.HTML object>"
      ]
     },
     "metadata": {},
     "output_type": "display_data"
    },
    {
     "data": {
      "text/html": [],
      "text/plain": [
       "<IPython.core.display.HTML object>"
      ]
     },
     "metadata": {},
     "output_type": "display_data"
    },
    {
     "data": {
      "text/html": [],
      "text/plain": [
       "<IPython.core.display.HTML object>"
      ]
     },
     "metadata": {},
     "output_type": "display_data"
    },
    {
     "data": {
      "text/html": [],
      "text/plain": [
       "<IPython.core.display.HTML object>"
      ]
     },
     "metadata": {},
     "output_type": "display_data"
    },
    {
     "data": {
      "text/html": [],
      "text/plain": [
       "<IPython.core.display.HTML object>"
      ]
     },
     "metadata": {},
     "output_type": "display_data"
    },
    {
     "data": {
      "text/html": [],
      "text/plain": [
       "<IPython.core.display.HTML object>"
      ]
     },
     "metadata": {},
     "output_type": "display_data"
    },
    {
     "data": {
      "text/html": [],
      "text/plain": [
       "<IPython.core.display.HTML object>"
      ]
     },
     "metadata": {},
     "output_type": "display_data"
    },
    {
     "data": {
      "text/html": [],
      "text/plain": [
       "<IPython.core.display.HTML object>"
      ]
     },
     "metadata": {},
     "output_type": "display_data"
    },
    {
     "data": {
      "text/html": [],
      "text/plain": [
       "<IPython.core.display.HTML object>"
      ]
     },
     "metadata": {},
     "output_type": "display_data"
    },
    {
     "data": {
      "text/html": [],
      "text/plain": [
       "<IPython.core.display.HTML object>"
      ]
     },
     "metadata": {},
     "output_type": "display_data"
    },
    {
     "data": {
      "text/html": [],
      "text/plain": [
       "<IPython.core.display.HTML object>"
      ]
     },
     "metadata": {},
     "output_type": "display_data"
    },
    {
     "data": {
      "text/html": [],
      "text/plain": [
       "<IPython.core.display.HTML object>"
      ]
     },
     "metadata": {},
     "output_type": "display_data"
    },
    {
     "data": {
      "text/html": [],
      "text/plain": [
       "<IPython.core.display.HTML object>"
      ]
     },
     "metadata": {},
     "output_type": "display_data"
    },
    {
     "data": {
      "text/html": [],
      "text/plain": [
       "<IPython.core.display.HTML object>"
      ]
     },
     "metadata": {},
     "output_type": "display_data"
    },
    {
     "data": {
      "text/html": [],
      "text/plain": [
       "<IPython.core.display.HTML object>"
      ]
     },
     "metadata": {},
     "output_type": "display_data"
    },
    {
     "data": {
      "text/html": [],
      "text/plain": [
       "<IPython.core.display.HTML object>"
      ]
     },
     "metadata": {},
     "output_type": "display_data"
    },
    {
     "data": {
      "text/html": [],
      "text/plain": [
       "<IPython.core.display.HTML object>"
      ]
     },
     "metadata": {},
     "output_type": "display_data"
    },
    {
     "data": {
      "text/html": [],
      "text/plain": [
       "<IPython.core.display.HTML object>"
      ]
     },
     "metadata": {},
     "output_type": "display_data"
    },
    {
     "data": {
      "text/html": [],
      "text/plain": [
       "<IPython.core.display.HTML object>"
      ]
     },
     "metadata": {},
     "output_type": "display_data"
    },
    {
     "data": {
      "text/html": [],
      "text/plain": [
       "<IPython.core.display.HTML object>"
      ]
     },
     "metadata": {},
     "output_type": "display_data"
    },
    {
     "data": {
      "text/html": [],
      "text/plain": [
       "<IPython.core.display.HTML object>"
      ]
     },
     "metadata": {},
     "output_type": "display_data"
    },
    {
     "data": {
      "text/html": [],
      "text/plain": [
       "<IPython.core.display.HTML object>"
      ]
     },
     "metadata": {},
     "output_type": "display_data"
    },
    {
     "data": {
      "text/html": [],
      "text/plain": [
       "<IPython.core.display.HTML object>"
      ]
     },
     "metadata": {},
     "output_type": "display_data"
    },
    {
     "data": {
      "text/html": [],
      "text/plain": [
       "<IPython.core.display.HTML object>"
      ]
     },
     "metadata": {},
     "output_type": "display_data"
    },
    {
     "data": {
      "text/html": [],
      "text/plain": [
       "<IPython.core.display.HTML object>"
      ]
     },
     "metadata": {},
     "output_type": "display_data"
    },
    {
     "data": {
      "text/html": [],
      "text/plain": [
       "<IPython.core.display.HTML object>"
      ]
     },
     "metadata": {},
     "output_type": "display_data"
    },
    {
     "data": {
      "text/html": [],
      "text/plain": [
       "<IPython.core.display.HTML object>"
      ]
     },
     "metadata": {},
     "output_type": "display_data"
    },
    {
     "data": {
      "text/html": [],
      "text/plain": [
       "<IPython.core.display.HTML object>"
      ]
     },
     "metadata": {},
     "output_type": "display_data"
    },
    {
     "data": {
      "text/html": [],
      "text/plain": [
       "<IPython.core.display.HTML object>"
      ]
     },
     "metadata": {},
     "output_type": "display_data"
    },
    {
     "data": {
      "text/html": [],
      "text/plain": [
       "<IPython.core.display.HTML object>"
      ]
     },
     "metadata": {},
     "output_type": "display_data"
    },
    {
     "data": {
      "text/html": [],
      "text/plain": [
       "<IPython.core.display.HTML object>"
      ]
     },
     "metadata": {},
     "output_type": "display_data"
    },
    {
     "data": {
      "text/html": [],
      "text/plain": [
       "<IPython.core.display.HTML object>"
      ]
     },
     "metadata": {},
     "output_type": "display_data"
    },
    {
     "data": {
      "text/html": [],
      "text/plain": [
       "<IPython.core.display.HTML object>"
      ]
     },
     "metadata": {},
     "output_type": "display_data"
    },
    {
     "data": {
      "text/html": [],
      "text/plain": [
       "<IPython.core.display.HTML object>"
      ]
     },
     "metadata": {},
     "output_type": "display_data"
    },
    {
     "data": {
      "text/html": [],
      "text/plain": [
       "<IPython.core.display.HTML object>"
      ]
     },
     "metadata": {},
     "output_type": "display_data"
    },
    {
     "data": {
      "text/html": [],
      "text/plain": [
       "<IPython.core.display.HTML object>"
      ]
     },
     "metadata": {},
     "output_type": "display_data"
    },
    {
     "data": {
      "text/html": [],
      "text/plain": [
       "<IPython.core.display.HTML object>"
      ]
     },
     "metadata": {},
     "output_type": "display_data"
    },
    {
     "data": {
      "text/html": [],
      "text/plain": [
       "<IPython.core.display.HTML object>"
      ]
     },
     "metadata": {},
     "output_type": "display_data"
    },
    {
     "data": {
      "text/html": [],
      "text/plain": [
       "<IPython.core.display.HTML object>"
      ]
     },
     "metadata": {},
     "output_type": "display_data"
    },
    {
     "data": {
      "text/html": [],
      "text/plain": [
       "<IPython.core.display.HTML object>"
      ]
     },
     "metadata": {},
     "output_type": "display_data"
    },
    {
     "data": {
      "text/html": [],
      "text/plain": [
       "<IPython.core.display.HTML object>"
      ]
     },
     "metadata": {},
     "output_type": "display_data"
    },
    {
     "data": {
      "text/html": [],
      "text/plain": [
       "<IPython.core.display.HTML object>"
      ]
     },
     "metadata": {},
     "output_type": "display_data"
    },
    {
     "data": {
      "text/html": [],
      "text/plain": [
       "<IPython.core.display.HTML object>"
      ]
     },
     "metadata": {},
     "output_type": "display_data"
    },
    {
     "data": {
      "text/html": [],
      "text/plain": [
       "<IPython.core.display.HTML object>"
      ]
     },
     "metadata": {},
     "output_type": "display_data"
    },
    {
     "data": {
      "text/html": [],
      "text/plain": [
       "<IPython.core.display.HTML object>"
      ]
     },
     "metadata": {},
     "output_type": "display_data"
    },
    {
     "data": {
      "text/html": [],
      "text/plain": [
       "<IPython.core.display.HTML object>"
      ]
     },
     "metadata": {},
     "output_type": "display_data"
    },
    {
     "data": {
      "text/html": [],
      "text/plain": [
       "<IPython.core.display.HTML object>"
      ]
     },
     "metadata": {},
     "output_type": "display_data"
    },
    {
     "data": {
      "text/html": [],
      "text/plain": [
       "<IPython.core.display.HTML object>"
      ]
     },
     "metadata": {},
     "output_type": "display_data"
    },
    {
     "data": {
      "text/html": [],
      "text/plain": [
       "<IPython.core.display.HTML object>"
      ]
     },
     "metadata": {},
     "output_type": "display_data"
    },
    {
     "data": {
      "text/html": [],
      "text/plain": [
       "<IPython.core.display.HTML object>"
      ]
     },
     "metadata": {},
     "output_type": "display_data"
    },
    {
     "data": {
      "text/html": [],
      "text/plain": [
       "<IPython.core.display.HTML object>"
      ]
     },
     "metadata": {},
     "output_type": "display_data"
    },
    {
     "data": {
      "text/html": [],
      "text/plain": [
       "<IPython.core.display.HTML object>"
      ]
     },
     "metadata": {},
     "output_type": "display_data"
    },
    {
     "data": {
      "text/html": [],
      "text/plain": [
       "<IPython.core.display.HTML object>"
      ]
     },
     "metadata": {},
     "output_type": "display_data"
    },
    {
     "data": {
      "text/html": [],
      "text/plain": [
       "<IPython.core.display.HTML object>"
      ]
     },
     "metadata": {},
     "output_type": "display_data"
    },
    {
     "data": {
      "text/html": [],
      "text/plain": [
       "<IPython.core.display.HTML object>"
      ]
     },
     "metadata": {},
     "output_type": "display_data"
    },
    {
     "data": {
      "text/html": [],
      "text/plain": [
       "<IPython.core.display.HTML object>"
      ]
     },
     "metadata": {},
     "output_type": "display_data"
    },
    {
     "data": {
      "text/html": [],
      "text/plain": [
       "<IPython.core.display.HTML object>"
      ]
     },
     "metadata": {},
     "output_type": "display_data"
    },
    {
     "data": {
      "text/html": [],
      "text/plain": [
       "<IPython.core.display.HTML object>"
      ]
     },
     "metadata": {},
     "output_type": "display_data"
    },
    {
     "data": {
      "text/html": [],
      "text/plain": [
       "<IPython.core.display.HTML object>"
      ]
     },
     "metadata": {},
     "output_type": "display_data"
    },
    {
     "data": {
      "text/html": [],
      "text/plain": [
       "<IPython.core.display.HTML object>"
      ]
     },
     "metadata": {},
     "output_type": "display_data"
    },
    {
     "data": {
      "text/html": [],
      "text/plain": [
       "<IPython.core.display.HTML object>"
      ]
     },
     "metadata": {},
     "output_type": "display_data"
    },
    {
     "data": {
      "text/html": [],
      "text/plain": [
       "<IPython.core.display.HTML object>"
      ]
     },
     "metadata": {},
     "output_type": "display_data"
    },
    {
     "data": {
      "text/html": [],
      "text/plain": [
       "<IPython.core.display.HTML object>"
      ]
     },
     "metadata": {},
     "output_type": "display_data"
    },
    {
     "data": {
      "text/html": [],
      "text/plain": [
       "<IPython.core.display.HTML object>"
      ]
     },
     "metadata": {},
     "output_type": "display_data"
    },
    {
     "data": {
      "text/html": [],
      "text/plain": [
       "<IPython.core.display.HTML object>"
      ]
     },
     "metadata": {},
     "output_type": "display_data"
    },
    {
     "data": {
      "text/html": [],
      "text/plain": [
       "<IPython.core.display.HTML object>"
      ]
     },
     "metadata": {},
     "output_type": "display_data"
    },
    {
     "data": {
      "text/html": [],
      "text/plain": [
       "<IPython.core.display.HTML object>"
      ]
     },
     "metadata": {},
     "output_type": "display_data"
    },
    {
     "data": {
      "text/html": [],
      "text/plain": [
       "<IPython.core.display.HTML object>"
      ]
     },
     "metadata": {},
     "output_type": "display_data"
    },
    {
     "data": {
      "text/html": [],
      "text/plain": [
       "<IPython.core.display.HTML object>"
      ]
     },
     "metadata": {},
     "output_type": "display_data"
    },
    {
     "data": {
      "text/html": [],
      "text/plain": [
       "<IPython.core.display.HTML object>"
      ]
     },
     "metadata": {},
     "output_type": "display_data"
    },
    {
     "data": {
      "text/html": [],
      "text/plain": [
       "<IPython.core.display.HTML object>"
      ]
     },
     "metadata": {},
     "output_type": "display_data"
    },
    {
     "data": {
      "text/html": [],
      "text/plain": [
       "<IPython.core.display.HTML object>"
      ]
     },
     "metadata": {},
     "output_type": "display_data"
    },
    {
     "data": {
      "text/html": [],
      "text/plain": [
       "<IPython.core.display.HTML object>"
      ]
     },
     "metadata": {},
     "output_type": "display_data"
    },
    {
     "data": {
      "text/html": [],
      "text/plain": [
       "<IPython.core.display.HTML object>"
      ]
     },
     "metadata": {},
     "output_type": "display_data"
    },
    {
     "data": {
      "text/html": [],
      "text/plain": [
       "<IPython.core.display.HTML object>"
      ]
     },
     "metadata": {},
     "output_type": "display_data"
    },
    {
     "data": {
      "text/html": [],
      "text/plain": [
       "<IPython.core.display.HTML object>"
      ]
     },
     "metadata": {},
     "output_type": "display_data"
    },
    {
     "data": {
      "text/html": [],
      "text/plain": [
       "<IPython.core.display.HTML object>"
      ]
     },
     "metadata": {},
     "output_type": "display_data"
    },
    {
     "data": {
      "text/html": [],
      "text/plain": [
       "<IPython.core.display.HTML object>"
      ]
     },
     "metadata": {},
     "output_type": "display_data"
    },
    {
     "data": {
      "text/html": [],
      "text/plain": [
       "<IPython.core.display.HTML object>"
      ]
     },
     "metadata": {},
     "output_type": "display_data"
    },
    {
     "data": {
      "text/html": [],
      "text/plain": [
       "<IPython.core.display.HTML object>"
      ]
     },
     "metadata": {},
     "output_type": "display_data"
    },
    {
     "data": {
      "text/html": [],
      "text/plain": [
       "<IPython.core.display.HTML object>"
      ]
     },
     "metadata": {},
     "output_type": "display_data"
    },
    {
     "data": {
      "text/html": [],
      "text/plain": [
       "<IPython.core.display.HTML object>"
      ]
     },
     "metadata": {},
     "output_type": "display_data"
    },
    {
     "data": {
      "text/html": [],
      "text/plain": [
       "<IPython.core.display.HTML object>"
      ]
     },
     "metadata": {},
     "output_type": "display_data"
    },
    {
     "data": {
      "text/html": [],
      "text/plain": [
       "<IPython.core.display.HTML object>"
      ]
     },
     "metadata": {},
     "output_type": "display_data"
    },
    {
     "data": {
      "text/html": [],
      "text/plain": [
       "<IPython.core.display.HTML object>"
      ]
     },
     "metadata": {},
     "output_type": "display_data"
    },
    {
     "data": {
      "text/html": [],
      "text/plain": [
       "<IPython.core.display.HTML object>"
      ]
     },
     "metadata": {},
     "output_type": "display_data"
    },
    {
     "data": {
      "text/html": [],
      "text/plain": [
       "<IPython.core.display.HTML object>"
      ]
     },
     "metadata": {},
     "output_type": "display_data"
    },
    {
     "data": {
      "text/html": [],
      "text/plain": [
       "<IPython.core.display.HTML object>"
      ]
     },
     "metadata": {},
     "output_type": "display_data"
    },
    {
     "data": {
      "text/html": [],
      "text/plain": [
       "<IPython.core.display.HTML object>"
      ]
     },
     "metadata": {},
     "output_type": "display_data"
    },
    {
     "data": {
      "text/html": [],
      "text/plain": [
       "<IPython.core.display.HTML object>"
      ]
     },
     "metadata": {},
     "output_type": "display_data"
    },
    {
     "data": {
      "text/html": [],
      "text/plain": [
       "<IPython.core.display.HTML object>"
      ]
     },
     "metadata": {},
     "output_type": "display_data"
    },
    {
     "data": {
      "text/html": [],
      "text/plain": [
       "<IPython.core.display.HTML object>"
      ]
     },
     "metadata": {},
     "output_type": "display_data"
    },
    {
     "data": {
      "text/html": [],
      "text/plain": [
       "<IPython.core.display.HTML object>"
      ]
     },
     "metadata": {},
     "output_type": "display_data"
    },
    {
     "data": {
      "text/html": [],
      "text/plain": [
       "<IPython.core.display.HTML object>"
      ]
     },
     "metadata": {},
     "output_type": "display_data"
    },
    {
     "data": {
      "text/html": [],
      "text/plain": [
       "<IPython.core.display.HTML object>"
      ]
     },
     "metadata": {},
     "output_type": "display_data"
    },
    {
     "data": {
      "text/html": [],
      "text/plain": [
       "<IPython.core.display.HTML object>"
      ]
     },
     "metadata": {},
     "output_type": "display_data"
    },
    {
     "data": {
      "text/html": [],
      "text/plain": [
       "<IPython.core.display.HTML object>"
      ]
     },
     "metadata": {},
     "output_type": "display_data"
    },
    {
     "data": {
      "text/html": [],
      "text/plain": [
       "<IPython.core.display.HTML object>"
      ]
     },
     "metadata": {},
     "output_type": "display_data"
    },
    {
     "data": {
      "text/html": [],
      "text/plain": [
       "<IPython.core.display.HTML object>"
      ]
     },
     "metadata": {},
     "output_type": "display_data"
    },
    {
     "data": {
      "text/html": [],
      "text/plain": [
       "<IPython.core.display.HTML object>"
      ]
     },
     "metadata": {},
     "output_type": "display_data"
    },
    {
     "data": {
      "text/html": [],
      "text/plain": [
       "<IPython.core.display.HTML object>"
      ]
     },
     "metadata": {},
     "output_type": "display_data"
    },
    {
     "data": {
      "text/html": [],
      "text/plain": [
       "<IPython.core.display.HTML object>"
      ]
     },
     "metadata": {},
     "output_type": "display_data"
    },
    {
     "data": {
      "text/html": [],
      "text/plain": [
       "<IPython.core.display.HTML object>"
      ]
     },
     "metadata": {},
     "output_type": "display_data"
    },
    {
     "data": {
      "text/html": [],
      "text/plain": [
       "<IPython.core.display.HTML object>"
      ]
     },
     "metadata": {},
     "output_type": "display_data"
    },
    {
     "data": {
      "text/html": [],
      "text/plain": [
       "<IPython.core.display.HTML object>"
      ]
     },
     "metadata": {},
     "output_type": "display_data"
    },
    {
     "data": {
      "text/html": [],
      "text/plain": [
       "<IPython.core.display.HTML object>"
      ]
     },
     "metadata": {},
     "output_type": "display_data"
    },
    {
     "data": {
      "text/html": [],
      "text/plain": [
       "<IPython.core.display.HTML object>"
      ]
     },
     "metadata": {},
     "output_type": "display_data"
    },
    {
     "data": {
      "text/html": [],
      "text/plain": [
       "<IPython.core.display.HTML object>"
      ]
     },
     "metadata": {},
     "output_type": "display_data"
    },
    {
     "data": {
      "text/html": [],
      "text/plain": [
       "<IPython.core.display.HTML object>"
      ]
     },
     "metadata": {},
     "output_type": "display_data"
    },
    {
     "data": {
      "text/html": [],
      "text/plain": [
       "<IPython.core.display.HTML object>"
      ]
     },
     "metadata": {},
     "output_type": "display_data"
    },
    {
     "data": {
      "text/html": [],
      "text/plain": [
       "<IPython.core.display.HTML object>"
      ]
     },
     "metadata": {},
     "output_type": "display_data"
    },
    {
     "data": {
      "text/html": [],
      "text/plain": [
       "<IPython.core.display.HTML object>"
      ]
     },
     "metadata": {},
     "output_type": "display_data"
    },
    {
     "data": {
      "text/html": [],
      "text/plain": [
       "<IPython.core.display.HTML object>"
      ]
     },
     "metadata": {},
     "output_type": "display_data"
    },
    {
     "data": {
      "text/html": [],
      "text/plain": [
       "<IPython.core.display.HTML object>"
      ]
     },
     "metadata": {},
     "output_type": "display_data"
    },
    {
     "data": {
      "text/html": [],
      "text/plain": [
       "<IPython.core.display.HTML object>"
      ]
     },
     "metadata": {},
     "output_type": "display_data"
    },
    {
     "data": {
      "text/html": [],
      "text/plain": [
       "<IPython.core.display.HTML object>"
      ]
     },
     "metadata": {},
     "output_type": "display_data"
    },
    {
     "data": {
      "text/html": [],
      "text/plain": [
       "<IPython.core.display.HTML object>"
      ]
     },
     "metadata": {},
     "output_type": "display_data"
    },
    {
     "data": {
      "text/html": [],
      "text/plain": [
       "<IPython.core.display.HTML object>"
      ]
     },
     "metadata": {},
     "output_type": "display_data"
    },
    {
     "data": {
      "text/html": [],
      "text/plain": [
       "<IPython.core.display.HTML object>"
      ]
     },
     "metadata": {},
     "output_type": "display_data"
    },
    {
     "data": {
      "text/html": [],
      "text/plain": [
       "<IPython.core.display.HTML object>"
      ]
     },
     "metadata": {},
     "output_type": "display_data"
    },
    {
     "data": {
      "text/html": [],
      "text/plain": [
       "<IPython.core.display.HTML object>"
      ]
     },
     "metadata": {},
     "output_type": "display_data"
    },
    {
     "data": {
      "text/html": [],
      "text/plain": [
       "<IPython.core.display.HTML object>"
      ]
     },
     "metadata": {},
     "output_type": "display_data"
    },
    {
     "data": {
      "text/html": [],
      "text/plain": [
       "<IPython.core.display.HTML object>"
      ]
     },
     "metadata": {},
     "output_type": "display_data"
    },
    {
     "data": {
      "text/html": [],
      "text/plain": [
       "<IPython.core.display.HTML object>"
      ]
     },
     "metadata": {},
     "output_type": "display_data"
    },
    {
     "data": {
      "text/html": [],
      "text/plain": [
       "<IPython.core.display.HTML object>"
      ]
     },
     "metadata": {},
     "output_type": "display_data"
    },
    {
     "data": {
      "text/html": [],
      "text/plain": [
       "<IPython.core.display.HTML object>"
      ]
     },
     "metadata": {},
     "output_type": "display_data"
    },
    {
     "data": {
      "text/html": [],
      "text/plain": [
       "<IPython.core.display.HTML object>"
      ]
     },
     "metadata": {},
     "output_type": "display_data"
    },
    {
     "data": {
      "text/html": [],
      "text/plain": [
       "<IPython.core.display.HTML object>"
      ]
     },
     "metadata": {},
     "output_type": "display_data"
    },
    {
     "data": {
      "text/html": [],
      "text/plain": [
       "<IPython.core.display.HTML object>"
      ]
     },
     "metadata": {},
     "output_type": "display_data"
    },
    {
     "data": {
      "text/html": [],
      "text/plain": [
       "<IPython.core.display.HTML object>"
      ]
     },
     "metadata": {},
     "output_type": "display_data"
    },
    {
     "data": {
      "text/html": [],
      "text/plain": [
       "<IPython.core.display.HTML object>"
      ]
     },
     "metadata": {},
     "output_type": "display_data"
    },
    {
     "data": {
      "text/html": [],
      "text/plain": [
       "<IPython.core.display.HTML object>"
      ]
     },
     "metadata": {},
     "output_type": "display_data"
    },
    {
     "data": {
      "text/html": [],
      "text/plain": [
       "<IPython.core.display.HTML object>"
      ]
     },
     "metadata": {},
     "output_type": "display_data"
    },
    {
     "data": {
      "text/html": [],
      "text/plain": [
       "<IPython.core.display.HTML object>"
      ]
     },
     "metadata": {},
     "output_type": "display_data"
    },
    {
     "data": {
      "text/html": [],
      "text/plain": [
       "<IPython.core.display.HTML object>"
      ]
     },
     "metadata": {},
     "output_type": "display_data"
    },
    {
     "data": {
      "text/html": [],
      "text/plain": [
       "<IPython.core.display.HTML object>"
      ]
     },
     "metadata": {},
     "output_type": "display_data"
    },
    {
     "data": {
      "text/html": [],
      "text/plain": [
       "<IPython.core.display.HTML object>"
      ]
     },
     "metadata": {},
     "output_type": "display_data"
    },
    {
     "data": {
      "text/html": [],
      "text/plain": [
       "<IPython.core.display.HTML object>"
      ]
     },
     "metadata": {},
     "output_type": "display_data"
    },
    {
     "data": {
      "text/html": [],
      "text/plain": [
       "<IPython.core.display.HTML object>"
      ]
     },
     "metadata": {},
     "output_type": "display_data"
    },
    {
     "data": {
      "text/html": [],
      "text/plain": [
       "<IPython.core.display.HTML object>"
      ]
     },
     "metadata": {},
     "output_type": "display_data"
    },
    {
     "data": {
      "text/html": [],
      "text/plain": [
       "<IPython.core.display.HTML object>"
      ]
     },
     "metadata": {},
     "output_type": "display_data"
    },
    {
     "data": {
      "text/html": [],
      "text/plain": [
       "<IPython.core.display.HTML object>"
      ]
     },
     "metadata": {},
     "output_type": "display_data"
    },
    {
     "data": {
      "text/html": [],
      "text/plain": [
       "<IPython.core.display.HTML object>"
      ]
     },
     "metadata": {},
     "output_type": "display_data"
    },
    {
     "data": {
      "text/html": [],
      "text/plain": [
       "<IPython.core.display.HTML object>"
      ]
     },
     "metadata": {},
     "output_type": "display_data"
    },
    {
     "data": {
      "text/html": [],
      "text/plain": [
       "<IPython.core.display.HTML object>"
      ]
     },
     "metadata": {},
     "output_type": "display_data"
    },
    {
     "data": {
      "text/html": [],
      "text/plain": [
       "<IPython.core.display.HTML object>"
      ]
     },
     "metadata": {},
     "output_type": "display_data"
    },
    {
     "data": {
      "text/html": [],
      "text/plain": [
       "<IPython.core.display.HTML object>"
      ]
     },
     "metadata": {},
     "output_type": "display_data"
    },
    {
     "data": {
      "text/html": [],
      "text/plain": [
       "<IPython.core.display.HTML object>"
      ]
     },
     "metadata": {},
     "output_type": "display_data"
    },
    {
     "data": {
      "text/html": [],
      "text/plain": [
       "<IPython.core.display.HTML object>"
      ]
     },
     "metadata": {},
     "output_type": "display_data"
    },
    {
     "data": {
      "text/html": [],
      "text/plain": [
       "<IPython.core.display.HTML object>"
      ]
     },
     "metadata": {},
     "output_type": "display_data"
    },
    {
     "data": {
      "text/html": [],
      "text/plain": [
       "<IPython.core.display.HTML object>"
      ]
     },
     "metadata": {},
     "output_type": "display_data"
    },
    {
     "data": {
      "text/html": [],
      "text/plain": [
       "<IPython.core.display.HTML object>"
      ]
     },
     "metadata": {},
     "output_type": "display_data"
    },
    {
     "data": {
      "text/html": [],
      "text/plain": [
       "<IPython.core.display.HTML object>"
      ]
     },
     "metadata": {},
     "output_type": "display_data"
    },
    {
     "data": {
      "text/html": [],
      "text/plain": [
       "<IPython.core.display.HTML object>"
      ]
     },
     "metadata": {},
     "output_type": "display_data"
    },
    {
     "data": {
      "text/html": [],
      "text/plain": [
       "<IPython.core.display.HTML object>"
      ]
     },
     "metadata": {},
     "output_type": "display_data"
    },
    {
     "data": {
      "text/html": [],
      "text/plain": [
       "<IPython.core.display.HTML object>"
      ]
     },
     "metadata": {},
     "output_type": "display_data"
    },
    {
     "data": {
      "text/html": [],
      "text/plain": [
       "<IPython.core.display.HTML object>"
      ]
     },
     "metadata": {},
     "output_type": "display_data"
    },
    {
     "data": {
      "text/html": [],
      "text/plain": [
       "<IPython.core.display.HTML object>"
      ]
     },
     "metadata": {},
     "output_type": "display_data"
    },
    {
     "data": {
      "text/html": [],
      "text/plain": [
       "<IPython.core.display.HTML object>"
      ]
     },
     "metadata": {},
     "output_type": "display_data"
    },
    {
     "data": {
      "text/html": [],
      "text/plain": [
       "<IPython.core.display.HTML object>"
      ]
     },
     "metadata": {},
     "output_type": "display_data"
    },
    {
     "data": {
      "text/html": [],
      "text/plain": [
       "<IPython.core.display.HTML object>"
      ]
     },
     "metadata": {},
     "output_type": "display_data"
    },
    {
     "data": {
      "text/html": [],
      "text/plain": [
       "<IPython.core.display.HTML object>"
      ]
     },
     "metadata": {},
     "output_type": "display_data"
    },
    {
     "data": {
      "text/html": [],
      "text/plain": [
       "<IPython.core.display.HTML object>"
      ]
     },
     "metadata": {},
     "output_type": "display_data"
    },
    {
     "data": {
      "text/html": [],
      "text/plain": [
       "<IPython.core.display.HTML object>"
      ]
     },
     "metadata": {},
     "output_type": "display_data"
    },
    {
     "data": {
      "text/html": [],
      "text/plain": [
       "<IPython.core.display.HTML object>"
      ]
     },
     "metadata": {},
     "output_type": "display_data"
    },
    {
     "data": {
      "text/html": [],
      "text/plain": [
       "<IPython.core.display.HTML object>"
      ]
     },
     "metadata": {},
     "output_type": "display_data"
    },
    {
     "data": {
      "text/html": [],
      "text/plain": [
       "<IPython.core.display.HTML object>"
      ]
     },
     "metadata": {},
     "output_type": "display_data"
    },
    {
     "data": {
      "text/html": [],
      "text/plain": [
       "<IPython.core.display.HTML object>"
      ]
     },
     "metadata": {},
     "output_type": "display_data"
    },
    {
     "data": {
      "text/html": [],
      "text/plain": [
       "<IPython.core.display.HTML object>"
      ]
     },
     "metadata": {},
     "output_type": "display_data"
    },
    {
     "data": {
      "text/html": [],
      "text/plain": [
       "<IPython.core.display.HTML object>"
      ]
     },
     "metadata": {},
     "output_type": "display_data"
    },
    {
     "data": {
      "text/html": [],
      "text/plain": [
       "<IPython.core.display.HTML object>"
      ]
     },
     "metadata": {},
     "output_type": "display_data"
    },
    {
     "data": {
      "text/html": [],
      "text/plain": [
       "<IPython.core.display.HTML object>"
      ]
     },
     "metadata": {},
     "output_type": "display_data"
    },
    {
     "data": {
      "text/html": [],
      "text/plain": [
       "<IPython.core.display.HTML object>"
      ]
     },
     "metadata": {},
     "output_type": "display_data"
    },
    {
     "data": {
      "text/html": [],
      "text/plain": [
       "<IPython.core.display.HTML object>"
      ]
     },
     "metadata": {},
     "output_type": "display_data"
    },
    {
     "data": {
      "text/html": [],
      "text/plain": [
       "<IPython.core.display.HTML object>"
      ]
     },
     "metadata": {},
     "output_type": "display_data"
    },
    {
     "data": {
      "text/html": [],
      "text/plain": [
       "<IPython.core.display.HTML object>"
      ]
     },
     "metadata": {},
     "output_type": "display_data"
    },
    {
     "data": {
      "text/html": [],
      "text/plain": [
       "<IPython.core.display.HTML object>"
      ]
     },
     "metadata": {},
     "output_type": "display_data"
    },
    {
     "data": {
      "text/html": [],
      "text/plain": [
       "<IPython.core.display.HTML object>"
      ]
     },
     "metadata": {},
     "output_type": "display_data"
    },
    {
     "data": {
      "text/html": [],
      "text/plain": [
       "<IPython.core.display.HTML object>"
      ]
     },
     "metadata": {},
     "output_type": "display_data"
    },
    {
     "data": {
      "text/html": [],
      "text/plain": [
       "<IPython.core.display.HTML object>"
      ]
     },
     "metadata": {},
     "output_type": "display_data"
    },
    {
     "data": {
      "text/html": [],
      "text/plain": [
       "<IPython.core.display.HTML object>"
      ]
     },
     "metadata": {},
     "output_type": "display_data"
    },
    {
     "data": {
      "text/html": [],
      "text/plain": [
       "<IPython.core.display.HTML object>"
      ]
     },
     "metadata": {},
     "output_type": "display_data"
    },
    {
     "data": {
      "text/html": [],
      "text/plain": [
       "<IPython.core.display.HTML object>"
      ]
     },
     "metadata": {},
     "output_type": "display_data"
    },
    {
     "data": {
      "text/html": [],
      "text/plain": [
       "<IPython.core.display.HTML object>"
      ]
     },
     "metadata": {},
     "output_type": "display_data"
    },
    {
     "data": {
      "text/html": [],
      "text/plain": [
       "<IPython.core.display.HTML object>"
      ]
     },
     "metadata": {},
     "output_type": "display_data"
    },
    {
     "data": {
      "text/html": [],
      "text/plain": [
       "<IPython.core.display.HTML object>"
      ]
     },
     "metadata": {},
     "output_type": "display_data"
    },
    {
     "data": {
      "text/html": [],
      "text/plain": [
       "<IPython.core.display.HTML object>"
      ]
     },
     "metadata": {},
     "output_type": "display_data"
    },
    {
     "data": {
      "text/html": [],
      "text/plain": [
       "<IPython.core.display.HTML object>"
      ]
     },
     "metadata": {},
     "output_type": "display_data"
    },
    {
     "data": {
      "text/html": [],
      "text/plain": [
       "<IPython.core.display.HTML object>"
      ]
     },
     "metadata": {},
     "output_type": "display_data"
    },
    {
     "data": {
      "text/html": [],
      "text/plain": [
       "<IPython.core.display.HTML object>"
      ]
     },
     "metadata": {},
     "output_type": "display_data"
    },
    {
     "data": {
      "text/html": [],
      "text/plain": [
       "<IPython.core.display.HTML object>"
      ]
     },
     "metadata": {},
     "output_type": "display_data"
    },
    {
     "data": {
      "text/html": [],
      "text/plain": [
       "<IPython.core.display.HTML object>"
      ]
     },
     "metadata": {},
     "output_type": "display_data"
    },
    {
     "data": {
      "text/html": [],
      "text/plain": [
       "<IPython.core.display.HTML object>"
      ]
     },
     "metadata": {},
     "output_type": "display_data"
    },
    {
     "data": {
      "text/html": [],
      "text/plain": [
       "<IPython.core.display.HTML object>"
      ]
     },
     "metadata": {},
     "output_type": "display_data"
    },
    {
     "data": {
      "text/html": [],
      "text/plain": [
       "<IPython.core.display.HTML object>"
      ]
     },
     "metadata": {},
     "output_type": "display_data"
    },
    {
     "data": {
      "text/html": [],
      "text/plain": [
       "<IPython.core.display.HTML object>"
      ]
     },
     "metadata": {},
     "output_type": "display_data"
    },
    {
     "data": {
      "text/html": [],
      "text/plain": [
       "<IPython.core.display.HTML object>"
      ]
     },
     "metadata": {},
     "output_type": "display_data"
    },
    {
     "data": {
      "text/html": [],
      "text/plain": [
       "<IPython.core.display.HTML object>"
      ]
     },
     "metadata": {},
     "output_type": "display_data"
    },
    {
     "data": {
      "text/html": [],
      "text/plain": [
       "<IPython.core.display.HTML object>"
      ]
     },
     "metadata": {},
     "output_type": "display_data"
    },
    {
     "data": {
      "text/html": [],
      "text/plain": [
       "<IPython.core.display.HTML object>"
      ]
     },
     "metadata": {},
     "output_type": "display_data"
    },
    {
     "data": {
      "text/html": [],
      "text/plain": [
       "<IPython.core.display.HTML object>"
      ]
     },
     "metadata": {},
     "output_type": "display_data"
    }
   ],
   "source": [
    "# tables_types = ttp.predict(paper, paper.tables)\n",
    "#         for table, table_type in zip(paper.tables, tables_types):\n",
    "#             table.gold_tags = table_labels[table_type]\n",
    "#             table_info[k].append(table.gold_tags)\n",
    "zero_tables = []\n",
    "table_info = {}\n",
    "# save_new_labels = {}\n",
    "\n",
    "diff_labels = [\"leaderboard\", \"ablation\", \"irrelevant\"]\n",
    "\n",
    "for k in table_types_absent:\n",
    "    arxivid = iclr_arxiv_map[k][\"arxivId\"]\n",
    "    paper = pc.get_by_id(arxivid)\n",
    "    \n",
    "    if len(paper.tables) > 0:\n",
    "        if paper.tables[0].gold_tags.strip() == \"\":\n",
    "            table_info[k] = []\n",
    "            \n",
    "            tables_types = ttp.predict(paper, paper.tables)\n",
    "            \n",
    "            for table, table_type in zip(paper.tables, tables_types):\n",
    "                table.gold_tags = table_labels[table_type]\n",
    "                table_info[k].append(table.gold_tags)\n",
    "                \n",
    "        elif paper.tables[0].gold_tags.strip() in diff_labels:\n",
    "            continue\n",
    "        else:\n",
    "            print(\"Something table label found for k:{} as: {}!\".format(k, paper.tables[0].gold_tags))\n",
    "    else:\n",
    "        zero_tables.append(k)"
   ]
  },
  {
   "cell_type": "code",
   "execution_count": null,
   "metadata": {},
   "outputs": [],
   "source": []
  },
  {
   "cell_type": "code",
   "execution_count": 247,
   "metadata": {},
   "outputs": [
    {
     "data": {
      "text/plain": [
       "'1806.03852v1'"
      ]
     },
     "execution_count": 247,
     "metadata": {},
     "output_type": "execute_result"
    }
   ],
   "source": [
    "iclr_arxiv_map[\"2018_ByJWeR1AW\"][\"arxivId\"]"
   ]
  },
  {
   "cell_type": "code",
   "execution_count": 248,
   "metadata": {},
   "outputs": [
    {
     "name": "stdout",
     "output_type": "stream",
     "text": [
      "9\n"
     ]
    },
    {
     "data": {
      "text/html": [],
      "text/plain": [
       "<IPython.core.display.HTML object>"
      ]
     },
     "metadata": {},
     "output_type": "display_data"
    },
    {
     "data": {
      "text/html": [],
      "text/plain": [
       "<IPython.core.display.HTML object>"
      ]
     },
     "metadata": {},
     "output_type": "display_data"
    },
    {
     "name": "stdout",
     "output_type": "stream",
     "text": [
      "[<TableType.ABLATION: 1>, <TableType.ABLATION: 1>, <TableType.IRRELEVANT: 2>, <TableType.IRRELEVANT: 2>, <TableType.ABLATION: 1>, <TableType.ABLATION: 1>, <TableType.SOTA: 0>, <TableType.ABLATION: 1>, <TableType.IRRELEVANT: 2>]\n"
     ]
    }
   ],
   "source": [
    "paper = pc.get_by_id(\"1806.03852v1\")\n",
    "print(len(paper.tables))\n",
    "tables_types = ttp.predict(paper, paper.tables)\n",
    "print(tables_types)"
   ]
  },
  {
   "cell_type": "code",
   "execution_count": 174,
   "metadata": {},
   "outputs": [
    {
     "data": {
      "text/plain": [
       "(0, 2162)"
      ]
     },
     "execution_count": 174,
     "metadata": {},
     "output_type": "execute_result"
    }
   ],
   "source": [
    "len(zero_tables), len(table_info)"
   ]
  },
  {
   "cell_type": "markdown",
   "metadata": {},
   "source": [
    "#### 1.3 UPdate section 1.1 again using new table label info"
   ]
  },
  {
   "cell_type": "code",
   "execution_count": 241,
   "metadata": {},
   "outputs": [],
   "source": [
    "unextracted_papers = []\n",
    "still_table_types_absent = []\n",
    "new_table_counts = defaultdict(dict)\n",
    "new_zero_counts = defaultdict(dict)\n",
    "\n",
    "status_count = 0"
   ]
  },
  {
   "cell_type": "code",
   "execution_count": 242,
   "metadata": {},
   "outputs": [
    {
     "name": "stdout",
     "output_type": "stream",
     "text": [
      "Status:  0\n",
      "Status:  100\n",
      "Status:  200\n",
      "For k: 2018_ByJWeR1AW, found unknown table type: \n",
      "For k: 2018_ByJWeR1AW, found unknown table type: \n",
      "Status:  300\n",
      "Status:  400\n",
      "Status:  500\n",
      "Status:  500\n",
      "Status:  600\n",
      "Status:  700\n",
      "Status:  800\n",
      "Status:  900\n",
      "Status:  900\n",
      "Status:  1000\n",
      "Status:  1100\n",
      "Status:  1200\n",
      "Status:  1300\n",
      "Status:  1400\n",
      "For k: 2020_H1eqOnNYDH, found unknown table type: \n",
      "For k: 2020_H1eqOnNYDH, found unknown table type: \n",
      "Status:  1500\n",
      "Status:  1600\n",
      "Status:  1700\n",
      "Status:  1800\n",
      "Status:  1900\n"
     ]
    }
   ],
   "source": [
    "for k, v in iclr_arxiv_map.items():\n",
    "    if v[\"found\"]:\n",
    "        if status_count % 100 == 0:\n",
    "            print(\"Status: \", status_count)\n",
    "\n",
    "        try:\n",
    "            path_split = v[\"arxivId\"].split(\".\")\n",
    "\n",
    "            # Extraction\n",
    "            #extract(SOURCES_PATH / path_split[0] / v[\"arxivId\"])\n",
    "\n",
    "            paper = pc.get_by_id(v[\"arxivId\"])\n",
    "\n",
    "            if not paper:\n",
    "                unextracted_papers.append(k)\n",
    "                continue\n",
    "\n",
    "            if len(paper.tables) > 0:                    \n",
    "                # Add table type if absent\n",
    "                if paper.tables[0].gold_tags == \"\":\n",
    "                    if k in table_label_info:\n",
    "                        for idx, t in enumerate(paper.tables):\n",
    "                            t.gold_tags = table_label_info[k][idx]\n",
    "                    else:\n",
    "                        if k in table_info:\n",
    "                            for idx, t in enumerate(paper.tables):\n",
    "                                t.gold_tags = table_info[k][idx]\n",
    "                        else:\n",
    "                            still_table_types_absent.append(k)\n",
    "                            continue\n",
    "\n",
    "                #Count the different types of tables\n",
    "                table_type_count = [0, 0, 0]\n",
    "                for tt in paper.tables:\n",
    "                    if tt.gold_tags.lower().strip() == \"leaderboard\":\n",
    "                        table_type_count[0] = table_type_count[0] + 1\n",
    "                    elif tt.gold_tags.lower().strip() == \"ablation\":\n",
    "                        table_type_count[1] = table_type_count[1] + 1\n",
    "                    elif tt.gold_tags.lower().strip() == \"irrelevant\":\n",
    "                        table_type_count[2] = table_type_count[2] + 1\n",
    "                    else:\n",
    "                        print(\"For k: {}, found unknown table type: {}\".format(k, tt.gold_tags))\n",
    "\n",
    "                # Save table stat in leaderboard_table_refs\n",
    "                new_table_counts[k][\"tcount\"] = [len(paper.tables), table_type_count[0], table_type_count[1], table_type_count[2]]\n",
    "            else:\n",
    "                new_zero_table_counts[k][\"tcount\"] = [0, 0, 0, 0]\n",
    "            \n",
    "            if k in new_table_counts:\n",
    "                new_table_counts[k][\"table_labels\"] = []\n",
    "                for tablerol in paper.tables:\n",
    "                    new_table_counts[k][\"table_labels\"].append((tablerol.gold_tags,))\n",
    "                status_count += 1\n",
    "        except Exception as ex:\n",
    "            print(k, ex)"
   ]
  },
  {
   "cell_type": "code",
   "execution_count": 243,
   "metadata": {},
   "outputs": [
    {
     "name": "stdout",
     "output_type": "stream",
     "text": [
      "1988 387 129 0\n"
     ]
    }
   ],
   "source": [
    "print(len(list(new_table_counts.keys())), len(new_zero_table_counts.keys()), len(unextracted_papers), len(still_table_types_absent))"
   ]
  },
  {
   "cell_type": "code",
   "execution_count": 244,
   "metadata": {},
   "outputs": [
    {
     "data": {
      "text/plain": [
       "2504"
      ]
     },
     "execution_count": 244,
     "metadata": {},
     "output_type": "execute_result"
    }
   ],
   "source": [
    "1988+387+129"
   ]
  },
  {
   "cell_type": "code",
   "execution_count": null,
   "metadata": {},
   "outputs": [],
   "source": []
  },
  {
   "cell_type": "markdown",
   "metadata": {},
   "source": [
    "#### 1.4 Save this new leaderboard_table_refs"
   ]
  },
  {
   "cell_type": "code",
   "execution_count": 292,
   "metadata": {},
   "outputs": [],
   "source": [
    "with open(\"leaderboard_table_refs.pkl\", \"wb\") as f:\n",
    "    pickle.dump(new_table_counts, f)"
   ]
  },
  {
   "cell_type": "code",
   "execution_count": null,
   "metadata": {},
   "outputs": [],
   "source": []
  },
  {
   "cell_type": "code",
   "execution_count": 245,
   "metadata": {},
   "outputs": [
    {
     "name": "stdout",
     "output_type": "stream",
     "text": [
      "1988\n"
     ]
    },
    {
     "data": {
      "text/plain": [
       "('2017_B1-Hhnslg',\n",
       " {'tcount': [6, 4, 2, 0],\n",
       "  'table_labels': [('leaderboard',),\n",
       "   ('leaderboard',),\n",
       "   ('leaderboard',),\n",
       "   ('ablation',),\n",
       "   ('leaderboard',),\n",
       "   ('ablation',)]})"
      ]
     },
     "execution_count": 245,
     "metadata": {},
     "output_type": "execute_result"
    }
   ],
   "source": [
    "print(len(new_table_counts))\n",
    "list(new_table_counts.items())[0]"
   ]
  },
  {
   "cell_type": "code",
   "execution_count": 164,
   "metadata": {},
   "outputs": [
    {
     "name": "stdout",
     "output_type": "stream",
     "text": [
      "1181\n"
     ]
    },
    {
     "data": {
      "text/plain": [
       "('2017_B1-Hhnslg',\n",
       " {'tcount': [6, 4, 2, 0],\n",
       "  'table_labels': [('leaderboard',),\n",
       "   ('leaderboard',),\n",
       "   ('leaderboard',),\n",
       "   ('ablation',),\n",
       "   ('leaderboard',),\n",
       "   ('ablation',)]})"
      ]
     },
     "execution_count": 164,
     "metadata": {},
     "output_type": "execute_result"
    }
   ],
   "source": [
    "print(len(leaderboard_table_refs))\n",
    "list(leaderboard_table_refs.items())[0]"
   ]
  },
  {
   "cell_type": "code",
   "execution_count": null,
   "metadata": {},
   "outputs": [],
   "source": []
  },
  {
   "cell_type": "markdown",
   "metadata": {},
   "source": [
    "#### 1.5 Collate with the old and save the new table labels from ttp"
   ]
  },
  {
   "cell_type": "code",
   "execution_count": 166,
   "metadata": {},
   "outputs": [
    {
     "data": {
      "text/plain": [
       "(967, 1195)"
      ]
     },
     "execution_count": 166,
     "metadata": {},
     "output_type": "execute_result"
    }
   ],
   "source": [
    "len(table_label_info), len(table_info) #old, new"
   ]
  },
  {
   "cell_type": "code",
   "execution_count": 169,
   "metadata": {},
   "outputs": [
    {
     "data": {
      "text/plain": [
       "([('2017_B1-Hhnslg',\n",
       "   ['leaderboard',\n",
       "    'leaderboard',\n",
       "    'leaderboard',\n",
       "    'ablation',\n",
       "    'leaderboard',\n",
       "    'ablation']),\n",
       "  ('2017_B1-q5Pqxl', ['irrelevant', 'leaderboard'])],\n",
       " [('2017_B1s6xvqlx', ['irrelevant']), ('2019_H1x-x309tm', ['irrelevant'])])"
      ]
     },
     "execution_count": 169,
     "metadata": {},
     "output_type": "execute_result"
    }
   ],
   "source": [
    "list(table_label_info.items())[0:2], list(table_info.items())[0:2]"
   ]
  },
  {
   "cell_type": "code",
   "execution_count": 194,
   "metadata": {},
   "outputs": [],
   "source": [
    "collated_table_labels = table_info\n",
    "\n",
    "for k in table_label_info:\n",
    "    if k in collated_table_labels:\n",
    "        if len(collated_table_labels[k])==len(table_label_info[k]) and collated_table_labels[k] == table_label_info[k]:\n",
    "            continue\n",
    "        else:\n",
    "            print(k)\n",
    "    else:\n",
    "        collated_table_labels[k] = table_label_info[k]"
   ]
  },
  {
   "cell_type": "code",
   "execution_count": 246,
   "metadata": {},
   "outputs": [
    {
     "name": "stdout",
     "output_type": "stream",
     "text": [
      "2162 1985\n"
     ]
    }
   ],
   "source": [
    "nonzero = 0\n",
    "for k in collated_table_labels:\n",
    "    if collated_table_labels[k]:\n",
    "        nonzero +=1\n",
    "print(len(collated_table_labels), nonzero)"
   ]
  },
  {
   "cell_type": "code",
   "execution_count": 250,
   "metadata": {},
   "outputs": [
    {
     "data": {
      "text/plain": [
       "{'2019_SJz6MnC5YQ', '2019_SyehMhC9Y7', '2019_rklwwo05Ym'}"
      ]
     },
     "execution_count": 250,
     "metadata": {},
     "output_type": "execute_result"
    }
   ],
   "source": [
    "set(list(new_table_counts.keys()))-set(list(collated_table_labels.keys()))"
   ]
  },
  {
   "cell_type": "code",
   "execution_count": 254,
   "metadata": {},
   "outputs": [
    {
     "data": {
      "text/plain": [
       "{'tcount': [5, 1, 4, 0],\n",
       " 'table_labels': [('ablation',),\n",
       "  ('ablation',),\n",
       "  ('ablation',),\n",
       "  ('ablation',),\n",
       "  ('leaderboard',)]}"
      ]
     },
     "execution_count": 254,
     "metadata": {},
     "output_type": "execute_result"
    }
   ],
   "source": [
    "new_table_counts[\"2019_rklwwo05Ym\"]"
   ]
  },
  {
   "cell_type": "code",
   "execution_count": 256,
   "metadata": {},
   "outputs": [],
   "source": [
    "for k in ['2019_SJz6MnC5YQ', '2019_SyehMhC9Y7', '2019_rklwwo05Ym']:\n",
    "    collated_table_labels[k] = []\n",
    "    for l in new_table_counts[k][\"table_labels\"]:\n",
    "        collated_table_labels[k].append(l[0])"
   ]
  },
  {
   "cell_type": "code",
   "execution_count": 259,
   "metadata": {},
   "outputs": [
    {
     "name": "stdout",
     "output_type": "stream",
     "text": [
      "2165 1988\n"
     ]
    }
   ],
   "source": [
    "nonzero = 0\n",
    "for k in collated_table_labels:\n",
    "    if collated_table_labels[k]:\n",
    "        nonzero +=1\n",
    "print(len(collated_table_labels), nonzero)\n",
    "# NOte that there are some 0 table entries in collated_table_labels"
   ]
  },
  {
   "cell_type": "code",
   "execution_count": 260,
   "metadata": {},
   "outputs": [],
   "source": [
    "with open(\"TABLE_Label_predicted.pkl\", \"wb\") as f:\n",
    "    pickle.dump(collated_table_labels, f)"
   ]
  },
  {
   "cell_type": "code",
   "execution_count": null,
   "metadata": {},
   "outputs": [],
   "source": []
  },
  {
   "cell_type": "code",
   "execution_count": null,
   "metadata": {},
   "outputs": [],
   "source": []
  },
  {
   "cell_type": "markdown",
   "metadata": {},
   "source": [
    "#### 2. Find already extracted ref from table cells and what is left"
   ]
  },
  {
   "cell_type": "code",
   "execution_count": 293,
   "metadata": {},
   "outputs": [
    {
     "name": "stdout",
     "output_type": "stream",
     "text": [
      "1988\n"
     ]
    }
   ],
   "source": [
    "with open(\"leaderboard_table_refs.pkl\", \"rb\") as some_file:\n",
    "    leaderboard_table_refs = pickle.load(some_file)\n",
    "print(len(leaderboard_table_refs))"
   ]
  },
  {
   "cell_type": "code",
   "execution_count": 298,
   "metadata": {},
   "outputs": [],
   "source": [
    "success = 0\n",
    "refs_0 = 0\n",
    "count_0 = 0\n",
    "null_0 = 0\n",
    "\n",
    "for k in leaderboard_table_refs:\n",
    "    if k in NEW_leaderboard_refs:\n",
    "        if \"count\" in NEW_leaderboard_refs[k]:\n",
    "            if NEW_leaderboard_refs[k][\"count\"] > 0:\n",
    "                success += 1\n",
    "            else:\n",
    "                refs_0 += 1\n",
    "        else:\n",
    "            count_0 +=1\n",
    "    else:\n",
    "        null_0 +=1"
   ]
  },
  {
   "cell_type": "code",
   "execution_count": 299,
   "metadata": {},
   "outputs": [
    {
     "data": {
      "text/plain": [
       "(229, 459, 0, 1300)"
      ]
     },
     "execution_count": 299,
     "metadata": {},
     "output_type": "execute_result"
    }
   ],
   "source": [
    "success, refs_0, count_0, null0"
   ]
  },
  {
   "cell_type": "code",
   "execution_count": 323,
   "metadata": {},
   "outputs": [
    {
     "name": "stdout",
     "output_type": "stream",
     "text": [
      "58\n",
      "1299\n"
     ]
    }
   ],
   "source": [
    "tot = 0 #(should end in 459 or more probably now after 2.1)\n",
    "new_counts = 0\n",
    "\n",
    "for k in leaderboard_table_refs:\n",
    "    if k in NEW_leaderboard_refs and \"count\" in NEW_leaderboard_refs[k]:\n",
    "        if NEW_leaderboard_refs[k][\"count\"] == 0:\n",
    "            tot += 1\n",
    "            if \"refs\" in NEW_leaderboard_refs[k] and \"abl\" in NEW_leaderboard_refs[k][\"refs\"] and len(NEW_leaderboard_refs[k][\"refs\"][\"abl\"]) > 0:\n",
    "                new_counts +=1\n",
    "print(new_counts)\n",
    "print(tot)"
   ]
  },
  {
   "cell_type": "code",
   "execution_count": 324,
   "metadata": {},
   "outputs": [
    {
     "name": "stdout",
     "output_type": "stream",
     "text": [
      "270\n"
     ]
    }
   ],
   "source": [
    "null_0 = 0\n",
    "for k in leaderboard_table_refs:\n",
    "    if not k in NEW_leaderboard_refs:\n",
    "        null_0 +=1\n",
    "print(null_0) #should show some dec from org count of 2300 after running Sec 2.1"
   ]
  },
  {
   "cell_type": "markdown",
   "metadata": {},
   "source": [
    "#### 2.1 Run the previous extraction (from table cells) for papers for which extraction failed earlier"
   ]
  },
  {
   "cell_type": "code",
   "execution_count": 317,
   "metadata": {},
   "outputs": [],
   "source": [
    "status_count = 0\n",
    "err_count = 0\n",
    "unext_papers = []\n",
    "errs_ids = []"
   ]
  },
  {
   "cell_type": "code",
   "execution_count": 318,
   "metadata": {
    "collapsed": true
   },
   "outputs": [
    {
     "name": "stdout",
     "output_type": "stream",
     "text": [
      "Status:  0\n",
      "Status:  10\n",
      "Status:  20\n",
      "Status:  30\n",
      "Status:  40\n",
      "Status:  50\n",
      "Status:  60\n",
      "Status:  70\n",
      "Status:  80\n",
      "Status:  90\n",
      "Status:  100\n",
      "Status:  110\n",
      "Status:  120\n",
      "Status:  130\n",
      "Status:  140\n",
      "Status:  150\n",
      "Status:  160\n",
      "Status:  170\n",
      "Status:  180\n",
      "Status:  190\n",
      "Status:  200\n",
      "Status:  210\n",
      "Status:  220\n",
      "Status:  230\n",
      "Status:  240\n",
      "Status:  250\n",
      "Status:  260\n",
      "Status:  270\n",
      "Status:  280\n",
      "Status:  290\n",
      "Status:  300\n",
      "Status:  310\n",
      "Status:  320\n",
      "Status:  330\n",
      "Status:  340\n",
      "Status:  350\n",
      "Status:  360\n",
      "Status:  370\n",
      "Status:  380\n",
      "Status:  390\n",
      "Status:  400\n",
      "Status:  410\n",
      "Status:  420\n",
      "Status:  430\n",
      "Status:  440\n",
      "Status:  450\n",
      "Status:  460\n",
      "Status:  470\n",
      "Status:  480\n",
      "Status:  490\n",
      "Status:  500\n",
      "Status:  510\n",
      "Status:  520\n",
      "Status:  530\n",
      "Status:  540\n",
      "Status:  550\n",
      "Status:  560\n",
      "Status:  570\n",
      "Status:  580\n",
      "Status:  590\n",
      "Status:  600\n",
      "Status:  610\n",
      "Status:  620\n",
      "Status:  630\n",
      "Status:  640\n",
      "Status:  650\n",
      "Status:  660\n",
      "Status:  670\n",
      "Status:  680\n",
      "Status:  690\n",
      "Status:  700\n",
      "Status:  710\n",
      "Status:  720\n",
      "Status:  730\n",
      "Status:  740\n",
      "Status:  750\n",
      "Status:  760\n",
      "Status:  770\n",
      "Status:  780\n",
      "Status:  790\n",
      "Status:  800\n",
      "Status:  810\n",
      "Status:  820\n",
      "Status:  830\n",
      "Status:  840\n",
      "Status:  850\n",
      "Status:  860\n",
      "Status:  870\n",
      "Status:  880\n",
      "Status:  890\n",
      "Status:  900\n",
      "Status:  910\n",
      "Status:  920\n",
      "Status:  930\n",
      "Status:  940\n",
      "Status:  950\n",
      "Status:  960\n",
      "Status:  970\n",
      "Status:  980\n",
      "Status:  990\n",
      "Status:  1000\n",
      "Status:  1010\n",
      "Status:  1020\n",
      "Status:  1030\n",
      "For 2020_Skl4mRNYDr cannot find leaderboard table file: table_01.csv\n",
      "Status:  1040\n",
      "Status:  1050\n",
      "Status:  1060\n",
      "Status:  1070\n",
      "Status:  1080\n",
      "Status:  1090\n",
      "Status:  1100\n",
      "Status:  1110\n",
      "Status:  1120\n",
      "Status:  1130\n",
      "Status:  1140\n",
      "Status:  1150\n",
      "Status:  1160\n",
      "Status:  1170\n",
      "Status:  1180\n",
      "Status:  1190\n",
      "Status:  1200\n",
      "Status:  1210\n",
      "Status:  1220\n",
      "Status:  1230\n",
      "Status:  1240\n",
      "Status:  1250\n",
      "Status:  1260\n",
      "Status:  1270\n",
      "Status:  1280\n",
      "Status:  1290\n"
     ]
    }
   ],
   "source": [
    "for k in leaderboard_table_refs:\n",
    "    if not k in NEW_leaderboard_refs:\n",
    "        if True:\n",
    "            v = iclr_arxiv_map[k]\n",
    "            if status_count % 10 == 0:\n",
    "                print(\"Status: \", status_count)\n",
    "                with open(\"leaderboard_refs.pkl\", \"wb\") as some_file:\n",
    "                    pickle.dump(NEW_leaderboard_refs, some_file)\n",
    "                    \n",
    "            try:\n",
    "                path_split = v[\"arxivId\"].split(\".\")\n",
    "\n",
    "                # Extraction\n",
    "                #extract(SOURCES_PATH / path_split[0] / v[\"arxivId\"])\n",
    "\n",
    "                paper = pc.get_by_id(v[\"arxivId\"])\n",
    "                \n",
    "                if not paper:\n",
    "                    unext_papers.append((k, v[\"arxivId\"]))\n",
    "                    continue\n",
    "                \n",
    "                if len(paper.tables) > 0:                    \n",
    "                    # Add table type if absent\n",
    "                    if paper.tables[0].gold_tags == \"\":\n",
    "                        if k in collated_table_labels:\n",
    "                            for idx, t in enumerate(paper.tables):\n",
    "                                t.gold_tags = collated_table_labels[k][idx]\n",
    "                        else:\n",
    "                            tables_types = ttp.predict(paper, paper.tables)\n",
    "                            for table, table_type in zip(paper.tables, tables_types):\n",
    "                                table.gold_tags = table_labels[table_type]\n",
    "                    \n",
    "#                     #Count the different types of tables\n",
    "#                     table_type_count = [0, 0, 0]\n",
    "#                     for tt in paper.tables:\n",
    "#                         if tt.gold_tags.lower().strip() == \"leaderboard\":\n",
    "#                             table_type_count[0] = table_type_count[0] + 1\n",
    "#                         elif tt.gold_tags.lower().strip() == \"ablation\":\n",
    "#                             table_type_count[1] = table_type_count[1] + 1\n",
    "#                         elif tt.gold_tags.lower().strip() == \"irrelevant\":\n",
    "#                             table_type_count[2] = table_type_count[2] + 1\n",
    "#                         else:\n",
    "#                             print(\"Unknown table type: \", tt.gold_tags)\n",
    "                    \n",
    "#                     # Save table stat in leaderboard_table_refs\n",
    "#                     leaderboard_table_refs[k][\"tcount\"] = [len(paper.tables), table_type_count[0], table_type_count[1], table_type_count[2]]\n",
    "#                 else:\n",
    "#                     leaderboard_table_refs[k][\"tcount\"] = [0, 0, 0, 0]\n",
    "                \n",
    "#                 leaderboard_table_refs[k][\"table_labels\"] = []\n",
    "#                 for tablerol in paper.tables:\n",
    "#                     leaderboard_table_refs[k][\"table_labels\"].append((tablerol.gold_tags,))\n",
    "                \n",
    "                if (leaderboard_table_refs[k][\"tcount\"][1]+leaderboard_table_refs[k][\"tcount\"][2]) > 0:\n",
    "                    NEW_leaderboard_refs[k][\"refs\"] = {}\n",
    "                    NEW_leaderboard_refs[k][\"count\"] = 0\n",
    "                \n",
    "                # If sota/leaderboard tables present, extract references from them\n",
    "                if leaderboard_table_refs[k][\"tcount\"][1] > 0:\n",
    "                    NEW_leaderboard_refs[k][\"refs\"][\"ldb\"] = []\n",
    "                    for iterid, table in enumerate(paper.tables):\n",
    "                        idx = iterid + 1\n",
    "                        if table.gold_tags == \"leaderboard\":\n",
    "                            \n",
    "                            table_dir_path = \"/home/singh_shruti/workspace/axcell_ws/axcell/notebooks/data/papers/\" + path_split[0] + \"/\" + v[\"arxivId\"]\n",
    "                            table_files = glob.glob(table_dir_path+\"/*.csv\")\n",
    "                            table_files_stripped = [tfs.rsplit(\"/\", 1)[1] for tfs in table_files]\n",
    "                            \n",
    "                            candidate_name = \"table_\" + \"{:02d}\".format(idx) + \".csv\"\n",
    "                            if candidate_name in table_files_stripped:\n",
    "                                cannot_use_f = open(table_dir_path + \"/\" + candidate_name, \"r\")\n",
    "                                for line in cannot_use_f:\n",
    "                                    m = re.findall(\"<ref id=[0-9a-zA-Z'-]*>[a-zA-Z 0-9\\.]*</ref>\", line)\n",
    "                                    for iim in m:\n",
    "                                        NEW_leaderboard_refs[k][\"refs\"][\"ldb\"].append(iim)\n",
    "                                        NEW_leaderboard_refs[k][\"count\"] += 1\n",
    "                            else:\n",
    "                                print(\"For {} cannot find leaderboard table file: {}\".format(k, candidate_name))\n",
    "                            \n",
    "                    NEW_leaderboard_refs[k][\"refs\"][\"ldb\"] = list(set(NEW_leaderboard_refs[k][\"refs\"][\"ldb\"]))\n",
    "                    \n",
    "                if leaderboard_table_refs[k][\"tcount\"][2] > 0:\n",
    "                    NEW_leaderboard_refs[k][\"refs\"][\"abl\"] = []\n",
    "                    for iterid, table in enumerate(paper.tables):\n",
    "                        idx = iterid + 1\n",
    "                        if table.gold_tags == \"ablation\":\n",
    "                            \n",
    "                            table_dir_path = \"/home/singh_shruti/workspace/axcell_ws/axcell/notebooks/data/papers/\" + path_split[0] + \"/\" + v[\"arxivId\"]\n",
    "                            table_files = glob.glob(table_dir_path+\"/*.csv\")\n",
    "                            table_files_stripped = [tfs.rsplit(\"/\", 1)[1] for tfs in table_files]\n",
    "                            \n",
    "                            candidate_name = \"table_\" + \"{:02d}\".format(idx) + \".csv\"\n",
    "                            if candidate_name in table_files_stripped:\n",
    "                                cannot_use_f = open(table_dir_path + \"/\" + candidate_name, \"r\")\n",
    "                                for line in cannot_use_f:\n",
    "                                    m = re.findall(\"<ref id=[0-9a-zA-Z'-]*>[a-zA-Z 0-9\\.]*</ref>\", line)\n",
    "                                    for iim in m:\n",
    "                                        NEW_leaderboard_refs[k][\"refs\"][\"abl\"].append(iim)\n",
    "                            else:\n",
    "                                print(\"For {} cannot find ablation table file: {}\".format(k, candidate_name))\n",
    "                            \n",
    "                    NEW_leaderboard_refs[k][\"refs\"][\"abl\"] = list(set(NEW_leaderboard_refs[k][\"refs\"][\"abl\"]))\n",
    "                            \n",
    "                status_count += 1\n",
    "            except Exception as ex:\n",
    "                print(k, v[\"arxivId\"])\n",
    "                print(\"Error: \", ex)\n",
    "                err_count += 1\n",
    "                errs_ids.append((k, v[\"arxivId\"]))"
   ]
  },
  {
   "cell_type": "code",
   "execution_count": 319,
   "metadata": {},
   "outputs": [
    {
     "data": {
      "text/plain": [
       "(1300, 0, 0, [], 0, [])"
      ]
     },
     "execution_count": 319,
     "metadata": {},
     "output_type": "execute_result"
    }
   ],
   "source": [
    "status_count, err_count, len(unext_papers), unext_papers[0:3], len(errs_ids), errs_ids[0:3]"
   ]
  },
  {
   "cell_type": "code",
   "execution_count": 315,
   "metadata": {
    "collapsed": true
   },
   "outputs": [
    {
     "name": "stdout",
     "output_type": "stream",
     "text": [
      "1810.06544v4\n",
      "data/papers/1810/1810.06530v5:\n",
      "layout_01.csv  layout_04.csv  table_01.csv  table_04.csv\n",
      "layout_02.csv  layout_05.csv  table_02.csv  table_05.csv\n",
      "layout_03.csv  metadata.json  table_03.csv  text.json\n",
      "\n",
      "data/papers/1810/1810.06543v1:\n",
      "layout_01.csv  layout_03.csv  metadata.json  table_02.csv  table_04.csv\n",
      "layout_02.csv  layout_04.csv  table_01.csv   table_03.csv  text.json\n",
      "\n",
      "data/papers/1810/1810.06544v1:\n",
      "layout_01.csv  layout_03.csv  table_01.csv  table_03.csv\n",
      "layout_02.csv  metadata.json  table_02.csv  text.json\n",
      "\n",
      "data/papers/1810/1810.06546v2:\n",
      "layout_01.csv  layout_09.csv  layout_17.csv  table_07.csv  table_15.csv\n",
      "layout_02.csv  layout_10.csv  metadata.json  table_08.csv  table_16.csv\n",
      "layout_03.csv  layout_11.csv  table_01.csv   table_09.csv  table_17.csv\n",
      "layout_04.csv  layout_12.csv  table_02.csv   table_10.csv  text.json\n",
      "layout_05.csv  layout_13.csv  table_03.csv   table_11.csv\n",
      "layout_06.csv  layout_14.csv  table_04.csv   table_12.csv\n",
      "layout_07.csv  layout_15.csv  table_05.csv   table_13.csv\n",
      "layout_08.csv  layout_16.csv  table_06.csv   table_14.csv\n",
      "2019_SyehMhC9Y7\n",
      "2019_SyehMhC9Y7\n"
     ]
    }
   ],
   "source": [
    "print(iclr_arxiv_map[\"2020_Skl4mRNYDr\"][\"arxivId\"])\n",
    "!ls data/papers/1810/1810.065*\n",
    "\n",
    "for k in iclr_arxiv_map:\n",
    "    if iclr_arxiv_map[k][\"found\"] and iclr_arxiv_map[k][\"arxivId\"] == \"1810.06544v1\":\n",
    "        print(k)\n",
    "for k in iclr_arxiv_map:\n",
    "    if iclr_arxiv_map[k][\"found\"] and iclr_arxiv_map[k][\"arxivId\"] == \"1810.06544v1\":\n",
    "        print(k)"
   ]
  },
  {
   "cell_type": "code",
   "execution_count": 316,
   "metadata": {},
   "outputs": [
    {
     "name": "stdout",
     "output_type": "stream",
     "text": [
      "689\n"
     ]
    }
   ],
   "source": [
    "print(len(NEW_leaderboard_refs))"
   ]
  },
  {
   "cell_type": "code",
   "execution_count": 320,
   "metadata": {},
   "outputs": [
    {
     "name": "stdout",
     "output_type": "stream",
     "text": [
      "1719\n"
     ]
    }
   ],
   "source": [
    "print(len(NEW_leaderboard_refs))"
   ]
  },
  {
   "cell_type": "code",
   "execution_count": null,
   "metadata": {},
   "outputs": [],
   "source": []
  },
  {
   "cell_type": "code",
   "execution_count": 326,
   "metadata": {},
   "outputs": [],
   "source": [
    "success = 0\n",
    "refs_0 = 0\n",
    "count_0_and_noabl = 0\n",
    "count_nil_but_abl = 0\n",
    "null_0 = 0\n",
    "\n",
    "for k in leaderboard_table_refs:\n",
    "    if k in NEW_leaderboard_refs:\n",
    "        if \"count\" in NEW_leaderboard_refs[k]:\n",
    "            if NEW_leaderboard_refs[k][\"count\"] > 0:\n",
    "                success += 1\n",
    "            else:\n",
    "                refs_0 += 1\n",
    "        else:\n",
    "            if \"refs\" in  NEW_leaderboard_refs[k] and \"abl\" in NEW_leaderboard_refs[k][\"refs\"] and len(NEW_leaderboard_refs[k][\"refs\"][\"abl\"]) > 0:\n",
    "                count_nil_but_abl +=1\n",
    "            else:\n",
    "                count_0_and_noabl +=1\n",
    "    else:\n",
    "        null_0 +=1"
   ]
  },
  {
   "cell_type": "code",
   "execution_count": 327,
   "metadata": {},
   "outputs": [
    {
     "data": {
      "text/plain": [
       "(419, 1299, 0, 0, 270)"
      ]
     },
     "execution_count": 327,
     "metadata": {},
     "output_type": "execute_result"
    }
   ],
   "source": [
    "success, refs_0, count_nil_but_abl, count_0_and_noabl, null_0"
   ]
  },
  {
   "cell_type": "code",
   "execution_count": null,
   "metadata": {},
   "outputs": [],
   "source": []
  },
  {
   "cell_type": "markdown",
   "metadata": {},
   "source": [
    "#### 3. Find if a sample reference is extracted by the code"
   ]
  },
  {
   "cell_type": "code",
   "execution_count": null,
   "metadata": {},
   "outputs": [],
   "source": []
  },
  {
   "cell_type": "code",
   "execution_count": 341,
   "metadata": {},
   "outputs": [],
   "source": [
    "papers_to_ext_refs = []\n",
    "suc = 0\n",
    "not_enough_tables = 0"
   ]
  },
  {
   "cell_type": "code",
   "execution_count": 342,
   "metadata": {},
   "outputs": [
    {
     "name": "stdout",
     "output_type": "stream",
     "text": [
      "477 1241 270\n"
     ]
    }
   ],
   "source": [
    "for k in leaderboard_table_refs:\n",
    "    if  (leaderboard_table_refs[k][\"tcount\"][1] + leaderboard_table_refs[k][\"tcount\"][2]) > 0:\n",
    "        if k in NEW_leaderboard_refs:\n",
    "            if \"count\" in NEW_leaderboard_refs[k] and NEW_leaderboard_refs[k][\"count\"] > 0: \n",
    "                suc +=1\n",
    "            else:\n",
    "                if \"refs\" in NEW_leaderboard_refs[k] and \"abl\" in NEW_leaderboard_refs[k][\"refs\"] and len(NEW_leaderboard_refs[k][\"refs\"][\"abl\"]) > 0:\n",
    "                    suc +=1 \n",
    "                else:\n",
    "                    papers_to_ext_refs.append(k)\n",
    "        else:\n",
    "            papers_to_ext_refs.append(k)\n",
    "    else:\n",
    "        not_enough_tables +=1\n",
    "\n",
    "print(suc, len(papers_to_ext_refs), not_enough_tables)"
   ]
  },
  {
   "cell_type": "code",
   "execution_count": 343,
   "metadata": {},
   "outputs": [
    {
     "data": {
      "text/plain": [
       "1988"
      ]
     },
     "execution_count": 343,
     "metadata": {},
     "output_type": "execute_result"
    }
   ],
   "source": [
    "1241+270+477"
   ]
  },
  {
   "cell_type": "markdown",
   "metadata": {},
   "source": [
    "# Our final set target is 1241 to augment 477"
   ]
  },
  {
   "cell_type": "code",
   "execution_count": null,
   "metadata": {},
   "outputs": [],
   "source": []
  },
  {
   "cell_type": "code",
   "execution_count": null,
   "metadata": {},
   "outputs": [],
   "source": []
  },
  {
   "cell_type": "code",
   "execution_count": 382,
   "metadata": {},
   "outputs": [],
   "source": [
    "bbl_absent = []\n",
    "bbl_multiple = []\n",
    "bbl_unique = []\n",
    "\n",
    "exceptions_ids = []\n",
    "\n",
    "paper_bbl_dict = {}"
   ]
  },
  {
   "cell_type": "code",
   "execution_count": 383,
   "metadata": {},
   "outputs": [
    {
     "name": "stdout",
     "output_type": "stream",
     "text": [
      "2017_BJYwwY9ll\n",
      "\n",
      " Unusal KEY: 2018_rJg4YGWRb FORMAT:   \\sortlist[entry]{nty/global/}\n",
      "\n",
      "\n",
      " Unusal KEY: 2019_ryE98iR5tm FORMAT:     \\name{author}{3}{}{%\n",
      "\n",
      "2019_ryggIs0cYQ\n",
      "\n",
      " Unusal KEY: 2020_HkgxW0EYDS FORMAT:   \\sortlist[entry]{nyt/global/}\n",
      "\n",
      "\n",
      " Unusal KEY: 2020_r1glygHtDB FORMAT:     \\name{author}{7}{}{%\n",
      "\n",
      "\n",
      " Unusal KEY: 2020_rJlUhhVYvS FORMAT:   \\sortlist[entry]{nty/global/}\n",
      "\n",
      "\n",
      " Unusal KEY: 2020_rygvFyrKwH FORMAT:   \\sortlist[entry]{anyt/global/}\n",
      "\n"
     ]
    }
   ],
   "source": [
    "for k in papers_to_ext_refs:\n",
    "    arxivid = iclr_arxiv_map[k][\"arxivId\"]\n",
    "    \n",
    "    dir_name = arxivid.split(\".\")[0]\n",
    "    \n",
    "    # Read the bbl file to extract references\n",
    "    potential_bbl_files = glob.glob(\"./data/unpacked_sources/{}/{}/*.bbl\".format(dir_name, arxivid))\n",
    "\n",
    "    if len(potential_bbl_files) == 1:\n",
    "        bbl_unique.append(k)\n",
    "        \n",
    "        try:\n",
    "            with open(potential_bbl_files[0], \"r\") as f:\n",
    "                lines = f.readlines()\n",
    "\n",
    "            found_bib_format = False\n",
    "            for idx, l in enumerate(lines):\n",
    "                if not found_bib_format and l.startswith(\"\\\\bibitem[\"):\n",
    "                    #rint(\"KEY: {} FORMAT: {}\".format(k, (l+lines[idx+1]).replace(\"\\n\", \" \") ))\n",
    "                    found_bib_format = True\n",
    "                    break\n",
    "                if not found_bib_format and l.startswith(\"\\\\bibitem{\"):\n",
    "                    #rint(\"KEY: {} FORMAT: {}\".format(k, (l+lines[idx+1]).replace(\"\\n\", \" \") ))\n",
    "                    found_bib_format = True\n",
    "                    break\n",
    "\n",
    "            if not found_bib_format:\n",
    "                print(\"\\n Unusal KEY: {} FORMAT: {}\".format(k, \" \".join(lines[20:21])))\n",
    "        except Exception as ex:\n",
    "            print(k)\n",
    "            exceptions_ids.append(k)\n",
    "            #print(\"EXception: \", ex)\n",
    "        \n",
    "    elif len(potential_bbl_files) == 0:\n",
    "        #print(\"No bbl files found: \", k)\n",
    "        bbl_absent.append(k)\n",
    "        \n",
    "    else:\n",
    "        #print(\"Multiple bbl found: \", k)\n",
    "        bbl_multiple.append(k)"
   ]
  },
  {
   "cell_type": "code",
   "execution_count": 380,
   "metadata": {},
   "outputs": [
    {
     "data": {
      "text/plain": [
       "(1241, 45, 45, 1151, 2)"
      ]
     },
     "execution_count": 380,
     "metadata": {},
     "output_type": "execute_result"
    }
   ],
   "source": [
    "len(papers_to_ext_refs), len(bbl_absent), len(bbl_multiple), len(bbl_unique), len(exceptions_ids)\n",
    "#Unusual format = 6"
   ]
  },
  {
   "cell_type": "code",
   "execution_count": 363,
   "metadata": {},
   "outputs": [
    {
     "data": {
      "text/plain": [
       "1241"
      ]
     },
     "execution_count": 363,
     "metadata": {},
     "output_type": "execute_result"
    }
   ],
   "source": [
    "1151+45+45"
   ]
  },
  {
   "cell_type": "code",
   "execution_count": null,
   "metadata": {},
   "outputs": [],
   "source": []
  },
  {
   "cell_type": "code",
   "execution_count": null,
   "metadata": {},
   "outputs": [],
   "source": []
  },
  {
   "cell_type": "markdown",
   "metadata": {},
   "source": [
    "# Find refs of 1241 from table captions"
   ]
  },
  {
   "cell_type": "code",
   "execution_count": 418,
   "metadata": {},
   "outputs": [],
   "source": [
    "table_caption_refs = defaultdict(list)"
   ]
  },
  {
   "cell_type": "code",
   "execution_count": 419,
   "metadata": {},
   "outputs": [],
   "source": [
    "for k in papers_to_ext_refs:\n",
    "    arxivid = iclr_arxiv_map[k][\"arxivId\"]\n",
    "    paper = pc.get_by_id(arxivid)\n",
    "    for idx, t in enumerate(paper.tables):\n",
    "        if t.caption and t.caption.find(\" et al\") > -1:\n",
    "            table_caption_refs[k].append((idx, t.caption))\n",
    "        elif t.caption and t.caption.find(\" & \") > -1:\n",
    "            m = re.findall(\" & [a-zA-Z 0-9\\\\.'~\\{\\}]*[ ]?\\([1,2][0,1,2,8,9][0-9][0-9]\\)\", t.caption)\n",
    "            if m:\n",
    "#                 print(t.caption)\n",
    "                table_caption_refs[k].append((idx, t.caption))"
   ]
  },
  {
   "cell_type": "code",
   "execution_count": 420,
   "metadata": {},
   "outputs": [
    {
     "name": "stdout",
     "output_type": "stream",
     "text": [
      "[('2017_SJDaqqveg', [(1, 'Table 2: Our IWSLT 2014 machine translation results with a convolutional encoder compared to the previous work by Ranzato et al. Please see 1 for an explanation of abbreviations. The asterisk identifies results from (Ranzato et\\xa0al., 2015). The numbers reported with ≤ were approximately read from Figure 6 of (Ranzato et\\xa0al., 2015)')]), ('2017_SJc1hL5ee', [(6, 'Table 7: Comparison between CNNs and fastText with and without quantization. The numbers for\\xa0Zhang et\\xa0al. (2015) are reported from\\xa0Xiao & Cho (2016). Note that for the CNNs, we report the size of the model under the assumption that they use float32 storage. For fastText(+PQ) we report the memory used in RAM at test time.')])]\n"
     ]
    },
    {
     "data": {
      "text/plain": [
       "45"
      ]
     },
     "execution_count": 420,
     "metadata": {},
     "output_type": "execute_result"
    }
   ],
   "source": [
    "print(list(table_caption_refs.items())[0:2])\n",
    "len(table_caption_refs)"
   ]
  },
  {
   "cell_type": "code",
   "execution_count": 421,
   "metadata": {},
   "outputs": [
    {
     "data": {
      "text/plain": [
       "1196"
      ]
     },
     "execution_count": 421,
     "metadata": {},
     "output_type": "execute_result"
    }
   ],
   "source": [
    "unext_for_full_text = []\n",
    "for k in papers_to_ext_refs:\n",
    "    if not k in table_caption_refs.keys():\n",
    "        unext_for_full_text.append(k)\n",
    "len(unext_for_full_text)"
   ]
  },
  {
   "cell_type": "code",
   "execution_count": 422,
   "metadata": {},
   "outputs": [
    {
     "data": {
      "text/plain": [
       "1241"
      ]
     },
     "execution_count": 422,
     "metadata": {},
     "output_type": "execute_result"
    }
   ],
   "source": [
    "1196+45"
   ]
  },
  {
   "cell_type": "markdown",
   "metadata": {},
   "source": [
    "# Find refs of 1207 from full text"
   ]
  },
  {
   "cell_type": "code",
   "execution_count": 514,
   "metadata": {},
   "outputs": [],
   "source": [
    "full_text_refs_dict = defaultdict(list)\n",
    "full_text = {}\n",
    "candidatesssssss = defaultdict(list)"
   ]
  },
  {
   "cell_type": "code",
   "execution_count": 516,
   "metadata": {},
   "outputs": [
    {
     "name": "stdout",
     "output_type": "stream",
     "text": [
      "Exact Match 2017_B1-q5Pqxl\n",
      "Exact Match 2017_B1-q5Pqxl\n",
      "F1 2017_B1-q5Pqxl\n",
      "F1 2017_B1-q5Pqxl\n",
      "Random Guess 2017_B1-q5Pqxl\n",
      "Logistic Regression 2017_B1-q5Pqxl\n",
      "DCR 2017_B1-q5Pqxl\n",
      "Match-LSTM with Ans-Ptr (Sequence) 2017_B1-q5Pqxl\n",
      "Match-LSTM with Ans-Ptr (Boundary) 2017_B1-q5Pqxl\n",
      "Match-LSTM with Ans-Ptr (Boundary+Search) 2017_B1-q5Pqxl\n",
      "Match-LSTM with Ans-Ptr (Boundary+Search) 2017_B1-q5Pqxl\n",
      "Match-LSTM with Ans-Ptr (Boundary+Search+b) 2017_B1-q5Pqxl\n",
      "Match-LSTM with Bi-Ans-Ptr (Boundary+Search+b) 2017_B1-q5Pqxl\n",
      "Match-LSTM with Ans-Ptr (Boundary+Search+en) 2017_B1-q5Pqxl\n",
      "Our Model 2017_B1G9tvcgx\n",
      "Domain 2017_B1GOWV5eg\n",
      "FiGAR-TRPO 2017_B1GOWV5eg\n",
      "TRPO 2017_B1GOWV5eg\n",
      "Domain 2017_B1GOWV5eg\n",
      "Ant 2017_B1GOWV5eg\n",
      "Hopper 2017_B1GOWV5eg\n",
      "Inverted Pendulum 2017_B1GOWV5eg\n",
      "Inverted Double Pendulum 2017_B1GOWV5eg\n",
      "Swimmer 2017_B1GOWV5eg\n",
      "Variant 2017_B1GOWV5eg\n",
      "Seaquest 2017_B1GOWV5eg\n",
      "Space Invaders 2017_B1GOWV5eg\n",
      "Asterix 2017_B1GOWV5eg\n",
      "Variant 2017_B1GOWV5eg\n",
      "FiGAR-50 2017_B1GOWV5eg\n",
      "FiGAR-30-50 2017_B1GOWV5eg\n",
      "FiGAR-P 2017_B1GOWV5eg\n",
      "FiGAR-30 2017_B1GOWV5eg\n",
      "FiGAR-20-30 2017_B1GOWV5eg\n",
      "FiGAR-20 2017_B1GOWV5eg\n",
      "Baseline 2017_B1GOWV5eg\n",
      "FiGAR-20 2017_B1GOWV5eg\n",
      "FiGAR-30 2017_B1GOWV5eg\n",
      "FiGAR-50 2017_B1GOWV5eg\n",
      "FiGAR-30-50 2017_B1GOWV5eg\n",
      "FiGAR-20-30 2017_B1GOWV5eg\n",
      "FiGAR-P 2017_B1GOWV5eg\n",
      "Alien 2017_B1GOWV5eg\n",
      "Amidar 2017_B1GOWV5eg\n",
      "Assault 2017_B1GOWV5eg\n",
      "Asterix 2017_B1GOWV5eg\n",
      "Atlantis 2017_B1GOWV5eg\n",
      "Bank Heist 2017_B1GOWV5eg\n",
      "Beam Rider 2017_B1GOWV5eg\n",
      "Bowling 2017_B1GOWV5eg\n",
      "Breakout 2017_B1GOWV5eg\n",
      "Centipede 2017_B1GOWV5eg\n",
      "Chopper command 2017_B1GOWV5eg\n",
      "Crazy Climber 2017_B1GOWV5eg\n",
      "Demon Attack 2017_B1GOWV5eg\n",
      "Enduro 2017_B1GOWV5eg\n",
      "Freeway 2017_B1GOWV5eg\n",
      "Frostbite 2017_B1GOWV5eg\n",
      "Gopher 2017_B1GOWV5eg\n",
      "James Bond 2017_B1GOWV5eg\n",
      "Kangaroo 2017_B1GOWV5eg\n",
      "Koolaid 2017_B1GOWV5eg\n",
      "Krull 2017_B1GOWV5eg\n",
      "Kung Fu Master 2017_B1GOWV5eg\n",
      "Name this game 2017_B1GOWV5eg\n",
      "Phoenix 2017_B1GOWV5eg\n",
      "Pong 2017_B1GOWV5eg\n",
      "Q-bert 2017_B1GOWV5eg\n",
      "Road Runner 2017_B1GOWV5eg\n",
      "Sea quest 2017_B1GOWV5eg\n",
      "Space Invaders 2017_B1GOWV5eg\n",
      "Star Gunner 2017_B1GOWV5eg\n",
      "Time Pilot 2017_B1GOWV5eg\n",
      "Tutankhamun 2017_B1GOWV5eg\n",
      "Wizard of Wor 2017_B1GOWV5eg\n",
      "Alien 2017_B1GOWV5eg\n",
      "Amidar 2017_B1GOWV5eg\n",
      "Breakout 2017_B1GOWV5eg\n",
      "Crazy Climber 2017_B1GOWV5eg\n",
      "Frostbite 2017_B1GOWV5eg\n",
      "Q-bert 2017_B1GOWV5eg\n",
      "Stochastic 2017_B1GOWV5eg\n",
      "Alien 2017_B1GOWV5eg\n",
      "Amidar 2017_B1GOWV5eg\n",
      "Assault 2017_B1GOWV5eg\n",
      "Asterix 2017_B1GOWV5eg\n",
      "Atlantis 2017_B1GOWV5eg\n",
      "Bank Heist 2017_B1GOWV5eg\n",
      "Beam Rider 2017_B1GOWV5eg\n",
      "Bowling 2017_B1GOWV5eg\n",
      "Breakout 2017_B1GOWV5eg\n",
      "Centipede 2017_B1GOWV5eg\n",
      "Chopper Command 2017_B1GOWV5eg\n",
      "Crazy Climber 2017_B1GOWV5eg\n",
      "Enduro 2017_B1GOWV5eg\n",
      "Demon Attack 2017_B1GOWV5eg\n",
      "Freeway 2017_B1GOWV5eg\n",
      "Frostbite 2017_B1GOWV5eg\n",
      "Gopher 2017_B1GOWV5eg\n",
      "James Bond 2017_B1GOWV5eg\n",
      "Kangaroo 2017_B1GOWV5eg\n",
      "Koolaid 2017_B1GOWV5eg\n",
      "Krull 2017_B1GOWV5eg\n",
      "Kung Fu Master 2017_B1GOWV5eg\n",
      "Name this Game 2017_B1GOWV5eg\n",
      "Phoenix 2017_B1GOWV5eg\n",
      "Pong 2017_B1GOWV5eg\n",
      "Q-bert 2017_B1GOWV5eg\n",
      "Road Runner 2017_B1GOWV5eg\n",
      "Sea Quest 2017_B1GOWV5eg\n",
      "Space Invaders 2017_B1GOWV5eg\n",
      "Star Gunner 2017_B1GOWV5eg\n",
      "Time Pilot 2017_B1GOWV5eg\n",
      "Tutankhamun 2017_B1GOWV5eg\n",
      "Wizard of Wor 2017_B1GOWV5eg\n",
      "Domain 2017_B1GOWV5eg\n",
      "FiGAR-TRPO 2017_B1GOWV5eg\n",
      "FiGAR-shared-TRPO 2017_B1GOWV5eg\n",
      "TRPO 2017_B1GOWV5eg\n",
      "Domain 2017_B1GOWV5eg\n",
      "Ant 2017_B1GOWV5eg\n",
      "Hopper 2017_B1GOWV5eg\n",
      "Inverted Pendulum 2017_B1GOWV5eg\n",
      "Inverted Double Pendulum 2017_B1GOWV5eg\n",
      "Swimmer 2017_B1GOWV5eg\n",
      "Stock 2017_B1IzH7cxl\n",
      "1 2017_B1IzH7cxl\n",
      "2 2017_B1IzH7cxl\n",
      "3 2017_B1IzH7cxl\n",
      "4 2017_B1IzH7cxl\n",
      "5 2017_B1IzH7cxl\n",
      "6 2017_B1IzH7cxl\n",
      "7 2017_B1IzH7cxl\n",
      "8 2017_B1IzH7cxl\n",
      "9 2017_B1IzH7cxl\n",
      "10 2017_B1IzH7cxl\n",
      "AVG 2017_B1IzH7cxl\n",
      "Task 2017_B1MRcPclx\n",
      "1k 2017_B1MRcPclx\n",
      "1k 2017_B1MRcPclx\n",
      "1k 2017_B1MRcPclx\n",
      "1k 2017_B1MRcPclx\n",
      "1k 2017_B1MRcPclx\n",
      "1k 2017_B1MRcPclx\n",
      "10k 2017_B1MRcPclx\n",
      "10k 2017_B1MRcPclx\n",
      "10k 2017_B1MRcPclx\n",
      "10k 2017_B1MRcPclx\n",
      "10k 2017_B1MRcPclx\n",
      "Task 2017_B1MRcPclx\n",
      "Task 2017_B1MRcPclx\n",
      "Task 2017_B1MRcPclx\n",
      "# Failed 2017_B1MRcPclx\n",
      "Average error rates 2017_B1MRcPclx\n",
      "Task 2017_B1MRcPclx\n",
      "Plain 2017_B1MRcPclx\n",
      "Plain 2017_B1MRcPclx\n",
      "Plain 2017_B1MRcPclx\n",
      "Plain 2017_B1MRcPclx\n",
      "With Match 2017_B1MRcPclx\n",
      "With Match 2017_B1MRcPclx\n",
      "With Match 2017_B1MRcPclx\n",
      "Task 2017_B1MRcPclx\n",
      "Task 2017_B1MRcPclx\n",
      "Task 2017_B1MRcPclx\n",
      "bAbI dialog Average error rates 2017_B1MRcPclx\n",
      "bAbI dialog (OOV) Average error rates 2017_B1MRcPclx\n",
      "DSTC2 dialog Average error rates 2017_B1MRcPclx\n",
      "Task 2017_B1MRcPclx\n",
      "1k 2017_B1MRcPclx\n",
      "1k 2017_B1MRcPclx\n",
      "1k 2017_B1MRcPclx\n",
      "1k 2017_B1MRcPclx\n",
      "1k 2017_B1MRcPclx\n",
      "1k 2017_B1MRcPclx\n",
      "1k 2017_B1MRcPclx\n",
      "1k 2017_B1MRcPclx\n",
      "1k 2017_B1MRcPclx\n",
      "1k 2017_B1MRcPclx\n",
      "10k 2017_B1MRcPclx\n",
      "10k 2017_B1MRcPclx\n",
      "10k 2017_B1MRcPclx\n",
      "10k 2017_B1MRcPclx\n",
      "10k 2017_B1MRcPclx\n",
      "10k 2017_B1MRcPclx\n",
      "10k 2017_B1MRcPclx\n",
      "Task 2017_B1MRcPclx\n",
      "Task 2017_B1MRcPclx\n",
      "Task 2017_B1MRcPclx\n",
      "1: Single supporting fact 2017_B1MRcPclx\n",
      "2: Two supporting facts 2017_B1MRcPclx\n",
      "3: Three supporting facts 2017_B1MRcPclx\n",
      "4: Two arg relations 2017_B1MRcPclx\n",
      "5: Three arg relations 2017_B1MRcPclx\n",
      "6: Yes/no questions 2017_B1MRcPclx\n",
      "7: Counting 2017_B1MRcPclx\n",
      "8: Lists/sets 2017_B1MRcPclx\n",
      "9 : Simple negation 2017_B1MRcPclx\n",
      "10: Indefinite knowledge 2017_B1MRcPclx\n",
      "11: Basic coreference 2017_B1MRcPclx\n",
      "12: Conjunction 2017_B1MRcPclx\n",
      "13: Compound coreference 2017_B1MRcPclx\n",
      "14: Time reasoning 2017_B1MRcPclx\n",
      "15: Basic deduction 2017_B1MRcPclx\n",
      "16: Basic induction 2017_B1MRcPclx\n",
      "17: Positional reasoning 2017_B1MRcPclx\n",
      "18: Size reasoning 2017_B1MRcPclx\n",
      "19: Path finding 2017_B1MRcPclx\n",
      "20: Agents motivations 2017_B1MRcPclx\n",
      "# Failed 2017_B1MRcPclx\n",
      "Model 2017_B1YfAfcgl\n",
      "Entropy-SGD 2017_B1YfAfcgl\n",
      "Entropy-SGD 2017_B1YfAfcgl\n",
      "SGD / Adam 2017_B1YfAfcgl\n",
      "SGD / Adam 2017_B1YfAfcgl\n",
      "Model 2017_B1YfAfcgl\n",
      "mnistfc 2017_B1YfAfcgl\n",
      "LeNet 2017_B1YfAfcgl\n",
      "All-CNN-BN 2017_B1YfAfcgl\n",
      "PTB-LSTM 2017_B1YfAfcgl\n",
      "char-LSTM 2017_B1YfAfcgl\n",
      "Novel instance 2017_B1gtu5ilg\n",
      "Novel category 2017_B1gtu5ilg\n",
      "Synthesized objects 2017_B1gtu5ilg\n",
      "Pokemon 2017_B1gtu5ilg\n",
      "Chair 2017_B1gtu5ilg\n",
      "HoG 2017_B1gtu5ilg\n",
      "AlexNetFT 2017_B1gtu5ilg\n",
      "AlexNet+CosDis 2017_B1gtu5ilg\n",
      "AlexNet+EucDis 2017_B1gtu5ilg\n",
      "OPnet 2017_B1gtu5ilg\n",
      "Joint-embedding 2017_B1gtu5ilg\n",
      "A3C 2017_B1kJ6H9ex\n",
      "Q-learning 2017_B1kJ6H9ex\n",
      "PGQL 2017_B1kJ6H9ex\n",
      "A3C 2017_B1kJ6H9ex\n",
      "Q-learning 2017_B1kJ6H9ex\n",
      "PGQL 2017_B1kJ6H9ex\n",
      "Game 2017_B1kJ6H9ex\n",
      "A3C 2017_B1kJ6H9ex\n",
      "Q-learning 2017_B1kJ6H9ex\n",
      "PGQL 2017_B1kJ6H9ex\n",
      "Game 2017_B1kJ6H9ex\n",
      "alien 2017_B1kJ6H9ex\n",
      "amidar 2017_B1kJ6H9ex\n",
      "assault 2017_B1kJ6H9ex\n",
      "asterix 2017_B1kJ6H9ex\n",
      "asteroids 2017_B1kJ6H9ex\n",
      "atlantis 2017_B1kJ6H9ex\n",
      "bank heist 2017_B1kJ6H9ex\n",
      "battle zone 2017_B1kJ6H9ex\n",
      "beam rider 2017_B1kJ6H9ex\n",
      "berzerk 2017_B1kJ6H9ex\n",
      "bowling 2017_B1kJ6H9ex\n",
      "boxing 2017_B1kJ6H9ex\n",
      "breakout 2017_B1kJ6H9ex\n",
      "centipede 2017_B1kJ6H9ex\n",
      "chopper command 2017_B1kJ6H9ex\n",
      "crazy climber 2017_B1kJ6H9ex\n",
      "defender 2017_B1kJ6H9ex\n",
      "demon attack 2017_B1kJ6H9ex\n",
      "double dunk 2017_B1kJ6H9ex\n",
      "enduro 2017_B1kJ6H9ex\n",
      "fishing derby 2017_B1kJ6H9ex\n",
      "freeway 2017_B1kJ6H9ex\n",
      "frostbite 2017_B1kJ6H9ex\n",
      "gopher 2017_B1kJ6H9ex\n",
      "gravitar 2017_B1kJ6H9ex\n",
      "hero 2017_B1kJ6H9ex\n",
      "ice hockey 2017_B1kJ6H9ex\n",
      "jamesbond 2017_B1kJ6H9ex\n",
      "kangaroo 2017_B1kJ6H9ex\n",
      "krull 2017_B1kJ6H9ex\n",
      "kung fu master 2017_B1kJ6H9ex\n",
      "montezuma revenge 2017_B1kJ6H9ex\n",
      "ms pacman 2017_B1kJ6H9ex\n",
      "name this game 2017_B1kJ6H9ex\n",
      "phoenix 2017_B1kJ6H9ex\n",
      "pitfall 2017_B1kJ6H9ex\n",
      "pong 2017_B1kJ6H9ex\n",
      "private eye 2017_B1kJ6H9ex\n",
      "qbert 2017_B1kJ6H9ex\n",
      "riverraid 2017_B1kJ6H9ex\n",
      "road runner 2017_B1kJ6H9ex\n",
      "robotank 2017_B1kJ6H9ex\n",
      "seaquest 2017_B1kJ6H9ex\n",
      "skiing 2017_B1kJ6H9ex\n",
      "solaris 2017_B1kJ6H9ex\n",
      "space invaders 2017_B1kJ6H9ex\n",
      "star gunner 2017_B1kJ6H9ex\n",
      "surround 2017_B1kJ6H9ex\n",
      "tennis 2017_B1kJ6H9ex\n",
      "time pilot 2017_B1kJ6H9ex\n",
      "tutankham 2017_B1kJ6H9ex\n",
      "up n down 2017_B1kJ6H9ex\n",
      "venture 2017_B1kJ6H9ex\n",
      "video pinball 2017_B1kJ6H9ex\n",
      "wizard of wor 2017_B1kJ6H9ex\n",
      "yars revenge 2017_B1kJ6H9ex\n",
      "zaxxon 2017_B1kJ6H9ex\n",
      "layer 2017_B1mAJI9gl\n",
      "image space 2017_B1mAJI9gl\n",
      "image space 2017_B1mAJI9gl\n",
      "image space 2017_B1mAJI9gl\n",
      "activation space 2017_B1mAJI9gl\n",
      "activation space 2017_B1mAJI9gl\n",
      "activation space 2017_B1mAJI9gl\n",
      "layer 2017_B1mAJI9gl\n",
      "layer 2017_B1mAJI9gl\n",
      "layer 2017_B1mAJI9gl\n",
      "layer 2017_B1mAJI9gl\n",
      "1 2017_B1mAJI9gl\n",
      "2 2017_B1mAJI9gl\n",
      "3 2017_B1mAJI9gl\n",
      "4 2017_B1mAJI9gl\n",
      "layer 2017_B1mAJI9gl\n",
      "conv1 2017_B1mAJI9gl\n",
      "pool1 2017_B1mAJI9gl\n",
      "conv2 2017_B1mAJI9gl\n",
      "pool2 2017_B1mAJI9gl\n",
      "conv3 2017_B1mAJI9gl\n",
      "conv4 2017_B1mAJI9gl\n",
      "conv5 2017_B1mAJI9gl\n",
      "pool5 2017_B1mAJI9gl\n",
      "layer 2017_B1mAJI9gl\n",
      "% of non-zeros 2017_B1mAJI9gl\n",
      "Model 2017_BJ0Ee8cxx\n",
      "Test Acc. 2017_BJ0Ee8cxx\n",
      "Avg. Softmax Size 2017_BJ0Ee8cxx\n",
      "Model 2017_BJ0Ee8cxx\n",
      "Full-softmax 2017_BJ0Ee8cxx\n",
      "10-MIPS 2017_BJ0Ee8cxx\n",
      "50-MIPS 2017_BJ0Ee8cxx\n",
      "100-MIPS 2017_BJ0Ee8cxx\n",
      "1000-MIPS 2017_BJ0Ee8cxx\n",
      "Clustering 2017_BJ0Ee8cxx\n",
      "PCA-Tree 2017_BJ0Ee8cxx\n",
      "WTA-Hash 2017_BJ0Ee8cxx\n",
      "1000 clusters 2017_BJ0Ee8cxx\n",
      "2000 clusters 2017_BJ0Ee8cxx\n",
      "Top-K 2017_BJ0Ee8cxx\n",
      "Yes 2017_BJ0Ee8cxx\n",
      "No 2017_BJ0Ee8cxx\n",
      "Yes 2017_BJ0Ee8cxx\n",
      "Yes 2017_BJ0Ee8cxx\n",
      "Yes 2017_BJ0Ee8cxx\n",
      "GRU-mean 2017_BJC8LF9ex\n",
      "GRU-forward 2017_BJC8LF9ex\n",
      "GRU-simple 2017_BJC8LF9ex\n",
      "GRU-D 2017_BJC8LF9ex\n",
      "Algorithm 2017_BJK3Xasel\n",
      "Starting net size 2017_BJK3Xasel\n",
      "Final net size 2017_BJK3Xasel\n",
      "Error 2017_BJK3Xasel\n",
      "Algorithm 2017_BJK3Xasel\n",
      "Logistic regression (ours) 2017_BJK3Xasel\n",
      "Naive bayes (OpenML) 2017_BJK3Xasel\n",
      "Decision tree (OpenML) 2017_BJK3Xasel\n",
      "Nonparametric net 2017_BJK3Xasel\n",
      "Nonparametric net 2017_BJK3Xasel\n",
      "Nonparametric net 2017_BJK3Xasel\n",
      "Nonparametric net 2017_BJK3Xasel\n",
      "Parametric net 2017_BJK3Xasel\n",
      "Parametric net 2017_BJK3Xasel\n",
      "Parametric net 2017_BJK3Xasel\n",
      "Parametric net 2017_BJK3Xasel\n",
      "ResNet-110 2017_BJYwwY9ll\n",
      "ResNet-110 2017_BJYwwY9ll\n",
      "ResNet-110 2017_BJYwwY9ll\n",
      "ResNet-110 2017_BJYwwY9ll\n",
      "ResNet-110 2017_BJYwwY9ll\n",
      "Wide-ResNet-32 2017_BJYwwY9ll\n",
      "Wide-ResNet-32 2017_BJYwwY9ll\n",
      "Wide-ResNet-32 2017_BJYwwY9ll\n",
      "Wide-ResNet-32 2017_BJYwwY9ll\n",
      "Wide-ResNet-32 2017_BJYwwY9ll\n",
      "Wide-ResNet-32 2017_BJYwwY9ll\n",
      "DenseNet-40 2017_BJYwwY9ll\n",
      "DenseNet-40 2017_BJYwwY9ll\n",
      "DenseNet-40 2017_BJYwwY9ll\n",
      "DenseNet-40 2017_BJYwwY9ll\n",
      "DenseNet-40 2017_BJYwwY9ll\n",
      "DenseNet-40 2017_BJYwwY9ll\n",
      "DenseNet-100 2017_BJYwwY9ll\n",
      "DenseNet-100 2017_BJYwwY9ll\n",
      "DenseNet-100 2017_BJYwwY9ll\n",
      "DenseNet-100 2017_BJYwwY9ll\n",
      "DenseNet-100 2017_BJYwwY9ll\n",
      "DenseNet-100 2017_BJYwwY9ll\n",
      "Method 2017_BJYwwY9ll\n",
      "Method 2017_BJYwwY9ll\n",
      "Single model 2017_BJYwwY9ll\n",
      "2 2017_BJYwwY9ll\n",
      "4 2017_BJYwwY9ll\n",
      "6 2017_BJYwwY9ll\n",
      "8 2017_BJYwwY9ll\n",
      "10 2017_BJYwwY9ll\n",
      "Dim. 2017_BJh6Ztuxl\n",
      "Dim. 2017_BJh6Ztuxl\n",
      "Dim. 2017_BJh6Ztuxl\n",
      "Dim. 2017_BJh6Ztuxl\n",
      "Dim. 2017_BJh6Ztuxl\n",
      "Dim. 2017_BJh6Ztuxl\n",
      "Glimpses 2017_BJjn-Yixl\n",
      "Accuracy (Test Set) 2017_BJjn-Yixl\n",
      "Glimpses 2017_BJjn-Yixl\n",
      "1 2017_BJjn-Yixl\n",
      "2 2017_BJjn-Yixl\n",
      "4 2017_BJjn-Yixl\n",
      "6 2017_BJjn-Yixl\n",
      "Model 2017_BJjn-Yixl\n",
      "Accuracy (Test Set) 2017_BJjn-Yixl\n",
      "Model 2017_BJjn-Yixl\n",
      "Siamese Network 2017_BJjn-Yixl\n",
      "Siamese ResNet (d=24, w=1) 2017_BJjn-Yixl\n",
      "Siamese ResNet (d=30, w=2) 2017_BJjn-Yixl\n",
      "Siamese ResNet (d=60, w=4) 2017_BJjn-Yixl\n",
      "Model 2017_BJjn-Yixl\n",
      "Accuracy (Test Set) 2017_BJjn-Yixl\n",
      "Model 2017_BJjn-Yixl\n",
      "Siamese ResNet (d=36, w=4) 2017_BJjn-Yixl\n",
      "ARC 2017_BJjn-Yixl\n",
      "MODEL 2017_BJjn-Yixl\n",
      "ACCURACY 2017_BJjn-Yixl\n",
      "MODEL 2017_BJjn-Yixl\n",
      "kNN 2017_BJjn-Yixl\n",
      "Conv Siamese Network 2017_BJjn-Yixl\n",
      "MANN 2017_BJjn-Yixl\n",
      "Matching Networks 2017_BJjn-Yixl\n",
      "Naive ARC 2017_BJjn-Yixl\n",
      "MODEL 2017_BJjn-Yixl\n",
      "ACCURACY 2017_BJjn-Yixl\n",
      "MODEL 2017_BJjn-Yixl\n",
      "kNN 2017_BJjn-Yixl\n",
      "Siamese Network 2017_BJjn-Yixl\n",
      "Humans 2017_BJjn-Yixl\n",
      "BPL 2017_BJjn-Yixl\n",
      "Naive ARC 2017_BJjn-Yixl\n",
      "MODEL 2017_BJjn-Yixl\n",
      "ACCURACY 2017_BJjn-Yixl\n",
      "MODEL 2017_BJjn-Yixl\n",
      "Raw Pixels w/ Cosine Similarity 2017_BJjn-Yixl\n",
      "Baseline Classifier 2017_BJjn-Yixl\n",
      "Matching Networks 2017_BJjn-Yixl\n"
     ]
    },
    {
     "name": "stdout",
     "output_type": "stream",
     "text": [
      "Clean 2017_BJm4T4Kgx\n",
      "Baseline 2017_BJm4T4Kgx\n",
      "(standard training) 2017_BJm4T4Kgx\n",
      "Adv. training 2017_BJm4T4Kgx\n",
      "Deeper model 2017_BJm4T4Kgx\n",
      "(standard training) 2017_BJm4T4Kgx\n",
      "Deeper model 2017_BJm4T4Kgx\n",
      "(Adv. training) 2017_BJm4T4Kgx\n",
      "Adv. method 2017_BJm4T4Kgx\n",
      "Training 2017_BJm4T4Kgx\n",
      "Clean 2017_BJm4T4Kgx\n",
      "Adv. method 2017_BJm4T4Kgx\n",
      "Iter. l.l. 2017_BJm4T4Kgx\n",
      "Iter. basic 2017_BJm4T4Kgx\n",
      "Clean 2017_BJm4T4Kgx\n",
      "No label leaking, 2017_BJm4T4Kgx\n",
      "With label leaking, 2017_BJm4T4Kgx\n",
      "training and eval using FGSM 2017_BJm4T4Kgx\n",
      "FGSM 2017_BJm4T4Kgx\n",
      "FGSM 2017_BJm4T4Kgx\n",
      "FGSM 2017_BJm4T4Kgx\n",
      "FGSM 2017_BJm4T4Kgx\n",
      "basic iter. 2017_BJm4T4Kgx\n",
      "basic iter. 2017_BJm4T4Kgx\n",
      "basic iter. 2017_BJm4T4Kgx\n",
      "basic iter. 2017_BJm4T4Kgx\n",
      "iter l.l. 2017_BJm4T4Kgx\n",
      "iter l.l. 2017_BJm4T4Kgx\n",
      "iter l.l. 2017_BJm4T4Kgx\n",
      "iter l.l. 2017_BJm4T4Kgx\n",
      "top 1 2017_BJm4T4Kgx\n",
      "top 5 2017_BJm4T4Kgx\n",
      "Clean 2017_BJm4T4Kgx\n",
      "No adversarial training 2017_BJm4T4Kgx\n",
      "FGSM 2017_BJm4T4Kgx\n",
      "Fast with predicted class 2017_BJm4T4Kgx\n",
      "Fast entropy 2017_BJm4T4Kgx\n",
      "Step rnd. 2017_BJm4T4Kgx\n",
      "Step l.l. 2017_BJm4T4Kgx\n",
      "Sign of random perturbation 2017_BJm4T4Kgx\n",
      "Random normal perturbation 2017_BJm4T4Kgx\n",
      "FGSM 2017_BJm4T4Kgx\n",
      "FGSM 2017_BJm4T4Kgx\n",
      "FGSM 2017_BJm4T4Kgx\n",
      "FGSM 2017_BJm4T4Kgx\n",
      "basic iter. 2017_BJm4T4Kgx\n",
      "basic iter. 2017_BJm4T4Kgx\n",
      "basic iter. 2017_BJm4T4Kgx\n",
      "basic iter. 2017_BJm4T4Kgx\n",
      "iter l.l. 2017_BJm4T4Kgx\n",
      "iter l.l. 2017_BJm4T4Kgx\n",
      "iter l.l. 2017_BJm4T4Kgx\n",
      "iter l.l. 2017_BJm4T4Kgx\n",
      "top 1 2017_BJm4T4Kgx\n",
      "top 5 2017_BJm4T4Kgx\n",
      "Adv. method 2017_BJm4T4Kgx\n",
      "Activation 2017_BJm4T4Kgx\n",
      "Clean 2017_BJm4T4Kgx\n",
      "Adv. method 2017_BJm4T4Kgx\n",
      "Step l.l. 2017_BJm4T4Kgx\n",
      "Iter. l.l. 2017_BJm4T4Kgx\n",
      "Basic iter. 2017_BJm4T4Kgx\n",
      "Clean 2017_BJm4T4Kgx\n",
      "No adv 2017_BJm4T4Kgx\n",
      "Validation 2017_BJwFrvOeg\n",
      "Validation 2017_BJwFrvOeg\n",
      "Validation 2017_BJwFrvOeg\n",
      "Test 2017_BJwFrvOeg\n",
      "Test 2017_BJwFrvOeg\n",
      "Test 2017_BJwFrvOeg\n",
      "Model 2017_BJwFrvOeg\n",
      "RNNLM 2017_BJwFrvOeg\n",
      "NKLM 2017_BJwFrvOeg\n",
      "no-copy 2017_BJwFrvOeg\n",
      "no-fact-no-copy 2017_BJwFrvOeg\n",
      "no-TransE 2017_BJwFrvOeg\n",
      "Full vocabulary 2017_Bk8N0RLxx\n",
      "Co-occurrences 2017_Bk8N0RLxx\n",
      "PCA 2017_Bk8N0RLxx\n",
      "Word align 2017_Bk8N0RLxx\n",
      "Phrase pairs 2017_Bk8N0RLxx\n",
      "SVM 2017_Bk8N0RLxx\n",
      "Full vocabulary 2017_Bk8N0RLxx\n",
      "Word align 2017_Bk8N0RLxx\n",
      "Net 2017_BkCPyXm1l\n",
      "Vanilla 2017_BkCPyXm1l\n",
      "SoftTarget 2017_BkCPyXm1l\n",
      "SoftTarget+Dropout (0.2) 2017_BkCPyXm1l\n",
      "SoftTarget+Dropout (0.5) 2017_BkCPyXm1l\n",
      "Dropout (0.2) 2017_BkCPyXm1l\n",
      "Dropout (0.5) 2017_BkCPyXm1l\n",
      "Net 2017_BkCPyXm1l\n",
      "Amount of Dropout 2017_BkCPyXm1l\n",
      "BN 2017_BkCPyXm1l\n",
      "SoftTarget 2017_BkCPyXm1l\n",
      "Just Dropout 2017_BkCPyXm1l\n",
      "SoftTarget+BN 2017_BkCPyXm1l\n",
      "Amount of Dropout 2017_BkCPyXm1l\n",
      "0 2017_BkCPyXm1l\n",
      "0.2 2017_BkCPyXm1l\n",
      "0.4 2017_BkCPyXm1l\n",
      "0.6 2017_BkCPyXm1l\n",
      "0.8 2017_BkCPyXm1l\n",
      "No Regularization 2017_BkCPyXm1l\n",
      "BN 2017_BkCPyXm1l\n",
      "SoftTarget 2017_BkCPyXm1l\n",
      "SoftTarget+BN 2017_BkCPyXm1l\n",
      "Test Loss 2017_BkCPyXm1l\n",
      "Test Accuracy 2017_BkCPyXm1l\n",
      "ASG 2017_BkUDvt5gg\n",
      "CTC 2017_BkUDvt5gg\n",
      "dev-clean 2017_BkUDvt5gg\n",
      "test-clean 2017_BkUDvt5gg\n",
      "batch 2017_BkUDvt5gg\n",
      "CTC 2017_BkUDvt5gg\n",
      "CTC 2017_BkUDvt5gg\n",
      "ASG 2017_BkUDvt5gg\n",
      "batch 2017_BkUDvt5gg\n",
      "size 2017_BkUDvt5gg\n",
      "1 2017_BkUDvt5gg\n",
      "4 2017_BkUDvt5gg\n",
      "8 2017_BkUDvt5gg\n",
      "batch 2017_BkUDvt5gg\n",
      "CTC 2017_BkUDvt5gg\n",
      "CTC 2017_BkUDvt5gg\n",
      "ASG 2017_BkUDvt5gg\n",
      "batch 2017_BkUDvt5gg\n",
      "size 2017_BkUDvt5gg\n",
      "1 2017_BkUDvt5gg\n",
      "4 2017_BkUDvt5gg\n",
      "8 2017_BkUDvt5gg\n",
      "MFCC 2017_BkUDvt5gg\n",
      "MFCC 2017_BkUDvt5gg\n",
      "PS 2017_BkUDvt5gg\n",
      "PS 2017_BkUDvt5gg\n",
      "Raw 2017_BkUDvt5gg\n",
      "Raw 2017_BkUDvt5gg\n",
      "dev-clean 2017_BkUDvt5gg\n",
      "test-clean 2017_BkUDvt5gg\n",
      "ACT 2017_Bkepl7cee\n",
      "CIFAR-10 2017_Bkepl7cee\n",
      "CIFAR-100 2017_Bkepl7cee\n",
      "ACT 2017_Bkepl7cee\n",
      "BN-ReLU 2017_Bkepl7cee\n",
      "ELU 2017_Bkepl7cee\n",
      "PELU 2017_Bkepl7cee\n",
      "BN-PReLU 2017_Bkepl7cee\n",
      "BN-PELU 2017_Bkepl7cee\n",
      "BN-ELU 2017_Bkepl7cee\n",
      "Configuration 2017_Bkepl7cee\n",
      "CIFAR-10 2017_Bkepl7cee\n",
      "CIFAR-100 2017_Bkepl7cee\n",
      "Configuration 2017_Bkepl7cee\n",
      "LSTM 2017_BkfiXiUlg\n",
      "LSTM+A 2017_BkfiXiUlg\n",
      "Reverse 2017_BkfiXiUlg\n",
      "Search 2017_BkfiXiUlg\n",
      "Merge 2017_BkfiXiUlg\n",
      "Sort 2017_BkfiXiUlg\n",
      "Add 2017_BkfiXiUlg\n",
      "Reverse 2017_BkfiXiUlg\n",
      "Search 2017_BkfiXiUlg\n",
      "Merge 2017_BkfiXiUlg\n",
      "Sort 2017_BkfiXiUlg\n",
      "Add 2017_BkfiXiUlg\n",
      "Stack 2017_BkfiXiUlg\n",
      "Queue 2017_BkfiXiUlg\n",
      "PriorityQueue 2017_BkfiXiUlg\n",
      "Adagrad (200) 2017_By5e2L9gl\n",
      "Adagrad (500) 2017_By5e2L9gl\n",
      "Adagrad (200) + LW-SVM 2017_By5e2L9gl\n",
      "Adadelta (100) 2017_By5e2L9gl\n",
      "Adadelta (500) 2017_By5e2L9gl\n",
      "Adadelta (100) + LW-SVM 2017_By5e2L9gl\n",
      "Adam (100) 2017_By5e2L9gl\n",
      "Adam (500) 2017_By5e2L9gl\n",
      "Adam (100) + LW-SVM 2017_By5e2L9gl\n",
      "Adagrad (1000) 2017_By5e2L9gl\n",
      "Adagrad (2000) 2017_By5e2L9gl\n",
      "Adagrad (1000) + LW-SVM 2017_By5e2L9gl\n",
      "Adadelta (100) 2017_By5e2L9gl\n",
      "Adadelta (200) 2017_By5e2L9gl\n",
      "Adadelta (100) + LW-SVM 2017_By5e2L9gl\n",
      "Adam (100) 2017_By5e2L9gl\n",
      "Adam (200) 2017_By5e2L9gl\n",
      "Adam (100) + LW-SVM 2017_By5e2L9gl\n",
      "Adagrad (1000) 2017_By5e2L9gl\n",
      "Adagrad (2000) 2017_By5e2L9gl\n",
      "Adagrad (1000) + LW-SVM 2017_By5e2L9gl\n",
      "Adadelta (100) 2017_By5e2L9gl\n",
      "Adadelta (200) 2017_By5e2L9gl\n",
      "Adadelta (100) + LW-SVM 2017_By5e2L9gl\n",
      "Adam (100) 2017_By5e2L9gl\n",
      "Adam (200) 2017_By5e2L9gl\n",
      "Adam (100) + LW-SVM 2017_By5e2L9gl\n",
      "VGG-16 (PT) 2017_By5e2L9gl\n",
      "VGG-16 (PT + LW-SVM) 2017_By5e2L9gl\n",
      "# 2017_ByC7ww9le\n",
      "1 2017_ByC7ww9le\n",
      "2 2017_ByC7ww9le\n",
      "3 2017_ByC7ww9le\n",
      "4 2017_ByC7ww9le\n",
      "5 2017_ByC7ww9le\n",
      "6 2017_ByC7ww9le\n",
      "7 2017_ByC7ww9le\n",
      "8 2017_ByC7ww9le\n",
      "9 2017_ByC7ww9le\n",
      "10 2017_ByC7ww9le\n",
      "11 2017_ByC7ww9le\n",
      "12 2017_ByC7ww9le\n",
      "Overall (Path Query) 2017_ByC7ww9le\n",
      "13 2017_ByC7ww9le\n",
      "14 2017_ByC7ww9le\n",
      "15 2017_ByC7ww9le\n",
      "Overall (Conj. Query) 2017_ByC7ww9le\n",
      "# 2017_ByC7ww9le\n",
      "1 2017_ByC7ww9le\n",
      "2 2017_ByC7ww9le\n",
      "3 2017_ByC7ww9le\n",
      "4 2017_ByC7ww9le\n",
      "5 2017_ByC7ww9le\n",
      "6 2017_ByC7ww9le\n",
      "7 2017_ByC7ww9le\n",
      "8 2017_ByC7ww9le\n",
      "9 2017_ByC7ww9le\n",
      "10 2017_ByC7ww9le\n",
      "11 2017_ByC7ww9le\n",
      "12 2017_ByC7ww9le\n",
      "Overall 2017_ByC7ww9le\n",
      "# 2017_ByC7ww9le\n",
      "13 2017_ByC7ww9le\n",
      "14 2017_ByC7ww9le\n",
      "15 2017_ByC7ww9le\n",
      "Overall 2017_ByC7ww9le\n",
      "Model 2017_ByC7ww9le\n",
      "Model 2017_ByC7ww9le\n",
      "TransE (SINGLE) 2017_ByC7ww9le\n",
      "TransE (COMP) 2017_ByC7ww9le\n",
      "TransGaussian (SINGLE) 2017_ByC7ww9le\n",
      "TransGaussian (COMP) 2017_ByC7ww9le\n",
      "Model 2017_ByG8A7cee\n",
      "val 2017_ByG8A7cee\n",
      "val 2017_ByG8A7cee\n",
      "val 2017_ByG8A7cee\n",
      "test 2017_ByG8A7cee\n",
      "test 2017_ByG8A7cee\n",
      "test 2017_ByG8A7cee\n",
      "Model 2017_ByG8A7cee\n",
      "Model 2017_ByG8A7cee\n",
      "LM 2017_ByG8A7cee\n",
      "Pointer 2017_ByG8A7cee\n",
      "Pointer + init 2017_ByG8A7cee\n",
      "ResNet-18-obj 2017_ByQPVFull\n",
      "Only Bg 2017_ByQPVFull\n",
      "Only Fg 2017_ByQPVFull\n",
      "GoCNN 2017_ByQPVFull\n",
      "SVM+ 2017_ByQPVFull\n",
      "ResNet-18 2017_ByQPVFull\n",
      "GoCNN 2017_ByQPVFull\n",
      "Model 2017_ByQPVFull\n",
      "areo 2017_ByQPVFull\n",
      "bike 2017_ByQPVFull\n",
      "bird 2017_ByQPVFull\n",
      "boat 2017_ByQPVFull\n",
      "bottle 2017_ByQPVFull\n",
      "bus 2017_ByQPVFull\n",
      "car 2017_ByQPVFull\n",
      "cat 2017_ByQPVFull\n",
      "chair 2017_ByQPVFull\n",
      "cow 2017_ByQPVFull\n",
      "table 2017_ByQPVFull\n",
      "dog 2017_ByQPVFull\n",
      "horse 2017_ByQPVFull\n",
      "mbk 2017_ByQPVFull\n",
      "prsn 2017_ByQPVFull\n",
      "plant 2017_ByQPVFull\n",
      "sheep 2017_ByQPVFull\n",
      "sofa 2017_ByQPVFull\n",
      "train 2017_ByQPVFull\n",
      "tv 2017_ByQPVFull\n",
      "Model 2017_ByQPVFull\n",
      "ResNet-18 2017_ByQPVFull\n",
      "GoCNN 2017_ByQPVFull\n",
      "Model 2017_ByQPVFull\n",
      "Model 2017_ByQPVFull\n",
      "ResNet-18 2017_ByQPVFull\n",
      "GoCNN 2017_ByQPVFull\n",
      "Model 2017_ByQPVFull\n",
      "Top-1 Accuracy 2017_ByQPVFull\n",
      "Top-5 Accuracy 2017_ByQPVFull\n",
      "Model 2017_ByQPVFull\n",
      "GoCNN (152 layers) 2017_ByQPVFull\n",
      "Architecture 2017_BydARw9ex\n",
      "% Infeasible (1 layer) 2017_BydARw9ex\n",
      "% Infeasible (8 layer) 2017_BydARw9ex\n",
      "Architecture 2017_BydARw9ex\n",
      "+RNN 2017_BydARw9ex\n"
     ]
    },
    {
     "ename": "error",
     "evalue": "nothing to repeat at position 0",
     "output_type": "error",
     "traceback": [
      "\u001b[0;31m---------------------------------------------------------------------------\u001b[0m",
      "\u001b[0;31merror\u001b[0m                                     Traceback (most recent call last)",
      "\u001b[0;32m<ipython-input-516-74c22511585e>\u001b[0m in \u001b[0;36m<module>\u001b[0;34m\u001b[0m\n\u001b[1;32m     57\u001b[0m \u001b[0;31m#             print(full_latex_text[full_latex_text.find(candidate_ref_method):full_latex_text.find(candidate_ref_method)+50])\u001b[0m\u001b[0;34m\u001b[0m\u001b[0;34m\u001b[0m\u001b[0;34m\u001b[0m\u001b[0m\n\u001b[1;32m     58\u001b[0m             \u001b[0mprint\u001b[0m\u001b[0;34m(\u001b[0m\u001b[0mcandidate_ref_method\u001b[0m\u001b[0;34m,\u001b[0m \u001b[0mk\u001b[0m\u001b[0;34m)\u001b[0m\u001b[0;34m\u001b[0m\u001b[0;34m\u001b[0m\u001b[0m\n\u001b[0;32m---> 59\u001b[0;31m             \u001b[0;32mfor\u001b[0m \u001b[0mlocss\u001b[0m \u001b[0;32min\u001b[0m \u001b[0mre\u001b[0m\u001b[0;34m.\u001b[0m\u001b[0mfinditer\u001b[0m\u001b[0;34m(\u001b[0m\u001b[0mcandidate_ref_method\u001b[0m\u001b[0;34m,\u001b[0m \u001b[0mfull_latex_text\u001b[0m\u001b[0;34m)\u001b[0m\u001b[0;34m:\u001b[0m\u001b[0;34m\u001b[0m\u001b[0;34m\u001b[0m\u001b[0m\n\u001b[0m\u001b[1;32m     60\u001b[0m                 \u001b[0mstart_loc\u001b[0m \u001b[0;34m=\u001b[0m \u001b[0mlocss\u001b[0m\u001b[0;34m.\u001b[0m\u001b[0mstart\u001b[0m\u001b[0;34m(\u001b[0m\u001b[0;34m)\u001b[0m\u001b[0;34m\u001b[0m\u001b[0;34m\u001b[0m\u001b[0m\n\u001b[1;32m     61\u001b[0m                 \u001b[0mend_loc\u001b[0m \u001b[0;34m=\u001b[0m \u001b[0mlocss\u001b[0m\u001b[0;34m.\u001b[0m\u001b[0mend\u001b[0m\u001b[0;34m(\u001b[0m\u001b[0;34m)\u001b[0m\u001b[0;34m\u001b[0m\u001b[0;34m\u001b[0m\u001b[0m\n",
      "\u001b[0;32m~/anaconda3/envs/axcell/lib/python3.7/re.py\u001b[0m in \u001b[0;36mfinditer\u001b[0;34m(pattern, string, flags)\u001b[0m\n\u001b[1;32m    228\u001b[0m \u001b[0;34m\u001b[0m\u001b[0m\n\u001b[1;32m    229\u001b[0m     Empty matches are included in the result.\"\"\"\n\u001b[0;32m--> 230\u001b[0;31m     \u001b[0;32mreturn\u001b[0m \u001b[0m_compile\u001b[0m\u001b[0;34m(\u001b[0m\u001b[0mpattern\u001b[0m\u001b[0;34m,\u001b[0m \u001b[0mflags\u001b[0m\u001b[0;34m)\u001b[0m\u001b[0;34m.\u001b[0m\u001b[0mfinditer\u001b[0m\u001b[0;34m(\u001b[0m\u001b[0mstring\u001b[0m\u001b[0;34m)\u001b[0m\u001b[0;34m\u001b[0m\u001b[0;34m\u001b[0m\u001b[0m\n\u001b[0m\u001b[1;32m    231\u001b[0m \u001b[0;34m\u001b[0m\u001b[0m\n\u001b[1;32m    232\u001b[0m \u001b[0;32mdef\u001b[0m \u001b[0mcompile\u001b[0m\u001b[0;34m(\u001b[0m\u001b[0mpattern\u001b[0m\u001b[0;34m,\u001b[0m \u001b[0mflags\u001b[0m\u001b[0;34m=\u001b[0m\u001b[0;36m0\u001b[0m\u001b[0;34m)\u001b[0m\u001b[0;34m:\u001b[0m\u001b[0;34m\u001b[0m\u001b[0;34m\u001b[0m\u001b[0m\n",
      "\u001b[0;32m~/anaconda3/envs/axcell/lib/python3.7/re.py\u001b[0m in \u001b[0;36m_compile\u001b[0;34m(pattern, flags)\u001b[0m\n\u001b[1;32m    284\u001b[0m     \u001b[0;32mif\u001b[0m \u001b[0;32mnot\u001b[0m \u001b[0msre_compile\u001b[0m\u001b[0;34m.\u001b[0m\u001b[0misstring\u001b[0m\u001b[0;34m(\u001b[0m\u001b[0mpattern\u001b[0m\u001b[0;34m)\u001b[0m\u001b[0;34m:\u001b[0m\u001b[0;34m\u001b[0m\u001b[0;34m\u001b[0m\u001b[0m\n\u001b[1;32m    285\u001b[0m         \u001b[0;32mraise\u001b[0m \u001b[0mTypeError\u001b[0m\u001b[0;34m(\u001b[0m\u001b[0;34m\"first argument must be string or compiled pattern\"\u001b[0m\u001b[0;34m)\u001b[0m\u001b[0;34m\u001b[0m\u001b[0;34m\u001b[0m\u001b[0m\n\u001b[0;32m--> 286\u001b[0;31m     \u001b[0mp\u001b[0m \u001b[0;34m=\u001b[0m \u001b[0msre_compile\u001b[0m\u001b[0;34m.\u001b[0m\u001b[0mcompile\u001b[0m\u001b[0;34m(\u001b[0m\u001b[0mpattern\u001b[0m\u001b[0;34m,\u001b[0m \u001b[0mflags\u001b[0m\u001b[0;34m)\u001b[0m\u001b[0;34m\u001b[0m\u001b[0;34m\u001b[0m\u001b[0m\n\u001b[0m\u001b[1;32m    287\u001b[0m     \u001b[0;32mif\u001b[0m \u001b[0;32mnot\u001b[0m \u001b[0;34m(\u001b[0m\u001b[0mflags\u001b[0m \u001b[0;34m&\u001b[0m \u001b[0mDEBUG\u001b[0m\u001b[0;34m)\u001b[0m\u001b[0;34m:\u001b[0m\u001b[0;34m\u001b[0m\u001b[0;34m\u001b[0m\u001b[0m\n\u001b[1;32m    288\u001b[0m         \u001b[0;32mif\u001b[0m \u001b[0mlen\u001b[0m\u001b[0;34m(\u001b[0m\u001b[0m_cache\u001b[0m\u001b[0;34m)\u001b[0m \u001b[0;34m>=\u001b[0m \u001b[0m_MAXCACHE\u001b[0m\u001b[0;34m:\u001b[0m\u001b[0;34m\u001b[0m\u001b[0;34m\u001b[0m\u001b[0m\n",
      "\u001b[0;32m~/anaconda3/envs/axcell/lib/python3.7/sre_compile.py\u001b[0m in \u001b[0;36mcompile\u001b[0;34m(p, flags)\u001b[0m\n\u001b[1;32m    762\u001b[0m     \u001b[0;32mif\u001b[0m \u001b[0misstring\u001b[0m\u001b[0;34m(\u001b[0m\u001b[0mp\u001b[0m\u001b[0;34m)\u001b[0m\u001b[0;34m:\u001b[0m\u001b[0;34m\u001b[0m\u001b[0;34m\u001b[0m\u001b[0m\n\u001b[1;32m    763\u001b[0m         \u001b[0mpattern\u001b[0m \u001b[0;34m=\u001b[0m \u001b[0mp\u001b[0m\u001b[0;34m\u001b[0m\u001b[0;34m\u001b[0m\u001b[0m\n\u001b[0;32m--> 764\u001b[0;31m         \u001b[0mp\u001b[0m \u001b[0;34m=\u001b[0m \u001b[0msre_parse\u001b[0m\u001b[0;34m.\u001b[0m\u001b[0mparse\u001b[0m\u001b[0;34m(\u001b[0m\u001b[0mp\u001b[0m\u001b[0;34m,\u001b[0m \u001b[0mflags\u001b[0m\u001b[0;34m)\u001b[0m\u001b[0;34m\u001b[0m\u001b[0;34m\u001b[0m\u001b[0m\n\u001b[0m\u001b[1;32m    765\u001b[0m     \u001b[0;32melse\u001b[0m\u001b[0;34m:\u001b[0m\u001b[0;34m\u001b[0m\u001b[0;34m\u001b[0m\u001b[0m\n\u001b[1;32m    766\u001b[0m         \u001b[0mpattern\u001b[0m \u001b[0;34m=\u001b[0m \u001b[0;32mNone\u001b[0m\u001b[0;34m\u001b[0m\u001b[0;34m\u001b[0m\u001b[0m\n",
      "\u001b[0;32m~/anaconda3/envs/axcell/lib/python3.7/sre_parse.py\u001b[0m in \u001b[0;36mparse\u001b[0;34m(str, flags, pattern)\u001b[0m\n\u001b[1;32m    928\u001b[0m \u001b[0;34m\u001b[0m\u001b[0m\n\u001b[1;32m    929\u001b[0m     \u001b[0;32mtry\u001b[0m\u001b[0;34m:\u001b[0m\u001b[0;34m\u001b[0m\u001b[0;34m\u001b[0m\u001b[0m\n\u001b[0;32m--> 930\u001b[0;31m         \u001b[0mp\u001b[0m \u001b[0;34m=\u001b[0m \u001b[0m_parse_sub\u001b[0m\u001b[0;34m(\u001b[0m\u001b[0msource\u001b[0m\u001b[0;34m,\u001b[0m \u001b[0mpattern\u001b[0m\u001b[0;34m,\u001b[0m \u001b[0mflags\u001b[0m \u001b[0;34m&\u001b[0m \u001b[0mSRE_FLAG_VERBOSE\u001b[0m\u001b[0;34m,\u001b[0m \u001b[0;36m0\u001b[0m\u001b[0;34m)\u001b[0m\u001b[0;34m\u001b[0m\u001b[0;34m\u001b[0m\u001b[0m\n\u001b[0m\u001b[1;32m    931\u001b[0m     \u001b[0;32mexcept\u001b[0m \u001b[0mVerbose\u001b[0m\u001b[0;34m:\u001b[0m\u001b[0;34m\u001b[0m\u001b[0;34m\u001b[0m\u001b[0m\n\u001b[1;32m    932\u001b[0m         \u001b[0;31m# the VERBOSE flag was switched on inside the pattern.  to be\u001b[0m\u001b[0;34m\u001b[0m\u001b[0;34m\u001b[0m\u001b[0;34m\u001b[0m\u001b[0m\n",
      "\u001b[0;32m~/anaconda3/envs/axcell/lib/python3.7/sre_parse.py\u001b[0m in \u001b[0;36m_parse_sub\u001b[0;34m(source, state, verbose, nested)\u001b[0m\n\u001b[1;32m    424\u001b[0m     \u001b[0;32mwhile\u001b[0m \u001b[0;32mTrue\u001b[0m\u001b[0;34m:\u001b[0m\u001b[0;34m\u001b[0m\u001b[0;34m\u001b[0m\u001b[0m\n\u001b[1;32m    425\u001b[0m         itemsappend(_parse(source, state, verbose, nested + 1,\n\u001b[0;32m--> 426\u001b[0;31m                            not nested and not items))\n\u001b[0m\u001b[1;32m    427\u001b[0m         \u001b[0;32mif\u001b[0m \u001b[0;32mnot\u001b[0m \u001b[0msourcematch\u001b[0m\u001b[0;34m(\u001b[0m\u001b[0;34m\"|\"\u001b[0m\u001b[0;34m)\u001b[0m\u001b[0;34m:\u001b[0m\u001b[0;34m\u001b[0m\u001b[0;34m\u001b[0m\u001b[0m\n\u001b[1;32m    428\u001b[0m             \u001b[0;32mbreak\u001b[0m\u001b[0;34m\u001b[0m\u001b[0;34m\u001b[0m\u001b[0m\n",
      "\u001b[0;32m~/anaconda3/envs/axcell/lib/python3.7/sre_parse.py\u001b[0m in \u001b[0;36m_parse\u001b[0;34m(source, state, verbose, nested, first)\u001b[0m\n\u001b[1;32m    649\u001b[0m             \u001b[0;32mif\u001b[0m \u001b[0;32mnot\u001b[0m \u001b[0mitem\u001b[0m \u001b[0;32mor\u001b[0m \u001b[0mitem\u001b[0m\u001b[0;34m[\u001b[0m\u001b[0;36m0\u001b[0m\u001b[0;34m]\u001b[0m\u001b[0;34m[\u001b[0m\u001b[0;36m0\u001b[0m\u001b[0;34m]\u001b[0m \u001b[0;32mis\u001b[0m \u001b[0mAT\u001b[0m\u001b[0;34m:\u001b[0m\u001b[0;34m\u001b[0m\u001b[0;34m\u001b[0m\u001b[0m\n\u001b[1;32m    650\u001b[0m                 raise source.error(\"nothing to repeat\",\n\u001b[0;32m--> 651\u001b[0;31m                                    source.tell() - here + len(this))\n\u001b[0m\u001b[1;32m    652\u001b[0m             \u001b[0;32mif\u001b[0m \u001b[0mitem\u001b[0m\u001b[0;34m[\u001b[0m\u001b[0;36m0\u001b[0m\u001b[0;34m]\u001b[0m\u001b[0;34m[\u001b[0m\u001b[0;36m0\u001b[0m\u001b[0;34m]\u001b[0m \u001b[0;32min\u001b[0m \u001b[0m_REPEATCODES\u001b[0m\u001b[0;34m:\u001b[0m\u001b[0;34m\u001b[0m\u001b[0;34m\u001b[0m\u001b[0m\n\u001b[1;32m    653\u001b[0m                 raise source.error(\"multiple repeat\",\n",
      "\u001b[0;31merror\u001b[0m: nothing to repeat at position 0"
     ]
    }
   ],
   "source": [
    "for k in unext_for_full_text:\n",
    "    arxivid = iclr_arxiv_map[k][\"arxivId\"]\n",
    "    dir_name = arxivid.split(\".\")[0]\n",
    "    \n",
    "    paper = pc.get_by_id(arxivid)\n",
    "    \n",
    "    useful_tables = []\n",
    "    for idx, l in enumerate(leaderboard_table_refs[k][\"table_labels\"]):\n",
    "        if l[0] == \"leaderboard\" or l[0] == \"ablation\":\n",
    "            useful_tables.append(idx)\n",
    "    \n",
    "    # Read all tex file to extract references\n",
    "    full_latex_text = \"\"\n",
    "    potential_tex_files = glob.glob(\"./data/unpacked_sources/{}/{}/*.tex\".format(dir_name, arxivid))\n",
    "    try:\n",
    "        new_potents = []\n",
    "        new_potents = glob.glob(\"./data/unpacked_sources/{}/{}/[a-zA-Z]*/*.tex\".format(dir_name, arxivid))\n",
    "    except Exception:\n",
    "        continue\n",
    "    \n",
    "    \n",
    "    potential_main_tex_files = []\n",
    "    # Finding the main tex file\n",
    "    for f in potential_tex_files:\n",
    "        file_name = f.rsplit(\"/\", 1)[1]\n",
    "        if file_name.find(\"main\") > -1:\n",
    "            potential_main_tex_files.append(f)\n",
    "        elif file_name.find(\"iclr\") > -1:\n",
    "            potential_main_tex_files.append(f)\n",
    "    \n",
    "    for f in new_potents:\n",
    "        file_name = f.rsplit(\"/\", 1)[1]\n",
    "        if file_name.find(\"main\") > -1:\n",
    "            potential_main_tex_files.append(f)\n",
    "        elif file_name.find(\"iclr\") > -1:\n",
    "            potential_main_tex_files.append(f)\n",
    "    \n",
    "    \n",
    "    for f in potential_tex_files:\n",
    "        try:\n",
    "            with open(f, \"r\") as filehandler:\n",
    "                file_lines = filehandler.readlines()\n",
    "            full_latex_text += \" \".join(file_lines)\n",
    "        except Exception as ex:\n",
    "            continue\n",
    "    \n",
    "    if new_potents:\n",
    "        for f in new_potents:\n",
    "            try:\n",
    "                with open(f, \"r\") as filehandler:\n",
    "                    file_lines = filehandler.readlines()\n",
    "                full_latex_text += \" \".join(file_lines)\n",
    "            except Exception as ex:\n",
    "                continue\n",
    "#     try:\n",
    "    full_text[k] = full_latex_text\n",
    "    candidates_for_ref_methods = []\n",
    "    for indices in useful_tables:\n",
    "        row = paper.tables[indices].df.loc[0,:]\n",
    "        col = paper.tables[indices].df.loc[:,0]\n",
    "\n",
    "        for iii in row:\n",
    "            if iii.raw_value.strip():\n",
    "                candidates_for_ref_methods.append(iii.raw_value)\n",
    "        for iii in col:\n",
    "            if iii.raw_value.strip():\n",
    "                candidates_for_ref_methods.append(iii.raw_value)\n",
    "#     print(candidates_for_ref_methods, \"\\n\\n\\n\")\n",
    "    candidatesssssss[k] = candidates_for_ref_methods\n",
    "\n",
    "    for candidate_ref_method in candidates_for_ref_methods:\n",
    "        if candidate_ref_method.find(\"et al\") > -1:\n",
    "            full_text_refs_dict[k].append(candidate_ref_method)\n",
    "        if full_latex_text.find(candidate_ref_method) > -1:\n",
    "#             print(full_latex_text[full_latex_text.find(candidate_ref_method):full_latex_text.find(candidate_ref_method)+50])\n",
    "            print(candidate_ref_method, k)\n",
    "            for locss in re.finditer(candidate_ref_method, full_latex_text):\n",
    "                start_loc = locss.start()\n",
    "                end_loc = locss.end()\n",
    "                chunk = full_latex_text[max(0, start_loc-50): min(end_loc+50, len(full_latex_text))]\n",
    "                m = re.findall(\"cite[a-z\\{]\", chunk)\n",
    "                if m:\n",
    "                    full_text_refs_dict[k].append(chunk)\n",
    "#     except Exception as ex:\n",
    "#         print(ex)\n",
    "#         continue\n",
    "#     break"
   ]
  },
  {
   "cell_type": "code",
   "execution_count": 507,
   "metadata": {},
   "outputs": [
    {
     "data": {
      "text/plain": [
       "933"
      ]
     },
     "execution_count": 507,
     "metadata": {},
     "output_type": "execute_result"
    }
   ],
   "source": [
    "len(full_text_refs_dict)"
   ]
  },
  {
   "cell_type": "code",
   "execution_count": null,
   "metadata": {},
   "outputs": [],
   "source": []
  },
  {
   "cell_type": "code",
   "execution_count": 508,
   "metadata": {},
   "outputs": [],
   "source": [
    "still_left_set = set(unext_for_full_text) - set(list(full_text_refs_dict.keys()))"
   ]
  },
  {
   "cell_type": "code",
   "execution_count": 509,
   "metadata": {},
   "outputs": [
    {
     "data": {
      "text/plain": [
       "(263,\n",
       " ['2019_SkVRTj0cYQ',\n",
       "  '2019_rkevMnRqYQ',\n",
       "  '2020_SJx0PAEFDS',\n",
       "  '2020_SJlxglSFPB',\n",
       "  '2020_Hkls_yBKDB',\n",
       "  '2020_S1x2PCNKDB',\n",
       "  '2020_S1xitgHtvS',\n",
       "  '2017_SJJKxrsgl',\n",
       "  '2017_B1YfAfcgl',\n",
       "  '2018_rkpoTaxA-',\n",
       "  '2017_BydARw9ex',\n",
       "  '2017_ryelgY5eg',\n",
       "  '2020_HJxiMAVtPH',\n",
       "  '2018_rkr1UDeC-',\n",
       "  '2019_SJequsCqKQ',\n",
       "  '2020_HyeKcgHFvS',\n",
       "  '2020_HkgtJRVFPS',\n",
       "  '2017_SJNDWNOlg',\n",
       "  '2018_HkanP0lRW',\n",
       "  '2019_B1GSBsRcFX'])"
      ]
     },
     "execution_count": 509,
     "metadata": {},
     "output_type": "execute_result"
    }
   ],
   "source": [
    "len(still_left_set), list(still_left_set)[0:20]"
   ]
  },
  {
   "cell_type": "code",
   "execution_count": 511,
   "metadata": {},
   "outputs": [
    {
     "data": {
      "text/plain": [
       "['Testing (training) accuracy (%)',\n",
       " 'Testing (training) accuracy (%)',\n",
       " 'Testing (training) accuracy (%)',\n",
       " 'Testing (training) accuracy (%)',\n",
       " 'Dataset',\n",
       " 'MNIST',\n",
       " 'SVHN',\n",
       " 'CIFAR',\n",
       " 'CIFAR',\n",
       " 'CIFAR',\n",
       " 'CIFAR+',\n",
       " 'CIFAR+',\n",
       " 'CIFAR+']"
      ]
     },
     "execution_count": 511,
     "metadata": {},
     "output_type": "execute_result"
    }
   ],
   "source": [
    "# full_text[\"2020_ryxtCpNtDS\"]\n",
    "candidatesssssss[\"2019_B1GSBsRcFX\"]"
   ]
  },
  {
   "cell_type": "code",
   "execution_count": 517,
   "metadata": {},
   "outputs": [
    {
     "data": {
      "text/plain": [
       "'1611.09913v3'"
      ]
     },
     "execution_count": 517,
     "metadata": {},
     "output_type": "execute_result"
    }
   ],
   "source": [
    "iclr_arxiv_map[\"2017_BydARw9ex\"][\"arxivId\"]"
   ]
  },
  {
   "cell_type": "code",
   "execution_count": 518,
   "metadata": {},
   "outputs": [],
   "source": [
    "ft = full_text[\"2017_BydARw9ex\"]\n",
    "#.find(\"Matching Networks\")"
   ]
  },
  {
   "cell_type": "code",
   "execution_count": 522,
   "metadata": {},
   "outputs": [
    {
     "name": "stdout",
     "output_type": "stream",
     "text": [
      "['citep', 'citet'] itep{srivastava2015highway} and residual connections \\citep{he2015deep}, respectively.  Indeed, the +RNN was inspired in \n",
      " part by the coupled depth gate of \\citet{srivastava2015highway}.\n",
      " \n",
      " \\subsection{Recurrent Neural Network Architectures} \\label{rnn architectures}\n",
      " Below we briefly define the RNN architectures used in this study.  Unless otherwise stated \n",
      " $\\WW$ denotes a matrix, $\\bb$ denotes a vector of biases.  The symbol $\\xxt$ is the \n",
      " input at time $t$, and $\\hht$ is the hidden state at time $t$.  Remaining vector \n",
      " variables represent intermediate values.  The function  $\\sigma(\\cdot)$ denotes \n",
      " the logistic sigmoid function and $\\ft(\\cdot)$ is either $\\tanh$ or $\\relu$, set \n",
      " as a \\hp (see Appendix, Section RNN \\hps for the complete \n",
      " list of \\hps).  Initial conditions for the networks were set to a learned \n",
      " bias. Finally, it is a well-known trick of the trade to initialize the gates of an \n",
      " LSTM or GRU with a large bias to induce better gradient flow.  We included this \n",
      " parameter, denoted as $\\bfg$, and tuned it along with all other \\hps.\n",
      " \n",
      " \\subsubsection*{RNN, IRNN \\cite\n",
      "['citep'] m + \\Wox\\;\\xxt + \\bbo  \\right) \\\\\n",
      "   \\hht &= \\oot \\cdot \\tanh(\\cct)\n",
      " \\end{align}\n",
      " \n",
      " \\subsubsection*{+RNN - Intersection RNN}\n",
      " Due to the success of the UGRNN for shallower architectures in this study \n",
      " (see later figures on trainability), as well as some of the observed trainability \n",
      " problems for both the LSTM and GRU for deeper architectures (e.g. Figure \\ref{fig hard tasks}h) we developed the Intersection RNN (denoted with a `+') architecture with a coupled depth gate in addition to a coupled recurrent gate.  Additional influences for this architecture were the recurrent gating of the LSTM and GRU, and the depth gating \n",
      " from the highway network \\citep{srivastava2015highway}. This architecture has recurrent \n",
      " input, $\\hhtm$, and depth input, $\\xxt$.  It also has recurrent output, $\\hht$, and \n",
      " depth output, $\\yyt$.  Note that this architecture only applies between layers where $\\xxt$ \n",
      " and $\\yyt$ have the same dimension, and is not appropriate for networks \n",
      " with a depth of 1 (we exclude depth one +RNNs in our experiments). \n",
      " \\begin{align}\n",
      "     \\yyt^{in} &= \\mbox{s1}\\;(\\Wyh \\; \\hhtm +\n",
      "['citep'] e the same dimension, and is not appropriate for networks \n",
      " with a depth of 1 (we exclude depth one +RNNs in our experiments). \n",
      " \\begin{align}\n",
      "     \\yyt^{in} &= \\mbox{s1}\\;(\\Wyh \\; \\hhtm + \\Wyx\\;\\xxt + \\bby) \\\\\n",
      "     \\hht^{in} &= \\mbox{s2}\\;(\\Whh \\; \\hhtm + \\Whx\\;\\xxt + \\bbh) \\\\\n",
      "     \\ggt^y &= \\sigma\\left(\\Wgyh\\; \\hhtm + \\Wgyx\\;\\xxt + \\bbg^y + b^{fg,y} \\right) \\\\\n",
      "     \\ggt^h &= \\sigma\\left(\\Wghh\\; \\hhtm + \\Wghx\\;\\xxt + \\bbg^h + b^{fg,h} \\right) \\\\\n",
      "     \\yyt &= \\ggt^{y} \\cdot \\xxt + (1-\\ggt^y) \\cdot \\mathbf{y}_t^{in} \\\\\n",
      "     \\hht &= \\ggt^{h} \\cdot \\hhtm + (1-\\ggt^h) \\cdot \\mathbf{h}_t^{in} \n",
      " \\end{align}\n",
      " In practice we used $\\relu$ for s1 and $\\tanh$ for s2.\n",
      " \n",
      " \\section{Capacity Experiments}\n",
      " \n",
      " \\subsection{Per-parameter capacity}\\label{sec ppc}\n",
      " A foundational result in machine learning is that a single-layer\n",
      " perceptron with $N^2$ parameters can store at least 2 bits of information per\n",
      " parameter \\citep{cover1965geometrical,gardner1988space,baldi1987number}. \n",
      " More precisely, a perceptron can implement a mapping from $2N$, $N$-dimensional, \n",
      " input vectors to arbitrary $N$-dimensional bina\n",
      "['citet', 'citet'] \n",
      " All things considered, in an uncertain training environment, our results suggest using the GRU or +RNN.\n",
      " \n",
      " \\section{Acknowledgements}\n",
      " \n",
      " We would like to thank Geoffrey Irving, Alex Alemi, Quoc Le, Navdeep Jaitly, and Taco Cohen for helpful feedback.\n",
      " \n",
      " %\n",
      " %\n",
      " %\n",
      " %\n",
      " %\n",
      " %\n",
      " %\n",
      " %\n",
      " %\n",
      " %\n",
      " %\n",
      " %\n",
      " %\n",
      " %\n",
      " \n",
      " %\n",
      " %\n",
      " \n",
      " \\small\n",
      " \\bibliographystyle{iclr2017_conference}\n",
      " \\bibliography{cap_n_learn_rnn}\n",
      " \n",
      " \n",
      " \\clearpage\n",
      " \\normalsize\n",
      " \\appendix\n",
      " \\part*{Appendix}\n",
      " \n",
      " \\setcounter{figure}{0} \\renewcommand{\\thefigure}{App.\\arabic{figure}}\n",
      " \\setcounter{table}{0} \\renewcommand{\\thetable}{App.\\arabic{table}}\n",
      " \n",
      " \\section{RNN \\hps Set by the \\hp Tuner} \\label{hptuner}\n",
      " \n",
      " We used a \\hp tuner that uses a Gaussian Process (GP) Bandits approach\n",
      " for \\hp optimization.  Our setting of the tuner's internal\n",
      " parameters was such that it uses Batched GP Bandits with an expected\n",
      " improvement acquisition function and a Matern 5/2 Kernel with feature scaling\n",
      " and automatic relevance determination performed by optimizing over kernel\n",
      " \\hps. Please see \\citet{desautels2014parallelizing} and\n",
      " \\citet{snoek2012practical} for closely rel\n"
     ]
    }
   ],
   "source": [
    "for locss in re.finditer(\"\\+RNN\", ft):\n",
    "    start_loc = locss.start()\n",
    "    end_loc = locss.end()\n",
    "    chunk = ft[max(0, start_loc-100): min(end_loc+1000, len(full_latex_text))]\n",
    "    m = re.findall(\"cite[a-z\\{]\", chunk)\n",
    "    if m:\n",
    "        print(m, chunk)"
   ]
  },
  {
   "cell_type": "code",
   "execution_count": null,
   "metadata": {},
   "outputs": [],
   "source": []
  },
  {
   "cell_type": "code",
   "execution_count": 396,
   "metadata": {},
   "outputs": [
    {
     "data": {
      "text/plain": [
       "('2017_B1-Hhnslg',\n",
       " {'tcount': [6, 4, 2, 0],\n",
       "  'table_labels': [('leaderboard',),\n",
       "   ('leaderboard',),\n",
       "   ('leaderboard',),\n",
       "   ('ablation',),\n",
       "   ('leaderboard',),\n",
       "   ('ablation',)]})"
      ]
     },
     "execution_count": 396,
     "metadata": {},
     "output_type": "execute_result"
    }
   ],
   "source": [
    "list(leaderboard_table_refs.items())[0]"
   ]
  },
  {
   "cell_type": "code",
   "execution_count": null,
   "metadata": {},
   "outputs": [],
   "source": []
  },
  {
   "cell_type": "code",
   "execution_count": null,
   "metadata": {},
   "outputs": [],
   "source": []
  },
  {
   "cell_type": "code",
   "execution_count": null,
   "metadata": {},
   "outputs": [],
   "source": [
    "#         paper_bibitems = []\n",
    "#         bibitem = []\n",
    "#         start_looking = True\n",
    "#         start_appending = False\n",
    "\n",
    "#         for l in lines:\n",
    "#             if start_looking and l.startswith(\"\\\\bibitem[\"):\n",
    "#                 start_looking = False\n",
    "#                 start_appending = True\n",
    "#                 bibitem = [l.strip().replace(\"\\n\", \" \")]\n",
    "#                 continue\n",
    "#             if start_appending:\n",
    "#                 if l == \"\\n\":\n",
    "#                     paper_bibitems.append(bibitem)\n",
    "#                     bibitem = []\n",
    "#                     start_looking = True\n",
    "#                     start_appending = False\n",
    "#                 else:\n",
    "#                     bibitem.append(l.strip().replace(\"\\n\", \" \"))"
   ]
  },
  {
   "cell_type": "code",
   "execution_count": null,
   "metadata": {},
   "outputs": [],
   "source": []
  },
  {
   "cell_type": "code",
   "execution_count": 364,
   "metadata": {},
   "outputs": [
    {
     "data": {
      "text/plain": [
       "'1803.03735v1'"
      ]
     },
     "execution_count": 364,
     "metadata": {},
     "output_type": "execute_result"
    }
   ],
   "source": [
    "iclr_arxiv_map[\"2018_rJg4YGWRb\"][\"arxivId\"]"
   ]
  },
  {
   "cell_type": "code",
   "execution_count": 368,
   "metadata": {
    "collapsed": true
   },
   "outputs": [
    {
     "name": "stdout",
     "output_type": "stream",
     "text": [
      "% $ biblatex auxiliary file $\r\n",
      "% $ biblatex bbl format version 2.8 $\r\n",
      "% Do not modify the above lines!\r\n",
      "%\r\n",
      "% This is an auxiliary file used by the 'biblatex' package.\r\n",
      "% This file may safely be deleted. It will be recreated by\r\n",
      "% biber as required.\r\n",
      "%\r\n",
      "\\begingroup\r\n",
      "\\makeatletter\r\n",
      "\\@ifundefined{ver@biblatex.sty}\r\n",
      "  {\\@latex@error\r\n",
      "     {Missing 'biblatex' package}\r\n",
      "     {The bibliography requires the 'biblatex' package.}\r\n",
      "      \\aftergroup\\endinput}\r\n",
      "  {}\r\n",
      "\\endgroup\r\n",
      "\r\n",
      "\r\n",
      "\\refsection{0}\r\n",
      "  \\sortlist[entry]{nty/global/}\r\n",
      "    \\entry{BG17}{article}{}\r\n",
      "      \\name{author}{1}{}{%\r\n",
      "        {{hash=9bd76342e74240fe5697674c12407f32}{%\r\n",
      "           family={A.\\bibnamedelimi Bojchevski},\r\n",
      "           familyi={A\\bibinitperiod\\bibinitdelim B\\bibinitperiod},\r\n",
      "           given={S.\\bibnamedelimi Gunnemann},\r\n",
      "           giveni={S\\bibinitperiod\\bibinitdelim G\\bibinitperiod}}}%\r\n",
      "      }\r\n",
      "      \\strng{namehash}{9bd76342e74240fe5697674c12407f32}\r\n",
      "      \\strng{fullhash}{9bd76342e74240fe5697674c12407f32}\r\n",
      "      \\strng{authornamehash}{9bd76342e74240fe5697674c12407f32}\r\n",
      "      \\strng{authorfullhash}{9bd76342e74240fe5697674c12407f32}\r\n",
      "      \\field{sortinit}{A}\r\n",
      "      \\field{sortinithash}{3248043b5fe8d0a34dab5ab6b8d4309b}\r\n",
      "      \\field{labelnamesource}{author}\r\n",
      "      \\field{labeltitlesource}{title}\r\n",
      "      \\field{journaltitle}{arXiv preprint arXiv:1707.03815}\r\n",
      "      \\field{title}{Deep Gaussian Embedding of Attributed Graphs: Unsupervised Inductive Learning via Ranking}\r\n",
      "      \\field{year}{2017}\r\n",
      "    \\endentry\r\n",
      "    \\entry{AAB16}{article}{}\r\n",
      "      \\true{moreauthor}\r\n",
      "      \\true{morelabelname}\r\n",
      "      \\name{author}{10}{}{%\r\n",
      "        {{hash=f39ffee58f8a71d84d8b13c05804b2cc}{%\r\n",
      "           family={Abadi},\r\n",
      "           familyi={A\\bibinitperiod},\r\n",
      "           given={Martin},\r\n",
      "           giveni={M\\bibinitperiod}}}%\r\n",
      "        {{hash=37e1df772f97a2e492755e2006294387}{%\r\n",
      "           family={Agarwal},\r\n",
      "           familyi={A\\bibinitperiod},\r\n",
      "           given={Ashish},\r\n",
      "           giveni={A\\bibinitperiod}}}%\r\n",
      "        {{hash=08cf514c08137f94d73b590060797f5b}{%\r\n",
      "           family={Barham},\r\n",
      "           familyi={B\\bibinitperiod},\r\n",
      "           given={Paul},\r\n",
      "           giveni={P\\bibinitperiod}}}%\r\n",
      "        {{hash=a79c0c4b084471b2c8e0e9a38b4cb2b7}{%\r\n",
      "           family={Brevdo},\r\n",
      "           familyi={B\\bibinitperiod},\r\n",
      "           given={Eugene},\r\n",
      "           giveni={E\\bibinitperiod}}}%\r\n",
      "        {{hash=c0d10aaf985cebf8d0497e1828f9313f}{%\r\n",
      "           family={Chen},\r\n",
      "           familyi={C\\bibinitperiod},\r\n",
      "           given={Zhifeng},\r\n",
      "           giveni={Z\\bibinitperiod}}}%\r\n",
      "        {{hash=6f712ddfd730736ee54fdc87a4abf7a2}{%\r\n",
      "           family={Citro},\r\n",
      "           familyi={C\\bibinitperiod},\r\n",
      "           given={Craig},\r\n",
      "           giveni={C\\bibinitperiod}}}%\r\n",
      "        {{hash=d07609f7580c5f06cf743ebef86d1663}{%\r\n",
      "           family={Corrado},\r\n",
      "           familyi={C\\bibinitperiod},\r\n",
      "           given={Greg\\bibnamedelima S},\r\n",
      "           giveni={G\\bibinitperiod\\bibinitdelim S\\bibinitperiod}}}%\r\n",
      "        {{hash=a4c859221cc41e2db6d63b486f955ba2}{%\r\n",
      "           family={Davis},\r\n",
      "           familyi={D\\bibinitperiod},\r\n",
      "           given={Andy},\r\n",
      "           giveni={A\\bibinitperiod}}}%\r\n",
      "        {{hash=4aecfb0cc2e1e3b7899129fa2a94e2b8}{%\r\n",
      "           family={Dean},\r\n",
      "           familyi={D\\bibinitperiod},\r\n",
      "           given={Jeffrey},\r\n",
      "           giveni={J\\bibinitperiod}}}%\r\n",
      "        {{hash=bd7f88635b51bc5abb3d5a2cab967724}{%\r\n",
      "           family={Devin},\r\n",
      "           familyi={D\\bibinitperiod},\r\n",
      "           given={Matthieu},\r\n",
      "           giveni={M\\bibinitperiod}}}%\r\n",
      "      }\r\n",
      "      \\strng{namehash}{1cf6f3c19f4fd018f06a8f6a49bc4394}\r\n",
      "      \\strng{fullhash}{23e54a828f69ddaacb98bcd617318f26}\r\n",
      "      \\strng{authornamehash}{1cf6f3c19f4fd018f06a8f6a49bc4394}\r\n",
      "      \\strng{authorfullhash}{23e54a828f69ddaacb98bcd617318f26}\r\n",
      "      \\field{sortinit}{A}\r\n",
      "      \\field{sortinithash}{3248043b5fe8d0a34dab5ab6b8d4309b}\r\n",
      "      \\field{labelnamesource}{author}\r\n",
      "      \\field{labeltitlesource}{title}\r\n",
      "      \\field{journaltitle}{arXiv preprint arXiv:1603.04467}\r\n",
      "      \\field{title}{Tensorflow: Large-scale machine learning on heterogeneous distributed systems}\r\n",
      "      \\field{year}{2016}\r\n",
      "    \\endentry\r\n",
      "    \\entry{AT16}{inproceedings}{}\r\n",
      "      \\name{author}{2}{}{%\r\n",
      "        {{hash=9b2da2bc5f081fd296bb540d12a44d6c}{%\r\n",
      "           family={Atwood},\r\n",
      "           familyi={A\\bibinitperiod},\r\n",
      "           given={J.},\r\n",
      "           giveni={J\\bibinitperiod}}}%\r\n",
      "        {{hash=3a1aa2ef5bad86aa04a754b5679db72a}{%\r\n",
      "           family={Towsley},\r\n",
      "           familyi={T\\bibinitperiod},\r\n",
      "           given={D.},\r\n",
      "           giveni={D\\bibinitperiod}}}%\r\n",
      "      }\r\n",
      "      \\strng{namehash}{f04cb1782d34c1d547295add2b278145}\r\n",
      "      \\strng{fullhash}{f04cb1782d34c1d547295add2b278145}\r\n",
      "      \\strng{authornamehash}{f04cb1782d34c1d547295add2b278145}\r\n",
      "      \\strng{authorfullhash}{f04cb1782d34c1d547295add2b278145}\r\n",
      "      \\field{sortinit}{A}\r\n",
      "      \\field{sortinithash}{3248043b5fe8d0a34dab5ab6b8d4309b}\r\n",
      "      \\field{labelnamesource}{author}\r\n",
      "      \\field{labeltitlesource}{title}\r\n",
      "      \\field{booktitle}{Advances in Neural Information Processing Systems}\r\n",
      "      \\field{title}{Diffusion-convolutional neural networks}\r\n",
      "      \\field{year}{2016}\r\n",
      "      \\field{pages}{1993\\bibrangedash 2001}\r\n",
      "      \\range{pages}{9}\r\n",
      "    \\endentry\r\n",
      "    \\entry{bahdanau2014neural}{article}{}\r\n",
      "      \\name{author}{3}{}{%\r\n",
      "        {{hash=6d80adec79a13a33e73215c5f46f1605}{%\r\n",
      "           family={Bahdanau},\r\n",
      "           familyi={B\\bibinitperiod},\r\n",
      "           given={Dzmitry},\r\n",
      "           giveni={D\\bibinitperiod}}}%\r\n",
      "        {{hash=3da7501a79d9346572c7fd6e41b615df}{%\r\n",
      "           family={Cho},\r\n",
      "           familyi={C\\bibinitperiod},\r\n",
      "           given={Kyunghyun},\r\n",
      "           giveni={K\\bibinitperiod}}}%\r\n",
      "        {{hash=40a8e4774982146adc2688546f54efb2}{%\r\n",
      "           family={Bengio},\r\n",
      "           familyi={B\\bibinitperiod},\r\n",
      "           given={Yoshua},\r\n",
      "           giveni={Y\\bibinitperiod}}}%\r\n",
      "      }\r\n",
      "      \\strng{namehash}{ccf5ebef61998aaab5ec6eace8f4564d}\r\n",
      "      \\strng{fullhash}{ccf5ebef61998aaab5ec6eace8f4564d}\r\n",
      "      \\strng{authornamehash}{ccf5ebef61998aaab5ec6eace8f4564d}\r\n",
      "      \\strng{authorfullhash}{ccf5ebef61998aaab5ec6eace8f4564d}\r\n",
      "      \\field{sortinit}{B}\r\n",
      "      \\field{sortinithash}{5f6fa000f686ee5b41be67ba6ff7962d}\r\n",
      "      \\field{labelnamesource}{author}\r\n",
      "      \\field{labeltitlesource}{title}\r\n",
      "      \\field{journaltitle}{arXiv preprint arXiv:1409.0473}\r\n",
      "      \\field{title}{Neural machine translation by jointly learning to align and translate}\r\n",
      "      \\field{year}{2014}\r\n",
      "    \\endentry\r\n",
      "    \\entry{BNS06}{article}{}\r\n",
      "      \\name{author}{3}{}{%\r\n",
      "        {{hash=b2aeb0539e71c989e52b170b56b1fabd}{%\r\n",
      "           family={Belkin},\r\n",
      "           familyi={B\\bibinitperiod},\r\n",
      "           given={Mikhail},\r\n",
      "           giveni={M\\bibinitperiod}}}%\r\n",
      "        {{hash=156804623cd62fb419db269c507e26ce}{%\r\n",
      "           family={Niyogi},\r\n",
      "           familyi={N\\bibinitperiod},\r\n",
      "           given={Partha},\r\n",
      "           giveni={P\\bibinitperiod}}}%\r\n",
      "        {{hash=4f9c34b413772edc3b1cd5671b79dca7}{%\r\n",
      "           family={Sindhwani},\r\n",
      "           familyi={S\\bibinitperiod},\r\n",
      "           given={Vikas},\r\n",
      "           giveni={V\\bibinitperiod}}}%\r\n",
      "      }\r\n",
      "      \\strng{namehash}{d06c0f3feab884dbd72de8fa335a311d}\r\n",
      "      \\strng{fullhash}{d06c0f3feab884dbd72de8fa335a311d}\r\n",
      "      \\strng{authornamehash}{d06c0f3feab884dbd72de8fa335a311d}\r\n",
      "      \\strng{authorfullhash}{d06c0f3feab884dbd72de8fa335a311d}\r\n",
      "      \\field{sortinit}{B}\r\n",
      "      \\field{sortinithash}{5f6fa000f686ee5b41be67ba6ff7962d}\r\n",
      "      \\field{labelnamesource}{author}\r\n",
      "      \\field{labeltitlesource}{title}\r\n",
      "      \\field{journaltitle}{Journal of machine learning research}\r\n",
      "      \\field{number}{Nov}\r\n",
      "      \\field{title}{Manifold regularization: A geometric framework for learning from labeled and unlabeled examples}\r\n",
      "      \\field{volume}{7}\r\n",
      "      \\field{year}{2006}\r\n",
      "      \\field{pages}{2399\\bibrangedash 2434}\r\n",
      "      \\range{pages}{36}\r\n",
      "    \\endentry\r\n",
      "    \\entry{BKW17}{article}{}\r\n",
      "      \\name{author}{3}{}{%\r\n",
      "        {{hash=be6c1f0aceb0c0c2e9de5663e58345a8}{%\r\n",
      "           family={Berg},\r\n",
      "           familyi={B\\bibinitperiod},\r\n",
      "           given={R.\\bibnamedelimi van\\bibnamedelima den},\r\n",
      "           giveni={R\\bibinitperiod\\bibinitdelim v\\bibinitperiod\\bibinitdelim d\\bibinitperiod}}}%\r\n",
      "        {{hash=5b350fe5c9e7d7475b2f6dde27a899d7}{%\r\n",
      "           family={Kipf},\r\n",
      "           familyi={K\\bibinitperiod},\r\n",
      "           given={T.\\bibnamedelimi N.},\r\n",
      "           giveni={T\\bibinitperiod\\bibinitdelim N\\bibinitperiod}}}%\r\n",
      "        {{hash=8b7fe0e4c2b0f504bdf6a5d895d39ee1}{%\r\n",
      "           family={Welling},\r\n",
      "           familyi={W\\bibinitperiod},\r\n",
      "           given={M.},\r\n",
      "           giveni={M\\bibinitperiod}}}%\r\n",
      "      }\r\n",
      "      \\strng{namehash}{d58993fed9c917e01c5aee2d9fca6eea}\r\n",
      "      \\strng{fullhash}{d58993fed9c917e01c5aee2d9fca6eea}\r\n",
      "      \\strng{authornamehash}{d58993fed9c917e01c5aee2d9fca6eea}\r\n",
      "      \\strng{authorfullhash}{d58993fed9c917e01c5aee2d9fca6eea}\r\n",
      "      \\field{sortinit}{B}\r\n",
      "      \\field{sortinithash}{5f6fa000f686ee5b41be67ba6ff7962d}\r\n",
      "      \\field{labelnamesource}{author}\r\n",
      "      \\field{labeltitlesource}{title}\r\n",
      "      \\field{journaltitle}{arXiv preprint arXiv:1706.02263}\r\n",
      "      \\field{title}{Graph Convolutional Matrix Completion}\r\n",
      "      \\field{year}{2017}\r\n",
      "    \\endentry\r\n",
      "    \\entry{BC01}{inproceedings}{}\r\n",
      "      \\name{author}{2}{}{%\r\n",
      "        {{hash=c348e11a9e7f34b17b0811660fa01649}{%\r\n",
      "           family={Blum},\r\n",
      "           familyi={B\\bibinitperiod},\r\n",
      "           given={Avrim},\r\n",
      "           giveni={A\\bibinitperiod}}}%\r\n",
      "        {{hash=d3a62767b03b2910ef550737737bbb40}{%\r\n",
      "           family={Chawla},\r\n",
      "           familyi={C\\bibinitperiod},\r\n",
      "           given={Shuchi},\r\n",
      "           giveni={S\\bibinitperiod}}}%\r\n",
      "      }\r\n",
      "      \\strng{namehash}{a3b99ffe9f3dbd452724b44232c1d4d8}\r\n",
      "      \\strng{fullhash}{a3b99ffe9f3dbd452724b44232c1d4d8}\r\n",
      "      \\strng{authornamehash}{a3b99ffe9f3dbd452724b44232c1d4d8}\r\n",
      "      \\strng{authorfullhash}{a3b99ffe9f3dbd452724b44232c1d4d8}\r\n",
      "      \\field{sortinit}{B}\r\n",
      "      \\field{sortinithash}{5f6fa000f686ee5b41be67ba6ff7962d}\r\n",
      "      \\field{labelnamesource}{author}\r\n",
      "      \\field{labeltitlesource}{title}\r\n",
      "      \\field{booktitle}{ICML '01 Proceedings of the Eighteenth International Conference on Machine Learning}\r\n",
      "      \\field{title}{Learning from labeled and unlabeled data using graph mincuts}\r\n",
      "      \\field{year}{2001}\r\n",
      "    \\endentry\r\n",
      "    \\entry{BBL16}{article}{}\r\n",
      "      \\name{author}{5}{}{%\r\n",
      "        {{hash=a0ffa1ab9525af377eaba8bd6acb1d98}{%\r\n",
      "           family={Bronstein},\r\n",
      "           familyi={B\\bibinitperiod},\r\n",
      "           given={Michael\\bibnamedelima M},\r\n",
      "           giveni={M\\bibinitperiod\\bibinitdelim M\\bibinitperiod}}}%\r\n",
      "        {{hash=c83b564e32475f10dcc91be7e66d3e81}{%\r\n",
      "           family={Bruna},\r\n",
      "           familyi={B\\bibinitperiod},\r\n",
      "           given={Joan},\r\n",
      "           giveni={J\\bibinitperiod}}}%\r\n",
      "        {{hash=6a1aa6b7eab12b931ca7c7e3f927231d}{%\r\n",
      "           family={LeCun},\r\n",
      "           familyi={L\\bibinitperiod},\r\n",
      "           given={Yann},\r\n",
      "           giveni={Y\\bibinitperiod}}}%\r\n",
      "        {{hash=b31b3f03b1e1ee0eec6ff58f9a9df960}{%\r\n",
      "           family={Szlam},\r\n",
      "           familyi={S\\bibinitperiod},\r\n",
      "           given={Arthur},\r\n",
      "           giveni={A\\bibinitperiod}}}%\r\n",
      "        {{hash=b4945596e71bcffbc9d1b4af0d5e16f1}{%\r\n",
      "           family={Vandergheynst},\r\n",
      "           familyi={V\\bibinitperiod},\r\n",
      "           given={Pierre},\r\n",
      "           giveni={P\\bibinitperiod}}}%\r\n",
      "      }\r\n",
      "      \\strng{namehash}{4efad8a63311fd05b7baea04e2de23dc}\r\n",
      "      \\strng{fullhash}{4b72b016ab666deddf3a8e8fe51a4909}\r\n",
      "      \\strng{authornamehash}{4efad8a63311fd05b7baea04e2de23dc}\r\n",
      "      \\strng{authorfullhash}{4b72b016ab666deddf3a8e8fe51a4909}\r\n",
      "      \\field{sortinit}{B}\r\n",
      "      \\field{sortinithash}{5f6fa000f686ee5b41be67ba6ff7962d}\r\n",
      "      \\field{labelnamesource}{author}\r\n",
      "      \\field{labeltitlesource}{title}\r\n",
      "      \\field{journaltitle}{arXiv preprint arXiv:1611.08097}\r\n",
      "      \\field{title}{Geometric deep learning: going beyond euclidean data}\r\n",
      "      \\field{year}{2016}\r\n",
      "    \\endentry\r\n",
      "    \\entry{LB17}{article}{}\r\n",
      "      \\name{author}{2}{}{%\r\n",
      "        {{hash=ffabbc737cb02c4b3983a96bb1551c12}{%\r\n",
      "           family={Bruna},\r\n",
      "           familyi={B\\bibinitperiod},\r\n",
      "           given={J.},\r\n",
      "           giveni={J\\bibinitperiod}}}%\r\n",
      "        {{hash=0b22ca522c758b05bc7fe48223b56408}{%\r\n",
      "           family={Li},\r\n",
      "           familyi={L\\bibinitperiod},\r\n",
      "           given={X.},\r\n",
      "           giveni={X\\bibinitperiod}}}%\r\n",
      "      }\r\n",
      "      \\strng{namehash}{dc2144ced073e35b0eb5112dee17b643}\r\n",
      "      \\strng{fullhash}{dc2144ced073e35b0eb5112dee17b643}\r\n",
      "      \\strng{authornamehash}{dc2144ced073e35b0eb5112dee17b643}\r\n",
      "      \\strng{authorfullhash}{dc2144ced073e35b0eb5112dee17b643}\r\n",
      "      \\field{sortinit}{B}\r\n",
      "      \\field{sortinithash}{5f6fa000f686ee5b41be67ba6ff7962d}\r\n",
      "      \\field{labelnamesource}{author}\r\n",
      "      \\field{labeltitlesource}{title}\r\n",
      "      \\field{journaltitle}{arXiv preprint arXiv:1705.08415}\r\n",
      "      \\field{title}{Community Detection with Graph Neural Networks}\r\n",
      "      \\field{year}{2017}\r\n",
      "    \\endentry\r\n",
      "    \\entry{BZS13}{article}{}\r\n",
      "      \\name{author}{4}{}{%\r\n",
      "        {{hash=c83b564e32475f10dcc91be7e66d3e81}{%\r\n",
      "           family={Bruna},\r\n",
      "           familyi={B\\bibinitperiod},\r\n",
      "           given={Joan},\r\n",
      "           giveni={J\\bibinitperiod}}}%\r\n",
      "        {{hash=e9fec85bbce1b087a6ebefe26e73f7bf}{%\r\n",
      "           family={Zaremba},\r\n",
      "           familyi={Z\\bibinitperiod},\r\n",
      "           given={Wojciech},\r\n",
      "           giveni={W\\bibinitperiod}}}%\r\n",
      "        {{hash=b31b3f03b1e1ee0eec6ff58f9a9df960}{%\r\n",
      "           family={Szlam},\r\n",
      "           familyi={S\\bibinitperiod},\r\n",
      "           given={Arthur},\r\n",
      "           giveni={A\\bibinitperiod}}}%\r\n",
      "        {{hash=6a1aa6b7eab12b931ca7c7e3f927231d}{%\r\n",
      "           family={LeCun},\r\n",
      "           familyi={L\\bibinitperiod},\r\n",
      "           given={Yann},\r\n",
      "           giveni={Y\\bibinitperiod}}}%\r\n",
      "      }\r\n",
      "      \\strng{namehash}{e943572d925293c5f4fab4dfa7adc78e}\r\n",
      "      \\strng{fullhash}{d02494bc1b8f17d758dbf6ebc90838de}\r\n",
      "      \\strng{authornamehash}{e943572d925293c5f4fab4dfa7adc78e}\r\n",
      "      \\strng{authorfullhash}{d02494bc1b8f17d758dbf6ebc90838de}\r\n",
      "      \\field{sortinit}{B}\r\n",
      "      \\field{sortinithash}{5f6fa000f686ee5b41be67ba6ff7962d}\r\n",
      "      \\field{labelnamesource}{author}\r\n",
      "      \\field{labeltitlesource}{title}\r\n",
      "      \\field{journaltitle}{arXiv preprint arXiv:1312.6203}\r\n",
      "      \\field{title}{Spectral networks and locally connected networks on graphs}\r\n",
      "      \\field{year}{2013}\r\n",
      "    \\endentry\r\n",
      "    \\entry{BC17}{article}{}\r\n",
      "      \\name{author}{2}{}{%\r\n",
      "        {{hash=a273e9036cc7507d3d3feb5db3b8bfc9}{%\r\n",
      "           family={Buchnik},\r\n",
      "           familyi={B\\bibinitperiod},\r\n",
      "           given={Eliav},\r\n",
      "           giveni={E\\bibinitperiod}}}%\r\n",
      "        {{hash=537da394ff661487bc4120d6cab00ec5}{%\r\n",
      "           family={Cohen},\r\n",
      "           familyi={C\\bibinitperiod},\r\n",
      "           given={Edith},\r\n",
      "           giveni={E\\bibinitperiod}}}%\r\n",
      "      }\r\n",
      "      \\strng{namehash}{7b5a0e26cdfd66e17a6e68e2d9503a0c}\r\n",
      "      \\strng{fullhash}{7b5a0e26cdfd66e17a6e68e2d9503a0c}\r\n",
      "      \\strng{authornamehash}{7b5a0e26cdfd66e17a6e68e2d9503a0c}\r\n",
      "      \\strng{authorfullhash}{7b5a0e26cdfd66e17a6e68e2d9503a0c}\r\n",
      "      \\field{sortinit}{B}\r\n",
      "      \\field{sortinithash}{5f6fa000f686ee5b41be67ba6ff7962d}\r\n",
      "      \\field{labelnamesource}{author}\r\n",
      "      \\field{labeltitlesource}{title}\r\n",
      "      \\field{journaltitle}{arXiv preprint arXiv:1703.02618}\r\n",
      "      \\field{title}{Bootstrapped Graph Diffusions: Exposing the Power of Nonlinearity}\r\n",
      "      \\field{year}{2017}\r\n",
      "    \\endentry\r\n",
      "    \\entry{chapelle2009semi}{article}{}\r\n",
      "      \\name{author}{3}{}{%\r\n",
      "        {{hash=c16923b3cb0e0256feb096973e25b782}{%\r\n",
      "           family={Chapelle},\r\n",
      "           familyi={C\\bibinitperiod},\r\n",
      "           given={Olivier},\r\n",
      "           giveni={O\\bibinitperiod}}}%\r\n",
      "        {{hash=a8ec77afd672acfe7820edd22821493e}{%\r\n",
      "           family={Scholkopf},\r\n",
      "           familyi={S\\bibinitperiod},\r\n",
      "           given={Bernhard},\r\n",
      "           giveni={B\\bibinitperiod}}}%\r\n",
      "        {{hash=50c0860c9ed52e9e5fdbb8e2fc27156a}{%\r\n",
      "           family={Zien},\r\n",
      "           familyi={Z\\bibinitperiod},\r\n",
      "           given={Alexander},\r\n",
      "           giveni={A\\bibinitperiod}}}%\r\n",
      "      }\r\n",
      "      \\list{publisher}{1}{%\r\n",
      "        {IEEE}%\r\n",
      "      }\r\n",
      "      \\strng{namehash}{c9e7d320838fa367bea745a4f49959ad}\r\n",
      "      \\strng{fullhash}{c9e7d320838fa367bea745a4f49959ad}\r\n",
      "      \\strng{authornamehash}{c9e7d320838fa367bea745a4f49959ad}\r\n",
      "      \\strng{authorfullhash}{c9e7d320838fa367bea745a4f49959ad}\r\n",
      "      \\field{sortinit}{C}\r\n",
      "      \\field{sortinithash}{095692fd22cc3c74d7fe223d02314dbd}\r\n",
      "      \\field{labelnamesource}{author}\r\n",
      "      \\field{labeltitlesource}{title}\r\n",
      "      \\field{journaltitle}{IEEE Transactions on Neural Networks}\r\n",
      "      \\field{number}{3}\r\n",
      "      \\field{title}{Semi-supervised learning (chapelle, o. et al., eds.; 2006)[book reviews]}\r\n",
      "      \\field{volume}{20}\r\n",
      "      \\field{year}{2009}\r\n",
      "      \\field{pages}{542\\bibrangedash 542}\r\n",
      "      \\range{pages}{1}\r\n",
      "    \\endentry\r\n",
      "    \\entry{DDL16}{inproceedings}{}\r\n",
      "      \\name{author}{3}{}{%\r\n",
      "        {{hash=9ef8eef01b59f6c647a8926ac91779e5}{%\r\n",
      "           family={Dai},\r\n",
      "           familyi={D\\bibinitperiod},\r\n",
      "           given={H.},\r\n",
      "           giveni={H\\bibinitperiod}}}%\r\n",
      "        {{hash=3da7f65ab6164f26210b2dab59e9ca5b}{%\r\n",
      "           family={Dai},\r\n",
      "           familyi={D\\bibinitperiod},\r\n",
      "           given={B.},\r\n",
      "           giveni={B\\bibinitperiod}}}%\r\n",
      "        {{hash=911471698901428892c143e0eb076451}{%\r\n",
      "           family={Song},\r\n",
      "           familyi={S\\bibinitperiod},\r\n",
      "           given={L.},\r\n",
      "           giveni={L\\bibinitperiod}}}%\r\n",
      "      }\r\n",
      "      \\strng{namehash}{917c1304c7fcf879e3d882df3698cd62}\r\n",
      "      \\strng{fullhash}{917c1304c7fcf879e3d882df3698cd62}\r\n",
      "      \\strng{authornamehash}{917c1304c7fcf879e3d882df3698cd62}\r\n",
      "      \\strng{authorfullhash}{917c1304c7fcf879e3d882df3698cd62}\r\n",
      "      \\field{sortinit}{D}\r\n",
      "      \\field{sortinithash}{d10b5413de1f3d197b20897dd0d565bb}\r\n",
      "      \\field{labelnamesource}{author}\r\n",
      "      \\field{labeltitlesource}{title}\r\n",
      "      \\field{booktitle}{International Conference on Machine Learning}\r\n",
      "      \\field{title}{Discriminative embeddings of latent variable models for structured data}\r\n",
      "      \\field{year}{2016}\r\n",
      "      \\field{pages}{2702\\bibrangedash 2711}\r\n",
      "      \\range{pages}{10}\r\n",
      "    \\endentry\r\n",
      "    \\entry{DKZD17}{article}{}\r\n",
      "      \\name{author}{5}{}{%\r\n",
      "        {{hash=de24737b2a92d19806972ec6a8e8968a}{%\r\n",
      "           family={Dai},\r\n",
      "           familyi={D\\bibinitperiod},\r\n",
      "           given={Hanjun},\r\n",
      "           giveni={H\\bibinitperiod}}}%\r\n",
      "        {{hash=0bd8d2a2f1d54288df91ca69e8be0402}{%\r\n",
      "           family={Khalil},\r\n",
      "           familyi={K\\bibinitperiod},\r\n",
      "           given={Elias\\bibnamedelima B},\r\n",
      "           giveni={E\\bibinitperiod\\bibinitdelim B\\bibinitperiod}}}%\r\n",
      "        {{hash=f24d038867127f877a101e2e0b110dba}{%\r\n",
      "           family={Zhang},\r\n",
      "           familyi={Z\\bibinitperiod},\r\n",
      "           given={Yuyu},\r\n",
      "           giveni={Y\\bibinitperiod}}}%\r\n",
      "        {{hash=f59f0a4dd18946cd06c0fddbc0a44eaa}{%\r\n",
      "           family={Dilkina},\r\n",
      "           familyi={D\\bibinitperiod},\r\n",
      "           given={Bistra},\r\n",
      "           giveni={B\\bibinitperiod}}}%\r\n",
      "        {{hash=da5283630e781fb48ecf4859f54bca52}{%\r\n",
      "           family={Song},\r\n",
      "           familyi={S\\bibinitperiod},\r\n",
      "           given={Le},\r\n",
      "           giveni={L\\bibinitperiod}}}%\r\n",
      "      }\r\n",
      "      \\strng{namehash}{62336286111adfd5ad452ea9c4bfffe4}\r\n",
      "      \\strng{fullhash}{13ea7a022ad211e7911a16a94379deb1}\r\n",
      "      \\strng{authornamehash}{62336286111adfd5ad452ea9c4bfffe4}\r\n",
      "      \\strng{authorfullhash}{13ea7a022ad211e7911a16a94379deb1}\r\n",
      "      \\field{sortinit}{D}\r\n",
      "      \\field{sortinithash}{d10b5413de1f3d197b20897dd0d565bb}\r\n",
      "      \\field{labelnamesource}{author}\r\n",
      "      \\field{labeltitlesource}{title}\r\n",
      "      \\field{journaltitle}{arXiv preprint arXiv:1704.01665}\r\n",
      "      \\field{title}{Learning Combinatorial Optimization Algorithms over Graphs}\r\n",
      "      \\field{year}{2017}\r\n",
      "    \\endentry\r\n",
      "    \\entry{DBV16}{inproceedings}{}\r\n",
      "      \\name{author}{3}{}{%\r\n",
      "        {{hash=1c45ec3985cdb526e1b18bf4041b4c22}{%\r\n",
      "           family={Defferrard},\r\n",
      "           familyi={D\\bibinitperiod},\r\n",
      "           given={Micha\\\"{e}l},\r\n",
      "           giveni={M\\bibinitperiod}}}%\r\n",
      "        {{hash=26bf36a5046daec764f03647500c3871}{%\r\n",
      "           family={Bresson},\r\n",
      "           familyi={B\\bibinitperiod},\r\n",
      "           given={Xavier},\r\n",
      "           giveni={X\\bibinitperiod}}}%\r\n",
      "        {{hash=b4945596e71bcffbc9d1b4af0d5e16f1}{%\r\n",
      "           family={Vandergheynst},\r\n",
      "           familyi={V\\bibinitperiod},\r\n",
      "           given={Pierre},\r\n",
      "           giveni={P\\bibinitperiod}}}%\r\n",
      "      }\r\n",
      "      \\strng{namehash}{9c0e667960f917ece13a407278f995f6}\r\n",
      "      \\strng{fullhash}{9c0e667960f917ece13a407278f995f6}\r\n",
      "      \\strng{authornamehash}{9c0e667960f917ece13a407278f995f6}\r\n",
      "      \\strng{authorfullhash}{9c0e667960f917ece13a407278f995f6}\r\n",
      "      \\field{sortinit}{D}\r\n",
      "      \\field{sortinithash}{d10b5413de1f3d197b20897dd0d565bb}\r\n",
      "      \\field{labelnamesource}{author}\r\n",
      "      \\field{labeltitlesource}{title}\r\n",
      "      \\field{booktitle}{Advances in Neural Information Processing Systems}\r\n",
      "      \\field{title}{Convolutional neural networks on graphs with fast localized spectral filtering}\r\n",
      "      \\field{year}{2016}\r\n",
      "      \\field{pages}{3837\\bibrangedash 3845}\r\n",
      "      \\range{pages}{9}\r\n",
      "    \\endentry\r\n",
      "    \\entry{duan2017one}{article}{}\r\n",
      "      \\name{author}{8}{}{%\r\n",
      "        {{hash=beba2607fa3b01b069f484075d0b9cf2}{%\r\n",
      "           family={Duan},\r\n",
      "           familyi={D\\bibinitperiod},\r\n",
      "           given={Yan},\r\n",
      "           giveni={Y\\bibinitperiod}}}%\r\n",
      "        {{hash=0d8b72cabbd1b548097b4a7b81a0f335}{%\r\n",
      "           family={Andrychowicz},\r\n",
      "           familyi={A\\bibinitperiod},\r\n",
      "           given={Marcin},\r\n",
      "           giveni={M\\bibinitperiod}}}%\r\n",
      "        {{hash=8b11b4daffc575df9c8434e1645a9ce2}{%\r\n",
      "           family={Stadie},\r\n",
      "           familyi={S\\bibinitperiod},\r\n",
      "           given={Bradly},\r\n",
      "           giveni={B\\bibinitperiod}}}%\r\n",
      "        {{hash=2ac2ca10b22e4d13af1767e87495412f}{%\r\n",
      "           family={Ho},\r\n",
      "           familyi={H\\bibinitperiod},\r\n",
      "           given={Jonathan},\r\n",
      "           giveni={J\\bibinitperiod}}}%\r\n",
      "        {{hash=5167ef9d0b77bf68557730648baac9b7}{%\r\n",
      "           family={Schneider},\r\n",
      "           familyi={S\\bibinitperiod},\r\n",
      "           given={Jonas},\r\n",
      "           giveni={J\\bibinitperiod}}}%\r\n",
      "        {{hash=8d569d1d5b8b5a7836017a98b430f959}{%\r\n",
      "           family={Sutskever},\r\n",
      "           familyi={S\\bibinitperiod},\r\n",
      "           given={Ilya},\r\n",
      "           giveni={I\\bibinitperiod}}}%\r\n",
      "        {{hash=e28d4ee199593959d8c29980a64f1974}{%\r\n",
      "           family={Abbeel},\r\n",
      "           familyi={A\\bibinitperiod},\r\n",
      "           given={Pieter},\r\n",
      "           giveni={P\\bibinitperiod}}}%\r\n",
      "        {{hash=e9fec85bbce1b087a6ebefe26e73f7bf}{%\r\n",
      "           family={Zaremba},\r\n",
      "           familyi={Z\\bibinitperiod},\r\n",
      "           given={Wojciech},\r\n",
      "           giveni={W\\bibinitperiod}}}%\r\n",
      "      }\r\n",
      "      \\strng{namehash}{d584fc2671079e392b34b5f325b0d7d1}\r\n",
      "      \\strng{fullhash}{9df11df7f030871e2120b9f684e65d3b}\r\n",
      "      \\strng{authornamehash}{d584fc2671079e392b34b5f325b0d7d1}\r\n",
      "      \\strng{authorfullhash}{9df11df7f030871e2120b9f684e65d3b}\r\n",
      "      \\field{sortinit}{D}\r\n",
      "      \\field{sortinithash}{d10b5413de1f3d197b20897dd0d565bb}\r\n",
      "      \\field{labelnamesource}{author}\r\n",
      "      \\field{labeltitlesource}{title}\r\n",
      "      \\field{journaltitle}{arXiv preprint arXiv:1703.07326}\r\n",
      "      \\field{title}{One-Shot Imitation Learning}\r\n",
      "      \\field{year}{2017}\r\n",
      "    \\endentry\r\n",
      "    \\entry{DMI15}{inproceedings}{}\r\n",
      "      \\name{author}{7}{}{%\r\n",
      "        {{hash=108b92d0bd5c8176ffcbdc2f5b5a09f0}{%\r\n",
      "           family={Duvenaud},\r\n",
      "           familyi={D\\bibinitperiod},\r\n",
      "           given={David\\bibnamedelima K},\r\n",
      "           giveni={D\\bibinitperiod\\bibinitdelim K\\bibinitperiod}}}%\r\n",
      "        {{hash=07e607fb522f06610feb023ecfa712e2}{%\r\n",
      "           family={Maclaurin},\r\n",
      "           familyi={M\\bibinitperiod},\r\n",
      "           given={Dougal},\r\n",
      "           giveni={D\\bibinitperiod}}}%\r\n",
      "        {{hash=798fc9bfad3f233e685881eb0b44d8c2}{%\r\n",
      "           family={Iparraguirre},\r\n",
      "           familyi={I\\bibinitperiod},\r\n",
      "           given={Jorge},\r\n",
      "           giveni={J\\bibinitperiod}}}%\r\n",
      "        {{hash=fcee4343774a3907b1ea8fff0014d3e9}{%\r\n",
      "           family={Bombarell},\r\n",
      "           familyi={B\\bibinitperiod},\r\n",
      "           given={Rafael},\r\n",
      "           giveni={R\\bibinitperiod}}}%\r\n",
      "        {{hash=2f565f45e0faadc2ec7c0fbf40e550cc}{%\r\n",
      "           family={Hirzel},\r\n",
      "           familyi={H\\bibinitperiod},\r\n",
      "           given={Timothy},\r\n",
      "           giveni={T\\bibinitperiod}}}%\r\n",
      "        {{hash=083dcdd0db2687433b22fabfb2e55c17}{%\r\n",
      "           family={Aspuru-Guzik},\r\n",
      "           familyi={A\\bibinithyphendelim G\\bibinitperiod},\r\n",
      "           given={Al\\'{a}n},\r\n",
      "           giveni={A\\bibinitperiod}}}%\r\n",
      "        {{hash=0d7f3607c0972d955d28f65d08139baa}{%\r\n",
      "           family={Adams},\r\n",
      "           familyi={A\\bibinitperiod},\r\n",
      "           given={Ryan\\bibnamedelima P},\r\n",
      "           giveni={R\\bibinitperiod\\bibinitdelim P\\bibinitperiod}}}%\r\n",
      "      }\r\n",
      "      \\strng{namehash}{bce9ab9e8f75e3415841658fd54e5351}\r\n",
      "      \\strng{fullhash}{3cc65b348f7f6c56edf18156495e5878}\r\n",
      "      \\strng{authornamehash}{bce9ab9e8f75e3415841658fd54e5351}\r\n",
      "      \\strng{authorfullhash}{3cc65b348f7f6c56edf18156495e5878}\r\n",
      "      \\field{sortinit}{D}\r\n",
      "      \\field{sortinithash}{d10b5413de1f3d197b20897dd0d565bb}\r\n",
      "      \\field{labelnamesource}{author}\r\n",
      "      \\field{labeltitlesource}{title}\r\n",
      "      \\field{booktitle}{Advances in neural information processing systems}\r\n",
      "      \\field{title}{Convolutional networks on graphs for learning molecular fingerprints}\r\n",
      "      \\field{year}{2015}\r\n",
      "      \\field{pages}{2224\\bibrangedash 2232}\r\n",
      "      \\range{pages}{9}\r\n",
      "    \\endentry\r\n",
      "    \\entry{FBFM17}{article}{}\r\n",
      "      \\name{author}{4}{}{%\r\n",
      "        {{hash=f82f97528567b1069d6c8bf65d57b414}{%\r\n",
      "           family={Faerman},\r\n",
      "           familyi={F\\bibinitperiod},\r\n",
      "           given={Evgeniy},\r\n",
      "           giveni={E\\bibinitperiod}}}%\r\n",
      "        {{hash=d22db4d520afa07f107de19aefe24f1e}{%\r\n",
      "           family={Borutta},\r\n",
      "           familyi={B\\bibinitperiod},\r\n",
      "           given={Felix},\r\n",
      "           giveni={F\\bibinitperiod}}}%\r\n",
      "        {{hash=5a7285b4f95177e4943c0260c9ee02d9}{%\r\n",
      "           family={Fountoulakis},\r\n",
      "           familyi={F\\bibinitperiod},\r\n",
      "           given={Kimon},\r\n",
      "           giveni={K\\bibinitperiod}}}%\r\n",
      "        {{hash=bd17186143779d2f0eae6b5198fdc8db}{%\r\n",
      "           family={Mahoney},\r\n",
      "           familyi={M\\bibinitperiod},\r\n",
      "           given={Michael\\bibnamedelima W},\r\n",
      "           giveni={M\\bibinitperiod\\bibinitdelim W\\bibinitperiod}}}%\r\n",
      "      }\r\n",
      "      \\strng{namehash}{701868334af1374812b3ff0d9a6f7f28}\r\n",
      "      \\strng{fullhash}{03114bd41b371c6846ff33926fd8bd34}\r\n",
      "      \\strng{authornamehash}{701868334af1374812b3ff0d9a6f7f28}\r\n",
      "      \\strng{authorfullhash}{03114bd41b371c6846ff33926fd8bd34}\r\n",
      "      \\field{sortinit}{F}\r\n",
      "      \\field{sortinithash}{276475738cc058478c1677046f857703}\r\n",
      "      \\field{labelnamesource}{author}\r\n",
      "      \\field{labeltitlesource}{title}\r\n",
      "      \\field{journaltitle}{arXiv preprint arXiv:1710.06520}\r\n",
      "      \\field{title}{LASAGNE: Locality And Structure Aware Graph Node Embedding}\r\n",
      "      \\field{year}{2017}\r\n",
      "    \\endentry\r\n",
      "    \\entry{GSR17}{article}{}\r\n",
      "      \\name{author}{5}{}{%\r\n",
      "        {{hash=4f550339f0337905aa634f39e1ba4833}{%\r\n",
      "           family={Gilmer},\r\n",
      "           familyi={G\\bibinitperiod},\r\n",
      "           given={Justin},\r\n",
      "           giveni={J\\bibinitperiod}}}%\r\n",
      "        {{hash=920c9f032aa17f9b4791a76fcd22b927}{%\r\n",
      "           family={Schoenholz},\r\n",
      "           familyi={S\\bibinitperiod},\r\n",
      "           given={Samuel\\bibnamedelima S},\r\n",
      "           giveni={S\\bibinitperiod\\bibinitdelim S\\bibinitperiod}}}%\r\n",
      "        {{hash=2fc89012bf74e88cffb152e8c84c4a26}{%\r\n",
      "           family={Riley},\r\n",
      "           familyi={R\\bibinitperiod},\r\n",
      "           given={Patrick\\bibnamedelima F},\r\n",
      "           giveni={P\\bibinitperiod\\bibinitdelim F\\bibinitperiod}}}%\r\n",
      "        {{hash=494b568c5dc85ba8f3f409635f9c5f25}{%\r\n",
      "           family={Vinyals},\r\n",
      "           familyi={V\\bibinitperiod},\r\n",
      "           given={Oriol},\r\n",
      "           giveni={O\\bibinitperiod}}}%\r\n",
      "        {{hash=c54ba7c146c933da55b6f2fbbbe3cf06}{%\r\n",
      "           family={Dahl},\r\n",
      "           familyi={D\\bibinitperiod},\r\n",
      "           given={George\\bibnamedelima E},\r\n",
      "           giveni={G\\bibinitperiod\\bibinitdelim E\\bibinitperiod}}}%\r\n",
      "      }\r\n",
      "      \\strng{namehash}{c654290e16b9e71825428d767650ff2a}\r\n",
      "      \\strng{fullhash}{621fd1ac3839fe0b3016292fe2fd5c37}\r\n",
      "      \\strng{authornamehash}{c654290e16b9e71825428d767650ff2a}\r\n",
      "      \\strng{authorfullhash}{621fd1ac3839fe0b3016292fe2fd5c37}\r\n",
      "      \\field{sortinit}{G}\r\n",
      "      \\field{sortinithash}{618d986594b7198ba52cf8b00d348f3f}\r\n",
      "      \\field{labelnamesource}{author}\r\n",
      "      \\field{labeltitlesource}{title}\r\n",
      "      \\field{journaltitle}{arXiv preprint arXiv:1704.01212}\r\n",
      "      \\field{title}{Neural message passing for quantum chemistry}\r\n",
      "      \\field{year}{2017}\r\n",
      "    \\endentry\r\n",
      "    \\entry{GMS05}{inproceedings}{}\r\n",
      "      \\name{author}{3}{}{%\r\n",
      "        {{hash=d25d4f83ae540b2b728a5423e9fbe85b}{%\r\n",
      "           family={Gori},\r\n",
      "           familyi={G\\bibinitperiod},\r\n",
      "           given={Marco},\r\n",
      "           giveni={M\\bibinitperiod}}}%\r\n",
      "        {{hash=b56d5f9b0efe692c5e81a88da3a2f2b7}{%\r\n",
      "           family={Monfardini},\r\n",
      "           familyi={M\\bibinitperiod},\r\n",
      "           given={Gabriele},\r\n",
      "           giveni={G\\bibinitperiod}}}%\r\n",
      "        {{hash=447de7983619243dc5bf3af69d609b20}{%\r\n",
      "           family={Scarselli},\r\n",
      "           familyi={S\\bibinitperiod},\r\n",
      "           given={Franco},\r\n",
      "           giveni={F\\bibinitperiod}}}%\r\n",
      "      }\r\n",
      "      \\list{organization}{1}{%\r\n",
      "        {IEEE}%\r\n",
      "      }\r\n",
      "      \\strng{namehash}{9c8447cad4e780034e98b80b7b341453}\r\n",
      "      \\strng{fullhash}{9c8447cad4e780034e98b80b7b341453}\r\n",
      "      \\strng{authornamehash}{9c8447cad4e780034e98b80b7b341453}\r\n",
      "      \\strng{authorfullhash}{9c8447cad4e780034e98b80b7b341453}\r\n",
      "      \\field{sortinit}{G}\r\n",
      "      \\field{sortinithash}{618d986594b7198ba52cf8b00d348f3f}\r\n",
      "      \\field{labelnamesource}{author}\r\n",
      "      \\field{labeltitlesource}{title}\r\n",
      "      \\field{booktitle}{Neural Networks, 2005. IJCNN'05. Proceedings. 2005 IEEE International Joint Conference on}\r\n",
      "      \\field{title}{A new model for learning in graph domains}\r\n",
      "      \\field{volume}{2}\r\n",
      "      \\field{year}{2005}\r\n",
      "      \\field{pages}{729\\bibrangedash 734}\r\n",
      "      \\range{pages}{6}\r\n",
      "    \\endentry\r\n",
      "    \\entry{graves2014neural}{article}{}\r\n",
      "      \\name{author}{3}{}{%\r\n",
      "        {{hash=dfca94b0427da7f9088af596e23b46c0}{%\r\n",
      "           family={Graves},\r\n",
      "           familyi={G\\bibinitperiod},\r\n",
      "           given={Alex},\r\n",
      "           giveni={A\\bibinitperiod}}}%\r\n",
      "        {{hash=f96594cc1d20df4a987bf8b9770d1ef0}{%\r\n",
      "           family={Wayne},\r\n",
      "           familyi={W\\bibinitperiod},\r\n",
      "           given={Greg},\r\n",
      "           giveni={G\\bibinitperiod}}}%\r\n",
      "        {{hash=970650e9394fccd4144d4b829505d2b3}{%\r\n",
      "           family={Danihelka},\r\n",
      "           familyi={D\\bibinitperiod},\r\n",
      "           given={Ivo},\r\n",
      "           giveni={I\\bibinitperiod}}}%\r\n",
      "      }\r\n",
      "      \\strng{namehash}{a6d94af175112562d0f33e48f97adfff}\r\n",
      "      \\strng{fullhash}{a6d94af175112562d0f33e48f97adfff}\r\n",
      "      \\strng{authornamehash}{a6d94af175112562d0f33e48f97adfff}\r\n",
      "      \\strng{authorfullhash}{a6d94af175112562d0f33e48f97adfff}\r\n",
      "      \\field{sortinit}{G}\r\n",
      "      \\field{sortinithash}{618d986594b7198ba52cf8b00d348f3f}\r\n",
      "      \\field{labelnamesource}{author}\r\n",
      "      \\field{labeltitlesource}{title}\r\n",
      "      \\field{journaltitle}{arXiv preprint arXiv:1410.5401}\r\n",
      "      \\field{title}{Neural turing machines}\r\n",
      "      \\field{year}{2014}\r\n",
      "    \\endentry\r\n",
      "    \\entry{GL16}{inproceedings}{}\r\n",
      "      \\name{author}{2}{}{%\r\n",
      "        {{hash=729fadc9b7ff4401944223d1970029bf}{%\r\n",
      "           family={Grover},\r\n",
      "           familyi={G\\bibinitperiod},\r\n",
      "           given={A.},\r\n",
      "           giveni={A\\bibinitperiod}}}%\r\n",
      "        {{hash=c604a89d1319108135da5c5839b3c49b}{%\r\n",
      "           family={Leskovec},\r\n",
      "           familyi={L\\bibinitperiod},\r\n",
      "           given={J.},\r\n",
      "           giveni={J\\bibinitperiod}}}%\r\n",
      "      }\r\n",
      "      \\list{organization}{1}{%\r\n",
      "        {ACM}%\r\n",
      "      }\r\n",
      "      \\strng{namehash}{2bfa8db0ccc8c5de7f567e2f4b4e7c6e}\r\n",
      "      \\strng{fullhash}{2bfa8db0ccc8c5de7f567e2f4b4e7c6e}\r\n",
      "      \\strng{authornamehash}{2bfa8db0ccc8c5de7f567e2f4b4e7c6e}\r\n",
      "      \\strng{authorfullhash}{2bfa8db0ccc8c5de7f567e2f4b4e7c6e}\r\n",
      "      \\field{sortinit}{G}\r\n",
      "      \\field{sortinithash}{618d986594b7198ba52cf8b00d348f3f}\r\n",
      "      \\field{labelnamesource}{author}\r\n",
      "      \\field{labeltitlesource}{title}\r\n",
      "      \\field{booktitle}{Proceedings of the 22nd ACM SIGKDD International Conference on Knowledge Discovery and Data Mining}\r\n",
      "      \\field{title}{node2vec: Scalable feature learning for networks}\r\n",
      "      \\field{year}{2016}\r\n",
      "      \\field{pages}{855\\bibrangedash 864}\r\n",
      "      \\range{pages}{10}\r\n",
      "    \\endentry\r\n",
      "    \\entry{HYL17}{article}{}\r\n",
      "      \\name{author}{3}{}{%\r\n",
      "        {{hash=6da60abd9fc3efa0e19961208a1125ad}{%\r\n",
      "           family={Hamilton},\r\n",
      "           familyi={H\\bibinitperiod},\r\n",
      "           given={W.\\bibnamedelimi L.},\r\n",
      "           giveni={W\\bibinitperiod\\bibinitdelim L\\bibinitperiod}}}%\r\n",
      "        {{hash=ccd2e39b9e7a7540d00904acb3d26ab7}{%\r\n",
      "           family={Ying},\r\n",
      "           familyi={Y\\bibinitperiod},\r\n",
      "           given={R.},\r\n",
      "           giveni={R\\bibinitperiod}}}%\r\n",
      "        {{hash=c604a89d1319108135da5c5839b3c49b}{%\r\n",
      "           family={Leskovec},\r\n",
      "           familyi={L\\bibinitperiod},\r\n",
      "           given={J.},\r\n",
      "           giveni={J\\bibinitperiod}}}%\r\n",
      "      }\r\n",
      "      \\strng{namehash}{dde8b5b25b879f9646bb658512496c68}\r\n",
      "      \\strng{fullhash}{dde8b5b25b879f9646bb658512496c68}\r\n",
      "      \\strng{authornamehash}{dde8b5b25b879f9646bb658512496c68}\r\n",
      "      \\strng{authorfullhash}{dde8b5b25b879f9646bb658512496c68}\r\n",
      "      \\field{sortinit}{H}\r\n",
      "      \\field{sortinithash}{2f664b453ec75da1fe3804ca92633405}\r\n",
      "      \\field{labelnamesource}{author}\r\n",
      "      \\field{labeltitlesource}{title}\r\n",
      "      \\field{journaltitle}{arXiv preprint arXiv:1706.02216}\r\n",
      "      \\field{title}{Inductive Representation Learning on Large Graphs}\r\n",
      "      \\field{year}{2017}\r\n",
      "    \\endentry\r\n",
      "    \\entry{HBL15}{article}{}\r\n",
      "      \\name{author}{3}{}{%\r\n",
      "        {{hash=401562d96db136e78effff95552f584b}{%\r\n",
      "           family={Henaff},\r\n",
      "           familyi={H\\bibinitperiod},\r\n",
      "           given={Mikael},\r\n",
      "           giveni={M\\bibinitperiod}}}%\r\n",
      "        {{hash=c83b564e32475f10dcc91be7e66d3e81}{%\r\n",
      "           family={Bruna},\r\n",
      "           familyi={B\\bibinitperiod},\r\n",
      "           given={Joan},\r\n",
      "           giveni={J\\bibinitperiod}}}%\r\n",
      "        {{hash=6a1aa6b7eab12b931ca7c7e3f927231d}{%\r\n",
      "           family={LeCun},\r\n",
      "           familyi={L\\bibinitperiod},\r\n",
      "           given={Yann},\r\n",
      "           giveni={Y\\bibinitperiod}}}%\r\n",
      "      }\r\n",
      "      \\strng{namehash}{de963917bd0c893230d69338568c1f65}\r\n",
      "      \\strng{fullhash}{de963917bd0c893230d69338568c1f65}\r\n",
      "      \\strng{authornamehash}{de963917bd0c893230d69338568c1f65}\r\n",
      "      \\strng{authorfullhash}{de963917bd0c893230d69338568c1f65}\r\n",
      "      \\field{sortinit}{H}\r\n",
      "      \\field{sortinithash}{2f664b453ec75da1fe3804ca92633405}\r\n",
      "      \\field{labelnamesource}{author}\r\n",
      "      \\field{labeltitlesource}{title}\r\n",
      "      \\field{journaltitle}{arXiv preprint arXiv:1506.05163}\r\n",
      "      \\field{title}{Deep convolutional networks on graph-structured data}\r\n",
      "      \\field{year}{2015}\r\n",
      "    \\endentry\r\n",
      "    \\entry{hoshen2017vain}{inproceedings}{}\r\n",
      "      \\name{author}{1}{}{%\r\n",
      "        {{hash=55efb0f1e8b5c54cf62b4ffea5bc8660}{%\r\n",
      "           family={Hoshen},\r\n",
      "           familyi={H\\bibinitperiod},\r\n",
      "           given={Yedid},\r\n",
      "           giveni={Y\\bibinitperiod}}}%\r\n",
      "      }\r\n",
      "      \\strng{namehash}{55efb0f1e8b5c54cf62b4ffea5bc8660}\r\n",
      "      \\strng{fullhash}{55efb0f1e8b5c54cf62b4ffea5bc8660}\r\n",
      "      \\strng{authornamehash}{55efb0f1e8b5c54cf62b4ffea5bc8660}\r\n",
      "      \\strng{authorfullhash}{55efb0f1e8b5c54cf62b4ffea5bc8660}\r\n",
      "      \\field{sortinit}{H}\r\n",
      "      \\field{sortinithash}{2f664b453ec75da1fe3804ca92633405}\r\n",
      "      \\field{labelnamesource}{author}\r\n",
      "      \\field{labeltitlesource}{title}\r\n",
      "      \\field{booktitle}{Advances in Neural Information Processing Systems}\r\n",
      "      \\field{title}{VAIN: Attentional Multi-agent Predictive Modeling}\r\n",
      "      \\field{year}{2017}\r\n",
      "      \\field{pages}{2698\\bibrangedash 2708}\r\n",
      "      \\range{pages}{11}\r\n",
      "    \\endentry\r\n",
      "    \\entry{Joa99}{inproceedings}{}\r\n",
      "      \\name{author}{1}{}{%\r\n",
      "        {{hash=0e5ae7e30da87e8ba62ced27d4e6f2aa}{%\r\n",
      "           family={Joachims},\r\n",
      "           familyi={J\\bibinitperiod},\r\n",
      "           given={Thorsten},\r\n",
      "           giveni={T\\bibinitperiod}}}%\r\n",
      "      }\r\n",
      "      \\strng{namehash}{0e5ae7e30da87e8ba62ced27d4e6f2aa}\r\n",
      "      \\strng{fullhash}{0e5ae7e30da87e8ba62ced27d4e6f2aa}\r\n",
      "      \\strng{authornamehash}{0e5ae7e30da87e8ba62ced27d4e6f2aa}\r\n",
      "      \\strng{authorfullhash}{0e5ae7e30da87e8ba62ced27d4e6f2aa}\r\n",
      "      \\field{sortinit}{J}\r\n",
      "      \\field{sortinithash}{c86bd6cced82a15683b396c2169909ef}\r\n",
      "      \\field{labelnamesource}{author}\r\n",
      "      \\field{labeltitlesource}{title}\r\n",
      "      \\field{booktitle}{ICML}\r\n",
      "      \\field{title}{Transductive inference for text classification using support vector machines}\r\n",
      "      \\field{volume}{99}\r\n",
      "      \\field{year}{1999}\r\n",
      "      \\field{pages}{200\\bibrangedash 209}\r\n",
      "      \\range{pages}{10}\r\n",
      "    \\endentry\r\n",
      "    \\entry{KW16}{article}{}\r\n",
      "      \\name{author}{2}{}{%\r\n",
      "        {{hash=5b350fe5c9e7d7475b2f6dde27a899d7}{%\r\n",
      "           family={Kipf},\r\n",
      "           familyi={K\\bibinitperiod},\r\n",
      "           given={T.\\bibnamedelimi N.},\r\n",
      "           giveni={T\\bibinitperiod\\bibinitdelim N\\bibinitperiod}}}%\r\n",
      "        {{hash=8b7fe0e4c2b0f504bdf6a5d895d39ee1}{%\r\n",
      "           family={Welling},\r\n",
      "           familyi={W\\bibinitperiod},\r\n",
      "           given={M.},\r\n",
      "           giveni={M\\bibinitperiod}}}%\r\n",
      "      }\r\n",
      "      \\strng{namehash}{a3a23062515b8711ec01e3f628bc9a3c}\r\n",
      "      \\strng{fullhash}{a3a23062515b8711ec01e3f628bc9a3c}\r\n",
      "      \\strng{authornamehash}{a3a23062515b8711ec01e3f628bc9a3c}\r\n",
      "      \\strng{authorfullhash}{a3a23062515b8711ec01e3f628bc9a3c}\r\n",
      "      \\field{sortinit}{K}\r\n",
      "      \\field{sortinithash}{4c244ceae61406cdc0cc2ce1cb1ff703}\r\n",
      "      \\field{labelnamesource}{author}\r\n",
      "      \\field{labeltitlesource}{title}\r\n",
      "      \\field{journaltitle}{arXiv preprint arXiv:1609.02907}\r\n",
      "      \\field{title}{Semi-supervised classification with graph convolutional networks}\r\n",
      "      \\field{year}{2016}\r\n",
      "    \\endentry\r\n",
      "    \\entry{LM14}{inproceedings}{}\r\n",
      "      \\name{author}{2}{}{%\r\n",
      "        {{hash=b56899d694b74365ac398ca92cb6292b}{%\r\n",
      "           family={Le},\r\n",
      "           familyi={L\\bibinitperiod},\r\n",
      "           given={Q.},\r\n",
      "           giveni={Q\\bibinitperiod}}}%\r\n",
      "        {{hash=485b259515dc5e970eacb830156afa79}{%\r\n",
      "           family={Mikolov},\r\n",
      "           familyi={M\\bibinitperiod},\r\n",
      "           given={T.},\r\n",
      "           giveni={T\\bibinitperiod}}}%\r\n",
      "      }\r\n",
      "      \\strng{namehash}{f8e10b1319271874539abbf341676626}\r\n",
      "      \\strng{fullhash}{f8e10b1319271874539abbf341676626}\r\n",
      "      \\strng{authornamehash}{f8e10b1319271874539abbf341676626}\r\n",
      "      \\strng{authorfullhash}{f8e10b1319271874539abbf341676626}\r\n",
      "      \\field{sortinit}{L}\r\n",
      "      \\field{sortinithash}{7bba64db83423e3c29ad597f3b682cf3}\r\n",
      "      \\field{labelnamesource}{author}\r\n",
      "      \\field{labeltitlesource}{title}\r\n",
      "      \\field{booktitle}{Proceedings of the 31st International Conference on Machine Learning (ICML-14)}\r\n",
      "      \\field{title}{Distributed representations of sentences and documents}\r\n",
      "      \\field{year}{2014}\r\n",
      "      \\field{pages}{1188\\bibrangedash 1196}\r\n",
      "      \\range{pages}{9}\r\n",
      "    \\endentry\r\n",
      "    \\entry{LTB15}{article}{}\r\n",
      "      \\name{author}{4}{}{%\r\n",
      "        {{hash=38fcf426aad9f6b84953f797dca3a801}{%\r\n",
      "           family={Li},\r\n",
      "           familyi={L\\bibinitperiod},\r\n",
      "           given={Y.},\r\n",
      "           giveni={Y\\bibinitperiod}}}%\r\n",
      "        {{hash=7df8ad9c933b9d97d975395b699eaaf6}{%\r\n",
      "           family={Tarlow},\r\n",
      "           familyi={T\\bibinitperiod},\r\n",
      "           given={D.},\r\n",
      "           giveni={D\\bibinitperiod}}}%\r\n",
      "        {{hash=398caf5fb071faeabb358d1c5d50bd02}{%\r\n",
      "           family={Brockschmidt},\r\n",
      "           familyi={B\\bibinitperiod},\r\n",
      "           given={M.},\r\n",
      "           giveni={M\\bibinitperiod}}}%\r\n",
      "        {{hash=4e17361cbc1d11ce7856c14cb9276138}{%\r\n",
      "           family={Zemel},\r\n",
      "           familyi={Z\\bibinitperiod},\r\n",
      "           given={R.},\r\n",
      "           giveni={R\\bibinitperiod}}}%\r\n",
      "      }\r\n",
      "      \\strng{namehash}{cc196a5ce1f3c4120fc08f1048e1df69}\r\n",
      "      \\strng{fullhash}{3998f6629e69249105d1697574d70509}\r\n",
      "      \\strng{authornamehash}{cc196a5ce1f3c4120fc08f1048e1df69}\r\n",
      "      \\strng{authorfullhash}{3998f6629e69249105d1697574d70509}\r\n",
      "      \\field{sortinit}{L}\r\n",
      "      \\field{sortinithash}{7bba64db83423e3c29ad597f3b682cf3}\r\n",
      "      \\field{labelnamesource}{author}\r\n",
      "      \\field{labeltitlesource}{title}\r\n",
      "      \\field{journaltitle}{arXiv preprint arXiv:1511.05493}\r\n",
      "      \\field{title}{Gated graph sequence neural networks}\r\n",
      "      \\field{year}{2015}\r\n",
      "    \\endentry\r\n",
      "    \\entry{LG03}{inproceedings}{}\r\n",
      "      \\name{author}{2}{}{%\r\n",
      "        {{hash=71ce733199af09bf6d43813f21a4a853}{%\r\n",
      "           family={Lu},\r\n",
      "           familyi={L\\bibinitperiod},\r\n",
      "           given={Qing},\r\n",
      "           giveni={Q\\bibinitperiod}}}%\r\n",
      "        {{hash=88e86bf57e4d0841ba9010d52469237c}{%\r\n",
      "           family={Getoor},\r\n",
      "           familyi={G\\bibinitperiod},\r\n",
      "           given={Lise},\r\n",
      "           giveni={L\\bibinitperiod}}}%\r\n",
      "      }\r\n",
      "      \\strng{namehash}{9ddf5cca3c178dc6ebcd2f03e898b537}\r\n",
      "      \\strng{fullhash}{9ddf5cca3c178dc6ebcd2f03e898b537}\r\n",
      "      \\strng{authornamehash}{9ddf5cca3c178dc6ebcd2f03e898b537}\r\n",
      "      \\strng{authorfullhash}{9ddf5cca3c178dc6ebcd2f03e898b537}\r\n",
      "      \\field{sortinit}{L}\r\n",
      "      \\field{sortinithash}{7bba64db83423e3c29ad597f3b682cf3}\r\n",
      "      \\field{labelnamesource}{author}\r\n",
      "      \\field{labeltitlesource}{title}\r\n",
      "      \\field{booktitle}{Proceedings of the 20th International Conference on Machine Learning (ICML-03)}\r\n",
      "      \\field{title}{Link-based classification}\r\n",
      "      \\field{year}{2003}\r\n",
      "      \\field{pages}{496\\bibrangedash 503}\r\n",
      "      \\range{pages}{8}\r\n",
      "    \\endentry\r\n",
      "    \\entry{MBM16}{article}{}\r\n",
      "      \\name{author}{6}{}{%\r\n",
      "        {{hash=8f0d23e8869cd90a91c7a2d49ae85c0e}{%\r\n",
      "           family={Monti},\r\n",
      "           familyi={M\\bibinitperiod},\r\n",
      "           given={Federico},\r\n",
      "           giveni={F\\bibinitperiod}}}%\r\n",
      "        {{hash=b635105d5c572604739cdc9a9c13b5e9}{%\r\n",
      "           family={Boscaini},\r\n",
      "           familyi={B\\bibinitperiod},\r\n",
      "           given={Davide},\r\n",
      "           giveni={D\\bibinitperiod}}}%\r\n",
      "        {{hash=296aa51baf6b5dce74c13806342b5bbe}{%\r\n",
      "           family={Masci},\r\n",
      "           familyi={M\\bibinitperiod},\r\n",
      "           given={Jonathan},\r\n",
      "           giveni={J\\bibinitperiod}}}%\r\n",
      "        {{hash=67340328e52553a972aa6fded69d1699}{%\r\n",
      "           family={Rodol\\`{a}},\r\n",
      "           familyi={R\\bibinitperiod},\r\n",
      "           given={Emanuele},\r\n",
      "           giveni={E\\bibinitperiod}}}%\r\n",
      "        {{hash=f9976a69550d434ce587ee097b58ff26}{%\r\n",
      "           family={Svoboda},\r\n",
      "           familyi={S\\bibinitperiod},\r\n",
      "           given={Jan},\r\n",
      "           giveni={J\\bibinitperiod}}}%\r\n",
      "        {{hash=a0ffa1ab9525af377eaba8bd6acb1d98}{%\r\n",
      "           family={Bronstein},\r\n",
      "           familyi={B\\bibinitperiod},\r\n",
      "           given={Michael\\bibnamedelima M},\r\n",
      "           giveni={M\\bibinitperiod\\bibinitdelim M\\bibinitperiod}}}%\r\n",
      "      }\r\n",
      "      \\strng{namehash}{43e47c48e339343c72620c9bf5e525a8}\r\n",
      "      \\strng{fullhash}{a234c69789e8f14b19e14f4ed104c2b1}\r\n",
      "      \\strng{authornamehash}{43e47c48e339343c72620c9bf5e525a8}\r\n",
      "      \\strng{authorfullhash}{a234c69789e8f14b19e14f4ed104c2b1}\r\n",
      "      \\field{sortinit}{M}\r\n",
      "      \\field{sortinithash}{c26a05ef03e4429073ed5c825140fac3}\r\n",
      "      \\field{labelnamesource}{author}\r\n",
      "      \\field{labeltitlesource}{title}\r\n",
      "      \\field{journaltitle}{arXiv preprint arXiv:1611.08402}\r\n",
      "      \\field{title}{Geometric deep learning on graphs and manifolds using mixture model CNNs}\r\n",
      "      \\field{year}{2016}\r\n",
      "    \\endentry\r\n",
      "    \\entry{NAK16}{inproceedings}{}\r\n",
      "      \\name{author}{3}{}{%\r\n",
      "        {{hash=e0139107d328b56dfc574dc70f7df9d1}{%\r\n",
      "           family={Niepert},\r\n",
      "           familyi={N\\bibinitperiod},\r\n",
      "           given={M.},\r\n",
      "           giveni={M\\bibinitperiod}}}%\r\n",
      "        {{hash=6ba105d3cd39a31d9fcc7073f714fc1b}{%\r\n",
      "           family={Ahmed},\r\n",
      "           familyi={A\\bibinitperiod},\r\n",
      "           given={M.},\r\n",
      "           giveni={M\\bibinitperiod}}}%\r\n",
      "        {{hash=85b8dbbf44588bf10ef9729a64233135}{%\r\n",
      "           family={Kutzkov},\r\n",
      "           familyi={K\\bibinitperiod},\r\n",
      "           given={K.},\r\n",
      "           giveni={K\\bibinitperiod}}}%\r\n",
      "      }\r\n",
      "      \\strng{namehash}{40100cd5c7c323761e0aa01245d2694c}\r\n",
      "      \\strng{fullhash}{40100cd5c7c323761e0aa01245d2694c}\r\n",
      "      \\strng{authornamehash}{40100cd5c7c323761e0aa01245d2694c}\r\n",
      "      \\strng{authorfullhash}{40100cd5c7c323761e0aa01245d2694c}\r\n",
      "      \\field{sortinit}{N}\r\n",
      "      \\field{sortinithash}{1163c28585427c673ad5a010cbf82f52}\r\n",
      "      \\field{labelnamesource}{author}\r\n",
      "      \\field{labeltitlesource}{title}\r\n",
      "      \\field{booktitle}{Proceedings of the 33rd annual international conference on machine learning. ACM}\r\n",
      "      \\field{title}{Learning convolutional neural networks for graphs}\r\n",
      "      \\field{year}{2016}\r\n",
      "    \\endentry\r\n",
      "    \\entry{nigam2006semi}{article}{}\r\n",
      "      \\name{author}{3}{}{%\r\n",
      "        {{hash=b69fc1ad440b0bf65dce845ca65e44a2}{%\r\n",
      "           family={Nigam},\r\n",
      "           familyi={N\\bibinitperiod},\r\n",
      "           given={Kamal},\r\n",
      "           giveni={K\\bibinitperiod}}}%\r\n",
      "        {{hash=17d73a3a5be48993791cbe4db8855331}{%\r\n",
      "           family={McCallum},\r\n",
      "           familyi={M\\bibinitperiod},\r\n",
      "           given={Andrew},\r\n",
      "           giveni={A\\bibinitperiod}}}%\r\n",
      "        {{hash=6b1b95cdca60865947b9a309e5e904f6}{%\r\n",
      "           family={Mitchell},\r\n",
      "           familyi={M\\bibinitperiod},\r\n",
      "           given={Tom},\r\n",
      "           giveni={T\\bibinitperiod}}}%\r\n",
      "      }\r\n",
      "      \\list{publisher}{1}{%\r\n",
      "        {The MIT Press, Cambridge, MA}%\r\n",
      "      }\r\n",
      "      \\strng{namehash}{c0b43877205d0739c778f28582a3777e}\r\n",
      "      \\strng{fullhash}{c0b43877205d0739c778f28582a3777e}\r\n",
      "      \\strng{authornamehash}{c0b43877205d0739c778f28582a3777e}\r\n",
      "      \\strng{authorfullhash}{c0b43877205d0739c778f28582a3777e}\r\n",
      "      \\field{sortinit}{N}\r\n",
      "      \\field{sortinithash}{1163c28585427c673ad5a010cbf82f52}\r\n",
      "      \\field{labelnamesource}{author}\r\n",
      "      \\field{labeltitlesource}{title}\r\n",
      "      \\field{journaltitle}{Semi-Supervised Learning}\r\n",
      "      \\field{title}{Semi-supervised text classification using EM}\r\n",
      "      \\field{year}{2006}\r\n",
      "      \\field{pages}{33\\bibrangedash 56}\r\n",
      "      \\range{pages}{24}\r\n",
      "    \\endentry\r\n",
      "    \\entry{NVBB17}{article}{}\r\n",
      "      \\name{author}{4}{}{%\r\n",
      "        {{hash=0df23544fcfca6403e078c3069b048e8}{%\r\n",
      "           family={Nowak},\r\n",
      "           familyi={N\\bibinitperiod},\r\n",
      "           given={A.},\r\n",
      "           giveni={A\\bibinitperiod}}}%\r\n",
      "        {{hash=d275d24fec9bcff49a6380bbbd990077}{%\r\n",
      "           family={Villar},\r\n",
      "           familyi={V\\bibinitperiod},\r\n",
      "           given={S.},\r\n",
      "           giveni={S\\bibinitperiod}}}%\r\n",
      "        {{hash=2c9db28e6491353852cb0b812bccd82c}{%\r\n",
      "           family={Bandeira},\r\n",
      "           familyi={B\\bibinitperiod},\r\n",
      "           given={A.\\bibnamedelimi S.},\r\n",
      "           giveni={A\\bibinitperiod\\bibinitdelim S\\bibinitperiod}}}%\r\n",
      "        {{hash=ffabbc737cb02c4b3983a96bb1551c12}{%\r\n",
      "           family={Bruna},\r\n",
      "           familyi={B\\bibinitperiod},\r\n",
      "           given={J.},\r\n",
      "           giveni={J\\bibinitperiod}}}%\r\n",
      "      }\r\n",
      "      \\strng{namehash}{17c2e1f051c0023532e10210eed8a3ce}\r\n",
      "      \\strng{fullhash}{e2c7517674d63a8c9dc355d47e96fd24}\r\n",
      "      \\strng{authornamehash}{17c2e1f051c0023532e10210eed8a3ce}\r\n",
      "      \\strng{authorfullhash}{e2c7517674d63a8c9dc355d47e96fd24}\r\n",
      "      \\field{sortinit}{N}\r\n",
      "      \\field{sortinithash}{1163c28585427c673ad5a010cbf82f52}\r\n",
      "      \\field{labelnamesource}{author}\r\n",
      "      \\field{labeltitlesource}{title}\r\n",
      "      \\field{journaltitle}{arXiv preprint arXiv:1706.07450}\r\n",
      "      \\field{title}{A Note on Learning Algorithms for Quadratic Assignment with Graph Neural Networks}\r\n",
      "      \\field{year}{2017}\r\n",
      "    \\endentry\r\n",
      "    \\entry{PAS14}{inproceedings}{}\r\n",
      "      \\name{author}{3}{}{%\r\n",
      "        {{hash=4c513b9008febde547e86a1ea053e50b}{%\r\n",
      "           family={Perozzi},\r\n",
      "           familyi={P\\bibinitperiod},\r\n",
      "           given={B.},\r\n",
      "           giveni={B\\bibinitperiod}}}%\r\n",
      "        {{hash=425a142e83d30ee8debcb43a0324e965}{%\r\n",
      "           family={Al-Rfou},\r\n",
      "           familyi={A\\bibinithyphendelim R\\bibinitperiod},\r\n",
      "           given={R.},\r\n",
      "           giveni={R\\bibinitperiod}}}%\r\n",
      "        {{hash=43d80a9a53700b637abd48801c99e75a}{%\r\n",
      "           family={Skiena},\r\n",
      "           familyi={S\\bibinitperiod},\r\n",
      "           given={S.},\r\n",
      "           giveni={S\\bibinitperiod}}}%\r\n",
      "      }\r\n",
      "      \\list{organization}{1}{%\r\n",
      "        {ACM}%\r\n",
      "      }\r\n",
      "      \\strng{namehash}{f68986a4e44cbe75dd7db5390cc3a9fb}\r\n",
      "      \\strng{fullhash}{f68986a4e44cbe75dd7db5390cc3a9fb}\r\n",
      "      \\strng{authornamehash}{f68986a4e44cbe75dd7db5390cc3a9fb}\r\n",
      "      \\strng{authorfullhash}{f68986a4e44cbe75dd7db5390cc3a9fb}\r\n",
      "      \\field{sortinit}{P}\r\n",
      "      \\field{sortinithash}{24100cef455d7974167575052c29146e}\r\n",
      "      \\field{labelnamesource}{author}\r\n",
      "      \\field{labeltitlesource}{title}\r\n",
      "      \\field{booktitle}{Proceedings of the 20th ACM SIGKDD international conference on Knowledge discovery and data mining}\r\n",
      "      \\field{title}{Deepwalk: Online learning of social representations}\r\n",
      "      \\field{year}{2014}\r\n",
      "      \\field{pages}{701\\bibrangedash 710}\r\n",
      "      \\range{pages}{10}\r\n",
      "    \\endentry\r\n",
      "    \\entry{SGT09}{article}{}\r\n",
      "      \\name{author}{5}{}{%\r\n",
      "        {{hash=447de7983619243dc5bf3af69d609b20}{%\r\n",
      "           family={Scarselli},\r\n",
      "           familyi={S\\bibinitperiod},\r\n",
      "           given={Franco},\r\n",
      "           giveni={F\\bibinitperiod}}}%\r\n",
      "        {{hash=d25d4f83ae540b2b728a5423e9fbe85b}{%\r\n",
      "           family={Gori},\r\n",
      "           familyi={G\\bibinitperiod},\r\n",
      "           given={Marco},\r\n",
      "           giveni={M\\bibinitperiod}}}%\r\n",
      "        {{hash=bad8c3458d4ad9db77a764f7bfaed629}{%\r\n",
      "           family={Tsoi},\r\n",
      "           familyi={T\\bibinitperiod},\r\n",
      "           given={Ah\\bibnamedelima Chung},\r\n",
      "           giveni={A\\bibinitperiod\\bibinitdelim C\\bibinitperiod}}}%\r\n",
      "        {{hash=10950c9e6d0e741519372f893853f1c9}{%\r\n",
      "           family={Hagenbuchner},\r\n",
      "           familyi={H\\bibinitperiod},\r\n",
      "           given={Markus},\r\n",
      "           giveni={M\\bibinitperiod}}}%\r\n",
      "        {{hash=b56d5f9b0efe692c5e81a88da3a2f2b7}{%\r\n",
      "           family={Monfardini},\r\n",
      "           familyi={M\\bibinitperiod},\r\n",
      "           given={Gabriele},\r\n",
      "           giveni={G\\bibinitperiod}}}%\r\n",
      "      }\r\n",
      "      \\list{publisher}{1}{%\r\n",
      "        {IEEE}%\r\n",
      "      }\r\n",
      "      \\strng{namehash}{e0bddd4250509618ebb1318d9844ce78}\r\n",
      "      \\strng{fullhash}{e56657478d7e8f6e5b05ce8a12edab88}\r\n",
      "      \\strng{authornamehash}{e0bddd4250509618ebb1318d9844ce78}\r\n",
      "      \\strng{authorfullhash}{e56657478d7e8f6e5b05ce8a12edab88}\r\n",
      "      \\field{sortinit}{S}\r\n",
      "      \\field{sortinithash}{3c1547c63380458f8ca90e40ed14b83e}\r\n",
      "      \\field{labelnamesource}{author}\r\n",
      "      \\field{labeltitlesource}{title}\r\n",
      "      \\field{journaltitle}{IEEE Transactions on Neural Networks}\r\n",
      "      \\field{number}{1}\r\n",
      "      \\field{title}{The graph neural network model}\r\n",
      "      \\field{volume}{20}\r\n",
      "      \\field{year}{2009}\r\n",
      "      \\field{pages}{61\\bibrangedash 80}\r\n",
      "      \\range{pages}{20}\r\n",
      "    \\endentry\r\n",
      "    \\entry{SKB17}{article}{}\r\n",
      "      \\name{author}{6}{}{%\r\n",
      "        {{hash=7e636fc2579d3e247cb23a46145416af}{%\r\n",
      "           family={Schlichtkrull},\r\n",
      "           familyi={S\\bibinitperiod},\r\n",
      "           given={M.},\r\n",
      "           giveni={M\\bibinitperiod}}}%\r\n",
      "        {{hash=5b350fe5c9e7d7475b2f6dde27a899d7}{%\r\n",
      "           family={Kipf},\r\n",
      "           familyi={K\\bibinitperiod},\r\n",
      "           given={T.\\bibnamedelimi N.},\r\n",
      "           giveni={T\\bibinitperiod\\bibinitdelim N\\bibinitperiod}}}%\r\n",
      "        {{hash=0c85015279ce87d65e76b7dcedee22f4}{%\r\n",
      "           family={Bloem},\r\n",
      "           familyi={B\\bibinitperiod},\r\n",
      "           given={P.},\r\n",
      "           giveni={P\\bibinitperiod}}}%\r\n",
      "        {{hash=be6c1f0aceb0c0c2e9de5663e58345a8}{%\r\n",
      "           family={Berg},\r\n",
      "           familyi={B\\bibinitperiod},\r\n",
      "           given={R.\\bibnamedelimi van\\bibnamedelima den},\r\n",
      "           giveni={R\\bibinitperiod\\bibinitdelim v\\bibinitperiod\\bibinitdelim d\\bibinitperiod}}}%\r\n",
      "        {{hash=494a64af75a7b633231f977b7256f358}{%\r\n",
      "           family={Titov},\r\n",
      "           familyi={T\\bibinitperiod},\r\n",
      "           given={I.},\r\n",
      "           giveni={I\\bibinitperiod}}}%\r\n",
      "        {{hash=8b7fe0e4c2b0f504bdf6a5d895d39ee1}{%\r\n",
      "           family={Welling},\r\n",
      "           familyi={W\\bibinitperiod},\r\n",
      "           given={M.},\r\n",
      "           giveni={M\\bibinitperiod}}}%\r\n",
      "      }\r\n",
      "      \\strng{namehash}{7008935c21d3fe48410265d00d6ab6e7}\r\n",
      "      \\strng{fullhash}{cfdf6eafec285fb78d2224fc6e55e1f4}\r\n",
      "      \\strng{authornamehash}{7008935c21d3fe48410265d00d6ab6e7}\r\n",
      "      \\strng{authorfullhash}{cfdf6eafec285fb78d2224fc6e55e1f4}\r\n",
      "      \\field{sortinit}{S}\r\n",
      "      \\field{sortinithash}{3c1547c63380458f8ca90e40ed14b83e}\r\n",
      "      \\field{labelnamesource}{author}\r\n",
      "      \\field{labeltitlesource}{title}\r\n",
      "      \\field{journaltitle}{arXiv preprint arXiv:1703.06103}\r\n",
      "      \\field{title}{Modeling Relational Data with Graph Convolutional Networks}\r\n",
      "      \\field{year}{2017}\r\n",
      "    \\endentry\r\n",
      "    \\entry{SSD17}{article}{}\r\n",
      "      \\name{author}{8}{}{%\r\n",
      "        {{hash=d109707b1c5482c7c75abb74b7c37883}{%\r\n",
      "           family={Such},\r\n",
      "           familyi={S\\bibinitperiod},\r\n",
      "           given={Felipe\\bibnamedelima Petroski},\r\n",
      "           giveni={F\\bibinitperiod\\bibinitdelim P\\bibinitperiod}}}%\r\n",
      "        {{hash=baa6f8b042f8a931d0e0b4361c1a0ff5}{%\r\n",
      "           family={Sah},\r\n",
      "           familyi={S\\bibinitperiod},\r\n",
      "           given={Shagan},\r\n",
      "           giveni={S\\bibinitperiod}}}%\r\n",
      "        {{hash=12f0fc78b15ab4722df2b8c95be8173d}{%\r\n",
      "           family={Dominguez},\r\n",
      "           familyi={D\\bibinitperiod},\r\n",
      "           given={Miguel},\r\n",
      "           giveni={M\\bibinitperiod}}}%\r\n",
      "        {{hash=3a883cad5da642b7888b66a62a70b086}{%\r\n",
      "           family={Pillai},\r\n",
      "           familyi={P\\bibinitperiod},\r\n",
      "           given={Suhas},\r\n",
      "           giveni={S\\bibinitperiod}}}%\r\n",
      "        {{hash=03ae9f31823ca904e5b163319d310224}{%\r\n",
      "           family={Zhang},\r\n",
      "           familyi={Z\\bibinitperiod},\r\n",
      "           given={Chao},\r\n",
      "           giveni={C\\bibinitperiod}}}%\r\n",
      "        {{hash=009e31fcfd2b2284fafb124adbf4448e}{%\r\n",
      "           family={Michael},\r\n",
      "           familyi={M\\bibinitperiod},\r\n",
      "           given={Andrew},\r\n",
      "           giveni={A\\bibinitperiod}}}%\r\n",
      "        {{hash=24cb7b87ccd571e2afae6ea9b2f37c8f}{%\r\n",
      "           family={Cahill},\r\n",
      "           familyi={C\\bibinitperiod},\r\n",
      "           given={Nathan},\r\n",
      "           giveni={N\\bibinitperiod}}}%\r\n",
      "        {{hash=ad2d235a5329e443c91d7996dc449d69}{%\r\n",
      "           family={Ptucha},\r\n",
      "           familyi={P\\bibinitperiod},\r\n",
      "           given={Raymond},\r\n",
      "           giveni={R\\bibinitperiod}}}%\r\n",
      "      }\r\n",
      "      \\strng{namehash}{30308906addde147d5deb8afd868838a}\r\n",
      "      \\strng{fullhash}{b9109bbcbbf04bab818ecb019bdc83a4}\r\n",
      "      \\strng{authornamehash}{30308906addde147d5deb8afd868838a}\r\n",
      "      \\strng{authorfullhash}{b9109bbcbbf04bab818ecb019bdc83a4}\r\n",
      "      \\field{sortinit}{S}\r\n",
      "      \\field{sortinithash}{3c1547c63380458f8ca90e40ed14b83e}\r\n",
      "      \\field{labelnamesource}{author}\r\n",
      "      \\field{labeltitlesource}{title}\r\n",
      "      \\field{journaltitle}{arXiv preprint arXiv:1703.00792}\r\n",
      "      \\field{title}{Robust Spatial Filtering with Graph Convolutional Neural Networks}\r\n",
      "      \\field{year}{2017}\r\n",
      "    \\endentry\r\n",
      "    \\entry{SSF16}{incollection}{}\r\n",
      "      \\name{author}{3}{}{%\r\n",
      "        {{hash=72c54cfe76db45d84a3413df9e903ff4}{%\r\n",
      "           family={Sukhbaatar},\r\n",
      "           familyi={S\\bibinitperiod},\r\n",
      "           given={Sainbayar},\r\n",
      "           giveni={S\\bibinitperiod}}}%\r\n",
      "        {{hash=11ce7f73323cabf068063c9aeaf26616}{%\r\n",
      "           given={arthur},\r\n",
      "           giveni={a\\bibinitperiod},\r\n",
      "           prefix={szlam\\bibnamedelima arthur},\r\n",
      "           prefixi={s\\bibinitperiod\\bibinitdelim a\\bibinitperiod}}}%\r\n",
      "        {{hash=a6784304d1cc890b2cb6c6c7f2f3fd76}{%\r\n",
      "           family={Fergus},\r\n",
      "           familyi={F\\bibinitperiod},\r\n",
      "           given={Rob},\r\n",
      "           giveni={R\\bibinitperiod}}}%\r\n",
      "      }\r\n",
      "      \\strng{namehash}{c957cb58b85581a6740b9a3ee1bd3f70}\r\n",
      "      \\strng{fullhash}{c957cb58b85581a6740b9a3ee1bd3f70}\r\n",
      "      \\strng{authornamehash}{c957cb58b85581a6740b9a3ee1bd3f70}\r\n",
      "      \\strng{authorfullhash}{c957cb58b85581a6740b9a3ee1bd3f70}\r\n",
      "      \\field{sortinit}{S}\r\n",
      "      \\field{sortinithash}{3c1547c63380458f8ca90e40ed14b83e}\r\n",
      "      \\field{labelnamesource}{author}\r\n",
      "      \\field{labeltitlesource}{title}\r\n",
      "      \\field{booktitle}{Advances in Neural Information Processing Systems 29}\r\n",
      "      \\field{title}{Learning Multiagent Communication with Backpropagation}\r\n",
      "      \\field{year}{2016}\r\n",
      "      \\field{pages}{2244\\bibrangedash 2252}\r\n",
      "      \\range{pages}{9}\r\n",
      "    \\endentry\r\n",
      "    \\entry{TQW15}{inproceedings}{}\r\n",
      "      \\name{author}{6}{}{%\r\n",
      "        {{hash=541194db9dac70af45a28c067d289c8d}{%\r\n",
      "           family={Tang},\r\n",
      "           familyi={T\\bibinitperiod},\r\n",
      "           given={Jian},\r\n",
      "           giveni={J\\bibinitperiod}}}%\r\n",
      "        {{hash=be51ffe8f55f70ee4360e3e6a1a4216e}{%\r\n",
      "           family={Qu},\r\n",
      "           familyi={Q\\bibinitperiod},\r\n",
      "           given={Meng},\r\n",
      "           giveni={M\\bibinitperiod}}}%\r\n",
      "        {{hash=a9b32eefcfd0b44a27bae162e66746ae}{%\r\n",
      "           family={Wang},\r\n",
      "           familyi={W\\bibinitperiod},\r\n",
      "           given={Mingzhe},\r\n",
      "           giveni={M\\bibinitperiod}}}%\r\n",
      "        {{hash=7a56aedb5f6ad175a5340edc7bf6267e}{%\r\n",
      "           family={Zhang},\r\n",
      "           familyi={Z\\bibinitperiod},\r\n",
      "           given={Ming},\r\n",
      "           giveni={M\\bibinitperiod}}}%\r\n",
      "        {{hash=934a0c3e849405255facd8113ba785b3}{%\r\n",
      "           family={Yan},\r\n",
      "           familyi={Y\\bibinitperiod},\r\n",
      "           given={Jun},\r\n",
      "           giveni={J\\bibinitperiod}}}%\r\n",
      "        {{hash=2ca1c136fc4a8c4c39869eeaf7fade74}{%\r\n",
      "           family={Mei},\r\n",
      "           familyi={M\\bibinitperiod},\r\n",
      "           given={Qiaozhu},\r\n",
      "           giveni={Q\\bibinitperiod}}}%\r\n",
      "      }\r\n",
      "      \\list{organization}{1}{%\r\n",
      "        {ACM}%\r\n",
      "      }\r\n",
      "      \\strng{namehash}{46894c9a61813f6e656d9217e281e7d1}\r\n",
      "      \\strng{fullhash}{87054c2dc52ba2fab3bbd4445bd88471}\r\n",
      "      \\strng{authornamehash}{46894c9a61813f6e656d9217e281e7d1}\r\n",
      "      \\strng{authorfullhash}{87054c2dc52ba2fab3bbd4445bd88471}\r\n",
      "      \\field{sortinit}{T}\r\n",
      "      \\field{sortinithash}{2e5c2f51f7fa2d957f3206819bf86dc3}\r\n",
      "      \\field{labelnamesource}{author}\r\n",
      "      \\field{labeltitlesource}{title}\r\n",
      "      \\field{booktitle}{Proceedings of the 24th International Conference on World Wide Web}\r\n",
      "      \\field{title}{Line: Large-scale information network embedding}\r\n",
      "      \\field{year}{2015}\r\n",
      "      \\field{pages}{1067\\bibrangedash 1077}\r\n",
      "      \\range{pages}{11}\r\n",
      "    \\endentry\r\n",
      "    \\entry{VBV17}{article}{}\r\n",
      "      \\name{author}{3}{}{%\r\n",
      "        {{hash=8583e969be514a07bb7986e7782ccc77}{%\r\n",
      "           family={Verma},\r\n",
      "           familyi={V\\bibinitperiod},\r\n",
      "           given={Nitika},\r\n",
      "           giveni={N\\bibinitperiod}}}%\r\n",
      "        {{hash=fac404ca06a7e177a16f40557189e159}{%\r\n",
      "           family={Boyer},\r\n",
      "           familyi={B\\bibinitperiod},\r\n",
      "           given={Edmond},\r\n",
      "           giveni={E\\bibinitperiod}}}%\r\n",
      "        {{hash=6db399bb4fce2fb790b103539429f56c}{%\r\n",
      "           family={Verbeek},\r\n",
      "           familyi={V\\bibinitperiod},\r\n",
      "           given={Jakob},\r\n",
      "           giveni={J\\bibinitperiod}}}%\r\n",
      "      }\r\n",
      "      \\strng{namehash}{1d10d9e95686ed6bbd9321b8e816f2d6}\r\n",
      "      \\strng{fullhash}{1d10d9e95686ed6bbd9321b8e816f2d6}\r\n",
      "      \\strng{authornamehash}{1d10d9e95686ed6bbd9321b8e816f2d6}\r\n",
      "      \\strng{authorfullhash}{1d10d9e95686ed6bbd9321b8e816f2d6}\r\n",
      "      \\field{sortinit}{V}\r\n",
      "      \\field{sortinithash}{555737dafdcf1396ebfeae5822e5bde2}\r\n",
      "      \\field{labelnamesource}{author}\r\n",
      "      \\field{labeltitlesource}{title}\r\n",
      "      \\field{journaltitle}{arXiv preprint arXiv:1706.05206}\r\n",
      "      \\field{title}{Dynamic Filters in Graph Convolutional Networks}\r\n",
      "      \\field{year}{2017}\r\n",
      "    \\endentry\r\n",
      "    \\entry{WRMC12}{incollection}{}\r\n",
      "      \\name{author}{4}{}{%\r\n",
      "        {{hash=417a25f3511d7c21e76d4a15e67dd679}{%\r\n",
      "           family={Weston},\r\n",
      "           familyi={W\\bibinitperiod},\r\n",
      "           given={Jason},\r\n",
      "           giveni={J\\bibinitperiod}}}%\r\n",
      "        {{hash=7b75ca300e44d71b77676e839a26ab56}{%\r\n",
      "           family={Ratle},\r\n",
      "           familyi={R\\bibinitperiod},\r\n",
      "           given={Fr\\'{e}d\\'{e}ric},\r\n",
      "           giveni={F\\bibinitperiod}}}%\r\n",
      "        {{hash=f2800380ecd0add8d852a779e92ca497}{%\r\n",
      "           family={Mobahi},\r\n",
      "           familyi={M\\bibinitperiod},\r\n",
      "           given={Hossein},\r\n",
      "           giveni={H\\bibinitperiod}}}%\r\n",
      "        {{hash=133261178beda1dc3991e0e1dfd5a791}{%\r\n",
      "           family={Collobert},\r\n",
      "           familyi={C\\bibinitperiod},\r\n",
      "           given={Ronan},\r\n",
      "           giveni={R\\bibinitperiod}}}%\r\n",
      "      }\r\n",
      "      \\list{publisher}{1}{%\r\n",
      "        {Springer}%\r\n",
      "      }\r\n",
      "      \\strng{namehash}{7772e4fb5bc277a5e9983ae2ef9e3801}\r\n",
      "      \\strng{fullhash}{7c77e426b61c0d337b02802f28747ba9}\r\n",
      "      \\strng{authornamehash}{7772e4fb5bc277a5e9983ae2ef9e3801}\r\n",
      "      \\strng{authorfullhash}{7c77e426b61c0d337b02802f28747ba9}\r\n",
      "      \\field{sortinit}{W}\r\n",
      "      \\field{sortinithash}{6d25b3eefe5aa2147d1f339686808918}\r\n",
      "      \\field{labelnamesource}{author}\r\n",
      "      \\field{labeltitlesource}{title}\r\n",
      "      \\field{booktitle}{Neural Networks: Tricks of the Trade}\r\n",
      "      \\field{title}{Deep learning via semi-supervised embedding}\r\n",
      "      \\field{year}{2012}\r\n",
      "      \\field{pages}{639\\bibrangedash 655}\r\n",
      "      \\range{pages}{17}\r\n",
      "    \\endentry\r\n",
      "    \\entry{XBKC15}{inproceedings}{}\r\n",
      "      \\name{author}{8}{}{%\r\n",
      "        {{hash=dc2232b001fa318a37c38c2de1bd6b09}{%\r\n",
      "           family={Xu},\r\n",
      "           familyi={X\\bibinitperiod},\r\n",
      "           given={Kelvin},\r\n",
      "           giveni={K\\bibinitperiod}}}%\r\n",
      "        {{hash=8aa66e8231cc2fdbe67aa4f18ca970c6}{%\r\n",
      "           family={Ba},\r\n",
      "           familyi={B\\bibinitperiod},\r\n",
      "           given={Jimmy},\r\n",
      "           giveni={J\\bibinitperiod}}}%\r\n",
      "        {{hash=9ca4d6f3496c5a623fcad2f5de58670b}{%\r\n",
      "           family={Kiros},\r\n",
      "           familyi={K\\bibinitperiod},\r\n",
      "           given={Ryan},\r\n",
      "           giveni={R\\bibinitperiod}}}%\r\n",
      "        {{hash=3da7501a79d9346572c7fd6e41b615df}{%\r\n",
      "           family={Cho},\r\n",
      "           familyi={C\\bibinitperiod},\r\n",
      "           given={Kyunghyun},\r\n",
      "           giveni={K\\bibinitperiod}}}%\r\n",
      "        {{hash=ccec1ccd2e1aa86960eb2e872c6b7020}{%\r\n",
      "           family={Courville},\r\n",
      "           familyi={C\\bibinitperiod},\r\n",
      "           given={Aaron},\r\n",
      "           giveni={A\\bibinitperiod}}}%\r\n",
      "        {{hash=a4cfbd5d09c24f350cab6033efc92863}{%\r\n",
      "           family={Salakhudinov},\r\n",
      "           familyi={S\\bibinitperiod},\r\n",
      "           given={Ruslan},\r\n",
      "           giveni={R\\bibinitperiod}}}%\r\n",
      "        {{hash=52ee9a9c95c17c9f1957bb28defd9fbb}{%\r\n",
      "           family={Zemel},\r\n",
      "           familyi={Z\\bibinitperiod},\r\n",
      "           given={Rich},\r\n",
      "           giveni={R\\bibinitperiod}}}%\r\n",
      "        {{hash=40a8e4774982146adc2688546f54efb2}{%\r\n",
      "           family={Bengio},\r\n",
      "           familyi={B\\bibinitperiod},\r\n",
      "           given={Yoshua},\r\n",
      "           giveni={Y\\bibinitperiod}}}%\r\n",
      "      }\r\n",
      "      \\strng{namehash}{4122580c3599b10d5b7fc11a33af75cc}\r\n",
      "      \\strng{fullhash}{30daf56e0c9e43df7dd3900ce49e07c3}\r\n",
      "      \\strng{authornamehash}{4122580c3599b10d5b7fc11a33af75cc}\r\n",
      "      \\strng{authorfullhash}{30daf56e0c9e43df7dd3900ce49e07c3}\r\n",
      "      \\field{sortinit}{X}\r\n",
      "      \\field{sortinithash}{755b54a59c4b54d471c87a4486a94349}\r\n",
      "      \\field{labelnamesource}{author}\r\n",
      "      \\field{labeltitlesource}{title}\r\n",
      "      \\field{booktitle}{International Conference on Machine Learning}\r\n",
      "      \\field{title}{Show, attend and tell: Neural image caption generation with visual attention}\r\n",
      "      \\field{year}{2015}\r\n",
      "      \\field{pages}{2048\\bibrangedash 2057}\r\n",
      "      \\range{pages}{10}\r\n",
      "    \\endentry\r\n",
      "    \\entry{XLF17}{article}{}\r\n",
      "      \\name{author}{6}{}{%\r\n",
      "        {{hash=3aa866676575595f7817661219226271}{%\r\n",
      "           family={Xu},\r\n",
      "           familyi={X\\bibinitperiod},\r\n",
      "           given={Xiaojun},\r\n",
      "           giveni={X\\bibinitperiod}}}%\r\n",
      "        {{hash=9d9ac6815e27331ba6620def723e357f}{%\r\n",
      "           family={Liu},\r\n",
      "           familyi={L\\bibinitperiod},\r\n",
      "           given={Chang},\r\n",
      "           giveni={C\\bibinitperiod}}}%\r\n",
      "        {{hash=06355bdb2f639889a7c286bc9287cdba}{%\r\n",
      "           family={Feng},\r\n",
      "           familyi={F\\bibinitperiod},\r\n",
      "           given={Qian},\r\n",
      "           giveni={Q\\bibinitperiod}}}%\r\n",
      "        {{hash=d99cf7755b0404b6efb5aeb977d23cee}{%\r\n",
      "           family={Yin},\r\n",
      "           familyi={Y\\bibinitperiod},\r\n",
      "           given={Heng},\r\n",
      "           giveni={H\\bibinitperiod}}}%\r\n",
      "        {{hash=da5283630e781fb48ecf4859f54bca52}{%\r\n",
      "           family={Song},\r\n",
      "           familyi={S\\bibinitperiod},\r\n",
      "           given={Le},\r\n",
      "           giveni={L\\bibinitperiod}}}%\r\n",
      "        {{hash=d458d5f9b64652055bd81d57e4777b22}{%\r\n",
      "           family={Song},\r\n",
      "           familyi={S\\bibinitperiod},\r\n",
      "           given={Dawn},\r\n",
      "           giveni={D\\bibinitperiod}}}%\r\n",
      "      }\r\n",
      "      \\strng{namehash}{9042f4640b8c959bda2f9186de3593b1}\r\n",
      "      \\strng{fullhash}{8ab5b9398c6a5c96e671bba401a74a3a}\r\n",
      "      \\strng{authornamehash}{9042f4640b8c959bda2f9186de3593b1}\r\n",
      "      \\strng{authorfullhash}{8ab5b9398c6a5c96e671bba401a74a3a}\r\n",
      "      \\field{sortinit}{X}\r\n",
      "      \\field{sortinithash}{755b54a59c4b54d471c87a4486a94349}\r\n",
      "      \\field{labelnamesource}{author}\r\n",
      "      \\field{labeltitlesource}{title}\r\n",
      "      \\field{journaltitle}{arXiv preprint arXiv:1708.06525}\r\n",
      "      \\field{title}{Neural Network-based Graph Embedding for Cross-Platform Binary Code Similarity Detection}\r\n",
      "      \\field{year}{2017}\r\n",
      "    \\endentry\r\n",
      "    \\entry{YSL17}{inproceedings}{}\r\n",
      "      \\name{author}{4}{}{%\r\n",
      "        {{hash=29ccf7aa9391a3e9e13ba3b57f4c48eb}{%\r\n",
      "           family={Yang},\r\n",
      "           familyi={Y\\bibinitperiod},\r\n",
      "           given={Cheng},\r\n",
      "           giveni={C\\bibinitperiod}}}%\r\n",
      "        {{hash=faa6f5041a22004ca0dd547c03476790}{%\r\n",
      "           family={Sun},\r\n",
      "           familyi={S\\bibinitperiod},\r\n",
      "           given={Maosong},\r\n",
      "           giveni={M\\bibinitperiod}}}%\r\n",
      "        {{hash=5b9a54b9d83697231299711961622ab8}{%\r\n",
      "           family={Liu},\r\n",
      "           familyi={L\\bibinitperiod},\r\n",
      "           given={Zhiyuan},\r\n",
      "           giveni={Z\\bibinitperiod}}}%\r\n",
      "        {{hash=6df24c42b0cd233868c9a7e0ae115196}{%\r\n",
      "           family={Tu},\r\n",
      "           familyi={T\\bibinitperiod},\r\n",
      "           given={Cunchao},\r\n",
      "           giveni={C\\bibinitperiod}}}%\r\n",
      "      }\r\n",
      "      \\strng{namehash}{298930a5e4e5e87d1a5c84f03462ccaa}\r\n",
      "      \\strng{fullhash}{02e8e896ffb8727b3e74ef09540415c0}\r\n",
      "      \\strng{authornamehash}{298930a5e4e5e87d1a5c84f03462ccaa}\r\n",
      "      \\strng{authorfullhash}{02e8e896ffb8727b3e74ef09540415c0}\r\n",
      "      \\field{sortinit}{Y}\r\n",
      "      \\field{sortinithash}{f86c10978eb0c0879609ce6a4f43da7b}\r\n",
      "      \\field{labelnamesource}{author}\r\n",
      "      \\field{labeltitlesource}{title}\r\n",
      "      \\field{booktitle}{Proceedings of the Twenty-Sixth International Joint Conference on Artificial Intelligence, IJCAI}\r\n",
      "      \\field{title}{Fast network embedding enhancement via high order proximity approximation}\r\n",
      "      \\field{year}{2017}\r\n",
      "      \\field{pages}{19\\bibrangedash 25}\r\n",
      "      \\range{pages}{7}\r\n",
      "    \\endentry\r\n",
      "    \\entry{YCS16}{article}{}\r\n",
      "      \\name{author}{3}{}{%\r\n",
      "        {{hash=cf27413bc23396c7c00d356f5fa84c10}{%\r\n",
      "           family={Yang},\r\n",
      "           familyi={Y\\bibinitperiod},\r\n",
      "           given={Z.},\r\n",
      "           giveni={Z\\bibinitperiod}}}%\r\n",
      "        {{hash=8b2497d6ab1c99d2f3f6440d971e1549}{%\r\n",
      "           family={Cohen},\r\n",
      "           familyi={C\\bibinitperiod},\r\n",
      "           given={W.\\bibnamedelimi W.},\r\n",
      "           giveni={W\\bibinitperiod\\bibinitdelim W\\bibinitperiod}}}%\r\n",
      "        {{hash=a866ad5377f746978b90476e4a2ab46f}{%\r\n",
      "           family={Salakhutdinov},\r\n",
      "           familyi={S\\bibinitperiod},\r\n",
      "           given={R.},\r\n",
      "           giveni={R\\bibinitperiod}}}%\r\n",
      "      }\r\n",
      "      \\strng{namehash}{84e0f954cf085b28e322b130afaa26d2}\r\n",
      "      \\strng{fullhash}{84e0f954cf085b28e322b130afaa26d2}\r\n",
      "      \\strng{authornamehash}{84e0f954cf085b28e322b130afaa26d2}\r\n",
      "      \\strng{authorfullhash}{84e0f954cf085b28e322b130afaa26d2}\r\n",
      "      \\field{sortinit}{Y}\r\n",
      "      \\field{sortinithash}{f86c10978eb0c0879609ce6a4f43da7b}\r\n",
      "      \\field{labelnamesource}{author}\r\n",
      "      \\field{labeltitlesource}{title}\r\n",
      "      \\field{journaltitle}{arXiv preprint arXiv:1603.08861}\r\n",
      "      \\field{title}{Revisiting semi-supervised learning with graph embeddings}\r\n",
      "      \\field{year}{2016}\r\n",
      "    \\endentry\r\n",
      "    \\entry{zhou2004learning}{inproceedings}{}\r\n",
      "      \\name{author}{5}{}{%\r\n",
      "        {{hash=797f9a226fd7356db5edc6feba1a0e87}{%\r\n",
      "           family={Zhou},\r\n",
      "           familyi={Z\\bibinitperiod},\r\n",
      "           given={Denny},\r\n",
      "           giveni={D\\bibinitperiod}}}%\r\n",
      "        {{hash=cf4fea95321213e7dc3532fd33b85112}{%\r\n",
      "           family={Bousquet},\r\n",
      "           familyi={B\\bibinitperiod},\r\n",
      "           given={Olivier},\r\n",
      "           giveni={O\\bibinitperiod}}}%\r\n",
      "        {{hash=4c3f84c5c4e186e04bf6e002126e0ffb}{%\r\n",
      "           family={Lal},\r\n",
      "           familyi={L\\bibinitperiod},\r\n",
      "           given={Thomas\\bibnamedelima N},\r\n",
      "           giveni={T\\bibinitperiod\\bibinitdelim N\\bibinitperiod}}}%\r\n",
      "        {{hash=417a25f3511d7c21e76d4a15e67dd679}{%\r\n",
      "           family={Weston},\r\n",
      "           familyi={W\\bibinitperiod},\r\n",
      "           given={Jason},\r\n",
      "           giveni={J\\bibinitperiod}}}%\r\n",
      "        {{hash=ca31cc11ec9370460148c3a9c48fce45}{%\r\n",
      "           family={Sch\\\"{o}lkopf},\r\n",
      "           familyi={S\\bibinitperiod},\r\n",
      "           given={Bernhard},\r\n",
      "           giveni={B\\bibinitperiod}}}%\r\n",
      "      }\r\n",
      "      \\strng{namehash}{f9981c1bdc244ea279f477a22c19e4bf}\r\n",
      "      \\strng{fullhash}{011cf0e153cceb5acf0ea601860794ab}\r\n",
      "      \\strng{authornamehash}{f9981c1bdc244ea279f477a22c19e4bf}\r\n",
      "      \\strng{authorfullhash}{011cf0e153cceb5acf0ea601860794ab}\r\n",
      "      \\field{sortinit}{Z}\r\n",
      "      \\field{sortinithash}{35589aa085e881766b72503e53fd4c97}\r\n",
      "      \\field{labelnamesource}{author}\r\n",
      "      \\field{labeltitlesource}{title}\r\n",
      "      \\field{booktitle}{Advances in neural information processing systems}\r\n",
      "      \\field{title}{Learning with local and global consistency}\r\n",
      "      \\field{year}{2004}\r\n",
      "      \\field{pages}{321\\bibrangedash 328}\r\n",
      "      \\range{pages}{8}\r\n",
      "    \\endentry\r\n",
      "    \\entry{ZBL04}{inproceedings}{}\r\n",
      "      \\name{author}{5}{}{%\r\n",
      "        {{hash=797f9a226fd7356db5edc6feba1a0e87}{%\r\n",
      "           family={Zhou},\r\n",
      "           familyi={Z\\bibinitperiod},\r\n",
      "           given={Denny},\r\n",
      "           giveni={D\\bibinitperiod}}}%\r\n",
      "        {{hash=cf4fea95321213e7dc3532fd33b85112}{%\r\n",
      "           family={Bousquet},\r\n",
      "           familyi={B\\bibinitperiod},\r\n",
      "           given={Olivier},\r\n",
      "           giveni={O\\bibinitperiod}}}%\r\n",
      "        {{hash=4c3f84c5c4e186e04bf6e002126e0ffb}{%\r\n",
      "           family={Lal},\r\n",
      "           familyi={L\\bibinitperiod},\r\n",
      "           given={Thomas\\bibnamedelima N},\r\n",
      "           giveni={T\\bibinitperiod\\bibinitdelim N\\bibinitperiod}}}%\r\n",
      "        {{hash=417a25f3511d7c21e76d4a15e67dd679}{%\r\n",
      "           family={Weston},\r\n",
      "           familyi={W\\bibinitperiod},\r\n",
      "           given={Jason},\r\n",
      "           giveni={J\\bibinitperiod}}}%\r\n",
      "        {{hash=ca31cc11ec9370460148c3a9c48fce45}{%\r\n",
      "           family={Sch\\\"{o}lkopf},\r\n",
      "           familyi={S\\bibinitperiod},\r\n",
      "           given={Bernhard},\r\n",
      "           giveni={B\\bibinitperiod}}}%\r\n",
      "      }\r\n",
      "      \\strng{namehash}{f9981c1bdc244ea279f477a22c19e4bf}\r\n",
      "      \\strng{fullhash}{011cf0e153cceb5acf0ea601860794ab}\r\n",
      "      \\strng{authornamehash}{f9981c1bdc244ea279f477a22c19e4bf}\r\n",
      "      \\strng{authorfullhash}{011cf0e153cceb5acf0ea601860794ab}\r\n",
      "      \\field{sortinit}{Z}\r\n",
      "      \\field{sortinithash}{35589aa085e881766b72503e53fd4c97}\r\n",
      "      \\field{labelnamesource}{author}\r\n",
      "      \\field{labeltitlesource}{title}\r\n",
      "      \\field{booktitle}{Advances in neural information processing systems}\r\n",
      "      \\field{title}{Learning with local and global consistency}\r\n",
      "      \\field{year}{2004}\r\n",
      "      \\field{pages}{321\\bibrangedash 328}\r\n",
      "      \\range{pages}{8}\r\n",
      "    \\endentry\r\n",
      "    \\entry{ZG02}{unpublished}{}\r\n",
      "      \\name{author}{2}{}{%\r\n",
      "        {{hash=c0589c96d31566f50f3aa4f931a33357}{%\r\n",
      "           family={Zhu},\r\n",
      "           familyi={Z\\bibinitperiod},\r\n",
      "           given={Xiaojin},\r\n",
      "           giveni={X\\bibinitperiod}}}%\r\n",
      "        {{hash=bf5cf30deddddad00a6341ad7a414445}{%\r\n",
      "           family={Ghahramani},\r\n",
      "           familyi={G\\bibinitperiod},\r\n",
      "           given={Zoubin},\r\n",
      "           giveni={Z\\bibinitperiod}}}%\r\n",
      "      }\r\n",
      "      \\list{publisher}{1}{%\r\n",
      "        {Technical Report CMU-CALD-02-107, Carnegie Mellon University}%\r\n",
      "      }\r\n",
      "      \\strng{namehash}{dd67de5dd0b7a9b6418f2aeec7fd3714}\r\n",
      "      \\strng{fullhash}{dd67de5dd0b7a9b6418f2aeec7fd3714}\r\n",
      "      \\strng{authornamehash}{dd67de5dd0b7a9b6418f2aeec7fd3714}\r\n",
      "      \\strng{authorfullhash}{dd67de5dd0b7a9b6418f2aeec7fd3714}\r\n",
      "      \\field{sortinit}{Z}\r\n",
      "      \\field{sortinithash}{35589aa085e881766b72503e53fd4c97}\r\n",
      "      \\field{labelnamesource}{author}\r\n",
      "      \\field{labeltitlesource}{title}\r\n",
      "      \\field{title}{Learning from labeled and unlabeled data with label propagation}\r\n",
      "      \\field{year}{2002}\r\n",
      "    \\endentry\r\n",
      "    \\entry{ZGL03}{inproceedings}{}\r\n",
      "      \\name{author}{3}{}{%\r\n",
      "        {{hash=c0589c96d31566f50f3aa4f931a33357}{%\r\n",
      "           family={Zhu},\r\n",
      "           familyi={Z\\bibinitperiod},\r\n",
      "           given={Xiaojin},\r\n",
      "           giveni={X\\bibinitperiod}}}%\r\n",
      "        {{hash=bf5cf30deddddad00a6341ad7a414445}{%\r\n",
      "           family={Ghahramani},\r\n",
      "           familyi={G\\bibinitperiod},\r\n",
      "           given={Zoubin},\r\n",
      "           giveni={Z\\bibinitperiod}}}%\r\n",
      "        {{hash=b3a25c7519d1444d7d19d4a545768171}{%\r\n",
      "           family={Lafferty},\r\n",
      "           familyi={L\\bibinitperiod},\r\n",
      "           given={John\\bibnamedelima D},\r\n",
      "           giveni={J\\bibinitperiod\\bibinitdelim D\\bibinitperiod}}}%\r\n",
      "      }\r\n",
      "      \\strng{namehash}{94e69c45f73701afddfd3d685b74c1a6}\r\n",
      "      \\strng{fullhash}{94e69c45f73701afddfd3d685b74c1a6}\r\n",
      "      \\strng{authornamehash}{94e69c45f73701afddfd3d685b74c1a6}\r\n",
      "      \\strng{authorfullhash}{94e69c45f73701afddfd3d685b74c1a6}\r\n",
      "      \\field{sortinit}{Z}\r\n",
      "      \\field{sortinithash}{35589aa085e881766b72503e53fd4c97}\r\n",
      "      \\field{labelnamesource}{author}\r\n",
      "      \\field{labeltitlesource}{title}\r\n",
      "      \\field{booktitle}{Proceedings of the 20th International conference on Machine learning (ICML-03)}\r\n",
      "      \\field{title}{Semi-supervised learning using gaussian fields and harmonic functions}\r\n",
      "      \\field{year}{2003}\r\n",
      "      \\field{pages}{912\\bibrangedash 919}\r\n",
      "      \\range{pages}{8}\r\n",
      "    \\endentry\r\n",
      "  \\endsortlist\r\n",
      "\\endrefsection\r\n",
      "\\endinput\r\n",
      "\r\n"
     ]
    }
   ],
   "source": [
    "#Error cannot open file to read\n",
    "# !ls ./data/unpacked_sources/1803/1803.03735v1/*\n",
    "# !cat ./data/unpacked_sources/1803/1803.03735v1/agnn.bbl"
   ]
  },
  {
   "cell_type": "code",
   "execution_count": null,
   "metadata": {},
   "outputs": [],
   "source": []
  },
  {
   "cell_type": "code",
   "execution_count": null,
   "metadata": {},
   "outputs": [],
   "source": []
  },
  {
   "cell_type": "code",
   "execution_count": null,
   "metadata": {},
   "outputs": [],
   "source": [
    ", 2020_HkgsWxrtPB"
   ]
  },
  {
   "cell_type": "code",
   "execution_count": null,
   "metadata": {},
   "outputs": [],
   "source": []
  },
  {
   "cell_type": "code",
   "execution_count": null,
   "metadata": {},
   "outputs": [],
   "source": []
  },
  {
   "cell_type": "code",
   "execution_count": null,
   "metadata": {},
   "outputs": [],
   "source": []
  },
  {
   "cell_type": "code",
   "execution_count": 81,
   "metadata": {},
   "outputs": [
    {
     "name": "stdout",
     "output_type": "stream",
     "text": [
      "2017_SkB-_mcel\n"
     ]
    }
   ],
   "source": [
    "#Finding one paper with ref in table from its arxivid\n",
    "for k in iclr_arxiv_map:\n",
    "    if iclr_arxiv_map[k][\"found\"] and iclr_arxiv_map[k][\"arxivId\"].startswith(\"1702.08811\"):\n",
    "        print(k)"
   ]
  },
  {
   "cell_type": "code",
   "execution_count": 264,
   "metadata": {},
   "outputs": [
    {
     "data": {
      "text/plain": [
       "{'tcount': [2, 2, 0, 0], 'table_labels': [('leaderboard',), ('leaderboard',)]}"
      ]
     },
     "execution_count": 264,
     "metadata": {},
     "output_type": "execute_result"
    }
   ],
   "source": [
    "new_table_counts[\"2017_SkB-_mcel\"]"
   ]
  },
  {
   "cell_type": "code",
   "execution_count": 283,
   "metadata": {
    "collapsed": true
   },
   "outputs": [
    {
     "name": "stdout",
     "output_type": "stream",
     "text": [
      "2017_SJDaqqveg 1607.07086v3\n",
      "2019_BJgsN3R9Km 1910.01740v1\n",
      "2019_BJgsN3R9Km 1910.01740v1\n",
      "2019_BJgsN3R9Km 1910.01740v1\n",
      "2019_ByxmXnA9FQ 1811.07308v4\n",
      "2019_ByxmXnA9FQ 1811.07308v4\n",
      "2019_ByxmXnA9FQ 1811.07308v4\n",
      "2019_HJe62s09tX 1811.01124v3\n",
      "2019_HkGmDsR9YQ 1810.00123v3\n",
      "2019_HkGmDsR9YQ 1810.00123v3\n",
      "2019_S1lVniC5Y7 1803.04439v2\n",
      "2019_S1x2Fj0qKQ 1806.00420v2\n",
      "2019_S1x2Fj0qKQ 1806.00420v2\n",
      "2019_S1x2Fj0qKQ 1806.00420v2\n",
      "2019_Sy4lojC9tm 1811.10959v3\n",
      "2019_Sy4lojC9tm 1811.10959v3\n",
      "2020_B1xq264YvH 1908.06938v2\n",
      "2020_B1xq264YvH 1908.06938v2\n",
      "2020_B1xq264YvH 1908.06938v2\n",
      "2020_BJedHRVtPB 1906.06310v3\n",
      "2020_BJedHRVtPB 1906.06310v3\n",
      "2020_BJgza6VtPB 1811.02549v6\n",
      "2020_BJgza6VtPB 1811.02549v6\n",
      "2020_BJgza6VtPB 1811.02549v6\n",
      "2020_BJgza6VtPB 1811.02549v6\n",
      "2020_Bke8UR4FPB 1909.13488v1\n",
      "2020_BkeaxAEKvB 1908.10396v2\n",
      "2020_BkeaxAEKvB 1908.10396v2\n",
      "2020_BkeaxAEKvB 1908.10396v2\n",
      "2020_BkgXT24tDS 1909.13144v2\n",
      "2020_Bkga90VKDB 1910.06720v1\n",
      "2020_Bkgq9ANKvB 1910.03231v2\n",
      "2020_Bkgq9ANKvB 1910.03231v2\n",
      "2020_BklMDCVtvr 1910.09113v2\n",
      "2020_Bklr0kBKvB 1912.11171v1\n",
      "2020_Bklr0kBKvB 1912.11171v1\n",
      "2020_BkxdqA4tvB 1910.09588v2\n",
      "2020_ByeL1R4FvS 1904.12848v4\n",
      "2020_Byl5NREFDr 1910.12366v2\n",
      "2020_BylQSxHFwr 1912.09640v2\n",
      "2020_ByxdUySKvS 1912.11188v1\n",
      "2020_H1e5GJBtDr 1912.12180v1\n",
      "2020_HJeO7RNKPr 1812.04605v3\n",
      "2020_HJeTo2VFwH 1906.06307v2\n",
      "2020_HJeTo2VFwH 1906.06307v2\n",
      "2020_HJgpugrKPS 1910.11093v2\n",
      "2020_HJgpugrKPS 1910.11093v2\n",
      "2020_HJxhUpVKDr 1904.02920v2\n",
      "2020_HkedQp4tPr 1906.04331v2\n",
      "2020_Hkg9HgBYwH 1912.05537v1\n",
      "2020_Hkg9HgBYwH 1912.05537v1\n",
      "2020_HkgaETNtDB 1909.11299v2\n",
      "2020_HkgaETNtDB 1909.11299v2\n",
      "2020_HkxCzeHFDB 1901.11356v4\n",
      "2020_HkxCzeHFDB 1901.11356v4\n",
      "2020_Hkxzx0NtDB 1912.03263v2\n",
      "2020_Hyepjh4FwB 1902.06292v4\n",
      "2020_HylxE1HKwS 1908.09791v2\n",
      "2020_S1l-C0NtwS 1910.04708v4\n",
      "2020_S1lSapVtwS 1909.11286v2\n",
      "2020_S1lSapVtwS 1909.11286v2\n",
      "2020_S1lxKlSKPH 1910.12027v2\n",
      "2020_SJlJSaEFwS 1912.12481v1\n",
      "2020_SJxSOJStPr 2001.00689v2\n",
      "2020_SJxWS64FwH 1910.03561v3\n",
      "2020_Ske-ih4FPS 1912.12178v1\n",
      "2020_SkeAaJrKDS 1912.02807v2\n",
      "2020_SkeHuCVFDr 1904.09675v3\n",
      "2020_SkeHuCVFDr 1904.09675v3\n",
      "2020_SkeHuCVFDr 1904.09675v3\n",
      "2020_SkeHuCVFDr 1904.09675v3\n",
      "2020_SkeHuCVFDr 1904.09675v3\n",
      "2020_SklkDkSFPB 1906.04113v2\n",
      "2020_SklsBJHKDS 1912.13464v1\n",
      "2020_SklsBJHKDS 1912.13464v1\n",
      "2020_SkxG-CVFDH 1909.11715v1\n",
      "2020_Skxuk1rFwB 1906.06316v2\n",
      "2020_Skxuk1rFwB 1906.06316v2\n",
      "2020_Skxuk1rFwB 1906.06316v2\n",
      "2020_SylKikSYDH 1911.05507v1\n",
      "2020_r1ecqn4YwB 1905.10437v4\n",
      "2020_r1gRTCVFvB 1910.09217v2\n",
      "2020_r1gRTCVFvB 1910.09217v2\n",
      "2020_r1gRTCVFvB 1910.09217v2\n",
      "2020_r1gdj2EKPB 1902.09432v3\n",
      "2020_r1gdj2EKPB 1902.09432v3\n",
      "2020_r1gfQgSFDr 1909.11646v2\n",
      "2020_r1xwA34KDB 1909.07328v1\n",
      "2020_r1xwA34KDB 1909.07328v1\n",
      "2020_rJeU_1SFvr 1912.00953v1\n",
      "2020_rJeU_1SFvr 1912.00953v1\n",
      "2020_rJg3zxBYwH 1912.00042v1\n",
      "2020_rJg3zxBYwH 1912.00042v1\n",
      "2020_rJg3zxBYwH 1912.00042v1\n",
      "2020_rJlnOhVYPS 2001.01526v2\n",
      "2020_rJlnOhVYPS 2001.01526v2\n",
      "2020_rJlnfaNYvB 1910.12385v1\n",
      "2020_rJxt0JHKvS 1912.06058v1\n",
      "2020_rkeJRhNYDH 1909.02164v4\n",
      "2020_rkgqm0VKwB 1912.13415v1\n",
      "2020_rkgvXlrKwH 1910.06591v2\n",
      "2020_rklxF0NtDr 1909.13196v1\n",
      "2020_rygoURNYvS 2001.00059v1\n",
      "2020_ryx1wRNFvB 1905.13715v2\n",
      "2020_ryx1wRNFvB 1905.13715v2\n",
      "2020_ryxF80NYwS 1901.00409v3\n",
      "2020_ryxQuANKPB 1909.13425v1\n",
      "2020_ryxQuANKPB 1909.13425v1\n",
      "2020_ryxQuANKPB 1909.13425v1\n"
     ]
    }
   ],
   "source": [
    "for k in new_table_counts:\n",
    "    try:\n",
    "        if (new_table_counts[k][\"tcount\"][1] + new_table_counts[k][\"tcount\"][2]) > 0:\n",
    "#             if k in NEW_leaderboard_refs and NEW_leaderboard_refs[k][\"count\"]==0:\n",
    "#                 arxivid = iclr_arxiv_map[k][\"arxivId\"]\n",
    "#                 paper = pc.get_by_id(arxivid)\n",
    "#                 for t in paper.tables:\n",
    "#                     if t.caption.find(\"bib\") > -1:\n",
    "#                         print(t.caption)\n",
    "                    \n",
    "#                 # check if reference is present in caption text\n",
    "#                 break\n",
    "            if not k in NEW_leaderboard_refs or (k in NEW_leaderboard_refs and NEW_leaderboard_refs[k][\"count\"]==0):\n",
    "                arxivid = iclr_arxiv_map[k][\"arxivId\"]\n",
    "                paper = pc.get_by_id(arxivid)\n",
    "                for t in paper.tables:\n",
    "                    if t.caption and t.caption.find(\" et al\") > -1:\n",
    "#                     if t.caption and (t.caption.find(\"bib\") > -1 or t.caption.find(\"et al\") > -1):\n",
    "                        print(k, arxivid)                    \n",
    "#                 break\n",
    "    except Exception as ex:\n",
    "#         print(k)\n",
    "        print(ex)"
   ]
  },
  {
   "cell_type": "code",
   "execution_count": 84,
   "metadata": {},
   "outputs": [
    {
     "name": "stdout",
     "output_type": "stream",
     "text": [
      "1702.08811v3\n",
      "Num tables:  2\n",
      "Table 1: Prediction accuracy ± standard deviation on the Amazon reviews dataset. The last two columns are taken directly from Louizos et al. (2016) and Ganin et al. (2016).\n",
      "Table 2: Prediction accuracy ± standard deviation on the Office dataset. The first 10 rows are taken directly from the papers of Ganin et al. (2016) and Li et al. (2016). The models DLID –DANN are based on the AlexNet model, LSSA –AdaBN are based on the InceptionBN model, and our method (CMD) is based on the VGG16 model.\n"
     ]
    }
   ],
   "source": [
    "aid = iclr_arxiv_map[\"2017_SkB-_mcel\"][\"arxivId\"]\n",
    "print(aid)\n",
    "paper = pc.get_by_id(aid)\n",
    "print(\"Num tables: \", len(paper.tables))\n",
    "for t in paper.tables:\n",
    "    print(t.caption)"
   ]
  },
  {
   "cell_type": "code",
   "execution_count": 271,
   "metadata": {},
   "outputs": [],
   "source": [
    "with open(\"./data/unpacked_sources/1702/1702.08811v3/final.bbl\", \"r\") as f:\n",
    "    lines = f.readlines()"
   ]
  },
  {
   "cell_type": "code",
   "execution_count": 278,
   "metadata": {},
   "outputs": [],
   "source": [
    "paper_bibitems = []\n",
    "bibitem = []\n",
    "start_looking = True\n",
    "start_appending = False\n",
    "\n",
    "for l in lines:\n",
    "    if start_looking and l.startswith(\"\\\\bibitem[\"):\n",
    "        start_looking = False\n",
    "        start_appending = True\n",
    "        bibitem = [l.strip().replace(\"\\n\", \" \")]\n",
    "        continue\n",
    "    if start_appending:\n",
    "        if l == \"\\n\":\n",
    "            paper_bibitems.append(bibitem)\n",
    "            bibitem = []\n",
    "            start_looking = True\n",
    "            start_appending = False\n",
    "        else:\n",
    "            bibitem.append(l.strip().replace(\"\\n\", \" \"))"
   ]
  },
  {
   "cell_type": "code",
   "execution_count": 274,
   "metadata": {},
   "outputs": [
    {
     "data": {
      "text/plain": [
       "['\\\\begin{thebibliography}{34}\\n',\n",
       " '\\\\providecommand{\\\\natexlab}[1]{#1}\\n',\n",
       " '\\\\providecommand{\\\\url}[1]{\\\\texttt{#1}}\\n',\n",
       " '\\\\expandafter\\\\ifx\\\\csname urlstyle\\\\endcsname\\\\relax\\n',\n",
       " '  \\\\providecommand{\\\\doi}[1]{doi: #1}\\\\else\\n',\n",
       " '  \\\\providecommand{\\\\doi}{doi: \\\\begingroup \\\\urlstyle{rm}\\\\Url}\\\\fi\\n',\n",
       " '\\n',\n",
       " '\\\\bibitem[Aljundi et~al.(2015)Aljundi, Emonet, Muselet, and\\n',\n",
       " '  Sebban]{aljundi2015landmarks}\\n',\n",
       " \"Rahaf Aljundi, R{\\\\'e}mi Emonet, Damien Muselet, and Marc Sebban.\\n\",\n",
       " '\\\\newblock Landmarks-based kernelized subspace alignment for unsupervised domain\\n',\n",
       " '  adaptation.\\n',\n",
       " '\\\\newblock In \\\\emph{International Conference on Computer Vision and Pattern\\n',\n",
       " '  Recognition}, pp.\\\\  56--63, 2015.\\n',\n",
       " '\\n',\n",
       " '\\\\bibitem[Ben-David et~al.(2010)Ben-David, Blitzer, Crammer, Kulesza, Pereira,\\n',\n",
       " '  and Vaughan]{ben2010theory}\\n',\n",
       " 'Shai Ben-David, John Blitzer, Koby Crammer, Alex Kulesza, Fernando Pereira, and\\n',\n",
       " '  Jennifer~Wortman Vaughan.\\n',\n",
       " '\\\\newblock A theory of learning from different domains.\\n',\n",
       " '\\\\newblock \\\\emph{Machine learning}, 79\\\\penalty0 (1-2):\\\\penalty0 151--175, 2010.\\n',\n",
       " '\\n',\n",
       " '\\\\bibitem[Billingsley(2008)]{billingsley2008probability}\\n',\n",
       " 'Patrick Billingsley.\\n',\n",
       " '\\\\newblock \\\\emph{Probability and measure}.\\n',\n",
       " '\\\\newblock John Wiley \\\\& Sons, 2008.\\n',\n",
       " '\\n',\n",
       " '\\\\bibitem[Billingsley(2013)]{billingsley2013convergence}\\n',\n",
       " 'Patrick Billingsley.\\n',\n",
       " '\\\\newblock \\\\emph{Convergence of probability measures}.\\n',\n",
       " '\\\\newblock John Wiley \\\\& Sons, 2013.\\n',\n",
       " '\\n',\n",
       " '\\\\bibitem[Chen et~al.(2012)Chen, Xu, Weinberger, and Sha]{chen2012marginalized}\\n',\n",
       " 'Minmin Chen, Zhixiang Xu, Kilian Weinberger, and Fei Sha.\\n',\n",
       " '\\\\newblock Marginalized denoising autoencoders for domain adaptation.\\n',\n",
       " '\\\\newblock \\\\emph{International Conference on Machine Learning}, pp.\\\\  767--774,\\n',\n",
       " '  2012.\\n',\n",
       " '\\n',\n",
       " '\\\\bibitem[Chollet(2015)]{chollet2015keras}\\n',\n",
       " 'Fran{\\\\c{c}}ois Chollet.\\n',\n",
       " '\\\\newblock Keras: Deep learning library for theano and tensorflow, 2015.\\n',\n",
       " '\\n',\n",
       " '\\\\bibitem[Chopra et~al.(2013)Chopra, Balakrishnan, and Gopalan]{chopra2013dlid}\\n',\n",
       " 'Sumit Chopra, Suhrid Balakrishnan, and Raghuraman Gopalan.\\n',\n",
       " '\\\\newblock Dlid: Deep learning for domain adaptation by interpolating between\\n',\n",
       " '  domains.\\n',\n",
       " '\\\\newblock \\\\emph{International Conference on Machine Learning Workshop on\\n',\n",
       " '  Challenges in Representation Learning}, 2013.\\n',\n",
       " '\\n',\n",
       " '\\\\bibitem[Duchi et~al.(2011)Duchi, Hazan, and Singer]{duchi2011adaptive}\\n',\n",
       " 'John Duchi, Elad Hazan, and Yoram Singer.\\n',\n",
       " '\\\\newblock Adaptive subgradient methods for online learning and stochastic\\n',\n",
       " '  optimization.\\n',\n",
       " '\\\\newblock \\\\emph{Journal of Machine Learning Research}, 12\\\\penalty0\\n',\n",
       " '  (Jul):\\\\penalty0 2121--2159, 2011.\\n',\n",
       " '\\n',\n",
       " \"\\\\bibitem[Egozcue et~al.(2012)Egozcue, Garc{\\\\'\\\\i}a, Wong, and\\n\",\n",
       " '  Zitikis]{egozcue2012smallest}\\n',\n",
       " \"Martin Egozcue, Luis~Fuentes Garc{\\\\'\\\\i}a, Wing~Keung Wong, and Ricardas\\n\",\n",
       " '  Zitikis.\\n',\n",
       " '\\\\newblock The smallest upper bound for the pth absolute central moment of a\\n',\n",
       " '  class of random variables.\\n',\n",
       " '\\\\newblock \\\\emph{The Mathematical Scientist}, 2012.\\n',\n",
       " '\\n',\n",
       " '\\\\bibitem[Ganin et~al.(2016)Ganin, Ustinova, Ajakan, Germain, Larochelle,\\n',\n",
       " '  Laviolette, Marchand, and Lempitsky]{ganin2016domain}\\n',\n",
       " 'Yaroslav Ganin, Evgeniya Ustinova, Hana Ajakan, Pascal Germain, Hugo\\n',\n",
       " '  Larochelle, Fran{\\\\c{c}}ois Laviolette, Mario Marchand, and Victor Lempitsky.\\n',\n",
       " '\\\\newblock Domain-adversarial training of neural networks.\\n',\n",
       " '\\\\newblock \\\\emph{Journal of Machine Learning Research}, 17\\\\penalty0\\n',\n",
       " '  (Jan):\\\\penalty0 1--35, 2016.\\n',\n",
       " '\\n',\n",
       " '\\\\bibitem[Glorot et~al.(2011)Glorot, Bordes, and Bengio]{glorot2011domain}\\n',\n",
       " 'Xavier Glorot, Antoine Bordes, and Yoshua Bengio.\\n',\n",
       " '\\\\newblock Domain adaptation for large-scale sentiment classification: A deep\\n',\n",
       " '  learning approach.\\n',\n",
       " '\\\\newblock In \\\\emph{International Conference on Machine Learning}, pp.\\\\\\n',\n",
       " '  513--520, 2011.\\n',\n",
       " '\\n',\n",
       " '\\\\bibitem[Gretton et~al.(2006)Gretton, Borgwardt, Rasch, Sch{\\\\\"o}lkopf, and\\n',\n",
       " '  Smola]{gretton2006kernel}\\n',\n",
       " 'Arthur Gretton, Karsten~M Borgwardt, Malte Rasch, Bernhard Sch{\\\\\"o}lkopf, and\\n',\n",
       " '  Alex~J Smola.\\n',\n",
       " '\\\\newblock A kernel method for the two-sample-problem.\\n',\n",
       " '\\\\newblock In \\\\emph{Advances in neural information processing systems}, pp.\\\\\\n',\n",
       " '  513--520, 2006.\\n',\n",
       " '\\n',\n",
       " '\\\\bibitem[Gretton et~al.(2012)Gretton, Borgwardt, Rasch, Sch{\\\\\"o}lkopf, and\\n',\n",
       " '  Smola]{gretton2012kernel}\\n',\n",
       " 'Arthur Gretton, Karsten~M Borgwardt, Malte~J Rasch, Bernhard Sch{\\\\\"o}lkopf, and\\n',\n",
       " '  Alexander Smola.\\n',\n",
       " '\\\\newblock A kernel two-sample test.\\n',\n",
       " '\\\\newblock \\\\emph{Journal of Machine Learning Research}, 13\\\\penalty0\\n',\n",
       " '  (Mar):\\\\penalty0 723--773, 2012.\\n',\n",
       " '\\n',\n",
       " '\\\\bibitem[Hsu et~al.(2003)Hsu, Chang, Lin, et~al.]{hsu2003practical}\\n',\n",
       " 'Chih-Wei Hsu, Chih-Chung Chang, Chih-Jen Lin, et~al.\\n',\n",
       " '\\\\newblock A practical guide to support vector classification.\\n',\n",
       " '\\\\newblock 2003.\\n',\n",
       " '\\n',\n",
       " '\\\\bibitem[Ioffe \\\\& Szegedy(2015)Ioffe and Szegedy]{ioffe2015batch}\\n',\n",
       " 'Sergey Ioffe and Christian Szegedy.\\n',\n",
       " '\\\\newblock Batch normalization: Accelerating deep network training by reducing\\n',\n",
       " '  internal covariate shift.\\n',\n",
       " '\\\\newblock In \\\\emph{International Conference on Machine Learning}, pp.\\\\\\n',\n",
       " '  448--456, 2015.\\n',\n",
       " '\\n',\n",
       " '\\\\bibitem[Krizhevsky et~al.(2012)Krizhevsky, Sutskever, and\\n',\n",
       " '  Hinton]{krizhevsky2012imagenet}\\n',\n",
       " 'Alex Krizhevsky, Ilya Sutskever, and Geoffrey~E Hinton.\\n',\n",
       " '\\\\newblock Imagenet classification with deep convolutional neural networks.\\n',\n",
       " '\\\\newblock In \\\\emph{Advances in neural information processing systems}, pp.\\\\\\n',\n",
       " '  1097--1105, 2012.\\n',\n",
       " '\\n',\n",
       " '\\\\bibitem[Kullback \\\\& Leibler(1951)Kullback and Leibler]{KullbackLeibler51}\\n',\n",
       " 'Solomon Kullback and Richard~A Leibler.\\n',\n",
       " '\\\\newblock On information and sufficiency.\\n',\n",
       " '\\\\newblock \\\\emph{Annals of Mathematical Statistics}, 22\\\\penalty0 (1):\\\\penalty0\\n',\n",
       " '  79--86, 1951.\\n',\n",
       " '\\n',\n",
       " '\\\\bibitem[Li et~al.(2016)Li, Wang, Shi, Liu, and Hou]{li2016revisiting}\\n',\n",
       " 'Yanghao Li, Naiyan Wang, Jianping Shi, Jiaying Liu, and Xiaodi Hou.\\n',\n",
       " '\\\\newblock Revisiting batch normalization for practical domain adaptation.\\n',\n",
       " '\\\\newblock \\\\emph{arXiv preprint arXiv:1603.04779}, 2016.\\n',\n",
       " '\\n',\n",
       " '\\\\bibitem[Li et~al.(2014)Li, Swersky, and Zemel]{li2014unsupervised}\\n',\n",
       " 'Yujia Li, Kevin Swersky, and Richard Zemel.\\n',\n",
       " '\\\\newblock Unsupervised domain adaptation by domain invariant projection.\\n',\n",
       " '\\\\newblock In \\\\emph{Neural Information Processing Systems Workshop on Transfer\\n',\n",
       " '  and Multitask Learning}, 2014.\\n',\n",
       " '\\n',\n",
       " '\\\\bibitem[Li et~al.(2015)Li, Swersky, and Zemel]{li2015generative}\\n',\n",
       " 'Yujia Li, Kevin Swersky, and Richard Zemel.\\n',\n",
       " '\\\\newblock Generative moment matching networks.\\n',\n",
       " '\\\\newblock In \\\\emph{International Conference on Machine Learning}, pp.\\\\\\n',\n",
       " '  1718--1727, 2015.\\n',\n",
       " '\\n',\n",
       " '\\\\bibitem[Long et~al.(2015)Long, Cao, Wang, and Jordan]{long2015learning}\\n',\n",
       " 'Mingsheng Long, Yue Cao, Jianmin Wang, and Michael Jordan.\\n',\n",
       " '\\\\newblock Learning transferable features with deep adaptation networks.\\n',\n",
       " '\\\\newblock In \\\\emph{International Conference on Machine Learning}, pp.\\\\\\n',\n",
       " '  97--105, 2015.\\n',\n",
       " '\\n',\n",
       " '\\\\bibitem[Louizos et~al.(2016)Louizos, Swersky, Li, Welling, and\\n',\n",
       " '  Zemel]{louizos2015variational}\\n',\n",
       " 'Christos Louizos, Kevin Swersky, Yujia Li, Max Welling, and Richard Zemel.\\n',\n",
       " '\\\\newblock The variational fair auto encoder.\\n',\n",
       " '\\\\newblock \\\\emph{International Conference on Learning Representations}, 2016.\\n',\n",
       " '\\n',\n",
       " '\\\\bibitem[Pan et~al.(2011)Pan, Tsang, Kwok, and Yang]{pan2011domain}\\n',\n",
       " 'Sinno~Jialin Pan, Ivor~W Tsang, James~T Kwok, and Qiang Yang.\\n',\n",
       " '\\\\newblock Domain adaptation via transfer component analysis.\\n',\n",
       " '\\\\newblock \\\\emph{IEEE Transactions on Neural Networks}, 22\\\\penalty0\\n',\n",
       " '  (2):\\\\penalty0 199--210, 2011.\\n',\n",
       " '\\n',\n",
       " '\\\\bibitem[Saenko et~al.(2010)Saenko, Kulis, Fritz, and\\n',\n",
       " '  Darrell]{saenko2010adapting}\\n',\n",
       " 'Kate Saenko, Brian Kulis, Mario Fritz, and Trevor Darrell.\\n',\n",
       " '\\\\newblock Adapting visual category models to new domains.\\n',\n",
       " '\\\\newblock In \\\\emph{European Conference on Computer Vision}, pp.\\\\  213--226.\\n',\n",
       " '  Springer, 2010.\\n',\n",
       " '\\n',\n",
       " '\\\\bibitem[Simonyan \\\\& Zisserman(2014)Simonyan and Zisserman]{simonyan2014very}\\n',\n",
       " 'Karen Simonyan and Andrew Zisserman.\\n',\n",
       " '\\\\newblock Very deep convolutional networks for large-scale image recognition.\\n',\n",
       " '\\\\newblock \\\\emph{International Conference on Learning Representations}, 2014.\\n',\n",
       " '\\n',\n",
       " '\\\\bibitem[Sriperumbudur et~al.(2009)Sriperumbudur, Fukumizu, Gretton, Lanckriet,\\n',\n",
       " '  and Sch{\\\\\"o}lkopf]{sriperumbudur2009kernel}\\n',\n",
       " 'Bharath~K Sriperumbudur, Kenji Fukumizu, Arthur Gretton, Gert~RG Lanckriet, and\\n',\n",
       " '  Bernhard Sch{\\\\\"o}lkopf.\\n',\n",
       " '\\\\newblock Kernel choice and classifiability for rkhs embeddings of probability\\n',\n",
       " '  distributions.\\n',\n",
       " '\\\\newblock In \\\\emph{Advances in neural information processing systems}, pp.\\\\\\n',\n",
       " '  1750--1758, 2009.\\n',\n",
       " '\\n',\n",
       " '\\\\bibitem[Sun \\\\& Saenko(2016)Sun and Saenko]{sun2016deep}\\n',\n",
       " 'Baochen Sun and Kate Saenko.\\n',\n",
       " '\\\\newblock Deep coral: Correlation alignment for deep domain adaptation.\\n',\n",
       " '\\\\newblock \\\\emph{arXiv preprint arXiv:1607.01719}, 2016.\\n',\n",
       " '\\n',\n",
       " '\\\\bibitem[Sun et~al.(2016)Sun, Feng, and Saenko]{sun2016return}\\n',\n",
       " 'Baochen Sun, Jiashi Feng, and Kate Saenko.\\n',\n",
       " '\\\\newblock Return of frustratingly easy domain adaptation.\\n',\n",
       " '\\\\newblock In \\\\emph{AAAI Conference on Artificial Intelligence}, 2016.\\n',\n",
       " '\\n',\n",
       " '\\\\bibitem[Sutherland et~al.(2016)Sutherland, Tung, Strathmann, De, Ramdas,\\n',\n",
       " '  Smola, and Gretton]{sutherland2016generative}\\n',\n",
       " 'Dougal~J Sutherland, Hsiao-Yu Tung, Heiko Strathmann, Soumyajit De, Aaditya\\n',\n",
       " '  Ramdas, Alex Smola, and Arthur Gretton.\\n',\n",
       " '\\\\newblock Generative models and model criticism via optimized maximum mean\\n',\n",
       " '  discrepancy.\\n',\n",
       " '\\\\newblock \\\\emph{arXiv preprint arXiv:1611.04488}, 2016.\\n',\n",
       " '\\n',\n",
       " '\\\\bibitem[Tzeng et~al.(2014)Tzeng, Hoffman, Zhang, Saenko, and\\n',\n",
       " '  Darrell]{tzeng2014deep}\\n',\n",
       " 'Eric Tzeng, Judy Hoffman, Ning Zhang, Kate Saenko, and Trevor Darrell.\\n',\n",
       " '\\\\newblock Deep domain confusion: Maximizing for domain invariance.\\n',\n",
       " '\\\\newblock \\\\emph{arXiv preprint arXiv:1412.3474}, 2014.\\n',\n",
       " '\\n',\n",
       " '\\\\bibitem[Zeiler(2012)]{zeiler2012adadelta}\\n',\n",
       " 'Matthew~D Zeiler.\\n',\n",
       " '\\\\newblock Adadelta: an adaptive learning rate method.\\n',\n",
       " '\\\\newblock \\\\emph{arXiv preprint arXiv:1212.5701}, 2012.\\n',\n",
       " '\\n',\n",
       " '\\\\bibitem[Zhao \\\\& Meng(2015)Zhao and Meng]{zhao2015fastmmd}\\n',\n",
       " 'Ji~Zhao and Deyu Meng.\\n',\n",
       " '\\\\newblock Fastmmd: Ensemble of circular discrepancy for efficient two-sample\\n',\n",
       " '  test.\\n',\n",
       " '\\\\newblock \\\\emph{Neural computation}, 27\\\\penalty0 (6):\\\\penalty0 1345--1372,\\n',\n",
       " '  2015.\\n',\n",
       " '\\n',\n",
       " '\\\\bibitem[Zhong et~al.(2010)Zhong, Fan, Yang, Verscheure, and\\n',\n",
       " '  Ren]{zhong2010cross}\\n',\n",
       " 'Erheng Zhong, Wei Fan, Qiang Yang, Olivier Verscheure, and Jiangtao Ren.\\n',\n",
       " '\\\\newblock Cross validation framework to choose amongst models and datasets for\\n',\n",
       " '  transfer learning.\\n',\n",
       " '\\\\newblock In \\\\emph{Joint European Conference on Machine Learning and Knowledge\\n',\n",
       " '  Discovery in Databases}, pp.\\\\  547--562. Springer, 2010.\\n',\n",
       " '\\n',\n",
       " '\\\\bibitem[Zhuang et~al.(2015)Zhuang, Cheng, Luo, Pan, and\\n',\n",
       " '  He]{zhuang2015supervised}\\n',\n",
       " 'Fuzhen Zhuang, Xiaohu Cheng, Ping Luo, Sinno~Jialin Pan, and Qing He.\\n',\n",
       " '\\\\newblock Supervised representation learning: Transfer learning with deep\\n',\n",
       " '  autoencoders.\\n',\n",
       " '\\\\newblock In \\\\emph{International Joint Conference on Artificial Intelligence},\\n',\n",
       " '  2015.\\n',\n",
       " '\\n',\n",
       " '\\\\end{thebibliography}\\n']"
      ]
     },
     "execution_count": 274,
     "metadata": {},
     "output_type": "execute_result"
    }
   ],
   "source": [
    "lines"
   ]
  },
  {
   "cell_type": "code",
   "execution_count": 282,
   "metadata": {},
   "outputs": [
    {
     "data": {
      "text/plain": [
       "[\"\\\\bibitem[Aljundi et~al.(2015)Aljundi, Emonet, Muselet, and Sebban]{aljundi2015landmarks} Rahaf Aljundi, R{\\\\'e}mi Emonet, Damien Muselet, and Marc Sebban. \",\n",
       " ' Landmarks-based kernelized subspace alignment for unsupervised domain adaptation. ',\n",
       " ' In \\\\emph{International Conference on Computer Vision and Pattern Recognition}, pp.\\\\  56--63, 2015.']"
      ]
     },
     "execution_count": 282,
     "metadata": {},
     "output_type": "execute_result"
    }
   ],
   "source": [
    "\" \".join(paper_bibitems[0]).split(\"\\\\newblock\")"
   ]
  },
  {
   "cell_type": "code",
   "execution_count": null,
   "metadata": {},
   "outputs": [],
   "source": []
  },
  {
   "cell_type": "code",
   "execution_count": 86,
   "metadata": {},
   "outputs": [
    {
     "data": {
      "text/plain": [
       "({}, {})"
      ]
     },
     "execution_count": 86,
     "metadata": {},
     "output_type": "execute_result"
    }
   ],
   "source": [
    "NEW_leaderboard_refs[\"1702.08811v3\"], leaderboard_table_refs[\"1702.08811v3\"]"
   ]
  },
  {
   "cell_type": "code",
   "execution_count": 73,
   "metadata": {},
   "outputs": [
    {
     "data": {
      "text/plain": [
       "['__class__',\n",
       " '__delattr__',\n",
       " '__dict__',\n",
       " '__dir__',\n",
       " '__doc__',\n",
       " '__eq__',\n",
       " '__format__',\n",
       " '__ge__',\n",
       " '__getattribute__',\n",
       " '__gt__',\n",
       " '__hash__',\n",
       " '__init__',\n",
       " '__init_subclass__',\n",
       " '__le__',\n",
       " '__lt__',\n",
       " '__module__',\n",
       " '__ne__',\n",
       " '__new__',\n",
       " '__reduce__',\n",
       " '__reduce_ex__',\n",
       " '__repr__',\n",
       " '__setattr__',\n",
       " '__sizeof__',\n",
       " '__str__',\n",
       " '__subclasshook__',\n",
       " '__weakref__',\n",
       " '_repr_html_',\n",
       " '_save_df',\n",
       " '_set_annotations',\n",
       " 'caption',\n",
       " 'dataset_text',\n",
       " 'df',\n",
       " 'display',\n",
       " 'figure_id',\n",
       " 'from_file',\n",
       " 'gold_tags',\n",
       " 'matrix',\n",
       " 'matrix_gold_tags',\n",
       " 'matrix_html',\n",
       " 'matrix_layout',\n",
       " 'matrix_tags',\n",
       " 'name',\n",
       " 'notes',\n",
       " 'save',\n",
       " 'set_layout',\n",
       " 'set_tags',\n",
       " 'shape',\n",
       " 'sota_records']"
      ]
     },
     "execution_count": 73,
     "metadata": {},
     "output_type": "execute_result"
    }
   ],
   "source": [
    "dir(t)"
   ]
  },
  {
   "cell_type": "code",
   "execution_count": null,
   "metadata": {},
   "outputs": [],
   "source": []
  }
 ],
 "metadata": {
  "kernelspec": {
   "display_name": "Python [conda env:axcell] *",
   "language": "python",
   "name": "conda-env-axcell-py"
  },
  "language_info": {
   "codemirror_mode": {
    "name": "ipython",
    "version": 3
   },
   "file_extension": ".py",
   "mimetype": "text/x-python",
   "name": "python",
   "nbconvert_exporter": "python",
   "pygments_lexer": "ipython3",
   "version": "3.7.1"
  }
 },
 "nbformat": 4,
 "nbformat_minor": 4
}
