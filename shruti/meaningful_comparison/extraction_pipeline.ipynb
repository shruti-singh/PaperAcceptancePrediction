{
 "cells": [
  {
   "cell_type": "code",
   "execution_count": 31,
   "metadata": {},
   "outputs": [],
   "source": [
    "import glob\n",
    "import pickle"
   ]
  },
  {
   "cell_type": "code",
   "execution_count": null,
   "metadata": {},
   "outputs": [],
   "source": []
  },
  {
   "cell_type": "markdown",
   "metadata": {},
   "source": [
    "### Create paper directories for pipeline"
   ]
  },
  {
   "cell_type": "code",
   "execution_count": 24,
   "metadata": {},
   "outputs": [
    {
     "name": "stdout",
     "output_type": "stream",
     "text": [
      "/home/singh_shruti/workspace/axcell_ws/axcell/notebooks\n"
     ]
    }
   ],
   "source": [
    "%%bash\n",
    "pwd"
   ]
  },
  {
   "cell_type": "code",
   "execution_count": 26,
   "metadata": {},
   "outputs": [
    {
     "name": "stdout",
     "output_type": "stream",
     "text": [
      "/home/singh_shruti/workspace/axcell_ws/axcell/notebooks/data/sources\n"
     ]
    }
   ],
   "source": [
    "cd data/sources"
   ]
  },
  {
   "cell_type": "code",
   "execution_count": 17,
   "metadata": {},
   "outputs": [],
   "source": [
    "%%bash\n",
    "for i in {1601..1612}\n",
    "do\n",
    "    mkdir $i\n",
    "done"
   ]
  },
  {
   "cell_type": "code",
   "execution_count": 27,
   "metadata": {},
   "outputs": [
    {
     "name": "stdout",
     "output_type": "stream",
     "text": [
      "\u001b[0m\u001b[38;5;27m1601\u001b[0m/  \u001b[38;5;27m1606\u001b[0m/  \u001b[38;5;27m1611\u001b[0m/  \u001b[38;5;27m1704\u001b[0m/  \u001b[38;5;27m1709\u001b[0m/  \u001b[38;5;27m1802\u001b[0m/  \u001b[38;5;27m1807\u001b[0m/  \u001b[38;5;27m1812\u001b[0m/  \u001b[38;5;27m1905\u001b[0m/  \u001b[38;5;27m1910\u001b[0m/  \u001b[38;5;27m2003\u001b[0m/\r\n",
      "\u001b[38;5;27m1602\u001b[0m/  \u001b[38;5;27m1607\u001b[0m/  \u001b[38;5;27m1612\u001b[0m/  \u001b[38;5;27m1705\u001b[0m/  \u001b[38;5;27m1710\u001b[0m/  \u001b[38;5;27m1803\u001b[0m/  \u001b[38;5;27m1808\u001b[0m/  \u001b[38;5;27m1901\u001b[0m/  \u001b[38;5;27m1906\u001b[0m/  \u001b[38;5;27m1911\u001b[0m/  \u001b[38;5;27m2004\u001b[0m/\r\n",
      "\u001b[38;5;27m1603\u001b[0m/  \u001b[38;5;27m1608\u001b[0m/  \u001b[38;5;27m1701\u001b[0m/  \u001b[38;5;27m1706\u001b[0m/  \u001b[38;5;27m1711\u001b[0m/  \u001b[38;5;27m1804\u001b[0m/  \u001b[38;5;27m1809\u001b[0m/  \u001b[38;5;27m1902\u001b[0m/  \u001b[38;5;27m1907\u001b[0m/  \u001b[38;5;27m1912\u001b[0m/  \u001b[38;5;27m2005\u001b[0m/\r\n",
      "\u001b[38;5;27m1604\u001b[0m/  \u001b[38;5;27m1609\u001b[0m/  \u001b[38;5;27m1702\u001b[0m/  \u001b[38;5;27m1707\u001b[0m/  \u001b[38;5;27m1712\u001b[0m/  \u001b[38;5;27m1805\u001b[0m/  \u001b[38;5;27m1810\u001b[0m/  \u001b[38;5;27m1903\u001b[0m/  \u001b[38;5;27m1908\u001b[0m/  \u001b[38;5;27m2001\u001b[0m/  \u001b[38;5;27m2006\u001b[0m/\r\n",
      "\u001b[38;5;27m1605\u001b[0m/  \u001b[38;5;27m1610\u001b[0m/  \u001b[38;5;27m1703\u001b[0m/  \u001b[38;5;27m1708\u001b[0m/  \u001b[38;5;27m1801\u001b[0m/  \u001b[38;5;27m1806\u001b[0m/  \u001b[38;5;27m1811\u001b[0m/  \u001b[38;5;27m1904\u001b[0m/  \u001b[38;5;27m1909\u001b[0m/  \u001b[38;5;27m2002\u001b[0m/\r\n"
     ]
    }
   ],
   "source": [
    "ls"
   ]
  },
  {
   "cell_type": "code",
   "execution_count": 46,
   "metadata": {},
   "outputs": [],
   "source": [
    "mkdir 1510\n",
    "mkdir 1511"
   ]
  },
  {
   "cell_type": "code",
   "execution_count": null,
   "metadata": {},
   "outputs": [],
   "source": []
  },
  {
   "cell_type": "markdown",
   "metadata": {},
   "source": [
    "### Paste paper sources in directories"
   ]
  },
  {
   "cell_type": "code",
   "execution_count": 32,
   "metadata": {},
   "outputs": [],
   "source": [
    "with open(\"../../../../../PaperAcceptancePrediction/shruti/features/iclr_arxiv_map.pkl\", \"rb\") as f:\n",
    "    iclr_arxiv_map = pickle.load(f)"
   ]
  },
  {
   "cell_type": "code",
   "execution_count": null,
   "metadata": {},
   "outputs": [],
   "source": []
  },
  {
   "cell_type": "code",
   "execution_count": 36,
   "metadata": {},
   "outputs": [
    {
     "name": "stdout",
     "output_type": "stream",
     "text": [
      "2506\n"
     ]
    }
   ],
   "source": [
    "source_files = glob.glob(\"/home/singh_shruti/workspace/ICLR_arxiv_dump/*\")\n",
    "print(len(source_files))"
   ]
  },
  {
   "cell_type": "code",
   "execution_count": 37,
   "metadata": {},
   "outputs": [],
   "source": [
    "arxiv_files = [f.rsplit(\"/\", 1)[1] for f in source_files]"
   ]
  },
  {
   "cell_type": "code",
   "execution_count": 38,
   "metadata": {},
   "outputs": [
    {
     "data": {
      "text/plain": [
       "'1908.09961v2'"
      ]
     },
     "execution_count": 38,
     "metadata": {},
     "output_type": "execute_result"
    }
   ],
   "source": [
    "# Check\n",
    "arxiv_files[0]"
   ]
  },
  {
   "cell_type": "code",
   "execution_count": 39,
   "metadata": {},
   "outputs": [
    {
     "data": {
      "text/plain": [
       "'/home/singh_shruti/workspace/axcell_ws/axcell/notebooks/data/sources'"
      ]
     },
     "execution_count": 39,
     "metadata": {},
     "output_type": "execute_result"
    }
   ],
   "source": [
    "pwd"
   ]
  },
  {
   "cell_type": "code",
   "execution_count": 42,
   "metadata": {},
   "outputs": [
    {
     "name": "stdout",
     "output_type": "stream",
     "text": [
      "cp: cannot create regular file ‘/home/singh_shruti/workspace/axcell_ws/axcell/notebooks/data/sources/1511/’: Not a directory\n",
      "cp: cannot create regular file ‘/home/singh_shruti/workspace/axcell_ws/axcell/notebooks/data/sources/1510/’: Not a directory\n"
     ]
    }
   ],
   "source": [
    "for f in arxiv_files:\n",
    "    dir_name = f.split(\".\")[0]\n",
    "    dest_path = \"/home/singh_shruti/workspace/axcell_ws/axcell/notebooks/data/sources/\" + dir_name + \"/\"\n",
    "    source_path = \"/home/singh_shruti/workspace/ICLR_arxiv_dump/\" + f\n",
    "    ! cp $source_path $dest_path"
   ]
  },
  {
   "cell_type": "code",
   "execution_count": null,
   "metadata": {},
   "outputs": [],
   "source": []
  }
 ],
 "metadata": {
  "kernelspec": {
   "display_name": "Python [conda env:axcell] *",
   "language": "python",
   "name": "conda-env-axcell-py"
  },
  "language_info": {
   "codemirror_mode": {
    "name": "ipython",
    "version": 3
   },
   "file_extension": ".py",
   "mimetype": "text/x-python",
   "name": "python",
   "nbconvert_exporter": "python",
   "pygments_lexer": "ipython3",
   "version": "3.7.1"
  }
 },
 "nbformat": 4,
 "nbformat_minor": 4
}
