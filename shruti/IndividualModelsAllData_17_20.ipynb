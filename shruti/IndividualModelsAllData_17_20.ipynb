{
 "cells": [
  {
   "cell_type": "code",
   "execution_count": 1,
   "metadata": {
    "colab": {
     "base_uri": "https://localhost:8080/",
     "height": 73
    },
    "colab_type": "code",
    "id": "zUx5GDViD42K",
    "outputId": "32126284-964f-4201-f243-85abb7f50ea8"
   },
   "outputs": [
    {
     "name": "stderr",
     "output_type": "stream",
     "text": [
      "/usr/local/lib/python3.5/dist-packages/sklearn/externals/six.py:31: DeprecationWarning: The module is deprecated in version 0.21 and will be removed in version 0.23 since we've dropped support for Python 2.7. Please rely on the official version of six (https://pypi.org/project/six/).\n",
      "  \"(https://pypi.org/project/six/).\", DeprecationWarning)\n"
     ]
    }
   ],
   "source": [
    "# Preprocessing & results----------------\n",
    "from sklearn.model_selection import train_test_split, cross_validate\n",
    "from sklearn.metrics import classification_report\n",
    "from sklearn.preprocessing import LabelEncoder\n",
    "import spacy\n",
    "# Models-------------------------\n",
    "from sklearn.tree import DecisionTreeClassifier\n",
    "from sklearn.linear_model import LogisticRegression, RidgeClassifier\n",
    "from sklearn.neighbors import KNeighborsClassifier\n",
    "from sklearn.naive_bayes import GaussianNB\n",
    "from sklearn.gaussian_process import GaussianProcessClassifier\n",
    "import sklearn.gaussian_process.kernels as kls\n",
    "from sklearn.neural_network import MLPClassifier\n",
    "from sklearn.svm import SVC\n",
    "from sklearn.gaussian_process import GaussianProcessClassifier\n",
    "from sklearn.ensemble import AdaBoostClassifier, RandomForestClassifier\n",
    "# for visualizing ---------------\n",
    "import pydotplus\n",
    "from sklearn import tree\n",
    "from sklearn.externals.six import StringIO \n",
    "from IPython.display import Image\n",
    "# General purpose\n",
    "import re\n",
    "import pandas as pd\n",
    "import numpy as np"
   ]
  },
  {
   "cell_type": "code",
   "execution_count": null,
   "metadata": {
    "colab": {},
    "colab_type": "code",
    "id": "h8TYQ8avkqHW"
   },
   "outputs": [],
   "source": []
  },
  {
   "cell_type": "code",
   "execution_count": null,
   "metadata": {
    "colab": {},
    "colab_type": "code",
    "id": "Tw7zj8RMlCOh"
   },
   "outputs": [],
   "source": []
  },
  {
   "cell_type": "markdown",
   "metadata": {
    "colab_type": "text",
    "id": "nn8c3GQ1lCf5"
   },
   "source": [
    "**Mount Drive**"
   ]
  },
  {
   "cell_type": "code",
   "execution_count": 0,
   "metadata": {
    "colab": {
     "base_uri": "https://localhost:8080/",
     "height": 127
    },
    "colab_type": "code",
    "id": "8e0gCAVjkqUT",
    "outputId": "2566598e-5993-4d1f-d4c7-58b04f215d04"
   },
   "outputs": [
    {
     "name": "stdout",
     "output_type": "stream",
     "text": [
      "Go to this URL in a browser: https://accounts.google.com/o/oauth2/auth?client_id=947318989803-6bn6qk8qdgf4n4g3pfee6491hc0brc4i.apps.googleusercontent.com&redirect_uri=urn%3aietf%3awg%3aoauth%3a2.0%3aoob&response_type=code&scope=email%20https%3a%2f%2fwww.googleapis.com%2fauth%2fdocs.test%20https%3a%2f%2fwww.googleapis.com%2fauth%2fdrive%20https%3a%2f%2fwww.googleapis.com%2fauth%2fdrive.photos.readonly%20https%3a%2f%2fwww.googleapis.com%2fauth%2fpeopleapi.readonly\n",
      "\n",
      "Enter your authorization code:\n",
      "··········\n",
      "Mounted at /content/drive\n"
     ]
    }
   ],
   "source": [
    "from google.colab import drive\n",
    "drive.mount('/content/drive')"
   ]
  },
  {
   "cell_type": "code",
   "execution_count": 0,
   "metadata": {
    "colab": {},
    "colab_type": "code",
    "id": "wpOR3IFTlGSK"
   },
   "outputs": [],
   "source": []
  },
  {
   "cell_type": "markdown",
   "metadata": {
    "colab_type": "text",
    "id": "ex-tT1x6krus"
   },
   "source": [
    "**Load the Features data**"
   ]
  },
  {
   "cell_type": "code",
   "execution_count": 3,
   "metadata": {
    "colab": {},
    "colab_type": "code",
    "id": "sxLEFjl9ERtT"
   },
   "outputs": [],
   "source": [
    "# Load the data\n",
    "data_raw = pd.read_pickle('./features/features_csv_17_20.pkl')"
   ]
  },
  {
   "cell_type": "code",
   "execution_count": 4,
   "metadata": {
    "colab": {
     "base_uri": "https://localhost:8080/",
     "height": 383
    },
    "colab_type": "code",
    "id": "PF_LhH-zk0Mk",
    "outputId": "7d8b5a03-d1ce-4a83-f961-67b1daf104b1"
   },
   "outputs": [
    {
     "data": {
      "text/html": [
       "<div>\n",
       "<style scoped>\n",
       "    .dataframe tbody tr th:only-of-type {\n",
       "        vertical-align: middle;\n",
       "    }\n",
       "\n",
       "    .dataframe tbody tr th {\n",
       "        vertical-align: top;\n",
       "    }\n",
       "\n",
       "    .dataframe thead th {\n",
       "        text-align: right;\n",
       "    }\n",
       "</style>\n",
       "<table border=\"1\" class=\"dataframe\">\n",
       "  <thead>\n",
       "    <tr style=\"text-align: right;\">\n",
       "      <th></th>\n",
       "      <th>id</th>\n",
       "      <th>original</th>\n",
       "      <th>number</th>\n",
       "      <th>cdate</th>\n",
       "      <th>tcdate</th>\n",
       "      <th>tmdate</th>\n",
       "      <th>ddate</th>\n",
       "      <th>content</th>\n",
       "      <th>forum</th>\n",
       "      <th>referent</th>\n",
       "      <th>...</th>\n",
       "      <th>year_z</th>\n",
       "      <th>title</th>\n",
       "      <th>authors</th>\n",
       "      <th>abstract</th>\n",
       "      <th>keywords</th>\n",
       "      <th>replyCount</th>\n",
       "      <th>label</th>\n",
       "      <th>ref_latest</th>\n",
       "      <th>ref_len</th>\n",
       "      <th>ref_years</th>\n",
       "    </tr>\n",
       "  </thead>\n",
       "  <tbody>\n",
       "    <tr>\n",
       "      <th>HJWHIKqgl</th>\n",
       "      <td>HJWHIKqgl</td>\n",
       "      <td>None</td>\n",
       "      <td>494</td>\n",
       "      <td>None</td>\n",
       "      <td>1478297149874</td>\n",
       "      <td>1559850667018</td>\n",
       "      <td>None</td>\n",
       "      <td>{'conflicts': ['cmu.edu', 'berkeley.edu', 'ucl...</td>\n",
       "      <td>HJWHIKqgl</td>\n",
       "      <td>None</td>\n",
       "      <td>...</td>\n",
       "      <td>2017</td>\n",
       "      <td>Generative Models and Model Criticism via Opti...</td>\n",
       "      <td>[Dougal J. Sutherland, Hsiao-Yu Tung, Heiko St...</td>\n",
       "      <td>We propose a method to optimize the representa...</td>\n",
       "      <td>[Unsupervised Learning]</td>\n",
       "      <td>12</td>\n",
       "      <td>Accept</td>\n",
       "      <td>2019</td>\n",
       "      <td>34</td>\n",
       "      <td>[2008, 2016, 2011, 2015, 2015, 2008, 2014, 200...</td>\n",
       "    </tr>\n",
       "    <tr>\n",
       "      <th>SyK00v5xx</th>\n",
       "      <td>SyK00v5xx</td>\n",
       "      <td>None</td>\n",
       "      <td>448</td>\n",
       "      <td>None</td>\n",
       "      <td>1478291152993</td>\n",
       "      <td>1544202244497</td>\n",
       "      <td>None</td>\n",
       "      <td>{'conflicts': ['cs.princeton.edu'], 'authors':...</td>\n",
       "      <td>SyK00v5xx</td>\n",
       "      <td>None</td>\n",
       "      <td>...</td>\n",
       "      <td>2017</td>\n",
       "      <td>A Simple but Tough-to-Beat Baseline for Senten...</td>\n",
       "      <td>[Sanjeev Arora, Yingyu Liang, Tengyu Ma]</td>\n",
       "      <td>\\nThe success of neural network methods for co...</td>\n",
       "      <td>[Natural language processing, Unsupervised Lea...</td>\n",
       "      <td>19</td>\n",
       "      <td>Accept</td>\n",
       "      <td>2016</td>\n",
       "      <td>49</td>\n",
       "      <td>[2012, 2012, 2013, 2013, 2014, 2015, 2016, 200...</td>\n",
       "    </tr>\n",
       "    <tr>\n",
       "      <th>Hkg4TI9xl</th>\n",
       "      <td>Hkg4TI9xl</td>\n",
       "      <td>None</td>\n",
       "      <td>331</td>\n",
       "      <td>None</td>\n",
       "      <td>1478286631603</td>\n",
       "      <td>1543468347892</td>\n",
       "      <td>None</td>\n",
       "      <td>{'conflicts': ['uchicago.edu', 'ttic.edu'], 'a...</td>\n",
       "      <td>Hkg4TI9xl</td>\n",
       "      <td>None</td>\n",
       "      <td>...</td>\n",
       "      <td>2017</td>\n",
       "      <td>A Baseline for Detecting Misclassified and Out...</td>\n",
       "      <td>[Dan Hendrycks, Kevin Gimpel]</td>\n",
       "      <td>We consider the two related problems of detect...</td>\n",
       "      <td>[Computer vision]</td>\n",
       "      <td>12</td>\n",
       "      <td>Accept</td>\n",
       "      <td>2016</td>\n",
       "      <td>41</td>\n",
       "      <td>[2016, 2012, 2011, 2006, 2005, 1993, 2011, 201...</td>\n",
       "    </tr>\n",
       "  </tbody>\n",
       "</table>\n",
       "<p>3 rows × 29 columns</p>\n",
       "</div>"
      ],
      "text/plain": [
       "                  id original number cdate         tcdate         tmdate  \\\n",
       "HJWHIKqgl  HJWHIKqgl     None    494  None  1478297149874  1559850667018   \n",
       "SyK00v5xx  SyK00v5xx     None    448  None  1478291152993  1544202244497   \n",
       "Hkg4TI9xl  Hkg4TI9xl     None    331  None  1478286631603  1543468347892   \n",
       "\n",
       "          ddate                                            content      forum  \\\n",
       "HJWHIKqgl  None  {'conflicts': ['cmu.edu', 'berkeley.edu', 'ucl...  HJWHIKqgl   \n",
       "SyK00v5xx  None  {'conflicts': ['cs.princeton.edu'], 'authors':...  SyK00v5xx   \n",
       "Hkg4TI9xl  None  {'conflicts': ['uchicago.edu', 'ttic.edu'], 'a...  Hkg4TI9xl   \n",
       "\n",
       "          referent  ... year_z  \\\n",
       "HJWHIKqgl     None  ...   2017   \n",
       "SyK00v5xx     None  ...   2017   \n",
       "Hkg4TI9xl     None  ...   2017   \n",
       "\n",
       "                                                       title  \\\n",
       "HJWHIKqgl  Generative Models and Model Criticism via Opti...   \n",
       "SyK00v5xx  A Simple but Tough-to-Beat Baseline for Senten...   \n",
       "Hkg4TI9xl  A Baseline for Detecting Misclassified and Out...   \n",
       "\n",
       "                                                     authors  \\\n",
       "HJWHIKqgl  [Dougal J. Sutherland, Hsiao-Yu Tung, Heiko St...   \n",
       "SyK00v5xx           [Sanjeev Arora, Yingyu Liang, Tengyu Ma]   \n",
       "Hkg4TI9xl                      [Dan Hendrycks, Kevin Gimpel]   \n",
       "\n",
       "                                                    abstract  \\\n",
       "HJWHIKqgl  We propose a method to optimize the representa...   \n",
       "SyK00v5xx  \\nThe success of neural network methods for co...   \n",
       "Hkg4TI9xl  We consider the two related problems of detect...   \n",
       "\n",
       "                                                    keywords replyCount  \\\n",
       "HJWHIKqgl                            [Unsupervised Learning]         12   \n",
       "SyK00v5xx  [Natural language processing, Unsupervised Lea...         19   \n",
       "Hkg4TI9xl                                  [Computer vision]         12   \n",
       "\n",
       "            label ref_latest ref_len  \\\n",
       "HJWHIKqgl  Accept       2019      34   \n",
       "SyK00v5xx  Accept       2016      49   \n",
       "Hkg4TI9xl  Accept       2016      41   \n",
       "\n",
       "                                                   ref_years  \n",
       "HJWHIKqgl  [2008, 2016, 2011, 2015, 2015, 2008, 2014, 200...  \n",
       "SyK00v5xx  [2012, 2012, 2013, 2013, 2014, 2015, 2016, 200...  \n",
       "Hkg4TI9xl  [2016, 2012, 2011, 2006, 2005, 1993, 2011, 201...  \n",
       "\n",
       "[3 rows x 29 columns]"
      ]
     },
     "execution_count": 4,
     "metadata": {},
     "output_type": "execute_result"
    }
   ],
   "source": [
    "data_raw.head(3)"
   ]
  },
  {
   "cell_type": "code",
   "execution_count": 6,
   "metadata": {
    "colab": {
     "base_uri": "https://localhost:8080/",
     "height": 35
    },
    "colab_type": "code",
    "id": "uF3eH-4gnHRp",
    "outputId": "2213c24e-b9ec-4f5e-bfb0-546ef65d168e"
   },
   "outputs": [
    {
     "name": "stdout",
     "output_type": "stream",
     "text": [
      "3446\n"
     ]
    }
   ],
   "source": [
    "print(len(data_raw))"
   ]
  },
  {
   "cell_type": "code",
   "execution_count": 0,
   "metadata": {
    "colab": {},
    "colab_type": "code",
    "id": "vjJjxYernHX2"
   },
   "outputs": [],
   "source": []
  },
  {
   "cell_type": "markdown",
   "metadata": {
    "colab_type": "text",
    "id": "F2OQVBgCk3CY"
   },
   "source": [
    "**Read original data to construct new features**"
   ]
  },
  {
   "cell_type": "code",
   "execution_count": 0,
   "metadata": {
    "colab": {
     "base_uri": "https://localhost:8080/",
     "height": 127
    },
    "colab_type": "code",
    "id": "xtcoMKFfUGdh",
    "outputId": "793b31a3-9877-4266-8663-390586d25575"
   },
   "outputs": [
    {
     "name": "stdout",
     "output_type": "stream",
     "text": [
      "Go to this URL in a browser: https://accounts.google.com/o/oauth2/auth?client_id=947318989803-6bn6qk8qdgf4n4g3pfee6491hc0brc4i.apps.googleusercontent.com&redirect_uri=urn%3aietf%3awg%3aoauth%3a2.0%3aoob&response_type=code&scope=email%20https%3a%2f%2fwww.googleapis.com%2fauth%2fdocs.test%20https%3a%2f%2fwww.googleapis.com%2fauth%2fdrive%20https%3a%2f%2fwww.googleapis.com%2fauth%2fdrive.photos.readonly%20https%3a%2f%2fwww.googleapis.com%2fauth%2fpeopleapi.readonly\n",
      "\n",
      "Enter your authorization code:\n",
      "··········\n",
      "Mounted at /content/drive\n"
     ]
    }
   ],
   "source": []
  },
  {
   "cell_type": "code",
   "execution_count": 0,
   "metadata": {
    "colab": {},
    "colab_type": "code",
    "id": "k7iYElOZnKQG"
   },
   "outputs": [],
   "source": []
  },
  {
   "cell_type": "code",
   "execution_count": 0,
   "metadata": {
    "colab": {},
    "colab_type": "code",
    "id": "IMCNlhbxnKeU"
   },
   "outputs": [],
   "source": []
  },
  {
   "cell_type": "code",
   "execution_count": 0,
   "metadata": {
    "colab": {},
    "colab_type": "code",
    "id": "E50MHChhnKg9"
   },
   "outputs": [],
   "source": []
  },
  {
   "cell_type": "code",
   "execution_count": 0,
   "metadata": {
    "colab": {},
    "colab_type": "code",
    "id": "8pDX2VKanKjk"
   },
   "outputs": [],
   "source": []
  },
  {
   "cell_type": "markdown",
   "metadata": {
    "colab_type": "text",
    "id": "u430s1f5nMge"
   },
   "source": [
    "**Feature Engineering**"
   ]
  },
  {
   "cell_type": "code",
   "execution_count": 0,
   "metadata": {
    "colab": {},
    "colab_type": "code",
    "id": "PRnAifminKp9"
   },
   "outputs": [],
   "source": []
  },
  {
   "cell_type": "code",
   "execution_count": 0,
   "metadata": {
    "colab": {},
    "colab_type": "code",
    "id": "aE-NvIr3nK5W"
   },
   "outputs": [],
   "source": [
    "def ml_keywords_present(abstract):\n",
    "    # collected from sense2vec spacy\n",
    "    ml_keywords = [\"outperforms\", \"outperform\", \"novel\", \"machine learning\", \"deep learning\", \"neural nets\", \"neural networks\", \"rnns\", \"rnn\", \"cnn\", \"cnns\", \"attention\", \"lstm\", \"adversarial network\"]\n",
    "    for keyw in ml_keywords:\n",
    "        if abstract.lower().find(keyw) > -1:\n",
    "            return 1\n",
    "    return 0"
   ]
  },
  {
   "cell_type": "code",
   "execution_count": 0,
   "metadata": {
    "colab": {},
    "colab_type": "code",
    "id": "X-N1xYSxnK9y"
   },
   "outputs": [],
   "source": []
  },
  {
   "cell_type": "code",
   "execution_count": 0,
   "metadata": {
    "colab": {
     "base_uri": "https://localhost:8080/",
     "height": 111
    },
    "colab_type": "code",
    "id": "oQTR2vKanKm2",
    "outputId": "931ab5cc-7a09-4467-cfad-02f92e815417"
   },
   "outputs": [
    {
     "data": {
      "text/html": [
       "<div>\n",
       "<style scoped>\n",
       "    .dataframe tbody tr th:only-of-type {\n",
       "        vertical-align: middle;\n",
       "    }\n",
       "\n",
       "    .dataframe tbody tr th {\n",
       "        vertical-align: top;\n",
       "    }\n",
       "\n",
       "    .dataframe thead th {\n",
       "        text-align: right;\n",
       "    }\n",
       "</style>\n",
       "<table border=\"1\" class=\"dataframe\">\n",
       "  <thead>\n",
       "    <tr style=\"text-align: right;\">\n",
       "      <th></th>\n",
       "      <th>id</th>\n",
       "      <th>abs</th>\n",
       "      <th>contains_ml_keyword</th>\n",
       "    </tr>\n",
       "  </thead>\n",
       "  <tbody>\n",
       "    <tr>\n",
       "      <th>HJWHIKqgl</th>\n",
       "      <td>HJWHIKqgl</td>\n",
       "      <td>We propose a method to optimize the representa...</td>\n",
       "      <td>1</td>\n",
       "    </tr>\n",
       "    <tr>\n",
       "      <th>SyK00v5xx</th>\n",
       "      <td>SyK00v5xx</td>\n",
       "      <td>\\nThe success of neural network methods for co...</td>\n",
       "      <td>1</td>\n",
       "    </tr>\n",
       "  </tbody>\n",
       "</table>\n",
       "</div>"
      ],
      "text/plain": [
       "                  id  ... contains_ml_keyword\n",
       "HJWHIKqgl  HJWHIKqgl  ...                   1\n",
       "SyK00v5xx  SyK00v5xx  ...                   1\n",
       "\n",
       "[2 rows x 3 columns]"
      ]
     },
     "execution_count": 11,
     "metadata": {
      "tags": []
     },
     "output_type": "execute_result"
    }
   ],
   "source": [
    "data.head(2)"
   ]
  },
  {
   "cell_type": "markdown",
   "metadata": {
    "colab_type": "text",
    "id": "jbd8-cazXhUy"
   },
   "source": [
    "# Preprocessing"
   ]
  },
  {
   "cell_type": "code",
   "execution_count": 0,
   "metadata": {
    "colab": {
     "base_uri": "https://localhost:8080/",
     "height": 359
    },
    "colab_type": "code",
    "id": "AZcKSetwEXPY",
    "outputId": "ff648f93-432a-4e39-f445-03027dec8a48"
   },
   "outputs": [
    {
     "data": {
      "text/html": [
       "<div>\n",
       "<style scoped>\n",
       "    .dataframe tbody tr th:only-of-type {\n",
       "        vertical-align: middle;\n",
       "    }\n",
       "\n",
       "    .dataframe tbody tr th {\n",
       "        vertical-align: top;\n",
       "    }\n",
       "\n",
       "    .dataframe thead th {\n",
       "        text-align: right;\n",
       "    }\n",
       "</style>\n",
       "<table border=\"1\" class=\"dataframe\">\n",
       "  <thead>\n",
       "    <tr style=\"text-align: right;\">\n",
       "      <th></th>\n",
       "      <th>id</th>\n",
       "      <th>label</th>\n",
       "      <th>contains_ml_keyword</th>\n",
       "    </tr>\n",
       "  </thead>\n",
       "  <tbody>\n",
       "    <tr>\n",
       "      <th>HJWHIKqgl</th>\n",
       "      <td>HJWHIKqgl</td>\n",
       "      <td>Accept</td>\n",
       "      <td>1</td>\n",
       "    </tr>\n",
       "    <tr>\n",
       "      <th>SyK00v5xx</th>\n",
       "      <td>SyK00v5xx</td>\n",
       "      <td>Accept</td>\n",
       "      <td>1</td>\n",
       "    </tr>\n",
       "    <tr>\n",
       "      <th>Hkg4TI9xl</th>\n",
       "      <td>Hkg4TI9xl</td>\n",
       "      <td>Accept</td>\n",
       "      <td>0</td>\n",
       "    </tr>\n",
       "    <tr>\n",
       "      <th>Hk1iOLcle</th>\n",
       "      <td>Hk1iOLcle</td>\n",
       "      <td>Reject</td>\n",
       "      <td>0</td>\n",
       "    </tr>\n",
       "    <tr>\n",
       "      <th>H178hw9ex</th>\n",
       "      <td>H178hw9ex</td>\n",
       "      <td>Reject</td>\n",
       "      <td>1</td>\n",
       "    </tr>\n",
       "    <tr>\n",
       "      <th>S1TER2oll</th>\n",
       "      <td>S1TER2oll</td>\n",
       "      <td>Accept</td>\n",
       "      <td>1</td>\n",
       "    </tr>\n",
       "    <tr>\n",
       "      <th>B1Igu2ogg</th>\n",
       "      <td>B1Igu2ogg</td>\n",
       "      <td>Accept</td>\n",
       "      <td>0</td>\n",
       "    </tr>\n",
       "    <tr>\n",
       "      <th>r1X3g2_xl</th>\n",
       "      <td>r1X3g2_xl</td>\n",
       "      <td>Accept</td>\n",
       "      <td>0</td>\n",
       "    </tr>\n",
       "    <tr>\n",
       "      <th>r1Ue8Hcxg</th>\n",
       "      <td>r1Ue8Hcxg</td>\n",
       "      <td>Accept</td>\n",
       "      <td>1</td>\n",
       "    </tr>\n",
       "    <tr>\n",
       "      <th>rkEFLFqee</th>\n",
       "      <td>rkEFLFqee</td>\n",
       "      <td>Accept</td>\n",
       "      <td>1</td>\n",
       "    </tr>\n",
       "  </tbody>\n",
       "</table>\n",
       "</div>"
      ],
      "text/plain": [
       "                  id   label  contains_ml_keyword\n",
       "HJWHIKqgl  HJWHIKqgl  Accept                    1\n",
       "SyK00v5xx  SyK00v5xx  Accept                    1\n",
       "Hkg4TI9xl  Hkg4TI9xl  Accept                    0\n",
       "Hk1iOLcle  Hk1iOLcle  Reject                    0\n",
       "H178hw9ex  H178hw9ex  Reject                    1\n",
       "S1TER2oll  S1TER2oll  Accept                    1\n",
       "B1Igu2ogg  B1Igu2ogg  Accept                    0\n",
       "r1X3g2_xl  r1X3g2_xl  Accept                    0\n",
       "r1Ue8Hcxg  r1Ue8Hcxg  Accept                    1\n",
       "rkEFLFqee  rkEFLFqee  Accept                    1"
      ]
     },
     "execution_count": 13,
     "metadata": {
      "tags": []
     },
     "output_type": "execute_result"
    }
   ],
   "source": [
    "# Feature creation--------------------\n",
    "data = pd.DataFrame()\n",
    "data['id'] = data_raw['id']#.value_counts()\n",
    "data['n_authors'] = data_raw['authors'].apply(len)#.value_counts()\n",
    "data['len_char_title'] = data_raw['title'].apply(len)\n",
    "data['len_word_title'] = data_raw['title'].apply(lambda x: len(re.split(':|\\s',x)))\n",
    "data['len_char_abstract'] = data_raw['abstract'].apply(len)\n",
    "data['len_word_abstract'] = data_raw['abstract'].apply(lambda x: len(re.split(':|\\s',x)))\n",
    "# data['replyCount'] = data_raw['replyCount']\n",
    "data['n_keywords'] = data_raw['keywords'].apply(len)\n",
    "data['ref_len'] = data_raw['ref_len']\n",
    "data['ref_latest'] = data_raw['ref_latest']\n",
    "data['label'] = data_raw['label']\n",
    "data['contains_ml_keyword'] = data_raw['abstract'].apply(ml_keywords_present)\n",
    "# data.head(10)\n",
    "#data.to_pickle('/content/drive/My Drive/Colab Notebooks/ML Project/data/data-2017-20.pkl')"
   ]
  },
  {
   "cell_type": "code",
   "execution_count": 0,
   "metadata": {
    "colab": {},
    "colab_type": "code",
    "id": "e7yTrOdc_49w"
   },
   "outputs": [],
   "source": [
    "# shuffle the data\n",
    "data = data.sample(n=len(data), random_state=42)"
   ]
  },
  {
   "cell_type": "code",
   "execution_count": 0,
   "metadata": {
    "colab": {
     "base_uri": "https://localhost:8080/",
     "height": 35
    },
    "colab_type": "code",
    "id": "kb1DAUGy2E1k",
    "outputId": "ba68cbd4-71ee-472c-af1d-5c0489420279"
   },
   "outputs": [
    {
     "data": {
      "text/plain": [
       "3446"
      ]
     },
     "execution_count": 15,
     "metadata": {
      "tags": []
     },
     "output_type": "execute_result"
    }
   ],
   "source": [
    "len(data)"
   ]
  },
  {
   "cell_type": "markdown",
   "metadata": {
    "colab_type": "text",
    "id": "ZsLO2JLiQUXG"
   },
   "source": [
    "# Decision Tree"
   ]
  },
  {
   "cell_type": "code",
   "execution_count": 0,
   "metadata": {
    "colab": {},
    "colab_type": "code",
    "id": "AbaquN-CQmic"
   },
   "outputs": [],
   "source": [
    "max_depth = 1"
   ]
  },
  {
   "cell_type": "code",
   "execution_count": 0,
   "metadata": {
    "colab": {
     "base_uri": "https://localhost:8080/",
     "height": 107
    },
    "colab_type": "code",
    "id": "qREaNsI_2RmY",
    "outputId": "376e45d4-5ad8-4c83-d62a-f550e519a3b3"
   },
   "outputs": [
    {
     "name": "stdout",
     "output_type": "stream",
     "text": [
      "Mean accuracy 0.5156677394249174\n",
      "\n"
     ]
    },
    {
     "data": {
      "text/plain": [
       "{'fit_time': array([0.00626588, 0.00986052, 0.00687027, 0.00509429, 0.00517249]),\n",
       " 'score_time': array([0.00258446, 0.00290275, 0.00246215, 0.00248075, 0.00229359]),\n",
       " 'test_score': array([0.52463768, 0.52249637, 0.50798258, 0.53991292, 0.48330914])}"
      ]
     },
     "execution_count": 17,
     "metadata": {
      "tags": []
     },
     "output_type": "execute_result"
    }
   ],
   "source": [
    "clf = DecisionTreeClassifier(max_depth=max_depth)\n",
    "X = data.drop(columns=['id','label'])\n",
    "y = data['label']\n",
    "results = cross_validate(clf, X, y, return_estimator=True)\n",
    "clf = results['estimator']\n",
    "results.pop('estimator')\n",
    "print('Mean accuracy', np.mean(results['test_score']),end='\\n\\n')\n",
    "results"
   ]
  },
  {
   "cell_type": "code",
   "execution_count": 0,
   "metadata": {
    "colab": {
     "base_uri": "https://localhost:8080/",
     "height": 104
    },
    "colab_type": "code",
    "id": "QlY2aqqfL1PI",
    "outputId": "43213c61-cda3-4f25-ca89-d3d28f041360"
   },
   "outputs": [
    {
     "name": "stdout",
     "output_type": "stream",
     "text": [
      "Mean accuracy 0.5226368818493511\n",
      "\n"
     ]
    },
    {
     "data": {
      "text/plain": [
       "{'fit_time': array([0.01360774, 0.00510454, 0.00499296, 0.00489664, 0.00486231]),\n",
       " 'score_time': array([0.00236177, 0.00216484, 0.00217557, 0.00218225, 0.00217628]),\n",
       " 'test_score': array([0.51594203, 0.51814224, 0.53265602, 0.52685051, 0.51959361])}"
      ]
     },
     "execution_count": 184,
     "metadata": {
      "tags": []
     },
     "output_type": "execute_result"
    }
   ],
   "source": [
    "clf = DecisionTreeClassifier(max_depth=max_depth)\n",
    "X = data.drop(columns=['id','label'])\n",
    "y = data['label']\n",
    "results = cross_validate(clf, X, y, return_estimator=True)\n",
    "clf = results['estimator']\n",
    "results.pop('estimator')\n",
    "print('Mean accuracy', np.mean(results['test_score']),end='\\n\\n')\n",
    "results"
   ]
  },
  {
   "cell_type": "code",
   "execution_count": 0,
   "metadata": {
    "colab": {
     "base_uri": "https://localhost:8080/",
     "height": 277
    },
    "colab_type": "code",
    "id": "T_H4uakEN9M7",
    "outputId": "680f29f1-ba34-4c5c-9371-2977dcfc3b87"
   },
   "outputs": [
    {
     "data": {
      "image/png": "[encoded data removed]",
      "text/plain": [
       "<IPython.core.display.Image object>"
      ]
     },
     "execution_count": 157,
     "metadata": {
      "tags": []
     },
     "output_type": "execute_result"
    }
   ],
   "source": [
    "# To plot the Tree--------------------------------------------\n",
    "dot_data = StringIO()\n",
    "tree.export_graphviz(clf[0], \n",
    " out_file=dot_data, \n",
    " class_names=['Accept','Reject'], # the target names.\n",
    " feature_names=X.columns, # the feature names.\n",
    " filled=True, # Whether to fill in the boxes with colours.\n",
    " rounded=True, # Whether to round the corners of the boxes.\n",
    " special_characters=True)\n",
    "graph = pydotplus.graph_from_dot_data(dot_data.getvalue()) \n",
    "Image(graph.create_png())"
   ]
  },
  {
   "cell_type": "code",
   "execution_count": 0,
   "metadata": {
    "colab": {
     "base_uri": "https://localhost:8080/",
     "height": 451
    },
    "colab_type": "code",
    "id": "q50mRdDgKITG",
    "outputId": "fb872a81-47d6-47f2-eedd-e07ddbcd4833"
   },
   "outputs": [
    {
     "name": "stdout",
     "output_type": "stream",
     "text": [
      "|--- feature_0 <= 7.50\n",
      "|   |--- class: Accept\n",
      "|--- feature_0 >  7.50\n",
      "|   |--- class: Reject\n",
      "\n",
      "|--- feature_0 <= 7.50\n",
      "|   |--- class: Accept\n",
      "|--- feature_0 >  7.50\n",
      "|   |--- class: Reject\n",
      "\n",
      "|--- feature_0 <= 4.50\n",
      "|   |--- class: Accept\n",
      "|--- feature_0 >  4.50\n",
      "|   |--- class: Reject\n",
      "\n",
      "|--- feature_0 <= 7.50\n",
      "|   |--- class: Accept\n",
      "|--- feature_0 >  7.50\n",
      "|   |--- class: Reject\n",
      "\n",
      "|--- feature_0 <= 4.50\n",
      "|   |--- class: Accept\n",
      "|--- feature_0 >  4.50\n",
      "|   |--- class: Reject\n",
      "\n"
     ]
    }
   ],
   "source": [
    "for est in clf:\n",
    "  print(tree.export_text(est))"
   ]
  },
  {
   "cell_type": "markdown",
   "metadata": {
    "colab_type": "text",
    "id": "-KbbDyyagPZB"
   },
   "source": [
    "# Random Forest"
   ]
  },
  {
   "cell_type": "code",
   "execution_count": 0,
   "metadata": {
    "colab": {},
    "colab_type": "code",
    "id": "ri60kurDgYXC"
   },
   "outputs": [],
   "source": [
    "max_depth = 2"
   ]
  },
  {
   "cell_type": "code",
   "execution_count": 0,
   "metadata": {
    "colab": {
     "base_uri": "https://localhost:8080/",
     "height": 102
    },
    "colab_type": "code",
    "id": "TjjOZlaIgmmw",
    "outputId": "7bf39196-2f4a-4640-95a4-a2defbe8291f"
   },
   "outputs": [
    {
     "name": "stdout",
     "output_type": "stream",
     "text": [
      "Mean accuracy 0.6213096064449634\n",
      "\n"
     ]
    },
    {
     "data": {
      "text/plain": [
       "{'fit_time': array([0.21503806, 0.2315886 , 0.23422408, 0.23867297, 0.25186682]),\n",
       " 'score_time': array([0.01290011, 0.01316667, 0.01447058, 0.02057505, 0.01792979]),\n",
       " 'test_score': array([0.5884058 , 0.64150943, 0.62119013, 0.65312046, 0.60232221])}"
      ]
     },
     "execution_count": 16,
     "metadata": {
      "tags": []
     },
     "output_type": "execute_result"
    }
   ],
   "source": [
    "clf = RandomForestClassifier(max_depth=max_depth)\n",
    "X = data.drop(columns=['id','label'])\n",
    "y = data['label']\n",
    "results = cross_validate(clf, X, y, return_estimator=True)\n",
    "clf = results['estimator'][0]\n",
    "results.pop('estimator')\n",
    "print('Mean accuracy', np.mean(results['test_score']),end='\\n\\n')\n",
    "results"
   ]
  },
  {
   "cell_type": "markdown",
   "metadata": {
    "colab_type": "text",
    "id": "Ee-h-64BQ2FF"
   },
   "source": [
    "# Logistic Regression"
   ]
  },
  {
   "cell_type": "code",
   "execution_count": 0,
   "metadata": {
    "colab": {},
    "colab_type": "code",
    "id": "EdUeJeNWRea8"
   },
   "outputs": [],
   "source": [
    "max_iter = 5000"
   ]
  },
  {
   "cell_type": "code",
   "execution_count": 0,
   "metadata": {
    "colab": {
     "base_uri": "https://localhost:8080/",
     "height": 104
    },
    "colab_type": "code",
    "id": "TwkdZ7gpQ57P",
    "outputId": "96bf8c44-10f4-4467-e254-4be92867378f"
   },
   "outputs": [
    {
     "name": "stdout",
     "output_type": "stream",
     "text": [
      "Mean accuracy 0.6300056793083865\n",
      "\n"
     ]
    },
    {
     "data": {
      "text/plain": [
       "{'fit_time': array([0.09690595, 0.1041317 , 0.06139374, 0.05649161, 0.070225  ]),\n",
       " 'score_time': array([0.00445056, 0.00445819, 0.00440788, 0.00438285, 0.00447059]),\n",
       " 'test_score': array([0.63043478, 0.62264151, 0.64586357, 0.63134978, 0.61973875])}"
      ]
     },
     "execution_count": 38,
     "metadata": {
      "tags": []
     },
     "output_type": "execute_result"
    }
   ],
   "source": [
    "clf = LogisticRegression(max_iter=max_iter)\n",
    "X = data.drop(columns=['id','label'])\n",
    "y = data['label']\n",
    "results = cross_validate(clf, X, y, return_estimator=True)\n",
    "clf = results['estimator'][0]\n",
    "results.pop('estimator')\n",
    "print('Mean accuracy', np.mean(results['test_score']),end='\\n\\n')\n",
    "results"
   ]
  },
  {
   "cell_type": "markdown",
   "metadata": {
    "colab_type": "text",
    "id": "1OIedRaLB6ki"
   },
   "source": [
    "# Logistic Regression (Lasso)"
   ]
  },
  {
   "cell_type": "code",
   "execution_count": 0,
   "metadata": {
    "colab": {},
    "colab_type": "code",
    "id": "E1d026yoB65Q"
   },
   "outputs": [],
   "source": [
    "max_iter = 5000"
   ]
  },
  {
   "cell_type": "code",
   "execution_count": 0,
   "metadata": {
    "colab": {
     "base_uri": "https://localhost:8080/",
     "height": 104
    },
    "colab_type": "code",
    "id": "jCO9vF4rB7Bg",
    "outputId": "b0b856d8-460d-4e03-c459-767e8ef0f10e"
   },
   "outputs": [
    {
     "name": "stdout",
     "output_type": "stream",
     "text": [
      "Mean accuracy 0.6317460718116994\n",
      "\n"
     ]
    },
    {
     "data": {
      "text/plain": [
       "{'fit_time': array([0.35614204, 0.39271069, 0.36434269, 0.35002446, 0.3365624 ]),\n",
       " 'score_time': array([0.00297022, 0.00380874, 0.002949  , 0.0029459 , 0.00342345]),\n",
       " 'test_score': array([0.63478261, 0.62699565, 0.64731495, 0.62844702, 0.62119013])}"
      ]
     },
     "execution_count": 41,
     "metadata": {
      "tags": []
     },
     "output_type": "execute_result"
    }
   ],
   "source": [
    "clf = LogisticRegression(max_iter=max_iter, penalty='l1',solver='liblinear')\n",
    "X = data.drop(columns=['id','label'])\n",
    "y = data['label']\n",
    "results = cross_validate(clf, X, y, return_estimator=True)\n",
    "clf = results['estimator'][0]\n",
    "results.pop('estimator')\n",
    "print('Mean accuracy', np.mean(results['test_score']),end='\\n\\n')\n",
    "results"
   ]
  },
  {
   "cell_type": "markdown",
   "metadata": {
    "colab_type": "text",
    "id": "s5pssjaPC0tB"
   },
   "source": [
    "# Ridge Classifier"
   ]
  },
  {
   "cell_type": "code",
   "execution_count": 0,
   "metadata": {
    "colab": {},
    "colab_type": "code",
    "id": "EYFP6UhzC01b"
   },
   "outputs": [],
   "source": [
    "max_iter = 5000"
   ]
  },
  {
   "cell_type": "code",
   "execution_count": 0,
   "metadata": {
    "colab": {
     "base_uri": "https://localhost:8080/",
     "height": 104
    },
    "colab_type": "code",
    "id": "IpuLEQ4hC04A",
    "outputId": "5da2d82f-348b-4150-eae1-b8abbfa99625"
   },
   "outputs": [
    {
     "name": "stdout",
     "output_type": "stream",
     "text": [
      "Mean accuracy 0.6279754317326097\n",
      "\n"
     ]
    },
    {
     "data": {
      "text/plain": [
       "{'fit_time': array([0.01809096, 0.02373838, 0.0227356 , 0.02274466, 0.02232003]),\n",
       " 'score_time': array([0.00418782, 0.00428748, 0.00422764, 0.00414014, 0.00411463]),\n",
       " 'test_score': array([0.62463768, 0.63280116, 0.64876633, 0.62119013, 0.61248186])}"
      ]
     },
     "execution_count": 47,
     "metadata": {
      "tags": []
     },
     "output_type": "execute_result"
    }
   ],
   "source": [
    "clf = RidgeClassifier(max_iter=max_iter)\n",
    "X = data.drop(columns=['id','label'])\n",
    "y = data['label']\n",
    "results = cross_validate(clf, X, y, return_estimator=True)\n",
    "clf = results['estimator'][0]\n",
    "results.pop('estimator')\n",
    "print('Mean accuracy', np.mean(results['test_score']),end='\\n\\n')\n",
    "results"
   ]
  },
  {
   "cell_type": "markdown",
   "metadata": {
    "colab_type": "text",
    "id": "kI2ATnDOShI-"
   },
   "source": [
    "# Support Vector Classifier"
   ]
  },
  {
   "cell_type": "code",
   "execution_count": 0,
   "metadata": {
    "colab": {},
    "colab_type": "code",
    "id": "jFAsY7JhTIka"
   },
   "outputs": [],
   "source": [
    "kernal = 'poly'"
   ]
  },
  {
   "cell_type": "code",
   "execution_count": 0,
   "metadata": {
    "colab": {
     "base_uri": "https://localhost:8080/",
     "height": 104
    },
    "colab_type": "code",
    "id": "1M-DkEF4TK-o",
    "outputId": "8807cab5-84ba-43ea-fa22-406eb578679b"
   },
   "outputs": [
    {
     "name": "stdout",
     "output_type": "stream",
     "text": [
      "Mean accuracy 0.5542668433562609\n",
      "\n"
     ]
    },
    {
     "data": {
      "text/plain": [
       "{'fit_time': array([0.23265696, 0.20871639, 0.21271348, 0.21392727, 0.21734619]),\n",
       " 'score_time': array([0.02973747, 0.0297904 , 0.0307641 , 0.02920008, 0.02964807]),\n",
       " 'test_score': array([0.55072464, 0.57329463, 0.54862119, 0.5616836 , 0.53701016])}"
      ]
     },
     "execution_count": 58,
     "metadata": {
      "tags": []
     },
     "output_type": "execute_result"
    }
   ],
   "source": [
    "clf = SVC(kernel=kernal)\n",
    "X = data.drop(columns=['id','label'])\n",
    "y = data['label']\n",
    "results = cross_validate(clf, X, y, return_estimator=True)\n",
    "clf = results['estimator'][0]\n",
    "results.pop('estimator')\n",
    "print('Mean accuracy', np.mean(results['test_score']),end='\\n\\n')\n",
    "results"
   ]
  },
  {
   "cell_type": "markdown",
   "metadata": {
    "colab_type": "text",
    "id": "bg3WnksxVhtW"
   },
   "source": [
    "# Gaussian Naive Bayes"
   ]
  },
  {
   "cell_type": "code",
   "execution_count": 0,
   "metadata": {
    "colab": {
     "base_uri": "https://localhost:8080/",
     "height": 104
    },
    "colab_type": "code",
    "id": "X4AN5e4eVv2V",
    "outputId": "3544a275-3e5e-4ecd-f385-6027f30519f2"
   },
   "outputs": [
    {
     "name": "stdout",
     "output_type": "stream",
     "text": [
      "Mean accuracy 0.6120123682715972\n",
      "\n"
     ]
    },
    {
     "data": {
      "text/plain": [
       "{'fit_time': array([0.02448487, 0.00734901, 0.00788641, 0.00789499, 0.00738764]),\n",
       " 'score_time': array([0.00354028, 0.00310588, 0.00296926, 0.00308084, 0.00346804]),\n",
       " 'test_score': array([0.6173913 , 0.60667634, 0.62554427, 0.62844702, 0.5820029 ])}"
      ]
     },
     "execution_count": 59,
     "metadata": {
      "tags": []
     },
     "output_type": "execute_result"
    }
   ],
   "source": [
    "clf = GaussianNB()\n",
    "X = data.drop(columns=['id','label'])\n",
    "y = data['label']\n",
    "results = cross_validate(clf, X, y, return_estimator=True)\n",
    "clf = results['estimator'][0]\n",
    "results.pop('estimator')\n",
    "print('Mean accuracy', np.mean(results['test_score']),end='\\n\\n')\n",
    "results"
   ]
  },
  {
   "cell_type": "markdown",
   "metadata": {
    "colab_type": "text",
    "id": "YyhkD76-EEjl"
   },
   "source": [
    "# Neural Network"
   ]
  },
  {
   "cell_type": "code",
   "execution_count": 0,
   "metadata": {
    "colab": {},
    "colab_type": "code",
    "id": "NkL82vrFEGUD"
   },
   "outputs": [],
   "source": [
    "activation = 'logistic'"
   ]
  },
  {
   "cell_type": "code",
   "execution_count": 0,
   "metadata": {
    "colab": {
     "base_uri": "https://localhost:8080/",
     "height": 104
    },
    "colab_type": "code",
    "id": "N7S6tSMCEG8j",
    "outputId": "5ffd2178-f2f7-4575-8f18-3a5a8f95d9a2"
   },
   "outputs": [
    {
     "name": "stdout",
     "output_type": "stream",
     "text": [
      "Mean accuracy 0.5678904524515682\n",
      "\n"
     ]
    },
    {
     "data": {
      "text/plain": [
       "{'fit_time': array([1.84536624, 1.54787254, 1.18014121, 0.41644526, 2.12680316]),\n",
       " 'score_time': array([0.00618219, 0.00603962, 0.0059948 , 0.00601554, 0.00601888]),\n",
       " 'test_score': array([0.6173913 , 0.5341074 , 0.53555878, 0.53265602, 0.61973875])}"
      ]
     },
     "execution_count": 67,
     "metadata": {
      "tags": []
     },
     "output_type": "execute_result"
    }
   ],
   "source": [
    "clf = MLPClassifier((50),activation=activation)\n",
    "X = data.drop(columns=['id','label'])\n",
    "y = data['label']\n",
    "results = cross_validate(clf, X, y, return_estimator=True)\n",
    "clf = results['estimator'][0]\n",
    "results.pop('estimator')\n",
    "print('Mean accuracy', np.mean(results['test_score']),end='\\n\\n')\n",
    "results"
   ]
  },
  {
   "cell_type": "markdown",
   "metadata": {
    "colab_type": "text",
    "id": "ycBEGVpaHgqu"
   },
   "source": [
    "# K-Neighbors Classifier"
   ]
  },
  {
   "cell_type": "code",
   "execution_count": 0,
   "metadata": {
    "colab": {},
    "colab_type": "code",
    "id": "atGWJ4MHHg3j"
   },
   "outputs": [],
   "source": [
    "n_neighbors = 10"
   ]
  },
  {
   "cell_type": "code",
   "execution_count": 0,
   "metadata": {
    "colab": {
     "base_uri": "https://localhost:8080/",
     "height": 104
    },
    "colab_type": "code",
    "id": "PK0DsTQeHhAz",
    "outputId": "9bb1273d-b288-4a0f-ce91-678d064a78c7"
   },
   "outputs": [
    {
     "name": "stdout",
     "output_type": "stream",
     "text": [
      "Mean accuracy 0.551076334111609\n",
      "\n"
     ]
    },
    {
     "data": {
      "text/plain": [
       "{'fit_time': array([0.0153501 , 0.00787282, 0.00791454, 0.00802517, 0.00767446]),\n",
       " 'score_time': array([0.02700067, 0.02501702, 0.02525926, 0.02593374, 0.02882266]),\n",
       " 'test_score': array([0.54202899, 0.56603774, 0.54281567, 0.58055152, 0.52394775])}"
      ]
     },
     "execution_count": 69,
     "metadata": {
      "tags": []
     },
     "output_type": "execute_result"
    }
   ],
   "source": [
    "clf = KNeighborsClassifier(n_neighbors=n_neighbors)\n",
    "X = data.drop(columns=['id','label'])\n",
    "y = data['label']\n",
    "results = cross_validate(clf, X, y, return_estimator=True)\n",
    "clf = results['estimator'][0]\n",
    "results.pop('estimator')\n",
    "print('Mean accuracy', np.mean(results['test_score']),end='\\n\\n')\n",
    "results"
   ]
  },
  {
   "cell_type": "markdown",
   "metadata": {
    "colab_type": "text",
    "id": "cTGrReHcMDfH"
   },
   "source": [
    "# Gaussian Processes"
   ]
  },
  {
   "cell_type": "code",
   "execution_count": 0,
   "metadata": {
    "colab": {},
    "colab_type": "code",
    "id": "rX4fy9ilMDrA"
   },
   "outputs": [],
   "source": [
    "kernel = kls.RBF"
   ]
  },
  {
   "cell_type": "code",
   "execution_count": 0,
   "metadata": {
    "colab": {
     "base_uri": "https://localhost:8080/",
     "height": 193
    },
    "colab_type": "code",
    "id": "ptBH0meZMDyj",
    "outputId": "e526417e-d06a-4f9e-b94b-f0bde8ae4164"
   },
   "outputs": [
    {
     "name": "stdout",
     "output_type": "stream",
     "text": [
      "Mean accuracy nan\n",
      "\n"
     ]
    },
    {
     "name": "stderr",
     "output_type": "stream",
     "text": [
      "/usr/local/lib/python3.6/dist-packages/sklearn/model_selection/_validation.py:536: FitFailedWarning: Estimator fit failed. The score on this train-test partition for these parameters will be set to nan. Details: \n",
      "AttributeError: 'str' object has no attribute 'requires_vector_input'\n",
      "\n",
      "  FitFailedWarning)\n"
     ]
    },
    {
     "data": {
      "text/plain": [
       "{'fit_time': array([0.00196433, 0.00119424, 0.00160885, 0.00118065, 0.00130773]),\n",
       " 'score_time': array([0., 0., 0., 0., 0.]),\n",
       " 'test_score': array([nan, nan, nan, nan, nan])}"
      ]
     },
     "execution_count": 71,
     "metadata": {
      "tags": []
     },
     "output_type": "execute_result"
    }
   ],
   "source": [
    "clf = GaussianProcessClassifier(kernel=kernal)\n",
    "X = data.drop(columns=['id','label'])\n",
    "y = data['label']\n",
    "results = cross_validate(clf, X, y, return_estimator=True)\n",
    "clf = results['estimator'][0]\n",
    "results.pop('estimator')\n",
    "print('Mean accuracy', np.mean(results['test_score']),end='\\n\\n')\n",
    "results"
   ]
  },
  {
   "cell_type": "code",
   "execution_count": 0,
   "metadata": {
    "colab": {
     "base_uri": "https://localhost:8080/",
     "height": 748
    },
    "colab_type": "code",
    "id": "uPAJn-3BNAIz",
    "outputId": "c852bc02-2066-47ba-b2b6-951b8ff7c949"
   },
   "outputs": [
    {
     "data": {
      "text/plain": [
       "['ABCMeta',\n",
       " 'CompoundKernel',\n",
       " 'ConstantKernel',\n",
       " 'DotProduct',\n",
       " 'ExpSineSquared',\n",
       " 'Exponentiation',\n",
       " 'GenericKernelMixin',\n",
       " 'Hyperparameter',\n",
       " 'Kernel',\n",
       " 'KernelOperator',\n",
       " 'Matern',\n",
       " 'NormalizedKernelMixin',\n",
       " 'PairwiseKernel',\n",
       " 'Product',\n",
       " 'RBF',\n",
       " 'RationalQuadratic',\n",
       " 'StationaryKernelMixin',\n",
       " 'Sum',\n",
       " 'WhiteKernel',\n",
       " '__builtins__',\n",
       " '__cached__',\n",
       " '__doc__',\n",
       " '__file__',\n",
       " '__loader__',\n",
       " '__name__',\n",
       " '__package__',\n",
       " '__spec__',\n",
       " '_approx_fprime',\n",
       " '_check_length_scale',\n",
       " '_num_samples',\n",
       " 'abstractmethod',\n",
       " 'cdist',\n",
       " 'clone',\n",
       " 'gamma',\n",
       " 'kv',\n",
       " 'math',\n",
       " 'namedtuple',\n",
       " 'np',\n",
       " 'pairwise_kernels',\n",
       " 'pdist',\n",
       " 'signature',\n",
       " 'squareform',\n",
       " 'warnings']"
      ]
     },
     "execution_count": 97,
     "metadata": {
      "tags": []
     },
     "output_type": "execute_result"
    }
   ],
   "source": []
  },
  {
   "cell_type": "code",
   "execution_count": 0,
   "metadata": {
    "colab": {},
    "colab_type": "code",
    "id": "0hSNHbQANBF7"
   },
   "outputs": [],
   "source": []
  }
 ],
 "metadata": {
  "colab": {
   "collapsed_sections": [],
   "name": "AllModelsAllData2017-2020.ipynb",
   "provenance": [],
   "toc_visible": true
  },
  "kernelspec": {
   "display_name": "Python 3",
   "language": "python",
   "name": "python3"
  },
  "language_info": {
   "codemirror_mode": {
    "name": "ipython",
    "version": 3
   },
   "file_extension": ".py",
   "mimetype": "text/x-python",
   "name": "python",
   "nbconvert_exporter": "python",
   "pygments_lexer": "ipython3",
   "version": "3.5.2"
  }
 },
 "nbformat": 4,
 "nbformat_minor": 1
}
