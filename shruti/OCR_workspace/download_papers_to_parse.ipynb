{
 "cells": [
  {
   "cell_type": "code",
   "execution_count": 36,
   "metadata": {},
   "outputs": [],
   "source": [
    "from collections import defaultdict\n",
    "from pprint import pprint\n",
    "import pickle\n",
    "import wget"
   ]
  },
  {
   "cell_type": "code",
   "execution_count": 17,
   "metadata": {},
   "outputs": [],
   "source": []
  },
  {
   "cell_type": "markdown",
   "metadata": {},
   "source": [
    "### Get PDF links for downloading papers"
   ]
  },
  {
   "cell_type": "code",
   "execution_count": 31,
   "metadata": {},
   "outputs": [],
   "source": [
    "def save_pdf_links_dict(link_dict):\n",
    "    with open(\"./pdf_links_dict.pkl\", \"wb\") as f:\n",
    "        pickle.dump(link_dict, f)\n",
    "    print(\"Saved pickle files\")\n",
    "    return\n",
    "\n",
    "\n",
    "def get_pdf_links():\n",
    "    data_dir = \"../../ICLR data/masterdata_unbalanced/\"\n",
    "    data_files = [\"papers_{}.pkl\"] #\"paper_decision_dict_{}.pkl\", \n",
    "    years = [2017, 2018, 2019, 2020]\n",
    "\n",
    "    pdf_link_dict = defaultdict(dict)\n",
    "\n",
    "    for y in years:\n",
    "        paper_file = data_files[0].format(y)\n",
    "\n",
    "        with open(data_dir + paper_file, \"rb\") as f:\n",
    "            papers_data = pickle.load(f)\n",
    "\n",
    "        for k,v in papers_data.items():\n",
    "            if \"content\" in v:\n",
    "                if \"pdf\" in v[\"content\"]:\n",
    "                    pdf_link_dict[y][k] = v[\"content\"][\"pdf\"]\n",
    "                else:\n",
    "                    print(\"PDF link not found\")\n",
    "                    pprint(v)\n",
    "            else:\n",
    "                print(\"Content key not found\")\n",
    "                pprint(v)\n",
    "    \n",
    "    save_pdf_links_dict(pdf_link_dict)\n",
    "    return"
   ]
  },
  {
   "cell_type": "code",
   "execution_count": 32,
   "metadata": {},
   "outputs": [
    {
     "name": "stdout",
     "output_type": "stream",
     "text": [
      "Saved pickle files\n"
     ]
    }
   ],
   "source": [
    "get_pdf_links()"
   ]
  },
  {
   "cell_type": "code",
   "execution_count": 33,
   "metadata": {},
   "outputs": [
    {
     "name": "stdout",
     "output_type": "stream",
     "text": [
      "download_papers_to_parse.ipynb  pdf_links_dict.pkl  readme.md\r\n"
     ]
    }
   ],
   "source": [
    "ls"
   ]
  },
  {
   "cell_type": "code",
   "execution_count": 35,
   "metadata": {},
   "outputs": [
    {
     "name": "stdout",
     "output_type": "stream",
     "text": [
      "(2017, {'SJBr9Mcxl': '/pdf/28736c858f715b58f4e74cf4e438b4070c328a8a.pdf', 'HyecJGP5ge': '/pdf/fb6912d6259de45abff8efb092d6c30cc681125c.pdf', 'r1rhWnZkg': '/pdf/bbb4e370a2e410613520b0fd45a5572a03c4dc46.pdf', 'B1IzH7cxl': '/pdf/04c83a73829a02e59e4813d7e5376a918d1d724f.pdf', 'S1TER2oll': '/pdf/7ae0dd75012c8f7d2f840b47faf80a78fdfea1b4.pdf', 'HJ6idTdgg': '/pdf/cd7acdd713379f0b79231d5ee61bc473139f642e.pdf', 'BkGakb9lx': '/pdf/1eec1561c58f263ff8ff3fb0fac669559d09b991.pdf', 'r1Chut9xl': '/pdf/fd7c347ba39489dc35aa40bd6716af6e76c6af68.pdf', 'rJe-Pr9le': '/pdf/63b92f7ce8708e9df35dc299a7b3472b6cf9731e.pdf', 'Hk-mgcsgx': '/pdf/43e43296156b8c1d9c95c0bae66f686e25ef568e.pdf', 'Skvgqgqxe': '/pdf/806aec0935bef790b284e92b5f8975eea34a5103.pdf', 'Sywh5KYex': '/pdf/7c82ff06cea8f836f8982b749b2630804d9acd5c.pdf', 'HyM25Mqel': '/pdf/a56128a415a1acf5cfd5f5cce1ae6c0feb0aa4c1.pdf', 'HkNKFiGex': '/pdf/23875ca42bb892377b060f746dbfc12423c074e2.pdf', 'Hy-lMNqex': '/pdf/344fd70baf30933e69d538ffe9072fab2e1438ab.pdf', 'HyFkG45gl': '/pdf/4742659ca9a8653ca549cf6575a4fc457518daae.pdf', 'HJ0UKP9ge': 'https://arxiv.org/pdf/1611.01603.pdf', 'r1R5Z19le': '/pdf/7eac89ab912b7990b401913de9106ef5e6b257ee.pdf', 'H1Fk2Iqex': '/pdf/19cd6593b3706f4ae2f90b8d46e0f7338f30bc6e.pdf', 'H1oyRlYgg': '/pdf/bd71807dc65ba0c6a814e403b33cc9666cb17d5b.pdf', 'BJAFbaolg': '/pdf/388d81ae0dd044220d7a880fbc2b8d904de2eedf.pdf', 'rye9LT8cee': '/pdf/2a7a79259293dbf09747e4ce766ae78301a3c2f9.pdf', 'H1MjAnqxg': '/pdf/50e43b60e63890cb5a202e2055d529c2e9144178.pdf', 'Sy7m72Ogg': '/pdf/7092cca2d341f4546ef5dd82256bdaf0045a988d.pdf', 'rJEgeXFex': '/pdf/f612598e357946a8f81772ed1cb0cf561d06bb20.pdf', 'Hyanrrqlg': '/pdf/4e797ada2bdadb112346e457d431180bc0290b93.pdf', 'SkwSJ99ex': '/pdf/3bca0d7ff08404194f79153f620f8e620475d1b4.pdf', 'BydARw9ex': '/pdf/561e4f0e9b3a918ff3021fbf8e1bef81865aa02d.pdf', 'HJGwcKclx': '/pdf/30991bcc3803c08ad381efb5299066b7e9558ba2.pdf', 'HJjiFK5gx': '/pdf/8d4a4645cf9a906b7cc8e5da7d7d8d54045bcda1.pdf', 'SyCSsUDee': '/pdf/d6ac813b457ec7bbf3f8ca7acaaf053f3976901a.pdf', 'H1zJ-v5xl': '/pdf/a69b67683af8de0cd62aae10bea94aaf3e2fa42b.pdf', 'HkCjNI5ex': '/pdf/04b04a9f263837bae9c3f6a6a99e73348c93c626.pdf', 'rkE8pVcle': '/pdf/d3f95730beec457da2c74f0167b649461cdb77be.pdf', 'Sk8J83oee': '/pdf/a88bcc4364f41758f959e91feec8ad982db08db0.pdf', 'HyTqHL5xg': '/pdf/6734b367969e365aa39c22f7101c259ca0efebbd.pdf', 'Hk8N3Sclg': '/pdf/0e1a6cd5e5e861ad6c7efbc92b43dff298c6f287.pdf', 'ryh9pmcee': '/pdf/b42ae537853626ee99448b99bd9ba4486bbe2481.pdf', 'S1HcOI5le': '/pdf/369a5da0a0a4abeec41c3541591979aa7cdff827.pdf', 'rkYmiD9lg': '/pdf/49df2ac890dcb6377613b286f748e49f6eb70824.pdf', 'BylSPv9gx': '/pdf/b4789328f625325dce60048d6d233af2b6c8f0ac.pdf', 'BkJsCIcgl': '/pdf/f477280d1e59e9596945a8f640c322d693841e2a.pdf', 'BJAA4wKxg': '/pdf/146750f1db6809ab8860ee03b596385437a13789.pdf', 'SkqMSCHxe': '/pdf/4d96ecd11daa9de9a3f185eb5df2cec042f0c7c9.pdf', 'SkhU2fcll': '/pdf/ec8f6654ac93c61aee2c445af25d3b49c6db086c.pdf', 'ByldLrqlx': '/pdf/ffe925e50a919120e1753d6ecf7de6dbd57546c8.pdf', 'BJuysoFeg': '/pdf/5175fa7c53f00b8c602a918d3869e4f64cdde13c.pdf', 'SyJNmVqgg': '/pdf/eda100832512e6d078c8d72ae42ae808a0fd2204.pdf', 'rJ0-tY5xe': '/pdf/f3e3beec28f8af589ab294b451dacd73e524b4f5.pdf', 'ry3iBFqgl': '/pdf/458bb7690cd230d9285b4c8b5b04c52991c9de7f.pdf', 'rJLS7qKel': '/pdf/f321f9cd51a309fb73de5972dec6e2bcee73b3db.pdf', 'HyWG0H5ge': '/pdf/b27fb3966106d9294b0c28e06eea848b5d0fcb92.pdf', 'SJzCSf9xg': '/pdf/6787fbad3d7a1d0478ee8cd66ae0dfe4985c038d.pdf', 'r1aPbsFle': '/pdf/e230e2228ecf9bd54251ab8e25b453c110f7028e.pdf', 'HyAbMKwxe': '/pdf/7e08b8baf70b21e37be0ee34f5ae5e5adeff8f19.pdf', 'B1Igu2ogg': '/pdf/5e58d0d43f34525f995cc00fe57341537cb1b88e.pdf', 'BJKYvt5lg': '/pdf/a6ad48900a6ffb46df482e9ceefefe063349a26f.pdf', 'B16Jem9xe': '/pdf/8ff6ce7b79a72960e71e4619260412c89d7366e2.pdf', 'ryMxXPFex': '/pdf/b75cbe30ce7fb780afb82305892b689df134639b.pdf', 'SJgWQPcxl': '/pdf/87d768f43bbef2b334ebeedd863bbd4c3f218cf6.pdf', 'BJ9fZNqle': '/pdf/071718de067f86d033a26cee3d6f7bd1e96215db.pdf', 'B1M8JF9xx': '/pdf/e22d0adc0c056dd2641fdd179725b94402def68a.pdf', 'B1ewdt9xe': '/pdf/277fb50ed09a36b54842b8129c0f9027fd7edc53.pdf', 'Sk2iistgg': '/pdf/1d8b8cdde54fc6b0120c3ded795c1d1677e066d5.pdf', 'BkUDvt5gg': '/pdf/d5a0b5529d3e8ef3cd62319541458c8b929d4bd2.pdf', 'ry_sjFqgx': '/pdf/8433d48d1786dfa7e377e8d0f89dc984e7490117.pdf', 'SJDaqqveg': '/pdf/35163ec9e0a4092ca39ad729b83880b89f7fd33f.pdf', 'HkcdHtqlx': '/pdf/0c5f85d9571de0ff009f42643c4e76af418e3869.pdf', 'BydrOIcle': '/pdf/bbf71a2b223d419423a5029ea3c0c853a8852819.pdf', 'r1IRctqxg': '/pdf/1c0e83b5b70d7190adac5254c0d44fc2e498dd55.pdf', 'Hkg4TI9xl': 'https://arxiv.org/pdf/1610.02136.pdf', 'HJy_5Mcll': '/pdf/19025e9f9e55430fa57f3730bcf86cc5ad1c73b8.pdf', 'rkEFLFqee': '/pdf/2ff0b9e83fee44be6779e3f5e3bfd6e35777e0bb.pdf', 'HJSCGD9ex': '/pdf/29fc6c264a518a2fcb19fae533526ac659dc7e90.pdf', 'rJqFGTslg': '/pdf/425c9fb25fd63057e3caf7b821d9876c982bc227.pdf', 'HJGODLqgx': '/pdf/3a5404264bf2fcc0ee5fab95ac85b33b25e7bd5c.pdf', 'SJ6yPD5xg': '/pdf/6bee0e41eb8794491f2941e5b90386f36ef1dba1.pdf', 'Sy2fzU9gl': '/pdf/9fcd6616f4c4e9985552865eb0d2383e4fd55a26.pdf', 'B1mAJI9gl': '/pdf/abd15b9b7dbbd6f40102ed1d314281a90a8f46b8.pdf', 'Hy6b4Pqee': '/pdf/b51fb1ef5fa81889f226cfb62f5b6870b0ddb4fc.pdf', 'ryPx38qge': '/pdf/4787c58ce796ae759bfe5fb0a6d5a9603d86aa8e.pdf', 'ByZvfijeg': '/pdf/89361226043c5f96e3829a67adb15855122e7d4a.pdf', 'r1tHvHKge': '/pdf/014eddc2f3365ec7cb0cc28545fb4cb825160465.pdf', 'HycUbvcge': '/pdf/6a69ee127e5fb0baa8d1630b128a5f8820e30cbf.pdf', 'rJRhzzKxl': '/pdf/01f3b4e4b56ca020139f8e2d033e09b03166865f.pdf', 'ryjp1c9xg': '/pdf/f3863d4c42aacb77a38781a712a6f439219599ba.pdf', 'HksioDcxl': '/pdf/5baa17e9b23390ecea31f514a8c168649c1e9dc9.pdf', 'r1PRvK9el': '/pdf/2e8438d59fa94b4a252c91116cb86eaf877c76b1.pdf', 'HkyYqU9lx': '/pdf/bcdfde488c2cb0f94ddb490a399516a5a167c22b.pdf', 'Bks8cPcxe': '/pdf/3a5b86bbf579c07b187d2c46b9b143e3def72c19.pdf', 'BJ6oOfqge': '/pdf/f1be5d5e303e6b6f9d99528910a14f327f62c2c7.pdf', 'BkdpaH9ll': '/pdf/5aa369dcc37861dea4b93aa119580e9a94613028.pdf', 'S1di0sfgl': '/pdf/7b450081bcf1cf199061ff7348f79ed6d403ecd7.pdf', 'SkB-_mcel': '/pdf/d6c8afc9a2a8dac0751a9a51a4f452ddd3b55bb9.pdf', 'SkgewU5ll': '/pdf/e986742070dbf1d3a51ef5901c4360422b21498b.pdf', 'ry_4vpixl': '/pdf/652d9439cff6afd96bc9a6060100a6c12d9982a9.pdf', 'SypU81Ole': '/pdf/33f8c62a4f32ce72c31a3c14e8bec5d26520c402.pdf', 'Byj72udxe': '/pdf/e3a966047da4a7a7a01edf68cdfcd0157bdd4f70.pdf', 'ryTYxh5ll': '/pdf/7729004adb1d143539f6f1010ab9b3fb598069a6.pdf', 'H1eLE8qlx': '/pdf/8eebb654909c2389f3176c1b52a8e745402a855f.pdf', 'r1xUYDYgg': '/pdf/d77d5653197e356d0b6590289862f71304069448.pdf', 'r1VdcHcxx': '/pdf/a177e96ef7f0edc882580705f7055210ee5ede44.pdf', 'HyET6tYex': '/pdf/9ba24ff08dfbca6e21b3bde7fba80f966453c21e.pdf', 'HkIQH7qel': '/pdf/fbd210da689f374d13a294133f9b9cc1fa9f671c.pdf', 'B1jnyXXJx': '/pdf/4f4854eeac3c1a8dc5416dfce2adba583b6fb529.pdf', 'Hk4_qw5xe': '/pdf/a39d6b9d0e4f4746a02732368a9fa08d458f0a45.pdf', 'r1rz6U5lg': '/pdf/a999b868a17de58898d8cf1e0956a50b348593d8.pdf', 'HkNEuToge': '/pdf/950671d0bf3fad3a783d55cae2cb616197696f5c.pdf', 'H1oRQDqlg': '/pdf/d1cab3a9a4271a9003c492bb98269ec3e66a8fb4.pdf', 'B1hdzd5lg': '/pdf/05908f22bac556c937b3f59f19ce7849643506dd.pdf', 'r1LXit5ee': '/pdf/a436dd86fa64bf2053b3323a072669d6b505e675.pdf', 'r1BJLw9ex': '/pdf/aed672a70c2793d881f5a2d0b526f73b60103d40.pdf', 'SJCscQcge': '/pdf/63bfa403b341cef856b0b0d899c006a5c0cc2115.pdf', 'Hk1l9Xqxe': '/pdf/29d437ef90cb4024f4a4f933857e4b59be1f4bfd.pdf', 'Hk95PK9le': '/pdf/e197f067db45fa2483f934adcff5f757205d06bd.pdf', 'SJ-uGHcee': '/pdf/b8abc0601f0eda355edbb902f24a7443aed318e9.pdf', 'H1hoFU9xe': '/pdf/7e9624388de612920ee0f0ee01955649939a2a76.pdf', 'ry4Vrt5gl': '/pdf/90fed8c631fb9b66174870c7af1ccc8a49cf80c9.pdf', 'ryT9R3Yxe': '/pdf/e86e72bc2d8a038d7ca66dba38c2bf74a24391f5.pdf', 'H1GEvHcee': '/pdf/4b8398856bc85d6225b5b22e456cc393e761ff00.pdf', 'rJxdQ3jeg': '/pdf/d7df16ec78247c2550d3a0b658b90e6d755089c0.pdf', 'rJeKjwvclx': '/pdf/8db6d8f1072c3fb894057a8b06f6ba30c781540a.pdf', 'r1fYuytex': '/pdf/ae297fea4af26c7ec220b0b744098a7e7ef26a0a.pdf', 'BJYwwY9ll': '/pdf/6012b9cd09762e2a9c7ad5b90014b8e6ac4a07b8.pdf', 'r1br_2Kge': '/pdf/12c6f024bbb3f85ab2cd5f9508d5b6f14eafce85.pdf', 'HJKkY35le': '/pdf/dbc3a1a8eb32546aa4ea026dc4503018939cfc34.pdf', 'B1oK8aoxe': '/pdf/355998f6ea3156fd04533529ffa01e0b7297d29e.pdf', 'BJbD_Pqlg': '/pdf/f7a47138dcb8ca903d2eb0305183df272b9b4db4.pdf', 'Hk6a8N5xe': '/pdf/bb98272f8b9475b02be09aa9f64eb18db6e42de1.pdf', 'Hyvw0L9el': '/pdf/3d359fcc1e9073f2e191f42ba526c0020f8ee94a.pdf', 'rJJ3YU5ge': '/pdf/ce0bdaceb437f743196c88179ca1f82235ea6013.pdf', 'ry2YOrcge': '/pdf/9aafb921d591ef83b4288e36d124c2fd0a9234c5.pdf', 'r1kQkVFgl': '/pdf/c87dce17b558f6c58df97ba9f664e375407d4633.pdf', 'rkFd2P5gl': '/pdf/aeadd246d34d90d3e704cad25d7c6850ee199c18.pdf', 'S13wCE9xx': '/pdf/bfeab1f950d56cf2a80a7c038bb1d915a501be99.pdf', 'SkYbF1slg': '/pdf/94058ba880bcc05cf75a967aec77aa1434b7a76d.pdf', 'BJh6Ztuxl': '/pdf/20c136f446b546356902d50e2364756217c88326.pdf', 'SkgSXUKxx': '/pdf/d888edb052d293dcbc4b1983aeace80c350a1558.pdf', 'Bk67W4Yxl': '/pdf/d2cf69a4c366823c582e6c8a7a09404cd0b9371a.pdf', 'SJ3rcZcxl': '/pdf/c210ff1a4868a532ec87ee0da3c6e4254ee567fb.pdf', 'ryT4pvqll': '/pdf/5d0a48343bdd01c02831d88857c60f4b9940ad61.pdf', 'H1Gq5Q9el': '/pdf/05ed2ee9737f5c6eb33aa3bf3d6e1a6d8cca9301.pdf', 'B1gtu5ilg': '/pdf/8463d5bb4a13ac71ddfda93680858fe0bbb39e4b.pdf', 'BkV4VS9ll': '/pdf/5ed60af9d389193f9e5e312b42e139e254500ea3.pdf', 'BJlxmAKlg': '/pdf/a12e2b52fbec4d4bda776f98b3478d66ffef14e1.pdf', 'HJWHIKqgl': '/pdf/65f8efe9272decec6c0cc4fa4a6a871a64433a4c.pdf', 'H13F3Pqll': '/pdf/3c3449d94f4a81cddaaabe2b21ee20f81d2276d1.pdf', 'BJ3filKll': '/pdf/bd97974927edd491da29b50692917677f1ccd41a.pdf', 'S1vyujVye': '/pdf/e23ea1d97fdcd1c975c97ee27d237ba6424569d5.pdf', 'HkYhZDqxg': '/pdf/d7a069343ea0c3f841d4b1991d16b552461122c7.pdf', 'ryrGawqex': '/pdf/443b19c32d88a8ba6eb9d035f5bcff9c82320c01.pdf', 'ry18Ww5ee': '/pdf/a9263ffc193997e5041e73ce2230de60001cd855.pdf', 'Sk-oDY9ge': '/pdf/ebb3a58d659cc976a5880934adb8841fd47a9f3b.pdf', 'ByToKu9ll': '/pdf/5ffc265e88c70d978a04bdfa570cb41fc25e89e8.pdf', 'Bk0MRI5lg': '/pdf/a171eb69077774da944c6b59bfc7ea95b2286029.pdf', 'r1X3g2_xl': '/pdf/42ed913e7e3a7178dc41d1f9881d8d38420f9f07.pdf', 'HkEI22jeg': '/pdf/2daca8b06ab9bde6f8f7cc254b614e0a6d93e26e.pdf', 'B16dGcqlx': '/pdf/ad3dffc5a4859d914d90c0e7a948350dfa425511.pdf', 'BJmCKBqgl': 'https://www.dropbox.com/s/5ynhm1wy5vu2swq/DyVEDeep-ICLR2017.pdf', 'ryHlUtqge': '/pdf/96383516c545c926b2bc3bbd36554fe4bd0cb3b6.pdf', 'HJOZBvcel': '/pdf/84bd49390e7f5de0a7a6911fc3b31fad4884434a.pdf', 'HyWWpw5ex': '/pdf/cec0f6a192463f414ca58a4d62732dba426b70b9.pdf', 'S1jmAotxg': '/pdf/7763c4fd20502cd6801d446a1d63c59eb9adab1d.pdf', 'B1ZXuTolx': '/pdf/f9b321c59e2aab7fe6ee8309a5a91136eb7c10be.pdf', 'B1vRTeqxg': '/pdf/8cfedc863eec47c1c047f231b88712e77bd698ab.pdf', 'rkpACe1lx': '/pdf/bbbae35015016cd02efae22e4caad0aba8e8a2fd.pdf', 'Bk8BvDqex': '/pdf/da8a506167be0f352375d2aeb90379f95feebe76.pdf', 'BJRIA3Fgg': '/pdf/5cbb649bb072e29227c9e9c2c209eeaf9cd3e21e.pdf', 'rJ8Je4clg': '/pdf/95d3eec6ca24b9443ff0c11dcef40cfd2bcebc3b.pdf', 'SygGlIBcel': '/pdf/7d82838c1d50616a7351a39970340912d2f1804c.pdf', 'SyEiHNKxx': '/pdf/37c4713bd37eda2768b800ec1c2fe9a9ef7384d4.pdf', 'HkvS3Mqxe': '/pdf/0ce16b21425061456ee6180b8db03d13fdb2dca9.pdf', 'rJbbOLcex': '/pdf/180fcd5e6174cdcecfa7055f7f9afd5d3c326888.pdf', 'ByIAPUcee': '/pdf/b416febb97a871b23c279be3f4e4ccad1e817f73.pdf', 'S1VaB4cex': '/pdf/264c99a54fcdf9dbe210d0936483fe25a1880573.pdf', 'SkXIrV9le': '/pdf/54605a95663e1d427f978e6cd31a5b9f3e1bcb9b.pdf', 'rJsiFTYex': '/pdf/4cb2b5080ff414bc0ab0b750be4943baaad466ee.pdf', 'rJ6DhP5xe': '/pdf/6fe7a96cc5adf5d2abb95182e120ce574f106f14.pdf', 'SyVVJ85lg': '/pdf/c30790984e960f282cd1534f65f5f26444ec9a19.pdf', 'ryuxYmvel': '/pdf/81bc078db86f22433df5930629717f6545aa4d3e.pdf', 'ryAe2WBee': '/pdf/d3baddd0392bb8aa948871c918b11cd345b68566.pdf', 'SJvYgH9xe': '/pdf/1b6c5951af988d823360f9fc2cd91120a011302f.pdf', 'SkCILwqex': '/pdf/7f8be86b5802a8f0c23749514615ce5877eb73da.pdf', 'Byx5BTilg': '/pdf/2282dfd38ddb3862d97adcea4fdb685118cbb855.pdf', 'HJhcg6Fxg': '/pdf/16aa7e3f1a313803bb568e10ee402e5dd777b037.pdf', 'BybtVK9lg': '/pdf/cc9de480f7ff6f42783efc6ba2b325b3a3ca106a.pdf', 'Skq89Scxx': '/pdf/f1d82a22d77c21787940a33db6ce95a245c55eeb.pdf', 'rJPcZ3txx': '/pdf/b64769c6f7937fa521cbcfceb2bc0af1c24aeb00.pdf', 'BJK3Xasel': '/pdf/1dce8a44a0276dce16fe0daf3247a2948925ad87.pdf', 'SJ_QCYqle': '/pdf/2d086f27e4b8a6596725a5093860f01f15341506.pdf', 'S1Bb3D5gg': '/pdf/75d78e3fc63af8e7aef85fe58f799cb76c70905a.pdf', 'BJrFC6ceg': '/pdf/a881773bdcae79cd4c483f8f48710fdc20a5c9d2.pdf', 'r1WUqIceg': '/pdf/f001292bdd0af4df12c44f6342a46ba381b3c5b0.pdf', 'Hk8TGSKlg': '/pdf/6cf39071d41e605ab0e3b4c6657aa5769393dfa4.pdf', 'SJqaCVLxx': '/pdf/a5e7a46286d01abf776909ee187b11ede1537df4.pdf', 'H1Go7Koex': '/pdf/dd6c821a700f996289e5d2f1f82c0f60e98df04b.pdf', 'B1s6xvqlx': '/pdf/dc16b626b1ac211f99b7c5940b6cac11eb9a717a.pdf', 'S19eAF9ee': '/pdf/f9c5c3d23f1cd33b4ab933c1fc3ec2db5d976103.pdf', 'Sy8gdB9xx': '/pdf/a667dbd533e9f018c023e21d1e3efd86cd61c365.pdf', 'Hy0L4t5el': '/pdf/29f62a14085790233f2c2036e86a2b2425898ae5.pdf', 'S1_pAu9xl': '/pdf/8534394d7c823fa401a91f5d642e0fd63b51263b.pdf', 'BJO-BuT1g': 'https://arxiv.org/pdf/1610.07629.pdf', 'Bkab5dqxe': '/pdf/2c1326b0f5fc2791b2d903ea43219c27ae3002bc.pdf', 'HJeqWztlg': '/pdf/3fc9054b95c774ce389c2f546e49f904db28d83f.pdf', 'SyZprb5xg': '/pdf/31c447ffbb60b8212b2e965e2db44d961cf1b7bb.pdf', 'Bkp_y7qxe': '/pdf/f96e9d307271e9f77d2a1df049bd9f0b8198987a.pdf', 'rJfMusFll': '/pdf/19a87595022232faa9fb28ec94bb6886410ecbca.pdf', 'BkXMikqxx': '/pdf/56cb1c6e5391871943a5b771bea4c66f54ca31a0.pdf', 'BJ8fyHceg': '/pdf/c4f118ae6bf24cd110be68a6280bac447bdfd1df.pdf', 'HJTXaw9gx': '/pdf/3a69364c022247e1d0a905f593408784f7a72f41.pdf', 'S1LVSrcge': '/pdf/4c681b897b2c27a1c8791eda73ed6815f74132c7.pdf', 'BkjLkSqxg': '/pdf/34c7079f4e5e130a4293c7e9501cc1e8b04690b1.pdf', 'HJDBUF5le': '/pdf/ab975c81ca2637f798440bd40c1d09f3410c8a16.pdf', 'rJiNwv9gg': '/pdf/a745e9aa53656d123430c65f1b3ab1ac37d11245.pdf', 'Hkz6aNqle': '/pdf/b3b4aa3c2bf2ce70e7887b228cc985f8f21e44e1.pdf', 'ByG8A7cee': '/pdf/4460aa4b621276786054b8f3c3b654b9f487a92a.pdf', 'rJXTf9Bxg': 'https://arxiv.org/pdf/1610.09585v1.pdf', 'HJTzHtqee': '/pdf/153a178fd1072b3ce3642cd6c281b60604cf9aed.pdf', 'rJxDkvqee': '/pdf/834028d78a4c420011b4949cd56a203bcfca27b8.pdf', 'HyAddcLge': '/pdf/968d0270d1c93ee2aaecd3af5797c86de9de3106.pdf', 'r1G4z8cge': '/pdf/dd73f7709a01b83346fed4edee7b39b192b53406.pdf', 'BkfiXiUlg': '/pdf/1f865d9b000a8b89c7aefd275c22b413e6f84d38.pdf', 'ryxB0Rtxx': '/pdf/d0e464449894998bdb1cf0442b8812cba4751901.pdf', 'BkCPyXm1l': '/pdf/defec2079755d4334e3a2f4bb456b672e8cba34a.pdf', 'B1E7Pwqgl': '/pdf/e8b5deea7da2c68d17b7d6975e54170eb3f77383.pdf', 'ByqiJIqxg': '/pdf/55bcf7454fc94122042a63a947299353b6099fe2.pdf', 'HyY4Owjll': '/pdf/b9c75622baa6089d0084628fa33037f8cbf56932.pdf', 'HJStZKqel': '/pdf/1af94cbdee9cb33e75af6d46adbbb6e4601abcb9.pdf', 'ryXZmzNeg': '/pdf/cf9d1cd0e67f6e9670e922a7cf867001bb4dabd9.pdf', 'Hk4kQHceg': '/pdf/ed7839937a82ca328af2ae142eec3cab39461ee9.pdf', 'B1GOWV5eg': '/pdf/0c28b4c7497552fcfcfd483485ab478635ad765d.pdf', 'rkpdnIqlx': '/pdf/94ee3487a640bddefae7254b8764734bce178f40.pdf', 'SJAr0QFxe': '/pdf/f1c641e470a3645d5942b5097834a42c0ba01dd8.pdf', 'HkNRsU5ge': '/pdf/37af0925979873cd3ef970a6c387f5570ddbcfa0.pdf', 'S1j4RqYxg': '/pdf/0c6b022c7c1cfe2b6663601a9e35466c6cbe7e34.pdf', 'HkljfjFee': '/pdf/e086819f940ba0e8b713e3fdd1f6b9d73f1035a4.pdf', 'r1Ue8Hcxg': '/pdf/a737e298ef4f25808b2a4b464c913678234b1a5d.pdf', 'HkuVu3ige': '/pdf/6a2315bc79e028ba384c12b2fc00b3e3c060d768.pdf', 'r1aGWUqgg': '/pdf/20543da4c263b038cc463144a1390f187a5e1780.pdf', 'Sy1rwtKxg': '/pdf/c3d8427c4c7eada547f7650aaa1261353a36127e.pdf', 'S1xh5sYgx': '/pdf/6b649f83c76024a3120850a3f9e78d1560ad6fcd.pdf', 'Hy8X3aKee': '/pdf/9c219f891cd8702b713d29638f7b6e0696347536.pdf', 'SywUHFcge': '/pdf/4da3f05f793bed8cc2c2df5d920516470f4e88ae.pdf', 'ByBwSPcex': '/pdf/f3a2607fd70152913005f63894f3e14c8052d7a1.pdf', 'By5e2L9gl': '/pdf/8042d0d801234a9c0042401fa69b6b20a21ba77f.pdf', 'r1VGvBcxl': '/pdf/0dbb876b6cb8698603dbc236fb8bdac201f323f4.pdf', 'Bk_zTU5eg': '/pdf/6310c06d61332f49aa903e88e073a64c8fd66636.pdf', 'HkzuKpLgg': '/pdf/3d5a4f6021bd32220713f2b41fd36d18d83110a2.pdf', 'HJV1zP5xg': '/pdf/ed535716902c60d30f7787e7f452aa999165a5e3.pdf', 'Hyq4yhile': '/pdf/58005d81a2be1dba738fdb9d0109b9d1e40b74a1.pdf', 'BJhZeLsxx': '/pdf/9b402b907e3ae51cd397a6471d3392cbfc385e58.pdf', 'rkGabzZgl': '/pdf/436cd523473505454012d97b09f3321aa071a2cc.pdf', 'rkmDI85ge': '/pdf/e63702cce988e4f72ab323968211fbd3d85a30c0.pdf', 'SygvTcYee': '/pdf/91a97ac341ddfef8e03fbeeff86d16a738013063.pdf', 'rJY0-Kcll': '/pdf/191257b538cdf09db8808fe926c1ffb2f51db178.pdf', 'r10FA8Kxg': '/pdf/8d987f288955ca4836e35e40ffe710638a00e1ef.pdf', 'HyenWc5gx': '/pdf/cf0ce483971ea7bb386bdb8027b9880e89625086.pdf', 'rJY3vK9eg': '/pdf/dc0c13426b0f4e480cb06f70c0e511ea499242ce.pdf', 'ry7O1ssex': '/pdf/dd97f6c4ef644bca2ec96f6e3eafa0bd8151a839.pdf', 'ByW2Avqgg': '/pdf/f874a8ac3db85e31cc2fdf628d8563196d36e690.pdf', 'S1Bm3T_lg': '/pdf/d6a775bda4146d928e4ef40874c4c3d0229967e2.pdf', 'B1ElR4cgg': '/pdf/7a3fa67c5f7f97e5095d822afd76a76eaf6b9551.pdf', 'r1osyr_xg': '/pdf/28e7b976b8ca9d854ce0c725c74051773df282a9.pdf', 'SJUdkecgx': '/pdf/e4c133068cf851617ae25510b7a65f93df9c31e5.pdf', 'SJ25-B5eg': '/pdf/587cf5979157e003499aa4188ed3aa8e78064016.pdf', 'ry54RWtxx': '/pdf/fc4810b863abf6bbd0cfb15e0d0e72d7f99505f2.pdf', 'SJRpRfKxx': '/pdf/581303df88ca3bbe6ae8ed1186fcbb3aaa8a6356.pdf', 'H1fl8S9ee': '/pdf/0f8cf63dfd4729681243a85630c19e3a14793321.pdf', 'Bk3F5Y9lx': '/pdf/fda68a862a3267b04a3bfb38da94a0a416d039be.pdf', 'S1JG13oee': '/pdf/debdd3674598cc40a4812df3eeaf7e814823d3bd.pdf', 'Sys6GJqxl': '/pdf/978205dd6095246709f97a4ec11279e65df57035.pdf', 'SJx7Jrtgl': '/pdf/8ab4a1509cc93eedf19c7ef4f404209b0aebfe7e.pdf', 'BkbY4psgg': '/pdf/342543971002b3e5f08be11d9a6da60b594a6b47.pdf', 'BJluGHcee': '/pdf/a927efed13219bd237a80a08c4c1449cffeb0f57.pdf', 'HkJq1Ocxl': '/pdf/2b0c040b545841857e3e9ed4f1f07a97129140c8.pdf', 'rJTKKKqeg': '/pdf/2492f18cfd03efe076f230140b0523b03e033c86.pdf', 'ByC7ww9le': '/pdf/529ba3e72398d2711ce7eb0ef6fe03087802afe2.pdf', 'ryWKREqxx': '/pdf/f63096e07757781f0e672bf98fdf9d45af5502d0.pdf', 'ryb-q1Olg': '/pdf/dde80649dd3335264f25e9dfbb0f5cfa392cea7b.pdf', 'SJ8BZTjeg': '/pdf/16c049b9a075af86f550b81707b62d5e520daed1.pdf', 'rkE3y85ee': '/pdf/14d989bed02fa62e71fbb485fcec6e26d6c91ccf.pdf', 'H1acq85gx': '/pdf/e66ee1788fa4282a33b0db6b577e9bc871a82d3b.pdf', 'ryF7rTqgl': '/pdf/586688417dcf976ead346448e8d1ac3dc81e4852.pdf', 'BysvGP5ee': '/pdf/90cb01944c965c39294cd3f65f44846c8676a5ce.pdf', 'HkpbnH9lx': '/pdf/10807df6f626b504c0d7abe90bb81aef3fb9fb13.pdf', 'Bk2TqVcxe': '/pdf/e2d348d16ad96d19425efd1cdc3788b1a98d06b3.pdf', 'BJ0Ee8cxx': '/pdf/cc931474b5c9d578c9e5e4543ba03ead784ffd50.pdf', 'rkjZ2Pcxe': '/pdf/cf488a38dc0af2d1c4205d69a0b2c8b28a418c7c.pdf', 'S1Jhfftgx': '/pdf/a97734ee064ecfd6fa3c08eb26560950428a7d37.pdf', 'Syfkm6cgx': '/pdf/c88ba30dec14bf324db81647ef68e43bbb50aee2.pdf', 'ByxpMd9lx': '/pdf/1c0e900eb5f205621124bbe3819b1791e4a5da85.pdf', 'HJDdiT9gl': 'https://arxiv.org/pdf/1701.03185.pdf', 'S1Y0td9ee': '/pdf/02368a8b5d40f512adf2e3a15a5f33eab0b561c1.pdf', 'SJJKxrsgl': '/pdf/30456b233e18f4368968c931416ecf351b10918e.pdf', 'S1dIzvclg': '/pdf/90ed26d8d9ccbd87ae3e0019930730bbbdb93556.pdf', 'BJxhLAuxg': '/pdf/6211011f3f06ace82437c764fc1d57ca176241e6.pdf', 'rJzaDdYxx': '/pdf/95894e6fa8b21d5e355bb0167096107df64f71d5.pdf', 'SJGCiw5gl': '/pdf/419058b627b99e2b53ec85b8a43876b1a9307254.pdf', 'Sy4tzwqxe': '/pdf/b8a28cec7fb95808ddddd8570bc40f7526ed7af9.pdf', 'SJGPL9Dex': '/pdf/0fff3d38d593bd9bf31ce8fd26c67e99400a6c5e.pdf', 'BJwFrvOeg': '/pdf/ae32cb6b27b7df06b3f4dbf23e66549a39b26b86.pdf', 'BkVsEMYel': '/pdf/fa9c2b48cf7eb5adef47a580055f4355cf51996e.pdf', 'ryhqQFKgl': '/pdf/1aefa0439737c9dde10a30bef4a202918311633f.pdf', 'Byk-VI9eg': '/pdf/0f03cf026b6e71bb7d316326d0a6249e2f238fd6.pdf', 'SyxeqhP9ll': '/pdf/b8945bf8e29ebf04fdda251269f36cbd8986c26b.pdf', 'HyQWFOVge': '/pdf/a75e869d17ffc25adb6467b38dfe0189d75f5a75.pdf', 'SkpSlKIel': '/pdf/0f0f440312a1984ed6e87368345d2a9e4ed36a02.pdf', 'H1_QSDqxl': '/pdf/24986b2763968aab2e7a6923afd8326304365dba.pdf', 'BkSmc8qll': '/pdf/016146d3fbbf4996346b1820211c5b307573a049.pdf', 'HJcLcw9xg': '/pdf/d292514377df32b560d6fcf877c13f34dbaac64f.pdf', 'HkwoSDPgg': '/pdf/fbfd3dcb594542f7adcd3821e379ef8dfcd35d8b.pdf', 'rJM69B5xx': '/pdf/42fff937083cedbf57a0c012307802e9272f01aa.pdf', 'HyoST_9xl': '/pdf/317ff05385cb43f0aac187a87a96396c15ca1c1c.pdf', 'SJJN38cge': '/pdf/3577a891a3d0ebc452bc9ad137cd4d74898fb0bf.pdf', 'H1kjdOYlx': '/pdf/a2d026103c7f2c9eb86b9a4148ca41012c1d465b.pdf', 'ryEGFD9gl': '/pdf/19b8870324c9064a9760d89f616c8af8b7c9651e.pdf', 'Bkul3t9ee': '/pdf/939de21e00049bd95fa78820f7e7e99cc37df62b.pdf', 'HkLXCE9lx': '/pdf/c1cfee5be26dee2679a1b94a5d51abcea44142c2.pdf', 'Hk85q85ee': '/pdf/8670fcf3516920611234172645ca701c213c6935.pdf', 'SkBsEQYll': '/pdf/5779204f81750d711baecf5fca47c5fc7cb2705c.pdf', 'r1Usiwcex': '/pdf/fbfa9f4044a6f033361d0e1c10d31e61e4f15a36.pdf', 'SJIMPr9eg': '/pdf/2615de05c9edd0e70aa0950f3f1979e73958033a.pdf', 'BJjn-Yixl': '/pdf/5e34c70e4e5709fc4182c94dc10eb16ff020faa6.pdf', 'SJZAb5cel': '/pdf/2f13fb612ef82e430be72ddf7b671e6be4eaf965.pdf', 'B1PA8fqeg': '/pdf/178fcd04b04cfd4a5634b05a095634c85332be7b.pdf', 'HJ0NvFzxl': '/pdf/fe4ef8be931057d5f338134ffde8253173c2dfb0.pdf', 'Sy6iJDqlx': '/pdf/5ab63afda67c68cd39a6dbe0fb9402dfe5f451fd.pdf', 'SJU4ayYgl': '/pdf/fe93c12d3f33c50e9a05d3b8d4b6f1f97c51501c.pdf', 'B1kJ6H9ex': '/pdf/9dceb23b2c811b0566d9025dcdd13b037e3f3f6f.pdf', 'HyEeMu_xx': '/pdf/b298199b8a96d18e7fada643738dd26ac8b6aa27.pdf', 'S1jE5L5gl': 'http://www.stats.ox.ac.uk/~cmaddis/pubs/concrete.pdf', 'rJJRDvcex': '/pdf/ee86e273bd4e6d2047a43e5556a9052cab91564f.pdf', 'ryQbbFile': '/pdf/6fca07488d7a8178e3d648d63c7afe084321f9c8.pdf', 'B1-Hhnslg': '/pdf/1e1d8a1884188e3ce0db825def307a25c844c868.pdf', 'S1AG8zYeg': '/pdf/79a0495836e5c7be28eaed7d4cc7f1086c3bb911.pdf', 'HJF3iD9xe': '/pdf/62d4b9419407ca08fcbb011eaf4daca8fbb7bda6.pdf', 'HJPmdP9le': '/pdf/c801b2d91e883c9aba6d476184918f92c520e801.pdf', 'r1te3Fqel': '/pdf/94920e45b49201b283472066d23cd47e24bac67b.pdf', 'H1VyHY9gg': 'https://arxiv.org/pdf/1703.02573.pdf', 'SkJeEtclx': '/pdf/86e4641a4441d858da69a16178b1d40c20cc9a43.pdf', 'HkxAAvcxx': '/pdf/34dcce511da2ad624524464b80b50a9c93086043.pdf', 'H1wgawqxl': '/pdf/5c54afd2ea867c72b8ae4e2f21998af0fa2f66a9.pdf', 'r1Aab85gg': '/pdf/3a5fccf6658985bbe4ae4c22b0e1e0ddb65a5247.pdf', 'Bk8N0RLxx': '/pdf/7227c1343250912077aa3080f3198bfc6e10d3ba.pdf', 'Hk8rlUqge': '/pdf/cb01f96bb430eeac976c1e4ea3a12095c97881a8.pdf', 'rJg_1L5gg': '/pdf/50b713e145744f301d815d59451514a70343d9cf.pdf', 'SJiFvr9el': '/pdf/ccf6dd518a06d53a282785894acd7544cd1041d6.pdf', 'Hku9NK5lx': '/pdf/2cb01001f2f89ca1125217eba88e499f0a8704af.pdf', 'BJtNZAFgg': '/pdf/bdadeedba940885e490acb24066c5ebab17354f5.pdf', 'Byiy-Pqlx': '/pdf/993280417e5049272dcb7379921e12b8cfd910dd.pdf', 'HysBZSqlx': '/pdf/ff00969a1ba58edc121628fdd88d330efe6077b3.pdf', 'SJc1hL5ee': '/pdf/c041ccf288b0ed8d1eccac2f3d20aa9ed97c155f.pdf', 'Sks3zF9eg': '/pdf/5b46760a646ca9fecbe8ce41647b6a3cca4f6948.pdf', 'B1G9tvcgx': '/pdf/b810ed72c87234e45aa415ec557c77be911f52ab.pdf', 'HJlgm-B9lx': '/pdf/a3ac57b00f02fd0352d0f8a972afa1a7d1169209.pdf', 'SJk01vogl': '/pdf/503e0fb6d4e69e70b71d90a2a252a3085e7e5eb4.pdf', 'S1HEBe_Jl': '/pdf/2caad8143d962dd837f7ea1a54b95aba2b12993a.pdf', 'BJ_MGwqlg': '/pdf/a1a6a7b3d41ce16869ae64277f5d10c95d1df604.pdf', 'BJ46w6Ule': '/pdf/b9e974f1ed60a55c828f66e47def806b28b20140.pdf', 'r1kGbydxg': '/pdf/29c05ef36da75615ee1d193d3f1af077e6a0540f.pdf', 'ryaFG5ige': '/pdf/799e4a649a22a4da58454b5223b37fdbabec0955.pdf', 'Bk8aOm9xl': '/pdf/5279b8d42388c4de00cddea9345b1a0a3af617af.pdf', 'SkuqA_cgx': '/pdf/5bc457660e09eee1aad834c5b9bcf018f51f21d1.pdf', 'ByvJuTigl': '/pdf/e074094d321fa15bcb3ac8fc42954ef29afd269f.pdf', 'rk9eAFcxg': '/pdf/af99f4be8bec43ed9d2d85713b3966173492c634.pdf', 'H178hw9ex': '/pdf/81ff0ffccded6f487463e74876d2ee78c275f8d7.pdf', 'ryZqPN5xe': '/pdf/471b8db973126d87a4748f452db79fc801e3affa.pdf', 'S1J0E-71l': '/pdf/2c4a40726fd9c87df0bea025fc4b56729323c30b.pdf', 'S1QefL5ge': '/pdf/a911066366b705e95fc9f426e78e9ba1178e56bb.pdf', 'Bkfwyw5xg': '/pdf/8b3fe8e618d2741d0ed9a838a49bb979f12be66f.pdf', 'HJpfMIFll': '/pdf/1b3bb8a8ac01ed3ece9f9012c8d0c6c02563a8ca.pdf', 'S11KBYclx': '/pdf/b55f7dcf80e10780e6603b0c9238b2802cb42e31.pdf', 'HJ5PIaseg': '/pdf/299bbfb2dafff739ce04e4c28ecd407498b28e8b.pdf', 'B1YfAfcgl': '/pdf/2fb588bb07ffd17030e097202cf514bdfb5bcbca.pdf', 'rJbPBt9lg': '/pdf/89c0d2ea8865acc14e38cd87c2557eb4fa39e68f.pdf', 'rJQKYt5ll': '/pdf/c935886a1936e1d4351e590b98294a5c70a0ee1d.pdf', 'SkkTMpjex': 'https://jimmylba.github.io/papers/nsync.pdf', 'rkuDV6iex': '/pdf/9dd579e275c938e412d15a96693ee6d73c6a5ce0.pdf', 'HJWzXsKxx': '/pdf/a26baac5dcca7219fca1435ab9342312c2db22be.pdf', 'HyNxRZ9xg': '/pdf/cd760342b596795f95d54247704ea58682d5cde6.pdf', 'B186cP9gx': '/pdf/cb68169022e669a9fdfe70d64d9bbe2a672d843a.pdf', 'HJgXCV9xx': '/pdf/8ee76b0295d1089d07a3d86b2614be9854112d81.pdf', 'B1akgy9xx': '/pdf/7e54b645b9aa1f5d582c664a72efdf8027099b94.pdf', 'SkyQWDcex': '/pdf/060e7dd9c5df591171ee87bfff2b0456c7a317d4.pdf', 'B1TTpYKgx': '/pdf/13029099cee636443454372dd3471bf701e74616.pdf', 'Bygq-H9eg': '/pdf/17902b6bde1ade1f52db8ebf674c8aea79e6ddbb.pdf', 'H1Heentlx': '/pdf/0cd74c0874a098f3a4c9d86ed3b4490e86bd86ff.pdf', 'SyQq185lg': '/pdf/7dd9ea27d813cb4a72d10469a49427fe81f55fb4.pdf', 'BkmM8Dceg': '/pdf/3a966db480960333026b39334317918a427b7021.pdf', 'HyxQzBceg': '/pdf/8c41248f88f7436402feb8fd572711569713d314.pdf', 'SkC_7v5gx': '/pdf/6514d69f5b4a80e843ab8cef6af09836b69bd679.pdf', 'B184E5qee': '/pdf/1e4532bbe4ef976365c0308b5f42a764f1f4a25d.pdf', 'SkxKPDv5xl': '/pdf/f0cba020c004aef9a771113e7ab8d152d7def9f2.pdf', 'Hk3mPK5gg': '/pdf/e3b317861244ee2b16515b728c7294e2e3724b51.pdf', 'ryCcJaqgl': '/pdf/0c84949fe694c90e5f98085e5e5483465febaeab.pdf', 'Sk2Im59ex': '/pdf/2b3b65044995627de4b782921d5b17dbe9086eb0.pdf', 'ByQPVFull': '/pdf/d496e78bdacf7d3a3cda2b8a65cbe19b3717ef8b.pdf', 'rJ0JwFcex': '/pdf/0cc9921e54883e42e2fe02be08463c42f9ddbbb5.pdf', 'rkKCdAdgx': '/pdf/0b678b2fadd02759acb9cf2d3a9bf6e83538f4ae.pdf', 'SJQNqLFgl': '/pdf/44adf7f72a63655056dcf064e0b7c72a36db3c58.pdf', 'HkpLeH9el': '/pdf/f8f084e85876380943390d08b632c235ea739dd9.pdf', 'r1y1aawlg': '/pdf/3ec7e1271fc04842c6d37b32886da4d92cd78424.pdf', 'SJkXfE5xx': '/pdf/f810ace79b2282d0ac7c553a182c01b0670ce8dc.pdf', 'SyWvgP5el': '/pdf/96d9f09439812742c506b34c1a236e31029ed816.pdf', 'H1W1UN9gg': '/pdf/49b3f245e912ffb5845d079da65751b3e4fe4ad1.pdf', 'HJ9rLLcxg': '/pdf/e71c24cd3ac439f1182d49e1db0451552b447455.pdf', 'SJg498clg': '/pdf/cfd5fdae121990fc7cb6ef9bc2163711f71c7fec.pdf', 'HJ1JBJ5gl': '/pdf/1cfeed8ed6564fce035669688a6580c520ca4129.pdf', 'rywUcQogx': '/pdf/6820cff043fabaac08ad991cb9057cb0721e58c7.pdf', 'HkSOlP9lg': '/pdf/1a94a67472aff744865bead1de0cf01ff3805ded.pdf', 'r1w7Jdqxl': '/pdf/c7ce590223d60f743d93d2450ad333ab8e1f00af.pdf', 'BJVEEF9lx': '/pdf/26c4b7d083283a4341a08dfde779756c2c9267c6.pdf', 'ByOK0rwlx': '/pdf/de3d7a3678c6bd1f250b4066a8f2fd0b0b9da868.pdf', 'r1YNw6sxg': '/pdf/2dcbe533f9ca6ddcd46697671e4b591c5d8933a1.pdf', 'BysZhEqee': '/pdf/e505cfc12d175bb6f600b7348110b72431813073.pdf', 'By1snw5gl': '/pdf/4d3c4efd204756d033e681e8d3bb29d2cb7f2e23.pdf', 'r1yjkAtxe': '/pdf/529784289bb3165bb17a5d07f11a569bc5f80683.pdf', 'Hy-2G6ile': '/pdf/1368d8c253eebe77a9e445b6fd647cb24e07551b.pdf', 'S1oWlN9ll': '/pdf/b9cdfec48f524ca349708a3a3b0cc6fcc10715d6.pdf', 'Hy3_KuYxg': '/pdf/5fc8ed0ce293f8444896021bdacd823dcb8cea37.pdf', 'SJNDWNOlg': '/pdf/a7ed76c871eabe3940c81677382ff3c612068f5b.pdf', 'Bkepl7cee': '/pdf/835bd08a99c77e67beae76c6419f84fdca860dad.pdf', 'BkSqjHqxg': '/pdf/954ddff2afa7d65560f37fe0b0e1b08b0a75a739.pdf', 'HJ1kmv9xx': '/pdf/c0e470b10ff321729588be234b538a6fc7368f6a.pdf', 'H12GRgcxg': '/pdf/7cd7427b4f427d62bb5f3191d0726f76ad45cc03.pdf', 'SyK00v5xx': '/pdf/3cd3d0e6d510ec56313971e66701feb35abde02d.pdf', 'rk5upnsxe': '/pdf/584a97e9fedf9eb4afd8a6f74ca94f46f35709c5.pdf', 'r1Bjj8qge': '/pdf/b47e88100d407f7c6ba87a9d112bc6bc7e949177.pdf', 'BJFG8Yqxl': '/pdf/b2be6aeb38cfc5a9b7f5edb69bcb453b6ff4e0cc.pdf', 'S1X7nhsxl': '/pdf/de84ceb597033942a8e7da752eed58f7ee5f0607.pdf', 'Bk0FWVcgx': '/pdf/f8fe881666ea6efcdf637e668c09c86e559a719f.pdf', 'BycCx8qex': '/pdf/c50d4ca22fbc45f74f428cb4772daea52cab438a.pdf', 'rkFBJv9gg': '/pdf/b74c5c81741fefd98381e2bb1a649a7940f3b463.pdf', 'BymIbLKgl': '/pdf/908e82ec04bafe607a8b0d01ebe6e12436ac4929.pdf', 'HJtN5K9gx': '/pdf/eb9acbda978d6821ccbcbf8ee7fb77dc9b506fca.pdf', 'SyW2QSige': '/pdf/1f5ea4d7a782bc373d3b7149d1e96313e80ce8a4.pdf', 'Skn9Shcxe': '/pdf/0bbf16911fcc27702f7d59202487194811132f4a.pdf', 'S1c2cvqee': '/pdf/509c06f595581160f6875ff7e705c6fc623b21ea.pdf', 'ryUPiRvge': '/pdf/bb2864eaf4009f785b839d201c2a27a52510f352.pdf', 'HJrDIpiee': '/pdf/0ef00b69b455f1ef1bf93bfacd23b16660df34ba.pdf', 'ryelgY5eg': '/pdf/60c41b4b1ae5395c59d55554c2da52316ed79016.pdf', 'SyOvg6jxx': '/pdf/ee025e0524031667162985b357a4942ab9bb62a4.pdf', 'rJqBEPcxe': '/pdf/fdd2ff27bd56cb0045a9dee87e9dce9f8c134b2e.pdf', 'rJq_YBqxx': '/pdf/d4495be4c260cf351432b34cb5232967aeabe5c4.pdf', 'ByG4hz5le': '/pdf/b3577d9d5856be9fae6325e96b947a046b416ec7.pdf', 'ryh_8f9lg': '/pdf/788a4cffe22f661847498b56c09f13aadd311e8c.pdf', 'HJIY0E9ge': '/pdf/90c57fe986190c8e6b49b4756b273506318bc814.pdf', 'r1nTpv9eg': '/pdf/ebbdbda6bc6648f3ddd06a91a4229083302dd917.pdf', 'r1S083cgx': '/pdf/57f34f4c6c47cd503f9b18100281267470dc8e15.pdf', 'SJttqw5ge': '/pdf/7aa7c748b79767b8cdb7f938726e1d39fa0a5ad7.pdf', 'Sks9_ajex': '/pdf/db088e768de05a386c4b19d7832062562661d4f7.pdf', 'SJTQLdqlg': '/pdf/2a6234b3f2a32c8055fcdd6dfb12cb5037cd57c7.pdf', 'rky3QW9le': '/pdf/18c35a543b180505030a29fc079e8bd18b5d4c81.pdf', 'H1_EDpogx': '/pdf/f8b0436ea7370779edd703b7d7d35a9e34752fa9.pdf', 'BkIqod5ll': '/pdf/e5a6aa65a57e5d06fbe9c6e4ac38eacc64e4052f.pdf', 'Hkg8bDqee': '/pdf/f5316305b0560db063525a71f36ca95d1932981e.pdf', 'Syoiqwcxx': '/pdf/4fb369cc2525eceac892afa2dae6377f8ddfc7c0.pdf', 'Sk36NgFeg': '/pdf/ce19097845e8f83133c971d7189be79450c96ff7.pdf', 'B1-q5Pqxl': '/pdf/78402508a0a3ebc1c9078ef8ff48dccc6fef6cd8.pdf', 'rksfwnFxl': '/pdf/fe56e36cd82b26a03c7f34c4530924ff1a0c36f8.pdf', 'BkLhzHtlg': '/pdf/b827866ca50e1bcc6f59cfd1aa6e628115bf13a3.pdf', 'rJo9n9Feg': '/pdf/479d3f447c4e6159ef11734a26a7bdfd1d82d7b5.pdf', 'HyQJ-mclg': '/pdf/518904b552874f0bd9b9781d203e13cc1031b9af.pdf', 'r1GKzP5xx': '/pdf/f1b9905eba0f711fe3fe5a6596c33ce1d7141a74.pdf', 'ByOvsIqeg': '/pdf/f7b6e3356df1bc4ad0ab06562efd334fd930afa0.pdf', 'SJMGPrcle': '/pdf/90108ec7c50039b2ef6baf17b9b88f6cfeda46fa.pdf', 'Sk8csP5ex': '/pdf/e04f62365b1b59ae7fb3363bf32e28b60fddc225.pdf', 'B1KBHtcel': '/pdf/1546be2f1c01e692d4ff69f5e67b692d280f9270.pdf', 'B1ckMDqlg': '/pdf/e363a24f399de1c363914ca1d0231bc8521a1006.pdf', 'Hk1iOLcle': '/pdf/3ce987396a42538babbc77ac4afbf1e44815be13.pdf', 'BJm4T4Kgx': '/pdf/5c5fbf174131ed5bbba332fd1f627d17e4e1c608.pdf', 'Bkbc-Vqeg': '/pdf/21daf351a51f71241db0425689ae98e74f491509.pdf', 'ByEPMj5el': '/pdf/caeae8b5f18946c9886063a7aad979ad7df862ba.pdf', 'BJ--gPcxl': '/pdf/460584dbf51dbe519d23ea16e57dec6f40676c92.pdf', 'r17RD2oxe': '/pdf/2a7c18802f86269398c44a4638552d8895a44611.pdf', 'HyGTuv9eg': '/pdf/6fe8e450d48b17c195a7b9212e55f47001c57fbf.pdf', 'HJ7O61Yxe': '/pdf/393639b108094123bb479f130715a48dede5fe30.pdf', 'S1RP6GLle': '/pdf/62cf51f7f8bb2bfb79c850cc2584cb044e7f6ad3.pdf', 'B1MRcPclx': 'https://arxiv.org/pdf/1606.04582.pdf', 'BJ5UeU9xx': '/pdf/9c0dd32a98e96fc0222dd2bcd99cc21e599852e9.pdf', 'BJC_jUqxe': '/pdf/04457e6e3ea211450caf6a06cf0981744ba33849.pdf', 'rkaRFYcgl': '/pdf/723cdd81e10abcc570f2a7f93c19c9abf8288c52.pdf', 'BJC8LF9ex': '/pdf/74b3010f71f7266247dc56506f38ad2d235eb359.pdf', 'BJa0ECFxe': '/pdf/5e733bdd823f29c481dbd25788c7897cd4977ef6.pdf', 'HyCRyS9gx': '/pdf/612d0be08c6f03132298219d89615a4017aa3974.pdf', 'S1OufnIlx': '/pdf/e8eca92cff8015f8d0ec8db450144a10b1b9bdab.pdf', 'By14kuqxx': '/pdf/e1f60d5888bde86192ea809184924b0af7947d5c.pdf', 'HyWDCXjgx': '/pdf/8727cae92fcd5b5602f6c9e0979201896bd42e7f.pdf', 'HkE0Nvqlg': '/pdf/9b890c1db132551890779413703c91b796588de3.pdf', 'rJ8uNptgl': '/pdf/e7278460e6669564c6f892bfe2d4016ec3fd5117.pdf'})\n"
     ]
    }
   ],
   "source": [
    "print(list(pdf_link_dict.items())[0])"
   ]
  },
  {
   "cell_type": "code",
   "execution_count": null,
   "metadata": {},
   "outputs": [],
   "source": []
  },
  {
   "cell_type": "markdown",
   "metadata": {},
   "source": [
    "### Download papers yearwise"
   ]
  },
  {
   "cell_type": "markdown",
   "metadata": {},
   "source": [
    "#### 1. Read file"
   ]
  },
  {
   "cell_type": "code",
   "execution_count": 47,
   "metadata": {},
   "outputs": [],
   "source": [
    "def read_pdf_file():  \n",
    "    with open(\"./pdf_links_dict.pkl\", \"rb\") as f:\n",
    "        links_file = pickle.load(f)\n",
    "    \n",
    "    return links_file"
   ]
  },
  {
   "cell_type": "markdown",
   "metadata": {},
   "source": [
    "#### 2. Download file year wise"
   ]
  },
  {
   "cell_type": "code",
   "execution_count": 56,
   "metadata": {},
   "outputs": [],
   "source": [
    "def download_files(year, url_dict):\n",
    "    for k, v in url_dict.items():\n",
    "        org_url = \"https://openreview.net\" + v\n",
    "        wget.download(org_url, \"./science-parse/input/{}/{}.pdf\".format(year, k))\n",
    "        #break\n",
    "    return"
   ]
  },
  {
   "cell_type": "code",
   "execution_count": null,
   "metadata": {},
   "outputs": [],
   "source": []
  },
  {
   "cell_type": "code",
   "execution_count": 53,
   "metadata": {},
   "outputs": [],
   "source": [
    "links_dict = read_pdf_file()\n",
    "download_files(2017, links_dict[2017])"
   ]
  },
  {
   "cell_type": "code",
   "execution_count": 54,
   "metadata": {},
   "outputs": [
    {
     "name": "stdout",
     "output_type": "stream",
     "text": [
      "download_papers_to_parse.ipynb  pdf_links_dict.pkl  readme.md  \u001b[0m\u001b[01;34mscience-parse\u001b[0m/\r\n"
     ]
    }
   ],
   "source": [
    "ls"
   ]
  },
  {
   "cell_type": "code",
   "execution_count": 55,
   "metadata": {},
   "outputs": [
    {
     "name": "stdout",
     "output_type": "stream",
     "text": [
      "SJBr9Mcxl.pdf\r\n"
     ]
    }
   ],
   "source": [
    "ls science-parse/input/2017/"
   ]
  },
  {
   "cell_type": "code",
   "execution_count": null,
   "metadata": {},
   "outputs": [],
   "source": []
  }
 ],
 "metadata": {
  "kernelspec": {
   "display_name": "Python 3",
   "language": "python",
   "name": "python3"
  },
  "language_info": {
   "codemirror_mode": {
    "name": "ipython",
    "version": 3
   },
   "file_extension": ".py",
   "mimetype": "text/x-python",
   "name": "python",
   "nbconvert_exporter": "python",
   "pygments_lexer": "ipython3",
   "version": "3.5.2"
  }
 },
 "nbformat": 4,
 "nbformat_minor": 2
}
