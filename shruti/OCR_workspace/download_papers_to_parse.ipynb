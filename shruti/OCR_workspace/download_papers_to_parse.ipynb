{
 "cells": [
  {
   "cell_type": "code",
   "execution_count": 24,
   "metadata": {},
   "outputs": [],
   "source": [
    "from collections import defaultdict\n",
    "from pprint import pprint\n",
    "import pickle"
   ]
  },
  {
   "cell_type": "code",
   "execution_count": 17,
   "metadata": {},
   "outputs": [],
   "source": []
  },
  {
   "cell_type": "code",
   "execution_count": 31,
   "metadata": {},
   "outputs": [],
   "source": [
    "def save_pdf_links_dict(link_dict):\n",
    "    with open(\"./pdf_links_dict.pkl\", \"wb\") as f:\n",
    "        pickle.dump(link_dict, f)\n",
    "    print(\"Saved pickle files\")\n",
    "    return\n",
    "\n",
    "\n",
    "def get_pdf_links():\n",
    "    data_dir = \"../../ICLR data/masterdata_unbalanced/\"\n",
    "    data_files = [\"papers_{}.pkl\"] #\"paper_decision_dict_{}.pkl\", \n",
    "    years = [2017, 2018, 2019, 2020]\n",
    "\n",
    "    pdf_link_dict = defaultdict(dict)\n",
    "\n",
    "    for y in years:\n",
    "        paper_file = data_files[0].format(y)\n",
    "\n",
    "        with open(data_dir + paper_file, \"rb\") as f:\n",
    "            papers_data = pickle.load(f)\n",
    "\n",
    "        for k,v in papers_data.items():\n",
    "            if \"content\" in v:\n",
    "                if \"pdf\" in v[\"content\"]:\n",
    "                    pdf_link_dict[y][k] = v[\"content\"][\"pdf\"]\n",
    "                else:\n",
    "                    print(\"PDF link not found\")\n",
    "                    pprint(v)\n",
    "            else:\n",
    "                print(\"Content key not found\")\n",
    "                pprint(v)\n",
    "    \n",
    "    save_pdf_links_dict(pdf_link_dict)\n",
    "    return"
   ]
  },
  {
   "cell_type": "code",
   "execution_count": 32,
   "metadata": {},
   "outputs": [
    {
     "name": "stdout",
     "output_type": "stream",
     "text": [
      "Saved pickle files\n"
     ]
    }
   ],
   "source": [
    "get_pdf_links()"
   ]
  },
  {
   "cell_type": "code",
   "execution_count": 33,
   "metadata": {},
   "outputs": [
    {
     "name": "stdout",
     "output_type": "stream",
     "text": [
      "download_papers_to_parse.ipynb  pdf_links_dict.pkl  readme.md\r\n"
     ]
    }
   ],
   "source": [
    "ls"
   ]
  },
  {
   "cell_type": "code",
   "execution_count": null,
   "metadata": {},
   "outputs": [],
   "source": []
  }
 ],
 "metadata": {
  "kernelspec": {
   "display_name": "Python 3",
   "language": "python",
   "name": "python3"
  },
  "language_info": {
   "codemirror_mode": {
    "name": "ipython",
    "version": 3
   },
   "file_extension": ".py",
   "mimetype": "text/x-python",
   "name": "python",
   "nbconvert_exporter": "python",
   "pygments_lexer": "ipython3",
   "version": "3.5.2"
  }
 },
 "nbformat": 4,
 "nbformat_minor": 2
}
