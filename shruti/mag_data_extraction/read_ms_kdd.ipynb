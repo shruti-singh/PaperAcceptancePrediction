{
 "cells": [
  {
   "cell_type": "code",
   "execution_count": 1,
   "metadata": {},
   "outputs": [],
   "source": [
    "import glob\n",
    "import zipfile\n",
    "import json\n",
    "import pandas as pd\n",
    "import pickle\n",
    "from pprint import pprint"
   ]
  },
  {
   "cell_type": "code",
   "execution_count": 2,
   "metadata": {},
   "outputs": [],
   "source": [
    "data_path = \"/opt/datasets/microsoft_kdd/\""
   ]
  },
  {
   "cell_type": "code",
   "execution_count": 3,
   "metadata": {},
   "outputs": [],
   "source": [
    "paper_file = data_path + \"Papers.txt\"\n",
    "\n",
    "paper_dict = {}\n",
    "title_dict = {}\n",
    "\n",
    "errs = []\n",
    "\n",
    "with open(paper_file, \"r\") as f:\n",
    "    for line in f:\n",
    "        try:\n",
    "            paper_elems = line.split(\"\\t\")\n",
    "            pid = paper_elems[0]\n",
    "            year = int(paper_elems[3])\n",
    "            normalized_title = ''.join(filter(str.isalpha, paper_elems[1]))\n",
    "            if year == \"2017\":\n",
    "                paper_dict[pid] = paper_elems[1:]\n",
    "                title_dict[normalized_title] = pid\n",
    "        except Exception as ex:\n",
    "            errs.appendd(line)"
   ]
  },
  {
   "cell_type": "code",
   "execution_count": 5,
   "metadata": {},
   "outputs": [],
   "source": [
    "with open(\"kdd_papers.pickle\", \"wb\") as t:\n",
    "    pickle.dump(paper_dict, t)\n",
    "\n",
    "with open(\"kdd_title.pickle\", \"wb\") as t:\n",
    "    pickle.dump(title_dict, t)"
   ]
  },
  {
   "cell_type": "code",
   "execution_count": 6,
   "metadata": {},
   "outputs": [
    {
     "data": {
      "text/plain": [
       "0"
      ]
     },
     "execution_count": 6,
     "metadata": {},
     "output_type": "execute_result"
    }
   ],
   "source": [
    "len(errs)"
   ]
  },
  {
   "cell_type": "code",
   "execution_count": 8,
   "metadata": {},
   "outputs": [
    {
     "data": {
      "text/plain": [
       "0"
      ]
     },
     "execution_count": 8,
     "metadata": {},
     "output_type": "execute_result"
    }
   ],
   "source": [
    "len(title_dict)"
   ]
  },
  {
   "cell_type": "code",
   "execution_count": null,
   "metadata": {},
   "outputs": [],
   "source": []
  },
  {
   "cell_type": "code",
   "execution_count": null,
   "metadata": {},
   "outputs": [],
   "source": []
  },
  {
   "cell_type": "code",
   "execution_count": null,
   "metadata": {},
   "outputs": [],
   "source": []
  },
  {
   "cell_type": "markdown",
   "metadata": {},
   "source": [
    "## Read dblp citation data"
   ]
  },
  {
   "cell_type": "code",
   "execution_count": 13,
   "metadata": {},
   "outputs": [
    {
     "name": "stdout",
     "output_type": "stream",
     "text": [
      "\u001b[0m\u001b[38;5;9m/home/singh_shruti/data/mag_aminer/dblp.v12.7z\u001b[0m\r\n"
     ]
    }
   ],
   "source": [
    "ls ~/data/mag_aminer/dblp.v12.7z"
   ]
  },
  {
   "cell_type": "code",
   "execution_count": 9,
   "metadata": {},
   "outputs": [],
   "source": [
    "import py7zr"
   ]
  },
  {
   "cell_type": "code",
   "execution_count": 14,
   "metadata": {},
   "outputs": [],
   "source": [
    "# Extracts the file in curent location unless path specified\n",
    "with py7zr.SevenZipFile('/home/singh_shruti/data/mag_aminer/dblp.v12.7z', mode='r') as z:\n",
    "    z.extractall()"
   ]
  },
  {
   "cell_type": "code",
   "execution_count": 22,
   "metadata": {},
   "outputs": [],
   "source": [
    "cp dblp.v12.json /home/singh_shruti/data/mag_aminer/"
   ]
  },
  {
   "cell_type": "code",
   "execution_count": null,
   "metadata": {},
   "outputs": [],
   "source": []
  },
  {
   "cell_type": "code",
   "execution_count": null,
   "metadata": {},
   "outputs": [],
   "source": []
  },
  {
   "cell_type": "code",
   "execution_count": 1,
   "metadata": {},
   "outputs": [],
   "source": [
    "import json"
   ]
  },
  {
   "cell_type": "code",
   "execution_count": 2,
   "metadata": {},
   "outputs": [],
   "source": [
    "with open(\"dblp.v12.json\", \"r\") as f:\n",
    "    dblp_cit = json.load(f)"
   ]
  },
  {
   "cell_type": "code",
   "execution_count": 3,
   "metadata": {},
   "outputs": [
    {
     "data": {
      "text/plain": [
       "list"
      ]
     },
     "execution_count": 3,
     "metadata": {},
     "output_type": "execute_result"
    }
   ],
   "source": [
    "type(dblp_cit)"
   ]
  },
  {
   "cell_type": "code",
   "execution_count": 4,
   "metadata": {},
   "outputs": [
    {
     "data": {
      "text/plain": [
       "{'id': 1091,\n",
       " 'authors': [{'name': 'Makoto Satoh',\n",
       "   'org': 'Shinshu University',\n",
       "   'id': 2312688602},\n",
       "  {'name': 'Ryo Muramatsu', 'org': 'Shinshu University', 'id': 2482909946},\n",
       "  {'name': 'Mizue Kayama', 'org': 'Shinshu University', 'id': 2128134587},\n",
       "  {'name': 'Kazunori Itoh', 'org': 'Shinshu University', 'id': 2101782692},\n",
       "  {'name': 'Masami Hashimoto', 'org': 'Shinshu University', 'id': 2114054191},\n",
       "  {'name': 'Makoto Otani', 'org': 'Shinshu University', 'id': 1989208940},\n",
       "  {'name': 'Michio Shimizu',\n",
       "   'org': 'Nagano Prefectural College',\n",
       "   'id': 2134989941},\n",
       "  {'name': 'Masahiko Sugimoto',\n",
       "   'org': 'Takushoku University, Hokkaido Junior College',\n",
       "   'id': 2307479915}],\n",
       " 'title': 'Preliminary Design of a Network Protocol Learning Tool Based on the Comprehension of High School Students: Design by an Empirical Study Using a Simple Mind Map',\n",
       " 'year': 2013,\n",
       " 'n_citation': 1,\n",
       " 'page_start': '89',\n",
       " 'page_end': '93',\n",
       " 'doc_type': 'Conference',\n",
       " 'publisher': 'Springer, Berlin, Heidelberg',\n",
       " 'volume': '',\n",
       " 'issue': '',\n",
       " 'doi': '10.1007/978-3-642-39476-8_19',\n",
       " 'references': [2005687710, 2018037215],\n",
       " 'indexed_abstract': {'IndexLength': 58,\n",
       "  'InvertedIndex': {'tool.': [42],\n",
       "   'study': [4],\n",
       "   'aim': [37],\n",
       "   'purpose': [1],\n",
       "   'scientific': [17],\n",
       "   'for': [11],\n",
       "   'aspects': [18],\n",
       "   'students': [14, 46],\n",
       "   'focus': [27],\n",
       "   'hands-on': [47],\n",
       "   'learning': [9, 41],\n",
       "   'experience': [48],\n",
       "   'our': [40],\n",
       "   'we': [26],\n",
       "   'network': [33, 56],\n",
       "   'The': [0],\n",
       "   'More': [24],\n",
       "   'high': [12],\n",
       "   'protocols.': [57],\n",
       "   'school': [13],\n",
       "   'and': [21],\n",
       "   'of': [2, 19, 32, 55],\n",
       "   'communication': [22],\n",
       "   'protocols': [34],\n",
       "   'gives': [45],\n",
       "   'on': [28],\n",
       "   'a': [8],\n",
       "   'studying': [15],\n",
       "   'specifically,': [25],\n",
       "   'this': [3],\n",
       "   'understand': [51],\n",
       "   'is': [5],\n",
       "   'develop': [7, 39],\n",
       "   'Our': [43],\n",
       "   'tool': [10, 44],\n",
       "   'the': [16, 29, 36, 52],\n",
       "   'help': [50],\n",
       "   'as': [35],\n",
       "   'principles': [31, 54],\n",
       "   'information': [20],\n",
       "   'networks.': [23],\n",
       "   'to': [6, 38, 49],\n",
       "   'basic': [30, 53]}},\n",
       " 'fos': [{'name': 'Telecommunications network', 'w': 0.45139},\n",
       "  {'name': 'Computer science', 'w': 0.45245},\n",
       "  {'name': 'Mind map', 'w': 0.5347},\n",
       "  {'name': 'Human–computer interaction', 'w': 0.47011},\n",
       "  {'name': 'Multimedia', 'w': 0.46629},\n",
       "  {'name': 'Empirical research', 'w': 0.49737},\n",
       "  {'name': 'Comprehension', 'w': 0.47042},\n",
       "  {'name': 'Communications protocol', 'w': 0.51907}],\n",
       " 'venue': {'raw': 'International Conference on Human-Computer Interaction',\n",
       "  'id': 1127419992,\n",
       "  'type': 'C'}}"
      ]
     },
     "execution_count": 4,
     "metadata": {},
     "output_type": "execute_result"
    }
   ],
   "source": [
    "dblp_cit[0]"
   ]
  },
  {
   "cell_type": "code",
   "execution_count": 6,
   "metadata": {},
   "outputs": [
    {
     "name": "stdout",
     "output_type": "stream",
     "text": [
      "dblp.v12.json                   mag_authors_pubs_cits_2017_iclr.pickle\r\n",
      "Filter2016data.ipynb            mag_features_2017_iclr.pickle\r\n",
      "kdd_papers.pickle               mag_papers.pickle\r\n",
      "kdd_title.pickle                read_mag_data.ipynb\r\n",
      "mag_augmented_2017_iclr.pickle  read_ms_kdd.ipynb\r\n"
     ]
    }
   ],
   "source": [
    "ls"
   ]
  },
  {
   "cell_type": "code",
   "execution_count": 7,
   "metadata": {},
   "outputs": [
    {
     "data": {
      "text/plain": [
       "4894081"
      ]
     },
     "execution_count": 7,
     "metadata": {},
     "output_type": "execute_result"
    }
   ],
   "source": [
    "len(dblp_cit)"
   ]
  },
  {
   "cell_type": "code",
   "execution_count": null,
   "metadata": {},
   "outputs": [],
   "source": []
  },
  {
   "cell_type": "code",
   "execution_count": 8,
   "metadata": {},
   "outputs": [],
   "source": [
    "papers_2017 = {}\n",
    "\n",
    "for inf in dblp_cit:\n",
    "    if \"year\" in inf and inf[\"year\"] and inf[\"year\"] == 2017:\n",
    "        try:\n",
    "            key = ''.join(filter(str.isalpha, inf[\"title\"]))\n",
    "            papers_2017[key] = inf\n",
    "        except Exception as ex:\n",
    "            print(ex)"
   ]
  },
  {
   "cell_type": "code",
   "execution_count": 9,
   "metadata": {},
   "outputs": [
    {
     "data": {
      "text/plain": [
       "313080"
      ]
     },
     "execution_count": 9,
     "metadata": {},
     "output_type": "execute_result"
    }
   ],
   "source": [
    "len(papers_2017ers_2017)"
   ]
  },
  {
   "cell_type": "code",
   "execution_count": null,
   "metadata": {},
   "outputs": [],
   "source": []
  }
 ],
 "metadata": {
  "kernelspec": {
   "display_name": "Python 3",
   "language": "python",
   "name": "python3"
  },
  "language_info": {
   "codemirror_mode": {
    "name": "ipython",
    "version": 3
   },
   "file_extension": ".py",
   "mimetype": "text/x-python",
   "name": "python",
   "nbconvert_exporter": "python",
   "pygments_lexer": "ipython3",
   "version": "3.6.8"
  }
 },
 "nbformat": 4,
 "nbformat_minor": 2
}
