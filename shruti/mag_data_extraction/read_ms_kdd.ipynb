{
 "cells": [
  {
   "cell_type": "code",
   "execution_count": 52,
   "metadata": {},
   "outputs": [],
   "source": [
    "import glob\n",
    "import zipfile\n",
    "import json\n",
    "import pandas as pd\n",
    "import pickle\n",
    "from pprint import pprint\n",
    "import pandas as pd\n",
    "from collections import defaultdict\n",
    "import re"
   ]
  },
  {
   "cell_type": "code",
   "execution_count": 2,
   "metadata": {},
   "outputs": [],
   "source": [
    "data_path = \"/opt/datasets/microsoft_kdd/\""
   ]
  },
  {
   "cell_type": "code",
   "execution_count": 3,
   "metadata": {},
   "outputs": [],
   "source": [
    "paper_file = data_path + \"Papers.txt\"\n",
    "\n",
    "paper_dict = {}\n",
    "title_dict = {}\n",
    "\n",
    "errs = []\n",
    "\n",
    "with open(paper_file, \"r\") as f:\n",
    "    for line in f:\n",
    "        try:\n",
    "            paper_elems = line.split(\"\\t\")\n",
    "            pid = paper_elems[0]\n",
    "            year = int(paper_elems[3])\n",
    "            normalized_title = ''.join(filter(str.isalpha, paper_elems[1]))\n",
    "            if year == \"2017\":\n",
    "                paper_dict[pid] = paper_elems[1:]\n",
    "                title_dict[normalized_title] = pid\n",
    "        except Exception as ex:\n",
    "            errs.appendd(line)"
   ]
  },
  {
   "cell_type": "code",
   "execution_count": 5,
   "metadata": {},
   "outputs": [],
   "source": [
    "with open(\"kdd_papers.pickle\", \"wb\") as t:\n",
    "    pickle.dump(paper_dict, t)\n",
    "\n",
    "with open(\"kdd_title.pickle\", \"wb\") as t:\n",
    "    pickle.dump(title_dict, t)"
   ]
  },
  {
   "cell_type": "code",
   "execution_count": 6,
   "metadata": {},
   "outputs": [
    {
     "data": {
      "text/plain": [
       "0"
      ]
     },
     "execution_count": 6,
     "metadata": {},
     "output_type": "execute_result"
    }
   ],
   "source": [
    "len(errs)"
   ]
  },
  {
   "cell_type": "code",
   "execution_count": 8,
   "metadata": {},
   "outputs": [
    {
     "data": {
      "text/plain": [
       "0"
      ]
     },
     "execution_count": 8,
     "metadata": {},
     "output_type": "execute_result"
    }
   ],
   "source": [
    "len(title_dict)"
   ]
  },
  {
   "cell_type": "code",
   "execution_count": null,
   "metadata": {},
   "outputs": [],
   "source": []
  },
  {
   "cell_type": "code",
   "execution_count": null,
   "metadata": {},
   "outputs": [],
   "source": []
  },
  {
   "cell_type": "code",
   "execution_count": null,
   "metadata": {},
   "outputs": [],
   "source": []
  },
  {
   "cell_type": "markdown",
   "metadata": {},
   "source": [
    "## Read dblp citation data"
   ]
  },
  {
   "cell_type": "code",
   "execution_count": 13,
   "metadata": {},
   "outputs": [
    {
     "name": "stdout",
     "output_type": "stream",
     "text": [
      "\u001b[0m\u001b[38;5;9m/home/singh_shruti/data/mag_aminer/dblp.v12.7z\u001b[0m\r\n"
     ]
    }
   ],
   "source": [
    "ls ~/data/mag_aminer/dblp.v12.7z"
   ]
  },
  {
   "cell_type": "code",
   "execution_count": 9,
   "metadata": {},
   "outputs": [],
   "source": [
    "import py7zr"
   ]
  },
  {
   "cell_type": "code",
   "execution_count": 14,
   "metadata": {},
   "outputs": [],
   "source": [
    "# Extracts the file in curent location unless path specified\n",
    "with py7zr.SevenZipFile('/home/singh_shruti/data/mag_aminer/dblp.v12.7z', mode='r') as z:\n",
    "    z.extractall()"
   ]
  },
  {
   "cell_type": "code",
   "execution_count": 22,
   "metadata": {},
   "outputs": [],
   "source": [
    "cp dblp.v12.json /home/singh_shruti/data/mag_aminer/"
   ]
  },
  {
   "cell_type": "code",
   "execution_count": null,
   "metadata": {},
   "outputs": [],
   "source": []
  },
  {
   "cell_type": "code",
   "execution_count": null,
   "metadata": {},
   "outputs": [],
   "source": []
  },
  {
   "cell_type": "code",
   "execution_count": 1,
   "metadata": {},
   "outputs": [],
   "source": [
    "import json"
   ]
  },
  {
   "cell_type": "code",
   "execution_count": 2,
   "metadata": {},
   "outputs": [],
   "source": [
    "with open(\"dblp.v12.json\", \"r\") as f:\n",
    "    dblp_cit = json.load(f)"
   ]
  },
  {
   "cell_type": "code",
   "execution_count": 3,
   "metadata": {},
   "outputs": [
    {
     "data": {
      "text/plain": [
       "list"
      ]
     },
     "execution_count": 3,
     "metadata": {},
     "output_type": "execute_result"
    }
   ],
   "source": [
    "type(dblp_cit)"
   ]
  },
  {
   "cell_type": "code",
   "execution_count": 4,
   "metadata": {},
   "outputs": [
    {
     "data": {
      "text/plain": [
       "{'id': 1091,\n",
       " 'authors': [{'name': 'Makoto Satoh',\n",
       "   'org': 'Shinshu University',\n",
       "   'id': 2312688602},\n",
       "  {'name': 'Ryo Muramatsu', 'org': 'Shinshu University', 'id': 2482909946},\n",
       "  {'name': 'Mizue Kayama', 'org': 'Shinshu University', 'id': 2128134587},\n",
       "  {'name': 'Kazunori Itoh', 'org': 'Shinshu University', 'id': 2101782692},\n",
       "  {'name': 'Masami Hashimoto', 'org': 'Shinshu University', 'id': 2114054191},\n",
       "  {'name': 'Makoto Otani', 'org': 'Shinshu University', 'id': 1989208940},\n",
       "  {'name': 'Michio Shimizu',\n",
       "   'org': 'Nagano Prefectural College',\n",
       "   'id': 2134989941},\n",
       "  {'name': 'Masahiko Sugimoto',\n",
       "   'org': 'Takushoku University, Hokkaido Junior College',\n",
       "   'id': 2307479915}],\n",
       " 'title': 'Preliminary Design of a Network Protocol Learning Tool Based on the Comprehension of High School Students: Design by an Empirical Study Using a Simple Mind Map',\n",
       " 'year': 2013,\n",
       " 'n_citation': 1,\n",
       " 'page_start': '89',\n",
       " 'page_end': '93',\n",
       " 'doc_type': 'Conference',\n",
       " 'publisher': 'Springer, Berlin, Heidelberg',\n",
       " 'volume': '',\n",
       " 'issue': '',\n",
       " 'doi': '10.1007/978-3-642-39476-8_19',\n",
       " 'references': [2005687710, 2018037215],\n",
       " 'indexed_abstract': {'IndexLength': 58,\n",
       "  'InvertedIndex': {'tool.': [42],\n",
       "   'study': [4],\n",
       "   'aim': [37],\n",
       "   'purpose': [1],\n",
       "   'scientific': [17],\n",
       "   'for': [11],\n",
       "   'aspects': [18],\n",
       "   'students': [14, 46],\n",
       "   'focus': [27],\n",
       "   'hands-on': [47],\n",
       "   'learning': [9, 41],\n",
       "   'experience': [48],\n",
       "   'our': [40],\n",
       "   'we': [26],\n",
       "   'network': [33, 56],\n",
       "   'The': [0],\n",
       "   'More': [24],\n",
       "   'high': [12],\n",
       "   'protocols.': [57],\n",
       "   'school': [13],\n",
       "   'and': [21],\n",
       "   'of': [2, 19, 32, 55],\n",
       "   'communication': [22],\n",
       "   'protocols': [34],\n",
       "   'gives': [45],\n",
       "   'on': [28],\n",
       "   'a': [8],\n",
       "   'studying': [15],\n",
       "   'specifically,': [25],\n",
       "   'this': [3],\n",
       "   'understand': [51],\n",
       "   'is': [5],\n",
       "   'develop': [7, 39],\n",
       "   'Our': [43],\n",
       "   'tool': [10, 44],\n",
       "   'the': [16, 29, 36, 52],\n",
       "   'help': [50],\n",
       "   'as': [35],\n",
       "   'principles': [31, 54],\n",
       "   'information': [20],\n",
       "   'networks.': [23],\n",
       "   'to': [6, 38, 49],\n",
       "   'basic': [30, 53]}},\n",
       " 'fos': [{'name': 'Telecommunications network', 'w': 0.45139},\n",
       "  {'name': 'Computer science', 'w': 0.45245},\n",
       "  {'name': 'Mind map', 'w': 0.5347},\n",
       "  {'name': 'Human–computer interaction', 'w': 0.47011},\n",
       "  {'name': 'Multimedia', 'w': 0.46629},\n",
       "  {'name': 'Empirical research', 'w': 0.49737},\n",
       "  {'name': 'Comprehension', 'w': 0.47042},\n",
       "  {'name': 'Communications protocol', 'w': 0.51907}],\n",
       " 'venue': {'raw': 'International Conference on Human-Computer Interaction',\n",
       "  'id': 1127419992,\n",
       "  'type': 'C'}}"
      ]
     },
     "execution_count": 4,
     "metadata": {},
     "output_type": "execute_result"
    }
   ],
   "source": [
    "dblp_cit[0]"
   ]
  },
  {
   "cell_type": "code",
   "execution_count": 6,
   "metadata": {},
   "outputs": [
    {
     "name": "stdout",
     "output_type": "stream",
     "text": [
      "dblp.v12.json                   mag_authors_pubs_cits_2017_iclr.pickle\r\n",
      "Filter2016data.ipynb            mag_features_2017_iclr.pickle\r\n",
      "kdd_papers.pickle               mag_papers.pickle\r\n",
      "kdd_title.pickle                read_mag_data.ipynb\r\n",
      "mag_augmented_2017_iclr.pickle  read_ms_kdd.ipynb\r\n"
     ]
    }
   ],
   "source": [
    "ls"
   ]
  },
  {
   "cell_type": "code",
   "execution_count": 7,
   "metadata": {},
   "outputs": [
    {
     "data": {
      "text/plain": [
       "4894081"
      ]
     },
     "execution_count": 7,
     "metadata": {},
     "output_type": "execute_result"
    }
   ],
   "source": [
    "len(dblp_cit)"
   ]
  },
  {
   "cell_type": "code",
   "execution_count": null,
   "metadata": {},
   "outputs": [],
   "source": []
  },
  {
   "cell_type": "code",
   "execution_count": 19,
   "metadata": {},
   "outputs": [],
   "source": [
    "papers_2017 = {}\n",
    "\n",
    "for inf in dblp_cit:\n",
    "    if \"year\" in inf and inf[\"year\"] and inf[\"year\"] == 2017:\n",
    "        try:\n",
    "            lowercased = inf[\"title\"].lower()\n",
    "            key = ''.join(filter(str.isalpha, lowercased))\n",
    "            papers_2017[key] = inf\n",
    "        except Exception as ex:\n",
    "            print(ex)"
   ]
  },
  {
   "cell_type": "code",
   "execution_count": 20,
   "metadata": {},
   "outputs": [
    {
     "data": {
      "text/plain": [
       "308588"
      ]
     },
     "execution_count": 20,
     "metadata": {},
     "output_type": "execute_result"
    }
   ],
   "source": [
    "len(papers_2017)"
   ]
  },
  {
   "cell_type": "code",
   "execution_count": 2,
   "metadata": {},
   "outputs": [],
   "source": [
    "data_raw = pd.read_pickle('../features/data_features_csv-2017.pkl')\n",
    "data = data_raw[[\"id\", \"title\", \"label\", \"authors\"]]\n",
    "org_papers = data.to_dict('index')"
   ]
  },
  {
   "cell_type": "code",
   "execution_count": 22,
   "metadata": {},
   "outputs": [],
   "source": [
    "found = 0\n",
    "\n",
    "for k,v in org_papers.items():\n",
    "    t = v[\"title\"].lower()\n",
    "    t = ''.join(filter(str.isalpha, t))\n",
    "    if t in papers_2017:\n",
    "        org_papers[k][\"found\"] = True\n",
    "        org_papers[k][\"dblp_data\"] = papers_2017[t]\n",
    "        found += 1\n",
    "    else:\n",
    "        org_papers[k][\"found\"] = False"
   ]
  },
  {
   "cell_type": "code",
   "execution_count": 24,
   "metadata": {},
   "outputs": [
    {
     "data": {
      "text/plain": [
       "(490, 386)"
      ]
     },
     "execution_count": 24,
     "metadata": {},
     "output_type": "execute_result"
    }
   ],
   "source": [
    "len(org_papers), found"
   ]
  },
  {
   "cell_type": "code",
   "execution_count": 30,
   "metadata": {},
   "outputs": [],
   "source": [
    "refs = 0\n",
    "\n",
    "for k, v in org_papers.items():\n",
    "    if v[\"found\"] and \"references\" in v[\"dblp_data\"] and v[\"dblp_data\"][\"references\"]:        \n",
    "        refs += len(v[\"dblp_data\"][\"references\"])"
   ]
  },
  {
   "cell_type": "code",
   "execution_count": 31,
   "metadata": {},
   "outputs": [
    {
     "data": {
      "text/plain": [
       "3207"
      ]
     },
     "execution_count": 31,
     "metadata": {},
     "output_type": "execute_result"
    }
   ],
   "source": [
    "refs #for 177"
   ]
  },
  {
   "cell_type": "code",
   "execution_count": 32,
   "metadata": {},
   "outputs": [
    {
     "data": {
      "text/plain": [
       "18.11864406779661"
      ]
     },
     "execution_count": 32,
     "metadata": {},
     "output_type": "execute_result"
    }
   ],
   "source": [
    "3207/177"
   ]
  },
  {
   "cell_type": "code",
   "execution_count": null,
   "metadata": {},
   "outputs": [],
   "source": []
  },
  {
   "cell_type": "code",
   "execution_count": null,
   "metadata": {},
   "outputs": [],
   "source": []
  },
  {
   "cell_type": "code",
   "execution_count": null,
   "metadata": {},
   "outputs": [],
   "source": []
  },
  {
   "cell_type": "code",
   "execution_count": null,
   "metadata": {},
   "outputs": [],
   "source": []
  },
  {
   "cell_type": "markdown",
   "metadata": {},
   "source": [
    "### Try external APIs"
   ]
  },
  {
   "cell_type": "code",
   "execution_count": 3,
   "metadata": {},
   "outputs": [
    {
     "data": {
      "text/plain": [
       "490"
      ]
     },
     "execution_count": 3,
     "metadata": {},
     "output_type": "execute_result"
    }
   ],
   "source": [
    "len(org_papers)"
   ]
  },
  {
   "cell_type": "code",
   "execution_count": 4,
   "metadata": {},
   "outputs": [
    {
     "data": {
      "text/plain": [
       "['HJWHIKqgl', 'SyK00v5xx', 'Hkg4TI9xl', 'Hk1iOLcle', 'H178hw9ex']"
      ]
     },
     "execution_count": 4,
     "metadata": {},
     "output_type": "execute_result"
    }
   ],
   "source": [
    "list(org_papers.keys())[0:5]"
   ]
  },
  {
   "cell_type": "code",
   "execution_count": 5,
   "metadata": {},
   "outputs": [
    {
     "data": {
      "text/plain": [
       "{'id': 'HJWHIKqgl',\n",
       " 'title': 'Generative Models and Model Criticism via Optimized Maximum Mean Discrepancy',\n",
       " 'label': 'Accept',\n",
       " 'authors': ['Dougal J. Sutherland',\n",
       "  'Hsiao-Yu Tung',\n",
       "  'Heiko Strathmann',\n",
       "  'Soumyajit De',\n",
       "  'Aaditya Ramdas',\n",
       "  'Alex Smola',\n",
       "  'Arthur Gretton']}"
      ]
     },
     "execution_count": 5,
     "metadata": {},
     "output_type": "execute_result"
    }
   ],
   "source": [
    "org_papers['HJWHIKqgl']"
   ]
  },
  {
   "cell_type": "code",
   "execution_count": 6,
   "metadata": {},
   "outputs": [],
   "source": [
    "all_authors = defaultdict(int)\n",
    "\n",
    "count_auths = 0\n",
    "\n",
    "for k,v in org_papers.items():\n",
    "    if \"authors\" in v:\n",
    "        count_auths += len(v[\"authors\"])\n",
    "        \n",
    "        for a in v[\"authors\"]:\n",
    "            all_authors[a] += 1"
   ]
  },
  {
   "cell_type": "code",
   "execution_count": 7,
   "metadata": {},
   "outputs": [
    {
     "data": {
      "text/plain": [
       "1809"
      ]
     },
     "execution_count": 7,
     "metadata": {},
     "output_type": "execute_result"
    }
   ],
   "source": [
    "count_auths"
   ]
  },
  {
   "cell_type": "code",
   "execution_count": 8,
   "metadata": {},
   "outputs": [
    {
     "data": {
      "text/plain": [
       "1425"
      ]
     },
     "execution_count": 8,
     "metadata": {},
     "output_type": "execute_result"
    }
   ],
   "source": [
    "len(all_authors)"
   ]
  },
  {
   "cell_type": "code",
   "execution_count": 9,
   "metadata": {},
   "outputs": [],
   "source": [
    "import scholarly"
   ]
  },
  {
   "cell_type": "code",
   "execution_count": 40,
   "metadata": {},
   "outputs": [],
   "source": [
    "x = scholarly.search_author('Dougal Sutherland, Toyota Technological')"
   ]
  },
  {
   "cell_type": "code",
   "execution_count": 29,
   "metadata": {},
   "outputs": [
    {
     "data": {
      "text/plain": [
       "generator"
      ]
     },
     "execution_count": 29,
     "metadata": {},
     "output_type": "execute_result"
    }
   ],
   "source": [
    "type(x)"
   ]
  },
  {
   "cell_type": "code",
   "execution_count": 41,
   "metadata": {},
   "outputs": [],
   "source": [
    "p = []\n",
    "for i in x:\n",
    "    p.append(i)"
   ]
  },
  {
   "cell_type": "code",
   "execution_count": 39,
   "metadata": {},
   "outputs": [
    {
     "data": {
      "text/plain": [
       "0"
      ]
     },
     "execution_count": 39,
     "metadata": {},
     "output_type": "execute_result"
    }
   ],
   "source": [
    "len(p)"
   ]
  },
  {
   "cell_type": "code",
   "execution_count": 43,
   "metadata": {},
   "outputs": [
    {
     "data": {
      "text/plain": [
       "729"
      ]
     },
     "execution_count": 43,
     "metadata": {},
     "output_type": "execute_result"
    }
   ],
   "source": [
    "p[0].citedby"
   ]
  },
  {
   "cell_type": "code",
   "execution_count": 46,
   "metadata": {},
   "outputs": [],
   "source": [
    "sample_auth = p[0].fill()"
   ]
  },
  {
   "cell_type": "code",
   "execution_count": 49,
   "metadata": {},
   "outputs": [
    {
     "data": {
      "text/plain": [
       "36"
      ]
     },
     "execution_count": 49,
     "metadata": {},
     "output_type": "execute_result"
    }
   ],
   "source": [
    "len(sample_auth.publications)"
   ]
  },
  {
   "cell_type": "code",
   "execution_count": 62,
   "metadata": {},
   "outputs": [
    {
     "name": "stdout",
     "output_type": "stream",
     "text": [
      "{'_filled': False,\n",
      " 'affiliation': 'Professor of Vision Science, UC Berkeley',\n",
      " 'citedby': 20174,\n",
      " 'email': '@berkeley.edu',\n",
      " 'id': 'Smr99uEAAAAJ',\n",
      " 'interests': ['vision science', 'psychology', 'human factors', 'neuroscience'],\n",
      " 'name': 'Martin Banks',\n",
      " 'url_picture': 'https://scholar.google.com/citations?view_op=medium_photo&user=Smr99uEAAAAJ'}\n"
     ]
    }
   ],
   "source": [
    "print(p[0])"
   ]
  },
  {
   "cell_type": "code",
   "execution_count": null,
   "metadata": {},
   "outputs": [],
   "source": []
  },
  {
   "cell_type": "code",
   "execution_count": 54,
   "metadata": {},
   "outputs": [
    {
     "data": {
      "text/plain": [
       "'Dougal Sutherland'"
      ]
     },
     "execution_count": 54,
     "metadata": {},
     "output_type": "execute_result"
    }
   ],
   "source": [
    "p = re.compile(\" [A-Z]\\.? \")\n",
    "p.sub(\" \", \"Dougal J Sutherland\")"
   ]
  },
  {
   "cell_type": "code",
   "execution_count": null,
   "metadata": {},
   "outputs": [],
   "source": []
  },
  {
   "cell_type": "code",
   "execution_count": null,
   "metadata": {},
   "outputs": [],
   "source": []
  },
  {
   "cell_type": "markdown",
   "metadata": {},
   "source": [
    "### Get info for all authors"
   ]
  },
  {
   "cell_type": "code",
   "execution_count": null,
   "metadata": {},
   "outputs": [
    {
     "name": "stdout",
     "output_type": "stream",
     "text": [
      "Done out of 1425 is: 250\n",
      "Done out of 1425 is: 260\n",
      "Done out of 1425 is: 270\n",
      "Done out of 1425 is: 280\n",
      "Done out of 1425 is: 290\n",
      "Done out of 1425 is: 300\n",
      "Done out of 1425 is: 310\n",
      "Done out of 1425 is: 320\n",
      "Done out of 1425 is: 330\n",
      "Done out of 1425 is: 340\n",
      "Done out of 1425 is: 350\n",
      "Done out of 1425 is: 360\n",
      "Done out of 1425 is: 370\n",
      "Done out of 1425 is: 380\n",
      "Done out of 1425 is: 390\n",
      "Done out of 1425 is: 400\n",
      "Done out of 1425 is: 410\n",
      "Done out of 1425 is: 420\n",
      "Done out of 1425 is: 430\n",
      "Done out of 1425 is: 440\n",
      "Done out of 1425 is: 450\n",
      "Done out of 1425 is: 460\n",
      "Done out of 1425 is: 470\n",
      "Done out of 1425 is: 480\n",
      "Done out of 1425 is: 490\n",
      "Done out of 1425 is: 500\n",
      "Done out of 1425 is: 510\n",
      "Done out of 1425 is: 520\n",
      "Done out of 1425 is: 530\n"
     ]
    }
   ],
   "source": [
    "# author_info = {}\n",
    "\n",
    "count = len(author_info)\n",
    "p = re.compile(\" [A-Z]\\.? \")\n",
    "\n",
    "for a in par1:\n",
    "    if not a in author_info:\n",
    "        if count % 10 == 0:\n",
    "            print(\"Done out of {} is: {}\".format(len(all_authors), count))\n",
    "        auth_candidates = []\n",
    "        try:\n",
    "            c = scholarly.search_author(a)\n",
    "            for i in c:\n",
    "                auth_candidates.append((i, i.fill()))\n",
    "\n",
    "            if not auth_candidates:\n",
    "                # no author found\n",
    "                a_clean = p.sub(\" \", a)\n",
    "                c = scholarly.search_author(a_clean)\n",
    "                for i in c:\n",
    "                    auth_candidates.append((i, i.fill()))\n",
    "\n",
    "            author_info[a] = auth_candidates\n",
    "        except Exception as ex:\n",
    "            print(\"Move on\")\n",
    "        count += 1"
   ]
  },
  {
   "cell_type": "code",
   "execution_count": 65,
   "metadata": {},
   "outputs": [],
   "source": [
    "with open(\"author_info_scholar.pickle\", \"wb\") as f:\n",
    "    pickle.dump(author_info, f)"
   ]
  },
  {
   "cell_type": "code",
   "execution_count": 66,
   "metadata": {},
   "outputs": [
    {
     "data": {
      "text/plain": [
       "244"
      ]
     },
     "execution_count": 66,
     "metadata": {},
     "output_type": "execute_result"
    }
   ],
   "source": [
    "len(author_info)"
   ]
  },
  {
   "cell_type": "code",
   "execution_count": 68,
   "metadata": {},
   "outputs": [
    {
     "data": {
      "text/plain": [
       "1425"
      ]
     },
     "execution_count": 68,
     "metadata": {},
     "output_type": "execute_result"
    }
   ],
   "source": [
    "len(list(all_authors.keys()))"
   ]
  },
  {
   "cell_type": "code",
   "execution_count": 69,
   "metadata": {},
   "outputs": [],
   "source": [
    "list_authors = list(all_authors.keys())\n",
    "par1 = list_authors[0:700]\n",
    "par2 = list_authors[700:]"
   ]
  },
  {
   "cell_type": "code",
   "execution_count": null,
   "metadata": {},
   "outputs": [],
   "source": []
  }
 ],
 "metadata": {
  "kernelspec": {
   "display_name": "Python 3",
   "language": "python",
   "name": "python3"
  },
  "language_info": {
   "codemirror_mode": {
    "name": "ipython",
    "version": 3
   },
   "file_extension": ".py",
   "mimetype": "text/x-python",
   "name": "python",
   "nbconvert_exporter": "python",
   "pygments_lexer": "ipython3",
   "version": "3.6.8"
  }
 },
 "nbformat": 4,
 "nbformat_minor": 2
}
