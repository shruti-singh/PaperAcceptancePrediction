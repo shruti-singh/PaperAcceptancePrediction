{
 "cells": [
  {
   "cell_type": "code",
   "execution_count": 1,
   "metadata": {},
   "outputs": [],
   "source": [
    "import glob\n",
    "import zipfile\n",
    "import json\n",
    "import pandas as pd\n",
    "import pickle\n",
    "from pprint import pprint"
   ]
  },
  {
   "cell_type": "code",
   "execution_count": 3,
   "metadata": {},
   "outputs": [],
   "source": [
    "data_path = \"/opt/datasets/microsoft_kdd/\""
   ]
  },
  {
   "cell_type": "code",
   "execution_count": null,
   "metadata": {},
   "outputs": [],
   "source": [
    "paper_file = data_path + \"Papers.txt\"\n",
    "\n",
    "paper_dict = {}\n",
    "title_dict = {}\n",
    "\n",
    "with open(paper_file, \"r\") as f:\n",
    "    for line in f:\n",
    "        paper_elems = line.split(\" \")\n",
    "        pid = paper_elems[0]\n",
    "        \n",
    "        normalized_title = ''.join(filter(str.isalpha, paper_elems[1]))\n",
    "        \n",
    "        paper_dict[pid] = paper_elems[1:]\n",
    "        title_dict[normalized_title] = pid"
   ]
  },
  {
   "cell_type": "code",
   "execution_count": null,
   "metadata": {},
   "outputs": [],
   "source": []
  }
 ],
 "metadata": {
  "kernelspec": {
   "display_name": "Python 3",
   "language": "python",
   "name": "python3"
  },
  "language_info": {
   "codemirror_mode": {
    "name": "ipython",
    "version": 3
   },
   "file_extension": ".py",
   "mimetype": "text/x-python",
   "name": "python",
   "nbconvert_exporter": "python",
   "pygments_lexer": "ipython3",
   "version": "3.6.8"
  }
 },
 "nbformat": 4,
 "nbformat_minor": 2
}
