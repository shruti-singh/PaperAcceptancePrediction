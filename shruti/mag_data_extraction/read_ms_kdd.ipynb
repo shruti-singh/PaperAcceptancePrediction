{
 "cells": [
  {
   "cell_type": "code",
   "execution_count": 1,
   "metadata": {},
   "outputs": [],
   "source": [
    "import glob\n",
    "import zipfile\n",
    "import json\n",
    "import pandas as pd\n",
    "import pickle\n",
    "from pprint import pprint\n",
    "import pandas as pd\n",
    "from collections import defaultdict\n",
    "import re\n",
    "import scholarly"
   ]
  },
  {
   "cell_type": "code",
   "execution_count": 2,
   "metadata": {},
   "outputs": [],
   "source": [
    "data_path = \"/opt/datasets/microsoft_kdd/\""
   ]
  },
  {
   "cell_type": "code",
   "execution_count": 3,
   "metadata": {},
   "outputs": [],
   "source": [
    "paper_file = data_path + \"Papers.txt\"\n",
    "\n",
    "paper_dict = {}\n",
    "title_dict = {}\n",
    "\n",
    "errs = []\n",
    "\n",
    "with open(paper_file, \"r\") as f:\n",
    "    for line in f:\n",
    "        try:\n",
    "            paper_elems = line.split(\"\\t\")\n",
    "            pid = paper_elems[0]\n",
    "            year = int(paper_elems[3])\n",
    "            normalized_title = ''.join(filter(str.isalpha, paper_elems[1]))\n",
    "            if year == \"2017\":\n",
    "                paper_dict[pid] = paper_elems[1:]\n",
    "                title_dict[normalized_title] = pid\n",
    "        except Exception as ex:\n",
    "            errs.appendd(line)"
   ]
  },
  {
   "cell_type": "code",
   "execution_count": 5,
   "metadata": {},
   "outputs": [],
   "source": [
    "with open(\"kdd_papers.pickle\", \"wb\") as t:\n",
    "    pickle.dump(paper_dict, t)\n",
    "\n",
    "with open(\"kdd_title.pickle\", \"wb\") as t:\n",
    "    pickle.dump(title_dict, t)"
   ]
  },
  {
   "cell_type": "code",
   "execution_count": 6,
   "metadata": {},
   "outputs": [
    {
     "data": {
      "text/plain": [
       "0"
      ]
     },
     "execution_count": 6,
     "metadata": {},
     "output_type": "execute_result"
    }
   ],
   "source": [
    "len(errs)"
   ]
  },
  {
   "cell_type": "code",
   "execution_count": 8,
   "metadata": {},
   "outputs": [
    {
     "data": {
      "text/plain": [
       "0"
      ]
     },
     "execution_count": 8,
     "metadata": {},
     "output_type": "execute_result"
    }
   ],
   "source": [
    "len(title_dict)"
   ]
  },
  {
   "cell_type": "code",
   "execution_count": null,
   "metadata": {},
   "outputs": [],
   "source": []
  },
  {
   "cell_type": "code",
   "execution_count": null,
   "metadata": {},
   "outputs": [],
   "source": []
  },
  {
   "cell_type": "code",
   "execution_count": null,
   "metadata": {},
   "outputs": [],
   "source": []
  },
  {
   "cell_type": "markdown",
   "metadata": {},
   "source": [
    "## Read dblp citation data"
   ]
  },
  {
   "cell_type": "code",
   "execution_count": 13,
   "metadata": {},
   "outputs": [
    {
     "name": "stdout",
     "output_type": "stream",
     "text": [
      "\u001b[0m\u001b[38;5;9m/home/singh_shruti/data/mag_aminer/dblp.v12.7z\u001b[0m\r\n"
     ]
    }
   ],
   "source": [
    "ls ~/data/mag_aminer/dblp.v12.7z"
   ]
  },
  {
   "cell_type": "code",
   "execution_count": 9,
   "metadata": {},
   "outputs": [],
   "source": [
    "import py7zr"
   ]
  },
  {
   "cell_type": "code",
   "execution_count": 14,
   "metadata": {},
   "outputs": [],
   "source": [
    "# Extracts the file in curent location unless path specified\n",
    "with py7zr.SevenZipFile('/home/singh_shruti/data/mag_aminer/dblp.v12.7z', mode='r') as z:\n",
    "    z.extractall()"
   ]
  },
  {
   "cell_type": "code",
   "execution_count": 22,
   "metadata": {},
   "outputs": [],
   "source": [
    "cp dblp.v12.json /home/singh_shruti/data/mag_aminer/"
   ]
  },
  {
   "cell_type": "code",
   "execution_count": null,
   "metadata": {},
   "outputs": [],
   "source": []
  },
  {
   "cell_type": "code",
   "execution_count": null,
   "metadata": {},
   "outputs": [],
   "source": []
  },
  {
   "cell_type": "code",
   "execution_count": 1,
   "metadata": {},
   "outputs": [],
   "source": [
    "import json"
   ]
  },
  {
   "cell_type": "code",
   "execution_count": 2,
   "metadata": {},
   "outputs": [],
   "source": [
    "with open(\"dblp.v12.json\", \"r\") as f:\n",
    "    dblp_cit = json.load(f)"
   ]
  },
  {
   "cell_type": "code",
   "execution_count": 3,
   "metadata": {},
   "outputs": [
    {
     "data": {
      "text/plain": [
       "list"
      ]
     },
     "execution_count": 3,
     "metadata": {},
     "output_type": "execute_result"
    }
   ],
   "source": [
    "type(dblp_cit)"
   ]
  },
  {
   "cell_type": "code",
   "execution_count": 4,
   "metadata": {},
   "outputs": [
    {
     "data": {
      "text/plain": [
       "{'id': 1091,\n",
       " 'authors': [{'name': 'Makoto Satoh',\n",
       "   'org': 'Shinshu University',\n",
       "   'id': 2312688602},\n",
       "  {'name': 'Ryo Muramatsu', 'org': 'Shinshu University', 'id': 2482909946},\n",
       "  {'name': 'Mizue Kayama', 'org': 'Shinshu University', 'id': 2128134587},\n",
       "  {'name': 'Kazunori Itoh', 'org': 'Shinshu University', 'id': 2101782692},\n",
       "  {'name': 'Masami Hashimoto', 'org': 'Shinshu University', 'id': 2114054191},\n",
       "  {'name': 'Makoto Otani', 'org': 'Shinshu University', 'id': 1989208940},\n",
       "  {'name': 'Michio Shimizu',\n",
       "   'org': 'Nagano Prefectural College',\n",
       "   'id': 2134989941},\n",
       "  {'name': 'Masahiko Sugimoto',\n",
       "   'org': 'Takushoku University, Hokkaido Junior College',\n",
       "   'id': 2307479915}],\n",
       " 'title': 'Preliminary Design of a Network Protocol Learning Tool Based on the Comprehension of High School Students: Design by an Empirical Study Using a Simple Mind Map',\n",
       " 'year': 2013,\n",
       " 'n_citation': 1,\n",
       " 'page_start': '89',\n",
       " 'page_end': '93',\n",
       " 'doc_type': 'Conference',\n",
       " 'publisher': 'Springer, Berlin, Heidelberg',\n",
       " 'volume': '',\n",
       " 'issue': '',\n",
       " 'doi': '10.1007/978-3-642-39476-8_19',\n",
       " 'references': [2005687710, 2018037215],\n",
       " 'indexed_abstract': {'IndexLength': 58,\n",
       "  'InvertedIndex': {'tool.': [42],\n",
       "   'study': [4],\n",
       "   'aim': [37],\n",
       "   'purpose': [1],\n",
       "   'scientific': [17],\n",
       "   'for': [11],\n",
       "   'aspects': [18],\n",
       "   'students': [14, 46],\n",
       "   'focus': [27],\n",
       "   'hands-on': [47],\n",
       "   'learning': [9, 41],\n",
       "   'experience': [48],\n",
       "   'our': [40],\n",
       "   'we': [26],\n",
       "   'network': [33, 56],\n",
       "   'The': [0],\n",
       "   'More': [24],\n",
       "   'high': [12],\n",
       "   'protocols.': [57],\n",
       "   'school': [13],\n",
       "   'and': [21],\n",
       "   'of': [2, 19, 32, 55],\n",
       "   'communication': [22],\n",
       "   'protocols': [34],\n",
       "   'gives': [45],\n",
       "   'on': [28],\n",
       "   'a': [8],\n",
       "   'studying': [15],\n",
       "   'specifically,': [25],\n",
       "   'this': [3],\n",
       "   'understand': [51],\n",
       "   'is': [5],\n",
       "   'develop': [7, 39],\n",
       "   'Our': [43],\n",
       "   'tool': [10, 44],\n",
       "   'the': [16, 29, 36, 52],\n",
       "   'help': [50],\n",
       "   'as': [35],\n",
       "   'principles': [31, 54],\n",
       "   'information': [20],\n",
       "   'networks.': [23],\n",
       "   'to': [6, 38, 49],\n",
       "   'basic': [30, 53]}},\n",
       " 'fos': [{'name': 'Telecommunications network', 'w': 0.45139},\n",
       "  {'name': 'Computer science', 'w': 0.45245},\n",
       "  {'name': 'Mind map', 'w': 0.5347},\n",
       "  {'name': 'Human–computer interaction', 'w': 0.47011},\n",
       "  {'name': 'Multimedia', 'w': 0.46629},\n",
       "  {'name': 'Empirical research', 'w': 0.49737},\n",
       "  {'name': 'Comprehension', 'w': 0.47042},\n",
       "  {'name': 'Communications protocol', 'w': 0.51907}],\n",
       " 'venue': {'raw': 'International Conference on Human-Computer Interaction',\n",
       "  'id': 1127419992,\n",
       "  'type': 'C'}}"
      ]
     },
     "execution_count": 4,
     "metadata": {},
     "output_type": "execute_result"
    }
   ],
   "source": [
    "dblp_cit[0]"
   ]
  },
  {
   "cell_type": "code",
   "execution_count": 6,
   "metadata": {},
   "outputs": [
    {
     "name": "stdout",
     "output_type": "stream",
     "text": [
      "dblp.v12.json                   mag_authors_pubs_cits_2017_iclr.pickle\r\n",
      "Filter2016data.ipynb            mag_features_2017_iclr.pickle\r\n",
      "kdd_papers.pickle               mag_papers.pickle\r\n",
      "kdd_title.pickle                read_mag_data.ipynb\r\n",
      "mag_augmented_2017_iclr.pickle  read_ms_kdd.ipynb\r\n"
     ]
    }
   ],
   "source": [
    "ls"
   ]
  },
  {
   "cell_type": "code",
   "execution_count": 7,
   "metadata": {},
   "outputs": [
    {
     "data": {
      "text/plain": [
       "4894081"
      ]
     },
     "execution_count": 7,
     "metadata": {},
     "output_type": "execute_result"
    }
   ],
   "source": [
    "len(dblp_cit)"
   ]
  },
  {
   "cell_type": "code",
   "execution_count": null,
   "metadata": {},
   "outputs": [],
   "source": []
  },
  {
   "cell_type": "code",
   "execution_count": 19,
   "metadata": {},
   "outputs": [],
   "source": [
    "papers_2017 = {}\n",
    "\n",
    "for inf in dblp_cit:\n",
    "    if \"year\" in inf and inf[\"year\"] and inf[\"year\"] == 2017:\n",
    "        try:\n",
    "            lowercased = inf[\"title\"].lower()\n",
    "            key = ''.join(filter(str.isalpha, lowercased))\n",
    "            papers_2017[key] = inf\n",
    "        except Exception as ex:\n",
    "            print(ex)"
   ]
  },
  {
   "cell_type": "code",
   "execution_count": 20,
   "metadata": {},
   "outputs": [
    {
     "data": {
      "text/plain": [
       "308588"
      ]
     },
     "execution_count": 20,
     "metadata": {},
     "output_type": "execute_result"
    }
   ],
   "source": [
    "len(papers_2017)"
   ]
  },
  {
   "cell_type": "code",
   "execution_count": 2,
   "metadata": {},
   "outputs": [],
   "source": [
    "data_raw = pd.read_pickle('../features/data_features_csv-2017.pkl')\n",
    "data = data_raw[[\"id\", \"title\", \"label\", \"authors\"]]\n",
    "org_papers = data.to_dict('index')"
   ]
  },
  {
   "cell_type": "code",
   "execution_count": 22,
   "metadata": {},
   "outputs": [],
   "source": [
    "found = 0\n",
    "\n",
    "for k,v in org_papers.items():\n",
    "    t = v[\"title\"].lower()\n",
    "    t = ''.join(filter(str.isalpha, t))\n",
    "    if t in papers_2017:\n",
    "        org_papers[k][\"found\"] = True\n",
    "        org_papers[k][\"dblp_data\"] = papers_2017[t]\n",
    "        found += 1\n",
    "    else:\n",
    "        org_papers[k][\"found\"] = False"
   ]
  },
  {
   "cell_type": "code",
   "execution_count": 24,
   "metadata": {},
   "outputs": [
    {
     "data": {
      "text/plain": [
       "(490, 386)"
      ]
     },
     "execution_count": 24,
     "metadata": {},
     "output_type": "execute_result"
    }
   ],
   "source": [
    "len(org_papers), found"
   ]
  },
  {
   "cell_type": "code",
   "execution_count": 30,
   "metadata": {},
   "outputs": [],
   "source": [
    "refs = 0\n",
    "\n",
    "for k, v in org_papers.items():\n",
    "    if v[\"found\"] and \"references\" in v[\"dblp_data\"] and v[\"dblp_data\"][\"references\"]:        \n",
    "        refs += len(v[\"dblp_data\"][\"references\"])"
   ]
  },
  {
   "cell_type": "code",
   "execution_count": 31,
   "metadata": {},
   "outputs": [
    {
     "data": {
      "text/plain": [
       "3207"
      ]
     },
     "execution_count": 31,
     "metadata": {},
     "output_type": "execute_result"
    }
   ],
   "source": [
    "refs #for 177"
   ]
  },
  {
   "cell_type": "code",
   "execution_count": 32,
   "metadata": {},
   "outputs": [
    {
     "data": {
      "text/plain": [
       "18.11864406779661"
      ]
     },
     "execution_count": 32,
     "metadata": {},
     "output_type": "execute_result"
    }
   ],
   "source": [
    "3207/177"
   ]
  },
  {
   "cell_type": "code",
   "execution_count": null,
   "metadata": {},
   "outputs": [],
   "source": []
  },
  {
   "cell_type": "code",
   "execution_count": null,
   "metadata": {},
   "outputs": [],
   "source": []
  },
  {
   "cell_type": "code",
   "execution_count": null,
   "metadata": {},
   "outputs": [],
   "source": []
  },
  {
   "cell_type": "code",
   "execution_count": null,
   "metadata": {},
   "outputs": [],
   "source": []
  },
  {
   "cell_type": "markdown",
   "metadata": {},
   "source": [
    "### Try external APIs"
   ]
  },
  {
   "cell_type": "code",
   "execution_count": 3,
   "metadata": {},
   "outputs": [
    {
     "data": {
      "text/plain": [
       "490"
      ]
     },
     "execution_count": 3,
     "metadata": {},
     "output_type": "execute_result"
    }
   ],
   "source": [
    "len(org_papers)"
   ]
  },
  {
   "cell_type": "code",
   "execution_count": 4,
   "metadata": {},
   "outputs": [
    {
     "data": {
      "text/plain": [
       "['HJWHIKqgl', 'SyK00v5xx', 'Hkg4TI9xl', 'Hk1iOLcle', 'H178hw9ex']"
      ]
     },
     "execution_count": 4,
     "metadata": {},
     "output_type": "execute_result"
    }
   ],
   "source": [
    "list(org_papers.keys())[0:5]"
   ]
  },
  {
   "cell_type": "code",
   "execution_count": 5,
   "metadata": {},
   "outputs": [
    {
     "data": {
      "text/plain": [
       "{'id': 'HJWHIKqgl',\n",
       " 'title': 'Generative Models and Model Criticism via Optimized Maximum Mean Discrepancy',\n",
       " 'label': 'Accept',\n",
       " 'authors': ['Dougal J. Sutherland',\n",
       "  'Hsiao-Yu Tung',\n",
       "  'Heiko Strathmann',\n",
       "  'Soumyajit De',\n",
       "  'Aaditya Ramdas',\n",
       "  'Alex Smola',\n",
       "  'Arthur Gretton']}"
      ]
     },
     "execution_count": 5,
     "metadata": {},
     "output_type": "execute_result"
    }
   ],
   "source": [
    "org_papers['HJWHIKqgl']"
   ]
  },
  {
   "cell_type": "code",
   "execution_count": 6,
   "metadata": {},
   "outputs": [],
   "source": [
    "all_authors = defaultdict(int)\n",
    "\n",
    "count_auths = 0\n",
    "\n",
    "for k,v in org_papers.items():\n",
    "    if \"authors\" in v:\n",
    "        count_auths += len(v[\"authors\"])\n",
    "        \n",
    "        for a in v[\"authors\"]:\n",
    "            all_authors[a] += 1"
   ]
  },
  {
   "cell_type": "code",
   "execution_count": 7,
   "metadata": {},
   "outputs": [
    {
     "data": {
      "text/plain": [
       "1809"
      ]
     },
     "execution_count": 7,
     "metadata": {},
     "output_type": "execute_result"
    }
   ],
   "source": [
    "count_auths"
   ]
  },
  {
   "cell_type": "code",
   "execution_count": 8,
   "metadata": {},
   "outputs": [
    {
     "data": {
      "text/plain": [
       "1425"
      ]
     },
     "execution_count": 8,
     "metadata": {},
     "output_type": "execute_result"
    }
   ],
   "source": [
    "len(all_authors)"
   ]
  },
  {
   "cell_type": "code",
   "execution_count": 9,
   "metadata": {},
   "outputs": [],
   "source": [
    "import scholarly"
   ]
  },
  {
   "cell_type": "code",
   "execution_count": 40,
   "metadata": {},
   "outputs": [],
   "source": [
    "x = scholarly.search_author('Dougal Sutherland, Toyota Technological')"
   ]
  },
  {
   "cell_type": "code",
   "execution_count": 29,
   "metadata": {},
   "outputs": [
    {
     "data": {
      "text/plain": [
       "generator"
      ]
     },
     "execution_count": 29,
     "metadata": {},
     "output_type": "execute_result"
    }
   ],
   "source": [
    "type(x)"
   ]
  },
  {
   "cell_type": "code",
   "execution_count": 41,
   "metadata": {},
   "outputs": [],
   "source": [
    "p = []\n",
    "for i in x:\n",
    "    p.append(i)"
   ]
  },
  {
   "cell_type": "code",
   "execution_count": 39,
   "metadata": {},
   "outputs": [
    {
     "data": {
      "text/plain": [
       "0"
      ]
     },
     "execution_count": 39,
     "metadata": {},
     "output_type": "execute_result"
    }
   ],
   "source": [
    "len(p)"
   ]
  },
  {
   "cell_type": "code",
   "execution_count": 43,
   "metadata": {},
   "outputs": [
    {
     "data": {
      "text/plain": [
       "729"
      ]
     },
     "execution_count": 43,
     "metadata": {},
     "output_type": "execute_result"
    }
   ],
   "source": [
    "p[0].citedby"
   ]
  },
  {
   "cell_type": "code",
   "execution_count": 46,
   "metadata": {},
   "outputs": [],
   "source": [
    "sample_auth = p[0].fill()"
   ]
  },
  {
   "cell_type": "code",
   "execution_count": 49,
   "metadata": {},
   "outputs": [
    {
     "data": {
      "text/plain": [
       "36"
      ]
     },
     "execution_count": 49,
     "metadata": {},
     "output_type": "execute_result"
    }
   ],
   "source": [
    "len(sample_auth.publications)"
   ]
  },
  {
   "cell_type": "code",
   "execution_count": 62,
   "metadata": {},
   "outputs": [
    {
     "name": "stdout",
     "output_type": "stream",
     "text": [
      "{'_filled': False,\n",
      " 'affiliation': 'Professor of Vision Science, UC Berkeley',\n",
      " 'citedby': 20174,\n",
      " 'email': '@berkeley.edu',\n",
      " 'id': 'Smr99uEAAAAJ',\n",
      " 'interests': ['vision science', 'psychology', 'human factors', 'neuroscience'],\n",
      " 'name': 'Martin Banks',\n",
      " 'url_picture': 'https://scholar.google.com/citations?view_op=medium_photo&user=Smr99uEAAAAJ'}\n"
     ]
    }
   ],
   "source": [
    "print(p[0])"
   ]
  },
  {
   "cell_type": "code",
   "execution_count": null,
   "metadata": {},
   "outputs": [],
   "source": []
  },
  {
   "cell_type": "code",
   "execution_count": 54,
   "metadata": {},
   "outputs": [
    {
     "data": {
      "text/plain": [
       "'Dougal Sutherland'"
      ]
     },
     "execution_count": 54,
     "metadata": {},
     "output_type": "execute_result"
    }
   ],
   "source": [
    "p = re.compile(\" [A-Z]\\.? \")\n",
    "p.sub(\" \", \"Dougal J Sutherland\")"
   ]
  },
  {
   "cell_type": "code",
   "execution_count": null,
   "metadata": {},
   "outputs": [],
   "source": []
  },
  {
   "cell_type": "code",
   "execution_count": null,
   "metadata": {},
   "outputs": [],
   "source": []
  },
  {
   "cell_type": "markdown",
   "metadata": {},
   "source": [
    "### Get info for all authors"
   ]
  },
  {
   "cell_type": "code",
   "execution_count": null,
   "metadata": {},
   "outputs": [
    {
     "name": "stdout",
     "output_type": "stream",
     "text": [
      "Done out of 1425 is: 250\n",
      "Done out of 1425 is: 260\n",
      "Done out of 1425 is: 270\n",
      "Done out of 1425 is: 280\n",
      "Done out of 1425 is: 290\n",
      "Done out of 1425 is: 300\n",
      "Done out of 1425 is: 310\n",
      "Done out of 1425 is: 320\n",
      "Done out of 1425 is: 330\n",
      "Done out of 1425 is: 340\n",
      "Done out of 1425 is: 350\n",
      "Done out of 1425 is: 360\n",
      "Done out of 1425 is: 370\n",
      "Done out of 1425 is: 380\n",
      "Done out of 1425 is: 390\n",
      "Done out of 1425 is: 400\n",
      "Done out of 1425 is: 410\n",
      "Done out of 1425 is: 420\n",
      "Done out of 1425 is: 430\n",
      "Done out of 1425 is: 440\n",
      "Done out of 1425 is: 450\n",
      "Done out of 1425 is: 460\n",
      "Done out of 1425 is: 470\n",
      "Done out of 1425 is: 480\n",
      "Done out of 1425 is: 490\n",
      "Done out of 1425 is: 500\n",
      "Done out of 1425 is: 510\n",
      "Done out of 1425 is: 520\n",
      "Done out of 1425 is: 530\n"
     ]
    }
   ],
   "source": [
    "# author_info = {}\n",
    "\n",
    "count = len(author_info)\n",
    "p = re.compile(\" [A-Z]\\.? \")\n",
    "\n",
    "for a in par1:\n",
    "    if not a in author_info:\n",
    "        if count % 10 == 0:\n",
    "            print(\"Done out of {} is: {}\".format(len(all_authors), count))\n",
    "        auth_candidates = []\n",
    "        try:\n",
    "            c = scholarly.search_author(a)\n",
    "            for i in c:\n",
    "                auth_candidates.append((i, i.fill()))\n",
    "\n",
    "            if not auth_candidates:\n",
    "                # no author found\n",
    "                a_clean = p.sub(\" \", a)\n",
    "                c = scholarly.search_author(a_clean)\n",
    "                for i in c:\n",
    "                    auth_candidates.append((i, i.fill()))\n",
    "\n",
    "            author_info[a] = auth_candidates\n",
    "        except Exception as ex:\n",
    "            print(\"Move on\")\n",
    "        count += 1"
   ]
  },
  {
   "cell_type": "code",
   "execution_count": 73,
   "metadata": {},
   "outputs": [],
   "source": [
    "with open(\"author_info_scholar.pickle\", \"wb\") as f:\n",
    "    pickle.dump(author_info, f)"
   ]
  },
  {
   "cell_type": "code",
   "execution_count": 74,
   "metadata": {},
   "outputs": [
    {
     "data": {
      "text/plain": [
       "700"
      ]
     },
     "execution_count": 74,
     "metadata": {},
     "output_type": "execute_result"
    }
   ],
   "source": [
    "len(author_info)"
   ]
  },
  {
   "cell_type": "code",
   "execution_count": 75,
   "metadata": {},
   "outputs": [
    {
     "data": {
      "text/plain": [
       "1425"
      ]
     },
     "execution_count": 75,
     "metadata": {},
     "output_type": "execute_result"
    }
   ],
   "source": [
    "len(list(all_authors.keys()))"
   ]
  },
  {
   "cell_type": "code",
   "execution_count": 69,
   "metadata": {},
   "outputs": [],
   "source": [
    "list_authors = list(all_authors.keys())\n",
    "par1 = list_authors[0:700]\n",
    "par2 = list_authors[700:]"
   ]
  },
  {
   "cell_type": "code",
   "execution_count": 81,
   "metadata": {},
   "outputs": [
    {
     "data": {
      "text/plain": [
       "(400, 325)"
      ]
     },
     "execution_count": 81,
     "metadata": {},
     "output_type": "execute_result"
    }
   ],
   "source": [
    "par21 = list_authors[700:1100]\n",
    "par22 = list_authors[1100:]\n",
    "len(par21), len(par22)"
   ]
  },
  {
   "cell_type": "code",
   "execution_count": 83,
   "metadata": {},
   "outputs": [],
   "source": [
    "with open(\"split_authors_for_local.txt\", \"w\") as f:\n",
    "    f.write(\"\\n\".join(par22))"
   ]
  },
  {
   "cell_type": "code",
   "execution_count": null,
   "metadata": {},
   "outputs": [],
   "source": []
  },
  {
   "cell_type": "code",
   "execution_count": null,
   "metadata": {},
   "outputs": [],
   "source": []
  },
  {
   "cell_type": "markdown",
   "metadata": {},
   "source": [
    "## For local only"
   ]
  },
  {
   "cell_type": "code",
   "execution_count": 9,
   "metadata": {},
   "outputs": [
    {
     "name": "stdout",
     "output_type": "stream",
     "text": [
      "author_info_scholar_compressed.zip\n",
      "Filter2016data.ipynb\n",
      "mag_augmented_2017_iclr.pickle\n",
      "read_mag_data.ipynb\n",
      "read_ms_kdd.ipynb\n",
      "split_authors_for_local.txt\n",
      "Archive:  author_info_scholar_compressed.zip\n",
      "  inflating: author_info_scholar.pickle  \n"
     ]
    }
   ],
   "source": [
    "%%bash\n",
    "ls\n",
    "unzip \"author_info_scholar_compressed.zip\""
   ]
  },
  {
   "cell_type": "code",
   "execution_count": 12,
   "metadata": {},
   "outputs": [
    {
     "name": "stdout",
     "output_type": "stream",
     "text": [
      "700\n"
     ]
    }
   ],
   "source": [
    "with open(\"author_info_scholar.pickle\", \"rb\") as f:\n",
    "    author_info = pickle.load(f)\n",
    "print(len(author_info))"
   ]
  },
  {
   "cell_type": "code",
   "execution_count": 16,
   "metadata": {},
   "outputs": [
    {
     "data": {
      "text/plain": [
       "(325, 'Megan Leszczynski')"
      ]
     },
     "execution_count": 16,
     "metadata": {},
     "output_type": "execute_result"
    }
   ],
   "source": [
    "with open(\"split_authors_for_local.txt\", \"r\") as f:\n",
    "    par22 = [l.strip() for l in f]\n",
    "\n",
    "len(par22), par22[2]"
   ]
  },
  {
   "cell_type": "code",
   "execution_count": null,
   "metadata": {},
   "outputs": [],
   "source": []
  },
  {
   "cell_type": "markdown",
   "metadata": {},
   "source": [
    "## Common "
   ]
  },
  {
   "cell_type": "code",
   "execution_count": 37,
   "metadata": {},
   "outputs": [
    {
     "name": "stdout",
     "output_type": "stream",
     "text": [
      "729 Liu Yang\n",
      "Done out of 1425 is: 730\n",
      "730 Alex Gittens\n",
      "731 Michael W. Mahoney\n",
      "732 Hai Wang\n",
      "733 Takeshi Onishi\n",
      "734 David McAllester\n",
      "735 Chang Xu\n",
      "736 Gang Wang\n",
      "737 Bailey Kong\n",
      "738 Charless C. Fowlkes\n",
      "739 Christopher Tensmeyer\n",
      "Done out of 1425 is: 740\n",
      "740 Tony Martinez\n",
      "741 Édouard Grave\n",
      "742 Moustapha Cissé\n",
      "743 Hervé Jégou\n",
      "744 Stefan Carlsson\n",
      "745 Hossein Azizpour\n",
      "746 Ali Razavian\n",
      "747 Leslie N. Smith\n",
      "748 Nicholay Topin\n",
      "749 Haoqi Fan\n",
      "Done out of 1425 is: 750\n",
      "750 Kris M. Kitani\n",
      "751 Nir Baram\n",
      "752 Tom Zahavy\n",
      "753 Shie Mannor\n",
      "754 Kimin Lee\n",
      "755 Jaehyung Kim\n",
      "756 Song Chong\n",
      "757 Jinwoo Shin\n",
      "758 Hao Zhao\n",
      "759 Ming Lu\n",
      "Done out of 1425 is: 760\n",
      "760 Li Zhang\n",
      "761 Daniel Jiwoong Im\n",
      "762 He Ma\n",
      "763 Chris Dongjoo Kim\n",
      "764 Graham Taylor\n",
      "765 Jean Harb\n",
      "766 Doina Precup\n",
      "767 David Raposo\n",
      "768 Adam Santoro\n",
      "769 David Barrett\n",
      "Done out of 1425 is: 770\n",
      "770 Mehdi Mirza\n",
      "771 Peter L. Bartlett\n",
      "772 Matthieu Labeau\n",
      "773 Alexandre Allauzen\n",
      "774 Alexander G. Ororbia II\n",
      "775 Dimitrios C. Gklezakos\n",
      "776 Rajesh P. N. Rao\n",
      "777 Yotam Hechtlinger\n",
      "778 Purvasha Chakravarti\n",
      "779 Jining Qin\n",
      "Done out of 1425 is: 780\n",
      "780 Zenna Tavares\n",
      "781 Armando Solar-Lezama\n",
      "782 Tom White\n",
      "783 Yilei Xiong\n",
      "784 Dahua Lin\n",
      "785 Haoying Niu\n",
      "786 JIefeng Cheng\n",
      "787 Zhenguo Li\n",
      "788 Michael Tao\n",
      "789 Ludovic Trottier\n",
      "Done out of 1425 is: 790\n",
      "790 Philippe Giguère\n",
      "791 Brahim Chaib-draa\n",
      "792 Makoto Nakatsuji\n",
      "793 Hisashi Ito\n",
      "794 Naruhiro Ikeda\n",
      "795 Shota Sagara\n",
      "796 Akihisa Fujita\n",
      "797 Hiroki Kurotaki\n",
      "798 Alan Mosca\n",
      "799 George D. Magoulas\n",
      "Done out of 1425 is: 800\n",
      "800 Mickaël Chen\n",
      "801 Jacob Andreas\n",
      "802 Dan Klein\n",
      "803 Jake Snell\n",
      "804 Kevin Swersky\n",
      "805 Richard Zemel\n",
      "806 Shyam Upadhyay\n",
      "807 Kai-Wei Chang\n",
      "808 James Zou\n",
      "809 Matt Taddy\n",
      "Done out of 1425 is: 810\n",
      "810 Adam Kalai\n",
      "811 Huayu Li\n",
      "812 Yong Ge\n",
      "813 Roee Aharoni\n",
      "814 Saeed Maleki\n",
      "815 Madanlal Musuvathi\n",
      "816 Todd Mytkowicz\n",
      "817 Yufei Ding\n",
      "818 Onkar Bhardwaj\n",
      "819 Guojing Cong\n",
      "Done out of 1425 is: 820\n",
      "820 Soravit Changpinyo\n",
      "821 Mark Sandler\n",
      "822 Andrey Zhmoginov\n",
      "823 Edwin D. de Jong\n",
      "824 Dilin Wang\n",
      "825 Liwen Zhang\n",
      "826 John Winn\n",
      "827 Patrick Putzky\n",
      "828 Manzil Zaheer\n",
      "829 Jean-Baptiste Tristan\n",
      "Done out of 1425 is: 830\n",
      "830 Michael L. Wick\n",
      "831 Guy L. Steele Jr.\n",
      "832 Nikolas Wolfe\n",
      "833 Aditya Sharma\n",
      "834 Lukas Drude\n",
      "835 Bhiksha Raj\n",
      "836 Joji Toyama\n",
      "837 Masanori Misono\n",
      "838 Thomas Nedelec\n",
      "839 Elena Smirnova\n",
      "Done out of 1425 is: 840\n",
      "840 Flavian Vasile\n",
      "841 Mingbo Ma\n",
      "842 Liang Huang\n",
      "843 Taewan Kim\n",
      "HTTPSConnectionPool(host='scholar.google.com', port=443): Max retries exceeded with url: /citations?user=DYbiO2EAAAAJ&hl=en&cstart=100&pagesize=100 (Caused by SSLError(SSLError(\"bad handshake: SysCallError(-1, 'Unexpected EOF')\",),))\n",
      "Move on\n",
      "844 Kazuma Hashimoto\n",
      "HTTPSConnectionPool(host='scholar.google.com', port=443): Max retries exceeded with url: /citations?view_op=search_authors&hl=en&mauthors=Kazuma%20Hashimoto (Caused by SSLError(SSLError(\"bad handshake: SysCallError(-1, 'Unexpected EOF')\",),))\n",
      "Move on\n",
      "845 Yoshimasa Tsuruoka\n",
      "HTTPSConnectionPool(host='scholar.google.com', port=443): Max retries exceeded with url: /citations?view_op=search_authors&hl=en&mauthors=Yoshimasa%20Tsuruoka (Caused by SSLError(SSLError(\"bad handshake: SysCallError(-1, 'Unexpected EOF')\",),))\n",
      "Move on\n",
      "846 Alfredo Canziani\n",
      "HTTPSConnectionPool(host='scholar.google.com', port=443): Max retries exceeded with url: /citations?view_op=search_authors&hl=en&mauthors=Alfredo%20Canziani (Caused by SSLError(SSLError(\"bad handshake: SysCallError(-1, 'Unexpected EOF')\",),))\n",
      "Move on\n",
      "847 Adam Paszke\n",
      "HTTPSConnectionPool(host='scholar.google.com', port=443): Max retries exceeded with url: /citations?view_op=search_authors&hl=en&mauthors=Adam%20Paszke (Caused by SSLError(SSLError(\"bad handshake: SysCallError(-1, 'Unexpected EOF')\",),))\n",
      "Move on\n",
      "848 Eugenio Culurciello\n",
      "HTTPSConnectionPool(host='scholar.google.com', port=443): Max retries exceeded with url: /citations?view_op=search_authors&hl=en&mauthors=Eugenio%20Culurciello (Caused by SSLError(SSLError(\"bad handshake: SysCallError(-1, 'Unexpected EOF')\",),))\n",
      "Move on\n",
      "849 Jayanth Koushik\n",
      "HTTPSConnectionPool(host='scholar.google.com', port=443): Max retries exceeded with url: /citations?view_op=search_authors&hl=en&mauthors=Jayanth%20Koushik (Caused by SSLError(SSLError(\"bad handshake: SysCallError(-1, 'Unexpected EOF')\",),))\n",
      "Move on\n",
      "Done out of 1425 is: 850\n",
      "850 Hiroaki Hayashi\n",
      "HTTPSConnectionPool(host='scholar.google.com', port=443): Max retries exceeded with url: /citations?view_op=search_authors&hl=en&mauthors=Hiroaki%20Hayashi (Caused by SSLError(SSLError(\"bad handshake: SysCallError(-1, 'Unexpected EOF')\",),))\n",
      "Move on\n",
      "851 Guillaume Alain\n",
      "HTTPSConnectionPool(host='scholar.google.com', port=443): Max retries exceeded with url: /citations?view_op=search_authors&hl=en&mauthors=Guillaume%20Alain (Caused by SSLError(SSLError(\"bad handshake: SysCallError(-1, 'Unexpected EOF')\",),))\n",
      "Move on\n",
      "852 Ramesh Nallapati\n",
      "HTTPSConnectionPool(host='scholar.google.com', port=443): Max retries exceeded with url: /citations?view_op=search_authors&hl=en&mauthors=Ramesh%20Nallapati (Caused by SSLError(SSLError(\"bad handshake: SysCallError(-1, 'Unexpected EOF')\",),))\n",
      "Move on\n",
      "853 Bowen Zhou and Mingbo Ma\n",
      "HTTPSConnectionPool(host='scholar.google.com', port=443): Max retries exceeded with url: /citations?view_op=search_authors&hl=en&mauthors=Bowen%20Zhou%20and%20Mingbo%20Ma (Caused by SSLError(SSLError(\"bad handshake: SysCallError(-1, 'Unexpected EOF')\",),))\n",
      "Move on\n",
      "854 Chao-Yuan Wu\n",
      "HTTPSConnectionPool(host='scholar.google.com', port=443): Max retries exceeded with url: /citations?view_op=search_authors&hl=en&mauthors=Chao-Yuan%20Wu (Caused by SSLError(SSLError(\"bad handshake: SysCallError(-1, 'Unexpected EOF')\",),))\n",
      "Move on\n",
      "855 Amr Ahmed\n",
      "HTTPSConnectionPool(host='scholar.google.com', port=443): Max retries exceeded with url: /citations?view_op=search_authors&hl=en&mauthors=Amr%20Ahmed (Caused by SSLError(SSLError(\"bad handshake: SysCallError(-1, 'Unexpected EOF')\",),))\n",
      "Move on\n",
      "856 Alex Beutel\n",
      "HTTPSConnectionPool(host='scholar.google.com', port=443): Max retries exceeded with url: /citations?view_op=search_authors&hl=en&mauthors=Alex%20Beutel (Caused by SSLError(SSLError(\"bad handshake: SysCallError(-1, 'Unexpected EOF')\",),))\n",
      "Move on\n",
      "857 Alexander J. Smola\n",
      "HTTPSConnectionPool(host='scholar.google.com', port=443): Max retries exceeded with url: /citations?view_op=search_authors&hl=en&mauthors=Alexander%20J.%20Smola (Caused by SSLError(SSLError(\"bad handshake: SysCallError(-1, 'Unexpected EOF')\",),))\n",
      "Move on\n",
      "858 Alex Nowak\n",
      "HTTPSConnectionPool(host='scholar.google.com', port=443): Max retries exceeded with url: /citations?view_op=search_authors&hl=en&mauthors=Alex%20Nowak (Caused by SSLError(SSLError(\"bad handshake: SysCallError(-1, 'Unexpected EOF')\",),))\n",
      "Move on\n",
      "859 Alessandro Magnani\n",
      "HTTPSConnectionPool(host='scholar.google.com', port=443): Max retries exceeded with url: /citations?view_op=search_authors&hl=en&mauthors=Alessandro%20Magnani (Caused by SSLError(SSLError(\"bad handshake: SysCallError(-1, 'Unexpected EOF')\",),))\n",
      "Move on\n",
      "Done out of 1425 is: 860\n",
      "860 Abhinandan Krishnan\n",
      "861 Shengdong Zhang\n",
      "862 Soheil Bahrampour\n",
      "863 Naveen Ramakrishnan\n",
      "864 Mohak Shah\n",
      "865 Jay Yoon Lee\n",
      "866 Daniel Berio\n",
      "867 Memo Akten\n",
      "868 Frederic Fol Leymarie\n",
      "869 Mick Grierson\n",
      "Done out of 1425 is: 870\n",
      "870 Réjean Plamondon\n",
      "871 Yan Wang\n",
      "872 Kun He\n",
      "873 Yu Sun\n",
      "874 Gerald Tesauro\n",
      "875 Hyeokjun Choe\n",
      "876 Seil Lee\n",
      "877 Hyunha Nam\n",
      "878 Seongsik Park\n",
      "879 Seijoon Kim\n",
      "Done out of 1425 is: 880\n",
      "880 Eui-Young Chung\n",
      "881 Zoe McCarthy\n",
      "882 Andrew Bai\n",
      "883 Piotr Bojanowski\n",
      "884 Matthijs Douze\n",
      "885 Herve Jegou\n",
      "886 Maohua Zhu\n",
      "887 Minsoo Rhu\n",
      "888 Stephen W. Keckler\n",
      "889 Yuan Xie\n",
      "Done out of 1425 is: 890\n",
      "890 Vittal Premachandran\n",
      "891 Alan L. Yuille\n",
      "892 Hsiao-Yu Fish Tung\n",
      "893 Katerina Fragkiadaki\n",
      "894 Shuangfei Zhai\n",
      "895 Yu Cheng\n",
      "Error: 500 Internal Server Error\n",
      "Move on\n",
      "896 Rogerio Feris\n",
      "897 Zhongfei Zhang\n",
      "898 Ziyuan Lin\n",
      "899 Jaakko Peltonen\n",
      "Done out of 1425 is: 900\n",
      "900 Matthias Dorfer\n",
      "901 Jan Schlüter\n",
      "902 Gerhard Widmer\n",
      "903 Denis Volkhonskiy\n",
      "904 Boris Borisenko\n",
      "905 Evgeny Burnaev\n",
      "906 Felix Leibfried\n",
      "907 Katja Hofmann\n",
      "908 Ronan Collobert\n",
      "909 Christian Puhrsch\n",
      "Done out of 1425 is: 910\n",
      "910 Geoffrey Irving\n",
      "911 Joost van Amersfoort\n",
      "912 Du Tran\n",
      "913 Carson Eisenach\n",
      "914 Zhaoran Wang\n",
      "915 Han Liu\n",
      "916 Jeff Daily\n",
      "917 Abhinav Vishnu\n"
     ]
    },
    {
     "name": "stdout",
     "output_type": "stream",
     "text": [
      "918 Charles Siegel\n",
      "919 Stefano Teso\n",
      "Done out of 1425 is: 920\n",
      "920 Andrea Passerini\n",
      "921 Abhishek Chaurasia\n",
      "922 Sangpil Kim\n",
      "923 Andrew Nystrom\n",
      "924 John Hughes\n",
      "925 David Harwath\n",
      "926 James R. Glass\n",
      "927 Parker Hill\n",
      "928 Babak Zamirai\n",
      "929 Shengshuo Lu\n",
      "Done out of 1425 is: 930\n",
      "930 Yu-Wei Chao\n",
      "931 Michael Laurenzano\n",
      "932 Mehrzad Samadi\n",
      "933 Marios Papaefthymiou\n",
      "934 Scott Mahlke\n",
      "935 Thomas Wenisch\n",
      "936 Jia Deng\n",
      "937 Lingjia Tang\n",
      "938 Jason Mars\n",
      "939 Emily Denton\n",
      "Done out of 1425 is: 940\n",
      "940 Sam Gross\n",
      "941 Rob Fergus\n",
      "942 Thang D. Bui\n",
      "943 Sujith Ravi\n",
      "944 Vivek Ramavajjala\n",
      "945 Eder Santana\n",
      "946 Jose C Principe\n",
      "947 Lingpeng Kong\n",
      "948 Chris Alberti\n",
      "949 Daniel Andor\n",
      "Done out of 1425 is: 950\n",
      "950 Ivan Bogatyy\n",
      "951 David Weiss\n",
      "952 Paris Smaragdis\n",
      "953 Roy H. Campbell\n",
      "954 Aryk Anderson\n",
      "955 Kyle Shaffer\n",
      "956 Artem Yankov\n",
      "957 Court Corley\n",
      "958 Nathan Hodas\n",
      "959 Lei Shi\n",
      "Done out of 1425 is: 960\n",
      "960 Shikun Feng\n",
      "961 Zhifan Zhu\n",
      "962 Zhigang Yuan\n",
      "963 Yuting Hu\n",
      "964 Yongfeng Huang\n",
      "965 Ben Krause\n",
      "966 Iain Murray\n",
      "967 Steve Renals\n",
      "968 Liang Lu\n",
      "969 Or Sharir\n",
      "Done out of 1425 is: 970\n",
      "970 Ronen Tamari\n",
      "971 John K. Feser\n",
      "972 Guoqiang Zhong\n",
      "973 Yuchen Zheng\n",
      "974 Peng Zhang\n",
      "975 Mengqi Li\n",
      "976 Junyu Dong\n",
      "977 Ruqing Zhang\n",
      "978 Jiafeng Guo\n",
      "979 Yanyan Lan\n",
      "Done out of 1425 is: 980\n",
      "980 Jun Xu\n",
      "981 Xueqi Cheng\n",
      "982 Nina Narodytska\n",
      "983 Shiva Kasiviswanathan\n",
      "984 Amit Daniely\n",
      "985 Nevena Lazic\n",
      "986 Yoram Singer\n",
      "987 Ying Wen\n",
      "988 Tianyao Chen\n",
      "989 Amit Deshpande\n",
      "Done out of 1425 is: 990\n",
      "990 Sushrut Karmalkar\n",
      "991 Forrest N. Iandola\n",
      "992 Matthew W. Moskewicz\n",
      "993 Khalid Ashraf\n",
      "994 Kurt Keutzer\n",
      "995 Ravi Garg\n",
      "996 Anders Eriksson\n",
      "997 Ian Reid\n",
      "998 Miguel A. Carreira-Perpinan\n",
      "999 Mehdi Alizadeh\n",
      "Done out of 1425 is: 1000\n",
      "1000 Farahnaz A. Wick\n",
      "1001 Marc Pomplun\n",
      "1002 Zhong-Qiu Zhao\n",
      "1003 Haiman Bian\n",
      "1004 Donghui Hu\n",
      "1005 Mitsuru Ambai\n",
      "1006 Takuya Matsumoto\n",
      "1007 Takayoshi Yamashita\n",
      "1008 Hironobu Fujiyoshi\n",
      "1009 Jiedong Hao\n",
      "Done out of 1425 is: 1010\n",
      "1010 Jing Dong\n",
      "1011 Wei Wang\n",
      "1012 Tieniu Tan\n",
      "1013 Djork-Arné Clevert\n",
      "1014 Thomas Unterthiner\n",
      "1015 Sepp Hochreiter\n",
      "1016 Gurvan L'Hostis\n",
      "1017 Marcin Andrychowicz\n",
      "1018 Masayoshi Ishikawa\n",
      "1019 Mariko Okude\n",
      "Done out of 1425 is: 1020\n",
      "1020 Takehisa Nishida & Kazuo Muto\n",
      "1021 Augustus Odena\n",
      "1022 Christopher Olah\n",
      "1023 David G. Andersen\n",
      "1024 Kamil Rocki\n"
     ]
    }
   ],
   "source": [
    "# author_info = {}\n",
    "len_all_authors = 1425 #len(all_authors)\n",
    "\n",
    "count = len(author_info)\n",
    "p = re.compile(\" [A-Z]\\.? \")\n",
    "\n",
    "for a in par22:\n",
    "    if not a in author_info:\n",
    "        if count % 10 == 0:\n",
    "            print(\"Done out of {} is: {}\".format(len_all_authors, count))\n",
    "        auth_candidates = []\n",
    "        try:\n",
    "            print(count, a)\n",
    "            c = scholarly.search_author(a)\n",
    "            for i in c:\n",
    "                auth_candidates.append((i, i.fill()))\n",
    "\n",
    "            if not auth_candidates:\n",
    "                # no author found\n",
    "                a_clean = p.sub(\" \", a)\n",
    "                c = scholarly.search_author(a_clean)\n",
    "                for i in c:\n",
    "                    auth_candidates.append((i, i.fill()))\n",
    "\n",
    "            author_info[a] = auth_candidates\n",
    "        except Exception as ex:\n",
    "            print(ex)\n",
    "            print(\"Move on\")\n",
    "        count += 1"
   ]
  },
  {
   "cell_type": "code",
   "execution_count": null,
   "metadata": {},
   "outputs": [],
   "source": [
    "with open(\"author_info_scholar.pickle\", \"wb\") as f:\n",
    "    pickle.dump(author_info, f)"
   ]
  },
  {
   "cell_type": "markdown",
   "metadata": {},
   "source": [
    "## For local"
   ]
  },
  {
   "cell_type": "code",
   "execution_count": 39,
   "metadata": {},
   "outputs": [],
   "source": [
    "with open(\"author_info_scholar_local.pickle\", \"wb\") as f:\n",
    "    pickle.dump(author_info, f)"
   ]
  },
  {
   "cell_type": "code",
   "execution_count": 38,
   "metadata": {},
   "outputs": [
    {
     "data": {
      "text/plain": [
       "1025"
      ]
     },
     "execution_count": 38,
     "metadata": {},
     "output_type": "execute_result"
    }
   ],
   "source": [
    "count"
   ]
  },
  {
   "cell_type": "code",
   "execution_count": null,
   "metadata": {},
   "outputs": [],
   "source": []
  },
  {
   "cell_type": "code",
   "execution_count": null,
   "metadata": {},
   "outputs": [],
   "source": []
  },
  {
   "cell_type": "code",
   "execution_count": null,
   "metadata": {},
   "outputs": [],
   "source": []
  },
  {
   "cell_type": "code",
   "execution_count": null,
   "metadata": {},
   "outputs": [],
   "source": []
  },
  {
   "cell_type": "code",
   "execution_count": null,
   "metadata": {},
   "outputs": [],
   "source": []
  },
  {
   "cell_type": "markdown",
   "metadata": {},
   "source": [
    "# Merge files"
   ]
  },
  {
   "cell_type": "code",
   "execution_count": 2,
   "metadata": {},
   "outputs": [
    {
     "data": {
      "text/plain": [
       "1007"
      ]
     },
     "execution_count": 2,
     "metadata": {},
     "output_type": "execute_result"
    }
   ],
   "source": [
    "with open(\"author_info_scholar_local.pickle\", \"rb\") as f:\n",
    "    author_info = pickle.load(f)\n",
    "len(author_info)"
   ]
  },
  {
   "cell_type": "code",
   "execution_count": 3,
   "metadata": {},
   "outputs": [
    {
     "name": "stdout",
     "output_type": "stream",
     "text": [
      "author_info_scholar_compressed.zip\n",
      "author_info_scholar_local_comp.zip\n",
      "author_info_scholar_local.pickle\n",
      "author_info_scholar.pickle\n",
      "author_server_part.pickle\n",
      "author_server_part.zip\n",
      "Filter2016data.ipynb\n",
      "mag_augmented_2017_iclr.pickle\n",
      "read_mag_data.ipynb\n",
      "read_ms_kdd.ipynb\n",
      "split_authors_for_local.txt\n"
     ]
    }
   ],
   "source": [
    "%%bash\n",
    "ls"
   ]
  },
  {
   "cell_type": "code",
   "execution_count": 6,
   "metadata": {},
   "outputs": [
    {
     "name": "stdout",
     "output_type": "stream",
     "text": [
      "\u001b[0m\u001b[01;31mauthor_info_scholar_compressed.zip\u001b[0m  Filter2016data.ipynb\r\n",
      "\u001b[01;31mauthor_info_scholar_local_comp.zip\u001b[0m  mag_augmented_2017_iclr.pickle\r\n",
      "author_info_scholar_local.pickle    read_mag_data.ipynb\r\n",
      "author_info_scholar.pickle          read_ms_kdd.ipynb\r\n",
      "author_server_part.pickle           split_authors_for_local.txt\r\n",
      "\u001b[01;31mauthor_server_part.zip\u001b[0m\r\n"
     ]
    }
   ],
   "source": [
    "ls"
   ]
  },
  {
   "cell_type": "code",
   "execution_count": 4,
   "metadata": {},
   "outputs": [
    {
     "data": {
      "text/plain": [
       "1097"
      ]
     },
     "execution_count": 4,
     "metadata": {},
     "output_type": "execute_result"
    }
   ],
   "source": [
    "with open(\"author_server_part.pickle\", \"rb\") as f:\n",
    "    author_server_part = pickle.load(f)\n",
    "len(author_server_part)"
   ]
  },
  {
   "cell_type": "code",
   "execution_count": null,
   "metadata": {},
   "outputs": [],
   "source": []
  },
  {
   "cell_type": "code",
   "execution_count": 5,
   "metadata": {},
   "outputs": [
    {
     "data": {
      "text/plain": [
       "['',\n",
       " 'Xiaolong Wang',\n",
       " 'Krzysztof J. Geras',\n",
       " 'Prabhat',\n",
       " 'Yuxin Wu',\n",
       " 'Sarath Chandar',\n",
       " 'Marcin Moczulski',\n",
       " 'Balázs Kégl',\n",
       " 'Navdeep Jaitly',\n",
       " 'Mikael Henaff']"
      ]
     },
     "execution_count": 5,
     "metadata": {},
     "output_type": "execute_result"
    }
   ],
   "source": [
    "list(author_server_part.keys())[0:10]"
   ]
  },
  {
   "cell_type": "code",
   "execution_count": 6,
   "metadata": {},
   "outputs": [
    {
     "data": {
      "text/plain": [
       "[(<scholarly.scholarly.Author at 0x7f898322c2b0>,\n",
       "  <scholarly.scholarly.Author at 0x7f898322c2b0>)]"
      ]
     },
     "execution_count": 6,
     "metadata": {},
     "output_type": "execute_result"
    }
   ],
   "source": [
    "author_server_part[\"Mikael Henaff\"]"
   ]
  },
  {
   "cell_type": "code",
   "execution_count": 7,
   "metadata": {},
   "outputs": [
    {
     "data": {
      "text/plain": [
       "(<scholarly.scholarly.Author at 0x7f898322c2b0>,\n",
       " <scholarly.scholarly.Author at 0x7f898322c2b0>)"
      ]
     },
     "execution_count": 7,
     "metadata": {},
     "output_type": "execute_result"
    }
   ],
   "source": [
    "author_server_part[\"Mikael Henaff\"][0]"
   ]
  },
  {
   "cell_type": "code",
   "execution_count": 8,
   "metadata": {},
   "outputs": [
    {
     "data": {
      "text/plain": [
       "<scholarly.scholarly.Author at 0x7f898322c2b0>"
      ]
     },
     "execution_count": 8,
     "metadata": {},
     "output_type": "execute_result"
    }
   ],
   "source": [
    "author_server_part[\"Mikael Henaff\"][0][0]"
   ]
  },
  {
   "cell_type": "code",
   "execution_count": 10,
   "metadata": {},
   "outputs": [
    {
     "data": {
      "text/plain": [
       "2521"
      ]
     },
     "execution_count": 10,
     "metadata": {},
     "output_type": "execute_result"
    }
   ],
   "source": [
    "author_server_part[\"Mikael Henaff\"][0][0].citedby"
   ]
  },
  {
   "cell_type": "code",
   "execution_count": 11,
   "metadata": {},
   "outputs": [
    {
     "data": {
      "text/plain": [
       "2426"
      ]
     },
     "execution_count": 11,
     "metadata": {},
     "output_type": "execute_result"
    }
   ],
   "source": [
    "author_server_part[\"Mikael Henaff\"][0][0].citedby5y"
   ]
  },
  {
   "cell_type": "code",
   "execution_count": 12,
   "metadata": {},
   "outputs": [
    {
     "name": "stdout",
     "output_type": "stream",
     "text": [
      "{'_filled': True,\n",
      " 'affiliation': 'Microsoft Research',\n",
      " 'citedby': 2521,\n",
      " 'citedby5y': 2426,\n",
      " 'cites_per_year': {2012: 26,\n",
      "                    2013: 19,\n",
      "                    2014: 42,\n",
      "                    2015: 113,\n",
      "                    2016: 246,\n",
      "                    2017: 404,\n",
      "                    2018: 613,\n",
      "                    2019: 798,\n",
      "                    2020: 245},\n",
      " 'coauthors': [<scholarly.scholarly.Author object at 0x7f898322c2e8>,\n",
      "               <scholarly.scholarly.Author object at 0x7f898322c320>,\n",
      "               <scholarly.scholarly.Author object at 0x7f898322c358>,\n",
      "               <scholarly.scholarly.Author object at 0x7f898322c390>,\n",
      "               <scholarly.scholarly.Author object at 0x7f898322c3c8>,\n",
      "               <scholarly.scholarly.Author object at 0x7f898322c400>,\n",
      "               <scholarly.scholarly.Author object at 0x7f898322c438>,\n",
      "               <scholarly.scholarly.Author object at 0x7f898322c470>,\n",
      "               <scholarly.scholarly.Author object at 0x7f898322c4a8>,\n",
      "               <scholarly.scholarly.Author object at 0x7f898322c4e0>,\n",
      "               <scholarly.scholarly.Author object at 0x7f898322c518>,\n",
      "               <scholarly.scholarly.Author object at 0x7f898322c550>,\n",
      "               <scholarly.scholarly.Author object at 0x7f898322c588>,\n",
      "               <scholarly.scholarly.Author object at 0x7f898322c5f8>,\n",
      "               <scholarly.scholarly.Author object at 0x7f898322c630>,\n",
      "               <scholarly.scholarly.Author object at 0x7f898322c668>,\n",
      "               <scholarly.scholarly.Author object at 0x7f898322c6a0>,\n",
      "               <scholarly.scholarly.Author object at 0x7f898322c6d8>],\n",
      " 'email': '@nyu.edu',\n",
      " 'hindex': 13,\n",
      " 'hindex5y': 13,\n",
      " 'i10index': 14,\n",
      " 'i10index5y': 14,\n",
      " 'id': 'bX__wkYAAAAJ',\n",
      " 'interests': ['Artificial Intelligence',\n",
      "               'Deep Learning',\n",
      "               'Reinforcement Learning'],\n",
      " 'name': 'Mikael Henaff',\n",
      " 'publications': [<scholarly.scholarly.Publication object at 0x7f898322c710>,\n",
      "                  <scholarly.scholarly.Publication object at 0x7f898322c748>,\n",
      "                  <scholarly.scholarly.Publication object at 0x7f898322c780>,\n",
      "                  <scholarly.scholarly.Publication object at 0x7f898322c7b8>,\n",
      "                  <scholarly.scholarly.Publication object at 0x7f898322c7f0>,\n",
      "                  <scholarly.scholarly.Publication object at 0x7f898322c828>,\n",
      "                  <scholarly.scholarly.Publication object at 0x7f898322c860>,\n",
      "                  <scholarly.scholarly.Publication object at 0x7f898322c898>,\n",
      "                  <scholarly.scholarly.Publication object at 0x7f898322c8d0>,\n",
      "                  <scholarly.scholarly.Publication object at 0x7f898322c908>,\n",
      "                  <scholarly.scholarly.Publication object at 0x7f898322c940>,\n",
      "                  <scholarly.scholarly.Publication object at 0x7f898322c978>,\n",
      "                  <scholarly.scholarly.Publication object at 0x7f898322c9b0>,\n",
      "                  <scholarly.scholarly.Publication object at 0x7f898322c9e8>,\n",
      "                  <scholarly.scholarly.Publication object at 0x7f898322ca20>,\n",
      "                  <scholarly.scholarly.Publication object at 0x7f898322ca58>,\n",
      "                  <scholarly.scholarly.Publication object at 0x7f898322ca90>,\n",
      "                  <scholarly.scholarly.Publication object at 0x7f898322cac8>],\n",
      " 'url_picture': 'https://scholar.google.com/citations?view_op=medium_photo&user=bX__wkYAAAAJ'}\n"
     ]
    }
   ],
   "source": [
    "print(author_server_part[\"Mikael Henaff\"][0][0])"
   ]
  },
  {
   "cell_type": "code",
   "execution_count": 30,
   "metadata": {},
   "outputs": [
    {
     "name": "stdout",
     "output_type": "stream",
     "text": [
      "{'_filled': False,\n",
      " 'bib': {'title': 'The loss surfaces of multilayer networks', 'year': 2015},\n",
      " 'citedby': 813,\n",
      " 'id_citations': 'bX__wkYAAAAJ:zYLM7Y9cAGgC',\n",
      " 'source': 'citations'}\n"
     ]
    }
   ],
   "source": [
    "print(author_server_part[\"Mikael Henaff\"][0][1].publications[0])"
   ]
  },
  {
   "cell_type": "code",
   "execution_count": 26,
   "metadata": {},
   "outputs": [
    {
     "name": "stdout",
     "output_type": "stream",
     "text": [
      "8101\n",
      "8101\n"
     ]
    }
   ],
   "source": [
    "totalCount = 0\n",
    "c = 0\n",
    "\n",
    "for a in author_server_part.values():\n",
    "    for adisamb in a:\n",
    "        totalCount += 1\n",
    "        if \"cites_per_year\" in dir(adisamb[0]):\n",
    "            c+=1\n",
    "print(c)\n",
    "print(totalCount)"
   ]
  },
  {
   "cell_type": "code",
   "execution_count": null,
   "metadata": {},
   "outputs": [],
   "source": []
  },
  {
   "cell_type": "code",
   "execution_count": 31,
   "metadata": {},
   "outputs": [],
   "source": [
    "# Merge authors files\n",
    "\n",
    "all_authors_dict = author_server_part\n",
    "\n",
    "for a in author_info:\n",
    "    if not a in all_authors_dict:\n",
    "        all_authors_dict[a] = author_info[a]"
   ]
  },
  {
   "cell_type": "code",
   "execution_count": 32,
   "metadata": {},
   "outputs": [
    {
     "data": {
      "text/plain": [
       "1404"
      ]
     },
     "execution_count": 32,
     "metadata": {},
     "output_type": "execute_result"
    }
   ],
   "source": [
    "len(all_authors_dict)"
   ]
  },
  {
   "cell_type": "code",
   "execution_count": 33,
   "metadata": {},
   "outputs": [],
   "source": [
    "with open(\"authors_gscholar_scrapped.pickle\", \"wb\") as f:\n",
    "    pickle.dump(all_authors_dict, f)"
   ]
  },
  {
   "cell_type": "code",
   "execution_count": null,
   "metadata": {},
   "outputs": [],
   "source": []
  },
  {
   "cell_type": "code",
   "execution_count": null,
   "metadata": {},
   "outputs": [],
   "source": []
  }
 ],
 "metadata": {
  "kernelspec": {
   "display_name": "Python 3",
   "language": "python",
   "name": "python3"
  },
  "language_info": {
   "codemirror_mode": {
    "name": "ipython",
    "version": 3
   },
   "file_extension": ".py",
   "mimetype": "text/x-python",
   "name": "python",
   "nbconvert_exporter": "python",
   "pygments_lexer": "ipython3",
   "version": "3.5.2"
  }
 },
 "nbformat": 4,
 "nbformat_minor": 2
}
