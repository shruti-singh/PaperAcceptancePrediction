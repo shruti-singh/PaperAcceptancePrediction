{
  "nbformat": 4,
  "nbformat_minor": 0,
  "metadata": {
    "colab": {
      "name": "parallel_scrape_gs_0.ipynb",
      "provenance": [],
      "collapsed_sections": [],
      "authorship_tag": "ABX9TyMgK/P1WD83NnpHJPMISout"
    },
    "kernelspec": {
      "name": "python3",
      "display_name": "Python 3"
    }
  },
  "cells": [
    {
      "cell_type": "code",
      "metadata": {
        "id": "JpqE2WCnE6Gj",
        "colab_type": "code",
        "colab": {}
      },
      "source": [
        "!pip3 install scholarly"
      ],
      "execution_count": null,
      "outputs": []
    },
    {
      "cell_type": "code",
      "metadata": {
        "id": "Jp_3AdxG8eta",
        "colab_type": "code",
        "colab": {}
      },
      "source": [
        ""
      ],
      "execution_count": null,
      "outputs": []
    },
    {
      "cell_type": "code",
      "metadata": {
        "id": "mSn-0I6oFbxc",
        "colab_type": "code",
        "colab": {}
      },
      "source": [
        "import pandas as pd\n",
        "from scholarly import scholarly\n",
        "from collections import defaultdict\n",
        "import re\n",
        "import pickle\n",
        "import numpy as np\n",
        "import ast\n",
        "import math"
      ],
      "execution_count": null,
      "outputs": []
    },
    {
      "cell_type": "code",
      "metadata": {
        "id": "X1-6D1yYFZls",
        "colab_type": "code",
        "colab": {
          "base_uri": "https://localhost:8080/",
          "height": 35
        },
        "outputId": "821a0315-7f41-44b4-e047-c8fd17b6ee1c"
      },
      "source": [
        "from google.colab import drive\n",
        "drive.mount('/content/drive')"
      ],
      "execution_count": null,
      "outputs": [
        {
          "output_type": "stream",
          "text": [
            "Drive already mounted at /content/drive; to attempt to forcibly remount, call drive.mount(\"/content/drive\", force_remount=True).\n"
          ],
          "name": "stdout"
        }
      ]
    },
    {
      "cell_type": "code",
      "metadata": {
        "id": "WovZGo0LCtkA",
        "colab_type": "code",
        "colab": {
          "base_uri": "https://localhost:8080/",
          "height": 35
        },
        "outputId": "eb23b2e7-978f-4224-9702-45dfbd41a9a3"
      },
      "source": [
        "cd drive/My\\ Drive/Coursework/Sem2/ML/PaperAcceptanceMaster/scrape_gs/"
      ],
      "execution_count": null,
      "outputs": [
        {
          "output_type": "stream",
          "text": [
            "/content/drive/My Drive/Coursework/Sem2/ML/PaperAcceptanceMaster/scrape_gs\n"
          ],
          "name": "stdout"
        }
      ]
    },
    {
      "cell_type": "markdown",
      "metadata": {
        "id": "lCDadc5DGwpv",
        "colab_type": "text"
      },
      "source": [
        "\n",
        "\n",
        "---\n",
        "\n"
      ]
    },
    {
      "cell_type": "markdown",
      "metadata": {
        "id": "BOh0CcyTFlLK",
        "colab_type": "text"
      },
      "source": [
        "**Set year for scrapping**"
      ]
    },
    {
      "cell_type": "code",
      "metadata": {
        "id": "dKYyVKv_FiTx",
        "colab_type": "code",
        "colab": {}
      },
      "source": [
        "global_year = 2020\n",
        "global_data_file = \"author_info_scholar_2020.pickle\""
      ],
      "execution_count": null,
      "outputs": []
    },
    {
      "cell_type": "markdown",
      "metadata": {
        "id": "0hX9cdhFFpbr",
        "colab_type": "text"
      },
      "source": [
        "**RUN ONLY ONCE TO MAKE THE MASTER DATA**"
      ]
    },
    {
      "cell_type": "code",
      "metadata": {
        "id": "cXW3f6OqFx_P",
        "colab_type": "code",
        "colab": {}
      },
      "source": [
        "data_raw = pd.read_pickle('all_data_features_17_20.pkl')\n",
        "data = data_raw[[\"id\", \"title\", \"label\", \"authors\"]]\n",
        "org_papers = data.to_dict('index')"
      ],
      "execution_count": null,
      "outputs": []
    },
    {
      "cell_type": "code",
      "metadata": {
        "id": "W-OSmWNMF2PU",
        "colab_type": "code",
        "colab": {}
      },
      "source": [
        "yearwise_authors = {y: set() for y in range(2017, 2021)}\n",
        "\n",
        "for p in org_papers:\n",
        "    year = int(p.split(\"_\")[0])\n",
        "    yearwise_authors[year].add(org_papers[p][\"authors\"][-1])"
      ],
      "execution_count": null,
      "outputs": []
    },
    {
      "cell_type": "code",
      "metadata": {
        "id": "OZGLqQM6LNpV",
        "colab_type": "code",
        "colab": {
          "base_uri": "https://localhost:8080/",
          "height": 35
        },
        "outputId": "941c9314-57e9-4f26-9cb8-da79841cc572"
      },
      "source": [
        "print(len(yearwise_authors[global_year]))"
      ],
      "execution_count": null,
      "outputs": [
        {
          "output_type": "stream",
          "text": [
            "1631\n"
          ],
          "name": "stdout"
        }
      ]
    },
    {
      "cell_type": "code",
      "metadata": {
        "id": "BLMZf3DfF7R4",
        "colab_type": "code",
        "colab": {
          "base_uri": "https://localhost:8080/",
          "height": 35
        },
        "outputId": "01eefe42-0631-40ef-a40c-65aae3810b88"
      },
      "source": [
        "# Read the global file containing authors already scrapped till now\n",
        "\n",
        "with open(global_data_file, \"rb\") as f:\n",
        "    global_author_info = pickle.load(f)\n",
        "\n",
        "global_author_info = ast.literal_eval(global_author_info)\n",
        "\n",
        "print(\"Done already: \", len(global_author_info))"
      ],
      "execution_count": null,
      "outputs": [
        {
          "output_type": "stream",
          "text": [
            "Done already:  306\n"
          ],
          "name": "stdout"
        }
      ]
    },
    {
      "cell_type": "code",
      "metadata": {
        "id": "RdB1V-faICvR",
        "colab_type": "code",
        "colab": {
          "base_uri": "https://localhost:8080/",
          "height": 35
        },
        "outputId": "87cd9443-ec69-49d3-c419-ec1895ab0418"
      },
      "source": [
        "# Remove authors which are already scrapped\n",
        "author_names_set = yearwise_authors[global_year].difference(set(global_author_info.keys()))\n",
        "print(len(author_names_set))"
      ],
      "execution_count": null,
      "outputs": [
        {
          "output_type": "stream",
          "text": [
            "1507\n"
          ],
          "name": "stdout"
        }
      ]
    },
    {
      "cell_type": "code",
      "metadata": {
        "id": "X3EX09NTGJfi",
        "colab_type": "code",
        "colab": {}
      },
      "source": [
        "# Split authors list into 4 parts\n",
        "author_names_set = list(author_names_set)\n",
        "size_of_each = math.ceil(len(author_names_set)/4)\n",
        "\n",
        "with open(\"author_names_to_scrape_0\", \"w\") as f:\n",
        "    f.write(\"\\n\".join(x for x in author_names_set[0: size_of_each]))\n",
        "\n",
        "with open(\"author_names_to_scrape_1\", \"w\") as f:\n",
        "    f.write(\"\\n\".join(x for x in author_names_set[size_of_each:2*size_of_each]))\n",
        "\n",
        "with open(\"author_names_to_scrape_2\", \"w\") as f:\n",
        "    f.write(\"\\n\".join(x for x in author_names_set[2*size_of_each: 3*size_of_each]))\n",
        "\n",
        "with open(\"author_names_to_scrape_3\", \"w\") as f:\n",
        "    f.write(\"\\n\".join(x for x in author_names_set[3*size_of_each:]))\n",
        "\n",
        "\n",
        "# for idx, i in enumerate(range(0, num_batches)):\n",
        "#      with open(\"author_names_to_scrape_{}\".format(idx), \"w\"):\n",
        "#          f.write(\"\\n\".join(x for x in author_names_set[i*size_of_each: (i+1)*size_of_each]))"
      ],
      "execution_count": null,
      "outputs": []
    },
    {
      "cell_type": "markdown",
      "metadata": {
        "id": "eFVVG-PNIsY2",
        "colab_type": "text"
      },
      "source": [
        "\n",
        "\n",
        "---\n",
        "\n",
        "\n",
        "\n",
        "---\n",
        "\n"
      ]
    },
    {
      "cell_type": "markdown",
      "metadata": {
        "id": "L555Ifa-GOFg",
        "colab_type": "text"
      },
      "source": [
        "**SET SCRIPT NUMBER (same as file name suffix)**"
      ]
    },
    {
      "cell_type": "code",
      "metadata": {
        "id": "MDOLfs66GNX9",
        "colab_type": "code",
        "colab": {}
      },
      "source": [
        "script_number = 0"
      ],
      "execution_count": null,
      "outputs": []
    },
    {
      "cell_type": "code",
      "metadata": {
        "id": "QXE0_J_zGIs1",
        "colab_type": "code",
        "colab": {}
      },
      "source": [
        "script_num_dict = {}\n",
        "script_num_file_DATA = \"PARTIAL_author_info_scholar_2020_{}.pickle\".format(script_number)"
      ],
      "execution_count": null,
      "outputs": []
    },
    {
      "cell_type": "code",
      "metadata": {
        "id": "waLCKYVGJYYq",
        "colab_type": "code",
        "colab": {}
      },
      "source": [
        "script_author_name_file = \"author_names_to_scrape_{}\".format(script_number)"
      ],
      "execution_count": null,
      "outputs": []
    },
    {
      "cell_type": "markdown",
      "metadata": {
        "id": "Kd80MLFHAXjG",
        "colab_type": "text"
      },
      "source": [
        "\n",
        "\n",
        "---\n",
        "\n",
        "\n",
        "\n",
        "---\n",
        "\n"
      ]
    },
    {
      "cell_type": "code",
      "metadata": {
        "id": "jMJ2UIzSAZEC",
        "colab_type": "code",
        "colab": {}
      },
      "source": [
        "# RUN THIS ONLY THE FIRST TIME\n",
        "author_info = {}\n",
        "error_names = []\n",
        "\n",
        "count =0\n",
        "with open(script_num_file_DATA, \"wb\") as f:\n",
        "    pickle.dump(author_info.__str__(), f)"
      ],
      "execution_count": null,
      "outputs": []
    },
    {
      "cell_type": "code",
      "metadata": {
        "id": "G7NtVSXCAe7F",
        "colab_type": "code",
        "colab": {
          "base_uri": "https://localhost:8080/",
          "height": 244
        },
        "outputId": "0d746dbb-aa52-47db-c42f-fc4318fd525c"
      },
      "source": [
        "# RESTART FROM HERE AFTER COLAB DISCONNECTS\n",
        "\n",
        "with open(script_num_file_DATA, \"rb\") as f:\n",
        "    author_info = pickle.load(f)\n",
        "\n",
        "author_info = ast.literal_eval(author_info)\n",
        "count = len(author_info)\n",
        "\n",
        "print(count)"
      ],
      "execution_count": null,
      "outputs": [
        {
          "output_type": "error",
          "ename": "EOFError",
          "evalue": "ignored",
          "traceback": [
            "\u001b[0;31m---------------------------------------------------------------------------\u001b[0m",
            "\u001b[0;31mEOFError\u001b[0m                                  Traceback (most recent call last)",
            "\u001b[0;32m<ipython-input-11-9f0a93511f2b>\u001b[0m in \u001b[0;36m<module>\u001b[0;34m()\u001b[0m\n\u001b[1;32m      2\u001b[0m \u001b[0;34m\u001b[0m\u001b[0m\n\u001b[1;32m      3\u001b[0m \u001b[0;32mwith\u001b[0m \u001b[0mopen\u001b[0m\u001b[0;34m(\u001b[0m\u001b[0mscript_num_file_DATA\u001b[0m\u001b[0;34m,\u001b[0m \u001b[0;34m\"rb\"\u001b[0m\u001b[0;34m)\u001b[0m \u001b[0;32mas\u001b[0m \u001b[0mf\u001b[0m\u001b[0;34m:\u001b[0m\u001b[0;34m\u001b[0m\u001b[0;34m\u001b[0m\u001b[0m\n\u001b[0;32m----> 4\u001b[0;31m     \u001b[0mauthor_info\u001b[0m \u001b[0;34m=\u001b[0m \u001b[0mpickle\u001b[0m\u001b[0;34m.\u001b[0m\u001b[0mload\u001b[0m\u001b[0;34m(\u001b[0m\u001b[0mf\u001b[0m\u001b[0;34m)\u001b[0m\u001b[0;34m\u001b[0m\u001b[0;34m\u001b[0m\u001b[0m\n\u001b[0m\u001b[1;32m      5\u001b[0m \u001b[0;34m\u001b[0m\u001b[0m\n\u001b[1;32m      6\u001b[0m \u001b[0mauthor_info\u001b[0m \u001b[0;34m=\u001b[0m \u001b[0mast\u001b[0m\u001b[0;34m.\u001b[0m\u001b[0mliteral_eval\u001b[0m\u001b[0;34m(\u001b[0m\u001b[0mauthor_info\u001b[0m\u001b[0;34m)\u001b[0m\u001b[0;34m\u001b[0m\u001b[0;34m\u001b[0m\u001b[0m\n",
            "\u001b[0;31mEOFError\u001b[0m: Ran out of input"
          ]
        }
      ]
    },
    {
      "cell_type": "code",
      "metadata": {
        "id": "IjxbtVPSJT5c",
        "colab_type": "code",
        "colab": {
          "base_uri": "https://localhost:8080/",
          "height": 35
        },
        "outputId": "5af8a4a8-f8fb-4d3a-d46b-43951fdb9fb6"
      },
      "source": [
        "with open(script_author_name_file, \"r\") as f:\n",
        "    author_names_for_this_run = [x.strip(\"\\n\") for x in f.readlines()]\n",
        "print(len(author_names_for_this_run), author_names_for_this_run[0:2])"
      ],
      "execution_count": null,
      "outputs": [
        {
          "output_type": "stream",
          "text": [
            "377 ['Dinesh Manocha', 'Bülent Yener']\n"
          ],
          "name": "stdout"
        }
      ]
    },
    {
      "cell_type": "code",
      "metadata": {
        "id": "8OQVQzzqI_EE",
        "colab_type": "code",
        "colab": {}
      },
      "source": [
        "p = re.compile(\" [A-Z]\\.? \")"
      ],
      "execution_count": null,
      "outputs": []
    },
    {
      "cell_type": "code",
      "metadata": {
        "id": "qQtXXWgOAiLG",
        "colab_type": "code",
        "colab": {
          "base_uri": "https://localhost:8080/",
          "height": 701
        },
        "outputId": "ba125bf3-ab48-483d-ee3e-08930851a1da"
      },
      "source": [
        "for a in author_names_for_this_run:\n",
        "    if not a in author_info and not a in error_names:\n",
        "        if count % 10 == 0:\n",
        "            print(\"Status {} / {}\".format(count, len(author_names_for_this_run)))\n",
        "            with open(script_num_file_DATA, \"wb\") as f:\n",
        "                pickle.dump(author_info.__str__(), f)\n",
        "        auth_candidates = []\n",
        "        try:\n",
        "            c = scholarly.search_author(a)\n",
        "            fill_count = 0\n",
        "            for i in c:\n",
        "                if fill_count > 6:\n",
        "                    break\n",
        "                auth_candidates.append((i, i.fill()))\n",
        "                fill_count += 1\n",
        "\n",
        "            if not auth_candidates:\n",
        "                # no author found\n",
        "                a_clean = p.sub(\" \", a)\n",
        "                c = scholarly.search_author(a_clean)\n",
        "                fill_count += 1\n",
        "                for i in c:\n",
        "                    if fill_count > 6:\n",
        "                        break\n",
        "                    auth_candidates.append((i, i.fill()))\n",
        "                    fill_count += 1\n",
        "\n",
        "            author_info[a] = auth_candidates\n",
        "        except Exception as ex:\n",
        "            print(\"Exception: \", a)\n",
        "            print(ex)\n",
        "            error_names.append(a)\n",
        "        count += 1"
      ],
      "execution_count": null,
      "outputs": [
        {
          "output_type": "stream",
          "text": [
            "Status 0 / 377\n",
            "Status 10 / 377\n",
            "Status 20 / 377\n",
            "Status 30 / 377\n",
            "Status 40 / 377\n",
            "Status 50 / 377\n",
            "Status 60 / 377\n",
            "Status 70 / 377\n",
            "Status 80 / 377\n",
            "Status 90 / 377\n",
            "Status 100 / 377\n",
            "Status 110 / 377\n",
            "Status 120 / 377\n",
            "Status 130 / 377\n",
            "Status 140 / 377\n",
            "Status 150 / 377\n",
            "Status 160 / 377\n",
            "Status 170 / 377\n",
            "Status 180 / 377\n",
            "Status 190 / 377\n",
            "Status 200 / 377\n",
            "Status 210 / 377\n",
            "Status 220 / 377\n",
            "Status 230 / 377\n",
            "Status 240 / 377\n",
            "Status 250 / 377\n",
            "Status 260 / 377\n",
            "Status 270 / 377\n",
            "Status 280 / 377\n",
            "Status 290 / 377\n",
            "Status 300 / 377\n",
            "Status 310 / 377\n",
            "Status 320 / 377\n",
            "Status 330 / 377\n",
            "Status 340 / 377\n",
            "Status 350 / 377\n",
            "Status 360 / 377\n",
            "Status 370 / 377\n"
          ],
          "name": "stdout"
        }
      ]
    },
    {
      "cell_type": "code",
      "metadata": {
        "id": "OM0YbUBRS-4M",
        "colab_type": "code",
        "colab": {}
      },
      "source": [
        "with open(script_num_file_DATA, \"wb\") as f:\n",
        "    pickle.dump(author_info.__str__(), f)"
      ],
      "execution_count": null,
      "outputs": []
    },
    {
      "cell_type": "code",
      "metadata": {
        "id": "Ko6auVaqS_Fr",
        "colab_type": "code",
        "colab": {
          "base_uri": "https://localhost:8080/",
          "height": 35
        },
        "outputId": "89a8e128-d4be-4d2b-d9b3-42c9f5dc6636"
      },
      "source": [
        "print(len(author_info))"
      ],
      "execution_count": null,
      "outputs": [
        {
          "output_type": "stream",
          "text": [
            "377\n"
          ],
          "name": "stdout"
        }
      ]
    },
    {
      "cell_type": "code",
      "metadata": {
        "id": "8tvGEa2BS_SH",
        "colab_type": "code",
        "colab": {
          "base_uri": "https://localhost:8080/",
          "height": 35
        },
        "outputId": "b67cca50-b150-4d8f-d3e6-b139250b7b1e"
      },
      "source": [
        "a"
      ],
      "execution_count": null,
      "outputs": [
        {
          "output_type": "execute_result",
          "data": {
            "application/vnd.google.colaboratory.intrinsic": {
              "type": "string"
            },
            "text/plain": [
              "'Marco Pavone'"
            ]
          },
          "metadata": {
            "tags": []
          },
          "execution_count": 26
        }
      ]
    },
    {
      "cell_type": "code",
      "metadata": {
        "id": "iZTGdda3wgYr",
        "colab_type": "code",
        "colab": {
          "base_uri": "https://localhost:8080/",
          "height": 35
        },
        "outputId": "4b987d13-5b05-4fcb-93cd-54aee16174b4"
      },
      "source": [
        "len(auth_candidates)"
      ],
      "execution_count": null,
      "outputs": [
        {
          "output_type": "execute_result",
          "data": {
            "text/plain": [
              "1"
            ]
          },
          "metadata": {
            "tags": []
          },
          "execution_count": 27
        }
      ]
    },
    {
      "cell_type": "code",
      "metadata": {
        "id": "kToWiVDvShQF",
        "colab_type": "code",
        "colab": {}
      },
      "source": [
        "auth_candidates[0]"
      ],
      "execution_count": null,
      "outputs": []
    },
    {
      "cell_type": "code",
      "metadata": {
        "id": "kBsELkqoSkbL",
        "colab_type": "code",
        "colab": {}
      },
      "source": [
        "author_info[\"Chen Chen\"] = auth_candidates\n",
        "count += 1"
      ],
      "execution_count": null,
      "outputs": []
    },
    {
      "cell_type": "code",
      "metadata": {
        "id": "_Fp5HHboSkm0",
        "colab_type": "code",
        "colab": {}
      },
      "source": [
        ""
      ],
      "execution_count": null,
      "outputs": []
    },
    {
      "cell_type": "code",
      "metadata": {
        "id": "5h5Ai2b4SkrM",
        "colab_type": "code",
        "colab": {}
      },
      "source": [
        ""
      ],
      "execution_count": null,
      "outputs": []
    },
    {
      "cell_type": "code",
      "metadata": {
        "id": "wlfywKjjSDe2",
        "colab_type": "code",
        "colab": {}
      },
      "source": [
        "with open(script_num_file_DATA, \"rb\") as f:\n",
        "    from_file_author_info = pickle.load(f)\n",
        "\n",
        "from_file_author_info = ast.literal_eval(author_info)\n",
        "print(len(from_file_author_info), len(author_info))"
      ],
      "execution_count": null,
      "outputs": []
    },
    {
      "cell_type": "code",
      "metadata": {
        "id": "Yv-WBMOeShk8",
        "colab_type": "code",
        "colab": {}
      },
      "source": [
        ""
      ],
      "execution_count": null,
      "outputs": []
    },
    {
      "cell_type": "code",
      "metadata": {
        "id": "1SyJPZ6wSkA-",
        "colab_type": "code",
        "colab": {}
      },
      "source": [
        ""
      ],
      "execution_count": null,
      "outputs": []
    }
  ]
}