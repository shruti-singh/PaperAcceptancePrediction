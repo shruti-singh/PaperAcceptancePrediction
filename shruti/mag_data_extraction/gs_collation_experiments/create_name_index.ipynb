{
 "cells": [
  {
   "cell_type": "code",
   "execution_count": 1,
   "metadata": {
    "colab": {},
    "colab_type": "code",
    "id": "obMjO_OEV9v-"
   },
   "outputs": [],
   "source": [
    "import pandas as pd\n",
    "import scholarly\n",
    "from collections import defaultdict\n",
    "import re\n",
    "import pickle\n",
    "import glob\n",
    "import ast\n",
    "import unidecode"
   ]
  },
  {
   "cell_type": "code",
   "execution_count": null,
   "metadata": {
    "colab": {},
    "colab_type": "code",
    "id": "Xmlkh0WcWEs6"
   },
   "outputs": [],
   "source": []
  },
  {
   "cell_type": "code",
   "execution_count": 13,
   "metadata": {},
   "outputs": [
    {
     "name": "stdout",
     "output_type": "stream",
     "text": [
      "mkdir: cannot create directory ‘author_name_index’: File exists\r\n"
     ]
    }
   ],
   "source": [
    "mkdir author_name_index"
   ]
  },
  {
   "cell_type": "code",
   "execution_count": 2,
   "metadata": {},
   "outputs": [
    {
     "name": "stdout",
     "output_type": "stream",
     "text": [
      "\u001b[0m\u001b[01;34mauthor_name_index\u001b[0m/  create_name_index.ipynb  \u001b[01;34mindividual_year_filies\u001b[0m/\r\n"
     ]
    }
   ],
   "source": [
    "ls"
   ]
  },
  {
   "cell_type": "code",
   "execution_count": 1,
   "metadata": {},
   "outputs": [
    {
     "data": {
      "text/plain": [
       "'/home/shruti/Desktop/iitgn/courses/SEM2/ML/Project/code/PaperAcceptancePrediction/shruti/mag_data_extraction/gs_collation_experiments'"
      ]
     },
     "execution_count": 1,
     "metadata": {},
     "output_type": "execute_result"
    }
   ],
   "source": [
    "pwd"
   ]
  },
  {
   "cell_type": "code",
   "execution_count": null,
   "metadata": {},
   "outputs": [],
   "source": []
  },
  {
   "cell_type": "markdown",
   "metadata": {},
   "source": [
    "# Create empty alphabetical index files"
   ]
  },
  {
   "cell_type": "code",
   "execution_count": 3,
   "metadata": {},
   "outputs": [],
   "source": [
    "init_dict = defaultdict(list)\n",
    "\n",
    "for i in range(97, 123):\n",
    "    with open(\"author_name_index/\" + chr(i) + \".pkl\", \"wb\") as f:\n",
    "        pickle.dump(init_dict, f)"
   ]
  },
  {
   "cell_type": "code",
   "execution_count": 4,
   "metadata": {},
   "outputs": [
    {
     "name": "stdout",
     "output_type": "stream",
     "text": [
      "a.pkl  d.pkl  g.pkl  j.pkl  m.pkl  p.pkl  s.pkl  v.pkl  y.pkl\r\n",
      "b.pkl  e.pkl  h.pkl  k.pkl  n.pkl  q.pkl  t.pkl  w.pkl  z.pkl\r\n",
      "c.pkl  f.pkl  i.pkl  l.pkl  o.pkl  r.pkl  u.pkl  x.pkl\r\n"
     ]
    }
   ],
   "source": [
    "ls author_name_index/"
   ]
  },
  {
   "cell_type": "code",
   "execution_count": null,
   "metadata": {},
   "outputs": [],
   "source": []
  },
  {
   "cell_type": "markdown",
   "metadata": {},
   "source": [
    "## Read individual files and add to the index"
   ]
  },
  {
   "cell_type": "code",
   "execution_count": 5,
   "metadata": {},
   "outputs": [],
   "source": [
    "temp_buffer = {chr(x): defaultdict(list) for x in range(97, 123)}"
   ]
  },
  {
   "cell_type": "markdown",
   "metadata": {},
   "source": [
    "### a. 2017"
   ]
  },
  {
   "cell_type": "code",
   "execution_count": 6,
   "metadata": {},
   "outputs": [],
   "source": [
    "with open(\"individual_year_filies/2017_authors_gscholar_scrapped.pickle\", \"rb\") as f:\n",
    "    temp_auths_2017 = pickle.load(f)"
   ]
  },
  {
   "cell_type": "code",
   "execution_count": 7,
   "metadata": {},
   "outputs": [
    {
     "data": {
      "text/plain": [
       "[('', []),\n",
       " ('Jernej Kos',\n",
       "  [(<scholarly.scholarly.Author at 0x7f1c1ef44438>,\n",
       "    <scholarly.scholarly.Author at 0x7f1c1ef44438>)])]"
      ]
     },
     "execution_count": 7,
     "metadata": {},
     "output_type": "execute_result"
    }
   ],
   "source": [
    "list(temp_auths_2017.items())[0:2]"
   ]
  },
  {
   "cell_type": "code",
   "execution_count": 8,
   "metadata": {},
   "outputs": [
    {
     "name": "stdout",
     "output_type": "stream",
     "text": [
      " []\n"
     ]
    }
   ],
   "source": [
    "for auth in temp_auths_2017:\n",
    "    \n",
    "    if auth:    \n",
    "        rm_ast = auth.replace(\"*\", \"\") \n",
    "        unaacented_auth = unidecode.unidecode(rm_ast)\n",
    "        clean_auth = unaacented_auth.lower()\n",
    "        \n",
    "        key = clean_auth[0]\n",
    "        \n",
    "        if ord(key) <= 122 and ord(key) >=97:\n",
    "            temp_buffer[key][clean_auth] += temp_auths_2017[auth]\n",
    "            \n",
    "            if len(temp_buffer[key]) > 1000:\n",
    "                read_to_update = None\n",
    "                with open(\"author_name_index/\" + key + \".pkl\", \"rb\") as f:\n",
    "                    read_to_update = pickle.load(f)\n",
    "                for indi_auth in temp_buffer[key]:\n",
    "                    read_to_update[indi_auth] += temp_buffer[key][indi_auth]\n",
    "                with open(\"author_name_index/\" + key + \".pkl\", \"wb\") as f:\n",
    "                    pickle.dump(read_to_update, f)\n",
    "                temp_buffer[key] = defaultdict(list)\n",
    "        else:\n",
    "            print(\"Non alpha key: \", auth, clean_auth)\n",
    "    else:\n",
    "        print(auth, temp_auths_2017[auth])"
   ]
  },
  {
   "cell_type": "code",
   "execution_count": 9,
   "metadata": {},
   "outputs": [
    {
     "name": "stdout",
     "output_type": "stream",
     "text": [
      "1394\n"
     ]
    }
   ],
   "source": [
    "print(sum(len(temp_buffer[x]) for x in temp_buffer))"
   ]
  },
  {
   "cell_type": "code",
   "execution_count": 10,
   "metadata": {},
   "outputs": [],
   "source": [
    "for key in temp_buffer:\n",
    "    read_to_update = None\n",
    "    \n",
    "    with open(\"author_name_index/\" + key + \".pkl\", \"rb\") as f:\n",
    "        read_to_update = pickle.load(f)\n",
    "    \n",
    "    for indi_auth in temp_buffer[key]:\n",
    "        read_to_update[indi_auth] += temp_buffer[key][indi_auth]\n",
    "    \n",
    "    with open(\"author_name_index/\" + key + \".pkl\", \"wb\") as f:\n",
    "        pickle.dump(read_to_update, f)\n",
    "    \n",
    "    temp_buffer[key] = defaultdict(list)"
   ]
  },
  {
   "cell_type": "code",
   "execution_count": 11,
   "metadata": {},
   "outputs": [],
   "source": [
    "# Save RAM\n",
    "# temp_buffer also empty by now\n",
    "temp_auths_2017 = None\n",
    "read_to_update = None"
   ]
  },
  {
   "cell_type": "markdown",
   "metadata": {},
   "source": [
    "### a. 2018"
   ]
  },
  {
   "cell_type": "code",
   "execution_count": 12,
   "metadata": {},
   "outputs": [],
   "source": [
    "with open(\"individual_year_filies/2018_pickle_file/author_info_scholar_2018.pickle\", \"rb\") as f:\n",
    "    temp_auths_2018 = pickle.load(f)"
   ]
  },
  {
   "cell_type": "code",
   "execution_count": 13,
   "metadata": {},
   "outputs": [
    {
     "data": {
      "text/plain": [
       "[('Dipankar Das',\n",
       "  [(<scholarly.scholarly.Author at 0x7f1c253d4c50>,\n",
       "    <scholarly.scholarly.Author at 0x7f1c253d4c50>),\n",
       "   (<scholarly.scholarly.Author at 0x7f1c253b2358>,\n",
       "    <scholarly.scholarly.Author at 0x7f1c253b2358>),\n",
       "   (<scholarly.scholarly.Author at 0x7f1c2536a898>,\n",
       "    <scholarly.scholarly.Author at 0x7f1c2536a898>),\n",
       "   (<scholarly.scholarly.Author at 0x7f1c2537f2e8>,\n",
       "    <scholarly.scholarly.Author at 0x7f1c2537f2e8>),\n",
       "   (<scholarly.scholarly.Author at 0x7f1c253867b8>,\n",
       "    <scholarly.scholarly.Author at 0x7f1c253867b8>),\n",
       "   (<scholarly.scholarly.Author at 0x7f1c2538f080>,\n",
       "    <scholarly.scholarly.Author at 0x7f1c2538f080>),\n",
       "   (<scholarly.scholarly.Author at 0x7f1c2538f748>,\n",
       "    <scholarly.scholarly.Author at 0x7f1c2538f748>),\n",
       "   (<scholarly.scholarly.Author at 0x7f1c25318940>,\n",
       "    <scholarly.scholarly.Author at 0x7f1c25318940>),\n",
       "   (<scholarly.scholarly.Author at 0x7f1c25318ba8>,\n",
       "    <scholarly.scholarly.Author at 0x7f1c25318ba8>),\n",
       "   (<scholarly.scholarly.Author at 0x7f1c25318cc0>,\n",
       "    <scholarly.scholarly.Author at 0x7f1c25318cc0>),\n",
       "   (<scholarly.scholarly.Author at 0x7f1c253224a8>,\n",
       "    <scholarly.scholarly.Author at 0x7f1c253224a8>),\n",
       "   (<scholarly.scholarly.Author at 0x7f1c25322588>,\n",
       "    <scholarly.scholarly.Author at 0x7f1c25322588>),\n",
       "   (<scholarly.scholarly.Author at 0x7f1c25322780>,\n",
       "    <scholarly.scholarly.Author at 0x7f1c25322780>),\n",
       "   (<scholarly.scholarly.Author at 0x7f1c25322828>,\n",
       "    <scholarly.scholarly.Author at 0x7f1c25322828>),\n",
       "   (<scholarly.scholarly.Author at 0x7f1c253228d0>,\n",
       "    <scholarly.scholarly.Author at 0x7f1c253228d0>)]),\n",
       " ('Sinead Williamson',\n",
       "  [(<scholarly.scholarly.Author at 0x7f1c212860f0>,\n",
       "    <scholarly.scholarly.Author at 0x7f1c212860f0>)]),\n",
       " ('Mikael Kågebäck',\n",
       "  [(<scholarly.scholarly.Author at 0x7f1c1aa3ff28>,\n",
       "    <scholarly.scholarly.Author at 0x7f1c1aa3ff28>)])]"
      ]
     },
     "execution_count": 13,
     "metadata": {},
     "output_type": "execute_result"
    }
   ],
   "source": [
    "list(temp_auths_2018.items())[0:3]"
   ]
  },
  {
   "cell_type": "code",
   "execution_count": 14,
   "metadata": {},
   "outputs": [
    {
     "name": "stdout",
     "output_type": "stream",
     "text": [
      "Non alpha key:  \u0006 Daniel Crawford \u0006 daniel crawford\n"
     ]
    }
   ],
   "source": [
    "for auth in temp_auths_2018:\n",
    "    \n",
    "    if auth:    \n",
    "        rm_ast = auth.replace(\"*\", \"\") \n",
    "        unaacented_auth = unidecode.unidecode(rm_ast)\n",
    "        clean_auth = unaacented_auth.lower()\n",
    "        \n",
    "        key = clean_auth[0]\n",
    "        \n",
    "        if ord(key) <= 122 and ord(key) >=97:\n",
    "            temp_buffer[key][clean_auth] += temp_auths_2018[auth]\n",
    "            \n",
    "            if len(temp_buffer[key]) > 1000:\n",
    "                read_to_update = None\n",
    "                with open(\"author_name_index/\" + key + \".pkl\", \"rb\") as f:\n",
    "                    read_to_update = pickle.load(f)\n",
    "                for indi_auth in temp_buffer[key]:\n",
    "                    read_to_update[indi_auth] += temp_buffer[key][indi_auth]\n",
    "                with open(\"author_name_index/\" + key + \".pkl\", \"wb\") as f:\n",
    "                    pickle.dump(read_to_update, f)\n",
    "                temp_buffer[key] = defaultdict(list)\n",
    "        else:\n",
    "            print(\"Non alpha key: \", auth, clean_auth)\n",
    "    else:\n",
    "        print(auth, temp_auths_2018[auth])"
   ]
  },
  {
   "cell_type": "code",
   "execution_count": 15,
   "metadata": {},
   "outputs": [
    {
     "name": "stdout",
     "output_type": "stream",
     "text": [
      "1048\n"
     ]
    }
   ],
   "source": [
    "print(sum(len(temp_buffer[x]) for x in temp_buffer))"
   ]
  },
  {
   "cell_type": "code",
   "execution_count": 16,
   "metadata": {},
   "outputs": [],
   "source": [
    "for auth in temp_auths_2018:\n",
    "    if auth.endswith(\"Crawford\"):\n",
    "        inspect_auth = auth\n",
    "        break"
   ]
  },
  {
   "cell_type": "code",
   "execution_count": 17,
   "metadata": {},
   "outputs": [
    {
     "data": {
      "text/plain": [
       "'\\x06 Daniel Crawford'"
      ]
     },
     "execution_count": 17,
     "metadata": {},
     "output_type": "execute_result"
    }
   ],
   "source": [
    "inspect_auth"
   ]
  },
  {
   "cell_type": "code",
   "execution_count": 18,
   "metadata": {},
   "outputs": [
    {
     "data": {
      "text/plain": [
       "dict_keys(['g', 'm', 'k', 'e', 'a', 'j', 'o', 'q', 'c', 'i', 'd', 'w', 'f', 'u', 'r', 'y', 'v', 'p', 's', 'z', 't', 'b', 'l', 'x', 'h', 'n'])"
      ]
     },
     "execution_count": 18,
     "metadata": {},
     "output_type": "execute_result"
    }
   ],
   "source": [
    "temp_buffer.keys()"
   ]
  },
  {
   "cell_type": "code",
   "execution_count": 19,
   "metadata": {},
   "outputs": [],
   "source": [
    "temp_buffer[\"d\"][\"daniel crawford\"] += temp_auths_2018[inspect_auth]"
   ]
  },
  {
   "cell_type": "code",
   "execution_count": 20,
   "metadata": {},
   "outputs": [
    {
     "data": {
      "text/plain": [
       "[(<scholarly.scholarly.Author at 0x7f1c1aeb6a58>,\n",
       "  <scholarly.scholarly.Author at 0x7f1c1aeb6a58>),\n",
       " (<scholarly.scholarly.Author at 0x7f1c1ae51828>,\n",
       "  <scholarly.scholarly.Author at 0x7f1c1ae51828>),\n",
       " (<scholarly.scholarly.Author at 0x7f1c1ae51e48>,\n",
       "  <scholarly.scholarly.Author at 0x7f1c1ae51e48>),\n",
       " (<scholarly.scholarly.Author at 0x7f1c1ae58400>,\n",
       "  <scholarly.scholarly.Author at 0x7f1c1ae58400>)]"
      ]
     },
     "execution_count": 20,
     "metadata": {},
     "output_type": "execute_result"
    }
   ],
   "source": [
    "temp_buffer[\"d\"][\"daniel crawford\"]"
   ]
  },
  {
   "cell_type": "code",
   "execution_count": 21,
   "metadata": {},
   "outputs": [],
   "source": [
    "for key in temp_buffer:\n",
    "    read_to_update = None\n",
    "    \n",
    "    with open(\"author_name_index/\" + key + \".pkl\", \"rb\") as f:\n",
    "        read_to_update = pickle.load(f)\n",
    "    \n",
    "    for indi_auth in temp_buffer[key]:\n",
    "        read_to_update[indi_auth] += temp_buffer[key][indi_auth]\n",
    "    \n",
    "    with open(\"author_name_index/\" + key + \".pkl\", \"wb\") as f:\n",
    "        pickle.dump(read_to_update, f)\n",
    "    \n",
    "    temp_buffer[key] = defaultdict(list)"
   ]
  },
  {
   "cell_type": "code",
   "execution_count": 22,
   "metadata": {},
   "outputs": [],
   "source": [
    "# Save RAM\n",
    "# temp_buffer also empty by now\n",
    "temp_auths_2018 = None\n",
    "read_to_update = None"
   ]
  },
  {
   "cell_type": "markdown",
   "metadata": {},
   "source": [
    "### a. 2019"
   ]
  },
  {
   "cell_type": "code",
   "execution_count": 23,
   "metadata": {},
   "outputs": [],
   "source": [
    "temp_buffer = {chr(x): defaultdict(list) for x in range(97, 123)}"
   ]
  },
  {
   "cell_type": "code",
   "execution_count": 24,
   "metadata": {},
   "outputs": [],
   "source": [
    "files_2019 = glob.glob(\"./individual_year_filies/2019_Authors_pickle/*\")"
   ]
  },
  {
   "cell_type": "code",
   "execution_count": 25,
   "metadata": {},
   "outputs": [
    {
     "data": {
      "text/plain": [
       "2710"
      ]
     },
     "execution_count": 25,
     "metadata": {},
     "output_type": "execute_result"
    }
   ],
   "source": [
    "len(files_2019)"
   ]
  },
  {
   "cell_type": "code",
   "execution_count": 8,
   "metadata": {},
   "outputs": [
    {
     "name": "stdout",
     "output_type": "stream",
     "text": [
      "./individual_year_filies/2019_Authors_pickle/Arvind Neelakantan\n"
     ]
    }
   ],
   "source": [
    "for f in files_2019:\n",
    "    print(f)\n",
    "    with open(f, \"rb\") as temp_file:\n",
    "        temp_auth_2019 = pickle.load(temp_file)\n",
    "    temp_auth_2019 = ast.literal_eval(temp_auth_2019)\n",
    "    break"
   ]
  },
  {
   "cell_type": "code",
   "execution_count": 10,
   "metadata": {},
   "outputs": [
    {
     "data": {
      "text/plain": [
       "(dict, 1)"
      ]
     },
     "execution_count": 10,
     "metadata": {},
     "output_type": "execute_result"
    }
   ],
   "source": [
    "type(temp_auth_2019), len(temp_auth_2019)"
   ]
  },
  {
   "cell_type": "code",
   "execution_count": 12,
   "metadata": {
    "collapsed": true
   },
   "outputs": [
    {
     "data": {
      "text/plain": [
       "(dict_keys(['Arvind Neelakantan']),\n",
       " {'Arvind Neelakantan': [({'affiliation': 'Research Lead, OpenAI',\n",
       "     'citedby': 1576,\n",
       "     'citedby5y': 1555,\n",
       "     'cites_per_year': {2013: 5,\n",
       "      2014: 14,\n",
       "      2015: 72,\n",
       "      2016: 218,\n",
       "      2017: 313,\n",
       "      2018: 387,\n",
       "      2019: 383,\n",
       "      2020: 174},\n",
       "     'coauthors': [{'affiliation': 'Distinguished Professor of Computer Science, University of Massachusetts Amherst',\n",
       "       'filled': False,\n",
       "       'id': 'yILa1y0AAAAJ',\n",
       "       'name': 'Andrew McCallum'},\n",
       "      {'affiliation': 'Research Scientist, Google Brain',\n",
       "       'filled': False,\n",
       "       'id': 'vfT6-XIAAAAJ',\n",
       "       'name': 'Quoc V. Le'},\n",
       "      {'affiliation': 'Co-Founder and Chief Scientist of OpenAI',\n",
       "       'filled': False,\n",
       "       'id': 'x04W_mMAAAAJ',\n",
       "       'name': 'Ilya Sutskever'},\n",
       "      {'affiliation': 'Google research',\n",
       "       'filled': False,\n",
       "       'id': 'P3ER6nYAAAAJ',\n",
       "       'name': 'Alexandre Passos'},\n",
       "      {'affiliation': 'Graduate Research Assistant, University of Massachusetts Amherst',\n",
       "       'filled': False,\n",
       "       'id': 'xWrOthYAAAAJ',\n",
       "       'name': 'Luke Vilnis'},\n",
       "      {'affiliation': 'Google Brain',\n",
       "       'filled': False,\n",
       "       'id': 'oD_Ea7EAAAAJ',\n",
       "       'name': 'Karol Kurach'},\n",
       "      {'affiliation': 'Google Brain & CNRS',\n",
       "       'filled': False,\n",
       "       'id': 'JWmiQR0AAAAJ',\n",
       "       'name': 'Łukasz Kaiser'},\n",
       "      {'affiliation': 'Facebook, UMass Amherst',\n",
       "       'filled': False,\n",
       "       'id': '2kk9vsEAAAAJ',\n",
       "       'name': 'Jeevan Shankar'},\n",
       "      {'affiliation': 'Research Scientist, Google Brain',\n",
       "       'filled': False,\n",
       "       'id': 'AGnp8NAAAAAJ',\n",
       "       'name': 'David Belanger'},\n",
       "      {'affiliation': 'Ph.D. Student UMass, Amherst',\n",
       "       'filled': False,\n",
       "       'id': 'FKoKAwIAAAAJ',\n",
       "       'name': 'Rajarshi Das'},\n",
       "      {'affiliation': 'Research Scientist, DeepMind',\n",
       "       'filled': False,\n",
       "       'id': 'LlK_saMAAAAJ',\n",
       "       'name': 'James Martens'},\n",
       "      {'affiliation': 'Principal Scientist, Google, and Professor Emeritus, UC Santa Cruz',\n",
       "       'filled': False,\n",
       "       'id': 'vWTI60AAAAAJ',\n",
       "       'name': 'Martin Abadi'},\n",
       "      {'affiliation': 'Research Director at OpenAI',\n",
       "       'filled': False,\n",
       "       'id': '6-e-ZBEAAAAJ',\n",
       "       'name': 'Dario Amodei'},\n",
       "      {'affiliation': 'Google Brain',\n",
       "       'filled': False,\n",
       "       'id': '2fWmq-4AAAAJ',\n",
       "       'name': 'Daniel Duckworth'},\n",
       "      {'affiliation': 'Senior Research Scientist, Google Brain',\n",
       "       'filled': False,\n",
       "       'id': 'fpJHNQ8AAAAJ',\n",
       "       'name': 'Niki Parmar'},\n",
       "      {'affiliation': 'Senior Research Scientist, Google Brain',\n",
       "       'filled': False,\n",
       "       'id': '6rUjwXUAAAAJ',\n",
       "       'name': 'Ashish Vaswani'},\n",
       "      {'affiliation': 'Google',\n",
       "       'filled': False,\n",
       "       'id': 'mCmda68AAAAJ',\n",
       "       'name': 'Aurko Roy'},\n",
       "      {'affiliation': 'Google Research',\n",
       "       'filled': False,\n",
       "       'id': 'GiCqMFkAAAAJ',\n",
       "       'name': 'Ming-Wei Chang'},\n",
       "      {'affiliation': 'Google',\n",
       "       'filled': False,\n",
       "       'id': 'mvojJ2MAAAAJ',\n",
       "       'name': 'Ben D Goodrich'},\n",
       "      {'affiliation': 'Professor of Computer Science and Director, Data Science Institute, Columbia University',\n",
       "       'filled': False,\n",
       "       'id': 'ujDhg2sAAAAJ',\n",
       "       'name': 'Kathleen McKeown'}],\n",
       "     'email': '@openai.com',\n",
       "     'filled': False,\n",
       "     'hindex': 14,\n",
       "     'hindex5y': 13,\n",
       "     'i10index': 15,\n",
       "     'i10index5y': 14,\n",
       "     'id': 'ygTCc6cAAAAJ',\n",
       "     'interests': ['Natural Language Processing',\n",
       "      'Machine Learning',\n",
       "      'Artificial Intelligence',\n",
       "      'Neural Networks',\n",
       "      'Deep Learning'],\n",
       "     'name': 'Arvind Neelakantan',\n",
       "     'publications': [{'bib': {'cites': '397',\n",
       "        'title': 'Efficient non-parametric estimation of multiple embeddings per word in vector space',\n",
       "        'year': '2015'},\n",
       "       'filled': False,\n",
       "       'id_citations': 'ygTCc6cAAAAJ:9yKSN-GCB0IC',\n",
       "       'source': 'citations'},\n",
       "      {'bib': {'cites': '263',\n",
       "        'title': 'Adding gradient noise improves learning for very deep networks',\n",
       "        'year': '2015'},\n",
       "       'filled': False,\n",
       "       'id_citations': 'ygTCc6cAAAAJ:Tyk-4Ss8FVUC',\n",
       "       'source': 'citations'},\n",
       "      {'bib': {'cites': '223',\n",
       "        'title': 'Compositional Vector Space Models for Knowledge Base Completion',\n",
       "        'year': '2015'},\n",
       "       'filled': False,\n",
       "       'id_citations': 'ygTCc6cAAAAJ:IjCSPb-OGe4C',\n",
       "       'source': 'citations'},\n",
       "      {'bib': {'cites': '223',\n",
       "        'title': 'Compositional vector space models for knowledge base inference',\n",
       "        'year': '2015'},\n",
       "       'filled': False,\n",
       "       'id_citations': 'ygTCc6cAAAAJ:kNdYIx-mwKoC',\n",
       "       'source': 'citations'},\n",
       "      {'bib': {'cites': '206',\n",
       "        'title': 'Neural programmer: Inducing latent programs with gradient descent',\n",
       "        'year': '2015'},\n",
       "       'filled': False,\n",
       "       'id_citations': 'ygTCc6cAAAAJ:zYLM7Y9cAGgC',\n",
       "       'source': 'citations'},\n",
       "      {'bib': {'cites': '125',\n",
       "        'title': 'Chains of reasoning over entities, relations, and text using recurrent neural networks',\n",
       "        'year': '2016'},\n",
       "       'filled': False,\n",
       "       'id_citations': 'ygTCc6cAAAAJ:WF5omc3nYNoC',\n",
       "       'source': 'citations'},\n",
       "      {'bib': {'cites': '94',\n",
       "        'title': 'Learning a natural language interface with neural programmer',\n",
       "        'year': '2016'},\n",
       "       'filled': False,\n",
       "       'id_citations': 'ygTCc6cAAAAJ:ufrVoPGSRksC',\n",
       "       'source': 'citations'},\n",
       "      {'bib': {'cites': '53',\n",
       "        'title': 'Inferring Missing Entity Type Instances for Knowledge Base Completion: New Dataset and Methods',\n",
       "        'year': '2015'},\n",
       "       'filled': False,\n",
       "       'id_citations': 'ygTCc6cAAAAJ:UeHWp8X0CEIC',\n",
       "       'source': 'citations'},\n",
       "      {'bib': {'cites': '37',\n",
       "        'title': 'Predicting the impact of scientific concepts using full‐text features',\n",
       "        'year': '2016'},\n",
       "       'filled': False,\n",
       "       'id_citations': 'ygTCc6cAAAAJ:Y0pCki6q_DkC',\n",
       "       'source': 'citations'},\n",
       "      {'bib': {'cites': '34',\n",
       "        'title': 'Generalizing to unseen entities and entity pairs with row-less universal schema',\n",
       "        'year': '2016'},\n",
       "       'filled': False,\n",
       "       'id_citations': 'ygTCc6cAAAAJ:eQOLeE2rZwMC',\n",
       "       'source': 'citations'},\n",
       "      {'bib': {'cites': '32',\n",
       "        'title': 'Learning Dictionaries for Named Entity Recognition using Minimal Supervision',\n",
       "        'year': '2014'},\n",
       "       'filled': False,\n",
       "       'id_citations': 'ygTCc6cAAAAJ:u-x6o8ySG0sC',\n",
       "       'source': 'citations'},\n",
       "      {'bib': {'cites': '25',\n",
       "        'title': 'Theory and experiments on vector quantized autoencoders',\n",
       "        'year': '2018'},\n",
       "       'filled': False,\n",
       "       'id_citations': 'ygTCc6cAAAAJ:0EnyYjriUFMC',\n",
       "       'source': 'citations'},\n",
       "      {'bib': {'cites': '20',\n",
       "        'title': 'Language models are few-shot learners',\n",
       "        'year': '2020'},\n",
       "       'filled': False,\n",
       "       'id_citations': 'ygTCc6cAAAAJ:YOwf2qJgpHMC',\n",
       "       'source': 'citations'},\n",
       "      {'bib': {'cites': '19',\n",
       "        'title': 'RelNet: End-to-end Modeling of Entities & Relations',\n",
       "        'year': '2017'},\n",
       "       'filled': False,\n",
       "       'id_citations': 'ygTCc6cAAAAJ:LkGwnXOMwfcC',\n",
       "       'source': 'citations'},\n",
       "      {'bib': {'cites': '14',\n",
       "        'title': 'Active error detection and resolution for speech-to-speech translation',\n",
       "        'year': '2012'},\n",
       "       'filled': False,\n",
       "       'id_citations': 'ygTCc6cAAAAJ:u5HHmVD_uO8C',\n",
       "       'source': 'citations'},\n",
       "      {'bib': {'cites': '13',\n",
       "        'title': 'Adding gradient noise improves learning for very deep networks (2015)'},\n",
       "       'filled': False,\n",
       "       'id_citations': 'ygTCc6cAAAAJ:Zph67rFs4hoC',\n",
       "       'source': 'citations'},\n",
       "      {'bib': {'cites': '7',\n",
       "        'title': 'Taskmaster-1: Toward a realistic and diverse dialog dataset',\n",
       "        'year': '2019'},\n",
       "       'filled': False,\n",
       "       'id_citations': 'ygTCc6cAAAAJ:MXK_kJrjxJIC',\n",
       "       'source': 'citations'},\n",
       "      {'bib': {'cites': '5',\n",
       "        'title': 'Incorporating selectional preferences in multi-hop relation extraction',\n",
       "        'year': '2016'},\n",
       "       'filled': False,\n",
       "       'id_citations': 'ygTCc6cAAAAJ:YsMSGLbcyi4C',\n",
       "       'source': 'citations'},\n",
       "      {'bib': {'cites': '3',\n",
       "        'title': 'Knowledge representation and reasoning with deep neural networks',\n",
       "        'year': '2017'},\n",
       "       'filled': False,\n",
       "       'id_citations': 'ygTCc6cAAAAJ:roLk4NBRz8UC',\n",
       "       'source': 'citations'},\n",
       "      {'bib': {'cites': '2',\n",
       "        'title': 'Parallel scheduled sampling',\n",
       "        'year': '2019'},\n",
       "       'filled': False,\n",
       "       'id_citations': 'ygTCc6cAAAAJ:8k81kl-MbHgC',\n",
       "       'source': 'citations'},\n",
       "      {'bib': {'cites': '2',\n",
       "        'title': 'Knowledge base completion using compositional vector space models',\n",
       "        'year': '2014'},\n",
       "       'filled': False,\n",
       "       'id_citations': 'ygTCc6cAAAAJ:_kc_bZDykSQC',\n",
       "       'source': 'citations'},\n",
       "      {'bib': {'cites': '1',\n",
       "        'title': 'Trading Off Diversity and Quality in Natural Language Generation',\n",
       "        'year': '2020'},\n",
       "       'filled': False,\n",
       "       'id_citations': 'ygTCc6cAAAAJ:ULOm3_A8WrAC',\n",
       "       'source': 'citations'},\n",
       "      {'bib': {'cites': '1',\n",
       "        'title': 'Neural assistant: Joint action prediction, response generation, and latent knowledge reasoning',\n",
       "        'year': '2019'},\n",
       "       'filled': False,\n",
       "       'id_citations': 'ygTCc6cAAAAJ:KlAtU1dfN6UC',\n",
       "       'source': 'citations'},\n",
       "      {'bib': {'cites': '0',\n",
       "        'title': 'Neural network programmer',\n",
       "        'year': '2017'},\n",
       "       'filled': False,\n",
       "       'id_citations': 'ygTCc6cAAAAJ:_FxGoFyzp5QC',\n",
       "       'source': 'citations'},\n",
       "      {'bib': {'cites': '0',\n",
       "        'title': 'A Hierarchical Model for Universal Schema Relation Extraction'},\n",
       "       'filled': False,\n",
       "       'id_citations': 'ygTCc6cAAAAJ:d1gkVwhDpl0C',\n",
       "       'source': 'citations'}],\n",
       "     'url_picture': 'https://scholar.google.com/citations?view_op=medium_photo&user=ygTCc6cAAAAJ'},\n",
       "    {'affiliation': 'Research Lead, OpenAI',\n",
       "     'citedby': 1576,\n",
       "     'citedby5y': 1555,\n",
       "     'cites_per_year': {2013: 5,\n",
       "      2014: 14,\n",
       "      2015: 72,\n",
       "      2016: 218,\n",
       "      2017: 313,\n",
       "      2018: 387,\n",
       "      2019: 383,\n",
       "      2020: 174},\n",
       "     'coauthors': [{'affiliation': 'Distinguished Professor of Computer Science, University of Massachusetts Amherst',\n",
       "       'filled': False,\n",
       "       'id': 'yILa1y0AAAAJ',\n",
       "       'name': 'Andrew McCallum'},\n",
       "      {'affiliation': 'Research Scientist, Google Brain',\n",
       "       'filled': False,\n",
       "       'id': 'vfT6-XIAAAAJ',\n",
       "       'name': 'Quoc V. Le'},\n",
       "      {'affiliation': 'Co-Founder and Chief Scientist of OpenAI',\n",
       "       'filled': False,\n",
       "       'id': 'x04W_mMAAAAJ',\n",
       "       'name': 'Ilya Sutskever'},\n",
       "      {'affiliation': 'Google research',\n",
       "       'filled': False,\n",
       "       'id': 'P3ER6nYAAAAJ',\n",
       "       'name': 'Alexandre Passos'},\n",
       "      {'affiliation': 'Graduate Research Assistant, University of Massachusetts Amherst',\n",
       "       'filled': False,\n",
       "       'id': 'xWrOthYAAAAJ',\n",
       "       'name': 'Luke Vilnis'},\n",
       "      {'affiliation': 'Google Brain',\n",
       "       'filled': False,\n",
       "       'id': 'oD_Ea7EAAAAJ',\n",
       "       'name': 'Karol Kurach'},\n",
       "      {'affiliation': 'Google Brain & CNRS',\n",
       "       'filled': False,\n",
       "       'id': 'JWmiQR0AAAAJ',\n",
       "       'name': 'Łukasz Kaiser'},\n",
       "      {'affiliation': 'Facebook, UMass Amherst',\n",
       "       'filled': False,\n",
       "       'id': '2kk9vsEAAAAJ',\n",
       "       'name': 'Jeevan Shankar'},\n",
       "      {'affiliation': 'Research Scientist, Google Brain',\n",
       "       'filled': False,\n",
       "       'id': 'AGnp8NAAAAAJ',\n",
       "       'name': 'David Belanger'},\n",
       "      {'affiliation': 'Ph.D. Student UMass, Amherst',\n",
       "       'filled': False,\n",
       "       'id': 'FKoKAwIAAAAJ',\n",
       "       'name': 'Rajarshi Das'},\n",
       "      {'affiliation': 'Research Scientist, DeepMind',\n",
       "       'filled': False,\n",
       "       'id': 'LlK_saMAAAAJ',\n",
       "       'name': 'James Martens'},\n",
       "      {'affiliation': 'Principal Scientist, Google, and Professor Emeritus, UC Santa Cruz',\n",
       "       'filled': False,\n",
       "       'id': 'vWTI60AAAAAJ',\n",
       "       'name': 'Martin Abadi'},\n",
       "      {'affiliation': 'Research Director at OpenAI',\n",
       "       'filled': False,\n",
       "       'id': '6-e-ZBEAAAAJ',\n",
       "       'name': 'Dario Amodei'},\n",
       "      {'affiliation': 'Google Brain',\n",
       "       'filled': False,\n",
       "       'id': '2fWmq-4AAAAJ',\n",
       "       'name': 'Daniel Duckworth'},\n",
       "      {'affiliation': 'Senior Research Scientist, Google Brain',\n",
       "       'filled': False,\n",
       "       'id': 'fpJHNQ8AAAAJ',\n",
       "       'name': 'Niki Parmar'},\n",
       "      {'affiliation': 'Senior Research Scientist, Google Brain',\n",
       "       'filled': False,\n",
       "       'id': '6rUjwXUAAAAJ',\n",
       "       'name': 'Ashish Vaswani'},\n",
       "      {'affiliation': 'Google',\n",
       "       'filled': False,\n",
       "       'id': 'mCmda68AAAAJ',\n",
       "       'name': 'Aurko Roy'},\n",
       "      {'affiliation': 'Google Research',\n",
       "       'filled': False,\n",
       "       'id': 'GiCqMFkAAAAJ',\n",
       "       'name': 'Ming-Wei Chang'},\n",
       "      {'affiliation': 'Google',\n",
       "       'filled': False,\n",
       "       'id': 'mvojJ2MAAAAJ',\n",
       "       'name': 'Ben D Goodrich'},\n",
       "      {'affiliation': 'Professor of Computer Science and Director, Data Science Institute, Columbia University',\n",
       "       'filled': False,\n",
       "       'id': 'ujDhg2sAAAAJ',\n",
       "       'name': 'Kathleen McKeown'}],\n",
       "     'email': '@openai.com',\n",
       "     'filled': False,\n",
       "     'hindex': 14,\n",
       "     'hindex5y': 13,\n",
       "     'i10index': 15,\n",
       "     'i10index5y': 14,\n",
       "     'id': 'ygTCc6cAAAAJ',\n",
       "     'interests': ['Natural Language Processing',\n",
       "      'Machine Learning',\n",
       "      'Artificial Intelligence',\n",
       "      'Neural Networks',\n",
       "      'Deep Learning'],\n",
       "     'name': 'Arvind Neelakantan',\n",
       "     'publications': [{'bib': {'cites': '397',\n",
       "        'title': 'Efficient non-parametric estimation of multiple embeddings per word in vector space',\n",
       "        'year': '2015'},\n",
       "       'filled': False,\n",
       "       'id_citations': 'ygTCc6cAAAAJ:9yKSN-GCB0IC',\n",
       "       'source': 'citations'},\n",
       "      {'bib': {'cites': '263',\n",
       "        'title': 'Adding gradient noise improves learning for very deep networks',\n",
       "        'year': '2015'},\n",
       "       'filled': False,\n",
       "       'id_citations': 'ygTCc6cAAAAJ:Tyk-4Ss8FVUC',\n",
       "       'source': 'citations'},\n",
       "      {'bib': {'cites': '223',\n",
       "        'title': 'Compositional Vector Space Models for Knowledge Base Completion',\n",
       "        'year': '2015'},\n",
       "       'filled': False,\n",
       "       'id_citations': 'ygTCc6cAAAAJ:IjCSPb-OGe4C',\n",
       "       'source': 'citations'},\n",
       "      {'bib': {'cites': '223',\n",
       "        'title': 'Compositional vector space models for knowledge base inference',\n",
       "        'year': '2015'},\n",
       "       'filled': False,\n",
       "       'id_citations': 'ygTCc6cAAAAJ:kNdYIx-mwKoC',\n",
       "       'source': 'citations'},\n",
       "      {'bib': {'cites': '206',\n",
       "        'title': 'Neural programmer: Inducing latent programs with gradient descent',\n",
       "        'year': '2015'},\n",
       "       'filled': False,\n",
       "       'id_citations': 'ygTCc6cAAAAJ:zYLM7Y9cAGgC',\n",
       "       'source': 'citations'},\n",
       "      {'bib': {'cites': '125',\n",
       "        'title': 'Chains of reasoning over entities, relations, and text using recurrent neural networks',\n",
       "        'year': '2016'},\n",
       "       'filled': False,\n",
       "       'id_citations': 'ygTCc6cAAAAJ:WF5omc3nYNoC',\n",
       "       'source': 'citations'},\n",
       "      {'bib': {'cites': '94',\n",
       "        'title': 'Learning a natural language interface with neural programmer',\n",
       "        'year': '2016'},\n",
       "       'filled': False,\n",
       "       'id_citations': 'ygTCc6cAAAAJ:ufrVoPGSRksC',\n",
       "       'source': 'citations'},\n",
       "      {'bib': {'cites': '53',\n",
       "        'title': 'Inferring Missing Entity Type Instances for Knowledge Base Completion: New Dataset and Methods',\n",
       "        'year': '2015'},\n",
       "       'filled': False,\n",
       "       'id_citations': 'ygTCc6cAAAAJ:UeHWp8X0CEIC',\n",
       "       'source': 'citations'},\n",
       "      {'bib': {'cites': '37',\n",
       "        'title': 'Predicting the impact of scientific concepts using full‐text features',\n",
       "        'year': '2016'},\n",
       "       'filled': False,\n",
       "       'id_citations': 'ygTCc6cAAAAJ:Y0pCki6q_DkC',\n",
       "       'source': 'citations'},\n",
       "      {'bib': {'cites': '34',\n",
       "        'title': 'Generalizing to unseen entities and entity pairs with row-less universal schema',\n",
       "        'year': '2016'},\n",
       "       'filled': False,\n",
       "       'id_citations': 'ygTCc6cAAAAJ:eQOLeE2rZwMC',\n",
       "       'source': 'citations'},\n",
       "      {'bib': {'cites': '32',\n",
       "        'title': 'Learning Dictionaries for Named Entity Recognition using Minimal Supervision',\n",
       "        'year': '2014'},\n",
       "       'filled': False,\n",
       "       'id_citations': 'ygTCc6cAAAAJ:u-x6o8ySG0sC',\n",
       "       'source': 'citations'},\n",
       "      {'bib': {'cites': '25',\n",
       "        'title': 'Theory and experiments on vector quantized autoencoders',\n",
       "        'year': '2018'},\n",
       "       'filled': False,\n",
       "       'id_citations': 'ygTCc6cAAAAJ:0EnyYjriUFMC',\n",
       "       'source': 'citations'},\n",
       "      {'bib': {'cites': '20',\n",
       "        'title': 'Language models are few-shot learners',\n",
       "        'year': '2020'},\n",
       "       'filled': False,\n",
       "       'id_citations': 'ygTCc6cAAAAJ:YOwf2qJgpHMC',\n",
       "       'source': 'citations'},\n",
       "      {'bib': {'cites': '19',\n",
       "        'title': 'RelNet: End-to-end Modeling of Entities & Relations',\n",
       "        'year': '2017'},\n",
       "       'filled': False,\n",
       "       'id_citations': 'ygTCc6cAAAAJ:LkGwnXOMwfcC',\n",
       "       'source': 'citations'},\n",
       "      {'bib': {'cites': '14',\n",
       "        'title': 'Active error detection and resolution for speech-to-speech translation',\n",
       "        'year': '2012'},\n",
       "       'filled': False,\n",
       "       'id_citations': 'ygTCc6cAAAAJ:u5HHmVD_uO8C',\n",
       "       'source': 'citations'},\n",
       "      {'bib': {'cites': '13',\n",
       "        'title': 'Adding gradient noise improves learning for very deep networks (2015)'},\n",
       "       'filled': False,\n",
       "       'id_citations': 'ygTCc6cAAAAJ:Zph67rFs4hoC',\n",
       "       'source': 'citations'},\n",
       "      {'bib': {'cites': '7',\n",
       "        'title': 'Taskmaster-1: Toward a realistic and diverse dialog dataset',\n",
       "        'year': '2019'},\n",
       "       'filled': False,\n",
       "       'id_citations': 'ygTCc6cAAAAJ:MXK_kJrjxJIC',\n",
       "       'source': 'citations'},\n",
       "      {'bib': {'cites': '5',\n",
       "        'title': 'Incorporating selectional preferences in multi-hop relation extraction',\n",
       "        'year': '2016'},\n",
       "       'filled': False,\n",
       "       'id_citations': 'ygTCc6cAAAAJ:YsMSGLbcyi4C',\n",
       "       'source': 'citations'},\n",
       "      {'bib': {'cites': '3',\n",
       "        'title': 'Knowledge representation and reasoning with deep neural networks',\n",
       "        'year': '2017'},\n",
       "       'filled': False,\n",
       "       'id_citations': 'ygTCc6cAAAAJ:roLk4NBRz8UC',\n",
       "       'source': 'citations'},\n",
       "      {'bib': {'cites': '2',\n",
       "        'title': 'Parallel scheduled sampling',\n",
       "        'year': '2019'},\n",
       "       'filled': False,\n",
       "       'id_citations': 'ygTCc6cAAAAJ:8k81kl-MbHgC',\n",
       "       'source': 'citations'},\n",
       "      {'bib': {'cites': '2',\n",
       "        'title': 'Knowledge base completion using compositional vector space models',\n",
       "        'year': '2014'},\n",
       "       'filled': False,\n",
       "       'id_citations': 'ygTCc6cAAAAJ:_kc_bZDykSQC',\n",
       "       'source': 'citations'},\n",
       "      {'bib': {'cites': '1',\n",
       "        'title': 'Trading Off Diversity and Quality in Natural Language Generation',\n",
       "        'year': '2020'},\n",
       "       'filled': False,\n",
       "       'id_citations': 'ygTCc6cAAAAJ:ULOm3_A8WrAC',\n",
       "       'source': 'citations'},\n",
       "      {'bib': {'cites': '1',\n",
       "        'title': 'Neural assistant: Joint action prediction, response generation, and latent knowledge reasoning',\n",
       "        'year': '2019'},\n",
       "       'filled': False,\n",
       "       'id_citations': 'ygTCc6cAAAAJ:KlAtU1dfN6UC',\n",
       "       'source': 'citations'},\n",
       "      {'bib': {'cites': '0',\n",
       "        'title': 'Neural network programmer',\n",
       "        'year': '2017'},\n",
       "       'filled': False,\n",
       "       'id_citations': 'ygTCc6cAAAAJ:_FxGoFyzp5QC',\n",
       "       'source': 'citations'},\n",
       "      {'bib': {'cites': '0',\n",
       "        'title': 'A Hierarchical Model for Universal Schema Relation Extraction'},\n",
       "       'filled': False,\n",
       "       'id_citations': 'ygTCc6cAAAAJ:d1gkVwhDpl0C',\n",
       "       'source': 'citations'}],\n",
       "     'url_picture': 'https://scholar.google.com/citations?view_op=medium_photo&user=ygTCc6cAAAAJ'})]})"
      ]
     },
     "execution_count": 12,
     "metadata": {},
     "output_type": "execute_result"
    }
   ],
   "source": [
    "temp_auth_2019.keys(), temp_auth_2019"
   ]
  },
  {
   "cell_type": "code",
   "execution_count": 26,
   "metadata": {},
   "outputs": [
    {
     "name": "stdout",
     "output_type": "stream",
     "text": [
      "Ruoyu Sun(1) ['Ruoyu Sun']\n",
      "Tianhao Zhang_ ['Tianhao Zhang*']\n",
      "Kate Rakelly_ ['Kate Rakelly*']\n",
      "Yunhao Tang(1) ['Yunhao Tang']\n",
      "Michael O_Keeffe [\"Michael O'Keeffe\"]\n",
      "Artur d_Avila Garcez [\"Artur d'Avila Garcez\"]\n",
      "Stephan Günnemann(1) ['Stephan Günnemann']\n",
      "Florent CHIARONI. Mohamed-Cherif RAHAL. Nicolas HUEBER. Frédéric DUFAUX_ ['Florent CHIARONI. Mohamed-Cherif RAHAL. Nicolas HUEBER. Frédéric DUFAUX.']\n",
      "Peter O_Connor [\"Peter O'Connor\"]\n",
      "Donghoon Lee(1) ['Donghoon Lee']\n",
      "Octavian-Eugen Ganea_ ['Octavian-Eugen Ganea*']\n",
      "Kaicheng Yu_ ['Kaicheng Yu*']\n",
      "Mariya Toneva_ ['Mariya Toneva*']\n",
      "Luc Van Gool(1) ['Luc Van Gool']\n",
      "Jordan Boyd-Graber(1) ['Jordan Boyd-Graber']\n",
      "Jascha Sohl-dickstein(1) ['Jascha Sohl-dickstein']\n",
      "Dawn Song_ ['Dawn Song.']\n",
      "Rahul Ramesh_ ['Rahul Ramesh*']\n",
      "Yuan Yao(1) ['Yuan Yao']\n",
      "Filipe Mutz(1) ['Filipe Mutz']\n",
      "Tie-yan Liu(1) ['Tie-yan Liu']\n",
      "Remus Pop(1) ['Remus Pop']\n",
      "Jakob Verbeek(1) ['Jakob Verbeek']\n",
      "Shichong Peng_ ['Shichong Peng*']\n",
      "Bowen Xiao_ ['Bowen Xiao*']\n",
      "Cian O_Donnell [\"Cian O'Donnell\"]\n",
      "Tom Sercu_ ['Tom Sercu*']\n",
      "Grégoire Mialon_ ['Grégoire Mialon*']\n",
      "Cordelia SCHMID(1) ['Cordelia SCHMID']\n",
      "Marc_Aurelio Ranzato [\"Marc'Aurelio Ranzato\"]\n",
      "Csaba Szepesvari_ ['Csaba Szepesvari*']\n",
      "Nivio Ziviani(1) ['Nivio Ziviani']\n",
      "Daniel Mcduff(1) ['Daniel Mcduff']\n",
      "James O_ Neill [\"James O' Neill\"]\n",
      "Jinfeng Yi(1) ['Jinfeng Yi']\n",
      "Tengfei Ma_ ['Tengfei Ma*']\n"
     ]
    }
   ],
   "source": [
    "for f in files_2019:\n",
    "    try:\n",
    "        with open(f, \"rb\") as temp_file:\n",
    "            temp_auth_2019 = pickle.load(temp_file)\n",
    "        temp_auth_2019 = ast.literal_eval(temp_auth_2019)\n",
    "\n",
    "        auth = f.rsplit(\"/\", 1)[1]\n",
    "        \n",
    "        if auth != list(temp_auth_2019.keys())[0]:\n",
    "            print(auth, list(temp_auth_2019.keys()))\n",
    "            auth = list(temp_auth_2019.keys())[0]\n",
    "\n",
    "        rm_ast = auth.replace(\"*\", \"\")\n",
    "        unaacented_auth = unidecode.unidecode(rm_ast)\n",
    "        clean_auth = unaacented_auth.lower()\n",
    "\n",
    "        key = clean_auth[0]\n",
    "\n",
    "        if ord(key) <= 122 and ord(key) >=97:\n",
    "            temp_buffer[key][clean_auth] += temp_auth_2019[auth]\n",
    "\n",
    "            if len(temp_buffer[key]) > 5:\n",
    "                read_to_update = None\n",
    "                with open(\"author_name_index/\" + key + \".pkl\", \"rb\") as f:\n",
    "                    read_to_update = pickle.load(f)\n",
    "                for indi_auth in temp_buffer[key]:\n",
    "                    read_to_update[indi_auth] += temp_buffer[key][indi_auth]\n",
    "                with open(\"author_name_index/\" + key + \".pkl\", \"wb\") as f:\n",
    "                    pickle.dump(read_to_update, f)\n",
    "                temp_buffer[key] = defaultdict(list)\n",
    "        else:\n",
    "            print(\"Non alpha key: \", auth, clean_auth)\n",
    "    except Exception as ex:\n",
    "        print(f, ex)"
   ]
  },
  {
   "cell_type": "code",
   "execution_count": 27,
   "metadata": {},
   "outputs": [],
   "source": [
    "for key in temp_buffer:\n",
    "    read_to_update = None\n",
    "    \n",
    "    with open(\"author_name_index/\" + key + \".pkl\", \"rb\") as f:\n",
    "        read_to_update = pickle.load(f)\n",
    "    \n",
    "    for indi_auth in temp_buffer[key]:\n",
    "        read_to_update[indi_auth] += temp_buffer[key][indi_auth]\n",
    "    \n",
    "    with open(\"author_name_index/\" + key + \".pkl\", \"wb\") as f:\n",
    "        pickle.dump(read_to_update, f)\n",
    "    \n",
    "    temp_buffer[key] = defaultdict(list)"
   ]
  },
  {
   "cell_type": "code",
   "execution_count": 28,
   "metadata": {},
   "outputs": [],
   "source": [
    "ready_to_update = None\n"
   ]
  },
  {
   "cell_type": "code",
   "execution_count": null,
   "metadata": {},
   "outputs": [],
   "source": []
  },
  {
   "cell_type": "markdown",
   "metadata": {},
   "source": [
    "### a. 2020"
   ]
  },
  {
   "cell_type": "code",
   "execution_count": 29,
   "metadata": {},
   "outputs": [
    {
     "name": "stdout",
     "output_type": "stream",
     "text": [
      "['./individual_year_filies/2020_multiple_files/Copy of PARTIAL_author_info_scholar_2020_3.pickle_03', './individual_year_filies/2020_multiple_files/Copy of PARTIAL_author_info_scholar_2020_0.pickle', './individual_year_filies/2020_multiple_files/Copy of PARTIAL_author_info_scholar_2020_2.pickle', './individual_year_filies/2020_multiple_files/Copy of PARTIAL_author_info_scholar_2020_3.pickle', './individual_year_filies/2020_multiple_files/Copy of PARTIAL_author_info_scholar_2020_3.pickle_02', './individual_year_filies/2020_multiple_files/Copy of PARTIAL_author_info_scholar_2020_1.pickle']\n"
     ]
    }
   ],
   "source": [
    "# Collate all 2020 files as it looks like there is some duplicacy\n",
    "\n",
    "files_2020 = glob.glob(\"./individual_year_filies/2020_multiple_files/Copy of PARTIAL*\")\n",
    "print(files_2020)"
   ]
  },
  {
   "cell_type": "code",
   "execution_count": 30,
   "metadata": {},
   "outputs": [],
   "source": [
    "temp_auths_2020 = {}"
   ]
  },
  {
   "cell_type": "code",
   "execution_count": 31,
   "metadata": {},
   "outputs": [
    {
     "name": "stdout",
     "output_type": "stream",
     "text": [
      "Copy of PARTIAL_author_info_scholar_2020_3.pickle_03\n",
      "Copy of PARTIAL_author_info_scholar_2020_0.pickle\n",
      "Copy of PARTIAL_author_info_scholar_2020_2.pickle\n",
      "Copy of PARTIAL_author_info_scholar_2020_3.pickle\n",
      "Copy of PARTIAL_author_info_scholar_2020_3.pickle_02\n",
      "Copy of PARTIAL_author_info_scholar_2020_1.pickle\n"
     ]
    }
   ],
   "source": [
    "for f in files_2020:\n",
    "    print(f.rsplit(\"/\", 1)[1])\n",
    "    \n",
    "    with open(f, \"rb\") as temp_2020_fc:\n",
    "        temp_auth_2020_sub_data = pickle.load(temp_2020_fc)\n",
    "        \n",
    "    temp_auth_2020_sub_data = ast.literal_eval(temp_auth_2020_sub_data)\n",
    "    \n",
    "    for auth in temp_auth_2020_sub_data:\n",
    "        if auth:    \n",
    "            rm_ast = auth.replace(\"*\", \"\") \n",
    "            unaacented_auth = unidecode.unidecode(rm_ast)\n",
    "            clean_auth = unaacented_auth.lower()\n",
    "\n",
    "            key = clean_auth[0]\n",
    "\n",
    "            if ord(key) <= 122 and ord(key) >=97:\n",
    "                temp_buffer[key][clean_auth] += temp_auth_2020_sub_data[auth]\n",
    "\n",
    "                if len(temp_buffer[key]) > 5:\n",
    "                    read_to_update = None\n",
    "                    with open(\"author_name_index/\" + key + \".pkl\", \"rb\") as f:\n",
    "                        read_to_update = pickle.load(f)\n",
    "                    for indi_auth in temp_buffer[key]:\n",
    "                        read_to_update[indi_auth] += temp_buffer[key][indi_auth]\n",
    "                    with open(\"author_name_index/\" + key + \".pkl\", \"wb\") as f:\n",
    "                        pickle.dump(read_to_update, f)\n",
    "                    temp_buffer[key] = defaultdict(list)\n",
    "            else:\n",
    "                print(\"Non alpha key: \", auth, clean_auth)\n",
    "        else:\n",
    "            print(auth, temp_auth_2020_sub_data[auth])\n",
    "    \n",
    "    temp_auth_2020_sub_data = None"
   ]
  },
  {
   "cell_type": "code",
   "execution_count": 32,
   "metadata": {},
   "outputs": [],
   "source": [
    "for key in temp_buffer:\n",
    "    read_to_update = None\n",
    "    \n",
    "    with open(\"author_name_index/\" + key + \".pkl\", \"rb\") as f:\n",
    "        read_to_update = pickle.load(f)\n",
    "    \n",
    "    for indi_auth in temp_buffer[key]:\n",
    "        read_to_update[indi_auth] += temp_buffer[key][indi_auth]\n",
    "    \n",
    "    with open(\"author_name_index/\" + key + \".pkl\", \"wb\") as f:\n",
    "        pickle.dump(read_to_update, f)\n",
    "    \n",
    "    temp_buffer[key] = defaultdict(list)"
   ]
  },
  {
   "cell_type": "code",
   "execution_count": 33,
   "metadata": {},
   "outputs": [],
   "source": [
    "read_to_update = None"
   ]
  },
  {
   "cell_type": "code",
   "execution_count": null,
   "metadata": {},
   "outputs": [],
   "source": []
  },
  {
   "cell_type": "code",
   "execution_count": null,
   "metadata": {},
   "outputs": [],
   "source": []
  },
  {
   "cell_type": "code",
   "execution_count": null,
   "metadata": {},
   "outputs": [],
   "source": []
  },
  {
   "cell_type": "code",
   "execution_count": 13,
   "metadata": {
    "colab": {},
    "colab_type": "code",
    "id": "jk9BaHNMxSC2"
   },
   "outputs": [],
   "source": [
    "data_raw = pd.read_pickle('../../features/all_data_features_17_20.pkl')\n",
    "# data_raw.head()\n",
    "data = data_raw[[\"id\", \"title\", \"label\", \"authors\"]]\n",
    "org_papers = data.to_dict('index')"
   ]
  },
  {
   "cell_type": "code",
   "execution_count": null,
   "metadata": {
    "colab": {},
    "colab_type": "code",
    "id": "g62mC5Nix-vB"
   },
   "outputs": [],
   "source": []
  },
  {
   "cell_type": "code",
   "execution_count": null,
   "metadata": {
    "colab": {},
    "colab_type": "code",
    "id": "dkjGJ0BJx_t6"
   },
   "outputs": [],
   "source": []
  },
  {
   "cell_type": "code",
   "execution_count": null,
   "metadata": {
    "colab": {},
    "colab_type": "code",
    "id": "QPONEb_Px_wM"
   },
   "outputs": [],
   "source": []
  },
  {
   "cell_type": "markdown",
   "metadata": {
    "colab_type": "text",
    "id": "lXUIhrGIyBXj"
   },
   "source": [
    "Collate all the multiple data files"
   ]
  },
  {
   "cell_type": "code",
   "execution_count": 14,
   "metadata": {
    "colab": {},
    "colab_type": "code",
    "id": "MHtEBX5Rx_0o"
   },
   "outputs": [],
   "source": [
    "all_authors_gs = {}"
   ]
  },
  {
   "cell_type": "code",
   "execution_count": null,
   "metadata": {
    "colab": {
     "base_uri": "https://localhost:8080/",
     "height": 53
    },
    "colab_type": "code",
    "id": "s-erGoyjzdQc",
    "outputId": "f3091e3e-fc9c-4ad1-f04f-11cec3f0286f"
   },
   "outputs": [
    {
     "name": "stdout",
     "output_type": "stream",
     "text": [
      "Ind len:  377\n",
      "Total length:  377\n"
     ]
    }
   ],
   "source": [
    "for f in files:\n",
    "    with open(f, \"rb\") as fff:\n",
    "        temp_auths = pickle.load(fff)\n",
    "    temp_auths = ast.literal_eval(temp_auths)\n",
    "    print(\"Ind len: \", len(temp_auths))\n",
    "    all_authors_gs.update(temp_auths)\n",
    "    print(\"Total length: \", len(all_authors_gs))"
   ]
  },
  {
   "cell_type": "code",
   "execution_count": null,
   "metadata": {
    "colab": {},
    "colab_type": "code",
    "id": "Y97sfG9q0Ccc"
   },
   "outputs": [],
   "source": [
    "papers_data = pd.read_pickle(\"../papers_2020.pkl\".format(y))"
   ]
  }
 ],
 "metadata": {
  "colab": {
   "name": "rerun_and_collate.ipynb",
   "provenance": []
  },
  "kernelspec": {
   "display_name": "Python 3",
   "language": "python",
   "name": "python3"
  },
  "language_info": {
   "codemirror_mode": {
    "name": "ipython",
    "version": 3
   },
   "file_extension": ".py",
   "mimetype": "text/x-python",
   "name": "python",
   "nbconvert_exporter": "python",
   "pygments_lexer": "ipython3",
   "version": "3.5.2"
  }
 },
 "nbformat": 4,
 "nbformat_minor": 1
}
