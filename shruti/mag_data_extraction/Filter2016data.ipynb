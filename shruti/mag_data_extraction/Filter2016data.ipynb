{
 "cells": [
  {
   "cell_type": "code",
   "execution_count": 1,
   "metadata": {},
   "outputs": [],
   "source": [
    "import glob\n",
    "import zipfile\n",
    "import json\n",
    "import pandas as pd\n",
    "import pickle\n",
    "from pprint import pprint"
   ]
  },
  {
   "cell_type": "code",
   "execution_count": 2,
   "metadata": {},
   "outputs": [],
   "source": [
    "data_path = \"/home/singh_shruti/data/mag_aminer/\""
   ]
  },
  {
   "cell_type": "code",
   "execution_count": null,
   "metadata": {},
   "outputs": [],
   "source": []
  },
  {
   "cell_type": "code",
   "execution_count": null,
   "metadata": {},
   "outputs": [],
   "source": []
  },
  {
   "cell_type": "markdown",
   "metadata": {},
   "source": [
    "## Count references in the whole dataset"
   ]
  },
  {
   "cell_type": "code",
   "execution_count": 13,
   "metadata": {},
   "outputs": [],
   "source": [
    "with open('mag_papers.pickle', 'rb') as handle:\n",
    "    all_mag_papers = pickle.load(handle)"
   ]
  },
  {
   "cell_type": "code",
   "execution_count": 15,
   "metadata": {},
   "outputs": [],
   "source": [
    "total_papers = 0\n",
    "total_refs = 0\n",
    "ref_counts = 0\n",
    "\n",
    "for v in all_mag_papers.values():\n",
    "#     print(v)\n",
    "#     break\n",
    "    total_papers += 1\n",
    "    if \"references\" in v and v[\"references\"]:\n",
    "        total_refs += len(v[\"references\"])\n",
    "        ref_counts += 1"
   ]
  },
  {
   "cell_type": "code",
   "execution_count": 16,
   "metadata": {},
   "outputs": [
    {
     "data": {
      "text/plain": [
       "(23873092, 0, 0)"
      ]
     },
     "execution_count": 16,
     "metadata": {},
     "output_type": "execute_result"
    }
   ],
   "source": [
    "total_papers, total_refs, ref_counts"
   ]
  },
  {
   "cell_type": "code",
   "execution_count": null,
   "metadata": {},
   "outputs": [],
   "source": []
  },
  {
   "cell_type": "markdown",
   "metadata": {},
   "source": [
    "## Filtering subsests"
   ]
  },
  {
   "cell_type": "code",
   "execution_count": 3,
   "metadata": {},
   "outputs": [],
   "source": [
    "paper_files = glob.glob(data_path + \"mag_papers_[0-9].zip\")\n",
    "author_files = glob.glob(data_path + \"mag_authors_[0-9].zip\")"
   ]
  },
  {
   "cell_type": "code",
   "execution_count": 4,
   "metadata": {},
   "outputs": [
    {
     "data": {
      "text/plain": [
       "(['/home/singh_shruti/data/mag_aminer/mag_papers_2.zip',\n",
       "  '/home/singh_shruti/data/mag_aminer/mag_papers_1.zip',\n",
       "  '/home/singh_shruti/data/mag_aminer/mag_papers_0.zip'],\n",
       " ['/home/singh_shruti/data/mag_aminer/mag_authors_2.zip',\n",
       "  '/home/singh_shruti/data/mag_aminer/mag_authors_0.zip',\n",
       "  '/home/singh_shruti/data/mag_aminer/mag_authors_1.zip'])"
      ]
     },
     "execution_count": 4,
     "metadata": {},
     "output_type": "execute_result"
    }
   ],
   "source": [
    "paper_files, author_files"
   ]
  },
  {
   "cell_type": "code",
   "execution_count": 7,
   "metadata": {
    "scrolled": true
   },
   "outputs": [
    {
     "name": "stdout",
     "output_type": "stream",
     "text": [
      "['mag_papers_4.txt', 'mag_papers_5.txt', 'mag_papers_6.txt', 'mag_papers_7.txt']\n",
      "Read file mag_papers_4.txt in archive ['mag_papers_4.txt', 'mag_papers_5.txt', 'mag_papers_6.txt', 'mag_papers_7.txt']\n",
      "Length of file:  21477822\n",
      "0\n",
      "1000000\n",
      "2000000\n",
      "3000000\n",
      "4000000\n",
      "5000000\n",
      "6000000\n",
      "7000000\n",
      "8000000\n",
      "9000000\n",
      "10000000\n",
      "11000000\n",
      "12000000\n",
      "13000000\n",
      "14000000\n",
      "15000000\n",
      "16000000\n",
      "17000000\n",
      "18000000\n",
      "19000000\n",
      "20000000\n",
      "21000000\n",
      "err for json loading\n",
      "Expecting value: line 1 column 1 (char 0)\n"
     ]
    }
   ],
   "source": [
    "mag_papers = {}\n",
    "\n",
    "later_2016 = 0\n",
    "venue_missing = 0\n",
    "till_2016 = 0\n",
    "references_present = 0\n",
    "\n",
    "for f in paper_files[1:2]:\n",
    "    archive = zipfile.ZipFile(f, 'r')\n",
    "    zip_files = archive.namelist()\n",
    "    print(zip_files)\n",
    "    for fi in zip_files:\n",
    "        bytes_text = archive.read(fi)\n",
    "        print(\"Read file {} in archive {}\".format(fi, zip_files))\n",
    "        try:\n",
    "            str_list = bytes_text.decode('utf-8').split(\"\\n\")\n",
    "            print(\"Length of file: \", len(str_list))\n",
    "            idx = 0\n",
    "            \n",
    "            for l in str_list:\n",
    "                if idx % 1000000 == 0:\n",
    "                    print(idx)\n",
    "                idx += 1\n",
    "                try:\n",
    "                    paper_dict = json.loads(l)\n",
    "                    if \"year\" in paper_dict and paper_dict[\"year\"]:\n",
    "                        if paper_dict[\"year\"] < 2017:\n",
    "                            till_2016 = till_2016 + 1\n",
    "                            mag_papers[paper_dict[\"id\"]] = paper_dict\n",
    "                            if \"references\" in paper_dict and paper_dict[\"references\"]:\n",
    "                                references_present += 1\n",
    "                        else:\n",
    "                            later_2016 = later_2016 + 1\n",
    "                    else:\n",
    "                        venue_missing = venue_missing + 1\n",
    "                except Exception as ex:\n",
    "                    print(\"err for json loading\")\n",
    "                    print(ex)\n",
    "        except Exception as ex:\n",
    "            print(\"err for bytes decoding\")\n",
    "            print(ex)\n",
    "        break"
   ]
  },
  {
   "cell_type": "code",
   "execution_count": 12,
   "metadata": {},
   "outputs": [],
   "source": [
    "total_papers = 0\n",
    "total_refs = 0\n",
    "ref_counts = 0\n",
    "\n",
    "uniq_keys = []\n",
    "\n",
    "for v in mag_papers.values():\n",
    "    uniq_keys = uniq_keys + list(v.keys())\n",
    "    uniq_keys = list(set(uniq_keys))\n",
    "#     total_papers += 1\n",
    "#     if \"references\" in v and v[\"references\"]:\n",
    "#         total_refs += len(v[\"references\"])\n",
    "#         ref_counts += 1"
   ]
  },
  {
   "cell_type": "code",
   "execution_count": 13,
   "metadata": {},
   "outputs": [
    {
     "data": {
      "text/plain": [
       "['authors',\n",
       " 'venue',\n",
       " 'year',\n",
       " 'doi',\n",
       " 'n_citation',\n",
       " 'volume',\n",
       " 'title',\n",
       " 'publisher',\n",
       " 'id',\n",
       " 'issue',\n",
       " 'page_start',\n",
       " 'doc_type',\n",
       " 'page_end']"
      ]
     },
     "execution_count": 13,
     "metadata": {},
     "output_type": "execute_result"
    }
   ],
   "source": [
    "uniq_keys"
   ]
  },
  {
   "cell_type": "code",
   "execution_count": 15,
   "metadata": {},
   "outputs": [
    {
     "name": "stdout",
     "output_type": "stream",
     "text": [
      "\u001b[0m\u001b[38;5;9mmag_authors_0.zip\u001b[0m  \u001b[38;5;9mmag_papers_0.zip\u001b[0m  \u001b[38;5;9mmag_venues.zip\u001b[0m\r\n",
      "\u001b[38;5;9mmag_authors_1.zip\u001b[0m  \u001b[38;5;9mmag_papers_1.zip\u001b[0m  \u001b[38;5;9mpaper_linking_pairs.zip\u001b[0m\r\n",
      "\u001b[38;5;9mmag_authors_2.zip\u001b[0m  \u001b[38;5;9mmag_papers_2.zip\u001b[0m  \u001b[38;5;9mvenue_linking_pairs.zip\u001b[0m\r\n"
     ]
    }
   ],
   "source": [
    "ls /home/singh_shruti/data/mag_aminer/"
   ]
  },
  {
   "cell_type": "code",
   "execution_count": null,
   "metadata": {},
   "outputs": [],
   "source": []
  },
  {
   "cell_type": "code",
   "execution_count": null,
   "metadata": {},
   "outputs": [],
   "source": []
  },
  {
   "cell_type": "markdown",
   "metadata": {},
   "source": [
    "## Read linking file"
   ]
  },
  {
   "cell_type": "code",
   "execution_count": 22,
   "metadata": {},
   "outputs": [
    {
     "name": "stdout",
     "output_type": "stream",
     "text": [
      "['venue_linking_pairs.txt']\n"
     ]
    }
   ],
   "source": [
    "archive = zipfile.ZipFile(data_path+'venue_linking_pairs.zip', 'r')\n",
    "zip_files = archive.namelist()\n",
    "print(zip_files)\n",
    "for fi in zip_files:\n",
    "    bytes_text = archive.read(fi)\n",
    "#     try:\n",
    "#         str_list = bytes_text.decode('utf-8').split(\"\\n\")\n",
    "#         for l in str_list:\n",
    "#                 if idx % 1000000 == 0:\n",
    "#                     print(idx)\n",
    "#                 idx += 1\n",
    "#                 try:\n",
    "#                     paper_dict = json.loads(l)\n",
    "#     except Exception as ex:\n",
    "#         print(ex)"
   ]
  },
  {
   "cell_type": "code",
   "execution_count": 23,
   "metadata": {},
   "outputs": [
    {
     "data": {
      "text/plain": [
       "b'{\"mid\": \"5bf573b81c5a1dcdd96ec669\", \"aid\": \"5451a5c9e0cf0b02b5f3bd3c\"}\\n{\"mid\": \"5bf573b81c5a1dcdd96e'"
      ]
     },
     "execution_count": 23,
     "metadata": {},
     "output_type": "execute_result"
    }
   ],
   "source": [
    "bytes_text[0:100]"
   ]
  },
  {
   "cell_type": "markdown",
   "metadata": {},
   "source": [
    "#### Not useful"
   ]
  },
  {
   "cell_type": "code",
   "execution_count": null,
   "metadata": {},
   "outputs": [],
   "source": []
  },
  {
   "cell_type": "code",
   "execution_count": null,
   "metadata": {},
   "outputs": [],
   "source": []
  },
  {
   "cell_type": "code",
   "execution_count": null,
   "metadata": {},
   "outputs": [],
   "source": []
  },
  {
   "cell_type": "markdown",
   "metadata": {},
   "source": [
    "## Read SS data"
   ]
  },
  {
   "cell_type": "code",
   "execution_count": 25,
   "metadata": {},
   "outputs": [
    {
     "name": "stdout",
     "output_type": "stream",
     "text": [
      "license.txt       \u001b[0m\u001b[38;5;9ms2-corpus-044.gz\u001b[0m  \u001b[38;5;9ms2-corpus-090.gz\u001b[0m  \u001b[38;5;9ms2-corpus-141.gz\u001b[0m\r\n",
      "manifest.txt      \u001b[38;5;9ms2-corpus-045.gz\u001b[0m  \u001b[38;5;9ms2-corpus-091.gz\u001b[0m  \u001b[38;5;9ms2-corpus-142.gz\u001b[0m\r\n",
      "\u001b[38;5;9ms2-corpus-000.gz\u001b[0m  \u001b[38;5;9ms2-corpus-046.gz\u001b[0m  \u001b[38;5;9ms2-corpus-092.gz\u001b[0m  \u001b[38;5;9ms2-corpus-143.gz\u001b[0m\r\n",
      "\u001b[38;5;9ms2-corpus-001.gz\u001b[0m  \u001b[38;5;9ms2-corpus-047.gz\u001b[0m  \u001b[38;5;9ms2-corpus-093.gz\u001b[0m  \u001b[38;5;9ms2-corpus-144.gz\u001b[0m\r\n",
      "\u001b[38;5;9ms2-corpus-002.gz\u001b[0m  \u001b[38;5;9ms2-corpus-048.gz\u001b[0m  \u001b[38;5;9ms2-corpus-094.gz\u001b[0m  \u001b[38;5;9ms2-corpus-145.gz\u001b[0m\r\n",
      "\u001b[38;5;9ms2-corpus-003.gz\u001b[0m  \u001b[38;5;9ms2-corpus-049.gz\u001b[0m  \u001b[38;5;9ms2-corpus-095.gz\u001b[0m  \u001b[38;5;9ms2-corpus-146.gz\u001b[0m\r\n",
      "\u001b[38;5;9ms2-corpus-004.gz\u001b[0m  \u001b[38;5;9ms2-corpus-050.gz\u001b[0m  \u001b[38;5;9ms2-corpus-096.gz\u001b[0m  \u001b[38;5;9ms2-corpus-147.gz\u001b[0m\r\n",
      "\u001b[38;5;9ms2-corpus-005.gz\u001b[0m  \u001b[38;5;9ms2-corpus-051.gz\u001b[0m  \u001b[38;5;9ms2-corpus-097.gz\u001b[0m  \u001b[38;5;9ms2-corpus-148.gz\u001b[0m\r\n",
      "\u001b[38;5;9ms2-corpus-006.gz\u001b[0m  \u001b[38;5;9ms2-corpus-052.gz\u001b[0m  \u001b[38;5;9ms2-corpus-098.gz\u001b[0m  \u001b[38;5;9ms2-corpus-149.gz\u001b[0m\r\n",
      "\u001b[38;5;9ms2-corpus-007.gz\u001b[0m  \u001b[38;5;9ms2-corpus-053.gz\u001b[0m  \u001b[38;5;9ms2-corpus-099.gz\u001b[0m  \u001b[38;5;9ms2-corpus-150.gz\u001b[0m\r\n",
      "\u001b[38;5;9ms2-corpus-008.gz\u001b[0m  \u001b[38;5;9ms2-corpus-054.gz\u001b[0m  \u001b[38;5;9ms2-corpus-100.gz\u001b[0m  \u001b[38;5;9ms2-corpus-151.gz\u001b[0m\r\n",
      "\u001b[38;5;9ms2-corpus-009.gz\u001b[0m  \u001b[38;5;9ms2-corpus-055.gz\u001b[0m  \u001b[38;5;9ms2-corpus-101.gz\u001b[0m  \u001b[38;5;9ms2-corpus-152.gz\u001b[0m\r\n",
      "\u001b[38;5;9ms2-corpus-010.gz\u001b[0m  \u001b[38;5;9ms2-corpus-056.gz\u001b[0m  \u001b[38;5;9ms2-corpus-102.gz\u001b[0m  \u001b[38;5;9ms2-corpus-153.gz\u001b[0m\r\n",
      "\u001b[38;5;9ms2-corpus-011.gz\u001b[0m  \u001b[38;5;9ms2-corpus-057.gz\u001b[0m  \u001b[38;5;9ms2-corpus-103.gz\u001b[0m  \u001b[38;5;9ms2-corpus-154.gz\u001b[0m\r\n",
      "\u001b[38;5;9ms2-corpus-012.gz\u001b[0m  \u001b[38;5;9ms2-corpus-058.gz\u001b[0m  \u001b[38;5;9ms2-corpus-104.gz\u001b[0m  \u001b[38;5;9ms2-corpus-155.gz\u001b[0m\r\n",
      "\u001b[38;5;9ms2-corpus-013.gz\u001b[0m  \u001b[38;5;9ms2-corpus-059.gz\u001b[0m  \u001b[38;5;9ms2-corpus-105.gz\u001b[0m  \u001b[38;5;9ms2-corpus-156.gz\u001b[0m\r\n",
      "\u001b[38;5;9ms2-corpus-014.gz\u001b[0m  \u001b[38;5;9ms2-corpus-060.gz\u001b[0m  \u001b[38;5;9ms2-corpus-107.gz\u001b[0m  \u001b[38;5;9ms2-corpus-157.gz\u001b[0m\r\n",
      "\u001b[38;5;9ms2-corpus-015.gz\u001b[0m  \u001b[38;5;9ms2-corpus-061.gz\u001b[0m  \u001b[38;5;9ms2-corpus-108.gz\u001b[0m  \u001b[38;5;9ms2-corpus-158.gz\u001b[0m\r\n",
      "\u001b[38;5;9ms2-corpus-016.gz\u001b[0m  \u001b[38;5;9ms2-corpus-062.gz\u001b[0m  \u001b[38;5;9ms2-corpus-109.gz\u001b[0m  \u001b[38;5;9ms2-corpus-159.gz\u001b[0m\r\n",
      "\u001b[38;5;9ms2-corpus-017.gz\u001b[0m  \u001b[38;5;9ms2-corpus-063.gz\u001b[0m  \u001b[38;5;9ms2-corpus-110.gz\u001b[0m  \u001b[38;5;9ms2-corpus-160.gz\u001b[0m\r\n",
      "\u001b[38;5;9ms2-corpus-018.gz\u001b[0m  \u001b[38;5;9ms2-corpus-064.gz\u001b[0m  \u001b[38;5;9ms2-corpus-112.gz\u001b[0m  \u001b[38;5;9ms2-corpus-161.gz\u001b[0m\r\n",
      "\u001b[38;5;9ms2-corpus-019.gz\u001b[0m  \u001b[38;5;9ms2-corpus-065.gz\u001b[0m  \u001b[38;5;9ms2-corpus-114.gz\u001b[0m  \u001b[38;5;9ms2-corpus-162.gz\u001b[0m\r\n",
      "\u001b[38;5;9ms2-corpus-020.gz\u001b[0m  \u001b[38;5;9ms2-corpus-066.gz\u001b[0m  \u001b[38;5;9ms2-corpus-115.gz\u001b[0m  \u001b[38;5;9ms2-corpus-163.gz\u001b[0m\r\n",
      "\u001b[38;5;9ms2-corpus-021.gz\u001b[0m  \u001b[38;5;9ms2-corpus-067.gz\u001b[0m  \u001b[38;5;9ms2-corpus-118.gz\u001b[0m  \u001b[38;5;9ms2-corpus-164.gz\u001b[0m\r\n",
      "\u001b[38;5;9ms2-corpus-022.gz\u001b[0m  \u001b[38;5;9ms2-corpus-068.gz\u001b[0m  \u001b[38;5;9ms2-corpus-119.gz\u001b[0m  \u001b[38;5;9ms2-corpus-165.gz\u001b[0m\r\n",
      "\u001b[38;5;9ms2-corpus-023.gz\u001b[0m  \u001b[38;5;9ms2-corpus-069.gz\u001b[0m  \u001b[38;5;9ms2-corpus-120.gz\u001b[0m  \u001b[38;5;9ms2-corpus-166.gz\u001b[0m\r\n",
      "\u001b[38;5;9ms2-corpus-024.gz\u001b[0m  \u001b[38;5;9ms2-corpus-070.gz\u001b[0m  \u001b[38;5;9ms2-corpus-121.gz\u001b[0m  \u001b[38;5;9ms2-corpus-167.gz\u001b[0m\r\n",
      "\u001b[38;5;9ms2-corpus-025.gz\u001b[0m  \u001b[38;5;9ms2-corpus-071.gz\u001b[0m  \u001b[38;5;9ms2-corpus-122.gz\u001b[0m  \u001b[38;5;9ms2-corpus-168.gz\u001b[0m\r\n",
      "\u001b[38;5;9ms2-corpus-026.gz\u001b[0m  \u001b[38;5;9ms2-corpus-072.gz\u001b[0m  \u001b[38;5;9ms2-corpus-123.gz\u001b[0m  \u001b[38;5;9ms2-corpus-169.gz\u001b[0m\r\n",
      "\u001b[38;5;9ms2-corpus-027.gz\u001b[0m  \u001b[38;5;9ms2-corpus-073.gz\u001b[0m  \u001b[38;5;9ms2-corpus-124.gz\u001b[0m  \u001b[38;5;9ms2-corpus-170.gz\u001b[0m\r\n",
      "\u001b[38;5;9ms2-corpus-028.gz\u001b[0m  \u001b[38;5;9ms2-corpus-074.gz\u001b[0m  \u001b[38;5;9ms2-corpus-125.gz\u001b[0m  \u001b[38;5;9ms2-corpus-171.gz\u001b[0m\r\n",
      "\u001b[38;5;9ms2-corpus-029.gz\u001b[0m  \u001b[38;5;9ms2-corpus-075.gz\u001b[0m  \u001b[38;5;9ms2-corpus-126.gz\u001b[0m  \u001b[38;5;9ms2-corpus-172.gz\u001b[0m\r\n",
      "\u001b[38;5;9ms2-corpus-030.gz\u001b[0m  \u001b[38;5;9ms2-corpus-076.gz\u001b[0m  \u001b[38;5;9ms2-corpus-127.gz\u001b[0m  \u001b[38;5;9ms2-corpus-173.gz\u001b[0m\r\n",
      "\u001b[38;5;9ms2-corpus-031.gz\u001b[0m  \u001b[38;5;9ms2-corpus-077.gz\u001b[0m  \u001b[38;5;9ms2-corpus-128.gz\u001b[0m  \u001b[38;5;9ms2-corpus-174.gz\u001b[0m\r\n",
      "\u001b[38;5;9ms2-corpus-032.gz\u001b[0m  \u001b[38;5;9ms2-corpus-078.gz\u001b[0m  \u001b[38;5;9ms2-corpus-129.gz\u001b[0m  \u001b[38;5;9ms2-corpus-175.gz\u001b[0m\r\n",
      "\u001b[38;5;9ms2-corpus-033.gz\u001b[0m  \u001b[38;5;9ms2-corpus-079.gz\u001b[0m  \u001b[38;5;9ms2-corpus-130.gz\u001b[0m  \u001b[38;5;9ms2-corpus-176.gz\u001b[0m\r\n",
      "\u001b[38;5;9ms2-corpus-034.gz\u001b[0m  \u001b[38;5;9ms2-corpus-080.gz\u001b[0m  \u001b[38;5;9ms2-corpus-131.gz\u001b[0m  \u001b[38;5;9ms2-corpus-177.gz\u001b[0m\r\n",
      "\u001b[38;5;9ms2-corpus-035.gz\u001b[0m  \u001b[38;5;9ms2-corpus-081.gz\u001b[0m  \u001b[38;5;9ms2-corpus-132.gz\u001b[0m  \u001b[38;5;9ms2-corpus-178.gz\u001b[0m\r\n",
      "\u001b[38;5;9ms2-corpus-036.gz\u001b[0m  \u001b[38;5;9ms2-corpus-082.gz\u001b[0m  \u001b[38;5;9ms2-corpus-133.gz\u001b[0m  \u001b[38;5;9ms2-corpus-179.gz\u001b[0m\r\n",
      "\u001b[38;5;9ms2-corpus-037.gz\u001b[0m  \u001b[38;5;9ms2-corpus-083.gz\u001b[0m  \u001b[38;5;9ms2-corpus-134.gz\u001b[0m  \u001b[38;5;9ms2-corpus-180.gz\u001b[0m\r\n",
      "\u001b[38;5;9ms2-corpus-038.gz\u001b[0m  \u001b[38;5;9ms2-corpus-084.gz\u001b[0m  \u001b[38;5;9ms2-corpus-135.gz\u001b[0m  \u001b[38;5;9ms2-corpus-181.gz\u001b[0m\r\n",
      "\u001b[38;5;9ms2-corpus-039.gz\u001b[0m  \u001b[38;5;9ms2-corpus-085.gz\u001b[0m  \u001b[38;5;9ms2-corpus-136.gz\u001b[0m  \u001b[38;5;9ms2-corpus-182.gz\u001b[0m\r\n",
      "\u001b[38;5;9ms2-corpus-040.gz\u001b[0m  \u001b[38;5;9ms2-corpus-086.gz\u001b[0m  \u001b[38;5;9ms2-corpus-137.gz\u001b[0m  \u001b[38;5;9ms2-corpus-183.gz\u001b[0m\r\n",
      "\u001b[38;5;9ms2-corpus-041.gz\u001b[0m  \u001b[38;5;9ms2-corpus-087.gz\u001b[0m  \u001b[38;5;9ms2-corpus-138.gz\u001b[0m  \u001b[38;5;9ms2-corpus-184.gz\u001b[0m\r\n",
      "\u001b[38;5;9ms2-corpus-042.gz\u001b[0m  \u001b[38;5;9ms2-corpus-088.gz\u001b[0m  \u001b[38;5;9ms2-corpus-139.gz\u001b[0m  \u001b[38;5;9msample-S2-records.gz\u001b[0m\r\n",
      "\u001b[38;5;9ms2-corpus-043.gz\u001b[0m  \u001b[38;5;9ms2-corpus-089.gz\u001b[0m  \u001b[38;5;9ms2-corpus-140.gz\u001b[0m\r\n"
     ]
    }
   ],
   "source": [
    "ls /opt/datasets/semanticscholar/"
   ]
  },
  {
   "cell_type": "code",
   "execution_count": 27,
   "metadata": {},
   "outputs": [],
   "source": [
    "import gzip\n",
    "\n",
    "with gzip.open('/opt/datasets/semanticscholar/s2-corpus-183.gz', 'rb') as f:\n",
    "     file_content = f.read()"
   ]
  },
  {
   "cell_type": "code",
   "execution_count": 28,
   "metadata": {},
   "outputs": [
    {
     "data": {
      "text/plain": [
       "bytes"
      ]
     },
     "execution_count": 28,
     "metadata": {},
     "output_type": "execute_result"
    }
   ],
   "source": [
    "type(file_contentnt)"
   ]
  },
  {
   "cell_type": "code",
   "execution_count": 30,
   "metadata": {},
   "outputs": [
    {
     "data": {
      "text/plain": [
       "b'{\"entities\":[],\"journalVolume\":\"\",\"journalPages\":\"\",\"pmid\":\"\",\"fieldsOfStudy\":[\"Geography\"],\"year\":2008,\"outCitations\":[],\"s2Url\":\"https://semanticscholar.org/paper/75eaab074bb97099f8d58da6a551eb4338f9781f\",\"s2PdfUrl\":\"\",\"id\":\"75eaab074bb97099f8d58da6a551eb4338f9781f\",\"authors\":[{\"name\":\"Thomas Chevau\",\"ids\":[\"104559805\"]},{\"name\":\"Alfred Bastin\",\"ids\":[\"104586948\"]},{\"name\":\"Jean-Marie Halleux\",\"ids\":[\"89612773\"]},{\"name\":\"J. L. Lambotte\",\"ids\":[\"116428825\"]}],\"journalName\":\"\",\"paperAbstract\":\"\",\"inCitations\":[],\"pdfUrls\":[],\"title\":\"Analyse statistique des entreprises pr\\xc3\\xa9sentes dans les parcs d\\xe2\\x80\\x99activit\\xc3\\xa9s \\xc3\\xa9conomiques sous l\\xe2\\x80\\x99angle de leur compatibilit\\xc3\\xa9 avec l\\xe2\\x80\\x99habitat. In: Identification des localisations optimales des activit\\xc3\\xa9s \\xc3\\xa9conomiques\",\"doi\":\"\",\"sources\":[],\"doiUrl\":\"\",\"venue\":\"\"}\\n{\"entities\":[],\"journalVolume\":\"37 2\",\"journalPages\":\"\\\\n          257-272\\\\n        \",\"pmid\":\"31551647\",\"fieldsOfStudy\":[\"Psychology\",\"Medicine\"],\"year\":2019,\"outCitations\":[],\"s2Url\":\"https:/'"
      ]
     },
     "execution_count": 30,
     "metadata": {},
     "output_type": "execute_result"
    }
   ],
   "source": [
    "file_content[0:1000]"
   ]
  },
  {
   "cell_type": "code",
   "execution_count": null,
   "metadata": {},
   "outputs": [],
   "source": []
  }
 ],
 "metadata": {
  "kernelspec": {
   "display_name": "Python 3",
   "language": "python",
   "name": "python3"
  },
  "language_info": {
   "codemirror_mode": {
    "name": "ipython",
    "version": 3
   },
   "file_extension": ".py",
   "mimetype": "text/x-python",
   "name": "python",
   "nbconvert_exporter": "python",
   "pygments_lexer": "ipython3",
   "version": "3.6.8"
  }
 },
 "nbformat": 4,
 "nbformat_minor": 2
}
