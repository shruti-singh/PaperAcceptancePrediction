{
 "cells": [
  {
   "cell_type": "code",
   "execution_count": 1,
   "metadata": {},
   "outputs": [],
   "source": [
    "import glob\n",
    "import zipfile\n",
    "import json\n",
    "import pandas as pd\n",
    "import pickle\n",
    "from pprint import pprint"
   ]
  },
  {
   "cell_type": "code",
   "execution_count": 2,
   "metadata": {},
   "outputs": [],
   "source": [
    "data_path = \"/home/singh_shruti/data/mag_aminer/\""
   ]
  },
  {
   "cell_type": "code",
   "execution_count": null,
   "metadata": {},
   "outputs": [],
   "source": []
  },
  {
   "cell_type": "code",
   "execution_count": null,
   "metadata": {},
   "outputs": [],
   "source": []
  },
  {
   "cell_type": "markdown",
   "metadata": {},
   "source": [
    "## Count references in the whole dataset"
   ]
  },
  {
   "cell_type": "code",
   "execution_count": null,
   "metadata": {},
   "outputs": [],
   "source": [
    "with open('mag_papers.pickle', 'rb') as handle:\n",
    "    all_mag_papers = pickle.load(handle)"
   ]
  },
  {
   "cell_type": "code",
   "execution_count": null,
   "metadata": {},
   "outputs": [],
   "source": [
    "total_papers = 0\n",
    "total_refs = 0\n",
    "\n",
    "for v in all_mag_papers.values():\n",
    "    total_papers += 1\n",
    "    if \"references\" in v and v[\"references\"]:\n",
    "        total_refs += 1"
   ]
  },
  {
   "cell_type": "code",
   "execution_count": null,
   "metadata": {},
   "outputs": [],
   "source": []
  },
  {
   "cell_type": "code",
   "execution_count": null,
   "metadata": {},
   "outputs": [],
   "source": []
  },
  {
   "cell_type": "code",
   "execution_count": null,
   "metadata": {},
   "outputs": [],
   "source": []
  },
  {
   "cell_type": "markdown",
   "metadata": {},
   "source": [
    "## Filtering subsests"
   ]
  },
  {
   "cell_type": "code",
   "execution_count": 3,
   "metadata": {},
   "outputs": [],
   "source": [
    "paper_files = glob.glob(data_path + \"mag_papers_[0-9].zip\")\n",
    "author_files = glob.glob(data_path + \"mag_authors_[0-9].zip\")"
   ]
  },
  {
   "cell_type": "code",
   "execution_count": null,
   "metadata": {},
   "outputs": [],
   "source": [
    "mag_papers = {}\n",
    "\n",
    "later_2016 = 0\n",
    "venue_missing = 0\n",
    "till_2016 = 0\n",
    "references_present = 0\n",
    "\n",
    "for f in paper_files:\n",
    "    archive = zipfile.ZipFile(f, 'r')\n",
    "    zip_files = archive.namelist()\n",
    "    print(zip_files)\n",
    "    for fi in zip_files:\n",
    "        bytes_text = archive.read(fi)\n",
    "        print(\"Read file {} in archive {}\".format(fi, zip_files))\n",
    "        try:\n",
    "            str_list = bytes_text.decode('utf-8').split(\"\\n\")\n",
    "            print(\"Length of file: \", len(str_list))\n",
    "            idx = 0\n",
    "            \n",
    "            for l in str_list:\n",
    "                if idx % 1000000 == 0:\n",
    "                    print(idx)\n",
    "                idx += 1\n",
    "                try:\n",
    "                    paper_dict = json.loads(l)\n",
    "                    if \"year\" in paper_dict and paper_dict[\"year\"]:\n",
    "                        if paper_dict[\"year\"] < 2017:\n",
    "                            till_2016 = till_2016 + 1\n",
    "                            mag_papers[paper_dict[\"id\"]] = paper_dict\n",
    "                            if \"references\" in paper_dict and paper_dict[\"references\"]:\n",
    "                                references_present += 1\n",
    "                        else:\n",
    "                            later_2016 = later_2016 + 1\n",
    "                    else:\n",
    "                        venue_missing = venue_missing + 1\n",
    "                except Exception as ex:\n",
    "                    print(\"err for json loading\")\n",
    "                    print(ex)\n",
    "        except Exception as ex:\n",
    "            print(\"err for bytes decoding\")\n",
    "            print(ex)"
   ]
  },
  {
   "cell_type": "code",
   "execution_count": null,
   "metadata": {},
   "outputs": [],
   "source": [
    "with open('subset_mag_papers_2016.pickle', 'wb') as handle:\n",
    "    pickle.dump(mag_papers, handle)"
   ]
  }
 ],
 "metadata": {
  "kernelspec": {
   "display_name": "Python 3",
   "language": "python",
   "name": "python3"
  },
  "language_info": {
   "codemirror_mode": {
    "name": "ipython",
    "version": 3
   },
   "file_extension": ".py",
   "mimetype": "text/x-python",
   "name": "python",
   "nbconvert_exporter": "python",
   "pygments_lexer": "ipython3",
   "version": "3.5.2"
  }
 },
 "nbformat": 4,
 "nbformat_minor": 2
}
