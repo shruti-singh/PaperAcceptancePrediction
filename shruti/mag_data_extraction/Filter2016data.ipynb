{
 "cells": [
  {
   "cell_type": "code",
   "execution_count": 1,
   "metadata": {},
   "outputs": [],
   "source": [
    "import glob\n",
    "import zipfile\n",
    "import json\n",
    "import pandas as pd\n",
    "import pickle\n",
    "from pprint import pprint"
   ]
  },
  {
   "cell_type": "code",
   "execution_count": 2,
   "metadata": {},
   "outputs": [],
   "source": [
    "data_path = \"/home/singh_shruti/data/mag_aminer/\""
   ]
  },
  {
   "cell_type": "code",
   "execution_count": 3,
   "metadata": {},
   "outputs": [],
   "source": [
    "paper_files = glob.glob(data_path + \"mag_papers_[0-9].zip\")\n",
    "author_files = glob.glob(data_path + \"mag_authors_[0-9].zip\")"
   ]
  },
  {
   "cell_type": "code",
   "execution_count": null,
   "metadata": {},
   "outputs": [],
   "source": [
    "mag_papers = {}\n",
    "\n",
    "for f in paper_files:\n",
    "    archive = zipfile.ZipFile(f, 'r')\n",
    "    zip_files = archive.namelist()\n",
    "    print(zip_files)\n",
    "    for fi in zip_files:\n",
    "        bytes_text = archive.read(fi)\n",
    "        print(\"Read file {} in archive {}\".format(fi, zip_files))\n",
    "        try:\n",
    "            str_list = bytes_text.decode('utf-8').split(\"\\n\")\n",
    "            print(\"Length of file: \", len(str_list))\n",
    "            idx = 0\n",
    "            \n",
    "            for l in str_list:\n",
    "                if idx % 1000000 == 0:\n",
    "                    print(idx)\n",
    "                idx += 1\n",
    "                try:\n",
    "                    paper_dict = json.loads(l)\n",
    "                    if \"year\" in paper_dict and paper_dict[\"year\"]:\n",
    "                        if paper_dict[\"year\"] in [2016, 2017, 2018]:\n",
    "                            if \"venue\" in paper_dict and paper_dict[\"venue\"] and \"id\" in paper_dict[\"venue\"]:\n",
    "                                if paper_dict[\"venue\"][\"id\"] == \"2584161585\":\n",
    "                                    if \"title\" in paper_dict:\n",
    "                                        title = paper_dict[\"title\"].lower()\n",
    "                                        title = ''.join(filter(str.isalpha, title))\n",
    "                                        mag_papers[title] = paper_dict\n",
    "                                else:\n",
    "                                    if \"title\" in paper_dict:\n",
    "                                        title = paper_dict[\"title\"].lower()\n",
    "                                        title = ''.join(filter(str.isalpha, title))\n",
    "                                        mag_papers[title] = paper_dict\n",
    "                            elif \"title\" in paper_dict:\n",
    "                                title = paper_dict[\"title\"].lower()\n",
    "                                title = ''.join(filter(str.isalpha, title))\n",
    "                                mag_papers[title] = paper_dict\n",
    "                    else:\n",
    "                        if \"venue\" in paper_dict and paper_dict[\"venue\"] and \"id\" in paper_dict[\"venue\"]:\n",
    "                            if paper_dict[\"venue\"][\"id\"] == \"2584161585\":\n",
    "                                if \"title\" in paper_dict:\n",
    "                                    title = paper_dict[\"title\"].lower()\n",
    "                                    title = ''.join(filter(str.isalpha, title))\n",
    "                                    mag_papers[title] = paper_dict\n",
    "                            else:\n",
    "                                if \"title\" in paper_dict:\n",
    "                                    title = paper_dict[\"title\"].lower()\n",
    "                                    title = ''.join(filter(str.isalpha, title))\n",
    "                                    mag_papers[title] = paper_dict\n",
    "                        elif \"title\" in paper_dict:\n",
    "                            title = paper_dict[\"title\"].lower()\n",
    "                            title = ''.join(filter(str.isalpha, title))\n",
    "                            mag_papers[title] = paper_dict\n",
    "                except Exception as ex:\n",
    "                    print(\"err for json loading\")\n",
    "                    print(ex)\n",
    "        except Exception as ex:\n",
    "            print(\"err for bytes decoding\")\n",
    "            print(ex)"
   ]
  }
 ],
 "metadata": {
  "kernelspec": {
   "display_name": "Python 3",
   "language": "python",
   "name": "python3"
  },
  "language_info": {
   "codemirror_mode": {
    "name": "ipython",
    "version": 3
   },
   "file_extension": ".py",
   "mimetype": "text/x-python",
   "name": "python",
   "nbconvert_exporter": "python",
   "pygments_lexer": "ipython3",
   "version": "3.5.2"
  }
 },
 "nbformat": 4,
 "nbformat_minor": 2
}
