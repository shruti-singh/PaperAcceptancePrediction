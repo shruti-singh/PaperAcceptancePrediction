{
 "cells": [
  {
   "cell_type": "code",
   "execution_count": 10,
   "metadata": {},
   "outputs": [],
   "source": [
    "import glob\n",
    "import zipfile\n",
    "import json"
   ]
  },
  {
   "cell_type": "code",
   "execution_count": 7,
   "metadata": {},
   "outputs": [],
   "source": [
    "data_path = \"/home/shruti/data/mag_aminer/\""
   ]
  },
  {
   "cell_type": "code",
   "execution_count": 8,
   "metadata": {},
   "outputs": [],
   "source": [
    "paper_files = glob.glob(data_path + \"mag_papers_[0-9].zip\")\n",
    "author_files = glob.glob(data_path + \"mag_authors_[0-9].zip\")"
   ]
  },
  {
   "cell_type": "code",
   "execution_count": 9,
   "metadata": {},
   "outputs": [
    {
     "data": {
      "text/plain": [
       "([], [])"
      ]
     },
     "execution_count": 9,
     "metadata": {},
     "output_type": "execute_result"
    }
   ],
   "source": [
    "paper_files, author_files"
   ]
  },
  {
   "cell_type": "code",
   "execution_count": 11,
   "metadata": {},
   "outputs": [
    {
     "data": {
      "text/plain": [
       "'ElectronSpinResonanceInvestigationsofOxygenCenteredFreeRadicalsinBiologicalSystems'"
      ]
     },
     "execution_count": 11,
     "metadata": {},
     "output_type": "execute_result"
    }
   ],
   "source": [
    "title = \"Electron Spin Resonance Investigations of Oxygen-Centered Free Radicals in Biological Systems\"\n",
    "title = ''.join(filter(str.isalpha, title))\n",
    "title"
   ]
  },
  {
   "cell_type": "code",
   "execution_count": null,
   "metadata": {},
   "outputs": [],
   "source": []
  },
  {
   "cell_type": "code",
   "execution_count": null,
   "metadata": {},
   "outputs": [],
   "source": [
    "mag_papers = {}\n",
    "\n",
    "for f in paper_files:\n",
    "    archive = zipfile.ZipFile(f, 'r')\n",
    "    zip_files = archive.namelist()\n",
    "    print(zip_files)\n",
    "    for fi in zip_files:\n",
    "        bytes_text = archive.read(fi)\n",
    "        try:\n",
    "            str_list = bytes_text.decode('utf-8').split(\"\\n\")\n",
    "            for l in str_list:\n",
    "                try:\n",
    "                    paper_dict = json.loads(l)\n",
    "                    if \"title\" in paper_dict:\n",
    "                        title = paper_dict[\"title\"].lower().replace(\" \", \"\")\n",
    "                        title = ''.join(filter(str.isalpha, title))\n",
    "                        mag_papers[title] = paper_dict\n",
    "                except Exception as ex:\n",
    "                    print(\"err for json loading\")\n",
    "                    print(ex)\n",
    "        except Exception as ex:\n",
    "            print(\"err for bytes decoding\")\n",
    "            print(ex)"
   ]
  }
 ],
 "metadata": {
  "kernelspec": {
   "display_name": "Python 3",
   "language": "python",
   "name": "python3"
  },
  "language_info": {
   "codemirror_mode": {
    "name": "ipython",
    "version": 3
   },
   "file_extension": ".py",
   "mimetype": "text/x-python",
   "name": "python",
   "nbconvert_exporter": "python",
   "pygments_lexer": "ipython3",
   "version": "3.5.2"
  }
 },
 "nbformat": 4,
 "nbformat_minor": 2
}
