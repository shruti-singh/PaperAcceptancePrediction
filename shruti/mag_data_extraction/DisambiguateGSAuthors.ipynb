{
 "cells": [
  {
   "cell_type": "code",
   "execution_count": 1,
   "metadata": {},
   "outputs": [],
   "source": [
    "import pickle\n",
    "import pandas as pd\n",
    "from pprint import pprint\n",
    "from collections import defaultdict"
   ]
  },
  {
   "cell_type": "code",
   "execution_count": null,
   "metadata": {},
   "outputs": [],
   "source": []
  },
  {
   "cell_type": "markdown",
   "metadata": {},
   "source": [
    "### Read author file"
   ]
  },
  {
   "cell_type": "code",
   "execution_count": 2,
   "metadata": {},
   "outputs": [
    {
     "name": "stdout",
     "output_type": "stream",
     "text": [
      "1404\n"
     ]
    }
   ],
   "source": [
    "with open(\"authors_gscholar_scrapped.pickle\", \"rb\") as f:\n",
    "    all_authors_gs = pickle.load(f)\n",
    "\n",
    "print(len(all_authors_gs))"
   ]
  },
  {
   "cell_type": "code",
   "execution_count": 3,
   "metadata": {},
   "outputs": [
    {
     "data": {
      "text/plain": [
       "['', 'Max Jaderberg', 'Moshe Looks', 'Todd Mytkowicz', 'Stefano Soatto']"
      ]
     },
     "execution_count": 3,
     "metadata": {},
     "output_type": "execute_result"
    }
   ],
   "source": [
    "list(all_authors_gs.keys())[0:5]"
   ]
  },
  {
   "cell_type": "code",
   "execution_count": 5,
   "metadata": {},
   "outputs": [
    {
     "data": {
      "text/plain": [
       "1"
      ]
     },
     "execution_count": 5,
     "metadata": {},
     "output_type": "execute_result"
    }
   ],
   "source": [
    "len(all_authors_gs[\"Max Jaderberg\"])"
   ]
  },
  {
   "cell_type": "code",
   "execution_count": 11,
   "metadata": {},
   "outputs": [
    {
     "name": "stdout",
     "output_type": "stream",
     "text": [
      "{'_filled': True,\n",
      " 'affiliation': 'DeepMind',\n",
      " 'citedby': 7878,\n",
      " 'citedby5y': 7835,\n",
      " 'cites_per_year': {2014: 24,\n",
      "                    2015: 134,\n",
      "                    2016: 565,\n",
      "                    2017: 1085,\n",
      "                    2018: 1944,\n",
      "                    2019: 2958,\n",
      "                    2020: 1092},\n",
      " 'coauthors': [<scholarly.scholarly.Author object at 0x7f47015ddbe0>,\n",
      "               <scholarly.scholarly.Author object at 0x7f47015ddc18>,\n",
      "               <scholarly.scholarly.Author object at 0x7f47015ddc50>,\n",
      "               <scholarly.scholarly.Author object at 0x7f47015ddc88>,\n",
      "               <scholarly.scholarly.Author object at 0x7f47015ddcc0>,\n",
      "               <scholarly.scholarly.Author object at 0x7f47015ddcf8>,\n",
      "               <scholarly.scholarly.Author object at 0x7f47015ddd30>,\n",
      "               <scholarly.scholarly.Author object at 0x7f47015ddd68>,\n",
      "               <scholarly.scholarly.Author object at 0x7f47015ddda0>,\n",
      "               <scholarly.scholarly.Author object at 0x7f47015dddd8>,\n",
      "               <scholarly.scholarly.Author object at 0x7f47015dde48>,\n",
      "               <scholarly.scholarly.Author object at 0x7f47015dde80>,\n",
      "               <scholarly.scholarly.Author object at 0x7f47015ddeb8>,\n",
      "               <scholarly.scholarly.Author object at 0x7f47015ddef0>,\n",
      "               <scholarly.scholarly.Author object at 0x7f47015ddf28>,\n",
      "               <scholarly.scholarly.Author object at 0x7f47015ddf60>,\n",
      "               <scholarly.scholarly.Author object at 0x7f47015ddf98>,\n",
      "               <scholarly.scholarly.Author object at 0x7f47015ddfd0>,\n",
      "               <scholarly.scholarly.Author object at 0x7f47015e5048>,\n",
      "               <scholarly.scholarly.Author object at 0x7f47015e5080>],\n",
      " 'email': '@robots.ox.ac.uk',\n",
      " 'hindex': 21,\n",
      " 'hindex5y': 21,\n",
      " 'i10index': 22,\n",
      " 'i10index5y': 22,\n",
      " 'id': 'JeZoMicAAAAJ',\n",
      " 'interests': ['Machine Learning'],\n",
      " 'name': 'Max Jaderberg',\n",
      " 'publications': [<scholarly.scholarly.Publication object at 0x7f47015e50b8>,\n",
      "                  <scholarly.scholarly.Publication object at 0x7f47015e50f0>,\n",
      "                  <scholarly.scholarly.Publication object at 0x7f47015e5128>,\n",
      "                  <scholarly.scholarly.Publication object at 0x7f47015e5160>,\n",
      "                  <scholarly.scholarly.Publication object at 0x7f47015e5198>,\n",
      "                  <scholarly.scholarly.Publication object at 0x7f47015e51d0>,\n",
      "                  <scholarly.scholarly.Publication object at 0x7f47015e5208>,\n",
      "                  <scholarly.scholarly.Publication object at 0x7f47015e5240>,\n",
      "                  <scholarly.scholarly.Publication object at 0x7f47015e5278>,\n",
      "                  <scholarly.scholarly.Publication object at 0x7f47015e52b0>,\n",
      "                  <scholarly.scholarly.Publication object at 0x7f47015e52e8>,\n",
      "                  <scholarly.scholarly.Publication object at 0x7f47015e5320>,\n",
      "                  <scholarly.scholarly.Publication object at 0x7f47015e5358>,\n",
      "                  <scholarly.scholarly.Publication object at 0x7f47015e5390>,\n",
      "                  <scholarly.scholarly.Publication object at 0x7f47015e53c8>,\n",
      "                  <scholarly.scholarly.Publication object at 0x7f47015e5400>,\n",
      "                  <scholarly.scholarly.Publication object at 0x7f47015e5438>,\n",
      "                  <scholarly.scholarly.Publication object at 0x7f47015e5470>,\n",
      "                  <scholarly.scholarly.Publication object at 0x7f47015e54a8>,\n",
      "                  <scholarly.scholarly.Publication object at 0x7f47015e54e0>,\n",
      "                  <scholarly.scholarly.Publication object at 0x7f47015e5518>,\n",
      "                  <scholarly.scholarly.Publication object at 0x7f47015e5550>,\n",
      "                  <scholarly.scholarly.Publication object at 0x7f47015e5588>,\n",
      "                  <scholarly.scholarly.Publication object at 0x7f47015e55c0>,\n",
      "                  <scholarly.scholarly.Publication object at 0x7f47015e55f8>,\n",
      "                  <scholarly.scholarly.Publication object at 0x7f47015e5630>,\n",
      "                  <scholarly.scholarly.Publication object at 0x7f47015e5668>,\n",
      "                  <scholarly.scholarly.Publication object at 0x7f47015e56a0>,\n",
      "                  <scholarly.scholarly.Publication object at 0x7f47015e56d8>,\n",
      "                  <scholarly.scholarly.Publication object at 0x7f47015e5710>,\n",
      "                  <scholarly.scholarly.Publication object at 0x7f47015e5748>,\n",
      "                  <scholarly.scholarly.Publication object at 0x7f47015e5780>,\n",
      "                  <scholarly.scholarly.Publication object at 0x7f47015e57b8>],\n",
      " 'url_picture': 'https://scholar.google.com/citations?view_op=medium_photo&user=JeZoMicAAAAJ'}\n"
     ]
    }
   ],
   "source": [
    "print(all_authors_gs[\"Max Jaderberg\"][0][0])"
   ]
  },
  {
   "cell_type": "code",
   "execution_count": 31,
   "metadata": {},
   "outputs": [
    {
     "name": "stdout",
     "output_type": "stream",
     "text": [
      "{'_filled': False,\n",
      " 'bib': {'title': 'Spatial Transformer Networks', 'year': 2015},\n",
      " 'citedby': 2849,\n",
      " 'id_citations': 'JeZoMicAAAAJ:L8Ckcad2t8MC',\n",
      " 'source': 'citations'} {'title': 'Spatial Transformer Networks', 'year': 2015}\n"
     ]
    }
   ],
   "source": [
    "for pp in all_authors_gs[\"Max Jaderberg\"][0][0].publications:\n",
    "    print(pp, pp.bib)\n",
    "    break"
   ]
  },
  {
   "cell_type": "markdown",
   "metadata": {},
   "source": [
    "### Add conflicts data"
   ]
  },
  {
   "cell_type": "code",
   "execution_count": 13,
   "metadata": {},
   "outputs": [],
   "source": [
    "data_path = \"../../ICLR data/masterdata_unbalanced/\"\n",
    "\n",
    "years = [2017]\n",
    "\n",
    "for y in years:\n",
    "    papers_data = pd.read_pickle(data_path + \"papers_{}.pkl\".format(y))"
   ]
  },
  {
   "cell_type": "code",
   "execution_count": 14,
   "metadata": {},
   "outputs": [],
   "source": [
    "conflicts_dict = {}\n",
    "emails_dict = {}\n",
    "\n",
    "for p in papers_data:\n",
    "    conflicts_dict[p] = papers_data[p][\"content\"][\"conflicts\"]\n",
    "    emails_dict[p] = papers_data[p][\"content\"][\"authorids\"]"
   ]
  },
  {
   "cell_type": "markdown",
   "metadata": {},
   "source": [
    "### Read features"
   ]
  },
  {
   "cell_type": "code",
   "execution_count": 226,
   "metadata": {},
   "outputs": [],
   "source": [
    "data_raw = pd.read_pickle('../features/data_features_csv-2017.pkl')\n",
    "data = data_raw[[\"id\", \"title\", \"label\", \"authors\"]]\n",
    "org_papers = data.to_dict('index')"
   ]
  },
  {
   "cell_type": "markdown",
   "metadata": {},
   "source": [
    "### Disambiguate authors based on email"
   ]
  },
  {
   "cell_type": "code",
   "execution_count": 173,
   "metadata": {},
   "outputs": [],
   "source": [
    "paper_authors_info = defaultdict(dict)\n",
    "per_paper = defaultdict(list)\n",
    "\n",
    "still_not_found = 0\n",
    "total_auth_count = 0\n",
    "found_count = 0\n",
    "not_in_gs = 0\n",
    "cc = 0\n",
    "\n",
    "still_not_found_list = []\n",
    "\n",
    "for p in org_papers:\n",
    "    for auth in org_papers[p][\"authors\"]:\n",
    "#         found = False\n",
    "        total_auth_count += 1\n",
    "        disambiguated_author = None\n",
    "        if auth in all_authors_gs:\n",
    "            if len(all_authors_gs[auth]) == 1:\n",
    "                disambiguated_author = all_authors_gs[auth][0][0]\n",
    "                found_count += 1\n",
    "            else:\n",
    "                #print(p, auth, conflicts_dict[p], emails_dict[p])\n",
    "                #print(\"--------------------------------------------------------------------------------------\")\n",
    "                found_paper = False\n",
    "                for mauth in all_authors_gs[auth]:\n",
    "                    #print(mauth[0].name, mauth[0].email, mauth[0].interests)\n",
    "                    for pub in mauth[0].publications:\n",
    "                        org_title = ''.join(filter(str.isalpha, org_papers[p][\"title\"].lower()))\n",
    "                        gs_pub_title = ''.join(filter(str.isalpha, pub.bib[\"title\"].lower()))\n",
    "                        if org_title == gs_pub_title:\n",
    "                            found_paper = True\n",
    "                            disambiguated_author = mauth[0]\n",
    "                            found_count += 1\n",
    "                            break\n",
    "                    if found_paper:\n",
    "                        break\n",
    "                if not found_paper:\n",
    "                    # Paper not found, check via conflicts/email information\n",
    "                    matching_affils = []\n",
    "                    \n",
    "                    for conflict_affil in conflicts_dict[p]:\n",
    "                        for mauth in all_authors_gs[auth]:\n",
    "                            if mauth[0].email.find(conflict_affil) > -1:\n",
    "                                matching_affils.append(mauth)\n",
    "                    \n",
    "                    # still not found\n",
    "                    if len(matching_affils) == 0:\n",
    "                        still_not_found += 1\n",
    "                        still_not_found_list.append(auth)\n",
    "                    elif len(matching_affils) == 1:\n",
    "                        disambiguated_author = matching_affils[0][0]\n",
    "                        found_count += 1\n",
    "                    else:\n",
    "#                         still_not_found +=1\n",
    "#                         still_not_found_list.append(auth)\n",
    "                        potential_emailids = []\n",
    "                        auth_split = auth.split(\" \")\n",
    "                        for splitname in auth_split:\n",
    "                            for authemailid in emails_dict[p]:\n",
    "                                if authemailid.find(splitname) > -1:\n",
    "                                    potential_emailids.append(authemailid)\n",
    "                                    \n",
    "                        potential_emailids = list(set(potential_emailids))\n",
    "                        if len(potential_emailids) == 1:\n",
    "                            domain = potential_emailids[0].split(\"@\")[-1]\n",
    "                            identified_auth = []\n",
    "                            for m in matching_affils:\n",
    "                                if m[0].email.find(domain) > -1:\n",
    "                                    identified_auth.append(m[0])\n",
    "                            \n",
    "                            if len(identified_auth) == 1:\n",
    "                                disambiguated_author = m[0]\n",
    "                                found_count +=1 \n",
    "                            else:\n",
    "                                still_not_found += 1\n",
    "                                still_not_found_list.append(auth)\n",
    "#                                 print(p, auth, conflicts_dict[p], emails_dict[p], [(m[0].name, m[0].email) for m in matching_affils])\n",
    "                        else:\n",
    "                            still_not_found += 1\n",
    "                            still_not_found_list.append(auth)\n",
    "#                             print(\"----\")\n",
    "#                             print(p, auth, conflicts_dict[p], emails_dict[p], potential_emailids)\n",
    "            if not disambiguated_author is None:\n",
    "                cc +=1\n",
    "                paper_authors_info[auth] = disambiguated_author\n",
    "                per_paper[p].append(auth)\n",
    "        else:\n",
    "            not_in_gs +=1"
   ]
  },
  {
   "cell_type": "code",
   "execution_count": 175,
   "metadata": {},
   "outputs": [
    {
     "name": "stdout",
     "output_type": "stream",
     "text": [
      "Found authors:  1581\n",
      "Added to dict:  1581\n",
      "Multiple entries in GS but no publication with the same title found or empty GS:  205\n",
      "NOt in GS data:  23\n",
      "Total authors to be disambiguated:  1809\n"
     ]
    }
   ],
   "source": [
    "print(\"Found authors: \", found_count)\n",
    "print(\"Added to dict: \", cc)\n",
    "print(\"Multiple entries in GS but no publication with the same title found or empty GS: \", still_not_found)\n",
    "print(\"NOt in GS data: \", not_in_gs)\n",
    "print(\"Total authors to be disambiguated: \", total_auth_count)"
   ]
  },
  {
   "cell_type": "code",
   "execution_count": 178,
   "metadata": {},
   "outputs": [
    {
     "data": {
      "text/plain": [
       "(197,\n",
       " ['Takeshi Onishi',\n",
       "  'Masanori Misono',\n",
       "  'Ping Tak Peter Tang',\n",
       "  'Jing Dong',\n",
       "  'Jose Sotelo',\n",
       "  'Kevin Jamieson',\n",
       "  'Xiao Bing Huang',\n",
       "  'David Lopez-Paz',\n",
       "  'Greg Yang',\n",
       "  'Joseph P. Bigus'],\n",
       " 23)"
      ]
     },
     "execution_count": 178,
     "metadata": {},
     "output_type": "execute_result"
    }
   ],
   "source": [
    "len(list(set(still_not_found_list))), list(set(still_not_found_list))[10:20], not_in_gs"
   ]
  },
  {
   "cell_type": "code",
   "execution_count": 179,
   "metadata": {},
   "outputs": [
    {
     "data": {
      "text/plain": [
       "(1210, 215)"
      ]
     },
     "execution_count": 179,
     "metadata": {},
     "output_type": "execute_result"
    }
   ],
   "source": [
    "len(paper_authors_info), 1425-len(paper_authors_info)"
   ]
  },
  {
   "cell_type": "code",
   "execution_count": 181,
   "metadata": {},
   "outputs": [
    {
     "data": {
      "text/plain": [
       "(479, 490)"
      ]
     },
     "execution_count": 181,
     "metadata": {},
     "output_type": "execute_result"
    }
   ],
   "source": [
    "#Total papers for which atleast one author is found\n",
    "len(per_paper), len(org_papers)"
   ]
  },
  {
   "cell_type": "code",
   "execution_count": null,
   "metadata": {},
   "outputs": [],
   "source": []
  },
  {
   "cell_type": "code",
   "execution_count": null,
   "metadata": {},
   "outputs": [],
   "source": []
  },
  {
   "cell_type": "code",
   "execution_count": null,
   "metadata": {},
   "outputs": [],
   "source": []
  },
  {
   "cell_type": "code",
   "execution_count": null,
   "metadata": {},
   "outputs": [],
   "source": []
  },
  {
   "cell_type": "markdown",
   "metadata": {},
   "source": [
    "### Saving the publication count, citation count and hindex"
   ]
  },
  {
   "cell_type": "code",
   "execution_count": 234,
   "metadata": {},
   "outputs": [],
   "source": [
    "for k, v in org_papers.items():\n",
    "    org_papers[k][\"pub_count_gs\"] = []\n",
    "    org_papers[k][\"cit_count_gs\"] = []\n",
    "    org_papers[k][\"hindex\"] = []\n",
    "    \n",
    "    for a in v[\"authors\"]:\n",
    "        if a in paper_authors_info:\n",
    "            temp_auth_dict = paper_authors_info[a].__dict__\n",
    "            if \"citedby\" in temp_auth_dict and temp_auth_dict[\"citedby\"] > 0:\n",
    "                total_citations = temp_auth_dict[\"citedby\"]\n",
    "                if \"cites_per_year\" in temp_auth_dict:\n",
    "                    for y in temp_auth_dict[\"cites_per_year\"]:\n",
    "                        if y > 2016:\n",
    "                            total_citations -= temp_auth_dict[\"cites_per_year\"][y]\n",
    "                org_papers[k][\"cit_count_gs\"].append(total_citations)\n",
    "            if \"hindex\" in temp_auth_dict:\n",
    "                if \"hindex5y\" in temp_auth_dict:\n",
    "                    org_papers[k][\"hindex\"].append((temp_auth_dict[\"hindex5y\"] + temp_auth_dict[\"hindex\"])/2)\n",
    "                else:\n",
    "                    org_papers[k][\"hindex\"].append(temp_auth_dict[\"hindex\"])\n",
    "            if \"publications\" in temp_auth_dict:\n",
    "                total_publications = 0\n",
    "                for pub in temp_auth_dict[\"publications\"]:\n",
    "                    if \"year\" in pub.__dict__[\"bib\"]:\n",
    "                        if pub.__dict__[\"bib\"][\"year\"] < 2017:\n",
    "                            total_publications += 1\n",
    "                    else:\n",
    "                        total_publications += 1\n",
    "                org_papers[k][\"pub_count_gs\"].append(total_publications)"
   ]
  },
  {
   "cell_type": "code",
   "execution_count": 235,
   "metadata": {},
   "outputs": [
    {
     "data": {
      "text/plain": [
       "['ByBwSPcex',\n",
       " 'rJeKjwvclx',\n",
       " 'B1jnyXXJx',\n",
       " 'ryF7rTqgl',\n",
       " 'HyNxRZ9xg',\n",
       " 'r1fYuytex',\n",
       " 'HJeqWztlg',\n",
       " 'H1_EDpogx',\n",
       " 'BysZhEqee',\n",
       " 'Hk8TGSKlg']"
      ]
     },
     "execution_count": 235,
     "metadata": {},
     "output_type": "execute_result"
    }
   ],
   "source": [
    "list(org_papers.keys())[0:10]"
   ]
  },
  {
   "cell_type": "code",
   "execution_count": 236,
   "metadata": {},
   "outputs": [
    {
     "data": {
      "text/plain": [
       "{'authors': ['Hang Chu', 'Raquel Urtasun', 'Sanja Fidler'],\n",
       " 'cit_count_gs': [47, 9085, 2451],\n",
       " 'hindex': [9.5, 72.0, 48.0],\n",
       " 'id': 'ByBwSPcex',\n",
       " 'label': 'Invite',\n",
       " 'pub_count_gs': [10, 202, 119],\n",
       " 'title': 'Song From PI: A Musically Plausible Network for Pop Music Generation'}"
      ]
     },
     "execution_count": 236,
     "metadata": {},
     "output_type": "execute_result"
    }
   ],
   "source": [
    "org_papers[\"ByBwSPcex\"]"
   ]
  },
  {
   "cell_type": "markdown",
   "metadata": {},
   "source": [
    "# Sump the info"
   ]
  },
  {
   "cell_type": "code",
   "execution_count": 238,
   "metadata": {},
   "outputs": [],
   "source": [
    "with open(\"GS_augmented_2017_iclr.pickle\", \"wb\") as f:\n",
    "    pickle.dump(org_papers, f)"
   ]
  },
  {
   "cell_type": "code",
   "execution_count": 239,
   "metadata": {},
   "outputs": [
    {
     "name": "stdout",
     "output_type": "stream",
     "text": [
      "\u001b[0m\u001b[01;31mauthor_info_scholar_compressed.zip\u001b[0m  DisambiguateGSAuthors.ipynb\r\n",
      "\u001b[01;31mauthor_info_scholar_local_comp.zip\u001b[0m  Filter2016data.ipynb\r\n",
      "author_info_scholar_local.pickle    GS_augmented_2017_iclr.pickle\r\n",
      "author_info_scholar.pickle          mag_augmented_2017_iclr.pickle\r\n",
      "author_server_part.pickle           read_mag_data.ipynb\r\n",
      "\u001b[01;31mauthor_server_part.zip\u001b[0m              read_ms_kdd.ipynb\r\n",
      "authors_gscholar_scrapped.pickle    split_authors_for_local.txt\r\n"
     ]
    }
   ],
   "source": [
    "ls"
   ]
  },
  {
   "cell_type": "code",
   "execution_count": 243,
   "metadata": {},
   "outputs": [],
   "source": [
    "cp GS_augmented_2017_iclr.pickle ../features"
   ]
  },
  {
   "cell_type": "code",
   "execution_count": 244,
   "metadata": {},
   "outputs": [
    {
     "name": "stdout",
     "output_type": "stream",
     "text": [
      "all_data_features_17_20.pkl\r\n",
      "all_data_features_csv_17_20_new.pkl\r\n",
      "all_data_features_csv_2017_new.pkl\r\n",
      "all_data_features_csv_2017_with_aspect_scores.pkl\r\n",
      "data_csv-2017-20.pkl\r\n",
      "data_features_csv-2017.pkl\r\n",
      "features_csv_17_20.pkl\r\n",
      "GS_augmented_2017_iclr.pickle\r\n",
      "mag_features_2017_iclr.pickle\r\n",
      "rev_aspects_2017_peerread.pkl\r\n"
     ]
    }
   ],
   "source": [
    "ls ../features"
   ]
  },
  {
   "cell_type": "code",
   "execution_count": null,
   "metadata": {},
   "outputs": [],
   "source": []
  },
  {
   "cell_type": "code",
   "execution_count": null,
   "metadata": {},
   "outputs": [],
   "source": []
  },
  {
   "cell_type": "code",
   "execution_count": null,
   "metadata": {},
   "outputs": [],
   "source": []
  },
  {
   "cell_type": "code",
   "execution_count": null,
   "metadata": {},
   "outputs": [],
   "source": []
  },
  {
   "cell_type": "code",
   "execution_count": null,
   "metadata": {},
   "outputs": [],
   "source": []
  },
  {
   "cell_type": "code",
   "execution_count": 231,
   "metadata": {},
   "outputs": [
    {
     "data": {
      "text/plain": [
       "{'_filled': True,\n",
       " 'affiliation': 'Associate Professor, University of Toronto',\n",
       " 'citedby': 27708,\n",
       " 'citedby5y': 23060,\n",
       " 'cites_per_year': {2006: 107,\n",
       "  2007: 156,\n",
       "  2008: 203,\n",
       "  2009: 333,\n",
       "  2010: 456,\n",
       "  2011: 471,\n",
       "  2012: 622,\n",
       "  2013: 883,\n",
       "  2014: 1202,\n",
       "  2015: 1734,\n",
       "  2016: 2640,\n",
       "  2017: 3613,\n",
       "  2018: 4989,\n",
       "  2019: 7455,\n",
       "  2020: 2566},\n",
       " 'coauthors': [<scholarly.scholarly.Author at 0x7f470afc04a8>,\n",
       "  <scholarly.scholarly.Author at 0x7f470afc04e0>,\n",
       "  <scholarly.scholarly.Author at 0x7f470afc0518>,\n",
       "  <scholarly.scholarly.Author at 0x7f470afc0550>,\n",
       "  <scholarly.scholarly.Author at 0x7f470afc0588>,\n",
       "  <scholarly.scholarly.Author at 0x7f470afc05c0>,\n",
       "  <scholarly.scholarly.Author at 0x7f470afc05f8>,\n",
       "  <scholarly.scholarly.Author at 0x7f470afc0630>,\n",
       "  <scholarly.scholarly.Author at 0x7f470afc0668>,\n",
       "  <scholarly.scholarly.Author at 0x7f470afc06a0>,\n",
       "  <scholarly.scholarly.Author at 0x7f470afc06d8>,\n",
       "  <scholarly.scholarly.Author at 0x7f470afc0710>,\n",
       "  <scholarly.scholarly.Author at 0x7f470afc0780>,\n",
       "  <scholarly.scholarly.Author at 0x7f470afc07b8>,\n",
       "  <scholarly.scholarly.Author at 0x7f470afc07f0>,\n",
       "  <scholarly.scholarly.Author at 0x7f470afc0828>,\n",
       "  <scholarly.scholarly.Author at 0x7f470afc0898>,\n",
       "  <scholarly.scholarly.Author at 0x7f470afc08d0>,\n",
       "  <scholarly.scholarly.Author at 0x7f470afc0908>,\n",
       "  <scholarly.scholarly.Author at 0x7f470afc0940>],\n",
       " 'email': '@cs.toronto.edu',\n",
       " 'hindex': 77,\n",
       " 'hindex5y': 67,\n",
       " 'i10index': 162,\n",
       " 'i10index5y': 152,\n",
       " 'id': 'jyxO2akAAAAJ',\n",
       " 'interests': ['Machine Learning',\n",
       "  'Computer Vision',\n",
       "  'Artificial Intelligence'],\n",
       " 'name': 'Raquel Urtasun',\n",
       " 'publications': [<scholarly.scholarly.Publication at 0x7f470afc09b0>,\n",
       "  <scholarly.scholarly.Publication at 0x7f470afc09e8>,\n",
       "  <scholarly.scholarly.Publication at 0x7f470afc0a20>,\n",
       "  <scholarly.scholarly.Publication at 0x7f470afc0a58>,\n",
       "  <scholarly.scholarly.Publication at 0x7f470afc0a90>,\n",
       "  <scholarly.scholarly.Publication at 0x7f470afc0ac8>,\n",
       "  <scholarly.scholarly.Publication at 0x7f470afc0b00>,\n",
       "  <scholarly.scholarly.Publication at 0x7f470afc0b38>,\n",
       "  <scholarly.scholarly.Publication at 0x7f470afc0b70>,\n",
       "  <scholarly.scholarly.Publication at 0x7f470afc0ba8>,\n",
       "  <scholarly.scholarly.Publication at 0x7f470afc0be0>,\n",
       "  <scholarly.scholarly.Publication at 0x7f470afc0c18>,\n",
       "  <scholarly.scholarly.Publication at 0x7f470afc0c50>,\n",
       "  <scholarly.scholarly.Publication at 0x7f470afc0c88>,\n",
       "  <scholarly.scholarly.Publication at 0x7f470afc0cc0>,\n",
       "  <scholarly.scholarly.Publication at 0x7f470afc0cf8>,\n",
       "  <scholarly.scholarly.Publication at 0x7f470afc0d30>,\n",
       "  <scholarly.scholarly.Publication at 0x7f470afc0d68>,\n",
       "  <scholarly.scholarly.Publication at 0x7f470afc0da0>,\n",
       "  <scholarly.scholarly.Publication at 0x7f470afc0dd8>,\n",
       "  <scholarly.scholarly.Publication at 0x7f470afc0e10>,\n",
       "  <scholarly.scholarly.Publication at 0x7f470afc0e48>,\n",
       "  <scholarly.scholarly.Publication at 0x7f470afc0e80>,\n",
       "  <scholarly.scholarly.Publication at 0x7f470afc0eb8>,\n",
       "  <scholarly.scholarly.Publication at 0x7f470afc0ef0>,\n",
       "  <scholarly.scholarly.Publication at 0x7f470afc0f28>,\n",
       "  <scholarly.scholarly.Publication at 0x7f470afc0f60>,\n",
       "  <scholarly.scholarly.Publication at 0x7f470afc0f98>,\n",
       "  <scholarly.scholarly.Publication at 0x7f470afc0fd0>,\n",
       "  <scholarly.scholarly.Publication at 0x7f470afca048>,\n",
       "  <scholarly.scholarly.Publication at 0x7f470afca080>,\n",
       "  <scholarly.scholarly.Publication at 0x7f470afca0b8>,\n",
       "  <scholarly.scholarly.Publication at 0x7f470afca0f0>,\n",
       "  <scholarly.scholarly.Publication at 0x7f470afca128>,\n",
       "  <scholarly.scholarly.Publication at 0x7f470afca160>,\n",
       "  <scholarly.scholarly.Publication at 0x7f470afca198>,\n",
       "  <scholarly.scholarly.Publication at 0x7f470afca1d0>,\n",
       "  <scholarly.scholarly.Publication at 0x7f470afca208>,\n",
       "  <scholarly.scholarly.Publication at 0x7f470afca240>,\n",
       "  <scholarly.scholarly.Publication at 0x7f470afca278>,\n",
       "  <scholarly.scholarly.Publication at 0x7f470afca2b0>,\n",
       "  <scholarly.scholarly.Publication at 0x7f470afca2e8>,\n",
       "  <scholarly.scholarly.Publication at 0x7f470afca320>,\n",
       "  <scholarly.scholarly.Publication at 0x7f470afca358>,\n",
       "  <scholarly.scholarly.Publication at 0x7f470afca390>,\n",
       "  <scholarly.scholarly.Publication at 0x7f470afca3c8>,\n",
       "  <scholarly.scholarly.Publication at 0x7f470afca400>,\n",
       "  <scholarly.scholarly.Publication at 0x7f470afca438>,\n",
       "  <scholarly.scholarly.Publication at 0x7f470afca470>,\n",
       "  <scholarly.scholarly.Publication at 0x7f470afca4a8>,\n",
       "  <scholarly.scholarly.Publication at 0x7f470afca4e0>,\n",
       "  <scholarly.scholarly.Publication at 0x7f470afca518>,\n",
       "  <scholarly.scholarly.Publication at 0x7f470afca550>,\n",
       "  <scholarly.scholarly.Publication at 0x7f470afca588>,\n",
       "  <scholarly.scholarly.Publication at 0x7f470afca5c0>,\n",
       "  <scholarly.scholarly.Publication at 0x7f470afca5f8>,\n",
       "  <scholarly.scholarly.Publication at 0x7f470afca630>,\n",
       "  <scholarly.scholarly.Publication at 0x7f470afca668>,\n",
       "  <scholarly.scholarly.Publication at 0x7f470afca6a0>,\n",
       "  <scholarly.scholarly.Publication at 0x7f470afca6d8>,\n",
       "  <scholarly.scholarly.Publication at 0x7f470afca710>,\n",
       "  <scholarly.scholarly.Publication at 0x7f470afca748>,\n",
       "  <scholarly.scholarly.Publication at 0x7f470afca780>,\n",
       "  <scholarly.scholarly.Publication at 0x7f470afca7b8>,\n",
       "  <scholarly.scholarly.Publication at 0x7f470afca7f0>,\n",
       "  <scholarly.scholarly.Publication at 0x7f470afca828>,\n",
       "  <scholarly.scholarly.Publication at 0x7f470afca860>,\n",
       "  <scholarly.scholarly.Publication at 0x7f470afca898>,\n",
       "  <scholarly.scholarly.Publication at 0x7f470afca8d0>,\n",
       "  <scholarly.scholarly.Publication at 0x7f470afca908>,\n",
       "  <scholarly.scholarly.Publication at 0x7f470afca940>,\n",
       "  <scholarly.scholarly.Publication at 0x7f470afca978>,\n",
       "  <scholarly.scholarly.Publication at 0x7f470afca9b0>,\n",
       "  <scholarly.scholarly.Publication at 0x7f470afca9e8>,\n",
       "  <scholarly.scholarly.Publication at 0x7f470afcaa20>,\n",
       "  <scholarly.scholarly.Publication at 0x7f470afcaa58>,\n",
       "  <scholarly.scholarly.Publication at 0x7f470afcaa90>,\n",
       "  <scholarly.scholarly.Publication at 0x7f470afcaac8>,\n",
       "  <scholarly.scholarly.Publication at 0x7f470afcab00>,\n",
       "  <scholarly.scholarly.Publication at 0x7f470afcab38>,\n",
       "  <scholarly.scholarly.Publication at 0x7f470afcab70>,\n",
       "  <scholarly.scholarly.Publication at 0x7f470afcaba8>,\n",
       "  <scholarly.scholarly.Publication at 0x7f470afcabe0>,\n",
       "  <scholarly.scholarly.Publication at 0x7f470afcac18>,\n",
       "  <scholarly.scholarly.Publication at 0x7f470afcac50>,\n",
       "  <scholarly.scholarly.Publication at 0x7f470afcac88>,\n",
       "  <scholarly.scholarly.Publication at 0x7f470afcacc0>,\n",
       "  <scholarly.scholarly.Publication at 0x7f470afcacf8>,\n",
       "  <scholarly.scholarly.Publication at 0x7f470afcad30>,\n",
       "  <scholarly.scholarly.Publication at 0x7f470afcad68>,\n",
       "  <scholarly.scholarly.Publication at 0x7f470afcada0>,\n",
       "  <scholarly.scholarly.Publication at 0x7f470afcadd8>,\n",
       "  <scholarly.scholarly.Publication at 0x7f470afcae10>,\n",
       "  <scholarly.scholarly.Publication at 0x7f470afcae48>,\n",
       "  <scholarly.scholarly.Publication at 0x7f470afcae80>,\n",
       "  <scholarly.scholarly.Publication at 0x7f470afcaeb8>,\n",
       "  <scholarly.scholarly.Publication at 0x7f470afcaef0>,\n",
       "  <scholarly.scholarly.Publication at 0x7f470afcaf28>,\n",
       "  <scholarly.scholarly.Publication at 0x7f470afcaf60>,\n",
       "  <scholarly.scholarly.Publication at 0x7f470afcaf98>,\n",
       "  <scholarly.scholarly.Publication at 0x7f470afcafd0>,\n",
       "  <scholarly.scholarly.Publication at 0x7f470afd1048>,\n",
       "  <scholarly.scholarly.Publication at 0x7f470afd1080>,\n",
       "  <scholarly.scholarly.Publication at 0x7f470afd10b8>,\n",
       "  <scholarly.scholarly.Publication at 0x7f470afd10f0>,\n",
       "  <scholarly.scholarly.Publication at 0x7f470afd1128>,\n",
       "  <scholarly.scholarly.Publication at 0x7f470afd1160>,\n",
       "  <scholarly.scholarly.Publication at 0x7f470afd1198>,\n",
       "  <scholarly.scholarly.Publication at 0x7f470afd11d0>,\n",
       "  <scholarly.scholarly.Publication at 0x7f470afd1208>,\n",
       "  <scholarly.scholarly.Publication at 0x7f470afd1240>,\n",
       "  <scholarly.scholarly.Publication at 0x7f470afd1278>,\n",
       "  <scholarly.scholarly.Publication at 0x7f470afd12b0>,\n",
       "  <scholarly.scholarly.Publication at 0x7f470afd12e8>,\n",
       "  <scholarly.scholarly.Publication at 0x7f470afd1320>,\n",
       "  <scholarly.scholarly.Publication at 0x7f470afd1358>,\n",
       "  <scholarly.scholarly.Publication at 0x7f470afd1390>,\n",
       "  <scholarly.scholarly.Publication at 0x7f470afd13c8>,\n",
       "  <scholarly.scholarly.Publication at 0x7f470afd1400>,\n",
       "  <scholarly.scholarly.Publication at 0x7f470afd1438>,\n",
       "  <scholarly.scholarly.Publication at 0x7f470afd1470>,\n",
       "  <scholarly.scholarly.Publication at 0x7f470afd14a8>,\n",
       "  <scholarly.scholarly.Publication at 0x7f470afd14e0>,\n",
       "  <scholarly.scholarly.Publication at 0x7f470afd1518>,\n",
       "  <scholarly.scholarly.Publication at 0x7f470afd1550>,\n",
       "  <scholarly.scholarly.Publication at 0x7f470afd1588>,\n",
       "  <scholarly.scholarly.Publication at 0x7f470afd15c0>,\n",
       "  <scholarly.scholarly.Publication at 0x7f470afd15f8>,\n",
       "  <scholarly.scholarly.Publication at 0x7f470afd1630>,\n",
       "  <scholarly.scholarly.Publication at 0x7f470afd1668>,\n",
       "  <scholarly.scholarly.Publication at 0x7f470afd16a0>,\n",
       "  <scholarly.scholarly.Publication at 0x7f470afd16d8>,\n",
       "  <scholarly.scholarly.Publication at 0x7f470afd1710>,\n",
       "  <scholarly.scholarly.Publication at 0x7f470afd1748>,\n",
       "  <scholarly.scholarly.Publication at 0x7f470afd1780>,\n",
       "  <scholarly.scholarly.Publication at 0x7f470afd17b8>,\n",
       "  <scholarly.scholarly.Publication at 0x7f470afd17f0>,\n",
       "  <scholarly.scholarly.Publication at 0x7f470afd1828>,\n",
       "  <scholarly.scholarly.Publication at 0x7f470afd1860>,\n",
       "  <scholarly.scholarly.Publication at 0x7f470afd1898>,\n",
       "  <scholarly.scholarly.Publication at 0x7f470afd18d0>,\n",
       "  <scholarly.scholarly.Publication at 0x7f470afd1908>,\n",
       "  <scholarly.scholarly.Publication at 0x7f470afd1940>,\n",
       "  <scholarly.scholarly.Publication at 0x7f470afd1978>,\n",
       "  <scholarly.scholarly.Publication at 0x7f470afd19b0>,\n",
       "  <scholarly.scholarly.Publication at 0x7f470afd19e8>,\n",
       "  <scholarly.scholarly.Publication at 0x7f470afd1a20>,\n",
       "  <scholarly.scholarly.Publication at 0x7f470afd1a58>,\n",
       "  <scholarly.scholarly.Publication at 0x7f470afd1a90>,\n",
       "  <scholarly.scholarly.Publication at 0x7f470afd1ac8>,\n",
       "  <scholarly.scholarly.Publication at 0x7f470afd1b00>,\n",
       "  <scholarly.scholarly.Publication at 0x7f470afd1b38>,\n",
       "  <scholarly.scholarly.Publication at 0x7f470afd1b70>,\n",
       "  <scholarly.scholarly.Publication at 0x7f470afd1ba8>,\n",
       "  <scholarly.scholarly.Publication at 0x7f470afd1be0>,\n",
       "  <scholarly.scholarly.Publication at 0x7f470afd1c18>,\n",
       "  <scholarly.scholarly.Publication at 0x7f470afd1c50>,\n",
       "  <scholarly.scholarly.Publication at 0x7f470afd1c88>,\n",
       "  <scholarly.scholarly.Publication at 0x7f470afd1cc0>,\n",
       "  <scholarly.scholarly.Publication at 0x7f470afd1cf8>,\n",
       "  <scholarly.scholarly.Publication at 0x7f470afd1d30>,\n",
       "  <scholarly.scholarly.Publication at 0x7f470afd1d68>,\n",
       "  <scholarly.scholarly.Publication at 0x7f470afd1da0>,\n",
       "  <scholarly.scholarly.Publication at 0x7f470afd1dd8>,\n",
       "  <scholarly.scholarly.Publication at 0x7f470afd1e10>,\n",
       "  <scholarly.scholarly.Publication at 0x7f470afd1e48>,\n",
       "  <scholarly.scholarly.Publication at 0x7f470afd1e80>,\n",
       "  <scholarly.scholarly.Publication at 0x7f470afd1eb8>,\n",
       "  <scholarly.scholarly.Publication at 0x7f470afd1ef0>,\n",
       "  <scholarly.scholarly.Publication at 0x7f470afd1f28>,\n",
       "  <scholarly.scholarly.Publication at 0x7f470afd1f60>,\n",
       "  <scholarly.scholarly.Publication at 0x7f470afd1f98>,\n",
       "  <scholarly.scholarly.Publication at 0x7f470afd1fd0>,\n",
       "  <scholarly.scholarly.Publication at 0x7f470afda048>,\n",
       "  <scholarly.scholarly.Publication at 0x7f470afda080>,\n",
       "  <scholarly.scholarly.Publication at 0x7f470afda0b8>,\n",
       "  <scholarly.scholarly.Publication at 0x7f470afda0f0>,\n",
       "  <scholarly.scholarly.Publication at 0x7f470afda128>,\n",
       "  <scholarly.scholarly.Publication at 0x7f470afda160>,\n",
       "  <scholarly.scholarly.Publication at 0x7f470afda198>,\n",
       "  <scholarly.scholarly.Publication at 0x7f470afda1d0>,\n",
       "  <scholarly.scholarly.Publication at 0x7f470afda208>,\n",
       "  <scholarly.scholarly.Publication at 0x7f470afda240>,\n",
       "  <scholarly.scholarly.Publication at 0x7f470afda278>,\n",
       "  <scholarly.scholarly.Publication at 0x7f470afda2b0>,\n",
       "  <scholarly.scholarly.Publication at 0x7f470afda2e8>,\n",
       "  <scholarly.scholarly.Publication at 0x7f470afda320>,\n",
       "  <scholarly.scholarly.Publication at 0x7f470afda358>,\n",
       "  <scholarly.scholarly.Publication at 0x7f470afda390>,\n",
       "  <scholarly.scholarly.Publication at 0x7f470afda3c8>,\n",
       "  <scholarly.scholarly.Publication at 0x7f470afda400>,\n",
       "  <scholarly.scholarly.Publication at 0x7f470afda438>,\n",
       "  <scholarly.scholarly.Publication at 0x7f470afda470>,\n",
       "  <scholarly.scholarly.Publication at 0x7f470afda4a8>,\n",
       "  <scholarly.scholarly.Publication at 0x7f470afda4e0>,\n",
       "  <scholarly.scholarly.Publication at 0x7f470afda518>,\n",
       "  <scholarly.scholarly.Publication at 0x7f470afda550>,\n",
       "  <scholarly.scholarly.Publication at 0x7f470afda588>,\n",
       "  <scholarly.scholarly.Publication at 0x7f470afda5c0>,\n",
       "  <scholarly.scholarly.Publication at 0x7f470afda5f8>,\n",
       "  <scholarly.scholarly.Publication at 0x7f470afda630>,\n",
       "  <scholarly.scholarly.Publication at 0x7f470afda668>,\n",
       "  <scholarly.scholarly.Publication at 0x7f470afda6a0>,\n",
       "  <scholarly.scholarly.Publication at 0x7f470afda6d8>,\n",
       "  <scholarly.scholarly.Publication at 0x7f470afda710>,\n",
       "  <scholarly.scholarly.Publication at 0x7f470afda748>,\n",
       "  <scholarly.scholarly.Publication at 0x7f470afda780>,\n",
       "  <scholarly.scholarly.Publication at 0x7f470afda7b8>,\n",
       "  <scholarly.scholarly.Publication at 0x7f470afda7f0>,\n",
       "  <scholarly.scholarly.Publication at 0x7f470afda828>,\n",
       "  <scholarly.scholarly.Publication at 0x7f470afda860>,\n",
       "  <scholarly.scholarly.Publication at 0x7f470afda898>,\n",
       "  <scholarly.scholarly.Publication at 0x7f470afda8d0>,\n",
       "  <scholarly.scholarly.Publication at 0x7f470afda908>,\n",
       "  <scholarly.scholarly.Publication at 0x7f470afda940>,\n",
       "  <scholarly.scholarly.Publication at 0x7f470afda978>,\n",
       "  <scholarly.scholarly.Publication at 0x7f470afda9b0>,\n",
       "  <scholarly.scholarly.Publication at 0x7f470afda9e8>,\n",
       "  <scholarly.scholarly.Publication at 0x7f470afdaa20>,\n",
       "  <scholarly.scholarly.Publication at 0x7f470afdaa58>,\n",
       "  <scholarly.scholarly.Publication at 0x7f470afdaa90>,\n",
       "  <scholarly.scholarly.Publication at 0x7f470afdaac8>,\n",
       "  <scholarly.scholarly.Publication at 0x7f470afdab00>,\n",
       "  <scholarly.scholarly.Publication at 0x7f470afdab38>,\n",
       "  <scholarly.scholarly.Publication at 0x7f470afdab70>,\n",
       "  <scholarly.scholarly.Publication at 0x7f470afdaba8>,\n",
       "  <scholarly.scholarly.Publication at 0x7f470afdabe0>,\n",
       "  <scholarly.scholarly.Publication at 0x7f470afdac18>,\n",
       "  <scholarly.scholarly.Publication at 0x7f470afdac50>,\n",
       "  <scholarly.scholarly.Publication at 0x7f470afdac88>,\n",
       "  <scholarly.scholarly.Publication at 0x7f470afdacc0>,\n",
       "  <scholarly.scholarly.Publication at 0x7f470afdacf8>,\n",
       "  <scholarly.scholarly.Publication at 0x7f470afdad30>,\n",
       "  <scholarly.scholarly.Publication at 0x7f470afdad68>,\n",
       "  <scholarly.scholarly.Publication at 0x7f470afdada0>,\n",
       "  <scholarly.scholarly.Publication at 0x7f470afdadd8>,\n",
       "  <scholarly.scholarly.Publication at 0x7f470afdae10>,\n",
       "  <scholarly.scholarly.Publication at 0x7f470afdae48>,\n",
       "  <scholarly.scholarly.Publication at 0x7f470afdaeb8>,\n",
       "  <scholarly.scholarly.Publication at 0x7f470afdaef0>,\n",
       "  <scholarly.scholarly.Publication at 0x7f470afdaf28>,\n",
       "  <scholarly.scholarly.Publication at 0x7f470afdaf60>,\n",
       "  <scholarly.scholarly.Publication at 0x7f470afdaf98>,\n",
       "  <scholarly.scholarly.Publication at 0x7f470afdafd0>,\n",
       "  <scholarly.scholarly.Publication at 0x7f470afe4048>,\n",
       "  <scholarly.scholarly.Publication at 0x7f470afe4080>,\n",
       "  <scholarly.scholarly.Publication at 0x7f470afe40b8>,\n",
       "  <scholarly.scholarly.Publication at 0x7f470afe40f0>,\n",
       "  <scholarly.scholarly.Publication at 0x7f470afe4128>,\n",
       "  <scholarly.scholarly.Publication at 0x7f470afe4160>,\n",
       "  <scholarly.scholarly.Publication at 0x7f470afe4198>,\n",
       "  <scholarly.scholarly.Publication at 0x7f470afe41d0>,\n",
       "  <scholarly.scholarly.Publication at 0x7f470afe4240>,\n",
       "  <scholarly.scholarly.Publication at 0x7f470afe4278>,\n",
       "  <scholarly.scholarly.Publication at 0x7f470afe42b0>,\n",
       "  <scholarly.scholarly.Publication at 0x7f470afe42e8>,\n",
       "  <scholarly.scholarly.Publication at 0x7f470afe4320>,\n",
       "  <scholarly.scholarly.Publication at 0x7f470afe4358>,\n",
       "  <scholarly.scholarly.Publication at 0x7f470afe4390>,\n",
       "  <scholarly.scholarly.Publication at 0x7f470afe43c8>,\n",
       "  <scholarly.scholarly.Publication at 0x7f470afe4400>,\n",
       "  <scholarly.scholarly.Publication at 0x7f470afe4438>,\n",
       "  <scholarly.scholarly.Publication at 0x7f470afe4470>,\n",
       "  <scholarly.scholarly.Publication at 0x7f470afe44a8>,\n",
       "  <scholarly.scholarly.Publication at 0x7f470afe44e0>,\n",
       "  <scholarly.scholarly.Publication at 0x7f470afe4518>,\n",
       "  <scholarly.scholarly.Publication at 0x7f470afe4550>,\n",
       "  <scholarly.scholarly.Publication at 0x7f470afe4588>,\n",
       "  <scholarly.scholarly.Publication at 0x7f470afe45c0>,\n",
       "  <scholarly.scholarly.Publication at 0x7f470afe45f8>,\n",
       "  <scholarly.scholarly.Publication at 0x7f470afe4630>,\n",
       "  <scholarly.scholarly.Publication at 0x7f470afe4668>,\n",
       "  <scholarly.scholarly.Publication at 0x7f470afe46a0>,\n",
       "  <scholarly.scholarly.Publication at 0x7f470afe46d8>,\n",
       "  <scholarly.scholarly.Publication at 0x7f470afe4710>,\n",
       "  <scholarly.scholarly.Publication at 0x7f470afe4748>,\n",
       "  <scholarly.scholarly.Publication at 0x7f470afe4780>,\n",
       "  <scholarly.scholarly.Publication at 0x7f470afe47b8>,\n",
       "  <scholarly.scholarly.Publication at 0x7f470afe47f0>,\n",
       "  <scholarly.scholarly.Publication at 0x7f470afe4828>,\n",
       "  <scholarly.scholarly.Publication at 0x7f470afe4860>,\n",
       "  <scholarly.scholarly.Publication at 0x7f470afe4898>,\n",
       "  <scholarly.scholarly.Publication at 0x7f470afe48d0>,\n",
       "  <scholarly.scholarly.Publication at 0x7f470afe4908>,\n",
       "  <scholarly.scholarly.Publication at 0x7f470afe4940>,\n",
       "  <scholarly.scholarly.Publication at 0x7f470afe4978>,\n",
       "  <scholarly.scholarly.Publication at 0x7f470afe49b0>,\n",
       "  <scholarly.scholarly.Publication at 0x7f470afe49e8>,\n",
       "  <scholarly.scholarly.Publication at 0x7f470afe4a20>,\n",
       "  <scholarly.scholarly.Publication at 0x7f470afe4a58>,\n",
       "  <scholarly.scholarly.Publication at 0x7f470afe4a90>,\n",
       "  <scholarly.scholarly.Publication at 0x7f470afe4ac8>,\n",
       "  <scholarly.scholarly.Publication at 0x7f470afe4b00>],\n",
       " 'url_picture': 'https://scholar.google.com/citations?view_op=medium_photo&user=jyxO2akAAAAJ'}"
      ]
     },
     "execution_count": 231,
     "metadata": {},
     "output_type": "execute_result"
    }
   ],
   "source": [
    "paper_authors_info[\"Raquel Urtasun\"].__dict__\n",
    "#[\"publications\"][0].__dict__[\"bib\"]"
   ]
  },
  {
   "cell_type": "code",
   "execution_count": 216,
   "metadata": {},
   "outputs": [
    {
     "name": "stdout",
     "output_type": "stream",
     "text": [
      "{'_filled': True,\n",
      " 'affiliation': 'Google Inc',\n",
      " 'cites_per_year': {},\n",
      " 'coauthors': [],\n",
      " 'email': '@google.com',\n",
      " 'hindex': 0,\n",
      " 'hindex5y': 0,\n",
      " 'i10index': 0,\n",
      " 'i10index5y': 0,\n",
      " 'id': 's8PV87cAAAAJ',\n",
      " 'interests': ['computer science'],\n",
      " 'name': 'Andrew Nystrom',\n",
      " 'publications': [<scholarly.scholarly.Publication object at 0x7f46fc6d4e48>],\n",
      " 'url_picture': 'https://scholar.google.com/citations?view_op=medium_photo&user=s8PV87cAAAAJ'}\n",
      "{'_filled': True,\n",
      " 'affiliation': 'Marie Curie Early Stage Researcher at the University of '\n",
      "                'Nottingham',\n",
      " 'cites_per_year': {},\n",
      " 'coauthors': [],\n",
      " 'email': '',\n",
      " 'hindex': 0,\n",
      " 'hindex5y': 0,\n",
      " 'i10index': 0,\n",
      " 'i10index5y': 0,\n",
      " 'id': 'xutRx6IAAAAJ',\n",
      " 'interests': ['Optimisation', 'acoustics', 'vibration'],\n",
      " 'name': 'Vivek Thaminni Ramamoorthy',\n",
      " 'publications': [<scholarly.scholarly.Publication object at 0x7f4704fc48d0>],\n",
      " 'url_picture': 'https://scholar.google.com/citations?view_op=medium_photo&user=xutRx6IAAAAJ'}\n",
      "{'_filled': True,\n",
      " 'affiliation': 'Unknown affiliation',\n",
      " 'cites_per_year': {},\n",
      " 'coauthors': [],\n",
      " 'email': '',\n",
      " 'hindex': 0,\n",
      " 'hindex5y': 0,\n",
      " 'i10index': 0,\n",
      " 'i10index5y': 0,\n",
      " 'id': 'juyt0JIAAAAJ',\n",
      " 'interests': ['Artificial Intelligence', 'Machine Learning', 'Deep Learning'],\n",
      " 'name': 'Aahitagni Mukherjee',\n",
      " 'publications': [<scholarly.scholarly.Publication object at 0x7f47140424e0>,\n",
      "                  <scholarly.scholarly.Publication object at 0x7f4714042518>],\n",
      " 'url_picture': 'https://scholar.google.com/citations?view_op=medium_photo&user=juyt0JIAAAAJ'}\n"
     ]
    }
   ],
   "source": [
    "for k, v in paper_authors_info.items():\n",
    "#     print(paper_authors_info[k].citedby)\n",
    "#     break\n",
    "    temp = paper_authors_info[k].__dict__\n",
    "    if not \"citedby\" in temp.keys():# and temp[\"citedby\"] == 0:\n",
    "        pprint(temp)\n",
    "#         break"
   ]
  },
  {
   "cell_type": "code",
   "execution_count": null,
   "metadata": {},
   "outputs": [],
   "source": []
  },
  {
   "cell_type": "markdown",
   "metadata": {},
   "source": [
    "# Scratch"
   ]
  },
  {
   "cell_type": "markdown",
   "metadata": {},
   "source": [
    "#### Disambiguation via conflicts emailids"
   ]
  },
  {
   "cell_type": "code",
   "execution_count": 59,
   "metadata": {},
   "outputs": [
    {
     "name": "stdout",
     "output_type": "stream",
     "text": [
      "Ying Wen [(<scholarly.scholarly.Author object at 0x7f46fb6ddb38>, <scholarly.scholarly.Author object at 0x7f46fb6ddb38>), (<scholarly.scholarly.Author object at 0x7f46fb668c88>, <scholarly.scholarly.Author object at 0x7f46fb668c88>), (<scholarly.scholarly.Author object at 0x7f46fb670c18>, <scholarly.scholarly.Author object at 0x7f46fb670c18>), (<scholarly.scholarly.Author object at 0x7f46fb67bac8>, <scholarly.scholarly.Author object at 0x7f46fb67bac8>), (<scholarly.scholarly.Author object at 0x7f46fb67beb8>, <scholarly.scholarly.Author object at 0x7f46fb67beb8>), (<scholarly.scholarly.Author object at 0x7f46fb684b00>, <scholarly.scholarly.Author object at 0x7f46fb684b00>), (<scholarly.scholarly.Author object at 0x7f46fb68d6a0>, <scholarly.scholarly.Author object at 0x7f46fb68d6a0>), (<scholarly.scholarly.Author object at 0x7f46fb695048>, <scholarly.scholarly.Author object at 0x7f46fb695048>), (<scholarly.scholarly.Author object at 0x7f46fb695588>, <scholarly.scholarly.Author object at 0x7f46fb695588>), (<scholarly.scholarly.Author object at 0x7f46fb695860>, <scholarly.scholarly.Author object at 0x7f46fb695860>), (<scholarly.scholarly.Author object at 0x7f46fb695f98>, <scholarly.scholarly.Author object at 0x7f46fb695f98>), (<scholarly.scholarly.Author object at 0x7f46fb69f5c0>, <scholarly.scholarly.Author object at 0x7f46fb69f5c0>), (<scholarly.scholarly.Author object at 0x7f46fb69f908>, <scholarly.scholarly.Author object at 0x7f46fb69f908>), (<scholarly.scholarly.Author object at 0x7f46fb69fc18>, <scholarly.scholarly.Author object at 0x7f46fb69fc18>), (<scholarly.scholarly.Author object at 0x7f46fb69ffd0>, <scholarly.scholarly.Author object at 0x7f46fb69ffd0>), (<scholarly.scholarly.Author object at 0x7f46fb6280b8>, <scholarly.scholarly.Author object at 0x7f46fb6280b8>)]\n"
     ]
    }
   ],
   "source": [
    "for a in still_not_found_list:\n",
    "    if a in all_authors_gs:\n",
    "        print(a, all_authors_gs[a])\n",
    "        break"
   ]
  },
  {
   "cell_type": "code",
   "execution_count": 63,
   "metadata": {},
   "outputs": [
    {
     "name": "stdout",
     "output_type": "stream",
     "text": [
      "{'id': 'HyNxRZ9xg', 'title': 'Cat2Vec: Learning Distributed Representation of Multi-field Categorical Data', 'authors': ['Ying Wen', 'Jun Wang', 'Tianyao Chen', 'Weinan Zhang'], 'label': 'Reject'}\n",
      "['ying.wen@cs.ucl.ac.uk', 'jun.wang@cs.ucl.ac.uk', 'tychen@apex.sjtu.edu.cn', 'wnzhang@apex.sjtu.edu.cn']\n",
      "['ucl.ac.uk', 'sjtu.eud.cn']\n"
     ]
    }
   ],
   "source": [
    "for p in org_papers:\n",
    "    for auth in org_papers[p][\"authors\"]:\n",
    "        if auth == \"Ying Wen\":\n",
    "            print(org_papers[p])\n",
    "            print(emails_dict[p])\n",
    "            print(conflicts_dict[p])"
   ]
  },
  {
   "cell_type": "code",
   "execution_count": 73,
   "metadata": {},
   "outputs": [
    {
     "name": "stdout",
     "output_type": "stream",
     "text": [
      "Yingwen Cheng             @niu.edu                  Chemistry and Biochemistry, Northern Illinois University\n",
      "Rachel Ying-Wen Chang     @utoronto.ca              Assistant Professor, Dalhousie University\n",
      "Bei-Wen Ying              @u.tsukuba.ac.jp          University of Tsukuba\n",
      "Yin-Wen Chang             @google.com               Google Inc.    \n",
      "Yin-Wen Lee               @ntut.edu.tw              Taipei Tech.; NTU; OFS Labs.; Stanford University;\n",
      "Yingwen Zhang             @nrc-cnrc.gc.ca           National Research Council\n",
      "Wen Yin                   @intel.com                Intel Corporation\n",
      "Ying Wen                  @cs.ucl.ac.uk             PhD Student, University College London\n",
      "Yingwen Hu                @nih.gov                  Nanotechnology Characterization Laboratory / Leidos Biomedical Research, Inc.\n",
      "Wen Yin                   @tuhep.phys.tohoku.ac.jp  Tokyo University\n",
      "Yi-Ying Wen               @ccu.edu.tw               National Chung Cheng University\n",
      "Wen Ying-hao              @cgmh.org.tw              MD @ Department of Laboratory Medicine, Linkou Chang Gung Memorial Hospital, Taiwan\n",
      "Liu-Ying Wen              @swpu.edu.cn              Lecturer of School of Computer Science, Southwest Petroleum University\n",
      "Wen-Ying Wu               @utexas.edu               Jackson School of Geosciences, University of Texas at Austin\n",
      "Wen-Ying/Rei Lee          @cornell.edu              Cornell University\n",
      "Ying-Wen Wang             @chu.edu.tw               Chung Hua University\n"
     ]
    }
   ],
   "source": [
    "for ma in all_authors_gs[\"Ying Wen\"]:\n",
    "    print(\"{:25} {:25} {:15}\".format(ma[0].name, ma[0].email, ma[0].affiliation))"
   ]
  },
  {
   "cell_type": "markdown",
   "metadata": {},
   "source": [
    "#### As can be seen in above, conflicts email are usually substr of the proper email affil provided by GS\n",
    "#### Conflict can be with the whole CS Dept, affil can be univ id etc"
   ]
  },
  {
   "cell_type": "markdown",
   "metadata": {},
   "source": [
    "#### Some exceptions to the above case (paperId, Name, afil, email, gs_authors_tuples):\n",
    "#### Sy7m72Ogg Gang Wang ['nankai.edu.cn', 'microsoft.com'] ['changxu@nbjl.nankai.edu.cn', 'taoqin@microsoft.com', 'wgzwp@nbjl.nankai.edu.cn', 'tie-yan.liu@microsoft.com'] [('Gang Wang', '@nbjl.nankai.edu.cn'), ('Zhi-Gang Wang', '@nankai.edu.cn')]"
   ]
  },
  {
   "cell_type": "code",
   "execution_count": 93,
   "metadata": {},
   "outputs": [
    {
     "name": "stdout",
     "output_type": "stream",
     "text": [
      "Gang Wang @nbjl.nankai.edu.cn 2711 []\n",
      "Zhi-Gang Wang @nankai.edu.cn 425 ['Single-particle tracking', 'Biotechnology', 'Bioimaging.']\n"
     ]
    }
   ],
   "source": [
    "for a in all_authors_gs[\"Gang Wang\"]:\n",
    "    if a[0].email in ['@nbjl.nankai.edu.cn', '@nankai.edu.cn']:\n",
    "        try:\n",
    "            print(a[0].name, a[0].email, a[0].citedby, a[0].interests)\n",
    "        except Exception as ex:\n",
    "            continue"
   ]
  },
  {
   "cell_type": "code",
   "execution_count": 130,
   "metadata": {},
   "outputs": [
    {
     "data": {
      "text/plain": [
       "{'authors': ['Chang Xu', 'Tao Qin', 'Gang Wang', 'Tie-Yan Liu'],\n",
       " 'id': 'Sy7m72Ogg',\n",
       " 'label': 'Reject',\n",
       " 'title': 'An Actor-critic Algorithm for Learning Rate Learning'}"
      ]
     },
     "execution_count": 130,
     "metadata": {},
     "output_type": "execute_result"
    }
   ],
   "source": [
    "org_papers[\"Sy7m72Ogg\"]"
   ]
  },
  {
   "cell_type": "markdown",
   "metadata": {},
   "source": [
    "#### Turns out this paper is scholar is not linked to the author we found above. In fact, no author/gs_user_profile is linked in the paper on scholar"
   ]
  },
  {
   "cell_type": "code",
   "execution_count": null,
   "metadata": {},
   "outputs": [],
   "source": []
  },
  {
   "cell_type": "code",
   "execution_count": null,
   "metadata": {},
   "outputs": [],
   "source": []
  },
  {
   "cell_type": "code",
   "execution_count": null,
   "metadata": {},
   "outputs": [],
   "source": []
  },
  {
   "cell_type": "markdown",
   "metadata": {},
   "source": [
    "#### SyJNmVqgg Yang Fan ['microsoft.com', 'ustc.edu.cn'] ['v-yanfa@microsoft.com', 'fetia@microsoft.com', 'taoqin@microsoft.com', 'tie-yan.liu@microsoft.com'] [('Fan Yang', '@microsoft.com'), ('Yang Fan', '@mail.ustc.edu.cn')]"
   ]
  },
  {
   "cell_type": "code",
   "execution_count": 92,
   "metadata": {},
   "outputs": [
    {
     "name": "stdout",
     "output_type": "stream",
     "text": [
      "Fan Yang @microsoft.com 1833 ['Systems and networking']\n",
      "Yang Fan @mail.ustc.edu.cn 104 []\n"
     ]
    }
   ],
   "source": [
    "for a in all_authors_gs[\"Yang Fan\"]:\n",
    "    if a[0].email in [ '@microsoft.com',  '@mail.ustc.edu.cn']:\n",
    "        try:\n",
    "            print(a[0].name, a[0].email, a[0].citedby, a[0].interests)\n",
    "        except Exception as ex:\n",
    "            continue"
   ]
  },
  {
   "cell_type": "markdown",
   "metadata": {},
   "source": [
    "### Turns out that the actual author above has a google scholar page with name \"Yi-Zheng Fan\" :/ "
   ]
  },
  {
   "cell_type": "code",
   "execution_count": 95,
   "metadata": {},
   "outputs": [
    {
     "data": {
      "text/plain": [
       "['Data Mining']"
      ]
     },
     "execution_count": 95,
     "metadata": {},
     "output_type": "execute_result"
    }
   ],
   "source": [
    "a[0].interests"
   ]
  },
  {
   "cell_type": "code",
   "execution_count": 109,
   "metadata": {},
   "outputs": [
    {
     "data": {
      "text/plain": [
       "['Biochemical']"
      ]
     },
     "execution_count": 109,
     "metadata": {},
     "output_type": "execute_result"
    }
   ],
   "source": [
    "sub = \"bio\"\n",
    "[s for s in filter (lambda x: sub in x.lower(), [\"data mining\", \"Biochemical\", \"Chem\"])]"
   ]
  },
  {
   "cell_type": "code",
   "execution_count": null,
   "metadata": {},
   "outputs": [],
   "source": []
  },
  {
   "cell_type": "code",
   "execution_count": null,
   "metadata": {},
   "outputs": [],
   "source": []
  },
  {
   "cell_type": "code",
   "execution_count": 182,
   "metadata": {},
   "outputs": [],
   "source": [
    "# Most of the 215 missing authors are not present in google schoalr itself."
   ]
  },
  {
   "cell_type": "code",
   "execution_count": null,
   "metadata": {},
   "outputs": [],
   "source": [
    "Carl Denton, Noam Shazeer"
   ]
  },
  {
   "cell_type": "code",
   "execution_count": 134,
   "metadata": {},
   "outputs": [
    {
     "data": {
      "text/plain": [
       "[]"
      ]
     },
     "execution_count": 134,
     "metadata": {},
     "output_type": "execute_result"
    }
   ],
   "source": [
    "all_authors_gs[\"Takeshi Onishi\"]"
   ]
  },
  {
   "cell_type": "code",
   "execution_count": 135,
   "metadata": {},
   "outputs": [],
   "source": [
    "import scholarly"
   ]
  },
  {
   "cell_type": "code",
   "execution_count": 142,
   "metadata": {},
   "outputs": [],
   "source": [
    "\n"
   ]
  },
  {
   "cell_type": "code",
   "execution_count": 149,
   "metadata": {},
   "outputs": [],
   "source": [
    "test_auth = defaultdict(list)\n",
    "\n",
    "c = scholarly.search_author(\"Takeshi Onishi\")\n",
    "for i in c:\n",
    "    test_auth[\"Takeshi Onishi\"].append((i, i.fill()))"
   ]
  },
  {
   "cell_type": "code",
   "execution_count": 150,
   "metadata": {},
   "outputs": [],
   "source": [
    "c = scholarly.search_author(\"Carl Denton\")\n",
    "for i in c:\n",
    "    test_auth[\"Carl Denton\"].append((i, i.fill()))"
   ]
  },
  {
   "cell_type": "code",
   "execution_count": 151,
   "metadata": {},
   "outputs": [],
   "source": [
    "c = scholarly.search_author(\"Yuanjun Gao\")\n",
    "for i in c:\n",
    "    test_auth[\"Yuanjun Gao\"].append((i, i.fill()))"
   ]
  },
  {
   "cell_type": "code",
   "execution_count": 152,
   "metadata": {},
   "outputs": [
    {
     "data": {
      "text/plain": [
       "defaultdict(list,\n",
       "            {'Yuanjun Gao': [(<scholarly.scholarly.Author at 0x7f46f6b0a9e8>,\n",
       "               <scholarly.scholarly.Author at 0x7f46f6b0a9e8>)]})"
      ]
     },
     "execution_count": 152,
     "metadata": {},
     "output_type": "execute_result"
    }
   ],
   "source": [
    "test_auth"
   ]
  },
  {
   "cell_type": "code",
   "execution_count": 156,
   "metadata": {},
   "outputs": [
    {
     "name": "stdout",
     "output_type": "stream",
     "text": [
      "{'_filled': True,\n",
      " 'affiliation': 'Columbia University',\n",
      " 'citedby': 588,\n",
      " 'citedby5y': 586,\n",
      " 'cites_per_year': {2014: 2,\n",
      "                    2015: 5,\n",
      "                    2016: 43,\n",
      "                    2017: 101,\n",
      "                    2018: 166,\n",
      "                    2019: 196,\n",
      "                    2020: 73},\n",
      " 'coauthors': [<scholarly.scholarly.Author object at 0x7f46f6adb358>,\n",
      "               <scholarly.scholarly.Author object at 0x7f46f6adb2e8>,\n",
      "               <scholarly.scholarly.Author object at 0x7f46f6adb3c8>,\n",
      "               <scholarly.scholarly.Author object at 0x7f46f6adb400>,\n",
      "               <scholarly.scholarly.Author object at 0x7f46f6adb438>,\n",
      "               <scholarly.scholarly.Author object at 0x7f46f6adb470>,\n",
      "               <scholarly.scholarly.Author object at 0x7f46f6adb4a8>,\n",
      "               <scholarly.scholarly.Author object at 0x7f46f6adb4e0>,\n",
      "               <scholarly.scholarly.Author object at 0x7f46f6adb550>,\n",
      "               <scholarly.scholarly.Author object at 0x7f46f6adb588>,\n",
      "               <scholarly.scholarly.Author object at 0x7f46f6adb5c0>,\n",
      "               <scholarly.scholarly.Author object at 0x7f46f6adb5f8>,\n",
      "               <scholarly.scholarly.Author object at 0x7f46f6adb668>,\n",
      "               <scholarly.scholarly.Author object at 0x7f46f6adb6a0>],\n",
      " 'email': '@columbia.edu',\n",
      " 'hindex': 5,\n",
      " 'hindex5y': 5,\n",
      " 'i10index': 5,\n",
      " 'i10index5y': 5,\n",
      " 'id': 'jfdR-6kAAAAJ',\n",
      " 'interests': ['Machine Learning', 'Neuroscience', 'Statistics'],\n",
      " 'name': 'Yuanjun Gao',\n",
      " 'publications': [<scholarly.scholarly.Publication object at 0x7f46f6adb6d8>,\n",
      "                  <scholarly.scholarly.Publication object at 0x7f46f6adb780>,\n",
      "                  <scholarly.scholarly.Publication object at 0x7f46f6adb748>,\n",
      "                  <scholarly.scholarly.Publication object at 0x7f46f6adb7b8>,\n",
      "                  <scholarly.scholarly.Publication object at 0x7f46f6adb7f0>,\n",
      "                  <scholarly.scholarly.Publication object at 0x7f46f6adb828>,\n",
      "                  <scholarly.scholarly.Publication object at 0x7f46f6adb710>,\n",
      "                  <scholarly.scholarly.Publication object at 0x7f46f6adb860>],\n",
      " 'url_picture': 'https://scholar.google.com/citations?view_op=medium_photo&user=jfdR-6kAAAAJ'}\n"
     ]
    }
   ],
   "source": [
    "print(test_auth[\"Yuanjun Gao\"][0][0])"
   ]
  },
  {
   "cell_type": "code",
   "execution_count": null,
   "metadata": {},
   "outputs": [],
   "source": [
    "try_again = list(set(still_not_found_list))\n",
    "\n",
    "# test_auth_again = defaultdict(list)\n",
    "idx = len(test_auth_again)\n",
    "\n",
    "for reauth in try_again[32:]:\n",
    "    print(idx)\n",
    "    idx+=1\n",
    "    if not reauth in test_auth_again:\n",
    "        try:\n",
    "            c = scholarly.search_author(reauth)\n",
    "            if c:\n",
    "                for i in c:\n",
    "                    test_auth_again[reauth].append((i, i.fill()))\n",
    "            else:\n",
    "                test_auth_again[reauth] = []\n",
    "        except Exception as ex:\n",
    "            continue"
   ]
  },
  {
   "cell_type": "code",
   "execution_count": 164,
   "metadata": {},
   "outputs": [
    {
     "data": {
      "text/plain": [
       "20"
      ]
     },
     "execution_count": 164,
     "metadata": {},
     "output_type": "execute_result"
    }
   ],
   "source": [
    "len(test_auth_again)"
   ]
  },
  {
   "cell_type": "code",
   "execution_count": 168,
   "metadata": {},
   "outputs": [],
   "source": [
    "itera = 0\n",
    "for a in test_auth_again:\n",
    "    if not a in all_authors_gs:\n",
    "        print(itera+1)\n",
    "        all_authors_gs[a] = test_auth_again[a]"
   ]
  },
  {
   "cell_type": "code",
   "execution_count": 169,
   "metadata": {},
   "outputs": [
    {
     "data": {
      "text/plain": [
       "1404"
      ]
     },
     "execution_count": 169,
     "metadata": {},
     "output_type": "execute_result"
    }
   ],
   "source": [
    "len(all_authors_gs)"
   ]
  },
  {
   "cell_type": "code",
   "execution_count": 172,
   "metadata": {},
   "outputs": [
    {
     "data": {
      "text/plain": [
       "75"
      ]
     },
     "execution_count": 172,
     "metadata": {},
     "output_type": "execute_result"
    }
   ],
   "source": [
    "len(all_authors_gs[\"Xiao Liu\"])"
   ]
  },
  {
   "cell_type": "code",
   "execution_count": null,
   "metadata": {},
   "outputs": [],
   "source": []
  }
 ],
 "metadata": {
  "kernelspec": {
   "display_name": "Python 3",
   "language": "python",
   "name": "python3"
  },
  "language_info": {
   "codemirror_mode": {
    "name": "ipython",
    "version": 3
   },
   "file_extension": ".py",
   "mimetype": "text/x-python",
   "name": "python",
   "nbconvert_exporter": "python",
   "pygments_lexer": "ipython3",
   "version": "3.5.2"
  }
 },
 "nbformat": 4,
 "nbformat_minor": 2
}
