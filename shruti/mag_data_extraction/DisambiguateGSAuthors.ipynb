{
 "cells": [
  {
   "cell_type": "code",
   "execution_count": 1,
   "metadata": {},
   "outputs": [],
   "source": [
    "import pickle\n",
    "import pandas as pd\n",
    "from pprint import pprint\n",
    "from collections import defaultdict"
   ]
  },
  {
   "cell_type": "code",
   "execution_count": null,
   "metadata": {},
   "outputs": [],
   "source": []
  },
  {
   "cell_type": "markdown",
   "metadata": {},
   "source": [
    "### Read author file"
   ]
  },
  {
   "cell_type": "code",
   "execution_count": 2,
   "metadata": {},
   "outputs": [
    {
     "name": "stdout",
     "output_type": "stream",
     "text": [
      "1404\n"
     ]
    }
   ],
   "source": [
    "with open(\"authors_gscholar_scrapped.pickle\", \"rb\") as f:\n",
    "    all_authors_gs = pickle.load(f)\n",
    "\n",
    "print(len(all_authors_gs))"
   ]
  },
  {
   "cell_type": "code",
   "execution_count": 3,
   "metadata": {},
   "outputs": [
    {
     "data": {
      "text/plain": [
       "['', 'Max Jaderberg', 'Moshe Looks', 'Todd Mytkowicz', 'Stefano Soatto']"
      ]
     },
     "execution_count": 3,
     "metadata": {},
     "output_type": "execute_result"
    }
   ],
   "source": [
    "list(all_authors_gs.keys())[0:5]"
   ]
  },
  {
   "cell_type": "code",
   "execution_count": 5,
   "metadata": {},
   "outputs": [
    {
     "data": {
      "text/plain": [
       "1"
      ]
     },
     "execution_count": 5,
     "metadata": {},
     "output_type": "execute_result"
    }
   ],
   "source": [
    "len(all_authors_gs[\"Max Jaderberg\"])"
   ]
  },
  {
   "cell_type": "code",
   "execution_count": 11,
   "metadata": {},
   "outputs": [
    {
     "name": "stdout",
     "output_type": "stream",
     "text": [
      "{'_filled': True,\n",
      " 'affiliation': 'DeepMind',\n",
      " 'citedby': 7878,\n",
      " 'citedby5y': 7835,\n",
      " 'cites_per_year': {2014: 24,\n",
      "                    2015: 134,\n",
      "                    2016: 565,\n",
      "                    2017: 1085,\n",
      "                    2018: 1944,\n",
      "                    2019: 2958,\n",
      "                    2020: 1092},\n",
      " 'coauthors': [<scholarly.scholarly.Author object at 0x7f47015ddbe0>,\n",
      "               <scholarly.scholarly.Author object at 0x7f47015ddc18>,\n",
      "               <scholarly.scholarly.Author object at 0x7f47015ddc50>,\n",
      "               <scholarly.scholarly.Author object at 0x7f47015ddc88>,\n",
      "               <scholarly.scholarly.Author object at 0x7f47015ddcc0>,\n",
      "               <scholarly.scholarly.Author object at 0x7f47015ddcf8>,\n",
      "               <scholarly.scholarly.Author object at 0x7f47015ddd30>,\n",
      "               <scholarly.scholarly.Author object at 0x7f47015ddd68>,\n",
      "               <scholarly.scholarly.Author object at 0x7f47015ddda0>,\n",
      "               <scholarly.scholarly.Author object at 0x7f47015dddd8>,\n",
      "               <scholarly.scholarly.Author object at 0x7f47015dde48>,\n",
      "               <scholarly.scholarly.Author object at 0x7f47015dde80>,\n",
      "               <scholarly.scholarly.Author object at 0x7f47015ddeb8>,\n",
      "               <scholarly.scholarly.Author object at 0x7f47015ddef0>,\n",
      "               <scholarly.scholarly.Author object at 0x7f47015ddf28>,\n",
      "               <scholarly.scholarly.Author object at 0x7f47015ddf60>,\n",
      "               <scholarly.scholarly.Author object at 0x7f47015ddf98>,\n",
      "               <scholarly.scholarly.Author object at 0x7f47015ddfd0>,\n",
      "               <scholarly.scholarly.Author object at 0x7f47015e5048>,\n",
      "               <scholarly.scholarly.Author object at 0x7f47015e5080>],\n",
      " 'email': '@robots.ox.ac.uk',\n",
      " 'hindex': 21,\n",
      " 'hindex5y': 21,\n",
      " 'i10index': 22,\n",
      " 'i10index5y': 22,\n",
      " 'id': 'JeZoMicAAAAJ',\n",
      " 'interests': ['Machine Learning'],\n",
      " 'name': 'Max Jaderberg',\n",
      " 'publications': [<scholarly.scholarly.Publication object at 0x7f47015e50b8>,\n",
      "                  <scholarly.scholarly.Publication object at 0x7f47015e50f0>,\n",
      "                  <scholarly.scholarly.Publication object at 0x7f47015e5128>,\n",
      "                  <scholarly.scholarly.Publication object at 0x7f47015e5160>,\n",
      "                  <scholarly.scholarly.Publication object at 0x7f47015e5198>,\n",
      "                  <scholarly.scholarly.Publication object at 0x7f47015e51d0>,\n",
      "                  <scholarly.scholarly.Publication object at 0x7f47015e5208>,\n",
      "                  <scholarly.scholarly.Publication object at 0x7f47015e5240>,\n",
      "                  <scholarly.scholarly.Publication object at 0x7f47015e5278>,\n",
      "                  <scholarly.scholarly.Publication object at 0x7f47015e52b0>,\n",
      "                  <scholarly.scholarly.Publication object at 0x7f47015e52e8>,\n",
      "                  <scholarly.scholarly.Publication object at 0x7f47015e5320>,\n",
      "                  <scholarly.scholarly.Publication object at 0x7f47015e5358>,\n",
      "                  <scholarly.scholarly.Publication object at 0x7f47015e5390>,\n",
      "                  <scholarly.scholarly.Publication object at 0x7f47015e53c8>,\n",
      "                  <scholarly.scholarly.Publication object at 0x7f47015e5400>,\n",
      "                  <scholarly.scholarly.Publication object at 0x7f47015e5438>,\n",
      "                  <scholarly.scholarly.Publication object at 0x7f47015e5470>,\n",
      "                  <scholarly.scholarly.Publication object at 0x7f47015e54a8>,\n",
      "                  <scholarly.scholarly.Publication object at 0x7f47015e54e0>,\n",
      "                  <scholarly.scholarly.Publication object at 0x7f47015e5518>,\n",
      "                  <scholarly.scholarly.Publication object at 0x7f47015e5550>,\n",
      "                  <scholarly.scholarly.Publication object at 0x7f47015e5588>,\n",
      "                  <scholarly.scholarly.Publication object at 0x7f47015e55c0>,\n",
      "                  <scholarly.scholarly.Publication object at 0x7f47015e55f8>,\n",
      "                  <scholarly.scholarly.Publication object at 0x7f47015e5630>,\n",
      "                  <scholarly.scholarly.Publication object at 0x7f47015e5668>,\n",
      "                  <scholarly.scholarly.Publication object at 0x7f47015e56a0>,\n",
      "                  <scholarly.scholarly.Publication object at 0x7f47015e56d8>,\n",
      "                  <scholarly.scholarly.Publication object at 0x7f47015e5710>,\n",
      "                  <scholarly.scholarly.Publication object at 0x7f47015e5748>,\n",
      "                  <scholarly.scholarly.Publication object at 0x7f47015e5780>,\n",
      "                  <scholarly.scholarly.Publication object at 0x7f47015e57b8>],\n",
      " 'url_picture': 'https://scholar.google.com/citations?view_op=medium_photo&user=JeZoMicAAAAJ'}\n"
     ]
    }
   ],
   "source": [
    "print(all_authors_gs[\"Max Jaderberg\"][0][0])"
   ]
  },
  {
   "cell_type": "code",
   "execution_count": 31,
   "metadata": {},
   "outputs": [
    {
     "name": "stdout",
     "output_type": "stream",
     "text": [
      "{'_filled': False,\n",
      " 'bib': {'title': 'Spatial Transformer Networks', 'year': 2015},\n",
      " 'citedby': 2849,\n",
      " 'id_citations': 'JeZoMicAAAAJ:L8Ckcad2t8MC',\n",
      " 'source': 'citations'} {'title': 'Spatial Transformer Networks', 'year': 2015}\n"
     ]
    }
   ],
   "source": [
    "for pp in all_authors_gs[\"Max Jaderberg\"][0][0].publications:\n",
    "    print(pp, pp.bib)\n",
    "    break"
   ]
  },
  {
   "cell_type": "markdown",
   "metadata": {},
   "source": [
    "### Add conflicts data"
   ]
  },
  {
   "cell_type": "code",
   "execution_count": 13,
   "metadata": {},
   "outputs": [],
   "source": [
    "data_path = \"../../ICLR data/masterdata_unbalanced/\"\n",
    "\n",
    "years = [2017]\n",
    "\n",
    "for y in years:\n",
    "    papers_data = pd.read_pickle(data_path + \"papers_{}.pkl\".format(y))"
   ]
  },
  {
   "cell_type": "code",
   "execution_count": 14,
   "metadata": {},
   "outputs": [],
   "source": [
    "conflicts_dict = {}\n",
    "emails_dict = {}\n",
    "\n",
    "for p in papers_data:\n",
    "    conflicts_dict[p] = papers_data[p][\"content\"][\"conflicts\"]\n",
    "    emails_dict[p] = papers_data[p][\"content\"][\"authorids\"]"
   ]
  },
  {
   "cell_type": "markdown",
   "metadata": {},
   "source": [
    "### Read features"
   ]
  },
  {
   "cell_type": "code",
   "execution_count": 15,
   "metadata": {},
   "outputs": [],
   "source": [
    "data_raw = pd.read_pickle('../features/data_features_csv-2017.pkl')\n",
    "data = data_raw[[\"id\", \"title\", \"label\", \"authors\"]]\n",
    "org_papers = data.to_dict('index')"
   ]
  },
  {
   "cell_type": "markdown",
   "metadata": {},
   "source": [
    "### Disambiguate authors based on email"
   ]
  },
  {
   "cell_type": "code",
   "execution_count": 37,
   "metadata": {},
   "outputs": [
    {
     "name": "stdout",
     "output_type": "stream",
     "text": [
      "ByBwSPcex Hang Chu ['cs.toronto.edu'] ['chuhang1122@cs.toronto.edu', 'urtasun@cs.toronto.edu', 'fidler@cs.toronto.edu']\n",
      "--------------------------------------------------------------------------------------\n",
      "Chun-Hung Chu @hku.hk ['Faculty of Dentistry', 'The University of Hong Kong']\n",
      "\n",
      "\n",
      "Vinh-Hung Vincent @chu-martinique.fr []\n",
      "\n",
      "\n",
      "Hung-Kuo Chu @cs.nthu.edu.tw ['Shape Analysis', 'Smart Manipulation', 'Non-Photorealistic Rendering', 'Human Computer Interaction', 'Visual Perception.']\n",
      "\n",
      "\n",
      "Hung-Chu Hsu @mail.nsysu.edu.tw ['Nonlinear water waves', 'Coastal engineering']\n",
      "\n",
      "\n",
      "Nguyen Van Toan  ['thời trang']\n",
      "\n",
      "\n",
      "Jian-Hung Chen @g.chu.edu.tw []\n",
      "\n",
      "\n",
      "CHU Manh Hung @itims.edu.vn ['semiconductor nanomaterials', '2D thin film materials', 'nanodevice applications and synchrotron source based techniques']\n",
      "\n",
      "\n",
      "Hung-Chi Chu (朱鴻棋) @cyut.edu.tw ['Wireless Network', 'Wireless Sensor Networks', 'Artificial Intelligence', 'Internet of Things']\n",
      "\n",
      "\n",
      "Chien-Hung, Wu @chu.edu.tw ['半導體物理、感測器應用']\n",
      "\n",
      "\n",
      "Hang Chu @cornell.edu ['Computer Vision']\n",
      "Found paper\n",
      "\n",
      "\n",
      "Geoffrey Chu Chin Hung @polyu.edu.hk ['Myopia', 'Astigmatism', 'Accommodation']\n",
      "\n",
      "\n",
      "Vanessa Hung-Chu Chen @cmu.edu ['Data converters']\n",
      "\n",
      "\n",
      "Chu Van Tuan @utehy.edu.vn ['Nanowires', 'nanorod and hybrid organic/inorganic nanocomposit materials for gas sensing and biosensing applications.']\n",
      "\n",
      "\n",
      "Cheng Hung Lin @chu.edu.tw ['人工智慧', '導航', '慣性感應器', '揚聲器', '螺紋線圈.']\n",
      "\n",
      "\n",
      "Tsz Hang CHU @my.cityu.edu.hk ['Social media', 'Computer-Mediated Communication', 'Health Communication']\n",
      "\n",
      "\n",
      "Hùng Việt Chu @illinois.edu ['mathematics']\n",
      "\n",
      "\n",
      "heng hung Kuo / heng-hung Kuo @chu.edu.tw []\n",
      "\n",
      "\n",
      "Thành Chu Bá @utehy.edu.vn ['music genre', 'signal processing', 'automation', 'IoT']\n",
      "\n",
      "\n",
      "Chu Đức Hùng @haui.edu.vn []\n",
      "\n",
      "\n",
      "Chu Thi Thuy Hang @haui.edu.vn ['Viet Nam']\n",
      "\n",
      "\n"
     ]
    }
   ],
   "source": [
    "paper_authors_info = defaultdict(dict)\n",
    "\n",
    "for p in org_papers:\n",
    "    for auth in org_papers[p][\"authors\"]:\n",
    "        if auth in all_authors_gs:\n",
    "            if len(all_authors_gs[auth]) == 1:\n",
    "                disambiguated_author = all_authors_gs[auth]\n",
    "            else:\n",
    "                #print(p, auth, conflicts_dict[p], emails_dict[p])\n",
    "                #print(\"--------------------------------------------------------------------------------------\")\n",
    "                for mauth in all_authors_gs[auth]:\n",
    "                    #print(mauth[0].name, mauth[0].email, mauth[0].interests)\n",
    "                    found_paper = False\n",
    "                    for pub in mauth[0].publications:\n",
    "                        org_title = ''.join(filter(str.isalpha, org_papers[p][\"title\"].lower()))\n",
    "                        gs_pub_title = ''.join(filter(str.isalpha, pub.bib[\"title\"].lower()))\n",
    "                        if org_title == gs_pub_title:\n",
    "                            found_paper = True\n",
    "                            disambiguated_author = mauth[0]\n",
    "                            break\n",
    "                    if not found_paper:"
   ]
  },
  {
   "cell_type": "code",
   "execution_count": null,
   "metadata": {},
   "outputs": [],
   "source": [
    "for p in org_papers:\n",
    "    paperid = p\n",
    "    for auth in org_papers[p][\"authors\"]:\n",
    "        "
   ]
  }
 ],
 "metadata": {
  "kernelspec": {
   "display_name": "Python 3",
   "language": "python",
   "name": "python3"
  },
  "language_info": {
   "codemirror_mode": {
    "name": "ipython",
    "version": 3
   },
   "file_extension": ".py",
   "mimetype": "text/x-python",
   "name": "python",
   "nbconvert_exporter": "python",
   "pygments_lexer": "ipython3",
   "version": "3.5.2"
  }
 },
 "nbformat": 4,
 "nbformat_minor": 2
}
