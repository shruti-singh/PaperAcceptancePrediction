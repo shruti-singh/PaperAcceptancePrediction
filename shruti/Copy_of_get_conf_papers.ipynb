{
 "cells": [
  {
   "cell_type": "markdown",
   "metadata": {
    "colab_type": "text",
    "id": "view-in-github"
   },
   "source": [
    "<a href=\"https://colab.research.google.com/github/shruti-singh/PaperAcceptancePrediction/blob/master/Copy_of_get_conf_papers.ipynb\" target=\"_parent\"><img src=\"https://colab.research.google.com/assets/colab-badge.svg\" alt=\"Open In Colab\"/></a>"
   ]
  },
  {
   "cell_type": "code",
   "execution_count": 0,
   "metadata": {
    "colab": {},
    "colab_type": "code",
    "id": "6NcHHguFrVpS"
   },
   "outputs": [],
   "source": [
    "!pip install openreview-py"
   ]
  },
  {
   "cell_type": "markdown",
   "metadata": {
    "colab_type": "text",
    "id": "btyJwsX_g6vj"
   },
   "source": []
  },
  {
   "cell_type": "code",
   "execution_count": 1,
   "metadata": {
    "colab": {
     "base_uri": "https://localhost:8080/",
     "height": 127
    },
    "colab_type": "code",
    "id": "uTN8Gxtjr2SA",
    "outputId": "daf7da74-6d83-445b-9bc9-08774a293b18"
   },
   "outputs": [
    {
     "name": "stdout",
     "output_type": "stream",
     "text": [
      "Go to this URL in a browser: https://accounts.google.com/o/oauth2/auth?client_id=947318989803-6bn6qk8qdgf4n4g3pfee6491hc0brc4i.apps.googleusercontent.com&redirect_uri=urn%3aietf%3awg%3aoauth%3a2.0%3aoob&response_type=code&scope=email%20https%3a%2f%2fwww.googleapis.com%2fauth%2fdocs.test%20https%3a%2f%2fwww.googleapis.com%2fauth%2fdrive%20https%3a%2f%2fwww.googleapis.com%2fauth%2fdrive.photos.readonly%20https%3a%2f%2fwww.googleapis.com%2fauth%2fpeopleapi.readonly\n",
      "\n",
      "Enter your authorization code:\n",
      "··········\n",
      "Mounted at /content/drive\n"
     ]
    }
   ],
   "source": [
    "from google.colab import drive\n",
    "drive.mount('/content/drive')"
   ]
  },
  {
   "cell_type": "code",
   "execution_count": 2,
   "metadata": {
    "colab": {
     "base_uri": "https://localhost:8080/",
     "height": 53
    },
    "colab_type": "code",
    "id": "OxWjz-L4rI2l",
    "outputId": "0527e141-ab32-40a7-d5f5-49ed1ea749ba"
   },
   "outputs": [
    {
     "name": "stderr",
     "output_type": "stream",
     "text": [
      "/usr/local/lib/python3.6/dist-packages/fuzzywuzzy/fuzz.py:11: UserWarning: Using slow pure-python SequenceMatcher. Install python-Levenshtein to remove this warning\n",
      "  warnings.warn('Using slow pure-python SequenceMatcher. Install python-Levenshtein to remove this warning')\n"
     ]
    }
   ],
   "source": [
    "import openreview\n",
    "import pandas as pd\n",
    "import numpy as np\n",
    "import requests\n",
    "import shutil \n",
    "import pickle\n",
    "from pprint import pprint"
   ]
  },
  {
   "cell_type": "code",
   "execution_count": 0,
   "metadata": {
    "colab": {},
    "colab_type": "code",
    "id": "Qyc-iyl6mKZg"
   },
   "outputs": [],
   "source": [
    "#init openreview class\n",
    "client = openreview.Client(baseurl='https://openreview.net',username='rishiraj.riconnect@gmail.com',password='')"
   ]
  },
  {
   "cell_type": "code",
   "execution_count": 39,
   "metadata": {
    "colab": {
     "base_uri": "https://localhost:8080/",
     "height": 35
    },
    "colab_type": "code",
    "id": "OT503ERvoKHn",
    "outputId": "b3ab7718-b17c-4430-c449-19998c5d580c"
   },
   "outputs": [
    {
     "name": "stdout",
     "output_type": "stream",
     "text": [
      "490\n"
     ]
    }
   ],
   "source": [
    "#get all submissions\n",
    "all_submission = openreview.tools.iterget_notes(client, invitation='ICLR.cc/2017/conference/-/submission')\n",
    "\n",
    "#save all data in a list\n",
    "acceptAndreject = 0\n",
    "allSubmissionData = {}\n",
    "for item in all_submission:\n",
    "    # print(item.__dict__)\n",
    "    item = item.__dict__\n",
    "    forum_id = item[\"forum\"] # Also the id for this case\n",
    "    allSubmissionData[forum_id] = item\n",
    "    acceptAndreject+=1\n",
    "\n",
    "print(acceptAndreject)"
   ]
  },
  {
   "cell_type": "code",
   "execution_count": 0,
   "metadata": {
    "colab": {},
    "colab_type": "code",
    "id": "Vmjf8WKknzYM"
   },
   "outputs": [],
   "source": [
    "data_dir = \"/content/drive/My Drive/Coursework/Sem2/ML/PaperAcceptanceMaster/PaperAcceptancePrediction/ICLR data/\"\n",
    "\n",
    "with open(data_dir + \"papers_2017.pkl\", \"wb\") as f:\n",
    "    pickle.dump(allSubmissionData, f)"
   ]
  },
  {
   "cell_type": "markdown",
   "metadata": {
    "colab_type": "text",
    "id": "ObOM_PlRJon6"
   },
   "source": []
  },
  {
   "cell_type": "markdown",
   "metadata": {
    "colab_type": "text",
    "id": "9hj2MsMPG9eq"
   },
   "source": [
    "### **Get all Accepted and Rejected Paper Decisions From ICLR 2017**"
   ]
  },
  {
   "cell_type": "code",
   "execution_count": 41,
   "metadata": {
    "colab": {
     "base_uri": "https://localhost:8080/",
     "height": 53
    },
    "colab_type": "code",
    "id": "DO2hsF9bHm-4",
    "outputId": "3646ca4e-e8f5-4201-e194-b98f789882a6"
   },
   "outputs": [
    {
     "name": "stdout",
     "output_type": "stream",
     "text": [
      "{'Accept (Poster)': 183, 'Invite to Workshop Track': 47, 'Reject': 245, 'Accept (Oral)': 15}\n",
      "490\n"
     ]
    }
   ],
   "source": [
    "#now get all the accepted papres\n",
    "all_accepted = openreview.tools.iterget_notes(client, invitation='ICLR.cc/2017/conference/-/paper.*/acceptance')\n",
    "#save all data in a list\n",
    "acceptanceDecision = {}\n",
    "Ids = []\n",
    "\n",
    "decisions = {}\n",
    "for item in all_accepted:\n",
    "    itemdict = item.__dict__\n",
    "    forumid = itemdict[\"forum\"]\n",
    "    acceptanceDecision[forumid] = itemdict\n",
    "    if itemdict[\"content\"][\"decision\"] in decisions:\n",
    "        decisions[itemdict[\"content\"][\"decision\"]] += 1\n",
    "    else:\n",
    "        decisions[itemdict[\"content\"][\"decision\"]] = 1\n",
    "\n",
    "print(decisions)\n",
    "print(len(acceptanceDecision))"
   ]
  },
  {
   "cell_type": "code",
   "execution_count": 0,
   "metadata": {
    "colab": {},
    "colab_type": "code",
    "id": "ed3FtGdq1Xdk"
   },
   "outputs": [],
   "source": [
    "with open(data_dir + \"paper_decision_dict_2017.pkl\", \"wb\") as f:\n",
    "    pickle.dump(acceptanceDecision, f)"
   ]
  },
  {
   "cell_type": "markdown",
   "metadata": {
    "colab_type": "text",
    "id": "ZErfbS6yJ1BW"
   },
   "source": [
    "# Get All Official Reviews"
   ]
  },
  {
   "cell_type": "code",
   "execution_count": 43,
   "metadata": {
    "colab": {
     "base_uri": "https://localhost:8080/",
     "height": 53
    },
    "colab_type": "code",
    "id": "rVUW8rq61x3Y",
    "outputId": "3816b227-b6db-4fce-8be1-7bb48569a15f"
   },
   "outputs": [
    {
     "name": "stdout",
     "output_type": "stream",
     "text": [
      "501\n",
      "On an average, number of reviews present per submission:  3.0379241516966067\n"
     ]
    }
   ],
   "source": [
    "#get all reviews\n",
    "reviews = openreview.tools.iterget_notes(client, invitation='ICLR.cc/2017/conference/-/paper.*/official/review')\n",
    "\n",
    "#store the data in a list\n",
    "review_dict = {}\n",
    "\n",
    "for i in reviews:\n",
    "    item_dict = i.__dict__\n",
    "    forumid = item_dict[\"forum\"]\n",
    "    if forumid in review_dict:\n",
    "        review_dict[forumid].append(item_dict)\n",
    "    else:\n",
    "        review_dict[forumid] = [item_dict]\n",
    "\n",
    "print(len(review_dict))\n",
    "running_sum = 0\n",
    "for v in review_dict.values():\n",
    "    running_sum += len(v)\n",
    "print(\"On an average, number of reviews present per submission: \", running_sum/len(review_dict))"
   ]
  },
  {
   "cell_type": "code",
   "execution_count": 0,
   "metadata": {
    "colab": {},
    "colab_type": "code",
    "id": "ux6aBWIm47if"
   },
   "outputs": [],
   "source": [
    "with open(data_dir + \"off_review_dict_2017.pkl\", \"wb\") as f:\n",
    "    pickle.dump(review_dict, f)"
   ]
  },
  {
   "cell_type": "code",
   "execution_count": 0,
   "metadata": {
    "colab": {},
    "colab_type": "code",
    "id": "EVf1-YQ1DEBg"
   },
   "outputs": [],
   "source": []
  },
  {
   "cell_type": "markdown",
   "metadata": {
    "colab_type": "text",
    "id": "O2B1S-t5hGno"
   },
   "source": [
    "# **Data For 2018**"
   ]
  },
  {
   "cell_type": "code",
   "execution_count": 45,
   "metadata": {
    "colab": {
     "base_uri": "https://localhost:8080/",
     "height": 53
    },
    "colab_type": "code",
    "id": "bFBlfBekhmRP",
    "outputId": "a453c941-0a88-4322-f41d-959df81d2e8b"
   },
   "outputs": [
    {
     "name": "stdout",
     "output_type": "stream",
     "text": [
      "{'Invite to Workshop Track': 90, 'Reject': 508, 'Accept (Oral)': 23, 'Accept (Poster)': 314}\n",
      "935\n"
     ]
    }
   ],
   "source": [
    "#get all submissions\n",
    "all_submission = openreview.tools.iterget_notes(client, invitation='ICLR.cc/2018/Conference/-/Acceptance_Decision')\n",
    "\n",
    "count_dec = {}\n",
    "acceptanceDecision = {}\n",
    "\n",
    "count = 0\n",
    "\n",
    "for sub in all_submission:\n",
    "    count += 1\n",
    "    sub_dict = sub.__dict__\n",
    "    forum_id = sub_dict[\"forum\"]\n",
    "    acceptanceDecision[forum_id] = sub_dict\n",
    "\n",
    "    # if count < 10:\n",
    "    #     print(count_dec)\n",
    "    #     pprint(sub_dict[\"content\"][\"decision\"])\n",
    "\n",
    "    if sub_dict[\"content\"][\"decision\"] in count_dec.keys():\n",
    "        count_dec[sub_dict[\"content\"][\"decision\"]] += 1\n",
    "    else:\n",
    "        count_dec[sub_dict[\"content\"][\"decision\"]] = 1\n",
    "\n",
    "print(count_dec)\n",
    "print(len(acceptanceDecision))"
   ]
  },
  {
   "cell_type": "code",
   "execution_count": 0,
   "metadata": {
    "colab": {},
    "colab_type": "code",
    "id": "wCB6DMIiAXs5"
   },
   "outputs": [],
   "source": [
    "with open(data_dir + \"paper_decision_dict_2018.pkl\", \"wb\") as f:\n",
    "    pickle.dump(acceptanceDecision, f)"
   ]
  },
  {
   "cell_type": "code",
   "execution_count": 0,
   "metadata": {
    "colab": {},
    "colab_type": "code",
    "id": "qRQS5nK5x_qg"
   },
   "outputs": [],
   "source": []
  },
  {
   "cell_type": "markdown",
   "metadata": {
    "colab_type": "text",
    "id": "iOzrcN4Mk4bq"
   },
   "source": [
    "### **Get Submission For 2018**"
   ]
  },
  {
   "cell_type": "code",
   "execution_count": 0,
   "metadata": {
    "colab": {},
    "colab_type": "code",
    "id": "XK2BNn5UYc02"
   },
   "outputs": [],
   "source": [
    "#get all submissions\n",
    "all_submission = openreview.tools.iterget_notes(client, invitation='ICLR.cc/2018/Conference/-/Blind_Submission')"
   ]
  },
  {
   "cell_type": "code",
   "execution_count": 48,
   "metadata": {
    "colab": {
     "base_uri": "https://localhost:8080/",
     "height": 35
    },
    "colab_type": "code",
    "id": "jBee_3JqlL6F",
    "outputId": "8d8c938f-0ac3-4345-930e-23829264c2ac"
   },
   "outputs": [
    {
     "name": "stdout",
     "output_type": "stream",
     "text": [
      "911\n"
     ]
    }
   ],
   "source": [
    "allSubmissionData2018 = {}\n",
    "\n",
    "for item in all_submission:\n",
    "    item_dict = item.__dict__\n",
    "    forum_id = item_dict[\"forum\"]\n",
    "    allSubmissionData2018[forum_id] = item_dict\n",
    "\n",
    "\n",
    "print(len(allSubmissionData2018))"
   ]
  },
  {
   "cell_type": "code",
   "execution_count": 0,
   "metadata": {
    "colab": {},
    "colab_type": "code",
    "id": "Jns68Sgf8dex"
   },
   "outputs": [],
   "source": [
    "with open(data_dir + \"papers_2018.pkl\", \"wb\") as f:\n",
    "    pickle.dump(allSubmissionData2018, f)"
   ]
  },
  {
   "cell_type": "code",
   "execution_count": 0,
   "metadata": {
    "colab": {},
    "colab_type": "code",
    "id": "-2m8PfdB9oGH"
   },
   "outputs": [],
   "source": []
  },
  {
   "cell_type": "markdown",
   "metadata": {
    "colab_type": "text",
    "id": "iCWZj0wx0Pfx"
   },
   "source": [
    "# **Official Reviews 2018**"
   ]
  },
  {
   "cell_type": "code",
   "execution_count": 50,
   "metadata": {
    "colab": {
     "base_uri": "https://localhost:8080/",
     "height": 53
    },
    "colab_type": "code",
    "id": "_qe56t2g0Y8z",
    "outputId": "520e79e2-6a51-41b2-da4a-8247f8a3ec3a"
   },
   "outputs": [
    {
     "name": "stdout",
     "output_type": "stream",
     "text": [
      "984\n",
      "On an average, number of reviews present per submission:  3.0152439024390243\n"
     ]
    }
   ],
   "source": [
    "reviews = openreview.tools.iterget_notes(client, invitation='ICLR.cc/2018/Conference/-/Paper.*/Official_Review')\n",
    "\n",
    "#store the data in a list\n",
    "review_dict = {}\n",
    "\n",
    "for i in reviews:\n",
    "    item_dict = i.__dict__\n",
    "    forumid = item_dict[\"forum\"]\n",
    "    if forumid in review_dict:\n",
    "        review_dict[forumid].append(item_dict)\n",
    "    else:\n",
    "        review_dict[forumid] = [item_dict]\n",
    "\n",
    "print(len(review_dict))\n",
    "running_sum = 0\n",
    "for v in review_dict.values():\n",
    "    running_sum += len(v)\n",
    "print(\"On an average, number of reviews present per submission: \", running_sum/len(review_dict))"
   ]
  },
  {
   "cell_type": "code",
   "execution_count": 0,
   "metadata": {
    "colab": {},
    "colab_type": "code",
    "id": "F7zvJymQ0bF2"
   },
   "outputs": [],
   "source": [
    "with open(data_dir + \"off_review_dict_2018.pkl\", \"wb\") as f:\n",
    "    pickle.dump(review_dict, f)"
   ]
  },
  {
   "cell_type": "code",
   "execution_count": 0,
   "metadata": {
    "colab": {},
    "colab_type": "code",
    "id": "3pPeTN6N0cxU"
   },
   "outputs": [],
   "source": []
  },
  {
   "cell_type": "code",
   "execution_count": 0,
   "metadata": {
    "colab": {},
    "colab_type": "code",
    "id": "JqyrDCPW1bIU"
   },
   "outputs": [],
   "source": []
  }
 ],
 "metadata": {
  "colab": {
   "collapsed_sections": [],
   "include_colab_link": true,
   "name": "Copy of get-conf-papers.ipynb",
   "provenance": []
  },
  "kernelspec": {
   "display_name": "Python 3",
   "language": "python",
   "name": "python3"
  },
  "language_info": {
   "codemirror_mode": {
    "name": "ipython",
    "version": 3
   },
   "file_extension": ".py",
   "mimetype": "text/x-python",
   "name": "python",
   "nbconvert_exporter": "python",
   "pygments_lexer": "ipython3",
   "version": "3.5.2"
  }
 },
 "nbformat": 4,
 "nbformat_minor": 1
}
