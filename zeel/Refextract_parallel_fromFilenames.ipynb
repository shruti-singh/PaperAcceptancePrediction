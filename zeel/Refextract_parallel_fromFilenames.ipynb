{
  "nbformat": 4,
  "nbformat_minor": 0,
  "metadata": {
    "colab": {
      "name": "Refextract_parallel_fromFilenames.ipynb",
      "provenance": [],
      "collapsed_sections": [],
      "mount_file_id": "1kkcHbKh2tQVNJhkBFVebyd1-R6boOdFk",
      "authorship_tag": "ABX9TyNuWHbXPQ7n/RY35qJy5tQc",
      "include_colab_link": true
    },
    "kernelspec": {
      "name": "python3",
      "display_name": "Python 3"
    },
    "accelerator": "GPU"
  },
  "cells": [
    {
      "cell_type": "markdown",
      "metadata": {
        "id": "view-in-github",
        "colab_type": "text"
      },
      "source": [
        "<a href=\"https://colab.research.google.com/github/shruti-singh/PaperAcceptancePrediction/blob/master/zeel/Refextract_parallel_fromFilenames.ipynb\" target=\"_parent\"><img src=\"https://colab.research.google.com/assets/colab-badge.svg\" alt=\"Open In Colab\"/></a>"
      ]
    },
    {
      "cell_type": "code",
      "metadata": {
        "id": "5uhMRzHOkiEq",
        "colab_type": "code",
        "outputId": "6dca94c0-9d1b-4aa5-a00c-5e742b953153",
        "colab": {
          "base_uri": "https://localhost:8080/",
          "height": 1000
        }
      },
      "source": [
        "!apt-get install -y python-magic\n",
        "!pip install refextract\n",
        "!pip install tika"
      ],
      "execution_count": 0,
      "outputs": [
        {
          "output_type": "stream",
          "text": [
            "Reading package lists... Done\n",
            "Building dependency tree       \n",
            "Reading state information... Done\n",
            "The following package was automatically installed and is no longer required:\n",
            "  libnvidia-common-430\n",
            "Use 'apt autoremove' to remove it.\n",
            "The following additional packages will be installed:\n",
            "  libmagic-mgc libmagic1\n",
            "Suggested packages:\n",
            "  file\n",
            "The following NEW packages will be installed:\n",
            "  libmagic-mgc libmagic1 python-magic\n",
            "0 upgraded, 3 newly installed, 0 to remove and 25 not upgraded.\n",
            "Need to get 262 kB of archives.\n",
            "After this operation, 5,255 kB of additional disk space will be used.\n",
            "Get:1 http://archive.ubuntu.com/ubuntu bionic-updates/main amd64 libmagic-mgc amd64 1:5.32-2ubuntu0.3 [184 kB]\n",
            "Get:2 http://archive.ubuntu.com/ubuntu bionic-updates/main amd64 libmagic1 amd64 1:5.32-2ubuntu0.3 [68.7 kB]\n",
            "Get:3 http://archive.ubuntu.com/ubuntu bionic/universe amd64 python-magic all 2:0.4.15-1 [9,192 B]\n",
            "Fetched 262 kB in 2s (109 kB/s)\n",
            "Selecting previously unselected package libmagic-mgc.\n",
            "(Reading database ... 145113 files and directories currently installed.)\n",
            "Preparing to unpack .../libmagic-mgc_1%3a5.32-2ubuntu0.3_amd64.deb ...\n",
            "Unpacking libmagic-mgc (1:5.32-2ubuntu0.3) ...\n",
            "Selecting previously unselected package libmagic1:amd64.\n",
            "Preparing to unpack .../libmagic1_1%3a5.32-2ubuntu0.3_amd64.deb ...\n",
            "Unpacking libmagic1:amd64 (1:5.32-2ubuntu0.3) ...\n",
            "Selecting previously unselected package python-magic.\n",
            "Preparing to unpack .../python-magic_2%3a0.4.15-1_all.deb ...\n",
            "Unpacking python-magic (2:0.4.15-1) ...\n",
            "Setting up libmagic-mgc (1:5.32-2ubuntu0.3) ...\n",
            "Setting up libmagic1:amd64 (1:5.32-2ubuntu0.3) ...\n",
            "Setting up python-magic (2:0.4.15-1) ...\n",
            "Processing triggers for man-db (2.8.3-2ubuntu0.1) ...\n",
            "Processing triggers for libc-bin (2.27-3ubuntu1) ...\n",
            "/sbin/ldconfig.real: /usr/local/lib/python3.6/dist-packages/ideep4py/lib/libmkldnn.so.0 is not a symbolic link\n",
            "\n",
            "Collecting refextract\n",
            "\u001b[?25l  Downloading https://files.pythonhosted.org/packages/a7/32/06c9316cfb31226ca4cea0720141aa368a4b78191b109a9286166cb37065/refextract-1.0.1.tar.gz (6.5MB)\n",
            "\u001b[K     |████████████████████████████████| 6.6MB 14.4MB/s \n",
            "\u001b[?25hCollecting PyPDF2>=1.26.0,~=1.0\n",
            "\u001b[?25l  Downloading https://files.pythonhosted.org/packages/b4/01/68fcc0d43daf4c6bdbc6b33cc3f77bda531c86b174cac56ef0ffdb96faab/PyPDF2-1.26.0.tar.gz (77kB)\n",
            "\u001b[K     |████████████████████████████████| 81kB 13.9MB/s \n",
            "\u001b[?25hCollecting autosemver>=0.5.3,~=0.0\n",
            "  Using cached https://files.pythonhosted.org/packages/f6/b8/7a7953026d984dfffa2472336f2270d870df80cc881c987fe870a8a2224f/autosemver-0.5.3.tar.gz\n",
            "Collecting python-magic>=0.4.15,~=0.0\n",
            "  Downloading https://files.pythonhosted.org/packages/42/a1/76d30c79992e3750dac6790ce16f056f870d368ba142f83f75f694d93001/python_magic-0.4.15-py2.py3-none-any.whl\n",
            "Requirement already satisfied: requests>=2.18.4,~=2.0 in /usr/local/lib/python3.6/dist-packages (from refextract) (2.21.0)\n",
            "Requirement already satisfied: six>=1.10.0,~=1.0 in /usr/local/lib/python3.6/dist-packages (from refextract) (1.12.0)\n",
            "Collecting unidecode>=1.0.22,~=1.0\n",
            "\u001b[?25l  Downloading https://files.pythonhosted.org/packages/d0/42/d9edfed04228bacea2d824904cae367ee9efd05e6cce7ceaaedd0b0ad964/Unidecode-1.1.1-py2.py3-none-any.whl (238kB)\n",
            "\u001b[K     |████████████████████████████████| 245kB 59.7MB/s \n",
            "\u001b[?25hCollecting dulwich\n",
            "  Using cached https://files.pythonhosted.org/packages/cd/70/08d356c8eb7e2a76879f535a5133e08bd0c265794588893497f17f03d89b/dulwich-0.19.15-py3-none-any.whl\n",
            "Requirement already satisfied: chardet<3.1.0,>=3.0.2 in /usr/local/lib/python3.6/dist-packages (from requests>=2.18.4,~=2.0->refextract) (3.0.4)\n",
            "Requirement already satisfied: urllib3<1.25,>=1.21.1 in /usr/local/lib/python3.6/dist-packages (from requests>=2.18.4,~=2.0->refextract) (1.24.3)\n",
            "Requirement already satisfied: idna<2.9,>=2.5 in /usr/local/lib/python3.6/dist-packages (from requests>=2.18.4,~=2.0->refextract) (2.8)\n",
            "Requirement already satisfied: certifi>=2017.4.17 in /usr/local/lib/python3.6/dist-packages (from requests>=2.18.4,~=2.0->refextract) (2019.11.28)\n",
            "Building wheels for collected packages: refextract, PyPDF2, autosemver\n",
            "  Building wheel for refextract (setup.py) ... \u001b[?25l\u001b[?25hdone\n",
            "  Created wheel for refextract: filename=refextract-1.0.1-cp36-none-any.whl size=278002 sha256=6bbb68a0de8c1ac15f31d5daf9104ebb58102d7f58cc4c3dd24639f5eb8b3373\n",
            "  Stored in directory: /root/.cache/pip/wheels/8c/ad/21/fadd1f8a38fedfd0557b2f32fe5008c7e1b54ebf1bfd34ad2b\n",
            "  Building wheel for PyPDF2 (setup.py) ... \u001b[?25l\u001b[?25hdone\n",
            "  Created wheel for PyPDF2: filename=PyPDF2-1.26.0-cp36-none-any.whl size=61086 sha256=0e11c5422d2b43da4c50ee840529d432aeca1f780ad66e976359652d62b86adb\n",
            "  Stored in directory: /root/.cache/pip/wheels/53/84/19/35bc977c8bf5f0c23a8a011aa958acd4da4bbd7a229315c1b7\n",
            "  Building wheel for autosemver (setup.py) ... \u001b[?25l\u001b[?25hdone\n",
            "  Created wheel for autosemver: filename=autosemver-0.5.3-cp36-none-any.whl size=13010 sha256=68ef2cd2615ee23333c7fb214a97f0d248e1658dbda1f626589a9a7bbbeef88f\n",
            "  Stored in directory: /root/.cache/pip/wheels/0a/31/59/1800f1a6d80eb2c5ec3b0c6f83fdfd7ba3513726b9a6c46b30\n",
            "Successfully built refextract PyPDF2 autosemver\n",
            "Installing collected packages: PyPDF2, dulwich, autosemver, python-magic, unidecode, refextract\n",
            "Successfully installed PyPDF2-1.26.0 autosemver-0.5.3 dulwich-0.19.15 python-magic-0.4.15 refextract-1.0.1 unidecode-1.1.1\n",
            "Collecting tika\n",
            "  Downloading https://files.pythonhosted.org/packages/9a/c3/088827903bc1862f67b185e1df428071b8da6118155c1b46bcb0c61992ea/tika-1.23.1.tar.gz\n",
            "Requirement already satisfied: setuptools in /usr/local/lib/python3.6/dist-packages (from tika) (45.1.0)\n",
            "Requirement already satisfied: requests in /usr/local/lib/python3.6/dist-packages (from tika) (2.21.0)\n",
            "Requirement already satisfied: idna<2.9,>=2.5 in /usr/local/lib/python3.6/dist-packages (from requests->tika) (2.8)\n",
            "Requirement already satisfied: certifi>=2017.4.17 in /usr/local/lib/python3.6/dist-packages (from requests->tika) (2019.11.28)\n",
            "Requirement already satisfied: urllib3<1.25,>=1.21.1 in /usr/local/lib/python3.6/dist-packages (from requests->tika) (1.24.3)\n",
            "Requirement already satisfied: chardet<3.1.0,>=3.0.2 in /usr/local/lib/python3.6/dist-packages (from requests->tika) (3.0.4)\n",
            "Building wheels for collected packages: tika\n",
            "  Building wheel for tika (setup.py) ... \u001b[?25l\u001b[?25hdone\n",
            "  Created wheel for tika: filename=tika-1.23.1-cp36-none-any.whl size=32561 sha256=7b77893fb72f17abb5ab8b6865e286a14b4ab7b48808a345da4a3fb7c8fab9f2\n",
            "  Stored in directory: /root/.cache/pip/wheels/fd/6b/6d/c850c2a934057edce9779d41400d910c6a9b1f22027566b10f\n",
            "Successfully built tika\n",
            "Installing collected packages: tika\n",
            "Successfully installed tika-1.23.1\n"
          ],
          "name": "stdout"
        }
      ]
    },
    {
      "cell_type": "code",
      "metadata": {
        "id": "c7ZytFoPfZGe",
        "colab_type": "code",
        "colab": {}
      },
      "source": [
        "#import refextract\n",
        "#from tika import parser\n",
        "from glob import glob\n",
        "import numpy as np\n",
        "from subprocess import Popen, PIPE\n",
        "import pandas as pd\n",
        "import sys\n",
        "import os"
      ],
      "execution_count": 0,
      "outputs": []
    },
    {
      "cell_type": "code",
      "metadata": {
        "id": "IRvtIiDPgmuX",
        "colab_type": "code",
        "colab": {}
      },
      "source": [
        "year = '2020'"
      ],
      "execution_count": 0,
      "outputs": []
    },
    {
      "cell_type": "code",
      "metadata": {
        "id": "tRlMKEvWf684",
        "colab_type": "code",
        "outputId": "c62bf63c-cbd8-49c3-e327-52d4bf4a94a5",
        "colab": {
          "base_uri": "https://localhost:8080/",
          "height": 34
        }
      },
      "source": [
        "fnames = glob('/content/drive/My Drive/Colab Notebooks/ML Project/data/papers/'+year+'/*.pdf')\n",
        "length = len(fnames)\n",
        "print(length)"
      ],
      "execution_count": 0,
      "outputs": [
        {
          "output_type": "stream",
          "text": [
            "1374\n"
          ],
          "name": "stdout"
        }
      ]
    },
    {
      "cell_type": "code",
      "metadata": {
        "id": "mrzGBWlEgbe6",
        "colab_type": "code",
        "colab": {}
      },
      "source": [
        "N = 50 # Number of workers to run parallelly\n",
        "chunks = np.linspace(0, length, N).astype(int)"
      ],
      "execution_count": 0,
      "outputs": []
    },
    {
      "cell_type": "code",
      "metadata": {
        "id": "bnchqeXRh0v0",
        "colab_type": "code",
        "outputId": "73a1b236-58d4-41d3-8663-08d1b6a6981c",
        "colab": {
          "base_uri": "https://localhost:8080/",
          "height": 34
        }
      },
      "source": [
        "chunks[:10]"
      ],
      "execution_count": 0,
      "outputs": [
        {
          "output_type": "execute_result",
          "data": {
            "text/plain": [
              "array([  0,  28,  56,  84, 112, 140, 168, 196, 224, 252])"
            ]
          },
          "metadata": {
            "tags": []
          },
          "execution_count": 6
        }
      ]
    },
    {
      "cell_type": "code",
      "metadata": {
        "id": "NqXR3HM1eYhD",
        "colab_type": "code",
        "colab": {}
      },
      "source": [
        "path = '/content/drive/My Drive/Colab Notebooks/ML Project/'"
      ],
      "execution_count": 0,
      "outputs": []
    },
    {
      "cell_type": "code",
      "metadata": {
        "id": "KsRNmIxCaU0v",
        "colab_type": "code",
        "outputId": "a1abf088-e345-4e78-bea5-4a33373962f0",
        "colab": {
          "base_uri": "https://localhost:8080/",
          "height": 340
        }
      },
      "source": [
        "# to start all workers\n",
        "procs = []\n",
        "p_file = path+'tmp/runner.py'\n",
        "for i,j in zip(chunks,chunks[1:]):\n",
        "  if os.path.exists(path+'tmp/'+str(i)+'-'+str(j)+'.pickle'):\n",
        "    continue\n",
        "  procs.append(Popen(['python3',p_file,str(i),str(j),year], stdout=PIPE, stderr=PIPE))\n",
        "  sys.stdout.write('\\r'+str(i)+'_'+str(j)+' started\\n')\n",
        "  sys.stdout.flush()"
      ],
      "execution_count": 0,
      "outputs": [
        {
          "output_type": "stream",
          "text": [
            "28_56 started\n",
            "140_168 started\n",
            "252_280 started\n",
            "280_308 started\n",
            "308_336 started\n",
            "336_364 started\n",
            "392_420 started\n",
            "448_476 started\n",
            "504_532 started\n",
            "560_588 started\n",
            "616_644 started\n",
            "672_701 started\n",
            "701_729 started\n",
            "925_953 started\n",
            "1037_1065 started\n",
            "1093_1121 started\n",
            "1177_1205 started\n",
            "1261_1289 started\n",
            "1289_1317 started\n"
          ],
          "name": "stdout"
        }
      ]
    },
    {
      "cell_type": "code",
      "metadata": {
        "id": "YS42UQL-mGY6",
        "colab_type": "code",
        "outputId": "63ebd33a-b00e-448a-c3b3-deeb020e51d0",
        "colab": {
          "base_uri": "https://localhost:8080/",
          "height": 68
        }
      },
      "source": [
        "# Mass status Check of workers\n",
        "# Run this multiple times to check the status of workers\n",
        "status = []\n",
        "c = 0\n",
        "for proc in procs:\n",
        "  try:\n",
        "    state = proc.poll()\n",
        "    if state == 1:\n",
        "      print(proc.communicate()[1])\n",
        "    status.append(state)\n",
        "  except:\n",
        "    c += 1\n",
        "print(c)\n",
        "pd.Series(status).value_counts()"
      ],
      "execution_count": 0,
      "outputs": [
        {
          "output_type": "stream",
          "text": [
            "0\n"
          ],
          "name": "stdout"
        },
        {
          "output_type": "execute_result",
          "data": {
            "text/plain": [
              "-9    19\n",
              "dtype: int64"
            ]
          },
          "metadata": {
            "tags": []
          },
          "execution_count": 38
        }
      ]
    },
    {
      "cell_type": "code",
      "metadata": {
        "id": "SjV0fvwahl7o",
        "colab_type": "code",
        "colab": {}
      },
      "source": [
        "#################################################\n",
        "##                                             ##\n",
        "################### WARNING #####################\n",
        "##                                             ##\n",
        "#################################################\n",
        "# Killing all the workers in case of problems\n",
        "for proc in procs:\n",
        "  proc.kill()"
      ],
      "execution_count": 0,
      "outputs": []
    }
  ]
}