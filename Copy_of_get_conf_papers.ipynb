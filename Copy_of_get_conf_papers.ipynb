{
  "nbformat": 4,
  "nbformat_minor": 0,
  "metadata": {
    "colab": {
      "name": "Copy of get-conf-papers.ipynb",
      "provenance": [],
      "collapsed_sections": [],
      "include_colab_link": true
    },
    "kernelspec": {
      "name": "python3",
      "display_name": "Python 3"
    }
  },
  "cells": [
    {
      "cell_type": "markdown",
      "metadata": {
        "id": "view-in-github",
        "colab_type": "text"
      },
      "source": [
        "<a href=\"https://colab.research.google.com/github/shruti-singh/PaperAcceptancePrediction/blob/master/Copy_of_get_conf_papers.ipynb\" target=\"_parent\"><img src=\"https://colab.research.google.com/assets/colab-badge.svg\" alt=\"Open In Colab\"/></a>"
      ]
    },
    {
      "cell_type": "code",
      "metadata": {
        "id": "6NcHHguFrVpS",
        "colab_type": "code",
        "colab": {}
      },
      "source": [
        "!pip install openreview-py"
      ],
      "execution_count": 0,
      "outputs": []
    },
    {
      "cell_type": "markdown",
      "metadata": {
        "id": "btyJwsX_g6vj",
        "colab_type": "text"
      },
      "source": [
        ""
      ]
    },
    {
      "cell_type": "code",
      "metadata": {
        "id": "uTN8Gxtjr2SA",
        "colab_type": "code",
        "outputId": "daf7da74-6d83-445b-9bc9-08774a293b18",
        "colab": {
          "base_uri": "https://localhost:8080/",
          "height": 127
        }
      },
      "source": [
        "from google.colab import drive\n",
        "drive.mount('/content/drive')"
      ],
      "execution_count": 1,
      "outputs": [
        {
          "output_type": "stream",
          "text": [
            "Go to this URL in a browser: https://accounts.google.com/o/oauth2/auth?client_id=947318989803-6bn6qk8qdgf4n4g3pfee6491hc0brc4i.apps.googleusercontent.com&redirect_uri=urn%3aietf%3awg%3aoauth%3a2.0%3aoob&response_type=code&scope=email%20https%3a%2f%2fwww.googleapis.com%2fauth%2fdocs.test%20https%3a%2f%2fwww.googleapis.com%2fauth%2fdrive%20https%3a%2f%2fwww.googleapis.com%2fauth%2fdrive.photos.readonly%20https%3a%2f%2fwww.googleapis.com%2fauth%2fpeopleapi.readonly\n",
            "\n",
            "Enter your authorization code:\n",
            "··········\n",
            "Mounted at /content/drive\n"
          ],
          "name": "stdout"
        }
      ]
    },
    {
      "cell_type": "code",
      "metadata": {
        "id": "OxWjz-L4rI2l",
        "colab_type": "code",
        "outputId": "0527e141-ab32-40a7-d5f5-49ed1ea749ba",
        "colab": {
          "base_uri": "https://localhost:8080/",
          "height": 53
        }
      },
      "source": [
        "import openreview\n",
        "import pandas as pd\n",
        "import numpy as np\n",
        "import requests\n",
        "import shutil \n",
        "import pickle\n",
        "from pprint import pprint"
      ],
      "execution_count": 2,
      "outputs": [
        {
          "output_type": "stream",
          "text": [
            "/usr/local/lib/python3.6/dist-packages/fuzzywuzzy/fuzz.py:11: UserWarning: Using slow pure-python SequenceMatcher. Install python-Levenshtein to remove this warning\n",
            "  warnings.warn('Using slow pure-python SequenceMatcher. Install python-Levenshtein to remove this warning')\n"
          ],
          "name": "stderr"
        }
      ]
    },
    {
      "cell_type": "code",
      "metadata": {
        "id": "Qyc-iyl6mKZg",
        "colab_type": "code",
        "colab": {}
      },
      "source": [
        "#init openreview class\n",
        "client = openreview.Client(baseurl='https://openreview.net',username='rishiraj.riconnect@gmail.com',password='')"
      ],
      "execution_count": 0,
      "outputs": []
    },
    {
      "cell_type": "code",
      "metadata": {
        "id": "OT503ERvoKHn",
        "colab_type": "code",
        "outputId": "b3ab7718-b17c-4430-c449-19998c5d580c",
        "colab": {
          "base_uri": "https://localhost:8080/",
          "height": 35
        }
      },
      "source": [
        "#get all submissions\n",
        "all_submission = openreview.tools.iterget_notes(client, invitation='ICLR.cc/2017/conference/-/submission')\n",
        "\n",
        "#save all data in a list\n",
        "acceptAndreject = 0\n",
        "allSubmissionData = {}\n",
        "for item in all_submission:\n",
        "    # print(item.__dict__)\n",
        "    item = item.__dict__\n",
        "    forum_id = item[\"forum\"] # Also the id for this case\n",
        "    allSubmissionData[forum_id] = item\n",
        "    acceptAndreject+=1\n",
        "\n",
        "print(acceptAndreject)"
      ],
      "execution_count": 39,
      "outputs": [
        {
          "output_type": "stream",
          "text": [
            "490\n"
          ],
          "name": "stdout"
        }
      ]
    },
    {
      "cell_type": "code",
      "metadata": {
        "id": "Vmjf8WKknzYM",
        "colab_type": "code",
        "colab": {}
      },
      "source": [
        "data_dir = \"/content/drive/My Drive/Coursework/Sem2/ML/PaperAcceptanceMaster/PaperAcceptancePrediction/ICLR data/\"\n",
        "\n",
        "with open(data_dir + \"papers_2017.pkl\", \"wb\") as f:\n",
        "    pickle.dump(allSubmissionData, f)"
      ],
      "execution_count": 0,
      "outputs": []
    },
    {
      "cell_type": "markdown",
      "metadata": {
        "id": "ObOM_PlRJon6",
        "colab_type": "text"
      },
      "source": [
        ""
      ]
    },
    {
      "cell_type": "markdown",
      "metadata": {
        "id": "9hj2MsMPG9eq",
        "colab_type": "text"
      },
      "source": [
        "### **Get all Accepted and Rejected Paper Decisions From ICLR 2017**"
      ]
    },
    {
      "cell_type": "code",
      "metadata": {
        "id": "DO2hsF9bHm-4",
        "colab_type": "code",
        "colab": {
          "base_uri": "https://localhost:8080/",
          "height": 53
        },
        "outputId": "3646ca4e-e8f5-4201-e194-b98f789882a6"
      },
      "source": [
        "#now get all the accepted papres\n",
        "all_accepted = openreview.tools.iterget_notes(client, invitation='ICLR.cc/2017/conference/-/paper.*/acceptance')\n",
        "#save all data in a list\n",
        "acceptanceDecision = {}\n",
        "Ids = []\n",
        "\n",
        "decisions = {}\n",
        "for item in all_accepted:\n",
        "    itemdict = item.__dict__\n",
        "    forumid = itemdict[\"forum\"]\n",
        "    acceptanceDecision[forumid] = itemdict\n",
        "    if itemdict[\"content\"][\"decision\"] in decisions:\n",
        "        decisions[itemdict[\"content\"][\"decision\"]] += 1\n",
        "    else:\n",
        "        decisions[itemdict[\"content\"][\"decision\"]] = 1\n",
        "\n",
        "print(decisions)\n",
        "print(len(acceptanceDecision))"
      ],
      "execution_count": 41,
      "outputs": [
        {
          "output_type": "stream",
          "text": [
            "{'Accept (Poster)': 183, 'Invite to Workshop Track': 47, 'Reject': 245, 'Accept (Oral)': 15}\n",
            "490\n"
          ],
          "name": "stdout"
        }
      ]
    },
    {
      "cell_type": "code",
      "metadata": {
        "id": "ed3FtGdq1Xdk",
        "colab_type": "code",
        "colab": {}
      },
      "source": [
        "with open(data_dir + \"paper_decision_dict_2017.pkl\", \"wb\") as f:\n",
        "    pickle.dump(acceptanceDecision, f)"
      ],
      "execution_count": 0,
      "outputs": []
    },
    {
      "cell_type": "markdown",
      "metadata": {
        "id": "ZErfbS6yJ1BW",
        "colab_type": "text"
      },
      "source": [
        "# Get All Official Reviews"
      ]
    },
    {
      "cell_type": "code",
      "metadata": {
        "id": "rVUW8rq61x3Y",
        "colab_type": "code",
        "colab": {
          "base_uri": "https://localhost:8080/",
          "height": 53
        },
        "outputId": "3816b227-b6db-4fce-8be1-7bb48569a15f"
      },
      "source": [
        "#get all reviews\n",
        "reviews = openreview.tools.iterget_notes(client, invitation='ICLR.cc/2017/conference/-/paper.*/official/review')\n",
        "\n",
        "#store the data in a list\n",
        "review_dict = {}\n",
        "\n",
        "for i in reviews:\n",
        "    item_dict = i.__dict__\n",
        "    forumid = item_dict[\"forum\"]\n",
        "    if forumid in review_dict:\n",
        "        review_dict[forumid].append(item_dict)\n",
        "    else:\n",
        "        review_dict[forumid] = [item_dict]\n",
        "\n",
        "print(len(review_dict))\n",
        "running_sum = 0\n",
        "for v in review_dict.values():\n",
        "    running_sum += len(v)\n",
        "print(\"On an average, number of reviews present per submission: \", running_sum/len(review_dict))"
      ],
      "execution_count": 43,
      "outputs": [
        {
          "output_type": "stream",
          "text": [
            "501\n",
            "On an average, number of reviews present per submission:  3.0379241516966067\n"
          ],
          "name": "stdout"
        }
      ]
    },
    {
      "cell_type": "code",
      "metadata": {
        "id": "ux6aBWIm47if",
        "colab_type": "code",
        "colab": {}
      },
      "source": [
        "with open(data_dir + \"off_review_dict_2017.pkl\", \"wb\") as f:\n",
        "    pickle.dump(review_dict, f)"
      ],
      "execution_count": 0,
      "outputs": []
    },
    {
      "cell_type": "code",
      "metadata": {
        "id": "EVf1-YQ1DEBg",
        "colab_type": "code",
        "colab": {}
      },
      "source": [
        ""
      ],
      "execution_count": 0,
      "outputs": []
    },
    {
      "cell_type": "markdown",
      "metadata": {
        "id": "O2B1S-t5hGno",
        "colab_type": "text"
      },
      "source": [
        "# **Data For 2018**"
      ]
    },
    {
      "cell_type": "code",
      "metadata": {
        "id": "bFBlfBekhmRP",
        "colab_type": "code",
        "colab": {
          "base_uri": "https://localhost:8080/",
          "height": 53
        },
        "outputId": "a453c941-0a88-4322-f41d-959df81d2e8b"
      },
      "source": [
        "#get all submissions\n",
        "all_submission = openreview.tools.iterget_notes(client, invitation='ICLR.cc/2018/Conference/-/Acceptance_Decision')\n",
        "\n",
        "count_dec = {}\n",
        "acceptanceDecision = {}\n",
        "\n",
        "count = 0\n",
        "\n",
        "for sub in all_submission:\n",
        "    count += 1\n",
        "    sub_dict = sub.__dict__\n",
        "    forum_id = sub_dict[\"forum\"]\n",
        "    acceptanceDecision[forum_id] = sub_dict\n",
        "\n",
        "    # if count < 10:\n",
        "    #     print(count_dec)\n",
        "    #     pprint(sub_dict[\"content\"][\"decision\"])\n",
        "\n",
        "    if sub_dict[\"content\"][\"decision\"] in count_dec.keys():\n",
        "        count_dec[sub_dict[\"content\"][\"decision\"]] += 1\n",
        "    else:\n",
        "        count_dec[sub_dict[\"content\"][\"decision\"]] = 1\n",
        "\n",
        "print(count_dec)\n",
        "print(len(acceptanceDecision))"
      ],
      "execution_count": 45,
      "outputs": [
        {
          "output_type": "stream",
          "text": [
            "{'Invite to Workshop Track': 90, 'Reject': 508, 'Accept (Oral)': 23, 'Accept (Poster)': 314}\n",
            "935\n"
          ],
          "name": "stdout"
        }
      ]
    },
    {
      "cell_type": "code",
      "metadata": {
        "id": "wCB6DMIiAXs5",
        "colab_type": "code",
        "colab": {}
      },
      "source": [
        "with open(data_dir + \"paper_decision_dict_2018.pkl\", \"wb\") as f:\n",
        "    pickle.dump(acceptanceDecision, f)"
      ],
      "execution_count": 0,
      "outputs": []
    },
    {
      "cell_type": "code",
      "metadata": {
        "id": "qRQS5nK5x_qg",
        "colab_type": "code",
        "colab": {}
      },
      "source": [
        ""
      ],
      "execution_count": 0,
      "outputs": []
    },
    {
      "cell_type": "markdown",
      "metadata": {
        "id": "iOzrcN4Mk4bq",
        "colab_type": "text"
      },
      "source": [
        "### **Get Submission For 2018**"
      ]
    },
    {
      "cell_type": "code",
      "metadata": {
        "id": "XK2BNn5UYc02",
        "colab_type": "code",
        "colab": {}
      },
      "source": [
        "#get all submissions\n",
        "all_submission = openreview.tools.iterget_notes(client, invitation='ICLR.cc/2018/Conference/-/Blind_Submission')"
      ],
      "execution_count": 0,
      "outputs": []
    },
    {
      "cell_type": "code",
      "metadata": {
        "id": "jBee_3JqlL6F",
        "colab_type": "code",
        "colab": {
          "base_uri": "https://localhost:8080/",
          "height": 35
        },
        "outputId": "8d8c938f-0ac3-4345-930e-23829264c2ac"
      },
      "source": [
        "allSubmissionData2018 = {}\n",
        "\n",
        "for item in all_submission:\n",
        "    item_dict = item.__dict__\n",
        "    forum_id = item_dict[\"forum\"]\n",
        "    allSubmissionData2018[forum_id] = item_dict\n",
        "\n",
        "\n",
        "print(len(allSubmissionData2018))"
      ],
      "execution_count": 48,
      "outputs": [
        {
          "output_type": "stream",
          "text": [
            "911\n"
          ],
          "name": "stdout"
        }
      ]
    },
    {
      "cell_type": "code",
      "metadata": {
        "id": "Jns68Sgf8dex",
        "colab_type": "code",
        "colab": {}
      },
      "source": [
        "with open(data_dir + \"papers_2018.pkl\", \"wb\") as f:\n",
        "    pickle.dump(allSubmissionData2018, f)"
      ],
      "execution_count": 0,
      "outputs": []
    },
    {
      "cell_type": "code",
      "metadata": {
        "id": "-2m8PfdB9oGH",
        "colab_type": "code",
        "colab": {}
      },
      "source": [
        ""
      ],
      "execution_count": 0,
      "outputs": []
    },
    {
      "cell_type": "markdown",
      "metadata": {
        "id": "iCWZj0wx0Pfx",
        "colab_type": "text"
      },
      "source": [
        "# **Official Reviews 2018**"
      ]
    },
    {
      "cell_type": "code",
      "metadata": {
        "id": "_qe56t2g0Y8z",
        "colab_type": "code",
        "colab": {
          "base_uri": "https://localhost:8080/",
          "height": 53
        },
        "outputId": "520e79e2-6a51-41b2-da4a-8247f8a3ec3a"
      },
      "source": [
        "reviews = openreview.tools.iterget_notes(client, invitation='ICLR.cc/2018/Conference/-/Paper.*/Official_Review')\n",
        "\n",
        "#store the data in a list\n",
        "review_dict = {}\n",
        "\n",
        "for i in reviews:\n",
        "    item_dict = i.__dict__\n",
        "    forumid = item_dict[\"forum\"]\n",
        "    if forumid in review_dict:\n",
        "        review_dict[forumid].append(item_dict)\n",
        "    else:\n",
        "        review_dict[forumid] = [item_dict]\n",
        "\n",
        "print(len(review_dict))\n",
        "running_sum = 0\n",
        "for v in review_dict.values():\n",
        "    running_sum += len(v)\n",
        "print(\"On an average, number of reviews present per submission: \", running_sum/len(review_dict))"
      ],
      "execution_count": 50,
      "outputs": [
        {
          "output_type": "stream",
          "text": [
            "984\n",
            "On an average, number of reviews present per submission:  3.0152439024390243\n"
          ],
          "name": "stdout"
        }
      ]
    },
    {
      "cell_type": "code",
      "metadata": {
        "id": "F7zvJymQ0bF2",
        "colab_type": "code",
        "colab": {}
      },
      "source": [
        "with open(data_dir + \"off_review_dict_2018.pkl\", \"wb\") as f:\n",
        "    pickle.dump(review_dict, f)"
      ],
      "execution_count": 0,
      "outputs": []
    },
    {
      "cell_type": "code",
      "metadata": {
        "id": "3pPeTN6N0cxU",
        "colab_type": "code",
        "colab": {}
      },
      "source": [
        ""
      ],
      "execution_count": 0,
      "outputs": []
    },
    {
      "cell_type": "code",
      "metadata": {
        "id": "JqyrDCPW1bIU",
        "colab_type": "code",
        "colab": {}
      },
      "source": [
        ""
      ],
      "execution_count": 0,
      "outputs": []
    }
  ]
}